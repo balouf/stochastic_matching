{
 "cells": [
  {
   "cell_type": "markdown",
   "id": "d0c9c1d0-ee11-48e5-9415-90d10b24d1fb",
   "metadata": {},
   "source": [
    "# Simulations"
   ]
  },
  {
   "cell_type": "markdown",
   "id": "92423af7-7d23-47e7-96d0-abb6909fed85",
   "metadata": {},
   "source": [
    "A significant part of the [Stochastic Matching package](https://balouf.github.io/stochastic_matching/index.html) is devoted to simulations, allowing to check the practical value of theoretical results and to explore new conjectures."
   ]
  },
  {
   "cell_type": "markdown",
   "id": "1674e3bd-6197-4fd9-b2fa-94760b617c55",
   "metadata": {},
   "source": [
    "First, some settings that should apply to all our simulations.\n",
    "\n",
    ":::note\n",
    "The *refresh* parameter below tells if the simulation should run if a simulation file already exists.\n",
    ":::"
   ]
  },
  {
   "cell_type": "code",
   "execution_count": 1,
   "id": "386c92be-468f-45c8-aa13-d5208c237ae1",
   "metadata": {
    "execution": {
     "iopub.execute_input": "2025-09-24T09:26:00.021458Z",
     "iopub.status.busy": "2025-09-24T09:26:00.021458Z",
     "iopub.status.idle": "2025-09-24T09:26:00.024440Z",
     "shell.execute_reply": "2025-09-24T09:26:00.024440Z",
     "shell.execute_reply.started": "2025-09-24T09:26:00.021458Z"
    }
   },
   "outputs": [],
   "source": [
    "refresh = True\n",
    "n_steps = 10**9\n",
    "common = {\n",
    "        \"n_steps\": n_steps,\n",
    "        \"max_queue\": 50000,\n",
    "        \"seed\": 42,\n",
    "}"
   ]
  },
  {
   "cell_type": "markdown",
   "id": "97a7eb06-c8f9-4204-80bb-3acde7ca1400",
   "metadata": {},
   "source": [
    "## Approaching vertices"
   ]
  },
  {
   "cell_type": "markdown",
   "id": "dd1f04b2-5f54-4348-9a14-a9adadde4b01",
   "metadata": {},
   "source": [
    "### Preparation"
   ]
  },
  {
   "cell_type": "markdown",
   "id": "22c414d8-68b1-4f05-9120-57f00bb98b01",
   "metadata": {},
   "source": [
    "First, we define the set of simulations we want to run. Let's make a small mixer of common and specific parameters."
   ]
  },
  {
   "cell_type": "code",
   "execution_count": 2,
   "id": "9679b7e7-c4d6-4819-8c58-5760df7567bc",
   "metadata": {
    "execution": {
     "iopub.execute_input": "2025-09-24T09:26:00.024440Z",
     "iopub.status.busy": "2025-09-24T09:26:00.024440Z",
     "iopub.status.idle": "2025-09-24T09:26:01.340596Z",
     "shell.execute_reply": "2025-09-24T09:26:01.340596Z",
     "shell.execute_reply.started": "2025-09-24T09:26:00.024440Z"
    }
   },
   "outputs": [],
   "source": [
    "import numpy as np\n",
    "from stochastic_matching import XP, Iterator, evaluate\n",
    "from multiprocess import Pool\n",
    "from numba import njit\n",
    "\n",
    "def xp_builder(common, specific):\n",
    "    return sum([XP(name=k, **common, **v) for k, v in specific.items()])"
   ]
  },
  {
   "cell_type": "markdown",
   "id": "6581d4b3-e688-41b4-bf17-bea7395ee12e",
   "metadata": {},
   "source": [
    "Prepare specific parameters for each policy. For now, *taboo* (a.k.a. forbidden edges), which is adapted to bijective vertices, is left alone."
   ]
  },
  {
   "cell_type": "code",
   "execution_count": 3,
   "id": "8291582f-7714-43a4-9c84-2bead720a31d",
   "metadata": {
    "execution": {
     "iopub.execute_input": "2025-09-24T09:26:01.341601Z",
     "iopub.status.busy": "2025-09-24T09:26:01.340596Z",
     "iopub.status.idle": "2025-09-24T09:26:01.346530Z",
     "shell.execute_reply": "2025-09-24T09:26:01.346530Z",
     "shell.execute_reply.started": "2025-09-24T09:26:01.341601Z"
    }
   },
   "outputs": [],
   "source": [
    "k_range = Iterator(\"k\", [2**i for i in range(12)])\n",
    "e_range = Iterator(\"epsilon\", np.logspace(-3, 0, 10), name=\"ϵ\")\n",
    "b_range = Iterator(\"beta\", np.logspace(-3, 1, 10), name=\"β\")\n",
    "def exp_fad(x):\n",
    "    return njit(lambda t: (t+1)**x)\n",
    "v_range = Iterator(\"fading\", [exp_fad(x) for x in np.linspace(0., 1., 10)], name=\"V\")\n",
    "\n",
    "specific = {\n",
    "    'k-filtering': {'simulator': \"longest\", 'forbidden_edges': True, \n",
    "                    'iterator': k_range},\n",
    "    'EGPD': {'simulator': \"virtual_queue\", \n",
    "             'iterator': b_range},\n",
    "    \"ϵ-filtering\": {'simulator': \"e_filtering\", \n",
    "                    'iterator': e_range},\n",
    "    \"EGPD+\": {'simulator': \"virtual_queue\", 'alt_rewards': 'gentle', \n",
    "              'iterator':  b_range},\n",
    "    \"CRPD\": {'simulator': 'constant_regret', \n",
    "             'iterator': v_range}\n",
    "           }\n",
    "taboo = {'simulator': 'longest', 'forbidden_edges': True}"
   ]
  },
  {
   "cell_type": "markdown",
   "id": "ebe7917e-4310-46e7-83a1-f85671ff9d50",
   "metadata": {},
   "source": [
    "Finally, a display function with a few options."
   ]
  },
  {
   "cell_type": "code",
   "execution_count": 4,
   "id": "701aad9d-48a4-48c8-8e60-07ae125e7218",
   "metadata": {
    "execution": {
     "iopub.execute_input": "2025-09-24T09:26:01.346530Z",
     "iopub.status.busy": "2025-09-24T09:26:01.346530Z",
     "iopub.status.idle": "2025-09-24T09:26:01.355850Z",
     "shell.execute_reply": "2025-09-24T09:26:01.355850Z",
     "shell.execute_reply.started": "2025-09-24T09:26:01.346530Z"
    }
   },
   "outputs": [],
   "source": [
    "import matplotlib.pyplot as plt\n",
    "def display_res(res, view=\"loglog\", x_max=None, y_min=10**-8, y_max=None):\n",
    "    if view == \"loglog\":\n",
    "        plot = plt.loglog\n",
    "    elif view == \"logx\":\n",
    "        plot = plt.semilogx\n",
    "    else:\n",
    "        raise ValueError(f\"{view} is not a recognized display view.\")\n",
    "    names = [k for k in res] \n",
    "    colors = {k: v for k, v in zip(names, \n",
    "                                   plt.rcParams['axes.prop_cycle'].by_key()['color'])}\n",
    "    for k in sorted(names, key=lambda k: -np.average(res[k]['regret'])):\n",
    "        v = res[k]\n",
    "        delay, regret = np.array(v[\"delay\"]), np.array(v[\"regret\"])\n",
    "        if isinstance(v[\"delay\"], list):\n",
    "            mask = delay > 0\n",
    "            plot(np.abs(delay[mask]), np.abs(regret[mask]), marker=\"o\", \n",
    "                 label=k, color=colors[k])\n",
    "        else:\n",
    "            if y_max is None:\n",
    "                plot([delay], [regret], marker=\"o\", label=k, color=colors[k])\n",
    "            else:\n",
    "                plot([delay, delay], [y_min, y_max], '--', label=k, color=colors[k])\n",
    "                \n",
    "    plt.ylabel(\"Regret\")\n",
    "    plt.xlabel(\"Delay\")\n",
    "    if view == \"logx\":\n",
    "        plt.ylim([0, None])\n",
    "    plt.xlim([None, x_max])\n",
    "    if y_max:\n",
    "        plt.ylim([y_min, y_max])\n",
    "    plt.legend()\n",
    "    plt.show()"
   ]
  },
  {
   "cell_type": "markdown",
   "id": "70b21ad4-ae75-4687-ab0f-791f7b362340",
   "metadata": {},
   "source": [
    "### Diamond"
   ]
  },
  {
   "cell_type": "markdown",
   "id": "0f2a948e-8636-4130-9e8d-00aec9b0af8f",
   "metadata": {},
   "source": [
    "#### Injective-only vertex"
   ]
  },
  {
   "cell_type": "markdown",
   "id": "d9042c3e-6552-4a7c-9681-fca6a6db3523",
   "metadata": {},
   "source": [
    "Let's reach an injective-only vertex."
   ]
  },
  {
   "cell_type": "code",
   "execution_count": 5,
   "id": "3b8e3bc0-2960-4945-8a72-3a59976d35b0",
   "metadata": {
    "execution": {
     "iopub.execute_input": "2025-09-24T09:26:01.356855Z",
     "iopub.status.busy": "2025-09-24T09:26:01.356855Z",
     "iopub.status.idle": "2025-09-24T09:26:01.369362Z",
     "shell.execute_reply": "2025-09-24T09:26:01.368858Z",
     "shell.execute_reply.started": "2025-09-24T09:26:01.356855Z"
    }
   },
   "outputs": [
    {
     "data": {
      "text/html": [
       "\n",
       "<div class=\"sm-graph\">\n",
       "<div id=\"a4686ccd-94a5-4d53-853c-031da03f4db0\"></div>\n",
       "<a href=\"#\" id=\"fit-a4686ccd-94a5-4d53-853c-031da03f4db0\"\n",
       "  style=\"position: absolute; left: 10px; bottom: 10px; text-decoration: none; color: #888; font-size: min(2vw, 10px);\n",
       "  z-index: 10; pointer-events: auto;\"\n",
       "> Refresh\n",
       "</a>\n",
       "<style>\n",
       ".sm-graph {\n",
       "position: relative;\n",
       "width: 100%;\n",
       "height: 50vh !important;\n",
       "max-width: 100vw;\n",
       "max-height: 100vh !important;\n",
       "}\n",
       ".sm-graph > div {\n",
       "  height: 100%;   /* Make the inner div fill the parent */\n",
       "}\n",
       "</style>\n",
       "</div>\n",
       "<script type=\"module\">\n",
       "import { DataSet, Network } from \"https://unpkg.com/vis-network/standalone/esm/vis-network.min.js\";\n",
       "// CSS will be automatically injected into the page.\n",
       "function render () {\n",
       "    const nodes = new DataSet([{\"id\": 0, \"label\": \"2\", \"title\": \"0\"}, {\"id\": 1, \"label\": \"3\", \"title\": \"1\"}, {\"id\": 2, \"label\": \"3\", \"title\": \"2\"}, {\"id\": 3, \"label\": \"2\", \"title\": \"3\"}]);\n",
       "    const edges = new DataSet([{\"title\": \"0: (0, 1)\", \"label\": \"2\", \"color\": \"blue\", \"from\": 0, \"to\": 1}, {\"title\": \"1: (0, 2)\", \"label\": \"0\", \"color\": \"orange\", \"from\": 0, \"to\": 2}, {\"title\": \"2: (1, 2)\", \"label\": \"1\", \"color\": \"blue\", \"from\": 1, \"to\": 2}, {\"title\": \"3: (1, 3)\", \"label\": \"0\", \"color\": \"orange\", \"from\": 1, \"to\": 3}, {\"title\": \"4: (2, 3)\", \"label\": \"2\", \"color\": \"blue\", \"from\": 2, \"to\": 3}]);\n",
       "    const data = {\n",
       "            nodes: nodes,\n",
       "            edges: edges,\n",
       "    };\n",
       "    const options = {\"interaction\": {\"navigationButtons\": false}, \"width\": \"100%\", \"height\": \"100%\"};\n",
       "    const container = document.getElementById('a4686ccd-94a5-4d53-853c-031da03f4db0');\n",
       "    const network = new Network(container, data, options);\n",
       "    network.fit({maxZoomLevel: 10});\n",
       "    network.redraw();\n",
       "}\n",
       "\n",
       "render();\n",
       "document.getElementById('fit-a4686ccd-94a5-4d53-853c-031da03f4db0').addEventListener('click', function(event) {\n",
       "    event.preventDefault();  // Prevent page jump\n",
       "    render(); // Adjust zoom limit as needed\n",
       "});\n",
       "</script>\n"
      ],
      "text/plain": [
       "<IPython.core.display.HTML object>"
      ]
     },
     "metadata": {},
     "output_type": "display_data"
    }
   ],
   "source": [
    "import stochastic_matching as sm\n",
    "diamond = sm.CycleChain()\n",
    "rewards = [1, 2.9, 1, -1, 1]\n",
    "diamond.show_flow(flow=diamond.optimize_rates(rewards))"
   ]
  },
  {
   "cell_type": "markdown",
   "id": "90f43a35-6609-4725-b407-4dc3c6d4b00c",
   "metadata": {},
   "source": [
    ":::note\n",
    "The rewards are adversarial here: the largest reward corresponds to a taboo edge.\n",
    ":::"
   ]
  },
  {
   "cell_type": "markdown",
   "id": "0b6ebb77-95bd-4afc-bac2-319e76372ac3",
   "metadata": {},
   "source": [
    "Let us compute the delay/regret trade-offs and display the results."
   ]
  },
  {
   "cell_type": "code",
   "execution_count": 6,
   "id": "586f533f-4649-46d6-8b11-468687834587",
   "metadata": {
    "execution": {
     "iopub.execute_input": "2025-09-24T09:26:01.370367Z",
     "iopub.status.busy": "2025-09-24T09:26:01.369362Z",
     "iopub.status.idle": "2025-09-24T09:39:52.758631Z",
     "shell.execute_reply": "2025-09-24T09:39:52.758631Z",
     "shell.execute_reply.started": "2025-09-24T09:26:01.370367Z"
    }
   },
   "outputs": [
    {
     "data": {
      "application/vnd.jupyter.widget-view+json": {
       "model_id": "68fd47d5f25943d1bff0d35ba5a62301",
       "version_major": 2,
       "version_minor": 0
      },
      "text/plain": [
       "  0%|          | 0/52 [00:00<?, ?it/s]"
      ]
     },
     "metadata": {},
     "output_type": "display_data"
    },
    {
     "data": {
      "image/png": "[encoded data removed]",
      "text/plain": [
       "<Figure size 640x480 with 1 Axes>"
      ]
     },
     "metadata": {},
     "output_type": "display_data"
    }
   ],
   "source": [
    "xps = xp_builder({'model': diamond, 'rewards': rewards, **common}, specific)\n",
    "with Pool() as p:\n",
    "    res = evaluate(xps, pool=p, cache_name=\"diamond-injective\", \n",
    "                   cache_overwrite=refresh)\n",
    "display_res(res)"
   ]
  },
  {
   "cell_type": "markdown",
   "id": "98f7abc3-f178-4169-9434-e58ab9efb098",
   "metadata": {},
   "source": [
    "Take-away:\n",
    "\n",
    "- EGPD has not a good trade-off;\n",
    "- $\\epsilon$-filtering and CRPD have average performance;\n",
    "- $k$-filtering and EGPD+ are the best here."
   ]
  },
  {
   "cell_type": "markdown",
   "id": "79a0b72a-6c5a-4a7d-a75d-5697c98ea1e3",
   "metadata": {},
   "source": [
    "#### Bijective vertex"
   ]
  },
  {
   "cell_type": "markdown",
   "id": "68109a21-1a81-4ba1-9c5e-f4c79567c390",
   "metadata": {},
   "source": [
    "We now change the rates and rewards so that the target is a bijective vertex."
   ]
  },
  {
   "cell_type": "code",
   "execution_count": 7,
   "id": "69d17ab3-89f3-4e91-9b2d-b7f317568898",
   "metadata": {
    "execution": {
     "iopub.execute_input": "2025-09-24T09:39:52.758631Z",
     "iopub.status.busy": "2025-09-24T09:39:52.758631Z",
     "iopub.status.idle": "2025-09-24T09:39:52.764284Z",
     "shell.execute_reply": "2025-09-24T09:39:52.764284Z",
     "shell.execute_reply.started": "2025-09-24T09:39:52.758631Z"
    }
   },
   "outputs": [
    {
     "data": {
      "text/html": [
       "\n",
       "<div class=\"sm-graph\">\n",
       "<div id=\"ecdd3b64-59dc-4b8e-9654-b29a2ded605f\"></div>\n",
       "<a href=\"#\" id=\"fit-ecdd3b64-59dc-4b8e-9654-b29a2ded605f\"\n",
       "  style=\"position: absolute; left: 10px; bottom: 10px; text-decoration: none; color: #888; font-size: min(2vw, 10px);\n",
       "  z-index: 10; pointer-events: auto;\"\n",
       "> Refresh\n",
       "</a>\n",
       "<style>\n",
       ".sm-graph {\n",
       "position: relative;\n",
       "width: 100%;\n",
       "height: 50vh !important;\n",
       "max-width: 100vw;\n",
       "max-height: 100vh !important;\n",
       "}\n",
       ".sm-graph > div {\n",
       "  height: 100%;   /* Make the inner div fill the parent */\n",
       "}\n",
       "</style>\n",
       "</div>\n",
       "<script type=\"module\">\n",
       "import { DataSet, Network } from \"https://unpkg.com/vis-network/standalone/esm/vis-network.min.js\";\n",
       "// CSS will be automatically injected into the page.\n",
       "function render () {\n",
       "    const nodes = new DataSet([{\"id\": 0, \"label\": \"4\", \"title\": \"0\"}, {\"id\": 1, \"label\": \"4\", \"title\": \"1\"}, {\"id\": 2, \"label\": \"4\", \"title\": \"2\"}, {\"id\": 3, \"label\": \"2\", \"title\": \"3\"}]);\n",
       "    const edges = new DataSet([{\"title\": \"0: (0, 1)\", \"label\": \"1\", \"color\": \"blue\", \"from\": 0, \"to\": 1}, {\"title\": \"1: (0, 2)\", \"label\": \"3\", \"color\": \"blue\", \"from\": 0, \"to\": 2}, {\"title\": \"2: (1, 2)\", \"label\": \"1\", \"color\": \"blue\", \"from\": 1, \"to\": 2}, {\"title\": \"3: (1, 3)\", \"label\": \"2\", \"color\": \"blue\", \"from\": 1, \"to\": 3}, {\"title\": \"4: (2, 3)\", \"label\": \"0\", \"color\": \"orange\", \"from\": 2, \"to\": 3}]);\n",
       "    const data = {\n",
       "            nodes: nodes,\n",
       "            edges: edges,\n",
       "    };\n",
       "    const options = {\"interaction\": {\"navigationButtons\": false}, \"width\": \"100%\", \"height\": \"100%\"};\n",
       "    const container = document.getElementById('ecdd3b64-59dc-4b8e-9654-b29a2ded605f');\n",
       "    const network = new Network(container, data, options);\n",
       "    network.fit({maxZoomLevel: 10});\n",
       "    network.redraw();\n",
       "}\n",
       "\n",
       "render();\n",
       "document.getElementById('fit-ecdd3b64-59dc-4b8e-9654-b29a2ded605f').addEventListener('click', function(event) {\n",
       "    event.preventDefault();  // Prevent page jump\n",
       "    render(); // Adjust zoom limit as needed\n",
       "});\n",
       "</script>\n"
      ],
      "text/plain": [
       "<IPython.core.display.HTML object>"
      ]
     },
     "metadata": {},
     "output_type": "display_data"
    }
   ],
   "source": [
    "diamond.rates = [4, 4, 4, 2]\n",
    "rewards = [-1, 1, 1, 1, 2.9]\n",
    "diamond.show_flow(flow=diamond.optimize_rates(rewards))"
   ]
  },
  {
   "cell_type": "markdown",
   "id": "cf45af88-6474-41f0-9a5a-cf013ebc6487",
   "metadata": {},
   "source": [
    ":::note\n",
    "The rewards are even more adversarial here: the largest reward corresponds the unique taboo edge, while a live edge has a negative reward.\n",
    ":::"
   ]
  },
  {
   "cell_type": "markdown",
   "id": "eead15bd-56f9-4eaf-84fb-c5fec9350776",
   "metadata": {},
   "source": [
    "As before, let's see the trade-offs."
   ]
  },
  {
   "cell_type": "code",
   "execution_count": 8,
   "id": "1a7e53f8-98c0-411a-a0ad-b8f30755b8c4",
   "metadata": {
    "execution": {
     "iopub.execute_input": "2025-09-24T09:39:52.765843Z",
     "iopub.status.busy": "2025-09-24T09:39:52.764284Z",
     "iopub.status.idle": "2025-09-24T09:54:45.913251Z",
     "shell.execute_reply": "2025-09-24T09:54:45.913251Z",
     "shell.execute_reply.started": "2025-09-24T09:39:52.765843Z"
    }
   },
   "outputs": [
    {
     "data": {
      "application/vnd.jupyter.widget-view+json": {
       "model_id": "9ce1599507524d5683b63c5cefe018e5",
       "version_major": 2,
       "version_minor": 0
      },
      "text/plain": [
       "  0%|          | 0/53 [00:00<?, ?it/s]"
      ]
     },
     "metadata": {},
     "output_type": "display_data"
    },
    {
     "data": {
      "image/png": "[encoded data removed]",
      "text/plain": [
       "<Figure size 640x480 with 1 Axes>"
      ]
     },
     "metadata": {},
     "output_type": "display_data"
    }
   ],
   "source": [
    "specific['Taboo'] = taboo\n",
    "xps = xp_builder({'model': diamond, 'rewards': rewards, **common}, specific)\n",
    "with Pool() as p:\n",
    "    res = evaluate(xps, pool=p, cache_name=\"diamond-bijective\", \n",
    "                   cache_overwrite=refresh)\n",
    "display_res(res, view=\"logx\", x_max=1, y_max=.15)"
   ]
  },
  {
   "cell_type": "markdown",
   "id": "f404f5d7-0325-4afa-8d3a-95490c73c4ab",
   "metadata": {},
   "source": [
    "### Other small examples"
   ]
  },
  {
   "cell_type": "markdown",
   "id": "0fa295b0-0f42-4e53-a1c4-f9cd53453973",
   "metadata": {},
   "source": [
    "#### Codomino, injective-only"
   ]
  },
  {
   "cell_type": "code",
   "execution_count": 9,
   "id": "e46d6039-d12a-4172-b3ac-94e991f8d405",
   "metadata": {
    "execution": {
     "iopub.execute_input": "2025-09-24T09:54:45.913251Z",
     "iopub.status.busy": "2025-09-24T09:54:45.913251Z",
     "iopub.status.idle": "2025-09-24T09:54:45.919781Z",
     "shell.execute_reply": "2025-09-24T09:54:45.919781Z",
     "shell.execute_reply.started": "2025-09-24T09:54:45.913251Z"
    }
   },
   "outputs": [
    {
     "data": {
      "text/html": [
       "\n",
       "<div class=\"sm-graph\">\n",
       "<div id=\"005f98c0-712e-4128-a8d5-5f0bbc97e890\"></div>\n",
       "<a href=\"#\" id=\"fit-005f98c0-712e-4128-a8d5-5f0bbc97e890\"\n",
       "  style=\"position: absolute; left: 10px; bottom: 10px; text-decoration: none; color: #888; font-size: min(2vw, 10px);\n",
       "  z-index: 10; pointer-events: auto;\"\n",
       "> Refresh\n",
       "</a>\n",
       "<style>\n",
       ".sm-graph {\n",
       "position: relative;\n",
       "width: 100%;\n",
       "height: 50vh !important;\n",
       "max-width: 100vw;\n",
       "max-height: 100vh !important;\n",
       "}\n",
       ".sm-graph > div {\n",
       "  height: 100%;   /* Make the inner div fill the parent */\n",
       "}\n",
       "</style>\n",
       "</div>\n",
       "<script type=\"module\">\n",
       "import { DataSet, Network } from \"https://unpkg.com/vis-network/standalone/esm/vis-network.min.js\";\n",
       "// CSS will be automatically injected into the page.\n",
       "function render () {\n",
       "    const nodes = new DataSet([{\"id\": 0, \"label\": \"2\", \"title\": \"0\"}, {\"id\": 1, \"label\": \"4\", \"title\": \"1\"}, {\"id\": 2, \"label\": \"2\", \"title\": \"2\"}, {\"id\": 3, \"label\": \"2\", \"title\": \"3\"}, {\"id\": 4, \"label\": \"4\", \"title\": \"4\"}, {\"id\": 5, \"label\": \"2\", \"title\": \"5\"}]);\n",
       "    const edges = new DataSet([{\"title\": \"0: (0, 1)\", \"label\": \"0\", \"color\": \"orange\", \"from\": 0, \"to\": 1}, {\"title\": \"1: (0, 2)\", \"label\": \"2\", \"color\": \"blue\", \"from\": 0, \"to\": 2}, {\"title\": \"2: (1, 2)\", \"label\": \"0\", \"color\": \"orange\", \"from\": 1, \"to\": 2}, {\"title\": \"3: (1, 4)\", \"label\": \"4\", \"color\": \"blue\", \"from\": 1, \"to\": 4}, {\"title\": \"4: (2, 3)\", \"label\": \"0\", \"color\": \"orange\", \"from\": 2, \"to\": 3}, {\"title\": \"5: (3, 4)\", \"label\": \"0\", \"color\": \"orange\", \"from\": 3, \"to\": 4}, {\"title\": \"6: (3, 5)\", \"label\": \"2\", \"color\": \"blue\", \"from\": 3, \"to\": 5}, {\"title\": \"7: (4, 5)\", \"label\": \"0\", \"color\": \"orange\", \"from\": 4, \"to\": 5}]);\n",
       "    const data = {\n",
       "            nodes: nodes,\n",
       "            edges: edges,\n",
       "    };\n",
       "    const options = {\"interaction\": {\"navigationButtons\": false}, \"width\": \"100%\", \"height\": \"100%\"};\n",
       "    const container = document.getElementById('005f98c0-712e-4128-a8d5-5f0bbc97e890');\n",
       "    const network = new Network(container, data, options);\n",
       "    network.fit({maxZoomLevel: 10});\n",
       "    network.redraw();\n",
       "}\n",
       "\n",
       "render();\n",
       "document.getElementById('fit-005f98c0-712e-4128-a8d5-5f0bbc97e890').addEventListener('click', function(event) {\n",
       "    event.preventDefault();  // Prevent page jump\n",
       "    render(); // Adjust zoom limit as needed\n",
       "});\n",
       "</script>\n"
      ],
      "text/plain": [
       "<IPython.core.display.HTML object>"
      ]
     },
     "metadata": {},
     "output_type": "display_data"
    }
   ],
   "source": [
    "codomino = sm.Codomino(rates=[2, 4, 2, 2, 4, 2])\n",
    "rewards = [-1, 1, -1, 1, 4.9, 4.9, 1, -1]\n",
    "codomino.show_flow(flow=codomino.optimize_rates(rewards))"
   ]
  },
  {
   "cell_type": "code",
   "execution_count": 10,
   "id": "4f87f712-1745-4184-96fd-60b94f7112f4",
   "metadata": {
    "execution": {
     "iopub.execute_input": "2025-09-24T09:54:45.919781Z",
     "iopub.status.busy": "2025-09-24T09:54:45.919781Z",
     "iopub.status.idle": "2025-09-24T10:12:24.519082Z",
     "shell.execute_reply": "2025-09-24T10:12:24.519082Z",
     "shell.execute_reply.started": "2025-09-24T09:54:45.919781Z"
    }
   },
   "outputs": [
    {
     "data": {
      "application/vnd.jupyter.widget-view+json": {
       "model_id": "587bc6a4d4fb43c285e9518087459a85",
       "version_major": 2,
       "version_minor": 0
      },
      "text/plain": [
       "  0%|          | 0/52 [00:00<?, ?it/s]"
      ]
     },
     "metadata": {},
     "output_type": "display_data"
    },
    {
     "data": {
      "image/png": "[encoded data removed]",
      "text/plain": [
       "<Figure size 640x480 with 1 Axes>"
      ]
     },
     "metadata": {},
     "output_type": "display_data"
    }
   ],
   "source": [
    "specific.pop('Taboo', None)\n",
    "xps = xp_builder({'model': codomino, 'rewards': rewards, **common}, specific)\n",
    "with Pool() as p:\n",
    "    res = evaluate(xps, pool=p, cache_name=\"codomino-injective\", \n",
    "                   cache_overwrite=refresh)\n",
    "display_res(res)"
   ]
  },
  {
   "cell_type": "markdown",
   "id": "8668950f-620e-4295-a895-05a91fb263a9",
   "metadata": {},
   "source": [
    "#### Codomino, bijective"
   ]
  },
  {
   "cell_type": "markdown",
   "id": "ff558d43-1957-437d-a70f-e5b885d2eb31",
   "metadata": {},
   "source": [
    "Here, we choose rewards so that all taboo edge have a positive weight, while two live edges have a negative weight."
   ]
  },
  {
   "cell_type": "code",
   "execution_count": 11,
   "id": "a1c3944d-d0b4-4072-b87c-dd4c1c52612e",
   "metadata": {
    "execution": {
     "iopub.execute_input": "2025-09-24T10:12:24.520394Z",
     "iopub.status.busy": "2025-09-24T10:12:24.520394Z",
     "iopub.status.idle": "2025-09-24T10:12:24.527407Z",
     "shell.execute_reply": "2025-09-24T10:12:24.527407Z",
     "shell.execute_reply.started": "2025-09-24T10:12:24.520394Z"
    }
   },
   "outputs": [
    {
     "data": {
      "text/html": [
       "\n",
       "<div class=\"sm-graph\">\n",
       "<div id=\"f55e5e5d-aef6-4ab5-93b7-0f23980ce62f\"></div>\n",
       "<a href=\"#\" id=\"fit-f55e5e5d-aef6-4ab5-93b7-0f23980ce62f\"\n",
       "  style=\"position: absolute; left: 10px; bottom: 10px; text-decoration: none; color: #888; font-size: min(2vw, 10px);\n",
       "  z-index: 10; pointer-events: auto;\"\n",
       "> Refresh\n",
       "</a>\n",
       "<style>\n",
       ".sm-graph {\n",
       "position: relative;\n",
       "width: 100%;\n",
       "height: 50vh !important;\n",
       "max-width: 100vw;\n",
       "max-height: 100vh !important;\n",
       "}\n",
       ".sm-graph > div {\n",
       "  height: 100%;   /* Make the inner div fill the parent */\n",
       "}\n",
       "</style>\n",
       "</div>\n",
       "<script type=\"module\">\n",
       "import { DataSet, Network } from \"https://unpkg.com/vis-network/standalone/esm/vis-network.min.js\";\n",
       "// CSS will be automatically injected into the page.\n",
       "function render () {\n",
       "    const nodes = new DataSet([{\"id\": 0, \"label\": \"4\", \"title\": \"0\"}, {\"id\": 1, \"label\": \"5\", \"title\": \"1\"}, {\"id\": 2, \"label\": \"5\", \"title\": \"2\"}, {\"id\": 3, \"label\": \"3\", \"title\": \"3\"}, {\"id\": 4, \"label\": \"3\", \"title\": \"4\"}, {\"id\": 5, \"label\": \"2\", \"title\": \"5\"}]);\n",
       "    const edges = new DataSet([{\"title\": \"0: (0, 1)\", \"label\": \"3\", \"color\": \"blue\", \"from\": 0, \"to\": 1}, {\"title\": \"1: (0, 2)\", \"label\": \"1\", \"color\": \"blue\", \"from\": 0, \"to\": 2}, {\"title\": \"2: (1, 2)\", \"label\": \"2\", \"color\": \"blue\", \"from\": 1, \"to\": 2}, {\"title\": \"3: (1, 4)\", \"label\": \"0\", \"color\": \"orange\", \"from\": 1, \"to\": 4}, {\"title\": \"4: (2, 3)\", \"label\": \"2\", \"color\": \"blue\", \"from\": 2, \"to\": 3}, {\"title\": \"5: (3, 4)\", \"label\": \"1\", \"color\": \"blue\", \"from\": 3, \"to\": 4}, {\"title\": \"6: (3, 5)\", \"label\": \"0\", \"color\": \"orange\", \"from\": 3, \"to\": 5}, {\"title\": \"7: (4, 5)\", \"label\": \"2\", \"color\": \"blue\", \"from\": 4, \"to\": 5}]);\n",
       "    const data = {\n",
       "            nodes: nodes,\n",
       "            edges: edges,\n",
       "    };\n",
       "    const options = {\"interaction\": {\"navigationButtons\": false}, \"width\": \"100%\", \"height\": \"100%\"};\n",
       "    const container = document.getElementById('f55e5e5d-aef6-4ab5-93b7-0f23980ce62f');\n",
       "    const network = new Network(container, data, options);\n",
       "    network.fit({maxZoomLevel: 10});\n",
       "    network.redraw();\n",
       "}\n",
       "\n",
       "render();\n",
       "document.getElementById('fit-f55e5e5d-aef6-4ab5-93b7-0f23980ce62f').addEventListener('click', function(event) {\n",
       "    event.preventDefault();  // Prevent page jump\n",
       "    render(); // Adjust zoom limit as needed\n",
       "});\n",
       "</script>\n"
      ],
      "text/plain": [
       "<IPython.core.display.HTML object>"
      ]
     },
     "metadata": {},
     "output_type": "display_data"
    }
   ],
   "source": [
    "codomino.rates = [4, 5, 5, 3, 3, 2]\n",
    "rewards = [3.1, -1, 1,  1, -1, 0,  1, 0]\n",
    "codomino.show_flow(flow=codomino.optimize_rates(rewards))"
   ]
  },
  {
   "cell_type": "code",
   "execution_count": 12,
   "id": "0a470a5e-ddef-4a16-a72c-634a49d6362a",
   "metadata": {
    "execution": {
     "iopub.execute_input": "2025-09-24T10:12:24.528414Z",
     "iopub.status.busy": "2025-09-24T10:12:24.528414Z",
     "iopub.status.idle": "2025-09-24T10:28:18.005519Z",
     "shell.execute_reply": "2025-09-24T10:28:18.005519Z",
     "shell.execute_reply.started": "2025-09-24T10:12:24.528414Z"
    }
   },
   "outputs": [
    {
     "data": {
      "application/vnd.jupyter.widget-view+json": {
       "model_id": "950614efa0ea4e88be585246517e0b46",
       "version_major": 2,
       "version_minor": 0
      },
      "text/plain": [
       "  0%|          | 0/53 [00:00<?, ?it/s]"
      ]
     },
     "metadata": {},
     "output_type": "display_data"
    },
    {
     "data": {
      "image/png": "[encoded data removed]",
      "text/plain": [
       "<Figure size 640x480 with 1 Axes>"
      ]
     },
     "metadata": {},
     "output_type": "display_data"
    }
   ],
   "source": [
    "specific['Taboo'] = taboo\n",
    "xps = xp_builder({'model': codomino, 'rewards': rewards, **common}, specific)\n",
    "with Pool() as p:\n",
    "    res = evaluate(xps, pool=p, cache_name=\"codomino-bijective\", \n",
    "                   cache_overwrite=refresh)\n",
    "display_res(res, view='logx', x_max=3, y_max=1.3)"
   ]
  },
  {
   "cell_type": "markdown",
   "id": "ad92fcbe-0c66-49e4-8412-d82a50204abf",
   "metadata": {},
   "source": [
    "### Larger graphs"
   ]
  },
  {
   "cell_type": "code",
   "execution_count": 13,
   "id": "957a934b-811f-4f7b-b831-6c69705e1d47",
   "metadata": {
    "execution": {
     "iopub.execute_input": "2025-09-24T10:28:18.006854Z",
     "iopub.status.busy": "2025-09-24T10:28:18.006854Z",
     "iopub.status.idle": "2025-09-24T10:28:18.477703Z",
     "shell.execute_reply": "2025-09-24T10:28:18.477703Z",
     "shell.execute_reply.started": "2025-09-24T10:28:18.006854Z"
    }
   },
   "outputs": [
    {
     "data": {
      "text/plain": [
       "1006"
      ]
     },
     "execution_count": 13,
     "metadata": {},
     "output_type": "execute_result"
    }
   ],
   "source": [
    "n, d = 100, 20\n",
    "er = sm.ErdosRenyi(n=n, d=d, seed=42)\n",
    "er.m"
   ]
  },
  {
   "cell_type": "markdown",
   "id": "a2c21a19-8c55-4a99-9db6-b071b7f55859",
   "metadata": {},
   "source": [
    "To select a vertex, we draw random rewards, which are optimized at a unique point w.h.p."
   ]
  },
  {
   "cell_type": "code",
   "execution_count": 14,
   "id": "30ff420c-4116-41ef-937d-1291723f7afe",
   "metadata": {
    "execution": {
     "iopub.execute_input": "2025-09-24T10:28:18.478964Z",
     "iopub.status.busy": "2025-09-24T10:28:18.478964Z",
     "iopub.status.idle": "2025-09-24T10:28:18.481935Z",
     "shell.execute_reply": "2025-09-24T10:28:18.481935Z",
     "shell.execute_reply.started": "2025-09-24T10:28:18.478964Z"
    }
   },
   "outputs": [],
   "source": [
    "rewards = np.random.rand(er.m)"
   ]
  },
  {
   "cell_type": "code",
   "execution_count": 15,
   "id": "65e483e5-f527-4bbc-9f86-b40b8a349a7d",
   "metadata": {
    "execution": {
     "iopub.execute_input": "2025-09-24T10:28:18.482944Z",
     "iopub.status.busy": "2025-09-24T10:28:18.482944Z",
     "iopub.status.idle": "2025-09-24T10:28:18.489072Z",
     "shell.execute_reply": "2025-09-24T10:28:18.489072Z",
     "shell.execute_reply.started": "2025-09-24T10:28:18.482944Z"
    }
   },
   "outputs": [],
   "source": [
    "common['max_queue'] = 5000"
   ]
  },
  {
   "cell_type": "markdown",
   "id": "661842e9-1aa3-4a66-a418-a0821a44d767",
   "metadata": {},
   "source": [
    "#### Injective-only"
   ]
  },
  {
   "cell_type": "code",
   "execution_count": 16,
   "id": "9641f7d3-527b-489d-a4da-b5a5c17ec29f",
   "metadata": {
    "execution": {
     "iopub.execute_input": "2025-09-24T10:28:18.490076Z",
     "iopub.status.busy": "2025-09-24T10:28:18.490076Z",
     "iopub.status.idle": "2025-09-24T10:28:18.517777Z",
     "shell.execute_reply": "2025-09-24T10:28:18.517777Z",
     "shell.execute_reply.started": "2025-09-24T10:28:18.490076Z"
    }
   },
   "outputs": [
    {
     "data": {
      "text/plain": [
       "np.int64(97)"
      ]
     },
     "execution_count": 16,
     "metadata": {},
     "output_type": "execute_result"
    }
   ],
   "source": [
    "vertex = er.optimize_rates(rewards)\n",
    "np.sum(vertex>0)"
   ]
  },
  {
   "cell_type": "code",
   "execution_count": null,
   "id": "ff0667d8-df02-45dd-af46-447a74f536a5",
   "metadata": {
    "execution": {
     "iopub.execute_input": "2025-09-24T10:28:18.517777Z",
     "iopub.status.busy": "2025-09-24T10:28:18.517777Z"
    }
   },
   "outputs": [
    {
     "data": {
      "application/vnd.jupyter.widget-view+json": {
       "model_id": "1efb46951162419e8de5a0a53dea0d37",
       "version_major": 2,
       "version_minor": 0
      },
      "text/plain": [
       "  0%|          | 0/52 [00:00<?, ?it/s]"
      ]
     },
     "metadata": {},
     "output_type": "display_data"
    }
   ],
   "source": [
    "specific.pop('Taboo', None)\n",
    "xps = xp_builder({'model': er, 'rewards': rewards, **common}, specific)\n",
    "with Pool() as p:\n",
    "    res = evaluate(xps, pool=p, cache_name=\"er-injective\", \n",
    "                   cache_overwrite=refresh)\n",
    "display_res(res)"
   ]
  },
  {
   "cell_type": "markdown",
   "id": "59f78b7c-981a-4416-92db-75d50d54b6d6",
   "metadata": {},
   "source": [
    "#### Bijective"
   ]
  },
  {
   "cell_type": "code",
   "execution_count": null,
   "id": "49166629-3df8-4946-942c-c4cae7386105",
   "metadata": {},
   "outputs": [],
   "source": [
    "np.random.seed(42)\n",
    "er.rates = er.rates + 5*np.random.rand(n)\n",
    "vertex = er.optimize_rates(rewards)\n",
    "np.sum(vertex>0)"
   ]
  },
  {
   "cell_type": "code",
   "execution_count": null,
   "id": "8c628d21-052a-4a98-8e3c-da795a390ada",
   "metadata": {},
   "outputs": [],
   "source": [
    "specific['Taboo'] = taboo \n",
    "xps = xp_builder({'model': er, 'rewards': rewards, **common}, specific)\n",
    "with Pool() as p:\n",
    "    res = evaluate(xps, pool=p, cache_name=\"er-bijective\", \n",
    "                   cache_overwrite=refresh)\n",
    "display_res(res, y_max=800)"
   ]
  },
  {
   "cell_type": "markdown",
   "id": "bd252188-b40a-45ce-98a7-c7d459e865ac",
   "metadata": {},
   "source": [
    "## Approaching vertices of hypergraphs"
   ]
  },
  {
   "cell_type": "code",
   "execution_count": null,
   "id": "86e06daa-284f-460c-9ed9-374782606afd",
   "metadata": {},
   "outputs": [],
   "source": [
    "common['max_queue'] = 50000"
   ]
  },
  {
   "cell_type": "markdown",
   "id": "b354c350-fa87-465b-a68e-4d2e3d7c0b95",
   "metadata": {},
   "source": [
    "We now have hypergraphs. We need to adjust some policy settings accordingly, switching from *longest queue* to *virtual queue* to ensure stability."
   ]
  },
  {
   "cell_type": "code",
   "execution_count": null,
   "id": "ee41b836-de30-4023-bc29-a876a3181d73",
   "metadata": {},
   "outputs": [],
   "source": [
    "for k in ['k-filtering', 'Taboo']:\n",
    "    specific[k]['simulator'] = 'virtual_queue'\n",
    "    specific[k]['alt_rewards'] = 'gentle'\n",
    "specific['ϵ-filtering']['base_policy'] = 'virtual_queue'"
   ]
  },
  {
   "cell_type": "markdown",
   "id": "0a721725-6463-41f6-b31d-40f94ba45866",
   "metadata": {},
   "source": [
    "### Abandonment"
   ]
  },
  {
   "cell_type": "markdown",
   "id": "0b0c7bae-9001-4393-9a11-50a6fff0e579",
   "metadata": {},
   "source": [
    "We now conside a diamond where one item class can be abandonned and where the optional solution is to abandon it entirely. As usual, we pick adversarial rewards so that the resulting vertex looks a bit counter-intuitive."
   ]
  },
  {
   "cell_type": "code",
   "execution_count": null,
   "id": "1331d864-2455-42b4-a046-31b18804c119",
   "metadata": {},
   "outputs": [],
   "source": [
    "incidence = np.hstack([diamond.incidence, np.array([[0, 0, 0, 1]]).T])\n",
    "modified_diamond = sm.Model(incidence=incidence, rates=[4, 4, 4, 2])\n",
    "rewards = [-1, 1, 1, 1, 3, 2]\n",
    "modified_diamond.show_flow(flow=modified_diamond.optimize_rates(rewards))"
   ]
  },
  {
   "cell_type": "code",
   "execution_count": null,
   "id": "eba87199-595a-4ab9-a07f-36c7c5b7a4d2",
   "metadata": {},
   "outputs": [],
   "source": [
    "xps = xp_builder({'model': modified_diamond, 'rewards': rewards, **common}, specific)\n",
    "with Pool() as p:\n",
    "    res = evaluate(xps, pool=p, cache_name=\"abandonment\", \n",
    "                   cache_overwrite=refresh)\n",
    "display_res(res, x_max=10, y_max=1)"
   ]
  },
  {
   "cell_type": "markdown",
   "id": "a2dab574-da4f-4851-a36a-d55c3c23ecc4",
   "metadata": {},
   "source": [
    "### Nazari & Stolyar example"
   ]
  },
  {
   "cell_type": "markdown",
   "id": "c0ac78e0-625e-4fa9-a6ff-7c85b181dcae",
   "metadata": {},
   "source": [
    "See https://arxiv.org/abs/1608.01646 for details."
   ]
  },
  {
   "cell_type": "markdown",
   "id": "c3a38898-85ec-47a0-8680-75eeb015504b",
   "metadata": {},
   "source": [
    "#### First arrival rates"
   ]
  },
  {
   "cell_type": "code",
   "execution_count": null,
   "id": "5d9fdad5-b63a-4747-83ed-36c930680535",
   "metadata": {},
   "outputs": [],
   "source": [
    "ns19 = sm.NS19(rates=[1.2, 1.5, 2, 0.8])\n",
    "rewards = [-1, -1, 1, 2, 5, 4, 7]\n",
    "ns19.show_flow(flow=ns19.optimize_rates(rewards))"
   ]
  },
  {
   "cell_type": "code",
   "execution_count": null,
   "id": "b881ef38-07fd-42e2-a97a-b86847fddbcc",
   "metadata": {},
   "outputs": [],
   "source": [
    "xps = xp_builder({'model': ns19, 'rewards': rewards, **common}, specific)\n",
    "with Pool() as p:\n",
    "    res = evaluate(xps, pool=p, cache_name=\"ns19-a\", cache_overwrite=refresh)\n",
    "display_res(res, view='logx', x_max=10, y_max=4)"
   ]
  },
  {
   "cell_type": "markdown",
   "id": "4c953fb1-5cac-4da3-89b5-d635a9c58ab1",
   "metadata": {},
   "source": [
    "#### Second arrival rates"
   ]
  },
  {
   "cell_type": "code",
   "execution_count": null,
   "id": "d807219c-9954-4581-b125-05418a405f68",
   "metadata": {},
   "outputs": [],
   "source": [
    "ns19.rates = [1.8, .8, 1.4, 1]\n",
    "ns19.show_flow(flow=ns19.optimize_rates(rewards))"
   ]
  },
  {
   "cell_type": "code",
   "execution_count": null,
   "id": "e82f6c7f-4748-44e9-8a7e-19590f7b6698",
   "metadata": {},
   "outputs": [],
   "source": [
    "xps = xp_builder({'model': ns19, 'rewards': rewards, **common}, specific)\n",
    "with Pool() as p:\n",
    "    res = evaluate(xps, pool=p, cache_name=\"ns19-b\", cache_overwrite=refresh)"
   ]
  },
  {
   "cell_type": "code",
   "execution_count": null,
   "id": "0d76a3c5-2c2e-464d-a98b-d594b2100aa3",
   "metadata": {},
   "outputs": [],
   "source": [
    "display_res(res, view='logx', x_max=10, y_max=3)"
   ]
  },
  {
   "cell_type": "markdown",
   "id": "ac800f91-80cc-48f6-bafa-3a8fcdaeb309",
   "metadata": {},
   "source": [
    "## Flexibility of greedy policies"
   ]
  },
  {
   "cell_type": "markdown",
   "id": "2f18165f-7807-48e1-bb54-568ddfef101a",
   "metadata": {},
   "source": [
    "### Complete graph"
   ]
  },
  {
   "cell_type": "markdown",
   "id": "ec5aa04a-44df-4a03-a7e4-15c1f3bf0a64",
   "metadata": {},
   "source": [
    "For complete graphs, all greedy policies are equivalent because there is never any true choice to make in that case. Let us check that by running a few greedy policies.\n",
    "\n",
    "We will use the graph $K_4$, which has a 2-D kernel. With uniform arrival rates, its polytope is a triangle."
   ]
  },
  {
   "cell_type": "code",
   "execution_count": null,
   "id": "e44ba259-f450-415c-a106-773604ed2f57",
   "metadata": {},
   "outputs": [],
   "source": [
    "complete = sm.Complete(n=4)\n",
    "complete.vertices"
   ]
  },
  {
   "cell_type": "markdown",
   "id": "c4a2f228-2d1d-4b5c-988c-b13cd1d0e9e7",
   "metadata": {},
   "source": [
    "For the comparison, we will consider the following greedy policies:"
   ]
  },
  {
   "cell_type": "code",
   "execution_count": null,
   "id": "9d0a567c-490c-4d90-8e44-e5a840e8d029",
   "metadata": {},
   "outputs": [],
   "source": [
    "complete_policies = {\n",
    "    \"Longest\": {\"simulator\": \"longest\"},\n",
    "    \"FCFM\": {\"simulator\": \"fcfm\"},\n",
    "    \"Random Edge\": {\"simulator\": \"random_edge\"},\n",
    "    \"Random Item\": {\"simulator\": \"random_item\"},\n",
    "    \"Priority\": {\"simulator\": \"priority\", \"weights\": [1, 10, 0, -1, 3, 4]},\n",
    "}"
   ]
  },
  {
   "cell_type": "markdown",
   "id": "c8d1c926-80d9-4777-af27-87241a5c3ec2",
   "metadata": {},
   "source": [
    "We run the simulation, gathering the resulting matching rate in edge and kernel coordinates:"
   ]
  },
  {
   "cell_type": "code",
   "execution_count": null,
   "id": "e543ad0f-ac72-45d0-9393-51a55ba130e9",
   "metadata": {},
   "outputs": [],
   "source": [
    "def flow_kernel_coordinates(simu):\n",
    "    flow = simu.flow\n",
    "    return simu.model.edge_to_kernel(flow)\n",
    "xps = xp_builder({'model': complete, **common}, complete_policies)\n",
    "with Pool(5) as p:\n",
    "    res = evaluate(\n",
    "        xps, [\"flow\", flow_kernel_coordinates], pool=p, cache_name=\"complete\", \n",
    "        cache_overwrite=refresh\n",
    "    )\n",
    "res"
   ]
  },
  {
   "cell_type": "markdown",
   "id": "01a45ee6-e2a2-4542-9a8d-0eccae8aed8b",
   "metadata": {},
   "source": [
    ":::tip\n",
    "In the results above, the randomized policies (on Items and Edges) have not exactly the same rate than the deterministic policies, despite the use of a seed. The reason is that there is one unique random generator per simulator, so having a randomized policy impacts the drawing of arrivals (even if the number of possibilities is always reduced to 1).\n",
    ":::"
   ]
  },
  {
   "cell_type": "markdown",
   "id": "583c4863-e55e-4171-99fc-6dd9bc95a83b",
   "metadata": {},
   "source": [
    "### Diamond"
   ]
  },
  {
   "cell_type": "markdown",
   "id": "d4dbc2e5-0587-4bb9-b881-5c9ee8a35545",
   "metadata": {},
   "source": [
    "For the diamond, the capacity of greedy policies to affect the matching rates depends on the traffic $\\beta$ on the central edge, which corresponds to the unbalance between the two opposite pairs of nodes. Roughly speaking, when the central traffic is scarse, greedy policies get to choose more, leading to a greater influence."
   ]
  },
  {
   "cell_type": "markdown",
   "id": "970475da-f9d6-4ad7-8136-8337a1463dbd",
   "metadata": {},
   "source": [
    "First, let us build the experiments for various $\\beta$. Note that all models are symmetric so we can focus on targeting one vertex."
   ]
  },
  {
   "cell_type": "code",
   "execution_count": null,
   "id": "273ae97b-7d56-4f74-a8a2-7653650f6540",
   "metadata": {},
   "outputs": [],
   "source": [
    "def beta_to_model(beta):\n",
    "    return sm.CycleChain(\n",
    "        names=[str(i) for i in range(1, 5)],\n",
    "        rates=[1 / 4, 1 / 4 + beta, 1 / 4 + beta, 1 / 4],\n",
    "    )\n",
    "\n",
    "n_points = 30\n",
    "β_vect = np.logspace(-3, 1, n_points)\n",
    "model_iter = Iterator(\"model\", β_vect, \"β\", beta_to_model)\n",
    "\n",
    "xps = XP(\"Greedy vertex\", simulator=\"priority\", weights=[1, 0, 0, 0, 1], iterator=model_iter, **common)"
   ]
  },
  {
   "cell_type": "markdown",
   "id": "474f0213-c703-4eb9-b2ac-9b913b40248c",
   "metadata": {},
   "source": [
    "What we want to measure are the kernel coordinate $\\alpha$ of the matching rates of the policy."
   ]
  },
  {
   "cell_type": "code",
   "execution_count": null,
   "id": "5b18666f-32d3-429d-a54e-031826df878e",
   "metadata": {},
   "outputs": [],
   "source": [
    "def alpha(simu):\n",
    "    flow = simu.flow\n",
    "    return (flow[0] + flow[-1] - flow[1] - flow[3]) / 4"
   ]
  },
  {
   "cell_type": "code",
   "execution_count": null,
   "id": "bc83baa4-0edc-4f33-a279-b0ea1f873ccf",
   "metadata": {},
   "outputs": [],
   "source": [
    "with Pool() as p:\n",
    "    res = evaluate(xps, alpha, pool=p, cache_name=\"greedy-diamond\", cache_overwrite=refresh)\n",
    "res = np.array(res[\"Greedy vertex\"][\"alpha\"])"
   ]
  },
  {
   "cell_type": "markdown",
   "id": "4b89291b-c418-475b-9524-09a3c6cbff5f",
   "metadata": {},
   "source": [
    "Theoretical bounds:"
   ]
  },
  {
   "cell_type": "code",
   "execution_count": null,
   "id": "bfb595f2-153a-4713-aa39-8454e283dd6e",
   "metadata": {},
   "outputs": [],
   "source": [
    "def min_flow2(beta):\n",
    "    q13 = 1 / (4 * beta)\n",
    "    q2 = 1 / 2 + 2 * beta\n",
    "    p0 = 1 / (1 + q13 + 2 * q2)\n",
    "    return p0 * q2 / 4 + p0 / (1 + 8 * beta) * (1 / 4 + beta) - 1 / 8\n",
    "\n",
    "\n",
    "lbi = [min_flow2(β) for β in β_vect]\n",
    "ubi = [-min_flow2(β) for β in β_vect]"
   ]
  },
  {
   "cell_type": "markdown",
   "id": "f5b3ec24-1088-464a-befc-ee2e95511cc6",
   "metadata": {},
   "source": [
    "Results:"
   ]
  },
  {
   "cell_type": "code",
   "execution_count": null,
   "id": "25428b47-c9e6-47e5-b8d8-737760ea5942",
   "metadata": {},
   "outputs": [],
   "source": [
    "plt.fill_between(\n",
    "    β_vect,\n",
    "    -1 / 8 * np.ones(n_points),\n",
    "    1 / 8 * np.ones(n_points),\n",
    "    label=\"$\\\\Lambda_{\\\\geqslant 0}$\",\n",
    "    color=[0.85, 0.85, 0.85, 1],\n",
    ")\n",
    "plt.fill_between(\n",
    "    β_vect,\n",
    "    -res,\n",
    "    res,\n",
    "    label=\"$\\\\Lambda_G = [\\\\alpha_-, \\\\alpha_+]$\",\n",
    "    color=[0.6, 0.6, 0.6, 1],\n",
    ")\n",
    "\n",
    "plt.semilogx(β_vect, ubi, label=\"Upper bound\")\n",
    "plt.semilogx(β_vect, np.zeros(n_points), label=\"$\\\\alpha=0$\")\n",
    "plt.semilogx(β_vect, lbi, label=\"Lower bound\")\n",
    "\n",
    "plt.xlabel(\"$\\\\beta$\")\n",
    "plt.ylabel(\"$\\\\alpha$\")\n",
    "plt.legend()\n",
    "plt.xlim([β_vect[0], β_vect[-1]])\n",
    "plt.show()"
   ]
  },
  {
   "cell_type": "markdown",
   "id": "0c9ec7e0-4477-480c-9820-2c2cf6b4ea83",
   "metadata": {},
   "source": [
    "### Fish graph"
   ]
  },
  {
   "cell_type": "markdown",
   "id": "d4738490-bafd-42ba-b294-57f07eb78ada",
   "metadata": {},
   "source": [
    "The Fish graph, with properly designed arrival rates, is a counter-example to the lack of flexibility of greedy policies in surjective-only graphs, as it is feasible for a family of greedy policies to converge to the vertex. There, however, a price to pay in terms of delay, despite the fact that the vertex is bijective."
   ]
  },
  {
   "cell_type": "markdown",
   "id": "807083cb-4e21-49c0-938e-795965edfb09",
   "metadata": {},
   "source": [
    "Here is the graph:"
   ]
  },
  {
   "cell_type": "code",
   "execution_count": null,
   "id": "452cda04-a35c-42f4-bbc3-5ec267d8e6a1",
   "metadata": {},
   "outputs": [],
   "source": [
    "fish = sm.KayakPaddle(\n",
    "    3, 0, 4, names=[str(i) for i in range(1, 7)], rates=[4, 4, 3, 2, 3, 2]\n",
    ")\n",
    "fish.show_kernel(disp_rates=False, disp_flow=True)"
   ]
  },
  {
   "cell_type": "markdown",
   "id": "dceb49b5-9100-4085-b9b5-e09e6ead7f42",
   "metadata": {},
   "source": [
    "Our target is the bijective vertex $\\alpha=1/2$."
   ]
  },
  {
   "cell_type": "code",
   "execution_count": null,
   "id": "135a5126-ad12-4446-89dc-124314683119",
   "metadata": {},
   "outputs": [],
   "source": [
    "fish.show_flow(disp_rates=False, flow=fish.kernel_to_edge([1/2]))"
   ]
  },
  {
   "cell_type": "markdown",
   "id": "69dce7e2-ea01-40b2-a15b-408f67ee9632",
   "metadata": {},
   "source": [
    "#### Rate limitation lemma"
   ]
  },
  {
   "cell_type": "markdown",
   "id": "0a0f575c-3efa-43a5-a431-1fe9135457a5",
   "metadata": {},
   "source": [
    "To build the policy, the first part consists in noticing that if nodes 3 is forced to prioritize the *tail* of the fish (nodes 1 and 2), then the rate that 3 can send to the *body* is at most $9/11\\approx 0.818$. This result does not depend on the body shape so we heck it on a simple frying pan (the body reduced to one node outside of 3)."
   ]
  },
  {
   "cell_type": "code",
   "execution_count": null,
   "id": "b092b043-fb55-40b0-8cc8-593d17165009",
   "metadata": {},
   "outputs": [],
   "source": [
    "paw = sm.Tadpole(names=[str(i) for i in range(1, 5)], rates=[4, 4, 3, 1])\n",
    "paw.stabilizable"
   ]
  },
  {
   "cell_type": "code",
   "execution_count": null,
   "id": "5ac88703-7840-437e-8d5e-04b61da196be",
   "metadata": {},
   "outputs": [],
   "source": [
    "paw.base_flow"
   ]
  },
  {
   "cell_type": "code",
   "execution_count": null,
   "id": "01cc1c60-b1bb-4ccf-9925-fea37d1efaff",
   "metadata": {},
   "outputs": [],
   "source": [
    "paw.run(\"priority\", weights=[0, 1, 1, 0], max_queue=10**7, n_steps=10**7)"
   ]
  },
  {
   "cell_type": "code",
   "execution_count": null,
   "id": "171ab489-ab0d-4c66-89ca-14f9f1bc7690",
   "metadata": {},
   "outputs": [],
   "source": [
    "paw.show_flow(disp_rates=False)"
   ]
  },
  {
   "cell_type": "markdown",
   "id": "8f8353da-b9ec-4b1e-b09c-f8e89a9f7e9b",
   "metadata": {},
   "source": [
    "#### Unstable greedy policy lemma"
   ]
  },
  {
   "cell_type": "markdown",
   "id": "eb854565-6cb5-4d61-9432-1bce4ad9a3d7",
   "metadata": {},
   "source": [
    "Building on the rate limitation, one can craft an instable greedy policy that *starves* the body of the fish. Starvation induces a constantly growing number of waiting items. Using priorities, we can shape the policy so that waiting items are mostly of type 4. As a side-effect, that would nullify the edge $(3, 6)$, which is what we want."
   ]
  },
  {
   "cell_type": "code",
   "execution_count": null,
   "id": "c13f7765-e130-44e3-b1e1-c7fde616a709",
   "metadata": {},
   "outputs": [],
   "source": [
    "fish.run(\"priority\", weights=[0, 3, 3, 2, 0, 0, 2], max_queue=10**7, n_steps=10**7, seed=42)\n",
    "fish.show_flow(disp_rates=False)"
   ]
  },
  {
   "cell_type": "markdown",
   "id": "b79de939-408b-4f72-9de7-7f7574b91a59",
   "metadata": {},
   "source": [
    "We can check that the queue is concentrated on node 4."
   ]
  },
  {
   "cell_type": "code",
   "execution_count": null,
   "id": "0166281b-42c5-4994-8455-ad56d4a3756a",
   "metadata": {},
   "outputs": [],
   "source": [
    "fish.simulator.avg_queues"
   ]
  },
  {
   "cell_type": "markdown",
   "id": "2c172787-c945-4984-b268-24ffb3d4098f",
   "metadata": {},
   "source": [
    "#### Threshold-based policy"
   ]
  },
  {
   "cell_type": "markdown",
   "id": "09140fa3-6e1b-49e4-ad8e-bed8b5c67af7",
   "metadata": {},
   "source": [
    "To finalize, all what we need is relax the unstable greedy policy into a stable policy when queues are too high."
   ]
  },
  {
   "cell_type": "code",
   "execution_count": null,
   "id": "e5615a03-946d-4708-93ae-e901299f1a45",
   "metadata": {},
   "outputs": [],
   "source": [
    "fish.run(\n",
    "    \"priority\",\n",
    "    weights=[0, 3, 3, 2, 0, 0, 2],\n",
    "    threshold=100,\n",
    "    counterweights=[0, 1, 1, 2, 0, 0, 2],\n",
    "    n_steps=10**7,\n",
    "    seed=42\n",
    ")\n",
    "fish.show_flow(disp_rates=False)"
   ]
  },
  {
   "cell_type": "markdown",
   "id": "f6f3c548-6529-4b21-b366-e9b67f4c9a1e",
   "metadata": {},
   "source": [
    "#### Evaluation"
   ]
  },
  {
   "cell_type": "markdown",
   "id": "1508e915-1dd5-4b57-a2fd-55395ccde3d2",
   "metadata": {},
   "source": [
    "As often, we have a delay/regret trade-off."
   ]
  },
  {
   "cell_type": "code",
   "execution_count": null,
   "id": "adaa80d9-dd09-4764-94c4-0e5a98b6c1a5",
   "metadata": {},
   "outputs": [],
   "source": [
    "rewards = [2, 2, 2, 1, -1, 0, 1]\n",
    "t_range = Iterator(\"threshold\", 2 ** (np.arange(10)), \"k\")\n",
    "name = '$\\\\Phi_k^+$'\n",
    "fish_policies = {name: {'simulator': 'priority', 'weights': [0, 3, 3, 2, 0, 0, 2],\n",
    "                                'counterweights': [0, 1, 1, 2, 0, 0, 2], 'iterator': t_range},\n",
    "                 'Taboo': taboo}"
   ]
  },
  {
   "cell_type": "markdown",
   "id": "527cdeec-7b2e-41e6-9db5-2e3e64de90b7",
   "metadata": {},
   "source": [
    ":::note\n",
    "The priority policy has no built-in regret management, so we need to post-compute it.\n",
    ":::"
   ]
  },
  {
   "cell_type": "code",
   "execution_count": null,
   "id": "4deb9b82-bcbe-413d-a63d-972cd55349de",
   "metadata": {},
   "outputs": [],
   "source": [
    "fish.simulator = None\n",
    "xps = xp_builder({'model': fish, **common}, fish_policies)\n",
    "with Pool() as p:\n",
    "    res = evaluate(xps, pool=p, metrics=[\"delay\", \"regret\", \"flow\"], cache_name=\"fish\", \n",
    "                   cache_overwrite=refresh)\n",
    "    "
   ]
  },
  {
   "cell_type": "code",
   "execution_count": null,
   "id": "0a189648-dea0-4b40-8a15-e8895981fdfd",
   "metadata": {},
   "outputs": [],
   "source": [
    "def regret(model, flow, rewards):    \n",
    "    original_rates = model.rates\n",
    "    model.rates = model.incidence @ flow\n",
    "    best_flow = model.optimize_rates(rewards)\n",
    "    model.rates = original_rates\n",
    "    return rewards @ (best_flow - flow)"
   ]
  },
  {
   "cell_type": "code",
   "execution_count": null,
   "id": "a04900dc-453c-4af5-9fc7-eec80c650176",
   "metadata": {},
   "outputs": [],
   "source": [
    "best = fish.optimize_rates(rewards) @ rewards"
   ]
  },
  {
   "cell_type": "code",
   "execution_count": null,
   "id": "540837e1-3b8d-46d6-8500-81014d006071",
   "metadata": {},
   "outputs": [],
   "source": [
    "res[name]['regret'] = [regret(fish, flow, rewards) for flow in res[name]['flow']]"
   ]
  },
  {
   "cell_type": "code",
   "execution_count": null,
   "id": "046ddf5c-d3ac-468b-9a94-ebcc888a670a",
   "metadata": {},
   "outputs": [],
   "source": [
    "display_res(res, x_max=40, y_max=1.5)"
   ]
  }
 ],
 "metadata": {
  "kernelspec": {
   "display_name": "Python 3 (ipykernel)",
   "language": "python",
   "name": "python3"
  },
  "language_info": {
   "codemirror_mode": {
    "name": "ipython",
    "version": 3
   },
   "file_extension": ".py",
   "mimetype": "text/x-python",
   "name": "python",
   "nbconvert_exporter": "python",
   "pygments_lexer": "ipython3",
   "version": "3.12.8"
  }
 },
 "nbformat": 4,
 "nbformat_minor": 5
}
