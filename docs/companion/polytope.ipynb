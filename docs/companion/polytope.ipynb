{
 "cells": [
  {
   "cell_type": "markdown",
   "id": "d0c9c1d0-ee11-48e5-9415-90d10b24d1fb",
   "metadata": {},
   "source": [
    "# Polytope analysis"
   ]
  },
  {
   "cell_type": "markdown",
   "id": "73856f12-749f-4f69-9fbd-d57d1227af1b",
   "metadata": {},
   "source": [
    ":::warning\n",
    "WIP\n",
    "\n",
    "Soon here, all things about polytopes (vertices and such)\n",
    ":::"
   ]
  }
 ],
 "metadata": {
  "kernelspec": {
   "display_name": "Python 3 (ipykernel)",
   "language": "python",
   "name": "python3"
  },
  "language_info": {
   "codemirror_mode": {
    "name": "ipython",
    "version": 3
   },
   "file_extension": ".py",
   "mimetype": "text/x-python",
   "name": "python",
   "nbconvert_exporter": "python",
   "pygments_lexer": "ipython3",
   "version": "3.12.8"
  }
 },
 "nbformat": 4,
 "nbformat_minor": 5
}
