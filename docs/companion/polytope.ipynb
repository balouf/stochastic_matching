{
 "cells": [
  {
   "cell_type": "markdown",
   "id": "d0c9c1d0-ee11-48e5-9415-90d10b24d1fb",
   "metadata": {},
   "source": [
    "# Polytope analysis"
   ]
  },
  {
   "cell_type": "markdown",
   "id": "9103d416-8dbc-4339-9db2-8320d0b3b8a0",
   "metadata": {},
   "source": [
    "## Computing kernel basis"
   ]
  },
  {
   "cell_type": "markdown",
   "id": "d514cc11-d5e6-466e-b4ac-834e6d0aab0a",
   "metadata": {},
   "source": [
    "The graph edge kernel describes the degree of freedom of the feasible matching rates, if any."
   ]
  },
  {
   "cell_type": "markdown",
   "id": "c2e029f0-82eb-49b7-a6b0-04b6582aa3e7",
   "metadata": {},
   "source": [
    "[Stochastic Matching](https://balouf.github.io/stochastic_matching/index.html) provides tools to compute and display the edge kernel."
   ]
  },
  {
   "cell_type": "markdown",
   "id": "fe990b02-f922-47a1-acf9-70c3c1a41d4d",
   "metadata": {},
   "source": [
    "### Examples of 1-D kernels"
   ]
  },
  {
   "cell_type": "markdown",
   "id": "0ac8f1c0-f940-46af-95cf-8203ed1e442e",
   "metadata": {},
   "source": [
    "#### Diamond"
   ]
  },
  {
   "cell_type": "code",
   "execution_count": 1,
   "id": "6e547af1-0303-4ba3-bebc-e5150801c628",
   "metadata": {
    "execution": {
     "iopub.execute_input": "2025-09-23T15:30:12.967826Z",
     "iopub.status.busy": "2025-09-23T15:30:12.967826Z",
     "iopub.status.idle": "2025-09-23T15:30:14.171749Z",
     "shell.execute_reply": "2025-09-23T15:30:14.171749Z",
     "shell.execute_reply.started": "2025-09-23T15:30:12.967826Z"
    }
   },
   "outputs": [
    {
     "data": {
      "text/plain": [
       "Kernels of a graph with 4 nodes and 5 edges.\n",
       "Node dimension is 0.\n",
       "Edge dimension is 1\n",
       "Type: Surjective-only\n",
       "Node kernel:\n",
       "[]\n",
       "Edge kernel:\n",
       "[[ 1 -1  0 -1  1]]"
      ]
     },
     "execution_count": 1,
     "metadata": {},
     "output_type": "execute_result"
    }
   ],
   "source": [
    "import stochastic_matching as sm\n",
    "diamond = sm.CycleChain(names=[str(i) for i in [1, 2, 3, 4]])\n",
    "diamond.kernel"
   ]
  },
  {
   "cell_type": "code",
   "execution_count": 2,
   "id": "d3eccc78-5605-4e7f-9e0d-6ab22b0a3385",
   "metadata": {
    "execution": {
     "iopub.execute_input": "2025-09-23T15:30:14.171749Z",
     "iopub.status.busy": "2025-09-23T15:30:14.171749Z",
     "iopub.status.idle": "2025-09-23T15:30:14.176144Z",
     "shell.execute_reply": "2025-09-23T15:30:14.176144Z",
     "shell.execute_reply.started": "2025-09-23T15:30:14.171749Z"
    }
   },
   "outputs": [
    {
     "data": {
      "text/html": [
       "\n",
       "<div class=\"sm-graph\">\n",
       "<div id=\"21a02049-fcee-49f8-8435-23e65204ffd3\"></div>\n",
       "<a href=\"#\" id=\"fit-21a02049-fcee-49f8-8435-23e65204ffd3\"\n",
       "  style=\"position: absolute; left: 10px; bottom: 10px; text-decoration: none; color: #888; font-size: min(2vw, 10px);\n",
       "  z-index: 10; pointer-events: auto;\"\n",
       "> Refresh\n",
       "</a>\n",
       "<style>\n",
       ".sm-graph {\n",
       "position: relative;\n",
       "width: 100%;\n",
       "height: 50vh !important;\n",
       "max-width: 100vw;\n",
       "max-height: 100vh !important;\n",
       "}\n",
       ".sm-graph > div {\n",
       "  height: 100%;   /* Make the inner div fill the parent */\n",
       "}\n",
       "</style>\n",
       "</div>\n",
       "<script type=\"module\">\n",
       "import { DataSet, Network } from \"https://unpkg.com/vis-network/standalone/esm/vis-network.min.js\";\n",
       "// CSS will be automatically injected into the page.\n",
       "function render () {\n",
       "    const nodes = new DataSet([{\"id\": 0, \"label\": \"1\", \"title\": \"0: 1\"}, {\"id\": 1, \"label\": \"2\", \"title\": \"1: 2\"}, {\"id\": 2, \"label\": \"3\", \"title\": \"2: 3\"}, {\"id\": 3, \"label\": \"4\", \"title\": \"3: 4\"}]);\n",
       "    const edges = new DataSet([{\"title\": \"0: (1, 2)\", \"label\": \"+\\u03b11\", \"from\": 0, \"to\": 1}, {\"title\": \"1: (1, 3)\", \"label\": \"-\\u03b11\", \"from\": 0, \"to\": 2}, {\"title\": \"2: (2, 3)\", \"label\": \"\", \"color\": \"black\", \"from\": 1, \"to\": 2}, {\"title\": \"3: (2, 4)\", \"label\": \"-\\u03b11\", \"from\": 1, \"to\": 3}, {\"title\": \"4: (3, 4)\", \"label\": \"+\\u03b11\", \"from\": 2, \"to\": 3}]);\n",
       "    const data = {\n",
       "            nodes: nodes,\n",
       "            edges: edges,\n",
       "    };\n",
       "    const options = {\"interaction\": {\"navigationButtons\": false}, \"width\": \"100%\", \"height\": \"100%\"};\n",
       "    const container = document.getElementById('21a02049-fcee-49f8-8435-23e65204ffd3');\n",
       "    const network = new Network(container, data, options);\n",
       "    network.fit({maxZoomLevel: 10});\n",
       "    network.redraw();\n",
       "}\n",
       "\n",
       "render();\n",
       "document.getElementById('fit-21a02049-fcee-49f8-8435-23e65204ffd3').addEventListener('click', function(event) {\n",
       "    event.preventDefault();  // Prevent page jump\n",
       "    render(); // Adjust zoom limit as needed\n",
       "});\n",
       "</script>\n"
      ],
      "text/plain": [
       "<IPython.core.display.HTML object>"
      ]
     },
     "metadata": {},
     "output_type": "display_data"
    }
   ],
   "source": [
    "diamond.show_kernel(disp_rates=False)"
   ]
  },
  {
   "cell_type": "markdown",
   "id": "27409ee2-36a2-4ab7-99c3-b5fc65ae3bb3",
   "metadata": {},
   "source": [
    "#### Unbalanced Kayak Paddle"
   ]
  },
  {
   "cell_type": "code",
   "execution_count": 3,
   "id": "35bf3300-45c3-4fae-ab6c-b9da403e6231",
   "metadata": {
    "execution": {
     "iopub.execute_input": "2025-09-23T15:30:14.177307Z",
     "iopub.status.busy": "2025-09-23T15:30:14.177307Z",
     "iopub.status.idle": "2025-09-23T15:30:14.183998Z",
     "shell.execute_reply": "2025-09-23T15:30:14.183998Z",
     "shell.execute_reply.started": "2025-09-23T15:30:14.177307Z"
    }
   },
   "outputs": [
    {
     "data": {
      "text/plain": [
       "Kernels of a graph with 9 nodes and 10 edges.\n",
       "Node dimension is 0.\n",
       "Edge dimension is 1\n",
       "Type: Surjective-only\n",
       "Node kernel:\n",
       "[]\n",
       "Edge kernel:\n",
       "[[-1  1  1 -2  2 -1 -1  1 -1  1]]"
      ]
     },
     "execution_count": 3,
     "metadata": {},
     "output_type": "execute_result"
    }
   ],
   "source": [
    "kayak = sm.KayakPaddle(k=3,l=2,m=5, names=[str(i+1) for i in range(9)])\n",
    "kayak.kernel"
   ]
  },
  {
   "cell_type": "code",
   "execution_count": 4,
   "id": "4c18077d-f1ac-474f-b865-d301b5477cef",
   "metadata": {
    "execution": {
     "iopub.execute_input": "2025-09-23T15:30:14.185011Z",
     "iopub.status.busy": "2025-09-23T15:30:14.185011Z",
     "iopub.status.idle": "2025-09-23T15:30:14.188412Z",
     "shell.execute_reply": "2025-09-23T15:30:14.188412Z",
     "shell.execute_reply.started": "2025-09-23T15:30:14.185011Z"
    }
   },
   "outputs": [
    {
     "data": {
      "text/html": [
       "\n",
       "<div class=\"sm-graph\">\n",
       "<div id=\"1cd7f7f1-4a7f-4c98-a2c9-b6e5ebcab653\"></div>\n",
       "<a href=\"#\" id=\"fit-1cd7f7f1-4a7f-4c98-a2c9-b6e5ebcab653\"\n",
       "  style=\"position: absolute; left: 10px; bottom: 10px; text-decoration: none; color: #888; font-size: min(2vw, 10px);\n",
       "  z-index: 10; pointer-events: auto;\"\n",
       "> Refresh\n",
       "</a>\n",
       "<style>\n",
       ".sm-graph {\n",
       "position: relative;\n",
       "width: 100%;\n",
       "height: 50vh !important;\n",
       "max-width: 100vw;\n",
       "max-height: 100vh !important;\n",
       "}\n",
       ".sm-graph > div {\n",
       "  height: 100%;   /* Make the inner div fill the parent */\n",
       "}\n",
       "</style>\n",
       "</div>\n",
       "<script type=\"module\">\n",
       "import { DataSet, Network } from \"https://unpkg.com/vis-network/standalone/esm/vis-network.min.js\";\n",
       "// CSS will be automatically injected into the page.\n",
       "function render () {\n",
       "    const nodes = new DataSet([{\"id\": 0, \"label\": \"1\", \"title\": \"0: 1\"}, {\"id\": 1, \"label\": \"2\", \"title\": \"1: 2\"}, {\"id\": 2, \"label\": \"3\", \"title\": \"2: 3\"}, {\"id\": 3, \"label\": \"4\", \"title\": \"3: 4\"}, {\"id\": 4, \"label\": \"5\", \"title\": \"4: 5\"}, {\"id\": 5, \"label\": \"6\", \"title\": \"5: 6\"}, {\"id\": 6, \"label\": \"7\", \"title\": \"6: 7\"}, {\"id\": 7, \"label\": \"8\", \"title\": \"7: 8\"}, {\"id\": 8, \"label\": \"9\", \"title\": \"8: 9\"}]);\n",
       "    const edges = new DataSet([{\"title\": \"0: (1, 2)\", \"label\": \"-\\u03b11\", \"from\": 0, \"to\": 1}, {\"title\": \"1: (1, 3)\", \"label\": \"+\\u03b11\", \"from\": 0, \"to\": 2}, {\"title\": \"2: (2, 3)\", \"label\": \"+\\u03b11\", \"from\": 1, \"to\": 2}, {\"title\": \"3: (3, 4)\", \"label\": \"-2\\u03b11\", \"from\": 2, \"to\": 3}, {\"title\": \"4: (4, 5)\", \"label\": \"+2\\u03b11\", \"from\": 3, \"to\": 4}, {\"title\": \"5: (5, 6)\", \"label\": \"-\\u03b11\", \"from\": 4, \"to\": 5}, {\"title\": \"6: (5, 9)\", \"label\": \"-\\u03b11\", \"from\": 4, \"to\": 8}, {\"title\": \"7: (6, 7)\", \"label\": \"+\\u03b11\", \"from\": 5, \"to\": 6}, {\"title\": \"8: (7, 8)\", \"label\": \"-\\u03b11\", \"from\": 6, \"to\": 7}, {\"title\": \"9: (8, 9)\", \"label\": \"+\\u03b11\", \"from\": 7, \"to\": 8}]);\n",
       "    const data = {\n",
       "            nodes: nodes,\n",
       "            edges: edges,\n",
       "    };\n",
       "    const options = {\"interaction\": {\"navigationButtons\": false}, \"width\": \"100%\", \"height\": \"100%\"};\n",
       "    const container = document.getElementById('1cd7f7f1-4a7f-4c98-a2c9-b6e5ebcab653');\n",
       "    const network = new Network(container, data, options);\n",
       "    network.fit({maxZoomLevel: 10});\n",
       "    network.redraw();\n",
       "}\n",
       "\n",
       "render();\n",
       "document.getElementById('fit-1cd7f7f1-4a7f-4c98-a2c9-b6e5ebcab653').addEventListener('click', function(event) {\n",
       "    event.preventDefault();  // Prevent page jump\n",
       "    render(); // Adjust zoom limit as needed\n",
       "});\n",
       "</script>\n"
      ],
      "text/plain": [
       "<IPython.core.display.HTML object>"
      ]
     },
     "metadata": {},
     "output_type": "display_data"
    }
   ],
   "source": [
    "kayak.show_kernel(disp_rates=False)"
   ]
  },
  {
   "cell_type": "markdown",
   "id": "a8b2ed37-5816-4ea1-911e-a8d37b1bc988",
   "metadata": {},
   "source": [
    "#### Hypergraph"
   ]
  },
  {
   "cell_type": "markdown",
   "id": "708a3672-d806-4922-8e94-4239b7094a8a",
   "metadata": {},
   "source": [
    "The simplest 1-D hypergraph is two connected nodes with abandonment. The degree of liberty is then: match items or not."
   ]
  },
  {
   "cell_type": "markdown",
   "id": "ab31838d-6802-439c-b07a-684f67a986b7",
   "metadata": {},
   "source": [
    ":::note\n",
    "For hypergraphs, the kernel algorithm is optimized in a generic way, not using the edge-cycle algorithm, which only works on simple graphs.\n",
    ":::"
   ]
  },
  {
   "cell_type": "code",
   "execution_count": 5,
   "id": "302c851a-ee80-40e9-96a9-ed9497fbfd50",
   "metadata": {
    "execution": {
     "iopub.execute_input": "2025-09-23T15:30:14.189421Z",
     "iopub.status.busy": "2025-09-23T15:30:14.189421Z",
     "iopub.status.idle": "2025-09-23T15:30:14.194422Z",
     "shell.execute_reply": "2025-09-23T15:30:14.194422Z",
     "shell.execute_reply.started": "2025-09-23T15:30:14.189421Z"
    }
   },
   "outputs": [
    {
     "data": {
      "text/plain": [
       "Kernels of a graph with 2 nodes and 3 edges.\n",
       "Node dimension is 0.\n",
       "Edge dimension is 1\n",
       "Type: Surjective-only\n",
       "Node kernel:\n",
       "[]\n",
       "Edge kernel:\n",
       "[[-0.57735027 -0.57735027  0.57735027]]"
      ]
     },
     "execution_count": 5,
     "metadata": {},
     "output_type": "execute_result"
    }
   ],
   "source": [
    "two_nodes = sm.Model(incidence=[[1, 0, 1],[0, 1, 1]], names=[\"1\", \"2\"])\n",
    "two_nodes.kernel"
   ]
  },
  {
   "cell_type": "code",
   "execution_count": 6,
   "id": "f2b61b3a-e1e9-4dc8-a544-84cde240d566",
   "metadata": {
    "execution": {
     "iopub.execute_input": "2025-09-23T15:30:14.195700Z",
     "iopub.status.busy": "2025-09-23T15:30:14.195700Z",
     "iopub.status.idle": "2025-09-23T15:30:14.199590Z",
     "shell.execute_reply": "2025-09-23T15:30:14.199590Z",
     "shell.execute_reply.started": "2025-09-23T15:30:14.195700Z"
    }
   },
   "outputs": [
    {
     "data": {
      "text/html": [
       "\n",
       "<div class=\"sm-graph\">\n",
       "<div id=\"91016710-c2f5-4024-bc1e-cbcefd51675c\"></div>\n",
       "<a href=\"#\" id=\"fit-91016710-c2f5-4024-bc1e-cbcefd51675c\"\n",
       "  style=\"position: absolute; left: 10px; bottom: 10px; text-decoration: none; color: #888; font-size: min(2vw, 10px);\n",
       "  z-index: 10; pointer-events: auto;\"\n",
       "> Refresh\n",
       "</a>\n",
       "<style>\n",
       ".sm-graph {\n",
       "position: relative;\n",
       "width: 100%;\n",
       "height: 50vh !important;\n",
       "max-width: 100vw;\n",
       "max-height: 100vh !important;\n",
       "}\n",
       ".sm-graph > div {\n",
       "  height: 100%;   /* Make the inner div fill the parent */\n",
       "}\n",
       "</style>\n",
       "</div>\n",
       "<script type=\"module\">\n",
       "import { DataSet, Network } from \"https://unpkg.com/vis-network/standalone/esm/vis-network.min.js\";\n",
       "// CSS will be automatically injected into the page.\n",
       "function render () {\n",
       "    const nodes = new DataSet([{\"id\": 0, \"label\": \"1\", \"title\": \"0: 1\", \"x\": 0, \"group\": \"Node\"}, {\"id\": 1, \"label\": \"2\", \"title\": \"1: 2\", \"x\": 0, \"group\": \"Node\"}, {\"title\": \"0: (1)\", \"label\": \"-\\u03b11\", \"id\": 2, \"group\": \"HyperEdge\", \"x\": 600}, {\"title\": \"1: (2)\", \"label\": \"-1\\u03b11\", \"id\": 3, \"group\": \"HyperEdge\", \"x\": 600}, {\"title\": \"2: (1, 2)\", \"label\": \"+\\u03b11\", \"id\": 4, \"group\": \"HyperEdge\", \"x\": 600}]);\n",
       "    const edges = new DataSet([{\"from\": 0, \"to\": 2, \"title\": \"0: 1 <-> 0: (1)\"}, {\"from\": 0, \"to\": 4, \"title\": \"0: 1 <-> 2: (1, 2)\"}, {\"from\": 1, \"to\": 3, \"title\": \"1: 2 <-> 1: (2)\"}, {\"from\": 1, \"to\": 4, \"title\": \"1: 2 <-> 2: (1, 2)\"}]);\n",
       "    const data = {\n",
       "            nodes: nodes,\n",
       "            edges: edges,\n",
       "    };\n",
       "    const options = {\"interaction\": {\"navigationButtons\": false}, \"width\": \"100%\", \"height\": \"100%\", \"groups\": {\"HyperEdge\": {\"fixed\": {\"x\": false}, \"color\": {\"background\": \"black\"}, \"shape\": \"dot\", \"size\": 5}, \"Node\": {\"fixed\": {\"x\": false}}}};\n",
       "    const container = document.getElementById('91016710-c2f5-4024-bc1e-cbcefd51675c');\n",
       "    const network = new Network(container, data, options);\n",
       "    network.fit({maxZoomLevel: 10});\n",
       "    network.redraw();\n",
       "}\n",
       "\n",
       "render();\n",
       "document.getElementById('fit-91016710-c2f5-4024-bc1e-cbcefd51675c').addEventListener('click', function(event) {\n",
       "    event.preventDefault();  // Prevent page jump\n",
       "    render(); // Adjust zoom limit as needed\n",
       "});\n",
       "</script>\n"
      ],
      "text/plain": [
       "<IPython.core.display.HTML object>"
      ]
     },
     "metadata": {},
     "output_type": "display_data"
    }
   ],
   "source": [
    "two_nodes.show_kernel(disp_rates=False)"
   ]
  },
  {
   "cell_type": "markdown",
   "id": "eba32550-267f-4744-a48b-849bb04c7231",
   "metadata": {},
   "source": [
    "### Examples of 2-D kernels"
   ]
  },
  {
   "cell_type": "markdown",
   "id": "dd795d84-a04d-4c6b-aa41-097863a9d586",
   "metadata": {},
   "source": [
    "#### Co-Domino"
   ]
  },
  {
   "cell_type": "code",
   "execution_count": 7,
   "id": "ee091868-d9a0-4e57-b8bf-ec1c88dbb700",
   "metadata": {
    "execution": {
     "iopub.execute_input": "2025-09-23T15:30:14.200596Z",
     "iopub.status.busy": "2025-09-23T15:30:14.200596Z",
     "iopub.status.idle": "2025-09-23T15:30:14.205203Z",
     "shell.execute_reply": "2025-09-23T15:30:14.205203Z",
     "shell.execute_reply.started": "2025-09-23T15:30:14.200596Z"
    }
   },
   "outputs": [
    {
     "data": {
      "text/plain": [
       "Kernels of a graph with 6 nodes and 8 edges.\n",
       "Node dimension is 0.\n",
       "Edge dimension is 2\n",
       "Type: Surjective-only\n",
       "Node kernel:\n",
       "[]\n",
       "Edge kernel:\n",
       "[[ 0  0  1 -1 -1  1  0  0]\n",
       " [ 1 -1  0 -1  1  0 -1  1]]"
      ]
     },
     "execution_count": 7,
     "metadata": {},
     "output_type": "execute_result"
    }
   ],
   "source": [
    "codomino = sm.Codomino(names=[\"1\", \"2\", \"6\", \"5\", \"3\", \"4\"])\n",
    "codomino.kernel"
   ]
  },
  {
   "cell_type": "code",
   "execution_count": 8,
   "id": "35b0c7bb-cf1e-454c-a176-6012fad1ed29",
   "metadata": {
    "execution": {
     "iopub.execute_input": "2025-09-23T15:30:14.206212Z",
     "iopub.status.busy": "2025-09-23T15:30:14.205203Z",
     "iopub.status.idle": "2025-09-23T15:30:14.210506Z",
     "shell.execute_reply": "2025-09-23T15:30:14.210506Z",
     "shell.execute_reply.started": "2025-09-23T15:30:14.206212Z"
    }
   },
   "outputs": [
    {
     "data": {
      "text/html": [
       "\n",
       "<div class=\"sm-graph\">\n",
       "<div id=\"41ce0752-77b4-456c-9886-011acbf69ca8\"></div>\n",
       "<a href=\"#\" id=\"fit-41ce0752-77b4-456c-9886-011acbf69ca8\"\n",
       "  style=\"position: absolute; left: 10px; bottom: 10px; text-decoration: none; color: #888; font-size: min(2vw, 10px);\n",
       "  z-index: 10; pointer-events: auto;\"\n",
       "> Refresh\n",
       "</a>\n",
       "<style>\n",
       ".sm-graph {\n",
       "position: relative;\n",
       "width: 100%;\n",
       "height: 50vh !important;\n",
       "max-width: 100vw;\n",
       "max-height: 100vh !important;\n",
       "}\n",
       ".sm-graph > div {\n",
       "  height: 100%;   /* Make the inner div fill the parent */\n",
       "}\n",
       "</style>\n",
       "</div>\n",
       "<script type=\"module\">\n",
       "import { DataSet, Network } from \"https://unpkg.com/vis-network/standalone/esm/vis-network.min.js\";\n",
       "// CSS will be automatically injected into the page.\n",
       "function render () {\n",
       "    const nodes = new DataSet([{\"id\": 0, \"label\": \"1\", \"title\": \"0: 1\"}, {\"id\": 1, \"label\": \"2\", \"title\": \"1: 2\"}, {\"id\": 2, \"label\": \"6\", \"title\": \"2: 6\"}, {\"id\": 3, \"label\": \"5\", \"title\": \"3: 5\"}, {\"id\": 4, \"label\": \"3\", \"title\": \"4: 3\"}, {\"id\": 5, \"label\": \"4\", \"title\": \"5: 4\"}]);\n",
       "    const edges = new DataSet([{\"title\": \"0: (1, 2)\", \"label\": \"+\\u03b12\", \"from\": 0, \"to\": 1}, {\"title\": \"1: (1, 6)\", \"label\": \"-\\u03b12\", \"from\": 0, \"to\": 2}, {\"title\": \"2: (2, 6)\", \"label\": \"+\\u03b11\", \"from\": 1, \"to\": 2}, {\"title\": \"3: (2, 3)\", \"label\": \"-\\u03b11-\\u03b12\", \"from\": 1, \"to\": 4}, {\"title\": \"4: (6, 5)\", \"label\": \"-\\u03b11+\\u03b12\", \"from\": 2, \"to\": 3}, {\"title\": \"5: (5, 3)\", \"label\": \"+\\u03b11\", \"from\": 3, \"to\": 4}, {\"title\": \"6: (5, 4)\", \"label\": \"-\\u03b12\", \"from\": 3, \"to\": 5}, {\"title\": \"7: (3, 4)\", \"label\": \"+\\u03b12\", \"from\": 4, \"to\": 5}]);\n",
       "    const data = {\n",
       "            nodes: nodes,\n",
       "            edges: edges,\n",
       "    };\n",
       "    const options = {\"interaction\": {\"navigationButtons\": false}, \"width\": \"100%\", \"height\": \"100%\"};\n",
       "    const container = document.getElementById('41ce0752-77b4-456c-9886-011acbf69ca8');\n",
       "    const network = new Network(container, data, options);\n",
       "    network.fit({maxZoomLevel: 10});\n",
       "    network.redraw();\n",
       "}\n",
       "\n",
       "render();\n",
       "document.getElementById('fit-41ce0752-77b4-456c-9886-011acbf69ca8').addEventListener('click', function(event) {\n",
       "    event.preventDefault();  // Prevent page jump\n",
       "    render(); // Adjust zoom limit as needed\n",
       "});\n",
       "</script>\n"
      ],
      "text/plain": [
       "<IPython.core.display.HTML object>"
      ]
     },
     "metadata": {},
     "output_type": "display_data"
    }
   ],
   "source": [
    "codomino.show_kernel(disp_rates=False)"
   ]
  },
  {
   "cell_type": "markdown",
   "id": "7a7585ba-8703-4a92-a3e7-145fc44deb55",
   "metadata": {},
   "source": [
    "For multi-dimensional kernels, the possible basis are not unique. However, one can hint at a specific basis by specifying *seed* edges (cf paper)."
   ]
  },
  {
   "cell_type": "code",
   "execution_count": 9,
   "id": "8cf2c938-4ff9-4c0b-ab4c-f72b00771b02",
   "metadata": {
    "execution": {
     "iopub.execute_input": "2025-09-23T15:30:14.211518Z",
     "iopub.status.busy": "2025-09-23T15:30:14.211518Z",
     "iopub.status.idle": "2025-09-23T15:30:14.215212Z",
     "shell.execute_reply": "2025-09-23T15:30:14.215212Z",
     "shell.execute_reply.started": "2025-09-23T15:30:14.211518Z"
    }
   },
   "outputs": [
    {
     "data": {
      "text/plain": [
       "Kernels of a graph with 6 nodes and 8 edges.\n",
       "Node dimension is 0.\n",
       "Edge dimension is 2\n",
       "Type: Surjective-only\n",
       "Node kernel:\n",
       "[]\n",
       "Edge kernel:\n",
       "[[ 1 -1 -1  0  2 -1 -1  1]\n",
       " [ 0  0 -1  1  1 -1  0  0]]"
      ]
     },
     "execution_count": 9,
     "metadata": {},
     "output_type": "execute_result"
    }
   ],
   "source": [
    "codomino.seeds = [0, 3]\n",
    "codomino.kernel"
   ]
  },
  {
   "cell_type": "code",
   "execution_count": 10,
   "id": "15115502-698b-4f68-b919-cd824f6fa82e",
   "metadata": {
    "execution": {
     "iopub.execute_input": "2025-09-23T15:30:14.215212Z",
     "iopub.status.busy": "2025-09-23T15:30:14.215212Z",
     "iopub.status.idle": "2025-09-23T15:30:14.220349Z",
     "shell.execute_reply": "2025-09-23T15:30:14.220349Z",
     "shell.execute_reply.started": "2025-09-23T15:30:14.215212Z"
    }
   },
   "outputs": [
    {
     "data": {
      "text/html": [
       "\n",
       "<div class=\"sm-graph\">\n",
       "<div id=\"768553f4-0c86-4718-8adc-df144000590e\"></div>\n",
       "<a href=\"#\" id=\"fit-768553f4-0c86-4718-8adc-df144000590e\"\n",
       "  style=\"position: absolute; left: 10px; bottom: 10px; text-decoration: none; color: #888; font-size: min(2vw, 10px);\n",
       "  z-index: 10; pointer-events: auto;\"\n",
       "> Refresh\n",
       "</a>\n",
       "<style>\n",
       ".sm-graph {\n",
       "position: relative;\n",
       "width: 100%;\n",
       "height: 50vh !important;\n",
       "max-width: 100vw;\n",
       "max-height: 100vh !important;\n",
       "}\n",
       ".sm-graph > div {\n",
       "  height: 100%;   /* Make the inner div fill the parent */\n",
       "}\n",
       "</style>\n",
       "</div>\n",
       "<script type=\"module\">\n",
       "import { DataSet, Network } from \"https://unpkg.com/vis-network/standalone/esm/vis-network.min.js\";\n",
       "// CSS will be automatically injected into the page.\n",
       "function render () {\n",
       "    const nodes = new DataSet([{\"id\": 0, \"label\": \"1\", \"title\": \"0: 1\"}, {\"id\": 1, \"label\": \"2\", \"title\": \"1: 2\"}, {\"id\": 2, \"label\": \"6\", \"title\": \"2: 6\"}, {\"id\": 3, \"label\": \"5\", \"title\": \"3: 5\"}, {\"id\": 4, \"label\": \"3\", \"title\": \"4: 3\"}, {\"id\": 5, \"label\": \"4\", \"title\": \"5: 4\"}]);\n",
       "    const edges = new DataSet([{\"title\": \"0: (1, 2)\", \"label\": \"+\\u03b11\", \"from\": 0, \"to\": 1}, {\"title\": \"1: (1, 6)\", \"label\": \"-\\u03b11\", \"from\": 0, \"to\": 2}, {\"title\": \"2: (2, 6)\", \"label\": \"-\\u03b11-\\u03b12\", \"from\": 1, \"to\": 2}, {\"title\": \"3: (2, 3)\", \"label\": \"+\\u03b12\", \"from\": 1, \"to\": 4}, {\"title\": \"4: (6, 5)\", \"label\": \"+2\\u03b11+\\u03b12\", \"from\": 2, \"to\": 3}, {\"title\": \"5: (5, 3)\", \"label\": \"-\\u03b11-\\u03b12\", \"from\": 3, \"to\": 4}, {\"title\": \"6: (5, 4)\", \"label\": \"-\\u03b11\", \"from\": 3, \"to\": 5}, {\"title\": \"7: (3, 4)\", \"label\": \"+\\u03b11\", \"from\": 4, \"to\": 5}]);\n",
       "    const data = {\n",
       "            nodes: nodes,\n",
       "            edges: edges,\n",
       "    };\n",
       "    const options = {\"interaction\": {\"navigationButtons\": false}, \"width\": \"100%\", \"height\": \"100%\"};\n",
       "    const container = document.getElementById('768553f4-0c86-4718-8adc-df144000590e');\n",
       "    const network = new Network(container, data, options);\n",
       "    network.fit({maxZoomLevel: 10});\n",
       "    network.redraw();\n",
       "}\n",
       "\n",
       "render();\n",
       "document.getElementById('fit-768553f4-0c86-4718-8adc-df144000590e').addEventListener('click', function(event) {\n",
       "    event.preventDefault();  // Prevent page jump\n",
       "    render(); // Adjust zoom limit as needed\n",
       "});\n",
       "</script>\n"
      ],
      "text/plain": [
       "<IPython.core.display.HTML object>"
      ]
     },
     "metadata": {},
     "output_type": "display_data"
    }
   ],
   "source": [
    "codomino.show_kernel(disp_rates=False)"
   ]
  },
  {
   "cell_type": "markdown",
   "id": "4b8c0658-4baa-4900-96b9-13dc22325e04",
   "metadata": {},
   "source": [
    "#### Triamond"
   ]
  },
  {
   "cell_type": "code",
   "execution_count": 11,
   "id": "2ececa72-bd4b-46d1-96ee-4473e8ba50b7",
   "metadata": {
    "execution": {
     "iopub.execute_input": "2025-09-23T15:30:14.221358Z",
     "iopub.status.busy": "2025-09-23T15:30:14.221358Z",
     "iopub.status.idle": "2025-09-23T15:30:14.225936Z",
     "shell.execute_reply": "2025-09-23T15:30:14.225936Z",
     "shell.execute_reply.started": "2025-09-23T15:30:14.221358Z"
    }
   },
   "outputs": [
    {
     "data": {
      "text/html": [
       "\n",
       "<div class=\"sm-graph\">\n",
       "<div id=\"fad0c70f-2b1a-4182-8f9c-61efa262381e\"></div>\n",
       "<a href=\"#\" id=\"fit-fad0c70f-2b1a-4182-8f9c-61efa262381e\"\n",
       "  style=\"position: absolute; left: 10px; bottom: 10px; text-decoration: none; color: #888; font-size: min(2vw, 10px);\n",
       "  z-index: 10; pointer-events: auto;\"\n",
       "> Refresh\n",
       "</a>\n",
       "<style>\n",
       ".sm-graph {\n",
       "position: relative;\n",
       "width: 100%;\n",
       "height: 50vh !important;\n",
       "max-width: 100vw;\n",
       "max-height: 100vh !important;\n",
       "}\n",
       ".sm-graph > div {\n",
       "  height: 100%;   /* Make the inner div fill the parent */\n",
       "}\n",
       "</style>\n",
       "</div>\n",
       "<script type=\"module\">\n",
       "import { DataSet, Network } from \"https://unpkg.com/vis-network/standalone/esm/vis-network.min.js\";\n",
       "// CSS will be automatically injected into the page.\n",
       "function render () {\n",
       "    const nodes = new DataSet([{\"id\": 0, \"label\": \"1\", \"title\": \"0: 1\"}, {\"id\": 1, \"label\": \"5\", \"title\": \"1: 5\"}, {\"id\": 2, \"label\": \"2\", \"title\": \"2: 2\"}, {\"id\": 3, \"label\": \"4\", \"title\": \"3: 4\"}, {\"id\": 4, \"label\": \"3\", \"title\": \"4: 3\"}]);\n",
       "    const edges = new DataSet([{\"title\": \"0: (1, 5)\", \"label\": \"-\\u03b11\", \"from\": 0, \"to\": 1}, {\"title\": \"1: (1, 2)\", \"label\": \"+\\u03b11\", \"from\": 0, \"to\": 2}, {\"title\": \"2: (5, 2)\", \"label\": \"+\\u03b11-\\u03b12\", \"from\": 1, \"to\": 2}, {\"title\": \"3: (5, 4)\", \"label\": \"+\\u03b12\", \"from\": 1, \"to\": 3}, {\"title\": \"4: (2, 4)\", \"label\": \"-\\u03b11\", \"from\": 2, \"to\": 3}, {\"title\": \"5: (2, 3)\", \"label\": \"-\\u03b11+\\u03b12\", \"from\": 2, \"to\": 4}, {\"title\": \"6: (4, 3)\", \"label\": \"+\\u03b11-\\u03b12\", \"from\": 3, \"to\": 4}]);\n",
       "    const data = {\n",
       "            nodes: nodes,\n",
       "            edges: edges,\n",
       "    };\n",
       "    const options = {\"interaction\": {\"navigationButtons\": false}, \"width\": \"100%\", \"height\": \"100%\"};\n",
       "    const container = document.getElementById('fad0c70f-2b1a-4182-8f9c-61efa262381e');\n",
       "    const network = new Network(container, data, options);\n",
       "    network.fit({maxZoomLevel: 10});\n",
       "    network.redraw();\n",
       "}\n",
       "\n",
       "render();\n",
       "document.getElementById('fit-fad0c70f-2b1a-4182-8f9c-61efa262381e').addEventListener('click', function(event) {\n",
       "    event.preventDefault();  // Prevent page jump\n",
       "    render(); // Adjust zoom limit as needed\n",
       "});\n",
       "</script>\n"
      ],
      "text/plain": [
       "<IPython.core.display.HTML object>"
      ]
     },
     "metadata": {},
     "output_type": "display_data"
    }
   ],
   "source": [
    "triamond = sm.CycleChain(c=3, names=[str(i) for i in [1, 5, 2, 4, 3]])\n",
    "triamond.seeds = [1, 3]\n",
    "triamond.show_kernel(disp_rates=False)"
   ]
  },
  {
   "cell_type": "code",
   "execution_count": 12,
   "id": "205b5e0e-4880-4f86-8fbd-f746e307c46e",
   "metadata": {
    "execution": {
     "iopub.execute_input": "2025-09-23T15:30:14.226943Z",
     "iopub.status.busy": "2025-09-23T15:30:14.226943Z",
     "iopub.status.idle": "2025-09-23T15:30:14.230223Z",
     "shell.execute_reply": "2025-09-23T15:30:14.230223Z",
     "shell.execute_reply.started": "2025-09-23T15:30:14.226943Z"
    }
   },
   "outputs": [
    {
     "data": {
      "text/html": [
       "\n",
       "<div class=\"sm-graph\">\n",
       "<div id=\"c88dc648-2105-4851-93dd-2bd9ded88543\"></div>\n",
       "<a href=\"#\" id=\"fit-c88dc648-2105-4851-93dd-2bd9ded88543\"\n",
       "  style=\"position: absolute; left: 10px; bottom: 10px; text-decoration: none; color: #888; font-size: min(2vw, 10px);\n",
       "  z-index: 10; pointer-events: auto;\"\n",
       "> Refresh\n",
       "</a>\n",
       "<style>\n",
       ".sm-graph {\n",
       "position: relative;\n",
       "width: 100%;\n",
       "height: 50vh !important;\n",
       "max-width: 100vw;\n",
       "max-height: 100vh !important;\n",
       "}\n",
       ".sm-graph > div {\n",
       "  height: 100%;   /* Make the inner div fill the parent */\n",
       "}\n",
       "</style>\n",
       "</div>\n",
       "<script type=\"module\">\n",
       "import { DataSet, Network } from \"https://unpkg.com/vis-network/standalone/esm/vis-network.min.js\";\n",
       "// CSS will be automatically injected into the page.\n",
       "function render () {\n",
       "    const nodes = new DataSet([{\"id\": 0, \"label\": \"1\", \"title\": \"0: 1\"}, {\"id\": 1, \"label\": \"5\", \"title\": \"1: 5\"}, {\"id\": 2, \"label\": \"2\", \"title\": \"2: 2\"}, {\"id\": 3, \"label\": \"4\", \"title\": \"3: 4\"}, {\"id\": 4, \"label\": \"3\", \"title\": \"4: 3\"}]);\n",
       "    const edges = new DataSet([{\"title\": \"0: (1, 5)\", \"label\": \"+\\u03b11\", \"from\": 0, \"to\": 1}, {\"title\": \"1: (1, 2)\", \"label\": \"-\\u03b11\", \"from\": 0, \"to\": 2}, {\"title\": \"2: (5, 2)\", \"label\": \"+\\u03b12\", \"from\": 1, \"to\": 2}, {\"title\": \"3: (5, 4)\", \"label\": \"-\\u03b11-\\u03b12\", \"from\": 1, \"to\": 3}, {\"title\": \"4: (2, 4)\", \"label\": \"+\\u03b11\", \"from\": 2, \"to\": 3}, {\"title\": \"5: (2, 3)\", \"label\": \"-\\u03b12\", \"from\": 2, \"to\": 4}, {\"title\": \"6: (4, 3)\", \"label\": \"+\\u03b12\", \"from\": 3, \"to\": 4}]);\n",
       "    const data = {\n",
       "            nodes: nodes,\n",
       "            edges: edges,\n",
       "    };\n",
       "    const options = {\"interaction\": {\"navigationButtons\": false}, \"width\": \"100%\", \"height\": \"100%\"};\n",
       "    const container = document.getElementById('c88dc648-2105-4851-93dd-2bd9ded88543');\n",
       "    const network = new Network(container, data, options);\n",
       "    network.fit({maxZoomLevel: 10});\n",
       "    network.redraw();\n",
       "}\n",
       "\n",
       "render();\n",
       "document.getElementById('fit-c88dc648-2105-4851-93dd-2bd9ded88543').addEventListener('click', function(event) {\n",
       "    event.preventDefault();  // Prevent page jump\n",
       "    render(); // Adjust zoom limit as needed\n",
       "});\n",
       "</script>\n"
      ],
      "text/plain": [
       "<IPython.core.display.HTML object>"
      ]
     },
     "metadata": {},
     "output_type": "display_data"
    }
   ],
   "source": [
    "triamond.seeds = [4, 2]\n",
    "triamond.show_kernel(disp_rates=False)"
   ]
  },
  {
   "cell_type": "markdown",
   "id": "32f7d9b9-e974-4814-85c6-460af914140d",
   "metadata": {},
   "source": [
    "## Vertices"
   ]
  },
  {
   "cell_type": "markdown",
   "id": "57d8c934-da80-4b54-9229-a65091a20234",
   "metadata": {},
   "source": [
    "### Co-domino variations"
   ]
  },
  {
   "cell_type": "markdown",
   "id": "c16fa30a-f2c3-472d-bd36-665d59eae689",
   "metadata": {},
   "source": [
    "Just by changing the arrival rates, one can change a lot the properties of the polytope of feasible matching rates. Using the codomino graph (one of the smallest possible simple graph with a 2-D kernel), one can observe how different the polytope can be."
   ]
  },
  {
   "cell_type": "markdown",
   "id": "04ecb5d0-6e62-451a-aec5-fc992028378e",
   "metadata": {},
   "source": [
    "#### Mix of injective-only and bijective vertices"
   ]
  },
  {
   "cell_type": "markdown",
   "id": "8d6b922f-19f6-4552-a27f-e3d94aacadc8",
   "metadata": {},
   "source": [
    "By default, arrival rates are proportional to node degrees. This often yields to many injective-only vertices, as shown by the codomino."
   ]
  },
  {
   "cell_type": "code",
   "execution_count": 13,
   "id": "32c660fa-e74e-4151-b11b-5f6bda3e7878",
   "metadata": {
    "execution": {
     "iopub.execute_input": "2025-09-23T15:30:14.230223Z",
     "iopub.status.busy": "2025-09-23T15:30:14.230223Z",
     "iopub.status.idle": "2025-09-23T15:30:14.235804Z",
     "shell.execute_reply": "2025-09-23T15:30:14.234795Z",
     "shell.execute_reply.started": "2025-09-23T15:30:14.230223Z"
    }
   },
   "outputs": [
    {
     "data": {
      "text/html": [
       "\n",
       "<div class=\"sm-graph\">\n",
       "<div id=\"321a1235-b108-4618-9104-6d12c6ee6ce1\"></div>\n",
       "<a href=\"#\" id=\"fit-321a1235-b108-4618-9104-6d12c6ee6ce1\"\n",
       "  style=\"position: absolute; left: 10px; bottom: 10px; text-decoration: none; color: #888; font-size: min(2vw, 10px);\n",
       "  z-index: 10; pointer-events: auto;\"\n",
       "> Refresh\n",
       "</a>\n",
       "<style>\n",
       ".sm-graph {\n",
       "position: relative;\n",
       "width: 100%;\n",
       "height: 50vh !important;\n",
       "max-width: 100vw;\n",
       "max-height: 100vh !important;\n",
       "}\n",
       ".sm-graph > div {\n",
       "  height: 100%;   /* Make the inner div fill the parent */\n",
       "}\n",
       "</style>\n",
       "</div>\n",
       "<script type=\"module\">\n",
       "import { DataSet, Network } from \"https://unpkg.com/vis-network/standalone/esm/vis-network.min.js\";\n",
       "// CSS will be automatically injected into the page.\n",
       "function render () {\n",
       "    const nodes = new DataSet([{\"id\": 0, \"label\": \"1\", \"title\": \"0: 1\"}, {\"id\": 1, \"label\": \"2\", \"title\": \"1: 2\"}, {\"id\": 2, \"label\": \"6\", \"title\": \"2: 6\"}, {\"id\": 3, \"label\": \"5\", \"title\": \"3: 5\"}, {\"id\": 4, \"label\": \"3\", \"title\": \"4: 3\"}, {\"id\": 5, \"label\": \"4\", \"title\": \"5: 4\"}]);\n",
       "    const edges = new DataSet([{\"title\": \"0: (1, 2)\", \"label\": \"1-\\u03b11\", \"from\": 0, \"to\": 1}, {\"title\": \"1: (1, 6)\", \"label\": \"1+\\u03b11\", \"from\": 0, \"to\": 2}, {\"title\": \"2: (2, 6)\", \"label\": \"1+\\u03b12\", \"from\": 1, \"to\": 2}, {\"title\": \"3: (2, 3)\", \"label\": \"1+\\u03b11-\\u03b12\", \"from\": 1, \"to\": 4}, {\"title\": \"4: (6, 5)\", \"label\": \"1-\\u03b11-\\u03b12\", \"from\": 2, \"to\": 3}, {\"title\": \"5: (5, 3)\", \"label\": \"1+\\u03b12\", \"from\": 3, \"to\": 4}, {\"title\": \"6: (5, 4)\", \"label\": \"1+\\u03b11\", \"from\": 3, \"to\": 5}, {\"title\": \"7: (3, 4)\", \"label\": \"1-\\u03b11\", \"from\": 4, \"to\": 5}]);\n",
       "    const data = {\n",
       "            nodes: nodes,\n",
       "            edges: edges,\n",
       "    };\n",
       "    const options = {\"interaction\": {\"navigationButtons\": false}, \"width\": \"100%\", \"height\": \"100%\"};\n",
       "    const container = document.getElementById('321a1235-b108-4618-9104-6d12c6ee6ce1');\n",
       "    const network = new Network(container, data, options);\n",
       "    network.fit({maxZoomLevel: 10});\n",
       "    network.redraw();\n",
       "}\n",
       "\n",
       "render();\n",
       "document.getElementById('fit-321a1235-b108-4618-9104-6d12c6ee6ce1').addEventListener('click', function(event) {\n",
       "    event.preventDefault();  // Prevent page jump\n",
       "    render(); // Adjust zoom limit as needed\n",
       "});\n",
       "</script>\n"
      ],
      "text/plain": [
       "<IPython.core.display.HTML object>"
      ]
     },
     "metadata": {},
     "output_type": "display_data"
    }
   ],
   "source": [
    "codomino.seeds = [1, 2] # We use the seeds to select a kernel basis\n",
    "codomino.show_kernel(disp_flow=True, disp_rates=False)"
   ]
  },
  {
   "cell_type": "code",
   "execution_count": 14,
   "id": "085c2c70-a3a8-4b14-a8c5-c1cfc7d2d671",
   "metadata": {
    "execution": {
     "iopub.execute_input": "2025-09-23T15:30:14.236802Z",
     "iopub.status.busy": "2025-09-23T15:30:14.235804Z",
     "iopub.status.idle": "2025-09-23T15:30:14.252159Z",
     "shell.execute_reply": "2025-09-23T15:30:14.251646Z",
     "shell.execute_reply.started": "2025-09-23T15:30:14.236802Z"
    }
   },
   "outputs": [
    {
     "data": {
      "text/html": [
       "\n",
       "<div class=\"sm-graph\">\n",
       "<div id=\"8e3c1660-2294-46a7-851c-87c1fea1a996\"></div>\n",
       "<a href=\"#\" id=\"fit-8e3c1660-2294-46a7-851c-87c1fea1a996\"\n",
       "  style=\"position: absolute; left: 10px; bottom: 10px; text-decoration: none; color: #888; font-size: min(2vw, 10px);\n",
       "  z-index: 10; pointer-events: auto;\"\n",
       "> Refresh\n",
       "</a>\n",
       "<style>\n",
       ".sm-graph {\n",
       "position: relative;\n",
       "width: 100%;\n",
       "height: 50vh !important;\n",
       "max-width: 100vw;\n",
       "max-height: 100vh !important;\n",
       "}\n",
       ".sm-graph > div {\n",
       "  height: 100%;   /* Make the inner div fill the parent */\n",
       "}\n",
       "</style>\n",
       "</div>\n",
       "<script type=\"module\">\n",
       "import { DataSet, Network } from \"https://unpkg.com/vis-network/standalone/esm/vis-network.min.js\";\n",
       "// CSS will be automatically injected into the page.\n",
       "function render () {\n",
       "    const nodes = new DataSet([{\"id\": 0, \"label\": \"1\", \"title\": \"0: 1\"}, {\"id\": 1, \"label\": \"2\", \"title\": \"1: 2\"}, {\"id\": 2, \"label\": \"6\", \"title\": \"2: 6\"}, {\"id\": 3, \"label\": \"5\", \"title\": \"3: 5\"}, {\"id\": 4, \"label\": \"3\", \"title\": \"4: 3\"}, {\"id\": 5, \"label\": \"4\", \"title\": \"5: 4\"}]);\n",
       "    const edges = new DataSet([{\"title\": \"0: (1, 2)\", \"label\": \"2\", \"color\": \"blue\", \"from\": 0, \"to\": 1}, {\"title\": \"1: (1, 6)\", \"label\": \"\", \"color\": \"orange\", \"from\": 0, \"to\": 2}, {\"title\": \"2: (2, 6)\", \"label\": \"\", \"color\": \"orange\", \"from\": 1, \"to\": 2}, {\"title\": \"3: (2, 3)\", \"label\": \"1\", \"color\": \"blue\", \"from\": 1, \"to\": 4}, {\"title\": \"4: (6, 5)\", \"label\": \"3\", \"color\": \"blue\", \"from\": 2, \"to\": 3}, {\"title\": \"5: (5, 3)\", \"label\": \"\", \"color\": \"orange\", \"from\": 3, \"to\": 4}, {\"title\": \"6: (5, 4)\", \"label\": \"\", \"color\": \"orange\", \"from\": 3, \"to\": 5}, {\"title\": \"7: (3, 4)\", \"label\": \"2\", \"color\": \"blue\", \"from\": 4, \"to\": 5}]);\n",
       "    const data = {\n",
       "            nodes: nodes,\n",
       "            edges: edges,\n",
       "    };\n",
       "    const options = {\"interaction\": {\"navigationButtons\": false}, \"width\": \"100%\", \"height\": \"100%\"};\n",
       "    const container = document.getElementById('8e3c1660-2294-46a7-851c-87c1fea1a996');\n",
       "    const network = new Network(container, data, options);\n",
       "    network.fit({maxZoomLevel: 10});\n",
       "    network.redraw();\n",
       "}\n",
       "\n",
       "render();\n",
       "document.getElementById('fit-8e3c1660-2294-46a7-851c-87c1fea1a996').addEventListener('click', function(event) {\n",
       "    event.preventDefault();  // Prevent page jump\n",
       "    render(); // Adjust zoom limit as needed\n",
       "});\n",
       "</script>\n"
      ],
      "text/plain": [
       "<IPython.core.display.HTML object>"
      ]
     },
     "metadata": {},
     "output_type": "display_data"
    },
    {
     "name": "stdout",
     "output_type": "stream",
     "text": [
      "Vertex of coordinates [2. 0. 0. 1. 3. 0. 0. 2.] (edge) / [-1. -1.] (kernel) is injective.\n"
     ]
    },
    {
     "data": {
      "text/html": [
       "\n",
       "<div class=\"sm-graph\">\n",
       "<div id=\"bfa31b8f-66e2-412d-8c48-95a4236a2216\"></div>\n",
       "<a href=\"#\" id=\"fit-bfa31b8f-66e2-412d-8c48-95a4236a2216\"\n",
       "  style=\"position: absolute; left: 10px; bottom: 10px; text-decoration: none; color: #888; font-size: min(2vw, 10px);\n",
       "  z-index: 10; pointer-events: auto;\"\n",
       "> Refresh\n",
       "</a>\n",
       "<style>\n",
       ".sm-graph {\n",
       "position: relative;\n",
       "width: 100%;\n",
       "height: 50vh !important;\n",
       "max-width: 100vw;\n",
       "max-height: 100vh !important;\n",
       "}\n",
       ".sm-graph > div {\n",
       "  height: 100%;   /* Make the inner div fill the parent */\n",
       "}\n",
       "</style>\n",
       "</div>\n",
       "<script type=\"module\">\n",
       "import { DataSet, Network } from \"https://unpkg.com/vis-network/standalone/esm/vis-network.min.js\";\n",
       "// CSS will be automatically injected into the page.\n",
       "function render () {\n",
       "    const nodes = new DataSet([{\"id\": 0, \"label\": \"1\", \"title\": \"0: 1\"}, {\"id\": 1, \"label\": \"2\", \"title\": \"1: 2\"}, {\"id\": 2, \"label\": \"6\", \"title\": \"2: 6\"}, {\"id\": 3, \"label\": \"5\", \"title\": \"3: 5\"}, {\"id\": 4, \"label\": \"3\", \"title\": \"4: 3\"}, {\"id\": 5, \"label\": \"4\", \"title\": \"5: 4\"}]);\n",
       "    const edges = new DataSet([{\"title\": \"0: (1, 2)\", \"label\": \"2\", \"color\": \"blue\", \"from\": 0, \"to\": 1}, {\"title\": \"1: (1, 6)\", \"label\": \"\", \"color\": \"orange\", \"from\": 0, \"to\": 2}, {\"title\": \"2: (2, 6)\", \"label\": \"1\", \"color\": \"blue\", \"from\": 1, \"to\": 2}, {\"title\": \"3: (2, 3)\", \"label\": \"\", \"color\": \"orange\", \"from\": 1, \"to\": 4}, {\"title\": \"4: (6, 5)\", \"label\": \"2\", \"color\": \"blue\", \"from\": 2, \"to\": 3}, {\"title\": \"5: (5, 3)\", \"label\": \"1\", \"color\": \"blue\", \"from\": 3, \"to\": 4}, {\"title\": \"6: (5, 4)\", \"label\": \"\", \"color\": \"orange\", \"from\": 3, \"to\": 5}, {\"title\": \"7: (3, 4)\", \"label\": \"2\", \"color\": \"blue\", \"from\": 4, \"to\": 5}]);\n",
       "    const data = {\n",
       "            nodes: nodes,\n",
       "            edges: edges,\n",
       "    };\n",
       "    const options = {\"interaction\": {\"navigationButtons\": false}, \"width\": \"100%\", \"height\": \"100%\"};\n",
       "    const container = document.getElementById('bfa31b8f-66e2-412d-8c48-95a4236a2216');\n",
       "    const network = new Network(container, data, options);\n",
       "    network.fit({maxZoomLevel: 10});\n",
       "    network.redraw();\n",
       "}\n",
       "\n",
       "render();\n",
       "document.getElementById('fit-bfa31b8f-66e2-412d-8c48-95a4236a2216').addEventListener('click', function(event) {\n",
       "    event.preventDefault();  // Prevent page jump\n",
       "    render(); // Adjust zoom limit as needed\n",
       "});\n",
       "</script>\n"
      ],
      "text/plain": [
       "<IPython.core.display.HTML object>"
      ]
     },
     "metadata": {},
     "output_type": "display_data"
    },
    {
     "name": "stdout",
     "output_type": "stream",
     "text": [
      "Vertex of coordinates [2. 0. 1. 0. 2. 1. 0. 2.] (edge) / [-1.  0.] (kernel) is injective.\n"
     ]
    },
    {
     "data": {
      "text/html": [
       "\n",
       "<div class=\"sm-graph\">\n",
       "<div id=\"246e8ad6-d15f-4d0f-842a-3c5203256952\"></div>\n",
       "<a href=\"#\" id=\"fit-246e8ad6-d15f-4d0f-842a-3c5203256952\"\n",
       "  style=\"position: absolute; left: 10px; bottom: 10px; text-decoration: none; color: #888; font-size: min(2vw, 10px);\n",
       "  z-index: 10; pointer-events: auto;\"\n",
       "> Refresh\n",
       "</a>\n",
       "<style>\n",
       ".sm-graph {\n",
       "position: relative;\n",
       "width: 100%;\n",
       "height: 50vh !important;\n",
       "max-width: 100vw;\n",
       "max-height: 100vh !important;\n",
       "}\n",
       ".sm-graph > div {\n",
       "  height: 100%;   /* Make the inner div fill the parent */\n",
       "}\n",
       "</style>\n",
       "</div>\n",
       "<script type=\"module\">\n",
       "import { DataSet, Network } from \"https://unpkg.com/vis-network/standalone/esm/vis-network.min.js\";\n",
       "// CSS will be automatically injected into the page.\n",
       "function render () {\n",
       "    const nodes = new DataSet([{\"id\": 0, \"label\": \"1\", \"title\": \"0: 1\"}, {\"id\": 1, \"label\": \"2\", \"title\": \"1: 2\"}, {\"id\": 2, \"label\": \"6\", \"title\": \"2: 6\"}, {\"id\": 3, \"label\": \"5\", \"title\": \"3: 5\"}, {\"id\": 4, \"label\": \"3\", \"title\": \"4: 3\"}, {\"id\": 5, \"label\": \"4\", \"title\": \"5: 4\"}]);\n",
       "    const edges = new DataSet([{\"title\": \"0: (1, 2)\", \"label\": \"1\", \"color\": \"blue\", \"from\": 0, \"to\": 1}, {\"title\": \"1: (1, 6)\", \"label\": \"1\", \"color\": \"blue\", \"from\": 0, \"to\": 2}, {\"title\": \"2: (2, 6)\", \"label\": \"2\", \"color\": \"blue\", \"from\": 1, \"to\": 2}, {\"title\": \"3: (2, 3)\", \"label\": \"\", \"color\": \"orange\", \"from\": 1, \"to\": 4}, {\"title\": \"4: (6, 5)\", \"label\": \"\", \"color\": \"orange\", \"from\": 2, \"to\": 3}, {\"title\": \"5: (5, 3)\", \"label\": \"2\", \"color\": \"blue\", \"from\": 3, \"to\": 4}, {\"title\": \"6: (5, 4)\", \"label\": \"1\", \"color\": \"blue\", \"from\": 3, \"to\": 5}, {\"title\": \"7: (3, 4)\", \"label\": \"1\", \"color\": \"blue\", \"from\": 4, \"to\": 5}]);\n",
       "    const data = {\n",
       "            nodes: nodes,\n",
       "            edges: edges,\n",
       "    };\n",
       "    const options = {\"interaction\": {\"navigationButtons\": false}, \"width\": \"100%\", \"height\": \"100%\"};\n",
       "    const container = document.getElementById('246e8ad6-d15f-4d0f-842a-3c5203256952');\n",
       "    const network = new Network(container, data, options);\n",
       "    network.fit({maxZoomLevel: 10});\n",
       "    network.redraw();\n",
       "}\n",
       "\n",
       "render();\n",
       "document.getElementById('fit-246e8ad6-d15f-4d0f-842a-3c5203256952').addEventListener('click', function(event) {\n",
       "    event.preventDefault();  // Prevent page jump\n",
       "    render(); // Adjust zoom limit as needed\n",
       "});\n",
       "</script>\n"
      ],
      "text/plain": [
       "<IPython.core.display.HTML object>"
      ]
     },
     "metadata": {},
     "output_type": "display_data"
    },
    {
     "name": "stdout",
     "output_type": "stream",
     "text": [
      "Vertex of coordinates [1. 1. 2. 0. 0. 2. 1. 1.] (edge) / [0. 1.] (kernel) is bijective.\n"
     ]
    },
    {
     "data": {
      "text/html": [
       "\n",
       "<div class=\"sm-graph\">\n",
       "<div id=\"26bf1a69-4350-4e7b-84eb-0e1458665cb5\"></div>\n",
       "<a href=\"#\" id=\"fit-26bf1a69-4350-4e7b-84eb-0e1458665cb5\"\n",
       "  style=\"position: absolute; left: 10px; bottom: 10px; text-decoration: none; color: #888; font-size: min(2vw, 10px);\n",
       "  z-index: 10; pointer-events: auto;\"\n",
       "> Refresh\n",
       "</a>\n",
       "<style>\n",
       ".sm-graph {\n",
       "position: relative;\n",
       "width: 100%;\n",
       "height: 50vh !important;\n",
       "max-width: 100vw;\n",
       "max-height: 100vh !important;\n",
       "}\n",
       ".sm-graph > div {\n",
       "  height: 100%;   /* Make the inner div fill the parent */\n",
       "}\n",
       "</style>\n",
       "</div>\n",
       "<script type=\"module\">\n",
       "import { DataSet, Network } from \"https://unpkg.com/vis-network/standalone/esm/vis-network.min.js\";\n",
       "// CSS will be automatically injected into the page.\n",
       "function render () {\n",
       "    const nodes = new DataSet([{\"id\": 0, \"label\": \"1\", \"title\": \"0: 1\"}, {\"id\": 1, \"label\": \"2\", \"title\": \"1: 2\"}, {\"id\": 2, \"label\": \"6\", \"title\": \"2: 6\"}, {\"id\": 3, \"label\": \"5\", \"title\": \"3: 5\"}, {\"id\": 4, \"label\": \"3\", \"title\": \"4: 3\"}, {\"id\": 5, \"label\": \"4\", \"title\": \"5: 4\"}]);\n",
       "    const edges = new DataSet([{\"title\": \"0: (1, 2)\", \"label\": \"\", \"color\": \"orange\", \"from\": 0, \"to\": 1}, {\"title\": \"1: (1, 6)\", \"label\": \"2\", \"color\": \"blue\", \"from\": 0, \"to\": 2}, {\"title\": \"2: (2, 6)\", \"label\": \"\", \"color\": \"orange\", \"from\": 1, \"to\": 2}, {\"title\": \"3: (2, 3)\", \"label\": \"3\", \"color\": \"blue\", \"from\": 1, \"to\": 4}, {\"title\": \"4: (6, 5)\", \"label\": \"1\", \"color\": \"blue\", \"from\": 2, \"to\": 3}, {\"title\": \"5: (5, 3)\", \"label\": \"\", \"color\": \"orange\", \"from\": 3, \"to\": 4}, {\"title\": \"6: (5, 4)\", \"label\": \"2\", \"color\": \"blue\", \"from\": 3, \"to\": 5}, {\"title\": \"7: (3, 4)\", \"label\": \"\", \"color\": \"orange\", \"from\": 4, \"to\": 5}]);\n",
       "    const data = {\n",
       "            nodes: nodes,\n",
       "            edges: edges,\n",
       "    };\n",
       "    const options = {\"interaction\": {\"navigationButtons\": false}, \"width\": \"100%\", \"height\": \"100%\"};\n",
       "    const container = document.getElementById('26bf1a69-4350-4e7b-84eb-0e1458665cb5');\n",
       "    const network = new Network(container, data, options);\n",
       "    network.fit({maxZoomLevel: 10});\n",
       "    network.redraw();\n",
       "}\n",
       "\n",
       "render();\n",
       "document.getElementById('fit-26bf1a69-4350-4e7b-84eb-0e1458665cb5').addEventListener('click', function(event) {\n",
       "    event.preventDefault();  // Prevent page jump\n",
       "    render(); // Adjust zoom limit as needed\n",
       "});\n",
       "</script>\n"
      ],
      "text/plain": [
       "<IPython.core.display.HTML object>"
      ]
     },
     "metadata": {},
     "output_type": "display_data"
    },
    {
     "name": "stdout",
     "output_type": "stream",
     "text": [
      "Vertex of coordinates [0. 2. 0. 3. 1. 0. 2. 0.] (edge) / [ 1. -1.] (kernel) is injective.\n"
     ]
    },
    {
     "data": {
      "text/html": [
       "\n",
       "<div class=\"sm-graph\">\n",
       "<div id=\"11b93ab1-7584-4206-8197-7138cb808c3d\"></div>\n",
       "<a href=\"#\" id=\"fit-11b93ab1-7584-4206-8197-7138cb808c3d\"\n",
       "  style=\"position: absolute; left: 10px; bottom: 10px; text-decoration: none; color: #888; font-size: min(2vw, 10px);\n",
       "  z-index: 10; pointer-events: auto;\"\n",
       "> Refresh\n",
       "</a>\n",
       "<style>\n",
       ".sm-graph {\n",
       "position: relative;\n",
       "width: 100%;\n",
       "height: 50vh !important;\n",
       "max-width: 100vw;\n",
       "max-height: 100vh !important;\n",
       "}\n",
       ".sm-graph > div {\n",
       "  height: 100%;   /* Make the inner div fill the parent */\n",
       "}\n",
       "</style>\n",
       "</div>\n",
       "<script type=\"module\">\n",
       "import { DataSet, Network } from \"https://unpkg.com/vis-network/standalone/esm/vis-network.min.js\";\n",
       "// CSS will be automatically injected into the page.\n",
       "function render () {\n",
       "    const nodes = new DataSet([{\"id\": 0, \"label\": \"1\", \"title\": \"0: 1\"}, {\"id\": 1, \"label\": \"2\", \"title\": \"1: 2\"}, {\"id\": 2, \"label\": \"6\", \"title\": \"2: 6\"}, {\"id\": 3, \"label\": \"5\", \"title\": \"3: 5\"}, {\"id\": 4, \"label\": \"3\", \"title\": \"4: 3\"}, {\"id\": 5, \"label\": \"4\", \"title\": \"5: 4\"}]);\n",
       "    const edges = new DataSet([{\"title\": \"0: (1, 2)\", \"label\": \"\", \"color\": \"orange\", \"from\": 0, \"to\": 1}, {\"title\": \"1: (1, 6)\", \"label\": \"2\", \"color\": \"blue\", \"from\": 0, \"to\": 2}, {\"title\": \"2: (2, 6)\", \"label\": \"1\", \"color\": \"blue\", \"from\": 1, \"to\": 2}, {\"title\": \"3: (2, 3)\", \"label\": \"2\", \"color\": \"blue\", \"from\": 1, \"to\": 4}, {\"title\": \"4: (6, 5)\", \"label\": \"\", \"color\": \"orange\", \"from\": 2, \"to\": 3}, {\"title\": \"5: (5, 3)\", \"label\": \"1\", \"color\": \"blue\", \"from\": 3, \"to\": 4}, {\"title\": \"6: (5, 4)\", \"label\": \"2\", \"color\": \"blue\", \"from\": 3, \"to\": 5}, {\"title\": \"7: (3, 4)\", \"label\": \"\", \"color\": \"orange\", \"from\": 4, \"to\": 5}]);\n",
       "    const data = {\n",
       "            nodes: nodes,\n",
       "            edges: edges,\n",
       "    };\n",
       "    const options = {\"interaction\": {\"navigationButtons\": false}, \"width\": \"100%\", \"height\": \"100%\"};\n",
       "    const container = document.getElementById('11b93ab1-7584-4206-8197-7138cb808c3d');\n",
       "    const network = new Network(container, data, options);\n",
       "    network.fit({maxZoomLevel: 10});\n",
       "    network.redraw();\n",
       "}\n",
       "\n",
       "render();\n",
       "document.getElementById('fit-11b93ab1-7584-4206-8197-7138cb808c3d').addEventListener('click', function(event) {\n",
       "    event.preventDefault();  // Prevent page jump\n",
       "    render(); // Adjust zoom limit as needed\n",
       "});\n",
       "</script>\n"
      ],
      "text/plain": [
       "<IPython.core.display.HTML object>"
      ]
     },
     "metadata": {},
     "output_type": "display_data"
    },
    {
     "name": "stdout",
     "output_type": "stream",
     "text": [
      "Vertex of coordinates [0. 2. 1. 2. 0. 1. 2. 0.] (edge) / [1. 0.] (kernel) is injective.\n"
     ]
    }
   ],
   "source": [
    "def show_vertices(model):\n",
    "    for i, v in enumerate(model.vertices):\n",
    "        model.show_vertex(i, disp_rates=False)\n",
    "        \n",
    "        print(f\"Vertex of coordinates {str(v['edge_coordinates'])} (edge) / {v['kernel_coordinates']} (kernel) is {'bijective' if v['bijective'] else 'injective'}.\")\n",
    "show_vertices(codomino)"
   ]
  },
  {
   "cell_type": "markdown",
   "id": "5ca6756e-2359-4c7a-8998-3b9c5c70be1d",
   "metadata": {},
   "source": [
    "#### 3 injective-only vertices"
   ]
  },
  {
   "cell_type": "code",
   "execution_count": 15,
   "id": "057a2f7c-dee2-4ddc-8d0c-1debd3dcf56f",
   "metadata": {
    "execution": {
     "iopub.execute_input": "2025-09-23T15:30:14.253163Z",
     "iopub.status.busy": "2025-09-23T15:30:14.252159Z",
     "iopub.status.idle": "2025-09-23T15:30:14.256181Z",
     "shell.execute_reply": "2025-09-23T15:30:14.256181Z",
     "shell.execute_reply.started": "2025-09-23T15:30:14.252159Z"
    }
   },
   "outputs": [
    {
     "data": {
      "text/html": [
       "\n",
       "<div class=\"sm-graph\">\n",
       "<div id=\"9ff7b954-7bbd-4cfb-a81d-a9091ba493d4\"></div>\n",
       "<a href=\"#\" id=\"fit-9ff7b954-7bbd-4cfb-a81d-a9091ba493d4\"\n",
       "  style=\"position: absolute; left: 10px; bottom: 10px; text-decoration: none; color: #888; font-size: min(2vw, 10px);\n",
       "  z-index: 10; pointer-events: auto;\"\n",
       "> Refresh\n",
       "</a>\n",
       "<style>\n",
       ".sm-graph {\n",
       "position: relative;\n",
       "width: 100%;\n",
       "height: 50vh !important;\n",
       "max-width: 100vw;\n",
       "max-height: 100vh !important;\n",
       "}\n",
       ".sm-graph > div {\n",
       "  height: 100%;   /* Make the inner div fill the parent */\n",
       "}\n",
       "</style>\n",
       "</div>\n",
       "<script type=\"module\">\n",
       "import { DataSet, Network } from \"https://unpkg.com/vis-network/standalone/esm/vis-network.min.js\";\n",
       "// CSS will be automatically injected into the page.\n",
       "function render () {\n",
       "    const nodes = new DataSet([{\"id\": 0, \"label\": \"1\", \"title\": \"0: 1\"}, {\"id\": 1, \"label\": \"2\", \"title\": \"1: 2\"}, {\"id\": 2, \"label\": \"6\", \"title\": \"2: 6\"}, {\"id\": 3, \"label\": \"5\", \"title\": \"3: 5\"}, {\"id\": 4, \"label\": \"3\", \"title\": \"4: 3\"}, {\"id\": 5, \"label\": \"4\", \"title\": \"5: 4\"}]);\n",
       "    const edges = new DataSet([{\"title\": \"0: (1, 2)\", \"label\": \"1-\\u03b11\", \"from\": 0, \"to\": 1}, {\"title\": \"1: (1, 6)\", \"label\": \"1+\\u03b11\", \"from\": 0, \"to\": 2}, {\"title\": \"2: (2, 6)\", \"label\": \"1+\\u03b12\", \"from\": 1, \"to\": 2}, {\"title\": \"3: (2, 3)\", \"label\": \"2+\\u03b11-\\u03b12\", \"from\": 1, \"to\": 4}, {\"title\": \"4: (6, 5)\", \"label\": \"-\\u03b11-\\u03b12\", \"from\": 2, \"to\": 3}, {\"title\": \"5: (5, 3)\", \"label\": \"1+\\u03b12\", \"from\": 3, \"to\": 4}, {\"title\": \"6: (5, 4)\", \"label\": \"1+\\u03b11\", \"from\": 3, \"to\": 5}, {\"title\": \"7: (3, 4)\", \"label\": \"1-\\u03b11\", \"from\": 4, \"to\": 5}]);\n",
       "    const data = {\n",
       "            nodes: nodes,\n",
       "            edges: edges,\n",
       "    };\n",
       "    const options = {\"interaction\": {\"navigationButtons\": false}, \"width\": \"100%\", \"height\": \"100%\"};\n",
       "    const container = document.getElementById('9ff7b954-7bbd-4cfb-a81d-a9091ba493d4');\n",
       "    const network = new Network(container, data, options);\n",
       "    network.fit({maxZoomLevel: 10});\n",
       "    network.redraw();\n",
       "}\n",
       "\n",
       "render();\n",
       "document.getElementById('fit-9ff7b954-7bbd-4cfb-a81d-a9091ba493d4').addEventListener('click', function(event) {\n",
       "    event.preventDefault();  // Prevent page jump\n",
       "    render(); // Adjust zoom limit as needed\n",
       "});\n",
       "</script>\n"
      ],
      "text/plain": [
       "<IPython.core.display.HTML object>"
      ]
     },
     "metadata": {},
     "output_type": "display_data"
    }
   ],
   "source": [
    "codomino.rates = [2, 4, 2, 2, 4, 2]\n",
    "# We shift the base_flow so coordinates are simpler\n",
    "codomino.base_flow = codomino.kernel_to_edge([1/3, 0])\n",
    "codomino.show_kernel(disp_flow=True, disp_rates=False)"
   ]
  },
  {
   "cell_type": "code",
   "execution_count": 16,
   "id": "e725c162-40c5-4aeb-9ada-44d1ffbdb484",
   "metadata": {
    "execution": {
     "iopub.execute_input": "2025-09-23T15:30:14.256181Z",
     "iopub.status.busy": "2025-09-23T15:30:14.256181Z",
     "iopub.status.idle": "2025-09-23T15:30:14.267336Z",
     "shell.execute_reply": "2025-09-23T15:30:14.267336Z",
     "shell.execute_reply.started": "2025-09-23T15:30:14.256181Z"
    }
   },
   "outputs": [
    {
     "data": {
      "text/html": [
       "\n",
       "<div class=\"sm-graph\">\n",
       "<div id=\"a16a57e1-bc37-4bc4-a929-2596f11e2fad\"></div>\n",
       "<a href=\"#\" id=\"fit-a16a57e1-bc37-4bc4-a929-2596f11e2fad\"\n",
       "  style=\"position: absolute; left: 10px; bottom: 10px; text-decoration: none; color: #888; font-size: min(2vw, 10px);\n",
       "  z-index: 10; pointer-events: auto;\"\n",
       "> Refresh\n",
       "</a>\n",
       "<style>\n",
       ".sm-graph {\n",
       "position: relative;\n",
       "width: 100%;\n",
       "height: 50vh !important;\n",
       "max-width: 100vw;\n",
       "max-height: 100vh !important;\n",
       "}\n",
       ".sm-graph > div {\n",
       "  height: 100%;   /* Make the inner div fill the parent */\n",
       "}\n",
       "</style>\n",
       "</div>\n",
       "<script type=\"module\">\n",
       "import { DataSet, Network } from \"https://unpkg.com/vis-network/standalone/esm/vis-network.min.js\";\n",
       "// CSS will be automatically injected into the page.\n",
       "function render () {\n",
       "    const nodes = new DataSet([{\"id\": 0, \"label\": \"1\", \"title\": \"0: 1\"}, {\"id\": 1, \"label\": \"2\", \"title\": \"1: 2\"}, {\"id\": 2, \"label\": \"6\", \"title\": \"2: 6\"}, {\"id\": 3, \"label\": \"5\", \"title\": \"3: 5\"}, {\"id\": 4, \"label\": \"3\", \"title\": \"4: 3\"}, {\"id\": 5, \"label\": \"4\", \"title\": \"5: 4\"}]);\n",
       "    const edges = new DataSet([{\"title\": \"0: (1, 2)\", \"label\": \"2\", \"color\": \"blue\", \"from\": 0, \"to\": 1}, {\"title\": \"1: (1, 6)\", \"label\": \"\", \"color\": \"orange\", \"from\": 0, \"to\": 2}, {\"title\": \"2: (2, 6)\", \"label\": \"2\", \"color\": \"blue\", \"from\": 1, \"to\": 2}, {\"title\": \"3: (2, 3)\", \"label\": \"\", \"color\": \"orange\", \"from\": 1, \"to\": 4}, {\"title\": \"4: (6, 5)\", \"label\": \"\", \"color\": \"orange\", \"from\": 2, \"to\": 3}, {\"title\": \"5: (5, 3)\", \"label\": \"2\", \"color\": \"blue\", \"from\": 3, \"to\": 4}, {\"title\": \"6: (5, 4)\", \"label\": \"\", \"color\": \"orange\", \"from\": 3, \"to\": 5}, {\"title\": \"7: (3, 4)\", \"label\": \"2\", \"color\": \"blue\", \"from\": 4, \"to\": 5}]);\n",
       "    const data = {\n",
       "            nodes: nodes,\n",
       "            edges: edges,\n",
       "    };\n",
       "    const options = {\"interaction\": {\"navigationButtons\": false}, \"width\": \"100%\", \"height\": \"100%\"};\n",
       "    const container = document.getElementById('a16a57e1-bc37-4bc4-a929-2596f11e2fad');\n",
       "    const network = new Network(container, data, options);\n",
       "    network.fit({maxZoomLevel: 10});\n",
       "    network.redraw();\n",
       "}\n",
       "\n",
       "render();\n",
       "document.getElementById('fit-a16a57e1-bc37-4bc4-a929-2596f11e2fad').addEventListener('click', function(event) {\n",
       "    event.preventDefault();  // Prevent page jump\n",
       "    render(); // Adjust zoom limit as needed\n",
       "});\n",
       "</script>\n"
      ],
      "text/plain": [
       "<IPython.core.display.HTML object>"
      ]
     },
     "metadata": {},
     "output_type": "display_data"
    },
    {
     "name": "stdout",
     "output_type": "stream",
     "text": [
      "Vertex of coordinates [2. 0. 2. 0. 0. 2. 0. 2.] (edge) / [-1.  1.] (kernel) is injective.\n"
     ]
    },
    {
     "data": {
      "text/html": [
       "\n",
       "<div class=\"sm-graph\">\n",
       "<div id=\"24592bb9-7dc5-4fd6-ab7a-75013d50409d\"></div>\n",
       "<a href=\"#\" id=\"fit-24592bb9-7dc5-4fd6-ab7a-75013d50409d\"\n",
       "  style=\"position: absolute; left: 10px; bottom: 10px; text-decoration: none; color: #888; font-size: min(2vw, 10px);\n",
       "  z-index: 10; pointer-events: auto;\"\n",
       "> Refresh\n",
       "</a>\n",
       "<style>\n",
       ".sm-graph {\n",
       "position: relative;\n",
       "width: 100%;\n",
       "height: 50vh !important;\n",
       "max-width: 100vw;\n",
       "max-height: 100vh !important;\n",
       "}\n",
       ".sm-graph > div {\n",
       "  height: 100%;   /* Make the inner div fill the parent */\n",
       "}\n",
       "</style>\n",
       "</div>\n",
       "<script type=\"module\">\n",
       "import { DataSet, Network } from \"https://unpkg.com/vis-network/standalone/esm/vis-network.min.js\";\n",
       "// CSS will be automatically injected into the page.\n",
       "function render () {\n",
       "    const nodes = new DataSet([{\"id\": 0, \"label\": \"1\", \"title\": \"0: 1\"}, {\"id\": 1, \"label\": \"2\", \"title\": \"1: 2\"}, {\"id\": 2, \"label\": \"6\", \"title\": \"2: 6\"}, {\"id\": 3, \"label\": \"5\", \"title\": \"3: 5\"}, {\"id\": 4, \"label\": \"3\", \"title\": \"4: 3\"}, {\"id\": 5, \"label\": \"4\", \"title\": \"5: 4\"}]);\n",
       "    const edges = new DataSet([{\"title\": \"0: (1, 2)\", \"label\": \"2\", \"color\": \"blue\", \"from\": 0, \"to\": 1}, {\"title\": \"1: (1, 6)\", \"label\": \"\", \"color\": \"orange\", \"from\": 0, \"to\": 2}, {\"title\": \"2: (2, 6)\", \"label\": \"\", \"color\": \"orange\", \"from\": 1, \"to\": 2}, {\"title\": \"3: (2, 3)\", \"label\": \"2\", \"color\": \"blue\", \"from\": 1, \"to\": 4}, {\"title\": \"4: (6, 5)\", \"label\": \"2\", \"color\": \"blue\", \"from\": 2, \"to\": 3}, {\"title\": \"5: (5, 3)\", \"label\": \"\", \"color\": \"orange\", \"from\": 3, \"to\": 4}, {\"title\": \"6: (5, 4)\", \"label\": \"\", \"color\": \"orange\", \"from\": 3, \"to\": 5}, {\"title\": \"7: (3, 4)\", \"label\": \"2\", \"color\": \"blue\", \"from\": 4, \"to\": 5}]);\n",
       "    const data = {\n",
       "            nodes: nodes,\n",
       "            edges: edges,\n",
       "    };\n",
       "    const options = {\"interaction\": {\"navigationButtons\": false}, \"width\": \"100%\", \"height\": \"100%\"};\n",
       "    const container = document.getElementById('24592bb9-7dc5-4fd6-ab7a-75013d50409d');\n",
       "    const network = new Network(container, data, options);\n",
       "    network.fit({maxZoomLevel: 10});\n",
       "    network.redraw();\n",
       "}\n",
       "\n",
       "render();\n",
       "document.getElementById('fit-24592bb9-7dc5-4fd6-ab7a-75013d50409d').addEventListener('click', function(event) {\n",
       "    event.preventDefault();  // Prevent page jump\n",
       "    render(); // Adjust zoom limit as needed\n",
       "});\n",
       "</script>\n"
      ],
      "text/plain": [
       "<IPython.core.display.HTML object>"
      ]
     },
     "metadata": {},
     "output_type": "display_data"
    },
    {
     "name": "stdout",
     "output_type": "stream",
     "text": [
      "Vertex of coordinates [2. 0. 0. 2. 2. 0. 0. 2.] (edge) / [-1. -1.] (kernel) is injective.\n"
     ]
    },
    {
     "data": {
      "text/html": [
       "\n",
       "<div class=\"sm-graph\">\n",
       "<div id=\"78ed5fa0-f7e3-4052-8755-76c89b7485ad\"></div>\n",
       "<a href=\"#\" id=\"fit-78ed5fa0-f7e3-4052-8755-76c89b7485ad\"\n",
       "  style=\"position: absolute; left: 10px; bottom: 10px; text-decoration: none; color: #888; font-size: min(2vw, 10px);\n",
       "  z-index: 10; pointer-events: auto;\"\n",
       "> Refresh\n",
       "</a>\n",
       "<style>\n",
       ".sm-graph {\n",
       "position: relative;\n",
       "width: 100%;\n",
       "height: 50vh !important;\n",
       "max-width: 100vw;\n",
       "max-height: 100vh !important;\n",
       "}\n",
       ".sm-graph > div {\n",
       "  height: 100%;   /* Make the inner div fill the parent */\n",
       "}\n",
       "</style>\n",
       "</div>\n",
       "<script type=\"module\">\n",
       "import { DataSet, Network } from \"https://unpkg.com/vis-network/standalone/esm/vis-network.min.js\";\n",
       "// CSS will be automatically injected into the page.\n",
       "function render () {\n",
       "    const nodes = new DataSet([{\"id\": 0, \"label\": \"1\", \"title\": \"0: 1\"}, {\"id\": 1, \"label\": \"2\", \"title\": \"1: 2\"}, {\"id\": 2, \"label\": \"6\", \"title\": \"2: 6\"}, {\"id\": 3, \"label\": \"5\", \"title\": \"3: 5\"}, {\"id\": 4, \"label\": \"3\", \"title\": \"4: 3\"}, {\"id\": 5, \"label\": \"4\", \"title\": \"5: 4\"}]);\n",
       "    const edges = new DataSet([{\"title\": \"0: (1, 2)\", \"label\": \"\", \"color\": \"orange\", \"from\": 0, \"to\": 1}, {\"title\": \"1: (1, 6)\", \"label\": \"2\", \"color\": \"blue\", \"from\": 0, \"to\": 2}, {\"title\": \"2: (2, 6)\", \"label\": \"\", \"color\": \"orange\", \"from\": 1, \"to\": 2}, {\"title\": \"3: (2, 3)\", \"label\": \"4\", \"color\": \"blue\", \"from\": 1, \"to\": 4}, {\"title\": \"4: (6, 5)\", \"label\": \"\", \"color\": \"orange\", \"from\": 2, \"to\": 3}, {\"title\": \"5: (5, 3)\", \"label\": \"\", \"color\": \"orange\", \"from\": 3, \"to\": 4}, {\"title\": \"6: (5, 4)\", \"label\": \"2\", \"color\": \"blue\", \"from\": 3, \"to\": 5}, {\"title\": \"7: (3, 4)\", \"label\": \"\", \"color\": \"orange\", \"from\": 4, \"to\": 5}]);\n",
       "    const data = {\n",
       "            nodes: nodes,\n",
       "            edges: edges,\n",
       "    };\n",
       "    const options = {\"interaction\": {\"navigationButtons\": false}, \"width\": \"100%\", \"height\": \"100%\"};\n",
       "    const container = document.getElementById('78ed5fa0-f7e3-4052-8755-76c89b7485ad');\n",
       "    const network = new Network(container, data, options);\n",
       "    network.fit({maxZoomLevel: 10});\n",
       "    network.redraw();\n",
       "}\n",
       "\n",
       "render();\n",
       "document.getElementById('fit-78ed5fa0-f7e3-4052-8755-76c89b7485ad').addEventListener('click', function(event) {\n",
       "    event.preventDefault();  // Prevent page jump\n",
       "    render(); // Adjust zoom limit as needed\n",
       "});\n",
       "</script>\n"
      ],
      "text/plain": [
       "<IPython.core.display.HTML object>"
      ]
     },
     "metadata": {},
     "output_type": "display_data"
    },
    {
     "name": "stdout",
     "output_type": "stream",
     "text": [
      "Vertex of coordinates [0. 2. 0. 4. 0. 0. 2. 0.] (edge) / [ 1. -1.] (kernel) is injective.\n"
     ]
    }
   ],
   "source": [
    "show_vertices(codomino)"
   ]
  },
  {
   "cell_type": "markdown",
   "id": "0ba0fe9c-2071-4750-a9bb-121214802d04",
   "metadata": {},
   "source": [
    "#### 3 bijective vertices"
   ]
  },
  {
   "cell_type": "code",
   "execution_count": 17,
   "id": "64bb169a-6d54-4746-9f94-9f64502c5db7",
   "metadata": {
    "execution": {
     "iopub.execute_input": "2025-09-23T15:30:14.267336Z",
     "iopub.status.busy": "2025-09-23T15:30:14.267336Z",
     "iopub.status.idle": "2025-09-23T15:30:14.272011Z",
     "shell.execute_reply": "2025-09-23T15:30:14.272011Z",
     "shell.execute_reply.started": "2025-09-23T15:30:14.267336Z"
    }
   },
   "outputs": [
    {
     "data": {
      "text/html": [
       "\n",
       "<div class=\"sm-graph\">\n",
       "<div id=\"c608a1e3-43ce-4483-8e1b-96887c0db089\"></div>\n",
       "<a href=\"#\" id=\"fit-c608a1e3-43ce-4483-8e1b-96887c0db089\"\n",
       "  style=\"position: absolute; left: 10px; bottom: 10px; text-decoration: none; color: #888; font-size: min(2vw, 10px);\n",
       "  z-index: 10; pointer-events: auto;\"\n",
       "> Refresh\n",
       "</a>\n",
       "<style>\n",
       ".sm-graph {\n",
       "position: relative;\n",
       "width: 100%;\n",
       "height: 50vh !important;\n",
       "max-width: 100vw;\n",
       "max-height: 100vh !important;\n",
       "}\n",
       ".sm-graph > div {\n",
       "  height: 100%;   /* Make the inner div fill the parent */\n",
       "}\n",
       "</style>\n",
       "</div>\n",
       "<script type=\"module\">\n",
       "import { DataSet, Network } from \"https://unpkg.com/vis-network/standalone/esm/vis-network.min.js\";\n",
       "// CSS will be automatically injected into the page.\n",
       "function render () {\n",
       "    const nodes = new DataSet([{\"id\": 0, \"label\": \"1\", \"title\": \"0: 1\"}, {\"id\": 1, \"label\": \"2\", \"title\": \"1: 2\"}, {\"id\": 2, \"label\": \"6\", \"title\": \"2: 6\"}, {\"id\": 3, \"label\": \"5\", \"title\": \"3: 5\"}, {\"id\": 4, \"label\": \"3\", \"title\": \"4: 3\"}, {\"id\": 5, \"label\": \"4\", \"title\": \"5: 4\"}]);\n",
       "    const edges = new DataSet([{\"title\": \"0: (1, 2)\", \"label\": \"2-\\u03b11\", \"from\": 0, \"to\": 1}, {\"title\": \"1: (1, 6)\", \"label\": \"2+\\u03b11\", \"from\": 0, \"to\": 2}, {\"title\": \"2: (2, 6)\", \"label\": \"1+\\u03b12\", \"from\": 1, \"to\": 2}, {\"title\": \"3: (2, 3)\", \"label\": \"1+\\u03b11-\\u03b12\", \"from\": 1, \"to\": 4}, {\"title\": \"4: (6, 5)\", \"label\": \"1-\\u03b11-\\u03b12\", \"from\": 2, \"to\": 3}, {\"title\": \"5: (5, 3)\", \"label\": \"+\\u03b12\", \"from\": 3, \"to\": 4}, {\"title\": \"6: (5, 4)\", \"label\": \"2+\\u03b11\", \"from\": 3, \"to\": 5}, {\"title\": \"7: (3, 4)\", \"label\": \"2-\\u03b11\", \"from\": 4, \"to\": 5}]);\n",
       "    const data = {\n",
       "            nodes: nodes,\n",
       "            edges: edges,\n",
       "    };\n",
       "    const options = {\"interaction\": {\"navigationButtons\": false}, \"width\": \"100%\", \"height\": \"100%\"};\n",
       "    const container = document.getElementById('c608a1e3-43ce-4483-8e1b-96887c0db089');\n",
       "    const network = new Network(container, data, options);\n",
       "    network.fit({maxZoomLevel: 10});\n",
       "    network.redraw();\n",
       "}\n",
       "\n",
       "render();\n",
       "document.getElementById('fit-c608a1e3-43ce-4483-8e1b-96887c0db089').addEventListener('click', function(event) {\n",
       "    event.preventDefault();  // Prevent page jump\n",
       "    render(); // Adjust zoom limit as needed\n",
       "});\n",
       "</script>\n"
      ],
      "text/plain": [
       "<IPython.core.display.HTML object>"
      ]
     },
     "metadata": {},
     "output_type": "display_data"
    }
   ],
   "source": [
    "codomino.rates = [4, 4, 4, 3, 3, 4]\n",
    "codomino.base_flow = codomino.kernel_to_edge([0, -1/4])\n",
    "codomino.show_kernel(disp_flow=True, disp_rates=False)"
   ]
  },
  {
   "cell_type": "code",
   "execution_count": 18,
   "id": "8f28a307-5724-4d35-89ab-b9824cd9a44a",
   "metadata": {
    "execution": {
     "iopub.execute_input": "2025-09-23T15:30:14.272011Z",
     "iopub.status.busy": "2025-09-23T15:30:14.272011Z",
     "iopub.status.idle": "2025-09-23T15:30:14.282529Z",
     "shell.execute_reply": "2025-09-23T15:30:14.282023Z",
     "shell.execute_reply.started": "2025-09-23T15:30:14.272011Z"
    }
   },
   "outputs": [
    {
     "data": {
      "text/html": [
       "\n",
       "<div class=\"sm-graph\">\n",
       "<div id=\"14532ae8-f0a8-40dd-924e-38ca0f38cf50\"></div>\n",
       "<a href=\"#\" id=\"fit-14532ae8-f0a8-40dd-924e-38ca0f38cf50\"\n",
       "  style=\"position: absolute; left: 10px; bottom: 10px; text-decoration: none; color: #888; font-size: min(2vw, 10px);\n",
       "  z-index: 10; pointer-events: auto;\"\n",
       "> Refresh\n",
       "</a>\n",
       "<style>\n",
       ".sm-graph {\n",
       "position: relative;\n",
       "width: 100%;\n",
       "height: 50vh !important;\n",
       "max-width: 100vw;\n",
       "max-height: 100vh !important;\n",
       "}\n",
       ".sm-graph > div {\n",
       "  height: 100%;   /* Make the inner div fill the parent */\n",
       "}\n",
       "</style>\n",
       "</div>\n",
       "<script type=\"module\">\n",
       "import { DataSet, Network } from \"https://unpkg.com/vis-network/standalone/esm/vis-network.min.js\";\n",
       "// CSS will be automatically injected into the page.\n",
       "function render () {\n",
       "    const nodes = new DataSet([{\"id\": 0, \"label\": \"1\", \"title\": \"0: 1\"}, {\"id\": 1, \"label\": \"2\", \"title\": \"1: 2\"}, {\"id\": 2, \"label\": \"6\", \"title\": \"2: 6\"}, {\"id\": 3, \"label\": \"5\", \"title\": \"3: 5\"}, {\"id\": 4, \"label\": \"3\", \"title\": \"4: 3\"}, {\"id\": 5, \"label\": \"4\", \"title\": \"5: 4\"}]);\n",
       "    const edges = new DataSet([{\"title\": \"0: (1, 2)\", \"label\": \"3\", \"color\": \"blue\", \"from\": 0, \"to\": 1}, {\"title\": \"1: (1, 6)\", \"label\": \"1\", \"color\": \"blue\", \"from\": 0, \"to\": 2}, {\"title\": \"2: (2, 6)\", \"label\": \"1\", \"color\": \"blue\", \"from\": 1, \"to\": 2}, {\"title\": \"3: (2, 3)\", \"label\": \"\", \"color\": \"orange\", \"from\": 1, \"to\": 4}, {\"title\": \"4: (6, 5)\", \"label\": \"2\", \"color\": \"blue\", \"from\": 2, \"to\": 3}, {\"title\": \"5: (5, 3)\", \"label\": \"\", \"color\": \"orange\", \"from\": 3, \"to\": 4}, {\"title\": \"6: (5, 4)\", \"label\": \"1\", \"color\": \"blue\", \"from\": 3, \"to\": 5}, {\"title\": \"7: (3, 4)\", \"label\": \"3\", \"color\": \"blue\", \"from\": 4, \"to\": 5}]);\n",
       "    const data = {\n",
       "            nodes: nodes,\n",
       "            edges: edges,\n",
       "    };\n",
       "    const options = {\"interaction\": {\"navigationButtons\": false}, \"width\": \"100%\", \"height\": \"100%\"};\n",
       "    const container = document.getElementById('14532ae8-f0a8-40dd-924e-38ca0f38cf50');\n",
       "    const network = new Network(container, data, options);\n",
       "    network.fit({maxZoomLevel: 10});\n",
       "    network.redraw();\n",
       "}\n",
       "\n",
       "render();\n",
       "document.getElementById('fit-14532ae8-f0a8-40dd-924e-38ca0f38cf50').addEventListener('click', function(event) {\n",
       "    event.preventDefault();  // Prevent page jump\n",
       "    render(); // Adjust zoom limit as needed\n",
       "});\n",
       "</script>\n"
      ],
      "text/plain": [
       "<IPython.core.display.HTML object>"
      ]
     },
     "metadata": {},
     "output_type": "display_data"
    },
    {
     "name": "stdout",
     "output_type": "stream",
     "text": [
      "Vertex of coordinates [3. 1. 1. 0. 2. 0. 1. 3.] (edge) / [-1.  0.] (kernel) is bijective.\n"
     ]
    },
    {
     "data": {
      "text/html": [
       "\n",
       "<div class=\"sm-graph\">\n",
       "<div id=\"1d35b069-b189-4b26-83ed-43fbbd7c24d1\"></div>\n",
       "<a href=\"#\" id=\"fit-1d35b069-b189-4b26-83ed-43fbbd7c24d1\"\n",
       "  style=\"position: absolute; left: 10px; bottom: 10px; text-decoration: none; color: #888; font-size: min(2vw, 10px);\n",
       "  z-index: 10; pointer-events: auto;\"\n",
       "> Refresh\n",
       "</a>\n",
       "<style>\n",
       ".sm-graph {\n",
       "position: relative;\n",
       "width: 100%;\n",
       "height: 50vh !important;\n",
       "max-width: 100vw;\n",
       "max-height: 100vh !important;\n",
       "}\n",
       ".sm-graph > div {\n",
       "  height: 100%;   /* Make the inner div fill the parent */\n",
       "}\n",
       "</style>\n",
       "</div>\n",
       "<script type=\"module\">\n",
       "import { DataSet, Network } from \"https://unpkg.com/vis-network/standalone/esm/vis-network.min.js\";\n",
       "// CSS will be automatically injected into the page.\n",
       "function render () {\n",
       "    const nodes = new DataSet([{\"id\": 0, \"label\": \"1\", \"title\": \"0: 1\"}, {\"id\": 1, \"label\": \"2\", \"title\": \"1: 2\"}, {\"id\": 2, \"label\": \"6\", \"title\": \"2: 6\"}, {\"id\": 3, \"label\": \"5\", \"title\": \"3: 5\"}, {\"id\": 4, \"label\": \"3\", \"title\": \"4: 3\"}, {\"id\": 5, \"label\": \"4\", \"title\": \"5: 4\"}]);\n",
       "    const edges = new DataSet([{\"title\": \"0: (1, 2)\", \"label\": \"2\", \"color\": \"blue\", \"from\": 0, \"to\": 1}, {\"title\": \"1: (1, 6)\", \"label\": \"2\", \"color\": \"blue\", \"from\": 0, \"to\": 2}, {\"title\": \"2: (2, 6)\", \"label\": \"2\", \"color\": \"blue\", \"from\": 1, \"to\": 2}, {\"title\": \"3: (2, 3)\", \"label\": \"\", \"color\": \"orange\", \"from\": 1, \"to\": 4}, {\"title\": \"4: (6, 5)\", \"label\": \"\", \"color\": \"orange\", \"from\": 2, \"to\": 3}, {\"title\": \"5: (5, 3)\", \"label\": \"1\", \"color\": \"blue\", \"from\": 3, \"to\": 4}, {\"title\": \"6: (5, 4)\", \"label\": \"2\", \"color\": \"blue\", \"from\": 3, \"to\": 5}, {\"title\": \"7: (3, 4)\", \"label\": \"2\", \"color\": \"blue\", \"from\": 4, \"to\": 5}]);\n",
       "    const data = {\n",
       "            nodes: nodes,\n",
       "            edges: edges,\n",
       "    };\n",
       "    const options = {\"interaction\": {\"navigationButtons\": false}, \"width\": \"100%\", \"height\": \"100%\"};\n",
       "    const container = document.getElementById('1d35b069-b189-4b26-83ed-43fbbd7c24d1');\n",
       "    const network = new Network(container, data, options);\n",
       "    network.fit({maxZoomLevel: 10});\n",
       "    network.redraw();\n",
       "}\n",
       "\n",
       "render();\n",
       "document.getElementById('fit-1d35b069-b189-4b26-83ed-43fbbd7c24d1').addEventListener('click', function(event) {\n",
       "    event.preventDefault();  // Prevent page jump\n",
       "    render(); // Adjust zoom limit as needed\n",
       "});\n",
       "</script>\n"
      ],
      "text/plain": [
       "<IPython.core.display.HTML object>"
      ]
     },
     "metadata": {},
     "output_type": "display_data"
    },
    {
     "name": "stdout",
     "output_type": "stream",
     "text": [
      "Vertex of coordinates [2. 2. 2. 0. 0. 1. 2. 2.] (edge) / [0. 1.] (kernel) is bijective.\n"
     ]
    },
    {
     "data": {
      "text/html": [
       "\n",
       "<div class=\"sm-graph\">\n",
       "<div id=\"94db226c-5caa-4d16-9450-2490bf25bfa0\"></div>\n",
       "<a href=\"#\" id=\"fit-94db226c-5caa-4d16-9450-2490bf25bfa0\"\n",
       "  style=\"position: absolute; left: 10px; bottom: 10px; text-decoration: none; color: #888; font-size: min(2vw, 10px);\n",
       "  z-index: 10; pointer-events: auto;\"\n",
       "> Refresh\n",
       "</a>\n",
       "<style>\n",
       ".sm-graph {\n",
       "position: relative;\n",
       "width: 100%;\n",
       "height: 50vh !important;\n",
       "max-width: 100vw;\n",
       "max-height: 100vh !important;\n",
       "}\n",
       ".sm-graph > div {\n",
       "  height: 100%;   /* Make the inner div fill the parent */\n",
       "}\n",
       "</style>\n",
       "</div>\n",
       "<script type=\"module\">\n",
       "import { DataSet, Network } from \"https://unpkg.com/vis-network/standalone/esm/vis-network.min.js\";\n",
       "// CSS will be automatically injected into the page.\n",
       "function render () {\n",
       "    const nodes = new DataSet([{\"id\": 0, \"label\": \"1\", \"title\": \"0: 1\"}, {\"id\": 1, \"label\": \"2\", \"title\": \"1: 2\"}, {\"id\": 2, \"label\": \"6\", \"title\": \"2: 6\"}, {\"id\": 3, \"label\": \"5\", \"title\": \"3: 5\"}, {\"id\": 4, \"label\": \"3\", \"title\": \"4: 3\"}, {\"id\": 5, \"label\": \"4\", \"title\": \"5: 4\"}]);\n",
       "    const edges = new DataSet([{\"title\": \"0: (1, 2)\", \"label\": \"1\", \"color\": \"blue\", \"from\": 0, \"to\": 1}, {\"title\": \"1: (1, 6)\", \"label\": \"3\", \"color\": \"blue\", \"from\": 0, \"to\": 2}, {\"title\": \"2: (2, 6)\", \"label\": \"1\", \"color\": \"blue\", \"from\": 1, \"to\": 2}, {\"title\": \"3: (2, 3)\", \"label\": \"2\", \"color\": \"blue\", \"from\": 1, \"to\": 4}, {\"title\": \"4: (6, 5)\", \"label\": \"\", \"color\": \"orange\", \"from\": 2, \"to\": 3}, {\"title\": \"5: (5, 3)\", \"label\": \"\", \"color\": \"orange\", \"from\": 3, \"to\": 4}, {\"title\": \"6: (5, 4)\", \"label\": \"3\", \"color\": \"blue\", \"from\": 3, \"to\": 5}, {\"title\": \"7: (3, 4)\", \"label\": \"1\", \"color\": \"blue\", \"from\": 4, \"to\": 5}]);\n",
       "    const data = {\n",
       "            nodes: nodes,\n",
       "            edges: edges,\n",
       "    };\n",
       "    const options = {\"interaction\": {\"navigationButtons\": false}, \"width\": \"100%\", \"height\": \"100%\"};\n",
       "    const container = document.getElementById('94db226c-5caa-4d16-9450-2490bf25bfa0');\n",
       "    const network = new Network(container, data, options);\n",
       "    network.fit({maxZoomLevel: 10});\n",
       "    network.redraw();\n",
       "}\n",
       "\n",
       "render();\n",
       "document.getElementById('fit-94db226c-5caa-4d16-9450-2490bf25bfa0').addEventListener('click', function(event) {\n",
       "    event.preventDefault();  // Prevent page jump\n",
       "    render(); // Adjust zoom limit as needed\n",
       "});\n",
       "</script>\n"
      ],
      "text/plain": [
       "<IPython.core.display.HTML object>"
      ]
     },
     "metadata": {},
     "output_type": "display_data"
    },
    {
     "name": "stdout",
     "output_type": "stream",
     "text": [
      "Vertex of coordinates [1. 3. 1. 2. 0. 0. 3. 1.] (edge) / [1. 0.] (kernel) is bijective.\n"
     ]
    }
   ],
   "source": [
    "show_vertices(codomino)"
   ]
  },
  {
   "cell_type": "markdown",
   "id": "529c59ff-a662-428d-baae-eb099263b6f8",
   "metadata": {},
   "source": [
    "#### 5 bijective vertices"
   ]
  },
  {
   "cell_type": "code",
   "execution_count": 19,
   "id": "1d7cdb89-51da-4eca-b413-4c175cf0d2fa",
   "metadata": {
    "execution": {
     "iopub.execute_input": "2025-09-23T15:30:14.282529Z",
     "iopub.status.busy": "2025-09-23T15:30:14.282529Z",
     "iopub.status.idle": "2025-09-23T15:30:14.285979Z",
     "shell.execute_reply": "2025-09-23T15:30:14.285979Z",
     "shell.execute_reply.started": "2025-09-23T15:30:14.282529Z"
    }
   },
   "outputs": [
    {
     "data": {
      "text/html": [
       "\n",
       "<div class=\"sm-graph\">\n",
       "<div id=\"303261ae-0ee0-4410-aba2-fadf5629813f\"></div>\n",
       "<a href=\"#\" id=\"fit-303261ae-0ee0-4410-aba2-fadf5629813f\"\n",
       "  style=\"position: absolute; left: 10px; bottom: 10px; text-decoration: none; color: #888; font-size: min(2vw, 10px);\n",
       "  z-index: 10; pointer-events: auto;\"\n",
       "> Refresh\n",
       "</a>\n",
       "<style>\n",
       ".sm-graph {\n",
       "position: relative;\n",
       "width: 100%;\n",
       "height: 50vh !important;\n",
       "max-width: 100vw;\n",
       "max-height: 100vh !important;\n",
       "}\n",
       ".sm-graph > div {\n",
       "  height: 100%;   /* Make the inner div fill the parent */\n",
       "}\n",
       "</style>\n",
       "</div>\n",
       "<script type=\"module\">\n",
       "import { DataSet, Network } from \"https://unpkg.com/vis-network/standalone/esm/vis-network.min.js\";\n",
       "// CSS will be automatically injected into the page.\n",
       "function render () {\n",
       "    const nodes = new DataSet([{\"id\": 0, \"label\": \"1\", \"title\": \"0: 1\"}, {\"id\": 1, \"label\": \"2\", \"title\": \"1: 2\"}, {\"id\": 2, \"label\": \"6\", \"title\": \"2: 6\"}, {\"id\": 3, \"label\": \"5\", \"title\": \"3: 5\"}, {\"id\": 4, \"label\": \"3\", \"title\": \"4: 3\"}, {\"id\": 5, \"label\": \"4\", \"title\": \"5: 4\"}]);\n",
       "    const edges = new DataSet([{\"title\": \"0: (1, 2)\", \"label\": \"2-\\u03b11\", \"from\": 0, \"to\": 1}, {\"title\": \"1: (1, 6)\", \"label\": \"2+\\u03b11\", \"from\": 0, \"to\": 2}, {\"title\": \"2: (2, 6)\", \"label\": \"2+\\u03b12\", \"from\": 1, \"to\": 2}, {\"title\": \"3: (2, 3)\", \"label\": \"1+\\u03b11-\\u03b12\", \"from\": 1, \"to\": 4}, {\"title\": \"4: (6, 5)\", \"label\": \"1-\\u03b11-\\u03b12\", \"from\": 2, \"to\": 3}, {\"title\": \"5: (5, 3)\", \"label\": \"1+\\u03b12\", \"from\": 3, \"to\": 4}, {\"title\": \"6: (5, 4)\", \"label\": \"1+\\u03b11\", \"from\": 3, \"to\": 5}, {\"title\": \"7: (3, 4)\", \"label\": \"1-\\u03b11\", \"from\": 4, \"to\": 5}]);\n",
       "    const data = {\n",
       "            nodes: nodes,\n",
       "            edges: edges,\n",
       "    };\n",
       "    const options = {\"interaction\": {\"navigationButtons\": false}, \"width\": \"100%\", \"height\": \"100%\"};\n",
       "    const container = document.getElementById('303261ae-0ee0-4410-aba2-fadf5629813f');\n",
       "    const network = new Network(container, data, options);\n",
       "    network.fit({maxZoomLevel: 10});\n",
       "    network.redraw();\n",
       "}\n",
       "\n",
       "render();\n",
       "document.getElementById('fit-303261ae-0ee0-4410-aba2-fadf5629813f').addEventListener('click', function(event) {\n",
       "    event.preventDefault();  // Prevent page jump\n",
       "    render(); // Adjust zoom limit as needed\n",
       "});\n",
       "</script>\n"
      ],
      "text/plain": [
       "<IPython.core.display.HTML object>"
      ]
     },
     "metadata": {},
     "output_type": "display_data"
    }
   ],
   "source": [
    "codomino.rates = [4, 5, 5, 3, 3, 2]\n",
    "codomino.base_flow = codomino.kernel_to_edge([0, 1/4])\n",
    "codomino.show_kernel(disp_rates=False, disp_flow=True)"
   ]
  },
  {
   "cell_type": "code",
   "execution_count": 20,
   "id": "9556dfc9-1713-4e91-9c04-f11e58809ed2",
   "metadata": {
    "execution": {
     "iopub.execute_input": "2025-09-23T15:30:14.285979Z",
     "iopub.status.busy": "2025-09-23T15:30:14.285979Z",
     "iopub.status.idle": "2025-09-23T15:30:14.299366Z",
     "shell.execute_reply": "2025-09-23T15:30:14.299366Z",
     "shell.execute_reply.started": "2025-09-23T15:30:14.285979Z"
    }
   },
   "outputs": [
    {
     "data": {
      "text/html": [
       "\n",
       "<div class=\"sm-graph\">\n",
       "<div id=\"26653593-9461-4c18-aab5-801ae7161ac5\"></div>\n",
       "<a href=\"#\" id=\"fit-26653593-9461-4c18-aab5-801ae7161ac5\"\n",
       "  style=\"position: absolute; left: 10px; bottom: 10px; text-decoration: none; color: #888; font-size: min(2vw, 10px);\n",
       "  z-index: 10; pointer-events: auto;\"\n",
       "> Refresh\n",
       "</a>\n",
       "<style>\n",
       ".sm-graph {\n",
       "position: relative;\n",
       "width: 100%;\n",
       "height: 50vh !important;\n",
       "max-width: 100vw;\n",
       "max-height: 100vh !important;\n",
       "}\n",
       ".sm-graph > div {\n",
       "  height: 100%;   /* Make the inner div fill the parent */\n",
       "}\n",
       "</style>\n",
       "</div>\n",
       "<script type=\"module\">\n",
       "import { DataSet, Network } from \"https://unpkg.com/vis-network/standalone/esm/vis-network.min.js\";\n",
       "// CSS will be automatically injected into the page.\n",
       "function render () {\n",
       "    const nodes = new DataSet([{\"id\": 0, \"label\": \"1\", \"title\": \"0: 1\"}, {\"id\": 1, \"label\": \"2\", \"title\": \"1: 2\"}, {\"id\": 2, \"label\": \"6\", \"title\": \"2: 6\"}, {\"id\": 3, \"label\": \"5\", \"title\": \"3: 5\"}, {\"id\": 4, \"label\": \"3\", \"title\": \"4: 3\"}, {\"id\": 5, \"label\": \"4\", \"title\": \"5: 4\"}]);\n",
       "    const edges = new DataSet([{\"title\": \"0: (1, 2)\", \"label\": \"3\", \"color\": \"blue\", \"from\": 0, \"to\": 1}, {\"title\": \"1: (1, 6)\", \"label\": \"1\", \"color\": \"blue\", \"from\": 0, \"to\": 2}, {\"title\": \"2: (2, 6)\", \"label\": \"1\", \"color\": \"blue\", \"from\": 1, \"to\": 2}, {\"title\": \"3: (2, 3)\", \"label\": \"1\", \"color\": \"blue\", \"from\": 1, \"to\": 4}, {\"title\": \"4: (6, 5)\", \"label\": \"3\", \"color\": \"blue\", \"from\": 2, \"to\": 3}, {\"title\": \"5: (5, 3)\", \"label\": \"\", \"color\": \"orange\", \"from\": 3, \"to\": 4}, {\"title\": \"6: (5, 4)\", \"label\": \"\", \"color\": \"orange\", \"from\": 3, \"to\": 5}, {\"title\": \"7: (3, 4)\", \"label\": \"2\", \"color\": \"blue\", \"from\": 4, \"to\": 5}]);\n",
       "    const data = {\n",
       "            nodes: nodes,\n",
       "            edges: edges,\n",
       "    };\n",
       "    const options = {\"interaction\": {\"navigationButtons\": false}, \"width\": \"100%\", \"height\": \"100%\"};\n",
       "    const container = document.getElementById('26653593-9461-4c18-aab5-801ae7161ac5');\n",
       "    const network = new Network(container, data, options);\n",
       "    network.fit({maxZoomLevel: 10});\n",
       "    network.redraw();\n",
       "}\n",
       "\n",
       "render();\n",
       "document.getElementById('fit-26653593-9461-4c18-aab5-801ae7161ac5').addEventListener('click', function(event) {\n",
       "    event.preventDefault();  // Prevent page jump\n",
       "    render(); // Adjust zoom limit as needed\n",
       "});\n",
       "</script>\n"
      ],
      "text/plain": [
       "<IPython.core.display.HTML object>"
      ]
     },
     "metadata": {},
     "output_type": "display_data"
    },
    {
     "name": "stdout",
     "output_type": "stream",
     "text": [
      "Vertex of coordinates [3. 1. 1. 1. 3. 0. 0. 2.] (edge) / [-1. -1.] (kernel) is bijective.\n"
     ]
    },
    {
     "data": {
      "text/html": [
       "\n",
       "<div class=\"sm-graph\">\n",
       "<div id=\"c3481649-1587-4326-aff9-314b04b76467\"></div>\n",
       "<a href=\"#\" id=\"fit-c3481649-1587-4326-aff9-314b04b76467\"\n",
       "  style=\"position: absolute; left: 10px; bottom: 10px; text-decoration: none; color: #888; font-size: min(2vw, 10px);\n",
       "  z-index: 10; pointer-events: auto;\"\n",
       "> Refresh\n",
       "</a>\n",
       "<style>\n",
       ".sm-graph {\n",
       "position: relative;\n",
       "width: 100%;\n",
       "height: 50vh !important;\n",
       "max-width: 100vw;\n",
       "max-height: 100vh !important;\n",
       "}\n",
       ".sm-graph > div {\n",
       "  height: 100%;   /* Make the inner div fill the parent */\n",
       "}\n",
       "</style>\n",
       "</div>\n",
       "<script type=\"module\">\n",
       "import { DataSet, Network } from \"https://unpkg.com/vis-network/standalone/esm/vis-network.min.js\";\n",
       "// CSS will be automatically injected into the page.\n",
       "function render () {\n",
       "    const nodes = new DataSet([{\"id\": 0, \"label\": \"1\", \"title\": \"0: 1\"}, {\"id\": 1, \"label\": \"2\", \"title\": \"1: 2\"}, {\"id\": 2, \"label\": \"6\", \"title\": \"2: 6\"}, {\"id\": 3, \"label\": \"5\", \"title\": \"3: 5\"}, {\"id\": 4, \"label\": \"3\", \"title\": \"4: 3\"}, {\"id\": 5, \"label\": \"4\", \"title\": \"5: 4\"}]);\n",
       "    const edges = new DataSet([{\"title\": \"0: (1, 2)\", \"label\": \"3\", \"color\": \"blue\", \"from\": 0, \"to\": 1}, {\"title\": \"1: (1, 6)\", \"label\": \"1\", \"color\": \"blue\", \"from\": 0, \"to\": 2}, {\"title\": \"2: (2, 6)\", \"label\": \"2\", \"color\": \"blue\", \"from\": 1, \"to\": 2}, {\"title\": \"3: (2, 3)\", \"label\": \"\", \"color\": \"orange\", \"from\": 1, \"to\": 4}, {\"title\": \"4: (6, 5)\", \"label\": \"2\", \"color\": \"blue\", \"from\": 2, \"to\": 3}, {\"title\": \"5: (5, 3)\", \"label\": \"1\", \"color\": \"blue\", \"from\": 3, \"to\": 4}, {\"title\": \"6: (5, 4)\", \"label\": \"\", \"color\": \"orange\", \"from\": 3, \"to\": 5}, {\"title\": \"7: (3, 4)\", \"label\": \"2\", \"color\": \"blue\", \"from\": 4, \"to\": 5}]);\n",
       "    const data = {\n",
       "            nodes: nodes,\n",
       "            edges: edges,\n",
       "    };\n",
       "    const options = {\"interaction\": {\"navigationButtons\": false}, \"width\": \"100%\", \"height\": \"100%\"};\n",
       "    const container = document.getElementById('c3481649-1587-4326-aff9-314b04b76467');\n",
       "    const network = new Network(container, data, options);\n",
       "    network.fit({maxZoomLevel: 10});\n",
       "    network.redraw();\n",
       "}\n",
       "\n",
       "render();\n",
       "document.getElementById('fit-c3481649-1587-4326-aff9-314b04b76467').addEventListener('click', function(event) {\n",
       "    event.preventDefault();  // Prevent page jump\n",
       "    render(); // Adjust zoom limit as needed\n",
       "});\n",
       "</script>\n"
      ],
      "text/plain": [
       "<IPython.core.display.HTML object>"
      ]
     },
     "metadata": {},
     "output_type": "display_data"
    },
    {
     "name": "stdout",
     "output_type": "stream",
     "text": [
      "Vertex of coordinates [3. 1. 2. 0. 2. 1. 0. 2.] (edge) / [-1.  0.] (kernel) is bijective.\n"
     ]
    },
    {
     "data": {
      "text/html": [
       "\n",
       "<div class=\"sm-graph\">\n",
       "<div id=\"5484f411-3730-459a-a289-0fc8128122bf\"></div>\n",
       "<a href=\"#\" id=\"fit-5484f411-3730-459a-a289-0fc8128122bf\"\n",
       "  style=\"position: absolute; left: 10px; bottom: 10px; text-decoration: none; color: #888; font-size: min(2vw, 10px);\n",
       "  z-index: 10; pointer-events: auto;\"\n",
       "> Refresh\n",
       "</a>\n",
       "<style>\n",
       ".sm-graph {\n",
       "position: relative;\n",
       "width: 100%;\n",
       "height: 50vh !important;\n",
       "max-width: 100vw;\n",
       "max-height: 100vh !important;\n",
       "}\n",
       ".sm-graph > div {\n",
       "  height: 100%;   /* Make the inner div fill the parent */\n",
       "}\n",
       "</style>\n",
       "</div>\n",
       "<script type=\"module\">\n",
       "import { DataSet, Network } from \"https://unpkg.com/vis-network/standalone/esm/vis-network.min.js\";\n",
       "// CSS will be automatically injected into the page.\n",
       "function render () {\n",
       "    const nodes = new DataSet([{\"id\": 0, \"label\": \"1\", \"title\": \"0: 1\"}, {\"id\": 1, \"label\": \"2\", \"title\": \"1: 2\"}, {\"id\": 2, \"label\": \"6\", \"title\": \"2: 6\"}, {\"id\": 3, \"label\": \"5\", \"title\": \"3: 5\"}, {\"id\": 4, \"label\": \"3\", \"title\": \"4: 3\"}, {\"id\": 5, \"label\": \"4\", \"title\": \"5: 4\"}]);\n",
       "    const edges = new DataSet([{\"title\": \"0: (1, 2)\", \"label\": \"2\", \"color\": \"blue\", \"from\": 0, \"to\": 1}, {\"title\": \"1: (1, 6)\", \"label\": \"2\", \"color\": \"blue\", \"from\": 0, \"to\": 2}, {\"title\": \"2: (2, 6)\", \"label\": \"3\", \"color\": \"blue\", \"from\": 1, \"to\": 2}, {\"title\": \"3: (2, 3)\", \"label\": \"\", \"color\": \"orange\", \"from\": 1, \"to\": 4}, {\"title\": \"4: (6, 5)\", \"label\": \"\", \"color\": \"orange\", \"from\": 2, \"to\": 3}, {\"title\": \"5: (5, 3)\", \"label\": \"2\", \"color\": \"blue\", \"from\": 3, \"to\": 4}, {\"title\": \"6: (5, 4)\", \"label\": \"1\", \"color\": \"blue\", \"from\": 3, \"to\": 5}, {\"title\": \"7: (3, 4)\", \"label\": \"1\", \"color\": \"blue\", \"from\": 4, \"to\": 5}]);\n",
       "    const data = {\n",
       "            nodes: nodes,\n",
       "            edges: edges,\n",
       "    };\n",
       "    const options = {\"interaction\": {\"navigationButtons\": false}, \"width\": \"100%\", \"height\": \"100%\"};\n",
       "    const container = document.getElementById('5484f411-3730-459a-a289-0fc8128122bf');\n",
       "    const network = new Network(container, data, options);\n",
       "    network.fit({maxZoomLevel: 10});\n",
       "    network.redraw();\n",
       "}\n",
       "\n",
       "render();\n",
       "document.getElementById('fit-5484f411-3730-459a-a289-0fc8128122bf').addEventListener('click', function(event) {\n",
       "    event.preventDefault();  // Prevent page jump\n",
       "    render(); // Adjust zoom limit as needed\n",
       "});\n",
       "</script>\n"
      ],
      "text/plain": [
       "<IPython.core.display.HTML object>"
      ]
     },
     "metadata": {},
     "output_type": "display_data"
    },
    {
     "name": "stdout",
     "output_type": "stream",
     "text": [
      "Vertex of coordinates [2. 2. 3. 0. 0. 2. 1. 1.] (edge) / [0. 1.] (kernel) is bijective.\n"
     ]
    },
    {
     "data": {
      "text/html": [
       "\n",
       "<div class=\"sm-graph\">\n",
       "<div id=\"23c00fb3-8afa-4032-9ba8-a8b4ec471eb3\"></div>\n",
       "<a href=\"#\" id=\"fit-23c00fb3-8afa-4032-9ba8-a8b4ec471eb3\"\n",
       "  style=\"position: absolute; left: 10px; bottom: 10px; text-decoration: none; color: #888; font-size: min(2vw, 10px);\n",
       "  z-index: 10; pointer-events: auto;\"\n",
       "> Refresh\n",
       "</a>\n",
       "<style>\n",
       ".sm-graph {\n",
       "position: relative;\n",
       "width: 100%;\n",
       "height: 50vh !important;\n",
       "max-width: 100vw;\n",
       "max-height: 100vh !important;\n",
       "}\n",
       ".sm-graph > div {\n",
       "  height: 100%;   /* Make the inner div fill the parent */\n",
       "}\n",
       "</style>\n",
       "</div>\n",
       "<script type=\"module\">\n",
       "import { DataSet, Network } from \"https://unpkg.com/vis-network/standalone/esm/vis-network.min.js\";\n",
       "// CSS will be automatically injected into the page.\n",
       "function render () {\n",
       "    const nodes = new DataSet([{\"id\": 0, \"label\": \"1\", \"title\": \"0: 1\"}, {\"id\": 1, \"label\": \"2\", \"title\": \"1: 2\"}, {\"id\": 2, \"label\": \"6\", \"title\": \"2: 6\"}, {\"id\": 3, \"label\": \"5\", \"title\": \"3: 5\"}, {\"id\": 4, \"label\": \"3\", \"title\": \"4: 3\"}, {\"id\": 5, \"label\": \"4\", \"title\": \"5: 4\"}]);\n",
       "    const edges = new DataSet([{\"title\": \"0: (1, 2)\", \"label\": \"1\", \"color\": \"blue\", \"from\": 0, \"to\": 1}, {\"title\": \"1: (1, 6)\", \"label\": \"3\", \"color\": \"blue\", \"from\": 0, \"to\": 2}, {\"title\": \"2: (2, 6)\", \"label\": \"2\", \"color\": \"blue\", \"from\": 1, \"to\": 2}, {\"title\": \"3: (2, 3)\", \"label\": \"2\", \"color\": \"blue\", \"from\": 1, \"to\": 4}, {\"title\": \"4: (6, 5)\", \"label\": \"\", \"color\": \"orange\", \"from\": 2, \"to\": 3}, {\"title\": \"5: (5, 3)\", \"label\": \"1\", \"color\": \"blue\", \"from\": 3, \"to\": 4}, {\"title\": \"6: (5, 4)\", \"label\": \"2\", \"color\": \"blue\", \"from\": 3, \"to\": 5}, {\"title\": \"7: (3, 4)\", \"label\": \"\", \"color\": \"orange\", \"from\": 4, \"to\": 5}]);\n",
       "    const data = {\n",
       "            nodes: nodes,\n",
       "            edges: edges,\n",
       "    };\n",
       "    const options = {\"interaction\": {\"navigationButtons\": false}, \"width\": \"100%\", \"height\": \"100%\"};\n",
       "    const container = document.getElementById('23c00fb3-8afa-4032-9ba8-a8b4ec471eb3');\n",
       "    const network = new Network(container, data, options);\n",
       "    network.fit({maxZoomLevel: 10});\n",
       "    network.redraw();\n",
       "}\n",
       "\n",
       "render();\n",
       "document.getElementById('fit-23c00fb3-8afa-4032-9ba8-a8b4ec471eb3').addEventListener('click', function(event) {\n",
       "    event.preventDefault();  // Prevent page jump\n",
       "    render(); // Adjust zoom limit as needed\n",
       "});\n",
       "</script>\n"
      ],
      "text/plain": [
       "<IPython.core.display.HTML object>"
      ]
     },
     "metadata": {},
     "output_type": "display_data"
    },
    {
     "name": "stdout",
     "output_type": "stream",
     "text": [
      "Vertex of coordinates [1. 3. 2. 2. 0. 1. 2. 0.] (edge) / [1. 0.] (kernel) is bijective.\n"
     ]
    },
    {
     "data": {
      "text/html": [
       "\n",
       "<div class=\"sm-graph\">\n",
       "<div id=\"121eb1c6-96c6-4215-a479-363958d28077\"></div>\n",
       "<a href=\"#\" id=\"fit-121eb1c6-96c6-4215-a479-363958d28077\"\n",
       "  style=\"position: absolute; left: 10px; bottom: 10px; text-decoration: none; color: #888; font-size: min(2vw, 10px);\n",
       "  z-index: 10; pointer-events: auto;\"\n",
       "> Refresh\n",
       "</a>\n",
       "<style>\n",
       ".sm-graph {\n",
       "position: relative;\n",
       "width: 100%;\n",
       "height: 50vh !important;\n",
       "max-width: 100vw;\n",
       "max-height: 100vh !important;\n",
       "}\n",
       ".sm-graph > div {\n",
       "  height: 100%;   /* Make the inner div fill the parent */\n",
       "}\n",
       "</style>\n",
       "</div>\n",
       "<script type=\"module\">\n",
       "import { DataSet, Network } from \"https://unpkg.com/vis-network/standalone/esm/vis-network.min.js\";\n",
       "// CSS will be automatically injected into the page.\n",
       "function render () {\n",
       "    const nodes = new DataSet([{\"id\": 0, \"label\": \"1\", \"title\": \"0: 1\"}, {\"id\": 1, \"label\": \"2\", \"title\": \"1: 2\"}, {\"id\": 2, \"label\": \"6\", \"title\": \"2: 6\"}, {\"id\": 3, \"label\": \"5\", \"title\": \"3: 5\"}, {\"id\": 4, \"label\": \"3\", \"title\": \"4: 3\"}, {\"id\": 5, \"label\": \"4\", \"title\": \"5: 4\"}]);\n",
       "    const edges = new DataSet([{\"title\": \"0: (1, 2)\", \"label\": \"1\", \"color\": \"blue\", \"from\": 0, \"to\": 1}, {\"title\": \"1: (1, 6)\", \"label\": \"3\", \"color\": \"blue\", \"from\": 0, \"to\": 2}, {\"title\": \"2: (2, 6)\", \"label\": \"1\", \"color\": \"blue\", \"from\": 1, \"to\": 2}, {\"title\": \"3: (2, 3)\", \"label\": \"3\", \"color\": \"blue\", \"from\": 1, \"to\": 4}, {\"title\": \"4: (6, 5)\", \"label\": \"1\", \"color\": \"blue\", \"from\": 2, \"to\": 3}, {\"title\": \"5: (5, 3)\", \"label\": \"\", \"color\": \"orange\", \"from\": 3, \"to\": 4}, {\"title\": \"6: (5, 4)\", \"label\": \"2\", \"color\": \"blue\", \"from\": 3, \"to\": 5}, {\"title\": \"7: (3, 4)\", \"label\": \"\", \"color\": \"orange\", \"from\": 4, \"to\": 5}]);\n",
       "    const data = {\n",
       "            nodes: nodes,\n",
       "            edges: edges,\n",
       "    };\n",
       "    const options = {\"interaction\": {\"navigationButtons\": false}, \"width\": \"100%\", \"height\": \"100%\"};\n",
       "    const container = document.getElementById('121eb1c6-96c6-4215-a479-363958d28077');\n",
       "    const network = new Network(container, data, options);\n",
       "    network.fit({maxZoomLevel: 10});\n",
       "    network.redraw();\n",
       "}\n",
       "\n",
       "render();\n",
       "document.getElementById('fit-121eb1c6-96c6-4215-a479-363958d28077').addEventListener('click', function(event) {\n",
       "    event.preventDefault();  // Prevent page jump\n",
       "    render(); // Adjust zoom limit as needed\n",
       "});\n",
       "</script>\n"
      ],
      "text/plain": [
       "<IPython.core.display.HTML object>"
      ]
     },
     "metadata": {},
     "output_type": "display_data"
    },
    {
     "name": "stdout",
     "output_type": "stream",
     "text": [
      "Vertex of coordinates [1. 3. 1. 3. 1. 0. 2. 0.] (edge) / [ 1. -1.] (kernel) is bijective.\n"
     ]
    }
   ],
   "source": [
    "show_vertices(codomino)"
   ]
  },
  {
   "cell_type": "markdown",
   "id": "ec014df5-6cee-42c1-8722-d236f18947d0",
   "metadata": {},
   "source": [
    "### Pyramid polytope"
   ]
  },
  {
   "cell_type": "markdown",
   "id": "428cb685-4547-4c3d-8561-c8a4da268da1",
   "metadata": {},
   "source": [
    "Starting from 3-D kernels, it is possible to have an injective-only vertex even if all tight edges are irredundant. One of the simple  example is the Egyptian pyramid, where 4 distinct planes intersect at one point (the top of the pyramid). The following model was specifically designed so that its polytope is pyramid-shaped."
   ]
  },
  {
   "cell_type": "code",
   "execution_count": 21,
   "id": "87994b3d-be9b-4c27-9f70-173c39537f3a",
   "metadata": {
    "execution": {
     "iopub.execute_input": "2025-09-23T15:30:14.301376Z",
     "iopub.status.busy": "2025-09-23T15:30:14.300374Z",
     "iopub.status.idle": "2025-09-23T15:30:14.305565Z",
     "shell.execute_reply": "2025-09-23T15:30:14.305565Z",
     "shell.execute_reply.started": "2025-09-23T15:30:14.301376Z"
    }
   },
   "outputs": [
    {
     "data": {
      "text/html": [
       "\n",
       "<div class=\"sm-graph\">\n",
       "<div id=\"aa937879-7d27-47ca-98dc-fd260d3d5925\"></div>\n",
       "<a href=\"#\" id=\"fit-aa937879-7d27-47ca-98dc-fd260d3d5925\"\n",
       "  style=\"position: absolute; left: 10px; bottom: 10px; text-decoration: none; color: #888; font-size: min(2vw, 10px);\n",
       "  z-index: 10; pointer-events: auto;\"\n",
       "> Refresh\n",
       "</a>\n",
       "<style>\n",
       ".sm-graph {\n",
       "position: relative;\n",
       "width: 100%;\n",
       "height: 50vh !important;\n",
       "max-width: 100vw;\n",
       "max-height: 100vh !important;\n",
       "}\n",
       ".sm-graph > div {\n",
       "  height: 100%;   /* Make the inner div fill the parent */\n",
       "}\n",
       "</style>\n",
       "</div>\n",
       "<script type=\"module\">\n",
       "import { DataSet, Network } from \"https://unpkg.com/vis-network/standalone/esm/vis-network.min.js\";\n",
       "// CSS will be automatically injected into the page.\n",
       "function render () {\n",
       "    const nodes = new DataSet([{\"id\": 0, \"label\": \"9\", \"title\": \"0: 9\"}, {\"id\": 1, \"label\": \"2\", \"title\": \"1: 2\"}, {\"id\": 2, \"label\": \"1\", \"title\": \"2: 1\"}, {\"id\": 3, \"label\": \"8\", \"title\": \"3: 8\"}, {\"id\": 4, \"label\": \"7\", \"title\": \"4: 7\"}, {\"id\": 5, \"label\": \"3\", \"title\": \"5: 3\"}, {\"id\": 6, \"label\": \"4\", \"title\": \"6: 4\"}, {\"id\": 7, \"label\": \"5\", \"title\": \"7: 5\"}, {\"id\": 8, \"label\": \"6\", \"title\": \"8: 6\"}, {\"id\": 9, \"label\": \"10\", \"title\": \"9: 10\"}]);\n",
       "    const edges = new DataSet([{\"title\": \"0: (9, 2)\", \"label\": \"2+\\u03b11\", \"from\": 0, \"to\": 1}, {\"title\": \"1: (9, 1)\", \"label\": \"2-\\u03b11\", \"from\": 0, \"to\": 2}, {\"title\": \"2: (2, 1)\", \"label\": \"+\\u03b13\", \"from\": 1, \"to\": 2}, {\"title\": \"3: (2, 3)\", \"label\": \"1-\\u03b11-\\u03b13\", \"from\": 1, \"to\": 5}, {\"title\": \"4: (1, 8)\", \"label\": \"1+\\u03b11-\\u03b13\", \"from\": 2, \"to\": 3}, {\"title\": \"5: (8, 7)\", \"label\": \"2-\\u03b11+\\u03b13\", \"from\": 3, \"to\": 4}, {\"title\": \"6: (7, 3)\", \"label\": \"3+\\u03b11+\\u03b12\", \"from\": 4, \"to\": 5}, {\"title\": \"7: (7, 6)\", \"label\": \"1-\\u03b12-\\u03b13\", \"from\": 4, \"to\": 8}, {\"title\": \"8: (3, 4)\", \"label\": \"2-\\u03b12+\\u03b13\", \"from\": 5, \"to\": 6}, {\"title\": \"9: (4, 5)\", \"label\": \"1+\\u03b12-\\u03b13\", \"from\": 6, \"to\": 7}, {\"title\": \"10: (5, 6)\", \"label\": \"1+\\u03b13\", \"from\": 7, \"to\": 8}, {\"title\": \"11: (5, 10)\", \"label\": \"2-\\u03b12\", \"from\": 7, \"to\": 9}, {\"title\": \"12: (6, 10)\", \"label\": \"2+\\u03b12\", \"from\": 8, \"to\": 9}]);\n",
       "    const data = {\n",
       "            nodes: nodes,\n",
       "            edges: edges,\n",
       "    };\n",
       "    const options = {\"interaction\": {\"navigationButtons\": false}, \"width\": \"100%\", \"height\": \"100%\"};\n",
       "    const container = document.getElementById('aa937879-7d27-47ca-98dc-fd260d3d5925');\n",
       "    const network = new Network(container, data, options);\n",
       "    network.fit({maxZoomLevel: 10});\n",
       "    network.redraw();\n",
       "}\n",
       "\n",
       "render();\n",
       "document.getElementById('fit-aa937879-7d27-47ca-98dc-fd260d3d5925').addEventListener('click', function(event) {\n",
       "    event.preventDefault();  // Prevent page jump\n",
       "    render(); // Adjust zoom limit as needed\n",
       "});\n",
       "</script>\n"
      ],
      "text/plain": [
       "<IPython.core.display.HTML object>"
      ]
     },
     "metadata": {},
     "output_type": "display_data"
    }
   ],
   "source": [
    "pyramid = sm.Pyramid(\n",
    "    rates=[4, 3, 3, 3, 6, 6, 3, 4, 4, 4],\n",
    "    names=[\"9\", \"2\", \"1\", \"8\", \"7\", \"3\", \"4\", \"5\", \"6\", \"10\"],\n",
    ")\n",
    "pyramid.seeds = [0, 12, 2]\n",
    "pyramid.base_flow = pyramid.kernel_to_edge([1 / 6, 1 / 6, 1 / 6])\n",
    "pyramid.show_kernel(disp_flow=True, disp_rates=False)"
   ]
  },
  {
   "cell_type": "code",
   "execution_count": 22,
   "id": "832bca27-9baf-4a43-a7e3-194f60f29a54",
   "metadata": {
    "execution": {
     "iopub.execute_input": "2025-09-23T15:30:14.305565Z",
     "iopub.status.busy": "2025-09-23T15:30:14.305565Z",
     "iopub.status.idle": "2025-09-23T15:30:14.317244Z",
     "shell.execute_reply": "2025-09-23T15:30:14.317244Z",
     "shell.execute_reply.started": "2025-09-23T15:30:14.305565Z"
    }
   },
   "outputs": [
    {
     "data": {
      "text/html": [
       "\n",
       "<div class=\"sm-graph\">\n",
       "<div id=\"e122a03a-8075-431b-b735-bf042ab409d1\"></div>\n",
       "<a href=\"#\" id=\"fit-e122a03a-8075-431b-b735-bf042ab409d1\"\n",
       "  style=\"position: absolute; left: 10px; bottom: 10px; text-decoration: none; color: #888; font-size: min(2vw, 10px);\n",
       "  z-index: 10; pointer-events: auto;\"\n",
       "> Refresh\n",
       "</a>\n",
       "<style>\n",
       ".sm-graph {\n",
       "position: relative;\n",
       "width: 100%;\n",
       "height: 50vh !important;\n",
       "max-width: 100vw;\n",
       "max-height: 100vh !important;\n",
       "}\n",
       ".sm-graph > div {\n",
       "  height: 100%;   /* Make the inner div fill the parent */\n",
       "}\n",
       "</style>\n",
       "</div>\n",
       "<script type=\"module\">\n",
       "import { DataSet, Network } from \"https://unpkg.com/vis-network/standalone/esm/vis-network.min.js\";\n",
       "// CSS will be automatically injected into the page.\n",
       "function render () {\n",
       "    const nodes = new DataSet([{\"id\": 0, \"label\": \"9\", \"title\": \"0: 9\"}, {\"id\": 1, \"label\": \"2\", \"title\": \"1: 2\"}, {\"id\": 2, \"label\": \"1\", \"title\": \"2: 1\"}, {\"id\": 3, \"label\": \"8\", \"title\": \"3: 8\"}, {\"id\": 4, \"label\": \"7\", \"title\": \"4: 7\"}, {\"id\": 5, \"label\": \"3\", \"title\": \"5: 3\"}, {\"id\": 6, \"label\": \"4\", \"title\": \"6: 4\"}, {\"id\": 7, \"label\": \"5\", \"title\": \"7: 5\"}, {\"id\": 8, \"label\": \"6\", \"title\": \"8: 6\"}, {\"id\": 9, \"label\": \"10\", \"title\": \"9: 10\"}]);\n",
       "    const edges = new DataSet([{\"title\": \"0: (9, 2)\", \"label\": \"1\", \"color\": \"blue\", \"from\": 0, \"to\": 1}, {\"title\": \"1: (9, 1)\", \"label\": \"3\", \"color\": \"blue\", \"from\": 0, \"to\": 2}, {\"title\": \"2: (2, 1)\", \"label\": \"\", \"color\": \"orange\", \"from\": 1, \"to\": 2}, {\"title\": \"3: (2, 3)\", \"label\": \"2\", \"color\": \"blue\", \"from\": 1, \"to\": 5}, {\"title\": \"4: (1, 8)\", \"label\": \"\", \"color\": \"orange\", \"from\": 2, \"to\": 3}, {\"title\": \"5: (8, 7)\", \"label\": \"3\", \"color\": \"blue\", \"from\": 3, \"to\": 4}, {\"title\": \"6: (7, 3)\", \"label\": \"3\", \"color\": \"blue\", \"from\": 4, \"to\": 5}, {\"title\": \"7: (7, 6)\", \"label\": \"\", \"color\": \"orange\", \"from\": 4, \"to\": 8}, {\"title\": \"8: (3, 4)\", \"label\": \"1\", \"color\": \"blue\", \"from\": 5, \"to\": 6}, {\"title\": \"9: (4, 5)\", \"label\": \"2\", \"color\": \"blue\", \"from\": 6, \"to\": 7}, {\"title\": \"10: (5, 6)\", \"label\": \"1\", \"color\": \"blue\", \"from\": 7, \"to\": 8}, {\"title\": \"11: (5, 10)\", \"label\": \"1\", \"color\": \"blue\", \"from\": 7, \"to\": 9}, {\"title\": \"12: (6, 10)\", \"label\": \"3\", \"color\": \"blue\", \"from\": 8, \"to\": 9}]);\n",
       "    const data = {\n",
       "            nodes: nodes,\n",
       "            edges: edges,\n",
       "    };\n",
       "    const options = {\"interaction\": {\"navigationButtons\": false}, \"width\": \"100%\", \"height\": \"100%\"};\n",
       "    const container = document.getElementById('e122a03a-8075-431b-b735-bf042ab409d1');\n",
       "    const network = new Network(container, data, options);\n",
       "    network.fit({maxZoomLevel: 10});\n",
       "    network.redraw();\n",
       "}\n",
       "\n",
       "render();\n",
       "document.getElementById('fit-e122a03a-8075-431b-b735-bf042ab409d1').addEventListener('click', function(event) {\n",
       "    event.preventDefault();  // Prevent page jump\n",
       "    render(); // Adjust zoom limit as needed\n",
       "});\n",
       "</script>\n"
      ],
      "text/plain": [
       "<IPython.core.display.HTML object>"
      ]
     },
     "metadata": {},
     "output_type": "display_data"
    },
    {
     "name": "stdout",
     "output_type": "stream",
     "text": [
      "Vertex of coordinates [1. 3. 0. 2. 0. 3. 3. 0. 1. 2. 1. 1. 3.] (edge) / [-1.  1.  0.] (kernel) is bijective.\n"
     ]
    },
    {
     "data": {
      "text/html": [
       "\n",
       "<div class=\"sm-graph\">\n",
       "<div id=\"ce45d666-dcf6-4d51-b961-f43ae981c91b\"></div>\n",
       "<a href=\"#\" id=\"fit-ce45d666-dcf6-4d51-b961-f43ae981c91b\"\n",
       "  style=\"position: absolute; left: 10px; bottom: 10px; text-decoration: none; color: #888; font-size: min(2vw, 10px);\n",
       "  z-index: 10; pointer-events: auto;\"\n",
       "> Refresh\n",
       "</a>\n",
       "<style>\n",
       ".sm-graph {\n",
       "position: relative;\n",
       "width: 100%;\n",
       "height: 50vh !important;\n",
       "max-width: 100vw;\n",
       "max-height: 100vh !important;\n",
       "}\n",
       ".sm-graph > div {\n",
       "  height: 100%;   /* Make the inner div fill the parent */\n",
       "}\n",
       "</style>\n",
       "</div>\n",
       "<script type=\"module\">\n",
       "import { DataSet, Network } from \"https://unpkg.com/vis-network/standalone/esm/vis-network.min.js\";\n",
       "// CSS will be automatically injected into the page.\n",
       "function render () {\n",
       "    const nodes = new DataSet([{\"id\": 0, \"label\": \"9\", \"title\": \"0: 9\"}, {\"id\": 1, \"label\": \"2\", \"title\": \"1: 2\"}, {\"id\": 2, \"label\": \"1\", \"title\": \"2: 1\"}, {\"id\": 3, \"label\": \"8\", \"title\": \"3: 8\"}, {\"id\": 4, \"label\": \"7\", \"title\": \"4: 7\"}, {\"id\": 5, \"label\": \"3\", \"title\": \"5: 3\"}, {\"id\": 6, \"label\": \"4\", \"title\": \"6: 4\"}, {\"id\": 7, \"label\": \"5\", \"title\": \"7: 5\"}, {\"id\": 8, \"label\": \"6\", \"title\": \"8: 6\"}, {\"id\": 9, \"label\": \"10\", \"title\": \"9: 10\"}]);\n",
       "    const edges = new DataSet([{\"title\": \"0: (9, 2)\", \"label\": \"1\", \"color\": \"blue\", \"from\": 0, \"to\": 1}, {\"title\": \"1: (9, 1)\", \"label\": \"3\", \"color\": \"blue\", \"from\": 0, \"to\": 2}, {\"title\": \"2: (2, 1)\", \"label\": \"\", \"color\": \"orange\", \"from\": 1, \"to\": 2}, {\"title\": \"3: (2, 3)\", \"label\": \"2\", \"color\": \"blue\", \"from\": 1, \"to\": 5}, {\"title\": \"4: (1, 8)\", \"label\": \"\", \"color\": \"orange\", \"from\": 2, \"to\": 3}, {\"title\": \"5: (8, 7)\", \"label\": \"3\", \"color\": \"blue\", \"from\": 3, \"to\": 4}, {\"title\": \"6: (7, 3)\", \"label\": \"1\", \"color\": \"blue\", \"from\": 4, \"to\": 5}, {\"title\": \"7: (7, 6)\", \"label\": \"2\", \"color\": \"blue\", \"from\": 4, \"to\": 8}, {\"title\": \"8: (3, 4)\", \"label\": \"3\", \"color\": \"blue\", \"from\": 5, \"to\": 6}, {\"title\": \"9: (4, 5)\", \"label\": \"\", \"color\": \"orange\", \"from\": 6, \"to\": 7}, {\"title\": \"10: (5, 6)\", \"label\": \"1\", \"color\": \"blue\", \"from\": 7, \"to\": 8}, {\"title\": \"11: (5, 10)\", \"label\": \"3\", \"color\": \"blue\", \"from\": 7, \"to\": 9}, {\"title\": \"12: (6, 10)\", \"label\": \"1\", \"color\": \"blue\", \"from\": 8, \"to\": 9}]);\n",
       "    const data = {\n",
       "            nodes: nodes,\n",
       "            edges: edges,\n",
       "    };\n",
       "    const options = {\"interaction\": {\"navigationButtons\": false}, \"width\": \"100%\", \"height\": \"100%\"};\n",
       "    const container = document.getElementById('ce45d666-dcf6-4d51-b961-f43ae981c91b');\n",
       "    const network = new Network(container, data, options);\n",
       "    network.fit({maxZoomLevel: 10});\n",
       "    network.redraw();\n",
       "}\n",
       "\n",
       "render();\n",
       "document.getElementById('fit-ce45d666-dcf6-4d51-b961-f43ae981c91b').addEventListener('click', function(event) {\n",
       "    event.preventDefault();  // Prevent page jump\n",
       "    render(); // Adjust zoom limit as needed\n",
       "});\n",
       "</script>\n"
      ],
      "text/plain": [
       "<IPython.core.display.HTML object>"
      ]
     },
     "metadata": {},
     "output_type": "display_data"
    },
    {
     "name": "stdout",
     "output_type": "stream",
     "text": [
      "Vertex of coordinates [1. 3. 0. 2. 0. 3. 1. 2. 3. 0. 1. 3. 1.] (edge) / [-1. -1.  0.] (kernel) is bijective.\n"
     ]
    },
    {
     "data": {
      "text/html": [
       "\n",
       "<div class=\"sm-graph\">\n",
       "<div id=\"456bb53b-4340-402e-90d5-ca9f0053538c\"></div>\n",
       "<a href=\"#\" id=\"fit-456bb53b-4340-402e-90d5-ca9f0053538c\"\n",
       "  style=\"position: absolute; left: 10px; bottom: 10px; text-decoration: none; color: #888; font-size: min(2vw, 10px);\n",
       "  z-index: 10; pointer-events: auto;\"\n",
       "> Refresh\n",
       "</a>\n",
       "<style>\n",
       ".sm-graph {\n",
       "position: relative;\n",
       "width: 100%;\n",
       "height: 50vh !important;\n",
       "max-width: 100vw;\n",
       "max-height: 100vh !important;\n",
       "}\n",
       ".sm-graph > div {\n",
       "  height: 100%;   /* Make the inner div fill the parent */\n",
       "}\n",
       "</style>\n",
       "</div>\n",
       "<script type=\"module\">\n",
       "import { DataSet, Network } from \"https://unpkg.com/vis-network/standalone/esm/vis-network.min.js\";\n",
       "// CSS will be automatically injected into the page.\n",
       "function render () {\n",
       "    const nodes = new DataSet([{\"id\": 0, \"label\": \"9\", \"title\": \"0: 9\"}, {\"id\": 1, \"label\": \"2\", \"title\": \"1: 2\"}, {\"id\": 2, \"label\": \"1\", \"title\": \"2: 1\"}, {\"id\": 3, \"label\": \"8\", \"title\": \"3: 8\"}, {\"id\": 4, \"label\": \"7\", \"title\": \"4: 7\"}, {\"id\": 5, \"label\": \"3\", \"title\": \"5: 3\"}, {\"id\": 6, \"label\": \"4\", \"title\": \"6: 4\"}, {\"id\": 7, \"label\": \"5\", \"title\": \"7: 5\"}, {\"id\": 8, \"label\": \"6\", \"title\": \"8: 6\"}, {\"id\": 9, \"label\": \"10\", \"title\": \"9: 10\"}]);\n",
       "    const edges = new DataSet([{\"title\": \"0: (9, 2)\", \"label\": \"2\", \"color\": \"blue\", \"from\": 0, \"to\": 1}, {\"title\": \"1: (9, 1)\", \"label\": \"2\", \"color\": \"blue\", \"from\": 0, \"to\": 2}, {\"title\": \"2: (2, 1)\", \"label\": \"1\", \"color\": \"blue\", \"from\": 1, \"to\": 2}, {\"title\": \"3: (2, 3)\", \"label\": \"\", \"color\": \"orange\", \"from\": 1, \"to\": 5}, {\"title\": \"4: (1, 8)\", \"label\": \"\", \"color\": \"orange\", \"from\": 2, \"to\": 3}, {\"title\": \"5: (8, 7)\", \"label\": \"3\", \"color\": \"blue\", \"from\": 3, \"to\": 4}, {\"title\": \"6: (7, 3)\", \"label\": \"3\", \"color\": \"blue\", \"from\": 4, \"to\": 5}, {\"title\": \"7: (7, 6)\", \"label\": \"\", \"color\": \"orange\", \"from\": 4, \"to\": 8}, {\"title\": \"8: (3, 4)\", \"label\": \"3\", \"color\": \"blue\", \"from\": 5, \"to\": 6}, {\"title\": \"9: (4, 5)\", \"label\": \"\", \"color\": \"orange\", \"from\": 6, \"to\": 7}, {\"title\": \"10: (5, 6)\", \"label\": \"2\", \"color\": \"blue\", \"from\": 7, \"to\": 8}, {\"title\": \"11: (5, 10)\", \"label\": \"2\", \"color\": \"blue\", \"from\": 7, \"to\": 9}, {\"title\": \"12: (6, 10)\", \"label\": \"2\", \"color\": \"blue\", \"from\": 8, \"to\": 9}]);\n",
       "    const data = {\n",
       "            nodes: nodes,\n",
       "            edges: edges,\n",
       "    };\n",
       "    const options = {\"interaction\": {\"navigationButtons\": false}, \"width\": \"100%\", \"height\": \"100%\"};\n",
       "    const container = document.getElementById('456bb53b-4340-402e-90d5-ca9f0053538c');\n",
       "    const network = new Network(container, data, options);\n",
       "    network.fit({maxZoomLevel: 10});\n",
       "    network.redraw();\n",
       "}\n",
       "\n",
       "render();\n",
       "document.getElementById('fit-456bb53b-4340-402e-90d5-ca9f0053538c').addEventListener('click', function(event) {\n",
       "    event.preventDefault();  // Prevent page jump\n",
       "    render(); // Adjust zoom limit as needed\n",
       "});\n",
       "</script>\n"
      ],
      "text/plain": [
       "<IPython.core.display.HTML object>"
      ]
     },
     "metadata": {},
     "output_type": "display_data"
    },
    {
     "name": "stdout",
     "output_type": "stream",
     "text": [
      "Vertex of coordinates [2. 2. 1. 0. 0. 3. 3. 0. 3. 0. 2. 2. 2.] (edge) / [0. 0. 1.] (kernel) is injective.\n"
     ]
    },
    {
     "data": {
      "text/html": [
       "\n",
       "<div class=\"sm-graph\">\n",
       "<div id=\"cba93663-63e7-45bc-b886-b9ee69277a51\"></div>\n",
       "<a href=\"#\" id=\"fit-cba93663-63e7-45bc-b886-b9ee69277a51\"\n",
       "  style=\"position: absolute; left: 10px; bottom: 10px; text-decoration: none; color: #888; font-size: min(2vw, 10px);\n",
       "  z-index: 10; pointer-events: auto;\"\n",
       "> Refresh\n",
       "</a>\n",
       "<style>\n",
       ".sm-graph {\n",
       "position: relative;\n",
       "width: 100%;\n",
       "height: 50vh !important;\n",
       "max-width: 100vw;\n",
       "max-height: 100vh !important;\n",
       "}\n",
       ".sm-graph > div {\n",
       "  height: 100%;   /* Make the inner div fill the parent */\n",
       "}\n",
       "</style>\n",
       "</div>\n",
       "<script type=\"module\">\n",
       "import { DataSet, Network } from \"https://unpkg.com/vis-network/standalone/esm/vis-network.min.js\";\n",
       "// CSS will be automatically injected into the page.\n",
       "function render () {\n",
       "    const nodes = new DataSet([{\"id\": 0, \"label\": \"9\", \"title\": \"0: 9\"}, {\"id\": 1, \"label\": \"2\", \"title\": \"1: 2\"}, {\"id\": 2, \"label\": \"1\", \"title\": \"2: 1\"}, {\"id\": 3, \"label\": \"8\", \"title\": \"3: 8\"}, {\"id\": 4, \"label\": \"7\", \"title\": \"4: 7\"}, {\"id\": 5, \"label\": \"3\", \"title\": \"5: 3\"}, {\"id\": 6, \"label\": \"4\", \"title\": \"6: 4\"}, {\"id\": 7, \"label\": \"5\", \"title\": \"7: 5\"}, {\"id\": 8, \"label\": \"6\", \"title\": \"8: 6\"}, {\"id\": 9, \"label\": \"10\", \"title\": \"9: 10\"}]);\n",
       "    const edges = new DataSet([{\"title\": \"0: (9, 2)\", \"label\": \"3\", \"color\": \"blue\", \"from\": 0, \"to\": 1}, {\"title\": \"1: (9, 1)\", \"label\": \"1\", \"color\": \"blue\", \"from\": 0, \"to\": 2}, {\"title\": \"2: (2, 1)\", \"label\": \"\", \"color\": \"orange\", \"from\": 1, \"to\": 2}, {\"title\": \"3: (2, 3)\", \"label\": \"\", \"color\": \"orange\", \"from\": 1, \"to\": 5}, {\"title\": \"4: (1, 8)\", \"label\": \"2\", \"color\": \"blue\", \"from\": 2, \"to\": 3}, {\"title\": \"5: (8, 7)\", \"label\": \"1\", \"color\": \"blue\", \"from\": 3, \"to\": 4}, {\"title\": \"6: (7, 3)\", \"label\": \"3\", \"color\": \"blue\", \"from\": 4, \"to\": 5}, {\"title\": \"7: (7, 6)\", \"label\": \"2\", \"color\": \"blue\", \"from\": 4, \"to\": 8}, {\"title\": \"8: (3, 4)\", \"label\": \"3\", \"color\": \"blue\", \"from\": 5, \"to\": 6}, {\"title\": \"9: (4, 5)\", \"label\": \"\", \"color\": \"orange\", \"from\": 6, \"to\": 7}, {\"title\": \"10: (5, 6)\", \"label\": \"1\", \"color\": \"blue\", \"from\": 7, \"to\": 8}, {\"title\": \"11: (5, 10)\", \"label\": \"3\", \"color\": \"blue\", \"from\": 7, \"to\": 9}, {\"title\": \"12: (6, 10)\", \"label\": \"1\", \"color\": \"blue\", \"from\": 8, \"to\": 9}]);\n",
       "    const data = {\n",
       "            nodes: nodes,\n",
       "            edges: edges,\n",
       "    };\n",
       "    const options = {\"interaction\": {\"navigationButtons\": false}, \"width\": \"100%\", \"height\": \"100%\"};\n",
       "    const container = document.getElementById('cba93663-63e7-45bc-b886-b9ee69277a51');\n",
       "    const network = new Network(container, data, options);\n",
       "    network.fit({maxZoomLevel: 10});\n",
       "    network.redraw();\n",
       "}\n",
       "\n",
       "render();\n",
       "document.getElementById('fit-cba93663-63e7-45bc-b886-b9ee69277a51').addEventListener('click', function(event) {\n",
       "    event.preventDefault();  // Prevent page jump\n",
       "    render(); // Adjust zoom limit as needed\n",
       "});\n",
       "</script>\n"
      ],
      "text/plain": [
       "<IPython.core.display.HTML object>"
      ]
     },
     "metadata": {},
     "output_type": "display_data"
    },
    {
     "name": "stdout",
     "output_type": "stream",
     "text": [
      "Vertex of coordinates [3. 1. 0. 0. 2. 1. 3. 2. 3. 0. 1. 3. 1.] (edge) / [ 1. -1.  0.] (kernel) is bijective.\n"
     ]
    },
    {
     "data": {
      "text/html": [
       "\n",
       "<div class=\"sm-graph\">\n",
       "<div id=\"de64ce71-0666-4128-b229-3cba2f9e0269\"></div>\n",
       "<a href=\"#\" id=\"fit-de64ce71-0666-4128-b229-3cba2f9e0269\"\n",
       "  style=\"position: absolute; left: 10px; bottom: 10px; text-decoration: none; color: #888; font-size: min(2vw, 10px);\n",
       "  z-index: 10; pointer-events: auto;\"\n",
       "> Refresh\n",
       "</a>\n",
       "<style>\n",
       ".sm-graph {\n",
       "position: relative;\n",
       "width: 100%;\n",
       "height: 50vh !important;\n",
       "max-width: 100vw;\n",
       "max-height: 100vh !important;\n",
       "}\n",
       ".sm-graph > div {\n",
       "  height: 100%;   /* Make the inner div fill the parent */\n",
       "}\n",
       "</style>\n",
       "</div>\n",
       "<script type=\"module\">\n",
       "import { DataSet, Network } from \"https://unpkg.com/vis-network/standalone/esm/vis-network.min.js\";\n",
       "// CSS will be automatically injected into the page.\n",
       "function render () {\n",
       "    const nodes = new DataSet([{\"id\": 0, \"label\": \"9\", \"title\": \"0: 9\"}, {\"id\": 1, \"label\": \"2\", \"title\": \"1: 2\"}, {\"id\": 2, \"label\": \"1\", \"title\": \"2: 1\"}, {\"id\": 3, \"label\": \"8\", \"title\": \"3: 8\"}, {\"id\": 4, \"label\": \"7\", \"title\": \"4: 7\"}, {\"id\": 5, \"label\": \"3\", \"title\": \"5: 3\"}, {\"id\": 6, \"label\": \"4\", \"title\": \"6: 4\"}, {\"id\": 7, \"label\": \"5\", \"title\": \"7: 5\"}, {\"id\": 8, \"label\": \"6\", \"title\": \"8: 6\"}, {\"id\": 9, \"label\": \"10\", \"title\": \"9: 10\"}]);\n",
       "    const edges = new DataSet([{\"title\": \"0: (9, 2)\", \"label\": \"3\", \"color\": \"blue\", \"from\": 0, \"to\": 1}, {\"title\": \"1: (9, 1)\", \"label\": \"1\", \"color\": \"blue\", \"from\": 0, \"to\": 2}, {\"title\": \"2: (2, 1)\", \"label\": \"\", \"color\": \"orange\", \"from\": 1, \"to\": 2}, {\"title\": \"3: (2, 3)\", \"label\": \"\", \"color\": \"orange\", \"from\": 1, \"to\": 5}, {\"title\": \"4: (1, 8)\", \"label\": \"2\", \"color\": \"blue\", \"from\": 2, \"to\": 3}, {\"title\": \"5: (8, 7)\", \"label\": \"1\", \"color\": \"blue\", \"from\": 3, \"to\": 4}, {\"title\": \"6: (7, 3)\", \"label\": \"5\", \"color\": \"blue\", \"from\": 4, \"to\": 5}, {\"title\": \"7: (7, 6)\", \"label\": \"\", \"color\": \"orange\", \"from\": 4, \"to\": 8}, {\"title\": \"8: (3, 4)\", \"label\": \"1\", \"color\": \"blue\", \"from\": 5, \"to\": 6}, {\"title\": \"9: (4, 5)\", \"label\": \"2\", \"color\": \"blue\", \"from\": 6, \"to\": 7}, {\"title\": \"10: (5, 6)\", \"label\": \"1\", \"color\": \"blue\", \"from\": 7, \"to\": 8}, {\"title\": \"11: (5, 10)\", \"label\": \"1\", \"color\": \"blue\", \"from\": 7, \"to\": 9}, {\"title\": \"12: (6, 10)\", \"label\": \"3\", \"color\": \"blue\", \"from\": 8, \"to\": 9}]);\n",
       "    const data = {\n",
       "            nodes: nodes,\n",
       "            edges: edges,\n",
       "    };\n",
       "    const options = {\"interaction\": {\"navigationButtons\": false}, \"width\": \"100%\", \"height\": \"100%\"};\n",
       "    const container = document.getElementById('de64ce71-0666-4128-b229-3cba2f9e0269');\n",
       "    const network = new Network(container, data, options);\n",
       "    network.fit({maxZoomLevel: 10});\n",
       "    network.redraw();\n",
       "}\n",
       "\n",
       "render();\n",
       "document.getElementById('fit-de64ce71-0666-4128-b229-3cba2f9e0269').addEventListener('click', function(event) {\n",
       "    event.preventDefault();  // Prevent page jump\n",
       "    render(); // Adjust zoom limit as needed\n",
       "});\n",
       "</script>\n"
      ],
      "text/plain": [
       "<IPython.core.display.HTML object>"
      ]
     },
     "metadata": {},
     "output_type": "display_data"
    },
    {
     "name": "stdout",
     "output_type": "stream",
     "text": [
      "Vertex of coordinates [3. 1. 0. 0. 2. 1. 5. 0. 1. 2. 1. 1. 3.] (edge) / [1. 1. 0.] (kernel) is bijective.\n"
     ]
    }
   ],
   "source": [
    "show_vertices(pyramid)"
   ]
  }
 ],
 "metadata": {
  "kernelspec": {
   "display_name": "Python 3 (ipykernel)",
   "language": "python",
   "name": "python3"
  },
  "language_info": {
   "codemirror_mode": {
    "name": "ipython",
    "version": 3
   },
   "file_extension": ".py",
   "mimetype": "text/x-python",
   "name": "python",
   "nbconvert_exporter": "python",
   "pygments_lexer": "ipython3",
   "version": "3.12.8"
  }
 },
 "nbformat": 4,
 "nbformat_minor": 5
}
