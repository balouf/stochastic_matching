{
 "cells": [
  {
   "cell_type": "markdown",
   "metadata": {},
   "source": [
    "# Getting Started"
   ]
  },
  {
   "cell_type": "markdown",
   "metadata": {},
   "source": [
    "The package `stochastic_matching` allows you to:\n",
    "\n",
    "- Build a stochastic model (from scratch, from one of the provided models, or by some combination).\n",
    "- Attach arrival rates on nodes to it.\n",
    "- Study the theoretical stability of the system.\n",
    "- Explore the feasible matching rates.\n",
    "- Use a simulator to study the behavior of the system under pre-defined or custom-made policies."
   ]
  },
  {
   "cell_type": "markdown",
   "metadata": {},
   "source": [
    "## Graph building"
   ]
  },
  {
   "cell_type": "markdown",
   "metadata": {},
   "source": [
    "Two types of graphs can be used:\n",
    "\n",
    "- Simple graphs, where edges are pairs of distinct nodes.\n",
    "- Hypergraphs, where edges are arbitrary non-empty subsets of nodes, possibly with multiplicity."
   ]
  },
  {
   "cell_type": "markdown",
   "metadata": {},
   "source": [
    "Simple graphs can be created from an adjacency matrix."
   ]
  },
  {
   "cell_type": "code",
   "execution_count": 1,
   "metadata": {
    "ExecuteTime": {
     "end_time": "2022-01-27T13:28:52.223990Z",
     "start_time": "2022-01-27T13:28:50.307667Z"
    }
   },
   "outputs": [],
   "source": [
    "import numpy as np\n",
    "import stochastic_matching as sm\n",
    "\n",
    "adja = np.array([[0, 1, 1, 0],\n",
    "       [1, 0, 1, 1],\n",
    "       [1, 1, 0, 1],\n",
    "       [0, 1, 1, 0]])\n",
    "\n",
    "diamond = sm.Model(adjacency=adja)"
   ]
  },
  {
   "cell_type": "markdown",
   "metadata": {},
   "source": [
    "The graph can be displayed."
   ]
  },
  {
   "cell_type": "code",
   "execution_count": 2,
   "metadata": {
    "ExecuteTime": {
     "end_time": "2022-01-27T13:28:52.254840Z",
     "start_time": "2022-01-27T13:28:52.229493Z"
    }
   },
   "outputs": [
    {
     "data": {
      "text/html": [
       "\n",
       "<div id=\"5530fd9f-e37e-41ed-be33-93cfb78af378\"></div>\n",
       "<script>\n",
       "require.config({\n",
       "    paths: {\n",
       "        vis: 'https://unpkg.com/vis-network/standalone/umd/vis-network.min'\n",
       "    }\n",
       "});\n",
       "require(['vis'], function(vis){\n",
       "var nodes = [{\"id\": 0, \"label\": \"0\", \"title\": \"0\"}, {\"id\": 1, \"label\": \"1\", \"title\": \"1\"}, {\"id\": 2, \"label\": \"2\", \"title\": \"2\"}, {\"id\": 3, \"label\": \"3\", \"title\": \"3\"}];\n",
       "var edges = [{\"title\": \"0: (0, 1)\", \"label\": \"\", \"from\": 0, \"to\": 1}, {\"title\": \"1: (0, 2)\", \"label\": \"\", \"from\": 0, \"to\": 2}, {\"title\": \"2: (1, 2)\", \"label\": \"\", \"from\": 1, \"to\": 2}, {\"title\": \"3: (1, 3)\", \"label\": \"\", \"from\": 1, \"to\": 3}, {\"title\": \"4: (2, 3)\", \"label\": \"\", \"from\": 2, \"to\": 3}];\n",
       "var data= {\n",
       "    nodes: nodes,\n",
       "    edges: edges,\n",
       "};\n",
       "var options = {\"interaction\": {\"navigationButtons\": true}, \"width\": \"600px\", \"height\": \"600px\"};\n",
       "var container = document.getElementById('5530fd9f-e37e-41ed-be33-93cfb78af378');\n",
       "var network = new vis.Network(container, data, options);\n",
       "network.fit({\n",
       "  maxZoomLevel: 1000});\n",
       "});\n",
       "</script>\n"
      ],
      "text/plain": [
       "<IPython.core.display.HTML object>"
      ]
     },
     "metadata": {},
     "output_type": "display_data"
    }
   ],
   "source": [
    "diamond.show_graph()"
   ]
  },
  {
   "cell_type": "markdown",
   "metadata": {},
   "source": [
    "Hypergraphs can be build from their incidence matrix. For example, the following hypergraph is made of a line of three nodes with mono-edges at both ends. "
   ]
  },
  {
   "cell_type": "code",
   "execution_count": 3,
   "metadata": {
    "ExecuteTime": {
     "end_time": "2022-01-27T13:28:52.270527Z",
     "start_time": "2022-01-27T13:28:52.256803Z"
    }
   },
   "outputs": [],
   "source": [
    "incidence = np.array([[1, 1, 0, 0],\n",
    "                      [0, 1, 1, 0],\n",
    "                      [0, 0, 1, 1]])\n",
    "graph = sm.Model(incidence=incidence, names='alpha')"
   ]
  },
  {
   "cell_type": "markdown",
   "metadata": {},
   "source": [
    "On display, edges are represented by small black nodes, and the edges displayed alway link one node to one edge."
   ]
  },
  {
   "cell_type": "code",
   "execution_count": 4,
   "metadata": {
    "ExecuteTime": {
     "end_time": "2022-01-27T13:28:52.286469Z",
     "start_time": "2022-01-27T13:28:52.273532Z"
    }
   },
   "outputs": [
    {
     "data": {
      "text/html": [
       "\n",
       "<div id=\"ac422a6f-b2c8-4b41-b9fc-5156b3e0a0f3\"></div>\n",
       "<script>\n",
       "require.config({\n",
       "    paths: {\n",
       "        vis: 'https://unpkg.com/vis-network/standalone/umd/vis-network.min'\n",
       "    }\n",
       "});\n",
       "require(['vis'], function(vis){\n",
       "var nodes = [{\"id\": 0, \"label\": \"A\", \"title\": \"0: A\", \"x\": 0, \"group\": \"Node\"}, {\"id\": 1, \"label\": \"B\", \"title\": \"1: B\", \"x\": 0, \"group\": \"Node\"}, {\"id\": 2, \"label\": \"C\", \"title\": \"2: C\", \"x\": 0, \"group\": \"Node\"}, {\"title\": \"0: (A)\", \"label\": \"\", \"id\": 3, \"group\": \"HyperEdge\", \"x\": 600}, {\"title\": \"1: (A, B)\", \"label\": \"\", \"id\": 4, \"group\": \"HyperEdge\", \"x\": 600}, {\"title\": \"2: (B, C)\", \"label\": \"\", \"id\": 5, \"group\": \"HyperEdge\", \"x\": 600}, {\"title\": \"3: (C)\", \"label\": \"\", \"id\": 6, \"group\": \"HyperEdge\", \"x\": 600}];\n",
       "var edges = [{\"from\": 0, \"to\": 3, \"title\": \"0: A <-> 0: (A)\"}, {\"from\": 0, \"to\": 4, \"title\": \"0: A <-> 1: (A, B)\"}, {\"from\": 1, \"to\": 4, \"title\": \"1: B <-> 1: (A, B)\"}, {\"from\": 1, \"to\": 5, \"title\": \"1: B <-> 2: (B, C)\"}, {\"from\": 2, \"to\": 5, \"title\": \"2: C <-> 2: (B, C)\"}, {\"from\": 2, \"to\": 6, \"title\": \"2: C <-> 3: (C)\"}];\n",
       "var data= {\n",
       "    nodes: nodes,\n",
       "    edges: edges,\n",
       "};\n",
       "var options = {\"interaction\": {\"navigationButtons\": true}, \"width\": \"600px\", \"height\": \"600px\", \"groups\": {\"HyperEdge\": {\"fixed\": {\"x\": false}, \"color\": {\"background\": \"black\"}, \"shape\": \"dot\", \"size\": 5}, \"Node\": {\"fixed\": {\"x\": false}}}};\n",
       "var container = document.getElementById('ac422a6f-b2c8-4b41-b9fc-5156b3e0a0f3');\n",
       "var network = new vis.Network(container, data, options);\n",
       "network.fit({\n",
       "  maxZoomLevel: 1000});\n",
       "});\n",
       "</script>\n"
      ],
      "text/plain": [
       "<IPython.core.display.HTML object>"
      ]
     },
     "metadata": {},
     "output_type": "display_data"
    }
   ],
   "source": [
    "graph.show_graph()"
   ]
  },
  {
   "cell_type": "markdown",
   "metadata": {},
   "source": [
    "The package provides several graph generators to create graphs without manually describing them."
   ]
  },
  {
   "cell_type": "code",
   "execution_count": 5,
   "metadata": {
    "ExecuteTime": {
     "end_time": "2022-01-27T13:28:52.302359Z",
     "start_time": "2022-01-27T13:28:52.287993Z"
    }
   },
   "outputs": [
    {
     "data": {
      "text/html": [
       "\n",
       "<div id=\"2948979c-2b8c-402b-9af1-f19f065c0e6a\"></div>\n",
       "<script>\n",
       "require.config({\n",
       "    paths: {\n",
       "        vis: 'https://unpkg.com/vis-network/standalone/umd/vis-network.min'\n",
       "    }\n",
       "});\n",
       "require(['vis'], function(vis){\n",
       "var nodes = [{\"id\": 0, \"label\": \"0\", \"title\": \"0\"}, {\"id\": 1, \"label\": \"1\", \"title\": \"1\"}, {\"id\": 2, \"label\": \"2\", \"title\": \"2\"}, {\"id\": 3, \"label\": \"3\", \"title\": \"3\"}];\n",
       "var edges = [{\"title\": \"0: (0, 1)\", \"label\": \"\", \"from\": 0, \"to\": 1}, {\"title\": \"1: (0, 2)\", \"label\": \"\", \"from\": 0, \"to\": 2}, {\"title\": \"2: (1, 2)\", \"label\": \"\", \"from\": 1, \"to\": 2}, {\"title\": \"3: (2, 3)\", \"label\": \"\", \"from\": 2, \"to\": 3}];\n",
       "var data= {\n",
       "    nodes: nodes,\n",
       "    edges: edges,\n",
       "};\n",
       "var options = {\"interaction\": {\"navigationButtons\": true}, \"width\": \"600px\", \"height\": \"600px\"};\n",
       "var container = document.getElementById('2948979c-2b8c-402b-9af1-f19f065c0e6a');\n",
       "var network = new vis.Network(container, data, options);\n",
       "network.fit({\n",
       "  maxZoomLevel: 1000});\n",
       "});\n",
       "</script>\n"
      ],
      "text/plain": [
       "<IPython.core.display.HTML object>"
      ]
     },
     "metadata": {},
     "output_type": "display_data"
    }
   ],
   "source": [
    "paw = sm.Tadpole()\n",
    "paw.show_graph()"
   ]
  },
  {
   "cell_type": "code",
   "execution_count": 6,
   "metadata": {
    "ExecuteTime": {
     "end_time": "2022-01-27T13:28:52.317355Z",
     "start_time": "2022-01-27T13:28:52.303469Z"
    }
   },
   "outputs": [
    {
     "data": {
      "text/html": [
       "\n",
       "<div id=\"931e382e-30a1-4dfd-b081-058df7efbfc9\"></div>\n",
       "<script>\n",
       "require.config({\n",
       "    paths: {\n",
       "        vis: 'https://unpkg.com/vis-network/standalone/umd/vis-network.min'\n",
       "    }\n",
       "});\n",
       "require(['vis'], function(vis){\n",
       "var nodes = [{\"id\": 0, \"label\": \"A\", \"title\": \"0: A\", \"x\": 0, \"group\": \"Node\"}, {\"id\": 1, \"label\": \"B\", \"title\": \"1: B\", \"x\": 0, \"group\": \"Node\"}, {\"id\": 2, \"label\": \"C\", \"title\": \"2: C\", \"x\": 0, \"group\": \"Node\"}, {\"id\": 3, \"label\": \"D\", \"title\": \"3: D\", \"x\": 0, \"group\": \"Node\"}, {\"id\": 4, \"label\": \"E\", \"title\": \"4: E\", \"x\": 0, \"group\": \"Node\"}, {\"id\": 5, \"label\": \"F\", \"title\": \"5: F\", \"x\": 0, \"group\": \"Node\"}, {\"id\": 6, \"label\": \"G\", \"title\": \"6: G\", \"x\": 0, \"group\": \"Node\"}, {\"title\": \"0: (A, B)\", \"label\": \"\", \"id\": 7, \"group\": \"HyperEdge\", \"x\": 600}, {\"title\": \"1: (A, C)\", \"label\": \"\", \"id\": 8, \"group\": \"HyperEdge\", \"x\": 600}, {\"title\": \"2: (B, C)\", \"label\": \"\", \"id\": 9, \"group\": \"HyperEdge\", \"x\": 600}, {\"title\": \"3: (E, F)\", \"label\": \"\", \"id\": 10, \"group\": \"HyperEdge\", \"x\": 600}, {\"title\": \"4: (E, G)\", \"label\": \"\", \"id\": 11, \"group\": \"HyperEdge\", \"x\": 600}, {\"title\": \"5: (F, G)\", \"label\": \"\", \"id\": 12, \"group\": \"HyperEdge\", \"x\": 600}, {\"title\": \"6: (C, D, E)\", \"label\": \"\", \"id\": 13, \"group\": \"HyperEdge\", \"x\": 600}];\n",
       "var edges = [{\"from\": 0, \"to\": 7, \"title\": \"0: A <-> 0: (A, B)\"}, {\"from\": 0, \"to\": 8, \"title\": \"0: A <-> 1: (A, C)\"}, {\"from\": 1, \"to\": 7, \"title\": \"1: B <-> 0: (A, B)\"}, {\"from\": 1, \"to\": 9, \"title\": \"1: B <-> 2: (B, C)\"}, {\"from\": 2, \"to\": 8, \"title\": \"2: C <-> 1: (A, C)\"}, {\"from\": 2, \"to\": 9, \"title\": \"2: C <-> 2: (B, C)\"}, {\"from\": 2, \"to\": 13, \"title\": \"2: C <-> 6: (C, D, E)\"}, {\"from\": 3, \"to\": 13, \"title\": \"3: D <-> 6: (C, D, E)\"}, {\"from\": 4, \"to\": 10, \"title\": \"4: E <-> 3: (E, F)\"}, {\"from\": 4, \"to\": 11, \"title\": \"4: E <-> 4: (E, G)\"}, {\"from\": 4, \"to\": 13, \"title\": \"4: E <-> 6: (C, D, E)\"}, {\"from\": 5, \"to\": 10, \"title\": \"5: F <-> 3: (E, F)\"}, {\"from\": 5, \"to\": 12, \"title\": \"5: F <-> 5: (F, G)\"}, {\"from\": 6, \"to\": 11, \"title\": \"6: G <-> 4: (E, G)\"}, {\"from\": 6, \"to\": 12, \"title\": \"6: G <-> 5: (F, G)\"}];\n",
       "var data= {\n",
       "    nodes: nodes,\n",
       "    edges: edges,\n",
       "};\n",
       "var options = {\"interaction\": {\"navigationButtons\": true}, \"width\": \"600px\", \"height\": \"600px\", \"groups\": {\"HyperEdge\": {\"fixed\": {\"x\": false}, \"color\": {\"background\": \"black\"}, \"shape\": \"dot\", \"size\": 5}, \"Node\": {\"fixed\": {\"x\": false}}}};\n",
       "var container = document.getElementById('931e382e-30a1-4dfd-b081-058df7efbfc9');\n",
       "var network = new vis.Network(container, data, options);\n",
       "network.fit({\n",
       "  maxZoomLevel: 1000});\n",
       "});\n",
       "</script>\n"
      ],
      "text/plain": [
       "<IPython.core.display.HTML object>"
      ]
     },
     "metadata": {},
     "output_type": "display_data"
    }
   ],
   "source": [
    "candy = sm.HyperPaddle(names='alpha')\n",
    "candy.show_graph()"
   ]
  },
  {
   "cell_type": "markdown",
   "metadata": {},
   "source": [
    "See the [Graphs notebook](graphs.ipynb) for details."
   ]
  },
  {
   "cell_type": "markdown",
   "metadata": {},
   "source": [
    "## Stability and achievable matching rates"
   ]
  },
  {
   "cell_type": "markdown",
   "metadata": {},
   "source": [
    "To study a matching queues system, you need to associate a graph to arrival rates on nodes."
   ]
  },
  {
   "cell_type": "code",
   "execution_count": 7,
   "metadata": {
    "ExecuteTime": {
     "end_time": "2022-01-27T13:28:52.332510Z",
     "start_time": "2022-01-27T13:28:52.318356Z"
    }
   },
   "outputs": [],
   "source": [
    "diamond = sm.CycleChain(names='alpha', rates=[2, 3, 2, 1])"
   ]
  },
  {
   "cell_type": "markdown",
   "metadata": {},
   "source": [
    "From then you can see if a stable solution exists."
   ]
  },
  {
   "cell_type": "code",
   "execution_count": 8,
   "metadata": {
    "ExecuteTime": {
     "end_time": "2022-01-27T13:28:52.347610Z",
     "start_time": "2022-01-27T13:28:52.334020Z"
    }
   },
   "outputs": [
    {
     "data": {
      "text/plain": [
       "True"
      ]
     },
     "execution_count": 8,
     "metadata": {},
     "output_type": "execute_result"
    }
   ],
   "source": [
    "diamond.stabilizable"
   ]
  },
  {
   "cell_type": "markdown",
   "metadata": {},
   "source": [
    "You can access the kernel space of solutions."
   ]
  },
  {
   "cell_type": "code",
   "execution_count": 9,
   "metadata": {
    "ExecuteTime": {
     "end_time": "2022-01-27T13:28:52.377070Z",
     "start_time": "2022-01-27T13:28:52.348790Z"
    }
   },
   "outputs": [
    {
     "data": {
      "text/plain": [
       "Kernels of a graph with 4 nodes and 5 edges.\n",
       "Node dimension is 0.\n",
       "Edge dimension is 1\n",
       "Type: Surjective-only\n",
       "Node kernel:\n",
       "[]\n",
       "Edge kernel:\n",
       "[[ 1 -1  0 -1  1]]"
      ]
     },
     "execution_count": 9,
     "metadata": {},
     "output_type": "execute_result"
    }
   ],
   "source": [
    "diamond.kernel"
   ]
  },
  {
   "cell_type": "markdown",
   "metadata": {},
   "source": [
    "You can have the *default* solution, which is the product of the arrival rates by the pseudo-inverse of the incidence matrix. Note that the default solution may not be positive even if a positive solution exists."
   ]
  },
  {
   "cell_type": "code",
   "execution_count": 10,
   "metadata": {
    "ExecuteTime": {
     "end_time": "2022-01-27T13:28:52.409570Z",
     "start_time": "2022-01-27T13:28:52.381693Z"
    }
   },
   "outputs": [
    {
     "data": {
      "text/plain": [
       "array([1.25, 0.75, 1.  , 0.75, 0.25])"
      ]
     },
     "execution_count": 10,
     "metadata": {},
     "output_type": "execute_result"
    }
   ],
   "source": [
    "diamond.base_flow"
   ]
  },
  {
   "cell_type": "markdown",
   "metadata": {},
   "source": [
    "You can compute the maximin solution, which maximizes the minimum of the rates over all edges."
   ]
  },
  {
   "cell_type": "code",
   "execution_count": 11,
   "metadata": {
    "ExecuteTime": {
     "end_time": "2022-01-27T13:28:52.424591Z",
     "start_time": "2022-01-27T13:28:52.410576Z"
    }
   },
   "outputs": [
    {
     "data": {
      "text/plain": [
       "array([1.5, 0.5, 1. , 0.5, 0.5])"
      ]
     },
     "execution_count": 11,
     "metadata": {},
     "output_type": "execute_result"
    }
   ],
   "source": [
    "diamond.maximin"
   ]
  },
  {
   "cell_type": "markdown",
   "metadata": {},
   "source": [
    "You can find a flow that maximizes a given edge. The following maximizes the last edge."
   ]
  },
  {
   "cell_type": "code",
   "execution_count": 12,
   "metadata": {
    "ExecuteTime": {
     "end_time": "2022-01-27T13:28:52.439920Z",
     "start_time": "2022-01-27T13:28:52.426933Z"
    }
   },
   "outputs": [
    {
     "data": {
      "text/plain": [
       "array([2., 0., 1., 0., 1.])"
      ]
     },
     "execution_count": 12,
     "metadata": {},
     "output_type": "execute_result"
    }
   ],
   "source": [
    "diamond.optimize_edge(4, 1)"
   ]
  },
  {
   "cell_type": "markdown",
   "metadata": {},
   "source": [
    "We can also minimize it."
   ]
  },
  {
   "cell_type": "code",
   "execution_count": 13,
   "metadata": {
    "ExecuteTime": {
     "end_time": "2022-01-27T13:28:52.455588Z",
     "start_time": "2022-01-27T13:28:52.440922Z"
    }
   },
   "outputs": [
    {
     "data": {
      "text/plain": [
       "array([1., 1., 1., 1., 0.])"
      ]
     },
     "execution_count": 13,
     "metadata": {},
     "output_type": "execute_result"
    }
   ],
   "source": [
    "diamond.optimize_edge(4, -1)"
   ]
  },
  {
   "cell_type": "markdown",
   "metadata": {},
   "source": [
    "Another possibility is to ask to maximize some reward based on weights on the edges."
   ]
  },
  {
   "cell_type": "code",
   "execution_count": 14,
   "metadata": {
    "ExecuteTime": {
     "end_time": "2022-01-27T13:28:52.470720Z",
     "start_time": "2022-01-27T13:28:52.456806Z"
    }
   },
   "outputs": [
    {
     "data": {
      "text/plain": [
       "array([1., 1., 1., 1., 0.])"
      ]
     },
     "execution_count": 14,
     "metadata": {},
     "output_type": "execute_result"
    }
   ],
   "source": [
    "diamond.optimize_rates([1, 2, 2, 2, 1])"
   ]
  },
  {
   "cell_type": "code",
   "execution_count": 15,
   "metadata": {
    "ExecuteTime": {
     "end_time": "2022-01-27T13:28:52.486586Z",
     "start_time": "2022-01-27T13:28:52.472090Z"
    }
   },
   "outputs": [
    {
     "data": {
      "text/plain": [
       "array([2., 0., 1., 0., 1.])"
      ]
     },
     "execution_count": 15,
     "metadata": {},
     "output_type": "execute_result"
    }
   ],
   "source": [
    "diamond.optimize_rates([1, 2, 2, 2, 4])"
   ]
  },
  {
   "cell_type": "markdown",
   "metadata": {
    "ExecuteTime": {
     "end_time": "2022-01-27T13:28:52.470720Z",
     "start_time": "2022-01-27T13:28:52.456806Z"
    }
   },
   "source": [
    "Another possibility is to ask to maximize some reward based on weights on the edges."
   ]
  },
  {
   "cell_type": "markdown",
   "metadata": {},
   "source": [
    "We can also provide the incompressible flow, i.e. for each edge the minimal rate that goes through in any solution."
   ]
  },
  {
   "cell_type": "code",
   "execution_count": 16,
   "metadata": {
    "ExecuteTime": {
     "end_time": "2022-01-27T13:28:52.502374Z",
     "start_time": "2022-01-27T13:28:52.487584Z"
    }
   },
   "outputs": [
    {
     "data": {
      "text/plain": [
       "array([1., 0., 1., 0., 0.])"
      ]
     },
     "execution_count": 16,
     "metadata": {},
     "output_type": "execute_result"
    }
   ],
   "source": [
    "diamond.incompressible_flow()"
   ]
  },
  {
   "cell_type": "markdown",
   "metadata": {},
   "source": [
    "Flows can be displayed using the `show_flow` method. If no flow is provided, the base flow is displayed."
   ]
  },
  {
   "cell_type": "code",
   "execution_count": 17,
   "metadata": {
    "ExecuteTime": {
     "end_time": "2022-01-27T13:28:52.517461Z",
     "start_time": "2022-01-27T13:28:52.503884Z"
    }
   },
   "outputs": [
    {
     "data": {
      "text/html": [
       "\n",
       "<div id=\"dbcf4d6e-19f9-45b5-be10-c4d93c19a371\"></div>\n",
       "<script>\n",
       "require.config({\n",
       "    paths: {\n",
       "        vis: 'https://unpkg.com/vis-network/standalone/umd/vis-network.min'\n",
       "    }\n",
       "});\n",
       "require(['vis'], function(vis){\n",
       "var nodes = [{\"id\": 0, \"label\": \"2\", \"title\": \"0: A\"}, {\"id\": 1, \"label\": \"3\", \"title\": \"1: B\"}, {\"id\": 2, \"label\": \"2\", \"title\": \"2: C\"}, {\"id\": 3, \"label\": \"1\", \"title\": \"3: D\"}];\n",
       "var edges = [{\"title\": \"0: (A, B)\", \"label\": \"1.25\", \"color\": \"blue\", \"from\": 0, \"to\": 1}, {\"title\": \"1: (A, C)\", \"label\": \"0.75\", \"color\": \"blue\", \"from\": 0, \"to\": 2}, {\"title\": \"2: (B, C)\", \"label\": \"1\", \"color\": \"blue\", \"from\": 1, \"to\": 2}, {\"title\": \"3: (B, D)\", \"label\": \"0.75\", \"color\": \"blue\", \"from\": 1, \"to\": 3}, {\"title\": \"4: (C, D)\", \"label\": \"0.25\", \"color\": \"blue\", \"from\": 2, \"to\": 3}];\n",
       "var data= {\n",
       "    nodes: nodes,\n",
       "    edges: edges,\n",
       "};\n",
       "var options = {\"interaction\": {\"navigationButtons\": true}, \"width\": \"600px\", \"height\": \"600px\"};\n",
       "var container = document.getElementById('dbcf4d6e-19f9-45b5-be10-c4d93c19a371');\n",
       "var network = new vis.Network(container, data, options);\n",
       "network.fit({\n",
       "  maxZoomLevel: 1000});\n",
       "});\n",
       "</script>\n"
      ],
      "text/plain": [
       "<IPython.core.display.HTML object>"
      ]
     },
     "metadata": {},
     "output_type": "display_data"
    }
   ],
   "source": [
    "diamond.show_flow()"
   ]
  },
  {
   "cell_type": "code",
   "execution_count": 18,
   "metadata": {
    "ExecuteTime": {
     "end_time": "2022-01-27T13:28:52.533530Z",
     "start_time": "2022-01-27T13:28:52.518462Z"
    }
   },
   "outputs": [
    {
     "data": {
      "text/html": [
       "\n",
       "<div id=\"7b6e7a5c-c909-4ec5-8b17-55850bbd7214\"></div>\n",
       "<script>\n",
       "require.config({\n",
       "    paths: {\n",
       "        vis: 'https://unpkg.com/vis-network/standalone/umd/vis-network.min'\n",
       "    }\n",
       "});\n",
       "require(['vis'], function(vis){\n",
       "var nodes = [{\"id\": 0, \"label\": \"2\", \"title\": \"0: A\"}, {\"id\": 1, \"label\": \"3\", \"title\": \"1: B\"}, {\"id\": 2, \"label\": \"2\", \"title\": \"2: C\"}, {\"id\": 3, \"label\": \"1\", \"title\": \"3: D\"}];\n",
       "var edges = [{\"title\": \"0: (A, B)\", \"label\": \"1.5\", \"color\": \"blue\", \"from\": 0, \"to\": 1}, {\"title\": \"1: (A, C)\", \"label\": \"0.5\", \"color\": \"blue\", \"from\": 0, \"to\": 2}, {\"title\": \"2: (B, C)\", \"label\": \"1\", \"color\": \"blue\", \"from\": 1, \"to\": 2}, {\"title\": \"3: (B, D)\", \"label\": \"0.5\", \"color\": \"blue\", \"from\": 1, \"to\": 3}, {\"title\": \"4: (C, D)\", \"label\": \"0.5\", \"color\": \"blue\", \"from\": 2, \"to\": 3}];\n",
       "var data= {\n",
       "    nodes: nodes,\n",
       "    edges: edges,\n",
       "};\n",
       "var options = {\"interaction\": {\"navigationButtons\": true}, \"width\": \"600px\", \"height\": \"600px\"};\n",
       "var container = document.getElementById('7b6e7a5c-c909-4ec5-8b17-55850bbd7214');\n",
       "var network = new vis.Network(container, data, options);\n",
       "network.fit({\n",
       "  maxZoomLevel: 1000});\n",
       "});\n",
       "</script>\n"
      ],
      "text/plain": [
       "<IPython.core.display.HTML object>"
      ]
     },
     "metadata": {},
     "output_type": "display_data"
    }
   ],
   "source": [
    "diamond.show_flow(flow=diamond.maximin)"
   ]
  },
  {
   "cell_type": "markdown",
   "metadata": {},
   "source": [
    "A color code shows the problematic nodes with flow conservation issues and non-positive edges."
   ]
  },
  {
   "cell_type": "code",
   "execution_count": 19,
   "metadata": {
    "ExecuteTime": {
     "end_time": "2022-01-27T13:28:52.549246Z",
     "start_time": "2022-01-27T13:28:52.535267Z"
    }
   },
   "outputs": [
    {
     "data": {
      "text/html": [
       "\n",
       "<div id=\"84dcf947-5ecd-4d09-9089-449cc32ca459\"></div>\n",
       "<script>\n",
       "require.config({\n",
       "    paths: {\n",
       "        vis: 'https://unpkg.com/vis-network/standalone/umd/vis-network.min'\n",
       "    }\n",
       "});\n",
       "require(['vis'], function(vis){\n",
       "var nodes = [{\"id\": 0, \"label\": \"2\", \"title\": \"0: A\"}, {\"id\": 1, \"label\": \"3\", \"title\": \"1: B\"}, {\"id\": 2, \"label\": \"2\", \"title\": \"2: C\"}, {\"id\": 3, \"label\": \"1\", \"title\": \"3: D\"}];\n",
       "var edges = [{\"title\": \"0: (A, B)\", \"label\": \"2\", \"color\": \"blue\", \"from\": 0, \"to\": 1}, {\"title\": \"1: (A, C)\", \"label\": \"0\", \"color\": \"orange\", \"from\": 0, \"to\": 2}, {\"title\": \"2: (B, C)\", \"label\": \"1\", \"color\": \"blue\", \"from\": 1, \"to\": 2}, {\"title\": \"3: (B, D)\", \"label\": \"0\", \"color\": \"orange\", \"from\": 1, \"to\": 3}, {\"title\": \"4: (C, D)\", \"label\": \"1\", \"color\": \"blue\", \"from\": 2, \"to\": 3}];\n",
       "var data= {\n",
       "    nodes: nodes,\n",
       "    edges: edges,\n",
       "};\n",
       "var options = {\"interaction\": {\"navigationButtons\": true}, \"width\": \"600px\", \"height\": \"600px\"};\n",
       "var container = document.getElementById('84dcf947-5ecd-4d09-9089-449cc32ca459');\n",
       "var network = new vis.Network(container, data, options);\n",
       "network.fit({\n",
       "  maxZoomLevel: 1000});\n",
       "});\n",
       "</script>\n"
      ],
      "text/plain": [
       "<IPython.core.display.HTML object>"
      ]
     },
     "metadata": {},
     "output_type": "display_data"
    }
   ],
   "source": [
    "diamond.show_flow(flow=diamond.optimize_edge(4, 1))"
   ]
  },
  {
   "cell_type": "markdown",
   "metadata": {},
   "source": [
    "If you want to have a closer look to the polytope of solutions, you can display the kernel:"
   ]
  },
  {
   "cell_type": "code",
   "execution_count": 20,
   "metadata": {
    "ExecuteTime": {
     "end_time": "2022-01-27T13:28:52.565369Z",
     "start_time": "2022-01-27T13:28:52.551220Z"
    }
   },
   "outputs": [
    {
     "data": {
      "text/html": [
       "\n",
       "<div id=\"a9eabbe9-104e-48b4-992a-1dd9f03c1b0a\"></div>\n",
       "<script>\n",
       "require.config({\n",
       "    paths: {\n",
       "        vis: 'https://unpkg.com/vis-network/standalone/umd/vis-network.min'\n",
       "    }\n",
       "});\n",
       "require(['vis'], function(vis){\n",
       "var nodes = [{\"id\": 0, \"label\": \"2\", \"title\": \"0: A\"}, {\"id\": 1, \"label\": \"3\", \"title\": \"1: B\"}, {\"id\": 2, \"label\": \"2\", \"title\": \"2: C\"}, {\"id\": 3, \"label\": \"1\", \"title\": \"3: D\"}];\n",
       "var edges = [{\"title\": \"0: (A, B)\", \"label\": \"1.5+\\u03b11\", \"from\": 0, \"to\": 1}, {\"title\": \"1: (A, C)\", \"label\": \"0.5-\\u03b11\", \"from\": 0, \"to\": 2}, {\"title\": \"2: (B, C)\", \"label\": \"1\", \"color\": \"black\", \"from\": 1, \"to\": 2}, {\"title\": \"3: (B, D)\", \"label\": \"0.5-\\u03b11\", \"from\": 1, \"to\": 3}, {\"title\": \"4: (C, D)\", \"label\": \"0.5+\\u03b11\", \"from\": 2, \"to\": 3}];\n",
       "var data= {\n",
       "    nodes: nodes,\n",
       "    edges: edges,\n",
       "};\n",
       "var options = {\"interaction\": {\"navigationButtons\": true}, \"width\": \"600px\", \"height\": \"600px\"};\n",
       "var container = document.getElementById('a9eabbe9-104e-48b4-992a-1dd9f03c1b0a');\n",
       "var network = new vis.Network(container, data, options);\n",
       "network.fit({\n",
       "  maxZoomLevel: 1000});\n",
       "});\n",
       "</script>\n"
      ],
      "text/plain": [
       "<IPython.core.display.HTML object>"
      ]
     },
     "metadata": {},
     "output_type": "display_data"
    }
   ],
   "source": [
    "diamond.show_kernel(disp_flow=True, flow=diamond.maximin)"
   ]
  },
  {
   "cell_type": "markdown",
   "metadata": {},
   "source": [
    "You can access the vertices of the polytope."
   ]
  },
  {
   "cell_type": "code",
   "execution_count": 21,
   "metadata": {
    "ExecuteTime": {
     "end_time": "2022-01-27T13:28:52.580790Z",
     "start_time": "2022-01-27T13:28:52.566609Z"
    }
   },
   "outputs": [
    {
     "data": {
      "text/plain": [
       "[{'kernel_coordinates': array([-0.25]),\n",
       "  'edge_coordinates': array([1., 1., 1., 1., 0.]),\n",
       "  'null_edges': [4],\n",
       "  'bijective': True},\n",
       " {'kernel_coordinates': array([0.75]),\n",
       "  'edge_coordinates': array([2., 0., 1., 0., 1.]),\n",
       "  'null_edges': [1, 3],\n",
       "  'bijective': False}]"
      ]
     },
     "execution_count": 21,
     "metadata": {},
     "output_type": "execute_result"
    }
   ],
   "source": [
    "diamond.vertices"
   ]
  },
  {
   "cell_type": "markdown",
   "metadata": {},
   "source": [
    "You can display a vertex."
   ]
  },
  {
   "cell_type": "code",
   "execution_count": 22,
   "metadata": {
    "ExecuteTime": {
     "end_time": "2022-01-27T13:28:52.595877Z",
     "start_time": "2022-01-27T13:28:52.582828Z"
    }
   },
   "outputs": [
    {
     "data": {
      "text/html": [
       "\n",
       "<div id=\"2be25f64-d91d-404a-98d9-478a8d95c85c\"></div>\n",
       "<script>\n",
       "require.config({\n",
       "    paths: {\n",
       "        vis: 'https://unpkg.com/vis-network/standalone/umd/vis-network.min'\n",
       "    }\n",
       "});\n",
       "require(['vis'], function(vis){\n",
       "var nodes = [{\"id\": 0, \"label\": \"2\", \"title\": \"0: A\"}, {\"id\": 1, \"label\": \"3\", \"title\": \"1: B\"}, {\"id\": 2, \"label\": \"2\", \"title\": \"2: C\"}, {\"id\": 3, \"label\": \"1\", \"title\": \"3: D\"}];\n",
       "var edges = [{\"title\": \"0: (A, B)\", \"label\": \"1\", \"color\": \"blue\", \"from\": 0, \"to\": 1}, {\"title\": \"1: (A, C)\", \"label\": \"1\", \"color\": \"blue\", \"from\": 0, \"to\": 2}, {\"title\": \"2: (B, C)\", \"label\": \"1\", \"color\": \"blue\", \"from\": 1, \"to\": 2}, {\"title\": \"3: (B, D)\", \"label\": \"1\", \"color\": \"blue\", \"from\": 1, \"to\": 3}, {\"title\": \"4: (C, D)\", \"label\": \"\", \"color\": \"orange\", \"from\": 2, \"to\": 3}];\n",
       "var data= {\n",
       "    nodes: nodes,\n",
       "    edges: edges,\n",
       "};\n",
       "var options = {\"interaction\": {\"navigationButtons\": true}, \"width\": \"600px\", \"height\": \"600px\"};\n",
       "var container = document.getElementById('2be25f64-d91d-404a-98d9-478a8d95c85c');\n",
       "var network = new vis.Network(container, data, options);\n",
       "network.fit({\n",
       "  maxZoomLevel: 1000});\n",
       "});\n",
       "</script>\n"
      ],
      "text/plain": [
       "<IPython.core.display.HTML object>"
      ]
     },
     "metadata": {},
     "output_type": "display_data"
    }
   ],
   "source": [
    "diamond.show_vertex(0)"
   ]
  },
  {
   "cell_type": "code",
   "execution_count": 23,
   "metadata": {
    "ExecuteTime": {
     "end_time": "2022-01-27T13:28:52.611667Z",
     "start_time": "2022-01-27T13:28:52.598775Z"
    }
   },
   "outputs": [
    {
     "data": {
      "text/html": [
       "\n",
       "<div id=\"c76e1b03-2c83-4a39-aa73-f45e7620404a\"></div>\n",
       "<script>\n",
       "require.config({\n",
       "    paths: {\n",
       "        vis: 'https://unpkg.com/vis-network/standalone/umd/vis-network.min'\n",
       "    }\n",
       "});\n",
       "require(['vis'], function(vis){\n",
       "var nodes = [{\"id\": 0, \"label\": \"2\", \"title\": \"0: A\"}, {\"id\": 1, \"label\": \"3\", \"title\": \"1: B\"}, {\"id\": 2, \"label\": \"2\", \"title\": \"2: C\"}, {\"id\": 3, \"label\": \"1\", \"title\": \"3: D\"}];\n",
       "var edges = [{\"title\": \"0: (A, B)\", \"label\": \"2\", \"color\": \"blue\", \"from\": 0, \"to\": 1}, {\"title\": \"1: (A, C)\", \"label\": \"\", \"color\": \"orange\", \"from\": 0, \"to\": 2}, {\"title\": \"2: (B, C)\", \"label\": \"1\", \"color\": \"blue\", \"from\": 1, \"to\": 2}, {\"title\": \"3: (B, D)\", \"label\": \"\", \"color\": \"orange\", \"from\": 1, \"to\": 3}, {\"title\": \"4: (C, D)\", \"label\": \"1\", \"color\": \"blue\", \"from\": 2, \"to\": 3}];\n",
       "var data= {\n",
       "    nodes: nodes,\n",
       "    edges: edges,\n",
       "};\n",
       "var options = {\"interaction\": {\"navigationButtons\": true}, \"width\": \"600px\", \"height\": \"600px\"};\n",
       "var container = document.getElementById('c76e1b03-2c83-4a39-aa73-f45e7620404a');\n",
       "var network = new vis.Network(container, data, options);\n",
       "network.fit({\n",
       "  maxZoomLevel: 1000});\n",
       "});\n",
       "</script>\n"
      ],
      "text/plain": [
       "<IPython.core.display.HTML object>"
      ]
     },
     "metadata": {},
     "output_type": "display_data"
    }
   ],
   "source": [
    "diamond.show_vertex(1)"
   ]
  },
  {
   "cell_type": "markdown",
   "metadata": {},
   "source": [
    "See the [Algebra notebook](analysis.ipynb) for more details."
   ]
  },
  {
   "cell_type": "markdown",
   "metadata": {},
   "source": [
    "## Simulations"
   ]
  },
  {
   "cell_type": "markdown",
   "metadata": {},
   "source": [
    "To run a simulation, you just need to specify:\n",
    "\n",
    "- A policy (using the name of an implemented policy or providing a custom one)\n",
    "- Number of arrival rates to simulate (default to 1,000,000)\n",
    "- The maximal queue size (default to 1,000)\n",
    "- A random seed (optional)"
   ]
  },
  {
   "cell_type": "markdown",
   "metadata": {},
   "source": [
    "The simulator returns an estimate of the stability of the policy: False if a queue was maxed before the end, True otherwise."
   ]
  },
  {
   "cell_type": "code",
   "execution_count": 24,
   "metadata": {
    "ExecuteTime": {
     "end_time": "2022-01-27T13:28:57.393381Z",
     "start_time": "2022-01-27T13:28:52.612671Z"
    }
   },
   "outputs": [
    {
     "data": {
      "text/plain": [
       "True"
      ]
     },
     "execution_count": 24,
     "metadata": {},
     "output_type": "execute_result"
    }
   ],
   "source": [
    "diamond.run('longest', n_steps=10000000)"
   ]
  },
  {
   "cell_type": "markdown",
   "metadata": {},
   "source": [
    "The results of simulation are stored in a `logs` attribute that contains:\n",
    "\n",
    "- The number of matchings for each edge\n",
    "- For each node and state, the number of steps spent by that node in that state\n",
    "- Number of steps performed"
   ]
  },
  {
   "cell_type": "code",
   "execution_count": 25,
   "metadata": {
    "ExecuteTime": {
     "end_time": "2022-01-27T13:28:57.424570Z",
     "start_time": "2022-01-27T13:28:57.396348Z"
    }
   },
   "outputs": [
    {
     "data": {
      "text/plain": [
       "Traffic: [1664388  831820 1252688  834299  416804]\n",
       "Queues: [[7422041 1425891  649586 ...       0       0       0]\n",
       " [6657650 1333030  800498 ...       0       0       0]\n",
       " [8886982  741747  247083 ...       0       0       0]\n",
       " [7673638 1454828  556994 ...       0       0       0]]\n",
       "Steps done: 10000000"
      ]
     },
     "execution_count": 25,
     "metadata": {},
     "output_type": "execute_result"
    }
   ],
   "source": [
    "diamond.simulator.logs"
   ]
  },
  {
   "cell_type": "markdown",
   "metadata": {},
   "source": [
    "The flow can be displayed."
   ]
  },
  {
   "cell_type": "code",
   "execution_count": 26,
   "metadata": {
    "ExecuteTime": {
     "end_time": "2022-01-27T13:28:57.439948Z",
     "start_time": "2022-01-27T13:28:57.428614Z"
    }
   },
   "outputs": [
    {
     "data": {
      "text/html": [
       "\n",
       "<div id=\"0f39afae-21fa-436d-af28-b95feaf2af84\"></div>\n",
       "<script>\n",
       "require.config({\n",
       "    paths: {\n",
       "        vis: 'https://unpkg.com/vis-network/standalone/umd/vis-network.min'\n",
       "    }\n",
       "});\n",
       "require(['vis'], function(vis){\n",
       "var nodes = [{\"id\": 0, \"label\": \"2\", \"title\": \"0: A\"}, {\"id\": 1, \"label\": \"3\", \"title\": \"1: B\"}, {\"id\": 2, \"label\": \"2\", \"title\": \"2: C\"}, {\"id\": 3, \"label\": \"1\", \"title\": \"3: D\"}];\n",
       "var edges = [{\"title\": \"0: (A, B)\", \"label\": \"1.33\", \"color\": \"blue\", \"from\": 0, \"to\": 1}, {\"title\": \"1: (A, C)\", \"label\": \"0.665\", \"color\": \"blue\", \"from\": 0, \"to\": 2}, {\"title\": \"2: (B, C)\", \"label\": \"1\", \"color\": \"blue\", \"from\": 1, \"to\": 2}, {\"title\": \"3: (B, D)\", \"label\": \"0.667\", \"color\": \"blue\", \"from\": 1, \"to\": 3}, {\"title\": \"4: (C, D)\", \"label\": \"0.333\", \"color\": \"blue\", \"from\": 2, \"to\": 3}];\n",
       "var data= {\n",
       "    nodes: nodes,\n",
       "    edges: edges,\n",
       "};\n",
       "var options = {\"interaction\": {\"navigationButtons\": true}, \"width\": \"600px\", \"height\": \"600px\"};\n",
       "var container = document.getElementById('0f39afae-21fa-436d-af28-b95feaf2af84');\n",
       "var network = new vis.Network(container, data, options);\n",
       "network.fit({\n",
       "  maxZoomLevel: 1000});\n",
       "});\n",
       "</script>\n"
      ],
      "text/plain": [
       "<IPython.core.display.HTML object>"
      ]
     },
     "metadata": {},
     "output_type": "display_data"
    }
   ],
   "source": [
    "diamond.show_flow()"
   ]
  },
  {
   "cell_type": "markdown",
   "metadata": {},
   "source": [
    "The CCDFs can be computed and shown."
   ]
  },
  {
   "cell_type": "code",
   "execution_count": 27,
   "metadata": {
    "ExecuteTime": {
     "end_time": "2022-01-27T13:28:57.455407Z",
     "start_time": "2022-01-27T13:28:57.443230Z"
    }
   },
   "outputs": [
    {
     "data": {
      "text/plain": [
       "array([[1.000000e+00, 2.577959e-01, 1.152068e-01, 5.024820e-02,\n",
       "        2.153670e-02, 9.112400e-03, 3.836500e-03, 1.607400e-03,\n",
       "        6.671000e-04, 2.713000e-04, 1.060000e-04, 3.630000e-05,\n",
       "        1.010000e-05, 3.200000e-06, 1.200000e-06, 4.000000e-07,\n",
       "        0.000000e+00, 0.000000e+00, 0.000000e+00, 0.000000e+00],\n",
       "       [1.000000e+00, 3.342350e-01, 2.009320e-01, 1.208822e-01,\n",
       "        7.268550e-02, 4.372800e-02, 2.636440e-02, 1.591980e-02,\n",
       "        9.610300e-03, 5.800700e-03, 3.496100e-03, 2.109000e-03,\n",
       "        1.279900e-03, 7.795000e-04, 4.658000e-04, 2.699000e-04,\n",
       "        1.565000e-04, 9.020000e-05, 4.910000e-05, 2.500000e-05],\n",
       "       [1.000000e+00, 1.113018e-01, 3.712710e-02, 1.241880e-02,\n",
       "        4.146900e-03, 1.371000e-03, 4.434000e-04, 1.408000e-04,\n",
       "        4.310000e-05, 1.220000e-05, 3.000000e-06, 6.000000e-07,\n",
       "        1.000000e-07, 0.000000e+00, 0.000000e+00, 0.000000e+00,\n",
       "        0.000000e+00, 0.000000e+00, 0.000000e+00, 0.000000e+00],\n",
       "       [1.000000e+00, 2.326362e-01, 8.715340e-02, 3.145400e-02,\n",
       "        1.115780e-02, 3.956500e-03, 1.403700e-03, 5.126000e-04,\n",
       "        1.859000e-04, 6.580000e-05, 2.280000e-05, 5.500000e-06,\n",
       "        1.100000e-06, 4.000000e-07, 1.000000e-07, 0.000000e+00,\n",
       "        0.000000e+00, 0.000000e+00, 0.000000e+00, 0.000000e+00]])"
      ]
     },
     "execution_count": 27,
     "metadata": {},
     "output_type": "execute_result"
    }
   ],
   "source": [
    "diamond.simulator.compute_ccdf()[:, :20]"
   ]
  },
  {
   "cell_type": "code",
   "execution_count": 28,
   "metadata": {
    "ExecuteTime": {
     "end_time": "2022-01-27T13:28:58.692516Z",
     "start_time": "2022-01-27T13:28:57.459544Z"
    }
   },
   "outputs": [
    {
     "data": {
      "image/png": "[encoded data removed]",
      "text/plain": [
       "<Figure size 640x480 with 1 Axes>"
      ]
     },
     "metadata": {},
     "output_type": "display_data"
    }
   ],
   "source": [
    "fig = diamond.simulator.show_ccdf(sort=True)"
   ]
  },
  {
   "cell_type": "markdown",
   "metadata": {},
   "source": [
    "The queues occupancies are given by:"
   ]
  },
  {
   "cell_type": "code",
   "execution_count": 29,
   "metadata": {
    "ExecuteTime": {
     "end_time": "2022-01-27T13:28:58.708223Z",
     "start_time": "2022-01-27T13:28:58.697036Z"
    }
   },
   "outputs": [
    {
     "data": {
      "text/plain": [
       "array([0.4604395, 0.8389061, 0.1670088, 0.3685558])"
      ]
     },
     "execution_count": 29,
     "metadata": {},
     "output_type": "execute_result"
    }
   ],
   "source": [
    "diamond.simulator.compute_average_queues()"
   ]
  },
  {
   "cell_type": "markdown",
   "metadata": {},
   "source": [
    "They can be displayed (optionally sorted)."
   ]
  },
  {
   "cell_type": "code",
   "execution_count": 30,
   "metadata": {
    "ExecuteTime": {
     "end_time": "2022-01-27T13:28:58.879194Z",
     "start_time": "2022-01-27T13:28:58.711854Z"
    }
   },
   "outputs": [
    {
     "data": {
      "image/png": "[encoded data removed]",
      "text/plain": [
       "<Figure size 640x480 with 1 Axes>"
      ]
     },
     "metadata": {},
     "output_type": "display_data"
    }
   ],
   "source": [
    "fig = diamond.simulator.show_average_queues(sort=True)"
   ]
  },
  {
   "cell_type": "markdown",
   "metadata": {},
   "source": [
    "It is possible to use the arrival rates to express the results as waiting times."
   ]
  },
  {
   "cell_type": "code",
   "execution_count": 31,
   "metadata": {
    "ExecuteTime": {
     "end_time": "2022-01-27T13:28:59.208592Z",
     "start_time": "2022-01-27T13:28:58.883161Z"
    }
   },
   "outputs": [
    {
     "data": {
      "image/png": "[encoded data removed]",
      "text/plain": [
       "<Figure size 640x480 with 1 Axes>"
      ]
     },
     "metadata": {},
     "output_type": "display_data"
    }
   ],
   "source": [
    "fig = diamond.simulator.show_average_queues(sort=True, as_time=True)"
   ]
  },
  {
   "cell_type": "markdown",
   "metadata": {},
   "source": [
    "See the [Simulation notebook](simulator.ipynb) for more details."
   ]
  }
 ],
 "metadata": {
  "kernelspec": {
   "display_name": "Python 3 (ipykernel)",
   "language": "python",
   "name": "python3"
  },
  "language_info": {
   "codemirror_mode": {
    "name": "ipython",
    "version": 3
   },
   "file_extension": ".py",
   "mimetype": "text/x-python",
   "name": "python",
   "nbconvert_exporter": "python",
   "pygments_lexer": "ipython3",
   "version": "3.11.4"
  },
  "toc": {
   "base_numbering": 1,
   "nav_menu": {},
   "number_sections": true,
   "sideBar": true,
   "skip_h1_title": true,
   "title_cell": "Table of Contents",
   "title_sidebar": "Contents",
   "toc_cell": false,
   "toc_position": {},
   "toc_section_display": true,
   "toc_window_display": true
  }
 },
 "nbformat": 4,
 "nbformat_minor": 4
}
