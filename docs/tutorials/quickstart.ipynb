{
 "cells": [
  {
   "cell_type": "markdown",
   "metadata": {},
   "source": [
    "# Getting Started"
   ]
  },
  {
   "cell_type": "markdown",
   "metadata": {},
   "source": [
    "The package `stochastic_matching` allows you to:\n",
    "\n",
    "- Build a stochastic model (from scratch, from one of the provided models, or by some combination).\n",
    "- Attach arrival rates on nodes to it.\n",
    "- Study the theoretical stability of the system.\n",
    "- Explore the feasible matching rates.\n",
    "- Use a simulator to study the behavior of the system under pre-defined or custom-made policies."
   ]
  },
  {
   "cell_type": "markdown",
   "metadata": {},
   "source": [
    "## Graph building"
   ]
  },
  {
   "cell_type": "markdown",
   "metadata": {},
   "source": [
    "Two types of graphs can be used:\n",
    "\n",
    "- Simple graphs, where edges are pairs of distinct nodes.\n",
    "- Hypergraphs, where edges are arbitrary non-empty subsets of nodes, possibly with multiplicity."
   ]
  },
  {
   "cell_type": "markdown",
   "metadata": {},
   "source": [
    "Simple graphs can be created from an adjacency matrix."
   ]
  },
  {
   "cell_type": "code",
   "execution_count": 1,
   "metadata": {
    "ExecuteTime": {
     "end_time": "2022-01-24T09:30:02.804881Z",
     "start_time": "2022-01-24T09:30:01.660850Z"
    }
   },
   "outputs": [],
   "source": [
    "import numpy as np\n",
    "import stochastic_matching as sm\n",
    "\n",
    "adja = np.array([[0, 1, 1, 0],\n",
    "       [1, 0, 1, 1],\n",
    "       [1, 1, 0, 1],\n",
    "       [0, 1, 1, 0]])\n",
    "\n",
    "diamond = sm.Model(adjacency=adja)"
   ]
  },
  {
   "cell_type": "markdown",
   "metadata": {},
   "source": [
    "The graph can be displayed."
   ]
  },
  {
   "cell_type": "code",
   "execution_count": 2,
   "metadata": {
    "ExecuteTime": {
     "end_time": "2022-01-24T09:30:02.820028Z",
     "start_time": "2022-01-24T09:30:02.805860Z"
    }
   },
   "outputs": [
    {
     "data": {
      "text/html": [
       "\n",
       "<div id=\"be2237d9-71b8-4a7d-af37-3f17d64b59c9\"></div>\n",
       "<script>\n",
       "require.config({\n",
       "    paths: {\n",
       "        vis: 'https://unpkg.com/vis-network/standalone/umd/vis-network.min'\n",
       "    }\n",
       "});\n",
       "require(['vis'], function(vis){\n",
       "var nodes = [{\"id\": 0, \"label\": \"0\", \"title\": \"0\"}, {\"id\": 1, \"label\": \"1\", \"title\": \"1\"}, {\"id\": 2, \"label\": \"2\", \"title\": \"2\"}, {\"id\": 3, \"label\": \"3\", \"title\": \"3\"}];\n",
       "var edges = [{\"title\": \"0: (0, 1)\", \"label\": \"\", \"from\": 0, \"to\": 1}, {\"title\": \"1: (0, 2)\", \"label\": \"\", \"from\": 0, \"to\": 2}, {\"title\": \"2: (1, 2)\", \"label\": \"\", \"from\": 1, \"to\": 2}, {\"title\": \"3: (1, 3)\", \"label\": \"\", \"from\": 1, \"to\": 3}, {\"title\": \"4: (2, 3)\", \"label\": \"\", \"from\": 2, \"to\": 3}];\n",
       "var data= {\n",
       "    nodes: nodes,\n",
       "    edges: edges,\n",
       "};\n",
       "var options = {\"interaction\": {\"navigationButtons\": true}, \"width\": \"600px\", \"height\": \"600px\"};\n",
       "var container = document.getElementById('be2237d9-71b8-4a7d-af37-3f17d64b59c9');\n",
       "var network = new vis.Network(container, data, options);\n",
       "network.fit({\n",
       "  maxZoomLevel: 1000});\n",
       "});\n",
       "</script>\n"
      ],
      "text/plain": [
       "<IPython.core.display.HTML object>"
      ]
     },
     "metadata": {},
     "output_type": "display_data"
    }
   ],
   "source": [
    "diamond.show_graph()"
   ]
  },
  {
   "cell_type": "markdown",
   "metadata": {},
   "source": [
    "Hypergraphs can be build from their incidence matrix. For example, the following hypergraph is made of a line of three nodes with mono-edges at both ends. "
   ]
  },
  {
   "cell_type": "code",
   "execution_count": 3,
   "metadata": {
    "ExecuteTime": {
     "end_time": "2022-01-24T09:30:02.835898Z",
     "start_time": "2022-01-24T09:30:02.821741Z"
    }
   },
   "outputs": [],
   "source": [
    "incidence = np.array([[1, 1, 0, 0],\n",
    "                      [0, 1, 1, 0],\n",
    "                      [0, 0, 1, 1]])\n",
    "graph = sm.Model(incidence=incidence, names='alpha')"
   ]
  },
  {
   "cell_type": "markdown",
   "metadata": {},
   "source": [
    "On display, edges are represented by small black nodes, and the edges displayed alway link one node to one edge."
   ]
  },
  {
   "cell_type": "code",
   "execution_count": 4,
   "metadata": {
    "ExecuteTime": {
     "end_time": "2022-01-24T09:30:02.872705Z",
     "start_time": "2022-01-24T09:30:02.837868Z"
    }
   },
   "outputs": [
    {
     "data": {
      "text/html": [
       "\n",
       "<div id=\"0caa4431-ceab-462c-b87c-75058c08bbf0\"></div>\n",
       "<script>\n",
       "require.config({\n",
       "    paths: {\n",
       "        vis: 'https://unpkg.com/vis-network/standalone/umd/vis-network.min'\n",
       "    }\n",
       "});\n",
       "require(['vis'], function(vis){\n",
       "var nodes = [{\"id\": 0, \"label\": \"A\", \"title\": \"0: A\", \"x\": 0, \"group\": \"Node\"}, {\"id\": 1, \"label\": \"B\", \"title\": \"1: B\", \"x\": 0, \"group\": \"Node\"}, {\"id\": 2, \"label\": \"C\", \"title\": \"2: C\", \"x\": 0, \"group\": \"Node\"}, {\"title\": \"0: (A)\", \"label\": \"\", \"id\": 3, \"group\": \"HyperEdge\", \"x\": 600}, {\"title\": \"1: (A, B)\", \"label\": \"\", \"id\": 4, \"group\": \"HyperEdge\", \"x\": 600}, {\"title\": \"2: (B, C)\", \"label\": \"\", \"id\": 5, \"group\": \"HyperEdge\", \"x\": 600}, {\"title\": \"3: (C)\", \"label\": \"\", \"id\": 6, \"group\": \"HyperEdge\", \"x\": 600}];\n",
       "var edges = [{\"from\": 0, \"to\": 3, \"title\": \"0: A <-> 0: (A)\"}, {\"from\": 0, \"to\": 4, \"title\": \"0: A <-> 1: (A, B)\"}, {\"from\": 1, \"to\": 4, \"title\": \"1: B <-> 1: (A, B)\"}, {\"from\": 1, \"to\": 5, \"title\": \"1: B <-> 2: (B, C)\"}, {\"from\": 2, \"to\": 5, \"title\": \"2: C <-> 2: (B, C)\"}, {\"from\": 2, \"to\": 6, \"title\": \"2: C <-> 3: (C)\"}];\n",
       "var data= {\n",
       "    nodes: nodes,\n",
       "    edges: edges,\n",
       "};\n",
       "var options = {\"interaction\": {\"navigationButtons\": true}, \"width\": \"600px\", \"height\": \"600px\", \"groups\": {\"HyperEdge\": {\"fixed\": {\"x\": false}, \"color\": {\"background\": \"black\"}, \"shape\": \"dot\", \"size\": 5}, \"Node\": {\"fixed\": {\"x\": false}}}};\n",
       "var container = document.getElementById('0caa4431-ceab-462c-b87c-75058c08bbf0');\n",
       "var network = new vis.Network(container, data, options);\n",
       "network.fit({\n",
       "  maxZoomLevel: 1000});\n",
       "});\n",
       "</script>\n"
      ],
      "text/plain": [
       "<IPython.core.display.HTML object>"
      ]
     },
     "metadata": {},
     "output_type": "display_data"
    }
   ],
   "source": [
    "graph.show_graph()"
   ]
  },
  {
   "cell_type": "markdown",
   "metadata": {},
   "source": [
    "The package provides several graph generators to create graphs without manually describing them."
   ]
  },
  {
   "cell_type": "code",
   "execution_count": 5,
   "metadata": {
    "ExecuteTime": {
     "end_time": "2022-01-24T09:30:02.882931Z",
     "start_time": "2022-01-24T09:30:02.873794Z"
    }
   },
   "outputs": [
    {
     "data": {
      "text/html": [
       "\n",
       "<div id=\"aa0c67ad-083e-466e-98af-7c82ed141bfe\"></div>\n",
       "<script>\n",
       "require.config({\n",
       "    paths: {\n",
       "        vis: 'https://unpkg.com/vis-network/standalone/umd/vis-network.min'\n",
       "    }\n",
       "});\n",
       "require(['vis'], function(vis){\n",
       "var nodes = [{\"id\": 0, \"label\": \"0\", \"title\": \"0\"}, {\"id\": 1, \"label\": \"1\", \"title\": \"1\"}, {\"id\": 2, \"label\": \"2\", \"title\": \"2\"}, {\"id\": 3, \"label\": \"3\", \"title\": \"3\"}];\n",
       "var edges = [{\"title\": \"0: (0, 1)\", \"label\": \"\", \"from\": 0, \"to\": 1}, {\"title\": \"1: (0, 2)\", \"label\": \"\", \"from\": 0, \"to\": 2}, {\"title\": \"2: (1, 2)\", \"label\": \"\", \"from\": 1, \"to\": 2}, {\"title\": \"3: (2, 3)\", \"label\": \"\", \"from\": 2, \"to\": 3}];\n",
       "var data= {\n",
       "    nodes: nodes,\n",
       "    edges: edges,\n",
       "};\n",
       "var options = {\"interaction\": {\"navigationButtons\": true}, \"width\": \"600px\", \"height\": \"600px\"};\n",
       "var container = document.getElementById('aa0c67ad-083e-466e-98af-7c82ed141bfe');\n",
       "var network = new vis.Network(container, data, options);\n",
       "network.fit({\n",
       "  maxZoomLevel: 1000});\n",
       "});\n",
       "</script>\n"
      ],
      "text/plain": [
       "<IPython.core.display.HTML object>"
      ]
     },
     "metadata": {},
     "output_type": "display_data"
    }
   ],
   "source": [
    "paw = sm.Tadpole()\n",
    "paw.show_graph()"
   ]
  },
  {
   "cell_type": "code",
   "execution_count": 6,
   "metadata": {
    "ExecuteTime": {
     "end_time": "2022-01-24T09:30:02.898104Z",
     "start_time": "2022-01-24T09:30:02.885175Z"
    }
   },
   "outputs": [
    {
     "data": {
      "text/html": [
       "\n",
       "<div id=\"f7191dad-9a64-496c-b1ae-7bb4ff0d5492\"></div>\n",
       "<script>\n",
       "require.config({\n",
       "    paths: {\n",
       "        vis: 'https://unpkg.com/vis-network/standalone/umd/vis-network.min'\n",
       "    }\n",
       "});\n",
       "require(['vis'], function(vis){\n",
       "var nodes = [{\"id\": 0, \"label\": \"A\", \"title\": \"0: A\", \"x\": 0, \"group\": \"Node\"}, {\"id\": 1, \"label\": \"B\", \"title\": \"1: B\", \"x\": 0, \"group\": \"Node\"}, {\"id\": 2, \"label\": \"C\", \"title\": \"2: C\", \"x\": 0, \"group\": \"Node\"}, {\"id\": 3, \"label\": \"D\", \"title\": \"3: D\", \"x\": 0, \"group\": \"Node\"}, {\"id\": 4, \"label\": \"E\", \"title\": \"4: E\", \"x\": 0, \"group\": \"Node\"}, {\"id\": 5, \"label\": \"F\", \"title\": \"5: F\", \"x\": 0, \"group\": \"Node\"}, {\"id\": 6, \"label\": \"G\", \"title\": \"6: G\", \"x\": 0, \"group\": \"Node\"}, {\"title\": \"0: (A, B)\", \"label\": \"\", \"id\": 7, \"group\": \"HyperEdge\", \"x\": 600}, {\"title\": \"1: (A, C)\", \"label\": \"\", \"id\": 8, \"group\": \"HyperEdge\", \"x\": 600}, {\"title\": \"2: (B, C)\", \"label\": \"\", \"id\": 9, \"group\": \"HyperEdge\", \"x\": 600}, {\"title\": \"3: (E, F)\", \"label\": \"\", \"id\": 10, \"group\": \"HyperEdge\", \"x\": 600}, {\"title\": \"4: (E, G)\", \"label\": \"\", \"id\": 11, \"group\": \"HyperEdge\", \"x\": 600}, {\"title\": \"5: (F, G)\", \"label\": \"\", \"id\": 12, \"group\": \"HyperEdge\", \"x\": 600}, {\"title\": \"6: (C, D, E)\", \"label\": \"\", \"id\": 13, \"group\": \"HyperEdge\", \"x\": 600}];\n",
       "var edges = [{\"from\": 0, \"to\": 7, \"title\": \"0: A <-> 0: (A, B)\"}, {\"from\": 0, \"to\": 8, \"title\": \"0: A <-> 1: (A, C)\"}, {\"from\": 1, \"to\": 7, \"title\": \"1: B <-> 0: (A, B)\"}, {\"from\": 1, \"to\": 9, \"title\": \"1: B <-> 2: (B, C)\"}, {\"from\": 2, \"to\": 8, \"title\": \"2: C <-> 1: (A, C)\"}, {\"from\": 2, \"to\": 9, \"title\": \"2: C <-> 2: (B, C)\"}, {\"from\": 2, \"to\": 13, \"title\": \"2: C <-> 6: (C, D, E)\"}, {\"from\": 3, \"to\": 13, \"title\": \"3: D <-> 6: (C, D, E)\"}, {\"from\": 4, \"to\": 10, \"title\": \"4: E <-> 3: (E, F)\"}, {\"from\": 4, \"to\": 11, \"title\": \"4: E <-> 4: (E, G)\"}, {\"from\": 4, \"to\": 13, \"title\": \"4: E <-> 6: (C, D, E)\"}, {\"from\": 5, \"to\": 10, \"title\": \"5: F <-> 3: (E, F)\"}, {\"from\": 5, \"to\": 12, \"title\": \"5: F <-> 5: (F, G)\"}, {\"from\": 6, \"to\": 11, \"title\": \"6: G <-> 4: (E, G)\"}, {\"from\": 6, \"to\": 12, \"title\": \"6: G <-> 5: (F, G)\"}];\n",
       "var data= {\n",
       "    nodes: nodes,\n",
       "    edges: edges,\n",
       "};\n",
       "var options = {\"interaction\": {\"navigationButtons\": true}, \"width\": \"600px\", \"height\": \"600px\", \"groups\": {\"HyperEdge\": {\"fixed\": {\"x\": false}, \"color\": {\"background\": \"black\"}, \"shape\": \"dot\", \"size\": 5}, \"Node\": {\"fixed\": {\"x\": false}}}};\n",
       "var container = document.getElementById('f7191dad-9a64-496c-b1ae-7bb4ff0d5492');\n",
       "var network = new vis.Network(container, data, options);\n",
       "network.fit({\n",
       "  maxZoomLevel: 1000});\n",
       "});\n",
       "</script>\n"
      ],
      "text/plain": [
       "<IPython.core.display.HTML object>"
      ]
     },
     "metadata": {},
     "output_type": "display_data"
    }
   ],
   "source": [
    "candy = sm.HyperPaddle(names='alpha')\n",
    "candy.show_graph()"
   ]
  },
  {
   "cell_type": "markdown",
   "metadata": {},
   "source": [
    "See the [Graphs notebook](graphs.ipynb) for details."
   ]
  },
  {
   "cell_type": "markdown",
   "metadata": {},
   "source": [
    "## Stability and achievable matching rates"
   ]
  },
  {
   "cell_type": "markdown",
   "metadata": {},
   "source": [
    "To study a matching queues system, you need to associate a graph to arrival rates on nodes."
   ]
  },
  {
   "cell_type": "code",
   "execution_count": 7,
   "metadata": {
    "ExecuteTime": {
     "end_time": "2022-01-24T09:30:02.913292Z",
     "start_time": "2022-01-24T09:30:02.899547Z"
    }
   },
   "outputs": [],
   "source": [
    "diamond = sm.CycleChain(names='alpha', rates=[2, 3, 2, 1])"
   ]
  },
  {
   "cell_type": "markdown",
   "metadata": {},
   "source": [
    "From then you can see if a stable solution exists."
   ]
  },
  {
   "cell_type": "code",
   "execution_count": 8,
   "metadata": {
    "ExecuteTime": {
     "end_time": "2022-01-24T09:30:02.928484Z",
     "start_time": "2022-01-24T09:30:02.914992Z"
    }
   },
   "outputs": [
    {
     "data": {
      "text/plain": [
       "True"
      ]
     },
     "execution_count": 8,
     "metadata": {},
     "output_type": "execute_result"
    }
   ],
   "source": [
    "diamond.stabilizable"
   ]
  },
  {
   "cell_type": "markdown",
   "metadata": {},
   "source": [
    "You can access the kernel space of solutions."
   ]
  },
  {
   "cell_type": "code",
   "execution_count": 9,
   "metadata": {
    "ExecuteTime": {
     "end_time": "2022-01-24T09:30:02.974840Z",
     "start_time": "2022-01-24T09:30:02.929481Z"
    }
   },
   "outputs": [
    {
     "data": {
      "text/plain": [
       "Kernels of a graph with 4 nodes and 5 edges.\n",
       "Node dimension is 0.\n",
       "Edge dimension is 1\n",
       "Type: Surjective-only\n",
       "Node kernel:\n",
       "[]\n",
       "Edge kernel:\n",
       "[[ 1 -1  0 -1  1]]"
      ]
     },
     "execution_count": 9,
     "metadata": {},
     "output_type": "execute_result"
    }
   ],
   "source": [
    "diamond.kernel"
   ]
  },
  {
   "cell_type": "markdown",
   "metadata": {},
   "source": [
    "You can have the *default* solution, which is the product of the arrival rates by the pseudo-inverse of the incidence matrix. Note that the default solution may not be positive even if a positive solution exists."
   ]
  },
  {
   "cell_type": "code",
   "execution_count": 10,
   "metadata": {
    "ExecuteTime": {
     "end_time": "2022-01-24T09:30:02.990757Z",
     "start_time": "2022-01-24T09:30:02.980867Z"
    }
   },
   "outputs": [
    {
     "data": {
      "text/plain": [
       "array([1.25, 0.75, 1.  , 0.75, 0.25])"
      ]
     },
     "execution_count": 10,
     "metadata": {},
     "output_type": "execute_result"
    }
   ],
   "source": [
    "diamond.base_flow"
   ]
  },
  {
   "cell_type": "markdown",
   "metadata": {},
   "source": [
    "You can compute the maximin solution, which maximizes the minimum of the rates over all edges."
   ]
  },
  {
   "cell_type": "code",
   "execution_count": 11,
   "metadata": {
    "ExecuteTime": {
     "end_time": "2022-01-24T09:30:03.028626Z",
     "start_time": "2022-01-24T09:30:02.993158Z"
    }
   },
   "outputs": [
    {
     "data": {
      "text/plain": [
       "array([1.5, 0.5, 1. , 0.5, 0.5])"
      ]
     },
     "execution_count": 11,
     "metadata": {},
     "output_type": "execute_result"
    }
   ],
   "source": [
    "diamond.maximin"
   ]
  },
  {
   "cell_type": "markdown",
   "metadata": {},
   "source": [
    "You can find a flow that maximizes a given edge. The following maximizes the last edge."
   ]
  },
  {
   "cell_type": "code",
   "execution_count": 12,
   "metadata": {
    "ExecuteTime": {
     "end_time": "2022-01-24T09:30:03.037469Z",
     "start_time": "2022-01-24T09:30:03.030626Z"
    }
   },
   "outputs": [
    {
     "data": {
      "text/plain": [
       "array([2., 0., 1., 0., 1.])"
      ]
     },
     "execution_count": 12,
     "metadata": {},
     "output_type": "execute_result"
    }
   ],
   "source": [
    "diamond.optimize_edge(4, 1)"
   ]
  },
  {
   "cell_type": "markdown",
   "metadata": {},
   "source": [
    "We can also minimize it."
   ]
  },
  {
   "cell_type": "code",
   "execution_count": 13,
   "metadata": {
    "ExecuteTime": {
     "end_time": "2022-01-24T09:30:03.052828Z",
     "start_time": "2022-01-24T09:30:03.038648Z"
    }
   },
   "outputs": [
    {
     "data": {
      "text/plain": [
       "array([1., 1., 1., 1., 0.])"
      ]
     },
     "execution_count": 13,
     "metadata": {},
     "output_type": "execute_result"
    }
   ],
   "source": [
    "diamond.optimize_edge(4, -1)"
   ]
  },
  {
   "cell_type": "markdown",
   "metadata": {},
   "source": [
    "We can also provide the incompressible flow, i.e. for each edge the minimal rate that goes through in any solution."
   ]
  },
  {
   "cell_type": "code",
   "execution_count": 14,
   "metadata": {
    "ExecuteTime": {
     "end_time": "2022-01-24T09:30:03.068978Z",
     "start_time": "2022-01-24T09:30:03.054170Z"
    }
   },
   "outputs": [
    {
     "data": {
      "text/plain": [
       "array([1., 0., 1., 0., 0.])"
      ]
     },
     "execution_count": 14,
     "metadata": {},
     "output_type": "execute_result"
    }
   ],
   "source": [
    "diamond.incompressible_flow()"
   ]
  },
  {
   "cell_type": "markdown",
   "metadata": {},
   "source": [
    "Flows can be displayed using the `show_flow` method. If no flow is provided, the base flow is displayed."
   ]
  },
  {
   "cell_type": "code",
   "execution_count": 15,
   "metadata": {
    "ExecuteTime": {
     "end_time": "2022-01-24T09:30:03.083995Z",
     "start_time": "2022-01-24T09:30:03.071147Z"
    }
   },
   "outputs": [
    {
     "data": {
      "text/html": [
       "\n",
       "<div id=\"3f55fd2b-de7c-4724-b1a7-e4aaa4bb61c1\"></div>\n",
       "<script>\n",
       "require.config({\n",
       "    paths: {\n",
       "        vis: 'https://unpkg.com/vis-network/standalone/umd/vis-network.min'\n",
       "    }\n",
       "});\n",
       "require(['vis'], function(vis){\n",
       "var nodes = [{\"id\": 0, \"label\": \"2\", \"title\": \"0: A\"}, {\"id\": 1, \"label\": \"3\", \"title\": \"1: B\"}, {\"id\": 2, \"label\": \"2\", \"title\": \"2: C\"}, {\"id\": 3, \"label\": \"1\", \"title\": \"3: D\"}];\n",
       "var edges = [{\"title\": \"0: (A, B)\", \"label\": \"1.25\", \"color\": \"blue\", \"from\": 0, \"to\": 1}, {\"title\": \"1: (A, C)\", \"label\": \"0.75\", \"color\": \"blue\", \"from\": 0, \"to\": 2}, {\"title\": \"2: (B, C)\", \"label\": \"1\", \"color\": \"blue\", \"from\": 1, \"to\": 2}, {\"title\": \"3: (B, D)\", \"label\": \"0.75\", \"color\": \"blue\", \"from\": 1, \"to\": 3}, {\"title\": \"4: (C, D)\", \"label\": \"0.25\", \"color\": \"blue\", \"from\": 2, \"to\": 3}];\n",
       "var data= {\n",
       "    nodes: nodes,\n",
       "    edges: edges,\n",
       "};\n",
       "var options = {\"interaction\": {\"navigationButtons\": true}, \"width\": \"600px\", \"height\": \"600px\"};\n",
       "var container = document.getElementById('3f55fd2b-de7c-4724-b1a7-e4aaa4bb61c1');\n",
       "var network = new vis.Network(container, data, options);\n",
       "network.fit({\n",
       "  maxZoomLevel: 1000});\n",
       "});\n",
       "</script>\n"
      ],
      "text/plain": [
       "<IPython.core.display.HTML object>"
      ]
     },
     "metadata": {},
     "output_type": "display_data"
    }
   ],
   "source": [
    "diamond.show_flow()"
   ]
  },
  {
   "cell_type": "code",
   "execution_count": 16,
   "metadata": {
    "ExecuteTime": {
     "end_time": "2022-01-24T09:30:03.099297Z",
     "start_time": "2022-01-24T09:30:03.086156Z"
    }
   },
   "outputs": [
    {
     "data": {
      "text/html": [
       "\n",
       "<div id=\"adc5d989-c6a9-4ae1-9859-f1653c5838af\"></div>\n",
       "<script>\n",
       "require.config({\n",
       "    paths: {\n",
       "        vis: 'https://unpkg.com/vis-network/standalone/umd/vis-network.min'\n",
       "    }\n",
       "});\n",
       "require(['vis'], function(vis){\n",
       "var nodes = [{\"id\": 0, \"label\": \"2\", \"title\": \"0: A\"}, {\"id\": 1, \"label\": \"3\", \"title\": \"1: B\"}, {\"id\": 2, \"label\": \"2\", \"title\": \"2: C\"}, {\"id\": 3, \"label\": \"1\", \"title\": \"3: D\"}];\n",
       "var edges = [{\"title\": \"0: (A, B)\", \"label\": \"1.5\", \"color\": \"blue\", \"from\": 0, \"to\": 1}, {\"title\": \"1: (A, C)\", \"label\": \"0.5\", \"color\": \"blue\", \"from\": 0, \"to\": 2}, {\"title\": \"2: (B, C)\", \"label\": \"1\", \"color\": \"blue\", \"from\": 1, \"to\": 2}, {\"title\": \"3: (B, D)\", \"label\": \"0.5\", \"color\": \"blue\", \"from\": 1, \"to\": 3}, {\"title\": \"4: (C, D)\", \"label\": \"0.5\", \"color\": \"blue\", \"from\": 2, \"to\": 3}];\n",
       "var data= {\n",
       "    nodes: nodes,\n",
       "    edges: edges,\n",
       "};\n",
       "var options = {\"interaction\": {\"navigationButtons\": true}, \"width\": \"600px\", \"height\": \"600px\"};\n",
       "var container = document.getElementById('adc5d989-c6a9-4ae1-9859-f1653c5838af');\n",
       "var network = new vis.Network(container, data, options);\n",
       "network.fit({\n",
       "  maxZoomLevel: 1000});\n",
       "});\n",
       "</script>\n"
      ],
      "text/plain": [
       "<IPython.core.display.HTML object>"
      ]
     },
     "metadata": {},
     "output_type": "display_data"
    }
   ],
   "source": [
    "diamond.show_flow(flow=diamond.maximin)"
   ]
  },
  {
   "cell_type": "markdown",
   "metadata": {},
   "source": [
    "A color code shows the problematic nodes with flow conservation issues and non-positive edges."
   ]
  },
  {
   "cell_type": "code",
   "execution_count": 17,
   "metadata": {
    "ExecuteTime": {
     "end_time": "2022-01-24T09:30:03.115246Z",
     "start_time": "2022-01-24T09:30:03.101128Z"
    }
   },
   "outputs": [
    {
     "data": {
      "text/html": [
       "\n",
       "<div id=\"e6e7dda9-68dc-4136-88ac-de83c7af022f\"></div>\n",
       "<script>\n",
       "require.config({\n",
       "    paths: {\n",
       "        vis: 'https://unpkg.com/vis-network/standalone/umd/vis-network.min'\n",
       "    }\n",
       "});\n",
       "require(['vis'], function(vis){\n",
       "var nodes = [{\"id\": 0, \"label\": \"2\", \"title\": \"0: A\"}, {\"id\": 1, \"label\": \"3\", \"title\": \"1: B\"}, {\"id\": 2, \"label\": \"2\", \"title\": \"2: C\"}, {\"id\": 3, \"label\": \"1\", \"title\": \"3: D\"}];\n",
       "var edges = [{\"title\": \"0: (A, B)\", \"label\": \"2\", \"color\": \"blue\", \"from\": 0, \"to\": 1}, {\"title\": \"1: (A, C)\", \"label\": \"0\", \"color\": \"orange\", \"from\": 0, \"to\": 2}, {\"title\": \"2: (B, C)\", \"label\": \"1\", \"color\": \"blue\", \"from\": 1, \"to\": 2}, {\"title\": \"3: (B, D)\", \"label\": \"0\", \"color\": \"orange\", \"from\": 1, \"to\": 3}, {\"title\": \"4: (C, D)\", \"label\": \"1\", \"color\": \"blue\", \"from\": 2, \"to\": 3}];\n",
       "var data= {\n",
       "    nodes: nodes,\n",
       "    edges: edges,\n",
       "};\n",
       "var options = {\"interaction\": {\"navigationButtons\": true}, \"width\": \"600px\", \"height\": \"600px\"};\n",
       "var container = document.getElementById('e6e7dda9-68dc-4136-88ac-de83c7af022f');\n",
       "var network = new vis.Network(container, data, options);\n",
       "network.fit({\n",
       "  maxZoomLevel: 1000});\n",
       "});\n",
       "</script>\n"
      ],
      "text/plain": [
       "<IPython.core.display.HTML object>"
      ]
     },
     "metadata": {},
     "output_type": "display_data"
    }
   ],
   "source": [
    "diamond.show_flow(flow=diamond.optimize_edge(4, 1))"
   ]
  },
  {
   "cell_type": "markdown",
   "metadata": {},
   "source": [
    "If you want to have a closer look to the polytope of solutions, you can display the kernel:"
   ]
  },
  {
   "cell_type": "code",
   "execution_count": 18,
   "metadata": {
    "ExecuteTime": {
     "end_time": "2022-01-24T09:30:03.130781Z",
     "start_time": "2022-01-24T09:30:03.116257Z"
    }
   },
   "outputs": [
    {
     "data": {
      "text/html": [
       "\n",
       "<div id=\"26b1bd46-a50a-4b48-acf2-514ef7d6f85e\"></div>\n",
       "<script>\n",
       "require.config({\n",
       "    paths: {\n",
       "        vis: 'https://unpkg.com/vis-network/standalone/umd/vis-network.min'\n",
       "    }\n",
       "});\n",
       "require(['vis'], function(vis){\n",
       "var nodes = [{\"id\": 0, \"label\": \"2\", \"title\": \"0: A\"}, {\"id\": 1, \"label\": \"3\", \"title\": \"1: B\"}, {\"id\": 2, \"label\": \"2\", \"title\": \"2: C\"}, {\"id\": 3, \"label\": \"1\", \"title\": \"3: D\"}];\n",
       "var edges = [{\"title\": \"0: (A, B)\", \"label\": \"1.5+\\u03b11\", \"from\": 0, \"to\": 1}, {\"title\": \"1: (A, C)\", \"label\": \"0.5-\\u03b11\", \"from\": 0, \"to\": 2}, {\"title\": \"2: (B, C)\", \"label\": \"1\", \"color\": \"black\", \"from\": 1, \"to\": 2}, {\"title\": \"3: (B, D)\", \"label\": \"0.5-\\u03b11\", \"from\": 1, \"to\": 3}, {\"title\": \"4: (C, D)\", \"label\": \"0.5+\\u03b11\", \"from\": 2, \"to\": 3}];\n",
       "var data= {\n",
       "    nodes: nodes,\n",
       "    edges: edges,\n",
       "};\n",
       "var options = {\"interaction\": {\"navigationButtons\": true}, \"width\": \"600px\", \"height\": \"600px\"};\n",
       "var container = document.getElementById('26b1bd46-a50a-4b48-acf2-514ef7d6f85e');\n",
       "var network = new vis.Network(container, data, options);\n",
       "network.fit({\n",
       "  maxZoomLevel: 1000});\n",
       "});\n",
       "</script>\n"
      ],
      "text/plain": [
       "<IPython.core.display.HTML object>"
      ]
     },
     "metadata": {},
     "output_type": "display_data"
    }
   ],
   "source": [
    "diamond.show_kernel(disp_flow=True, flow=diamond.maximin)"
   ]
  },
  {
   "cell_type": "markdown",
   "metadata": {},
   "source": [
    "You can access the vertices of the polytope."
   ]
  },
  {
   "cell_type": "code",
   "execution_count": 19,
   "metadata": {
    "ExecuteTime": {
     "end_time": "2022-01-24T09:30:03.146238Z",
     "start_time": "2022-01-24T09:30:03.131785Z"
    }
   },
   "outputs": [
    {
     "data": {
      "text/plain": [
       "[{'alpha': array([-0.25]),\n",
       "  'lambda': array([1., 1., 1., 1., 0.]),\n",
       "  'bijective': True},\n",
       " {'alpha': array([0.75]),\n",
       "  'lambda': array([2., 0., 1., 0., 1.]),\n",
       "  'bijective': False}]"
      ]
     },
     "execution_count": 19,
     "metadata": {},
     "output_type": "execute_result"
    }
   ],
   "source": [
    "diamond.vertices"
   ]
  },
  {
   "cell_type": "markdown",
   "metadata": {},
   "source": [
    "You can display a vertex."
   ]
  },
  {
   "cell_type": "code",
   "execution_count": 20,
   "metadata": {
    "ExecuteTime": {
     "end_time": "2022-01-24T09:30:03.162131Z",
     "start_time": "2022-01-24T09:30:03.147430Z"
    }
   },
   "outputs": [
    {
     "data": {
      "text/html": [
       "\n",
       "<div id=\"07b81c60-cc08-4f7c-86d4-887c617e10a7\"></div>\n",
       "<script>\n",
       "require.config({\n",
       "    paths: {\n",
       "        vis: 'https://unpkg.com/vis-network/standalone/umd/vis-network.min'\n",
       "    }\n",
       "});\n",
       "require(['vis'], function(vis){\n",
       "var nodes = [{\"id\": 0, \"label\": \"2\", \"title\": \"0: A\"}, {\"id\": 1, \"label\": \"3\", \"title\": \"1: B\"}, {\"id\": 2, \"label\": \"2\", \"title\": \"2: C\"}, {\"id\": 3, \"label\": \"1\", \"title\": \"3: D\"}];\n",
       "var edges = [{\"title\": \"0: (A, B)\", \"label\": \"1\", \"color\": \"blue\", \"from\": 0, \"to\": 1}, {\"title\": \"1: (A, C)\", \"label\": \"1\", \"color\": \"blue\", \"from\": 0, \"to\": 2}, {\"title\": \"2: (B, C)\", \"label\": \"1\", \"color\": \"blue\", \"from\": 1, \"to\": 2}, {\"title\": \"3: (B, D)\", \"label\": \"1\", \"color\": \"blue\", \"from\": 1, \"to\": 3}, {\"title\": \"4: (C, D)\", \"label\": \"\", \"color\": \"orange\", \"from\": 2, \"to\": 3}];\n",
       "var data= {\n",
       "    nodes: nodes,\n",
       "    edges: edges,\n",
       "};\n",
       "var options = {\"interaction\": {\"navigationButtons\": true}, \"width\": \"600px\", \"height\": \"600px\"};\n",
       "var container = document.getElementById('07b81c60-cc08-4f7c-86d4-887c617e10a7');\n",
       "var network = new vis.Network(container, data, options);\n",
       "network.fit({\n",
       "  maxZoomLevel: 1000});\n",
       "});\n",
       "</script>\n"
      ],
      "text/plain": [
       "<IPython.core.display.HTML object>"
      ]
     },
     "metadata": {},
     "output_type": "display_data"
    }
   ],
   "source": [
    "diamond.show_vertex(0)"
   ]
  },
  {
   "cell_type": "code",
   "execution_count": 21,
   "metadata": {
    "ExecuteTime": {
     "end_time": "2022-01-24T09:30:03.178194Z",
     "start_time": "2022-01-24T09:30:03.163956Z"
    }
   },
   "outputs": [
    {
     "data": {
      "text/html": [
       "\n",
       "<div id=\"31d41036-00dc-429e-bc33-847b2a9ee861\"></div>\n",
       "<script>\n",
       "require.config({\n",
       "    paths: {\n",
       "        vis: 'https://unpkg.com/vis-network/standalone/umd/vis-network.min'\n",
       "    }\n",
       "});\n",
       "require(['vis'], function(vis){\n",
       "var nodes = [{\"id\": 0, \"label\": \"2\", \"title\": \"0: A\"}, {\"id\": 1, \"label\": \"3\", \"title\": \"1: B\"}, {\"id\": 2, \"label\": \"2\", \"title\": \"2: C\"}, {\"id\": 3, \"label\": \"1\", \"title\": \"3: D\"}];\n",
       "var edges = [{\"title\": \"0: (A, B)\", \"label\": \"2\", \"color\": \"blue\", \"from\": 0, \"to\": 1}, {\"title\": \"1: (A, C)\", \"label\": \"\", \"color\": \"orange\", \"from\": 0, \"to\": 2}, {\"title\": \"2: (B, C)\", \"label\": \"1\", \"color\": \"blue\", \"from\": 1, \"to\": 2}, {\"title\": \"3: (B, D)\", \"label\": \"\", \"color\": \"orange\", \"from\": 1, \"to\": 3}, {\"title\": \"4: (C, D)\", \"label\": \"1\", \"color\": \"blue\", \"from\": 2, \"to\": 3}];\n",
       "var data= {\n",
       "    nodes: nodes,\n",
       "    edges: edges,\n",
       "};\n",
       "var options = {\"interaction\": {\"navigationButtons\": true}, \"width\": \"600px\", \"height\": \"600px\"};\n",
       "var container = document.getElementById('31d41036-00dc-429e-bc33-847b2a9ee861');\n",
       "var network = new vis.Network(container, data, options);\n",
       "network.fit({\n",
       "  maxZoomLevel: 1000});\n",
       "});\n",
       "</script>\n"
      ],
      "text/plain": [
       "<IPython.core.display.HTML object>"
      ]
     },
     "metadata": {},
     "output_type": "display_data"
    }
   ],
   "source": [
    "diamond.show_vertex(1)"
   ]
  },
  {
   "cell_type": "markdown",
   "metadata": {},
   "source": [
    "See the [Algebra notebook](spectral.ipynb) for more details."
   ]
  },
  {
   "cell_type": "markdown",
   "metadata": {},
   "source": [
    "## Simulations"
   ]
  },
  {
   "cell_type": "markdown",
   "metadata": {},
   "source": [
    "To run a simulation, you just need to specify:\n",
    "\n",
    "- A policy (using the name of an implemented policy or providing a custom one)\n",
    "- Number of arrival rates to simulate (default to 1,000,000)\n",
    "- The maximal queue size (default to 1,000)\n",
    "- A random seed (optional)"
   ]
  },
  {
   "cell_type": "markdown",
   "metadata": {},
   "source": [
    "The simulator returns an estimate of the stability of the policy: False if a queue was maxed before the end, True otherwise."
   ]
  },
  {
   "cell_type": "code",
   "execution_count": 22,
   "metadata": {
    "ExecuteTime": {
     "end_time": "2022-01-24T09:30:07.478530Z",
     "start_time": "2022-01-24T09:30:03.179612Z"
    }
   },
   "outputs": [
    {
     "data": {
      "text/plain": [
       "True"
      ]
     },
     "execution_count": 22,
     "metadata": {},
     "output_type": "execute_result"
    }
   ],
   "source": [
    "diamond.run('longest_queue', number_events=10000000)"
   ]
  },
  {
   "cell_type": "markdown",
   "metadata": {},
   "source": [
    "The results of simulation are stored in a `logs` attribute that contains:\n",
    "\n",
    "- The number of matchings for each edge\n",
    "- For each node and state, the number of steps spent by that node in that state\n",
    "- Number of steps performed"
   ]
  },
  {
   "cell_type": "code",
   "execution_count": 23,
   "metadata": {
    "ExecuteTime": {
     "end_time": "2022-01-24T09:30:07.493951Z",
     "start_time": "2022-01-24T09:30:07.479846Z"
    }
   },
   "outputs": [
    {
     "data": {
      "text/plain": [
       "{'trafic': array([1665326,  833127, 1249774,  835336,  416437], dtype=uint32),\n",
       " 'queue_log': array([[7417071, 1428725,  651965, ...,       0,       0,       0],\n",
       "        [6665969, 1334523,  799533, ...,       0,       0,       0],\n",
       "        [8890495,  740647,  246464, ...,       0,       0,       0],\n",
       "        [7669385, 1461360,  557412, ...,       0,       0,       0]],\n",
       "       dtype=uint32),\n",
       " 'steps_done': 10000000}"
      ]
     },
     "execution_count": 23,
     "metadata": {},
     "output_type": "execute_result"
    }
   ],
   "source": [
    "diamond.simulator.logs"
   ]
  },
  {
   "cell_type": "markdown",
   "metadata": {},
   "source": [
    "The flow can be displayed."
   ]
  },
  {
   "cell_type": "code",
   "execution_count": 24,
   "metadata": {
    "ExecuteTime": {
     "end_time": "2022-01-24T09:30:07.509375Z",
     "start_time": "2022-01-24T09:30:07.494968Z"
    }
   },
   "outputs": [
    {
     "data": {
      "text/html": [
       "\n",
       "<div id=\"1ea8ad22-e205-464e-86d9-c82fa362bcc5\"></div>\n",
       "<script>\n",
       "require.config({\n",
       "    paths: {\n",
       "        vis: 'https://unpkg.com/vis-network/standalone/umd/vis-network.min'\n",
       "    }\n",
       "});\n",
       "require(['vis'], function(vis){\n",
       "var nodes = [{\"id\": 0, \"label\": \"2\", \"title\": \"0: A\"}, {\"id\": 1, \"label\": \"3\", \"title\": \"1: B\"}, {\"id\": 2, \"label\": \"2\", \"title\": \"2: C\"}, {\"id\": 3, \"label\": \"1\", \"title\": \"3: D\"}];\n",
       "var edges = [{\"title\": \"0: (A, B)\", \"label\": \"1.33\", \"color\": \"blue\", \"from\": 0, \"to\": 1}, {\"title\": \"1: (A, C)\", \"label\": \"0.667\", \"color\": \"blue\", \"from\": 0, \"to\": 2}, {\"title\": \"2: (B, C)\", \"label\": \"1\", \"color\": \"blue\", \"from\": 1, \"to\": 2}, {\"title\": \"3: (B, D)\", \"label\": \"0.668\", \"color\": \"blue\", \"from\": 1, \"to\": 3}, {\"title\": \"4: (C, D)\", \"label\": \"0.333\", \"color\": \"blue\", \"from\": 2, \"to\": 3}];\n",
       "var data= {\n",
       "    nodes: nodes,\n",
       "    edges: edges,\n",
       "};\n",
       "var options = {\"interaction\": {\"navigationButtons\": true}, \"width\": \"600px\", \"height\": \"600px\"};\n",
       "var container = document.getElementById('1ea8ad22-e205-464e-86d9-c82fa362bcc5');\n",
       "var network = new vis.Network(container, data, options);\n",
       "network.fit({\n",
       "  maxZoomLevel: 1000});\n",
       "});\n",
       "</script>\n"
      ],
      "text/plain": [
       "<IPython.core.display.HTML object>"
      ]
     },
     "metadata": {},
     "output_type": "display_data"
    }
   ],
   "source": [
    "diamond.show_flow()"
   ]
  },
  {
   "cell_type": "markdown",
   "metadata": {},
   "source": [
    "The CCDFs can be computed and shown."
   ]
  },
  {
   "cell_type": "code",
   "execution_count": 25,
   "metadata": {
    "ExecuteTime": {
     "end_time": "2022-01-24T09:30:07.524459Z",
     "start_time": "2022-01-24T09:30:07.510409Z"
    }
   },
   "outputs": [
    {
     "data": {
      "text/plain": [
       "array([[1.000000e+00, 2.582929e-01, 1.154204e-01, 5.022390e-02,\n",
       "        2.143610e-02, 9.007900e-03, 3.747600e-03, 1.559900e-03,\n",
       "        6.353000e-04, 2.551000e-04, 1.025000e-04, 3.970000e-05,\n",
       "        1.660000e-05, 6.800000e-06, 2.200000e-06, 1.100000e-06,\n",
       "        3.000000e-07, 0.000000e+00, 0.000000e+00, 0.000000e+00],\n",
       "       [1.000000e+00, 3.334031e-01, 1.999508e-01, 1.199975e-01,\n",
       "        7.199010e-02, 4.316370e-02, 2.584430e-02, 1.548140e-02,\n",
       "        9.271100e-03, 5.537400e-03, 3.292700e-03, 1.938900e-03,\n",
       "        1.134100e-03, 6.558000e-04, 3.793000e-04, 2.200000e-04,\n",
       "        1.271000e-04, 7.550000e-05, 4.410000e-05, 2.540000e-05],\n",
       "       [1.000000e+00, 1.109505e-01, 3.688580e-02, 1.223940e-02,\n",
       "        4.031200e-03, 1.307700e-03, 4.224000e-04, 1.394000e-04,\n",
       "        4.580000e-05, 1.540000e-05, 5.100000e-06, 1.400000e-06,\n",
       "        3.000000e-07, 0.000000e+00, 0.000000e+00, 0.000000e+00,\n",
       "        0.000000e+00, 0.000000e+00, 0.000000e+00, 0.000000e+00],\n",
       "       [1.000000e+00, 2.330615e-01, 8.692550e-02, 3.118430e-02,\n",
       "        1.098130e-02, 3.776400e-03, 1.271700e-03, 4.528000e-04,\n",
       "        1.699000e-04, 6.460000e-05, 2.760000e-05, 1.180000e-05,\n",
       "        5.600000e-06, 1.800000e-06, 3.000000e-07, 0.000000e+00,\n",
       "        0.000000e+00, 0.000000e+00, 0.000000e+00, 0.000000e+00]])"
      ]
     },
     "execution_count": 25,
     "metadata": {},
     "output_type": "execute_result"
    }
   ],
   "source": [
    "diamond.simulator.compute_ccdf()[:, :20]"
   ]
  },
  {
   "cell_type": "code",
   "execution_count": 26,
   "metadata": {
    "ExecuteTime": {
     "end_time": "2022-01-24T09:30:08.743997Z",
     "start_time": "2022-01-24T09:30:07.526041Z"
    }
   },
   "outputs": [
    {
     "data": {
      "image/png": "[encoded data removed]",
      "text/plain": [
       "<Figure size 432x288 with 1 Axes>"
      ]
     },
     "metadata": {
      "needs_background": "light"
     },
     "output_type": "display_data"
    }
   ],
   "source": [
    "fig = diamond.simulator.show_ccdf(sort=True)"
   ]
  },
  {
   "cell_type": "markdown",
   "metadata": {},
   "source": [
    "The queues occupancies are given by:"
   ]
  },
  {
   "cell_type": "code",
   "execution_count": 27,
   "metadata": {
    "ExecuteTime": {
     "end_time": "2022-01-24T09:30:08.759630Z",
     "start_time": "2022-01-24T09:30:08.745908Z"
    }
   },
   "outputs": [
    {
     "data": {
      "text/plain": [
       "array([0.4607483, 0.8326024, 0.1660444, 0.3679351])"
      ]
     },
     "execution_count": 27,
     "metadata": {},
     "output_type": "execute_result"
    }
   ],
   "source": [
    "diamond.simulator.compute_average_queues()"
   ]
  },
  {
   "cell_type": "markdown",
   "metadata": {},
   "source": [
    "They can be displayed (optionally sorted)."
   ]
  },
  {
   "cell_type": "code",
   "execution_count": 28,
   "metadata": {
    "ExecuteTime": {
     "end_time": "2022-01-24T09:30:08.868218Z",
     "start_time": "2022-01-24T09:30:08.763250Z"
    }
   },
   "outputs": [
    {
     "data": {
      "image/png": "[encoded data removed]",
      "text/plain": [
       "<Figure size 432x288 with 1 Axes>"
      ]
     },
     "metadata": {
      "needs_background": "light"
     },
     "output_type": "display_data"
    }
   ],
   "source": [
    "fig = diamond.simulator.show_average_queues(sort=True)"
   ]
  },
  {
   "cell_type": "markdown",
   "metadata": {},
   "source": [
    "It is possible to use the arrival rates to express the results as waiting times."
   ]
  },
  {
   "cell_type": "code",
   "execution_count": 29,
   "metadata": {
    "ExecuteTime": {
     "end_time": "2022-01-24T09:30:09.055028Z",
     "start_time": "2022-01-24T09:30:08.870660Z"
    }
   },
   "outputs": [
    {
     "data": {
      "image/png": "[encoded data removed]",
      "text/plain": [
       "<Figure size 432x288 with 1 Axes>"
      ]
     },
     "metadata": {
      "needs_background": "light"
     },
     "output_type": "display_data"
    }
   ],
   "source": [
    "fig = diamond.simulator.show_average_queues(sort=True, as_time=True)"
   ]
  },
  {
   "cell_type": "markdown",
   "metadata": {},
   "source": [
    "See the [Simulation notebook](simulator.ipynb) for more details."
   ]
  }
 ],
 "metadata": {
  "kernelspec": {
   "display_name": "Python 3 (ipykernel)",
   "language": "python",
   "name": "python3"
  },
  "language_info": {
   "codemirror_mode": {
    "name": "ipython",
    "version": 3
   },
   "file_extension": ".py",
   "mimetype": "text/x-python",
   "name": "python",
   "nbconvert_exporter": "python",
   "pygments_lexer": "ipython3",
   "version": "3.9.7"
  },
  "toc": {
   "base_numbering": 1,
   "nav_menu": {},
   "number_sections": true,
   "sideBar": true,
   "skip_h1_title": true,
   "title_cell": "Table of Contents",
   "title_sidebar": "Contents",
   "toc_cell": false,
   "toc_position": {},
   "toc_section_display": true,
   "toc_window_display": true
  }
 },
 "nbformat": 4,
 "nbformat_minor": 4
}
