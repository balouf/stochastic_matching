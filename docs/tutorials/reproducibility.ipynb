{
 "cells": [
  {
   "cell_type": "markdown",
   "metadata": {},
   "source": [
    "# Stochastic matching on simple graphs"
   ]
  },
  {
   "cell_type": "markdown",
   "metadata": {},
   "source": [
    "This is the notebook associated with the paper [*Stochastic dynamic matching: A mixed graph-theory and linear-algebra approach*](https://hal.archives-ouvertes.fr/hal-03502084).\n",
    "\n",
    "Its goal is to demonstrate how the results from the paper above can be obtained using the [stochasting_matching](https://balouf.github.io/stochastic_matching/index.html) package.\n",
    "\n",
    "It contains in particular the production of all simulation-based results from the paper.\n",
    "\n",
    "Note that the notebook is NOT intended to be self-contained. Please refer to the paper for context and explanations."
   ]
  },
  {
   "cell_type": "code",
   "execution_count": 1,
   "metadata": {
    "ExecuteTime": {
     "end_time": "2022-02-03T15:26:26.323286Z",
     "start_time": "2022-02-03T15:26:25.009959Z"
    }
   },
   "outputs": [],
   "source": [
    "import stochastic_matching as sm\n",
    "from stochastic_matching.display import VIS_OPTIONS\n",
    "VIS_OPTIONS['height'] = 300\n",
    "VIS_OPTIONS['interaction']['navigationButtons'] = False\n",
    "import numpy as np"
   ]
  },
  {
   "cell_type": "markdown",
   "metadata": {},
   "source": [
    "The default simulation corresponds to $10^{digits}$ arrivals.\n",
    "\n",
    "- Values below $6$ should only be used for debugging.\n",
    "- Use $10$ for high quality results.\n",
    "\n",
    "Parallelization is used. You can cap the number of // jobs."
   ]
  },
  {
   "cell_type": "code",
   "execution_count": 2,
   "metadata": {
    "ExecuteTime": {
     "end_time": "2022-02-03T15:26:26.339175Z",
     "start_time": "2022-02-03T15:26:26.326764Z"
    }
   },
   "outputs": [],
   "source": [
    "digits = 10\n",
    "T = 10**digits\n",
    "max_jobs = 32"
   ]
  },
  {
   "cell_type": "markdown",
   "metadata": {},
   "source": [
    "## Basis of the kernel"
   ]
  },
  {
   "cell_type": "markdown",
   "metadata": {},
   "source": [
    "This section of the notebook reproduces figures from *Basis of the kernel of the incidence matrix* parts."
   ]
  },
  {
   "cell_type": "markdown",
   "metadata": {
    "ExecuteTime": {
     "end_time": "2022-02-01T13:31:49.893111Z",
     "start_time": "2022-02-01T13:31:49.880561Z"
    }
   },
   "source": [
    "### Vector of the kernel space for the diamond graph."
   ]
  },
  {
   "cell_type": "code",
   "execution_count": 3,
   "metadata": {
    "ExecuteTime": {
     "end_time": "2022-02-03T15:26:26.384490Z",
     "start_time": "2022-02-03T15:26:26.341268Z"
    }
   },
   "outputs": [
    {
     "data": {
      "text/html": [
       "\n",
       "<div id=\"4dc974b3-8dca-4779-baf6-b5caa7abe1c4\"></div>\n",
       "<script>\n",
       "require.config({\n",
       "    paths: {\n",
       "        vis: 'https://unpkg.com/vis-network/standalone/umd/vis-network.min'\n",
       "    }\n",
       "});\n",
       "require(['vis'], function(vis){\n",
       "var nodes = [{\"id\": 0, \"label\": \"1\", \"title\": \"0: 1\"}, {\"id\": 1, \"label\": \"2\", \"title\": \"1: 2\"}, {\"id\": 2, \"label\": \"3\", \"title\": \"2: 3\"}, {\"id\": 3, \"label\": \"4\", \"title\": \"3: 4\"}];\n",
       "var edges = [{\"title\": \"0: (1, 2)\", \"label\": \"+\\u03b11\", \"from\": 0, \"to\": 1}, {\"title\": \"1: (1, 3)\", \"label\": \"-\\u03b11\", \"from\": 0, \"to\": 2}, {\"title\": \"2: (2, 3)\", \"label\": \"\", \"color\": \"black\", \"from\": 1, \"to\": 2}, {\"title\": \"3: (2, 4)\", \"label\": \"-\\u03b11\", \"from\": 1, \"to\": 3}, {\"title\": \"4: (3, 4)\", \"label\": \"+\\u03b11\", \"from\": 2, \"to\": 3}];\n",
       "var data= {\n",
       "    nodes: nodes,\n",
       "    edges: edges,\n",
       "};\n",
       "var options = {\"interaction\": {\"navigationButtons\": false}, \"width\": \"600px\", \"height\": 300};\n",
       "var container = document.getElementById('4dc974b3-8dca-4779-baf6-b5caa7abe1c4');\n",
       "var network = new vis.Network(container, data, options);\n",
       "network.fit({\n",
       "  maxZoomLevel: 1000});\n",
       "});\n",
       "</script>\n"
      ],
      "text/plain": [
       "<IPython.core.display.HTML object>"
      ]
     },
     "metadata": {},
     "output_type": "display_data"
    }
   ],
   "source": [
    "diamond = sm.CycleChain(names = [str(i) for i in range(1, 5)])\n",
    "diamond.show_kernel(disp_rates=False)"
   ]
  },
  {
   "cell_type": "markdown",
   "metadata": {
    "ExecuteTime": {
     "end_time": "2022-02-01T13:31:49.893111Z",
     "start_time": "2022-02-01T13:31:49.880561Z"
    }
   },
   "source": [
    "### Vector of the kernel space for a kayak paddle."
   ]
  },
  {
   "cell_type": "code",
   "execution_count": 4,
   "metadata": {
    "ExecuteTime": {
     "end_time": "2022-02-03T15:26:26.400133Z",
     "start_time": "2022-02-03T15:26:26.386431Z"
    }
   },
   "outputs": [
    {
     "data": {
      "text/html": [
       "\n",
       "<div id=\"2694e938-0008-4b29-8268-0dbf922f8f31\"></div>\n",
       "<script>\n",
       "require.config({\n",
       "    paths: {\n",
       "        vis: 'https://unpkg.com/vis-network/standalone/umd/vis-network.min'\n",
       "    }\n",
       "});\n",
       "require(['vis'], function(vis){\n",
       "var nodes = [{\"id\": 0, \"label\": \"1\", \"title\": \"0: 1\"}, {\"id\": 1, \"label\": \"2\", \"title\": \"1: 2\"}, {\"id\": 2, \"label\": \"3\", \"title\": \"2: 3\"}, {\"id\": 3, \"label\": \"4\", \"title\": \"3: 4\"}, {\"id\": 4, \"label\": \"5\", \"title\": \"4: 5\"}, {\"id\": 5, \"label\": \"6\", \"title\": \"5: 6\"}, {\"id\": 6, \"label\": \"7\", \"title\": \"6: 7\"}, {\"id\": 7, \"label\": \"8\", \"title\": \"7: 8\"}, {\"id\": 8, \"label\": \"9\", \"title\": \"8: 9\"}];\n",
       "var edges = [{\"title\": \"0: (1, 2)\", \"label\": \"-\\u03b11\", \"from\": 0, \"to\": 1}, {\"title\": \"1: (1, 3)\", \"label\": \"+\\u03b11\", \"from\": 0, \"to\": 2}, {\"title\": \"2: (2, 3)\", \"label\": \"+\\u03b11\", \"from\": 1, \"to\": 2}, {\"title\": \"3: (3, 4)\", \"label\": \"-2\\u03b11\", \"from\": 2, \"to\": 3}, {\"title\": \"4: (4, 5)\", \"label\": \"+2\\u03b11\", \"from\": 3, \"to\": 4}, {\"title\": \"5: (5, 6)\", \"label\": \"-\\u03b11\", \"from\": 4, \"to\": 5}, {\"title\": \"6: (5, 9)\", \"label\": \"-\\u03b11\", \"from\": 4, \"to\": 8}, {\"title\": \"7: (6, 7)\", \"label\": \"+\\u03b11\", \"from\": 5, \"to\": 6}, {\"title\": \"8: (7, 8)\", \"label\": \"-\\u03b11\", \"from\": 6, \"to\": 7}, {\"title\": \"9: (8, 9)\", \"label\": \"+\\u03b11\", \"from\": 7, \"to\": 8}];\n",
       "var data= {\n",
       "    nodes: nodes,\n",
       "    edges: edges,\n",
       "};\n",
       "var options = {\"interaction\": {\"navigationButtons\": false}, \"width\": \"600px\", \"height\": 300};\n",
       "var container = document.getElementById('2694e938-0008-4b29-8268-0dbf922f8f31');\n",
       "var network = new vis.Network(container, data, options);\n",
       "network.fit({\n",
       "  maxZoomLevel: 1000});\n",
       "});\n",
       "</script>\n"
      ],
      "text/plain": [
       "<IPython.core.display.HTML object>"
      ]
     },
     "metadata": {},
     "output_type": "display_data"
    }
   ],
   "source": [
    "kayak = sm.KayakPaddle(3, 2, 5, names = [str(i) for i in range(1, 10)])\n",
    "kayak.show_kernel(disp_rates=False)"
   ]
  },
  {
   "cell_type": "markdown",
   "metadata": {},
   "source": [
    "### Two possible constructions of a kernel basis for the triamond graph"
   ]
  },
  {
   "cell_type": "code",
   "execution_count": 5,
   "metadata": {
    "ExecuteTime": {
     "end_time": "2022-02-03T15:26:26.415851Z",
     "start_time": "2022-02-03T15:26:26.402124Z"
    }
   },
   "outputs": [
    {
     "data": {
      "text/html": [
       "\n",
       "<div id=\"f4c5a911-dd3b-48c5-8bd8-5c07c0830339\"></div>\n",
       "<script>\n",
       "require.config({\n",
       "    paths: {\n",
       "        vis: 'https://unpkg.com/vis-network/standalone/umd/vis-network.min'\n",
       "    }\n",
       "});\n",
       "require(['vis'], function(vis){\n",
       "var nodes = [{\"id\": 0, \"label\": \"1\", \"title\": \"0: 1\"}, {\"id\": 1, \"label\": \"5\", \"title\": \"1: 5\"}, {\"id\": 2, \"label\": \"2\", \"title\": \"2: 2\"}, {\"id\": 3, \"label\": \"4\", \"title\": \"3: 4\"}, {\"id\": 4, \"label\": \"3\", \"title\": \"4: 3\"}];\n",
       "var edges = [{\"title\": \"0: (1, 5)\", \"label\": \"\", \"from\": 0, \"to\": 1}, {\"title\": \"1: (1, 2)\", \"label\": \"\", \"from\": 0, \"to\": 2}, {\"title\": \"2: (5, 2)\", \"label\": \"\", \"from\": 1, \"to\": 2}, {\"title\": \"3: (5, 4)\", \"label\": \"\", \"from\": 1, \"to\": 3}, {\"title\": \"4: (2, 4)\", \"label\": \"\", \"from\": 2, \"to\": 3}, {\"title\": \"5: (2, 3)\", \"label\": \"\", \"from\": 2, \"to\": 4}, {\"title\": \"6: (4, 3)\", \"label\": \"\", \"from\": 3, \"to\": 4}];\n",
       "var data= {\n",
       "    nodes: nodes,\n",
       "    edges: edges,\n",
       "};\n",
       "var options = {\"interaction\": {\"navigationButtons\": false}, \"width\": \"600px\", \"height\": 300};\n",
       "var container = document.getElementById('f4c5a911-dd3b-48c5-8bd8-5c07c0830339');\n",
       "var network = new vis.Network(container, data, options);\n",
       "network.fit({\n",
       "  maxZoomLevel: 1000});\n",
       "});\n",
       "</script>\n"
      ],
      "text/plain": [
       "<IPython.core.display.HTML object>"
      ]
     },
     "metadata": {},
     "output_type": "display_data"
    }
   ],
   "source": [
    "triamond = sm.CycleChain(c=3, names = [\"1\", \"5\", \"2\", \"4\", \"3\"])\n",
    "triamond.show_graph()"
   ]
  },
  {
   "cell_type": "code",
   "execution_count": 6,
   "metadata": {
    "ExecuteTime": {
     "end_time": "2022-02-03T15:26:26.431600Z",
     "start_time": "2022-02-03T15:26:26.418460Z"
    }
   },
   "outputs": [
    {
     "data": {
      "text/html": [
       "\n",
       "<div id=\"0782ecf8-866b-4c98-b3c3-e3f5d117d674\"></div>\n",
       "<script>\n",
       "require.config({\n",
       "    paths: {\n",
       "        vis: 'https://unpkg.com/vis-network/standalone/umd/vis-network.min'\n",
       "    }\n",
       "});\n",
       "require(['vis'], function(vis){\n",
       "var nodes = [{\"id\": 0, \"label\": \"1\", \"title\": \"0: 1\"}, {\"id\": 1, \"label\": \"5\", \"title\": \"1: 5\"}, {\"id\": 2, \"label\": \"2\", \"title\": \"2: 2\"}, {\"id\": 3, \"label\": \"4\", \"title\": \"3: 4\"}, {\"id\": 4, \"label\": \"3\", \"title\": \"4: 3\"}];\n",
       "var edges = [{\"title\": \"0: (1, 5)\", \"label\": \"-\\u03b11\", \"from\": 0, \"to\": 1}, {\"title\": \"1: (1, 2)\", \"label\": \"+\\u03b11\", \"from\": 0, \"to\": 2}, {\"title\": \"2: (5, 2)\", \"label\": \"+\\u03b11-\\u03b12\", \"from\": 1, \"to\": 2}, {\"title\": \"3: (5, 4)\", \"label\": \"+\\u03b12\", \"from\": 1, \"to\": 3}, {\"title\": \"4: (2, 4)\", \"label\": \"-\\u03b11\", \"from\": 2, \"to\": 3}, {\"title\": \"5: (2, 3)\", \"label\": \"-\\u03b11+\\u03b12\", \"from\": 2, \"to\": 4}, {\"title\": \"6: (4, 3)\", \"label\": \"+\\u03b11-\\u03b12\", \"from\": 3, \"to\": 4}];\n",
       "var data= {\n",
       "    nodes: nodes,\n",
       "    edges: edges,\n",
       "};\n",
       "var options = {\"interaction\": {\"navigationButtons\": false}, \"width\": \"600px\", \"height\": 300};\n",
       "var container = document.getElementById('0782ecf8-866b-4c98-b3c3-e3f5d117d674');\n",
       "var network = new vis.Network(container, data, options);\n",
       "network.fit({\n",
       "  maxZoomLevel: 1000});\n",
       "});\n",
       "</script>\n"
      ],
      "text/plain": [
       "<IPython.core.display.HTML object>"
      ]
     },
     "metadata": {},
     "output_type": "display_data"
    }
   ],
   "source": [
    "triamond.seeds = [1, 3]\n",
    "triamond.show_kernel(disp_rates=False)"
   ]
  },
  {
   "cell_type": "code",
   "execution_count": 7,
   "metadata": {
    "ExecuteTime": {
     "end_time": "2022-02-03T15:26:26.447063Z",
     "start_time": "2022-02-03T15:26:26.433595Z"
    }
   },
   "outputs": [
    {
     "data": {
      "text/html": [
       "\n",
       "<div id=\"77cbdbd6-8fed-4f88-80a1-f4ccad217b72\"></div>\n",
       "<script>\n",
       "require.config({\n",
       "    paths: {\n",
       "        vis: 'https://unpkg.com/vis-network/standalone/umd/vis-network.min'\n",
       "    }\n",
       "});\n",
       "require(['vis'], function(vis){\n",
       "var nodes = [{\"id\": 0, \"label\": \"1\", \"title\": \"0: 1\"}, {\"id\": 1, \"label\": \"5\", \"title\": \"1: 5\"}, {\"id\": 2, \"label\": \"2\", \"title\": \"2: 2\"}, {\"id\": 3, \"label\": \"4\", \"title\": \"3: 4\"}, {\"id\": 4, \"label\": \"3\", \"title\": \"4: 3\"}];\n",
       "var edges = [{\"title\": \"0: (1, 5)\", \"label\": \"+\\u03b12\", \"from\": 0, \"to\": 1}, {\"title\": \"1: (1, 2)\", \"label\": \"-\\u03b12\", \"from\": 0, \"to\": 2}, {\"title\": \"2: (5, 2)\", \"label\": \"+\\u03b11\", \"from\": 1, \"to\": 2}, {\"title\": \"3: (5, 4)\", \"label\": \"-\\u03b11-\\u03b12\", \"from\": 1, \"to\": 3}, {\"title\": \"4: (2, 4)\", \"label\": \"+\\u03b12\", \"from\": 2, \"to\": 3}, {\"title\": \"5: (2, 3)\", \"label\": \"-\\u03b11\", \"from\": 2, \"to\": 4}, {\"title\": \"6: (4, 3)\", \"label\": \"+\\u03b11\", \"from\": 3, \"to\": 4}];\n",
       "var data= {\n",
       "    nodes: nodes,\n",
       "    edges: edges,\n",
       "};\n",
       "var options = {\"interaction\": {\"navigationButtons\": false}, \"width\": \"600px\", \"height\": 300};\n",
       "var container = document.getElementById('77cbdbd6-8fed-4f88-80a1-f4ccad217b72');\n",
       "var network = new vis.Network(container, data, options);\n",
       "network.fit({\n",
       "  maxZoomLevel: 1000});\n",
       "});\n",
       "</script>\n"
      ],
      "text/plain": [
       "<IPython.core.display.HTML object>"
      ]
     },
     "metadata": {},
     "output_type": "display_data"
    }
   ],
   "source": [
    "triamond.seeds = [2, 4]\n",
    "triamond.show_kernel(disp_rates=False)"
   ]
  },
  {
   "cell_type": "markdown",
   "metadata": {},
   "source": [
    "### Two possible constructions of a kernel basis for the codomino graph"
   ]
  },
  {
   "cell_type": "code",
   "execution_count": 8,
   "metadata": {
    "ExecuteTime": {
     "end_time": "2022-02-03T15:26:26.462415Z",
     "start_time": "2022-02-03T15:26:26.449390Z"
    }
   },
   "outputs": [
    {
     "data": {
      "text/html": [
       "\n",
       "<div id=\"a5150e96-010d-47c1-956d-9b688721b169\"></div>\n",
       "<script>\n",
       "require.config({\n",
       "    paths: {\n",
       "        vis: 'https://unpkg.com/vis-network/standalone/umd/vis-network.min'\n",
       "    }\n",
       "});\n",
       "require(['vis'], function(vis){\n",
       "var nodes = [{\"id\": 0, \"label\": \"1\", \"title\": \"0: 1\"}, {\"id\": 1, \"label\": \"6\", \"title\": \"1: 6\"}, {\"id\": 2, \"label\": \"2\", \"title\": \"2: 2\"}, {\"id\": 3, \"label\": \"3\", \"title\": \"3: 3\"}, {\"id\": 4, \"label\": \"5\", \"title\": \"4: 5\"}, {\"id\": 5, \"label\": \"4\", \"title\": \"5: 4\"}];\n",
       "var edges = [{\"title\": \"0: (1, 6)\", \"label\": \"\", \"from\": 0, \"to\": 1}, {\"title\": \"1: (1, 2)\", \"label\": \"\", \"from\": 0, \"to\": 2}, {\"title\": \"2: (6, 2)\", \"label\": \"\", \"from\": 1, \"to\": 2}, {\"title\": \"3: (6, 5)\", \"label\": \"\", \"from\": 1, \"to\": 4}, {\"title\": \"4: (2, 3)\", \"label\": \"\", \"from\": 2, \"to\": 3}, {\"title\": \"5: (3, 5)\", \"label\": \"\", \"from\": 3, \"to\": 4}, {\"title\": \"6: (3, 4)\", \"label\": \"\", \"from\": 3, \"to\": 5}, {\"title\": \"7: (5, 4)\", \"label\": \"\", \"from\": 4, \"to\": 5}];\n",
       "var data= {\n",
       "    nodes: nodes,\n",
       "    edges: edges,\n",
       "};\n",
       "var options = {\"interaction\": {\"navigationButtons\": false}, \"width\": \"600px\", \"height\": 300};\n",
       "var container = document.getElementById('a5150e96-010d-47c1-956d-9b688721b169');\n",
       "var network = new vis.Network(container, data, options);\n",
       "network.fit({\n",
       "  maxZoomLevel: 1000});\n",
       "});\n",
       "</script>\n"
      ],
      "text/plain": [
       "<IPython.core.display.HTML object>"
      ]
     },
     "metadata": {},
     "output_type": "display_data"
    }
   ],
   "source": [
    "codomino = sm.Codomino(names=[\"1\", \"6\", \"2\", \"3\", \"5\", \"4\"])\n",
    "codomino.show_graph()"
   ]
  },
  {
   "cell_type": "code",
   "execution_count": 9,
   "metadata": {
    "ExecuteTime": {
     "end_time": "2022-02-03T15:26:26.477399Z",
     "start_time": "2022-02-03T15:26:26.463439Z"
    }
   },
   "outputs": [
    {
     "data": {
      "text/html": [
       "\n",
       "<div id=\"3dbc4f2e-f480-4524-825b-2c8dafec6ade\"></div>\n",
       "<script>\n",
       "require.config({\n",
       "    paths: {\n",
       "        vis: 'https://unpkg.com/vis-network/standalone/umd/vis-network.min'\n",
       "    }\n",
       "});\n",
       "require(['vis'], function(vis){\n",
       "var nodes = [{\"id\": 0, \"label\": \"1\", \"title\": \"0: 1\"}, {\"id\": 1, \"label\": \"6\", \"title\": \"1: 6\"}, {\"id\": 2, \"label\": \"2\", \"title\": \"2: 2\"}, {\"id\": 3, \"label\": \"3\", \"title\": \"3: 3\"}, {\"id\": 4, \"label\": \"5\", \"title\": \"4: 5\"}, {\"id\": 5, \"label\": \"4\", \"title\": \"5: 4\"}];\n",
       "var edges = [{\"title\": \"0: (1, 6)\", \"label\": \"-\\u03b11\", \"from\": 0, \"to\": 1}, {\"title\": \"1: (1, 2)\", \"label\": \"+\\u03b11\", \"from\": 0, \"to\": 2}, {\"title\": \"2: (6, 2)\", \"label\": \"-\\u03b11-\\u03b12\", \"from\": 1, \"to\": 2}, {\"title\": \"3: (6, 5)\", \"label\": \"+2\\u03b11+\\u03b12\", \"from\": 1, \"to\": 4}, {\"title\": \"4: (2, 3)\", \"label\": \"+\\u03b12\", \"from\": 2, \"to\": 3}, {\"title\": \"5: (3, 5)\", \"label\": \"-\\u03b11-\\u03b12\", \"from\": 3, \"to\": 4}, {\"title\": \"6: (3, 4)\", \"label\": \"+\\u03b11\", \"from\": 3, \"to\": 5}, {\"title\": \"7: (5, 4)\", \"label\": \"-\\u03b11\", \"from\": 4, \"to\": 5}];\n",
       "var data= {\n",
       "    nodes: nodes,\n",
       "    edges: edges,\n",
       "};\n",
       "var options = {\"interaction\": {\"navigationButtons\": false}, \"width\": \"600px\", \"height\": 300};\n",
       "var container = document.getElementById('3dbc4f2e-f480-4524-825b-2c8dafec6ade');\n",
       "var network = new vis.Network(container, data, options);\n",
       "network.fit({\n",
       "  maxZoomLevel: 1000});\n",
       "});\n",
       "</script>\n"
      ],
      "text/plain": [
       "<IPython.core.display.HTML object>"
      ]
     },
     "metadata": {},
     "output_type": "display_data"
    }
   ],
   "source": [
    "codomino.seeds = [1, 4]\n",
    "codomino.show_kernel(disp_rates=False)"
   ]
  },
  {
   "cell_type": "code",
   "execution_count": 10,
   "metadata": {
    "ExecuteTime": {
     "end_time": "2022-02-03T15:26:26.493179Z",
     "start_time": "2022-02-03T15:26:26.480394Z"
    }
   },
   "outputs": [
    {
     "data": {
      "text/html": [
       "\n",
       "<div id=\"152e18d2-8cb9-41d7-8815-dc2e53d5e071\"></div>\n",
       "<script>\n",
       "require.config({\n",
       "    paths: {\n",
       "        vis: 'https://unpkg.com/vis-network/standalone/umd/vis-network.min'\n",
       "    }\n",
       "});\n",
       "require(['vis'], function(vis){\n",
       "var nodes = [{\"id\": 0, \"label\": \"1\", \"title\": \"0: 1\"}, {\"id\": 1, \"label\": \"6\", \"title\": \"1: 6\"}, {\"id\": 2, \"label\": \"2\", \"title\": \"2: 2\"}, {\"id\": 3, \"label\": \"3\", \"title\": \"3: 3\"}, {\"id\": 4, \"label\": \"5\", \"title\": \"4: 5\"}, {\"id\": 5, \"label\": \"4\", \"title\": \"5: 4\"}];\n",
       "var edges = [{\"title\": \"0: (1, 6)\", \"label\": \"+\\u03b11\", \"from\": 0, \"to\": 1}, {\"title\": \"1: (1, 2)\", \"label\": \"-\\u03b11\", \"from\": 0, \"to\": 2}, {\"title\": \"2: (6, 2)\", \"label\": \"+\\u03b12\", \"from\": 1, \"to\": 2}, {\"title\": \"3: (6, 5)\", \"label\": \"-\\u03b11-\\u03b12\", \"from\": 1, \"to\": 4}, {\"title\": \"4: (2, 3)\", \"label\": \"+\\u03b11-\\u03b12\", \"from\": 2, \"to\": 3}, {\"title\": \"5: (3, 5)\", \"label\": \"+\\u03b12\", \"from\": 3, \"to\": 4}, {\"title\": \"6: (3, 4)\", \"label\": \"-\\u03b11\", \"from\": 3, \"to\": 5}, {\"title\": \"7: (5, 4)\", \"label\": \"+\\u03b11\", \"from\": 4, \"to\": 5}];\n",
       "var data= {\n",
       "    nodes: nodes,\n",
       "    edges: edges,\n",
       "};\n",
       "var options = {\"interaction\": {\"navigationButtons\": false}, \"width\": \"600px\", \"height\": 300};\n",
       "var container = document.getElementById('152e18d2-8cb9-41d7-8815-dc2e53d5e071');\n",
       "var network = new vis.Network(container, data, options);\n",
       "network.fit({\n",
       "  maxZoomLevel: 1000});\n",
       "});\n",
       "</script>\n"
      ],
      "text/plain": [
       "<IPython.core.display.HTML object>"
      ]
     },
     "metadata": {},
     "output_type": "display_data"
    }
   ],
   "source": [
    "codomino.seeds = [0, 2]\n",
    "codomino.show_kernel(disp_rates=False)"
   ]
  },
  {
   "cell_type": "markdown",
   "metadata": {},
   "source": [
    "## Bijective vertices and facets of the convex polytope"
   ]
  },
  {
   "cell_type": "markdown",
   "metadata": {},
   "source": [
    "This section of the notebook reproduces examples of polytopes."
   ]
  },
  {
   "cell_type": "markdown",
   "metadata": {},
   "source": [
    "### Essential matching, simple polytope"
   ]
  },
  {
   "cell_type": "code",
   "execution_count": 11,
   "metadata": {
    "ExecuteTime": {
     "end_time": "2022-02-03T15:26:26.508944Z",
     "start_time": "2022-02-03T15:26:26.494747Z"
    }
   },
   "outputs": [
    {
     "data": {
      "text/html": [
       "\n",
       "<div id=\"41f85b03-c78f-42cc-803f-8fdfa9733b89\"></div>\n",
       "<script>\n",
       "require.config({\n",
       "    paths: {\n",
       "        vis: 'https://unpkg.com/vis-network/standalone/umd/vis-network.min'\n",
       "    }\n",
       "});\n",
       "require(['vis'], function(vis){\n",
       "var nodes = [{\"id\": 0, \"label\": \"1\", \"title\": \"0: 1\"}, {\"id\": 1, \"label\": \"6\", \"title\": \"1: 6\"}, {\"id\": 2, \"label\": \"2\", \"title\": \"2: 2\"}, {\"id\": 3, \"label\": \"3\", \"title\": \"3: 3\"}, {\"id\": 4, \"label\": \"5\", \"title\": \"4: 5\"}, {\"id\": 5, \"label\": \"4\", \"title\": \"5: 4\"}];\n",
       "var edges = [{\"title\": \"0: (1, 6)\", \"label\": \"2+\\u03b11\", \"from\": 0, \"to\": 1}, {\"title\": \"1: (1, 2)\", \"label\": \"2-\\u03b11\", \"from\": 0, \"to\": 2}, {\"title\": \"2: (6, 2)\", \"label\": \"2+\\u03b12\", \"from\": 1, \"to\": 2}, {\"title\": \"3: (6, 5)\", \"label\": \"1-\\u03b11-\\u03b12\", \"from\": 1, \"to\": 4}, {\"title\": \"4: (2, 3)\", \"label\": \"1+\\u03b11-\\u03b12\", \"from\": 2, \"to\": 3}, {\"title\": \"5: (3, 5)\", \"label\": \"1+\\u03b12\", \"from\": 3, \"to\": 4}, {\"title\": \"6: (3, 4)\", \"label\": \"1-\\u03b11\", \"from\": 3, \"to\": 5}, {\"title\": \"7: (5, 4)\", \"label\": \"1+\\u03b11\", \"from\": 4, \"to\": 5}];\n",
       "var data= {\n",
       "    nodes: nodes,\n",
       "    edges: edges,\n",
       "};\n",
       "var options = {\"interaction\": {\"navigationButtons\": false}, \"width\": \"600px\", \"height\": 300};\n",
       "var container = document.getElementById('41f85b03-c78f-42cc-803f-8fdfa9733b89');\n",
       "var network = new vis.Network(container, data, options);\n",
       "network.fit({\n",
       "  maxZoomLevel: 1000});\n",
       "});\n",
       "</script>\n"
      ],
      "text/plain": [
       "<IPython.core.display.HTML object>"
      ]
     },
     "metadata": {},
     "output_type": "display_data"
    }
   ],
   "source": [
    "# Generic solution\n",
    "\n",
    "codomino = sm.Codomino(names=[\"1\", \"6\", \"2\", \"3\", \"5\", \"4\"], rates=[4, 5, 5, 3, 3, 2])\n",
    "codomino.base_flow = codomino.maximin\n",
    "codomino.seeds = [0, 2]\n",
    "codomino.show_kernel(disp_rates=False, disp_flow=True)"
   ]
  },
  {
   "cell_type": "code",
   "execution_count": 12,
   "metadata": {
    "ExecuteTime": {
     "end_time": "2022-02-03T15:26:26.524908Z",
     "start_time": "2022-02-03T15:26:26.510823Z"
    }
   },
   "outputs": [
    {
     "data": {
      "text/plain": [
       "[{'kernel_coordinates': array([-1., -1.]),\n",
       "  'edge_coordinates': array([1., 3., 1., 3., 1., 0., 2., 0.]),\n",
       "  'null_edges': [5, 7],\n",
       "  'bijective': True},\n",
       " {'kernel_coordinates': array([-1.,  0.]),\n",
       "  'edge_coordinates': array([1., 3., 2., 2., 0., 1., 2., 0.]),\n",
       "  'null_edges': [4, 7],\n",
       "  'bijective': True},\n",
       " {'kernel_coordinates': array([0., 1.]),\n",
       "  'edge_coordinates': array([2., 2., 3., 0., 0., 2., 1., 1.]),\n",
       "  'null_edges': [3, 4],\n",
       "  'bijective': True},\n",
       " {'kernel_coordinates': array([ 1., -1.]),\n",
       "  'edge_coordinates': array([3., 1., 1., 1., 3., 0., 0., 2.]),\n",
       "  'null_edges': [5, 6],\n",
       "  'bijective': True},\n",
       " {'kernel_coordinates': array([1., 0.]),\n",
       "  'edge_coordinates': array([3., 1., 2., 0., 2., 1., 0., 2.]),\n",
       "  'null_edges': [3, 6],\n",
       "  'bijective': True}]"
      ]
     },
     "execution_count": 12,
     "metadata": {},
     "output_type": "execute_result"
    }
   ],
   "source": [
    "# Vertices\n",
    "codomino.vertices"
   ]
  },
  {
   "cell_type": "code",
   "execution_count": 13,
   "metadata": {
    "ExecuteTime": {
     "end_time": "2022-02-03T15:26:26.555342Z",
     "start_time": "2022-02-03T15:26:26.526305Z"
    }
   },
   "outputs": [
    {
     "data": {
      "text/html": [
       "\n",
       "<div id=\"e3154f92-f528-42a8-a0d8-4d167c45b1ab\"></div>\n",
       "<script>\n",
       "require.config({\n",
       "    paths: {\n",
       "        vis: 'https://unpkg.com/vis-network/standalone/umd/vis-network.min'\n",
       "    }\n",
       "});\n",
       "require(['vis'], function(vis){\n",
       "var nodes = [{\"id\": 0, \"label\": \"1\", \"title\": \"0: 1\"}, {\"id\": 1, \"label\": \"6\", \"title\": \"1: 6\"}, {\"id\": 2, \"label\": \"2\", \"title\": \"2: 2\"}, {\"id\": 3, \"label\": \"3\", \"title\": \"3: 3\"}, {\"id\": 4, \"label\": \"5\", \"title\": \"4: 5\"}, {\"id\": 5, \"label\": \"4\", \"title\": \"5: 4\"}];\n",
       "var edges = [{\"title\": \"0: (1, 6)\", \"label\": \"1\", \"color\": \"blue\", \"from\": 0, \"to\": 1}, {\"title\": \"1: (1, 2)\", \"label\": \"3\", \"color\": \"blue\", \"from\": 0, \"to\": 2}, {\"title\": \"2: (6, 2)\", \"label\": \"1\", \"color\": \"blue\", \"from\": 1, \"to\": 2}, {\"title\": \"3: (6, 5)\", \"label\": \"3\", \"color\": \"blue\", \"from\": 1, \"to\": 4}, {\"title\": \"4: (2, 3)\", \"label\": \"1\", \"color\": \"blue\", \"from\": 2, \"to\": 3}, {\"title\": \"5: (3, 5)\", \"label\": \"\", \"color\": \"orange\", \"from\": 3, \"to\": 4}, {\"title\": \"6: (3, 4)\", \"label\": \"2\", \"color\": \"blue\", \"from\": 3, \"to\": 5}, {\"title\": \"7: (5, 4)\", \"label\": \"\", \"color\": \"orange\", \"from\": 4, \"to\": 5}];\n",
       "var data= {\n",
       "    nodes: nodes,\n",
       "    edges: edges,\n",
       "};\n",
       "var options = {\"interaction\": {\"navigationButtons\": false}, \"width\": \"600px\", \"height\": 150};\n",
       "var container = document.getElementById('e3154f92-f528-42a8-a0d8-4d167c45b1ab');\n",
       "var network = new vis.Network(container, data, options);\n",
       "network.fit({\n",
       "  maxZoomLevel: 1000});\n",
       "});\n",
       "</script>\n"
      ],
      "text/plain": [
       "<IPython.core.display.HTML object>"
      ]
     },
     "metadata": {},
     "output_type": "display_data"
    },
    {
     "data": {
      "text/html": [
       "\n",
       "<div id=\"86e100c1-af85-44f1-a7c7-e407ed292dd2\"></div>\n",
       "<script>\n",
       "require.config({\n",
       "    paths: {\n",
       "        vis: 'https://unpkg.com/vis-network/standalone/umd/vis-network.min'\n",
       "    }\n",
       "});\n",
       "require(['vis'], function(vis){\n",
       "var nodes = [{\"id\": 0, \"label\": \"1\", \"title\": \"0: 1\"}, {\"id\": 1, \"label\": \"6\", \"title\": \"1: 6\"}, {\"id\": 2, \"label\": \"2\", \"title\": \"2: 2\"}, {\"id\": 3, \"label\": \"3\", \"title\": \"3: 3\"}, {\"id\": 4, \"label\": \"5\", \"title\": \"4: 5\"}, {\"id\": 5, \"label\": \"4\", \"title\": \"5: 4\"}];\n",
       "var edges = [{\"title\": \"0: (1, 6)\", \"label\": \"1\", \"color\": \"blue\", \"from\": 0, \"to\": 1}, {\"title\": \"1: (1, 2)\", \"label\": \"3\", \"color\": \"blue\", \"from\": 0, \"to\": 2}, {\"title\": \"2: (6, 2)\", \"label\": \"2\", \"color\": \"blue\", \"from\": 1, \"to\": 2}, {\"title\": \"3: (6, 5)\", \"label\": \"2\", \"color\": \"blue\", \"from\": 1, \"to\": 4}, {\"title\": \"4: (2, 3)\", \"label\": \"\", \"color\": \"orange\", \"from\": 2, \"to\": 3}, {\"title\": \"5: (3, 5)\", \"label\": \"1\", \"color\": \"blue\", \"from\": 3, \"to\": 4}, {\"title\": \"6: (3, 4)\", \"label\": \"2\", \"color\": \"blue\", \"from\": 3, \"to\": 5}, {\"title\": \"7: (5, 4)\", \"label\": \"\", \"color\": \"orange\", \"from\": 4, \"to\": 5}];\n",
       "var data= {\n",
       "    nodes: nodes,\n",
       "    edges: edges,\n",
       "};\n",
       "var options = {\"interaction\": {\"navigationButtons\": false}, \"width\": \"600px\", \"height\": 150};\n",
       "var container = document.getElementById('86e100c1-af85-44f1-a7c7-e407ed292dd2');\n",
       "var network = new vis.Network(container, data, options);\n",
       "network.fit({\n",
       "  maxZoomLevel: 1000});\n",
       "});\n",
       "</script>\n"
      ],
      "text/plain": [
       "<IPython.core.display.HTML object>"
      ]
     },
     "metadata": {},
     "output_type": "display_data"
    },
    {
     "data": {
      "text/html": [
       "\n",
       "<div id=\"51a8227a-a4d1-410c-b074-8734b9f24d5a\"></div>\n",
       "<script>\n",
       "require.config({\n",
       "    paths: {\n",
       "        vis: 'https://unpkg.com/vis-network/standalone/umd/vis-network.min'\n",
       "    }\n",
       "});\n",
       "require(['vis'], function(vis){\n",
       "var nodes = [{\"id\": 0, \"label\": \"1\", \"title\": \"0: 1\"}, {\"id\": 1, \"label\": \"6\", \"title\": \"1: 6\"}, {\"id\": 2, \"label\": \"2\", \"title\": \"2: 2\"}, {\"id\": 3, \"label\": \"3\", \"title\": \"3: 3\"}, {\"id\": 4, \"label\": \"5\", \"title\": \"4: 5\"}, {\"id\": 5, \"label\": \"4\", \"title\": \"5: 4\"}];\n",
       "var edges = [{\"title\": \"0: (1, 6)\", \"label\": \"2\", \"color\": \"blue\", \"from\": 0, \"to\": 1}, {\"title\": \"1: (1, 2)\", \"label\": \"2\", \"color\": \"blue\", \"from\": 0, \"to\": 2}, {\"title\": \"2: (6, 2)\", \"label\": \"3\", \"color\": \"blue\", \"from\": 1, \"to\": 2}, {\"title\": \"3: (6, 5)\", \"label\": \"\", \"color\": \"orange\", \"from\": 1, \"to\": 4}, {\"title\": \"4: (2, 3)\", \"label\": \"\", \"color\": \"orange\", \"from\": 2, \"to\": 3}, {\"title\": \"5: (3, 5)\", \"label\": \"2\", \"color\": \"blue\", \"from\": 3, \"to\": 4}, {\"title\": \"6: (3, 4)\", \"label\": \"1\", \"color\": \"blue\", \"from\": 3, \"to\": 5}, {\"title\": \"7: (5, 4)\", \"label\": \"1\", \"color\": \"blue\", \"from\": 4, \"to\": 5}];\n",
       "var data= {\n",
       "    nodes: nodes,\n",
       "    edges: edges,\n",
       "};\n",
       "var options = {\"interaction\": {\"navigationButtons\": false}, \"width\": \"600px\", \"height\": 150};\n",
       "var container = document.getElementById('51a8227a-a4d1-410c-b074-8734b9f24d5a');\n",
       "var network = new vis.Network(container, data, options);\n",
       "network.fit({\n",
       "  maxZoomLevel: 1000});\n",
       "});\n",
       "</script>\n"
      ],
      "text/plain": [
       "<IPython.core.display.HTML object>"
      ]
     },
     "metadata": {},
     "output_type": "display_data"
    },
    {
     "data": {
      "text/html": [
       "\n",
       "<div id=\"1e03e5bb-aec3-4064-8ad4-36358d8dad26\"></div>\n",
       "<script>\n",
       "require.config({\n",
       "    paths: {\n",
       "        vis: 'https://unpkg.com/vis-network/standalone/umd/vis-network.min'\n",
       "    }\n",
       "});\n",
       "require(['vis'], function(vis){\n",
       "var nodes = [{\"id\": 0, \"label\": \"1\", \"title\": \"0: 1\"}, {\"id\": 1, \"label\": \"6\", \"title\": \"1: 6\"}, {\"id\": 2, \"label\": \"2\", \"title\": \"2: 2\"}, {\"id\": 3, \"label\": \"3\", \"title\": \"3: 3\"}, {\"id\": 4, \"label\": \"5\", \"title\": \"4: 5\"}, {\"id\": 5, \"label\": \"4\", \"title\": \"5: 4\"}];\n",
       "var edges = [{\"title\": \"0: (1, 6)\", \"label\": \"3\", \"color\": \"blue\", \"from\": 0, \"to\": 1}, {\"title\": \"1: (1, 2)\", \"label\": \"1\", \"color\": \"blue\", \"from\": 0, \"to\": 2}, {\"title\": \"2: (6, 2)\", \"label\": \"1\", \"color\": \"blue\", \"from\": 1, \"to\": 2}, {\"title\": \"3: (6, 5)\", \"label\": \"1\", \"color\": \"blue\", \"from\": 1, \"to\": 4}, {\"title\": \"4: (2, 3)\", \"label\": \"3\", \"color\": \"blue\", \"from\": 2, \"to\": 3}, {\"title\": \"5: (3, 5)\", \"label\": \"\", \"color\": \"orange\", \"from\": 3, \"to\": 4}, {\"title\": \"6: (3, 4)\", \"label\": \"\", \"color\": \"orange\", \"from\": 3, \"to\": 5}, {\"title\": \"7: (5, 4)\", \"label\": \"2\", \"color\": \"blue\", \"from\": 4, \"to\": 5}];\n",
       "var data= {\n",
       "    nodes: nodes,\n",
       "    edges: edges,\n",
       "};\n",
       "var options = {\"interaction\": {\"navigationButtons\": false}, \"width\": \"600px\", \"height\": 150};\n",
       "var container = document.getElementById('1e03e5bb-aec3-4064-8ad4-36358d8dad26');\n",
       "var network = new vis.Network(container, data, options);\n",
       "network.fit({\n",
       "  maxZoomLevel: 1000});\n",
       "});\n",
       "</script>\n"
      ],
      "text/plain": [
       "<IPython.core.display.HTML object>"
      ]
     },
     "metadata": {},
     "output_type": "display_data"
    },
    {
     "data": {
      "text/html": [
       "\n",
       "<div id=\"5e1d323d-ae16-4c3b-86cc-f19581de5439\"></div>\n",
       "<script>\n",
       "require.config({\n",
       "    paths: {\n",
       "        vis: 'https://unpkg.com/vis-network/standalone/umd/vis-network.min'\n",
       "    }\n",
       "});\n",
       "require(['vis'], function(vis){\n",
       "var nodes = [{\"id\": 0, \"label\": \"1\", \"title\": \"0: 1\"}, {\"id\": 1, \"label\": \"6\", \"title\": \"1: 6\"}, {\"id\": 2, \"label\": \"2\", \"title\": \"2: 2\"}, {\"id\": 3, \"label\": \"3\", \"title\": \"3: 3\"}, {\"id\": 4, \"label\": \"5\", \"title\": \"4: 5\"}, {\"id\": 5, \"label\": \"4\", \"title\": \"5: 4\"}];\n",
       "var edges = [{\"title\": \"0: (1, 6)\", \"label\": \"3\", \"color\": \"blue\", \"from\": 0, \"to\": 1}, {\"title\": \"1: (1, 2)\", \"label\": \"1\", \"color\": \"blue\", \"from\": 0, \"to\": 2}, {\"title\": \"2: (6, 2)\", \"label\": \"2\", \"color\": \"blue\", \"from\": 1, \"to\": 2}, {\"title\": \"3: (6, 5)\", \"label\": \"\", \"color\": \"orange\", \"from\": 1, \"to\": 4}, {\"title\": \"4: (2, 3)\", \"label\": \"2\", \"color\": \"blue\", \"from\": 2, \"to\": 3}, {\"title\": \"5: (3, 5)\", \"label\": \"1\", \"color\": \"blue\", \"from\": 3, \"to\": 4}, {\"title\": \"6: (3, 4)\", \"label\": \"\", \"color\": \"orange\", \"from\": 3, \"to\": 5}, {\"title\": \"7: (5, 4)\", \"label\": \"2\", \"color\": \"blue\", \"from\": 4, \"to\": 5}];\n",
       "var data= {\n",
       "    nodes: nodes,\n",
       "    edges: edges,\n",
       "};\n",
       "var options = {\"interaction\": {\"navigationButtons\": false}, \"width\": \"600px\", \"height\": 150};\n",
       "var container = document.getElementById('5e1d323d-ae16-4c3b-86cc-f19581de5439');\n",
       "var network = new vis.Network(container, data, options);\n",
       "network.fit({\n",
       "  maxZoomLevel: 1000});\n",
       "});\n",
       "</script>\n"
      ],
      "text/plain": [
       "<IPython.core.display.HTML object>"
      ]
     },
     "metadata": {},
     "output_type": "display_data"
    }
   ],
   "source": [
    "for i in range(5):\n",
    "    codomino.show_vertex(i, disp_rates=False, vis_options={'height': 150})"
   ]
  },
  {
   "cell_type": "markdown",
   "metadata": {},
   "source": [
    "### Non-Essential matching, simple polytope"
   ]
  },
  {
   "cell_type": "code",
   "execution_count": 14,
   "metadata": {
    "ExecuteTime": {
     "end_time": "2022-02-03T15:26:26.570595Z",
     "start_time": "2022-02-03T15:26:26.556320Z"
    }
   },
   "outputs": [
    {
     "data": {
      "text/html": [
       "\n",
       "<div id=\"59d764dd-c720-402d-bb4d-3cd5c61607ba\"></div>\n",
       "<script>\n",
       "require.config({\n",
       "    paths: {\n",
       "        vis: 'https://unpkg.com/vis-network/standalone/umd/vis-network.min'\n",
       "    }\n",
       "});\n",
       "require(['vis'], function(vis){\n",
       "var nodes = [{\"id\": 0, \"label\": \"1\", \"title\": \"0: 1\"}, {\"id\": 1, \"label\": \"6\", \"title\": \"1: 6\"}, {\"id\": 2, \"label\": \"2\", \"title\": \"2: 2\"}, {\"id\": 3, \"label\": \"3\", \"title\": \"3: 3\"}, {\"id\": 4, \"label\": \"5\", \"title\": \"4: 5\"}, {\"id\": 5, \"label\": \"4\", \"title\": \"5: 4\"}];\n",
       "var edges = [{\"title\": \"0: (1, 6)\", \"label\": \"1+\\u03b11\", \"from\": 0, \"to\": 1}, {\"title\": \"1: (1, 2)\", \"label\": \"1-\\u03b11\", \"from\": 0, \"to\": 2}, {\"title\": \"2: (6, 2)\", \"label\": \"1+\\u03b12\", \"from\": 1, \"to\": 2}, {\"title\": \"3: (6, 5)\", \"label\": \"-\\u03b11-\\u03b12\", \"from\": 1, \"to\": 4}, {\"title\": \"4: (2, 3)\", \"label\": \"2+\\u03b11-\\u03b12\", \"from\": 2, \"to\": 3}, {\"title\": \"5: (3, 5)\", \"label\": \"1+\\u03b12\", \"from\": 3, \"to\": 4}, {\"title\": \"6: (3, 4)\", \"label\": \"1-\\u03b11\", \"from\": 3, \"to\": 5}, {\"title\": \"7: (5, 4)\", \"label\": \"1+\\u03b11\", \"from\": 4, \"to\": 5}];\n",
       "var data= {\n",
       "    nodes: nodes,\n",
       "    edges: edges,\n",
       "};\n",
       "var options = {\"interaction\": {\"navigationButtons\": false}, \"width\": \"600px\", \"height\": 300};\n",
       "var container = document.getElementById('59d764dd-c720-402d-bb4d-3cd5c61607ba');\n",
       "var network = new vis.Network(container, data, options);\n",
       "network.fit({\n",
       "  maxZoomLevel: 1000});\n",
       "});\n",
       "</script>\n"
      ],
      "text/plain": [
       "<IPython.core.display.HTML object>"
      ]
     },
     "metadata": {},
     "output_type": "display_data"
    }
   ],
   "source": [
    "# Generic solution\n",
    "codomino.rates = [2, 2, 4, 4, 2, 2]\n",
    "codomino.base_flow = codomino.kernel_to_edge([1/3, 0])\n",
    "codomino.show_kernel(disp_rates=False, disp_flow=True)"
   ]
  },
  {
   "cell_type": "code",
   "execution_count": 15,
   "metadata": {
    "ExecuteTime": {
     "end_time": "2022-02-03T15:26:26.601412Z",
     "start_time": "2022-02-03T15:26:26.574597Z"
    }
   },
   "outputs": [
    {
     "data": {
      "text/plain": [
       "[{'kernel_coordinates': array([-1., -1.]),\n",
       "  'edge_coordinates': array([0., 2., 0., 2., 2., 0., 2., 0.]),\n",
       "  'null_edges': [0, 2, 5, 7],\n",
       "  'bijective': False},\n",
       " {'kernel_coordinates': array([-1.,  1.]),\n",
       "  'edge_coordinates': array([0., 2., 2., 0., 0., 2., 2., 0.]),\n",
       "  'null_edges': [0, 3, 4, 7],\n",
       "  'bijective': False},\n",
       " {'kernel_coordinates': array([ 1., -1.]),\n",
       "  'edge_coordinates': array([2., 0., 0., 0., 4., 0., 0., 2.]),\n",
       "  'null_edges': [1, 2, 3, 5, 6],\n",
       "  'bijective': False}]"
      ]
     },
     "execution_count": 15,
     "metadata": {},
     "output_type": "execute_result"
    }
   ],
   "source": [
    "# Vertices\n",
    "codomino.vertices"
   ]
  },
  {
   "cell_type": "code",
   "execution_count": 16,
   "metadata": {
    "ExecuteTime": {
     "end_time": "2022-02-03T15:26:26.632065Z",
     "start_time": "2022-02-03T15:26:26.603745Z"
    }
   },
   "outputs": [
    {
     "data": {
      "text/html": [
       "\n",
       "<div id=\"937db696-87bb-47fc-94af-df5a980bb95c\"></div>\n",
       "<script>\n",
       "require.config({\n",
       "    paths: {\n",
       "        vis: 'https://unpkg.com/vis-network/standalone/umd/vis-network.min'\n",
       "    }\n",
       "});\n",
       "require(['vis'], function(vis){\n",
       "var nodes = [{\"id\": 0, \"label\": \"1\", \"title\": \"0: 1\"}, {\"id\": 1, \"label\": \"6\", \"title\": \"1: 6\"}, {\"id\": 2, \"label\": \"2\", \"title\": \"2: 2\"}, {\"id\": 3, \"label\": \"3\", \"title\": \"3: 3\"}, {\"id\": 4, \"label\": \"5\", \"title\": \"4: 5\"}, {\"id\": 5, \"label\": \"4\", \"title\": \"5: 4\"}];\n",
       "var edges = [{\"title\": \"0: (1, 6)\", \"label\": \"\", \"color\": \"orange\", \"from\": 0, \"to\": 1}, {\"title\": \"1: (1, 2)\", \"label\": \"2\", \"color\": \"blue\", \"from\": 0, \"to\": 2}, {\"title\": \"2: (6, 2)\", \"label\": \"\", \"color\": \"orange\", \"from\": 1, \"to\": 2}, {\"title\": \"3: (6, 5)\", \"label\": \"2\", \"color\": \"blue\", \"from\": 1, \"to\": 4}, {\"title\": \"4: (2, 3)\", \"label\": \"2\", \"color\": \"blue\", \"from\": 2, \"to\": 3}, {\"title\": \"5: (3, 5)\", \"label\": \"\", \"color\": \"orange\", \"from\": 3, \"to\": 4}, {\"title\": \"6: (3, 4)\", \"label\": \"2\", \"color\": \"blue\", \"from\": 3, \"to\": 5}, {\"title\": \"7: (5, 4)\", \"label\": \"\", \"color\": \"orange\", \"from\": 4, \"to\": 5}];\n",
       "var data= {\n",
       "    nodes: nodes,\n",
       "    edges: edges,\n",
       "};\n",
       "var options = {\"interaction\": {\"navigationButtons\": false}, \"width\": \"600px\", \"height\": 150};\n",
       "var container = document.getElementById('937db696-87bb-47fc-94af-df5a980bb95c');\n",
       "var network = new vis.Network(container, data, options);\n",
       "network.fit({\n",
       "  maxZoomLevel: 1000});\n",
       "});\n",
       "</script>\n"
      ],
      "text/plain": [
       "<IPython.core.display.HTML object>"
      ]
     },
     "metadata": {},
     "output_type": "display_data"
    },
    {
     "data": {
      "text/html": [
       "\n",
       "<div id=\"09d102bb-20c0-438d-88e9-85e00fb65e23\"></div>\n",
       "<script>\n",
       "require.config({\n",
       "    paths: {\n",
       "        vis: 'https://unpkg.com/vis-network/standalone/umd/vis-network.min'\n",
       "    }\n",
       "});\n",
       "require(['vis'], function(vis){\n",
       "var nodes = [{\"id\": 0, \"label\": \"1\", \"title\": \"0: 1\"}, {\"id\": 1, \"label\": \"6\", \"title\": \"1: 6\"}, {\"id\": 2, \"label\": \"2\", \"title\": \"2: 2\"}, {\"id\": 3, \"label\": \"3\", \"title\": \"3: 3\"}, {\"id\": 4, \"label\": \"5\", \"title\": \"4: 5\"}, {\"id\": 5, \"label\": \"4\", \"title\": \"5: 4\"}];\n",
       "var edges = [{\"title\": \"0: (1, 6)\", \"label\": \"\", \"color\": \"orange\", \"from\": 0, \"to\": 1}, {\"title\": \"1: (1, 2)\", \"label\": \"2\", \"color\": \"blue\", \"from\": 0, \"to\": 2}, {\"title\": \"2: (6, 2)\", \"label\": \"2\", \"color\": \"blue\", \"from\": 1, \"to\": 2}, {\"title\": \"3: (6, 5)\", \"label\": \"\", \"color\": \"orange\", \"from\": 1, \"to\": 4}, {\"title\": \"4: (2, 3)\", \"label\": \"\", \"color\": \"orange\", \"from\": 2, \"to\": 3}, {\"title\": \"5: (3, 5)\", \"label\": \"2\", \"color\": \"blue\", \"from\": 3, \"to\": 4}, {\"title\": \"6: (3, 4)\", \"label\": \"2\", \"color\": \"blue\", \"from\": 3, \"to\": 5}, {\"title\": \"7: (5, 4)\", \"label\": \"\", \"color\": \"orange\", \"from\": 4, \"to\": 5}];\n",
       "var data= {\n",
       "    nodes: nodes,\n",
       "    edges: edges,\n",
       "};\n",
       "var options = {\"interaction\": {\"navigationButtons\": false}, \"width\": \"600px\", \"height\": 150};\n",
       "var container = document.getElementById('09d102bb-20c0-438d-88e9-85e00fb65e23');\n",
       "var network = new vis.Network(container, data, options);\n",
       "network.fit({\n",
       "  maxZoomLevel: 1000});\n",
       "});\n",
       "</script>\n"
      ],
      "text/plain": [
       "<IPython.core.display.HTML object>"
      ]
     },
     "metadata": {},
     "output_type": "display_data"
    },
    {
     "data": {
      "text/html": [
       "\n",
       "<div id=\"4f2b699c-2c1d-46ba-a46d-fc8d72651084\"></div>\n",
       "<script>\n",
       "require.config({\n",
       "    paths: {\n",
       "        vis: 'https://unpkg.com/vis-network/standalone/umd/vis-network.min'\n",
       "    }\n",
       "});\n",
       "require(['vis'], function(vis){\n",
       "var nodes = [{\"id\": 0, \"label\": \"1\", \"title\": \"0: 1\"}, {\"id\": 1, \"label\": \"6\", \"title\": \"1: 6\"}, {\"id\": 2, \"label\": \"2\", \"title\": \"2: 2\"}, {\"id\": 3, \"label\": \"3\", \"title\": \"3: 3\"}, {\"id\": 4, \"label\": \"5\", \"title\": \"4: 5\"}, {\"id\": 5, \"label\": \"4\", \"title\": \"5: 4\"}];\n",
       "var edges = [{\"title\": \"0: (1, 6)\", \"label\": \"2\", \"color\": \"blue\", \"from\": 0, \"to\": 1}, {\"title\": \"1: (1, 2)\", \"label\": \"\", \"color\": \"orange\", \"from\": 0, \"to\": 2}, {\"title\": \"2: (6, 2)\", \"label\": \"\", \"color\": \"orange\", \"from\": 1, \"to\": 2}, {\"title\": \"3: (6, 5)\", \"label\": \"\", \"color\": \"orange\", \"from\": 1, \"to\": 4}, {\"title\": \"4: (2, 3)\", \"label\": \"4\", \"color\": \"blue\", \"from\": 2, \"to\": 3}, {\"title\": \"5: (3, 5)\", \"label\": \"\", \"color\": \"orange\", \"from\": 3, \"to\": 4}, {\"title\": \"6: (3, 4)\", \"label\": \"\", \"color\": \"orange\", \"from\": 3, \"to\": 5}, {\"title\": \"7: (5, 4)\", \"label\": \"2\", \"color\": \"blue\", \"from\": 4, \"to\": 5}];\n",
       "var data= {\n",
       "    nodes: nodes,\n",
       "    edges: edges,\n",
       "};\n",
       "var options = {\"interaction\": {\"navigationButtons\": false}, \"width\": \"600px\", \"height\": 150};\n",
       "var container = document.getElementById('4f2b699c-2c1d-46ba-a46d-fc8d72651084');\n",
       "var network = new vis.Network(container, data, options);\n",
       "network.fit({\n",
       "  maxZoomLevel: 1000});\n",
       "});\n",
       "</script>\n"
      ],
      "text/plain": [
       "<IPython.core.display.HTML object>"
      ]
     },
     "metadata": {},
     "output_type": "display_data"
    }
   ],
   "source": [
    "for i in range(3):\n",
    "    codomino.show_vertex(i, disp_rates=False, vis_options={'height': 150})"
   ]
  },
  {
   "cell_type": "markdown",
   "metadata": {},
   "source": [
    "### Non-simple polytope"
   ]
  },
  {
   "cell_type": "code",
   "execution_count": 17,
   "metadata": {
    "ExecuteTime": {
     "end_time": "2022-02-03T15:26:26.659775Z",
     "start_time": "2022-02-03T15:26:26.634208Z"
    }
   },
   "outputs": [
    {
     "data": {
      "text/html": [
       "\n",
       "<div id=\"a21984f0-ee42-406c-ac39-61308720a65a\"></div>\n",
       "<script>\n",
       "require.config({\n",
       "    paths: {\n",
       "        vis: 'https://unpkg.com/vis-network/standalone/umd/vis-network.min'\n",
       "    }\n",
       "});\n",
       "require(['vis'], function(vis){\n",
       "var nodes = [{\"id\": 0, \"label\": \"9\", \"title\": \"0: 9\"}, {\"id\": 1, \"label\": \"2\", \"title\": \"1: 2\"}, {\"id\": 2, \"label\": \"1\", \"title\": \"2: 1\"}, {\"id\": 3, \"label\": \"8\", \"title\": \"3: 8\"}, {\"id\": 4, \"label\": \"7\", \"title\": \"4: 7\"}, {\"id\": 5, \"label\": \"3\", \"title\": \"5: 3\"}, {\"id\": 6, \"label\": \"4\", \"title\": \"6: 4\"}, {\"id\": 7, \"label\": \"5\", \"title\": \"7: 5\"}, {\"id\": 8, \"label\": \"6\", \"title\": \"8: 6\"}, {\"id\": 9, \"label\": \"10\", \"title\": \"9: 10\"}];\n",
       "var edges = [{\"title\": \"0: (9, 2)\", \"label\": \"2+\\u03b11\", \"from\": 0, \"to\": 1}, {\"title\": \"1: (9, 1)\", \"label\": \"2-\\u03b11\", \"from\": 0, \"to\": 2}, {\"title\": \"2: (2, 1)\", \"label\": \"+\\u03b13\", \"from\": 1, \"to\": 2}, {\"title\": \"3: (2, 3)\", \"label\": \"1-\\u03b11-\\u03b13\", \"from\": 1, \"to\": 5}, {\"title\": \"4: (1, 8)\", \"label\": \"1+\\u03b11-\\u03b13\", \"from\": 2, \"to\": 3}, {\"title\": \"5: (8, 7)\", \"label\": \"2-\\u03b11+\\u03b13\", \"from\": 3, \"to\": 4}, {\"title\": \"6: (7, 3)\", \"label\": \"3+\\u03b11+\\u03b12\", \"from\": 4, \"to\": 5}, {\"title\": \"7: (7, 6)\", \"label\": \"1-\\u03b12-\\u03b13\", \"from\": 4, \"to\": 8}, {\"title\": \"8: (3, 4)\", \"label\": \"2-\\u03b12+\\u03b13\", \"from\": 5, \"to\": 6}, {\"title\": \"9: (4, 5)\", \"label\": \"1+\\u03b12-\\u03b13\", \"from\": 6, \"to\": 7}, {\"title\": \"10: (5, 6)\", \"label\": \"1+\\u03b13\", \"from\": 7, \"to\": 8}, {\"title\": \"11: (5, 10)\", \"label\": \"2-\\u03b12\", \"from\": 7, \"to\": 9}, {\"title\": \"12: (6, 10)\", \"label\": \"2+\\u03b12\", \"from\": 8, \"to\": 9}];\n",
       "var data= {\n",
       "    nodes: nodes,\n",
       "    edges: edges,\n",
       "};\n",
       "var options = {\"interaction\": {\"navigationButtons\": false}, \"width\": \"600px\", \"height\": 450};\n",
       "var container = document.getElementById('a21984f0-ee42-406c-ac39-61308720a65a');\n",
       "var network = new vis.Network(container, data, options);\n",
       "network.fit({\n",
       "  maxZoomLevel: 1000});\n",
       "});\n",
       "</script>\n"
      ],
      "text/plain": [
       "<IPython.core.display.HTML object>"
      ]
     },
     "metadata": {},
     "output_type": "display_data"
    }
   ],
   "source": [
    "pyramid = sm.Pyramid(rates = [4, 3, 3, 3, 6, 6, 3, 4, 4, 4],\n",
    "                     names = [\"9\", \"2\", \"1\", \"8\", \"7\", \"3\", \"4\", \"5\", \"6\", \"10\"])\n",
    "pyramid.seeds = [0, 12, 2]\n",
    "pyramid.base_flow = pyramid.kernel_to_edge([1/6, 1/6, 1/6])\n",
    "pyramid.show_kernel(disp_flow=True, disp_rates = False, vis_options={'height': 450})"
   ]
  },
  {
   "cell_type": "code",
   "execution_count": 18,
   "metadata": {
    "ExecuteTime": {
     "end_time": "2022-02-03T15:26:26.709615Z",
     "start_time": "2022-02-03T15:26:26.661482Z"
    }
   },
   "outputs": [
    {
     "data": {
      "text/plain": [
       "[{'kernel_coordinates': array([-1.,  1.,  0.]),\n",
       "  'edge_coordinates': array([1., 3., 0., 2., 0., 3., 3., 0., 1., 2., 1., 1., 3.]),\n",
       "  'null_edges': [2, 4, 7],\n",
       "  'bijective': True},\n",
       " {'kernel_coordinates': array([-1., -1.,  0.]),\n",
       "  'edge_coordinates': array([1., 3., 0., 2., 0., 3., 1., 2., 3., 0., 1., 3., 1.]),\n",
       "  'null_edges': [2, 4, 9],\n",
       "  'bijective': True},\n",
       " {'kernel_coordinates': array([0., 0., 1.]),\n",
       "  'edge_coordinates': array([2., 2., 1., 0., 0., 3., 3., 0., 3., 0., 2., 2., 2.]),\n",
       "  'null_edges': [3, 4, 7, 9],\n",
       "  'bijective': False},\n",
       " {'kernel_coordinates': array([ 1., -1.,  0.]),\n",
       "  'edge_coordinates': array([3., 1., 0., 0., 2., 1., 3., 2., 3., 0., 1., 3., 1.]),\n",
       "  'null_edges': [2, 3, 9],\n",
       "  'bijective': True},\n",
       " {'kernel_coordinates': array([1., 1., 0.]),\n",
       "  'edge_coordinates': array([3., 1., 0., 0., 2., 1., 5., 0., 1., 2., 1., 1., 3.]),\n",
       "  'null_edges': [2, 3, 7],\n",
       "  'bijective': True}]"
      ]
     },
     "execution_count": 18,
     "metadata": {},
     "output_type": "execute_result"
    }
   ],
   "source": [
    "pyramid.vertices"
   ]
  },
  {
   "cell_type": "code",
   "execution_count": 19,
   "metadata": {
    "ExecuteTime": {
     "end_time": "2022-02-03T15:26:26.740766Z",
     "start_time": "2022-02-03T15:26:26.712260Z"
    }
   },
   "outputs": [
    {
     "data": {
      "text/html": [
       "\n",
       "<div id=\"3f9d7f89-1730-4049-ae34-0af059ee2d9d\"></div>\n",
       "<script>\n",
       "require.config({\n",
       "    paths: {\n",
       "        vis: 'https://unpkg.com/vis-network/standalone/umd/vis-network.min'\n",
       "    }\n",
       "});\n",
       "require(['vis'], function(vis){\n",
       "var nodes = [{\"id\": 0, \"label\": \"9\", \"title\": \"0: 9\"}, {\"id\": 1, \"label\": \"2\", \"title\": \"1: 2\"}, {\"id\": 2, \"label\": \"1\", \"title\": \"2: 1\"}, {\"id\": 3, \"label\": \"8\", \"title\": \"3: 8\"}, {\"id\": 4, \"label\": \"7\", \"title\": \"4: 7\"}, {\"id\": 5, \"label\": \"3\", \"title\": \"5: 3\"}, {\"id\": 6, \"label\": \"4\", \"title\": \"6: 4\"}, {\"id\": 7, \"label\": \"5\", \"title\": \"7: 5\"}, {\"id\": 8, \"label\": \"6\", \"title\": \"8: 6\"}, {\"id\": 9, \"label\": \"10\", \"title\": \"9: 10\"}];\n",
       "var edges = [{\"title\": \"0: (9, 2)\", \"label\": \"1\", \"color\": \"blue\", \"from\": 0, \"to\": 1}, {\"title\": \"1: (9, 1)\", \"label\": \"3\", \"color\": \"blue\", \"from\": 0, \"to\": 2}, {\"title\": \"2: (2, 1)\", \"label\": \"\", \"color\": \"orange\", \"from\": 1, \"to\": 2}, {\"title\": \"3: (2, 3)\", \"label\": \"2\", \"color\": \"blue\", \"from\": 1, \"to\": 5}, {\"title\": \"4: (1, 8)\", \"label\": \"\", \"color\": \"orange\", \"from\": 2, \"to\": 3}, {\"title\": \"5: (8, 7)\", \"label\": \"3\", \"color\": \"blue\", \"from\": 3, \"to\": 4}, {\"title\": \"6: (7, 3)\", \"label\": \"3\", \"color\": \"blue\", \"from\": 4, \"to\": 5}, {\"title\": \"7: (7, 6)\", \"label\": \"\", \"color\": \"orange\", \"from\": 4, \"to\": 8}, {\"title\": \"8: (3, 4)\", \"label\": \"1\", \"color\": \"blue\", \"from\": 5, \"to\": 6}, {\"title\": \"9: (4, 5)\", \"label\": \"2\", \"color\": \"blue\", \"from\": 6, \"to\": 7}, {\"title\": \"10: (5, 6)\", \"label\": \"1\", \"color\": \"blue\", \"from\": 7, \"to\": 8}, {\"title\": \"11: (5, 10)\", \"label\": \"1\", \"color\": \"blue\", \"from\": 7, \"to\": 9}, {\"title\": \"12: (6, 10)\", \"label\": \"3\", \"color\": \"blue\", \"from\": 8, \"to\": 9}];\n",
       "var data= {\n",
       "    nodes: nodes,\n",
       "    edges: edges,\n",
       "};\n",
       "var options = {\"interaction\": {\"navigationButtons\": false}, \"width\": \"600px\", \"height\": 250};\n",
       "var container = document.getElementById('3f9d7f89-1730-4049-ae34-0af059ee2d9d');\n",
       "var network = new vis.Network(container, data, options);\n",
       "network.fit({\n",
       "  maxZoomLevel: 1000});\n",
       "});\n",
       "</script>\n"
      ],
      "text/plain": [
       "<IPython.core.display.HTML object>"
      ]
     },
     "metadata": {},
     "output_type": "display_data"
    },
    {
     "data": {
      "text/html": [
       "\n",
       "<div id=\"8d3c8440-11ba-4d02-a096-56475138fae6\"></div>\n",
       "<script>\n",
       "require.config({\n",
       "    paths: {\n",
       "        vis: 'https://unpkg.com/vis-network/standalone/umd/vis-network.min'\n",
       "    }\n",
       "});\n",
       "require(['vis'], function(vis){\n",
       "var nodes = [{\"id\": 0, \"label\": \"9\", \"title\": \"0: 9\"}, {\"id\": 1, \"label\": \"2\", \"title\": \"1: 2\"}, {\"id\": 2, \"label\": \"1\", \"title\": \"2: 1\"}, {\"id\": 3, \"label\": \"8\", \"title\": \"3: 8\"}, {\"id\": 4, \"label\": \"7\", \"title\": \"4: 7\"}, {\"id\": 5, \"label\": \"3\", \"title\": \"5: 3\"}, {\"id\": 6, \"label\": \"4\", \"title\": \"6: 4\"}, {\"id\": 7, \"label\": \"5\", \"title\": \"7: 5\"}, {\"id\": 8, \"label\": \"6\", \"title\": \"8: 6\"}, {\"id\": 9, \"label\": \"10\", \"title\": \"9: 10\"}];\n",
       "var edges = [{\"title\": \"0: (9, 2)\", \"label\": \"1\", \"color\": \"blue\", \"from\": 0, \"to\": 1}, {\"title\": \"1: (9, 1)\", \"label\": \"3\", \"color\": \"blue\", \"from\": 0, \"to\": 2}, {\"title\": \"2: (2, 1)\", \"label\": \"\", \"color\": \"orange\", \"from\": 1, \"to\": 2}, {\"title\": \"3: (2, 3)\", \"label\": \"2\", \"color\": \"blue\", \"from\": 1, \"to\": 5}, {\"title\": \"4: (1, 8)\", \"label\": \"\", \"color\": \"orange\", \"from\": 2, \"to\": 3}, {\"title\": \"5: (8, 7)\", \"label\": \"3\", \"color\": \"blue\", \"from\": 3, \"to\": 4}, {\"title\": \"6: (7, 3)\", \"label\": \"1\", \"color\": \"blue\", \"from\": 4, \"to\": 5}, {\"title\": \"7: (7, 6)\", \"label\": \"2\", \"color\": \"blue\", \"from\": 4, \"to\": 8}, {\"title\": \"8: (3, 4)\", \"label\": \"3\", \"color\": \"blue\", \"from\": 5, \"to\": 6}, {\"title\": \"9: (4, 5)\", \"label\": \"\", \"color\": \"orange\", \"from\": 6, \"to\": 7}, {\"title\": \"10: (5, 6)\", \"label\": \"1\", \"color\": \"blue\", \"from\": 7, \"to\": 8}, {\"title\": \"11: (5, 10)\", \"label\": \"3\", \"color\": \"blue\", \"from\": 7, \"to\": 9}, {\"title\": \"12: (6, 10)\", \"label\": \"1\", \"color\": \"blue\", \"from\": 8, \"to\": 9}];\n",
       "var data= {\n",
       "    nodes: nodes,\n",
       "    edges: edges,\n",
       "};\n",
       "var options = {\"interaction\": {\"navigationButtons\": false}, \"width\": \"600px\", \"height\": 250};\n",
       "var container = document.getElementById('8d3c8440-11ba-4d02-a096-56475138fae6');\n",
       "var network = new vis.Network(container, data, options);\n",
       "network.fit({\n",
       "  maxZoomLevel: 1000});\n",
       "});\n",
       "</script>\n"
      ],
      "text/plain": [
       "<IPython.core.display.HTML object>"
      ]
     },
     "metadata": {},
     "output_type": "display_data"
    },
    {
     "data": {
      "text/html": [
       "\n",
       "<div id=\"54f51653-7a8c-431d-bcb4-e84aa40e348e\"></div>\n",
       "<script>\n",
       "require.config({\n",
       "    paths: {\n",
       "        vis: 'https://unpkg.com/vis-network/standalone/umd/vis-network.min'\n",
       "    }\n",
       "});\n",
       "require(['vis'], function(vis){\n",
       "var nodes = [{\"id\": 0, \"label\": \"9\", \"title\": \"0: 9\"}, {\"id\": 1, \"label\": \"2\", \"title\": \"1: 2\"}, {\"id\": 2, \"label\": \"1\", \"title\": \"2: 1\"}, {\"id\": 3, \"label\": \"8\", \"title\": \"3: 8\"}, {\"id\": 4, \"label\": \"7\", \"title\": \"4: 7\"}, {\"id\": 5, \"label\": \"3\", \"title\": \"5: 3\"}, {\"id\": 6, \"label\": \"4\", \"title\": \"6: 4\"}, {\"id\": 7, \"label\": \"5\", \"title\": \"7: 5\"}, {\"id\": 8, \"label\": \"6\", \"title\": \"8: 6\"}, {\"id\": 9, \"label\": \"10\", \"title\": \"9: 10\"}];\n",
       "var edges = [{\"title\": \"0: (9, 2)\", \"label\": \"2\", \"color\": \"blue\", \"from\": 0, \"to\": 1}, {\"title\": \"1: (9, 1)\", \"label\": \"2\", \"color\": \"blue\", \"from\": 0, \"to\": 2}, {\"title\": \"2: (2, 1)\", \"label\": \"1\", \"color\": \"blue\", \"from\": 1, \"to\": 2}, {\"title\": \"3: (2, 3)\", \"label\": \"\", \"color\": \"orange\", \"from\": 1, \"to\": 5}, {\"title\": \"4: (1, 8)\", \"label\": \"\", \"color\": \"orange\", \"from\": 2, \"to\": 3}, {\"title\": \"5: (8, 7)\", \"label\": \"3\", \"color\": \"blue\", \"from\": 3, \"to\": 4}, {\"title\": \"6: (7, 3)\", \"label\": \"3\", \"color\": \"blue\", \"from\": 4, \"to\": 5}, {\"title\": \"7: (7, 6)\", \"label\": \"\", \"color\": \"orange\", \"from\": 4, \"to\": 8}, {\"title\": \"8: (3, 4)\", \"label\": \"3\", \"color\": \"blue\", \"from\": 5, \"to\": 6}, {\"title\": \"9: (4, 5)\", \"label\": \"\", \"color\": \"orange\", \"from\": 6, \"to\": 7}, {\"title\": \"10: (5, 6)\", \"label\": \"2\", \"color\": \"blue\", \"from\": 7, \"to\": 8}, {\"title\": \"11: (5, 10)\", \"label\": \"2\", \"color\": \"blue\", \"from\": 7, \"to\": 9}, {\"title\": \"12: (6, 10)\", \"label\": \"2\", \"color\": \"blue\", \"from\": 8, \"to\": 9}];\n",
       "var data= {\n",
       "    nodes: nodes,\n",
       "    edges: edges,\n",
       "};\n",
       "var options = {\"interaction\": {\"navigationButtons\": false}, \"width\": \"600px\", \"height\": 250};\n",
       "var container = document.getElementById('54f51653-7a8c-431d-bcb4-e84aa40e348e');\n",
       "var network = new vis.Network(container, data, options);\n",
       "network.fit({\n",
       "  maxZoomLevel: 1000});\n",
       "});\n",
       "</script>\n"
      ],
      "text/plain": [
       "<IPython.core.display.HTML object>"
      ]
     },
     "metadata": {},
     "output_type": "display_data"
    },
    {
     "data": {
      "text/html": [
       "\n",
       "<div id=\"0c908631-be49-4e05-9d61-ef04ef0f5f1e\"></div>\n",
       "<script>\n",
       "require.config({\n",
       "    paths: {\n",
       "        vis: 'https://unpkg.com/vis-network/standalone/umd/vis-network.min'\n",
       "    }\n",
       "});\n",
       "require(['vis'], function(vis){\n",
       "var nodes = [{\"id\": 0, \"label\": \"9\", \"title\": \"0: 9\"}, {\"id\": 1, \"label\": \"2\", \"title\": \"1: 2\"}, {\"id\": 2, \"label\": \"1\", \"title\": \"2: 1\"}, {\"id\": 3, \"label\": \"8\", \"title\": \"3: 8\"}, {\"id\": 4, \"label\": \"7\", \"title\": \"4: 7\"}, {\"id\": 5, \"label\": \"3\", \"title\": \"5: 3\"}, {\"id\": 6, \"label\": \"4\", \"title\": \"6: 4\"}, {\"id\": 7, \"label\": \"5\", \"title\": \"7: 5\"}, {\"id\": 8, \"label\": \"6\", \"title\": \"8: 6\"}, {\"id\": 9, \"label\": \"10\", \"title\": \"9: 10\"}];\n",
       "var edges = [{\"title\": \"0: (9, 2)\", \"label\": \"3\", \"color\": \"blue\", \"from\": 0, \"to\": 1}, {\"title\": \"1: (9, 1)\", \"label\": \"1\", \"color\": \"blue\", \"from\": 0, \"to\": 2}, {\"title\": \"2: (2, 1)\", \"label\": \"\", \"color\": \"orange\", \"from\": 1, \"to\": 2}, {\"title\": \"3: (2, 3)\", \"label\": \"\", \"color\": \"orange\", \"from\": 1, \"to\": 5}, {\"title\": \"4: (1, 8)\", \"label\": \"2\", \"color\": \"blue\", \"from\": 2, \"to\": 3}, {\"title\": \"5: (8, 7)\", \"label\": \"1\", \"color\": \"blue\", \"from\": 3, \"to\": 4}, {\"title\": \"6: (7, 3)\", \"label\": \"3\", \"color\": \"blue\", \"from\": 4, \"to\": 5}, {\"title\": \"7: (7, 6)\", \"label\": \"2\", \"color\": \"blue\", \"from\": 4, \"to\": 8}, {\"title\": \"8: (3, 4)\", \"label\": \"3\", \"color\": \"blue\", \"from\": 5, \"to\": 6}, {\"title\": \"9: (4, 5)\", \"label\": \"\", \"color\": \"orange\", \"from\": 6, \"to\": 7}, {\"title\": \"10: (5, 6)\", \"label\": \"1\", \"color\": \"blue\", \"from\": 7, \"to\": 8}, {\"title\": \"11: (5, 10)\", \"label\": \"3\", \"color\": \"blue\", \"from\": 7, \"to\": 9}, {\"title\": \"12: (6, 10)\", \"label\": \"1\", \"color\": \"blue\", \"from\": 8, \"to\": 9}];\n",
       "var data= {\n",
       "    nodes: nodes,\n",
       "    edges: edges,\n",
       "};\n",
       "var options = {\"interaction\": {\"navigationButtons\": false}, \"width\": \"600px\", \"height\": 250};\n",
       "var container = document.getElementById('0c908631-be49-4e05-9d61-ef04ef0f5f1e');\n",
       "var network = new vis.Network(container, data, options);\n",
       "network.fit({\n",
       "  maxZoomLevel: 1000});\n",
       "});\n",
       "</script>\n"
      ],
      "text/plain": [
       "<IPython.core.display.HTML object>"
      ]
     },
     "metadata": {},
     "output_type": "display_data"
    },
    {
     "data": {
      "text/html": [
       "\n",
       "<div id=\"cce61bdd-f96b-455b-9e83-6c92a14cd926\"></div>\n",
       "<script>\n",
       "require.config({\n",
       "    paths: {\n",
       "        vis: 'https://unpkg.com/vis-network/standalone/umd/vis-network.min'\n",
       "    }\n",
       "});\n",
       "require(['vis'], function(vis){\n",
       "var nodes = [{\"id\": 0, \"label\": \"9\", \"title\": \"0: 9\"}, {\"id\": 1, \"label\": \"2\", \"title\": \"1: 2\"}, {\"id\": 2, \"label\": \"1\", \"title\": \"2: 1\"}, {\"id\": 3, \"label\": \"8\", \"title\": \"3: 8\"}, {\"id\": 4, \"label\": \"7\", \"title\": \"4: 7\"}, {\"id\": 5, \"label\": \"3\", \"title\": \"5: 3\"}, {\"id\": 6, \"label\": \"4\", \"title\": \"6: 4\"}, {\"id\": 7, \"label\": \"5\", \"title\": \"7: 5\"}, {\"id\": 8, \"label\": \"6\", \"title\": \"8: 6\"}, {\"id\": 9, \"label\": \"10\", \"title\": \"9: 10\"}];\n",
       "var edges = [{\"title\": \"0: (9, 2)\", \"label\": \"3\", \"color\": \"blue\", \"from\": 0, \"to\": 1}, {\"title\": \"1: (9, 1)\", \"label\": \"1\", \"color\": \"blue\", \"from\": 0, \"to\": 2}, {\"title\": \"2: (2, 1)\", \"label\": \"\", \"color\": \"orange\", \"from\": 1, \"to\": 2}, {\"title\": \"3: (2, 3)\", \"label\": \"\", \"color\": \"orange\", \"from\": 1, \"to\": 5}, {\"title\": \"4: (1, 8)\", \"label\": \"2\", \"color\": \"blue\", \"from\": 2, \"to\": 3}, {\"title\": \"5: (8, 7)\", \"label\": \"1\", \"color\": \"blue\", \"from\": 3, \"to\": 4}, {\"title\": \"6: (7, 3)\", \"label\": \"5\", \"color\": \"blue\", \"from\": 4, \"to\": 5}, {\"title\": \"7: (7, 6)\", \"label\": \"\", \"color\": \"orange\", \"from\": 4, \"to\": 8}, {\"title\": \"8: (3, 4)\", \"label\": \"1\", \"color\": \"blue\", \"from\": 5, \"to\": 6}, {\"title\": \"9: (4, 5)\", \"label\": \"2\", \"color\": \"blue\", \"from\": 6, \"to\": 7}, {\"title\": \"10: (5, 6)\", \"label\": \"1\", \"color\": \"blue\", \"from\": 7, \"to\": 8}, {\"title\": \"11: (5, 10)\", \"label\": \"1\", \"color\": \"blue\", \"from\": 7, \"to\": 9}, {\"title\": \"12: (6, 10)\", \"label\": \"3\", \"color\": \"blue\", \"from\": 8, \"to\": 9}];\n",
       "var data= {\n",
       "    nodes: nodes,\n",
       "    edges: edges,\n",
       "};\n",
       "var options = {\"interaction\": {\"navigationButtons\": false}, \"width\": \"600px\", \"height\": 250};\n",
       "var container = document.getElementById('cce61bdd-f96b-455b-9e83-6c92a14cd926');\n",
       "var network = new vis.Network(container, data, options);\n",
       "network.fit({\n",
       "  maxZoomLevel: 1000});\n",
       "});\n",
       "</script>\n"
      ],
      "text/plain": [
       "<IPython.core.display.HTML object>"
      ]
     },
     "metadata": {},
     "output_type": "display_data"
    }
   ],
   "source": [
    "for i in range(5):\n",
    "    pyramid.show_vertex(i, disp_rates=False, vis_options={'height': 250})"
   ]
  },
  {
   "cell_type": "markdown",
   "metadata": {},
   "source": [
    "## Greedy policies"
   ]
  },
  {
   "cell_type": "markdown",
   "metadata": {},
   "source": [
    "This section of the notebook builds the figures from *Matching rates in surjective-only graphs: greedy policies*."
   ]
  },
  {
   "cell_type": "markdown",
   "metadata": {},
   "source": [
    "### Complete graph"
   ]
  },
  {
   "cell_type": "code",
   "execution_count": 20,
   "metadata": {
    "ExecuteTime": {
     "end_time": "2022-02-03T15:26:26.756763Z",
     "start_time": "2022-02-03T15:26:26.743316Z"
    }
   },
   "outputs": [
    {
     "data": {
      "text/html": [
       "\n",
       "<div id=\"ef75a659-efab-43cd-b797-d083cedbcf82\"></div>\n",
       "<script>\n",
       "require.config({\n",
       "    paths: {\n",
       "        vis: 'https://unpkg.com/vis-network/standalone/umd/vis-network.min'\n",
       "    }\n",
       "});\n",
       "require(['vis'], function(vis){\n",
       "var nodes = [{\"id\": 0, \"label\": \"1\", \"title\": \"0: 1\"}, {\"id\": 1, \"label\": \"2\", \"title\": \"1: 2\"}, {\"id\": 2, \"label\": \"3\", \"title\": \"2: 3\"}, {\"id\": 3, \"label\": \"4\", \"title\": \"3: 4\"}];\n",
       "var edges = [{\"title\": \"0: (1, 2)\", \"label\": \"+\\u03b12\", \"from\": 0, \"to\": 1}, {\"title\": \"1: (1, 3)\", \"label\": \"+\\u03b11\", \"from\": 0, \"to\": 2}, {\"title\": \"2: (1, 4)\", \"label\": \"-\\u03b11-\\u03b12\", \"from\": 0, \"to\": 3}, {\"title\": \"3: (2, 3)\", \"label\": \"-\\u03b11-\\u03b12\", \"from\": 1, \"to\": 2}, {\"title\": \"4: (2, 4)\", \"label\": \"+\\u03b11\", \"from\": 1, \"to\": 3}, {\"title\": \"5: (3, 4)\", \"label\": \"+\\u03b12\", \"from\": 2, \"to\": 3}];\n",
       "var data= {\n",
       "    nodes: nodes,\n",
       "    edges: edges,\n",
       "};\n",
       "var options = {\"interaction\": {\"navigationButtons\": false}, \"width\": \"600px\", \"height\": 300};\n",
       "var container = document.getElementById('ef75a659-efab-43cd-b797-d083cedbcf82');\n",
       "var network = new vis.Network(container, data, options);\n",
       "network.fit({\n",
       "  maxZoomLevel: 1000});\n",
       "});\n",
       "</script>\n"
      ],
      "text/plain": [
       "<IPython.core.display.HTML object>"
      ]
     },
     "metadata": {},
     "output_type": "display_data"
    }
   ],
   "source": [
    "# Note: the kernel is reversed compared to the figure in the paper; this does not change anything but signes in practice\n",
    "\n",
    "complete = sm.Complete(n=4, names=[str(i) for i in range(1, 5)])\n",
    "complete.show_kernel(disp_rates=False)"
   ]
  },
  {
   "cell_type": "code",
   "execution_count": 21,
   "metadata": {
    "ExecuteTime": {
     "end_time": "2022-02-03T15:26:26.772453Z",
     "start_time": "2022-02-03T15:26:26.758762Z"
    }
   },
   "outputs": [
    {
     "data": {
      "text/plain": [
       "[{'kernel_coordinates': array([-1., -1.]),\n",
       "  'edge_coordinates': array([0., 0., 3., 3., 0., 0.]),\n",
       "  'null_edges': [0, 1, 4, 5],\n",
       "  'bijective': False},\n",
       " {'kernel_coordinates': array([-1.,  2.]),\n",
       "  'edge_coordinates': array([3., 0., 0., 0., 0., 3.]),\n",
       "  'null_edges': [1, 2, 3, 4],\n",
       "  'bijective': False},\n",
       " {'kernel_coordinates': array([ 2., -1.]),\n",
       "  'edge_coordinates': array([0., 3., 0., 0., 3., 0.]),\n",
       "  'null_edges': [0, 2, 3, 5],\n",
       "  'bijective': False}]"
      ]
     },
     "execution_count": 21,
     "metadata": {},
     "output_type": "execute_result"
    }
   ],
   "source": [
    "complete.vertices"
   ]
  },
  {
   "cell_type": "markdown",
   "metadata": {},
   "source": [
    "For heavy computational stuff, we use the following approach:\n",
    "- Simulations are run on parallel.\n",
    "- Results of interest are saved in a pickle file.\n",
    "- If the pickle file exists, it bypasses the computation."
   ]
  },
  {
   "cell_type": "code",
   "execution_count": 22,
   "metadata": {
    "ExecuteTime": {
     "end_time": "2022-02-03T15:26:26.867226Z",
     "start_time": "2022-02-03T15:26:26.773434Z"
    }
   },
   "outputs": [],
   "source": [
    "from joblib import Parallel, delayed\n",
    "\n",
    "def process(sim_dict, T):\n",
    "    complete = sm.Complete(n=4)\n",
    "    complete.run(**sim_dict, number_events=T)\n",
    "    return complete.edge_to_kernel(complete.simulation)"
   ]
  },
  {
   "cell_type": "code",
   "execution_count": 23,
   "metadata": {
    "ExecuteTime": {
     "end_time": "2022-02-03T15:26:26.883068Z",
     "start_time": "2022-02-03T15:26:26.869108Z"
    }
   },
   "outputs": [],
   "source": [
    "sims = [{'simulator': 'longest_queue'},\n",
    "        {'simulator': 'fcfm'},\n",
    "        {'simulator': 'random_node'},\n",
    "        {'simulator': 'random_item'},\n",
    "        {'simulator': 'priority', 'weights': [1, 10, 0, -1, 3, 4]},\n",
    "       ]"
   ]
  },
  {
   "cell_type": "code",
   "execution_count": 24,
   "metadata": {
    "ExecuteTime": {
     "end_time": "2022-02-03T15:26:26.914581Z",
     "start_time": "2022-02-03T15:26:26.885654Z"
    }
   },
   "outputs": [],
   "source": [
    "import dill as pickle\n",
    "from pathlib import Path\n",
    "def cached_computation(name, computation):\n",
    "    file = Path(f\"{name}_{digits}.pkl\")\n",
    "    if file.exists():\n",
    "        with open(file, 'rb') as f:\n",
    "            return pickle.load(f)\n",
    "    else:\n",
    "        results = computation()\n",
    "        with open(file, 'wb') as f:\n",
    "            pickle.dump(results, f)\n",
    "        return results"
   ]
  },
  {
   "cell_type": "code",
   "execution_count": 25,
   "metadata": {
    "ExecuteTime": {
     "end_time": "2022-02-03T15:26:26.930553Z",
     "start_time": "2022-02-03T15:26:26.915556Z"
    }
   },
   "outputs": [],
   "source": [
    "def parallel_compute(process, elements):\n",
    "    def computation():\n",
    "        return Parallel(n_jobs=min(max_jobs, len(elements)))(delayed(process)(e, T=T) for e in elements)\n",
    "    return computation"
   ]
  },
  {
   "cell_type": "markdown",
   "metadata": {},
   "source": [
    "No matter what policy is used, the results is always the same in a complete graph, as all greedy policies are equivalent."
   ]
  },
  {
   "cell_type": "code",
   "execution_count": 26,
   "metadata": {
    "ExecuteTime": {
     "end_time": "2022-02-03T15:26:26.945837Z",
     "start_time": "2022-02-03T15:26:26.932539Z"
    }
   },
   "outputs": [
    {
     "data": {
      "text/plain": [
       "[array([0., 0.]),\n",
       " array([0., 0.]),\n",
       " array([0., 0.]),\n",
       " array([0., 0.]),\n",
       " array([0., 0.])]"
      ]
     },
     "execution_count": 26,
     "metadata": {},
     "output_type": "execute_result"
    }
   ],
   "source": [
    "results = cached_computation('complete', parallel_compute(process, sims))\n",
    "results"
   ]
  },
  {
   "cell_type": "markdown",
   "metadata": {},
   "source": [
    "### Diamond graph"
   ]
  },
  {
   "cell_type": "code",
   "execution_count": 27,
   "metadata": {
    "ExecuteTime": {
     "end_time": "2022-02-03T15:26:26.961460Z",
     "start_time": "2022-02-03T15:26:26.948974Z"
    }
   },
   "outputs": [],
   "source": [
    "def process(beta, T):\n",
    "    diamond = sm.CycleChain(names=[str(i) for i in range(1, 5)], rates=[1/4, 1/4+beta, 1/4+beta, 1/4])\n",
    "    diamond.run('priority', weights=[1, 0, 0, 0, 1], number_events=T)\n",
    "    flow = diamond.simulation\n",
    "    return (flow[0]+flow[-1]-flow[1]-flow[3])/4"
   ]
  },
  {
   "cell_type": "code",
   "execution_count": 28,
   "metadata": {
    "ExecuteTime": {
     "end_time": "2022-02-03T15:26:26.976848Z",
     "start_time": "2022-02-03T15:26:26.968488Z"
    }
   },
   "outputs": [],
   "source": [
    "n_points = 30\n",
    "β_vect = 10**np.linspace(-3, 1, n_points)\n",
    "results = cached_computation('diamond', parallel_compute(process, β_vect))"
   ]
  },
  {
   "cell_type": "code",
   "execution_count": 29,
   "metadata": {
    "ExecuteTime": {
     "end_time": "2022-02-03T15:26:26.994093Z",
     "start_time": "2022-02-03T15:26:26.979330Z"
    }
   },
   "outputs": [],
   "source": [
    "from matplotlib import pyplot as plt\n",
    "\n",
    "def min_flow2(beta):\n",
    "    q13=1/(4*beta)\n",
    "    q2=1/2+2*beta\n",
    "    p0 = 1/(1+q13+2*q2)\n",
    "    return p0*q2/4 + p0/(1+8*beta)*(1/4+beta)-1/8\n",
    "\n",
    "lbi = [min_flow2(β) for β in β_vect]\n",
    "ubi = [-min_flow2(β) for β in β_vect]"
   ]
  },
  {
   "cell_type": "code",
   "execution_count": 30,
   "metadata": {
    "ExecuteTime": {
     "end_time": "2022-02-03T15:26:28.101788Z",
     "start_time": "2022-02-03T15:26:26.996475Z"
    }
   },
   "outputs": [
    {
     "data": {
      "image/png": "[encoded data removed]",
      "text/plain": [
       "<Figure size 864x720 with 1 Axes>"
      ]
     },
     "metadata": {
      "needs_background": "light"
     },
     "output_type": "display_data"
    }
   ],
   "source": [
    "import tikzplotlib\n",
    "\n",
    "plt.figure(figsize=[12, 10])\n",
    "res = np.array(results)\n",
    "plt.fill_between(β_vect, -1/8*np.ones(n_points), 1/8*np.ones(n_points), label = '$\\Lambda_{\\geqslant 0}$', color = [.85, .85, .85, 1])\n",
    "plt.fill_between(β_vect, -res, res, label = '$\\Lambda_G = [\\\\alpha_-, \\\\alpha_+]$', color = [.6, .6, .6, 1])\n",
    "\n",
    "plt.semilogx(β_vect, ubi, label='Upper bound from \\eqref{eq:diamond-greedy-ineq}')\n",
    "plt.semilogx(β_vect, np.zeros(n_points), label='$\\\\alpha=0$')\n",
    "plt.semilogx(β_vect, lbi, label='Lower bound from \\eqref{eq:diamond-greedy-ineq}')\n",
    "\n",
    "plt.xlabel('$\\\\beta$')\n",
    "plt.ylabel('$\\\\alpha$')\n",
    "plt.legend()\n",
    "plt.xlim([β_vect[0], β_vect[-1]])\n",
    "tikzplotlib.save(f\"diamond_{digits}.tex\", axis_width=\"12cm\", axis_height=\"8cm\",\n",
    ")\n",
    "plt.show()"
   ]
  },
  {
   "cell_type": "markdown",
   "metadata": {},
   "source": [
    "### Fish graph"
   ]
  },
  {
   "cell_type": "code",
   "execution_count": 31,
   "metadata": {
    "ExecuteTime": {
     "end_time": "2022-02-03T15:26:28.133257Z",
     "start_time": "2022-02-03T15:26:28.105687Z"
    }
   },
   "outputs": [
    {
     "data": {
      "text/html": [
       "\n",
       "<div id=\"3197a1c7-8fd3-4f96-8747-5e1be58d7693\"></div>\n",
       "<script>\n",
       "require.config({\n",
       "    paths: {\n",
       "        vis: 'https://unpkg.com/vis-network/standalone/umd/vis-network.min'\n",
       "    }\n",
       "});\n",
       "require(['vis'], function(vis){\n",
       "var nodes = [{\"id\": 0, \"label\": \"1\", \"title\": \"0: 1\"}, {\"id\": 1, \"label\": \"2\", \"title\": \"1: 2\"}, {\"id\": 2, \"label\": \"3\", \"title\": \"2: 3\"}, {\"id\": 3, \"label\": \"4\", \"title\": \"3: 4\"}, {\"id\": 4, \"label\": \"5\", \"title\": \"4: 5\"}, {\"id\": 5, \"label\": \"6\", \"title\": \"5: 6\"}];\n",
       "var edges = [{\"title\": \"0: (1, 2)\", \"label\": \"3\", \"color\": \"black\", \"from\": 0, \"to\": 1}, {\"title\": \"1: (1, 3)\", \"label\": \"1\", \"color\": \"black\", \"from\": 0, \"to\": 2}, {\"title\": \"2: (2, 3)\", \"label\": \"1\", \"color\": \"black\", \"from\": 1, \"to\": 2}, {\"title\": \"3: (3, 4)\", \"label\": \"+\\u03b11\", \"from\": 2, \"to\": 3}, {\"title\": \"4: (3, 6)\", \"label\": \"1-\\u03b11\", \"from\": 2, \"to\": 5}, {\"title\": \"5: (4, 5)\", \"label\": \"2-\\u03b11\", \"from\": 3, \"to\": 4}, {\"title\": \"6: (5, 6)\", \"label\": \"1+\\u03b11\", \"from\": 4, \"to\": 5}];\n",
       "var data= {\n",
       "    nodes: nodes,\n",
       "    edges: edges,\n",
       "};\n",
       "var options = {\"interaction\": {\"navigationButtons\": false}, \"width\": \"600px\", \"height\": 300};\n",
       "var container = document.getElementById('3197a1c7-8fd3-4f96-8747-5e1be58d7693');\n",
       "var network = new vis.Network(container, data, options);\n",
       "network.fit({\n",
       "  maxZoomLevel: 1000});\n",
       "});\n",
       "</script>\n"
      ],
      "text/plain": [
       "<IPython.core.display.HTML object>"
      ]
     },
     "metadata": {},
     "output_type": "display_data"
    }
   ],
   "source": [
    "fish = sm.KayakPaddle(3, 0, 4, names=[str(i) for i in range(1, 7)],\n",
    "                      rates=[4, 4, 3, 2, 3, 2])\n",
    "fish.base_flow = fish.optimize_edge(3, -1)\n",
    "fish.show_kernel(disp_rates=False, disp_flow=True)"
   ]
  },
  {
   "cell_type": "markdown",
   "metadata": {},
   "source": [
    "#### Limitation lemma"
   ]
  },
  {
   "cell_type": "code",
   "execution_count": 32,
   "metadata": {
    "ExecuteTime": {
     "end_time": "2022-02-03T15:26:28.148941Z",
     "start_time": "2022-02-03T15:26:28.135606Z"
    }
   },
   "outputs": [
    {
     "data": {
      "text/plain": [
       "True"
      ]
     },
     "execution_count": 32,
     "metadata": {},
     "output_type": "execute_result"
    }
   ],
   "source": [
    "paw = sm.Tadpole(names = [str(i) for i in range(1, 5)], rates=[4, 4, 3, 1])\n",
    "paw.stabilizable"
   ]
  },
  {
   "cell_type": "code",
   "execution_count": 33,
   "metadata": {
    "ExecuteTime": {
     "end_time": "2022-02-03T15:26:28.164103Z",
     "start_time": "2022-02-03T15:26:28.152099Z"
    }
   },
   "outputs": [
    {
     "data": {
      "text/plain": [
       "array([3., 1., 1., 1.])"
      ]
     },
     "execution_count": 33,
     "metadata": {},
     "output_type": "execute_result"
    }
   ],
   "source": [
    "paw.base_flow"
   ]
  },
  {
   "cell_type": "code",
   "execution_count": 34,
   "metadata": {
    "ExecuteTime": {
     "end_time": "2022-02-03T15:26:34.019850Z",
     "start_time": "2022-02-03T15:26:28.166191Z"
    }
   },
   "outputs": [
    {
     "data": {
      "text/plain": [
       "True"
      ]
     },
     "execution_count": 34,
     "metadata": {},
     "output_type": "execute_result"
    }
   ],
   "source": [
    "paw.run('priority', weights=[0, 1, 1, 0], max_queue=10**7, number_events=10**7)"
   ]
  },
  {
   "cell_type": "code",
   "execution_count": 35,
   "metadata": {
    "ExecuteTime": {
     "end_time": "2022-02-03T15:26:34.035158Z",
     "start_time": "2022-02-03T15:26:34.022065Z"
    }
   },
   "outputs": [
    {
     "data": {
      "text/html": [
       "\n",
       "<div id=\"09ebb578-af5a-4490-b2e2-2544fb17a1b8\"></div>\n",
       "<script>\n",
       "require.config({\n",
       "    paths: {\n",
       "        vis: 'https://unpkg.com/vis-network/standalone/umd/vis-network.min'\n",
       "    }\n",
       "});\n",
       "require(['vis'], function(vis){\n",
       "var nodes = [{\"id\": 0, \"label\": \"1\", \"title\": \"0: 1\"}, {\"id\": 1, \"label\": \"2\", \"title\": \"1: 2\"}, {\"id\": 2, \"label\": \"3\", \"title\": \"2: 3\"}, {\"id\": 3, \"label\": \"4\", \"title\": \"3: 4\", \"color\": \"red\"}];\n",
       "var edges = [{\"title\": \"0: (1, 2)\", \"label\": \"2.91\", \"color\": \"blue\", \"from\": 0, \"to\": 1}, {\"title\": \"1: (1, 3)\", \"label\": \"1.09\", \"color\": \"blue\", \"from\": 0, \"to\": 2}, {\"title\": \"2: (2, 3)\", \"label\": \"1.09\", \"color\": \"blue\", \"from\": 1, \"to\": 2}, {\"title\": \"3: (3, 4)\", \"label\": \"0.818\", \"color\": \"blue\", \"from\": 2, \"to\": 3}];\n",
       "var data= {\n",
       "    nodes: nodes,\n",
       "    edges: edges,\n",
       "};\n",
       "var options = {\"interaction\": {\"navigationButtons\": false}, \"width\": \"600px\", \"height\": 300};\n",
       "var container = document.getElementById('09ebb578-af5a-4490-b2e2-2544fb17a1b8');\n",
       "var network = new vis.Network(container, data, options);\n",
       "network.fit({\n",
       "  maxZoomLevel: 1000});\n",
       "});\n",
       "</script>\n"
      ],
      "text/plain": [
       "<IPython.core.display.HTML object>"
      ]
     },
     "metadata": {},
     "output_type": "display_data"
    }
   ],
   "source": [
    "paw.show_flow(disp_rates=False)"
   ]
  },
  {
   "cell_type": "markdown",
   "metadata": {},
   "source": [
    "Theory predict a matching rate $9/11$ for node 4."
   ]
  },
  {
   "cell_type": "code",
   "execution_count": 36,
   "metadata": {
    "ExecuteTime": {
     "end_time": "2022-02-03T15:26:34.050897Z",
     "start_time": "2022-02-03T15:26:34.037275Z"
    }
   },
   "outputs": [
    {
     "data": {
      "text/plain": [
       "0.8181818181818182"
      ]
     },
     "execution_count": 36,
     "metadata": {},
     "output_type": "execute_result"
    }
   ],
   "source": [
    "9/11"
   ]
  },
  {
   "cell_type": "markdown",
   "metadata": {},
   "source": [
    "#### Unstable policy lemma"
   ]
  },
  {
   "cell_type": "code",
   "execution_count": 37,
   "metadata": {
    "ExecuteTime": {
     "end_time": "2022-02-03T15:26:37.164413Z",
     "start_time": "2022-02-03T15:26:34.054023Z"
    }
   },
   "outputs": [
    {
     "data": {
      "text/html": [
       "\n",
       "<div id=\"502e1381-9cef-40af-9673-e284924d8c55\"></div>\n",
       "<script>\n",
       "require.config({\n",
       "    paths: {\n",
       "        vis: 'https://unpkg.com/vis-network/standalone/umd/vis-network.min'\n",
       "    }\n",
       "});\n",
       "require(['vis'], function(vis){\n",
       "var nodes = [{\"id\": 0, \"label\": \"1\", \"title\": \"0: 1\"}, {\"id\": 1, \"label\": \"2\", \"title\": \"1: 2\"}, {\"id\": 2, \"label\": \"3\", \"title\": \"2: 3\"}, {\"id\": 3, \"label\": \"4\", \"title\": \"3: 4\", \"color\": \"red\"}, {\"id\": 4, \"label\": \"5\", \"title\": \"4: 5\"}, {\"id\": 5, \"label\": \"6\", \"title\": \"5: 6\"}];\n",
       "var edges = [{\"title\": \"0: (1, 2)\", \"label\": \"2.91\", \"color\": \"blue\", \"from\": 0, \"to\": 1}, {\"title\": \"1: (1, 3)\", \"label\": \"1.09\", \"color\": \"blue\", \"from\": 0, \"to\": 2}, {\"title\": \"2: (2, 3)\", \"label\": \"1.09\", \"color\": \"blue\", \"from\": 1, \"to\": 2}, {\"title\": \"3: (3, 4)\", \"label\": \"0.819\", \"color\": \"blue\", \"from\": 2, \"to\": 3}, {\"title\": \"4: (3, 6)\", \"label\": \"1.08e-05\", \"color\": \"blue\", \"from\": 2, \"to\": 5}, {\"title\": \"5: (4, 5)\", \"label\": \"0.998\", \"color\": \"blue\", \"from\": 3, \"to\": 4}, {\"title\": \"6: (5, 6)\", \"label\": \"2\", \"color\": \"blue\", \"from\": 4, \"to\": 5}];\n",
       "var data= {\n",
       "    nodes: nodes,\n",
       "    edges: edges,\n",
       "};\n",
       "var options = {\"interaction\": {\"navigationButtons\": false}, \"width\": \"600px\", \"height\": 300};\n",
       "var container = document.getElementById('502e1381-9cef-40af-9673-e284924d8c55');\n",
       "var network = new vis.Network(container, data, options);\n",
       "network.fit({\n",
       "  maxZoomLevel: 1000});\n",
       "});\n",
       "</script>\n"
      ],
      "text/plain": [
       "<IPython.core.display.HTML object>"
      ]
     },
     "metadata": {},
     "output_type": "display_data"
    }
   ],
   "source": [
    "fish.run('priority', weights=[0, 3, 3, 2, 0, 0, 2], max_queue=10**7, number_events=10**7)\n",
    "fish.show_flow(disp_rates=False)"
   ]
  },
  {
   "cell_type": "markdown",
   "metadata": {},
   "source": [
    "Queues 3 and 5 are empty because 4 is transient and never empty."
   ]
  },
  {
   "cell_type": "code",
   "execution_count": 38,
   "metadata": {
    "ExecuteTime": {
     "end_time": "2022-02-03T15:26:37.584561Z",
     "start_time": "2022-02-03T15:26:37.167330Z"
    }
   },
   "outputs": [
    {
     "data": {
      "image/png": "[encoded data removed]",
      "text/plain": [
       "<Figure size 432x288 with 1 Axes>"
      ]
     },
     "metadata": {
      "needs_background": "light"
     },
     "output_type": "display_data"
    }
   ],
   "source": [
    "fig = fish.simulator.show_average_queues(sort=True, indices=[0, 1, 2, 4, 5])"
   ]
  },
  {
   "cell_type": "markdown",
   "metadata": {},
   "source": [
    "For finite simulations, *transient* means *very big queue*."
   ]
  },
  {
   "cell_type": "code",
   "execution_count": 39,
   "metadata": {
    "ExecuteTime": {
     "end_time": "2022-02-03T15:26:37.881013Z",
     "start_time": "2022-02-03T15:26:37.586883Z"
    }
   },
   "outputs": [
    {
     "data": {
      "image/png": "[encoded data removed]",
      "text/plain": [
       "<Figure size 432x288 with 1 Axes>"
      ]
     },
     "metadata": {
      "needs_background": "light"
     },
     "output_type": "display_data"
    }
   ],
   "source": [
    "fig = fish.simulator.show_average_queues(sort=True, indices=[3])"
   ]
  },
  {
   "cell_type": "markdown",
   "metadata": {},
   "source": [
    "#### Threshold-controlled priorities"
   ]
  },
  {
   "cell_type": "code",
   "execution_count": 40,
   "metadata": {
    "ExecuteTime": {
     "end_time": "2022-02-03T15:26:41.820530Z",
     "start_time": "2022-02-03T15:26:37.883774Z"
    }
   },
   "outputs": [
    {
     "data": {
      "text/plain": [
       "True"
      ]
     },
     "execution_count": 40,
     "metadata": {},
     "output_type": "execute_result"
    }
   ],
   "source": [
    "fish.run('priority', weights=[0, 3, 3, 2, 0, 0, 2], threshold=100, counterweights=[0, 1, 1, 2, 0, 0, 2],\n",
    "         number_events=10**7)"
   ]
  },
  {
   "cell_type": "code",
   "execution_count": 41,
   "metadata": {
    "ExecuteTime": {
     "end_time": "2022-02-03T15:26:41.836019Z",
     "start_time": "2022-02-03T15:26:41.823256Z"
    }
   },
   "outputs": [
    {
     "data": {
      "text/html": [
       "\n",
       "<div id=\"c3dff286-571f-4a46-8d47-bbe2dd5ec347\"></div>\n",
       "<script>\n",
       "require.config({\n",
       "    paths: {\n",
       "        vis: 'https://unpkg.com/vis-network/standalone/umd/vis-network.min'\n",
       "    }\n",
       "});\n",
       "require(['vis'], function(vis){\n",
       "var nodes = [{\"id\": 0, \"label\": \"1\", \"title\": \"0: 1\"}, {\"id\": 1, \"label\": \"2\", \"title\": \"1: 2\"}, {\"id\": 2, \"label\": \"3\", \"title\": \"2: 3\"}, {\"id\": 3, \"label\": \"4\", \"title\": \"3: 4\"}, {\"id\": 4, \"label\": \"5\", \"title\": \"4: 5\"}, {\"id\": 5, \"label\": \"6\", \"title\": \"5: 6\"}];\n",
       "var edges = [{\"title\": \"0: (1, 2)\", \"label\": \"3\", \"color\": \"blue\", \"from\": 0, \"to\": 1}, {\"title\": \"1: (1, 3)\", \"label\": \"0.997\", \"color\": \"blue\", \"from\": 0, \"to\": 2}, {\"title\": \"2: (2, 3)\", \"label\": \"0.999\", \"color\": \"blue\", \"from\": 1, \"to\": 2}, {\"title\": \"3: (3, 4)\", \"label\": \"1\", \"color\": \"blue\", \"from\": 2, \"to\": 3}, {\"title\": \"4: (3, 6)\", \"label\": \"0.000396\", \"color\": \"blue\", \"from\": 2, \"to\": 5}, {\"title\": \"5: (4, 5)\", \"label\": \"0.999\", \"color\": \"blue\", \"from\": 3, \"to\": 4}, {\"title\": \"6: (5, 6)\", \"label\": \"2\", \"color\": \"blue\", \"from\": 4, \"to\": 5}];\n",
       "var data= {\n",
       "    nodes: nodes,\n",
       "    edges: edges,\n",
       "};\n",
       "var options = {\"interaction\": {\"navigationButtons\": false}, \"width\": \"600px\", \"height\": 300};\n",
       "var container = document.getElementById('c3dff286-571f-4a46-8d47-bbe2dd5ec347');\n",
       "var network = new vis.Network(container, data, options);\n",
       "network.fit({\n",
       "  maxZoomLevel: 1000});\n",
       "});\n",
       "</script>\n"
      ],
      "text/plain": [
       "<IPython.core.display.HTML object>"
      ]
     },
     "metadata": {},
     "output_type": "display_data"
    }
   ],
   "source": [
    "fish.show_flow(disp_rates=False)"
   ]
  },
  {
   "cell_type": "code",
   "execution_count": 42,
   "metadata": {
    "ExecuteTime": {
     "end_time": "2022-02-03T15:26:41.989593Z",
     "start_time": "2022-02-03T15:26:41.839087Z"
    }
   },
   "outputs": [
    {
     "data": {
      "image/png": "[encoded data removed]",
      "text/plain": [
       "<Figure size 432x288 with 1 Axes>"
      ]
     },
     "metadata": {
      "needs_background": "light"
     },
     "output_type": "display_data"
    }
   ],
   "source": [
    "fig = fish.simulator.show_average_queues(sort=True, indices=[0, 1, 2, 4, 5])"
   ]
  },
  {
   "cell_type": "code",
   "execution_count": 43,
   "metadata": {
    "ExecuteTime": {
     "end_time": "2022-02-03T15:26:42.097424Z",
     "start_time": "2022-02-03T15:26:41.992433Z"
    }
   },
   "outputs": [
    {
     "data": {
      "image/png": "[encoded data removed]",
      "text/plain": [
       "<Figure size 432x288 with 1 Axes>"
      ]
     },
     "metadata": {
      "needs_background": "light"
     },
     "output_type": "display_data"
    }
   ],
   "source": [
    "fig = fish.simulator.show_average_queues(sort=True, indices=[3])"
   ]
  },
  {
   "cell_type": "code",
   "execution_count": 44,
   "metadata": {
    "ExecuteTime": {
     "end_time": "2022-02-03T15:26:42.609996Z",
     "start_time": "2022-02-03T15:26:42.098428Z"
    }
   },
   "outputs": [
    {
     "data": {
      "image/png": "[encoded data removed]",
      "text/plain": [
       "<Figure size 432x288 with 1 Axes>"
      ]
     },
     "metadata": {
      "needs_background": "light"
     },
     "output_type": "display_data"
    }
   ],
   "source": [
    "fig = fish.simulator.show_ccdf(sort=True)"
   ]
  },
  {
   "cell_type": "markdown",
   "metadata": {},
   "source": [
    "The default priority policy implemented in the package is conditioned on the max queue size, while the policy described on the paper is conditioned on the queue size of one specific node. We can craft a new selector for the experiment."
   ]
  },
  {
   "cell_type": "code",
   "execution_count": 45,
   "metadata": {
    "ExecuteTime": {
     "end_time": "2022-02-03T15:26:42.641017Z",
     "start_time": "2022-02-03T15:26:42.612946Z"
    }
   },
   "outputs": [],
   "source": [
    "from numba import njit\n",
    "from stochastic_matching.simulator.size_based import Selector, QueueSizeSimulator\n",
    "\n",
    "def process(k, T):   \n",
    "    @njit\n",
    "    def fish_with_weights_and_threshold(choices, queue_size, weights,\n",
    "                                            threshold, counterweights, pivot):\n",
    "        if queue_size[pivot] >= threshold:\n",
    "            i = np.argmax(np.array([counterweights[e] for (e, j) in choices]))\n",
    "        else:\n",
    "            i = np.argmax(np.array([weights[e] for (e, j) in choices]))\n",
    "        return choices[i]\n",
    "\n",
    "\n",
    "    class FishSelector(Selector):\n",
    "        name = 'fish'\n",
    "        def __init__(self, model, weights, threshold, counterweights, pivot):\n",
    "            weights = np.array(weights)\n",
    "            self.weights = weights\n",
    "            self.threshold = threshold\n",
    "            counterweights = np.array(counterweights)\n",
    "            self.counterweights = counterweights\n",
    "            self.pivot = pivot\n",
    "            super(FishSelector, self).__init__(model)\n",
    "\n",
    "\n",
    "        def yield_jit(self):\n",
    "            weights = self.weights.copy()\n",
    "            counterweights = self.counterweights.copy()\n",
    "            threshold = self.threshold\n",
    "            pivot = self.pivot\n",
    "\n",
    "            def weighted_choice(choices, queue_size):\n",
    "                return fish_with_weights_and_threshold(choices, queue_size,\n",
    "                                                           weights, threshold, counterweights, pivot)\n",
    "            return njit(weighted_choice)\n",
    "\n",
    "    \n",
    "    fish = sm.KayakPaddle(3, 0, 4, names=[str(i) for i in range(1, 7)],\n",
    "                      rates=[4, 4, 3, 2, 3, 2])\n",
    "    selector_kwargs = {'weights': [0, 3, 3, 2, 0, 0, 2], 'threshold':k,\n",
    "                       'counterweights': [0, 1, 1, 2, 0, 0, 2], 'pivot': 3}\n",
    "    fish.run('generic_queue_size', selector='fish', selector_kwargs=selector_kwargs, number_events=T, seed=42)\n",
    "    flow = fish.simulation\n",
    "    p = flow[3]\n",
    "    selector_kwargs = {'weights': [0, 3, 3, 0, 2, 2, 0], 'threshold':k,\n",
    "                       'counterweights': [0, 1, 1, 0, 2, 2, 0], 'pivot': 5}\n",
    "    fish.run('generic_queue_size', selector='fish', selector_kwargs=selector_kwargs, number_events=T, seed=42)\n",
    "    flow = fish.simulation\n",
    "    m = flow[3]\n",
    "    return m, p    "
   ]
  },
  {
   "cell_type": "code",
   "execution_count": 46,
   "metadata": {
    "ExecuteTime": {
     "end_time": "2022-02-03T15:26:42.672679Z",
     "start_time": "2022-02-03T15:26:42.644548Z"
    }
   },
   "outputs": [],
   "source": [
    "k_vect = 2**(np.arange(10))\n",
    "results = cached_computation('fish', parallel_compute(process, k_vect))"
   ]
  },
  {
   "cell_type": "code",
   "execution_count": 47,
   "metadata": {
    "ExecuteTime": {
     "end_time": "2022-02-03T15:26:43.081225Z",
     "start_time": "2022-02-03T15:26:42.676619Z"
    }
   },
   "outputs": [
    {
     "data": {
      "image/png": "[encoded data removed]",
      "text/plain": [
       "<Figure size 864x720 with 1 Axes>"
      ]
     },
     "metadata": {
      "needs_background": "light"
     },
     "output_type": "display_data"
    }
   ],
   "source": [
    "plt.figure(figsize=[12, 10])\n",
    "n_points = len(k_vect)\n",
    "alm = [e[0] for e in results]\n",
    "alp = [e[1] for e in results]\n",
    "\n",
    "plt.fill_between(k_vect, np.zeros(n_points), np.ones(n_points), label = '$\\Lambda_{\\geqslant 0}$', color = [.85, .85, .85, 1])\n",
    "plt.semilogx(k_vect, alp, label = '$\\\\alpha_+(k)$')\n",
    "plt.semilogx(k_vect, alm, label = '$\\\\alpha_-(k)$')\n",
    "\n",
    "plt.xlabel('$k$')\n",
    "plt.ylabel('$\\\\alpha$')\n",
    "plt.legend()\n",
    "plt.xlim([k_vect[0], k_vect[-1]])\n",
    "tikzplotlib.save(f\"fish_semilog_{digits}.tex\", axis_width=\"6.5cm\", axis_height=\"6cm\")\n",
    "plt.show()"
   ]
  },
  {
   "cell_type": "code",
   "execution_count": 48,
   "metadata": {
    "ExecuteTime": {
     "end_time": "2022-02-03T15:26:43.654820Z",
     "start_time": "2022-02-03T15:26:43.083290Z"
    }
   },
   "outputs": [
    {
     "data": {
      "image/png": "[encoded data removed]",
      "text/plain": [
       "<Figure size 864x720 with 1 Axes>"
      ]
     },
     "metadata": {
      "needs_background": "light"
     },
     "output_type": "display_data"
    }
   ],
   "source": [
    "plt.figure(figsize=[12, 10])\n",
    "n_points = len(k_vect)\n",
    "plt.semilogy(k_vect, alm)\n",
    "plt.xlabel('$k$')\n",
    "plt.ylabel('$\\\\alpha_-(k)$')\n",
    "plt.xlim([k_vect[0], 256])\n",
    "tikzplotlib.save(f\"fish_loglog_{digits}.tex\", axis_width=\"6.5cm\", axis_height=\"6cm\")\n",
    "plt.show()"
   ]
  },
  {
   "cell_type": "markdown",
   "metadata": {},
   "source": [
    "## Semi-filtering policies on an injective-only vertex"
   ]
  },
  {
   "cell_type": "code",
   "execution_count": 49,
   "metadata": {
    "ExecuteTime": {
     "end_time": "2022-02-03T15:26:43.685768Z",
     "start_time": "2022-02-03T15:26:43.657126Z"
    }
   },
   "outputs": [
    {
     "data": {
      "text/plain": [
       "[{'kernel_coordinates': array([-1., -1.]),\n",
       "  'edge_coordinates': array([0., 2., 0., 4., 0., 0., 2., 0.]),\n",
       "  'null_edges': [0, 2, 4, 5, 7],\n",
       "  'bijective': False},\n",
       " {'kernel_coordinates': array([-1.,  1.]),\n",
       "  'edge_coordinates': array([2., 0., 0., 2., 2., 0., 0., 2.]),\n",
       "  'null_edges': [1, 2, 5, 6],\n",
       "  'bijective': False},\n",
       " {'kernel_coordinates': array([1., 1.]),\n",
       "  'edge_coordinates': array([2., 0., 2., 0., 0., 2., 0., 2.]),\n",
       "  'null_edges': [1, 3, 4, 6],\n",
       "  'bijective': False}]"
      ]
     },
     "execution_count": 49,
     "metadata": {},
     "output_type": "execute_result"
    }
   ],
   "source": [
    "codomino = sm.Codomino(rates=[2, 4, 2, 2, 4, 2], names=[\"1\", \"6\", \"2\", \"3\", \"5\", \"4\"])\n",
    "codomino.base_flow = np.array([1.0, 1.0, 1.0, 2.0, 0.0, 1.0, 1.0, 1.0])\n",
    "codomino.vertices"
   ]
  },
  {
   "cell_type": "code",
   "execution_count": 50,
   "metadata": {
    "ExecuteTime": {
     "end_time": "2022-02-03T15:26:43.701425Z",
     "start_time": "2022-02-03T15:26:43.687706Z"
    }
   },
   "outputs": [
    {
     "data": {
      "text/html": [
       "\n",
       "<div id=\"ab13b9b2-3a5e-4527-968e-c4837ff8ddea\"></div>\n",
       "<script>\n",
       "require.config({\n",
       "    paths: {\n",
       "        vis: 'https://unpkg.com/vis-network/standalone/umd/vis-network.min'\n",
       "    }\n",
       "});\n",
       "require(['vis'], function(vis){\n",
       "var nodes = [{\"id\": 0, \"label\": \"1\", \"title\": \"0: 1\"}, {\"id\": 1, \"label\": \"6\", \"title\": \"1: 6\"}, {\"id\": 2, \"label\": \"2\", \"title\": \"2: 2\"}, {\"id\": 3, \"label\": \"3\", \"title\": \"3: 3\"}, {\"id\": 4, \"label\": \"5\", \"title\": \"4: 5\"}, {\"id\": 5, \"label\": \"4\", \"title\": \"5: 4\"}];\n",
       "var edges = [{\"title\": \"0: (1, 6)\", \"label\": \"\", \"color\": \"orange\", \"from\": 0, \"to\": 1}, {\"title\": \"1: (1, 2)\", \"label\": \"2\", \"color\": \"blue\", \"from\": 0, \"to\": 2}, {\"title\": \"2: (6, 2)\", \"label\": \"\", \"color\": \"orange\", \"from\": 1, \"to\": 2}, {\"title\": \"3: (6, 5)\", \"label\": \"4\", \"color\": \"blue\", \"from\": 1, \"to\": 4}, {\"title\": \"4: (2, 3)\", \"label\": \"\", \"color\": \"orange\", \"from\": 2, \"to\": 3}, {\"title\": \"5: (3, 5)\", \"label\": \"\", \"color\": \"orange\", \"from\": 3, \"to\": 4}, {\"title\": \"6: (3, 4)\", \"label\": \"2\", \"color\": \"blue\", \"from\": 3, \"to\": 5}, {\"title\": \"7: (5, 4)\", \"label\": \"\", \"color\": \"orange\", \"from\": 4, \"to\": 5}];\n",
       "var data= {\n",
       "    nodes: nodes,\n",
       "    edges: edges,\n",
       "};\n",
       "var options = {\"interaction\": {\"navigationButtons\": false}, \"width\": \"600px\", \"height\": 300};\n",
       "var container = document.getElementById('ab13b9b2-3a5e-4527-968e-c4837ff8ddea');\n",
       "var network = new vis.Network(container, data, options);\n",
       "network.fit({\n",
       "  maxZoomLevel: 1000});\n",
       "});\n",
       "</script>\n"
      ],
      "text/plain": [
       "<IPython.core.display.HTML object>"
      ]
     },
     "metadata": {},
     "output_type": "display_data"
    }
   ],
   "source": [
    "codomino.show_vertex(0, disp_rates=False)"
   ]
  },
  {
   "cell_type": "code",
   "execution_count": 51,
   "metadata": {
    "ExecuteTime": {
     "end_time": "2022-02-03T15:26:43.716847Z",
     "start_time": "2022-02-03T15:26:43.704451Z"
    }
   },
   "outputs": [],
   "source": [
    "def process(k, T):\n",
    "    codomino = sm.Codomino(rates=[2, 4, 2, 2, 4, 2])\n",
    "    codomino.base_flow = np.array([1.0, 1.0, 1.0, 2.0, 0.0, 1.0, 1.0, 1.0])\n",
    "    codomino.run('filtering', forbidden_edges=codomino.vertices[0]['null_edges'], threshold=k, number_events=T, max_queue=(k+200))\n",
    "    return {'k': k, \n",
    "            'ccdf': codomino.simulator.compute_ccdf()[0, :], \n",
    "            'leak': np.sum(codomino.simulation[codomino.vertices[0]['null_edges']])}"
   ]
  },
  {
   "cell_type": "code",
   "execution_count": 52,
   "metadata": {
    "ExecuteTime": {
     "end_time": "2022-02-03T15:26:43.732558Z",
     "start_time": "2022-02-03T15:26:43.718847Z"
    }
   },
   "outputs": [],
   "source": [
    "k_vect = 16*4**np.arange(6)\n",
    "results = cached_computation('codomino', parallel_compute(process, k_vect))"
   ]
  },
  {
   "cell_type": "code",
   "execution_count": 53,
   "metadata": {
    "ExecuteTime": {
     "end_time": "2022-02-03T15:26:44.257960Z",
     "start_time": "2022-02-03T15:26:43.734870Z"
    }
   },
   "outputs": [
    {
     "data": {
      "image/png": "[encoded data removed]",
      "text/plain": [
       "<Figure size 432x288 with 1 Axes>"
      ]
     },
     "metadata": {
      "needs_background": "light"
     },
     "output_type": "display_data"
    }
   ],
   "source": [
    "for r in results[:-1]:\n",
    "    plt.semilogx(r['ccdf'], label=f\"$k={r['k']}$\")\n",
    "plt.legend(loc=1)\n",
    "plt.ylim([None, 1])\n",
    "plt.xlim([1, 5000])\n",
    "plt.xlabel(\"Size of queue 1\")\n",
    "plt.ylabel(\"CCDF\")\n",
    "tikzplotlib.save(f\"codomino_semilog_{digits}.tex\", axis_width=\"4.5cm\", axis_height=\"4cm\")\n",
    "plt.show()"
   ]
  },
  {
   "cell_type": "code",
   "execution_count": 54,
   "metadata": {
    "ExecuteTime": {
     "end_time": "2022-02-03T15:26:44.582897Z",
     "start_time": "2022-02-03T15:26:44.260309Z"
    }
   },
   "outputs": [
    {
     "data": {
      "image/png": "[encoded data removed]",
      "text/plain": [
       "<Figure size 432x288 with 1 Axes>"
      ]
     },
     "metadata": {
      "needs_background": "light"
     },
     "output_type": "display_data"
    }
   ],
   "source": [
    "for r in results[1:-1]:\n",
    "    plt.plot(r['ccdf'], label=f\"$k={r['k']}$\")\n",
    "plt.legend()\n",
    "plt.ylim([0, 1])\n",
    "plt.xlim([0, 5000])\n",
    "plt.xlabel(\"Size of queue 1\")\n",
    "plt.ylabel(\"CCDF\")\n",
    "tikzplotlib.clean_figure()\n",
    "tikzplotlib.save(f\"codomino_linear_{digits}.tex\", axis_width=\"6.5cm\", axis_height=\"6cm\")\n",
    "plt.show()"
   ]
  },
  {
   "cell_type": "code",
   "execution_count": 55,
   "metadata": {
    "ExecuteTime": {
     "end_time": "2022-02-03T15:26:45.143654Z",
     "start_time": "2022-02-03T15:26:44.585568Z"
    }
   },
   "outputs": [
    {
     "data": {
      "image/png": "[encoded data removed]",
      "text/plain": [
       "<Figure size 864x720 with 1 Axes>"
      ]
     },
     "metadata": {
      "needs_background": "light"
     },
     "output_type": "display_data"
    }
   ],
   "source": [
    "plt.figure(figsize=[12, 10])\n",
    "leaks = [r['leak'] for r in results]\n",
    "plt.loglog(k_vect, leaks)\n",
    "plt.xlabel('Threshold $k$')\n",
    "plt.ylabel('Leaking rate')\n",
    "plt.xlim([k_vect[0], k_vect[-1]])\n",
    "tikzplotlib.save(f\"codomino_loglog_{digits}.tex\", axis_width=\"6.5cm\", axis_height=\"6cm\")\n",
    "plt.show()"
   ]
  }
 ],
 "metadata": {
  "kernelspec": {
   "display_name": "Python 3 (ipykernel)",
   "language": "python",
   "name": "python3"
  },
  "language_info": {
   "codemirror_mode": {
    "name": "ipython",
    "version": 3
   },
   "file_extension": ".py",
   "mimetype": "text/x-python",
   "name": "python",
   "nbconvert_exporter": "python",
   "pygments_lexer": "ipython3",
   "version": "3.9.7"
  },
  "toc": {
   "base_numbering": 1,
   "nav_menu": {},
   "number_sections": true,
   "sideBar": true,
   "skip_h1_title": true,
   "title_cell": "Table of Contents",
   "title_sidebar": "Contents",
   "toc_cell": false,
   "toc_position": {},
   "toc_section_display": true,
   "toc_window_display": true
  }
 },
 "nbformat": 4,
 "nbformat_minor": 4
}
