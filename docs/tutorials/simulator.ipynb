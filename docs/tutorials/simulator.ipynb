{
 "cells": [
  {
   "cell_type": "markdown",
   "metadata": {},
   "source": [
    "# Simulation"
   ]
  },
  {
   "cell_type": "markdown",
   "metadata": {},
   "source": [
    "The simulator allows to observe the behavior of the system under a given policy.\n",
    "\n",
    "The following policies are provided:"
   ]
  },
  {
   "cell_type": "code",
   "execution_count": 1,
   "metadata": {
    "ExecuteTime": {
     "end_time": "2022-01-27T13:11:56.529231Z",
     "start_time": "2022-01-27T13:11:55.358140Z"
    }
   },
   "outputs": [
    {
     "data": {
      "text/plain": [
       "{'virtual_queue': stochastic_matching.simulator.virtual_queue.VQSimulator,\n",
       " 'fcfm': stochastic_matching.simulator.age_based.FCFM,\n",
       " 'random_node': stochastic_matching.simulator.size_based.RandomNodeSimulator,\n",
       " 'longest_queue': stochastic_matching.simulator.size_based.LongestSimulator,\n",
       " 'random_item': stochastic_matching.simulator.size_based.RandomItemSimulator,\n",
       " 'semi_greedy': stochastic_matching.simulator.size_based.SemiGreedy,\n",
       " 'priority': stochastic_matching.simulator.size_based.PrioritySimulator}"
      ]
     },
     "execution_count": 1,
     "metadata": {},
     "output_type": "execute_result"
    }
   ],
   "source": [
    "import stochastic_matching as sm\n",
    "sm.common.get_classes(sm.simulator.generic.Simulator)"
   ]
  },
  {
   "cell_type": "markdown",
   "metadata": {},
   "source": [
    "NB: only simple graphs are considered in the present notebook."
   ]
  },
  {
   "cell_type": "markdown",
   "metadata": {},
   "source": [
    "## Tadpole"
   ]
  },
  {
   "cell_type": "markdown",
   "metadata": {},
   "source": [
    "### Bijective"
   ]
  },
  {
   "cell_type": "markdown",
   "metadata": {},
   "source": [
    "Consider the following tadpole:"
   ]
  },
  {
   "cell_type": "code",
   "execution_count": 2,
   "metadata": {
    "ExecuteTime": {
     "end_time": "2022-01-27T13:11:56.560127Z",
     "start_time": "2022-01-27T13:11:56.533235Z"
    }
   },
   "outputs": [
    {
     "data": {
      "text/html": [
       "\n",
       "<div id=\"ecfd87a5-fa52-41d5-ba88-423f21890b3f\"></div>\n",
       "<script>\n",
       "require.config({\n",
       "    paths: {\n",
       "        vis: 'https://unpkg.com/vis-network/standalone/umd/vis-network.min'\n",
       "    }\n",
       "});\n",
       "require(['vis'], function(vis){\n",
       "var nodes = [{\"id\": 0, \"label\": \"0\", \"title\": \"0\"}, {\"id\": 1, \"label\": \"1\", \"title\": \"1\"}, {\"id\": 2, \"label\": \"2\", \"title\": \"2\"}, {\"id\": 3, \"label\": \"3\", \"title\": \"3\"}, {\"id\": 4, \"label\": \"4\", \"title\": \"4\"}, {\"id\": 5, \"label\": \"5\", \"title\": \"5\"}, {\"id\": 6, \"label\": \"6\", \"title\": \"6\"}, {\"id\": 7, \"label\": \"7\", \"title\": \"7\"}];\n",
       "var edges = [{\"title\": \"0: (0, 1)\", \"label\": \"\", \"from\": 0, \"to\": 1}, {\"title\": \"1: (0, 4)\", \"label\": \"\", \"from\": 0, \"to\": 4}, {\"title\": \"2: (1, 2)\", \"label\": \"\", \"from\": 1, \"to\": 2}, {\"title\": \"3: (2, 3)\", \"label\": \"\", \"from\": 2, \"to\": 3}, {\"title\": \"4: (3, 4)\", \"label\": \"\", \"from\": 3, \"to\": 4}, {\"title\": \"5: (4, 5)\", \"label\": \"\", \"from\": 4, \"to\": 5}, {\"title\": \"6: (5, 6)\", \"label\": \"\", \"from\": 5, \"to\": 6}, {\"title\": \"7: (6, 7)\", \"label\": \"\", \"from\": 6, \"to\": 7}];\n",
       "var data= {\n",
       "    nodes: nodes,\n",
       "    edges: edges,\n",
       "};\n",
       "var options = {\"interaction\": {\"navigationButtons\": true}, \"width\": \"600px\", \"height\": 300};\n",
       "var container = document.getElementById('ecfd87a5-fa52-41d5-ba88-423f21890b3f');\n",
       "var network = new vis.Network(container, data, options);\n",
       "network.fit({\n",
       "  maxZoomLevel: 1000});\n",
       "});\n",
       "</script>\n"
      ],
      "text/plain": [
       "<IPython.core.display.HTML object>"
      ]
     },
     "metadata": {},
     "output_type": "display_data"
    }
   ],
   "source": [
    "from stochastic_matching.display import VIS_OPTIONS\n",
    "VIS_OPTIONS['height'] = 300\n",
    "tadpole = sm.Tadpole(m=5, n=3, rates='uniform')\n",
    "tadpole.show_graph()"
   ]
  },
  {
   "cell_type": "markdown",
   "metadata": {},
   "source": [
    "This tadpole is not stabilizable: it is bijective and its unique solution has null edges."
   ]
  },
  {
   "cell_type": "code",
   "execution_count": 3,
   "metadata": {
    "ExecuteTime": {
     "end_time": "2022-01-27T13:11:56.575773Z",
     "start_time": "2022-01-27T13:11:56.561123Z"
    }
   },
   "outputs": [
    {
     "data": {
      "text/html": [
       "\n",
       "<div id=\"ac982a28-2207-4825-97b6-e256cf6604a8\"></div>\n",
       "<script>\n",
       "require.config({\n",
       "    paths: {\n",
       "        vis: 'https://unpkg.com/vis-network/standalone/umd/vis-network.min'\n",
       "    }\n",
       "});\n",
       "require(['vis'], function(vis){\n",
       "var nodes = [{\"id\": 0, \"label\": \"1\", \"title\": \"0\"}, {\"id\": 1, \"label\": \"1\", \"title\": \"1\"}, {\"id\": 2, \"label\": \"1\", \"title\": \"2\"}, {\"id\": 3, \"label\": \"1\", \"title\": \"3\"}, {\"id\": 4, \"label\": \"1\", \"title\": \"4\"}, {\"id\": 5, \"label\": \"1\", \"title\": \"5\"}, {\"id\": 6, \"label\": \"1\", \"title\": \"6\"}, {\"id\": 7, \"label\": \"1\", \"title\": \"7\"}];\n",
       "var edges = [{\"title\": \"0: (0, 1)\", \"label\": \"1\", \"color\": \"blue\", \"from\": 0, \"to\": 1}, {\"title\": \"1: (0, 4)\", \"label\": \"0\", \"color\": \"orange\", \"from\": 0, \"to\": 4}, {\"title\": \"2: (1, 2)\", \"label\": \"0\", \"color\": \"orange\", \"from\": 1, \"to\": 2}, {\"title\": \"3: (2, 3)\", \"label\": \"1\", \"color\": \"blue\", \"from\": 2, \"to\": 3}, {\"title\": \"4: (3, 4)\", \"label\": \"0\", \"color\": \"orange\", \"from\": 3, \"to\": 4}, {\"title\": \"5: (4, 5)\", \"label\": \"1\", \"color\": \"blue\", \"from\": 4, \"to\": 5}, {\"title\": \"6: (5, 6)\", \"label\": \"0\", \"color\": \"orange\", \"from\": 5, \"to\": 6}, {\"title\": \"7: (6, 7)\", \"label\": \"1\", \"color\": \"blue\", \"from\": 6, \"to\": 7}];\n",
       "var data= {\n",
       "    nodes: nodes,\n",
       "    edges: edges,\n",
       "};\n",
       "var options = {\"interaction\": {\"navigationButtons\": true}, \"width\": \"600px\", \"height\": 300};\n",
       "var container = document.getElementById('ac982a28-2207-4825-97b6-e256cf6604a8');\n",
       "var network = new vis.Network(container, data, options);\n",
       "network.fit({\n",
       "  maxZoomLevel: 1000});\n",
       "});\n",
       "</script>\n"
      ],
      "text/plain": [
       "<IPython.core.display.HTML object>"
      ]
     },
     "metadata": {},
     "output_type": "display_data"
    }
   ],
   "source": [
    "tadpole.show_flow()"
   ]
  },
  {
   "cell_type": "markdown",
   "metadata": {},
   "source": [
    "As a consequence, the system is unstable."
   ]
  },
  {
   "cell_type": "code",
   "execution_count": 4,
   "metadata": {
    "ExecuteTime": {
     "end_time": "2022-01-27T13:11:58.712473Z",
     "start_time": "2022-01-27T13:11:56.577777Z"
    }
   },
   "outputs": [
    {
     "data": {
      "text/plain": [
       "False"
      ]
     },
     "execution_count": 4,
     "metadata": {},
     "output_type": "execute_result"
    }
   ],
   "source": [
    "tadpole.run('fcfm', number_events=10000000)"
   ]
  },
  {
   "cell_type": "markdown",
   "metadata": {},
   "source": [
    "The simulator finished before the end (due to queue overflow)."
   ]
  },
  {
   "cell_type": "code",
   "execution_count": 5,
   "metadata": {
    "ExecuteTime": {
     "end_time": "2022-01-27T13:11:58.727404Z",
     "start_time": "2022-01-27T13:11:58.715941Z"
    }
   },
   "outputs": [
    {
     "data": {
      "text/plain": [
       "485422"
      ]
     },
     "execution_count": 5,
     "metadata": {},
     "output_type": "execute_result"
    }
   ],
   "source": [
    "tadpole.simulator.logs['steps_done']"
   ]
  },
  {
   "cell_type": "code",
   "execution_count": 6,
   "metadata": {
    "ExecuteTime": {
     "end_time": "2022-01-27T13:11:58.742808Z",
     "start_time": "2022-01-27T13:11:58.728379Z"
    }
   },
   "outputs": [
    {
     "data": {
      "text/html": [
       "\n",
       "<div id=\"89e774a3-d342-44e5-85f5-8beb65aed150\"></div>\n",
       "<script>\n",
       "require.config({\n",
       "    paths: {\n",
       "        vis: 'https://unpkg.com/vis-network/standalone/umd/vis-network.min'\n",
       "    }\n",
       "});\n",
       "require(['vis'], function(vis){\n",
       "var nodes = [{\"id\": 0, \"label\": \"1\", \"title\": \"0\"}, {\"id\": 1, \"label\": \"1\", \"title\": \"1\"}, {\"id\": 2, \"label\": \"1\", \"title\": \"2\"}, {\"id\": 3, \"label\": \"1\", \"title\": \"3\"}, {\"id\": 4, \"label\": \"1\", \"title\": \"4\"}, {\"id\": 5, \"label\": \"1\", \"title\": \"5\"}, {\"id\": 6, \"label\": \"1\", \"title\": \"6\"}, {\"id\": 7, \"label\": \"1\", \"title\": \"7\"}];\n",
       "var edges = [{\"title\": \"0: (0, 1)\", \"label\": \"0.995\", \"color\": \"blue\", \"from\": 0, \"to\": 1}, {\"title\": \"1: (0, 4)\", \"label\": \"0.00186\", \"color\": \"blue\", \"from\": 0, \"to\": 4}, {\"title\": \"2: (1, 2)\", \"label\": \"0.00433\", \"color\": \"blue\", \"from\": 1, \"to\": 2}, {\"title\": \"3: (2, 3)\", \"label\": \"0.994\", \"color\": \"blue\", \"from\": 2, \"to\": 3}, {\"title\": \"4: (3, 4)\", \"label\": \"0.00539\", \"color\": \"blue\", \"from\": 3, \"to\": 4}, {\"title\": \"5: (4, 5)\", \"label\": \"0.987\", \"color\": \"blue\", \"from\": 4, \"to\": 5}, {\"title\": \"6: (5, 6)\", \"label\": \"0.00672\", \"color\": \"blue\", \"from\": 5, \"to\": 6}, {\"title\": \"7: (6, 7)\", \"label\": \"0.99\", \"color\": \"blue\", \"from\": 6, \"to\": 7}];\n",
       "var data= {\n",
       "    nodes: nodes,\n",
       "    edges: edges,\n",
       "};\n",
       "var options = {\"interaction\": {\"navigationButtons\": true}, \"width\": \"600px\", \"height\": 300};\n",
       "var container = document.getElementById('89e774a3-d342-44e5-85f5-8beb65aed150');\n",
       "var network = new vis.Network(container, data, options);\n",
       "network.fit({\n",
       "  maxZoomLevel: 1000});\n",
       "});\n",
       "</script>\n"
      ],
      "text/plain": [
       "<IPython.core.display.HTML object>"
      ]
     },
     "metadata": {},
     "output_type": "display_data"
    }
   ],
   "source": [
    "tadpole.show_flow()"
   ]
  },
  {
   "cell_type": "markdown",
   "metadata": {},
   "source": [
    "We can look the CCDFs of the run to see what went wrong:"
   ]
  },
  {
   "cell_type": "code",
   "execution_count": 7,
   "metadata": {
    "ExecuteTime": {
     "end_time": "2022-01-27T13:11:59.447949Z",
     "start_time": "2022-01-27T13:11:58.743793Z"
    }
   },
   "outputs": [
    {
     "data": {
      "image/png": "[encoded data removed]",
      "text/plain": [
       "<Figure size 432x288 with 1 Axes>"
      ]
     },
     "metadata": {
      "needs_background": "light"
     },
     "output_type": "display_data"
    }
   ],
   "source": [
    "fig = tadpole.simulator.show_ccdf(sort=True)"
   ]
  },
  {
   "cell_type": "markdown",
   "metadata": {},
   "source": [
    "Node 7 overflowed, while node 5 was not in a good shape either."
   ]
  },
  {
   "cell_type": "markdown",
   "metadata": {},
   "source": [
    "This can also be showed with average queue sizes:"
   ]
  },
  {
   "cell_type": "code",
   "execution_count": 8,
   "metadata": {
    "ExecuteTime": {
     "end_time": "2022-01-27T13:11:59.572900Z",
     "start_time": "2022-01-27T13:11:59.449899Z"
    }
   },
   "outputs": [
    {
     "data": {
      "image/png": "[encoded data removed]",
      "text/plain": [
       "<Figure size 432x288 with 1 Axes>"
      ]
     },
     "metadata": {
      "needs_background": "light"
     },
     "output_type": "display_data"
    }
   ],
   "source": [
    "fig = tadpole.simulator.show_average_queues(sort=True)"
   ]
  },
  {
   "cell_type": "markdown",
   "metadata": {},
   "source": [
    "Let's change the arrival rates to have something nicer."
   ]
  },
  {
   "cell_type": "code",
   "execution_count": 9,
   "metadata": {
    "ExecuteTime": {
     "end_time": "2022-01-27T13:11:59.588881Z",
     "start_time": "2022-01-27T13:11:59.575260Z"
    }
   },
   "outputs": [],
   "source": [
    "tadpole.rates = [1, 1, 1, 1, 2, 2, 2, 1]"
   ]
  },
  {
   "cell_type": "markdown",
   "metadata": {},
   "source": [
    "We can see that it works!"
   ]
  },
  {
   "cell_type": "code",
   "execution_count": 10,
   "metadata": {
    "ExecuteTime": {
     "end_time": "2022-01-27T13:12:01.940940Z",
     "start_time": "2022-01-27T13:11:59.591817Z"
    }
   },
   "outputs": [
    {
     "data": {
      "text/plain": [
       "True"
      ]
     },
     "execution_count": 10,
     "metadata": {},
     "output_type": "execute_result"
    }
   ],
   "source": [
    "tadpole.run('fcfm', number_events=10000000)"
   ]
  },
  {
   "cell_type": "code",
   "execution_count": 11,
   "metadata": {
    "ExecuteTime": {
     "end_time": "2022-01-27T13:12:01.956933Z",
     "start_time": "2022-01-27T13:12:01.942922Z"
    }
   },
   "outputs": [
    {
     "data": {
      "text/html": [
       "\n",
       "<div id=\"573e95bc-62f9-4ec9-ad4a-2d5c4ed96a38\"></div>\n",
       "<script>\n",
       "require.config({\n",
       "    paths: {\n",
       "        vis: 'https://unpkg.com/vis-network/standalone/umd/vis-network.min'\n",
       "    }\n",
       "});\n",
       "require(['vis'], function(vis){\n",
       "var nodes = [{\"id\": 0, \"label\": \"1\", \"title\": \"0\"}, {\"id\": 1, \"label\": \"1\", \"title\": \"1\"}, {\"id\": 2, \"label\": \"1\", \"title\": \"2\"}, {\"id\": 3, \"label\": \"1\", \"title\": \"3\"}, {\"id\": 4, \"label\": \"2\", \"title\": \"4\"}, {\"id\": 5, \"label\": \"2\", \"title\": \"5\"}, {\"id\": 6, \"label\": \"2\", \"title\": \"6\"}, {\"id\": 7, \"label\": \"1\", \"title\": \"7\"}];\n",
       "var edges = [{\"title\": \"0: (0, 1)\", \"label\": \"0.501\", \"color\": \"blue\", \"from\": 0, \"to\": 1}, {\"title\": \"1: (0, 4)\", \"label\": \"0.5\", \"color\": \"blue\", \"from\": 0, \"to\": 4}, {\"title\": \"2: (1, 2)\", \"label\": \"0.499\", \"color\": \"blue\", \"from\": 1, \"to\": 2}, {\"title\": \"3: (2, 3)\", \"label\": \"0.501\", \"color\": \"blue\", \"from\": 2, \"to\": 3}, {\"title\": \"4: (3, 4)\", \"label\": \"0.501\", \"color\": \"blue\", \"from\": 3, \"to\": 4}, {\"title\": \"5: (4, 5)\", \"label\": \"1\", \"color\": \"blue\", \"from\": 4, \"to\": 5}, {\"title\": \"6: (5, 6)\", \"label\": \"0.998\", \"color\": \"blue\", \"from\": 5, \"to\": 6}, {\"title\": \"7: (6, 7)\", \"label\": \"1\", \"color\": \"blue\", \"from\": 6, \"to\": 7}];\n",
       "var data= {\n",
       "    nodes: nodes,\n",
       "    edges: edges,\n",
       "};\n",
       "var options = {\"interaction\": {\"navigationButtons\": true}, \"width\": \"600px\", \"height\": 300};\n",
       "var container = document.getElementById('573e95bc-62f9-4ec9-ad4a-2d5c4ed96a38');\n",
       "var network = new vis.Network(container, data, options);\n",
       "network.fit({\n",
       "  maxZoomLevel: 1000});\n",
       "});\n",
       "</script>\n"
      ],
      "text/plain": [
       "<IPython.core.display.HTML object>"
      ]
     },
     "metadata": {},
     "output_type": "display_data"
    }
   ],
   "source": [
    "tadpole.show_flow()"
   ]
  },
  {
   "cell_type": "markdown",
   "metadata": {},
   "source": [
    "We can see that the queues are much more tight!"
   ]
  },
  {
   "cell_type": "code",
   "execution_count": 12,
   "metadata": {
    "ExecuteTime": {
     "end_time": "2022-01-27T13:12:02.096964Z",
     "start_time": "2022-01-27T13:12:01.960879Z"
    }
   },
   "outputs": [
    {
     "data": {
      "image/png": "[encoded data removed]",
      "text/plain": [
       "<Figure size 432x288 with 1 Axes>"
      ]
     },
     "metadata": {
      "needs_background": "light"
     },
     "output_type": "display_data"
    }
   ],
   "source": [
    "fig = tadpole.simulator.show_average_queues(sort=True)"
   ]
  },
  {
   "cell_type": "markdown",
   "metadata": {},
   "source": [
    "Note that the average queue can be converted in an average waiting time."
   ]
  },
  {
   "cell_type": "code",
   "execution_count": 13,
   "metadata": {
    "ExecuteTime": {
     "end_time": "2022-01-27T13:12:02.253877Z",
     "start_time": "2022-01-27T13:12:02.100140Z"
    }
   },
   "outputs": [
    {
     "data": {
      "image/png": "[encoded data removed]",
      "text/plain": [
       "<Figure size 432x288 with 1 Axes>"
      ]
     },
     "metadata": {
      "needs_background": "light"
     },
     "output_type": "display_data"
    }
   ],
   "source": [
    "fig = tadpole.simulator.show_average_queues(sort=True, as_time=True)"
   ]
  },
  {
   "cell_type": "markdown",
   "metadata": {},
   "source": [
    "### Nonjective"
   ]
  },
  {
   "cell_type": "markdown",
   "metadata": {},
   "source": [
    "Consider the following tadpole:"
   ]
  },
  {
   "cell_type": "code",
   "execution_count": 14,
   "metadata": {
    "ExecuteTime": {
     "end_time": "2022-01-27T13:12:02.269442Z",
     "start_time": "2022-01-27T13:12:02.255872Z"
    }
   },
   "outputs": [],
   "source": [
    "tadpole = sm.Tadpole(rates='uniform', m=4)"
   ]
  },
  {
   "cell_type": "markdown",
   "metadata": {},
   "source": [
    "It is bipartite and does not verify the stability condition NCond (even bipartite NCond), so all solution break the conservation law."
   ]
  },
  {
   "cell_type": "markdown",
   "metadata": {},
   "source": [
    "Simulation fails:"
   ]
  },
  {
   "cell_type": "code",
   "execution_count": 15,
   "metadata": {
    "ExecuteTime": {
     "end_time": "2022-01-27T13:12:02.677573Z",
     "start_time": "2022-01-27T13:12:02.272029Z"
    }
   },
   "outputs": [
    {
     "data": {
      "text/plain": [
       "False"
      ]
     },
     "execution_count": 15,
     "metadata": {},
     "output_type": "execute_result"
    }
   ],
   "source": [
    "tadpole.run('fcfm', number_events=10000000, max_queue=100000)"
   ]
  },
  {
   "cell_type": "code",
   "execution_count": 16,
   "metadata": {
    "ExecuteTime": {
     "end_time": "2022-01-27T13:12:02.693420Z",
     "start_time": "2022-01-27T13:12:02.679576Z"
    }
   },
   "outputs": [
    {
     "data": {
      "text/html": [
       "\n",
       "<div id=\"adcf25be-2f1f-4a2a-979f-5e9314647cf8\"></div>\n",
       "<script>\n",
       "require.config({\n",
       "    paths: {\n",
       "        vis: 'https://unpkg.com/vis-network/standalone/umd/vis-network.min'\n",
       "    }\n",
       "});\n",
       "require(['vis'], function(vis){\n",
       "var nodes = [{\"id\": 0, \"label\": \"1\", \"title\": \"0\", \"color\": \"red\"}, {\"id\": 1, \"label\": \"1\", \"title\": \"1\"}, {\"id\": 2, \"label\": \"1\", \"title\": \"2\", \"color\": \"red\"}, {\"id\": 3, \"label\": \"1\", \"title\": \"3\"}, {\"id\": 4, \"label\": \"1\", \"title\": \"4\", \"color\": \"red\"}];\n",
       "var edges = [{\"title\": \"0: (0, 1)\", \"label\": \"0.499\", \"color\": \"blue\", \"from\": 0, \"to\": 1}, {\"title\": \"1: (0, 3)\", \"label\": \"0.167\", \"color\": \"blue\", \"from\": 0, \"to\": 3}, {\"title\": \"2: (1, 2)\", \"label\": \"0.502\", \"color\": \"blue\", \"from\": 1, \"to\": 2}, {\"title\": \"3: (2, 3)\", \"label\": \"0.166\", \"color\": \"blue\", \"from\": 2, \"to\": 3}, {\"title\": \"4: (3, 4)\", \"label\": \"0.666\", \"color\": \"blue\", \"from\": 3, \"to\": 4}];\n",
       "var data= {\n",
       "    nodes: nodes,\n",
       "    edges: edges,\n",
       "};\n",
       "var options = {\"interaction\": {\"navigationButtons\": true}, \"width\": \"600px\", \"height\": 300};\n",
       "var container = document.getElementById('adcf25be-2f1f-4a2a-979f-5e9314647cf8');\n",
       "var network = new vis.Network(container, data, options);\n",
       "network.fit({\n",
       "  maxZoomLevel: 1000});\n",
       "});\n",
       "</script>\n"
      ],
      "text/plain": [
       "<IPython.core.display.HTML object>"
      ]
     },
     "metadata": {},
     "output_type": "display_data"
    }
   ],
   "source": [
    "tadpole.show_flow()"
   ]
  },
  {
   "cell_type": "markdown",
   "metadata": {},
   "source": [
    "Nodes 0, 2, and 4 are in limbo."
   ]
  },
  {
   "cell_type": "code",
   "execution_count": 17,
   "metadata": {
    "ExecuteTime": {
     "end_time": "2022-01-27T13:12:02.846862Z",
     "start_time": "2022-01-27T13:12:02.696737Z"
    }
   },
   "outputs": [
    {
     "data": {
      "image/png": "[encoded data removed]",
      "text/plain": [
       "<Figure size 432x288 with 1 Axes>"
      ]
     },
     "metadata": {
      "needs_background": "light"
     },
     "output_type": "display_data"
    }
   ],
   "source": [
    "fig = tadpole.simulator.show_average_queues()"
   ]
  },
  {
   "cell_type": "markdown",
   "metadata": {},
   "source": [
    "Let's change the arrival rates to have bipartite NCond (which is not non-bipartite NCond)."
   ]
  },
  {
   "cell_type": "code",
   "execution_count": 18,
   "metadata": {
    "ExecuteTime": {
     "end_time": "2022-01-27T13:12:02.862509Z",
     "start_time": "2022-01-27T13:12:02.849062Z"
    }
   },
   "outputs": [],
   "source": [
    "tadpole.rates = [1, 1, 1, 2, 1]"
   ]
  },
  {
   "cell_type": "code",
   "execution_count": 19,
   "metadata": {
    "ExecuteTime": {
     "end_time": "2022-01-27T13:12:03.110860Z",
     "start_time": "2022-01-27T13:12:02.863467Z"
    }
   },
   "outputs": [
    {
     "data": {
      "text/plain": [
       "True"
      ]
     },
     "execution_count": 19,
     "metadata": {},
     "output_type": "execute_result"
    }
   ],
   "source": [
    "tadpole.run('fcfm', number_events=1000000)"
   ]
  },
  {
   "cell_type": "markdown",
   "metadata": {},
   "source": [
    "We can see that it works! FCFM seems to stabilizes even if NCond is not met."
   ]
  },
  {
   "cell_type": "code",
   "execution_count": 20,
   "metadata": {
    "ExecuteTime": {
     "end_time": "2022-01-27T13:12:03.126086Z",
     "start_time": "2022-01-27T13:12:03.113859Z"
    }
   },
   "outputs": [
    {
     "data": {
      "text/html": [
       "\n",
       "<div id=\"c9070253-010e-451a-bd25-eaffa3d9156c\"></div>\n",
       "<script>\n",
       "require.config({\n",
       "    paths: {\n",
       "        vis: 'https://unpkg.com/vis-network/standalone/umd/vis-network.min'\n",
       "    }\n",
       "});\n",
       "require(['vis'], function(vis){\n",
       "var nodes = [{\"id\": 0, \"label\": \"1\", \"title\": \"0\"}, {\"id\": 1, \"label\": \"1\", \"title\": \"1\"}, {\"id\": 2, \"label\": \"1\", \"title\": \"2\"}, {\"id\": 3, \"label\": \"2\", \"title\": \"3\"}, {\"id\": 4, \"label\": \"1\", \"title\": \"4\"}];\n",
       "var edges = [{\"title\": \"0: (0, 1)\", \"label\": \"0.498\", \"color\": \"blue\", \"from\": 0, \"to\": 1}, {\"title\": \"1: (0, 3)\", \"label\": \"0.498\", \"color\": \"blue\", \"from\": 0, \"to\": 3}, {\"title\": \"2: (1, 2)\", \"label\": \"0.499\", \"color\": \"blue\", \"from\": 1, \"to\": 2}, {\"title\": \"3: (2, 3)\", \"label\": \"0.501\", \"color\": \"blue\", \"from\": 2, \"to\": 3}, {\"title\": \"4: (3, 4)\", \"label\": \"1\", \"color\": \"blue\", \"from\": 3, \"to\": 4}];\n",
       "var data= {\n",
       "    nodes: nodes,\n",
       "    edges: edges,\n",
       "};\n",
       "var options = {\"interaction\": {\"navigationButtons\": true}, \"width\": \"600px\", \"height\": 300};\n",
       "var container = document.getElementById('c9070253-010e-451a-bd25-eaffa3d9156c');\n",
       "var network = new vis.Network(container, data, options);\n",
       "network.fit({\n",
       "  maxZoomLevel: 1000});\n",
       "});\n",
       "</script>\n"
      ],
      "text/plain": [
       "<IPython.core.display.HTML object>"
      ]
     },
     "metadata": {},
     "output_type": "display_data"
    }
   ],
   "source": [
    "tadpole.show_flow()"
   ]
  },
  {
   "cell_type": "code",
   "execution_count": 21,
   "metadata": {
    "ExecuteTime": {
     "end_time": "2022-01-27T13:12:03.910117Z",
     "start_time": "2022-01-27T13:12:03.127423Z"
    }
   },
   "outputs": [
    {
     "data": {
      "image/png": "[encoded data removed]",
      "text/plain": [
       "<Figure size 432x288 with 1 Axes>"
      ]
     },
     "metadata": {
      "needs_background": "light"
     },
     "output_type": "display_data"
    }
   ],
   "source": [
    "fig = tadpole.simulator.show_ccdf()"
   ]
  },
  {
   "cell_type": "markdown",
   "metadata": {},
   "source": [
    "Hum, the queues are quite high. Maybe we didn't wait long enough?"
   ]
  },
  {
   "cell_type": "code",
   "execution_count": 22,
   "metadata": {
    "ExecuteTime": {
     "end_time": "2022-01-27T13:12:06.909516Z",
     "start_time": "2022-01-27T13:12:03.911216Z"
    }
   },
   "outputs": [
    {
     "data": {
      "text/plain": [
       "False"
      ]
     },
     "execution_count": 22,
     "metadata": {},
     "output_type": "execute_result"
    }
   ],
   "source": [
    "tadpole.run('fcfm', number_events=10000000, seed=42)"
   ]
  },
  {
   "cell_type": "code",
   "execution_count": 23,
   "metadata": {
    "ExecuteTime": {
     "end_time": "2022-01-27T13:12:07.550773Z",
     "start_time": "2022-01-27T13:12:06.911626Z"
    }
   },
   "outputs": [
    {
     "data": {
      "image/png": "[encoded data removed]",
      "text/plain": [
       "<Figure size 432x288 with 1 Axes>"
      ]
     },
     "metadata": {
      "needs_background": "light"
     },
     "output_type": "display_data"
    }
   ],
   "source": [
    "fig = tadpole.simulator.show_ccdf()"
   ]
  },
  {
   "cell_type": "markdown",
   "metadata": {
    "ExecuteTime": {
     "end_time": "2021-04-13T11:22:34.792340Z",
     "start_time": "2021-04-13T11:22:32.465363Z"
    }
   },
   "source": [
    "Not so stable after all... This is not surprising because of the random walk between left and right nodes, which forces queues of arbitrary size if one waits long enough."
   ]
  },
  {
   "cell_type": "markdown",
   "metadata": {},
   "source": [
    "## Diamond"
   ]
  },
  {
   "cell_type": "markdown",
   "metadata": {},
   "source": [
    "Consider the following:"
   ]
  },
  {
   "cell_type": "code",
   "execution_count": 24,
   "metadata": {
    "ExecuteTime": {
     "end_time": "2022-01-27T13:12:07.566233Z",
     "start_time": "2022-01-27T13:12:07.553781Z"
    }
   },
   "outputs": [],
   "source": [
    "diamond = sm.CycleChain(tol=1e-4)\n",
    "ϵ = 0.2\n",
    "diamond.rates = [2, 2+ϵ, 1+ϵ, 1]"
   ]
  },
  {
   "cell_type": "markdown",
   "metadata": {},
   "source": [
    "Try fcfm"
   ]
  },
  {
   "cell_type": "code",
   "execution_count": 25,
   "metadata": {
    "ExecuteTime": {
     "end_time": "2022-01-27T13:12:10.808638Z",
     "start_time": "2022-01-27T13:12:07.567733Z"
    }
   },
   "outputs": [
    {
     "data": {
      "text/plain": [
       "True"
      ]
     },
     "execution_count": 25,
     "metadata": {},
     "output_type": "execute_result"
    }
   ],
   "source": [
    "diamond.run('fcfm', number_events=10000000)"
   ]
  },
  {
   "cell_type": "code",
   "execution_count": 26,
   "metadata": {
    "ExecuteTime": {
     "end_time": "2022-01-27T13:12:10.823786Z",
     "start_time": "2022-01-27T13:12:10.810637Z"
    }
   },
   "outputs": [
    {
     "data": {
      "text/html": [
       "\n",
       "<div id=\"858940de-f0bd-45a3-91ea-0f6fb758b216\"></div>\n",
       "<script>\n",
       "require.config({\n",
       "    paths: {\n",
       "        vis: 'https://unpkg.com/vis-network/standalone/umd/vis-network.min'\n",
       "    }\n",
       "});\n",
       "require(['vis'], function(vis){\n",
       "var nodes = [{\"id\": 0, \"label\": \"2\", \"title\": \"0\"}, {\"id\": 1, \"label\": \"2.2\", \"title\": \"1\"}, {\"id\": 2, \"label\": \"1.2\", \"title\": \"2\"}, {\"id\": 3, \"label\": \"1\", \"title\": \"3\"}];\n",
       "var edges = [{\"title\": \"0: (0, 1)\", \"label\": \"1.33\", \"color\": \"blue\", \"from\": 0, \"to\": 1}, {\"title\": \"1: (0, 2)\", \"label\": \"0.668\", \"color\": \"blue\", \"from\": 0, \"to\": 2}, {\"title\": \"2: (1, 2)\", \"label\": \"0.199\", \"color\": \"blue\", \"from\": 1, \"to\": 2}, {\"title\": \"3: (1, 3)\", \"label\": \"0.665\", \"color\": \"blue\", \"from\": 1, \"to\": 3}, {\"title\": \"4: (2, 3)\", \"label\": \"0.334\", \"color\": \"blue\", \"from\": 2, \"to\": 3}];\n",
       "var data= {\n",
       "    nodes: nodes,\n",
       "    edges: edges,\n",
       "};\n",
       "var options = {\"interaction\": {\"navigationButtons\": true}, \"width\": \"600px\", \"height\": 300};\n",
       "var container = document.getElementById('858940de-f0bd-45a3-91ea-0f6fb758b216');\n",
       "var network = new vis.Network(container, data, options);\n",
       "network.fit({\n",
       "  maxZoomLevel: 1000});\n",
       "});\n",
       "</script>\n"
      ],
      "text/plain": [
       "<IPython.core.display.HTML object>"
      ]
     },
     "metadata": {},
     "output_type": "display_data"
    }
   ],
   "source": [
    "diamond.show_flow()"
   ]
  },
  {
   "cell_type": "markdown",
   "metadata": {},
   "source": [
    "Nodes 0 and 3 are non-empty most of the time."
   ]
  },
  {
   "cell_type": "code",
   "execution_count": 27,
   "metadata": {
    "ExecuteTime": {
     "end_time": "2022-01-27T13:12:11.625358Z",
     "start_time": "2022-01-27T13:12:10.826919Z"
    }
   },
   "outputs": [
    {
     "data": {
      "image/png": "[encoded data removed]",
      "text/plain": [
       "<Figure size 432x288 with 1 Axes>"
      ]
     },
     "metadata": {
      "needs_background": "light"
     },
     "output_type": "display_data"
    }
   ],
   "source": [
    "fig = diamond.simulator.show_ccdf()"
   ]
  },
  {
   "cell_type": "code",
   "execution_count": 28,
   "metadata": {
    "ExecuteTime": {
     "end_time": "2022-01-27T13:12:11.780867Z",
     "start_time": "2022-01-27T13:12:11.632252Z"
    }
   },
   "outputs": [
    {
     "data": {
      "image/png": "[encoded data removed]",
      "text/plain": [
       "<Figure size 432x288 with 1 Axes>"
      ]
     },
     "metadata": {
      "needs_background": "light"
     },
     "output_type": "display_data"
    }
   ],
   "source": [
    "fig = diamond.simulator.show_average_queues(sort=True, as_time=True)"
   ]
  },
  {
   "cell_type": "markdown",
   "metadata": {},
   "source": [
    "Try random node (we use a seed to have a True result; in practice, random node is highly borderline in this example and overflows relatively often)."
   ]
  },
  {
   "cell_type": "code",
   "execution_count": 29,
   "metadata": {
    "ExecuteTime": {
     "end_time": "2022-01-27T13:12:16.363603Z",
     "start_time": "2022-01-27T13:12:11.783604Z"
    }
   },
   "outputs": [
    {
     "data": {
      "text/plain": [
       "True"
      ]
     },
     "execution_count": 29,
     "metadata": {},
     "output_type": "execute_result"
    }
   ],
   "source": [
    "diamond.run('random_node', number_events=10000000, seed=42)"
   ]
  },
  {
   "cell_type": "code",
   "execution_count": 30,
   "metadata": {
    "ExecuteTime": {
     "end_time": "2022-01-27T13:12:16.379070Z",
     "start_time": "2022-01-27T13:12:16.366824Z"
    }
   },
   "outputs": [
    {
     "data": {
      "text/html": [
       "\n",
       "<div id=\"dadd37b1-885b-4488-87dd-cb8ad811cccf\"></div>\n",
       "<script>\n",
       "require.config({\n",
       "    paths: {\n",
       "        vis: 'https://unpkg.com/vis-network/standalone/umd/vis-network.min'\n",
       "    }\n",
       "});\n",
       "require(['vis'], function(vis){\n",
       "var nodes = [{\"id\": 0, \"label\": \"2\", \"title\": \"0\"}, {\"id\": 1, \"label\": \"2.2\", \"title\": \"1\"}, {\"id\": 2, \"label\": \"1.2\", \"title\": \"2\"}, {\"id\": 3, \"label\": \"1\", \"title\": \"3\"}];\n",
       "var edges = [{\"title\": \"0: (0, 1)\", \"label\": \"1.33\", \"color\": \"blue\", \"from\": 0, \"to\": 1}, {\"title\": \"1: (0, 2)\", \"label\": \"0.666\", \"color\": \"blue\", \"from\": 0, \"to\": 2}, {\"title\": \"2: (1, 2)\", \"label\": \"0.202\", \"color\": \"blue\", \"from\": 1, \"to\": 2}, {\"title\": \"3: (1, 3)\", \"label\": \"0.666\", \"color\": \"blue\", \"from\": 1, \"to\": 3}, {\"title\": \"4: (2, 3)\", \"label\": \"0.333\", \"color\": \"blue\", \"from\": 2, \"to\": 3}];\n",
       "var data= {\n",
       "    nodes: nodes,\n",
       "    edges: edges,\n",
       "};\n",
       "var options = {\"interaction\": {\"navigationButtons\": true}, \"width\": \"600px\", \"height\": 300};\n",
       "var container = document.getElementById('dadd37b1-885b-4488-87dd-cb8ad811cccf');\n",
       "var network = new vis.Network(container, data, options);\n",
       "network.fit({\n",
       "  maxZoomLevel: 1000});\n",
       "});\n",
       "</script>\n"
      ],
      "text/plain": [
       "<IPython.core.display.HTML object>"
      ]
     },
     "metadata": {},
     "output_type": "display_data"
    }
   ],
   "source": [
    "diamond.show_flow()"
   ]
  },
  {
   "cell_type": "code",
   "execution_count": 31,
   "metadata": {
    "ExecuteTime": {
     "end_time": "2022-01-27T13:12:17.083992Z",
     "start_time": "2022-01-27T13:12:16.381041Z"
    }
   },
   "outputs": [
    {
     "data": {
      "image/png": "[encoded data removed]",
      "text/plain": [
       "<Figure size 432x288 with 1 Axes>"
      ]
     },
     "metadata": {
      "needs_background": "light"
     },
     "output_type": "display_data"
    }
   ],
   "source": [
    "fig = diamond.simulator.show_ccdf()"
   ]
  },
  {
   "cell_type": "code",
   "execution_count": 32,
   "metadata": {
    "ExecuteTime": {
     "end_time": "2022-01-27T13:12:17.223875Z",
     "start_time": "2022-01-27T13:12:17.085845Z"
    }
   },
   "outputs": [
    {
     "data": {
      "image/png": "[encoded data removed]",
      "text/plain": [
       "<Figure size 432x288 with 1 Axes>"
      ]
     },
     "metadata": {
      "needs_background": "light"
     },
     "output_type": "display_data"
    }
   ],
   "source": [
    "fig = diamond.simulator.show_average_queues(sort=True, as_time=True)"
   ]
  },
  {
   "cell_type": "markdown",
   "metadata": {},
   "source": [
    "Try random item."
   ]
  },
  {
   "cell_type": "code",
   "execution_count": 33,
   "metadata": {
    "ExecuteTime": {
     "end_time": "2022-01-27T13:12:21.239172Z",
     "start_time": "2022-01-27T13:12:17.226857Z"
    }
   },
   "outputs": [
    {
     "data": {
      "text/plain": [
       "True"
      ]
     },
     "execution_count": 33,
     "metadata": {},
     "output_type": "execute_result"
    }
   ],
   "source": [
    "diamond.run('random_item', number_events=10000000)"
   ]
  },
  {
   "cell_type": "code",
   "execution_count": 34,
   "metadata": {
    "ExecuteTime": {
     "end_time": "2022-01-27T13:12:21.254328Z",
     "start_time": "2022-01-27T13:12:21.241693Z"
    }
   },
   "outputs": [
    {
     "data": {
      "text/html": [
       "\n",
       "<div id=\"e7cf5601-4b5f-4789-9709-b49d66ad0d25\"></div>\n",
       "<script>\n",
       "require.config({\n",
       "    paths: {\n",
       "        vis: 'https://unpkg.com/vis-network/standalone/umd/vis-network.min'\n",
       "    }\n",
       "});\n",
       "require(['vis'], function(vis){\n",
       "var nodes = [{\"id\": 0, \"label\": \"2\", \"title\": \"0\"}, {\"id\": 1, \"label\": \"2.2\", \"title\": \"1\"}, {\"id\": 2, \"label\": \"1.2\", \"title\": \"2\"}, {\"id\": 3, \"label\": \"1\", \"title\": \"3\"}];\n",
       "var edges = [{\"title\": \"0: (0, 1)\", \"label\": \"1.33\", \"color\": \"blue\", \"from\": 0, \"to\": 1}, {\"title\": \"1: (0, 2)\", \"label\": \"0.667\", \"color\": \"blue\", \"from\": 0, \"to\": 2}, {\"title\": \"2: (1, 2)\", \"label\": \"0.199\", \"color\": \"blue\", \"from\": 1, \"to\": 2}, {\"title\": \"3: (1, 3)\", \"label\": \"0.667\", \"color\": \"blue\", \"from\": 1, \"to\": 3}, {\"title\": \"4: (2, 3)\", \"label\": \"0.335\", \"color\": \"blue\", \"from\": 2, \"to\": 3}];\n",
       "var data= {\n",
       "    nodes: nodes,\n",
       "    edges: edges,\n",
       "};\n",
       "var options = {\"interaction\": {\"navigationButtons\": true}, \"width\": \"600px\", \"height\": 300};\n",
       "var container = document.getElementById('e7cf5601-4b5f-4789-9709-b49d66ad0d25');\n",
       "var network = new vis.Network(container, data, options);\n",
       "network.fit({\n",
       "  maxZoomLevel: 1000});\n",
       "});\n",
       "</script>\n"
      ],
      "text/plain": [
       "<IPython.core.display.HTML object>"
      ]
     },
     "metadata": {},
     "output_type": "display_data"
    }
   ],
   "source": [
    "diamond.show_flow()"
   ]
  },
  {
   "cell_type": "code",
   "execution_count": 35,
   "metadata": {
    "ExecuteTime": {
     "end_time": "2022-01-27T13:12:21.881136Z",
     "start_time": "2022-01-27T13:12:21.256635Z"
    }
   },
   "outputs": [
    {
     "data": {
      "image/png": "[encoded data removed]",
      "text/plain": [
       "<Figure size 432x288 with 1 Axes>"
      ]
     },
     "metadata": {
      "needs_background": "light"
     },
     "output_type": "display_data"
    }
   ],
   "source": [
    "fig = diamond.simulator.show_ccdf()"
   ]
  },
  {
   "cell_type": "code",
   "execution_count": 36,
   "metadata": {
    "ExecuteTime": {
     "end_time": "2022-01-27T13:12:21.992224Z",
     "start_time": "2022-01-27T13:12:21.883938Z"
    }
   },
   "outputs": [
    {
     "data": {
      "image/png": "[encoded data removed]",
      "text/plain": [
       "<Figure size 432x288 with 1 Axes>"
      ]
     },
     "metadata": {
      "needs_background": "light"
     },
     "output_type": "display_data"
    }
   ],
   "source": [
    "fig = diamond.simulator.show_average_queues(sort=True, as_time=True)"
   ]
  },
  {
   "cell_type": "markdown",
   "metadata": {},
   "source": [
    "### Trying to reach an extreme feasible solution with a greedy policy"
   ]
  },
  {
   "cell_type": "markdown",
   "metadata": {},
   "source": [
    "Now we would like to have a greedy policy that tries to move on towards the extreme feasible solutions. Sadly, no such policy exists (cf https://hal.archives-ouvertes.fr/hal-03502084)."
   ]
  },
  {
   "cell_type": "markdown",
   "metadata": {},
   "source": [
    "Yet, we can try to approach them with priority-based greedy selection. First, look at the extreme points (vertices)."
   ]
  },
  {
   "cell_type": "code",
   "execution_count": 37,
   "metadata": {
    "ExecuteTime": {
     "end_time": "2022-01-27T13:12:22.024413Z",
     "start_time": "2022-01-27T13:12:21.994176Z"
    }
   },
   "outputs": [
    {
     "data": {
      "text/html": [
       "\n",
       "<div id=\"fee5faa1-e145-468f-a1ab-a72f23d3880c\"></div>\n",
       "<script>\n",
       "require.config({\n",
       "    paths: {\n",
       "        vis: 'https://unpkg.com/vis-network/standalone/umd/vis-network.min'\n",
       "    }\n",
       "});\n",
       "require(['vis'], function(vis){\n",
       "var nodes = [{\"id\": 0, \"label\": \"2\", \"title\": \"0\"}, {\"id\": 1, \"label\": \"2.2\", \"title\": \"1\"}, {\"id\": 2, \"label\": \"1.2\", \"title\": \"2\"}, {\"id\": 3, \"label\": \"1\", \"title\": \"3\"}];\n",
       "var edges = [{\"title\": \"0: (0, 1)\", \"label\": \"0.997\", \"color\": \"blue\", \"from\": 0, \"to\": 1}, {\"title\": \"1: (0, 2)\", \"label\": \"1\", \"color\": \"blue\", \"from\": 0, \"to\": 2}, {\"title\": \"2: (1, 2)\", \"label\": \"0.199\", \"color\": \"blue\", \"from\": 1, \"to\": 2}, {\"title\": \"3: (1, 3)\", \"label\": \"1\", \"color\": \"blue\", \"from\": 1, \"to\": 3}, {\"title\": \"4: (2, 3)\", \"label\": \"\", \"color\": \"orange\", \"from\": 2, \"to\": 3}];\n",
       "var data= {\n",
       "    nodes: nodes,\n",
       "    edges: edges,\n",
       "};\n",
       "var options = {\"interaction\": {\"navigationButtons\": true}, \"width\": \"600px\", \"height\": 300};\n",
       "var container = document.getElementById('fee5faa1-e145-468f-a1ab-a72f23d3880c');\n",
       "var network = new vis.Network(container, data, options);\n",
       "network.fit({\n",
       "  maxZoomLevel: 1000});\n",
       "});\n",
       "</script>\n"
      ],
      "text/plain": [
       "<IPython.core.display.HTML object>"
      ]
     },
     "metadata": {},
     "output_type": "display_data"
    },
    {
     "data": {
      "text/html": [
       "\n",
       "<div id=\"7bb43821-8c35-4dfb-96c2-c73e8cb527d9\"></div>\n",
       "<script>\n",
       "require.config({\n",
       "    paths: {\n",
       "        vis: 'https://unpkg.com/vis-network/standalone/umd/vis-network.min'\n",
       "    }\n",
       "});\n",
       "require(['vis'], function(vis){\n",
       "var nodes = [{\"id\": 0, \"label\": \"2\", \"title\": \"0\"}, {\"id\": 1, \"label\": \"2.2\", \"title\": \"1\"}, {\"id\": 2, \"label\": \"1.2\", \"title\": \"2\"}, {\"id\": 3, \"label\": \"1\", \"title\": \"3\"}];\n",
       "var edges = [{\"title\": \"0: (0, 1)\", \"label\": \"2\", \"color\": \"blue\", \"from\": 0, \"to\": 1}, {\"title\": \"1: (0, 2)\", \"label\": \"\", \"color\": \"orange\", \"from\": 0, \"to\": 2}, {\"title\": \"2: (1, 2)\", \"label\": \"0.199\", \"color\": \"blue\", \"from\": 1, \"to\": 2}, {\"title\": \"3: (1, 3)\", \"label\": \"\", \"color\": \"orange\", \"from\": 1, \"to\": 3}, {\"title\": \"4: (2, 3)\", \"label\": \"1\", \"color\": \"blue\", \"from\": 2, \"to\": 3}];\n",
       "var data= {\n",
       "    nodes: nodes,\n",
       "    edges: edges,\n",
       "};\n",
       "var options = {\"interaction\": {\"navigationButtons\": true}, \"width\": \"600px\", \"height\": 300};\n",
       "var container = document.getElementById('7bb43821-8c35-4dfb-96c2-c73e8cb527d9');\n",
       "var network = new vis.Network(container, data, options);\n",
       "network.fit({\n",
       "  maxZoomLevel: 1000});\n",
       "});\n",
       "</script>\n"
      ],
      "text/plain": [
       "<IPython.core.display.HTML object>"
      ]
     },
     "metadata": {},
     "output_type": "display_data"
    }
   ],
   "source": [
    "for i in range(len(diamond.vertices)):\n",
    "    diamond.show_vertex(i)"
   ]
  },
  {
   "cell_type": "markdown",
   "metadata": {},
   "source": [
    "We can see that the first vertex prioritizes edges 1 and 3, while the second one prioritizes edges 0 and 4. Let us see what happens if one uses these priorities in a greedy policy."
   ]
  },
  {
   "cell_type": "code",
   "execution_count": 38,
   "metadata": {
    "ExecuteTime": {
     "end_time": "2022-01-27T13:12:26.348610Z",
     "start_time": "2022-01-27T13:12:22.026566Z"
    }
   },
   "outputs": [
    {
     "data": {
      "text/html": [
       "\n",
       "<div id=\"0216a5dc-b3c0-412d-9576-526e946b2600\"></div>\n",
       "<script>\n",
       "require.config({\n",
       "    paths: {\n",
       "        vis: 'https://unpkg.com/vis-network/standalone/umd/vis-network.min'\n",
       "    }\n",
       "});\n",
       "require(['vis'], function(vis){\n",
       "var nodes = [{\"id\": 0, \"label\": \"2\", \"title\": \"0\"}, {\"id\": 1, \"label\": \"2.2\", \"title\": \"1\"}, {\"id\": 2, \"label\": \"1.2\", \"title\": \"2\"}, {\"id\": 3, \"label\": \"1\", \"title\": \"3\"}];\n",
       "var edges = [{\"title\": \"0: (0, 1)\", \"label\": \"1.07\", \"color\": \"blue\", \"from\": 0, \"to\": 1}, {\"title\": \"1: (0, 2)\", \"label\": \"0.931\", \"color\": \"blue\", \"from\": 0, \"to\": 2}, {\"title\": \"2: (1, 2)\", \"label\": \"0.201\", \"color\": \"blue\", \"from\": 1, \"to\": 2}, {\"title\": \"3: (1, 3)\", \"label\": \"0.931\", \"color\": \"blue\", \"from\": 1, \"to\": 3}, {\"title\": \"4: (2, 3)\", \"label\": \"0.0696\", \"color\": \"blue\", \"from\": 2, \"to\": 3}];\n",
       "var data= {\n",
       "    nodes: nodes,\n",
       "    edges: edges,\n",
       "};\n",
       "var options = {\"interaction\": {\"navigationButtons\": true}, \"width\": \"600px\", \"height\": 300};\n",
       "var container = document.getElementById('0216a5dc-b3c0-412d-9576-526e946b2600');\n",
       "var network = new vis.Network(container, data, options);\n",
       "network.fit({\n",
       "  maxZoomLevel: 1000});\n",
       "});\n",
       "</script>\n"
      ],
      "text/plain": [
       "<IPython.core.display.HTML object>"
      ]
     },
     "metadata": {},
     "output_type": "display_data"
    }
   ],
   "source": [
    "diamond.run('priority', weights=[0, 1, 0, 1, 0], number_events=10000000)\n",
    "diamond.show_flow()"
   ]
  },
  {
   "cell_type": "code",
   "execution_count": 39,
   "metadata": {
    "ExecuteTime": {
     "end_time": "2022-01-27T13:12:30.614261Z",
     "start_time": "2022-01-27T13:12:26.350610Z"
    }
   },
   "outputs": [
    {
     "data": {
      "text/html": [
       "\n",
       "<div id=\"29c8a751-2ac0-4dc3-aa3a-5b11926e00a5\"></div>\n",
       "<script>\n",
       "require.config({\n",
       "    paths: {\n",
       "        vis: 'https://unpkg.com/vis-network/standalone/umd/vis-network.min'\n",
       "    }\n",
       "});\n",
       "require(['vis'], function(vis){\n",
       "var nodes = [{\"id\": 0, \"label\": \"2\", \"title\": \"0\"}, {\"id\": 1, \"label\": \"2.2\", \"title\": \"1\"}, {\"id\": 2, \"label\": \"1.2\", \"title\": \"2\"}, {\"id\": 3, \"label\": \"1\", \"title\": \"3\"}];\n",
       "var edges = [{\"title\": \"0: (0, 1)\", \"label\": \"1.73\", \"color\": \"blue\", \"from\": 0, \"to\": 1}, {\"title\": \"1: (0, 2)\", \"label\": \"0.272\", \"color\": \"blue\", \"from\": 0, \"to\": 2}, {\"title\": \"2: (1, 2)\", \"label\": \"0.199\", \"color\": \"blue\", \"from\": 1, \"to\": 2}, {\"title\": \"3: (1, 3)\", \"label\": \"0.27\", \"color\": \"blue\", \"from\": 1, \"to\": 3}, {\"title\": \"4: (2, 3)\", \"label\": \"0.73\", \"color\": \"blue\", \"from\": 2, \"to\": 3}];\n",
       "var data= {\n",
       "    nodes: nodes,\n",
       "    edges: edges,\n",
       "};\n",
       "var options = {\"interaction\": {\"navigationButtons\": true}, \"width\": \"600px\", \"height\": 300};\n",
       "var container = document.getElementById('29c8a751-2ac0-4dc3-aa3a-5b11926e00a5');\n",
       "var network = new vis.Network(container, data, options);\n",
       "network.fit({\n",
       "  maxZoomLevel: 1000});\n",
       "});\n",
       "</script>\n"
      ],
      "text/plain": [
       "<IPython.core.display.HTML object>"
      ]
     },
     "metadata": {},
     "output_type": "display_data"
    }
   ],
   "source": [
    "diamond.run('priority', weights=[1, 0, 0, 0, 1], number_events=10000000)\n",
    "diamond.show_flow()"
   ]
  },
  {
   "cell_type": "markdown",
   "metadata": {},
   "source": [
    "Not bad, but not perfect. To reach a vertex, we may need to use a semi-greedy policy."
   ]
  },
  {
   "cell_type": "markdown",
   "metadata": {},
   "source": [
    "### Trying to reach an extreme feasible solution with a semi-greedy policy"
   ]
  },
  {
   "cell_type": "code",
   "execution_count": 40,
   "metadata": {
    "ExecuteTime": {
     "end_time": "2022-01-27T13:12:30.629694Z",
     "start_time": "2022-01-27T13:12:30.616215Z"
    }
   },
   "outputs": [
    {
     "data": {
      "text/plain": [
       "[{'kernel_coordinates': array([-0.3347552]),\n",
       "  'edge_coordinates': array([0.99740608, 1.00164032, 0.19934016, 1.0016128 , 0.        ]),\n",
       "  'null_edges': [4],\n",
       "  'bijective': True},\n",
       " {'kernel_coordinates': array([0.6668576]),\n",
       "  'edge_coordinates': array([1.99901888, 0.        , 0.19934016, 0.        , 1.0016128 ]),\n",
       "  'null_edges': [1, 3],\n",
       "  'bijective': False}]"
      ]
     },
     "execution_count": 40,
     "metadata": {},
     "output_type": "execute_result"
    }
   ],
   "source": [
    "diamond.vertices"
   ]
  },
  {
   "cell_type": "markdown",
   "metadata": {},
   "source": [
    "The first kernel is bijective, we just need to forbid the null edge."
   ]
  },
  {
   "cell_type": "code",
   "execution_count": 41,
   "metadata": {
    "ExecuteTime": {
     "end_time": "2022-01-27T13:12:37.023911Z",
     "start_time": "2022-01-27T13:12:30.631849Z"
    }
   },
   "outputs": [
    {
     "data": {
      "text/plain": [
       "True"
      ]
     },
     "execution_count": 41,
     "metadata": {},
     "output_type": "execute_result"
    }
   ],
   "source": [
    "diamond.run('semi_greedy', forbidden_edges=diamond.vertices[0]['null_edges'], number_events=10000000)"
   ]
  },
  {
   "cell_type": "code",
   "execution_count": 42,
   "metadata": {
    "ExecuteTime": {
     "end_time": "2022-01-27T13:12:37.038959Z",
     "start_time": "2022-01-27T13:12:37.025628Z"
    }
   },
   "outputs": [
    {
     "data": {
      "text/html": [
       "\n",
       "<div id=\"23d8db7b-17d0-4102-a8c8-1b1647085b89\"></div>\n",
       "<script>\n",
       "require.config({\n",
       "    paths: {\n",
       "        vis: 'https://unpkg.com/vis-network/standalone/umd/vis-network.min'\n",
       "    }\n",
       "});\n",
       "require(['vis'], function(vis){\n",
       "var nodes = [{\"id\": 0, \"label\": \"2\", \"title\": \"0\"}, {\"id\": 1, \"label\": \"2.2\", \"title\": \"1\"}, {\"id\": 2, \"label\": \"1.2\", \"title\": \"2\"}, {\"id\": 3, \"label\": \"1\", \"title\": \"3\"}];\n",
       "var edges = [{\"title\": \"0: (0, 1)\", \"label\": \"1\", \"color\": \"blue\", \"from\": 0, \"to\": 1}, {\"title\": \"1: (0, 2)\", \"label\": \"1\", \"color\": \"blue\", \"from\": 0, \"to\": 2}, {\"title\": \"2: (1, 2)\", \"label\": \"0.199\", \"color\": \"blue\", \"from\": 1, \"to\": 2}, {\"title\": \"3: (1, 3)\", \"label\": \"1\", \"color\": \"blue\", \"from\": 1, \"to\": 3}, {\"title\": \"4: (2, 3)\", \"label\": \"0\", \"color\": \"orange\", \"from\": 2, \"to\": 3}];\n",
       "var data= {\n",
       "    nodes: nodes,\n",
       "    edges: edges,\n",
       "};\n",
       "var options = {\"interaction\": {\"navigationButtons\": true}, \"width\": \"600px\", \"height\": 300};\n",
       "var container = document.getElementById('23d8db7b-17d0-4102-a8c8-1b1647085b89');\n",
       "var network = new vis.Network(container, data, options);\n",
       "network.fit({\n",
       "  maxZoomLevel: 1000});\n",
       "});\n",
       "</script>\n"
      ],
      "text/plain": [
       "<IPython.core.display.HTML object>"
      ]
     },
     "metadata": {},
     "output_type": "display_data"
    }
   ],
   "source": [
    "diamond.show_flow()"
   ]
  },
  {
   "cell_type": "markdown",
   "metadata": {},
   "source": [
    "We can check that the matching rate on edge 4 is 0."
   ]
  },
  {
   "cell_type": "code",
   "execution_count": 43,
   "metadata": {
    "ExecuteTime": {
     "end_time": "2022-01-27T13:12:37.069803Z",
     "start_time": "2022-01-27T13:12:37.040897Z"
    }
   },
   "outputs": [
    {
     "data": {
      "text/plain": [
       "array([1.000128  , 1.000912  , 0.198784  , 1.00017152, 0.        ])"
      ]
     },
     "execution_count": 43,
     "metadata": {},
     "output_type": "execute_result"
    }
   ],
   "source": [
    "diamond.simulation"
   ]
  },
  {
   "cell_type": "markdown",
   "metadata": {},
   "source": [
    "No noticeable impact on the performance."
   ]
  },
  {
   "cell_type": "code",
   "execution_count": 44,
   "metadata": {
    "ExecuteTime": {
     "end_time": "2022-01-27T13:12:37.900202Z",
     "start_time": "2022-01-27T13:12:37.071251Z"
    }
   },
   "outputs": [
    {
     "data": {
      "image/png": "[encoded data removed]",
      "text/plain": [
       "<Figure size 432x288 with 1 Axes>"
      ]
     },
     "metadata": {
      "needs_background": "light"
     },
     "output_type": "display_data"
    }
   ],
   "source": [
    "fig = diamond.simulator.show_ccdf()"
   ]
  },
  {
   "cell_type": "code",
   "execution_count": 45,
   "metadata": {
    "ExecuteTime": {
     "end_time": "2022-01-27T13:12:38.042435Z",
     "start_time": "2022-01-27T13:12:37.903373Z"
    }
   },
   "outputs": [
    {
     "data": {
      "image/png": "[encoded data removed]",
      "text/plain": [
       "<Figure size 432x288 with 1 Axes>"
      ]
     },
     "metadata": {
      "needs_background": "light"
     },
     "output_type": "display_data"
    }
   ],
   "source": [
    "fig = diamond.simulator.show_average_queues(sort=True, as_time=True)"
   ]
  },
  {
   "cell_type": "markdown",
   "metadata": {},
   "source": [
    "Now we try on the second kernel."
   ]
  },
  {
   "cell_type": "code",
   "execution_count": 46,
   "metadata": {
    "ExecuteTime": {
     "end_time": "2022-01-27T13:12:39.991041Z",
     "start_time": "2022-01-27T13:12:38.044383Z"
    }
   },
   "outputs": [
    {
     "data": {
      "text/plain": [
       "False"
      ]
     },
     "execution_count": 46,
     "metadata": {},
     "output_type": "execute_result"
    }
   ],
   "source": [
    "diamond.run('semi_greedy', forbidden_edges=diamond.vertices[1]['null_edges'], number_events=10000000)"
   ]
  },
  {
   "cell_type": "code",
   "execution_count": 47,
   "metadata": {
    "ExecuteTime": {
     "end_time": "2022-01-27T13:12:40.006414Z",
     "start_time": "2022-01-27T13:12:39.993000Z"
    }
   },
   "outputs": [
    {
     "data": {
      "text/html": [
       "\n",
       "<div id=\"232d1346-f3c6-49af-a5c9-afe61e06a49a\"></div>\n",
       "<script>\n",
       "require.config({\n",
       "    paths: {\n",
       "        vis: 'https://unpkg.com/vis-network/standalone/umd/vis-network.min'\n",
       "    }\n",
       "});\n",
       "require(['vis'], function(vis){\n",
       "var nodes = [{\"id\": 0, \"label\": \"2\", \"title\": \"0\"}, {\"id\": 1, \"label\": \"2.2\", \"title\": \"1\"}, {\"id\": 2, \"label\": \"1.2\", \"title\": \"2\"}, {\"id\": 3, \"label\": \"1\", \"title\": \"3\"}];\n",
       "var edges = [{\"title\": \"0: (0, 1)\", \"label\": \"2\", \"color\": \"blue\", \"from\": 0, \"to\": 1}, {\"title\": \"1: (0, 2)\", \"label\": \"0\", \"color\": \"orange\", \"from\": 0, \"to\": 2}, {\"title\": \"2: (1, 2)\", \"label\": \"0.203\", \"color\": \"blue\", \"from\": 1, \"to\": 2}, {\"title\": \"3: (1, 3)\", \"label\": \"0\", \"color\": \"orange\", \"from\": 1, \"to\": 3}, {\"title\": \"4: (2, 3)\", \"label\": \"0.998\", \"color\": \"blue\", \"from\": 2, \"to\": 3}];\n",
       "var data= {\n",
       "    nodes: nodes,\n",
       "    edges: edges,\n",
       "};\n",
       "var options = {\"interaction\": {\"navigationButtons\": true}, \"width\": \"600px\", \"height\": 300};\n",
       "var container = document.getElementById('232d1346-f3c6-49af-a5c9-afe61e06a49a');\n",
       "var network = new vis.Network(container, data, options);\n",
       "network.fit({\n",
       "  maxZoomLevel: 1000});\n",
       "});\n",
       "</script>\n"
      ],
      "text/plain": [
       "<IPython.core.display.HTML object>"
      ]
     },
     "metadata": {},
     "output_type": "display_data"
    }
   ],
   "source": [
    "diamond.show_flow()"
   ]
  },
  {
   "cell_type": "markdown",
   "metadata": {},
   "source": [
    "So this is unstable but the the matching rate on edges 1 and 3 is 0."
   ]
  },
  {
   "cell_type": "code",
   "execution_count": 48,
   "metadata": {
    "ExecuteTime": {
     "end_time": "2022-01-27T13:12:40.022379Z",
     "start_time": "2022-01-27T13:12:40.008987Z"
    }
   },
   "outputs": [
    {
     "data": {
      "text/plain": [
       "array([1.99512693, 0.        , 0.20336808, 0.        , 0.99846916])"
      ]
     },
     "execution_count": 48,
     "metadata": {},
     "output_type": "execute_result"
    }
   ],
   "source": [
    "diamond.simulation"
   ]
  },
  {
   "cell_type": "markdown",
   "metadata": {},
   "source": [
    "Performance is bad, as the vertex is bipartite."
   ]
  },
  {
   "cell_type": "code",
   "execution_count": 49,
   "metadata": {
    "ExecuteTime": {
     "end_time": "2022-01-27T13:12:40.553599Z",
     "start_time": "2022-01-27T13:12:40.025378Z"
    }
   },
   "outputs": [
    {
     "data": {
      "image/png": "[encoded data removed]",
      "text/plain": [
       "<Figure size 432x288 with 1 Axes>"
      ]
     },
     "metadata": {
      "needs_background": "light"
     },
     "output_type": "display_data"
    }
   ],
   "source": [
    "fig = diamond.simulator.show_ccdf()"
   ]
  },
  {
   "cell_type": "code",
   "execution_count": 50,
   "metadata": {
    "ExecuteTime": {
     "end_time": "2022-01-27T13:12:40.742331Z",
     "start_time": "2022-01-27T13:12:40.556549Z"
    }
   },
   "outputs": [
    {
     "data": {
      "image/png": "[encoded data removed]",
      "text/plain": [
       "<Figure size 432x288 with 1 Axes>"
      ]
     },
     "metadata": {
      "needs_background": "light"
     },
     "output_type": "display_data"
    }
   ],
   "source": [
    "fig = diamond.simulator.show_average_queues(sort=True, as_time=True)"
   ]
  },
  {
   "cell_type": "markdown",
   "metadata": {},
   "source": [
    "The solution in that case is to use a semi-greedy policy with threshold."
   ]
  },
  {
   "cell_type": "code",
   "execution_count": 51,
   "metadata": {
    "ExecuteTime": {
     "end_time": "2022-01-27T13:12:46.276152Z",
     "start_time": "2022-01-27T13:12:40.745320Z"
    }
   },
   "outputs": [
    {
     "data": {
      "text/plain": [
       "True"
      ]
     },
     "execution_count": 51,
     "metadata": {},
     "output_type": "execute_result"
    }
   ],
   "source": [
    "diamond.run('semi_greedy', forbidden_edges=diamond.vertices[1]['null_edges'], threshold=500, number_events=10000000)"
   ]
  },
  {
   "cell_type": "code",
   "execution_count": 52,
   "metadata": {
    "ExecuteTime": {
     "end_time": "2022-01-27T13:12:46.291436Z",
     "start_time": "2022-01-27T13:12:46.277710Z"
    }
   },
   "outputs": [
    {
     "data": {
      "text/html": [
       "\n",
       "<div id=\"164a78e3-8a7e-4918-9d92-d8c3910cbcd3\"></div>\n",
       "<script>\n",
       "require.config({\n",
       "    paths: {\n",
       "        vis: 'https://unpkg.com/vis-network/standalone/umd/vis-network.min'\n",
       "    }\n",
       "});\n",
       "require(['vis'], function(vis){\n",
       "var nodes = [{\"id\": 0, \"label\": \"2\", \"title\": \"0\"}, {\"id\": 1, \"label\": \"2.2\", \"title\": \"1\"}, {\"id\": 2, \"label\": \"1.2\", \"title\": \"2\"}, {\"id\": 3, \"label\": \"1\", \"title\": \"3\"}];\n",
       "var edges = [{\"title\": \"0: (0, 1)\", \"label\": \"2\", \"color\": \"blue\", \"from\": 0, \"to\": 1}, {\"title\": \"1: (0, 2)\", \"label\": \"0.0006\", \"color\": \"blue\", \"from\": 0, \"to\": 2}, {\"title\": \"2: (1, 2)\", \"label\": \"0.201\", \"color\": \"blue\", \"from\": 1, \"to\": 2}, {\"title\": \"3: (1, 3)\", \"label\": \"0\", \"color\": \"orange\", \"from\": 1, \"to\": 3}, {\"title\": \"4: (2, 3)\", \"label\": \"0.998\", \"color\": \"blue\", \"from\": 2, \"to\": 3}];\n",
       "var data= {\n",
       "    nodes: nodes,\n",
       "    edges: edges,\n",
       "};\n",
       "var options = {\"interaction\": {\"navigationButtons\": true}, \"width\": \"600px\", \"height\": 300};\n",
       "var container = document.getElementById('164a78e3-8a7e-4918-9d92-d8c3910cbcd3');\n",
       "var network = new vis.Network(container, data, options);\n",
       "network.fit({\n",
       "  maxZoomLevel: 1000});\n",
       "});\n",
       "</script>\n"
      ],
      "text/plain": [
       "<IPython.core.display.HTML object>"
      ]
     },
     "metadata": {},
     "output_type": "display_data"
    }
   ],
   "source": [
    "diamond.show_flow()"
   ]
  },
  {
   "cell_type": "markdown",
   "metadata": {},
   "source": [
    "So this is stable with a limited matching rate on edges 1 and 3."
   ]
  },
  {
   "cell_type": "code",
   "execution_count": 53,
   "metadata": {
    "ExecuteTime": {
     "end_time": "2022-01-27T13:12:46.306853Z",
     "start_time": "2022-01-27T13:12:46.294331Z"
    }
   },
   "outputs": [
    {
     "data": {
      "text/plain": [
       "array([1.99940288e+00, 6.00320000e-04, 2.01430400e-01, 0.00000000e+00,\n",
       "       9.98465280e-01])"
      ]
     },
     "execution_count": 53,
     "metadata": {},
     "output_type": "execute_result"
    }
   ],
   "source": [
    "diamond.simulation"
   ]
  },
  {
   "cell_type": "markdown",
   "metadata": {},
   "source": [
    "Performance is controlled by the threshold."
   ]
  },
  {
   "cell_type": "code",
   "execution_count": 54,
   "metadata": {
    "ExecuteTime": {
     "end_time": "2022-01-27T13:12:47.046397Z",
     "start_time": "2022-01-27T13:12:46.307852Z"
    }
   },
   "outputs": [
    {
     "data": {
      "image/png": "[encoded data removed]",
      "text/plain": [
       "<Figure size 432x288 with 1 Axes>"
      ]
     },
     "metadata": {
      "needs_background": "light"
     },
     "output_type": "display_data"
    }
   ],
   "source": [
    "fig = diamond.simulator.show_ccdf()"
   ]
  },
  {
   "cell_type": "code",
   "execution_count": 55,
   "metadata": {
    "ExecuteTime": {
     "end_time": "2022-01-27T13:12:47.234750Z",
     "start_time": "2022-01-27T13:12:47.049961Z"
    }
   },
   "outputs": [
    {
     "data": {
      "image/png": "[encoded data removed]",
      "text/plain": [
       "<Figure size 432x288 with 1 Axes>"
      ]
     },
     "metadata": {
      "needs_background": "light"
     },
     "output_type": "display_data"
    }
   ],
   "source": [
    "fig = diamond.simulator.show_average_queues(sort=True, as_time=True)"
   ]
  },
  {
   "cell_type": "markdown",
   "metadata": {},
   "source": [
    "### Reward maximization variant"
   ]
  },
  {
   "cell_type": "markdown",
   "metadata": {},
   "source": [
    "In many use cases, one may want to optimize the flow based on some reward associated to each edge. It turns out that this equivalent to finding a subset of edges to forbid such that the flow(s) on that subgraph will maximize the reward. `stochastic_matching` automatically implements this in two ways:\n",
    "- It gives an optimal flow associated to a vector of rewards;\n",
    "- the semi-greedy policy can take a vector of rewards as arguments and automatically discard the null edges of one optimal solution."
   ]
  },
  {
   "cell_type": "code",
   "execution_count": 56,
   "metadata": {
    "ExecuteTime": {
     "end_time": "2022-01-27T13:12:47.250220Z",
     "start_time": "2022-01-27T13:12:47.237725Z"
    }
   },
   "outputs": [
    {
     "data": {
      "text/plain": [
       "array([2. , 0. , 0.2, 0. , 1. ])"
      ]
     },
     "execution_count": 56,
     "metadata": {},
     "output_type": "execute_result"
    }
   ],
   "source": [
    "weights = [2, 1, 2, 1, 2]\n",
    "diamond.optimize_rates(weights)"
   ]
  },
  {
   "cell_type": "code",
   "execution_count": 57,
   "metadata": {
    "ExecuteTime": {
     "end_time": "2022-01-27T13:12:49.109151Z",
     "start_time": "2022-01-27T13:12:47.252026Z"
    }
   },
   "outputs": [
    {
     "data": {
      "text/plain": [
       "True"
      ]
     },
     "execution_count": 57,
     "metadata": {},
     "output_type": "execute_result"
    }
   ],
   "source": [
    "diamond.run('semi_greedy', weights=weights, threshold=300)"
   ]
  },
  {
   "cell_type": "code",
   "execution_count": 58,
   "metadata": {
    "ExecuteTime": {
     "end_time": "2022-01-27T13:12:49.124631Z",
     "start_time": "2022-01-27T13:12:49.112372Z"
    }
   },
   "outputs": [
    {
     "data": {
      "text/html": [
       "\n",
       "<div id=\"75ff27d2-a2a9-47b2-a602-06074c6fbdbc\"></div>\n",
       "<script>\n",
       "require.config({\n",
       "    paths: {\n",
       "        vis: 'https://unpkg.com/vis-network/standalone/umd/vis-network.min'\n",
       "    }\n",
       "});\n",
       "require(['vis'], function(vis){\n",
       "var nodes = [{\"id\": 0, \"label\": \"2\", \"title\": \"0\"}, {\"id\": 1, \"label\": \"2.2\", \"title\": \"1\"}, {\"id\": 2, \"label\": \"1.2\", \"title\": \"2\"}, {\"id\": 3, \"label\": \"1\", \"title\": \"3\"}];\n",
       "var edges = [{\"title\": \"0: (0, 1)\", \"label\": \"2\", \"color\": \"blue\", \"from\": 0, \"to\": 1}, {\"title\": \"1: (0, 2)\", \"label\": \"0.000384\", \"color\": \"blue\", \"from\": 0, \"to\": 2}, {\"title\": \"2: (1, 2)\", \"label\": \"0.204\", \"color\": \"blue\", \"from\": 1, \"to\": 2}, {\"title\": \"3: (1, 3)\", \"label\": \"0.000794\", \"color\": \"blue\", \"from\": 1, \"to\": 3}, {\"title\": \"4: (2, 3)\", \"label\": \"0.997\", \"color\": \"blue\", \"from\": 2, \"to\": 3}];\n",
       "var data= {\n",
       "    nodes: nodes,\n",
       "    edges: edges,\n",
       "};\n",
       "var options = {\"interaction\": {\"navigationButtons\": true}, \"width\": \"600px\", \"height\": 300};\n",
       "var container = document.getElementById('75ff27d2-a2a9-47b2-a602-06074c6fbdbc');\n",
       "var network = new vis.Network(container, data, options);\n",
       "network.fit({\n",
       "  maxZoomLevel: 1000});\n",
       "});\n",
       "</script>\n"
      ],
      "text/plain": [
       "<IPython.core.display.HTML object>"
      ]
     },
     "metadata": {},
     "output_type": "display_data"
    }
   ],
   "source": [
    "diamond.show_flow()"
   ]
  },
  {
   "cell_type": "code",
   "execution_count": 59,
   "metadata": {
    "ExecuteTime": {
     "end_time": "2022-01-27T13:12:49.771021Z",
     "start_time": "2022-01-27T13:12:49.127617Z"
    }
   },
   "outputs": [
    {
     "data": {
      "image/png": "[encoded data removed]",
      "text/plain": [
       "<Figure size 432x288 with 1 Axes>"
      ]
     },
     "metadata": {
      "needs_background": "light"
     },
     "output_type": "display_data"
    }
   ],
   "source": [
    "fig = diamond.simulator.show_ccdf()"
   ]
  },
  {
   "cell_type": "code",
   "execution_count": 60,
   "metadata": {
    "ExecuteTime": {
     "end_time": "2022-01-27T13:12:49.893644Z",
     "start_time": "2022-01-27T13:12:49.774316Z"
    }
   },
   "outputs": [
    {
     "data": {
      "image/png": "[encoded data removed]",
      "text/plain": [
       "<Figure size 432x288 with 1 Axes>"
      ]
     },
     "metadata": {
      "needs_background": "light"
     },
     "output_type": "display_data"
    }
   ],
   "source": [
    "fig = diamond.simulator.show_average_queues(sort=True, as_time=True)"
   ]
  },
  {
   "cell_type": "markdown",
   "metadata": {},
   "source": [
    "## Fish"
   ]
  },
  {
   "cell_type": "markdown",
   "metadata": {},
   "source": [
    "The purpose of this example is to show a case where a family of greedy with priorities can asymptotically reach the vertices."
   ]
  },
  {
   "cell_type": "code",
   "execution_count": 61,
   "metadata": {
    "ExecuteTime": {
     "end_time": "2022-01-27T13:12:49.924670Z",
     "start_time": "2022-01-27T13:12:49.897149Z"
    }
   },
   "outputs": [
    {
     "data": {
      "text/html": [
       "\n",
       "<div id=\"489abeb6-ed3f-4669-847d-a723239134ab\"></div>\n",
       "<script>\n",
       "require.config({\n",
       "    paths: {\n",
       "        vis: 'https://unpkg.com/vis-network/standalone/umd/vis-network.min'\n",
       "    }\n",
       "});\n",
       "require(['vis'], function(vis){\n",
       "var nodes = [{\"id\": 0, \"label\": \"1\", \"title\": \"0: 1\"}, {\"id\": 1, \"label\": \"2\", \"title\": \"1: 2\"}, {\"id\": 2, \"label\": \"3\", \"title\": \"2: 3\"}, {\"id\": 3, \"label\": \"4\", \"title\": \"3: 4\"}, {\"id\": 4, \"label\": \"5\", \"title\": \"4: 5\"}, {\"id\": 5, \"label\": \"6\", \"title\": \"5: 6\"}];\n",
       "var edges = [{\"title\": \"0: (1, 2)\", \"label\": \"\", \"from\": 0, \"to\": 1}, {\"title\": \"1: (1, 3)\", \"label\": \"\", \"from\": 0, \"to\": 2}, {\"title\": \"2: (2, 3)\", \"label\": \"\", \"from\": 1, \"to\": 2}, {\"title\": \"3: (3, 4)\", \"label\": \"\", \"from\": 2, \"to\": 3}, {\"title\": \"4: (3, 6)\", \"label\": \"\", \"from\": 2, \"to\": 5}, {\"title\": \"5: (4, 5)\", \"label\": \"\", \"from\": 3, \"to\": 4}, {\"title\": \"6: (5, 6)\", \"label\": \"\", \"from\": 4, \"to\": 5}];\n",
       "var data= {\n",
       "    nodes: nodes,\n",
       "    edges: edges,\n",
       "};\n",
       "var options = {\"interaction\": {\"navigationButtons\": true}, \"width\": \"600px\", \"height\": 300};\n",
       "var container = document.getElementById('489abeb6-ed3f-4669-847d-a723239134ab');\n",
       "var network = new vis.Network(container, data, options);\n",
       "network.fit({\n",
       "  maxZoomLevel: 1000});\n",
       "});\n",
       "</script>\n"
      ],
      "text/plain": [
       "<IPython.core.display.HTML object>"
      ]
     },
     "metadata": {},
     "output_type": "display_data"
    }
   ],
   "source": [
    "fish = sm.KayakPaddle(l=0, m=4, names=[str(i) for i in range(1, 7)], rates = [4, 4, 3, 2, 3, 2])\n",
    "fish.show_graph()"
   ]
  },
  {
   "cell_type": "markdown",
   "metadata": {},
   "source": [
    "Look at the vertices:"
   ]
  },
  {
   "cell_type": "code",
   "execution_count": 62,
   "metadata": {
    "ExecuteTime": {
     "end_time": "2022-01-27T13:12:49.956312Z",
     "start_time": "2022-01-27T13:12:49.927685Z"
    }
   },
   "outputs": [
    {
     "data": {
      "text/html": [
       "\n",
       "<div id=\"4a1604dd-387d-46f4-8b73-a25f1145117d\"></div>\n",
       "<script>\n",
       "require.config({\n",
       "    paths: {\n",
       "        vis: 'https://unpkg.com/vis-network/standalone/umd/vis-network.min'\n",
       "    }\n",
       "});\n",
       "require(['vis'], function(vis){\n",
       "var nodes = [{\"id\": 0, \"label\": \"1\", \"title\": \"0: 1\"}, {\"id\": 1, \"label\": \"2\", \"title\": \"1: 2\"}, {\"id\": 2, \"label\": \"3\", \"title\": \"2: 3\"}, {\"id\": 3, \"label\": \"4\", \"title\": \"3: 4\"}, {\"id\": 4, \"label\": \"5\", \"title\": \"4: 5\"}, {\"id\": 5, \"label\": \"6\", \"title\": \"5: 6\"}];\n",
       "var edges = [{\"title\": \"0: (1, 2)\", \"label\": \"3\", \"color\": \"blue\", \"from\": 0, \"to\": 1}, {\"title\": \"1: (1, 3)\", \"label\": \"1\", \"color\": \"blue\", \"from\": 0, \"to\": 2}, {\"title\": \"2: (2, 3)\", \"label\": \"1\", \"color\": \"blue\", \"from\": 1, \"to\": 2}, {\"title\": \"3: (3, 4)\", \"label\": \"\", \"color\": \"orange\", \"from\": 2, \"to\": 3}, {\"title\": \"4: (3, 6)\", \"label\": \"1\", \"color\": \"blue\", \"from\": 2, \"to\": 5}, {\"title\": \"5: (4, 5)\", \"label\": \"2\", \"color\": \"blue\", \"from\": 3, \"to\": 4}, {\"title\": \"6: (5, 6)\", \"label\": \"1\", \"color\": \"blue\", \"from\": 4, \"to\": 5}];\n",
       "var data= {\n",
       "    nodes: nodes,\n",
       "    edges: edges,\n",
       "};\n",
       "var options = {\"interaction\": {\"navigationButtons\": true}, \"width\": \"600px\", \"height\": 300};\n",
       "var container = document.getElementById('4a1604dd-387d-46f4-8b73-a25f1145117d');\n",
       "var network = new vis.Network(container, data, options);\n",
       "network.fit({\n",
       "  maxZoomLevel: 1000});\n",
       "});\n",
       "</script>\n"
      ],
      "text/plain": [
       "<IPython.core.display.HTML object>"
      ]
     },
     "metadata": {},
     "output_type": "display_data"
    },
    {
     "data": {
      "text/html": [
       "\n",
       "<div id=\"a3c3d4b9-188c-4bff-a9ec-58b33b15ba45\"></div>\n",
       "<script>\n",
       "require.config({\n",
       "    paths: {\n",
       "        vis: 'https://unpkg.com/vis-network/standalone/umd/vis-network.min'\n",
       "    }\n",
       "});\n",
       "require(['vis'], function(vis){\n",
       "var nodes = [{\"id\": 0, \"label\": \"1\", \"title\": \"0: 1\"}, {\"id\": 1, \"label\": \"2\", \"title\": \"1: 2\"}, {\"id\": 2, \"label\": \"3\", \"title\": \"2: 3\"}, {\"id\": 3, \"label\": \"4\", \"title\": \"3: 4\"}, {\"id\": 4, \"label\": \"5\", \"title\": \"4: 5\"}, {\"id\": 5, \"label\": \"6\", \"title\": \"5: 6\"}];\n",
       "var edges = [{\"title\": \"0: (1, 2)\", \"label\": \"3\", \"color\": \"blue\", \"from\": 0, \"to\": 1}, {\"title\": \"1: (1, 3)\", \"label\": \"1\", \"color\": \"blue\", \"from\": 0, \"to\": 2}, {\"title\": \"2: (2, 3)\", \"label\": \"1\", \"color\": \"blue\", \"from\": 1, \"to\": 2}, {\"title\": \"3: (3, 4)\", \"label\": \"1\", \"color\": \"blue\", \"from\": 2, \"to\": 3}, {\"title\": \"4: (3, 6)\", \"label\": \"\", \"color\": \"orange\", \"from\": 2, \"to\": 5}, {\"title\": \"5: (4, 5)\", \"label\": \"1\", \"color\": \"blue\", \"from\": 3, \"to\": 4}, {\"title\": \"6: (5, 6)\", \"label\": \"2\", \"color\": \"blue\", \"from\": 4, \"to\": 5}];\n",
       "var data= {\n",
       "    nodes: nodes,\n",
       "    edges: edges,\n",
       "};\n",
       "var options = {\"interaction\": {\"navigationButtons\": true}, \"width\": \"600px\", \"height\": 300};\n",
       "var container = document.getElementById('a3c3d4b9-188c-4bff-a9ec-58b33b15ba45');\n",
       "var network = new vis.Network(container, data, options);\n",
       "network.fit({\n",
       "  maxZoomLevel: 1000});\n",
       "});\n",
       "</script>\n"
      ],
      "text/plain": [
       "<IPython.core.display.HTML object>"
      ]
     },
     "metadata": {},
     "output_type": "display_data"
    }
   ],
   "source": [
    "for i in range(len(fish.vertices)):\n",
    "    fish.show_vertex(i, disp_rates=False)"
   ]
  },
  {
   "cell_type": "markdown",
   "metadata": {},
   "source": [
    "Let us try to nullify the edge between 3 and 6 with adapted priorities. As this may be unstable, let us pick a large max queue."
   ]
  },
  {
   "cell_type": "code",
   "execution_count": 63,
   "metadata": {
    "ExecuteTime": {
     "end_time": "2022-01-27T13:12:54.454772Z",
     "start_time": "2022-01-27T13:12:49.958319Z"
    }
   },
   "outputs": [
    {
     "data": {
      "text/plain": [
       "True"
      ]
     },
     "execution_count": 63,
     "metadata": {},
     "output_type": "execute_result"
    }
   ],
   "source": [
    "weights = [0, 2, 2, 1, 0, 0, 1]\n",
    "fish.run('priority', weights=weights, number_events=10000000, max_queue=1000000)"
   ]
  },
  {
   "cell_type": "code",
   "execution_count": 64,
   "metadata": {
    "ExecuteTime": {
     "end_time": "2022-01-27T13:12:54.470572Z",
     "start_time": "2022-01-27T13:12:54.457069Z"
    }
   },
   "outputs": [
    {
     "data": {
      "text/html": [
       "\n",
       "<div id=\"3ee2b555-18eb-40f3-879b-1ab941c1045e\"></div>\n",
       "<script>\n",
       "require.config({\n",
       "    paths: {\n",
       "        vis: 'https://unpkg.com/vis-network/standalone/umd/vis-network.min'\n",
       "    }\n",
       "});\n",
       "require(['vis'], function(vis){\n",
       "var nodes = [{\"id\": 0, \"label\": \"1\", \"title\": \"0: 1\"}, {\"id\": 1, \"label\": \"2\", \"title\": \"1: 2\"}, {\"id\": 2, \"label\": \"3\", \"title\": \"2: 3\"}, {\"id\": 3, \"label\": \"4\", \"title\": \"3: 4\", \"color\": \"red\"}, {\"id\": 4, \"label\": \"5\", \"title\": \"4: 5\"}, {\"id\": 5, \"label\": \"6\", \"title\": \"5: 6\"}];\n",
       "var edges = [{\"title\": \"0: (1, 2)\", \"label\": \"2.91\", \"color\": \"blue\", \"from\": 0, \"to\": 1}, {\"title\": \"1: (1, 3)\", \"label\": \"1.09\", \"color\": \"blue\", \"from\": 0, \"to\": 2}, {\"title\": \"2: (2, 3)\", \"label\": \"1.09\", \"color\": \"blue\", \"from\": 1, \"to\": 2}, {\"title\": \"3: (3, 4)\", \"label\": \"0.816\", \"color\": \"blue\", \"from\": 2, \"to\": 3}, {\"title\": \"4: (3, 6)\", \"label\": \"0\", \"color\": \"orange\", \"from\": 2, \"to\": 5}, {\"title\": \"5: (4, 5)\", \"label\": \"1\", \"color\": \"blue\", \"from\": 3, \"to\": 4}, {\"title\": \"6: (5, 6)\", \"label\": \"2\", \"color\": \"blue\", \"from\": 4, \"to\": 5}];\n",
       "var data= {\n",
       "    nodes: nodes,\n",
       "    edges: edges,\n",
       "};\n",
       "var options = {\"interaction\": {\"navigationButtons\": true}, \"width\": \"600px\", \"height\": 300};\n",
       "var container = document.getElementById('3ee2b555-18eb-40f3-879b-1ab941c1045e');\n",
       "var network = new vis.Network(container, data, options);\n",
       "network.fit({\n",
       "  maxZoomLevel: 1000});\n",
       "});\n",
       "</script>\n"
      ],
      "text/plain": [
       "<IPython.core.display.HTML object>"
      ]
     },
     "metadata": {},
     "output_type": "display_data"
    }
   ],
   "source": [
    "fish.show_flow(disp_rates=False)"
   ]
  },
  {
   "cell_type": "markdown",
   "metadata": {},
   "source": [
    "So we managed to almost nullify the edge at the price of making node 4 unstable (it cannot check the conservation law). This can be addressed by using a threshold above which the policy is altered."
   ]
  },
  {
   "cell_type": "code",
   "execution_count": 65,
   "metadata": {
    "ExecuteTime": {
     "end_time": "2022-01-27T13:12:54.501570Z",
     "start_time": "2022-01-27T13:12:54.473130Z"
    }
   },
   "outputs": [],
   "source": [
    "counterweights = [0, 1, 1, 2, 0, 0, 2]"
   ]
  },
  {
   "cell_type": "code",
   "execution_count": 66,
   "metadata": {
    "ExecuteTime": {
     "end_time": "2022-01-27T13:12:59.330753Z",
     "start_time": "2022-01-27T13:12:54.506204Z"
    }
   },
   "outputs": [
    {
     "data": {
      "text/plain": [
       "True"
      ]
     },
     "execution_count": 66,
     "metadata": {},
     "output_type": "execute_result"
    }
   ],
   "source": [
    "fish.run('priority', weights=weights, number_events=10000000, threshold=500, counterweights=counterweights)"
   ]
  },
  {
   "cell_type": "code",
   "execution_count": 67,
   "metadata": {
    "ExecuteTime": {
     "end_time": "2022-01-27T13:12:59.346547Z",
     "start_time": "2022-01-27T13:12:59.332764Z"
    }
   },
   "outputs": [
    {
     "data": {
      "text/html": [
       "\n",
       "<div id=\"cc1fc6a9-0fbb-4ed2-947d-3f9116bc7c5c\"></div>\n",
       "<script>\n",
       "require.config({\n",
       "    paths: {\n",
       "        vis: 'https://unpkg.com/vis-network/standalone/umd/vis-network.min'\n",
       "    }\n",
       "});\n",
       "require(['vis'], function(vis){\n",
       "var nodes = [{\"id\": 0, \"label\": \"1\", \"title\": \"0: 1\"}, {\"id\": 1, \"label\": \"2\", \"title\": \"1: 2\"}, {\"id\": 2, \"label\": \"3\", \"title\": \"2: 3\"}, {\"id\": 3, \"label\": \"4\", \"title\": \"3: 4\"}, {\"id\": 4, \"label\": \"5\", \"title\": \"4: 5\"}, {\"id\": 5, \"label\": \"6\", \"title\": \"5: 6\"}];\n",
       "var edges = [{\"title\": \"0: (1, 2)\", \"label\": \"3\", \"color\": \"blue\", \"from\": 0, \"to\": 1}, {\"title\": \"1: (1, 3)\", \"label\": \"1\", \"color\": \"blue\", \"from\": 0, \"to\": 2}, {\"title\": \"2: (2, 3)\", \"label\": \"0.999\", \"color\": \"blue\", \"from\": 1, \"to\": 2}, {\"title\": \"3: (3, 4)\", \"label\": \"1\", \"color\": \"blue\", \"from\": 2, \"to\": 3}, {\"title\": \"4: (3, 6)\", \"label\": \"9e-06\", \"color\": \"blue\", \"from\": 2, \"to\": 5}, {\"title\": \"5: (4, 5)\", \"label\": \"0.995\", \"color\": \"blue\", \"from\": 3, \"to\": 4}, {\"title\": \"6: (5, 6)\", \"label\": \"2\", \"color\": \"blue\", \"from\": 4, \"to\": 5}];\n",
       "var data= {\n",
       "    nodes: nodes,\n",
       "    edges: edges,\n",
       "};\n",
       "var options = {\"interaction\": {\"navigationButtons\": true}, \"width\": \"600px\", \"height\": 300};\n",
       "var container = document.getElementById('cc1fc6a9-0fbb-4ed2-947d-3f9116bc7c5c');\n",
       "var network = new vis.Network(container, data, options);\n",
       "network.fit({\n",
       "  maxZoomLevel: 1000});\n",
       "});\n",
       "</script>\n"
      ],
      "text/plain": [
       "<IPython.core.display.HTML object>"
      ]
     },
     "metadata": {},
     "output_type": "display_data"
    }
   ],
   "source": [
    "fish.show_flow(disp_rates=False)"
   ]
  },
  {
   "cell_type": "markdown",
   "metadata": {},
   "source": [
    "And that's it! The threshold controls the trade-off between the size of queue 4 and the nullity of edge (3, 6)."
   ]
  },
  {
   "cell_type": "code",
   "execution_count": 68,
   "metadata": {
    "ExecuteTime": {
     "end_time": "2022-01-27T13:13:00.002274Z",
     "start_time": "2022-01-27T13:12:59.349794Z"
    }
   },
   "outputs": [
    {
     "data": {
      "image/png": "[encoded data removed]",
      "text/plain": [
       "<Figure size 432x288 with 1 Axes>"
      ]
     },
     "metadata": {
      "needs_background": "light"
     },
     "output_type": "display_data"
    }
   ],
   "source": [
    "fig = fish.simulator.show_ccdf()"
   ]
  },
  {
   "cell_type": "code",
   "execution_count": 69,
   "metadata": {
    "ExecuteTime": {
     "end_time": "2022-01-27T13:13:00.174830Z",
     "start_time": "2022-01-27T13:13:00.004396Z"
    }
   },
   "outputs": [
    {
     "data": {
      "image/png": "[encoded data removed]",
      "text/plain": [
       "<Figure size 432x288 with 1 Axes>"
      ]
     },
     "metadata": {
      "needs_background": "light"
     },
     "output_type": "display_data"
    }
   ],
   "source": [
    "fig = fish.simulator.show_average_queues()"
   ]
  },
  {
   "cell_type": "code",
   "execution_count": 70,
   "metadata": {
    "ExecuteTime": {
     "end_time": "2022-01-27T13:13:05.058107Z",
     "start_time": "2022-01-27T13:13:00.176787Z"
    }
   },
   "outputs": [
    {
     "data": {
      "text/plain": [
       "True"
      ]
     },
     "execution_count": 70,
     "metadata": {},
     "output_type": "execute_result"
    }
   ],
   "source": [
    "fish.run('priority', weights=weights, number_events=10000000, threshold=10, counterweights=counterweights)"
   ]
  },
  {
   "cell_type": "code",
   "execution_count": 71,
   "metadata": {
    "ExecuteTime": {
     "end_time": "2022-01-27T13:13:05.073383Z",
     "start_time": "2022-01-27T13:13:05.059898Z"
    }
   },
   "outputs": [
    {
     "data": {
      "text/html": [
       "\n",
       "<div id=\"503f86e1-c9cc-4125-8ce2-a695756da0a5\"></div>\n",
       "<script>\n",
       "require.config({\n",
       "    paths: {\n",
       "        vis: 'https://unpkg.com/vis-network/standalone/umd/vis-network.min'\n",
       "    }\n",
       "});\n",
       "require(['vis'], function(vis){\n",
       "var nodes = [{\"id\": 0, \"label\": \"1\", \"title\": \"0: 1\"}, {\"id\": 1, \"label\": \"2\", \"title\": \"1: 2\"}, {\"id\": 2, \"label\": \"3\", \"title\": \"2: 3\"}, {\"id\": 3, \"label\": \"4\", \"title\": \"3: 4\"}, {\"id\": 4, \"label\": \"5\", \"title\": \"4: 5\"}, {\"id\": 5, \"label\": \"6\", \"title\": \"5: 6\"}];\n",
       "var edges = [{\"title\": \"0: (1, 2)\", \"label\": \"3\", \"color\": \"blue\", \"from\": 0, \"to\": 1}, {\"title\": \"1: (1, 3)\", \"label\": \"1\", \"color\": \"blue\", \"from\": 0, \"to\": 2}, {\"title\": \"2: (2, 3)\", \"label\": \"1\", \"color\": \"blue\", \"from\": 1, \"to\": 2}, {\"title\": \"3: (3, 4)\", \"label\": \"0.965\", \"color\": \"blue\", \"from\": 2, \"to\": 3}, {\"title\": \"4: (3, 6)\", \"label\": \"0.0344\", \"color\": \"blue\", \"from\": 2, \"to\": 5}, {\"title\": \"5: (4, 5)\", \"label\": \"1.03\", \"color\": \"blue\", \"from\": 3, \"to\": 4}, {\"title\": \"6: (5, 6)\", \"label\": \"1.97\", \"color\": \"blue\", \"from\": 4, \"to\": 5}];\n",
       "var data= {\n",
       "    nodes: nodes,\n",
       "    edges: edges,\n",
       "};\n",
       "var options = {\"interaction\": {\"navigationButtons\": true}, \"width\": \"600px\", \"height\": 300};\n",
       "var container = document.getElementById('503f86e1-c9cc-4125-8ce2-a695756da0a5');\n",
       "var network = new vis.Network(container, data, options);\n",
       "network.fit({\n",
       "  maxZoomLevel: 1000});\n",
       "});\n",
       "</script>\n"
      ],
      "text/plain": [
       "<IPython.core.display.HTML object>"
      ]
     },
     "metadata": {},
     "output_type": "display_data"
    }
   ],
   "source": [
    "fish.show_flow(disp_rates=False)"
   ]
  },
  {
   "cell_type": "markdown",
   "metadata": {},
   "source": [
    "And that's it! The threshold controls the trade-off between the size of queue 4 and the nullity of edge (3, 6)."
   ]
  },
  {
   "cell_type": "code",
   "execution_count": 72,
   "metadata": {
    "ExecuteTime": {
     "end_time": "2022-01-27T13:13:05.764367Z",
     "start_time": "2022-01-27T13:13:05.077213Z"
    }
   },
   "outputs": [
    {
     "data": {
      "image/png": "[encoded data removed]",
      "text/plain": [
       "<Figure size 432x288 with 1 Axes>"
      ]
     },
     "metadata": {
      "needs_background": "light"
     },
     "output_type": "display_data"
    }
   ],
   "source": [
    "fig = fish.simulator.show_ccdf()"
   ]
  },
  {
   "cell_type": "code",
   "execution_count": 73,
   "metadata": {
    "ExecuteTime": {
     "end_time": "2022-01-27T13:13:05.920584Z",
     "start_time": "2022-01-27T13:13:05.766779Z"
    }
   },
   "outputs": [
    {
     "data": {
      "image/png": "[encoded data removed]",
      "text/plain": [
       "<Figure size 432x288 with 1 Axes>"
      ]
     },
     "metadata": {
      "needs_background": "light"
     },
     "output_type": "display_data"
    }
   ],
   "source": [
    "fig = fish.simulator.show_average_queues()"
   ]
  },
  {
   "cell_type": "markdown",
   "metadata": {},
   "source": [
    "## Reaching a highly degenerated vertex"
   ]
  },
  {
   "cell_type": "markdown",
   "metadata": {},
   "source": [
    "The following model has *very injective* vertices."
   ]
  },
  {
   "cell_type": "code",
   "execution_count": 74,
   "metadata": {
    "ExecuteTime": {
     "end_time": "2022-01-27T13:13:05.951867Z",
     "start_time": "2022-01-27T13:13:05.922555Z"
    }
   },
   "outputs": [
    {
     "data": {
      "text/plain": [
       "[{'kernel_coordinates': array([-1., -1.]),\n",
       "  'edge_coordinates': array([0., 2., 0., 4., 0., 0., 2., 0.]),\n",
       "  'null_edges': [0, 2, 4, 5, 7],\n",
       "  'bijective': False},\n",
       " {'kernel_coordinates': array([-1.,  1.]),\n",
       "  'edge_coordinates': array([2., 0., 0., 2., 2., 0., 0., 2.]),\n",
       "  'null_edges': [1, 2, 5, 6],\n",
       "  'bijective': False},\n",
       " {'kernel_coordinates': array([1., 1.]),\n",
       "  'edge_coordinates': array([2., 0., 2., 0., 0., 2., 0., 2.]),\n",
       "  'null_edges': [1, 3, 4, 6],\n",
       "  'bijective': False}]"
      ]
     },
     "execution_count": 74,
     "metadata": {},
     "output_type": "execute_result"
    }
   ],
   "source": [
    "import numpy as np\n",
    "codomino = sm.Codomino(rates=[2, 4, 2, 2, 4, 2])\n",
    "codomino.base_flow = np.array([1.0, 1.0, 1.0, 2.0, 0.0, 1.0, 1.0, 1.0])\n",
    "codomino.vertices"
   ]
  },
  {
   "cell_type": "markdown",
   "metadata": {},
   "source": [
    "In particular the second vertex is made of three unconnected pairs:"
   ]
  },
  {
   "cell_type": "code",
   "execution_count": 75,
   "metadata": {
    "ExecuteTime": {
     "end_time": "2022-01-27T13:13:05.967910Z",
     "start_time": "2022-01-27T13:13:05.953820Z"
    }
   },
   "outputs": [
    {
     "data": {
      "text/html": [
       "\n",
       "<div id=\"16a0a618-7720-4e3c-93f3-eed53938de59\"></div>\n",
       "<script>\n",
       "require.config({\n",
       "    paths: {\n",
       "        vis: 'https://unpkg.com/vis-network/standalone/umd/vis-network.min'\n",
       "    }\n",
       "});\n",
       "require(['vis'], function(vis){\n",
       "var nodes = [{\"id\": 0, \"label\": \"2\", \"title\": \"0\"}, {\"id\": 1, \"label\": \"4\", \"title\": \"1\"}, {\"id\": 2, \"label\": \"2\", \"title\": \"2\"}, {\"id\": 3, \"label\": \"2\", \"title\": \"3\"}, {\"id\": 4, \"label\": \"4\", \"title\": \"4\"}, {\"id\": 5, \"label\": \"2\", \"title\": \"5\"}];\n",
       "var edges = [{\"title\": \"0: (0, 1)\", \"label\": \"2\", \"color\": \"blue\", \"from\": 0, \"to\": 1}, {\"title\": \"1: (0, 2)\", \"label\": \"\", \"color\": \"orange\", \"from\": 0, \"to\": 2}, {\"title\": \"2: (1, 2)\", \"label\": \"\", \"color\": \"orange\", \"from\": 1, \"to\": 2}, {\"title\": \"3: (1, 4)\", \"label\": \"2\", \"color\": \"blue\", \"from\": 1, \"to\": 4}, {\"title\": \"4: (2, 3)\", \"label\": \"2\", \"color\": \"blue\", \"from\": 2, \"to\": 3}, {\"title\": \"5: (3, 4)\", \"label\": \"\", \"color\": \"orange\", \"from\": 3, \"to\": 4}, {\"title\": \"6: (3, 5)\", \"label\": \"\", \"color\": \"orange\", \"from\": 3, \"to\": 5}, {\"title\": \"7: (4, 5)\", \"label\": \"2\", \"color\": \"blue\", \"from\": 4, \"to\": 5}];\n",
       "var data= {\n",
       "    nodes: nodes,\n",
       "    edges: edges,\n",
       "};\n",
       "var options = {\"interaction\": {\"navigationButtons\": true}, \"width\": \"600px\", \"height\": 300};\n",
       "var container = document.getElementById('16a0a618-7720-4e3c-93f3-eed53938de59');\n",
       "var network = new vis.Network(container, data, options);\n",
       "network.fit({\n",
       "  maxZoomLevel: 1000});\n",
       "});\n",
       "</script>\n"
      ],
      "text/plain": [
       "<IPython.core.display.HTML object>"
      ]
     },
     "metadata": {},
     "output_type": "display_data"
    }
   ],
   "source": [
    "codomino.show_vertex(1)"
   ]
  },
  {
   "cell_type": "markdown",
   "metadata": {},
   "source": [
    "Let try to reach it with a semi-greedy policy without threshold."
   ]
  },
  {
   "cell_type": "code",
   "execution_count": 76,
   "metadata": {
    "ExecuteTime": {
     "end_time": "2022-01-27T13:13:11.891513Z",
     "start_time": "2022-01-27T13:13:05.970698Z"
    }
   },
   "outputs": [
    {
     "data": {
      "text/plain": [
       "True"
      ]
     },
     "execution_count": 76,
     "metadata": {},
     "output_type": "execute_result"
    }
   ],
   "source": [
    "codomino.run('semi_greedy', forbidden_edges=codomino.vertices[1]['null_edges'], number_events=10000000, max_queue=100000)"
   ]
  },
  {
   "cell_type": "code",
   "execution_count": 77,
   "metadata": {
    "ExecuteTime": {
     "end_time": "2022-01-27T13:13:11.907040Z",
     "start_time": "2022-01-27T13:13:11.894513Z"
    }
   },
   "outputs": [
    {
     "data": {
      "text/html": [
       "\n",
       "<div id=\"27092959-7d5e-455f-875d-608401aacde5\"></div>\n",
       "<script>\n",
       "require.config({\n",
       "    paths: {\n",
       "        vis: 'https://unpkg.com/vis-network/standalone/umd/vis-network.min'\n",
       "    }\n",
       "});\n",
       "require(['vis'], function(vis){\n",
       "var nodes = [{\"id\": 0, \"label\": \"2\", \"title\": \"0\"}, {\"id\": 1, \"label\": \"4\", \"title\": \"1\"}, {\"id\": 2, \"label\": \"2\", \"title\": \"2\"}, {\"id\": 3, \"label\": \"2\", \"title\": \"3\"}, {\"id\": 4, \"label\": \"4\", \"title\": \"4\"}, {\"id\": 5, \"label\": \"2\", \"title\": \"5\"}];\n",
       "var edges = [{\"title\": \"0: (0, 1)\", \"label\": \"2\", \"color\": \"blue\", \"from\": 0, \"to\": 1}, {\"title\": \"1: (0, 2)\", \"label\": \"0\", \"color\": \"orange\", \"from\": 0, \"to\": 2}, {\"title\": \"2: (1, 2)\", \"label\": \"0\", \"color\": \"orange\", \"from\": 1, \"to\": 2}, {\"title\": \"3: (1, 4)\", \"label\": \"2\", \"color\": \"blue\", \"from\": 1, \"to\": 4}, {\"title\": \"4: (2, 3)\", \"label\": \"2\", \"color\": \"blue\", \"from\": 2, \"to\": 3}, {\"title\": \"5: (3, 4)\", \"label\": \"0\", \"color\": \"orange\", \"from\": 3, \"to\": 4}, {\"title\": \"6: (3, 5)\", \"label\": \"0\", \"color\": \"orange\", \"from\": 3, \"to\": 5}, {\"title\": \"7: (4, 5)\", \"label\": \"2\", \"color\": \"blue\", \"from\": 4, \"to\": 5}];\n",
       "var data= {\n",
       "    nodes: nodes,\n",
       "    edges: edges,\n",
       "};\n",
       "var options = {\"interaction\": {\"navigationButtons\": true}, \"width\": \"600px\", \"height\": 300};\n",
       "var container = document.getElementById('27092959-7d5e-455f-875d-608401aacde5');\n",
       "var network = new vis.Network(container, data, options);\n",
       "network.fit({\n",
       "  maxZoomLevel: 1000});\n",
       "});\n",
       "</script>\n"
      ],
      "text/plain": [
       "<IPython.core.display.HTML object>"
      ]
     },
     "metadata": {},
     "output_type": "display_data"
    }
   ],
   "source": [
    "codomino.show_flow()"
   ]
  },
  {
   "cell_type": "markdown",
   "metadata": {},
   "source": [
    "As this is a pure semi-greedy, the desired edges are indeed null."
   ]
  },
  {
   "cell_type": "code",
   "execution_count": 78,
   "metadata": {
    "ExecuteTime": {
     "end_time": "2022-01-27T13:13:11.937485Z",
     "start_time": "2022-01-27T13:13:11.909158Z"
    }
   },
   "outputs": [
    {
     "data": {
      "text/plain": [
       "array([1.9985296, 0.       , 0.       , 2.0021648, 2.000592 , 0.       ,\n",
       "       0.       , 1.9950912])"
      ]
     },
     "execution_count": 78,
     "metadata": {},
     "output_type": "execute_result"
    }
   ],
   "source": [
    "codomino.simulation"
   ]
  },
  {
   "cell_type": "markdown",
   "metadata": {},
   "source": [
    "But performance is awful!"
   ]
  },
  {
   "cell_type": "code",
   "execution_count": 79,
   "metadata": {
    "ExecuteTime": {
     "end_time": "2022-01-27T13:13:12.739234Z",
     "start_time": "2022-01-27T13:13:11.939488Z"
    }
   },
   "outputs": [
    {
     "data": {
      "image/png": "[encoded data removed]",
      "text/plain": [
       "<Figure size 432x288 with 1 Axes>"
      ]
     },
     "metadata": {
      "needs_background": "light"
     },
     "output_type": "display_data"
    }
   ],
   "source": [
    "fig = codomino.simulator.show_ccdf()"
   ]
  },
  {
   "cell_type": "code",
   "execution_count": 80,
   "metadata": {
    "ExecuteTime": {
     "end_time": "2022-01-27T13:13:12.896828Z",
     "start_time": "2022-01-27T13:13:12.742128Z"
    }
   },
   "outputs": [
    {
     "data": {
      "image/png": "[encoded data removed]",
      "text/plain": [
       "<Figure size 432x288 with 1 Axes>"
      ]
     },
     "metadata": {
      "needs_background": "light"
     },
     "output_type": "display_data"
    }
   ],
   "source": [
    "fig = codomino.simulator.show_average_queues(sort=True, as_time=True)"
   ]
  },
  {
   "cell_type": "markdown",
   "metadata": {},
   "source": [
    "The solution in that case is to use a semi-greedy policy with threshold."
   ]
  },
  {
   "cell_type": "code",
   "execution_count": 81,
   "metadata": {
    "ExecuteTime": {
     "end_time": "2022-01-27T13:13:19.075343Z",
     "start_time": "2022-01-27T13:13:12.900759Z"
    }
   },
   "outputs": [
    {
     "data": {
      "text/plain": [
       "True"
      ]
     },
     "execution_count": 81,
     "metadata": {},
     "output_type": "execute_result"
    }
   ],
   "source": [
    "codomino.run('semi_greedy', forbidden_edges=codomino.vertices[1]['null_edges'], threshold=900, number_events=10000000)"
   ]
  },
  {
   "cell_type": "code",
   "execution_count": 82,
   "metadata": {
    "ExecuteTime": {
     "end_time": "2022-01-27T13:13:19.090346Z",
     "start_time": "2022-01-27T13:13:19.083103Z"
    }
   },
   "outputs": [
    {
     "data": {
      "text/html": [
       "\n",
       "<div id=\"4d4ca399-9aa1-4c60-8f8f-2de40edc7f1a\"></div>\n",
       "<script>\n",
       "require.config({\n",
       "    paths: {\n",
       "        vis: 'https://unpkg.com/vis-network/standalone/umd/vis-network.min'\n",
       "    }\n",
       "});\n",
       "require(['vis'], function(vis){\n",
       "var nodes = [{\"id\": 0, \"label\": \"2\", \"title\": \"0\"}, {\"id\": 1, \"label\": \"4\", \"title\": \"1\"}, {\"id\": 2, \"label\": \"2\", \"title\": \"2\"}, {\"id\": 3, \"label\": \"2\", \"title\": \"3\"}, {\"id\": 4, \"label\": \"4\", \"title\": \"4\"}, {\"id\": 5, \"label\": \"2\", \"title\": \"5\"}];\n",
       "var edges = [{\"title\": \"0: (0, 1)\", \"label\": \"2\", \"color\": \"blue\", \"from\": 0, \"to\": 1}, {\"title\": \"1: (0, 2)\", \"label\": \"0.0023\", \"color\": \"blue\", \"from\": 0, \"to\": 2}, {\"title\": \"2: (1, 2)\", \"label\": \"0.000909\", \"color\": \"blue\", \"from\": 1, \"to\": 2}, {\"title\": \"3: (1, 4)\", \"label\": \"2\", \"color\": \"blue\", \"from\": 1, \"to\": 4}, {\"title\": \"4: (2, 3)\", \"label\": \"2\", \"color\": \"blue\", \"from\": 2, \"to\": 3}, {\"title\": \"5: (3, 4)\", \"label\": \"0.00119\", \"color\": \"blue\", \"from\": 3, \"to\": 4}, {\"title\": \"6: (3, 5)\", \"label\": \"0\", \"color\": \"orange\", \"from\": 3, \"to\": 5}, {\"title\": \"7: (4, 5)\", \"label\": \"2\", \"color\": \"blue\", \"from\": 4, \"to\": 5}];\n",
       "var data= {\n",
       "    nodes: nodes,\n",
       "    edges: edges,\n",
       "};\n",
       "var options = {\"interaction\": {\"navigationButtons\": true}, \"width\": \"600px\", \"height\": 300};\n",
       "var container = document.getElementById('4d4ca399-9aa1-4c60-8f8f-2de40edc7f1a');\n",
       "var network = new vis.Network(container, data, options);\n",
       "network.fit({\n",
       "  maxZoomLevel: 1000});\n",
       "});\n",
       "</script>\n"
      ],
      "text/plain": [
       "<IPython.core.display.HTML object>"
      ]
     },
     "metadata": {},
     "output_type": "display_data"
    }
   ],
   "source": [
    "codomino.show_flow()"
   ]
  },
  {
   "cell_type": "markdown",
   "metadata": {},
   "source": [
    "So this is stable with a limited matching rate on forbidden edges."
   ]
  },
  {
   "cell_type": "code",
   "execution_count": 83,
   "metadata": {
    "ExecuteTime": {
     "end_time": "2022-01-27T13:13:19.105944Z",
     "start_time": "2022-01-27T13:13:19.091594Z"
    }
   },
   "outputs": [
    {
     "data": {
      "text/plain": [
       "array([1.9972288e+00, 2.3040000e-03, 9.0880000e-04, 1.9995008e+00,\n",
       "       1.9956176e+00, 1.1920000e-03, 0.0000000e+00, 2.0019792e+00])"
      ]
     },
     "execution_count": 83,
     "metadata": {},
     "output_type": "execute_result"
    }
   ],
   "source": [
    "codomino.simulation"
   ]
  },
  {
   "cell_type": "markdown",
   "metadata": {},
   "source": [
    "Performance is controlled by the threshold."
   ]
  },
  {
   "cell_type": "code",
   "execution_count": 84,
   "metadata": {
    "ExecuteTime": {
     "end_time": "2022-01-27T13:13:20.045250Z",
     "start_time": "2022-01-27T13:13:19.107510Z"
    }
   },
   "outputs": [
    {
     "data": {
      "image/png": "[encoded data removed]",
      "text/plain": [
       "<Figure size 432x288 with 1 Axes>"
      ]
     },
     "metadata": {
      "needs_background": "light"
     },
     "output_type": "display_data"
    }
   ],
   "source": [
    "fig = codomino.simulator.show_ccdf()"
   ]
  },
  {
   "cell_type": "code",
   "execution_count": 85,
   "metadata": {
    "ExecuteTime": {
     "end_time": "2022-01-27T13:13:20.186282Z",
     "start_time": "2022-01-27T13:13:20.048269Z"
    }
   },
   "outputs": [
    {
     "data": {
      "image/png": "[encoded data removed]",
      "text/plain": [
       "<Figure size 432x288 with 1 Axes>"
      ]
     },
     "metadata": {
      "needs_background": "light"
     },
     "output_type": "display_data"
    }
   ],
   "source": [
    "fig = codomino.simulator.show_average_queues(sort=True, as_time=True)"
   ]
  },
  {
   "cell_type": "code",
   "execution_count": 86,
   "metadata": {
    "ExecuteTime": {
     "end_time": "2022-01-27T13:13:26.112076Z",
     "start_time": "2022-01-27T13:13:20.191009Z"
    }
   },
   "outputs": [
    {
     "data": {
      "text/plain": [
       "True"
      ]
     },
     "execution_count": 86,
     "metadata": {},
     "output_type": "execute_result"
    }
   ],
   "source": [
    "codomino.run('semi_greedy', forbidden_edges=codomino.vertices[1]['null_edges'], threshold=50, number_events=10000000)"
   ]
  },
  {
   "cell_type": "code",
   "execution_count": 87,
   "metadata": {
    "ExecuteTime": {
     "end_time": "2022-01-27T13:13:26.128191Z",
     "start_time": "2022-01-27T13:13:26.114023Z"
    }
   },
   "outputs": [
    {
     "data": {
      "text/html": [
       "\n",
       "<div id=\"f037c21c-608b-43f5-9841-14c433974026\"></div>\n",
       "<script>\n",
       "require.config({\n",
       "    paths: {\n",
       "        vis: 'https://unpkg.com/vis-network/standalone/umd/vis-network.min'\n",
       "    }\n",
       "});\n",
       "require(['vis'], function(vis){\n",
       "var nodes = [{\"id\": 0, \"label\": \"2\", \"title\": \"0\"}, {\"id\": 1, \"label\": \"4\", \"title\": \"1\"}, {\"id\": 2, \"label\": \"2\", \"title\": \"2\"}, {\"id\": 3, \"label\": \"2\", \"title\": \"3\"}, {\"id\": 4, \"label\": \"4\", \"title\": \"4\"}, {\"id\": 5, \"label\": \"2\", \"title\": \"5\"}];\n",
       "var edges = [{\"title\": \"0: (0, 1)\", \"label\": \"1.98\", \"color\": \"blue\", \"from\": 0, \"to\": 1}, {\"title\": \"1: (0, 2)\", \"label\": \"0.0199\", \"color\": \"blue\", \"from\": 0, \"to\": 2}, {\"title\": \"2: (1, 2)\", \"label\": \"0.0245\", \"color\": \"blue\", \"from\": 1, \"to\": 2}, {\"title\": \"3: (1, 4)\", \"label\": \"1.99\", \"color\": \"blue\", \"from\": 1, \"to\": 4}, {\"title\": \"4: (2, 3)\", \"label\": \"1.95\", \"color\": \"blue\", \"from\": 2, \"to\": 3}, {\"title\": \"5: (3, 4)\", \"label\": \"0.0238\", \"color\": \"blue\", \"from\": 3, \"to\": 4}, {\"title\": \"6: (3, 5)\", \"label\": \"0.0199\", \"color\": \"blue\", \"from\": 3, \"to\": 5}, {\"title\": \"7: (4, 5)\", \"label\": \"1.98\", \"color\": \"blue\", \"from\": 4, \"to\": 5}];\n",
       "var data= {\n",
       "    nodes: nodes,\n",
       "    edges: edges,\n",
       "};\n",
       "var options = {\"interaction\": {\"navigationButtons\": true}, \"width\": \"600px\", \"height\": 300};\n",
       "var container = document.getElementById('f037c21c-608b-43f5-9841-14c433974026');\n",
       "var network = new vis.Network(container, data, options);\n",
       "network.fit({\n",
       "  maxZoomLevel: 1000});\n",
       "});\n",
       "</script>\n"
      ],
      "text/plain": [
       "<IPython.core.display.HTML object>"
      ]
     },
     "metadata": {},
     "output_type": "display_data"
    }
   ],
   "source": [
    "codomino.show_flow()"
   ]
  },
  {
   "cell_type": "code",
   "execution_count": 88,
   "metadata": {
    "ExecuteTime": {
     "end_time": "2022-01-27T13:13:26.142832Z",
     "start_time": "2022-01-27T13:13:26.130388Z"
    }
   },
   "outputs": [
    {
     "data": {
      "text/plain": [
       "array([1.9807568, 0.019856 , 0.0244784, 1.994264 , 1.9548768, 0.0237872,\n",
       "       0.0199216, 1.9819664])"
      ]
     },
     "execution_count": 88,
     "metadata": {},
     "output_type": "execute_result"
    }
   ],
   "source": [
    "codomino.simulation"
   ]
  },
  {
   "cell_type": "code",
   "execution_count": 89,
   "metadata": {
    "ExecuteTime": {
     "end_time": "2022-01-27T13:13:27.047432Z",
     "start_time": "2022-01-27T13:13:26.145869Z"
    }
   },
   "outputs": [
    {
     "data": {
      "image/png": "[encoded data removed]",
      "text/plain": [
       "<Figure size 432x288 with 1 Axes>"
      ]
     },
     "metadata": {
      "needs_background": "light"
     },
     "output_type": "display_data"
    }
   ],
   "source": [
    "fig = codomino.simulator.show_ccdf()"
   ]
  },
  {
   "cell_type": "code",
   "execution_count": 90,
   "metadata": {
    "ExecuteTime": {
     "end_time": "2022-01-27T13:13:27.265664Z",
     "start_time": "2022-01-27T13:13:27.050168Z"
    }
   },
   "outputs": [
    {
     "data": {
      "image/png": "[encoded data removed]",
      "text/plain": [
       "<Figure size 432x288 with 1 Axes>"
      ]
     },
     "metadata": {
      "needs_background": "light"
     },
     "output_type": "display_data"
    }
   ],
   "source": [
    "fig = codomino.simulator.show_average_queues(sort=True, as_time=True)"
   ]
  }
 ],
 "metadata": {
  "kernelspec": {
   "display_name": "Python 3 (ipykernel)",
   "language": "python",
   "name": "python3"
  },
  "language_info": {
   "codemirror_mode": {
    "name": "ipython",
    "version": 3
   },
   "file_extension": ".py",
   "mimetype": "text/x-python",
   "name": "python",
   "nbconvert_exporter": "python",
   "pygments_lexer": "ipython3",
   "version": "3.9.7"
  },
  "toc": {
   "base_numbering": 1,
   "nav_menu": {},
   "number_sections": true,
   "sideBar": true,
   "skip_h1_title": true,
   "title_cell": "Table of Contents",
   "title_sidebar": "Contents",
   "toc_cell": false,
   "toc_position": {
    "height": "calc(100% - 180px)",
    "left": "10px",
    "top": "150px",
    "width": "415.99px"
   },
   "toc_section_display": true,
   "toc_window_display": true
  }
 },
 "nbformat": 4,
 "nbformat_minor": 4
}
