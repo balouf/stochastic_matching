{
 "cells": [
  {
   "cell_type": "markdown",
   "metadata": {},
   "source": [
    "# Simulation"
   ]
  },
  {
   "cell_type": "markdown",
   "metadata": {},
   "source": [
    "The simulator allows to observe the behavior of the system under a given policy.\n",
    "\n",
    "The following policies are provided:"
   ]
  },
  {
   "cell_type": "code",
   "execution_count": 1,
   "metadata": {
    "ExecuteTime": {
     "end_time": "2022-01-24T16:14:24.063504Z",
     "start_time": "2022-01-24T16:14:22.673143Z"
    }
   },
   "outputs": [
    {
     "data": {
      "text/plain": [
       "{'virtual_queue': stochastic_matching.simulator.virtual_queue.VQSimulator,\n",
       " 'fcfm': stochastic_matching.simulator.age_based.FCFM,\n",
       " 'random_node': stochastic_matching.simulator.size_based.RandomNodeSimulator,\n",
       " 'longest_queue': stochastic_matching.simulator.size_based.LongestSimulator,\n",
       " 'random_item': stochastic_matching.simulator.size_based.RandomItemSimulator,\n",
       " 'semi_greedy': stochastic_matching.simulator.size_based.SemiGreedy,\n",
       " 'priority': stochastic_matching.simulator.size_based.PrioritySimulator}"
      ]
     },
     "execution_count": 1,
     "metadata": {},
     "output_type": "execute_result"
    }
   ],
   "source": [
    "import stochastic_matching as sm\n",
    "sm.common.get_classes(sm.simulator.generic.Simulator)"
   ]
  },
  {
   "cell_type": "markdown",
   "metadata": {},
   "source": [
    "NB: only simple graphs are considered in the present notebook."
   ]
  },
  {
   "cell_type": "markdown",
   "metadata": {},
   "source": [
    "## Tadpole"
   ]
  },
  {
   "cell_type": "markdown",
   "metadata": {},
   "source": [
    "### Bijective"
   ]
  },
  {
   "cell_type": "markdown",
   "metadata": {},
   "source": [
    "Consider the following tadpole:"
   ]
  },
  {
   "cell_type": "code",
   "execution_count": 2,
   "metadata": {
    "ExecuteTime": {
     "end_time": "2022-01-24T16:14:24.094809Z",
     "start_time": "2022-01-24T16:14:24.066512Z"
    }
   },
   "outputs": [
    {
     "data": {
      "text/html": [
       "\n",
       "<div id=\"7131b3b8-6a3c-4ee6-a41b-e40417925084\"></div>\n",
       "<script>\n",
       "require.config({\n",
       "    paths: {\n",
       "        vis: 'https://unpkg.com/vis-network/standalone/umd/vis-network.min'\n",
       "    }\n",
       "});\n",
       "require(['vis'], function(vis){\n",
       "var nodes = [{\"id\": 0, \"label\": \"0\", \"title\": \"0\"}, {\"id\": 1, \"label\": \"1\", \"title\": \"1\"}, {\"id\": 2, \"label\": \"2\", \"title\": \"2\"}, {\"id\": 3, \"label\": \"3\", \"title\": \"3\"}, {\"id\": 4, \"label\": \"4\", \"title\": \"4\"}, {\"id\": 5, \"label\": \"5\", \"title\": \"5\"}, {\"id\": 6, \"label\": \"6\", \"title\": \"6\"}, {\"id\": 7, \"label\": \"7\", \"title\": \"7\"}];\n",
       "var edges = [{\"title\": \"0: (0, 1)\", \"label\": \"\", \"from\": 0, \"to\": 1}, {\"title\": \"1: (0, 4)\", \"label\": \"\", \"from\": 0, \"to\": 4}, {\"title\": \"2: (1, 2)\", \"label\": \"\", \"from\": 1, \"to\": 2}, {\"title\": \"3: (2, 3)\", \"label\": \"\", \"from\": 2, \"to\": 3}, {\"title\": \"4: (3, 4)\", \"label\": \"\", \"from\": 3, \"to\": 4}, {\"title\": \"5: (4, 5)\", \"label\": \"\", \"from\": 4, \"to\": 5}, {\"title\": \"6: (5, 6)\", \"label\": \"\", \"from\": 5, \"to\": 6}, {\"title\": \"7: (6, 7)\", \"label\": \"\", \"from\": 6, \"to\": 7}];\n",
       "var data= {\n",
       "    nodes: nodes,\n",
       "    edges: edges,\n",
       "};\n",
       "var options = {\"interaction\": {\"navigationButtons\": true}, \"width\": \"600px\", \"height\": 300};\n",
       "var container = document.getElementById('7131b3b8-6a3c-4ee6-a41b-e40417925084');\n",
       "var network = new vis.Network(container, data, options);\n",
       "network.fit({\n",
       "  maxZoomLevel: 1000});\n",
       "});\n",
       "</script>\n"
      ],
      "text/plain": [
       "<IPython.core.display.HTML object>"
      ]
     },
     "metadata": {},
     "output_type": "display_data"
    }
   ],
   "source": [
    "from stochastic_matching.display import VIS_OPTIONS\n",
    "VIS_OPTIONS['height'] = 300\n",
    "tadpole = sm.Tadpole(m=5, n=3, rates='uniform')\n",
    "tadpole.show_graph()"
   ]
  },
  {
   "cell_type": "markdown",
   "metadata": {},
   "source": [
    "This tadpole is not stabilizable: it is bijective and its unique solution has null edges."
   ]
  },
  {
   "cell_type": "code",
   "execution_count": 3,
   "metadata": {
    "ExecuteTime": {
     "end_time": "2022-01-24T16:14:24.110954Z",
     "start_time": "2022-01-24T16:14:24.096823Z"
    }
   },
   "outputs": [
    {
     "data": {
      "text/html": [
       "\n",
       "<div id=\"226d628c-872f-441e-a266-bcbaf4f0fa62\"></div>\n",
       "<script>\n",
       "require.config({\n",
       "    paths: {\n",
       "        vis: 'https://unpkg.com/vis-network/standalone/umd/vis-network.min'\n",
       "    }\n",
       "});\n",
       "require(['vis'], function(vis){\n",
       "var nodes = [{\"id\": 0, \"label\": \"1\", \"title\": \"0\"}, {\"id\": 1, \"label\": \"1\", \"title\": \"1\"}, {\"id\": 2, \"label\": \"1\", \"title\": \"2\"}, {\"id\": 3, \"label\": \"1\", \"title\": \"3\"}, {\"id\": 4, \"label\": \"1\", \"title\": \"4\"}, {\"id\": 5, \"label\": \"1\", \"title\": \"5\"}, {\"id\": 6, \"label\": \"1\", \"title\": \"6\"}, {\"id\": 7, \"label\": \"1\", \"title\": \"7\"}];\n",
       "var edges = [{\"title\": \"0: (0, 1)\", \"label\": \"1\", \"color\": \"blue\", \"from\": 0, \"to\": 1}, {\"title\": \"1: (0, 4)\", \"label\": \"0\", \"color\": \"orange\", \"from\": 0, \"to\": 4}, {\"title\": \"2: (1, 2)\", \"label\": \"0\", \"color\": \"orange\", \"from\": 1, \"to\": 2}, {\"title\": \"3: (2, 3)\", \"label\": \"1\", \"color\": \"blue\", \"from\": 2, \"to\": 3}, {\"title\": \"4: (3, 4)\", \"label\": \"0\", \"color\": \"orange\", \"from\": 3, \"to\": 4}, {\"title\": \"5: (4, 5)\", \"label\": \"1\", \"color\": \"blue\", \"from\": 4, \"to\": 5}, {\"title\": \"6: (5, 6)\", \"label\": \"0\", \"color\": \"orange\", \"from\": 5, \"to\": 6}, {\"title\": \"7: (6, 7)\", \"label\": \"1\", \"color\": \"blue\", \"from\": 6, \"to\": 7}];\n",
       "var data= {\n",
       "    nodes: nodes,\n",
       "    edges: edges,\n",
       "};\n",
       "var options = {\"interaction\": {\"navigationButtons\": true}, \"width\": \"600px\", \"height\": 300};\n",
       "var container = document.getElementById('226d628c-872f-441e-a266-bcbaf4f0fa62');\n",
       "var network = new vis.Network(container, data, options);\n",
       "network.fit({\n",
       "  maxZoomLevel: 1000});\n",
       "});\n",
       "</script>\n"
      ],
      "text/plain": [
       "<IPython.core.display.HTML object>"
      ]
     },
     "metadata": {},
     "output_type": "display_data"
    }
   ],
   "source": [
    "tadpole.show_flow()"
   ]
  },
  {
   "cell_type": "markdown",
   "metadata": {},
   "source": [
    "As a consequence, the system is unstable."
   ]
  },
  {
   "cell_type": "code",
   "execution_count": 4,
   "metadata": {
    "ExecuteTime": {
     "end_time": "2022-01-24T16:14:27.028242Z",
     "start_time": "2022-01-24T16:14:24.113904Z"
    }
   },
   "outputs": [
    {
     "data": {
      "text/plain": [
       "False"
      ]
     },
     "execution_count": 4,
     "metadata": {},
     "output_type": "execute_result"
    }
   ],
   "source": [
    "tadpole.run('fcfm', number_events=10000000)"
   ]
  },
  {
   "cell_type": "markdown",
   "metadata": {},
   "source": [
    "The simulator finished before the end (due to queue overflow)."
   ]
  },
  {
   "cell_type": "code",
   "execution_count": 5,
   "metadata": {
    "ExecuteTime": {
     "end_time": "2022-01-24T16:14:27.043915Z",
     "start_time": "2022-01-24T16:14:27.029333Z"
    }
   },
   "outputs": [
    {
     "data": {
      "text/plain": [
       "2756448"
      ]
     },
     "execution_count": 5,
     "metadata": {},
     "output_type": "execute_result"
    }
   ],
   "source": [
    "tadpole.simulator.logs['steps_done']"
   ]
  },
  {
   "cell_type": "code",
   "execution_count": 6,
   "metadata": {
    "ExecuteTime": {
     "end_time": "2022-01-24T16:14:27.059710Z",
     "start_time": "2022-01-24T16:14:27.048037Z"
    }
   },
   "outputs": [
    {
     "data": {
      "text/html": [
       "\n",
       "<div id=\"af2ff2c3-8d42-4db5-82a8-e9edb2db3429\"></div>\n",
       "<script>\n",
       "require.config({\n",
       "    paths: {\n",
       "        vis: 'https://unpkg.com/vis-network/standalone/umd/vis-network.min'\n",
       "    }\n",
       "});\n",
       "require(['vis'], function(vis){\n",
       "var nodes = [{\"id\": 0, \"label\": \"1\", \"title\": \"0\"}, {\"id\": 1, \"label\": \"1\", \"title\": \"1\"}, {\"id\": 2, \"label\": \"1\", \"title\": \"2\"}, {\"id\": 3, \"label\": \"1\", \"title\": \"3\"}, {\"id\": 4, \"label\": \"1\", \"title\": \"4\"}, {\"id\": 5, \"label\": \"1\", \"title\": \"5\"}, {\"id\": 6, \"label\": \"1\", \"title\": \"6\"}, {\"id\": 7, \"label\": \"1\", \"title\": \"7\"}];\n",
       "var edges = [{\"title\": \"0: (0, 1)\", \"label\": \"0.994\", \"color\": \"blue\", \"from\": 0, \"to\": 1}, {\"title\": \"1: (0, 4)\", \"label\": \"0.00492\", \"color\": \"blue\", \"from\": 0, \"to\": 4}, {\"title\": \"2: (1, 2)\", \"label\": \"0.00725\", \"color\": \"blue\", \"from\": 1, \"to\": 2}, {\"title\": \"3: (2, 3)\", \"label\": \"0.992\", \"color\": \"blue\", \"from\": 2, \"to\": 3}, {\"title\": \"4: (3, 4)\", \"label\": \"0.00716\", \"color\": \"blue\", \"from\": 3, \"to\": 4}, {\"title\": \"5: (4, 5)\", \"label\": \"0.991\", \"color\": \"blue\", \"from\": 4, \"to\": 5}, {\"title\": \"6: (5, 6)\", \"label\": \"0.00786\", \"color\": \"blue\", \"from\": 5, \"to\": 6}, {\"title\": \"7: (6, 7)\", \"label\": \"0.993\", \"color\": \"blue\", \"from\": 6, \"to\": 7}];\n",
       "var data= {\n",
       "    nodes: nodes,\n",
       "    edges: edges,\n",
       "};\n",
       "var options = {\"interaction\": {\"navigationButtons\": true}, \"width\": \"600px\", \"height\": 300};\n",
       "var container = document.getElementById('af2ff2c3-8d42-4db5-82a8-e9edb2db3429');\n",
       "var network = new vis.Network(container, data, options);\n",
       "network.fit({\n",
       "  maxZoomLevel: 1000});\n",
       "});\n",
       "</script>\n"
      ],
      "text/plain": [
       "<IPython.core.display.HTML object>"
      ]
     },
     "metadata": {},
     "output_type": "display_data"
    }
   ],
   "source": [
    "tadpole.show_flow()"
   ]
  },
  {
   "cell_type": "markdown",
   "metadata": {},
   "source": [
    "We can look the CCDFs of the run to see what went wrong:"
   ]
  },
  {
   "cell_type": "code",
   "execution_count": 7,
   "metadata": {
    "ExecuteTime": {
     "end_time": "2022-01-24T16:14:27.822213Z",
     "start_time": "2022-01-24T16:14:27.062072Z"
    }
   },
   "outputs": [
    {
     "data": {
      "image/png": "[encoded data removed]",
      "text/plain": [
       "<Figure size 432x288 with 1 Axes>"
      ]
     },
     "metadata": {
      "needs_background": "light"
     },
     "output_type": "display_data"
    }
   ],
   "source": [
    "fig = tadpole.simulator.show_ccdf(sort=True)"
   ]
  },
  {
   "cell_type": "markdown",
   "metadata": {},
   "source": [
    "Node 7 overflowed, while node 5 was not in a good shape either."
   ]
  },
  {
   "cell_type": "markdown",
   "metadata": {},
   "source": [
    "This can also be showed with average queue sizes:"
   ]
  },
  {
   "cell_type": "code",
   "execution_count": 8,
   "metadata": {
    "ExecuteTime": {
     "end_time": "2022-01-24T16:14:27.963860Z",
     "start_time": "2022-01-24T16:14:27.825037Z"
    }
   },
   "outputs": [
    {
     "data": {
      "image/png": "[encoded data removed]",
      "text/plain": [
       "<Figure size 432x288 with 1 Axes>"
      ]
     },
     "metadata": {
      "needs_background": "light"
     },
     "output_type": "display_data"
    }
   ],
   "source": [
    "fig = tadpole.simulator.show_average_queues(sort=True)"
   ]
  },
  {
   "cell_type": "markdown",
   "metadata": {},
   "source": [
    "Let's change the arrival rates to have something nicer."
   ]
  },
  {
   "cell_type": "code",
   "execution_count": 9,
   "metadata": {
    "ExecuteTime": {
     "end_time": "2022-01-24T16:14:27.979082Z",
     "start_time": "2022-01-24T16:14:27.965843Z"
    }
   },
   "outputs": [],
   "source": [
    "tadpole.rates = [1, 1, 1, 1, 2, 2, 2, 1]"
   ]
  },
  {
   "cell_type": "markdown",
   "metadata": {},
   "source": [
    "We can see that it works!"
   ]
  },
  {
   "cell_type": "code",
   "execution_count": 10,
   "metadata": {
    "ExecuteTime": {
     "end_time": "2022-01-24T16:14:30.635894Z",
     "start_time": "2022-01-24T16:14:27.982139Z"
    }
   },
   "outputs": [
    {
     "data": {
      "text/plain": [
       "True"
      ]
     },
     "execution_count": 10,
     "metadata": {},
     "output_type": "execute_result"
    }
   ],
   "source": [
    "tadpole.run('fcfm', number_events=10000000)"
   ]
  },
  {
   "cell_type": "code",
   "execution_count": 11,
   "metadata": {
    "ExecuteTime": {
     "end_time": "2022-01-24T16:14:30.651077Z",
     "start_time": "2022-01-24T16:14:30.639081Z"
    }
   },
   "outputs": [
    {
     "data": {
      "text/html": [
       "\n",
       "<div id=\"a82174a4-11d7-4004-8902-3092ed535d93\"></div>\n",
       "<script>\n",
       "require.config({\n",
       "    paths: {\n",
       "        vis: 'https://unpkg.com/vis-network/standalone/umd/vis-network.min'\n",
       "    }\n",
       "});\n",
       "require(['vis'], function(vis){\n",
       "var nodes = [{\"id\": 0, \"label\": \"1\", \"title\": \"0\"}, {\"id\": 1, \"label\": \"1\", \"title\": \"1\"}, {\"id\": 2, \"label\": \"1\", \"title\": \"2\"}, {\"id\": 3, \"label\": \"1\", \"title\": \"3\"}, {\"id\": 4, \"label\": \"2\", \"title\": \"4\"}, {\"id\": 5, \"label\": \"2\", \"title\": \"5\"}, {\"id\": 6, \"label\": \"2\", \"title\": \"6\"}, {\"id\": 7, \"label\": \"1\", \"title\": \"7\"}];\n",
       "var edges = [{\"title\": \"0: (0, 1)\", \"label\": \"0.5\", \"color\": \"blue\", \"from\": 0, \"to\": 1}, {\"title\": \"1: (0, 4)\", \"label\": \"0.499\", \"color\": \"blue\", \"from\": 0, \"to\": 4}, {\"title\": \"2: (1, 2)\", \"label\": \"0.5\", \"color\": \"blue\", \"from\": 1, \"to\": 2}, {\"title\": \"3: (2, 3)\", \"label\": \"0.499\", \"color\": \"blue\", \"from\": 2, \"to\": 3}, {\"title\": \"4: (3, 4)\", \"label\": \"0.501\", \"color\": \"blue\", \"from\": 3, \"to\": 4}, {\"title\": \"5: (4, 5)\", \"label\": \"0.998\", \"color\": \"blue\", \"from\": 4, \"to\": 5}, {\"title\": \"6: (5, 6)\", \"label\": \"1\", \"color\": \"blue\", \"from\": 5, \"to\": 6}, {\"title\": \"7: (6, 7)\", \"label\": \"1\", \"color\": \"blue\", \"from\": 6, \"to\": 7}];\n",
       "var data= {\n",
       "    nodes: nodes,\n",
       "    edges: edges,\n",
       "};\n",
       "var options = {\"interaction\": {\"navigationButtons\": true}, \"width\": \"600px\", \"height\": 300};\n",
       "var container = document.getElementById('a82174a4-11d7-4004-8902-3092ed535d93');\n",
       "var network = new vis.Network(container, data, options);\n",
       "network.fit({\n",
       "  maxZoomLevel: 1000});\n",
       "});\n",
       "</script>\n"
      ],
      "text/plain": [
       "<IPython.core.display.HTML object>"
      ]
     },
     "metadata": {},
     "output_type": "display_data"
    }
   ],
   "source": [
    "tadpole.show_flow()"
   ]
  },
  {
   "cell_type": "markdown",
   "metadata": {},
   "source": [
    "We can see that the queues are much more tight!"
   ]
  },
  {
   "cell_type": "code",
   "execution_count": 12,
   "metadata": {
    "ExecuteTime": {
     "end_time": "2022-01-24T16:14:30.805819Z",
     "start_time": "2022-01-24T16:14:30.654082Z"
    }
   },
   "outputs": [
    {
     "data": {
      "image/png": "[encoded data removed]",
      "text/plain": [
       "<Figure size 432x288 with 1 Axes>"
      ]
     },
     "metadata": {
      "needs_background": "light"
     },
     "output_type": "display_data"
    }
   ],
   "source": [
    "fig = tadpole.simulator.show_average_queues(sort=True)"
   ]
  },
  {
   "cell_type": "markdown",
   "metadata": {},
   "source": [
    "Note that the average queue can be converted in an average waiting time."
   ]
  },
  {
   "cell_type": "code",
   "execution_count": 13,
   "metadata": {
    "ExecuteTime": {
     "end_time": "2022-01-24T16:14:30.931116Z",
     "start_time": "2022-01-24T16:14:30.807806Z"
    }
   },
   "outputs": [
    {
     "data": {
      "image/png": "[encoded data removed]",
      "text/plain": [
       "<Figure size 432x288 with 1 Axes>"
      ]
     },
     "metadata": {
      "needs_background": "light"
     },
     "output_type": "display_data"
    }
   ],
   "source": [
    "fig = tadpole.simulator.show_average_queues(sort=True, as_time=True)"
   ]
  },
  {
   "cell_type": "markdown",
   "metadata": {},
   "source": [
    "### Nonjective"
   ]
  },
  {
   "cell_type": "markdown",
   "metadata": {},
   "source": [
    "Consider the following tadpole:"
   ]
  },
  {
   "cell_type": "code",
   "execution_count": 14,
   "metadata": {
    "ExecuteTime": {
     "end_time": "2022-01-24T16:14:30.946271Z",
     "start_time": "2022-01-24T16:14:30.932864Z"
    }
   },
   "outputs": [],
   "source": [
    "tadpole = sm.Tadpole(rates='uniform', m=4)"
   ]
  },
  {
   "cell_type": "markdown",
   "metadata": {},
   "source": [
    "It is bipartite and does not verify the stability condition NCond (even bipartite NCond), so all solution break the conservation law."
   ]
  },
  {
   "cell_type": "markdown",
   "metadata": {},
   "source": [
    "Simulation fails:"
   ]
  },
  {
   "cell_type": "code",
   "execution_count": 15,
   "metadata": {
    "ExecuteTime": {
     "end_time": "2022-01-24T16:14:31.304375Z",
     "start_time": "2022-01-24T16:14:30.947914Z"
    }
   },
   "outputs": [
    {
     "data": {
      "text/plain": [
       "False"
      ]
     },
     "execution_count": 15,
     "metadata": {},
     "output_type": "execute_result"
    }
   ],
   "source": [
    "tadpole.run('fcfm', number_events=10000000, max_queue=100000)"
   ]
  },
  {
   "cell_type": "code",
   "execution_count": 16,
   "metadata": {
    "ExecuteTime": {
     "end_time": "2022-01-24T16:14:31.320635Z",
     "start_time": "2022-01-24T16:14:31.307315Z"
    }
   },
   "outputs": [
    {
     "data": {
      "text/html": [
       "\n",
       "<div id=\"0373aea7-d97c-43ca-8503-be43a32e5be0\"></div>\n",
       "<script>\n",
       "require.config({\n",
       "    paths: {\n",
       "        vis: 'https://unpkg.com/vis-network/standalone/umd/vis-network.min'\n",
       "    }\n",
       "});\n",
       "require(['vis'], function(vis){\n",
       "var nodes = [{\"id\": 0, \"label\": \"1\", \"title\": \"0\", \"color\": \"red\"}, {\"id\": 1, \"label\": \"1\", \"title\": \"1\"}, {\"id\": 2, \"label\": \"1\", \"title\": \"2\", \"color\": \"red\"}, {\"id\": 3, \"label\": \"1\", \"title\": \"3\"}, {\"id\": 4, \"label\": \"1\", \"title\": \"4\", \"color\": \"red\"}];\n",
       "var edges = [{\"title\": \"0: (0, 1)\", \"label\": \"0.499\", \"color\": \"blue\", \"from\": 0, \"to\": 1}, {\"title\": \"1: (0, 3)\", \"label\": \"0.167\", \"color\": \"blue\", \"from\": 0, \"to\": 3}, {\"title\": \"2: (1, 2)\", \"label\": \"0.502\", \"color\": \"blue\", \"from\": 1, \"to\": 2}, {\"title\": \"3: (2, 3)\", \"label\": \"0.167\", \"color\": \"blue\", \"from\": 2, \"to\": 3}, {\"title\": \"4: (3, 4)\", \"label\": \"0.667\", \"color\": \"blue\", \"from\": 3, \"to\": 4}];\n",
       "var data= {\n",
       "    nodes: nodes,\n",
       "    edges: edges,\n",
       "};\n",
       "var options = {\"interaction\": {\"navigationButtons\": true}, \"width\": \"600px\", \"height\": 300};\n",
       "var container = document.getElementById('0373aea7-d97c-43ca-8503-be43a32e5be0');\n",
       "var network = new vis.Network(container, data, options);\n",
       "network.fit({\n",
       "  maxZoomLevel: 1000});\n",
       "});\n",
       "</script>\n"
      ],
      "text/plain": [
       "<IPython.core.display.HTML object>"
      ]
     },
     "metadata": {},
     "output_type": "display_data"
    }
   ],
   "source": [
    "tadpole.show_flow()"
   ]
  },
  {
   "cell_type": "markdown",
   "metadata": {},
   "source": [
    "Nodes 0, 2, and 4 are in limbo."
   ]
  },
  {
   "cell_type": "code",
   "execution_count": 17,
   "metadata": {
    "ExecuteTime": {
     "end_time": "2022-01-24T16:14:31.459494Z",
     "start_time": "2022-01-24T16:14:31.323743Z"
    }
   },
   "outputs": [
    {
     "data": {
      "image/png": "[encoded data removed]",
      "text/plain": [
       "<Figure size 432x288 with 1 Axes>"
      ]
     },
     "metadata": {
      "needs_background": "light"
     },
     "output_type": "display_data"
    }
   ],
   "source": [
    "fig = tadpole.simulator.show_average_queues()"
   ]
  },
  {
   "cell_type": "markdown",
   "metadata": {},
   "source": [
    "Let's change the arrival rates to have bipartite NCond (which is not non-bipartite NCond)."
   ]
  },
  {
   "cell_type": "code",
   "execution_count": 18,
   "metadata": {
    "ExecuteTime": {
     "end_time": "2022-01-24T16:14:31.475365Z",
     "start_time": "2022-01-24T16:14:31.462096Z"
    }
   },
   "outputs": [],
   "source": [
    "tadpole.rates = [1, 1, 1, 2, 1]"
   ]
  },
  {
   "cell_type": "code",
   "execution_count": 19,
   "metadata": {
    "ExecuteTime": {
     "end_time": "2022-01-24T16:14:31.755239Z",
     "start_time": "2022-01-24T16:14:31.477816Z"
    }
   },
   "outputs": [
    {
     "data": {
      "text/plain": [
       "True"
      ]
     },
     "execution_count": 19,
     "metadata": {},
     "output_type": "execute_result"
    }
   ],
   "source": [
    "tadpole.run('fcfm', number_events=1000000)"
   ]
  },
  {
   "cell_type": "markdown",
   "metadata": {},
   "source": [
    "We can see that it works! FCFM seems to stabilizes even if NCond is not met."
   ]
  },
  {
   "cell_type": "code",
   "execution_count": 20,
   "metadata": {
    "ExecuteTime": {
     "end_time": "2022-01-24T16:14:31.770807Z",
     "start_time": "2022-01-24T16:14:31.757808Z"
    }
   },
   "outputs": [
    {
     "data": {
      "text/html": [
       "\n",
       "<div id=\"fd28157b-a2b0-4de2-bf9e-2e8d68654cf3\"></div>\n",
       "<script>\n",
       "require.config({\n",
       "    paths: {\n",
       "        vis: 'https://unpkg.com/vis-network/standalone/umd/vis-network.min'\n",
       "    }\n",
       "});\n",
       "require(['vis'], function(vis){\n",
       "var nodes = [{\"id\": 0, \"label\": \"1\", \"title\": \"0\"}, {\"id\": 1, \"label\": \"1\", \"title\": \"1\"}, {\"id\": 2, \"label\": \"1\", \"title\": \"2\"}, {\"id\": 3, \"label\": \"2\", \"title\": \"3\"}, {\"id\": 4, \"label\": \"1\", \"title\": \"4\"}];\n",
       "var edges = [{\"title\": \"0: (0, 1)\", \"label\": \"0.501\", \"color\": \"blue\", \"from\": 0, \"to\": 1}, {\"title\": \"1: (0, 3)\", \"label\": \"0.496\", \"color\": \"blue\", \"from\": 0, \"to\": 3}, {\"title\": \"2: (1, 2)\", \"label\": \"0.5\", \"color\": \"blue\", \"from\": 1, \"to\": 2}, {\"title\": \"3: (2, 3)\", \"label\": \"0.501\", \"color\": \"blue\", \"from\": 2, \"to\": 3}, {\"title\": \"4: (3, 4)\", \"label\": \"1\", \"color\": \"blue\", \"from\": 3, \"to\": 4}];\n",
       "var data= {\n",
       "    nodes: nodes,\n",
       "    edges: edges,\n",
       "};\n",
       "var options = {\"interaction\": {\"navigationButtons\": true}, \"width\": \"600px\", \"height\": 300};\n",
       "var container = document.getElementById('fd28157b-a2b0-4de2-bf9e-2e8d68654cf3');\n",
       "var network = new vis.Network(container, data, options);\n",
       "network.fit({\n",
       "  maxZoomLevel: 1000});\n",
       "});\n",
       "</script>\n"
      ],
      "text/plain": [
       "<IPython.core.display.HTML object>"
      ]
     },
     "metadata": {},
     "output_type": "display_data"
    }
   ],
   "source": [
    "tadpole.show_flow()"
   ]
  },
  {
   "cell_type": "code",
   "execution_count": 21,
   "metadata": {
    "ExecuteTime": {
     "end_time": "2022-01-24T16:14:32.391960Z",
     "start_time": "2022-01-24T16:14:31.773949Z"
    }
   },
   "outputs": [
    {
     "data": {
      "image/png": "[encoded data removed]",
      "text/plain": [
       "<Figure size 432x288 with 1 Axes>"
      ]
     },
     "metadata": {
      "needs_background": "light"
     },
     "output_type": "display_data"
    }
   ],
   "source": [
    "fig = tadpole.simulator.show_ccdf()"
   ]
  },
  {
   "cell_type": "markdown",
   "metadata": {},
   "source": [
    "Hum, the queues are quite high. Maybe we didn't wait long enough?"
   ]
  },
  {
   "cell_type": "code",
   "execution_count": 22,
   "metadata": {
    "ExecuteTime": {
     "end_time": "2022-01-24T16:14:33.776540Z",
     "start_time": "2022-01-24T16:14:32.394071Z"
    }
   },
   "outputs": [
    {
     "data": {
      "text/plain": [
       "False"
      ]
     },
     "execution_count": 22,
     "metadata": {},
     "output_type": "execute_result"
    }
   ],
   "source": [
    "tadpole.run('fcfm', number_events=10000000)"
   ]
  },
  {
   "cell_type": "code",
   "execution_count": 23,
   "metadata": {
    "ExecuteTime": {
     "end_time": "2022-01-24T16:14:34.319045Z",
     "start_time": "2022-01-24T16:14:33.779266Z"
    }
   },
   "outputs": [
    {
     "data": {
      "image/png": "[encoded data removed]",
      "text/plain": [
       "<Figure size 432x288 with 1 Axes>"
      ]
     },
     "metadata": {
      "needs_background": "light"
     },
     "output_type": "display_data"
    }
   ],
   "source": [
    "fig = tadpole.simulator.show_ccdf()"
   ]
  },
  {
   "cell_type": "markdown",
   "metadata": {
    "ExecuteTime": {
     "end_time": "2021-04-13T11:22:34.792340Z",
     "start_time": "2021-04-13T11:22:32.465363Z"
    }
   },
   "source": [
    "Not so stable after all... This is not surprising because of the random walk between left and right nodes, which forces queues of arbitrary size if one waits long enough."
   ]
  },
  {
   "cell_type": "markdown",
   "metadata": {},
   "source": [
    "## Diamond"
   ]
  },
  {
   "cell_type": "markdown",
   "metadata": {},
   "source": [
    "Consider the following:"
   ]
  },
  {
   "cell_type": "code",
   "execution_count": 24,
   "metadata": {
    "ExecuteTime": {
     "end_time": "2022-01-24T16:14:34.335357Z",
     "start_time": "2022-01-24T16:14:34.321522Z"
    }
   },
   "outputs": [],
   "source": [
    "diamond = sm.CycleChain(tol=1e-4)\n",
    "ϵ = 0.2\n",
    "diamond.rates = [2, 2+ϵ, 1+ϵ, 1]"
   ]
  },
  {
   "cell_type": "markdown",
   "metadata": {},
   "source": [
    "Try fcfm"
   ]
  },
  {
   "cell_type": "code",
   "execution_count": 25,
   "metadata": {
    "ExecuteTime": {
     "end_time": "2022-01-24T16:14:37.050953Z",
     "start_time": "2022-01-24T16:14:34.337801Z"
    }
   },
   "outputs": [
    {
     "data": {
      "text/plain": [
       "True"
      ]
     },
     "execution_count": 25,
     "metadata": {},
     "output_type": "execute_result"
    }
   ],
   "source": [
    "diamond.run('fcfm', number_events=10000000)"
   ]
  },
  {
   "cell_type": "code",
   "execution_count": 26,
   "metadata": {
    "ExecuteTime": {
     "end_time": "2022-01-24T16:14:37.067178Z",
     "start_time": "2022-01-24T16:14:37.053042Z"
    }
   },
   "outputs": [
    {
     "data": {
      "text/html": [
       "\n",
       "<div id=\"3547713d-4f10-451e-ac0c-37b67a0a6740\"></div>\n",
       "<script>\n",
       "require.config({\n",
       "    paths: {\n",
       "        vis: 'https://unpkg.com/vis-network/standalone/umd/vis-network.min'\n",
       "    }\n",
       "});\n",
       "require(['vis'], function(vis){\n",
       "var nodes = [{\"id\": 0, \"label\": \"2\", \"title\": \"0\"}, {\"id\": 1, \"label\": \"2.2\", \"title\": \"1\"}, {\"id\": 2, \"label\": \"1.2\", \"title\": \"2\"}, {\"id\": 3, \"label\": \"1\", \"title\": \"3\"}];\n",
       "var edges = [{\"title\": \"0: (0, 1)\", \"label\": \"1.33\", \"color\": \"blue\", \"from\": 0, \"to\": 1}, {\"title\": \"1: (0, 2)\", \"label\": \"0.667\", \"color\": \"blue\", \"from\": 0, \"to\": 2}, {\"title\": \"2: (1, 2)\", \"label\": \"0.199\", \"color\": \"blue\", \"from\": 1, \"to\": 2}, {\"title\": \"3: (1, 3)\", \"label\": \"0.666\", \"color\": \"blue\", \"from\": 1, \"to\": 3}, {\"title\": \"4: (2, 3)\", \"label\": \"0.334\", \"color\": \"blue\", \"from\": 2, \"to\": 3}];\n",
       "var data= {\n",
       "    nodes: nodes,\n",
       "    edges: edges,\n",
       "};\n",
       "var options = {\"interaction\": {\"navigationButtons\": true}, \"width\": \"600px\", \"height\": 300};\n",
       "var container = document.getElementById('3547713d-4f10-451e-ac0c-37b67a0a6740');\n",
       "var network = new vis.Network(container, data, options);\n",
       "network.fit({\n",
       "  maxZoomLevel: 1000});\n",
       "});\n",
       "</script>\n"
      ],
      "text/plain": [
       "<IPython.core.display.HTML object>"
      ]
     },
     "metadata": {},
     "output_type": "display_data"
    }
   ],
   "source": [
    "diamond.show_flow()"
   ]
  },
  {
   "cell_type": "markdown",
   "metadata": {},
   "source": [
    "Nodes 0 and 3 are non-empty most of the time."
   ]
  },
  {
   "cell_type": "code",
   "execution_count": 27,
   "metadata": {
    "ExecuteTime": {
     "end_time": "2022-01-24T16:14:37.578386Z",
     "start_time": "2022-01-24T16:14:37.069772Z"
    }
   },
   "outputs": [
    {
     "data": {
      "image/png": "[encoded data removed]",
      "text/plain": [
       "<Figure size 432x288 with 1 Axes>"
      ]
     },
     "metadata": {
      "needs_background": "light"
     },
     "output_type": "display_data"
    }
   ],
   "source": [
    "fig = diamond.simulator.show_ccdf()"
   ]
  },
  {
   "cell_type": "code",
   "execution_count": 28,
   "metadata": {
    "ExecuteTime": {
     "end_time": "2022-01-24T16:14:37.685700Z",
     "start_time": "2022-01-24T16:14:37.584613Z"
    }
   },
   "outputs": [
    {
     "data": {
      "image/png": "[encoded data removed]",
      "text/plain": [
       "<Figure size 432x288 with 1 Axes>"
      ]
     },
     "metadata": {
      "needs_background": "light"
     },
     "output_type": "display_data"
    }
   ],
   "source": [
    "fig = diamond.simulator.show_average_queues(sort=True, as_time=True)"
   ]
  },
  {
   "cell_type": "markdown",
   "metadata": {},
   "source": [
    "Try random node (we use a seed to have a True result; in practice, random node is highly borderline in this example and overflows relatively often)."
   ]
  },
  {
   "cell_type": "code",
   "execution_count": 29,
   "metadata": {
    "ExecuteTime": {
     "end_time": "2022-01-24T16:14:41.444551Z",
     "start_time": "2022-01-24T16:14:37.688233Z"
    }
   },
   "outputs": [
    {
     "data": {
      "text/plain": [
       "True"
      ]
     },
     "execution_count": 29,
     "metadata": {},
     "output_type": "execute_result"
    }
   ],
   "source": [
    "diamond.run('random_node', number_events=10000000, seed=42)"
   ]
  },
  {
   "cell_type": "code",
   "execution_count": 30,
   "metadata": {
    "ExecuteTime": {
     "end_time": "2022-01-24T16:14:41.460143Z",
     "start_time": "2022-01-24T16:14:41.446728Z"
    }
   },
   "outputs": [
    {
     "data": {
      "text/html": [
       "\n",
       "<div id=\"68db7c0e-5544-4efd-88a1-51db72da138c\"></div>\n",
       "<script>\n",
       "require.config({\n",
       "    paths: {\n",
       "        vis: 'https://unpkg.com/vis-network/standalone/umd/vis-network.min'\n",
       "    }\n",
       "});\n",
       "require(['vis'], function(vis){\n",
       "var nodes = [{\"id\": 0, \"label\": \"2\", \"title\": \"0\"}, {\"id\": 1, \"label\": \"2.2\", \"title\": \"1\"}, {\"id\": 2, \"label\": \"1.2\", \"title\": \"2\"}, {\"id\": 3, \"label\": \"1\", \"title\": \"3\"}];\n",
       "var edges = [{\"title\": \"0: (0, 1)\", \"label\": \"1.33\", \"color\": \"blue\", \"from\": 0, \"to\": 1}, {\"title\": \"1: (0, 2)\", \"label\": \"0.666\", \"color\": \"blue\", \"from\": 0, \"to\": 2}, {\"title\": \"2: (1, 2)\", \"label\": \"0.202\", \"color\": \"blue\", \"from\": 1, \"to\": 2}, {\"title\": \"3: (1, 3)\", \"label\": \"0.666\", \"color\": \"blue\", \"from\": 1, \"to\": 3}, {\"title\": \"4: (2, 3)\", \"label\": \"0.333\", \"color\": \"blue\", \"from\": 2, \"to\": 3}];\n",
       "var data= {\n",
       "    nodes: nodes,\n",
       "    edges: edges,\n",
       "};\n",
       "var options = {\"interaction\": {\"navigationButtons\": true}, \"width\": \"600px\", \"height\": 300};\n",
       "var container = document.getElementById('68db7c0e-5544-4efd-88a1-51db72da138c');\n",
       "var network = new vis.Network(container, data, options);\n",
       "network.fit({\n",
       "  maxZoomLevel: 1000});\n",
       "});\n",
       "</script>\n"
      ],
      "text/plain": [
       "<IPython.core.display.HTML object>"
      ]
     },
     "metadata": {},
     "output_type": "display_data"
    }
   ],
   "source": [
    "diamond.show_flow()"
   ]
  },
  {
   "cell_type": "code",
   "execution_count": 31,
   "metadata": {
    "ExecuteTime": {
     "end_time": "2022-01-24T16:14:42.067786Z",
     "start_time": "2022-01-24T16:14:41.463150Z"
    }
   },
   "outputs": [
    {
     "data": {
      "image/png": "[encoded data removed]",
      "text/plain": [
       "<Figure size 432x288 with 1 Axes>"
      ]
     },
     "metadata": {
      "needs_background": "light"
     },
     "output_type": "display_data"
    }
   ],
   "source": [
    "fig = diamond.simulator.show_ccdf()"
   ]
  },
  {
   "cell_type": "code",
   "execution_count": 32,
   "metadata": {
    "ExecuteTime": {
     "end_time": "2022-01-24T16:14:42.176067Z",
     "start_time": "2022-01-24T16:14:42.070973Z"
    }
   },
   "outputs": [
    {
     "data": {
      "image/png": "[encoded data removed]",
      "text/plain": [
       "<Figure size 432x288 with 1 Axes>"
      ]
     },
     "metadata": {
      "needs_background": "light"
     },
     "output_type": "display_data"
    }
   ],
   "source": [
    "fig = diamond.simulator.show_average_queues(sort=True, as_time=True)"
   ]
  },
  {
   "cell_type": "markdown",
   "metadata": {},
   "source": [
    "Try random item."
   ]
  },
  {
   "cell_type": "code",
   "execution_count": 33,
   "metadata": {
    "ExecuteTime": {
     "end_time": "2022-01-24T16:14:45.358883Z",
     "start_time": "2022-01-24T16:14:42.179000Z"
    }
   },
   "outputs": [
    {
     "data": {
      "text/plain": [
       "True"
      ]
     },
     "execution_count": 33,
     "metadata": {},
     "output_type": "execute_result"
    }
   ],
   "source": [
    "diamond.run('random_item', number_events=10000000)"
   ]
  },
  {
   "cell_type": "code",
   "execution_count": 34,
   "metadata": {
    "ExecuteTime": {
     "end_time": "2022-01-24T16:14:45.375056Z",
     "start_time": "2022-01-24T16:14:45.361505Z"
    }
   },
   "outputs": [
    {
     "data": {
      "text/html": [
       "\n",
       "<div id=\"78b399f5-6b8c-4e4e-bbfd-3ac04b668b7f\"></div>\n",
       "<script>\n",
       "require.config({\n",
       "    paths: {\n",
       "        vis: 'https://unpkg.com/vis-network/standalone/umd/vis-network.min'\n",
       "    }\n",
       "});\n",
       "require(['vis'], function(vis){\n",
       "var nodes = [{\"id\": 0, \"label\": \"2\", \"title\": \"0\"}, {\"id\": 1, \"label\": \"2.2\", \"title\": \"1\"}, {\"id\": 2, \"label\": \"1.2\", \"title\": \"2\"}, {\"id\": 3, \"label\": \"1\", \"title\": \"3\"}];\n",
       "var edges = [{\"title\": \"0: (0, 1)\", \"label\": \"1.33\", \"color\": \"blue\", \"from\": 0, \"to\": 1}, {\"title\": \"1: (0, 2)\", \"label\": \"0.667\", \"color\": \"blue\", \"from\": 0, \"to\": 2}, {\"title\": \"2: (1, 2)\", \"label\": \"0.199\", \"color\": \"blue\", \"from\": 1, \"to\": 2}, {\"title\": \"3: (1, 3)\", \"label\": \"0.667\", \"color\": \"blue\", \"from\": 1, \"to\": 3}, {\"title\": \"4: (2, 3)\", \"label\": \"0.335\", \"color\": \"blue\", \"from\": 2, \"to\": 3}];\n",
       "var data= {\n",
       "    nodes: nodes,\n",
       "    edges: edges,\n",
       "};\n",
       "var options = {\"interaction\": {\"navigationButtons\": true}, \"width\": \"600px\", \"height\": 300};\n",
       "var container = document.getElementById('78b399f5-6b8c-4e4e-bbfd-3ac04b668b7f');\n",
       "var network = new vis.Network(container, data, options);\n",
       "network.fit({\n",
       "  maxZoomLevel: 1000});\n",
       "});\n",
       "</script>\n"
      ],
      "text/plain": [
       "<IPython.core.display.HTML object>"
      ]
     },
     "metadata": {},
     "output_type": "display_data"
    }
   ],
   "source": [
    "diamond.show_flow()"
   ]
  },
  {
   "cell_type": "code",
   "execution_count": 35,
   "metadata": {
    "ExecuteTime": {
     "end_time": "2022-01-24T16:14:45.967333Z",
     "start_time": "2022-01-24T16:14:45.377602Z"
    }
   },
   "outputs": [
    {
     "data": {
      "image/png": "[encoded data removed]",
      "text/plain": [
       "<Figure size 432x288 with 1 Axes>"
      ]
     },
     "metadata": {
      "needs_background": "light"
     },
     "output_type": "display_data"
    }
   ],
   "source": [
    "fig = diamond.simulator.show_ccdf()"
   ]
  },
  {
   "cell_type": "code",
   "execution_count": 36,
   "metadata": {
    "ExecuteTime": {
     "end_time": "2022-01-24T16:14:46.076031Z",
     "start_time": "2022-01-24T16:14:45.968855Z"
    }
   },
   "outputs": [
    {
     "data": {
      "image/png": "[encoded data removed]",
      "text/plain": [
       "<Figure size 432x288 with 1 Axes>"
      ]
     },
     "metadata": {
      "needs_background": "light"
     },
     "output_type": "display_data"
    }
   ],
   "source": [
    "fig = diamond.simulator.show_average_queues(sort=True, as_time=True)"
   ]
  },
  {
   "cell_type": "markdown",
   "metadata": {},
   "source": [
    "### Trying to reach an extreme feasible solution with a greedy policy"
   ]
  },
  {
   "cell_type": "markdown",
   "metadata": {},
   "source": [
    "Now we would like to have a greedy policy that tries to move on towards the extreme feasible solutions. Sadly, no such policy exists (cf https://hal.archives-ouvertes.fr/hal-03502084)."
   ]
  },
  {
   "cell_type": "markdown",
   "metadata": {},
   "source": [
    "Yet, we can try to approach them with priority-based greedy selection. First, look at the extreme points (vertices)."
   ]
  },
  {
   "cell_type": "code",
   "execution_count": 37,
   "metadata": {
    "ExecuteTime": {
     "end_time": "2022-01-24T16:14:46.106350Z",
     "start_time": "2022-01-24T16:14:46.078053Z"
    }
   },
   "outputs": [
    {
     "data": {
      "text/html": [
       "\n",
       "<div id=\"7e65733c-b1fe-48d5-84ed-3ad1c9610523\"></div>\n",
       "<script>\n",
       "require.config({\n",
       "    paths: {\n",
       "        vis: 'https://unpkg.com/vis-network/standalone/umd/vis-network.min'\n",
       "    }\n",
       "});\n",
       "require(['vis'], function(vis){\n",
       "var nodes = [{\"id\": 0, \"label\": \"2\", \"title\": \"0\"}, {\"id\": 1, \"label\": \"2.2\", \"title\": \"1\"}, {\"id\": 2, \"label\": \"1.2\", \"title\": \"2\"}, {\"id\": 3, \"label\": \"1\", \"title\": \"3\"}];\n",
       "var edges = [{\"title\": \"0: (0, 1)\", \"label\": \"0.997\", \"color\": \"blue\", \"from\": 0, \"to\": 1}, {\"title\": \"1: (0, 2)\", \"label\": \"1\", \"color\": \"blue\", \"from\": 0, \"to\": 2}, {\"title\": \"2: (1, 2)\", \"label\": \"0.199\", \"color\": \"blue\", \"from\": 1, \"to\": 2}, {\"title\": \"3: (1, 3)\", \"label\": \"1\", \"color\": \"blue\", \"from\": 1, \"to\": 3}, {\"title\": \"4: (2, 3)\", \"label\": \"\", \"color\": \"orange\", \"from\": 2, \"to\": 3}];\n",
       "var data= {\n",
       "    nodes: nodes,\n",
       "    edges: edges,\n",
       "};\n",
       "var options = {\"interaction\": {\"navigationButtons\": true}, \"width\": \"600px\", \"height\": 300};\n",
       "var container = document.getElementById('7e65733c-b1fe-48d5-84ed-3ad1c9610523');\n",
       "var network = new vis.Network(container, data, options);\n",
       "network.fit({\n",
       "  maxZoomLevel: 1000});\n",
       "});\n",
       "</script>\n"
      ],
      "text/plain": [
       "<IPython.core.display.HTML object>"
      ]
     },
     "metadata": {},
     "output_type": "display_data"
    },
    {
     "data": {
      "text/html": [
       "\n",
       "<div id=\"d755563c-d54c-436d-90b0-bb01a4488987\"></div>\n",
       "<script>\n",
       "require.config({\n",
       "    paths: {\n",
       "        vis: 'https://unpkg.com/vis-network/standalone/umd/vis-network.min'\n",
       "    }\n",
       "});\n",
       "require(['vis'], function(vis){\n",
       "var nodes = [{\"id\": 0, \"label\": \"2\", \"title\": \"0\"}, {\"id\": 1, \"label\": \"2.2\", \"title\": \"1\"}, {\"id\": 2, \"label\": \"1.2\", \"title\": \"2\"}, {\"id\": 3, \"label\": \"1\", \"title\": \"3\"}];\n",
       "var edges = [{\"title\": \"0: (0, 1)\", \"label\": \"2\", \"color\": \"blue\", \"from\": 0, \"to\": 1}, {\"title\": \"1: (0, 2)\", \"label\": \"\", \"color\": \"orange\", \"from\": 0, \"to\": 2}, {\"title\": \"2: (1, 2)\", \"label\": \"0.199\", \"color\": \"blue\", \"from\": 1, \"to\": 2}, {\"title\": \"3: (1, 3)\", \"label\": \"\", \"color\": \"orange\", \"from\": 1, \"to\": 3}, {\"title\": \"4: (2, 3)\", \"label\": \"1\", \"color\": \"blue\", \"from\": 2, \"to\": 3}];\n",
       "var data= {\n",
       "    nodes: nodes,\n",
       "    edges: edges,\n",
       "};\n",
       "var options = {\"interaction\": {\"navigationButtons\": true}, \"width\": \"600px\", \"height\": 300};\n",
       "var container = document.getElementById('d755563c-d54c-436d-90b0-bb01a4488987');\n",
       "var network = new vis.Network(container, data, options);\n",
       "network.fit({\n",
       "  maxZoomLevel: 1000});\n",
       "});\n",
       "</script>\n"
      ],
      "text/plain": [
       "<IPython.core.display.HTML object>"
      ]
     },
     "metadata": {},
     "output_type": "display_data"
    }
   ],
   "source": [
    "for i in range(len(diamond.vertices)):\n",
    "    diamond.show_vertex(i)"
   ]
  },
  {
   "cell_type": "markdown",
   "metadata": {},
   "source": [
    "We can see that the first vertex prioritizes edges 1 and 3, while the second one prioritizes edges 0 and 4. Let us see what happens if one uses these priorities in a greedy policy."
   ]
  },
  {
   "cell_type": "code",
   "execution_count": 38,
   "metadata": {
    "ExecuteTime": {
     "end_time": "2022-01-24T16:14:49.837269Z",
     "start_time": "2022-01-24T16:14:46.108036Z"
    }
   },
   "outputs": [
    {
     "data": {
      "text/html": [
       "\n",
       "<div id=\"fedfe6fb-f9b7-470b-b0d3-5ced7f6e180a\"></div>\n",
       "<script>\n",
       "require.config({\n",
       "    paths: {\n",
       "        vis: 'https://unpkg.com/vis-network/standalone/umd/vis-network.min'\n",
       "    }\n",
       "});\n",
       "require(['vis'], function(vis){\n",
       "var nodes = [{\"id\": 0, \"label\": \"2\", \"title\": \"0\"}, {\"id\": 1, \"label\": \"2.2\", \"title\": \"1\"}, {\"id\": 2, \"label\": \"1.2\", \"title\": \"2\"}, {\"id\": 3, \"label\": \"1\", \"title\": \"3\"}];\n",
       "var edges = [{\"title\": \"0: (0, 1)\", \"label\": \"1.07\", \"color\": \"blue\", \"from\": 0, \"to\": 1}, {\"title\": \"1: (0, 2)\", \"label\": \"0.931\", \"color\": \"blue\", \"from\": 0, \"to\": 2}, {\"title\": \"2: (1, 2)\", \"label\": \"0.201\", \"color\": \"blue\", \"from\": 1, \"to\": 2}, {\"title\": \"3: (1, 3)\", \"label\": \"0.931\", \"color\": \"blue\", \"from\": 1, \"to\": 3}, {\"title\": \"4: (2, 3)\", \"label\": \"0.0696\", \"color\": \"blue\", \"from\": 2, \"to\": 3}];\n",
       "var data= {\n",
       "    nodes: nodes,\n",
       "    edges: edges,\n",
       "};\n",
       "var options = {\"interaction\": {\"navigationButtons\": true}, \"width\": \"600px\", \"height\": 300};\n",
       "var container = document.getElementById('fedfe6fb-f9b7-470b-b0d3-5ced7f6e180a');\n",
       "var network = new vis.Network(container, data, options);\n",
       "network.fit({\n",
       "  maxZoomLevel: 1000});\n",
       "});\n",
       "</script>\n"
      ],
      "text/plain": [
       "<IPython.core.display.HTML object>"
      ]
     },
     "metadata": {},
     "output_type": "display_data"
    }
   ],
   "source": [
    "diamond.run('priority', weights=[0, 1, 0, 1, 0], number_events=10000000)\n",
    "diamond.show_flow()"
   ]
  },
  {
   "cell_type": "code",
   "execution_count": 39,
   "metadata": {
    "ExecuteTime": {
     "end_time": "2022-01-24T16:14:53.172267Z",
     "start_time": "2022-01-24T16:14:49.839808Z"
    }
   },
   "outputs": [
    {
     "data": {
      "text/html": [
       "\n",
       "<div id=\"66583eda-75b5-4988-86a6-7b8791270f29\"></div>\n",
       "<script>\n",
       "require.config({\n",
       "    paths: {\n",
       "        vis: 'https://unpkg.com/vis-network/standalone/umd/vis-network.min'\n",
       "    }\n",
       "});\n",
       "require(['vis'], function(vis){\n",
       "var nodes = [{\"id\": 0, \"label\": \"2\", \"title\": \"0\"}, {\"id\": 1, \"label\": \"2.2\", \"title\": \"1\"}, {\"id\": 2, \"label\": \"1.2\", \"title\": \"2\"}, {\"id\": 3, \"label\": \"1\", \"title\": \"3\"}];\n",
       "var edges = [{\"title\": \"0: (0, 1)\", \"label\": \"1.73\", \"color\": \"blue\", \"from\": 0, \"to\": 1}, {\"title\": \"1: (0, 2)\", \"label\": \"0.272\", \"color\": \"blue\", \"from\": 0, \"to\": 2}, {\"title\": \"2: (1, 2)\", \"label\": \"0.199\", \"color\": \"blue\", \"from\": 1, \"to\": 2}, {\"title\": \"3: (1, 3)\", \"label\": \"0.27\", \"color\": \"blue\", \"from\": 1, \"to\": 3}, {\"title\": \"4: (2, 3)\", \"label\": \"0.73\", \"color\": \"blue\", \"from\": 2, \"to\": 3}];\n",
       "var data= {\n",
       "    nodes: nodes,\n",
       "    edges: edges,\n",
       "};\n",
       "var options = {\"interaction\": {\"navigationButtons\": true}, \"width\": \"600px\", \"height\": 300};\n",
       "var container = document.getElementById('66583eda-75b5-4988-86a6-7b8791270f29');\n",
       "var network = new vis.Network(container, data, options);\n",
       "network.fit({\n",
       "  maxZoomLevel: 1000});\n",
       "});\n",
       "</script>\n"
      ],
      "text/plain": [
       "<IPython.core.display.HTML object>"
      ]
     },
     "metadata": {},
     "output_type": "display_data"
    }
   ],
   "source": [
    "diamond.run('priority', weights=[1, 0, 0, 0, 1], number_events=10000000)\n",
    "diamond.show_flow()"
   ]
  },
  {
   "cell_type": "markdown",
   "metadata": {},
   "source": [
    "Not bad, but not perfect. To reach a vertex, we may need to use a semi-greedy policy."
   ]
  },
  {
   "cell_type": "markdown",
   "metadata": {},
   "source": [
    "### Trying to reach an extreme feasible solution with a semi-greedy policy"
   ]
  },
  {
   "cell_type": "code",
   "execution_count": 40,
   "metadata": {
    "ExecuteTime": {
     "end_time": "2022-01-24T16:14:53.187291Z",
     "start_time": "2022-01-24T16:14:53.174269Z"
    }
   },
   "outputs": [
    {
     "data": {
      "text/plain": [
       "[{'kernel_coordinates': array([-0.3347552]),\n",
       "  'edge_coordinates': array([0.99740608, 1.00164032, 0.19934016, 1.0016128 , 0.        ]),\n",
       "  'null_edges': [4],\n",
       "  'bijective': True},\n",
       " {'kernel_coordinates': array([0.6668576]),\n",
       "  'edge_coordinates': array([1.99901888, 0.        , 0.19934016, 0.        , 1.0016128 ]),\n",
       "  'null_edges': [1, 3],\n",
       "  'bijective': False}]"
      ]
     },
     "execution_count": 40,
     "metadata": {},
     "output_type": "execute_result"
    }
   ],
   "source": [
    "diamond.vertices"
   ]
  },
  {
   "cell_type": "markdown",
   "metadata": {},
   "source": [
    "The first kernel is bijective, we just need to forbid the null edge."
   ]
  },
  {
   "cell_type": "code",
   "execution_count": 41,
   "metadata": {
    "ExecuteTime": {
     "end_time": "2022-01-24T16:14:58.587215Z",
     "start_time": "2022-01-24T16:14:53.189707Z"
    }
   },
   "outputs": [
    {
     "data": {
      "text/plain": [
       "True"
      ]
     },
     "execution_count": 41,
     "metadata": {},
     "output_type": "execute_result"
    }
   ],
   "source": [
    "diamond.run('semi_greedy', forbidden_edges=diamond.vertices[0]['null_edges'], number_events=10000000)"
   ]
  },
  {
   "cell_type": "code",
   "execution_count": 42,
   "metadata": {
    "ExecuteTime": {
     "end_time": "2022-01-24T16:14:58.602521Z",
     "start_time": "2022-01-24T16:14:58.589150Z"
    }
   },
   "outputs": [
    {
     "data": {
      "text/html": [
       "\n",
       "<div id=\"d23c579d-e79b-4fc3-bd65-a49fecae2690\"></div>\n",
       "<script>\n",
       "require.config({\n",
       "    paths: {\n",
       "        vis: 'https://unpkg.com/vis-network/standalone/umd/vis-network.min'\n",
       "    }\n",
       "});\n",
       "require(['vis'], function(vis){\n",
       "var nodes = [{\"id\": 0, \"label\": \"2\", \"title\": \"0\"}, {\"id\": 1, \"label\": \"2.2\", \"title\": \"1\"}, {\"id\": 2, \"label\": \"1.2\", \"title\": \"2\"}, {\"id\": 3, \"label\": \"1\", \"title\": \"3\"}];\n",
       "var edges = [{\"title\": \"0: (0, 1)\", \"label\": \"1\", \"color\": \"blue\", \"from\": 0, \"to\": 1}, {\"title\": \"1: (0, 2)\", \"label\": \"1\", \"color\": \"blue\", \"from\": 0, \"to\": 2}, {\"title\": \"2: (1, 2)\", \"label\": \"0.199\", \"color\": \"blue\", \"from\": 1, \"to\": 2}, {\"title\": \"3: (1, 3)\", \"label\": \"1\", \"color\": \"blue\", \"from\": 1, \"to\": 3}, {\"title\": \"4: (2, 3)\", \"label\": \"0\", \"color\": \"orange\", \"from\": 2, \"to\": 3}];\n",
       "var data= {\n",
       "    nodes: nodes,\n",
       "    edges: edges,\n",
       "};\n",
       "var options = {\"interaction\": {\"navigationButtons\": true}, \"width\": \"600px\", \"height\": 300};\n",
       "var container = document.getElementById('d23c579d-e79b-4fc3-bd65-a49fecae2690');\n",
       "var network = new vis.Network(container, data, options);\n",
       "network.fit({\n",
       "  maxZoomLevel: 1000});\n",
       "});\n",
       "</script>\n"
      ],
      "text/plain": [
       "<IPython.core.display.HTML object>"
      ]
     },
     "metadata": {},
     "output_type": "display_data"
    }
   ],
   "source": [
    "diamond.show_flow()"
   ]
  },
  {
   "cell_type": "markdown",
   "metadata": {},
   "source": [
    "We can check that the matching rate on edge 4 is 0."
   ]
  },
  {
   "cell_type": "code",
   "execution_count": 43,
   "metadata": {
    "ExecuteTime": {
     "end_time": "2022-01-24T16:14:58.618232Z",
     "start_time": "2022-01-24T16:14:58.605523Z"
    }
   },
   "outputs": [
    {
     "data": {
      "text/plain": [
       "array([1.000128  , 1.000912  , 0.198784  , 1.00017152, 0.        ])"
      ]
     },
     "execution_count": 43,
     "metadata": {},
     "output_type": "execute_result"
    }
   ],
   "source": [
    "diamond.simulation"
   ]
  },
  {
   "cell_type": "markdown",
   "metadata": {},
   "source": [
    "No noticeable impact on the performance."
   ]
  },
  {
   "cell_type": "code",
   "execution_count": 44,
   "metadata": {
    "ExecuteTime": {
     "end_time": "2022-01-24T16:14:59.146898Z",
     "start_time": "2022-01-24T16:14:58.619875Z"
    }
   },
   "outputs": [
    {
     "data": {
      "image/png": "[encoded data removed]",
      "text/plain": [
       "<Figure size 432x288 with 1 Axes>"
      ]
     },
     "metadata": {
      "needs_background": "light"
     },
     "output_type": "display_data"
    }
   ],
   "source": [
    "fig = diamond.simulator.show_ccdf()"
   ]
  },
  {
   "cell_type": "code",
   "execution_count": 45,
   "metadata": {
    "ExecuteTime": {
     "end_time": "2022-01-24T16:14:59.271968Z",
     "start_time": "2022-01-24T16:14:59.148854Z"
    }
   },
   "outputs": [
    {
     "data": {
      "image/png": "[encoded data removed]",
      "text/plain": [
       "<Figure size 432x288 with 1 Axes>"
      ]
     },
     "metadata": {
      "needs_background": "light"
     },
     "output_type": "display_data"
    }
   ],
   "source": [
    "fig = diamond.simulator.show_average_queues(sort=True, as_time=True)"
   ]
  },
  {
   "cell_type": "markdown",
   "metadata": {},
   "source": [
    "Now we try on the second kernel."
   ]
  },
  {
   "cell_type": "code",
   "execution_count": 46,
   "metadata": {
    "ExecuteTime": {
     "end_time": "2022-01-24T16:15:01.004369Z",
     "start_time": "2022-01-24T16:14:59.275294Z"
    }
   },
   "outputs": [
    {
     "data": {
      "text/plain": [
       "False"
      ]
     },
     "execution_count": 46,
     "metadata": {},
     "output_type": "execute_result"
    }
   ],
   "source": [
    "diamond.run('semi_greedy', forbidden_edges=diamond.vertices[1]['null_edges'], number_events=10000000)"
   ]
  },
  {
   "cell_type": "code",
   "execution_count": 47,
   "metadata": {
    "ExecuteTime": {
     "end_time": "2022-01-24T16:15:01.019547Z",
     "start_time": "2022-01-24T16:15:01.006399Z"
    }
   },
   "outputs": [
    {
     "data": {
      "text/html": [
       "\n",
       "<div id=\"a7004fbe-d8a1-4426-a44f-25c1cc0c63a8\"></div>\n",
       "<script>\n",
       "require.config({\n",
       "    paths: {\n",
       "        vis: 'https://unpkg.com/vis-network/standalone/umd/vis-network.min'\n",
       "    }\n",
       "});\n",
       "require(['vis'], function(vis){\n",
       "var nodes = [{\"id\": 0, \"label\": \"2\", \"title\": \"0\"}, {\"id\": 1, \"label\": \"2.2\", \"title\": \"1\"}, {\"id\": 2, \"label\": \"1.2\", \"title\": \"2\"}, {\"id\": 3, \"label\": \"1\", \"title\": \"3\"}];\n",
       "var edges = [{\"title\": \"0: (0, 1)\", \"label\": \"2\", \"color\": \"blue\", \"from\": 0, \"to\": 1}, {\"title\": \"1: (0, 2)\", \"label\": \"0\", \"color\": \"orange\", \"from\": 0, \"to\": 2}, {\"title\": \"2: (1, 2)\", \"label\": \"0.203\", \"color\": \"blue\", \"from\": 1, \"to\": 2}, {\"title\": \"3: (1, 3)\", \"label\": \"0\", \"color\": \"orange\", \"from\": 1, \"to\": 3}, {\"title\": \"4: (2, 3)\", \"label\": \"0.998\", \"color\": \"blue\", \"from\": 2, \"to\": 3}];\n",
       "var data= {\n",
       "    nodes: nodes,\n",
       "    edges: edges,\n",
       "};\n",
       "var options = {\"interaction\": {\"navigationButtons\": true}, \"width\": \"600px\", \"height\": 300};\n",
       "var container = document.getElementById('a7004fbe-d8a1-4426-a44f-25c1cc0c63a8');\n",
       "var network = new vis.Network(container, data, options);\n",
       "network.fit({\n",
       "  maxZoomLevel: 1000});\n",
       "});\n",
       "</script>\n"
      ],
      "text/plain": [
       "<IPython.core.display.HTML object>"
      ]
     },
     "metadata": {},
     "output_type": "display_data"
    }
   ],
   "source": [
    "diamond.show_flow()"
   ]
  },
  {
   "cell_type": "markdown",
   "metadata": {},
   "source": [
    "So this is unstable but the the matching rate on edges 1 and 3 is 0."
   ]
  },
  {
   "cell_type": "code",
   "execution_count": 48,
   "metadata": {
    "ExecuteTime": {
     "end_time": "2022-01-24T16:15:01.035072Z",
     "start_time": "2022-01-24T16:15:01.021872Z"
    }
   },
   "outputs": [
    {
     "data": {
      "text/plain": [
       "array([1.99512693, 0.        , 0.20336808, 0.        , 0.99846916])"
      ]
     },
     "execution_count": 48,
     "metadata": {},
     "output_type": "execute_result"
    }
   ],
   "source": [
    "diamond.simulation"
   ]
  },
  {
   "cell_type": "markdown",
   "metadata": {},
   "source": [
    "Performance is bad, as the vertex is bipartite."
   ]
  },
  {
   "cell_type": "code",
   "execution_count": 49,
   "metadata": {
    "ExecuteTime": {
     "end_time": "2022-01-24T16:15:01.469731Z",
     "start_time": "2022-01-24T16:15:01.037181Z"
    }
   },
   "outputs": [
    {
     "data": {
      "image/png": "[encoded data removed]",
      "text/plain": [
       "<Figure size 432x288 with 1 Axes>"
      ]
     },
     "metadata": {
      "needs_background": "light"
     },
     "output_type": "display_data"
    }
   ],
   "source": [
    "fig = diamond.simulator.show_ccdf()"
   ]
  },
  {
   "cell_type": "code",
   "execution_count": 50,
   "metadata": {
    "ExecuteTime": {
     "end_time": "2022-01-24T16:15:01.595040Z",
     "start_time": "2022-01-24T16:15:01.472131Z"
    }
   },
   "outputs": [
    {
     "data": {
      "image/png": "[encoded data removed]",
      "text/plain": [
       "<Figure size 432x288 with 1 Axes>"
      ]
     },
     "metadata": {
      "needs_background": "light"
     },
     "output_type": "display_data"
    }
   ],
   "source": [
    "fig = diamond.simulator.show_average_queues(sort=True, as_time=True)"
   ]
  },
  {
   "cell_type": "markdown",
   "metadata": {},
   "source": [
    "The solution in that case is to use a semi-greedy policy with threshold."
   ]
  },
  {
   "cell_type": "code",
   "execution_count": 51,
   "metadata": {
    "ExecuteTime": {
     "end_time": "2022-01-24T16:15:06.212686Z",
     "start_time": "2022-01-24T16:15:01.597041Z"
    }
   },
   "outputs": [
    {
     "data": {
      "text/plain": [
       "True"
      ]
     },
     "execution_count": 51,
     "metadata": {},
     "output_type": "execute_result"
    }
   ],
   "source": [
    "diamond.run('semi_greedy', forbidden_edges=diamond.vertices[1]['null_edges'], threshold=500, number_events=10000000)"
   ]
  },
  {
   "cell_type": "code",
   "execution_count": 52,
   "metadata": {
    "ExecuteTime": {
     "end_time": "2022-01-24T16:15:06.228118Z",
     "start_time": "2022-01-24T16:15:06.216707Z"
    }
   },
   "outputs": [
    {
     "data": {
      "text/html": [
       "\n",
       "<div id=\"68ed0575-6905-40c0-b08f-0c17a6c098e1\"></div>\n",
       "<script>\n",
       "require.config({\n",
       "    paths: {\n",
       "        vis: 'https://unpkg.com/vis-network/standalone/umd/vis-network.min'\n",
       "    }\n",
       "});\n",
       "require(['vis'], function(vis){\n",
       "var nodes = [{\"id\": 0, \"label\": \"2\", \"title\": \"0\"}, {\"id\": 1, \"label\": \"2.2\", \"title\": \"1\"}, {\"id\": 2, \"label\": \"1.2\", \"title\": \"2\"}, {\"id\": 3, \"label\": \"1\", \"title\": \"3\"}];\n",
       "var edges = [{\"title\": \"0: (0, 1)\", \"label\": \"2\", \"color\": \"blue\", \"from\": 0, \"to\": 1}, {\"title\": \"1: (0, 2)\", \"label\": \"0.0006\", \"color\": \"blue\", \"from\": 0, \"to\": 2}, {\"title\": \"2: (1, 2)\", \"label\": \"0.201\", \"color\": \"blue\", \"from\": 1, \"to\": 2}, {\"title\": \"3: (1, 3)\", \"label\": \"0\", \"color\": \"orange\", \"from\": 1, \"to\": 3}, {\"title\": \"4: (2, 3)\", \"label\": \"0.998\", \"color\": \"blue\", \"from\": 2, \"to\": 3}];\n",
       "var data= {\n",
       "    nodes: nodes,\n",
       "    edges: edges,\n",
       "};\n",
       "var options = {\"interaction\": {\"navigationButtons\": true}, \"width\": \"600px\", \"height\": 300};\n",
       "var container = document.getElementById('68ed0575-6905-40c0-b08f-0c17a6c098e1');\n",
       "var network = new vis.Network(container, data, options);\n",
       "network.fit({\n",
       "  maxZoomLevel: 1000});\n",
       "});\n",
       "</script>\n"
      ],
      "text/plain": [
       "<IPython.core.display.HTML object>"
      ]
     },
     "metadata": {},
     "output_type": "display_data"
    }
   ],
   "source": [
    "diamond.show_flow()"
   ]
  },
  {
   "cell_type": "markdown",
   "metadata": {},
   "source": [
    "So this is stable with a limited matching rate on edges 1 and 3."
   ]
  },
  {
   "cell_type": "code",
   "execution_count": 53,
   "metadata": {
    "ExecuteTime": {
     "end_time": "2022-01-24T16:15:06.242828Z",
     "start_time": "2022-01-24T16:15:06.230566Z"
    }
   },
   "outputs": [
    {
     "data": {
      "text/plain": [
       "array([1.99940288e+00, 6.00320000e-04, 2.01430400e-01, 0.00000000e+00,\n",
       "       9.98465280e-01])"
      ]
     },
     "execution_count": 53,
     "metadata": {},
     "output_type": "execute_result"
    }
   ],
   "source": [
    "diamond.simulation"
   ]
  },
  {
   "cell_type": "markdown",
   "metadata": {},
   "source": [
    "Performance is controlled by the threshold."
   ]
  },
  {
   "cell_type": "code",
   "execution_count": 54,
   "metadata": {
    "ExecuteTime": {
     "end_time": "2022-01-24T16:15:06.772076Z",
     "start_time": "2022-01-24T16:15:06.245878Z"
    }
   },
   "outputs": [
    {
     "data": {
      "image/png": "[encoded data removed]",
      "text/plain": [
       "<Figure size 432x288 with 1 Axes>"
      ]
     },
     "metadata": {
      "needs_background": "light"
     },
     "output_type": "display_data"
    }
   ],
   "source": [
    "fig = diamond.simulator.show_ccdf()"
   ]
  },
  {
   "cell_type": "code",
   "execution_count": 55,
   "metadata": {
    "ExecuteTime": {
     "end_time": "2022-01-24T16:15:06.880888Z",
     "start_time": "2022-01-24T16:15:06.776302Z"
    }
   },
   "outputs": [
    {
     "data": {
      "image/png": "[encoded data removed]",
      "text/plain": [
       "<Figure size 432x288 with 1 Axes>"
      ]
     },
     "metadata": {
      "needs_background": "light"
     },
     "output_type": "display_data"
    }
   ],
   "source": [
    "fig = diamond.simulator.show_average_queues(sort=True, as_time=True)"
   ]
  },
  {
   "cell_type": "markdown",
   "metadata": {},
   "source": [
    "## Fish"
   ]
  },
  {
   "cell_type": "markdown",
   "metadata": {},
   "source": [
    "The purpose of this example is to show a case where a family of greedy with priorities can asymptotically reach the vertices."
   ]
  },
  {
   "cell_type": "code",
   "execution_count": 56,
   "metadata": {
    "ExecuteTime": {
     "end_time": "2022-01-24T16:15:06.895956Z",
     "start_time": "2022-01-24T16:15:06.882320Z"
    }
   },
   "outputs": [
    {
     "data": {
      "text/html": [
       "\n",
       "<div id=\"4f625930-2513-41e6-b654-405c2094f9b6\"></div>\n",
       "<script>\n",
       "require.config({\n",
       "    paths: {\n",
       "        vis: 'https://unpkg.com/vis-network/standalone/umd/vis-network.min'\n",
       "    }\n",
       "});\n",
       "require(['vis'], function(vis){\n",
       "var nodes = [{\"id\": 0, \"label\": \"1\", \"title\": \"0: 1\"}, {\"id\": 1, \"label\": \"2\", \"title\": \"1: 2\"}, {\"id\": 2, \"label\": \"3\", \"title\": \"2: 3\"}, {\"id\": 3, \"label\": \"4\", \"title\": \"3: 4\"}, {\"id\": 4, \"label\": \"5\", \"title\": \"4: 5\"}, {\"id\": 5, \"label\": \"6\", \"title\": \"5: 6\"}];\n",
       "var edges = [{\"title\": \"0: (1, 2)\", \"label\": \"\", \"from\": 0, \"to\": 1}, {\"title\": \"1: (1, 3)\", \"label\": \"\", \"from\": 0, \"to\": 2}, {\"title\": \"2: (2, 3)\", \"label\": \"\", \"from\": 1, \"to\": 2}, {\"title\": \"3: (3, 4)\", \"label\": \"\", \"from\": 2, \"to\": 3}, {\"title\": \"4: (3, 6)\", \"label\": \"\", \"from\": 2, \"to\": 5}, {\"title\": \"5: (4, 5)\", \"label\": \"\", \"from\": 3, \"to\": 4}, {\"title\": \"6: (5, 6)\", \"label\": \"\", \"from\": 4, \"to\": 5}];\n",
       "var data= {\n",
       "    nodes: nodes,\n",
       "    edges: edges,\n",
       "};\n",
       "var options = {\"interaction\": {\"navigationButtons\": true}, \"width\": \"600px\", \"height\": 300};\n",
       "var container = document.getElementById('4f625930-2513-41e6-b654-405c2094f9b6');\n",
       "var network = new vis.Network(container, data, options);\n",
       "network.fit({\n",
       "  maxZoomLevel: 1000});\n",
       "});\n",
       "</script>\n"
      ],
      "text/plain": [
       "<IPython.core.display.HTML object>"
      ]
     },
     "metadata": {},
     "output_type": "display_data"
    }
   ],
   "source": [
    "fish = sm.KayakPaddle(l=0, m=4, names=[str(i) for i in range(1, 7)], rates = [4, 4, 3, 2, 3, 2])\n",
    "fish.show_graph()"
   ]
  },
  {
   "cell_type": "markdown",
   "metadata": {},
   "source": [
    "Look at the vertices:"
   ]
  },
  {
   "cell_type": "code",
   "execution_count": 57,
   "metadata": {
    "ExecuteTime": {
     "end_time": "2022-01-24T16:15:06.927357Z",
     "start_time": "2022-01-24T16:15:06.898485Z"
    }
   },
   "outputs": [
    {
     "data": {
      "text/html": [
       "\n",
       "<div id=\"f01b5c10-3e7b-4b50-b2c9-7218845341f8\"></div>\n",
       "<script>\n",
       "require.config({\n",
       "    paths: {\n",
       "        vis: 'https://unpkg.com/vis-network/standalone/umd/vis-network.min'\n",
       "    }\n",
       "});\n",
       "require(['vis'], function(vis){\n",
       "var nodes = [{\"id\": 0, \"label\": \"1\", \"title\": \"0: 1\"}, {\"id\": 1, \"label\": \"2\", \"title\": \"1: 2\"}, {\"id\": 2, \"label\": \"3\", \"title\": \"2: 3\"}, {\"id\": 3, \"label\": \"4\", \"title\": \"3: 4\"}, {\"id\": 4, \"label\": \"5\", \"title\": \"4: 5\"}, {\"id\": 5, \"label\": \"6\", \"title\": \"5: 6\"}];\n",
       "var edges = [{\"title\": \"0: (1, 2)\", \"label\": \"3\", \"color\": \"blue\", \"from\": 0, \"to\": 1}, {\"title\": \"1: (1, 3)\", \"label\": \"1\", \"color\": \"blue\", \"from\": 0, \"to\": 2}, {\"title\": \"2: (2, 3)\", \"label\": \"1\", \"color\": \"blue\", \"from\": 1, \"to\": 2}, {\"title\": \"3: (3, 4)\", \"label\": \"\", \"color\": \"orange\", \"from\": 2, \"to\": 3}, {\"title\": \"4: (3, 6)\", \"label\": \"1\", \"color\": \"blue\", \"from\": 2, \"to\": 5}, {\"title\": \"5: (4, 5)\", \"label\": \"2\", \"color\": \"blue\", \"from\": 3, \"to\": 4}, {\"title\": \"6: (5, 6)\", \"label\": \"1\", \"color\": \"blue\", \"from\": 4, \"to\": 5}];\n",
       "var data= {\n",
       "    nodes: nodes,\n",
       "    edges: edges,\n",
       "};\n",
       "var options = {\"interaction\": {\"navigationButtons\": true}, \"width\": \"600px\", \"height\": 300};\n",
       "var container = document.getElementById('f01b5c10-3e7b-4b50-b2c9-7218845341f8');\n",
       "var network = new vis.Network(container, data, options);\n",
       "network.fit({\n",
       "  maxZoomLevel: 1000});\n",
       "});\n",
       "</script>\n"
      ],
      "text/plain": [
       "<IPython.core.display.HTML object>"
      ]
     },
     "metadata": {},
     "output_type": "display_data"
    },
    {
     "data": {
      "text/html": [
       "\n",
       "<div id=\"6c8841b0-351a-4cef-83da-e0d381617b75\"></div>\n",
       "<script>\n",
       "require.config({\n",
       "    paths: {\n",
       "        vis: 'https://unpkg.com/vis-network/standalone/umd/vis-network.min'\n",
       "    }\n",
       "});\n",
       "require(['vis'], function(vis){\n",
       "var nodes = [{\"id\": 0, \"label\": \"1\", \"title\": \"0: 1\"}, {\"id\": 1, \"label\": \"2\", \"title\": \"1: 2\"}, {\"id\": 2, \"label\": \"3\", \"title\": \"2: 3\"}, {\"id\": 3, \"label\": \"4\", \"title\": \"3: 4\"}, {\"id\": 4, \"label\": \"5\", \"title\": \"4: 5\"}, {\"id\": 5, \"label\": \"6\", \"title\": \"5: 6\"}];\n",
       "var edges = [{\"title\": \"0: (1, 2)\", \"label\": \"3\", \"color\": \"blue\", \"from\": 0, \"to\": 1}, {\"title\": \"1: (1, 3)\", \"label\": \"1\", \"color\": \"blue\", \"from\": 0, \"to\": 2}, {\"title\": \"2: (2, 3)\", \"label\": \"1\", \"color\": \"blue\", \"from\": 1, \"to\": 2}, {\"title\": \"3: (3, 4)\", \"label\": \"1\", \"color\": \"blue\", \"from\": 2, \"to\": 3}, {\"title\": \"4: (3, 6)\", \"label\": \"\", \"color\": \"orange\", \"from\": 2, \"to\": 5}, {\"title\": \"5: (4, 5)\", \"label\": \"1\", \"color\": \"blue\", \"from\": 3, \"to\": 4}, {\"title\": \"6: (5, 6)\", \"label\": \"2\", \"color\": \"blue\", \"from\": 4, \"to\": 5}];\n",
       "var data= {\n",
       "    nodes: nodes,\n",
       "    edges: edges,\n",
       "};\n",
       "var options = {\"interaction\": {\"navigationButtons\": true}, \"width\": \"600px\", \"height\": 300};\n",
       "var container = document.getElementById('6c8841b0-351a-4cef-83da-e0d381617b75');\n",
       "var network = new vis.Network(container, data, options);\n",
       "network.fit({\n",
       "  maxZoomLevel: 1000});\n",
       "});\n",
       "</script>\n"
      ],
      "text/plain": [
       "<IPython.core.display.HTML object>"
      ]
     },
     "metadata": {},
     "output_type": "display_data"
    }
   ],
   "source": [
    "for i in range(len(fish.vertices)):\n",
    "    fish.show_vertex(i, disp_rates=False)"
   ]
  },
  {
   "cell_type": "markdown",
   "metadata": {},
   "source": [
    "Let us try to nullify the edge between 3 and 6 with adapted priorities. As this may be unstable, let us pick a large max queue."
   ]
  },
  {
   "cell_type": "code",
   "execution_count": 58,
   "metadata": {
    "ExecuteTime": {
     "end_time": "2022-01-24T16:15:10.453179Z",
     "start_time": "2022-01-24T16:15:06.930394Z"
    }
   },
   "outputs": [
    {
     "data": {
      "text/plain": [
       "True"
      ]
     },
     "execution_count": 58,
     "metadata": {},
     "output_type": "execute_result"
    }
   ],
   "source": [
    "weights = [0, 2, 2, 1, 0, 0, 1]\n",
    "fish.run('priority', weights=weights, number_events=10000000, max_queue=1000000)"
   ]
  },
  {
   "cell_type": "code",
   "execution_count": 59,
   "metadata": {
    "ExecuteTime": {
     "end_time": "2022-01-24T16:15:10.468584Z",
     "start_time": "2022-01-24T16:15:10.456171Z"
    }
   },
   "outputs": [
    {
     "data": {
      "text/html": [
       "\n",
       "<div id=\"a58e4ac2-4282-4cde-b3a7-177b786b983a\"></div>\n",
       "<script>\n",
       "require.config({\n",
       "    paths: {\n",
       "        vis: 'https://unpkg.com/vis-network/standalone/umd/vis-network.min'\n",
       "    }\n",
       "});\n",
       "require(['vis'], function(vis){\n",
       "var nodes = [{\"id\": 0, \"label\": \"1\", \"title\": \"0: 1\"}, {\"id\": 1, \"label\": \"2\", \"title\": \"1: 2\"}, {\"id\": 2, \"label\": \"3\", \"title\": \"2: 3\"}, {\"id\": 3, \"label\": \"4\", \"title\": \"3: 4\", \"color\": \"red\"}, {\"id\": 4, \"label\": \"5\", \"title\": \"4: 5\"}, {\"id\": 5, \"label\": \"6\", \"title\": \"5: 6\"}];\n",
       "var edges = [{\"title\": \"0: (1, 2)\", \"label\": \"2.91\", \"color\": \"blue\", \"from\": 0, \"to\": 1}, {\"title\": \"1: (1, 3)\", \"label\": \"1.09\", \"color\": \"blue\", \"from\": 0, \"to\": 2}, {\"title\": \"2: (2, 3)\", \"label\": \"1.09\", \"color\": \"blue\", \"from\": 1, \"to\": 2}, {\"title\": \"3: (3, 4)\", \"label\": \"0.818\", \"color\": \"blue\", \"from\": 2, \"to\": 3}, {\"title\": \"4: (3, 6)\", \"label\": \"3.6e-06\", \"color\": \"blue\", \"from\": 2, \"to\": 5}, {\"title\": \"5: (4, 5)\", \"label\": \"1\", \"color\": \"blue\", \"from\": 3, \"to\": 4}, {\"title\": \"6: (5, 6)\", \"label\": \"2\", \"color\": \"blue\", \"from\": 4, \"to\": 5}];\n",
       "var data= {\n",
       "    nodes: nodes,\n",
       "    edges: edges,\n",
       "};\n",
       "var options = {\"interaction\": {\"navigationButtons\": true}, \"width\": \"600px\", \"height\": 300};\n",
       "var container = document.getElementById('a58e4ac2-4282-4cde-b3a7-177b786b983a');\n",
       "var network = new vis.Network(container, data, options);\n",
       "network.fit({\n",
       "  maxZoomLevel: 1000});\n",
       "});\n",
       "</script>\n"
      ],
      "text/plain": [
       "<IPython.core.display.HTML object>"
      ]
     },
     "metadata": {},
     "output_type": "display_data"
    }
   ],
   "source": [
    "fish.show_flow(disp_rates=False)"
   ]
  },
  {
   "cell_type": "markdown",
   "metadata": {},
   "source": [
    "So we managed to almost nullify the edge at the price of making node 4 unstable (it cannot check the conservation law). This can be addressed by using a threshold above which the policy is altered."
   ]
  },
  {
   "cell_type": "code",
   "execution_count": 60,
   "metadata": {
    "ExecuteTime": {
     "end_time": "2022-01-24T16:15:10.483868Z",
     "start_time": "2022-01-24T16:15:10.470839Z"
    }
   },
   "outputs": [],
   "source": [
    "counterweights = [0, 1, 1, 2, 0, 0, 2]"
   ]
  },
  {
   "cell_type": "code",
   "execution_count": 61,
   "metadata": {
    "ExecuteTime": {
     "end_time": "2022-01-24T16:15:14.360618Z",
     "start_time": "2022-01-24T16:15:10.486064Z"
    }
   },
   "outputs": [
    {
     "data": {
      "text/plain": [
       "True"
      ]
     },
     "execution_count": 61,
     "metadata": {},
     "output_type": "execute_result"
    }
   ],
   "source": [
    "fish.run('priority', weights=weights, number_events=10000000, threshold=500, counterweights=counterweights)"
   ]
  },
  {
   "cell_type": "code",
   "execution_count": 62,
   "metadata": {
    "ExecuteTime": {
     "end_time": "2022-01-24T16:15:14.375894Z",
     "start_time": "2022-01-24T16:15:14.362210Z"
    }
   },
   "outputs": [
    {
     "data": {
      "text/html": [
       "\n",
       "<div id=\"528df6f5-2af4-4d5f-a89a-5ce47dfeece1\"></div>\n",
       "<script>\n",
       "require.config({\n",
       "    paths: {\n",
       "        vis: 'https://unpkg.com/vis-network/standalone/umd/vis-network.min'\n",
       "    }\n",
       "});\n",
       "require(['vis'], function(vis){\n",
       "var nodes = [{\"id\": 0, \"label\": \"1\", \"title\": \"0: 1\"}, {\"id\": 1, \"label\": \"2\", \"title\": \"1: 2\"}, {\"id\": 2, \"label\": \"3\", \"title\": \"2: 3\"}, {\"id\": 3, \"label\": \"4\", \"title\": \"3: 4\"}, {\"id\": 4, \"label\": \"5\", \"title\": \"4: 5\"}, {\"id\": 5, \"label\": \"6\", \"title\": \"5: 6\"}];\n",
       "var edges = [{\"title\": \"0: (1, 2)\", \"label\": \"3\", \"color\": \"blue\", \"from\": 0, \"to\": 1}, {\"title\": \"1: (1, 3)\", \"label\": \"0.999\", \"color\": \"blue\", \"from\": 0, \"to\": 2}, {\"title\": \"2: (2, 3)\", \"label\": \"0.998\", \"color\": \"blue\", \"from\": 1, \"to\": 2}, {\"title\": \"3: (3, 4)\", \"label\": \"1\", \"color\": \"blue\", \"from\": 2, \"to\": 3}, {\"title\": \"4: (3, 6)\", \"label\": \"1.8e-06\", \"color\": \"blue\", \"from\": 2, \"to\": 5}, {\"title\": \"5: (4, 5)\", \"label\": \"0.995\", \"color\": \"blue\", \"from\": 3, \"to\": 4}, {\"title\": \"6: (5, 6)\", \"label\": \"2\", \"color\": \"blue\", \"from\": 4, \"to\": 5}];\n",
       "var data= {\n",
       "    nodes: nodes,\n",
       "    edges: edges,\n",
       "};\n",
       "var options = {\"interaction\": {\"navigationButtons\": true}, \"width\": \"600px\", \"height\": 300};\n",
       "var container = document.getElementById('528df6f5-2af4-4d5f-a89a-5ce47dfeece1');\n",
       "var network = new vis.Network(container, data, options);\n",
       "network.fit({\n",
       "  maxZoomLevel: 1000});\n",
       "});\n",
       "</script>\n"
      ],
      "text/plain": [
       "<IPython.core.display.HTML object>"
      ]
     },
     "metadata": {},
     "output_type": "display_data"
    }
   ],
   "source": [
    "fish.show_flow(disp_rates=False)"
   ]
  },
  {
   "cell_type": "markdown",
   "metadata": {},
   "source": [
    "And that's it! The threshold controls the trade-off between the size of queue 4 and the nullity of edge (3, 6)."
   ]
  },
  {
   "cell_type": "code",
   "execution_count": 63,
   "metadata": {
    "ExecuteTime": {
     "end_time": "2022-01-24T16:15:14.918616Z",
     "start_time": "2022-01-24T16:15:14.378883Z"
    }
   },
   "outputs": [
    {
     "data": {
      "image/png": "[encoded data removed]",
      "text/plain": [
       "<Figure size 432x288 with 1 Axes>"
      ]
     },
     "metadata": {
      "needs_background": "light"
     },
     "output_type": "display_data"
    }
   ],
   "source": [
    "fig = fish.simulator.show_ccdf()"
   ]
  },
  {
   "cell_type": "code",
   "execution_count": 64,
   "metadata": {
    "ExecuteTime": {
     "end_time": "2022-01-24T16:15:15.028074Z",
     "start_time": "2022-01-24T16:15:14.921849Z"
    }
   },
   "outputs": [
    {
     "data": {
      "image/png": "[encoded data removed]",
      "text/plain": [
       "<Figure size 432x288 with 1 Axes>"
      ]
     },
     "metadata": {
      "needs_background": "light"
     },
     "output_type": "display_data"
    }
   ],
   "source": [
    "fig = fish.simulator.show_average_queues()"
   ]
  },
  {
   "cell_type": "code",
   "execution_count": 65,
   "metadata": {
    "ExecuteTime": {
     "end_time": "2022-01-24T16:15:19.206576Z",
     "start_time": "2022-01-24T16:15:15.030238Z"
    }
   },
   "outputs": [
    {
     "data": {
      "text/plain": [
       "True"
      ]
     },
     "execution_count": 65,
     "metadata": {},
     "output_type": "execute_result"
    }
   ],
   "source": [
    "fish.run('priority', weights=weights, number_events=10000000, threshold=10, counterweights=counterweights)"
   ]
  },
  {
   "cell_type": "code",
   "execution_count": 66,
   "metadata": {
    "ExecuteTime": {
     "end_time": "2022-01-24T16:15:19.222059Z",
     "start_time": "2022-01-24T16:15:19.208630Z"
    }
   },
   "outputs": [
    {
     "data": {
      "text/html": [
       "\n",
       "<div id=\"e6736f3a-1032-4ae1-b3cf-25c79ac5dc6b\"></div>\n",
       "<script>\n",
       "require.config({\n",
       "    paths: {\n",
       "        vis: 'https://unpkg.com/vis-network/standalone/umd/vis-network.min'\n",
       "    }\n",
       "});\n",
       "require(['vis'], function(vis){\n",
       "var nodes = [{\"id\": 0, \"label\": \"1\", \"title\": \"0: 1\"}, {\"id\": 1, \"label\": \"2\", \"title\": \"1: 2\"}, {\"id\": 2, \"label\": \"3\", \"title\": \"2: 3\"}, {\"id\": 3, \"label\": \"4\", \"title\": \"3: 4\"}, {\"id\": 4, \"label\": \"5\", \"title\": \"4: 5\"}, {\"id\": 5, \"label\": \"6\", \"title\": \"5: 6\"}];\n",
       "var edges = [{\"title\": \"0: (1, 2)\", \"label\": \"3\", \"color\": \"blue\", \"from\": 0, \"to\": 1}, {\"title\": \"1: (1, 3)\", \"label\": \"1\", \"color\": \"blue\", \"from\": 0, \"to\": 2}, {\"title\": \"2: (2, 3)\", \"label\": \"1\", \"color\": \"blue\", \"from\": 1, \"to\": 2}, {\"title\": \"3: (3, 4)\", \"label\": \"0.967\", \"color\": \"blue\", \"from\": 2, \"to\": 3}, {\"title\": \"4: (3, 6)\", \"label\": \"0.0342\", \"color\": \"blue\", \"from\": 2, \"to\": 5}, {\"title\": \"5: (4, 5)\", \"label\": \"1.03\", \"color\": \"blue\", \"from\": 3, \"to\": 4}, {\"title\": \"6: (5, 6)\", \"label\": \"1.97\", \"color\": \"blue\", \"from\": 4, \"to\": 5}];\n",
       "var data= {\n",
       "    nodes: nodes,\n",
       "    edges: edges,\n",
       "};\n",
       "var options = {\"interaction\": {\"navigationButtons\": true}, \"width\": \"600px\", \"height\": 300};\n",
       "var container = document.getElementById('e6736f3a-1032-4ae1-b3cf-25c79ac5dc6b');\n",
       "var network = new vis.Network(container, data, options);\n",
       "network.fit({\n",
       "  maxZoomLevel: 1000});\n",
       "});\n",
       "</script>\n"
      ],
      "text/plain": [
       "<IPython.core.display.HTML object>"
      ]
     },
     "metadata": {},
     "output_type": "display_data"
    }
   ],
   "source": [
    "fish.show_flow(disp_rates=False)"
   ]
  },
  {
   "cell_type": "markdown",
   "metadata": {},
   "source": [
    "And that's it! The threshold controls the trade-off between the size of queue 4 and the nullity of edge (3, 6)."
   ]
  },
  {
   "cell_type": "code",
   "execution_count": 67,
   "metadata": {
    "ExecuteTime": {
     "end_time": "2022-01-24T16:15:19.766301Z",
     "start_time": "2022-01-24T16:15:19.224905Z"
    }
   },
   "outputs": [
    {
     "data": {
      "image/png": "[encoded data removed]",
      "text/plain": [
       "<Figure size 432x288 with 1 Axes>"
      ]
     },
     "metadata": {
      "needs_background": "light"
     },
     "output_type": "display_data"
    }
   ],
   "source": [
    "fig = fish.simulator.show_ccdf()"
   ]
  },
  {
   "cell_type": "code",
   "execution_count": 68,
   "metadata": {
    "ExecuteTime": {
     "end_time": "2022-01-24T16:15:19.874795Z",
     "start_time": "2022-01-24T16:15:19.767738Z"
    }
   },
   "outputs": [
    {
     "data": {
      "image/png": "[encoded data removed]",
      "text/plain": [
       "<Figure size 432x288 with 1 Axes>"
      ]
     },
     "metadata": {
      "needs_background": "light"
     },
     "output_type": "display_data"
    }
   ],
   "source": [
    "fig = fish.simulator.show_average_queues()"
   ]
  },
  {
   "cell_type": "markdown",
   "metadata": {},
   "source": [
    "## Reaching a highly degenerated vertex"
   ]
  },
  {
   "cell_type": "markdown",
   "metadata": {},
   "source": [
    "The following model has *very injective* vertices."
   ]
  },
  {
   "cell_type": "code",
   "execution_count": 69,
   "metadata": {
    "ExecuteTime": {
     "end_time": "2022-01-24T16:15:19.906900Z",
     "start_time": "2022-01-24T16:15:19.876841Z"
    }
   },
   "outputs": [
    {
     "data": {
      "text/plain": [
       "[{'kernel_coordinates': array([-1.,  1.]),\n",
       "  'edge_coordinates': array([2., 0., 0., 2., 2., 0., 0., 2.]),\n",
       "  'null_edges': [1, 2, 5, 6],\n",
       "  'bijective': False},\n",
       " {'kernel_coordinates': array([-1., -1.]),\n",
       "  'edge_coordinates': array([0., 2., 0., 4., 0., 0., 2., 0.]),\n",
       "  'null_edges': [0, 2, 4, 5, 7],\n",
       "  'bijective': False},\n",
       " {'kernel_coordinates': array([1., 1.]),\n",
       "  'edge_coordinates': array([2., 0., 2., 0., 0., 2., 0., 2.]),\n",
       "  'null_edges': [1, 3, 4, 6],\n",
       "  'bijective': False}]"
      ]
     },
     "execution_count": 69,
     "metadata": {},
     "output_type": "execute_result"
    }
   ],
   "source": [
    "import numpy as np\n",
    "codomino = sm.Codomino(rates=[2, 4, 2, 2, 4, 2])\n",
    "codomino.base_flow = np.array([1.0, 1.0, 1.0, 2.0, 0.0, 1.0, 1.0, 1.0])\n",
    "codomino.vertices"
   ]
  },
  {
   "cell_type": "markdown",
   "metadata": {},
   "source": [
    "In particular the second vertex is made of three unconnected pairs:"
   ]
  },
  {
   "cell_type": "code",
   "execution_count": 70,
   "metadata": {
    "ExecuteTime": {
     "end_time": "2022-01-24T16:15:19.922010Z",
     "start_time": "2022-01-24T16:15:19.909917Z"
    }
   },
   "outputs": [
    {
     "data": {
      "text/html": [
       "\n",
       "<div id=\"7c56a26d-68af-41b0-8235-1b64c9d04cc9\"></div>\n",
       "<script>\n",
       "require.config({\n",
       "    paths: {\n",
       "        vis: 'https://unpkg.com/vis-network/standalone/umd/vis-network.min'\n",
       "    }\n",
       "});\n",
       "require(['vis'], function(vis){\n",
       "var nodes = [{\"id\": 0, \"label\": \"2\", \"title\": \"0\"}, {\"id\": 1, \"label\": \"4\", \"title\": \"1\"}, {\"id\": 2, \"label\": \"2\", \"title\": \"2\"}, {\"id\": 3, \"label\": \"2\", \"title\": \"3\"}, {\"id\": 4, \"label\": \"4\", \"title\": \"4\"}, {\"id\": 5, \"label\": \"2\", \"title\": \"5\"}];\n",
       "var edges = [{\"title\": \"0: (0, 1)\", \"label\": \"\", \"color\": \"orange\", \"from\": 0, \"to\": 1}, {\"title\": \"1: (0, 2)\", \"label\": \"2\", \"color\": \"blue\", \"from\": 0, \"to\": 2}, {\"title\": \"2: (1, 2)\", \"label\": \"\", \"color\": \"orange\", \"from\": 1, \"to\": 2}, {\"title\": \"3: (1, 4)\", \"label\": \"4\", \"color\": \"blue\", \"from\": 1, \"to\": 4}, {\"title\": \"4: (2, 3)\", \"label\": \"\", \"color\": \"orange\", \"from\": 2, \"to\": 3}, {\"title\": \"5: (3, 4)\", \"label\": \"\", \"color\": \"orange\", \"from\": 3, \"to\": 4}, {\"title\": \"6: (3, 5)\", \"label\": \"2\", \"color\": \"blue\", \"from\": 3, \"to\": 5}, {\"title\": \"7: (4, 5)\", \"label\": \"\", \"color\": \"orange\", \"from\": 4, \"to\": 5}];\n",
       "var data= {\n",
       "    nodes: nodes,\n",
       "    edges: edges,\n",
       "};\n",
       "var options = {\"interaction\": {\"navigationButtons\": true}, \"width\": \"600px\", \"height\": 300};\n",
       "var container = document.getElementById('7c56a26d-68af-41b0-8235-1b64c9d04cc9');\n",
       "var network = new vis.Network(container, data, options);\n",
       "network.fit({\n",
       "  maxZoomLevel: 1000});\n",
       "});\n",
       "</script>\n"
      ],
      "text/plain": [
       "<IPython.core.display.HTML object>"
      ]
     },
     "metadata": {},
     "output_type": "display_data"
    }
   ],
   "source": [
    "codomino.show_vertex(1)"
   ]
  },
  {
   "cell_type": "markdown",
   "metadata": {},
   "source": [
    "Let try to reach it with a semi-greedy policy without threshold."
   ]
  },
  {
   "cell_type": "code",
   "execution_count": 71,
   "metadata": {
    "ExecuteTime": {
     "end_time": "2022-01-24T16:15:24.523809Z",
     "start_time": "2022-01-24T16:15:19.926106Z"
    }
   },
   "outputs": [
    {
     "data": {
      "text/plain": [
       "True"
      ]
     },
     "execution_count": 71,
     "metadata": {},
     "output_type": "execute_result"
    }
   ],
   "source": [
    "codomino.run('semi_greedy', forbidden_edges=codomino.vertices[1]['null_edges'], number_events=10000000, max_queue=100000)"
   ]
  },
  {
   "cell_type": "code",
   "execution_count": 72,
   "metadata": {
    "ExecuteTime": {
     "end_time": "2022-01-24T16:15:24.539328Z",
     "start_time": "2022-01-24T16:15:24.525952Z"
    }
   },
   "outputs": [
    {
     "data": {
      "text/html": [
       "\n",
       "<div id=\"5a8ae793-7bab-4e41-9888-ae2dd5e0e615\"></div>\n",
       "<script>\n",
       "require.config({\n",
       "    paths: {\n",
       "        vis: 'https://unpkg.com/vis-network/standalone/umd/vis-network.min'\n",
       "    }\n",
       "});\n",
       "require(['vis'], function(vis){\n",
       "var nodes = [{\"id\": 0, \"label\": \"2\", \"title\": \"0\"}, {\"id\": 1, \"label\": \"4\", \"title\": \"1\"}, {\"id\": 2, \"label\": \"2\", \"title\": \"2\"}, {\"id\": 3, \"label\": \"2\", \"title\": \"3\"}, {\"id\": 4, \"label\": \"4\", \"title\": \"4\"}, {\"id\": 5, \"label\": \"2\", \"title\": \"5\"}];\n",
       "var edges = [{\"title\": \"0: (0, 1)\", \"label\": \"0\", \"color\": \"orange\", \"from\": 0, \"to\": 1}, {\"title\": \"1: (0, 2)\", \"label\": \"2\", \"color\": \"blue\", \"from\": 0, \"to\": 2}, {\"title\": \"2: (1, 2)\", \"label\": \"0\", \"color\": \"orange\", \"from\": 1, \"to\": 2}, {\"title\": \"3: (1, 4)\", \"label\": \"4\", \"color\": \"blue\", \"from\": 1, \"to\": 4}, {\"title\": \"4: (2, 3)\", \"label\": \"0\", \"color\": \"orange\", \"from\": 2, \"to\": 3}, {\"title\": \"5: (3, 4)\", \"label\": \"0\", \"color\": \"orange\", \"from\": 3, \"to\": 4}, {\"title\": \"6: (3, 5)\", \"label\": \"2\", \"color\": \"blue\", \"from\": 3, \"to\": 5}, {\"title\": \"7: (4, 5)\", \"label\": \"0\", \"color\": \"orange\", \"from\": 4, \"to\": 5}];\n",
       "var data= {\n",
       "    nodes: nodes,\n",
       "    edges: edges,\n",
       "};\n",
       "var options = {\"interaction\": {\"navigationButtons\": true}, \"width\": \"600px\", \"height\": 300};\n",
       "var container = document.getElementById('5a8ae793-7bab-4e41-9888-ae2dd5e0e615');\n",
       "var network = new vis.Network(container, data, options);\n",
       "network.fit({\n",
       "  maxZoomLevel: 1000});\n",
       "});\n",
       "</script>\n"
      ],
      "text/plain": [
       "<IPython.core.display.HTML object>"
      ]
     },
     "metadata": {},
     "output_type": "display_data"
    }
   ],
   "source": [
    "codomino.show_flow()"
   ]
  },
  {
   "cell_type": "markdown",
   "metadata": {},
   "source": [
    "As this is a pure semi-greedy, the desired edges are indeed null."
   ]
  },
  {
   "cell_type": "code",
   "execution_count": 73,
   "metadata": {
    "ExecuteTime": {
     "end_time": "2022-01-24T16:15:24.570244Z",
     "start_time": "2022-01-24T16:15:24.542507Z"
    }
   },
   "outputs": [
    {
     "data": {
      "text/plain": [
       "array([0.       , 1.9983344, 0.       , 3.9980432, 0.       , 0.       ,\n",
       "       1.9988784, 0.       ])"
      ]
     },
     "execution_count": 73,
     "metadata": {},
     "output_type": "execute_result"
    }
   ],
   "source": [
    "codomino.simulation"
   ]
  },
  {
   "cell_type": "markdown",
   "metadata": {},
   "source": [
    "But performance terrible!"
   ]
  },
  {
   "cell_type": "code",
   "execution_count": 74,
   "metadata": {
    "ExecuteTime": {
     "end_time": "2022-01-24T16:15:25.132063Z",
     "start_time": "2022-01-24T16:15:24.573174Z"
    }
   },
   "outputs": [
    {
     "data": {
      "image/png": "[encoded data removed]",
      "text/plain": [
       "<Figure size 432x288 with 1 Axes>"
      ]
     },
     "metadata": {
      "needs_background": "light"
     },
     "output_type": "display_data"
    }
   ],
   "source": [
    "fig = codomino.simulator.show_ccdf()"
   ]
  },
  {
   "cell_type": "code",
   "execution_count": 75,
   "metadata": {
    "ExecuteTime": {
     "end_time": "2022-01-24T16:15:25.270795Z",
     "start_time": "2022-01-24T16:15:25.135217Z"
    }
   },
   "outputs": [
    {
     "data": {
      "image/png": "[encoded data removed]",
      "text/plain": [
       "<Figure size 432x288 with 1 Axes>"
      ]
     },
     "metadata": {
      "needs_background": "light"
     },
     "output_type": "display_data"
    }
   ],
   "source": [
    "fig = codomino.simulator.show_average_queues(sort=True, as_time=True)"
   ]
  },
  {
   "cell_type": "markdown",
   "metadata": {},
   "source": [
    "The solution in that case is to use a semi-greedy policy with threshold."
   ]
  },
  {
   "cell_type": "code",
   "execution_count": 76,
   "metadata": {
    "ExecuteTime": {
     "end_time": "2022-01-24T16:15:30.274967Z",
     "start_time": "2022-01-24T16:15:25.272809Z"
    }
   },
   "outputs": [
    {
     "data": {
      "text/plain": [
       "True"
      ]
     },
     "execution_count": 76,
     "metadata": {},
     "output_type": "execute_result"
    }
   ],
   "source": [
    "codomino.run('semi_greedy', forbidden_edges=codomino.vertices[1]['null_edges'], threshold=900, number_events=10000000)"
   ]
  },
  {
   "cell_type": "code",
   "execution_count": 77,
   "metadata": {
    "ExecuteTime": {
     "end_time": "2022-01-24T16:15:30.290694Z",
     "start_time": "2022-01-24T16:15:30.277495Z"
    }
   },
   "outputs": [
    {
     "data": {
      "text/html": [
       "\n",
       "<div id=\"8a3250c3-9cac-4bfe-aff5-64fff29a15ba\"></div>\n",
       "<script>\n",
       "require.config({\n",
       "    paths: {\n",
       "        vis: 'https://unpkg.com/vis-network/standalone/umd/vis-network.min'\n",
       "    }\n",
       "});\n",
       "require(['vis'], function(vis){\n",
       "var nodes = [{\"id\": 0, \"label\": \"2\", \"title\": \"0\"}, {\"id\": 1, \"label\": \"4\", \"title\": \"1\"}, {\"id\": 2, \"label\": \"2\", \"title\": \"2\"}, {\"id\": 3, \"label\": \"2\", \"title\": \"3\"}, {\"id\": 4, \"label\": \"4\", \"title\": \"4\"}, {\"id\": 5, \"label\": \"2\", \"title\": \"5\"}];\n",
       "var edges = [{\"title\": \"0: (0, 1)\", \"label\": \"0.00233\", \"color\": \"blue\", \"from\": 0, \"to\": 1}, {\"title\": \"1: (0, 2)\", \"label\": \"2\", \"color\": \"blue\", \"from\": 0, \"to\": 2}, {\"title\": \"2: (1, 2)\", \"label\": \"0.000576\", \"color\": \"blue\", \"from\": 1, \"to\": 2}, {\"title\": \"3: (1, 4)\", \"label\": \"4\", \"color\": \"blue\", \"from\": 1, \"to\": 4}, {\"title\": \"4: (2, 3)\", \"label\": \"2.4e-05\", \"color\": \"blue\", \"from\": 2, \"to\": 3}, {\"title\": \"5: (3, 4)\", \"label\": \"0.00227\", \"color\": \"blue\", \"from\": 3, \"to\": 4}, {\"title\": \"6: (3, 5)\", \"label\": \"2\", \"color\": \"blue\", \"from\": 3, \"to\": 5}, {\"title\": \"7: (4, 5)\", \"label\": \"0.00527\", \"color\": \"blue\", \"from\": 4, \"to\": 5}];\n",
       "var data= {\n",
       "    nodes: nodes,\n",
       "    edges: edges,\n",
       "};\n",
       "var options = {\"interaction\": {\"navigationButtons\": true}, \"width\": \"600px\", \"height\": 300};\n",
       "var container = document.getElementById('8a3250c3-9cac-4bfe-aff5-64fff29a15ba');\n",
       "var network = new vis.Network(container, data, options);\n",
       "network.fit({\n",
       "  maxZoomLevel: 1000});\n",
       "});\n",
       "</script>\n"
      ],
      "text/plain": [
       "<IPython.core.display.HTML object>"
      ]
     },
     "metadata": {},
     "output_type": "display_data"
    }
   ],
   "source": [
    "codomino.show_flow()"
   ]
  },
  {
   "cell_type": "markdown",
   "metadata": {},
   "source": [
    "So this is stable with a limited matching rate on forbidden edges."
   ]
  },
  {
   "cell_type": "code",
   "execution_count": 78,
   "metadata": {
    "ExecuteTime": {
     "end_time": "2022-01-24T16:15:30.321433Z",
     "start_time": "2022-01-24T16:15:30.294170Z"
    }
   },
   "outputs": [
    {
     "data": {
      "text/plain": [
       "array([2.3296000e-03, 1.9980880e+00, 5.7600000e-04, 3.9953488e+00,\n",
       "       2.4000000e-05, 2.2704000e-03, 1.9952416e+00, 5.2704000e-03])"
      ]
     },
     "execution_count": 78,
     "metadata": {},
     "output_type": "execute_result"
    }
   ],
   "source": [
    "codomino.simulation"
   ]
  },
  {
   "cell_type": "markdown",
   "metadata": {},
   "source": [
    "Performance is controlled by the threshold."
   ]
  },
  {
   "cell_type": "code",
   "execution_count": 79,
   "metadata": {
    "ExecuteTime": {
     "end_time": "2022-01-24T16:15:30.979394Z",
     "start_time": "2022-01-24T16:15:30.323926Z"
    }
   },
   "outputs": [
    {
     "data": {
      "image/png": "[encoded data removed]",
      "text/plain": [
       "<Figure size 432x288 with 1 Axes>"
      ]
     },
     "metadata": {
      "needs_background": "light"
     },
     "output_type": "display_data"
    }
   ],
   "source": [
    "fig = codomino.simulator.show_ccdf()"
   ]
  },
  {
   "cell_type": "code",
   "execution_count": 80,
   "metadata": {
    "ExecuteTime": {
     "end_time": "2022-01-24T16:15:31.089392Z",
     "start_time": "2022-01-24T16:15:30.981865Z"
    }
   },
   "outputs": [
    {
     "data": {
      "image/png": "[encoded data removed]",
      "text/plain": [
       "<Figure size 432x288 with 1 Axes>"
      ]
     },
     "metadata": {
      "needs_background": "light"
     },
     "output_type": "display_data"
    }
   ],
   "source": [
    "fig = codomino.simulator.show_average_queues(sort=True, as_time=True)"
   ]
  },
  {
   "cell_type": "code",
   "execution_count": 81,
   "metadata": {
    "ExecuteTime": {
     "end_time": "2022-01-24T16:15:35.893669Z",
     "start_time": "2022-01-24T16:15:31.091503Z"
    }
   },
   "outputs": [
    {
     "data": {
      "text/plain": [
       "True"
      ]
     },
     "execution_count": 81,
     "metadata": {},
     "output_type": "execute_result"
    }
   ],
   "source": [
    "codomino.run('semi_greedy', forbidden_edges=codomino.vertices[1]['null_edges'], threshold=50, number_events=10000000)"
   ]
  },
  {
   "cell_type": "code",
   "execution_count": 82,
   "metadata": {
    "ExecuteTime": {
     "end_time": "2022-01-24T16:15:35.909273Z",
     "start_time": "2022-01-24T16:15:35.904282Z"
    }
   },
   "outputs": [
    {
     "data": {
      "text/html": [
       "\n",
       "<div id=\"c63eaa12-3251-411a-bda5-82b280f0eb39\"></div>\n",
       "<script>\n",
       "require.config({\n",
       "    paths: {\n",
       "        vis: 'https://unpkg.com/vis-network/standalone/umd/vis-network.min'\n",
       "    }\n",
       "});\n",
       "require(['vis'], function(vis){\n",
       "var nodes = [{\"id\": 0, \"label\": \"2\", \"title\": \"0\"}, {\"id\": 1, \"label\": \"4\", \"title\": \"1\"}, {\"id\": 2, \"label\": \"2\", \"title\": \"2\"}, {\"id\": 3, \"label\": \"2\", \"title\": \"3\"}, {\"id\": 4, \"label\": \"4\", \"title\": \"4\"}, {\"id\": 5, \"label\": \"2\", \"title\": \"5\"}];\n",
       "var edges = [{\"title\": \"0: (0, 1)\", \"label\": \"0.0476\", \"color\": \"blue\", \"from\": 0, \"to\": 1}, {\"title\": \"1: (0, 2)\", \"label\": \"1.95\", \"color\": \"blue\", \"from\": 0, \"to\": 2}, {\"title\": \"2: (1, 2)\", \"label\": \"0.0345\", \"color\": \"blue\", \"from\": 1, \"to\": 2}, {\"title\": \"3: (1, 4)\", \"label\": \"3.92\", \"color\": \"blue\", \"from\": 1, \"to\": 4}, {\"title\": \"4: (2, 3)\", \"label\": \"0.0123\", \"color\": \"blue\", \"from\": 2, \"to\": 3}, {\"title\": \"5: (3, 4)\", \"label\": \"0.0332\", \"color\": \"blue\", \"from\": 3, \"to\": 4}, {\"title\": \"6: (3, 5)\", \"label\": \"1.95\", \"color\": \"blue\", \"from\": 3, \"to\": 5}, {\"title\": \"7: (4, 5)\", \"label\": \"0.0486\", \"color\": \"blue\", \"from\": 4, \"to\": 5}];\n",
       "var data= {\n",
       "    nodes: nodes,\n",
       "    edges: edges,\n",
       "};\n",
       "var options = {\"interaction\": {\"navigationButtons\": true}, \"width\": \"600px\", \"height\": 300};\n",
       "var container = document.getElementById('c63eaa12-3251-411a-bda5-82b280f0eb39');\n",
       "var network = new vis.Network(container, data, options);\n",
       "network.fit({\n",
       "  maxZoomLevel: 1000});\n",
       "});\n",
       "</script>\n"
      ],
      "text/plain": [
       "<IPython.core.display.HTML object>"
      ]
     },
     "metadata": {},
     "output_type": "display_data"
    }
   ],
   "source": [
    "codomino.show_flow()"
   ]
  },
  {
   "cell_type": "code",
   "execution_count": 83,
   "metadata": {
    "ExecuteTime": {
     "end_time": "2022-01-24T16:15:35.925446Z",
     "start_time": "2022-01-24T16:15:35.912282Z"
    }
   },
   "outputs": [
    {
     "data": {
      "text/plain": [
       "array([0.0476176, 1.9534336, 0.034488 , 3.9177056, 0.0123184, 0.033208 ,\n",
       "       1.9525792, 0.0485968])"
      ]
     },
     "execution_count": 83,
     "metadata": {},
     "output_type": "execute_result"
    }
   ],
   "source": [
    "codomino.simulation"
   ]
  },
  {
   "cell_type": "code",
   "execution_count": 84,
   "metadata": {
    "ExecuteTime": {
     "end_time": "2022-01-24T16:15:36.631793Z",
     "start_time": "2022-01-24T16:15:35.927779Z"
    }
   },
   "outputs": [
    {
     "data": {
      "image/png": "[encoded data removed]",
      "text/plain": [
       "<Figure size 432x288 with 1 Axes>"
      ]
     },
     "metadata": {
      "needs_background": "light"
     },
     "output_type": "display_data"
    }
   ],
   "source": [
    "fig = codomino.simulator.show_ccdf()"
   ]
  },
  {
   "cell_type": "code",
   "execution_count": 85,
   "metadata": {
    "ExecuteTime": {
     "end_time": "2022-01-24T16:15:36.740215Z",
     "start_time": "2022-01-24T16:15:36.633425Z"
    }
   },
   "outputs": [
    {
     "data": {
      "image/png": "[encoded data removed]",
      "text/plain": [
       "<Figure size 432x288 with 1 Axes>"
      ]
     },
     "metadata": {
      "needs_background": "light"
     },
     "output_type": "display_data"
    }
   ],
   "source": [
    "fig = codomino.simulator.show_average_queues(sort=True, as_time=True)"
   ]
  }
 ],
 "metadata": {
  "kernelspec": {
   "display_name": "Python 3 (ipykernel)",
   "language": "python",
   "name": "python3"
  },
  "language_info": {
   "codemirror_mode": {
    "name": "ipython",
    "version": 3
   },
   "file_extension": ".py",
   "mimetype": "text/x-python",
   "name": "python",
   "nbconvert_exporter": "python",
   "pygments_lexer": "ipython3",
   "version": "3.9.7"
  },
  "toc": {
   "base_numbering": 1,
   "nav_menu": {},
   "number_sections": true,
   "sideBar": true,
   "skip_h1_title": true,
   "title_cell": "Table of Contents",
   "title_sidebar": "Contents",
   "toc_cell": false,
   "toc_position": {},
   "toc_section_display": true,
   "toc_window_display": true
  }
 },
 "nbformat": 4,
 "nbformat_minor": 4
}
