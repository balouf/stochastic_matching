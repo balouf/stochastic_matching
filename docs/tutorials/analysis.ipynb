{
 "cells": [
  {
   "cell_type": "markdown",
   "id": "8ca9e27f",
   "metadata": {},
   "source": [
    "# Analysis of rates"
   ]
  },
  {
   "cell_type": "markdown",
   "id": "04992dc1",
   "metadata": {},
   "source": [
    "By combining elements from graph theory, convex optimization, and linear algebra, we can have powerful results on the stability of a stochastic system and its set of feasible rates."
   ]
  },
  {
   "cell_type": "markdown",
   "id": "6e744269",
   "metadata": {},
   "source": [
    "`stochastic matching` provides the following information (cf https://hal.archives-ouvertes.fr/hal-03502084 for details):\n",
    "\n",
    "- Graph type: injective-only, surjective-only, bijective, ``nonjective'';\n",
    "- Kernel structure (for node and edge kernels);\n",
    "- For given arrival rates: \n",
    " - stability of the matching model;\n",
    " - Maximin and Moore-Penrose solutions of the conservation equation;\n",
    " - if relevant, a complete description of the vertices of $\\Lambda_{\\geqslant 0}$.\n",
    "\n"
   ]
  },
  {
   "cell_type": "markdown",
   "id": "0c70988e",
   "metadata": {},
   "source": [
    "The purpose of this notebook is to give a tour of these analysis on some examples."
   ]
  },
  {
   "cell_type": "code",
   "execution_count": 1,
   "id": "d0cb1566",
   "metadata": {
    "ExecuteTime": {
     "end_time": "2022-01-24T14:38:45.535453Z",
     "start_time": "2022-01-24T14:38:44.327612Z"
    }
   },
   "outputs": [],
   "source": [
    "import stochastic_matching as sm\n",
    "from stochastic_matching.display import VIS_OPTIONS\n",
    "VIS_OPTIONS['height'] = 200"
   ]
  },
  {
   "cell_type": "code",
   "execution_count": 2,
   "id": "48f18fb6",
   "metadata": {
    "ExecuteTime": {
     "end_time": "2022-01-24T14:38:45.550922Z",
     "start_time": "2022-01-24T14:38:45.537955Z"
    }
   },
   "outputs": [
    {
     "data": {
      "text/plain": [
       "{'interaction': {'navigationButtons': True}, 'width': '600px', 'height': 200}"
      ]
     },
     "execution_count": 2,
     "metadata": {},
     "output_type": "execute_result"
    }
   ],
   "source": [
    "VIS_OPTIONS"
   ]
  },
  {
   "cell_type": "markdown",
   "id": "25015814",
   "metadata": {},
   "source": [
    "## Tadpole"
   ]
  },
  {
   "cell_type": "markdown",
   "id": "8d70692a",
   "metadata": {},
   "source": [
    "### Bijective tadpole"
   ]
  },
  {
   "cell_type": "markdown",
   "id": "2b5a160a",
   "metadata": {},
   "source": [
    "Consider a tadpole $T_{5, 3}$ with uniform arrival rates. Side note: if no rate is specified, degree-proportional rates are assumed, which ensure that the model is stabilizable if the graph is surjective."
   ]
  },
  {
   "cell_type": "code",
   "execution_count": 3,
   "id": "99bf6801",
   "metadata": {
    "ExecuteTime": {
     "end_time": "2022-01-24T14:38:45.581742Z",
     "start_time": "2022-01-24T14:38:45.553014Z"
    }
   },
   "outputs": [
    {
     "data": {
      "text/html": [
       "\n",
       "<div id=\"09a7d74c-518c-4a40-9d01-fb7159b6f06f\"></div>\n",
       "<script>\n",
       "require.config({\n",
       "    paths: {\n",
       "        vis: 'https://unpkg.com/vis-network/standalone/umd/vis-network.min'\n",
       "    }\n",
       "});\n",
       "require(['vis'], function(vis){\n",
       "var nodes = [{\"id\": 0, \"label\": \"0\", \"title\": \"0\"}, {\"id\": 1, \"label\": \"1\", \"title\": \"1\"}, {\"id\": 2, \"label\": \"2\", \"title\": \"2\"}, {\"id\": 3, \"label\": \"3\", \"title\": \"3\"}, {\"id\": 4, \"label\": \"4\", \"title\": \"4\"}, {\"id\": 5, \"label\": \"5\", \"title\": \"5\"}, {\"id\": 6, \"label\": \"6\", \"title\": \"6\"}, {\"id\": 7, \"label\": \"7\", \"title\": \"7\"}];\n",
       "var edges = [{\"title\": \"0: (0, 1)\", \"label\": \"\", \"from\": 0, \"to\": 1}, {\"title\": \"1: (0, 4)\", \"label\": \"\", \"from\": 0, \"to\": 4}, {\"title\": \"2: (1, 2)\", \"label\": \"\", \"from\": 1, \"to\": 2}, {\"title\": \"3: (2, 3)\", \"label\": \"\", \"from\": 2, \"to\": 3}, {\"title\": \"4: (3, 4)\", \"label\": \"\", \"from\": 3, \"to\": 4}, {\"title\": \"5: (4, 5)\", \"label\": \"\", \"from\": 4, \"to\": 5}, {\"title\": \"6: (5, 6)\", \"label\": \"\", \"from\": 5, \"to\": 6}, {\"title\": \"7: (6, 7)\", \"label\": \"\", \"from\": 6, \"to\": 7}];\n",
       "var data= {\n",
       "    nodes: nodes,\n",
       "    edges: edges,\n",
       "};\n",
       "var options = {\"interaction\": {\"navigationButtons\": true}, \"width\": \"600px\", \"height\": 200};\n",
       "var container = document.getElementById('09a7d74c-518c-4a40-9d01-fb7159b6f06f');\n",
       "var network = new vis.Network(container, data, options);\n",
       "network.fit({\n",
       "  maxZoomLevel: 1000});\n",
       "});\n",
       "</script>\n"
      ],
      "text/plain": [
       "<IPython.core.display.HTML object>"
      ]
     },
     "metadata": {},
     "output_type": "display_data"
    }
   ],
   "source": [
    "tadpole = sm.Tadpole(m=5, n=3, rates='uniform')\n",
    "tadpole.show_graph()"
   ]
  },
  {
   "cell_type": "markdown",
   "id": "8fd084db",
   "metadata": {},
   "source": [
    "Its kernels are trivial: the graph is bijective."
   ]
  },
  {
   "cell_type": "code",
   "execution_count": 4,
   "id": "bc20341e",
   "metadata": {
    "ExecuteTime": {
     "end_time": "2022-01-24T14:38:45.596885Z",
     "start_time": "2022-01-24T14:38:45.584699Z"
    }
   },
   "outputs": [
    {
     "data": {
      "text/plain": [
       "Kernels of a graph with 8 nodes and 8 edges.\n",
       "Node dimension is 0.\n",
       "Edge dimension is 0\n",
       "Type: Bijective\n",
       "Node kernel:\n",
       "[]\n",
       "Edge kernel:\n",
       "[]"
      ]
     },
     "execution_count": 4,
     "metadata": {},
     "output_type": "execute_result"
    }
   ],
   "source": [
    "tadpole.kernel"
   ]
  },
  {
   "cell_type": "markdown",
   "id": "3fd1ebe5",
   "metadata": {},
   "source": [
    "Let see the unique solution of the conservation equation:"
   ]
  },
  {
   "cell_type": "code",
   "execution_count": 5,
   "id": "609e1c81",
   "metadata": {
    "ExecuteTime": {
     "end_time": "2022-01-24T14:38:45.612931Z",
     "start_time": "2022-01-24T14:38:45.598748Z"
    }
   },
   "outputs": [
    {
     "data": {
      "text/html": [
       "\n",
       "<div id=\"0095cf3b-d507-4c61-8f3f-2bc557d347ef\"></div>\n",
       "<script>\n",
       "require.config({\n",
       "    paths: {\n",
       "        vis: 'https://unpkg.com/vis-network/standalone/umd/vis-network.min'\n",
       "    }\n",
       "});\n",
       "require(['vis'], function(vis){\n",
       "var nodes = [{\"id\": 0, \"label\": \"1\", \"title\": \"0\"}, {\"id\": 1, \"label\": \"1\", \"title\": \"1\"}, {\"id\": 2, \"label\": \"1\", \"title\": \"2\"}, {\"id\": 3, \"label\": \"1\", \"title\": \"3\"}, {\"id\": 4, \"label\": \"1\", \"title\": \"4\"}, {\"id\": 5, \"label\": \"1\", \"title\": \"5\"}, {\"id\": 6, \"label\": \"1\", \"title\": \"6\"}, {\"id\": 7, \"label\": \"1\", \"title\": \"7\"}];\n",
       "var edges = [{\"title\": \"0: (0, 1)\", \"label\": \"1\", \"color\": \"blue\", \"from\": 0, \"to\": 1}, {\"title\": \"1: (0, 4)\", \"label\": \"0\", \"color\": \"orange\", \"from\": 0, \"to\": 4}, {\"title\": \"2: (1, 2)\", \"label\": \"0\", \"color\": \"orange\", \"from\": 1, \"to\": 2}, {\"title\": \"3: (2, 3)\", \"label\": \"1\", \"color\": \"blue\", \"from\": 2, \"to\": 3}, {\"title\": \"4: (3, 4)\", \"label\": \"0\", \"color\": \"orange\", \"from\": 3, \"to\": 4}, {\"title\": \"5: (4, 5)\", \"label\": \"1\", \"color\": \"blue\", \"from\": 4, \"to\": 5}, {\"title\": \"6: (5, 6)\", \"label\": \"0\", \"color\": \"orange\", \"from\": 5, \"to\": 6}, {\"title\": \"7: (6, 7)\", \"label\": \"1\", \"color\": \"blue\", \"from\": 6, \"to\": 7}];\n",
       "var data= {\n",
       "    nodes: nodes,\n",
       "    edges: edges,\n",
       "};\n",
       "var options = {\"interaction\": {\"navigationButtons\": true}, \"width\": \"600px\", \"height\": 200};\n",
       "var container = document.getElementById('0095cf3b-d507-4c61-8f3f-2bc557d347ef');\n",
       "var network = new vis.Network(container, data, options);\n",
       "network.fit({\n",
       "  maxZoomLevel: 1000});\n",
       "});\n",
       "</script>\n"
      ],
      "text/plain": [
       "<IPython.core.display.HTML object>"
      ]
     },
     "metadata": {},
     "output_type": "display_data"
    }
   ],
   "source": [
    "tadpole.show_flow()"
   ]
  },
  {
   "cell_type": "markdown",
   "id": "dbedc900",
   "metadata": {},
   "source": [
    "This does not sound very stable..."
   ]
  },
  {
   "cell_type": "code",
   "execution_count": 6,
   "id": "8eb6628c",
   "metadata": {
    "ExecuteTime": {
     "end_time": "2022-01-24T14:38:45.628122Z",
     "start_time": "2022-01-24T14:38:45.613950Z"
    }
   },
   "outputs": [
    {
     "data": {
      "text/plain": [
       "False"
      ]
     },
     "execution_count": 6,
     "metadata": {},
     "output_type": "execute_result"
    }
   ],
   "source": [
    "tadpole.stabilizable"
   ]
  },
  {
   "cell_type": "markdown",
   "id": "41afe558",
   "metadata": {},
   "source": [
    "Let's change the arrival rates to have something nicer."
   ]
  },
  {
   "cell_type": "code",
   "execution_count": 7,
   "id": "001f2e0c",
   "metadata": {
    "ExecuteTime": {
     "end_time": "2022-01-24T14:38:45.643186Z",
     "start_time": "2022-01-24T14:38:45.630211Z"
    }
   },
   "outputs": [
    {
     "data": {
      "text/html": [
       "\n",
       "<div id=\"ed002c7d-2b01-4045-b556-d68ac78fd90d\"></div>\n",
       "<script>\n",
       "require.config({\n",
       "    paths: {\n",
       "        vis: 'https://unpkg.com/vis-network/standalone/umd/vis-network.min'\n",
       "    }\n",
       "});\n",
       "require(['vis'], function(vis){\n",
       "var nodes = [{\"id\": 0, \"label\": \"1\", \"title\": \"0\"}, {\"id\": 1, \"label\": \"1\", \"title\": \"1\"}, {\"id\": 2, \"label\": \"1\", \"title\": \"2\"}, {\"id\": 3, \"label\": \"1\", \"title\": \"3\"}, {\"id\": 4, \"label\": \"2\", \"title\": \"4\"}, {\"id\": 5, \"label\": \"2\", \"title\": \"5\"}, {\"id\": 6, \"label\": \"2\", \"title\": \"6\"}, {\"id\": 7, \"label\": \"1\", \"title\": \"7\"}];\n",
       "var edges = [{\"title\": \"0: (0, 1)\", \"label\": \"0.5\", \"color\": \"blue\", \"from\": 0, \"to\": 1}, {\"title\": \"1: (0, 4)\", \"label\": \"0.5\", \"color\": \"blue\", \"from\": 0, \"to\": 4}, {\"title\": \"2: (1, 2)\", \"label\": \"0.5\", \"color\": \"blue\", \"from\": 1, \"to\": 2}, {\"title\": \"3: (2, 3)\", \"label\": \"0.5\", \"color\": \"blue\", \"from\": 2, \"to\": 3}, {\"title\": \"4: (3, 4)\", \"label\": \"0.5\", \"color\": \"blue\", \"from\": 3, \"to\": 4}, {\"title\": \"5: (4, 5)\", \"label\": \"1\", \"color\": \"blue\", \"from\": 4, \"to\": 5}, {\"title\": \"6: (5, 6)\", \"label\": \"1\", \"color\": \"blue\", \"from\": 5, \"to\": 6}, {\"title\": \"7: (6, 7)\", \"label\": \"1\", \"color\": \"blue\", \"from\": 6, \"to\": 7}];\n",
       "var data= {\n",
       "    nodes: nodes,\n",
       "    edges: edges,\n",
       "};\n",
       "var options = {\"interaction\": {\"navigationButtons\": true}, \"width\": \"600px\", \"height\": 200};\n",
       "var container = document.getElementById('ed002c7d-2b01-4045-b556-d68ac78fd90d');\n",
       "var network = new vis.Network(container, data, options);\n",
       "network.fit({\n",
       "  maxZoomLevel: 1000});\n",
       "});\n",
       "</script>\n"
      ],
      "text/plain": [
       "<IPython.core.display.HTML object>"
      ]
     },
     "metadata": {},
     "output_type": "display_data"
    }
   ],
   "source": [
    "tadpole.rates = [1, 1, 1, 1, 2, 2, 2, 1]\n",
    "tadpole.show_flow()"
   ]
  },
  {
   "cell_type": "markdown",
   "id": "fa26b9fc",
   "metadata": {},
   "source": [
    "Sounds better..."
   ]
  },
  {
   "cell_type": "code",
   "execution_count": 8,
   "id": "56f5207b",
   "metadata": {
    "ExecuteTime": {
     "end_time": "2022-01-24T14:38:45.659344Z",
     "start_time": "2022-01-24T14:38:45.645186Z"
    }
   },
   "outputs": [
    {
     "data": {
      "text/plain": [
       "True"
      ]
     },
     "execution_count": 8,
     "metadata": {},
     "output_type": "execute_result"
    }
   ],
   "source": [
    "tadpole.stabilizable"
   ]
  },
  {
   "cell_type": "markdown",
   "id": "755c0be7",
   "metadata": {},
   "source": [
    "### Nonjective tadpole"
   ]
  },
  {
   "cell_type": "markdown",
   "id": "72e8e82b",
   "metadata": {},
   "source": [
    "We now consider the bipartite tadpole $T_{4, 1}$, again with uniform arrival rates."
   ]
  },
  {
   "cell_type": "code",
   "execution_count": 9,
   "id": "01f441fb",
   "metadata": {
    "ExecuteTime": {
     "end_time": "2022-01-24T14:38:45.675286Z",
     "start_time": "2022-01-24T14:38:45.661266Z"
    }
   },
   "outputs": [
    {
     "data": {
      "text/html": [
       "\n",
       "<div id=\"bba1b943-c29b-483f-880e-d9c84921f5fe\"></div>\n",
       "<script>\n",
       "require.config({\n",
       "    paths: {\n",
       "        vis: 'https://unpkg.com/vis-network/standalone/umd/vis-network.min'\n",
       "    }\n",
       "});\n",
       "require(['vis'], function(vis){\n",
       "var nodes = [{\"id\": 0, \"label\": \"0\", \"title\": \"0\"}, {\"id\": 1, \"label\": \"1\", \"title\": \"1\"}, {\"id\": 2, \"label\": \"2\", \"title\": \"2\"}, {\"id\": 3, \"label\": \"3\", \"title\": \"3\"}, {\"id\": 4, \"label\": \"4\", \"title\": \"4\"}];\n",
       "var edges = [{\"title\": \"0: (0, 1)\", \"label\": \"\", \"from\": 0, \"to\": 1}, {\"title\": \"1: (0, 3)\", \"label\": \"\", \"from\": 0, \"to\": 3}, {\"title\": \"2: (1, 2)\", \"label\": \"\", \"from\": 1, \"to\": 2}, {\"title\": \"3: (2, 3)\", \"label\": \"\", \"from\": 2, \"to\": 3}, {\"title\": \"4: (3, 4)\", \"label\": \"\", \"from\": 3, \"to\": 4}];\n",
       "var data= {\n",
       "    nodes: nodes,\n",
       "    edges: edges,\n",
       "};\n",
       "var options = {\"interaction\": {\"navigationButtons\": true}, \"width\": \"600px\", \"height\": 200};\n",
       "var container = document.getElementById('bba1b943-c29b-483f-880e-d9c84921f5fe');\n",
       "var network = new vis.Network(container, data, options);\n",
       "network.fit({\n",
       "  maxZoomLevel: 1000});\n",
       "});\n",
       "</script>\n"
      ],
      "text/plain": [
       "<IPython.core.display.HTML object>"
      ]
     },
     "metadata": {},
     "output_type": "display_data"
    }
   ],
   "source": [
    "tadpole = sm.Tadpole(m=4, n=1, rates='uniform')\n",
    "tadpole.show_graph()"
   ]
  },
  {
   "cell_type": "markdown",
   "id": "71c788a5",
   "metadata": {},
   "source": [
    "Look at the kernel."
   ]
  },
  {
   "cell_type": "code",
   "execution_count": 10,
   "id": "96fc31d4",
   "metadata": {
    "ExecuteTime": {
     "end_time": "2022-01-24T14:38:45.690792Z",
     "start_time": "2022-01-24T14:38:45.677526Z"
    }
   },
   "outputs": [
    {
     "data": {
      "text/plain": [
       "Kernels of a graph with 5 nodes and 5 edges.\n",
       "Node dimension is 1.\n",
       "Edge dimension is 1\n",
       "Type: Nonjective\n",
       "Node kernel:\n",
       "[[ 1]\n",
       " [-1]\n",
       " [ 1]\n",
       " [-1]\n",
       " [ 1]]\n",
       "Edge kernel:\n",
       "[[ 1 -1 -1  1  0]]"
      ]
     },
     "execution_count": 10,
     "metadata": {},
     "output_type": "execute_result"
    }
   ],
   "source": [
    "tadpole.kernel"
   ]
  },
  {
   "cell_type": "markdown",
   "id": "1b61720e",
   "metadata": {},
   "source": [
    "The node kernel shows the bipartite repartition of the nodes (*positive* and *negative* nodes)."
   ]
  },
  {
   "cell_type": "markdown",
   "id": "924f1d58",
   "metadata": {},
   "source": [
    "The edge kernel shows how the rate flow can *slide* between edges. It can be displayed:"
   ]
  },
  {
   "cell_type": "code",
   "execution_count": 11,
   "id": "9279f726",
   "metadata": {
    "ExecuteTime": {
     "end_time": "2022-01-24T14:38:45.705814Z",
     "start_time": "2022-01-24T14:38:45.692304Z"
    }
   },
   "outputs": [
    {
     "data": {
      "text/html": [
       "\n",
       "<div id=\"63edeb98-3c32-474a-9031-52495bb2d9a1\"></div>\n",
       "<script>\n",
       "require.config({\n",
       "    paths: {\n",
       "        vis: 'https://unpkg.com/vis-network/standalone/umd/vis-network.min'\n",
       "    }\n",
       "});\n",
       "require(['vis'], function(vis){\n",
       "var nodes = [{\"id\": 0, \"label\": \"1\", \"title\": \"0\"}, {\"id\": 1, \"label\": \"1\", \"title\": \"1\"}, {\"id\": 2, \"label\": \"1\", \"title\": \"2\"}, {\"id\": 3, \"label\": \"1\", \"title\": \"3\"}, {\"id\": 4, \"label\": \"1\", \"title\": \"4\"}];\n",
       "var edges = [{\"title\": \"0: (0, 1)\", \"label\": \"+\\u03b11\", \"from\": 0, \"to\": 1}, {\"title\": \"1: (0, 3)\", \"label\": \"-\\u03b11\", \"from\": 0, \"to\": 3}, {\"title\": \"2: (1, 2)\", \"label\": \"-\\u03b11\", \"from\": 1, \"to\": 2}, {\"title\": \"3: (2, 3)\", \"label\": \"+\\u03b11\", \"from\": 2, \"to\": 3}, {\"title\": \"4: (3, 4)\", \"label\": \"\", \"color\": \"black\", \"from\": 3, \"to\": 4}];\n",
       "var data= {\n",
       "    nodes: nodes,\n",
       "    edges: edges,\n",
       "};\n",
       "var options = {\"interaction\": {\"navigationButtons\": true}, \"width\": \"600px\", \"height\": 200};\n",
       "var container = document.getElementById('63edeb98-3c32-474a-9031-52495bb2d9a1');\n",
       "var network = new vis.Network(container, data, options);\n",
       "network.fit({\n",
       "  maxZoomLevel: 1000});\n",
       "});\n",
       "</script>\n"
      ],
      "text/plain": [
       "<IPython.core.display.HTML object>"
      ]
     },
     "metadata": {},
     "output_type": "display_data"
    }
   ],
   "source": [
    "tadpole.show_kernel()"
   ]
  },
  {
   "cell_type": "markdown",
   "id": "5a51826a",
   "metadata": {},
   "source": [
    "Note the black edge above: it indicates that the specific edge is unaffected by the kernel."
   ]
  },
  {
   "cell_type": "markdown",
   "id": "b1dd2718",
   "metadata": {},
   "source": [
    "Let see the (attempt) solution of the conservation equation:"
   ]
  },
  {
   "cell_type": "code",
   "execution_count": 12,
   "id": "cc8c0b45",
   "metadata": {
    "ExecuteTime": {
     "end_time": "2022-01-24T14:38:45.721073Z",
     "start_time": "2022-01-24T14:38:45.709014Z"
    }
   },
   "outputs": [
    {
     "data": {
      "text/html": [
       "\n",
       "<div id=\"1429725b-01aa-45ad-b8fb-9ad061a830fb\"></div>\n",
       "<script>\n",
       "require.config({\n",
       "    paths: {\n",
       "        vis: 'https://unpkg.com/vis-network/standalone/umd/vis-network.min'\n",
       "    }\n",
       "});\n",
       "require(['vis'], function(vis){\n",
       "var nodes = [{\"id\": 0, \"label\": \"1\", \"title\": \"0\", \"color\": \"red\"}, {\"id\": 1, \"label\": \"1\", \"title\": \"1\", \"color\": \"red\"}, {\"id\": 2, \"label\": \"1\", \"title\": \"2\", \"color\": \"red\"}, {\"id\": 3, \"label\": \"1\", \"title\": \"3\", \"color\": \"red\"}, {\"id\": 4, \"label\": \"1\", \"title\": \"4\", \"color\": \"red\"}];\n",
       "var edges = [{\"title\": \"0: (0, 1)\", \"label\": \"0.6\", \"color\": \"blue\", \"from\": 0, \"to\": 1}, {\"title\": \"1: (0, 3)\", \"label\": \"0.2\", \"color\": \"blue\", \"from\": 0, \"to\": 3}, {\"title\": \"2: (1, 2)\", \"label\": \"0.6\", \"color\": \"blue\", \"from\": 1, \"to\": 2}, {\"title\": \"3: (2, 3)\", \"label\": \"0.2\", \"color\": \"blue\", \"from\": 2, \"to\": 3}, {\"title\": \"4: (3, 4)\", \"label\": \"0.8\", \"color\": \"blue\", \"from\": 3, \"to\": 4}];\n",
       "var data= {\n",
       "    nodes: nodes,\n",
       "    edges: edges,\n",
       "};\n",
       "var options = {\"interaction\": {\"navigationButtons\": true}, \"width\": \"600px\", \"height\": 200};\n",
       "var container = document.getElementById('1429725b-01aa-45ad-b8fb-9ad061a830fb');\n",
       "var network = new vis.Network(container, data, options);\n",
       "network.fit({\n",
       "  maxZoomLevel: 1000});\n",
       "});\n",
       "</script>\n"
      ],
      "text/plain": [
       "<IPython.core.display.HTML object>"
      ]
     },
     "metadata": {},
     "output_type": "display_data"
    }
   ],
   "source": [
    "tadpole.show_flow()"
   ]
  },
  {
   "cell_type": "markdown",
   "id": "c8ea8e57",
   "metadata": {},
   "source": [
    "The red nodes indicate that the conservation equation is not satisfied. This is not surprising, as the total arrival rates on positive nodes, 3, is distinct from the total arrival rates on negative nodes, 2.\n",
    "\n",
    "We can change the rates in order to equalize the arrival rates."
   ]
  },
  {
   "cell_type": "code",
   "execution_count": 13,
   "id": "85a2746f",
   "metadata": {
    "ExecuteTime": {
     "end_time": "2022-01-24T14:38:45.736629Z",
     "start_time": "2022-01-24T14:38:45.722607Z"
    }
   },
   "outputs": [
    {
     "data": {
      "text/html": [
       "\n",
       "<div id=\"50a5059e-9e83-42bc-bedd-45f9de49285c\"></div>\n",
       "<script>\n",
       "require.config({\n",
       "    paths: {\n",
       "        vis: 'https://unpkg.com/vis-network/standalone/umd/vis-network.min'\n",
       "    }\n",
       "});\n",
       "require(['vis'], function(vis){\n",
       "var nodes = [{\"id\": 0, \"label\": \"1\", \"title\": \"0\"}, {\"id\": 1, \"label\": \"1\", \"title\": \"1\"}, {\"id\": 2, \"label\": \"1\", \"title\": \"2\"}, {\"id\": 3, \"label\": \"2\", \"title\": \"3\"}, {\"id\": 4, \"label\": \"1\", \"title\": \"4\"}];\n",
       "var edges = [{\"title\": \"0: (0, 1)\", \"label\": \"0.5\", \"color\": \"blue\", \"from\": 0, \"to\": 1}, {\"title\": \"1: (0, 3)\", \"label\": \"0.5\", \"color\": \"blue\", \"from\": 0, \"to\": 3}, {\"title\": \"2: (1, 2)\", \"label\": \"0.5\", \"color\": \"blue\", \"from\": 1, \"to\": 2}, {\"title\": \"3: (2, 3)\", \"label\": \"0.5\", \"color\": \"blue\", \"from\": 2, \"to\": 3}, {\"title\": \"4: (3, 4)\", \"label\": \"1\", \"color\": \"blue\", \"from\": 3, \"to\": 4}];\n",
       "var data= {\n",
       "    nodes: nodes,\n",
       "    edges: edges,\n",
       "};\n",
       "var options = {\"interaction\": {\"navigationButtons\": true}, \"width\": \"600px\", \"height\": 200};\n",
       "var container = document.getElementById('50a5059e-9e83-42bc-bedd-45f9de49285c');\n",
       "var network = new vis.Network(container, data, options);\n",
       "network.fit({\n",
       "  maxZoomLevel: 1000});\n",
       "});\n",
       "</script>\n"
      ],
      "text/plain": [
       "<IPython.core.display.HTML object>"
      ]
     },
     "metadata": {},
     "output_type": "display_data"
    }
   ],
   "source": [
    "tadpole.rates = [1, 1, 1, 2, 1]\n",
    "tadpole.show_flow()"
   ]
  },
  {
   "cell_type": "markdown",
   "id": "60b28965",
   "metadata": {},
   "source": [
    "Note that the respect of the conservation law is not sufficient for stability: the fact that the graph is not surjective forbids stability."
   ]
  },
  {
   "cell_type": "code",
   "execution_count": 14,
   "id": "95c24a1b",
   "metadata": {
    "ExecuteTime": {
     "end_time": "2022-01-24T14:38:45.752883Z",
     "start_time": "2022-01-24T14:38:45.738605Z"
    }
   },
   "outputs": [
    {
     "data": {
      "text/plain": [
       "False"
      ]
     },
     "execution_count": 14,
     "metadata": {},
     "output_type": "execute_result"
    }
   ],
   "source": [
    "tadpole.stabilizable"
   ]
  },
  {
   "cell_type": "markdown",
   "id": "18820273",
   "metadata": {},
   "source": [
    "This does not forbid considering the vertices of the positive solutions."
   ]
  },
  {
   "cell_type": "code",
   "execution_count": 15,
   "id": "8fa449e2",
   "metadata": {
    "ExecuteTime": {
     "end_time": "2022-01-24T14:38:45.767990Z",
     "start_time": "2022-01-24T14:38:45.755578Z"
    }
   },
   "outputs": [
    {
     "data": {
      "text/plain": [
       "[{'kernel_coordinates': array([-0.5]),\n",
       "  'edge_coordinates': array([0., 1., 1., 0., 1.]),\n",
       "  'null_edges': [0, 3],\n",
       "  'bijective': False},\n",
       " {'kernel_coordinates': array([0.5]),\n",
       "  'edge_coordinates': array([1., 0., 0., 1., 1.]),\n",
       "  'null_edges': [1, 2],\n",
       "  'bijective': False}]"
      ]
     },
     "execution_count": 15,
     "metadata": {},
     "output_type": "execute_result"
    }
   ],
   "source": [
    "tadpole.vertices"
   ]
  },
  {
   "cell_type": "code",
   "execution_count": 16,
   "id": "b2644dad",
   "metadata": {
    "ExecuteTime": {
     "end_time": "2022-01-24T14:38:45.783285Z",
     "start_time": "2022-01-24T14:38:45.769039Z"
    }
   },
   "outputs": [
    {
     "data": {
      "text/html": [
       "\n",
       "<div id=\"a009da4f-18ba-4547-9836-c468baac7034\"></div>\n",
       "<script>\n",
       "require.config({\n",
       "    paths: {\n",
       "        vis: 'https://unpkg.com/vis-network/standalone/umd/vis-network.min'\n",
       "    }\n",
       "});\n",
       "require(['vis'], function(vis){\n",
       "var nodes = [{\"id\": 0, \"label\": \"0\", \"title\": \"0\"}, {\"id\": 1, \"label\": \"1\", \"title\": \"1\"}, {\"id\": 2, \"label\": \"2\", \"title\": \"2\"}, {\"id\": 3, \"label\": \"3\", \"title\": \"3\"}, {\"id\": 4, \"label\": \"4\", \"title\": \"4\"}];\n",
       "var edges = [{\"title\": \"0: (0, 1)\", \"label\": \"\", \"color\": \"orange\", \"from\": 0, \"to\": 1}, {\"title\": \"1: (0, 3)\", \"label\": \"1\", \"color\": \"blue\", \"from\": 0, \"to\": 3}, {\"title\": \"2: (1, 2)\", \"label\": \"1\", \"color\": \"blue\", \"from\": 1, \"to\": 2}, {\"title\": \"3: (2, 3)\", \"label\": \"\", \"color\": \"orange\", \"from\": 2, \"to\": 3}, {\"title\": \"4: (3, 4)\", \"label\": \"1\", \"color\": \"blue\", \"from\": 3, \"to\": 4}];\n",
       "var data= {\n",
       "    nodes: nodes,\n",
       "    edges: edges,\n",
       "};\n",
       "var options = {\"interaction\": {\"navigationButtons\": true}, \"width\": \"600px\", \"height\": 200};\n",
       "var container = document.getElementById('a009da4f-18ba-4547-9836-c468baac7034');\n",
       "var network = new vis.Network(container, data, options);\n",
       "network.fit({\n",
       "  maxZoomLevel: 1000});\n",
       "});\n",
       "</script>\n"
      ],
      "text/plain": [
       "<IPython.core.display.HTML object>"
      ]
     },
     "metadata": {},
     "output_type": "display_data"
    },
    {
     "data": {
      "text/html": [
       "\n",
       "<div id=\"f2228b76-e0c8-46c6-89b1-94f67379aae7\"></div>\n",
       "<script>\n",
       "require.config({\n",
       "    paths: {\n",
       "        vis: 'https://unpkg.com/vis-network/standalone/umd/vis-network.min'\n",
       "    }\n",
       "});\n",
       "require(['vis'], function(vis){\n",
       "var nodes = [{\"id\": 0, \"label\": \"0\", \"title\": \"0\"}, {\"id\": 1, \"label\": \"1\", \"title\": \"1\"}, {\"id\": 2, \"label\": \"2\", \"title\": \"2\"}, {\"id\": 3, \"label\": \"3\", \"title\": \"3\"}, {\"id\": 4, \"label\": \"4\", \"title\": \"4\"}];\n",
       "var edges = [{\"title\": \"0: (0, 1)\", \"label\": \"1\", \"color\": \"blue\", \"from\": 0, \"to\": 1}, {\"title\": \"1: (0, 3)\", \"label\": \"\", \"color\": \"orange\", \"from\": 0, \"to\": 3}, {\"title\": \"2: (1, 2)\", \"label\": \"\", \"color\": \"orange\", \"from\": 1, \"to\": 2}, {\"title\": \"3: (2, 3)\", \"label\": \"1\", \"color\": \"blue\", \"from\": 2, \"to\": 3}, {\"title\": \"4: (3, 4)\", \"label\": \"1\", \"color\": \"blue\", \"from\": 3, \"to\": 4}];\n",
       "var data= {\n",
       "    nodes: nodes,\n",
       "    edges: edges,\n",
       "};\n",
       "var options = {\"interaction\": {\"navigationButtons\": true}, \"width\": \"600px\", \"height\": 200};\n",
       "var container = document.getElementById('f2228b76-e0c8-46c6-89b1-94f67379aae7');\n",
       "var network = new vis.Network(container, data, options);\n",
       "network.fit({\n",
       "  maxZoomLevel: 1000});\n",
       "});\n",
       "</script>\n"
      ],
      "text/plain": [
       "<IPython.core.display.HTML object>"
      ]
     },
     "metadata": {},
     "output_type": "display_data"
    }
   ],
   "source": [
    "for i in range(len(tadpole.vertices)):\n",
    "    tadpole.show_vertex(i, disp_rates=False)"
   ]
  },
  {
   "cell_type": "markdown",
   "id": "3af59ecd",
   "metadata": {},
   "source": [
    "## The diamond graph"
   ]
  },
  {
   "cell_type": "markdown",
   "id": "aad09999",
   "metadata": {},
   "source": [
    "Consider the following diamond:"
   ]
  },
  {
   "cell_type": "code",
   "execution_count": 17,
   "id": "7272abee",
   "metadata": {
    "ExecuteTime": {
     "end_time": "2022-01-24T14:38:45.798452Z",
     "start_time": "2022-01-24T14:38:45.785278Z"
    }
   },
   "outputs": [
    {
     "data": {
      "text/html": [
       "\n",
       "<div id=\"1eb0ae63-c3eb-4560-afaa-a104101561e6\"></div>\n",
       "<script>\n",
       "require.config({\n",
       "    paths: {\n",
       "        vis: 'https://unpkg.com/vis-network/standalone/umd/vis-network.min'\n",
       "    }\n",
       "});\n",
       "require(['vis'], function(vis){\n",
       "var nodes = [{\"id\": 0, \"label\": \"0\", \"title\": \"0\"}, {\"id\": 1, \"label\": \"1\", \"title\": \"1\"}, {\"id\": 2, \"label\": \"2\", \"title\": \"2\"}, {\"id\": 3, \"label\": \"3\", \"title\": \"3\"}];\n",
       "var edges = [{\"title\": \"0: (0, 1)\", \"label\": \"\", \"from\": 0, \"to\": 1}, {\"title\": \"1: (0, 2)\", \"label\": \"\", \"from\": 0, \"to\": 2}, {\"title\": \"2: (1, 2)\", \"label\": \"\", \"from\": 1, \"to\": 2}, {\"title\": \"3: (1, 3)\", \"label\": \"\", \"from\": 1, \"to\": 3}, {\"title\": \"4: (2, 3)\", \"label\": \"\", \"from\": 2, \"to\": 3}];\n",
       "var data= {\n",
       "    nodes: nodes,\n",
       "    edges: edges,\n",
       "};\n",
       "var options = {\"interaction\": {\"navigationButtons\": true}, \"width\": \"600px\", \"height\": 200};\n",
       "var container = document.getElementById('1eb0ae63-c3eb-4560-afaa-a104101561e6');\n",
       "var network = new vis.Network(container, data, options);\n",
       "network.fit({\n",
       "  maxZoomLevel: 1000});\n",
       "});\n",
       "</script>\n"
      ],
      "text/plain": [
       "<IPython.core.display.HTML object>"
      ]
     },
     "metadata": {},
     "output_type": "display_data"
    }
   ],
   "source": [
    "diamond = sm.CycleChain(rates='uniform')\n",
    "diamond.show_graph()"
   ]
  },
  {
   "cell_type": "markdown",
   "id": "07965089",
   "metadata": {},
   "source": [
    "The graph structure is as follows:"
   ]
  },
  {
   "cell_type": "code",
   "execution_count": 18,
   "id": "fee5b584",
   "metadata": {
    "ExecuteTime": {
     "end_time": "2022-01-24T14:38:45.814466Z",
     "start_time": "2022-01-24T14:38:45.800254Z"
    }
   },
   "outputs": [
    {
     "data": {
      "text/plain": [
       "Kernels of a graph with 4 nodes and 5 edges.\n",
       "Node dimension is 0.\n",
       "Edge dimension is 1\n",
       "Type: Surjective-only\n",
       "Node kernel:\n",
       "[]\n",
       "Edge kernel:\n",
       "[[ 1 -1  0 -1  1]]"
      ]
     },
     "execution_count": 18,
     "metadata": {},
     "output_type": "execute_result"
    }
   ],
   "source": [
    "diamond.kernel"
   ]
  },
  {
   "cell_type": "markdown",
   "id": "c5eb3087",
   "metadata": {
    "ExecuteTime": {
     "end_time": "2022-01-24T13:28:09.622625Z",
     "start_time": "2022-01-24T13:28:09.606990Z"
    }
   },
   "source": [
    "We can look at the kernel structure."
   ]
  },
  {
   "cell_type": "code",
   "execution_count": 19,
   "id": "27457740",
   "metadata": {
    "ExecuteTime": {
     "end_time": "2022-01-24T14:38:45.828987Z",
     "start_time": "2022-01-24T14:38:45.815989Z"
    }
   },
   "outputs": [
    {
     "data": {
      "text/html": [
       "\n",
       "<div id=\"cff17aa6-f8b5-4cd3-b1f0-19f7cc9afe66\"></div>\n",
       "<script>\n",
       "require.config({\n",
       "    paths: {\n",
       "        vis: 'https://unpkg.com/vis-network/standalone/umd/vis-network.min'\n",
       "    }\n",
       "});\n",
       "require(['vis'], function(vis){\n",
       "var nodes = [{\"id\": 0, \"label\": \"1\", \"title\": \"0\"}, {\"id\": 1, \"label\": \"1\", \"title\": \"1\"}, {\"id\": 2, \"label\": \"1\", \"title\": \"2\"}, {\"id\": 3, \"label\": \"1\", \"title\": \"3\"}];\n",
       "var edges = [{\"title\": \"0: (0, 1)\", \"label\": \"0.5+\\u03b11\", \"from\": 0, \"to\": 1}, {\"title\": \"1: (0, 2)\", \"label\": \"0.5-\\u03b11\", \"from\": 0, \"to\": 2}, {\"title\": \"2: (1, 2)\", \"label\": \"\", \"color\": \"black\", \"from\": 1, \"to\": 2}, {\"title\": \"3: (1, 3)\", \"label\": \"0.5-\\u03b11\", \"from\": 1, \"to\": 3}, {\"title\": \"4: (2, 3)\", \"label\": \"0.5+\\u03b11\", \"from\": 2, \"to\": 3}];\n",
       "var data= {\n",
       "    nodes: nodes,\n",
       "    edges: edges,\n",
       "};\n",
       "var options = {\"interaction\": {\"navigationButtons\": true}, \"width\": \"600px\", \"height\": 200};\n",
       "var container = document.getElementById('cff17aa6-f8b5-4cd3-b1f0-19f7cc9afe66');\n",
       "var network = new vis.Network(container, data, options);\n",
       "network.fit({\n",
       "  maxZoomLevel: 1000});\n",
       "});\n",
       "</script>\n"
      ],
      "text/plain": [
       "<IPython.core.display.HTML object>"
      ]
     },
     "metadata": {},
     "output_type": "display_data"
    }
   ],
   "source": [
    "diamond.show_kernel(disp_flow=True)"
   ]
  },
  {
   "cell_type": "markdown",
   "id": "cf11e536",
   "metadata": {},
   "source": [
    "We observe a null edge. As it is black (outside the edge kernel), it will remain null in all solutions of the conservation equation. In other words, the model is not stabilizable."
   ]
  },
  {
   "cell_type": "code",
   "execution_count": 20,
   "id": "b1bad3e9",
   "metadata": {
    "ExecuteTime": {
     "end_time": "2022-01-24T14:38:45.844878Z",
     "start_time": "2022-01-24T14:38:45.830995Z"
    }
   },
   "outputs": [
    {
     "data": {
      "text/plain": [
       "False"
      ]
     },
     "execution_count": 20,
     "metadata": {},
     "output_type": "execute_result"
    }
   ],
   "source": [
    "diamond.stabilizable"
   ]
  },
  {
   "cell_type": "markdown",
   "id": "522c07fb",
   "metadata": {},
   "source": [
    "Let make it stabilizable."
   ]
  },
  {
   "cell_type": "code",
   "execution_count": 21,
   "id": "8a4cbdab",
   "metadata": {
    "ExecuteTime": {
     "end_time": "2022-01-24T14:38:45.860356Z",
     "start_time": "2022-01-24T14:38:45.846164Z"
    }
   },
   "outputs": [],
   "source": [
    "diamond.rates = [2, 3, 2, 1]"
   ]
  },
  {
   "cell_type": "code",
   "execution_count": 22,
   "id": "dfa70ec9",
   "metadata": {
    "ExecuteTime": {
     "end_time": "2022-01-24T14:38:45.875919Z",
     "start_time": "2022-01-24T14:38:45.861744Z"
    }
   },
   "outputs": [
    {
     "data": {
      "text/html": [
       "\n",
       "<div id=\"e6615032-fc42-40ae-851b-b1b94b750847\"></div>\n",
       "<script>\n",
       "require.config({\n",
       "    paths: {\n",
       "        vis: 'https://unpkg.com/vis-network/standalone/umd/vis-network.min'\n",
       "    }\n",
       "});\n",
       "require(['vis'], function(vis){\n",
       "var nodes = [{\"id\": 0, \"label\": \"2\", \"title\": \"0\"}, {\"id\": 1, \"label\": \"3\", \"title\": \"1\"}, {\"id\": 2, \"label\": \"2\", \"title\": \"2\"}, {\"id\": 3, \"label\": \"1\", \"title\": \"3\"}];\n",
       "var edges = [{\"title\": \"0: (0, 1)\", \"label\": \"1.25+\\u03b11\", \"from\": 0, \"to\": 1}, {\"title\": \"1: (0, 2)\", \"label\": \"0.75-\\u03b11\", \"from\": 0, \"to\": 2}, {\"title\": \"2: (1, 2)\", \"label\": \"1\", \"color\": \"black\", \"from\": 1, \"to\": 2}, {\"title\": \"3: (1, 3)\", \"label\": \"0.75-\\u03b11\", \"from\": 1, \"to\": 3}, {\"title\": \"4: (2, 3)\", \"label\": \"0.25+\\u03b11\", \"from\": 2, \"to\": 3}];\n",
       "var data= {\n",
       "    nodes: nodes,\n",
       "    edges: edges,\n",
       "};\n",
       "var options = {\"interaction\": {\"navigationButtons\": true}, \"width\": \"600px\", \"height\": 200};\n",
       "var container = document.getElementById('e6615032-fc42-40ae-851b-b1b94b750847');\n",
       "var network = new vis.Network(container, data, options);\n",
       "network.fit({\n",
       "  maxZoomLevel: 1000});\n",
       "});\n",
       "</script>\n"
      ],
      "text/plain": [
       "<IPython.core.display.HTML object>"
      ]
     },
     "metadata": {},
     "output_type": "display_data"
    }
   ],
   "source": [
    "diamond.show_kernel(disp_flow=True)"
   ]
  },
  {
   "cell_type": "markdown",
   "id": "1ab1069f",
   "metadata": {},
   "source": [
    "Better! Note that the represented base flow is the Moore-Penrose inverse. We can use the maximin flow if we prefer."
   ]
  },
  {
   "cell_type": "code",
   "execution_count": 23,
   "id": "e98812b6",
   "metadata": {
    "ExecuteTime": {
     "end_time": "2022-01-24T14:38:45.891711Z",
     "start_time": "2022-01-24T14:38:45.877708Z"
    }
   },
   "outputs": [
    {
     "data": {
      "text/html": [
       "\n",
       "<div id=\"960195c8-32e7-4a20-a55a-5bd3369ae1c2\"></div>\n",
       "<script>\n",
       "require.config({\n",
       "    paths: {\n",
       "        vis: 'https://unpkg.com/vis-network/standalone/umd/vis-network.min'\n",
       "    }\n",
       "});\n",
       "require(['vis'], function(vis){\n",
       "var nodes = [{\"id\": 0, \"label\": \"2\", \"title\": \"0\"}, {\"id\": 1, \"label\": \"3\", \"title\": \"1\"}, {\"id\": 2, \"label\": \"2\", \"title\": \"2\"}, {\"id\": 3, \"label\": \"1\", \"title\": \"3\"}];\n",
       "var edges = [{\"title\": \"0: (0, 1)\", \"label\": \"1.5+\\u03b11\", \"from\": 0, \"to\": 1}, {\"title\": \"1: (0, 2)\", \"label\": \"0.5-\\u03b11\", \"from\": 0, \"to\": 2}, {\"title\": \"2: (1, 2)\", \"label\": \"1\", \"color\": \"black\", \"from\": 1, \"to\": 2}, {\"title\": \"3: (1, 3)\", \"label\": \"0.5-\\u03b11\", \"from\": 1, \"to\": 3}, {\"title\": \"4: (2, 3)\", \"label\": \"0.5+\\u03b11\", \"from\": 2, \"to\": 3}];\n",
       "var data= {\n",
       "    nodes: nodes,\n",
       "    edges: edges,\n",
       "};\n",
       "var options = {\"interaction\": {\"navigationButtons\": true}, \"width\": \"600px\", \"height\": 200};\n",
       "var container = document.getElementById('960195c8-32e7-4a20-a55a-5bd3369ae1c2');\n",
       "var network = new vis.Network(container, data, options);\n",
       "network.fit({\n",
       "  maxZoomLevel: 1000});\n",
       "});\n",
       "</script>\n"
      ],
      "text/plain": [
       "<IPython.core.display.HTML object>"
      ]
     },
     "metadata": {},
     "output_type": "display_data"
    }
   ],
   "source": [
    "diamond.show_kernel(disp_flow=True, flow=diamond.maximin)"
   ]
  },
  {
   "cell_type": "markdown",
   "id": "e55493e7",
   "metadata": {},
   "source": [
    "Another feature: looking the incompressible flow, which is the minimal rate achieved in any positive solution."
   ]
  },
  {
   "cell_type": "code",
   "execution_count": 24,
   "id": "07bb1397",
   "metadata": {
    "ExecuteTime": {
     "end_time": "2022-01-24T14:38:45.907485Z",
     "start_time": "2022-01-24T14:38:45.893247Z"
    }
   },
   "outputs": [
    {
     "data": {
      "text/html": [
       "\n",
       "<div id=\"4609fcab-bfce-4c97-aa12-7fc3b60bb1f2\"></div>\n",
       "<script>\n",
       "require.config({\n",
       "    paths: {\n",
       "        vis: 'https://unpkg.com/vis-network/standalone/umd/vis-network.min'\n",
       "    }\n",
       "});\n",
       "require(['vis'], function(vis){\n",
       "var nodes = [{\"id\": 0, \"label\": \"2\", \"title\": \"0\"}, {\"id\": 1, \"label\": \"3\", \"title\": \"1\"}, {\"id\": 2, \"label\": \"2\", \"title\": \"2\"}, {\"id\": 3, \"label\": \"1\", \"title\": \"3\"}];\n",
       "var edges = [{\"title\": \"0: (0, 1)\", \"label\": \"1\", \"from\": 0, \"to\": 1}, {\"title\": \"1: (0, 2)\", \"label\": \"\", \"from\": 0, \"to\": 2}, {\"title\": \"2: (1, 2)\", \"label\": \"1\", \"from\": 1, \"to\": 2}, {\"title\": \"3: (1, 3)\", \"label\": \"\", \"from\": 1, \"to\": 3}, {\"title\": \"4: (2, 3)\", \"label\": \"\", \"from\": 2, \"to\": 3}];\n",
       "var data= {\n",
       "    nodes: nodes,\n",
       "    edges: edges,\n",
       "};\n",
       "var options = {\"interaction\": {\"navigationButtons\": true}, \"width\": \"600px\", \"height\": 200};\n",
       "var container = document.getElementById('4609fcab-bfce-4c97-aa12-7fc3b60bb1f2');\n",
       "var network = new vis.Network(container, data, options);\n",
       "network.fit({\n",
       "  maxZoomLevel: 1000});\n",
       "});\n",
       "</script>\n"
      ],
      "text/plain": [
       "<IPython.core.display.HTML object>"
      ]
     },
     "metadata": {},
     "output_type": "display_data"
    }
   ],
   "source": [
    "diamond.show_flow(flow=diamond.incompressible_flow(), check_flow=False, disp_zero=False)"
   ]
  },
  {
   "cell_type": "markdown",
   "id": "55d3814a",
   "metadata": {},
   "source": [
    "To finish, let have a look at the vertices."
   ]
  },
  {
   "cell_type": "code",
   "execution_count": 25,
   "id": "d15e9f27",
   "metadata": {
    "ExecuteTime": {
     "end_time": "2022-01-24T14:38:45.923144Z",
     "start_time": "2022-01-24T14:38:45.909585Z"
    }
   },
   "outputs": [
    {
     "data": {
      "text/plain": [
       "[{'kernel_coordinates': array([-0.25]),\n",
       "  'edge_coordinates': array([1., 1., 1., 1., 0.]),\n",
       "  'null_edges': [4],\n",
       "  'bijective': True},\n",
       " {'kernel_coordinates': array([0.75]),\n",
       "  'edge_coordinates': array([2., 0., 1., 0., 1.]),\n",
       "  'null_edges': [1, 3],\n",
       "  'bijective': False}]"
      ]
     },
     "execution_count": 25,
     "metadata": {},
     "output_type": "execute_result"
    }
   ],
   "source": [
    "diamond.vertices"
   ]
  },
  {
   "cell_type": "code",
   "execution_count": 26,
   "id": "22d7c2ef",
   "metadata": {
    "ExecuteTime": {
     "end_time": "2022-01-24T14:38:45.939492Z",
     "start_time": "2022-01-24T14:38:45.925146Z"
    }
   },
   "outputs": [
    {
     "data": {
      "text/html": [
       "\n",
       "<div id=\"b7a2d15d-f919-4033-836a-4ee6a864ad21\"></div>\n",
       "<script>\n",
       "require.config({\n",
       "    paths: {\n",
       "        vis: 'https://unpkg.com/vis-network/standalone/umd/vis-network.min'\n",
       "    }\n",
       "});\n",
       "require(['vis'], function(vis){\n",
       "var nodes = [{\"id\": 0, \"label\": \"2\", \"title\": \"0\"}, {\"id\": 1, \"label\": \"3\", \"title\": \"1\"}, {\"id\": 2, \"label\": \"2\", \"title\": \"2\"}, {\"id\": 3, \"label\": \"1\", \"title\": \"3\"}];\n",
       "var edges = [{\"title\": \"0: (0, 1)\", \"label\": \"1\", \"color\": \"blue\", \"from\": 0, \"to\": 1}, {\"title\": \"1: (0, 2)\", \"label\": \"1\", \"color\": \"blue\", \"from\": 0, \"to\": 2}, {\"title\": \"2: (1, 2)\", \"label\": \"1\", \"color\": \"blue\", \"from\": 1, \"to\": 2}, {\"title\": \"3: (1, 3)\", \"label\": \"1\", \"color\": \"blue\", \"from\": 1, \"to\": 3}, {\"title\": \"4: (2, 3)\", \"label\": \"\", \"color\": \"orange\", \"from\": 2, \"to\": 3}];\n",
       "var data= {\n",
       "    nodes: nodes,\n",
       "    edges: edges,\n",
       "};\n",
       "var options = {\"interaction\": {\"navigationButtons\": true}, \"width\": \"600px\", \"height\": 200};\n",
       "var container = document.getElementById('b7a2d15d-f919-4033-836a-4ee6a864ad21');\n",
       "var network = new vis.Network(container, data, options);\n",
       "network.fit({\n",
       "  maxZoomLevel: 1000});\n",
       "});\n",
       "</script>\n"
      ],
      "text/plain": [
       "<IPython.core.display.HTML object>"
      ]
     },
     "metadata": {},
     "output_type": "display_data"
    },
    {
     "data": {
      "text/html": [
       "\n",
       "<div id=\"9a9d9c14-1bed-4b8c-a54e-1262f86f8b11\"></div>\n",
       "<script>\n",
       "require.config({\n",
       "    paths: {\n",
       "        vis: 'https://unpkg.com/vis-network/standalone/umd/vis-network.min'\n",
       "    }\n",
       "});\n",
       "require(['vis'], function(vis){\n",
       "var nodes = [{\"id\": 0, \"label\": \"2\", \"title\": \"0\"}, {\"id\": 1, \"label\": \"3\", \"title\": \"1\"}, {\"id\": 2, \"label\": \"2\", \"title\": \"2\"}, {\"id\": 3, \"label\": \"1\", \"title\": \"3\"}];\n",
       "var edges = [{\"title\": \"0: (0, 1)\", \"label\": \"2\", \"color\": \"blue\", \"from\": 0, \"to\": 1}, {\"title\": \"1: (0, 2)\", \"label\": \"\", \"color\": \"orange\", \"from\": 0, \"to\": 2}, {\"title\": \"2: (1, 2)\", \"label\": \"1\", \"color\": \"blue\", \"from\": 1, \"to\": 2}, {\"title\": \"3: (1, 3)\", \"label\": \"\", \"color\": \"orange\", \"from\": 1, \"to\": 3}, {\"title\": \"4: (2, 3)\", \"label\": \"1\", \"color\": \"blue\", \"from\": 2, \"to\": 3}];\n",
       "var data= {\n",
       "    nodes: nodes,\n",
       "    edges: edges,\n",
       "};\n",
       "var options = {\"interaction\": {\"navigationButtons\": true}, \"width\": \"600px\", \"height\": 200};\n",
       "var container = document.getElementById('9a9d9c14-1bed-4b8c-a54e-1262f86f8b11');\n",
       "var network = new vis.Network(container, data, options);\n",
       "network.fit({\n",
       "  maxZoomLevel: 1000});\n",
       "});\n",
       "</script>\n"
      ],
      "text/plain": [
       "<IPython.core.display.HTML object>"
      ]
     },
     "metadata": {},
     "output_type": "display_data"
    }
   ],
   "source": [
    "for i in range(len(tadpole.vertices)):\n",
    "    diamond.show_vertex(i)"
   ]
  },
  {
   "cell_type": "markdown",
   "id": "4982ef9b",
   "metadata": {},
   "source": [
    "## Not connected simple graphs"
   ]
  },
  {
   "cell_type": "markdown",
   "id": "1fc786a9",
   "metadata": {},
   "source": [
    "The package deals with simple graphs even if they are not connected. Consider a graph made of a square, a complete graph of size 4, a diamond, a paw and a three-edged star:"
   ]
  },
  {
   "cell_type": "code",
   "execution_count": 27,
   "id": "e5bb9026",
   "metadata": {
    "ExecuteTime": {
     "end_time": "2022-01-24T14:38:45.994338Z",
     "start_time": "2022-01-24T14:38:45.941608Z"
    }
   },
   "outputs": [
    {
     "data": {
      "text/html": [
       "\n",
       "<div id=\"cd4b3d4b-64bd-42bc-a862-adbab13c0a73\"></div>\n",
       "<script>\n",
       "require.config({\n",
       "    paths: {\n",
       "        vis: 'https://unpkg.com/vis-network/standalone/umd/vis-network.min'\n",
       "    }\n",
       "});\n",
       "require(['vis'], function(vis){\n",
       "var nodes = [{\"id\": 0, \"label\": \"0\", \"title\": \"0\"}, {\"id\": 1, \"label\": \"1\", \"title\": \"1\"}, {\"id\": 2, \"label\": \"2\", \"title\": \"2\"}, {\"id\": 3, \"label\": \"3\", \"title\": \"3\"}, {\"id\": 4, \"label\": \"4\", \"title\": \"4\"}, {\"id\": 5, \"label\": \"5\", \"title\": \"5\"}, {\"id\": 6, \"label\": \"6\", \"title\": \"6\"}, {\"id\": 7, \"label\": \"7\", \"title\": \"7\"}, {\"id\": 8, \"label\": \"8\", \"title\": \"8\"}, {\"id\": 9, \"label\": \"9\", \"title\": \"9\"}, {\"id\": 10, \"label\": \"10\", \"title\": \"10\"}, {\"id\": 11, \"label\": \"11\", \"title\": \"11\"}, {\"id\": 12, \"label\": \"12\", \"title\": \"12\"}, {\"id\": 13, \"label\": \"13\", \"title\": \"13\"}, {\"id\": 14, \"label\": \"14\", \"title\": \"14\"}, {\"id\": 15, \"label\": \"15\", \"title\": \"15\"}, {\"id\": 16, \"label\": \"16\", \"title\": \"16\"}, {\"id\": 17, \"label\": \"17\", \"title\": \"17\"}, {\"id\": 18, \"label\": \"18\", \"title\": \"18\"}, {\"id\": 19, \"label\": \"19\", \"title\": \"19\"}];\n",
       "var edges = [{\"title\": \"0: (0, 1)\", \"label\": \"\", \"from\": 0, \"to\": 1}, {\"title\": \"1: (0, 3)\", \"label\": \"\", \"from\": 0, \"to\": 3}, {\"title\": \"2: (1, 2)\", \"label\": \"\", \"from\": 1, \"to\": 2}, {\"title\": \"3: (2, 3)\", \"label\": \"\", \"from\": 2, \"to\": 3}, {\"title\": \"4: (4, 5)\", \"label\": \"\", \"from\": 4, \"to\": 5}, {\"title\": \"5: (4, 6)\", \"label\": \"\", \"from\": 4, \"to\": 6}, {\"title\": \"6: (4, 7)\", \"label\": \"\", \"from\": 4, \"to\": 7}, {\"title\": \"7: (5, 6)\", \"label\": \"\", \"from\": 5, \"to\": 6}, {\"title\": \"8: (5, 7)\", \"label\": \"\", \"from\": 5, \"to\": 7}, {\"title\": \"9: (6, 7)\", \"label\": \"\", \"from\": 6, \"to\": 7}, {\"title\": \"10: (8, 9)\", \"label\": \"\", \"from\": 8, \"to\": 9}, {\"title\": \"11: (8, 10)\", \"label\": \"\", \"from\": 8, \"to\": 10}, {\"title\": \"12: (9, 10)\", \"label\": \"\", \"from\": 9, \"to\": 10}, {\"title\": \"13: (9, 11)\", \"label\": \"\", \"from\": 9, \"to\": 11}, {\"title\": \"14: (10, 11)\", \"label\": \"\", \"from\": 10, \"to\": 11}, {\"title\": \"15: (12, 13)\", \"label\": \"\", \"from\": 12, \"to\": 13}, {\"title\": \"16: (12, 14)\", \"label\": \"\", \"from\": 12, \"to\": 14}, {\"title\": \"17: (13, 14)\", \"label\": \"\", \"from\": 13, \"to\": 14}, {\"title\": \"18: (14, 15)\", \"label\": \"\", \"from\": 14, \"to\": 15}, {\"title\": \"19: (16, 17)\", \"label\": \"\", \"from\": 16, \"to\": 17}, {\"title\": \"20: (16, 18)\", \"label\": \"\", \"from\": 16, \"to\": 18}, {\"title\": \"21: (16, 19)\", \"label\": \"\", \"from\": 16, \"to\": 19}];\n",
       "var data= {\n",
       "    nodes: nodes,\n",
       "    edges: edges,\n",
       "};\n",
       "var options = {\"interaction\": {\"navigationButtons\": true}, \"width\": \"600px\", \"height\": 600};\n",
       "var container = document.getElementById('cd4b3d4b-64bd-42bc-a862-adbab13c0a73');\n",
       "var network = new vis.Network(container, data, options);\n",
       "network.fit({\n",
       "  maxZoomLevel: 1000});\n",
       "});\n",
       "</script>\n"
      ],
      "text/plain": [
       "<IPython.core.display.HTML object>"
      ]
     },
     "metadata": {},
     "output_type": "display_data"
    }
   ],
   "source": [
    "VIS_OPTIONS['height'] = 600\n",
    "sample = sm.concatenate([sm.Cycle(4), sm.Complete(4), sm.CycleChain(), sm.Tadpole(), sm.Star()], 0 )\n",
    "sample.show_graph()"
   ]
  },
  {
   "cell_type": "markdown",
   "id": "df760bd0",
   "metadata": {},
   "source": [
    "The kernel will display global information:"
   ]
  },
  {
   "cell_type": "code",
   "execution_count": 28,
   "id": "5d769fcf",
   "metadata": {
    "ExecuteTime": {
     "end_time": "2022-01-24T14:38:46.021584Z",
     "start_time": "2022-01-24T14:38:45.998850Z"
    }
   },
   "outputs": [
    {
     "data": {
      "text/plain": [
       "Kernels of a graph with 20 nodes and 22 edges.\n",
       "Node dimension is 2.\n",
       "Edge dimension is 4\n",
       "Type: Nonjective\n",
       "Node kernel:\n",
       "[[ 0  1]\n",
       " [ 0 -1]\n",
       " [ 0  1]\n",
       " [ 0 -1]\n",
       " [ 0  0]\n",
       " [ 0  0]\n",
       " [ 0  0]\n",
       " [ 0  0]\n",
       " [ 0  0]\n",
       " [ 0  0]\n",
       " [ 0  0]\n",
       " [ 0  0]\n",
       " [ 0  0]\n",
       " [ 0  0]\n",
       " [ 0  0]\n",
       " [ 0  0]\n",
       " [-1  0]\n",
       " [ 1  0]\n",
       " [ 1  0]\n",
       " [ 1  0]]\n",
       "Edge kernel:\n",
       "[[ 1 -1 -1  1  0  0  0  0  0  0  0  0  0  0  0  0  0  0  0  0  0  0]\n",
       " [ 0  0  0  0  1 -1  0  0 -1  1  0  0  0  0  0  0  0  0  0  0  0  0]\n",
       " [ 0  0  0  0  0 -1  1  1 -1  0  0  0  0  0  0  0  0  0  0  0  0  0]\n",
       " [ 0  0  0  0  0  0  0  0  0  0  1 -1  0 -1  1  0  0  0  0  0  0  0]]"
      ]
     },
     "execution_count": 28,
     "metadata": {},
     "output_type": "execute_result"
    }
   ],
   "source": [
    "sample.kernel"
   ]
  },
  {
   "cell_type": "markdown",
   "id": "4333e760",
   "metadata": {},
   "source": [
    "- The two node vectors point to the bipartite connected components (the square and the star).\n",
    "- The four edge vectors point to the even cycles from the square, complete graph, and diamond."
   ]
  },
  {
   "cell_type": "markdown",
   "id": "75d7c005",
   "metadata": {},
   "source": [
    "If we want further information, we can look at the `connected_components` attribute."
   ]
  },
  {
   "cell_type": "code",
   "execution_count": 29,
   "id": "751ce9b6",
   "metadata": {
    "ExecuteTime": {
     "end_time": "2022-01-24T14:38:46.032718Z",
     "start_time": "2022-01-24T14:38:46.023699Z"
    }
   },
   "outputs": [
    {
     "data": {
      "text/plain": [
       "[{'nodes': {0, 1, 2, 3},\n",
       "  'edges': {0, 1, 2, 3},\n",
       "  'spanner': {0, 1, 2},\n",
       "  'pivot': False,\n",
       "  'seeds': {3},\n",
       "  'type': 'Bipartite with cycle(s)'},\n",
       " {'nodes': {4, 5, 6, 7},\n",
       "  'edges': {4, 5, 6, 7, 8, 9},\n",
       "  'spanner': {4, 5, 6},\n",
       "  'pivot': 8,\n",
       "  'seeds': {7, 9},\n",
       "  'type': 'Non-bipartite polycyclic'},\n",
       " {'nodes': {8, 9, 10, 11},\n",
       "  'edges': {10, 11, 12, 13, 14},\n",
       "  'spanner': {10, 11, 13},\n",
       "  'pivot': 12,\n",
       "  'seeds': {14},\n",
       "  'type': 'Non-bipartite polycyclic'},\n",
       " {'nodes': {12, 13, 14, 15},\n",
       "  'edges': {15, 16, 17, 18},\n",
       "  'spanner': {15, 16, 18},\n",
       "  'pivot': 17,\n",
       "  'seeds': set(),\n",
       "  'type': 'Non-bipartite monocyclic'},\n",
       " {'nodes': {16, 17, 18, 19},\n",
       "  'edges': {19, 20, 21},\n",
       "  'spanner': {19, 20, 21},\n",
       "  'pivot': False,\n",
       "  'seeds': set(),\n",
       "  'type': 'Tree'}]"
      ]
     },
     "execution_count": 29,
     "metadata": {},
     "output_type": "execute_result"
    }
   ],
   "source": [
    "sample.connected_components"
   ]
  },
  {
   "cell_type": "markdown",
   "id": "baa80cd7",
   "metadata": {},
   "source": [
    "Connected components give the following information for each connected component:\n",
    "- The nodes and edges that belong to that component (or more accurately their index);\n",
    "- A spanner of the component, e.g. a set of edges that form a spanning tree for the component;\n",
    "- If the component is surjective, a *pivot*, e.g. an edge that makes the spanner non-bipartite if we add it;\n",
    "- *Seeds*, which are a set of edges that can be used to build a edge kernel basis made of cycles and kayak paddles.\n",
    "- The type of the component. For example, for a connected component, injective-only is a synonym for tree."
   ]
  },
  {
   "cell_type": "markdown",
   "id": "54325ce6",
   "metadata": {},
   "source": [
    "All operations that were previously performed can be done on graphs that are not connected."
   ]
  },
  {
   "cell_type": "code",
   "execution_count": 30,
   "id": "2cfe5990",
   "metadata": {
    "ExecuteTime": {
     "end_time": "2022-01-24T14:38:46.048224Z",
     "start_time": "2022-01-24T14:38:46.034208Z"
    }
   },
   "outputs": [
    {
     "data": {
      "text/html": [
       "\n",
       "<div id=\"e696bbc0-06e9-4f53-8244-31f7f0ccf393\"></div>\n",
       "<script>\n",
       "require.config({\n",
       "    paths: {\n",
       "        vis: 'https://unpkg.com/vis-network/standalone/umd/vis-network.min'\n",
       "    }\n",
       "});\n",
       "require(['vis'], function(vis){\n",
       "var nodes = [{\"id\": 0, \"label\": \"2\", \"title\": \"0\"}, {\"id\": 1, \"label\": \"2\", \"title\": \"1\"}, {\"id\": 2, \"label\": \"2\", \"title\": \"2\"}, {\"id\": 3, \"label\": \"2\", \"title\": \"3\"}, {\"id\": 4, \"label\": \"3\", \"title\": \"4\"}, {\"id\": 5, \"label\": \"3\", \"title\": \"5\"}, {\"id\": 6, \"label\": \"3\", \"title\": \"6\"}, {\"id\": 7, \"label\": \"3\", \"title\": \"7\"}, {\"id\": 8, \"label\": \"2\", \"title\": \"8\"}, {\"id\": 9, \"label\": \"3\", \"title\": \"9\"}, {\"id\": 10, \"label\": \"3\", \"title\": \"10\"}, {\"id\": 11, \"label\": \"2\", \"title\": \"11\"}, {\"id\": 12, \"label\": \"2\", \"title\": \"12\"}, {\"id\": 13, \"label\": \"2\", \"title\": \"13\"}, {\"id\": 14, \"label\": \"3\", \"title\": \"14\"}, {\"id\": 15, \"label\": \"1\", \"title\": \"15\"}, {\"id\": 16, \"label\": \"3\", \"title\": \"16\"}, {\"id\": 17, \"label\": \"1\", \"title\": \"17\"}, {\"id\": 18, \"label\": \"1\", \"title\": \"18\"}, {\"id\": 19, \"label\": \"1\", \"title\": \"19\"}];\n",
       "var edges = [{\"title\": \"0: (0, 1)\", \"label\": \"1+\\u03b11\", \"from\": 0, \"to\": 1}, {\"title\": \"1: (0, 3)\", \"label\": \"1-\\u03b11\", \"from\": 0, \"to\": 3}, {\"title\": \"2: (1, 2)\", \"label\": \"1-\\u03b11\", \"from\": 1, \"to\": 2}, {\"title\": \"3: (2, 3)\", \"label\": \"1+\\u03b11\", \"from\": 2, \"to\": 3}, {\"title\": \"4: (4, 5)\", \"label\": \"1+\\u03b12\", \"from\": 4, \"to\": 5}, {\"title\": \"5: (4, 6)\", \"label\": \"1-\\u03b12-\\u03b13\", \"from\": 4, \"to\": 6}, {\"title\": \"6: (4, 7)\", \"label\": \"1+\\u03b13\", \"from\": 4, \"to\": 7}, {\"title\": \"7: (5, 6)\", \"label\": \"1+\\u03b13\", \"from\": 5, \"to\": 6}, {\"title\": \"8: (5, 7)\", \"label\": \"1-\\u03b12-\\u03b13\", \"from\": 5, \"to\": 7}, {\"title\": \"9: (6, 7)\", \"label\": \"1+\\u03b12\", \"from\": 6, \"to\": 7}, {\"title\": \"10: (8, 9)\", \"label\": \"1+\\u03b14\", \"from\": 8, \"to\": 9}, {\"title\": \"11: (8, 10)\", \"label\": \"1-\\u03b14\", \"from\": 8, \"to\": 10}, {\"title\": \"12: (9, 10)\", \"label\": \"1\", \"color\": \"black\", \"from\": 9, \"to\": 10}, {\"title\": \"13: (9, 11)\", \"label\": \"1-\\u03b14\", \"from\": 9, \"to\": 11}, {\"title\": \"14: (10, 11)\", \"label\": \"1+\\u03b14\", \"from\": 10, \"to\": 11}, {\"title\": \"15: (12, 13)\", \"label\": \"1\", \"color\": \"black\", \"from\": 12, \"to\": 13}, {\"title\": \"16: (12, 14)\", \"label\": \"1\", \"color\": \"black\", \"from\": 12, \"to\": 14}, {\"title\": \"17: (13, 14)\", \"label\": \"1\", \"color\": \"black\", \"from\": 13, \"to\": 14}, {\"title\": \"18: (14, 15)\", \"label\": \"1\", \"color\": \"black\", \"from\": 14, \"to\": 15}, {\"title\": \"19: (16, 17)\", \"label\": \"1\", \"color\": \"black\", \"from\": 16, \"to\": 17}, {\"title\": \"20: (16, 18)\", \"label\": \"1\", \"color\": \"black\", \"from\": 16, \"to\": 18}, {\"title\": \"21: (16, 19)\", \"label\": \"1\", \"color\": \"black\", \"from\": 16, \"to\": 19}];\n",
       "var data= {\n",
       "    nodes: nodes,\n",
       "    edges: edges,\n",
       "};\n",
       "var options = {\"interaction\": {\"navigationButtons\": true}, \"width\": \"600px\", \"height\": 600};\n",
       "var container = document.getElementById('e696bbc0-06e9-4f53-8244-31f7f0ccf393');\n",
       "var network = new vis.Network(container, data, options);\n",
       "network.fit({\n",
       "  maxZoomLevel: 1000});\n",
       "});\n",
       "</script>\n"
      ],
      "text/plain": [
       "<IPython.core.display.HTML object>"
      ]
     },
     "metadata": {},
     "output_type": "display_data"
    }
   ],
   "source": [
    "sample.show_kernel(disp_flow=True)"
   ]
  },
  {
   "cell_type": "markdown",
   "id": "e969fabb",
   "metadata": {},
   "source": [
    "## Hypergraphs"
   ]
  },
  {
   "cell_type": "markdown",
   "id": "54f5202c",
   "metadata": {},
   "source": [
    "### Candy"
   ]
  },
  {
   "cell_type": "markdown",
   "id": "2e9a8c40",
   "metadata": {},
   "source": [
    "The candy is a simple example of true hypergraph."
   ]
  },
  {
   "cell_type": "code",
   "execution_count": 31,
   "id": "febabc89",
   "metadata": {
    "ExecuteTime": {
     "end_time": "2022-01-24T14:38:46.063816Z",
     "start_time": "2022-01-24T14:38:46.051449Z"
    }
   },
   "outputs": [
    {
     "data": {
      "text/html": [
       "\n",
       "<div id=\"d85baeb9-56e9-4a25-a463-b33319eed119\"></div>\n",
       "<script>\n",
       "require.config({\n",
       "    paths: {\n",
       "        vis: 'https://unpkg.com/vis-network/standalone/umd/vis-network.min'\n",
       "    }\n",
       "});\n",
       "require(['vis'], function(vis){\n",
       "var nodes = [{\"id\": 0, \"label\": \"0\", \"title\": \"0\", \"x\": 0, \"group\": \"Node\"}, {\"id\": 1, \"label\": \"1\", \"title\": \"1\", \"x\": 0, \"group\": \"Node\"}, {\"id\": 2, \"label\": \"2\", \"title\": \"2\", \"x\": 0, \"group\": \"Node\"}, {\"id\": 3, \"label\": \"3\", \"title\": \"3\", \"x\": 0, \"group\": \"Node\"}, {\"id\": 4, \"label\": \"4\", \"title\": \"4\", \"x\": 0, \"group\": \"Node\"}, {\"id\": 5, \"label\": \"5\", \"title\": \"5\", \"x\": 0, \"group\": \"Node\"}, {\"id\": 6, \"label\": \"6\", \"title\": \"6\", \"x\": 0, \"group\": \"Node\"}, {\"title\": \"0: (0, 1)\", \"label\": \"\", \"id\": 7, \"group\": \"HyperEdge\", \"x\": 600}, {\"title\": \"1: (0, 2)\", \"label\": \"\", \"id\": 8, \"group\": \"HyperEdge\", \"x\": 600}, {\"title\": \"2: (1, 2)\", \"label\": \"\", \"id\": 9, \"group\": \"HyperEdge\", \"x\": 600}, {\"title\": \"3: (4, 5)\", \"label\": \"\", \"id\": 10, \"group\": \"HyperEdge\", \"x\": 600}, {\"title\": \"4: (4, 6)\", \"label\": \"\", \"id\": 11, \"group\": \"HyperEdge\", \"x\": 600}, {\"title\": \"5: (5, 6)\", \"label\": \"\", \"id\": 12, \"group\": \"HyperEdge\", \"x\": 600}, {\"title\": \"6: (2, 3, 4)\", \"label\": \"\", \"id\": 13, \"group\": \"HyperEdge\", \"x\": 600}];\n",
       "var edges = [{\"from\": 0, \"to\": 7, \"title\": \"0 <-> 0: (0, 1)\"}, {\"from\": 0, \"to\": 8, \"title\": \"0 <-> 1: (0, 2)\"}, {\"from\": 1, \"to\": 7, \"title\": \"1 <-> 0: (0, 1)\"}, {\"from\": 1, \"to\": 9, \"title\": \"1 <-> 2: (1, 2)\"}, {\"from\": 2, \"to\": 8, \"title\": \"2 <-> 1: (0, 2)\"}, {\"from\": 2, \"to\": 9, \"title\": \"2 <-> 2: (1, 2)\"}, {\"from\": 2, \"to\": 13, \"title\": \"2 <-> 6: (2, 3, 4)\"}, {\"from\": 3, \"to\": 13, \"title\": \"3 <-> 6: (2, 3, 4)\"}, {\"from\": 4, \"to\": 10, \"title\": \"4 <-> 3: (4, 5)\"}, {\"from\": 4, \"to\": 11, \"title\": \"4 <-> 4: (4, 6)\"}, {\"from\": 4, \"to\": 13, \"title\": \"4 <-> 6: (2, 3, 4)\"}, {\"from\": 5, \"to\": 10, \"title\": \"5 <-> 3: (4, 5)\"}, {\"from\": 5, \"to\": 12, \"title\": \"5 <-> 5: (5, 6)\"}, {\"from\": 6, \"to\": 11, \"title\": \"6 <-> 4: (4, 6)\"}, {\"from\": 6, \"to\": 12, \"title\": \"6 <-> 5: (5, 6)\"}];\n",
       "var data= {\n",
       "    nodes: nodes,\n",
       "    edges: edges,\n",
       "};\n",
       "var options = {\"interaction\": {\"navigationButtons\": true}, \"width\": \"600px\", \"height\": 600, \"groups\": {\"HyperEdge\": {\"fixed\": {\"x\": false}, \"color\": {\"background\": \"black\"}, \"shape\": \"dot\", \"size\": 5}, \"Node\": {\"fixed\": {\"x\": false}}}};\n",
       "var container = document.getElementById('d85baeb9-56e9-4a25-a463-b33319eed119');\n",
       "var network = new vis.Network(container, data, options);\n",
       "network.fit({\n",
       "  maxZoomLevel: 1000});\n",
       "});\n",
       "</script>\n"
      ],
      "text/plain": [
       "<IPython.core.display.HTML object>"
      ]
     },
     "metadata": {},
     "output_type": "display_data"
    }
   ],
   "source": [
    "candy = sm.HyperPaddle()\n",
    "candy.show_graph()"
   ]
  },
  {
   "cell_type": "markdown",
   "id": "96c62a8f",
   "metadata": {},
   "source": [
    "It is a bijective graph."
   ]
  },
  {
   "cell_type": "code",
   "execution_count": 32,
   "id": "f387623d",
   "metadata": {
    "ExecuteTime": {
     "end_time": "2022-01-24T14:38:46.079358Z",
     "start_time": "2022-01-24T14:38:46.065337Z"
    }
   },
   "outputs": [
    {
     "data": {
      "text/plain": [
       "Kernels of a graph with 7 nodes and 7 edges.\n",
       "Node dimension is 0.\n",
       "Edge dimension is 0\n",
       "Type: Bijective\n",
       "Node kernel:\n",
       "[]\n",
       "Edge kernel:\n",
       "[]"
      ]
     },
     "execution_count": 32,
     "metadata": {},
     "output_type": "execute_result"
    }
   ],
   "source": [
    "candy.kernel"
   ]
  },
  {
   "cell_type": "markdown",
   "id": "746b0d95",
   "metadata": {},
   "source": [
    "With degree-proportional arrival rates, it is stabilizable."
   ]
  },
  {
   "cell_type": "code",
   "execution_count": 33,
   "id": "27add91a",
   "metadata": {
    "ExecuteTime": {
     "end_time": "2022-01-24T14:38:46.094545Z",
     "start_time": "2022-01-24T14:38:46.080333Z"
    }
   },
   "outputs": [
    {
     "data": {
      "text/plain": [
       "True"
      ]
     },
     "execution_count": 33,
     "metadata": {},
     "output_type": "execute_result"
    }
   ],
   "source": [
    "candy.stabilizable"
   ]
  },
  {
   "cell_type": "markdown",
   "id": "c8925389",
   "metadata": {},
   "source": [
    "With uniform arrival rates, it is not stabilizable."
   ]
  },
  {
   "cell_type": "code",
   "execution_count": 34,
   "id": "eb365f7c",
   "metadata": {
    "ExecuteTime": {
     "end_time": "2022-01-24T14:38:46.109083Z",
     "start_time": "2022-01-24T14:38:46.096075Z"
    }
   },
   "outputs": [
    {
     "data": {
      "text/plain": [
       "False"
      ]
     },
     "execution_count": 34,
     "metadata": {},
     "output_type": "execute_result"
    }
   ],
   "source": [
    "candy.rates = 'uniform'\n",
    "candy.stabilizable"
   ]
  },
  {
   "cell_type": "code",
   "execution_count": 35,
   "id": "b0816aea",
   "metadata": {
    "ExecuteTime": {
     "end_time": "2022-01-24T14:38:46.125107Z",
     "start_time": "2022-01-24T14:38:46.111098Z"
    }
   },
   "outputs": [
    {
     "data": {
      "text/html": [
       "\n",
       "<div id=\"a416417f-b1f1-4ab3-b5aa-7e278a8bbb11\"></div>\n",
       "<script>\n",
       "require.config({\n",
       "    paths: {\n",
       "        vis: 'https://unpkg.com/vis-network/standalone/umd/vis-network.min'\n",
       "    }\n",
       "});\n",
       "require(['vis'], function(vis){\n",
       "var nodes = [{\"id\": 0, \"label\": \"1\", \"title\": \"0\", \"x\": 0, \"group\": \"Node\"}, {\"id\": 1, \"label\": \"1\", \"title\": \"1\", \"x\": 0, \"group\": \"Node\"}, {\"id\": 2, \"label\": \"1\", \"title\": \"2\", \"x\": 0, \"group\": \"Node\"}, {\"id\": 3, \"label\": \"1\", \"title\": \"3\", \"x\": 0, \"group\": \"Node\"}, {\"id\": 4, \"label\": \"1\", \"title\": \"4\", \"x\": 0, \"group\": \"Node\"}, {\"id\": 5, \"label\": \"1\", \"title\": \"5\", \"x\": 0, \"group\": \"Node\"}, {\"id\": 6, \"label\": \"1\", \"title\": \"6\", \"x\": 0, \"group\": \"Node\"}, {\"title\": \"0: (0, 1)\", \"label\": \"1\", \"color\": \"blue\", \"id\": 7, \"group\": \"HyperEdge\", \"x\": 600}, {\"title\": \"1: (0, 2)\", \"label\": \"0\", \"color\": \"orange\", \"id\": 8, \"group\": \"HyperEdge\", \"x\": 600}, {\"title\": \"2: (1, 2)\", \"label\": \"0\", \"color\": \"orange\", \"id\": 9, \"group\": \"HyperEdge\", \"x\": 600}, {\"title\": \"3: (4, 5)\", \"label\": \"0\", \"color\": \"orange\", \"id\": 10, \"group\": \"HyperEdge\", \"x\": 600}, {\"title\": \"4: (4, 6)\", \"label\": \"0\", \"color\": \"orange\", \"id\": 11, \"group\": \"HyperEdge\", \"x\": 600}, {\"title\": \"5: (5, 6)\", \"label\": \"1\", \"color\": \"blue\", \"id\": 12, \"group\": \"HyperEdge\", \"x\": 600}, {\"title\": \"6: (2, 3, 4)\", \"label\": \"1\", \"color\": \"blue\", \"id\": 13, \"group\": \"HyperEdge\", \"x\": 600}];\n",
       "var edges = [{\"from\": 0, \"to\": 7, \"title\": \"0 <-> 0: (0, 1)\"}, {\"from\": 0, \"to\": 8, \"title\": \"0 <-> 1: (0, 2)\"}, {\"from\": 1, \"to\": 7, \"title\": \"1 <-> 0: (0, 1)\"}, {\"from\": 1, \"to\": 9, \"title\": \"1 <-> 2: (1, 2)\"}, {\"from\": 2, \"to\": 8, \"title\": \"2 <-> 1: (0, 2)\"}, {\"from\": 2, \"to\": 9, \"title\": \"2 <-> 2: (1, 2)\"}, {\"from\": 2, \"to\": 13, \"title\": \"2 <-> 6: (2, 3, 4)\"}, {\"from\": 3, \"to\": 13, \"title\": \"3 <-> 6: (2, 3, 4)\"}, {\"from\": 4, \"to\": 10, \"title\": \"4 <-> 3: (4, 5)\"}, {\"from\": 4, \"to\": 11, \"title\": \"4 <-> 4: (4, 6)\"}, {\"from\": 4, \"to\": 13, \"title\": \"4 <-> 6: (2, 3, 4)\"}, {\"from\": 5, \"to\": 10, \"title\": \"5 <-> 3: (4, 5)\"}, {\"from\": 5, \"to\": 12, \"title\": \"5 <-> 5: (5, 6)\"}, {\"from\": 6, \"to\": 11, \"title\": \"6 <-> 4: (4, 6)\"}, {\"from\": 6, \"to\": 12, \"title\": \"6 <-> 5: (5, 6)\"}];\n",
       "var data= {\n",
       "    nodes: nodes,\n",
       "    edges: edges,\n",
       "};\n",
       "var options = {\"interaction\": {\"navigationButtons\": true}, \"width\": \"600px\", \"height\": 600, \"groups\": {\"HyperEdge\": {\"fixed\": {\"x\": false}, \"color\": {\"background\": \"black\"}, \"shape\": \"dot\", \"size\": 5}, \"Node\": {\"fixed\": {\"x\": false}}}};\n",
       "var container = document.getElementById('a416417f-b1f1-4ab3-b5aa-7e278a8bbb11');\n",
       "var network = new vis.Network(container, data, options);\n",
       "network.fit({\n",
       "  maxZoomLevel: 1000});\n",
       "});\n",
       "</script>\n"
      ],
      "text/plain": [
       "<IPython.core.display.HTML object>"
      ]
     },
     "metadata": {},
     "output_type": "display_data"
    }
   ],
   "source": [
    "candy.show_flow()"
   ]
  },
  {
   "cell_type": "markdown",
   "id": "3bcf6d33",
   "metadata": {},
   "source": [
    "### Fans"
   ]
  },
  {
   "cell_type": "markdown",
   "id": "2934a8d1",
   "metadata": {},
   "source": [
    "Fans yield nice examples of hypergraphs with cool kernels. The basic fan is called a *clover*."
   ]
  },
  {
   "cell_type": "code",
   "execution_count": 36,
   "id": "523185a3",
   "metadata": {
    "ExecuteTime": {
     "end_time": "2022-01-24T14:38:46.141262Z",
     "start_time": "2022-01-24T14:38:46.126980Z"
    }
   },
   "outputs": [
    {
     "data": {
      "text/html": [
       "\n",
       "<div id=\"a2c24e00-077b-4258-8295-772452d0d66a\"></div>\n",
       "<script>\n",
       "require.config({\n",
       "    paths: {\n",
       "        vis: 'https://unpkg.com/vis-network/standalone/umd/vis-network.min'\n",
       "    }\n",
       "});\n",
       "require(['vis'], function(vis){\n",
       "var nodes = [{\"id\": 0, \"label\": \"0\", \"title\": \"0\", \"x\": 0, \"group\": \"Node\"}, {\"id\": 1, \"label\": \"1\", \"title\": \"1\", \"x\": 0, \"group\": \"Node\"}, {\"id\": 2, \"label\": \"2\", \"title\": \"2\", \"x\": 0, \"group\": \"Node\"}, {\"id\": 3, \"label\": \"3\", \"title\": \"3\", \"x\": 0, \"group\": \"Node\"}, {\"id\": 4, \"label\": \"4\", \"title\": \"4\", \"x\": 0, \"group\": \"Node\"}, {\"id\": 5, \"label\": \"5\", \"title\": \"5\", \"x\": 0, \"group\": \"Node\"}, {\"id\": 6, \"label\": \"6\", \"title\": \"6\", \"x\": 0, \"group\": \"Node\"}, {\"id\": 7, \"label\": \"7\", \"title\": \"7\", \"x\": 0, \"group\": \"Node\"}, {\"id\": 8, \"label\": \"8\", \"title\": \"8\", \"x\": 0, \"group\": \"Node\"}, {\"title\": \"0: (0, 1)\", \"label\": \"\", \"id\": 9, \"group\": \"HyperEdge\", \"x\": 600}, {\"title\": \"1: (0, 2)\", \"label\": \"\", \"id\": 10, \"group\": \"HyperEdge\", \"x\": 600}, {\"title\": \"2: (1, 2)\", \"label\": \"\", \"id\": 11, \"group\": \"HyperEdge\", \"x\": 600}, {\"title\": \"3: (3, 4)\", \"label\": \"\", \"id\": 12, \"group\": \"HyperEdge\", \"x\": 600}, {\"title\": \"4: (3, 5)\", \"label\": \"\", \"id\": 13, \"group\": \"HyperEdge\", \"x\": 600}, {\"title\": \"5: (4, 5)\", \"label\": \"\", \"id\": 14, \"group\": \"HyperEdge\", \"x\": 600}, {\"title\": \"6: (6, 7)\", \"label\": \"\", \"id\": 15, \"group\": \"HyperEdge\", \"x\": 600}, {\"title\": \"7: (6, 8)\", \"label\": \"\", \"id\": 16, \"group\": \"HyperEdge\", \"x\": 600}, {\"title\": \"8: (7, 8)\", \"label\": \"\", \"id\": 17, \"group\": \"HyperEdge\", \"x\": 600}, {\"title\": \"9: (0, 3, 6)\", \"label\": \"\", \"id\": 18, \"group\": \"HyperEdge\", \"x\": 600}];\n",
       "var edges = [{\"from\": 0, \"to\": 9, \"title\": \"0 <-> 0: (0, 1)\"}, {\"from\": 0, \"to\": 10, \"title\": \"0 <-> 1: (0, 2)\"}, {\"from\": 0, \"to\": 18, \"title\": \"0 <-> 9: (0, 3, 6)\"}, {\"from\": 1, \"to\": 9, \"title\": \"1 <-> 0: (0, 1)\"}, {\"from\": 1, \"to\": 11, \"title\": \"1 <-> 2: (1, 2)\"}, {\"from\": 2, \"to\": 10, \"title\": \"2 <-> 1: (0, 2)\"}, {\"from\": 2, \"to\": 11, \"title\": \"2 <-> 2: (1, 2)\"}, {\"from\": 3, \"to\": 12, \"title\": \"3 <-> 3: (3, 4)\"}, {\"from\": 3, \"to\": 13, \"title\": \"3 <-> 4: (3, 5)\"}, {\"from\": 3, \"to\": 18, \"title\": \"3 <-> 9: (0, 3, 6)\"}, {\"from\": 4, \"to\": 12, \"title\": \"4 <-> 3: (3, 4)\"}, {\"from\": 4, \"to\": 14, \"title\": \"4 <-> 5: (4, 5)\"}, {\"from\": 5, \"to\": 13, \"title\": \"5 <-> 4: (3, 5)\"}, {\"from\": 5, \"to\": 14, \"title\": \"5 <-> 5: (4, 5)\"}, {\"from\": 6, \"to\": 15, \"title\": \"6 <-> 6: (6, 7)\"}, {\"from\": 6, \"to\": 16, \"title\": \"6 <-> 7: (6, 8)\"}, {\"from\": 6, \"to\": 18, \"title\": \"6 <-> 9: (0, 3, 6)\"}, {\"from\": 7, \"to\": 15, \"title\": \"7 <-> 6: (6, 7)\"}, {\"from\": 7, \"to\": 17, \"title\": \"7 <-> 8: (7, 8)\"}, {\"from\": 8, \"to\": 16, \"title\": \"8 <-> 7: (6, 8)\"}, {\"from\": 8, \"to\": 17, \"title\": \"8 <-> 8: (7, 8)\"}];\n",
       "var data= {\n",
       "    nodes: nodes,\n",
       "    edges: edges,\n",
       "};\n",
       "var options = {\"interaction\": {\"navigationButtons\": true}, \"width\": \"600px\", \"height\": 600, \"groups\": {\"HyperEdge\": {\"fixed\": {\"x\": false}, \"color\": {\"background\": \"black\"}, \"shape\": \"dot\", \"size\": 5}, \"Node\": {\"fixed\": {\"x\": false}}}};\n",
       "var container = document.getElementById('a2c24e00-077b-4258-8295-772452d0d66a');\n",
       "var network = new vis.Network(container, data, options);\n",
       "network.fit({\n",
       "  maxZoomLevel: 1000});\n",
       "});\n",
       "</script>\n"
      ],
      "text/plain": [
       "<IPython.core.display.HTML object>"
      ]
     },
     "metadata": {},
     "output_type": "display_data"
    }
   ],
   "source": [
    "clover = sm.Fan()\n",
    "clover.show_graph()"
   ]
  },
  {
   "cell_type": "code",
   "execution_count": 37,
   "id": "a4500c91",
   "metadata": {
    "ExecuteTime": {
     "end_time": "2022-01-24T14:38:46.156985Z",
     "start_time": "2022-01-24T14:38:46.142989Z"
    }
   },
   "outputs": [
    {
     "data": {
      "text/plain": [
       "Kernels of a graph with 9 nodes and 10 edges.\n",
       "Node dimension is 0.\n",
       "Edge dimension is 1\n",
       "Type: Surjective-only\n",
       "Node kernel:\n",
       "[]\n",
       "Edge kernel:\n",
       "[[-0.2773501 -0.2773501  0.2773501 -0.2773501 -0.2773501  0.2773501\n",
       "  -0.2773501 -0.2773501  0.2773501  0.5547002]]"
      ]
     },
     "execution_count": 37,
     "metadata": {},
     "output_type": "execute_result"
    }
   ],
   "source": [
    "clover.kernel"
   ]
  },
  {
   "cell_type": "code",
   "execution_count": 38,
   "id": "2f22c791",
   "metadata": {
    "ExecuteTime": {
     "end_time": "2022-01-24T14:38:46.172515Z",
     "start_time": "2022-01-24T14:38:46.159207Z"
    }
   },
   "outputs": [
    {
     "data": {
      "text/html": [
       "\n",
       "<div id=\"83687558-f71f-4939-ad03-db36031709de\"></div>\n",
       "<script>\n",
       "require.config({\n",
       "    paths: {\n",
       "        vis: 'https://unpkg.com/vis-network/standalone/umd/vis-network.min'\n",
       "    }\n",
       "});\n",
       "require(['vis'], function(vis){\n",
       "var nodes = [{\"id\": 0, \"label\": \"3\", \"title\": \"0\", \"x\": 0, \"group\": \"Node\"}, {\"id\": 1, \"label\": \"2\", \"title\": \"1\", \"x\": 0, \"group\": \"Node\"}, {\"id\": 2, \"label\": \"2\", \"title\": \"2\", \"x\": 0, \"group\": \"Node\"}, {\"id\": 3, \"label\": \"3\", \"title\": \"3\", \"x\": 0, \"group\": \"Node\"}, {\"id\": 4, \"label\": \"2\", \"title\": \"4\", \"x\": 0, \"group\": \"Node\"}, {\"id\": 5, \"label\": \"2\", \"title\": \"5\", \"x\": 0, \"group\": \"Node\"}, {\"id\": 6, \"label\": \"3\", \"title\": \"6\", \"x\": 0, \"group\": \"Node\"}, {\"id\": 7, \"label\": \"2\", \"title\": \"7\", \"x\": 0, \"group\": \"Node\"}, {\"id\": 8, \"label\": \"2\", \"title\": \"8\", \"x\": 0, \"group\": \"Node\"}, {\"title\": \"0: (0, 1)\", \"label\": \"-0.277\\u03b11\", \"id\": 9, \"group\": \"HyperEdge\", \"x\": 600}, {\"title\": \"1: (0, 2)\", \"label\": \"-0.277\\u03b11\", \"id\": 10, \"group\": \"HyperEdge\", \"x\": 600}, {\"title\": \"2: (1, 2)\", \"label\": \"+0.277\\u03b11\", \"id\": 11, \"group\": \"HyperEdge\", \"x\": 600}, {\"title\": \"3: (3, 4)\", \"label\": \"-0.277\\u03b11\", \"id\": 12, \"group\": \"HyperEdge\", \"x\": 600}, {\"title\": \"4: (3, 5)\", \"label\": \"-0.277\\u03b11\", \"id\": 13, \"group\": \"HyperEdge\", \"x\": 600}, {\"title\": \"5: (4, 5)\", \"label\": \"+0.277\\u03b11\", \"id\": 14, \"group\": \"HyperEdge\", \"x\": 600}, {\"title\": \"6: (6, 7)\", \"label\": \"-0.277\\u03b11\", \"id\": 15, \"group\": \"HyperEdge\", \"x\": 600}, {\"title\": \"7: (6, 8)\", \"label\": \"-0.277\\u03b11\", \"id\": 16, \"group\": \"HyperEdge\", \"x\": 600}, {\"title\": \"8: (7, 8)\", \"label\": \"+0.277\\u03b11\", \"id\": 17, \"group\": \"HyperEdge\", \"x\": 600}, {\"title\": \"9: (0, 3, 6)\", \"label\": \"+0.555\\u03b11\", \"id\": 18, \"group\": \"HyperEdge\", \"x\": 600}];\n",
       "var edges = [{\"from\": 0, \"to\": 9, \"title\": \"0 <-> 0: (0, 1)\"}, {\"from\": 0, \"to\": 10, \"title\": \"0 <-> 1: (0, 2)\"}, {\"from\": 0, \"to\": 18, \"title\": \"0 <-> 9: (0, 3, 6)\"}, {\"from\": 1, \"to\": 9, \"title\": \"1 <-> 0: (0, 1)\"}, {\"from\": 1, \"to\": 11, \"title\": \"1 <-> 2: (1, 2)\"}, {\"from\": 2, \"to\": 10, \"title\": \"2 <-> 1: (0, 2)\"}, {\"from\": 2, \"to\": 11, \"title\": \"2 <-> 2: (1, 2)\"}, {\"from\": 3, \"to\": 12, \"title\": \"3 <-> 3: (3, 4)\"}, {\"from\": 3, \"to\": 13, \"title\": \"3 <-> 4: (3, 5)\"}, {\"from\": 3, \"to\": 18, \"title\": \"3 <-> 9: (0, 3, 6)\"}, {\"from\": 4, \"to\": 12, \"title\": \"4 <-> 3: (3, 4)\"}, {\"from\": 4, \"to\": 14, \"title\": \"4 <-> 5: (4, 5)\"}, {\"from\": 5, \"to\": 13, \"title\": \"5 <-> 4: (3, 5)\"}, {\"from\": 5, \"to\": 14, \"title\": \"5 <-> 5: (4, 5)\"}, {\"from\": 6, \"to\": 15, \"title\": \"6 <-> 6: (6, 7)\"}, {\"from\": 6, \"to\": 16, \"title\": \"6 <-> 7: (6, 8)\"}, {\"from\": 6, \"to\": 18, \"title\": \"6 <-> 9: (0, 3, 6)\"}, {\"from\": 7, \"to\": 15, \"title\": \"7 <-> 6: (6, 7)\"}, {\"from\": 7, \"to\": 17, \"title\": \"7 <-> 8: (7, 8)\"}, {\"from\": 8, \"to\": 16, \"title\": \"8 <-> 7: (6, 8)\"}, {\"from\": 8, \"to\": 17, \"title\": \"8 <-> 8: (7, 8)\"}];\n",
       "var data= {\n",
       "    nodes: nodes,\n",
       "    edges: edges,\n",
       "};\n",
       "var options = {\"interaction\": {\"navigationButtons\": true}, \"width\": \"600px\", \"height\": 600, \"groups\": {\"HyperEdge\": {\"fixed\": {\"x\": false}, \"color\": {\"background\": \"black\"}, \"shape\": \"dot\", \"size\": 5}, \"Node\": {\"fixed\": {\"x\": false}}}};\n",
       "var container = document.getElementById('83687558-f71f-4939-ad03-db36031709de');\n",
       "var network = new vis.Network(container, data, options);\n",
       "network.fit({\n",
       "  maxZoomLevel: 1000});\n",
       "});\n",
       "</script>\n"
      ],
      "text/plain": [
       "<IPython.core.display.HTML object>"
      ]
     },
     "metadata": {},
     "output_type": "display_data"
    }
   ],
   "source": [
    "clover.show_kernel()"
   ]
  },
  {
   "cell_type": "markdown",
   "id": "79868c44",
   "metadata": {},
   "source": [
    "The double fan expands the kernel dimension."
   ]
  },
  {
   "cell_type": "code",
   "execution_count": 39,
   "id": "29a10081",
   "metadata": {
    "ExecuteTime": {
     "end_time": "2022-01-24T14:38:46.234114Z",
     "start_time": "2022-01-24T14:38:46.222601Z"
    }
   },
   "outputs": [
    {
     "data": {
      "text/html": [
       "\n",
       "<div id=\"5ae4ddfb-ff3c-43ca-99da-408c85796b5b\"></div>\n",
       "<script>\n",
       "require.config({\n",
       "    paths: {\n",
       "        vis: 'https://unpkg.com/vis-network/standalone/umd/vis-network.min'\n",
       "    }\n",
       "});\n",
       "require(['vis'], function(vis){\n",
       "var nodes = [{\"id\": 0, \"label\": \"0\", \"title\": \"0\", \"x\": 0, \"group\": \"Node\"}, {\"id\": 1, \"label\": \"1\", \"title\": \"1\", \"x\": 0, \"group\": \"Node\"}, {\"id\": 2, \"label\": \"2\", \"title\": \"2\", \"x\": 0, \"group\": \"Node\"}, {\"id\": 3, \"label\": \"3\", \"title\": \"3\", \"x\": 0, \"group\": \"Node\"}, {\"id\": 4, \"label\": \"4\", \"title\": \"4\", \"x\": 0, \"group\": \"Node\"}, {\"id\": 5, \"label\": \"5\", \"title\": \"5\", \"x\": 0, \"group\": \"Node\"}, {\"id\": 6, \"label\": \"6\", \"title\": \"6\", \"x\": 0, \"group\": \"Node\"}, {\"id\": 7, \"label\": \"7\", \"title\": \"7\", \"x\": 0, \"group\": \"Node\"}, {\"id\": 8, \"label\": \"8\", \"title\": \"8\", \"x\": 0, \"group\": \"Node\"}, {\"title\": \"0: (0, 1)\", \"label\": \"\", \"id\": 9, \"group\": \"HyperEdge\", \"x\": 600}, {\"title\": \"1: (0, 2)\", \"label\": \"\", \"id\": 10, \"group\": \"HyperEdge\", \"x\": 600}, {\"title\": \"2: (1, 2)\", \"label\": \"\", \"id\": 11, \"group\": \"HyperEdge\", \"x\": 600}, {\"title\": \"3: (3, 4)\", \"label\": \"\", \"id\": 12, \"group\": \"HyperEdge\", \"x\": 600}, {\"title\": \"4: (3, 5)\", \"label\": \"\", \"id\": 13, \"group\": \"HyperEdge\", \"x\": 600}, {\"title\": \"5: (4, 5)\", \"label\": \"\", \"id\": 14, \"group\": \"HyperEdge\", \"x\": 600}, {\"title\": \"6: (6, 7)\", \"label\": \"\", \"id\": 15, \"group\": \"HyperEdge\", \"x\": 600}, {\"title\": \"7: (6, 8)\", \"label\": \"\", \"id\": 16, \"group\": \"HyperEdge\", \"x\": 600}, {\"title\": \"8: (7, 8)\", \"label\": \"\", \"id\": 17, \"group\": \"HyperEdge\", \"x\": 600}, {\"title\": \"9: (0, 3, 6)\", \"label\": \"\", \"id\": 18, \"group\": \"HyperEdge\", \"x\": 600}, {\"title\": \"10: (1, 4, 7)\", \"label\": \"\", \"id\": 19, \"group\": \"HyperEdge\", \"x\": 600}];\n",
       "var edges = [{\"from\": 0, \"to\": 9, \"title\": \"0 <-> 0: (0, 1)\"}, {\"from\": 0, \"to\": 10, \"title\": \"0 <-> 1: (0, 2)\"}, {\"from\": 0, \"to\": 18, \"title\": \"0 <-> 9: (0, 3, 6)\"}, {\"from\": 1, \"to\": 9, \"title\": \"1 <-> 0: (0, 1)\"}, {\"from\": 1, \"to\": 11, \"title\": \"1 <-> 2: (1, 2)\"}, {\"from\": 1, \"to\": 19, \"title\": \"1 <-> 10: (1, 4, 7)\"}, {\"from\": 2, \"to\": 10, \"title\": \"2 <-> 1: (0, 2)\"}, {\"from\": 2, \"to\": 11, \"title\": \"2 <-> 2: (1, 2)\"}, {\"from\": 3, \"to\": 12, \"title\": \"3 <-> 3: (3, 4)\"}, {\"from\": 3, \"to\": 13, \"title\": \"3 <-> 4: (3, 5)\"}, {\"from\": 3, \"to\": 18, \"title\": \"3 <-> 9: (0, 3, 6)\"}, {\"from\": 4, \"to\": 12, \"title\": \"4 <-> 3: (3, 4)\"}, {\"from\": 4, \"to\": 14, \"title\": \"4 <-> 5: (4, 5)\"}, {\"from\": 4, \"to\": 19, \"title\": \"4 <-> 10: (1, 4, 7)\"}, {\"from\": 5, \"to\": 13, \"title\": \"5 <-> 4: (3, 5)\"}, {\"from\": 5, \"to\": 14, \"title\": \"5 <-> 5: (4, 5)\"}, {\"from\": 6, \"to\": 15, \"title\": \"6 <-> 6: (6, 7)\"}, {\"from\": 6, \"to\": 16, \"title\": \"6 <-> 7: (6, 8)\"}, {\"from\": 6, \"to\": 18, \"title\": \"6 <-> 9: (0, 3, 6)\"}, {\"from\": 7, \"to\": 15, \"title\": \"7 <-> 6: (6, 7)\"}, {\"from\": 7, \"to\": 17, \"title\": \"7 <-> 8: (7, 8)\"}, {\"from\": 7, \"to\": 19, \"title\": \"7 <-> 10: (1, 4, 7)\"}, {\"from\": 8, \"to\": 16, \"title\": \"8 <-> 7: (6, 8)\"}, {\"from\": 8, \"to\": 17, \"title\": \"8 <-> 8: (7, 8)\"}];\n",
       "var data= {\n",
       "    nodes: nodes,\n",
       "    edges: edges,\n",
       "};\n",
       "var options = {\"interaction\": {\"navigationButtons\": true}, \"width\": \"600px\", \"height\": 600, \"groups\": {\"HyperEdge\": {\"fixed\": {\"x\": false}, \"color\": {\"background\": \"black\"}, \"shape\": \"dot\", \"size\": 5}, \"Node\": {\"fixed\": {\"x\": false}}}};\n",
       "var container = document.getElementById('5ae4ddfb-ff3c-43ca-99da-408c85796b5b');\n",
       "var network = new vis.Network(container, data, options);\n",
       "network.fit({\n",
       "  maxZoomLevel: 1000});\n",
       "});\n",
       "</script>\n"
      ],
      "text/plain": [
       "<IPython.core.display.HTML object>"
      ]
     },
     "metadata": {},
     "output_type": "display_data"
    }
   ],
   "source": [
    "double = sm.Fan(hyperedges=2)\n",
    "double.show_graph()"
   ]
  },
  {
   "cell_type": "code",
   "execution_count": 40,
   "id": "25468d43",
   "metadata": {
    "ExecuteTime": {
     "end_time": "2022-01-24T14:38:46.249308Z",
     "start_time": "2022-01-24T14:38:46.236147Z"
    }
   },
   "outputs": [
    {
     "data": {
      "text/plain": [
       "Kernels of a graph with 9 nodes and 11 edges.\n",
       "Node dimension is 0.\n",
       "Edge dimension is 2\n",
       "Type: Surjective-only\n",
       "Node kernel:\n",
       "[]\n",
       "Edge kernel:\n",
       "[[-0.37868423 -0.18807953  0.18807953 -0.37868423 -0.18807953  0.18807953\n",
       "  -0.37868423 -0.18807953  0.18807953  0.56676376  0.19060469]\n",
       " [-0.23790388  0.29937617 -0.29937617 -0.23790388  0.29937617 -0.29937617\n",
       "  -0.23790388  0.29937617 -0.29937617 -0.06147228  0.53728005]]"
      ]
     },
     "execution_count": 40,
     "metadata": {},
     "output_type": "execute_result"
    }
   ],
   "source": [
    "double.kernel"
   ]
  },
  {
   "cell_type": "code",
   "execution_count": 41,
   "id": "f34c2d66",
   "metadata": {
    "ExecuteTime": {
     "end_time": "2022-01-24T14:38:46.264866Z",
     "start_time": "2022-01-24T14:38:46.250842Z"
    }
   },
   "outputs": [
    {
     "data": {
      "text/html": [
       "\n",
       "<div id=\"1e771f86-470c-489b-8097-d745156030ea\"></div>\n",
       "<script>\n",
       "require.config({\n",
       "    paths: {\n",
       "        vis: 'https://unpkg.com/vis-network/standalone/umd/vis-network.min'\n",
       "    }\n",
       "});\n",
       "require(['vis'], function(vis){\n",
       "var nodes = [{\"id\": 0, \"label\": \"3\", \"title\": \"0\", \"x\": 0, \"group\": \"Node\"}, {\"id\": 1, \"label\": \"3\", \"title\": \"1\", \"x\": 0, \"group\": \"Node\"}, {\"id\": 2, \"label\": \"2\", \"title\": \"2\", \"x\": 0, \"group\": \"Node\"}, {\"id\": 3, \"label\": \"3\", \"title\": \"3\", \"x\": 0, \"group\": \"Node\"}, {\"id\": 4, \"label\": \"3\", \"title\": \"4\", \"x\": 0, \"group\": \"Node\"}, {\"id\": 5, \"label\": \"2\", \"title\": \"5\", \"x\": 0, \"group\": \"Node\"}, {\"id\": 6, \"label\": \"3\", \"title\": \"6\", \"x\": 0, \"group\": \"Node\"}, {\"id\": 7, \"label\": \"3\", \"title\": \"7\", \"x\": 0, \"group\": \"Node\"}, {\"id\": 8, \"label\": \"2\", \"title\": \"8\", \"x\": 0, \"group\": \"Node\"}, {\"title\": \"0: (0, 1)\", \"label\": \"-0.379\\u03b11-0.238\\u03b12\", \"id\": 9, \"group\": \"HyperEdge\", \"x\": 600}, {\"title\": \"1: (0, 2)\", \"label\": \"-0.188\\u03b11+0.299\\u03b12\", \"id\": 10, \"group\": \"HyperEdge\", \"x\": 600}, {\"title\": \"2: (1, 2)\", \"label\": \"+0.188\\u03b11-0.299\\u03b12\", \"id\": 11, \"group\": \"HyperEdge\", \"x\": 600}, {\"title\": \"3: (3, 4)\", \"label\": \"-0.379\\u03b11-0.238\\u03b12\", \"id\": 12, \"group\": \"HyperEdge\", \"x\": 600}, {\"title\": \"4: (3, 5)\", \"label\": \"-0.188\\u03b11+0.299\\u03b12\", \"id\": 13, \"group\": \"HyperEdge\", \"x\": 600}, {\"title\": \"5: (4, 5)\", \"label\": \"+0.188\\u03b11-0.299\\u03b12\", \"id\": 14, \"group\": \"HyperEdge\", \"x\": 600}, {\"title\": \"6: (6, 7)\", \"label\": \"-0.379\\u03b11-0.238\\u03b12\", \"id\": 15, \"group\": \"HyperEdge\", \"x\": 600}, {\"title\": \"7: (6, 8)\", \"label\": \"-0.188\\u03b11+0.299\\u03b12\", \"id\": 16, \"group\": \"HyperEdge\", \"x\": 600}, {\"title\": \"8: (7, 8)\", \"label\": \"+0.188\\u03b11-0.299\\u03b12\", \"id\": 17, \"group\": \"HyperEdge\", \"x\": 600}, {\"title\": \"9: (0, 3, 6)\", \"label\": \"+0.567\\u03b11-0.0615\\u03b12\", \"id\": 18, \"group\": \"HyperEdge\", \"x\": 600}, {\"title\": \"10: (1, 4, 7)\", \"label\": \"+0.191\\u03b11+0.537\\u03b12\", \"id\": 19, \"group\": \"HyperEdge\", \"x\": 600}];\n",
       "var edges = [{\"from\": 0, \"to\": 9, \"title\": \"0 <-> 0: (0, 1)\"}, {\"from\": 0, \"to\": 10, \"title\": \"0 <-> 1: (0, 2)\"}, {\"from\": 0, \"to\": 18, \"title\": \"0 <-> 9: (0, 3, 6)\"}, {\"from\": 1, \"to\": 9, \"title\": \"1 <-> 0: (0, 1)\"}, {\"from\": 1, \"to\": 11, \"title\": \"1 <-> 2: (1, 2)\"}, {\"from\": 1, \"to\": 19, \"title\": \"1 <-> 10: (1, 4, 7)\"}, {\"from\": 2, \"to\": 10, \"title\": \"2 <-> 1: (0, 2)\"}, {\"from\": 2, \"to\": 11, \"title\": \"2 <-> 2: (1, 2)\"}, {\"from\": 3, \"to\": 12, \"title\": \"3 <-> 3: (3, 4)\"}, {\"from\": 3, \"to\": 13, \"title\": \"3 <-> 4: (3, 5)\"}, {\"from\": 3, \"to\": 18, \"title\": \"3 <-> 9: (0, 3, 6)\"}, {\"from\": 4, \"to\": 12, \"title\": \"4 <-> 3: (3, 4)\"}, {\"from\": 4, \"to\": 14, \"title\": \"4 <-> 5: (4, 5)\"}, {\"from\": 4, \"to\": 19, \"title\": \"4 <-> 10: (1, 4, 7)\"}, {\"from\": 5, \"to\": 13, \"title\": \"5 <-> 4: (3, 5)\"}, {\"from\": 5, \"to\": 14, \"title\": \"5 <-> 5: (4, 5)\"}, {\"from\": 6, \"to\": 15, \"title\": \"6 <-> 6: (6, 7)\"}, {\"from\": 6, \"to\": 16, \"title\": \"6 <-> 7: (6, 8)\"}, {\"from\": 6, \"to\": 18, \"title\": \"6 <-> 9: (0, 3, 6)\"}, {\"from\": 7, \"to\": 15, \"title\": \"7 <-> 6: (6, 7)\"}, {\"from\": 7, \"to\": 17, \"title\": \"7 <-> 8: (7, 8)\"}, {\"from\": 7, \"to\": 19, \"title\": \"7 <-> 10: (1, 4, 7)\"}, {\"from\": 8, \"to\": 16, \"title\": \"8 <-> 7: (6, 8)\"}, {\"from\": 8, \"to\": 17, \"title\": \"8 <-> 8: (7, 8)\"}];\n",
       "var data= {\n",
       "    nodes: nodes,\n",
       "    edges: edges,\n",
       "};\n",
       "var options = {\"interaction\": {\"navigationButtons\": true}, \"width\": \"600px\", \"height\": 600, \"groups\": {\"HyperEdge\": {\"fixed\": {\"x\": false}, \"color\": {\"background\": \"black\"}, \"shape\": \"dot\", \"size\": 5}, \"Node\": {\"fixed\": {\"x\": false}}}};\n",
       "var container = document.getElementById('1e771f86-470c-489b-8097-d745156030ea');\n",
       "var network = new vis.Network(container, data, options);\n",
       "network.fit({\n",
       "  maxZoomLevel: 1000});\n",
       "});\n",
       "</script>\n"
      ],
      "text/plain": [
       "<IPython.core.display.HTML object>"
      ]
     },
     "metadata": {},
     "output_type": "display_data"
    }
   ],
   "source": [
    "double.show_kernel()"
   ]
  },
  {
   "cell_type": "markdown",
   "id": "4911e2d8",
   "metadata": {},
   "source": [
    "Last but not least, the *bipartite* fan created a large node kernel."
   ]
  },
  {
   "cell_type": "code",
   "execution_count": 42,
   "id": "a37d9b40",
   "metadata": {
    "ExecuteTime": {
     "end_time": "2022-01-24T14:38:46.234114Z",
     "start_time": "2022-01-24T14:38:46.222601Z"
    }
   },
   "outputs": [
    {
     "data": {
      "text/html": [
       "\n",
       "<div id=\"8972c6c5-ce64-4ac0-afc6-2ea0d11b0c0f\"></div>\n",
       "<script>\n",
       "require.config({\n",
       "    paths: {\n",
       "        vis: 'https://unpkg.com/vis-network/standalone/umd/vis-network.min'\n",
       "    }\n",
       "});\n",
       "require(['vis'], function(vis){\n",
       "var nodes = [{\"id\": 0, \"label\": \"0\", \"title\": \"0\", \"x\": 0, \"group\": \"Node\"}, {\"id\": 1, \"label\": \"1\", \"title\": \"1\", \"x\": 0, \"group\": \"Node\"}, {\"id\": 2, \"label\": \"2\", \"title\": \"2\", \"x\": 0, \"group\": \"Node\"}, {\"id\": 3, \"label\": \"3\", \"title\": \"3\", \"x\": 0, \"group\": \"Node\"}, {\"id\": 4, \"label\": \"4\", \"title\": \"4\", \"x\": 0, \"group\": \"Node\"}, {\"id\": 5, \"label\": \"5\", \"title\": \"5\", \"x\": 0, \"group\": \"Node\"}, {\"id\": 6, \"label\": \"6\", \"title\": \"6\", \"x\": 0, \"group\": \"Node\"}, {\"id\": 7, \"label\": \"7\", \"title\": \"7\", \"x\": 0, \"group\": \"Node\"}, {\"id\": 8, \"label\": \"8\", \"title\": \"8\", \"x\": 0, \"group\": \"Node\"}, {\"id\": 9, \"label\": \"9\", \"title\": \"9\", \"x\": 0, \"group\": \"Node\"}, {\"id\": 10, \"label\": \"10\", \"title\": \"10\", \"x\": 0, \"group\": \"Node\"}, {\"id\": 11, \"label\": \"11\", \"title\": \"11\", \"x\": 0, \"group\": \"Node\"}, {\"title\": \"0: (0, 1)\", \"label\": \"\", \"id\": 12, \"group\": \"HyperEdge\", \"x\": 600}, {\"title\": \"1: (0, 3)\", \"label\": \"\", \"id\": 13, \"group\": \"HyperEdge\", \"x\": 600}, {\"title\": \"2: (1, 2)\", \"label\": \"\", \"id\": 14, \"group\": \"HyperEdge\", \"x\": 600}, {\"title\": \"3: (2, 3)\", \"label\": \"\", \"id\": 15, \"group\": \"HyperEdge\", \"x\": 600}, {\"title\": \"4: (4, 5)\", \"label\": \"\", \"id\": 16, \"group\": \"HyperEdge\", \"x\": 600}, {\"title\": \"5: (4, 7)\", \"label\": \"\", \"id\": 17, \"group\": \"HyperEdge\", \"x\": 600}, {\"title\": \"6: (5, 6)\", \"label\": \"\", \"id\": 18, \"group\": \"HyperEdge\", \"x\": 600}, {\"title\": \"7: (6, 7)\", \"label\": \"\", \"id\": 19, \"group\": \"HyperEdge\", \"x\": 600}, {\"title\": \"8: (8, 9)\", \"label\": \"\", \"id\": 20, \"group\": \"HyperEdge\", \"x\": 600}, {\"title\": \"9: (8, 11)\", \"label\": \"\", \"id\": 21, \"group\": \"HyperEdge\", \"x\": 600}, {\"title\": \"10: (9, 10)\", \"label\": \"\", \"id\": 22, \"group\": \"HyperEdge\", \"x\": 600}, {\"title\": \"11: (10, 11)\", \"label\": \"\", \"id\": 23, \"group\": \"HyperEdge\", \"x\": 600}, {\"title\": \"12: (0, 4, 8)\", \"label\": \"\", \"id\": 24, \"group\": \"HyperEdge\", \"x\": 600}];\n",
       "var edges = [{\"from\": 0, \"to\": 12, \"title\": \"0 <-> 0: (0, 1)\"}, {\"from\": 0, \"to\": 13, \"title\": \"0 <-> 1: (0, 3)\"}, {\"from\": 0, \"to\": 24, \"title\": \"0 <-> 12: (0, 4, 8)\"}, {\"from\": 1, \"to\": 12, \"title\": \"1 <-> 0: (0, 1)\"}, {\"from\": 1, \"to\": 14, \"title\": \"1 <-> 2: (1, 2)\"}, {\"from\": 2, \"to\": 14, \"title\": \"2 <-> 2: (1, 2)\"}, {\"from\": 2, \"to\": 15, \"title\": \"2 <-> 3: (2, 3)\"}, {\"from\": 3, \"to\": 13, \"title\": \"3 <-> 1: (0, 3)\"}, {\"from\": 3, \"to\": 15, \"title\": \"3 <-> 3: (2, 3)\"}, {\"from\": 4, \"to\": 16, \"title\": \"4 <-> 4: (4, 5)\"}, {\"from\": 4, \"to\": 17, \"title\": \"4 <-> 5: (4, 7)\"}, {\"from\": 4, \"to\": 24, \"title\": \"4 <-> 12: (0, 4, 8)\"}, {\"from\": 5, \"to\": 16, \"title\": \"5 <-> 4: (4, 5)\"}, {\"from\": 5, \"to\": 18, \"title\": \"5 <-> 6: (5, 6)\"}, {\"from\": 6, \"to\": 18, \"title\": \"6 <-> 6: (5, 6)\"}, {\"from\": 6, \"to\": 19, \"title\": \"6 <-> 7: (6, 7)\"}, {\"from\": 7, \"to\": 17, \"title\": \"7 <-> 5: (4, 7)\"}, {\"from\": 7, \"to\": 19, \"title\": \"7 <-> 7: (6, 7)\"}, {\"from\": 8, \"to\": 20, \"title\": \"8 <-> 8: (8, 9)\"}, {\"from\": 8, \"to\": 21, \"title\": \"8 <-> 9: (8, 11)\"}, {\"from\": 8, \"to\": 24, \"title\": \"8 <-> 12: (0, 4, 8)\"}, {\"from\": 9, \"to\": 20, \"title\": \"9 <-> 8: (8, 9)\"}, {\"from\": 9, \"to\": 22, \"title\": \"9 <-> 10: (9, 10)\"}, {\"from\": 10, \"to\": 22, \"title\": \"10 <-> 10: (9, 10)\"}, {\"from\": 10, \"to\": 23, \"title\": \"10 <-> 11: (10, 11)\"}, {\"from\": 11, \"to\": 21, \"title\": \"11 <-> 9: (8, 11)\"}, {\"from\": 11, \"to\": 23, \"title\": \"11 <-> 11: (10, 11)\"}];\n",
       "var data= {\n",
       "    nodes: nodes,\n",
       "    edges: edges,\n",
       "};\n",
       "var options = {\"interaction\": {\"navigationButtons\": true}, \"width\": \"600px\", \"height\": 600, \"groups\": {\"HyperEdge\": {\"fixed\": {\"x\": false}, \"color\": {\"background\": \"black\"}, \"shape\": \"dot\", \"size\": 5}, \"Node\": {\"fixed\": {\"x\": false}}}};\n",
       "var container = document.getElementById('8972c6c5-ce64-4ac0-afc6-2ea0d11b0c0f');\n",
       "var network = new vis.Network(container, data, options);\n",
       "network.fit({\n",
       "  maxZoomLevel: 1000});\n",
       "});\n",
       "</script>\n"
      ],
      "text/plain": [
       "<IPython.core.display.HTML object>"
      ]
     },
     "metadata": {},
     "output_type": "display_data"
    }
   ],
   "source": [
    "bip = sm.Fan(cycle_size=4)\n",
    "bip.show_graph()"
   ]
  },
  {
   "cell_type": "code",
   "execution_count": 43,
   "id": "30c3bf71",
   "metadata": {
    "ExecuteTime": {
     "end_time": "2022-01-24T14:38:46.249308Z",
     "start_time": "2022-01-24T14:38:46.236147Z"
    }
   },
   "outputs": [
    {
     "data": {
      "text/plain": [
       "Kernels of a graph with 12 nodes and 13 edges.\n",
       "Node dimension is 2.\n",
       "Edge dimension is 3\n",
       "Type: Nonjective\n",
       "Node kernel:\n",
       "[[ 0.15878976 -0.37610169]\n",
       " [-0.15878976  0.37610169]\n",
       " [ 0.15878976 -0.37610169]\n",
       " [-0.15878976  0.37610169]\n",
       " [-0.40510849  0.05053488]\n",
       " [ 0.40510849 -0.05053488]\n",
       " [-0.40510849  0.05053488]\n",
       " [ 0.40510849 -0.05053488]\n",
       " [ 0.24631874  0.32556681]\n",
       " [-0.24631874 -0.32556681]\n",
       " [ 0.24631874  0.32556681]\n",
       " [-0.24631874 -0.32556681]]\n",
       "Edge kernel:\n",
       "[[-0.39895007  0.39895007  0.39895007 -0.39895007  0.26893441 -0.26893441\n",
       "  -0.26893441  0.26893441  0.13606295 -0.13606295 -0.13606295  0.13606295\n",
       "   0.        ]\n",
       " [ 0.21954337 -0.21954337 -0.21954337  0.21954337  0.10465853 -0.10465853\n",
       "  -0.10465853  0.10465853  0.43686074 -0.43686074 -0.43686074  0.43686074\n",
       "   0.        ]\n",
       " [-0.20649348  0.20649348  0.20649348 -0.20649348 -0.40831467  0.40831467\n",
       "   0.40831467 -0.40831467  0.20159258 -0.20159258 -0.20159258  0.20159258\n",
       "   0.        ]]"
      ]
     },
     "execution_count": 43,
     "metadata": {},
     "output_type": "execute_result"
    }
   ],
   "source": [
    "bip.kernel"
   ]
  },
  {
   "cell_type": "markdown",
   "id": "4ba2f4da",
   "metadata": {},
   "source": [
    "The node kernel can be interpreted as follows:\n",
    "- There are three *bipartite* components, one for each square. Along the square, the nodes value must alternate positively and negatively.\n",
    "- The central edge forces the sum of the weights of its adjacent nodes to be zero. so if we fix two squares, the values on the last square are fully determined."
   ]
  },
  {
   "cell_type": "code",
   "execution_count": 44,
   "id": "e0f719ac",
   "metadata": {
    "ExecuteTime": {
     "end_time": "2022-01-24T14:38:46.264866Z",
     "start_time": "2022-01-24T14:38:46.250842Z"
    }
   },
   "outputs": [
    {
     "data": {
      "text/html": [
       "\n",
       "<div id=\"96bd8a11-bf96-4982-9329-2df34731b2c8\"></div>\n",
       "<script>\n",
       "require.config({\n",
       "    paths: {\n",
       "        vis: 'https://unpkg.com/vis-network/standalone/umd/vis-network.min'\n",
       "    }\n",
       "});\n",
       "require(['vis'], function(vis){\n",
       "var nodes = [{\"id\": 0, \"label\": \"3\", \"title\": \"0\", \"x\": 0, \"group\": \"Node\"}, {\"id\": 1, \"label\": \"2\", \"title\": \"1\", \"x\": 0, \"group\": \"Node\"}, {\"id\": 2, \"label\": \"2\", \"title\": \"2\", \"x\": 0, \"group\": \"Node\"}, {\"id\": 3, \"label\": \"2\", \"title\": \"3\", \"x\": 0, \"group\": \"Node\"}, {\"id\": 4, \"label\": \"3\", \"title\": \"4\", \"x\": 0, \"group\": \"Node\"}, {\"id\": 5, \"label\": \"2\", \"title\": \"5\", \"x\": 0, \"group\": \"Node\"}, {\"id\": 6, \"label\": \"2\", \"title\": \"6\", \"x\": 0, \"group\": \"Node\"}, {\"id\": 7, \"label\": \"2\", \"title\": \"7\", \"x\": 0, \"group\": \"Node\"}, {\"id\": 8, \"label\": \"3\", \"title\": \"8\", \"x\": 0, \"group\": \"Node\"}, {\"id\": 9, \"label\": \"2\", \"title\": \"9\", \"x\": 0, \"group\": \"Node\"}, {\"id\": 10, \"label\": \"2\", \"title\": \"10\", \"x\": 0, \"group\": \"Node\"}, {\"id\": 11, \"label\": \"2\", \"title\": \"11\", \"x\": 0, \"group\": \"Node\"}, {\"title\": \"0: (0, 1)\", \"label\": \"-0.399\\u03b11+0.22\\u03b12-0.206\\u03b13\", \"id\": 12, \"group\": \"HyperEdge\", \"x\": 600}, {\"title\": \"1: (0, 3)\", \"label\": \"+0.399\\u03b11-0.22\\u03b12+0.206\\u03b13\", \"id\": 13, \"group\": \"HyperEdge\", \"x\": 600}, {\"title\": \"2: (1, 2)\", \"label\": \"+0.399\\u03b11-0.22\\u03b12+0.206\\u03b13\", \"id\": 14, \"group\": \"HyperEdge\", \"x\": 600}, {\"title\": \"3: (2, 3)\", \"label\": \"-0.399\\u03b11+0.22\\u03b12-0.206\\u03b13\", \"id\": 15, \"group\": \"HyperEdge\", \"x\": 600}, {\"title\": \"4: (4, 5)\", \"label\": \"+0.269\\u03b11+0.105\\u03b12-0.408\\u03b13\", \"id\": 16, \"group\": \"HyperEdge\", \"x\": 600}, {\"title\": \"5: (4, 7)\", \"label\": \"-0.269\\u03b11-0.105\\u03b12+0.408\\u03b13\", \"id\": 17, \"group\": \"HyperEdge\", \"x\": 600}, {\"title\": \"6: (5, 6)\", \"label\": \"-0.269\\u03b11-0.105\\u03b12+0.408\\u03b13\", \"id\": 18, \"group\": \"HyperEdge\", \"x\": 600}, {\"title\": \"7: (6, 7)\", \"label\": \"+0.269\\u03b11+0.105\\u03b12-0.408\\u03b13\", \"id\": 19, \"group\": \"HyperEdge\", \"x\": 600}, {\"title\": \"8: (8, 9)\", \"label\": \"+0.136\\u03b11+0.437\\u03b12+0.202\\u03b13\", \"id\": 20, \"group\": \"HyperEdge\", \"x\": 600}, {\"title\": \"9: (8, 11)\", \"label\": \"-0.136\\u03b11-0.437\\u03b12-0.202\\u03b13\", \"id\": 21, \"group\": \"HyperEdge\", \"x\": 600}, {\"title\": \"10: (9, 10)\", \"label\": \"-0.136\\u03b11-0.437\\u03b12-0.202\\u03b13\", \"id\": 22, \"group\": \"HyperEdge\", \"x\": 600}, {\"title\": \"11: (10, 11)\", \"label\": \"+0.136\\u03b11+0.437\\u03b12+0.202\\u03b13\", \"id\": 23, \"group\": \"HyperEdge\", \"x\": 600}, {\"title\": \"12: (0, 4, 8)\", \"label\": \"\", \"color\": \"black\", \"id\": 24, \"group\": \"HyperEdge\", \"x\": 600}];\n",
       "var edges = [{\"from\": 0, \"to\": 12, \"title\": \"0 <-> 0: (0, 1)\"}, {\"from\": 0, \"to\": 13, \"title\": \"0 <-> 1: (0, 3)\"}, {\"from\": 0, \"to\": 24, \"title\": \"0 <-> 12: (0, 4, 8)\"}, {\"from\": 1, \"to\": 12, \"title\": \"1 <-> 0: (0, 1)\"}, {\"from\": 1, \"to\": 14, \"title\": \"1 <-> 2: (1, 2)\"}, {\"from\": 2, \"to\": 14, \"title\": \"2 <-> 2: (1, 2)\"}, {\"from\": 2, \"to\": 15, \"title\": \"2 <-> 3: (2, 3)\"}, {\"from\": 3, \"to\": 13, \"title\": \"3 <-> 1: (0, 3)\"}, {\"from\": 3, \"to\": 15, \"title\": \"3 <-> 3: (2, 3)\"}, {\"from\": 4, \"to\": 16, \"title\": \"4 <-> 4: (4, 5)\"}, {\"from\": 4, \"to\": 17, \"title\": \"4 <-> 5: (4, 7)\"}, {\"from\": 4, \"to\": 24, \"title\": \"4 <-> 12: (0, 4, 8)\"}, {\"from\": 5, \"to\": 16, \"title\": \"5 <-> 4: (4, 5)\"}, {\"from\": 5, \"to\": 18, \"title\": \"5 <-> 6: (5, 6)\"}, {\"from\": 6, \"to\": 18, \"title\": \"6 <-> 6: (5, 6)\"}, {\"from\": 6, \"to\": 19, \"title\": \"6 <-> 7: (6, 7)\"}, {\"from\": 7, \"to\": 17, \"title\": \"7 <-> 5: (4, 7)\"}, {\"from\": 7, \"to\": 19, \"title\": \"7 <-> 7: (6, 7)\"}, {\"from\": 8, \"to\": 20, \"title\": \"8 <-> 8: (8, 9)\"}, {\"from\": 8, \"to\": 21, \"title\": \"8 <-> 9: (8, 11)\"}, {\"from\": 8, \"to\": 24, \"title\": \"8 <-> 12: (0, 4, 8)\"}, {\"from\": 9, \"to\": 20, \"title\": \"9 <-> 8: (8, 9)\"}, {\"from\": 9, \"to\": 22, \"title\": \"9 <-> 10: (9, 10)\"}, {\"from\": 10, \"to\": 22, \"title\": \"10 <-> 10: (9, 10)\"}, {\"from\": 10, \"to\": 23, \"title\": \"10 <-> 11: (10, 11)\"}, {\"from\": 11, \"to\": 21, \"title\": \"11 <-> 9: (8, 11)\"}, {\"from\": 11, \"to\": 23, \"title\": \"11 <-> 11: (10, 11)\"}];\n",
       "var data= {\n",
       "    nodes: nodes,\n",
       "    edges: edges,\n",
       "};\n",
       "var options = {\"interaction\": {\"navigationButtons\": true}, \"width\": \"600px\", \"height\": 600, \"groups\": {\"HyperEdge\": {\"fixed\": {\"x\": false}, \"color\": {\"background\": \"black\"}, \"shape\": \"dot\", \"size\": 5}, \"Node\": {\"fixed\": {\"x\": false}}}};\n",
       "var container = document.getElementById('96bd8a11-bf96-4982-9329-2df34731b2c8');\n",
       "var network = new vis.Network(container, data, options);\n",
       "network.fit({\n",
       "  maxZoomLevel: 1000});\n",
       "});\n",
       "</script>\n"
      ],
      "text/plain": [
       "<IPython.core.display.HTML object>"
      ]
     },
     "metadata": {},
     "output_type": "display_data"
    }
   ],
   "source": [
    "bip.show_kernel()"
   ]
  },
  {
   "cell_type": "markdown",
   "id": "03d724ff",
   "metadata": {},
   "source": [
    "Remark that in this example, the hyperedge is not part of the edge kernel. Only the three regular squares are."
   ]
  },
  {
   "cell_type": "markdown",
   "id": "cd23d451",
   "metadata": {},
   "source": [
    "Just for the experience, let us add another hyperedge."
   ]
  },
  {
   "cell_type": "code",
   "execution_count": 45,
   "id": "53a9dbd5",
   "metadata": {
    "ExecuteTime": {
     "end_time": "2022-01-24T14:38:46.281076Z",
     "start_time": "2022-01-24T14:38:46.265868Z"
    }
   },
   "outputs": [
    {
     "data": {
      "text/html": [
       "\n",
       "<div id=\"73fb90bf-f9ab-4e13-a090-808fc879934d\"></div>\n",
       "<script>\n",
       "require.config({\n",
       "    paths: {\n",
       "        vis: 'https://unpkg.com/vis-network/standalone/umd/vis-network.min'\n",
       "    }\n",
       "});\n",
       "require(['vis'], function(vis){\n",
       "var nodes = [{\"id\": 0, \"label\": \"0\", \"title\": \"0\", \"x\": 0, \"group\": \"Node\"}, {\"id\": 1, \"label\": \"1\", \"title\": \"1\", \"x\": 0, \"group\": \"Node\"}, {\"id\": 2, \"label\": \"2\", \"title\": \"2\", \"x\": 0, \"group\": \"Node\"}, {\"id\": 3, \"label\": \"3\", \"title\": \"3\", \"x\": 0, \"group\": \"Node\"}, {\"id\": 4, \"label\": \"4\", \"title\": \"4\", \"x\": 0, \"group\": \"Node\"}, {\"id\": 5, \"label\": \"5\", \"title\": \"5\", \"x\": 0, \"group\": \"Node\"}, {\"id\": 6, \"label\": \"6\", \"title\": \"6\", \"x\": 0, \"group\": \"Node\"}, {\"id\": 7, \"label\": \"7\", \"title\": \"7\", \"x\": 0, \"group\": \"Node\"}, {\"id\": 8, \"label\": \"8\", \"title\": \"8\", \"x\": 0, \"group\": \"Node\"}, {\"id\": 9, \"label\": \"9\", \"title\": \"9\", \"x\": 0, \"group\": \"Node\"}, {\"id\": 10, \"label\": \"10\", \"title\": \"10\", \"x\": 0, \"group\": \"Node\"}, {\"id\": 11, \"label\": \"11\", \"title\": \"11\", \"x\": 0, \"group\": \"Node\"}, {\"title\": \"0: (0, 1)\", \"label\": \"\", \"id\": 12, \"group\": \"HyperEdge\", \"x\": 600}, {\"title\": \"1: (0, 3)\", \"label\": \"\", \"id\": 13, \"group\": \"HyperEdge\", \"x\": 600}, {\"title\": \"2: (1, 2)\", \"label\": \"\", \"id\": 14, \"group\": \"HyperEdge\", \"x\": 600}, {\"title\": \"3: (2, 3)\", \"label\": \"\", \"id\": 15, \"group\": \"HyperEdge\", \"x\": 600}, {\"title\": \"4: (4, 5)\", \"label\": \"\", \"id\": 16, \"group\": \"HyperEdge\", \"x\": 600}, {\"title\": \"5: (4, 7)\", \"label\": \"\", \"id\": 17, \"group\": \"HyperEdge\", \"x\": 600}, {\"title\": \"6: (5, 6)\", \"label\": \"\", \"id\": 18, \"group\": \"HyperEdge\", \"x\": 600}, {\"title\": \"7: (6, 7)\", \"label\": \"\", \"id\": 19, \"group\": \"HyperEdge\", \"x\": 600}, {\"title\": \"8: (8, 9)\", \"label\": \"\", \"id\": 20, \"group\": \"HyperEdge\", \"x\": 600}, {\"title\": \"9: (8, 11)\", \"label\": \"\", \"id\": 21, \"group\": \"HyperEdge\", \"x\": 600}, {\"title\": \"10: (9, 10)\", \"label\": \"\", \"id\": 22, \"group\": \"HyperEdge\", \"x\": 600}, {\"title\": \"11: (10, 11)\", \"label\": \"\", \"id\": 23, \"group\": \"HyperEdge\", \"x\": 600}, {\"title\": \"12: (0, 4, 8)\", \"label\": \"\", \"id\": 24, \"group\": \"HyperEdge\", \"x\": 600}, {\"title\": \"13: (1, 5, 9)\", \"label\": \"\", \"id\": 25, \"group\": \"HyperEdge\", \"x\": 600}];\n",
       "var edges = [{\"from\": 0, \"to\": 12, \"title\": \"0 <-> 0: (0, 1)\"}, {\"from\": 0, \"to\": 13, \"title\": \"0 <-> 1: (0, 3)\"}, {\"from\": 0, \"to\": 24, \"title\": \"0 <-> 12: (0, 4, 8)\"}, {\"from\": 1, \"to\": 12, \"title\": \"1 <-> 0: (0, 1)\"}, {\"from\": 1, \"to\": 14, \"title\": \"1 <-> 2: (1, 2)\"}, {\"from\": 1, \"to\": 25, \"title\": \"1 <-> 13: (1, 5, 9)\"}, {\"from\": 2, \"to\": 14, \"title\": \"2 <-> 2: (1, 2)\"}, {\"from\": 2, \"to\": 15, \"title\": \"2 <-> 3: (2, 3)\"}, {\"from\": 3, \"to\": 13, \"title\": \"3 <-> 1: (0, 3)\"}, {\"from\": 3, \"to\": 15, \"title\": \"3 <-> 3: (2, 3)\"}, {\"from\": 4, \"to\": 16, \"title\": \"4 <-> 4: (4, 5)\"}, {\"from\": 4, \"to\": 17, \"title\": \"4 <-> 5: (4, 7)\"}, {\"from\": 4, \"to\": 24, \"title\": \"4 <-> 12: (0, 4, 8)\"}, {\"from\": 5, \"to\": 16, \"title\": \"5 <-> 4: (4, 5)\"}, {\"from\": 5, \"to\": 18, \"title\": \"5 <-> 6: (5, 6)\"}, {\"from\": 5, \"to\": 25, \"title\": \"5 <-> 13: (1, 5, 9)\"}, {\"from\": 6, \"to\": 18, \"title\": \"6 <-> 6: (5, 6)\"}, {\"from\": 6, \"to\": 19, \"title\": \"6 <-> 7: (6, 7)\"}, {\"from\": 7, \"to\": 17, \"title\": \"7 <-> 5: (4, 7)\"}, {\"from\": 7, \"to\": 19, \"title\": \"7 <-> 7: (6, 7)\"}, {\"from\": 8, \"to\": 20, \"title\": \"8 <-> 8: (8, 9)\"}, {\"from\": 8, \"to\": 21, \"title\": \"8 <-> 9: (8, 11)\"}, {\"from\": 8, \"to\": 24, \"title\": \"8 <-> 12: (0, 4, 8)\"}, {\"from\": 9, \"to\": 20, \"title\": \"9 <-> 8: (8, 9)\"}, {\"from\": 9, \"to\": 22, \"title\": \"9 <-> 10: (9, 10)\"}, {\"from\": 9, \"to\": 25, \"title\": \"9 <-> 13: (1, 5, 9)\"}, {\"from\": 10, \"to\": 22, \"title\": \"10 <-> 10: (9, 10)\"}, {\"from\": 10, \"to\": 23, \"title\": \"10 <-> 11: (10, 11)\"}, {\"from\": 11, \"to\": 21, \"title\": \"11 <-> 9: (8, 11)\"}, {\"from\": 11, \"to\": 23, \"title\": \"11 <-> 11: (10, 11)\"}];\n",
       "var data= {\n",
       "    nodes: nodes,\n",
       "    edges: edges,\n",
       "};\n",
       "var options = {\"interaction\": {\"navigationButtons\": true}, \"width\": \"600px\", \"height\": 600, \"groups\": {\"HyperEdge\": {\"fixed\": {\"x\": false}, \"color\": {\"background\": \"black\"}, \"shape\": \"dot\", \"size\": 5}, \"Node\": {\"fixed\": {\"x\": false}}}};\n",
       "var container = document.getElementById('73fb90bf-f9ab-4e13-a090-808fc879934d');\n",
       "var network = new vis.Network(container, data, options);\n",
       "network.fit({\n",
       "  maxZoomLevel: 1000});\n",
       "});\n",
       "</script>\n"
      ],
      "text/plain": [
       "<IPython.core.display.HTML object>"
      ]
     },
     "metadata": {},
     "output_type": "display_data"
    }
   ],
   "source": [
    "bip = sm.Fan(cycle_size=4, hyperedges=2)\n",
    "bip.show_graph()"
   ]
  },
  {
   "cell_type": "code",
   "execution_count": 46,
   "id": "8d020b97",
   "metadata": {
    "ExecuteTime": {
     "end_time": "2022-01-24T14:38:46.296483Z",
     "start_time": "2022-01-24T14:38:46.282880Z"
    }
   },
   "outputs": [
    {
     "data": {
      "text/plain": [
       "Kernels of a graph with 12 nodes and 14 edges.\n",
       "Node dimension is 2.\n",
       "Edge dimension is 4\n",
       "Type: Nonjective\n",
       "Node kernel:\n",
       "[[ 0.20739469  0.35164486]\n",
       " [-0.20739469 -0.35164486]\n",
       " [ 0.20739469  0.35164486]\n",
       " [-0.20739469 -0.35164486]\n",
       " [ 0.20083604 -0.3554315 ]\n",
       " [-0.20083604  0.3554315 ]\n",
       " [ 0.20083604 -0.3554315 ]\n",
       " [-0.20083604  0.3554315 ]\n",
       " [-0.40823073  0.00378664]\n",
       " [ 0.40823073 -0.00378664]\n",
       " [-0.40823073  0.00378664]\n",
       " [ 0.40823073 -0.00378664]]\n",
       "Edge kernel:\n",
       "[[-0.1964714   0.24083451  0.24083451 -0.24083451 -0.04703852  0.09140163\n",
       "   0.09140163 -0.09140163  0.46764187 -0.42327876 -0.42327876  0.42327876\n",
       "  -0.04436311 -0.04436311]\n",
       " [-0.46776506  0.43407748  0.43407748 -0.43407748  0.05603936 -0.08972695\n",
       "  -0.08972695  0.08972695 -0.24062124  0.20693365  0.20693365 -0.20693365\n",
       "   0.03368759  0.03368759]\n",
       " [-0.29580658 -0.0782298  -0.0782298   0.0782298  -0.59744805  0.22341167\n",
       "   0.22341167 -0.22341167 -0.30661566 -0.06742073 -0.06742073  0.06742073\n",
       "   0.37403639  0.37403639]\n",
       " [-0.19351031 -0.11027902 -0.11027902  0.11027902  0.14161826 -0.4454076\n",
       "  -0.4454076   0.4454076  -0.10840795 -0.19538139 -0.19538139  0.19538139\n",
       "   0.30378934  0.30378934]]"
      ]
     },
     "execution_count": 46,
     "metadata": {},
     "output_type": "execute_result"
    }
   ],
   "source": [
    "bip.kernel"
   ]
  },
  {
   "cell_type": "code",
   "execution_count": 47,
   "id": "a0523269",
   "metadata": {
    "ExecuteTime": {
     "end_time": "2022-01-24T14:38:46.312619Z",
     "start_time": "2022-01-24T14:38:46.299462Z"
    }
   },
   "outputs": [
    {
     "data": {
      "text/html": [
       "\n",
       "<div id=\"cfdc54bd-290c-4584-aaf8-9c802a62752b\"></div>\n",
       "<script>\n",
       "require.config({\n",
       "    paths: {\n",
       "        vis: 'https://unpkg.com/vis-network/standalone/umd/vis-network.min'\n",
       "    }\n",
       "});\n",
       "require(['vis'], function(vis){\n",
       "var nodes = [{\"id\": 0, \"label\": \"3\", \"title\": \"0\", \"x\": 0, \"group\": \"Node\"}, {\"id\": 1, \"label\": \"3\", \"title\": \"1\", \"x\": 0, \"group\": \"Node\"}, {\"id\": 2, \"label\": \"2\", \"title\": \"2\", \"x\": 0, \"group\": \"Node\"}, {\"id\": 3, \"label\": \"2\", \"title\": \"3\", \"x\": 0, \"group\": \"Node\"}, {\"id\": 4, \"label\": \"3\", \"title\": \"4\", \"x\": 0, \"group\": \"Node\"}, {\"id\": 5, \"label\": \"3\", \"title\": \"5\", \"x\": 0, \"group\": \"Node\"}, {\"id\": 6, \"label\": \"2\", \"title\": \"6\", \"x\": 0, \"group\": \"Node\"}, {\"id\": 7, \"label\": \"2\", \"title\": \"7\", \"x\": 0, \"group\": \"Node\"}, {\"id\": 8, \"label\": \"3\", \"title\": \"8\", \"x\": 0, \"group\": \"Node\"}, {\"id\": 9, \"label\": \"3\", \"title\": \"9\", \"x\": 0, \"group\": \"Node\"}, {\"id\": 10, \"label\": \"2\", \"title\": \"10\", \"x\": 0, \"group\": \"Node\"}, {\"id\": 11, \"label\": \"2\", \"title\": \"11\", \"x\": 0, \"group\": \"Node\"}, {\"title\": \"0: (0, 1)\", \"label\": \"-0.196\\u03b11-0.468\\u03b12-0.296\\u03b13-0.194\\u03b14\", \"id\": 12, \"group\": \"HyperEdge\", \"x\": 600}, {\"title\": \"1: (0, 3)\", \"label\": \"+0.241\\u03b11+0.434\\u03b12-0.0782\\u03b13-0.11\\u03b14\", \"id\": 13, \"group\": \"HyperEdge\", \"x\": 600}, {\"title\": \"2: (1, 2)\", \"label\": \"+0.241\\u03b11+0.434\\u03b12-0.0782\\u03b13-0.11\\u03b14\", \"id\": 14, \"group\": \"HyperEdge\", \"x\": 600}, {\"title\": \"3: (2, 3)\", \"label\": \"-0.241\\u03b11-0.434\\u03b12+0.0782\\u03b13+0.11\\u03b14\", \"id\": 15, \"group\": \"HyperEdge\", \"x\": 600}, {\"title\": \"4: (4, 5)\", \"label\": \"-0.047\\u03b11+0.056\\u03b12-0.597\\u03b13+0.142\\u03b14\", \"id\": 16, \"group\": \"HyperEdge\", \"x\": 600}, {\"title\": \"5: (4, 7)\", \"label\": \"+0.0914\\u03b11-0.0897\\u03b12+0.223\\u03b13-0.445\\u03b14\", \"id\": 17, \"group\": \"HyperEdge\", \"x\": 600}, {\"title\": \"6: (5, 6)\", \"label\": \"+0.0914\\u03b11-0.0897\\u03b12+0.223\\u03b13-0.445\\u03b14\", \"id\": 18, \"group\": \"HyperEdge\", \"x\": 600}, {\"title\": \"7: (6, 7)\", \"label\": \"-0.0914\\u03b11+0.0897\\u03b12-0.223\\u03b13+0.445\\u03b14\", \"id\": 19, \"group\": \"HyperEdge\", \"x\": 600}, {\"title\": \"8: (8, 9)\", \"label\": \"+0.468\\u03b11-0.241\\u03b12-0.307\\u03b13-0.108\\u03b14\", \"id\": 20, \"group\": \"HyperEdge\", \"x\": 600}, {\"title\": \"9: (8, 11)\", \"label\": \"-0.423\\u03b11+0.207\\u03b12-0.0674\\u03b13-0.195\\u03b14\", \"id\": 21, \"group\": \"HyperEdge\", \"x\": 600}, {\"title\": \"10: (9, 10)\", \"label\": \"-0.423\\u03b11+0.207\\u03b12-0.0674\\u03b13-0.195\\u03b14\", \"id\": 22, \"group\": \"HyperEdge\", \"x\": 600}, {\"title\": \"11: (10, 11)\", \"label\": \"+0.423\\u03b11-0.207\\u03b12+0.0674\\u03b13+0.195\\u03b14\", \"id\": 23, \"group\": \"HyperEdge\", \"x\": 600}, {\"title\": \"12: (0, 4, 8)\", \"label\": \"-0.0444\\u03b11+0.0337\\u03b12+0.374\\u03b13+0.304\\u03b14\", \"id\": 24, \"group\": \"HyperEdge\", \"x\": 600}, {\"title\": \"13: (1, 5, 9)\", \"label\": \"-0.0444\\u03b11+0.0337\\u03b12+0.374\\u03b13+0.304\\u03b14\", \"id\": 25, \"group\": \"HyperEdge\", \"x\": 600}];\n",
       "var edges = [{\"from\": 0, \"to\": 12, \"title\": \"0 <-> 0: (0, 1)\"}, {\"from\": 0, \"to\": 13, \"title\": \"0 <-> 1: (0, 3)\"}, {\"from\": 0, \"to\": 24, \"title\": \"0 <-> 12: (0, 4, 8)\"}, {\"from\": 1, \"to\": 12, \"title\": \"1 <-> 0: (0, 1)\"}, {\"from\": 1, \"to\": 14, \"title\": \"1 <-> 2: (1, 2)\"}, {\"from\": 1, \"to\": 25, \"title\": \"1 <-> 13: (1, 5, 9)\"}, {\"from\": 2, \"to\": 14, \"title\": \"2 <-> 2: (1, 2)\"}, {\"from\": 2, \"to\": 15, \"title\": \"2 <-> 3: (2, 3)\"}, {\"from\": 3, \"to\": 13, \"title\": \"3 <-> 1: (0, 3)\"}, {\"from\": 3, \"to\": 15, \"title\": \"3 <-> 3: (2, 3)\"}, {\"from\": 4, \"to\": 16, \"title\": \"4 <-> 4: (4, 5)\"}, {\"from\": 4, \"to\": 17, \"title\": \"4 <-> 5: (4, 7)\"}, {\"from\": 4, \"to\": 24, \"title\": \"4 <-> 12: (0, 4, 8)\"}, {\"from\": 5, \"to\": 16, \"title\": \"5 <-> 4: (4, 5)\"}, {\"from\": 5, \"to\": 18, \"title\": \"5 <-> 6: (5, 6)\"}, {\"from\": 5, \"to\": 25, \"title\": \"5 <-> 13: (1, 5, 9)\"}, {\"from\": 6, \"to\": 18, \"title\": \"6 <-> 6: (5, 6)\"}, {\"from\": 6, \"to\": 19, \"title\": \"6 <-> 7: (6, 7)\"}, {\"from\": 7, \"to\": 17, \"title\": \"7 <-> 5: (4, 7)\"}, {\"from\": 7, \"to\": 19, \"title\": \"7 <-> 7: (6, 7)\"}, {\"from\": 8, \"to\": 20, \"title\": \"8 <-> 8: (8, 9)\"}, {\"from\": 8, \"to\": 21, \"title\": \"8 <-> 9: (8, 11)\"}, {\"from\": 8, \"to\": 24, \"title\": \"8 <-> 12: (0, 4, 8)\"}, {\"from\": 9, \"to\": 20, \"title\": \"9 <-> 8: (8, 9)\"}, {\"from\": 9, \"to\": 22, \"title\": \"9 <-> 10: (9, 10)\"}, {\"from\": 9, \"to\": 25, \"title\": \"9 <-> 13: (1, 5, 9)\"}, {\"from\": 10, \"to\": 22, \"title\": \"10 <-> 10: (9, 10)\"}, {\"from\": 10, \"to\": 23, \"title\": \"10 <-> 11: (10, 11)\"}, {\"from\": 11, \"to\": 21, \"title\": \"11 <-> 9: (8, 11)\"}, {\"from\": 11, \"to\": 23, \"title\": \"11 <-> 11: (10, 11)\"}];\n",
       "var data= {\n",
       "    nodes: nodes,\n",
       "    edges: edges,\n",
       "};\n",
       "var options = {\"interaction\": {\"navigationButtons\": true}, \"width\": \"600px\", \"height\": 600, \"groups\": {\"HyperEdge\": {\"fixed\": {\"x\": false}, \"color\": {\"background\": \"black\"}, \"shape\": \"dot\", \"size\": 5}, \"Node\": {\"fixed\": {\"x\": false}}}};\n",
       "var container = document.getElementById('cfdc54bd-290c-4584-aaf8-9c802a62752b');\n",
       "var network = new vis.Network(container, data, options);\n",
       "network.fit({\n",
       "  maxZoomLevel: 1000});\n",
       "});\n",
       "</script>\n"
      ],
      "text/plain": [
       "<IPython.core.display.HTML object>"
      ]
     },
     "metadata": {},
     "output_type": "display_data"
    }
   ],
   "source": [
    "bip.show_kernel()"
   ]
  }
 ],
 "metadata": {
  "kernelspec": {
   "display_name": "Python 3 (ipykernel)",
   "language": "python",
   "name": "python3"
  },
  "language_info": {
   "codemirror_mode": {
    "name": "ipython",
    "version": 3
   },
   "file_extension": ".py",
   "mimetype": "text/x-python",
   "name": "python",
   "nbconvert_exporter": "python",
   "pygments_lexer": "ipython3",
   "version": "3.11.4"
  },
  "toc": {
   "base_numbering": 1,
   "nav_menu": {},
   "number_sections": true,
   "sideBar": true,
   "skip_h1_title": true,
   "title_cell": "Table of Contents",
   "title_sidebar": "Contents",
   "toc_cell": false,
   "toc_position": {},
   "toc_section_display": true,
   "toc_window_display": true
  }
 },
 "nbformat": 4,
 "nbformat_minor": 5
}
