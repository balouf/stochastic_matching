{
 "cells": [
  {
   "cell_type": "markdown",
   "metadata": {},
   "source": [
    "# Simple and Hyper Graphs"
   ]
  },
  {
   "cell_type": "markdown",
   "metadata": {},
   "source": [
    "*Stochastic Matchings* allows to build arbitrary models from their graph adjacency or incidence matrix, but also to directly instantiate some families. This tutorial gives a tour of these families and details the graph behavior of a *Model* instance."
   ]
  },
  {
   "cell_type": "markdown",
   "metadata": {},
   "source": [
    "First, we load the package."
   ]
  },
  {
   "cell_type": "code",
   "execution_count": 1,
   "metadata": {
    "ExecuteTime": {
     "end_time": "2022-01-24T10:11:02.411604Z",
     "start_time": "2022-01-24T10:11:01.354673Z"
    }
   },
   "outputs": [],
   "source": [
    "import stochastic_matching as sm"
   ]
  },
  {
   "cell_type": "markdown",
   "metadata": {},
   "source": [
    "## Simple graph: manual definition and basic usage"
   ]
  },
  {
   "cell_type": "markdown",
   "metadata": {},
   "source": [
    "A simple graph can be defined by providing its adjacency or incidence matrix. We give a tour of the possibilities using the diamond graph as running example."
   ]
  },
  {
   "cell_type": "code",
   "execution_count": 2,
   "metadata": {
    "ExecuteTime": {
     "end_time": "2022-01-24T10:11:02.443033Z",
     "start_time": "2022-01-24T10:11:02.413609Z"
    }
   },
   "outputs": [
    {
     "data": {
      "text/html": [
       "\n",
       "<div id=\"3721bc0a-bc4f-4680-a303-5cb2f3b1bfe5\"></div>\n",
       "<script>\n",
       "require.config({\n",
       "    paths: {\n",
       "        vis: 'https://unpkg.com/vis-network/standalone/umd/vis-network.min'\n",
       "    }\n",
       "});\n",
       "require(['vis'], function(vis){\n",
       "var nodes = [{\"id\": 0, \"label\": \"0\", \"title\": \"0\"}, {\"id\": 1, \"label\": \"1\", \"title\": \"1\"}, {\"id\": 2, \"label\": \"2\", \"title\": \"2\"}, {\"id\": 3, \"label\": \"3\", \"title\": \"3\"}];\n",
       "var edges = [{\"title\": \"0: (0, 1)\", \"label\": \"\", \"from\": 0, \"to\": 1}, {\"title\": \"1: (0, 2)\", \"label\": \"\", \"from\": 0, \"to\": 2}, {\"title\": \"2: (1, 2)\", \"label\": \"\", \"from\": 1, \"to\": 2}, {\"title\": \"3: (1, 3)\", \"label\": \"\", \"from\": 1, \"to\": 3}, {\"title\": \"4: (2, 3)\", \"label\": \"\", \"from\": 2, \"to\": 3}];\n",
       "var data= {\n",
       "    nodes: nodes,\n",
       "    edges: edges,\n",
       "};\n",
       "var options = {\"interaction\": {\"navigationButtons\": true}, \"width\": \"600px\", \"height\": 200};\n",
       "var container = document.getElementById('3721bc0a-bc4f-4680-a303-5cb2f3b1bfe5');\n",
       "var network = new vis.Network(container, data, options);\n",
       "network.fit({\n",
       "  maxZoomLevel: 1000});\n",
       "});\n",
       "</script>\n"
      ],
      "text/plain": [
       "<IPython.core.display.HTML object>"
      ]
     },
     "metadata": {},
     "output_type": "display_data"
    }
   ],
   "source": [
    "diamond_adjacency = [[0, 1, 1, 0],\n",
    "                     [1, 0, 1, 1],\n",
    "                     [1, 1, 0, 1],\n",
    "                     [0, 1, 1, 0]]\n",
    "diamond = sm.Model(adjacency=diamond_adjacency)\n",
    "diamond.show_graph(vis_options={'height':200})"
   ]
  },
  {
   "cell_type": "markdown",
   "metadata": {},
   "source": [
    "If you input an incidence matrix, the graph is treated as a hypergraph."
   ]
  },
  {
   "cell_type": "code",
   "execution_count": 3,
   "metadata": {
    "ExecuteTime": {
     "end_time": "2022-01-24T10:11:02.458871Z",
     "start_time": "2022-01-24T10:11:02.445034Z"
    }
   },
   "outputs": [
    {
     "data": {
      "text/html": [
       "\n",
       "<div id=\"fe94e96f-1119-4c5d-8396-46ed60c3939d\"></div>\n",
       "<script>\n",
       "require.config({\n",
       "    paths: {\n",
       "        vis: 'https://unpkg.com/vis-network/standalone/umd/vis-network.min'\n",
       "    }\n",
       "});\n",
       "require(['vis'], function(vis){\n",
       "var nodes = [{\"id\": 0, \"label\": \"0\", \"title\": \"0\", \"x\": 0, \"group\": \"Node\"}, {\"id\": 1, \"label\": \"1\", \"title\": \"1\", \"x\": 0, \"group\": \"Node\"}, {\"id\": 2, \"label\": \"2\", \"title\": \"2\", \"x\": 0, \"group\": \"Node\"}, {\"id\": 3, \"label\": \"3\", \"title\": \"3\", \"x\": 0, \"group\": \"Node\"}, {\"title\": \"0: (0, 1)\", \"label\": \"\", \"id\": 4, \"group\": \"HyperEdge\", \"x\": 600}, {\"title\": \"1: (0, 2)\", \"label\": \"\", \"id\": 5, \"group\": \"HyperEdge\", \"x\": 600}, {\"title\": \"2: (1, 2)\", \"label\": \"\", \"id\": 6, \"group\": \"HyperEdge\", \"x\": 600}, {\"title\": \"3: (1, 3)\", \"label\": \"\", \"id\": 7, \"group\": \"HyperEdge\", \"x\": 600}, {\"title\": \"4: (2, 3)\", \"label\": \"\", \"id\": 8, \"group\": \"HyperEdge\", \"x\": 600}];\n",
       "var edges = [{\"from\": 0, \"to\": 4, \"title\": \"0 <-> 0: (0, 1)\"}, {\"from\": 0, \"to\": 5, \"title\": \"0 <-> 1: (0, 2)\"}, {\"from\": 1, \"to\": 4, \"title\": \"1 <-> 0: (0, 1)\"}, {\"from\": 1, \"to\": 6, \"title\": \"1 <-> 2: (1, 2)\"}, {\"from\": 1, \"to\": 7, \"title\": \"1 <-> 3: (1, 3)\"}, {\"from\": 2, \"to\": 5, \"title\": \"2 <-> 1: (0, 2)\"}, {\"from\": 2, \"to\": 6, \"title\": \"2 <-> 2: (1, 2)\"}, {\"from\": 2, \"to\": 8, \"title\": \"2 <-> 4: (2, 3)\"}, {\"from\": 3, \"to\": 7, \"title\": \"3 <-> 3: (1, 3)\"}, {\"from\": 3, \"to\": 8, \"title\": \"3 <-> 4: (2, 3)\"}];\n",
       "var data= {\n",
       "    nodes: nodes,\n",
       "    edges: edges,\n",
       "};\n",
       "var options = {\"interaction\": {\"navigationButtons\": true}, \"width\": \"600px\", \"height\": 200, \"groups\": {\"HyperEdge\": {\"fixed\": {\"x\": false}, \"color\": {\"background\": \"black\"}, \"shape\": \"dot\", \"size\": 5}, \"Node\": {\"fixed\": {\"x\": false}}}};\n",
       "var container = document.getElementById('fe94e96f-1119-4c5d-8396-46ed60c3939d');\n",
       "var network = new vis.Network(container, data, options);\n",
       "network.fit({\n",
       "  maxZoomLevel: 1000});\n",
       "});\n",
       "</script>\n"
      ],
      "text/plain": [
       "<IPython.core.display.HTML object>"
      ]
     },
     "metadata": {},
     "output_type": "display_data"
    }
   ],
   "source": [
    "diamond_incidence = [[1, 1, 0, 0, 0],\n",
    "                     [1, 0, 1, 1, 0],\n",
    "                     [0, 1, 1, 0, 1],\n",
    "                     [0, 0, 0, 1, 1]]\n",
    "\n",
    "diamond = sm.Model(incidence=diamond_incidence)\n",
    "diamond.show_graph(vis_options={'height':200})"
   ]
  },
  {
   "cell_type": "markdown",
   "metadata": {},
   "source": [
    "A Model possesses many attributes.\n",
    "\n",
    "Number of edges and nodes:"
   ]
  },
  {
   "cell_type": "code",
   "execution_count": 4,
   "metadata": {
    "ExecuteTime": {
     "end_time": "2022-01-24T10:11:02.474227Z",
     "start_time": "2022-01-24T10:11:02.461024Z"
    }
   },
   "outputs": [
    {
     "data": {
      "text/plain": [
       "(4, 5)"
      ]
     },
     "execution_count": 4,
     "metadata": {},
     "output_type": "execute_result"
    }
   ],
   "source": [
    "diamond.n, diamond.m"
   ]
  },
  {
   "cell_type": "markdown",
   "metadata": {},
   "source": [
    "Adjacency matrix does not exist for hypergraphs:"
   ]
  },
  {
   "cell_type": "code",
   "execution_count": 5,
   "metadata": {
    "ExecuteTime": {
     "end_time": "2022-01-24T10:11:02.489286Z",
     "start_time": "2022-01-24T10:11:02.475546Z"
    }
   },
   "outputs": [],
   "source": [
    "diamond.adjacency"
   ]
  },
  {
   "cell_type": "code",
   "execution_count": 6,
   "metadata": {
    "ExecuteTime": {
     "end_time": "2022-01-24T10:11:02.504376Z",
     "start_time": "2022-01-24T10:11:02.490660Z"
    }
   },
   "outputs": [
    {
     "data": {
      "text/plain": [
       "array([[0, 1, 1, 0],\n",
       "       [1, 0, 1, 1],\n",
       "       [1, 1, 0, 1],\n",
       "       [0, 1, 1, 0]])"
      ]
     },
     "execution_count": 6,
     "metadata": {},
     "output_type": "execute_result"
    }
   ],
   "source": [
    "diamond = sm.Model(adjacency=diamond_adjacency)\n",
    "diamond.adjacency"
   ]
  },
  {
   "cell_type": "markdown",
   "metadata": {},
   "source": [
    "Incidence (nodes X edges):"
   ]
  },
  {
   "cell_type": "code",
   "execution_count": 7,
   "metadata": {
    "ExecuteTime": {
     "end_time": "2022-01-24T10:11:02.520647Z",
     "start_time": "2022-01-24T10:11:02.505357Z"
    }
   },
   "outputs": [
    {
     "data": {
      "text/plain": [
       "array([[1, 1, 0, 0, 0],\n",
       "       [1, 0, 1, 1, 0],\n",
       "       [0, 1, 1, 0, 1],\n",
       "       [0, 0, 0, 1, 1]])"
      ]
     },
     "execution_count": 7,
     "metadata": {},
     "output_type": "execute_result"
    }
   ],
   "source": [
    "diamond.incidence"
   ]
  },
  {
   "cell_type": "markdown",
   "metadata": {},
   "source": [
    "As already seen, you can visualize the graph with the `show_graph` method."
   ]
  },
  {
   "cell_type": "code",
   "execution_count": 8,
   "metadata": {
    "ExecuteTime": {
     "end_time": "2022-01-24T10:11:02.535699Z",
     "start_time": "2022-01-24T10:11:02.521753Z"
    }
   },
   "outputs": [
    {
     "data": {
      "text/html": [
       "\n",
       "<div id=\"a6f9e778-3ba0-4a7c-a01a-e796459076e2\"></div>\n",
       "<script>\n",
       "require.config({\n",
       "    paths: {\n",
       "        vis: 'https://unpkg.com/vis-network/standalone/umd/vis-network.min'\n",
       "    }\n",
       "});\n",
       "require(['vis'], function(vis){\n",
       "var nodes = [{\"id\": 0, \"label\": \"0\", \"title\": \"0\"}, {\"id\": 1, \"label\": \"1\", \"title\": \"1\"}, {\"id\": 2, \"label\": \"2\", \"title\": \"2\"}, {\"id\": 3, \"label\": \"3\", \"title\": \"3\"}];\n",
       "var edges = [{\"title\": \"0: (0, 1)\", \"label\": \"\", \"from\": 0, \"to\": 1}, {\"title\": \"1: (0, 2)\", \"label\": \"\", \"from\": 0, \"to\": 2}, {\"title\": \"2: (1, 2)\", \"label\": \"\", \"from\": 1, \"to\": 2}, {\"title\": \"3: (1, 3)\", \"label\": \"\", \"from\": 1, \"to\": 3}, {\"title\": \"4: (2, 3)\", \"label\": \"\", \"from\": 2, \"to\": 3}];\n",
       "var data= {\n",
       "    nodes: nodes,\n",
       "    edges: edges,\n",
       "};\n",
       "var options = {\"interaction\": {\"navigationButtons\": true}, \"width\": \"600px\", \"height\": \"600px\"};\n",
       "var container = document.getElementById('a6f9e778-3ba0-4a7c-a01a-e796459076e2');\n",
       "var network = new vis.Network(container, data, options);\n",
       "network.fit({\n",
       "  maxZoomLevel: 1000});\n",
       "});\n",
       "</script>\n"
      ],
      "text/plain": [
       "<IPython.core.display.HTML object>"
      ]
     },
     "metadata": {},
     "output_type": "display_data"
    }
   ],
   "source": [
    "diamond.show_graph()"
   ]
  },
  {
   "cell_type": "markdown",
   "metadata": {},
   "source": [
    "You can customize display with `vis_options` (the options will be pass to the vis engine). For example, to display a red graph with no navigation button:"
   ]
  },
  {
   "cell_type": "code",
   "execution_count": 9,
   "metadata": {
    "ExecuteTime": {
     "end_time": "2022-01-24T10:11:02.551419Z",
     "start_time": "2022-01-24T10:11:02.538286Z"
    }
   },
   "outputs": [
    {
     "data": {
      "text/html": [
       "\n",
       "<div id=\"4ac8e2fe-4726-49cc-b8bb-f9e90bd4464d\"></div>\n",
       "<script>\n",
       "require.config({\n",
       "    paths: {\n",
       "        vis: 'https://unpkg.com/vis-network/standalone/umd/vis-network.min'\n",
       "    }\n",
       "});\n",
       "require(['vis'], function(vis){\n",
       "var nodes = [{\"id\": 0, \"label\": \"0\", \"title\": \"0\"}, {\"id\": 1, \"label\": \"1\", \"title\": \"1\"}, {\"id\": 2, \"label\": \"2\", \"title\": \"2\"}, {\"id\": 3, \"label\": \"3\", \"title\": \"3\"}];\n",
       "var edges = [{\"title\": \"0: (0, 1)\", \"label\": \"\", \"from\": 0, \"to\": 1}, {\"title\": \"1: (0, 2)\", \"label\": \"\", \"from\": 0, \"to\": 2}, {\"title\": \"2: (1, 2)\", \"label\": \"\", \"from\": 1, \"to\": 2}, {\"title\": \"3: (1, 3)\", \"label\": \"\", \"from\": 1, \"to\": 3}, {\"title\": \"4: (2, 3)\", \"label\": \"\", \"from\": 2, \"to\": 3}];\n",
       "var data= {\n",
       "    nodes: nodes,\n",
       "    edges: edges,\n",
       "};\n",
       "var options = {\"interaction\": {\"navigationButtons\": false}, \"width\": \"600px\", \"height\": 200, \"nodes\": {\"color\": \"red\"}};\n",
       "var container = document.getElementById('4ac8e2fe-4726-49cc-b8bb-f9e90bd4464d');\n",
       "var network = new vis.Network(container, data, options);\n",
       "network.fit({\n",
       "  maxZoomLevel: 1000});\n",
       "});\n",
       "</script>\n"
      ],
      "text/plain": [
       "<IPython.core.display.HTML object>"
      ]
     },
     "metadata": {},
     "output_type": "display_data"
    }
   ],
   "source": [
    "diamond.show_graph(vis_options={'height': 200, 'interaction': {'navigationButtons': False}, 'nodes': {'color': 'red'}})"
   ]
  },
  {
   "cell_type": "markdown",
   "metadata": {},
   "source": [
    "Names can be specified."
   ]
  },
  {
   "cell_type": "code",
   "execution_count": 10,
   "metadata": {
    "ExecuteTime": {
     "end_time": "2022-01-24T10:11:02.567350Z",
     "start_time": "2022-01-24T10:11:02.555206Z"
    }
   },
   "outputs": [
    {
     "data": {
      "text/html": [
       "\n",
       "<div id=\"c1120215-0f94-471b-9492-5694e05cfa7c\"></div>\n",
       "<script>\n",
       "require.config({\n",
       "    paths: {\n",
       "        vis: 'https://unpkg.com/vis-network/standalone/umd/vis-network.min'\n",
       "    }\n",
       "});\n",
       "require(['vis'], function(vis){\n",
       "var nodes = [{\"id\": 0, \"label\": \"Ga\", \"title\": \"0: Ga\"}, {\"id\": 1, \"label\": \"Bu\", \"title\": \"1: Bu\"}, {\"id\": 2, \"label\": \"Zo\", \"title\": \"2: Zo\"}, {\"id\": 3, \"label\": \"Meu\", \"title\": \"3: Meu\"}];\n",
       "var edges = [{\"title\": \"0: (Ga, Bu)\", \"label\": \"\", \"from\": 0, \"to\": 1}, {\"title\": \"1: (Ga, Zo)\", \"label\": \"\", \"from\": 0, \"to\": 2}, {\"title\": \"2: (Bu, Zo)\", \"label\": \"\", \"from\": 1, \"to\": 2}, {\"title\": \"3: (Bu, Meu)\", \"label\": \"\", \"from\": 1, \"to\": 3}, {\"title\": \"4: (Zo, Meu)\", \"label\": \"\", \"from\": 2, \"to\": 3}];\n",
       "var data= {\n",
       "    nodes: nodes,\n",
       "    edges: edges,\n",
       "};\n",
       "var options = {\"interaction\": {\"navigationButtons\": true}, \"width\": \"600px\", \"height\": 200};\n",
       "var container = document.getElementById('c1120215-0f94-471b-9492-5694e05cfa7c');\n",
       "var network = new vis.Network(container, data, options);\n",
       "network.fit({\n",
       "  maxZoomLevel: 1000});\n",
       "});\n",
       "</script>\n"
      ],
      "text/plain": [
       "<IPython.core.display.HTML object>"
      ]
     },
     "metadata": {},
     "output_type": "display_data"
    }
   ],
   "source": [
    "diamond.names = [\"Ga\", \"Bu\", \"Zo\", \"Meu\"]\n",
    "diamond.show_graph(vis_options={'height': 200})"
   ]
  },
  {
   "cell_type": "markdown",
   "metadata": {},
   "source": [
    "Automatic letter labeling can be obtained using `alpha` as input for `names`"
   ]
  },
  {
   "cell_type": "code",
   "execution_count": 11,
   "metadata": {
    "ExecuteTime": {
     "end_time": "2022-01-24T10:11:02.582885Z",
     "start_time": "2022-01-24T10:11:02.569704Z"
    }
   },
   "outputs": [
    {
     "data": {
      "text/html": [
       "\n",
       "<div id=\"681bf965-585e-4574-813c-5de4a884a3ae\"></div>\n",
       "<script>\n",
       "require.config({\n",
       "    paths: {\n",
       "        vis: 'https://unpkg.com/vis-network/standalone/umd/vis-network.min'\n",
       "    }\n",
       "});\n",
       "require(['vis'], function(vis){\n",
       "var nodes = [{\"id\": 0, \"label\": \"A\", \"title\": \"0: A\"}, {\"id\": 1, \"label\": \"B\", \"title\": \"1: B\"}, {\"id\": 2, \"label\": \"C\", \"title\": \"2: C\"}, {\"id\": 3, \"label\": \"D\", \"title\": \"3: D\"}];\n",
       "var edges = [{\"title\": \"0: (A, B)\", \"label\": \"\", \"from\": 0, \"to\": 1}, {\"title\": \"1: (A, C)\", \"label\": \"\", \"from\": 0, \"to\": 2}, {\"title\": \"2: (B, C)\", \"label\": \"\", \"from\": 1, \"to\": 2}, {\"title\": \"3: (B, D)\", \"label\": \"\", \"from\": 1, \"to\": 3}, {\"title\": \"4: (C, D)\", \"label\": \"\", \"from\": 2, \"to\": 3}];\n",
       "var data= {\n",
       "    nodes: nodes,\n",
       "    edges: edges,\n",
       "};\n",
       "var options = {\"interaction\": {\"navigationButtons\": true}, \"width\": \"600px\", \"height\": 200};\n",
       "var container = document.getElementById('681bf965-585e-4574-813c-5de4a884a3ae');\n",
       "var network = new vis.Network(container, data, options);\n",
       "network.fit({\n",
       "  maxZoomLevel: 1000});\n",
       "});\n",
       "</script>\n"
      ],
      "text/plain": [
       "<IPython.core.display.HTML object>"
      ]
     },
     "metadata": {},
     "output_type": "display_data"
    }
   ],
   "source": [
    "diamond.names = 'alpha'\n",
    "diamond.show_graph(vis_options={'height': 200})"
   ]
  },
  {
   "cell_type": "markdown",
   "metadata": {},
   "source": [
    "## Pre-defined models"
   ]
  },
  {
   "cell_type": "markdown",
   "metadata": {},
   "source": [
    "For convenience, many graph families are provided."
   ]
  },
  {
   "cell_type": "markdown",
   "metadata": {},
   "source": [
    "### Path graphs"
   ]
  },
  {
   "cell_type": "markdown",
   "metadata": {},
   "source": [
    "Paths are defined by a parameter $n$ (the size, e.g. number of nodes) that defaults to 2."
   ]
  },
  {
   "cell_type": "code",
   "execution_count": 12,
   "metadata": {
    "ExecuteTime": {
     "end_time": "2022-01-24T10:11:02.598221Z",
     "start_time": "2022-01-24T10:11:02.585574Z"
    }
   },
   "outputs": [
    {
     "data": {
      "text/html": [
       "\n",
       "<div id=\"d22e1481-94e6-42c2-9249-635866fd1946\"></div>\n",
       "<script>\n",
       "require.config({\n",
       "    paths: {\n",
       "        vis: 'https://unpkg.com/vis-network/standalone/umd/vis-network.min'\n",
       "    }\n",
       "});\n",
       "require(['vis'], function(vis){\n",
       "var nodes = [{\"id\": 0, \"label\": \"0\", \"title\": \"0\"}, {\"id\": 1, \"label\": \"1\", \"title\": \"1\"}];\n",
       "var edges = [{\"title\": \"0: (0, 1)\", \"label\": \"\", \"from\": 0, \"to\": 1}];\n",
       "var data= {\n",
       "    nodes: nodes,\n",
       "    edges: edges,\n",
       "};\n",
       "var options = {\"interaction\": {\"navigationButtons\": true}, \"width\": \"600px\", \"height\": 200};\n",
       "var container = document.getElementById('d22e1481-94e6-42c2-9249-635866fd1946');\n",
       "var network = new vis.Network(container, data, options);\n",
       "network.fit({\n",
       "  maxZoomLevel: 1000});\n",
       "});\n",
       "</script>\n"
      ],
      "text/plain": [
       "<IPython.core.display.HTML object>"
      ]
     },
     "metadata": {},
     "output_type": "display_data"
    }
   ],
   "source": [
    "sm.Path().show_graph(vis_options={'height': 200})"
   ]
  },
  {
   "cell_type": "code",
   "execution_count": 13,
   "metadata": {
    "ExecuteTime": {
     "end_time": "2022-01-24T10:11:02.614175Z",
     "start_time": "2022-01-24T10:11:02.599969Z"
    }
   },
   "outputs": [
    {
     "data": {
      "text/html": [
       "\n",
       "<div id=\"ae3d4e51-872c-4202-9ac3-f0ab4204f95c\"></div>\n",
       "<script>\n",
       "require.config({\n",
       "    paths: {\n",
       "        vis: 'https://unpkg.com/vis-network/standalone/umd/vis-network.min'\n",
       "    }\n",
       "});\n",
       "require(['vis'], function(vis){\n",
       "var nodes = [{\"id\": 0, \"label\": \"A\", \"title\": \"0: A\"}, {\"id\": 1, \"label\": \"B\", \"title\": \"1: B\"}, {\"id\": 2, \"label\": \"C\", \"title\": \"2: C\"}, {\"id\": 3, \"label\": \"D\", \"title\": \"3: D\"}, {\"id\": 4, \"label\": \"E\", \"title\": \"4: E\"}];\n",
       "var edges = [{\"title\": \"0: (A, B)\", \"label\": \"\", \"from\": 0, \"to\": 1}, {\"title\": \"1: (B, C)\", \"label\": \"\", \"from\": 1, \"to\": 2}, {\"title\": \"2: (C, D)\", \"label\": \"\", \"from\": 2, \"to\": 3}, {\"title\": \"3: (D, E)\", \"label\": \"\", \"from\": 3, \"to\": 4}];\n",
       "var data= {\n",
       "    nodes: nodes,\n",
       "    edges: edges,\n",
       "};\n",
       "var options = {\"interaction\": {\"navigationButtons\": true}, \"width\": \"600px\", \"height\": 200};\n",
       "var container = document.getElementById('ae3d4e51-872c-4202-9ac3-f0ab4204f95c');\n",
       "var network = new vis.Network(container, data, options);\n",
       "network.fit({\n",
       "  maxZoomLevel: 1000});\n",
       "});\n",
       "</script>\n"
      ],
      "text/plain": [
       "<IPython.core.display.HTML object>"
      ]
     },
     "metadata": {},
     "output_type": "display_data"
    }
   ],
   "source": [
    "sm.Path(names='alpha', n=5).show_graph(vis_options={'height': 200})"
   ]
  },
  {
   "cell_type": "markdown",
   "metadata": {},
   "source": [
    "### Cycle graphs"
   ]
  },
  {
   "cell_type": "markdown",
   "metadata": {},
   "source": [
    "Cycles are defined by a parameter $n$ that defaults to 3."
   ]
  },
  {
   "cell_type": "code",
   "execution_count": 14,
   "metadata": {
    "ExecuteTime": {
     "end_time": "2022-01-24T10:11:02.629532Z",
     "start_time": "2022-01-24T10:11:02.615477Z"
    }
   },
   "outputs": [
    {
     "data": {
      "text/html": [
       "\n",
       "<div id=\"c62c7b36-2af8-4041-8f99-dd4862ce780e\"></div>\n",
       "<script>\n",
       "require.config({\n",
       "    paths: {\n",
       "        vis: 'https://unpkg.com/vis-network/standalone/umd/vis-network.min'\n",
       "    }\n",
       "});\n",
       "require(['vis'], function(vis){\n",
       "var nodes = [{\"id\": 0, \"label\": \"0\", \"title\": \"0\"}, {\"id\": 1, \"label\": \"1\", \"title\": \"1\"}, {\"id\": 2, \"label\": \"2\", \"title\": \"2\"}];\n",
       "var edges = [{\"title\": \"0: (0, 1)\", \"label\": \"\", \"from\": 0, \"to\": 1}, {\"title\": \"1: (0, 2)\", \"label\": \"\", \"from\": 0, \"to\": 2}, {\"title\": \"2: (1, 2)\", \"label\": \"\", \"from\": 1, \"to\": 2}];\n",
       "var data= {\n",
       "    nodes: nodes,\n",
       "    edges: edges,\n",
       "};\n",
       "var options = {\"interaction\": {\"navigationButtons\": true}, \"width\": \"600px\", \"height\": 200};\n",
       "var container = document.getElementById('c62c7b36-2af8-4041-8f99-dd4862ce780e');\n",
       "var network = new vis.Network(container, data, options);\n",
       "network.fit({\n",
       "  maxZoomLevel: 1000});\n",
       "});\n",
       "</script>\n"
      ],
      "text/plain": [
       "<IPython.core.display.HTML object>"
      ]
     },
     "metadata": {},
     "output_type": "display_data"
    }
   ],
   "source": [
    "sm.Cycle().show_graph(vis_options={'height': 200})"
   ]
  },
  {
   "cell_type": "code",
   "execution_count": 15,
   "metadata": {
    "ExecuteTime": {
     "end_time": "2022-01-24T10:11:02.644937Z",
     "start_time": "2022-01-24T10:11:02.630545Z"
    }
   },
   "outputs": [
    {
     "data": {
      "text/html": [
       "\n",
       "<div id=\"2cac800d-dd0e-4523-a0d5-bfcb4f5d5c93\"></div>\n",
       "<script>\n",
       "require.config({\n",
       "    paths: {\n",
       "        vis: 'https://unpkg.com/vis-network/standalone/umd/vis-network.min'\n",
       "    }\n",
       "});\n",
       "require(['vis'], function(vis){\n",
       "var nodes = [{\"id\": 0, \"label\": \"A\", \"title\": \"0: A\"}, {\"id\": 1, \"label\": \"B\", \"title\": \"1: B\"}, {\"id\": 2, \"label\": \"C\", \"title\": \"2: C\"}, {\"id\": 3, \"label\": \"D\", \"title\": \"3: D\"}, {\"id\": 4, \"label\": \"E\", \"title\": \"4: E\"}];\n",
       "var edges = [{\"title\": \"0: (A, B)\", \"label\": \"\", \"from\": 0, \"to\": 1}, {\"title\": \"1: (A, E)\", \"label\": \"\", \"from\": 0, \"to\": 4}, {\"title\": \"2: (B, C)\", \"label\": \"\", \"from\": 1, \"to\": 2}, {\"title\": \"3: (C, D)\", \"label\": \"\", \"from\": 2, \"to\": 3}, {\"title\": \"4: (D, E)\", \"label\": \"\", \"from\": 3, \"to\": 4}];\n",
       "var data= {\n",
       "    nodes: nodes,\n",
       "    edges: edges,\n",
       "};\n",
       "var options = {\"interaction\": {\"navigationButtons\": true}, \"width\": \"600px\", \"height\": 200};\n",
       "var container = document.getElementById('2cac800d-dd0e-4523-a0d5-bfcb4f5d5c93');\n",
       "var network = new vis.Network(container, data, options);\n",
       "network.fit({\n",
       "  maxZoomLevel: 1000});\n",
       "});\n",
       "</script>\n"
      ],
      "text/plain": [
       "<IPython.core.display.HTML object>"
      ]
     },
     "metadata": {},
     "output_type": "display_data"
    }
   ],
   "source": [
    "sm.Cycle(names='alpha', n=5).show_graph(vis_options={'height': 200})"
   ]
  },
  {
   "cell_type": "markdown",
   "metadata": {},
   "source": [
    "### Star graphs"
   ]
  },
  {
   "cell_type": "markdown",
   "metadata": {},
   "source": [
    "Stars are defined by a parameter $n$ (the number of nodes) that defaults to 4."
   ]
  },
  {
   "cell_type": "code",
   "execution_count": 16,
   "metadata": {
    "ExecuteTime": {
     "end_time": "2022-01-24T10:11:02.660424Z",
     "start_time": "2022-01-24T10:11:02.645908Z"
    }
   },
   "outputs": [
    {
     "data": {
      "text/html": [
       "\n",
       "<div id=\"9d06a478-5c9e-427b-a99c-63d046d487bf\"></div>\n",
       "<script>\n",
       "require.config({\n",
       "    paths: {\n",
       "        vis: 'https://unpkg.com/vis-network/standalone/umd/vis-network.min'\n",
       "    }\n",
       "});\n",
       "require(['vis'], function(vis){\n",
       "var nodes = [{\"id\": 0, \"label\": \"0\", \"title\": \"0\"}, {\"id\": 1, \"label\": \"1\", \"title\": \"1\"}, {\"id\": 2, \"label\": \"2\", \"title\": \"2\"}, {\"id\": 3, \"label\": \"3\", \"title\": \"3\"}];\n",
       "var edges = [{\"title\": \"0: (0, 1)\", \"label\": \"\", \"from\": 0, \"to\": 1}, {\"title\": \"1: (0, 2)\", \"label\": \"\", \"from\": 0, \"to\": 2}, {\"title\": \"2: (0, 3)\", \"label\": \"\", \"from\": 0, \"to\": 3}];\n",
       "var data= {\n",
       "    nodes: nodes,\n",
       "    edges: edges,\n",
       "};\n",
       "var options = {\"interaction\": {\"navigationButtons\": true}, \"width\": \"600px\", \"height\": 200};\n",
       "var container = document.getElementById('9d06a478-5c9e-427b-a99c-63d046d487bf');\n",
       "var network = new vis.Network(container, data, options);\n",
       "network.fit({\n",
       "  maxZoomLevel: 1000});\n",
       "});\n",
       "</script>\n"
      ],
      "text/plain": [
       "<IPython.core.display.HTML object>"
      ]
     },
     "metadata": {},
     "output_type": "display_data"
    }
   ],
   "source": [
    "sm.Star().show_graph(vis_options={'height': 200})"
   ]
  },
  {
   "cell_type": "code",
   "execution_count": 17,
   "metadata": {
    "ExecuteTime": {
     "end_time": "2022-01-24T10:11:02.675634Z",
     "start_time": "2022-01-24T10:11:02.661901Z"
    }
   },
   "outputs": [
    {
     "data": {
      "text/html": [
       "\n",
       "<div id=\"c33cbffd-e4d0-4def-a006-6147abe40c0a\"></div>\n",
       "<script>\n",
       "require.config({\n",
       "    paths: {\n",
       "        vis: 'https://unpkg.com/vis-network/standalone/umd/vis-network.min'\n",
       "    }\n",
       "});\n",
       "require(['vis'], function(vis){\n",
       "var nodes = [{\"id\": 0, \"label\": \"A\", \"title\": \"0: A\"}, {\"id\": 1, \"label\": \"B\", \"title\": \"1: B\"}, {\"id\": 2, \"label\": \"C\", \"title\": \"2: C\"}, {\"id\": 3, \"label\": \"D\", \"title\": \"3: D\"}, {\"id\": 4, \"label\": \"E\", \"title\": \"4: E\"}];\n",
       "var edges = [{\"title\": \"0: (A, B)\", \"label\": \"\", \"from\": 0, \"to\": 1}, {\"title\": \"1: (A, C)\", \"label\": \"\", \"from\": 0, \"to\": 2}, {\"title\": \"2: (A, D)\", \"label\": \"\", \"from\": 0, \"to\": 3}, {\"title\": \"3: (A, E)\", \"label\": \"\", \"from\": 0, \"to\": 4}];\n",
       "var data= {\n",
       "    nodes: nodes,\n",
       "    edges: edges,\n",
       "};\n",
       "var options = {\"interaction\": {\"navigationButtons\": true}, \"width\": \"600px\", \"height\": 200};\n",
       "var container = document.getElementById('c33cbffd-e4d0-4def-a006-6147abe40c0a');\n",
       "var network = new vis.Network(container, data, options);\n",
       "network.fit({\n",
       "  maxZoomLevel: 1000});\n",
       "});\n",
       "</script>\n"
      ],
      "text/plain": [
       "<IPython.core.display.HTML object>"
      ]
     },
     "metadata": {},
     "output_type": "display_data"
    }
   ],
   "source": [
    "sm.Star(names='alpha', n=5).show_graph(vis_options={'height': 200})"
   ]
  },
  {
   "cell_type": "markdown",
   "metadata": {},
   "source": [
    "### Complete graphs"
   ]
  },
  {
   "cell_type": "markdown",
   "metadata": {},
   "source": [
    "Complete graphs are defined by a parameter $n$ that defaults to 3."
   ]
  },
  {
   "cell_type": "code",
   "execution_count": 18,
   "metadata": {
    "ExecuteTime": {
     "end_time": "2022-01-24T10:11:02.691146Z",
     "start_time": "2022-01-24T10:11:02.677020Z"
    }
   },
   "outputs": [
    {
     "data": {
      "text/html": [
       "\n",
       "<div id=\"41f997cd-5daf-431d-9d8a-35015724d17d\"></div>\n",
       "<script>\n",
       "require.config({\n",
       "    paths: {\n",
       "        vis: 'https://unpkg.com/vis-network/standalone/umd/vis-network.min'\n",
       "    }\n",
       "});\n",
       "require(['vis'], function(vis){\n",
       "var nodes = [{\"id\": 0, \"label\": \"0\", \"title\": \"0\"}, {\"id\": 1, \"label\": \"1\", \"title\": \"1\"}, {\"id\": 2, \"label\": \"2\", \"title\": \"2\"}];\n",
       "var edges = [{\"title\": \"0: (0, 1)\", \"label\": \"\", \"from\": 0, \"to\": 1}, {\"title\": \"1: (0, 2)\", \"label\": \"\", \"from\": 0, \"to\": 2}, {\"title\": \"2: (1, 2)\", \"label\": \"\", \"from\": 1, \"to\": 2}];\n",
       "var data= {\n",
       "    nodes: nodes,\n",
       "    edges: edges,\n",
       "};\n",
       "var options = {\"interaction\": {\"navigationButtons\": true}, \"width\": \"600px\", \"height\": 200};\n",
       "var container = document.getElementById('41f997cd-5daf-431d-9d8a-35015724d17d');\n",
       "var network = new vis.Network(container, data, options);\n",
       "network.fit({\n",
       "  maxZoomLevel: 1000});\n",
       "});\n",
       "</script>\n"
      ],
      "text/plain": [
       "<IPython.core.display.HTML object>"
      ]
     },
     "metadata": {},
     "output_type": "display_data"
    }
   ],
   "source": [
    "sm.Complete().show_graph(vis_options={'height': 200})"
   ]
  },
  {
   "cell_type": "code",
   "execution_count": 19,
   "metadata": {
    "ExecuteTime": {
     "end_time": "2022-01-24T10:11:02.707116Z",
     "start_time": "2022-01-24T10:11:02.692128Z"
    }
   },
   "outputs": [
    {
     "data": {
      "text/html": [
       "\n",
       "<div id=\"86c6df29-187e-48cc-bff8-fbbc25819589\"></div>\n",
       "<script>\n",
       "require.config({\n",
       "    paths: {\n",
       "        vis: 'https://unpkg.com/vis-network/standalone/umd/vis-network.min'\n",
       "    }\n",
       "});\n",
       "require(['vis'], function(vis){\n",
       "var nodes = [{\"id\": 0, \"label\": \"A\", \"title\": \"0: A\"}, {\"id\": 1, \"label\": \"B\", \"title\": \"1: B\"}, {\"id\": 2, \"label\": \"C\", \"title\": \"2: C\"}, {\"id\": 3, \"label\": \"D\", \"title\": \"3: D\"}, {\"id\": 4, \"label\": \"E\", \"title\": \"4: E\"}];\n",
       "var edges = [{\"title\": \"0: (A, B)\", \"label\": \"\", \"from\": 0, \"to\": 1}, {\"title\": \"1: (A, C)\", \"label\": \"\", \"from\": 0, \"to\": 2}, {\"title\": \"2: (A, D)\", \"label\": \"\", \"from\": 0, \"to\": 3}, {\"title\": \"3: (A, E)\", \"label\": \"\", \"from\": 0, \"to\": 4}, {\"title\": \"4: (B, C)\", \"label\": \"\", \"from\": 1, \"to\": 2}, {\"title\": \"5: (B, D)\", \"label\": \"\", \"from\": 1, \"to\": 3}, {\"title\": \"6: (B, E)\", \"label\": \"\", \"from\": 1, \"to\": 4}, {\"title\": \"7: (C, D)\", \"label\": \"\", \"from\": 2, \"to\": 3}, {\"title\": \"8: (C, E)\", \"label\": \"\", \"from\": 2, \"to\": 4}, {\"title\": \"9: (D, E)\", \"label\": \"\", \"from\": 3, \"to\": 4}];\n",
       "var data= {\n",
       "    nodes: nodes,\n",
       "    edges: edges,\n",
       "};\n",
       "var options = {\"interaction\": {\"navigationButtons\": true}, \"width\": \"600px\", \"height\": 200};\n",
       "var container = document.getElementById('86c6df29-187e-48cc-bff8-fbbc25819589');\n",
       "var network = new vis.Network(container, data, options);\n",
       "network.fit({\n",
       "  maxZoomLevel: 1000});\n",
       "});\n",
       "</script>\n"
      ],
      "text/plain": [
       "<IPython.core.display.HTML object>"
      ]
     },
     "metadata": {},
     "output_type": "display_data"
    }
   ],
   "source": [
    "sm.Complete(names='alpha', n=5).show_graph(vis_options={'height': 200})"
   ]
  },
  {
   "cell_type": "markdown",
   "metadata": {},
   "source": [
    "### Tadpole graphs"
   ]
  },
  {
   "cell_type": "markdown",
   "metadata": {},
   "source": [
    "A tadpole combines a cycle of length $m$ and a path of length $n$. Default is the paw graph ($m=3, n=1$)"
   ]
  },
  {
   "cell_type": "code",
   "execution_count": 20,
   "metadata": {
    "ExecuteTime": {
     "end_time": "2022-01-24T10:11:02.722969Z",
     "start_time": "2022-01-24T10:11:02.708094Z"
    }
   },
   "outputs": [
    {
     "data": {
      "text/html": [
       "\n",
       "<div id=\"24ed716f-5e0e-476f-a168-bac65baeee3f\"></div>\n",
       "<script>\n",
       "require.config({\n",
       "    paths: {\n",
       "        vis: 'https://unpkg.com/vis-network/standalone/umd/vis-network.min'\n",
       "    }\n",
       "});\n",
       "require(['vis'], function(vis){\n",
       "var nodes = [{\"id\": 0, \"label\": \"0\", \"title\": \"0\"}, {\"id\": 1, \"label\": \"1\", \"title\": \"1\"}, {\"id\": 2, \"label\": \"2\", \"title\": \"2\"}, {\"id\": 3, \"label\": \"3\", \"title\": \"3\"}];\n",
       "var edges = [{\"title\": \"0: (0, 1)\", \"label\": \"\", \"from\": 0, \"to\": 1}, {\"title\": \"1: (0, 2)\", \"label\": \"\", \"from\": 0, \"to\": 2}, {\"title\": \"2: (1, 2)\", \"label\": \"\", \"from\": 1, \"to\": 2}, {\"title\": \"3: (2, 3)\", \"label\": \"\", \"from\": 2, \"to\": 3}];\n",
       "var data= {\n",
       "    nodes: nodes,\n",
       "    edges: edges,\n",
       "};\n",
       "var options = {\"interaction\": {\"navigationButtons\": true}, \"width\": \"600px\", \"height\": 200};\n",
       "var container = document.getElementById('24ed716f-5e0e-476f-a168-bac65baeee3f');\n",
       "var network = new vis.Network(container, data, options);\n",
       "network.fit({\n",
       "  maxZoomLevel: 1000});\n",
       "});\n",
       "</script>\n"
      ],
      "text/plain": [
       "<IPython.core.display.HTML object>"
      ]
     },
     "metadata": {},
     "output_type": "display_data"
    }
   ],
   "source": [
    "# Paw graph\n",
    "sm.Tadpole().show_graph(vis_options={'height': 200})"
   ]
  },
  {
   "cell_type": "code",
   "execution_count": 21,
   "metadata": {
    "ExecuteTime": {
     "end_time": "2022-01-24T10:11:02.759773Z",
     "start_time": "2022-01-24T10:11:02.725378Z"
    }
   },
   "outputs": [
    {
     "data": {
      "text/html": [
       "\n",
       "<div id=\"2256b40d-c1e5-4cc5-b330-32e58160f07c\"></div>\n",
       "<script>\n",
       "require.config({\n",
       "    paths: {\n",
       "        vis: 'https://unpkg.com/vis-network/standalone/umd/vis-network.min'\n",
       "    }\n",
       "});\n",
       "require(['vis'], function(vis){\n",
       "var nodes = [{\"id\": 0, \"label\": \"0\", \"title\": \"0\"}, {\"id\": 1, \"label\": \"1\", \"title\": \"1\"}, {\"id\": 2, \"label\": \"2\", \"title\": \"2\"}, {\"id\": 3, \"label\": \"3\", \"title\": \"3\"}, {\"id\": 4, \"label\": \"4\", \"title\": \"4\"}, {\"id\": 5, \"label\": \"5\", \"title\": \"5\"}, {\"id\": 6, \"label\": \"6\", \"title\": \"6\"}];\n",
       "var edges = [{\"title\": \"0: (0, 1)\", \"label\": \"\", \"from\": 0, \"to\": 1}, {\"title\": \"1: (0, 2)\", \"label\": \"\", \"from\": 0, \"to\": 2}, {\"title\": \"2: (1, 2)\", \"label\": \"\", \"from\": 1, \"to\": 2}, {\"title\": \"3: (2, 3)\", \"label\": \"\", \"from\": 2, \"to\": 3}, {\"title\": \"4: (3, 4)\", \"label\": \"\", \"from\": 3, \"to\": 4}, {\"title\": \"5: (4, 5)\", \"label\": \"\", \"from\": 4, \"to\": 5}, {\"title\": \"6: (5, 6)\", \"label\": \"\", \"from\": 5, \"to\": 6}];\n",
       "var data= {\n",
       "    nodes: nodes,\n",
       "    edges: edges,\n",
       "};\n",
       "var options = {\"interaction\": {\"navigationButtons\": true}, \"width\": \"600px\", \"height\": 200};\n",
       "var container = document.getElementById('2256b40d-c1e5-4cc5-b330-32e58160f07c');\n",
       "var network = new vis.Network(container, data, options);\n",
       "network.fit({\n",
       "  maxZoomLevel: 1000});\n",
       "});\n",
       "</script>\n"
      ],
      "text/plain": [
       "<IPython.core.display.HTML object>"
      ]
     },
     "metadata": {},
     "output_type": "display_data"
    }
   ],
   "source": [
    "sm.Tadpole(n=4).show_graph(vis_options={'height': 200})"
   ]
  },
  {
   "cell_type": "code",
   "execution_count": 22,
   "metadata": {
    "ExecuteTime": {
     "end_time": "2022-01-24T10:11:02.769471Z",
     "start_time": "2022-01-24T10:11:02.761920Z"
    }
   },
   "outputs": [
    {
     "data": {
      "text/html": [
       "\n",
       "<div id=\"1900467f-0ba8-4d66-b5ca-a55a0ce085f7\"></div>\n",
       "<script>\n",
       "require.config({\n",
       "    paths: {\n",
       "        vis: 'https://unpkg.com/vis-network/standalone/umd/vis-network.min'\n",
       "    }\n",
       "});\n",
       "require(['vis'], function(vis){\n",
       "var nodes = [{\"id\": 0, \"label\": \"0\", \"title\": \"0\"}, {\"id\": 1, \"label\": \"1\", \"title\": \"1\"}, {\"id\": 2, \"label\": \"2\", \"title\": \"2\"}, {\"id\": 3, \"label\": \"3\", \"title\": \"3\"}, {\"id\": 4, \"label\": \"4\", \"title\": \"4\"}];\n",
       "var edges = [{\"title\": \"0: (0, 1)\", \"label\": \"\", \"from\": 0, \"to\": 1}, {\"title\": \"1: (0, 3)\", \"label\": \"\", \"from\": 0, \"to\": 3}, {\"title\": \"2: (1, 2)\", \"label\": \"\", \"from\": 1, \"to\": 2}, {\"title\": \"3: (2, 3)\", \"label\": \"\", \"from\": 2, \"to\": 3}, {\"title\": \"4: (3, 4)\", \"label\": \"\", \"from\": 3, \"to\": 4}];\n",
       "var data= {\n",
       "    nodes: nodes,\n",
       "    edges: edges,\n",
       "};\n",
       "var options = {\"interaction\": {\"navigationButtons\": true}, \"width\": \"600px\", \"height\": 200};\n",
       "var container = document.getElementById('1900467f-0ba8-4d66-b5ca-a55a0ce085f7');\n",
       "var network = new vis.Network(container, data, options);\n",
       "network.fit({\n",
       "  maxZoomLevel: 1000});\n",
       "});\n",
       "</script>\n"
      ],
      "text/plain": [
       "<IPython.core.display.HTML object>"
      ]
     },
     "metadata": {},
     "output_type": "display_data"
    }
   ],
   "source": [
    "# Banner graph\n",
    "sm.Tadpole(m=4).show_graph(vis_options={'height': 200})"
   ]
  },
  {
   "cell_type": "code",
   "execution_count": 23,
   "metadata": {
    "ExecuteTime": {
     "end_time": "2022-01-24T10:11:02.785233Z",
     "start_time": "2022-01-24T10:11:02.770611Z"
    }
   },
   "outputs": [
    {
     "data": {
      "text/html": [
       "\n",
       "<div id=\"53c053bf-572d-4343-8881-18a88f671000\"></div>\n",
       "<script>\n",
       "require.config({\n",
       "    paths: {\n",
       "        vis: 'https://unpkg.com/vis-network/standalone/umd/vis-network.min'\n",
       "    }\n",
       "});\n",
       "require(['vis'], function(vis){\n",
       "var nodes = [{\"id\": 0, \"label\": \"Dubhe\", \"title\": \"0: Dubhe\"}, {\"id\": 1, \"label\": \"Merak\", \"title\": \"1: Merak\"}, {\"id\": 2, \"label\": \"Phecda\", \"title\": \"2: Phecda\"}, {\"id\": 3, \"label\": \"Megrez\", \"title\": \"3: Megrez\"}, {\"id\": 4, \"label\": \"Alioth\", \"title\": \"4: Alioth\"}, {\"id\": 5, \"label\": \"Mizar\", \"title\": \"5: Mizar\"}, {\"id\": 6, \"label\": \"Alkaid\", \"title\": \"6: Alkaid\"}];\n",
       "var edges = [{\"title\": \"0: (Dubhe, Merak)\", \"label\": \"\", \"from\": 0, \"to\": 1}, {\"title\": \"1: (Dubhe, Megrez)\", \"label\": \"\", \"from\": 0, \"to\": 3}, {\"title\": \"2: (Merak, Phecda)\", \"label\": \"\", \"from\": 1, \"to\": 2}, {\"title\": \"3: (Phecda, Megrez)\", \"label\": \"\", \"from\": 2, \"to\": 3}, {\"title\": \"4: (Megrez, Alioth)\", \"label\": \"\", \"from\": 3, \"to\": 4}, {\"title\": \"5: (Alioth, Mizar)\", \"label\": \"\", \"from\": 4, \"to\": 5}, {\"title\": \"6: (Mizar, Alkaid)\", \"label\": \"\", \"from\": 5, \"to\": 6}];\n",
       "var data= {\n",
       "    nodes: nodes,\n",
       "    edges: edges,\n",
       "};\n",
       "var options = {\"interaction\": {\"navigationButtons\": true}, \"width\": \"600px\", \"height\": 400};\n",
       "var container = document.getElementById('53c053bf-572d-4343-8881-18a88f671000');\n",
       "var network = new vis.Network(container, data, options);\n",
       "network.fit({\n",
       "  maxZoomLevel: 1000});\n",
       "});\n",
       "</script>\n"
      ],
      "text/plain": [
       "<IPython.core.display.HTML object>"
      ]
     },
     "metadata": {},
     "output_type": "display_data"
    }
   ],
   "source": [
    "# Ursa major\n",
    "sm.Tadpole(n=3, m=4, \n",
    "           names = ['Dubhe', 'Merak', 'Phecda', 'Megrez', \n",
    "                    'Alioth', 'Mizar', 'Alkaid']).show_graph(vis_options={'height': 400})"
   ]
  },
  {
   "cell_type": "markdown",
   "metadata": {},
   "source": [
    "### Lollipop graphs"
   ]
  },
  {
   "cell_type": "markdown",
   "metadata": {},
   "source": [
    "A lollipop combines a complete graph of size $m$ and a path of length $n$. Default is the paw graph ($m=3, n=1$)"
   ]
  },
  {
   "cell_type": "code",
   "execution_count": 24,
   "metadata": {
    "ExecuteTime": {
     "end_time": "2022-01-24T10:11:02.816775Z",
     "start_time": "2022-01-24T10:11:02.787857Z"
    }
   },
   "outputs": [
    {
     "data": {
      "text/html": [
       "\n",
       "<div id=\"9057606a-cd90-4fec-9d05-3b08afe3cfa5\"></div>\n",
       "<script>\n",
       "require.config({\n",
       "    paths: {\n",
       "        vis: 'https://unpkg.com/vis-network/standalone/umd/vis-network.min'\n",
       "    }\n",
       "});\n",
       "require(['vis'], function(vis){\n",
       "var nodes = [{\"id\": 0, \"label\": \"0\", \"title\": \"0\"}, {\"id\": 1, \"label\": \"1\", \"title\": \"1\"}, {\"id\": 2, \"label\": \"2\", \"title\": \"2\"}, {\"id\": 3, \"label\": \"3\", \"title\": \"3\"}];\n",
       "var edges = [{\"title\": \"0: (0, 1)\", \"label\": \"\", \"from\": 0, \"to\": 1}, {\"title\": \"1: (0, 2)\", \"label\": \"\", \"from\": 0, \"to\": 2}, {\"title\": \"2: (1, 2)\", \"label\": \"\", \"from\": 1, \"to\": 2}, {\"title\": \"3: (2, 3)\", \"label\": \"\", \"from\": 2, \"to\": 3}];\n",
       "var data= {\n",
       "    nodes: nodes,\n",
       "    edges: edges,\n",
       "};\n",
       "var options = {\"interaction\": {\"navigationButtons\": true}, \"width\": \"600px\", \"height\": 200};\n",
       "var container = document.getElementById('9057606a-cd90-4fec-9d05-3b08afe3cfa5');\n",
       "var network = new vis.Network(container, data, options);\n",
       "network.fit({\n",
       "  maxZoomLevel: 1000});\n",
       "});\n",
       "</script>\n"
      ],
      "text/plain": [
       "<IPython.core.display.HTML object>"
      ]
     },
     "metadata": {},
     "output_type": "display_data"
    }
   ],
   "source": [
    "# Paw graph\n",
    "sm.Lollipop().show_graph(vis_options={'height': 200})"
   ]
  },
  {
   "cell_type": "code",
   "execution_count": 25,
   "metadata": {
    "ExecuteTime": {
     "end_time": "2022-01-24T10:11:02.831194Z",
     "start_time": "2022-01-24T10:11:02.822048Z"
    }
   },
   "outputs": [
    {
     "data": {
      "text/html": [
       "\n",
       "<div id=\"ed459a93-edee-444c-9341-df9fa085e28e\"></div>\n",
       "<script>\n",
       "require.config({\n",
       "    paths: {\n",
       "        vis: 'https://unpkg.com/vis-network/standalone/umd/vis-network.min'\n",
       "    }\n",
       "});\n",
       "require(['vis'], function(vis){\n",
       "var nodes = [{\"id\": 0, \"label\": \"0\", \"title\": \"0\"}, {\"id\": 1, \"label\": \"1\", \"title\": \"1\"}, {\"id\": 2, \"label\": \"2\", \"title\": \"2\"}, {\"id\": 3, \"label\": \"3\", \"title\": \"3\"}, {\"id\": 4, \"label\": \"4\", \"title\": \"4\"}];\n",
       "var edges = [{\"title\": \"0: (0, 1)\", \"label\": \"\", \"from\": 0, \"to\": 1}, {\"title\": \"1: (0, 2)\", \"label\": \"\", \"from\": 0, \"to\": 2}, {\"title\": \"2: (0, 3)\", \"label\": \"\", \"from\": 0, \"to\": 3}, {\"title\": \"3: (1, 2)\", \"label\": \"\", \"from\": 1, \"to\": 2}, {\"title\": \"4: (1, 3)\", \"label\": \"\", \"from\": 1, \"to\": 3}, {\"title\": \"5: (2, 3)\", \"label\": \"\", \"from\": 2, \"to\": 3}, {\"title\": \"6: (3, 4)\", \"label\": \"\", \"from\": 3, \"to\": 4}];\n",
       "var data= {\n",
       "    nodes: nodes,\n",
       "    edges: edges,\n",
       "};\n",
       "var options = {\"interaction\": {\"navigationButtons\": true}, \"width\": \"600px\", \"height\": 200};\n",
       "var container = document.getElementById('ed459a93-edee-444c-9341-df9fa085e28e');\n",
       "var network = new vis.Network(container, data, options);\n",
       "network.fit({\n",
       "  maxZoomLevel: 1000});\n",
       "});\n",
       "</script>\n"
      ],
      "text/plain": [
       "<IPython.core.display.HTML object>"
      ]
     },
     "metadata": {},
     "output_type": "display_data"
    }
   ],
   "source": [
    "sm.Lollipop(m=4).show_graph(vis_options={'height': 200})"
   ]
  },
  {
   "cell_type": "code",
   "execution_count": 26,
   "metadata": {
    "ExecuteTime": {
     "end_time": "2022-01-24T10:11:02.846332Z",
     "start_time": "2022-01-24T10:11:02.832577Z"
    }
   },
   "outputs": [
    {
     "data": {
      "text/html": [
       "\n",
       "<div id=\"8109ddff-694b-4b65-9587-ecbf9166b3fc\"></div>\n",
       "<script>\n",
       "require.config({\n",
       "    paths: {\n",
       "        vis: 'https://unpkg.com/vis-network/standalone/umd/vis-network.min'\n",
       "    }\n",
       "});\n",
       "require(['vis'], function(vis){\n",
       "var nodes = [{\"id\": 0, \"label\": \"0\", \"title\": \"0\"}, {\"id\": 1, \"label\": \"1\", \"title\": \"1\"}, {\"id\": 2, \"label\": \"2\", \"title\": \"2\"}, {\"id\": 3, \"label\": \"3\", \"title\": \"3\"}, {\"id\": 4, \"label\": \"4\", \"title\": \"4\"}, {\"id\": 5, \"label\": \"5\", \"title\": \"5\"}, {\"id\": 6, \"label\": \"6\", \"title\": \"6\"}, {\"id\": 7, \"label\": \"7\", \"title\": \"7\"}];\n",
       "var edges = [{\"title\": \"0: (0, 1)\", \"label\": \"\", \"from\": 0, \"to\": 1}, {\"title\": \"1: (0, 2)\", \"label\": \"\", \"from\": 0, \"to\": 2}, {\"title\": \"2: (0, 3)\", \"label\": \"\", \"from\": 0, \"to\": 3}, {\"title\": \"3: (0, 4)\", \"label\": \"\", \"from\": 0, \"to\": 4}, {\"title\": \"4: (1, 2)\", \"label\": \"\", \"from\": 1, \"to\": 2}, {\"title\": \"5: (1, 3)\", \"label\": \"\", \"from\": 1, \"to\": 3}, {\"title\": \"6: (1, 4)\", \"label\": \"\", \"from\": 1, \"to\": 4}, {\"title\": \"7: (2, 3)\", \"label\": \"\", \"from\": 2, \"to\": 3}, {\"title\": \"8: (2, 4)\", \"label\": \"\", \"from\": 2, \"to\": 4}, {\"title\": \"9: (3, 4)\", \"label\": \"\", \"from\": 3, \"to\": 4}, {\"title\": \"10: (4, 5)\", \"label\": \"\", \"from\": 4, \"to\": 5}, {\"title\": \"11: (5, 6)\", \"label\": \"\", \"from\": 5, \"to\": 6}, {\"title\": \"12: (6, 7)\", \"label\": \"\", \"from\": 6, \"to\": 7}];\n",
       "var data= {\n",
       "    nodes: nodes,\n",
       "    edges: edges,\n",
       "};\n",
       "var options = {\"interaction\": {\"navigationButtons\": true}, \"width\": \"600px\", \"height\": 400};\n",
       "var container = document.getElementById('8109ddff-694b-4b65-9587-ecbf9166b3fc');\n",
       "var network = new vis.Network(container, data, options);\n",
       "network.fit({\n",
       "  maxZoomLevel: 1000});\n",
       "});\n",
       "</script>\n"
      ],
      "text/plain": [
       "<IPython.core.display.HTML object>"
      ]
     },
     "metadata": {},
     "output_type": "display_data"
    }
   ],
   "source": [
    "sm.Lollipop(n=3, m=5).show_graph(vis_options={'height': 400})"
   ]
  },
  {
   "cell_type": "markdown",
   "metadata": {},
   "source": [
    "### Kayak paddle graphs"
   ]
  },
  {
   "cell_type": "markdown",
   "metadata": {},
   "source": [
    "Combines a cycle of length $k$, a path of length $l$, and a cycle of length $m$. Defaults to $k=3, l=1, m=k$."
   ]
  },
  {
   "cell_type": "code",
   "execution_count": 27,
   "metadata": {
    "ExecuteTime": {
     "end_time": "2022-01-24T10:11:02.861735Z",
     "start_time": "2022-01-24T10:11:02.847450Z"
    }
   },
   "outputs": [
    {
     "data": {
      "text/html": [
       "\n",
       "<div id=\"96867106-d420-4405-8671-13e7f4a50e44\"></div>\n",
       "<script>\n",
       "require.config({\n",
       "    paths: {\n",
       "        vis: 'https://unpkg.com/vis-network/standalone/umd/vis-network.min'\n",
       "    }\n",
       "});\n",
       "require(['vis'], function(vis){\n",
       "var nodes = [{\"id\": 0, \"label\": \"0\", \"title\": \"0\"}, {\"id\": 1, \"label\": \"1\", \"title\": \"1\"}, {\"id\": 2, \"label\": \"2\", \"title\": \"2\"}, {\"id\": 3, \"label\": \"3\", \"title\": \"3\"}, {\"id\": 4, \"label\": \"4\", \"title\": \"4\"}, {\"id\": 5, \"label\": \"5\", \"title\": \"5\"}];\n",
       "var edges = [{\"title\": \"0: (0, 1)\", \"label\": \"\", \"from\": 0, \"to\": 1}, {\"title\": \"1: (0, 2)\", \"label\": \"\", \"from\": 0, \"to\": 2}, {\"title\": \"2: (1, 2)\", \"label\": \"\", \"from\": 1, \"to\": 2}, {\"title\": \"3: (2, 3)\", \"label\": \"\", \"from\": 2, \"to\": 3}, {\"title\": \"4: (3, 4)\", \"label\": \"\", \"from\": 3, \"to\": 4}, {\"title\": \"5: (3, 5)\", \"label\": \"\", \"from\": 3, \"to\": 5}, {\"title\": \"6: (4, 5)\", \"label\": \"\", \"from\": 4, \"to\": 5}];\n",
       "var data= {\n",
       "    nodes: nodes,\n",
       "    edges: edges,\n",
       "};\n",
       "var options = {\"interaction\": {\"navigationButtons\": true}, \"width\": \"600px\", \"height\": 200};\n",
       "var container = document.getElementById('96867106-d420-4405-8671-13e7f4a50e44');\n",
       "var network = new vis.Network(container, data, options);\n",
       "network.fit({\n",
       "  maxZoomLevel: 1000});\n",
       "});\n",
       "</script>\n"
      ],
      "text/plain": [
       "<IPython.core.display.HTML object>"
      ]
     },
     "metadata": {},
     "output_type": "display_data"
    }
   ],
   "source": [
    "sm.KayakPaddle().show_graph(vis_options={'height': 200})"
   ]
  },
  {
   "cell_type": "code",
   "execution_count": 28,
   "metadata": {
    "ExecuteTime": {
     "end_time": "2022-01-24T10:11:02.877496Z",
     "start_time": "2022-01-24T10:11:02.865235Z"
    }
   },
   "outputs": [
    {
     "data": {
      "text/html": [
       "\n",
       "<div id=\"a62d7a14-bdd2-42bb-8429-9f6ee1e584ad\"></div>\n",
       "<script>\n",
       "require.config({\n",
       "    paths: {\n",
       "        vis: 'https://unpkg.com/vis-network/standalone/umd/vis-network.min'\n",
       "    }\n",
       "});\n",
       "require(['vis'], function(vis){\n",
       "var nodes = [{\"id\": 0, \"label\": \"0\", \"title\": \"0\"}, {\"id\": 1, \"label\": \"1\", \"title\": \"1\"}, {\"id\": 2, \"label\": \"2\", \"title\": \"2\"}, {\"id\": 3, \"label\": \"3\", \"title\": \"3\"}, {\"id\": 4, \"label\": \"4\", \"title\": \"4\"}, {\"id\": 5, \"label\": \"5\", \"title\": \"5\"}, {\"id\": 6, \"label\": \"6\", \"title\": \"6\"}, {\"id\": 7, \"label\": \"7\", \"title\": \"7\"}, {\"id\": 8, \"label\": \"8\", \"title\": \"8\"}, {\"id\": 9, \"label\": \"9\", \"title\": \"9\"}, {\"id\": 10, \"label\": \"10\", \"title\": \"10\"}];\n",
       "var edges = [{\"title\": \"0: (0, 1)\", \"label\": \"\", \"from\": 0, \"to\": 1}, {\"title\": \"1: (0, 4)\", \"label\": \"\", \"from\": 0, \"to\": 4}, {\"title\": \"2: (1, 2)\", \"label\": \"\", \"from\": 1, \"to\": 2}, {\"title\": \"3: (2, 3)\", \"label\": \"\", \"from\": 2, \"to\": 3}, {\"title\": \"4: (3, 4)\", \"label\": \"\", \"from\": 3, \"to\": 4}, {\"title\": \"5: (4, 5)\", \"label\": \"\", \"from\": 4, \"to\": 5}, {\"title\": \"6: (5, 6)\", \"label\": \"\", \"from\": 5, \"to\": 6}, {\"title\": \"7: (6, 7)\", \"label\": \"\", \"from\": 6, \"to\": 7}, {\"title\": \"8: (6, 10)\", \"label\": \"\", \"from\": 6, \"to\": 10}, {\"title\": \"9: (7, 8)\", \"label\": \"\", \"from\": 7, \"to\": 8}, {\"title\": \"10: (8, 9)\", \"label\": \"\", \"from\": 8, \"to\": 9}, {\"title\": \"11: (9, 10)\", \"label\": \"\", \"from\": 9, \"to\": 10}];\n",
       "var data= {\n",
       "    nodes: nodes,\n",
       "    edges: edges,\n",
       "};\n",
       "var options = {\"interaction\": {\"navigationButtons\": true}, \"width\": \"600px\", \"height\": 300};\n",
       "var container = document.getElementById('a62d7a14-bdd2-42bb-8429-9f6ee1e584ad');\n",
       "var network = new vis.Network(container, data, options);\n",
       "network.fit({\n",
       "  maxZoomLevel: 1000});\n",
       "});\n",
       "</script>\n"
      ],
      "text/plain": [
       "<IPython.core.display.HTML object>"
      ]
     },
     "metadata": {},
     "output_type": "display_data"
    }
   ],
   "source": [
    "sm.KayakPaddle(5, 2).show_graph(vis_options={'height': 300})"
   ]
  },
  {
   "cell_type": "code",
   "execution_count": 29,
   "metadata": {
    "ExecuteTime": {
     "end_time": "2022-01-24T10:11:02.892719Z",
     "start_time": "2022-01-24T10:11:02.878688Z"
    }
   },
   "outputs": [
    {
     "data": {
      "text/html": [
       "\n",
       "<div id=\"ee3d542c-153b-42ea-b2e3-3321ca020f8e\"></div>\n",
       "<script>\n",
       "require.config({\n",
       "    paths: {\n",
       "        vis: 'https://unpkg.com/vis-network/standalone/umd/vis-network.min'\n",
       "    }\n",
       "});\n",
       "require(['vis'], function(vis){\n",
       "var nodes = [{\"id\": 0, \"label\": \"0\", \"title\": \"0\"}, {\"id\": 1, \"label\": \"1\", \"title\": \"1\"}, {\"id\": 2, \"label\": \"2\", \"title\": \"2\"}, {\"id\": 3, \"label\": \"3\", \"title\": \"3\"}, {\"id\": 4, \"label\": \"4\", \"title\": \"4\"}, {\"id\": 5, \"label\": \"5\", \"title\": \"5\"}];\n",
       "var edges = [{\"title\": \"0: (0, 1)\", \"label\": \"\", \"from\": 0, \"to\": 1}, {\"title\": \"1: (0, 2)\", \"label\": \"\", \"from\": 0, \"to\": 2}, {\"title\": \"2: (1, 2)\", \"label\": \"\", \"from\": 1, \"to\": 2}, {\"title\": \"3: (2, 3)\", \"label\": \"\", \"from\": 2, \"to\": 3}, {\"title\": \"4: (2, 5)\", \"label\": \"\", \"from\": 2, \"to\": 5}, {\"title\": \"5: (3, 4)\", \"label\": \"\", \"from\": 3, \"to\": 4}, {\"title\": \"6: (4, 5)\", \"label\": \"\", \"from\": 4, \"to\": 5}];\n",
       "var data= {\n",
       "    nodes: nodes,\n",
       "    edges: edges,\n",
       "};\n",
       "var options = {\"interaction\": {\"navigationButtons\": true}, \"width\": \"600px\", \"height\": 300};\n",
       "var container = document.getElementById('ee3d542c-153b-42ea-b2e3-3321ca020f8e');\n",
       "var network = new vis.Network(container, data, options);\n",
       "network.fit({\n",
       "  maxZoomLevel: 1000});\n",
       "});\n",
       "</script>\n"
      ],
      "text/plain": [
       "<IPython.core.display.HTML object>"
      ]
     },
     "metadata": {},
     "output_type": "display_data"
    }
   ],
   "source": [
    "## Fish graph\n",
    "sm.KayakPaddle(l=0, m=4).show_graph(vis_options={'height': 300})"
   ]
  },
  {
   "cell_type": "markdown",
   "metadata": {},
   "source": [
    "### Barbell graph"
   ]
  },
  {
   "cell_type": "markdown",
   "metadata": {},
   "source": [
    "Combines a complete graph of size $k$, a path of length $l$, and a complete graph of size $m$. Defaults to $k=3, l=1, m=k$."
   ]
  },
  {
   "cell_type": "code",
   "execution_count": 30,
   "metadata": {
    "ExecuteTime": {
     "end_time": "2022-01-24T10:11:02.908187Z",
     "start_time": "2022-01-24T10:11:02.894075Z"
    }
   },
   "outputs": [
    {
     "data": {
      "text/html": [
       "\n",
       "<div id=\"fa0b5135-73d2-4dd0-af99-7e62356b1dae\"></div>\n",
       "<script>\n",
       "require.config({\n",
       "    paths: {\n",
       "        vis: 'https://unpkg.com/vis-network/standalone/umd/vis-network.min'\n",
       "    }\n",
       "});\n",
       "require(['vis'], function(vis){\n",
       "var nodes = [{\"id\": 0, \"label\": \"0\", \"title\": \"0\"}, {\"id\": 1, \"label\": \"1\", \"title\": \"1\"}, {\"id\": 2, \"label\": \"2\", \"title\": \"2\"}, {\"id\": 3, \"label\": \"3\", \"title\": \"3\"}, {\"id\": 4, \"label\": \"4\", \"title\": \"4\"}, {\"id\": 5, \"label\": \"5\", \"title\": \"5\"}];\n",
       "var edges = [{\"title\": \"0: (0, 1)\", \"label\": \"\", \"from\": 0, \"to\": 1}, {\"title\": \"1: (0, 2)\", \"label\": \"\", \"from\": 0, \"to\": 2}, {\"title\": \"2: (1, 2)\", \"label\": \"\", \"from\": 1, \"to\": 2}, {\"title\": \"3: (2, 3)\", \"label\": \"\", \"from\": 2, \"to\": 3}, {\"title\": \"4: (3, 4)\", \"label\": \"\", \"from\": 3, \"to\": 4}, {\"title\": \"5: (3, 5)\", \"label\": \"\", \"from\": 3, \"to\": 5}, {\"title\": \"6: (4, 5)\", \"label\": \"\", \"from\": 4, \"to\": 5}];\n",
       "var data= {\n",
       "    nodes: nodes,\n",
       "    edges: edges,\n",
       "};\n",
       "var options = {\"interaction\": {\"navigationButtons\": true}, \"width\": \"600px\", \"height\": 200};\n",
       "var container = document.getElementById('fa0b5135-73d2-4dd0-af99-7e62356b1dae');\n",
       "var network = new vis.Network(container, data, options);\n",
       "network.fit({\n",
       "  maxZoomLevel: 1000});\n",
       "});\n",
       "</script>\n"
      ],
      "text/plain": [
       "<IPython.core.display.HTML object>"
      ]
     },
     "metadata": {},
     "output_type": "display_data"
    }
   ],
   "source": [
    "sm.Barbell().show_graph(vis_options={'height': 200})"
   ]
  },
  {
   "cell_type": "code",
   "execution_count": 31,
   "metadata": {
    "ExecuteTime": {
     "end_time": "2022-01-24T10:11:02.924186Z",
     "start_time": "2022-01-24T10:11:02.909200Z"
    }
   },
   "outputs": [
    {
     "data": {
      "text/html": [
       "\n",
       "<div id=\"ae275555-667f-4dca-8ea0-91fde1bcc994\"></div>\n",
       "<script>\n",
       "require.config({\n",
       "    paths: {\n",
       "        vis: 'https://unpkg.com/vis-network/standalone/umd/vis-network.min'\n",
       "    }\n",
       "});\n",
       "require(['vis'], function(vis){\n",
       "var nodes = [{\"id\": 0, \"label\": \"0\", \"title\": \"0\"}, {\"id\": 1, \"label\": \"1\", \"title\": \"1\"}, {\"id\": 2, \"label\": \"2\", \"title\": \"2\"}, {\"id\": 3, \"label\": \"3\", \"title\": \"3\"}, {\"id\": 4, \"label\": \"4\", \"title\": \"4\"}, {\"id\": 5, \"label\": \"5\", \"title\": \"5\"}, {\"id\": 6, \"label\": \"6\", \"title\": \"6\"}, {\"id\": 7, \"label\": \"7\", \"title\": \"7\"}, {\"id\": 8, \"label\": \"8\", \"title\": \"8\"}, {\"id\": 9, \"label\": \"9\", \"title\": \"9\"}, {\"id\": 10, \"label\": \"10\", \"title\": \"10\"}];\n",
       "var edges = [{\"title\": \"0: (0, 1)\", \"label\": \"\", \"from\": 0, \"to\": 1}, {\"title\": \"1: (0, 2)\", \"label\": \"\", \"from\": 0, \"to\": 2}, {\"title\": \"2: (0, 3)\", \"label\": \"\", \"from\": 0, \"to\": 3}, {\"title\": \"3: (0, 4)\", \"label\": \"\", \"from\": 0, \"to\": 4}, {\"title\": \"4: (1, 2)\", \"label\": \"\", \"from\": 1, \"to\": 2}, {\"title\": \"5: (1, 3)\", \"label\": \"\", \"from\": 1, \"to\": 3}, {\"title\": \"6: (1, 4)\", \"label\": \"\", \"from\": 1, \"to\": 4}, {\"title\": \"7: (2, 3)\", \"label\": \"\", \"from\": 2, \"to\": 3}, {\"title\": \"8: (2, 4)\", \"label\": \"\", \"from\": 2, \"to\": 4}, {\"title\": \"9: (3, 4)\", \"label\": \"\", \"from\": 3, \"to\": 4}, {\"title\": \"10: (4, 5)\", \"label\": \"\", \"from\": 4, \"to\": 5}, {\"title\": \"11: (5, 6)\", \"label\": \"\", \"from\": 5, \"to\": 6}, {\"title\": \"12: (6, 7)\", \"label\": \"\", \"from\": 6, \"to\": 7}, {\"title\": \"13: (6, 8)\", \"label\": \"\", \"from\": 6, \"to\": 8}, {\"title\": \"14: (6, 9)\", \"label\": \"\", \"from\": 6, \"to\": 9}, {\"title\": \"15: (6, 10)\", \"label\": \"\", \"from\": 6, \"to\": 10}, {\"title\": \"16: (7, 8)\", \"label\": \"\", \"from\": 7, \"to\": 8}, {\"title\": \"17: (7, 9)\", \"label\": \"\", \"from\": 7, \"to\": 9}, {\"title\": \"18: (7, 10)\", \"label\": \"\", \"from\": 7, \"to\": 10}, {\"title\": \"19: (8, 9)\", \"label\": \"\", \"from\": 8, \"to\": 9}, {\"title\": \"20: (8, 10)\", \"label\": \"\", \"from\": 8, \"to\": 10}, {\"title\": \"21: (9, 10)\", \"label\": \"\", \"from\": 9, \"to\": 10}];\n",
       "var data= {\n",
       "    nodes: nodes,\n",
       "    edges: edges,\n",
       "};\n",
       "var options = {\"interaction\": {\"navigationButtons\": true}, \"width\": \"600px\", \"height\": 300};\n",
       "var container = document.getElementById('ae275555-667f-4dca-8ea0-91fde1bcc994');\n",
       "var network = new vis.Network(container, data, options);\n",
       "network.fit({\n",
       "  maxZoomLevel: 1000});\n",
       "});\n",
       "</script>\n"
      ],
      "text/plain": [
       "<IPython.core.display.HTML object>"
      ]
     },
     "metadata": {},
     "output_type": "display_data"
    }
   ],
   "source": [
    "sm.Barbell(5, 2).show_graph(vis_options={'height': 300})"
   ]
  },
  {
   "cell_type": "code",
   "execution_count": 32,
   "metadata": {
    "ExecuteTime": {
     "end_time": "2022-01-24T10:11:02.940061Z",
     "start_time": "2022-01-24T10:11:02.925647Z"
    }
   },
   "outputs": [
    {
     "data": {
      "text/html": [
       "\n",
       "<div id=\"b28f1a91-81a8-4393-88c6-f149684dcbf3\"></div>\n",
       "<script>\n",
       "require.config({\n",
       "    paths: {\n",
       "        vis: 'https://unpkg.com/vis-network/standalone/umd/vis-network.min'\n",
       "    }\n",
       "});\n",
       "require(['vis'], function(vis){\n",
       "var nodes = [{\"id\": 0, \"label\": \"0\", \"title\": \"0\"}, {\"id\": 1, \"label\": \"1\", \"title\": \"1\"}, {\"id\": 2, \"label\": \"2\", \"title\": \"2\"}, {\"id\": 3, \"label\": \"3\", \"title\": \"3\"}, {\"id\": 4, \"label\": \"4\", \"title\": \"4\"}, {\"id\": 5, \"label\": \"5\", \"title\": \"5\"}];\n",
       "var edges = [{\"title\": \"0: (0, 1)\", \"label\": \"\", \"from\": 0, \"to\": 1}, {\"title\": \"1: (0, 2)\", \"label\": \"\", \"from\": 0, \"to\": 2}, {\"title\": \"2: (1, 2)\", \"label\": \"\", \"from\": 1, \"to\": 2}, {\"title\": \"3: (2, 3)\", \"label\": \"\", \"from\": 2, \"to\": 3}, {\"title\": \"4: (2, 4)\", \"label\": \"\", \"from\": 2, \"to\": 4}, {\"title\": \"5: (2, 5)\", \"label\": \"\", \"from\": 2, \"to\": 5}, {\"title\": \"6: (3, 4)\", \"label\": \"\", \"from\": 3, \"to\": 4}, {\"title\": \"7: (3, 5)\", \"label\": \"\", \"from\": 3, \"to\": 5}, {\"title\": \"8: (4, 5)\", \"label\": \"\", \"from\": 4, \"to\": 5}];\n",
       "var data= {\n",
       "    nodes: nodes,\n",
       "    edges: edges,\n",
       "};\n",
       "var options = {\"interaction\": {\"navigationButtons\": true}, \"width\": \"600px\", \"height\": 300};\n",
       "var container = document.getElementById('b28f1a91-81a8-4393-88c6-f149684dcbf3');\n",
       "var network = new vis.Network(container, data, options);\n",
       "network.fit({\n",
       "  maxZoomLevel: 1000});\n",
       "});\n",
       "</script>\n"
      ],
      "text/plain": [
       "<IPython.core.display.HTML object>"
      ]
     },
     "metadata": {},
     "output_type": "display_data"
    }
   ],
   "source": [
    "sm.Barbell(l=0, m=4).show_graph(vis_options={'height': 300})"
   ]
  },
  {
   "cell_type": "markdown",
   "metadata": {},
   "source": [
    "### Chained cycle graphs"
   ]
  },
  {
   "cell_type": "markdown",
   "metadata": {},
   "source": [
    "Concatenates cycles of size $n$, $c$ of them. Each cycle has $o$ nodes that overlap with the next one. Defaults to $n=3, c=2, o=2$."
   ]
  },
  {
   "cell_type": "code",
   "execution_count": 33,
   "metadata": {
    "ExecuteTime": {
     "end_time": "2022-01-24T10:11:02.956096Z",
     "start_time": "2022-01-24T10:11:02.941420Z"
    }
   },
   "outputs": [
    {
     "data": {
      "text/html": [
       "\n",
       "<div id=\"8decda94-9587-47c9-935e-0ee8556e84af\"></div>\n",
       "<script>\n",
       "require.config({\n",
       "    paths: {\n",
       "        vis: 'https://unpkg.com/vis-network/standalone/umd/vis-network.min'\n",
       "    }\n",
       "});\n",
       "require(['vis'], function(vis){\n",
       "var nodes = [{\"id\": 0, \"label\": \"0\", \"title\": \"0\"}, {\"id\": 1, \"label\": \"1\", \"title\": \"1\"}, {\"id\": 2, \"label\": \"2\", \"title\": \"2\"}, {\"id\": 3, \"label\": \"3\", \"title\": \"3\"}];\n",
       "var edges = [{\"title\": \"0: (0, 1)\", \"label\": \"\", \"from\": 0, \"to\": 1}, {\"title\": \"1: (0, 2)\", \"label\": \"\", \"from\": 0, \"to\": 2}, {\"title\": \"2: (1, 2)\", \"label\": \"\", \"from\": 1, \"to\": 2}, {\"title\": \"3: (1, 3)\", \"label\": \"\", \"from\": 1, \"to\": 3}, {\"title\": \"4: (2, 3)\", \"label\": \"\", \"from\": 2, \"to\": 3}];\n",
       "var data= {\n",
       "    nodes: nodes,\n",
       "    edges: edges,\n",
       "};\n",
       "var options = {\"interaction\": {\"navigationButtons\": true}, \"width\": \"600px\", \"height\": 200};\n",
       "var container = document.getElementById('8decda94-9587-47c9-935e-0ee8556e84af');\n",
       "var network = new vis.Network(container, data, options);\n",
       "network.fit({\n",
       "  maxZoomLevel: 1000});\n",
       "});\n",
       "</script>\n"
      ],
      "text/plain": [
       "<IPython.core.display.HTML object>"
      ]
     },
     "metadata": {},
     "output_type": "display_data"
    }
   ],
   "source": [
    "# Diamond\n",
    "sm.CycleChain().show_graph(vis_options={'height': 200})"
   ]
  },
  {
   "cell_type": "code",
   "execution_count": 34,
   "metadata": {
    "ExecuteTime": {
     "end_time": "2022-01-24T10:11:02.971988Z",
     "start_time": "2022-01-24T10:11:02.957508Z"
    }
   },
   "outputs": [
    {
     "data": {
      "text/html": [
       "\n",
       "<div id=\"d77319f9-21a2-495f-8d17-04ea6c9d4234\"></div>\n",
       "<script>\n",
       "require.config({\n",
       "    paths: {\n",
       "        vis: 'https://unpkg.com/vis-network/standalone/umd/vis-network.min'\n",
       "    }\n",
       "});\n",
       "require(['vis'], function(vis){\n",
       "var nodes = [{\"id\": 0, \"label\": \"0\", \"title\": \"0\"}, {\"id\": 1, \"label\": \"1\", \"title\": \"1\"}, {\"id\": 2, \"label\": \"2\", \"title\": \"2\"}, {\"id\": 3, \"label\": \"3\", \"title\": \"3\"}, {\"id\": 4, \"label\": \"4\", \"title\": \"4\"}];\n",
       "var edges = [{\"title\": \"0: (0, 1)\", \"label\": \"\", \"from\": 0, \"to\": 1}, {\"title\": \"1: (0, 2)\", \"label\": \"\", \"from\": 0, \"to\": 2}, {\"title\": \"2: (1, 2)\", \"label\": \"\", \"from\": 1, \"to\": 2}, {\"title\": \"3: (1, 3)\", \"label\": \"\", \"from\": 1, \"to\": 3}, {\"title\": \"4: (2, 3)\", \"label\": \"\", \"from\": 2, \"to\": 3}, {\"title\": \"5: (2, 4)\", \"label\": \"\", \"from\": 2, \"to\": 4}, {\"title\": \"6: (3, 4)\", \"label\": \"\", \"from\": 3, \"to\": 4}];\n",
       "var data= {\n",
       "    nodes: nodes,\n",
       "    edges: edges,\n",
       "};\n",
       "var options = {\"interaction\": {\"navigationButtons\": true}, \"width\": \"600px\", \"height\": 300};\n",
       "var container = document.getElementById('d77319f9-21a2-495f-8d17-04ea6c9d4234');\n",
       "var network = new vis.Network(container, data, options);\n",
       "network.fit({\n",
       "  maxZoomLevel: 1000});\n",
       "});\n",
       "</script>\n"
      ],
      "text/plain": [
       "<IPython.core.display.HTML object>"
      ]
     },
     "metadata": {},
     "output_type": "display_data"
    }
   ],
   "source": [
    "# Triamond\n",
    "sm.CycleChain(c=3).show_graph(vis_options={'height': 300})"
   ]
  },
  {
   "cell_type": "code",
   "execution_count": 35,
   "metadata": {
    "ExecuteTime": {
     "end_time": "2022-01-24T10:11:02.987459Z",
     "start_time": "2022-01-24T10:11:02.973139Z"
    }
   },
   "outputs": [
    {
     "data": {
      "text/html": [
       "\n",
       "<div id=\"0119b07f-6f2a-430f-8c16-c6231db79b41\"></div>\n",
       "<script>\n",
       "require.config({\n",
       "    paths: {\n",
       "        vis: 'https://unpkg.com/vis-network/standalone/umd/vis-network.min'\n",
       "    }\n",
       "});\n",
       "require(['vis'], function(vis){\n",
       "var nodes = [{\"id\": 0, \"label\": \"0\", \"title\": \"0\"}, {\"id\": 1, \"label\": \"1\", \"title\": \"1\"}, {\"id\": 2, \"label\": \"2\", \"title\": \"2\"}, {\"id\": 3, \"label\": \"3\", \"title\": \"3\"}, {\"id\": 4, \"label\": \"4\", \"title\": \"4\"}, {\"id\": 5, \"label\": \"5\", \"title\": \"5\"}];\n",
       "var edges = [{\"title\": \"0: (0, 1)\", \"label\": \"\", \"from\": 0, \"to\": 1}, {\"title\": \"1: (0, 3)\", \"label\": \"\", \"from\": 0, \"to\": 3}, {\"title\": \"2: (1, 2)\", \"label\": \"\", \"from\": 1, \"to\": 2}, {\"title\": \"3: (2, 3)\", \"label\": \"\", \"from\": 2, \"to\": 3}, {\"title\": \"4: (2, 5)\", \"label\": \"\", \"from\": 2, \"to\": 5}, {\"title\": \"5: (3, 4)\", \"label\": \"\", \"from\": 3, \"to\": 4}, {\"title\": \"6: (4, 5)\", \"label\": \"\", \"from\": 4, \"to\": 5}];\n",
       "var data= {\n",
       "    nodes: nodes,\n",
       "    edges: edges,\n",
       "};\n",
       "var options = {\"interaction\": {\"navigationButtons\": true}, \"width\": \"600px\", \"height\": 300};\n",
       "var container = document.getElementById('0119b07f-6f2a-430f-8c16-c6231db79b41');\n",
       "var network = new vis.Network(container, data, options);\n",
       "network.fit({\n",
       "  maxZoomLevel: 1000});\n",
       "});\n",
       "</script>\n"
      ],
      "text/plain": [
       "<IPython.core.display.HTML object>"
      ]
     },
     "metadata": {},
     "output_type": "display_data"
    }
   ],
   "source": [
    "# Domino\n",
    "sm.CycleChain(n=4).show_graph(vis_options={'height': 300})"
   ]
  },
  {
   "cell_type": "code",
   "execution_count": 36,
   "metadata": {
    "ExecuteTime": {
     "end_time": "2022-01-24T10:11:03.002816Z",
     "start_time": "2022-01-24T10:11:02.989674Z"
    }
   },
   "outputs": [
    {
     "data": {
      "text/html": [
       "\n",
       "<div id=\"4ff34d85-5601-40f8-9e9e-13ae1916223b\"></div>\n",
       "<script>\n",
       "require.config({\n",
       "    paths: {\n",
       "        vis: 'https://unpkg.com/vis-network/standalone/umd/vis-network.min'\n",
       "    }\n",
       "});\n",
       "require(['vis'], function(vis){\n",
       "var nodes = [{\"id\": 0, \"label\": \"0\", \"title\": \"0\"}, {\"id\": 1, \"label\": \"1\", \"title\": \"1\"}, {\"id\": 2, \"label\": \"2\", \"title\": \"2\"}, {\"id\": 3, \"label\": \"3\", \"title\": \"3\"}, {\"id\": 4, \"label\": \"4\", \"title\": \"4\"}, {\"id\": 5, \"label\": \"5\", \"title\": \"5\"}, {\"id\": 6, \"label\": \"6\", \"title\": \"6\"}, {\"id\": 7, \"label\": \"7\", \"title\": \"7\"}, {\"id\": 8, \"label\": \"8\", \"title\": \"8\"}];\n",
       "var edges = [{\"title\": \"0: (0, 1)\", \"label\": \"\", \"from\": 0, \"to\": 1}, {\"title\": \"1: (0, 2)\", \"label\": \"\", \"from\": 0, \"to\": 2}, {\"title\": \"2: (1, 2)\", \"label\": \"\", \"from\": 1, \"to\": 2}, {\"title\": \"3: (2, 3)\", \"label\": \"\", \"from\": 2, \"to\": 3}, {\"title\": \"4: (2, 4)\", \"label\": \"\", \"from\": 2, \"to\": 4}, {\"title\": \"5: (3, 4)\", \"label\": \"\", \"from\": 3, \"to\": 4}, {\"title\": \"6: (4, 5)\", \"label\": \"\", \"from\": 4, \"to\": 5}, {\"title\": \"7: (4, 6)\", \"label\": \"\", \"from\": 4, \"to\": 6}, {\"title\": \"8: (5, 6)\", \"label\": \"\", \"from\": 5, \"to\": 6}, {\"title\": \"9: (6, 7)\", \"label\": \"\", \"from\": 6, \"to\": 7}, {\"title\": \"10: (6, 8)\", \"label\": \"\", \"from\": 6, \"to\": 8}, {\"title\": \"11: (7, 8)\", \"label\": \"\", \"from\": 7, \"to\": 8}];\n",
       "var data= {\n",
       "    nodes: nodes,\n",
       "    edges: edges,\n",
       "};\n",
       "var options = {\"interaction\": {\"navigationButtons\": true}, \"width\": \"600px\", \"height\": 400};\n",
       "var container = document.getElementById('4ff34d85-5601-40f8-9e9e-13ae1916223b');\n",
       "var network = new vis.Network(container, data, options);\n",
       "network.fit({\n",
       "  maxZoomLevel: 1000});\n",
       "});\n",
       "</script>\n"
      ],
      "text/plain": [
       "<IPython.core.display.HTML object>"
      ]
     },
     "metadata": {},
     "output_type": "display_data"
    }
   ],
   "source": [
    "# The triangular snake graph TS_9 (cf https://mathworld.wolfram.com/TriangularSnakeGraph.html)\n",
    "sm.CycleChain(c=4, o=1).show_graph(vis_options={'height': 400})"
   ]
  },
  {
   "cell_type": "code",
   "execution_count": 37,
   "metadata": {
    "ExecuteTime": {
     "end_time": "2022-01-24T10:11:03.018371Z",
     "start_time": "2022-01-24T10:11:03.004180Z"
    }
   },
   "outputs": [
    {
     "data": {
      "text/html": [
       "\n",
       "<div id=\"a8aa5ebd-4209-4cb8-ac63-a36e1ffb44b1\"></div>\n",
       "<script>\n",
       "require.config({\n",
       "    paths: {\n",
       "        vis: 'https://unpkg.com/vis-network/standalone/umd/vis-network.min'\n",
       "    }\n",
       "});\n",
       "require(['vis'], function(vis){\n",
       "var nodes = [{\"id\": 0, \"label\": \"0\", \"title\": \"0\"}, {\"id\": 1, \"label\": \"1\", \"title\": \"1\"}, {\"id\": 2, \"label\": \"2\", \"title\": \"2\"}, {\"id\": 3, \"label\": \"3\", \"title\": \"3\"}, {\"id\": 4, \"label\": \"4\", \"title\": \"4\"}, {\"id\": 5, \"label\": \"5\", \"title\": \"5\"}, {\"id\": 6, \"label\": \"6\", \"title\": \"6\"}, {\"id\": 7, \"label\": \"7\", \"title\": \"7\"}, {\"id\": 8, \"label\": \"8\", \"title\": \"8\"}, {\"id\": 9, \"label\": \"9\", \"title\": \"9\"}, {\"id\": 10, \"label\": \"10\", \"title\": \"10\"}, {\"id\": 11, \"label\": \"11\", \"title\": \"11\"}];\n",
       "var edges = [{\"title\": \"0: (0, 1)\", \"label\": \"\", \"from\": 0, \"to\": 1}, {\"title\": \"1: (0, 3)\", \"label\": \"\", \"from\": 0, \"to\": 3}, {\"title\": \"2: (1, 2)\", \"label\": \"\", \"from\": 1, \"to\": 2}, {\"title\": \"3: (2, 3)\", \"label\": \"\", \"from\": 2, \"to\": 3}, {\"title\": \"4: (4, 5)\", \"label\": \"\", \"from\": 4, \"to\": 5}, {\"title\": \"5: (4, 7)\", \"label\": \"\", \"from\": 4, \"to\": 7}, {\"title\": \"6: (5, 6)\", \"label\": \"\", \"from\": 5, \"to\": 6}, {\"title\": \"7: (6, 7)\", \"label\": \"\", \"from\": 6, \"to\": 7}, {\"title\": \"8: (8, 9)\", \"label\": \"\", \"from\": 8, \"to\": 9}, {\"title\": \"9: (8, 11)\", \"label\": \"\", \"from\": 8, \"to\": 11}, {\"title\": \"10: (9, 10)\", \"label\": \"\", \"from\": 9, \"to\": 10}, {\"title\": \"11: (10, 11)\", \"label\": \"\", \"from\": 10, \"to\": 11}];\n",
       "var data= {\n",
       "    nodes: nodes,\n",
       "    edges: edges,\n",
       "};\n",
       "var options = {\"interaction\": {\"navigationButtons\": true}, \"width\": \"600px\", \"height\": 300};\n",
       "var container = document.getElementById('a8aa5ebd-4209-4cb8-ac63-a36e1ffb44b1');\n",
       "var network = new vis.Network(container, data, options);\n",
       "network.fit({\n",
       "  maxZoomLevel: 1000});\n",
       "});\n",
       "</script>\n"
      ],
      "text/plain": [
       "<IPython.core.display.HTML object>"
      ]
     },
     "metadata": {},
     "output_type": "display_data"
    }
   ],
   "source": [
    "# 3 separated squares\n",
    "sm.CycleChain(n=4, c=3, o=0).show_graph(vis_options={'height': 300})"
   ]
  },
  {
   "cell_type": "code",
   "execution_count": 38,
   "metadata": {
    "ExecuteTime": {
     "end_time": "2022-01-24T10:11:03.033717Z",
     "start_time": "2022-01-24T10:11:03.019921Z"
    }
   },
   "outputs": [
    {
     "data": {
      "text/html": [
       "\n",
       "<div id=\"eb43823f-5807-4b1c-a61a-43b0b2b7f447\"></div>\n",
       "<script>\n",
       "require.config({\n",
       "    paths: {\n",
       "        vis: 'https://unpkg.com/vis-network/standalone/umd/vis-network.min'\n",
       "    }\n",
       "});\n",
       "require(['vis'], function(vis){\n",
       "var nodes = [{\"id\": 0, \"label\": \"A\", \"title\": \"0: A\"}, {\"id\": 1, \"label\": \"B\", \"title\": \"1: B\"}, {\"id\": 2, \"label\": \"C\", \"title\": \"2: C\"}, {\"id\": 3, \"label\": \"D\", \"title\": \"3: D\"}, {\"id\": 4, \"label\": \"E\", \"title\": \"4: E\"}, {\"id\": 5, \"label\": \"F\", \"title\": \"5: F\"}, {\"id\": 6, \"label\": \"G\", \"title\": \"6: G\"}, {\"id\": 7, \"label\": \"H\", \"title\": \"7: H\"}, {\"id\": 8, \"label\": \"I\", \"title\": \"8: I\"}, {\"id\": 9, \"label\": \"J\", \"title\": \"9: J\"}, {\"id\": 10, \"label\": \"K\", \"title\": \"10: K\"}, {\"id\": 11, \"label\": \"L\", \"title\": \"11: L\"}, {\"id\": 12, \"label\": \"M\", \"title\": \"12: M\"}, {\"id\": 13, \"label\": \"N\", \"title\": \"13: N\"}, {\"id\": 14, \"label\": \"O\", \"title\": \"14: O\"}, {\"id\": 15, \"label\": \"P\", \"title\": \"15: P\"}, {\"id\": 16, \"label\": \"Q\", \"title\": \"16: Q\"}, {\"id\": 17, \"label\": \"R\", \"title\": \"17: R\"}, {\"id\": 18, \"label\": \"S\", \"title\": \"18: S\"}, {\"id\": 19, \"label\": \"T\", \"title\": \"19: T\"}, {\"id\": 20, \"label\": \"U\", \"title\": \"20: U\"}, {\"id\": 21, \"label\": \"V\", \"title\": \"21: V\"}, {\"id\": 22, \"label\": \"W\", \"title\": \"22: W\"}, {\"id\": 23, \"label\": \"X\", \"title\": \"23: X\"}, {\"id\": 24, \"label\": \"Y\", \"title\": \"24: Y\"}, {\"id\": 25, \"label\": \"Z\", \"title\": \"25: Z\"}, {\"id\": 26, \"label\": \"AA\", \"title\": \"26: AA\"}, {\"id\": 27, \"label\": \"AB\", \"title\": \"27: AB\"}, {\"id\": 28, \"label\": \"AC\", \"title\": \"28: AC\"}, {\"id\": 29, \"label\": \"AD\", \"title\": \"29: AD\"}, {\"id\": 30, \"label\": \"AE\", \"title\": \"30: AE\"}, {\"id\": 31, \"label\": \"AF\", \"title\": \"31: AF\"}];\n",
       "var edges = [{\"title\": \"0: (A, B)\", \"label\": \"\", \"from\": 0, \"to\": 1}, {\"title\": \"1: (A, C)\", \"label\": \"\", \"from\": 0, \"to\": 2}, {\"title\": \"2: (B, C)\", \"label\": \"\", \"from\": 1, \"to\": 2}, {\"title\": \"3: (B, D)\", \"label\": \"\", \"from\": 1, \"to\": 3}, {\"title\": \"4: (C, D)\", \"label\": \"\", \"from\": 2, \"to\": 3}, {\"title\": \"5: (C, E)\", \"label\": \"\", \"from\": 2, \"to\": 4}, {\"title\": \"6: (D, E)\", \"label\": \"\", \"from\": 3, \"to\": 4}, {\"title\": \"7: (D, F)\", \"label\": \"\", \"from\": 3, \"to\": 5}, {\"title\": \"8: (E, F)\", \"label\": \"\", \"from\": 4, \"to\": 5}, {\"title\": \"9: (E, G)\", \"label\": \"\", \"from\": 4, \"to\": 6}, {\"title\": \"10: (F, G)\", \"label\": \"\", \"from\": 5, \"to\": 6}, {\"title\": \"11: (F, H)\", \"label\": \"\", \"from\": 5, \"to\": 7}, {\"title\": \"12: (G, H)\", \"label\": \"\", \"from\": 6, \"to\": 7}, {\"title\": \"13: (G, I)\", \"label\": \"\", \"from\": 6, \"to\": 8}, {\"title\": \"14: (H, I)\", \"label\": \"\", \"from\": 7, \"to\": 8}, {\"title\": \"15: (H, J)\", \"label\": \"\", \"from\": 7, \"to\": 9}, {\"title\": \"16: (I, J)\", \"label\": \"\", \"from\": 8, \"to\": 9}, {\"title\": \"17: (I, K)\", \"label\": \"\", \"from\": 8, \"to\": 10}, {\"title\": \"18: (J, K)\", \"label\": \"\", \"from\": 9, \"to\": 10}, {\"title\": \"19: (J, L)\", \"label\": \"\", \"from\": 9, \"to\": 11}, {\"title\": \"20: (K, L)\", \"label\": \"\", \"from\": 10, \"to\": 11}, {\"title\": \"21: (K, M)\", \"label\": \"\", \"from\": 10, \"to\": 12}, {\"title\": \"22: (L, M)\", \"label\": \"\", \"from\": 11, \"to\": 12}, {\"title\": \"23: (L, N)\", \"label\": \"\", \"from\": 11, \"to\": 13}, {\"title\": \"24: (M, N)\", \"label\": \"\", \"from\": 12, \"to\": 13}, {\"title\": \"25: (M, O)\", \"label\": \"\", \"from\": 12, \"to\": 14}, {\"title\": \"26: (N, O)\", \"label\": \"\", \"from\": 13, \"to\": 14}, {\"title\": \"27: (N, P)\", \"label\": \"\", \"from\": 13, \"to\": 15}, {\"title\": \"28: (O, P)\", \"label\": \"\", \"from\": 14, \"to\": 15}, {\"title\": \"29: (O, Q)\", \"label\": \"\", \"from\": 14, \"to\": 16}, {\"title\": \"30: (P, Q)\", \"label\": \"\", \"from\": 15, \"to\": 16}, {\"title\": \"31: (P, R)\", \"label\": \"\", \"from\": 15, \"to\": 17}, {\"title\": \"32: (Q, R)\", \"label\": \"\", \"from\": 16, \"to\": 17}, {\"title\": \"33: (Q, S)\", \"label\": \"\", \"from\": 16, \"to\": 18}, {\"title\": \"34: (R, S)\", \"label\": \"\", \"from\": 17, \"to\": 18}, {\"title\": \"35: (R, T)\", \"label\": \"\", \"from\": 17, \"to\": 19}, {\"title\": \"36: (S, T)\", \"label\": \"\", \"from\": 18, \"to\": 19}, {\"title\": \"37: (S, U)\", \"label\": \"\", \"from\": 18, \"to\": 20}, {\"title\": \"38: (T, U)\", \"label\": \"\", \"from\": 19, \"to\": 20}, {\"title\": \"39: (T, V)\", \"label\": \"\", \"from\": 19, \"to\": 21}, {\"title\": \"40: (U, V)\", \"label\": \"\", \"from\": 20, \"to\": 21}, {\"title\": \"41: (U, W)\", \"label\": \"\", \"from\": 20, \"to\": 22}, {\"title\": \"42: (V, W)\", \"label\": \"\", \"from\": 21, \"to\": 22}, {\"title\": \"43: (V, X)\", \"label\": \"\", \"from\": 21, \"to\": 23}, {\"title\": \"44: (W, X)\", \"label\": \"\", \"from\": 22, \"to\": 23}, {\"title\": \"45: (W, Y)\", \"label\": \"\", \"from\": 22, \"to\": 24}, {\"title\": \"46: (X, Y)\", \"label\": \"\", \"from\": 23, \"to\": 24}, {\"title\": \"47: (X, Z)\", \"label\": \"\", \"from\": 23, \"to\": 25}, {\"title\": \"48: (Y, Z)\", \"label\": \"\", \"from\": 24, \"to\": 25}, {\"title\": \"49: (Y, AA)\", \"label\": \"\", \"from\": 24, \"to\": 26}, {\"title\": \"50: (Z, AA)\", \"label\": \"\", \"from\": 25, \"to\": 26}, {\"title\": \"51: (Z, AB)\", \"label\": \"\", \"from\": 25, \"to\": 27}, {\"title\": \"52: (AA, AB)\", \"label\": \"\", \"from\": 26, \"to\": 27}, {\"title\": \"53: (AA, AC)\", \"label\": \"\", \"from\": 26, \"to\": 28}, {\"title\": \"54: (AB, AC)\", \"label\": \"\", \"from\": 27, \"to\": 28}, {\"title\": \"55: (AB, AD)\", \"label\": \"\", \"from\": 27, \"to\": 29}, {\"title\": \"56: (AC, AD)\", \"label\": \"\", \"from\": 28, \"to\": 29}, {\"title\": \"57: (AC, AE)\", \"label\": \"\", \"from\": 28, \"to\": 30}, {\"title\": \"58: (AD, AE)\", \"label\": \"\", \"from\": 29, \"to\": 30}, {\"title\": \"59: (AD, AF)\", \"label\": \"\", \"from\": 29, \"to\": 31}, {\"title\": \"60: (AE, AF)\", \"label\": \"\", \"from\": 30, \"to\": 31}];\n",
       "var data= {\n",
       "    nodes: nodes,\n",
       "    edges: edges,\n",
       "};\n",
       "var options = {\"interaction\": {\"navigationButtons\": true}, \"width\": \"600px\", \"height\": \"600px\"};\n",
       "var container = document.getElementById('eb43823f-5807-4b1c-a61a-43b0b2b7f447');\n",
       "var network = new vis.Network(container, data, options);\n",
       "network.fit({\n",
       "  maxZoomLevel: 1000});\n",
       "});\n",
       "</script>\n"
      ],
      "text/plain": [
       "<IPython.core.display.HTML object>"
      ]
     },
     "metadata": {},
     "output_type": "display_data"
    }
   ],
   "source": [
    "# A big chain of triangle\n",
    "sm.CycleChain(c=30, names='alpha').show_graph()"
   ]
  },
  {
   "cell_type": "markdown",
   "metadata": {},
   "source": [
    "### Concatenation"
   ]
  },
  {
   "cell_type": "markdown",
   "metadata": {},
   "source": [
    "Building more elaborate graphs on top of the provided generators is relatively easy.).\n",
    "\n",
    "One way to build these graphs is to use concatenation.\n",
    "\n",
    "Concatenation generalizes the chained cycles above. It uses a list of graphs and the overlapping between graph. Overlapping can be uniform or heterogeneous (you need then to provide a list of overlaps)."
   ]
  },
  {
   "cell_type": "code",
   "execution_count": 39,
   "metadata": {
    "ExecuteTime": {
     "end_time": "2022-01-24T10:11:03.049146Z",
     "start_time": "2022-01-24T10:11:03.035852Z"
    }
   },
   "outputs": [
    {
     "data": {
      "text/html": [
       "\n",
       "<div id=\"8015a21d-d613-4d18-b916-7564b7ff35bf\"></div>\n",
       "<script>\n",
       "require.config({\n",
       "    paths: {\n",
       "        vis: 'https://unpkg.com/vis-network/standalone/umd/vis-network.min'\n",
       "    }\n",
       "});\n",
       "require(['vis'], function(vis){\n",
       "var nodes = [{\"id\": 0, \"label\": \"0\", \"title\": \"0\"}, {\"id\": 1, \"label\": \"1\", \"title\": \"1\"}, {\"id\": 2, \"label\": \"2\", \"title\": \"2\"}, {\"id\": 3, \"label\": \"3\", \"title\": \"3\"}, {\"id\": 4, \"label\": \"4\", \"title\": \"4\"}];\n",
       "var edges = [{\"title\": \"0: (0, 1)\", \"label\": \"\", \"from\": 0, \"to\": 1}, {\"title\": \"1: (0, 2)\", \"label\": \"\", \"from\": 0, \"to\": 2}, {\"title\": \"2: (1, 2)\", \"label\": \"\", \"from\": 1, \"to\": 2}, {\"title\": \"3: (1, 4)\", \"label\": \"\", \"from\": 1, \"to\": 4}, {\"title\": \"4: (2, 3)\", \"label\": \"\", \"from\": 2, \"to\": 3}, {\"title\": \"5: (3, 4)\", \"label\": \"\", \"from\": 3, \"to\": 4}];\n",
       "var data= {\n",
       "    nodes: nodes,\n",
       "    edges: edges,\n",
       "};\n",
       "var options = {\"interaction\": {\"navigationButtons\": true}, \"width\": \"600px\", \"height\": 200};\n",
       "var container = document.getElementById('8015a21d-d613-4d18-b916-7564b7ff35bf');\n",
       "var network = new vis.Network(container, data, options);\n",
       "network.fit({\n",
       "  maxZoomLevel: 1000});\n",
       "});\n",
       "</script>\n"
      ],
      "text/plain": [
       "<IPython.core.display.HTML object>"
      ]
     },
     "metadata": {},
     "output_type": "display_data"
    }
   ],
   "source": [
    "# House\n",
    "sm.concatenate([sm.Cycle(), sm.Cycle(4)], 2).show_graph(vis_options={'height': 200})"
   ]
  },
  {
   "cell_type": "code",
   "execution_count": 40,
   "metadata": {
    "ExecuteTime": {
     "end_time": "2022-01-24T10:11:03.064524Z",
     "start_time": "2022-01-24T10:11:03.050663Z"
    }
   },
   "outputs": [
    {
     "data": {
      "text/html": [
       "\n",
       "<div id=\"1776f129-ee43-48a9-b75d-3393b993e2eb\"></div>\n",
       "<script>\n",
       "require.config({\n",
       "    paths: {\n",
       "        vis: 'https://unpkg.com/vis-network/standalone/umd/vis-network.min'\n",
       "    }\n",
       "});\n",
       "require(['vis'], function(vis){\n",
       "var nodes = [{\"id\": 0, \"label\": \"0\", \"title\": \"0\"}, {\"id\": 1, \"label\": \"1\", \"title\": \"1\"}, {\"id\": 2, \"label\": \"2\", \"title\": \"2\"}, {\"id\": 3, \"label\": \"3\", \"title\": \"3\"}, {\"id\": 4, \"label\": \"4\", \"title\": \"4\"}];\n",
       "var edges = [{\"title\": \"0: (0, 1)\", \"label\": \"\", \"from\": 0, \"to\": 1}, {\"title\": \"1: (0, 2)\", \"label\": \"\", \"from\": 0, \"to\": 2}, {\"title\": \"2: (1, 2)\", \"label\": \"\", \"from\": 1, \"to\": 2}, {\"title\": \"3: (1, 3)\", \"label\": \"\", \"from\": 1, \"to\": 3}, {\"title\": \"4: (1, 4)\", \"label\": \"\", \"from\": 1, \"to\": 4}, {\"title\": \"5: (2, 3)\", \"label\": \"\", \"from\": 2, \"to\": 3}, {\"title\": \"6: (2, 4)\", \"label\": \"\", \"from\": 2, \"to\": 4}, {\"title\": \"7: (3, 4)\", \"label\": \"\", \"from\": 3, \"to\": 4}];\n",
       "var data= {\n",
       "    nodes: nodes,\n",
       "    edges: edges,\n",
       "};\n",
       "var options = {\"interaction\": {\"navigationButtons\": true}, \"width\": \"600px\", \"height\": 200};\n",
       "var container = document.getElementById('1776f129-ee43-48a9-b75d-3393b993e2eb');\n",
       "var network = new vis.Network(container, data, options);\n",
       "network.fit({\n",
       "  maxZoomLevel: 1000});\n",
       "});\n",
       "</script>\n"
      ],
      "text/plain": [
       "<IPython.core.display.HTML object>"
      ]
     },
     "metadata": {},
     "output_type": "display_data"
    }
   ],
   "source": [
    "# Barred house\n",
    "sm.concatenate([sm.Cycle(), sm.Complete(4)], 2).show_graph(vis_options={'height': 200})"
   ]
  },
  {
   "cell_type": "code",
   "execution_count": 41,
   "metadata": {
    "ExecuteTime": {
     "end_time": "2022-01-24T10:11:03.079954Z",
     "start_time": "2022-01-24T10:11:03.066764Z"
    }
   },
   "outputs": [
    {
     "data": {
      "text/html": [
       "\n",
       "<div id=\"6ff0a338-f823-4cc9-a099-70a13b88ece4\"></div>\n",
       "<script>\n",
       "require.config({\n",
       "    paths: {\n",
       "        vis: 'https://unpkg.com/vis-network/standalone/umd/vis-network.min'\n",
       "    }\n",
       "});\n",
       "require(['vis'], function(vis){\n",
       "var nodes = [{\"id\": 0, \"label\": \"0\", \"title\": \"0\"}, {\"id\": 1, \"label\": \"1\", \"title\": \"1\"}, {\"id\": 2, \"label\": \"2\", \"title\": \"2\"}, {\"id\": 3, \"label\": \"3\", \"title\": \"3\"}, {\"id\": 4, \"label\": \"4\", \"title\": \"4\"}, {\"id\": 5, \"label\": \"5\", \"title\": \"5\"}, {\"id\": 6, \"label\": \"6\", \"title\": \"6\"}];\n",
       "var edges = [{\"title\": \"0: (0, 1)\", \"label\": \"\", \"from\": 0, \"to\": 1}, {\"title\": \"1: (0, 2)\", \"label\": \"\", \"from\": 0, \"to\": 2}, {\"title\": \"2: (1, 2)\", \"label\": \"\", \"from\": 1, \"to\": 2}, {\"title\": \"3: (2, 3)\", \"label\": \"\", \"from\": 2, \"to\": 3}, {\"title\": \"4: (2, 4)\", \"label\": \"\", \"from\": 2, \"to\": 4}, {\"title\": \"5: (3, 4)\", \"label\": \"\", \"from\": 3, \"to\": 4}, {\"title\": \"6: (3, 6)\", \"label\": \"\", \"from\": 3, \"to\": 6}, {\"title\": \"7: (4, 5)\", \"label\": \"\", \"from\": 4, \"to\": 5}, {\"title\": \"8: (5, 6)\", \"label\": \"\", \"from\": 5, \"to\": 6}];\n",
       "var data= {\n",
       "    nodes: nodes,\n",
       "    edges: edges,\n",
       "};\n",
       "var options = {\"interaction\": {\"navigationButtons\": true}, \"width\": \"600px\", \"height\": 200};\n",
       "var container = document.getElementById('6ff0a338-f823-4cc9-a099-70a13b88ece4');\n",
       "var network = new vis.Network(container, data, options);\n",
       "network.fit({\n",
       "  maxZoomLevel: 1000});\n",
       "});\n",
       "</script>\n"
      ],
      "text/plain": [
       "<IPython.core.display.HTML object>"
      ]
     },
     "metadata": {},
     "output_type": "display_data"
    }
   ],
   "source": [
    "# House with a triangle on top\n",
    "sm.concatenate([sm.Cycle(), sm.Cycle(), sm.Cycle(4)], [1, 2]).show_graph(vis_options={'height': 200})"
   ]
  },
  {
   "cell_type": "markdown",
   "metadata": {},
   "source": [
    "For some examples proposed in https://hal.archives-ouvertes.fr/hal-03502084, direct shortcut is provided:\n",
    "- the co-domino graph;\n",
    "- the *Egyptian pyramid* graph (please see the above paper for the origin of the name."
   ]
  },
  {
   "cell_type": "code",
   "execution_count": 42,
   "metadata": {
    "ExecuteTime": {
     "end_time": "2022-01-24T10:11:03.095119Z",
     "start_time": "2022-01-24T10:11:03.081752Z"
    }
   },
   "outputs": [
    {
     "data": {
      "text/html": [
       "\n",
       "<div id=\"42bfe3ed-149f-4ce7-91fe-cb6cc4a8a618\"></div>\n",
       "<script>\n",
       "require.config({\n",
       "    paths: {\n",
       "        vis: 'https://unpkg.com/vis-network/standalone/umd/vis-network.min'\n",
       "    }\n",
       "});\n",
       "require(['vis'], function(vis){\n",
       "var nodes = [{\"id\": 0, \"label\": \"0\", \"title\": \"0\"}, {\"id\": 1, \"label\": \"1\", \"title\": \"1\"}, {\"id\": 2, \"label\": \"2\", \"title\": \"2\"}, {\"id\": 3, \"label\": \"3\", \"title\": \"3\"}, {\"id\": 4, \"label\": \"4\", \"title\": \"4\"}, {\"id\": 5, \"label\": \"5\", \"title\": \"5\"}];\n",
       "var edges = [{\"title\": \"0: (0, 1)\", \"label\": \"\", \"from\": 0, \"to\": 1}, {\"title\": \"1: (0, 2)\", \"label\": \"\", \"from\": 0, \"to\": 2}, {\"title\": \"2: (1, 2)\", \"label\": \"\", \"from\": 1, \"to\": 2}, {\"title\": \"3: (1, 4)\", \"label\": \"\", \"from\": 1, \"to\": 4}, {\"title\": \"4: (2, 3)\", \"label\": \"\", \"from\": 2, \"to\": 3}, {\"title\": \"5: (3, 4)\", \"label\": \"\", \"from\": 3, \"to\": 4}, {\"title\": \"6: (3, 5)\", \"label\": \"\", \"from\": 3, \"to\": 5}, {\"title\": \"7: (4, 5)\", \"label\": \"\", \"from\": 4, \"to\": 5}];\n",
       "var data= {\n",
       "    nodes: nodes,\n",
       "    edges: edges,\n",
       "};\n",
       "var options = {\"interaction\": {\"navigationButtons\": true}, \"width\": \"600px\", \"height\": 200};\n",
       "var container = document.getElementById('42bfe3ed-149f-4ce7-91fe-cb6cc4a8a618');\n",
       "var network = new vis.Network(container, data, options);\n",
       "network.fit({\n",
       "  maxZoomLevel: 1000});\n",
       "});\n",
       "</script>\n"
      ],
      "text/plain": [
       "<IPython.core.display.HTML object>"
      ]
     },
     "metadata": {},
     "output_type": "display_data"
    }
   ],
   "source": [
    "# Codomino\n",
    "sm.Codomino().show_graph(vis_options={'height': 200})"
   ]
  },
  {
   "cell_type": "code",
   "execution_count": 43,
   "metadata": {
    "ExecuteTime": {
     "end_time": "2022-01-24T10:11:03.110915Z",
     "start_time": "2022-01-24T10:11:03.097163Z"
    }
   },
   "outputs": [
    {
     "data": {
      "text/html": [
       "\n",
       "<div id=\"ebb955d9-b986-40d6-8d81-35f336961dc2\"></div>\n",
       "<script>\n",
       "require.config({\n",
       "    paths: {\n",
       "        vis: 'https://unpkg.com/vis-network/standalone/umd/vis-network.min'\n",
       "    }\n",
       "});\n",
       "require(['vis'], function(vis){\n",
       "var nodes = [{\"id\": 0, \"label\": \"0\", \"title\": \"0\"}, {\"id\": 1, \"label\": \"1\", \"title\": \"1\"}, {\"id\": 2, \"label\": \"2\", \"title\": \"2\"}, {\"id\": 3, \"label\": \"3\", \"title\": \"3\"}, {\"id\": 4, \"label\": \"4\", \"title\": \"4\"}, {\"id\": 5, \"label\": \"5\", \"title\": \"5\"}, {\"id\": 6, \"label\": \"6\", \"title\": \"6\"}, {\"id\": 7, \"label\": \"7\", \"title\": \"7\"}, {\"id\": 8, \"label\": \"8\", \"title\": \"8\"}, {\"id\": 9, \"label\": \"9\", \"title\": \"9\"}];\n",
       "var edges = [{\"title\": \"0: (0, 1)\", \"label\": \"\", \"from\": 0, \"to\": 1}, {\"title\": \"1: (0, 2)\", \"label\": \"\", \"from\": 0, \"to\": 2}, {\"title\": \"2: (1, 2)\", \"label\": \"\", \"from\": 1, \"to\": 2}, {\"title\": \"3: (1, 5)\", \"label\": \"\", \"from\": 1, \"to\": 5}, {\"title\": \"4: (2, 3)\", \"label\": \"\", \"from\": 2, \"to\": 3}, {\"title\": \"5: (3, 4)\", \"label\": \"\", \"from\": 3, \"to\": 4}, {\"title\": \"6: (4, 5)\", \"label\": \"\", \"from\": 4, \"to\": 5}, {\"title\": \"7: (4, 8)\", \"label\": \"\", \"from\": 4, \"to\": 8}, {\"title\": \"8: (5, 6)\", \"label\": \"\", \"from\": 5, \"to\": 6}, {\"title\": \"9: (6, 7)\", \"label\": \"\", \"from\": 6, \"to\": 7}, {\"title\": \"10: (7, 8)\", \"label\": \"\", \"from\": 7, \"to\": 8}, {\"title\": \"11: (7, 9)\", \"label\": \"\", \"from\": 7, \"to\": 9}, {\"title\": \"12: (8, 9)\", \"label\": \"\", \"from\": 8, \"to\": 9}];\n",
       "var data= {\n",
       "    nodes: nodes,\n",
       "    edges: edges,\n",
       "};\n",
       "var options = {\"interaction\": {\"navigationButtons\": true}, \"width\": \"600px\", \"height\": 200};\n",
       "var container = document.getElementById('ebb955d9-b986-40d6-8d81-35f336961dc2');\n",
       "var network = new vis.Network(container, data, options);\n",
       "network.fit({\n",
       "  maxZoomLevel: 1000});\n",
       "});\n",
       "</script>\n"
      ],
      "text/plain": [
       "<IPython.core.display.HTML object>"
      ]
     },
     "metadata": {},
     "output_type": "display_data"
    }
   ],
   "source": [
    "# Pyramid\n",
    "sm.Pyramid().show_graph(vis_options={'height': 200})"
   ]
  },
  {
   "cell_type": "markdown",
   "metadata": {},
   "source": [
    "### Package logo"
   ]
  },
  {
   "cell_type": "markdown",
   "metadata": {},
   "source": [
    "The logo of `stochastic matching` was made with `stochastic matching`. Here is the code that produced the big version."
   ]
  },
  {
   "cell_type": "code",
   "execution_count": 44,
   "metadata": {
    "ExecuteTime": {
     "end_time": "2022-01-24T10:11:03.142399Z",
     "start_time": "2022-01-24T10:11:03.113143Z"
    }
   },
   "outputs": [
    {
     "data": {
      "text/html": [
       "\n",
       "<div id=\"34457790-14cb-4268-bb52-1987b68dda1b\"></div>\n",
       "<script>\n",
       "require.config({\n",
       "    paths: {\n",
       "        vis: 'https://unpkg.com/vis-network/standalone/umd/vis-network.min'\n",
       "    }\n",
       "});\n",
       "require(['vis'], function(vis){\n",
       "var nodes = [{\"id\": 0, \"label\": \"S\", \"title\": \"0: S\", \"color\": {\"background\": \"rgba(128, 0, 256, 1)\"}, \"font\": {\"color\": \"black\"}}, {\"id\": 1, \"label\": \"t\", \"title\": \"1: t\", \"color\": {\"background\": \"rgba(71, 87, 252, 1)\"}, \"font\": {\"color\": \"black\"}}, {\"id\": 2, \"label\": \"o\", \"title\": \"2: o\", \"color\": {\"background\": \"rgba(14, 164, 240, 1)\"}, \"font\": {\"color\": \"black\"}}, {\"id\": 3, \"label\": \"c\", \"title\": \"3: c\", \"color\": {\"background\": \"rgba(42, 221, 221, 1)\"}, \"font\": {\"color\": \"black\"}}, {\"id\": 4, \"label\": \"h\", \"title\": \"4: h\", \"color\": {\"background\": \"rgba(99, 252, 196, 1)\"}, \"font\": {\"color\": \"black\"}}, {\"id\": 5, \"label\": \"a\", \"title\": \"5: a\", \"color\": {\"background\": \"rgba(156, 252, 164, 1)\"}, \"font\": {\"color\": \"black\"}}, {\"id\": 6, \"label\": \"s\", \"title\": \"6: s\", \"color\": {\"background\": \"rgba(213, 221, 128, 1)\"}, \"font\": {\"color\": \"black\"}}, {\"id\": 7, \"label\": \"t\", \"title\": \"7: t\", \"color\": {\"background\": \"rgba(256, 164, 87, 1)\"}, \"font\": {\"color\": \"black\"}}, {\"id\": 8, \"label\": \"i\", \"title\": \"8: i\", \"color\": {\"background\": \"rgba(256, 87, 44, 1)\"}, \"font\": {\"color\": \"black\"}}, {\"id\": 9, \"label\": \"c\", \"title\": \"9: c\", \"color\": {\"background\": \"rgba(256, 0, 0, 1)\"}, \"font\": {\"color\": \"black\"}}, {\"id\": 10, \"label\": \"M\", \"title\": \"10: M\", \"color\": {\"background\": \"rgba(256, 0, 0, 1)\"}, \"font\": {\"color\": \"white\"}}, {\"id\": 11, \"label\": \"a\", \"title\": \"11: a\", \"color\": {\"background\": \"rgba(256, 111, 56, 1)\"}, \"font\": {\"color\": \"white\"}}, {\"id\": 12, \"label\": \"t\", \"title\": \"12: t\", \"color\": {\"background\": \"rgba(237, 200, 111, 1)\"}, \"font\": {\"color\": \"white\"}}, {\"id\": 13, \"label\": \"c\", \"title\": \"13: c\", \"color\": {\"background\": \"rgba(164, 249, 159, 1)\"}, \"font\": {\"color\": \"white\"}}, {\"id\": 14, \"label\": \"h\", \"title\": \"14: h\", \"color\": {\"background\": \"rgba(91, 249, 200, 1)\"}, \"font\": {\"color\": \"white\"}}, {\"id\": 15, \"label\": \"i\", \"title\": \"15: i\", \"color\": {\"background\": \"rgba(18, 200, 230, 1)\"}, \"font\": {\"color\": \"white\"}}, {\"id\": 16, \"label\": \"n\", \"title\": \"16: n\", \"color\": {\"background\": \"rgba(54, 111, 249, 1)\"}, \"font\": {\"color\": \"white\"}}, {\"id\": 17, \"label\": \"g\", \"title\": \"17: g\", \"color\": {\"background\": \"rgba(128, 0, 256, 1)\"}, \"font\": {\"color\": \"white\"}}];\n",
       "var edges = [{\"title\": \"0: (S, t)\", \"label\": \"\", \"from\": 0, \"to\": 1}, {\"title\": \"1: (t, o)\", \"label\": \"\", \"from\": 1, \"to\": 2}, {\"title\": \"2: (t, a)\", \"label\": \"\", \"from\": 1, \"to\": 11}, {\"title\": \"3: (o, c)\", \"label\": \"\", \"from\": 2, \"to\": 3}, {\"title\": \"4: (c, h)\", \"label\": \"\", \"from\": 3, \"to\": 4}, {\"title\": \"5: (c, t)\", \"label\": \"\", \"from\": 3, \"to\": 12}, {\"title\": \"6: (h, a)\", \"label\": \"\", \"from\": 4, \"to\": 5}, {\"title\": \"7: (a, s)\", \"label\": \"\", \"from\": 5, \"to\": 6}, {\"title\": \"8: (a, i)\", \"label\": \"\", \"from\": 5, \"to\": 15}, {\"title\": \"9: (s, t)\", \"label\": \"\", \"from\": 6, \"to\": 7}, {\"title\": \"10: (t, i)\", \"label\": \"\", \"from\": 7, \"to\": 8}, {\"title\": \"11: (t, n)\", \"label\": \"\", \"from\": 7, \"to\": 16}, {\"title\": \"12: (i, c)\", \"label\": \"\", \"from\": 8, \"to\": 9}, {\"title\": \"13: (M, a)\", \"label\": \"\", \"from\": 10, \"to\": 11}, {\"title\": \"14: (a, t)\", \"label\": \"\", \"from\": 11, \"to\": 12}, {\"title\": \"15: (t, c)\", \"label\": \"\", \"from\": 12, \"to\": 13}, {\"title\": \"16: (c, h)\", \"label\": \"\", \"from\": 13, \"to\": 14}, {\"title\": \"17: (h, i)\", \"label\": \"\", \"from\": 14, \"to\": 15}, {\"title\": \"18: (i, n)\", \"label\": \"\", \"from\": 15, \"to\": 16}, {\"title\": \"19: (n, g)\", \"label\": \"\", \"from\": 16, \"to\": 17}];\n",
       "var data= {\n",
       "    nodes: nodes,\n",
       "    edges: edges,\n",
       "};\n",
       "var options = {\"interaction\": {\"navigationButtons\": true}, \"width\": \"1000px\", \"height\": \"600px\", \"nodes\": {\"font\": {\"size\": 80}}};\n",
       "var container = document.getElementById('34457790-14cb-4268-bb52-1987b68dda1b');\n",
       "var network = new vis.Network(container, data, options);\n",
       "network.fit({\n",
       "  maxZoomLevel: 1000});\n",
       "});\n",
       "</script>\n"
      ],
      "text/plain": [
       "<IPython.core.display.HTML object>"
      ]
     },
     "metadata": {},
     "output_type": "display_data"
    }
   ],
   "source": [
    "import numpy as np\n",
    "from matplotlib import pyplot as plt\n",
    "from stochastic_matching.graphs import concatenate_adjacency, path_adjacency\n",
    "\n",
    "def random_color(n=100, i=None, name='rainbow'):\n",
    "    if i is None:\n",
    "        i = np.random.randint(n)\n",
    "    r, g, b, a = plt.cm.get_cmap(name, n)(i)\n",
    "    return f\"rgba({int(256*r)}, {int(256*g)}, {int(256*b)}, 1)\"\n",
    "\n",
    "adja = concatenate_adjacency([path_adjacency(10), path_adjacency(8)], 0)\n",
    "for i, j in [(1, 11), (16, 7), (5, 15), (12, 3)]:\n",
    "    adja[i, j] = 1\n",
    "    adja[j, i] = 1\n",
    "    \n",
    "g = sm.Model(adjacency=adja, names = [c for c in \"StochasticMatching\"])\n",
    "nodes_dict1 = [{'color': {'background': random_color(10, i)}, 'font': {'color': 'black'}} for i in range(10)]\n",
    "nodes_dict2 = [{'color': {'background': random_color(8, 8-i-1)}, 'font': {'color': 'white'}} for i in range(8)]\n",
    "options = {'width': '1000px', 'nodes': {'font': {'size': 80}}}\n",
    "g.show_graph(nodes_info=nodes_dict1+nodes_dict2, vis_options=options)"
   ]
  },
  {
   "cell_type": "markdown",
   "metadata": {},
   "source": [
    "An here is the code for the short version. Note the option `png=True` which creates a mirror png image that can be saved!"
   ]
  },
  {
   "cell_type": "code",
   "execution_count": 45,
   "metadata": {
    "ExecuteTime": {
     "end_time": "2022-01-24T10:11:03.173144Z",
     "start_time": "2022-01-24T10:11:03.144187Z"
    }
   },
   "outputs": [
    {
     "data": {
      "text/html": [
       "\n",
       "<div id=\"1381576b-2e5b-486d-99fb-d41f6104fb70\"></div>\n",
       "<img id=\"canvasImg\" alt=\"Right click to save me!\">\n",
       "<script>\n",
       "require.config({\n",
       "    paths: {\n",
       "        vis: 'https://unpkg.com/vis-network/standalone/umd/vis-network.min'\n",
       "    }\n",
       "});\n",
       "require(['vis'], function(vis){\n",
       "var nodes = [{\"id\": 0, \"label\": \"S\", \"title\": \"0: S\", \"color\": {\"background\": \"rgba(128, 0, 256, 1)\"}, \"font\": {\"color\": \"black\"}}, {\"id\": 1, \"label\": \"t\", \"title\": \"1: t\", \"color\": {\"background\": \"rgba(0, 181, 236, 1)\"}, \"font\": {\"color\": \"black\"}}, {\"id\": 2, \"label\": \"o\", \"title\": \"2: o\", \"color\": {\"background\": \"rgba(128, 256, 181, 1)\"}, \"font\": {\"color\": \"black\"}}, {\"id\": 3, \"label\": \"c\", \"title\": \"3: c\", \"color\": {\"background\": \"rgba(256, 181, 97, 1)\"}, \"font\": {\"color\": \"black\"}}, {\"id\": 4, \"label\": \"h\", \"title\": \"4: h\", \"color\": {\"background\": \"rgba(256, 0, 0, 1)\"}, \"font\": {\"color\": \"black\"}}, {\"id\": 5, \"label\": \"M\", \"title\": \"5: M\", \"color\": {\"background\": \"rgba(256, 0, 0, 1)\"}, \"font\": {\"color\": \"white\"}}, {\"id\": 6, \"label\": \"a\", \"title\": \"6: a\", \"color\": {\"background\": \"rgba(256, 181, 97, 1)\"}, \"font\": {\"color\": \"white\"}}, {\"id\": 7, \"label\": \"t\", \"title\": \"7: t\", \"color\": {\"background\": \"rgba(128, 256, 181, 1)\"}, \"font\": {\"color\": \"white\"}}, {\"id\": 8, \"label\": \"c\", \"title\": \"8: c\", \"color\": {\"background\": \"rgba(0, 181, 236, 1)\"}, \"font\": {\"color\": \"white\"}}, {\"id\": 9, \"label\": \"h\", \"title\": \"9: h\", \"color\": {\"background\": \"rgba(128, 0, 256, 1)\"}, \"font\": {\"color\": \"white\"}}];\n",
       "var edges = [{\"title\": \"0: (S, t)\", \"label\": \"\", \"from\": 0, \"to\": 1}, {\"title\": \"1: (t, o)\", \"label\": \"\", \"from\": 1, \"to\": 2}, {\"title\": \"2: (t, a)\", \"label\": \"\", \"from\": 1, \"to\": 6}, {\"title\": \"3: (o, c)\", \"label\": \"\", \"from\": 2, \"to\": 3}, {\"title\": \"4: (o, a)\", \"label\": \"\", \"from\": 2, \"to\": 6}, {\"title\": \"5: (c, h)\", \"label\": \"\", \"from\": 3, \"to\": 4}, {\"title\": \"6: (c, t)\", \"label\": \"\", \"from\": 3, \"to\": 7}, {\"title\": \"7: (c, c)\", \"label\": \"\", \"from\": 3, \"to\": 8}, {\"title\": \"8: (M, a)\", \"label\": \"\", \"from\": 5, \"to\": 6}, {\"title\": \"9: (a, t)\", \"label\": \"\", \"from\": 6, \"to\": 7}, {\"title\": \"10: (t, c)\", \"label\": \"\", \"from\": 7, \"to\": 8}, {\"title\": \"11: (c, h)\", \"label\": \"\", \"from\": 8, \"to\": 9}];\n",
       "var data= {\n",
       "    nodes: nodes,\n",
       "    edges: edges,\n",
       "};\n",
       "var options = {\"interaction\": {\"navigationButtons\": true}, \"width\": \"1000px\", \"height\": \"600px\", \"nodes\": {\"font\": {\"size\": 80}}};\n",
       "var container = document.getElementById('1381576b-2e5b-486d-99fb-d41f6104fb70');\n",
       "var network = new vis.Network(container, data, options);\n",
       "network.on(\"afterDrawing\", function (ctx) {\n",
       "    var dataURL = ctx.canvas.toDataURL();\n",
       "    document.getElementById('canvasImg').src = dataURL;\n",
       "  });\n",
       "network.fit({\n",
       "  maxZoomLevel: 1000});\n",
       "});\n",
       "</script>\n"
      ],
      "text/plain": [
       "<IPython.core.display.HTML object>"
      ]
     },
     "metadata": {},
     "output_type": "display_data"
    }
   ],
   "source": [
    "adja = concatenate_adjacency([path_adjacency(5), path_adjacency(5)], 0)\n",
    "for i, j in [(1, 6), (2, 6), (3, 7), (3, 8)]:\n",
    "    adja[i, j] = 1\n",
    "    adja[j, i] = 1\n",
    "g = sm.Model(adjacency=adja, names = [c for c in \"StochMatch\"])\n",
    "nodes_dict1 = [{'color': {'background': random_color(5, i)}, 'font': {'color': 'black'}} for i in range(5)]\n",
    "nodes_dict2 = [{'color': {'background': random_color(5, 4-i)}, 'font': {'color': 'white'}} for i in range(5)]\n",
    "options = {'width': '1000px', 'nodes': {'font': {'size': 80}}}\n",
    "g.show_graph(nodes_info=nodes_dict1+nodes_dict2, vis_options=options, png=True)"
   ]
  },
  {
   "cell_type": "markdown",
   "metadata": {},
   "source": [
    "## Hypergraphs"
   ]
  },
  {
   "cell_type": "markdown",
   "metadata": {},
   "source": [
    "Hypergraph egdes can link an arbitrary number of nodes (nor necessarily 2). Hypergraphs mainly differ from simple graphs by the absence of adjacency matrix (only the incidence matrix is used) and a different way of been displayed."
   ]
  },
  {
   "cell_type": "markdown",
   "metadata": {},
   "source": [
    "### Simple graphs as hypergraphs"
   ]
  },
  {
   "cell_type": "markdown",
   "metadata": {},
   "source": [
    "All simple graphs are hypergraphs if you remove the adjacency. "
   ]
  },
  {
   "cell_type": "code",
   "execution_count": 46,
   "metadata": {
    "ExecuteTime": {
     "end_time": "2022-01-24T10:11:03.235254Z",
     "start_time": "2022-01-24T10:11:03.174158Z"
    }
   },
   "outputs": [
    {
     "data": {
      "text/html": [
       "\n",
       "<div id=\"f5461304-72d4-4f56-a169-db05f2398a1d\"></div>\n",
       "<script>\n",
       "require.config({\n",
       "    paths: {\n",
       "        vis: 'https://unpkg.com/vis-network/standalone/umd/vis-network.min'\n",
       "    }\n",
       "});\n",
       "require(['vis'], function(vis){\n",
       "var nodes = [{\"id\": 0, \"label\": \"0\", \"title\": \"0\", \"x\": 0, \"group\": \"Node\"}, {\"id\": 1, \"label\": \"1\", \"title\": \"1\", \"x\": 0, \"group\": \"Node\"}, {\"id\": 2, \"label\": \"2\", \"title\": \"2\", \"x\": 0, \"group\": \"Node\"}, {\"id\": 3, \"label\": \"3\", \"title\": \"3\", \"x\": 0, \"group\": \"Node\"}, {\"title\": \"0: (0, 1)\", \"label\": \"\", \"id\": 4, \"group\": \"HyperEdge\", \"x\": 600}, {\"title\": \"1: (0, 2)\", \"label\": \"\", \"id\": 5, \"group\": \"HyperEdge\", \"x\": 600}, {\"title\": \"2: (1, 2)\", \"label\": \"\", \"id\": 6, \"group\": \"HyperEdge\", \"x\": 600}, {\"title\": \"3: (2, 3)\", \"label\": \"\", \"id\": 7, \"group\": \"HyperEdge\", \"x\": 600}];\n",
       "var edges = [{\"from\": 0, \"to\": 4, \"title\": \"0 <-> 0: (0, 1)\"}, {\"from\": 0, \"to\": 5, \"title\": \"0 <-> 1: (0, 2)\"}, {\"from\": 1, \"to\": 4, \"title\": \"1 <-> 0: (0, 1)\"}, {\"from\": 1, \"to\": 6, \"title\": \"1 <-> 2: (1, 2)\"}, {\"from\": 2, \"to\": 5, \"title\": \"2 <-> 1: (0, 2)\"}, {\"from\": 2, \"to\": 6, \"title\": \"2 <-> 2: (1, 2)\"}, {\"from\": 2, \"to\": 7, \"title\": \"2 <-> 3: (2, 3)\"}, {\"from\": 3, \"to\": 7, \"title\": \"3 <-> 3: (2, 3)\"}];\n",
       "var data= {\n",
       "    nodes: nodes,\n",
       "    edges: edges,\n",
       "};\n",
       "var options = {\"interaction\": {\"navigationButtons\": true}, \"width\": \"600px\", \"height\": 200, \"groups\": {\"HyperEdge\": {\"fixed\": {\"x\": false}, \"color\": {\"background\": \"black\"}, \"shape\": \"dot\", \"size\": 5}, \"Node\": {\"fixed\": {\"x\": false}}}};\n",
       "var container = document.getElementById('f5461304-72d4-4f56-a169-db05f2398a1d');\n",
       "var network = new vis.Network(container, data, options);\n",
       "network.fit({\n",
       "  maxZoomLevel: 1000});\n",
       "});\n",
       "</script>\n"
      ],
      "text/plain": [
       "<IPython.core.display.HTML object>"
      ]
     },
     "metadata": {},
     "output_type": "display_data"
    }
   ],
   "source": [
    "paw = sm.Tadpole()\n",
    "paw.adjacency = None\n",
    "paw.show_graph(vis_options={'height': 200})"
   ]
  },
  {
   "cell_type": "markdown",
   "metadata": {},
   "source": [
    "Note the new convention: edges are represented by small black nodes, and the edges displayed alway link one single node to one edge. Also note that it is possible to make the bipartite structure between nodes and edges more apparent by passing the following option:"
   ]
  },
  {
   "cell_type": "code",
   "execution_count": 47,
   "metadata": {
    "ExecuteTime": {
     "end_time": "2022-01-24T10:11:03.266763Z",
     "start_time": "2022-01-24T10:11:03.236761Z"
    }
   },
   "outputs": [
    {
     "data": {
      "text/html": [
       "\n",
       "<div id=\"ed8d5579-f365-452a-b477-24dc166c1d77\"></div>\n",
       "<script>\n",
       "require.config({\n",
       "    paths: {\n",
       "        vis: 'https://unpkg.com/vis-network/standalone/umd/vis-network.min'\n",
       "    }\n",
       "});\n",
       "require(['vis'], function(vis){\n",
       "var nodes = [{\"id\": 0, \"label\": \"0\", \"title\": \"0\", \"x\": 0, \"group\": \"Node\"}, {\"id\": 1, \"label\": \"1\", \"title\": \"1\", \"x\": 0, \"group\": \"Node\"}, {\"id\": 2, \"label\": \"2\", \"title\": \"2\", \"x\": 0, \"group\": \"Node\"}, {\"id\": 3, \"label\": \"3\", \"title\": \"3\", \"x\": 0, \"group\": \"Node\"}, {\"title\": \"0: (0, 1)\", \"label\": \"\", \"id\": 4, \"group\": \"HyperEdge\", \"x\": 480}, {\"title\": \"1: (0, 2)\", \"label\": \"\", \"id\": 5, \"group\": \"HyperEdge\", \"x\": 480}, {\"title\": \"2: (1, 2)\", \"label\": \"\", \"id\": 6, \"group\": \"HyperEdge\", \"x\": 480}, {\"title\": \"3: (2, 3)\", \"label\": \"\", \"id\": 7, \"group\": \"HyperEdge\", \"x\": 480}];\n",
       "var edges = [{\"from\": 0, \"to\": 4, \"title\": \"0 <-> 0: (0, 1)\"}, {\"from\": 0, \"to\": 5, \"title\": \"0 <-> 1: (0, 2)\"}, {\"from\": 1, \"to\": 4, \"title\": \"1 <-> 0: (0, 1)\"}, {\"from\": 1, \"to\": 6, \"title\": \"1 <-> 2: (1, 2)\"}, {\"from\": 2, \"to\": 5, \"title\": \"2 <-> 1: (0, 2)\"}, {\"from\": 2, \"to\": 6, \"title\": \"2 <-> 2: (1, 2)\"}, {\"from\": 2, \"to\": 7, \"title\": \"2 <-> 3: (2, 3)\"}, {\"from\": 3, \"to\": 7, \"title\": \"3 <-> 3: (2, 3)\"}];\n",
       "var data= {\n",
       "    nodes: nodes,\n",
       "    edges: edges,\n",
       "};\n",
       "var options = {\"interaction\": {\"navigationButtons\": true}, \"width\": \"600px\", \"height\": 200, \"groups\": {\"HyperEdge\": {\"fixed\": {\"x\": true}, \"color\": {\"background\": \"black\"}, \"shape\": \"dot\", \"size\": 5}, \"Node\": {\"fixed\": {\"x\": true}}}};\n",
       "var container = document.getElementById('ed8d5579-f365-452a-b477-24dc166c1d77');\n",
       "var network = new vis.Network(container, data, options);\n",
       "network.fit({\n",
       "  maxZoomLevel: 1000});\n",
       "});\n",
       "</script>\n"
      ],
      "text/plain": [
       "<IPython.core.display.HTML object>"
      ]
     },
     "metadata": {},
     "output_type": "display_data"
    }
   ],
   "source": [
    "paw.show_graph(bipartite=True, vis_options={'height': 200})"
   ]
  },
  {
   "cell_type": "markdown",
   "metadata": {},
   "source": [
    "### Hyper paddle"
   ]
  },
  {
   "cell_type": "markdown",
   "metadata": {},
   "source": [
    "Hyper paddles are like regular kayak paddles except that the *center* is made of 3-edges. For example, the *candy* graph, which is an important example when considering stability."
   ]
  },
  {
   "cell_type": "code",
   "execution_count": 48,
   "metadata": {
    "ExecuteTime": {
     "end_time": "2022-01-24T10:11:03.282731Z",
     "start_time": "2022-01-24T10:11:03.268860Z"
    }
   },
   "outputs": [
    {
     "data": {
      "text/html": [
       "\n",
       "<div id=\"58d7e6d8-2b6a-455b-afbc-b7b727ec54e4\"></div>\n",
       "<script>\n",
       "require.config({\n",
       "    paths: {\n",
       "        vis: 'https://unpkg.com/vis-network/standalone/umd/vis-network.min'\n",
       "    }\n",
       "});\n",
       "require(['vis'], function(vis){\n",
       "var nodes = [{\"id\": 0, \"label\": \"0\", \"title\": \"0\", \"x\": 0, \"group\": \"Node\"}, {\"id\": 1, \"label\": \"1\", \"title\": \"1\", \"x\": 0, \"group\": \"Node\"}, {\"id\": 2, \"label\": \"2\", \"title\": \"2\", \"x\": 0, \"group\": \"Node\"}, {\"id\": 3, \"label\": \"3\", \"title\": \"3\", \"x\": 0, \"group\": \"Node\"}, {\"id\": 4, \"label\": \"4\", \"title\": \"4\", \"x\": 0, \"group\": \"Node\"}, {\"id\": 5, \"label\": \"5\", \"title\": \"5\", \"x\": 0, \"group\": \"Node\"}, {\"id\": 6, \"label\": \"6\", \"title\": \"6\", \"x\": 0, \"group\": \"Node\"}, {\"title\": \"0: (0, 1)\", \"label\": \"\", \"id\": 7, \"group\": \"HyperEdge\", \"x\": 600}, {\"title\": \"1: (0, 2)\", \"label\": \"\", \"id\": 8, \"group\": \"HyperEdge\", \"x\": 600}, {\"title\": \"2: (1, 2)\", \"label\": \"\", \"id\": 9, \"group\": \"HyperEdge\", \"x\": 600}, {\"title\": \"3: (4, 5)\", \"label\": \"\", \"id\": 10, \"group\": \"HyperEdge\", \"x\": 600}, {\"title\": \"4: (4, 6)\", \"label\": \"\", \"id\": 11, \"group\": \"HyperEdge\", \"x\": 600}, {\"title\": \"5: (5, 6)\", \"label\": \"\", \"id\": 12, \"group\": \"HyperEdge\", \"x\": 600}, {\"title\": \"6: (2, 3, 4)\", \"label\": \"\", \"id\": 13, \"group\": \"HyperEdge\", \"x\": 600}];\n",
       "var edges = [{\"from\": 0, \"to\": 7, \"title\": \"0 <-> 0: (0, 1)\"}, {\"from\": 0, \"to\": 8, \"title\": \"0 <-> 1: (0, 2)\"}, {\"from\": 1, \"to\": 7, \"title\": \"1 <-> 0: (0, 1)\"}, {\"from\": 1, \"to\": 9, \"title\": \"1 <-> 2: (1, 2)\"}, {\"from\": 2, \"to\": 8, \"title\": \"2 <-> 1: (0, 2)\"}, {\"from\": 2, \"to\": 9, \"title\": \"2 <-> 2: (1, 2)\"}, {\"from\": 2, \"to\": 13, \"title\": \"2 <-> 6: (2, 3, 4)\"}, {\"from\": 3, \"to\": 13, \"title\": \"3 <-> 6: (2, 3, 4)\"}, {\"from\": 4, \"to\": 10, \"title\": \"4 <-> 3: (4, 5)\"}, {\"from\": 4, \"to\": 11, \"title\": \"4 <-> 4: (4, 6)\"}, {\"from\": 4, \"to\": 13, \"title\": \"4 <-> 6: (2, 3, 4)\"}, {\"from\": 5, \"to\": 10, \"title\": \"5 <-> 3: (4, 5)\"}, {\"from\": 5, \"to\": 12, \"title\": \"5 <-> 5: (5, 6)\"}, {\"from\": 6, \"to\": 11, \"title\": \"6 <-> 4: (4, 6)\"}, {\"from\": 6, \"to\": 12, \"title\": \"6 <-> 5: (5, 6)\"}];\n",
       "var data= {\n",
       "    nodes: nodes,\n",
       "    edges: edges,\n",
       "};\n",
       "var options = {\"interaction\": {\"navigationButtons\": true}, \"width\": \"600px\", \"height\": \"600px\", \"groups\": {\"HyperEdge\": {\"fixed\": {\"x\": false}, \"color\": {\"background\": \"black\"}, \"shape\": \"dot\", \"size\": 5}, \"Node\": {\"fixed\": {\"x\": false}}}};\n",
       "var container = document.getElementById('58d7e6d8-2b6a-455b-afbc-b7b727ec54e4');\n",
       "var network = new vis.Network(container, data, options);\n",
       "network.fit({\n",
       "  maxZoomLevel: 1000});\n",
       "});\n",
       "</script>\n"
      ],
      "text/plain": [
       "<IPython.core.display.HTML object>"
      ]
     },
     "metadata": {},
     "output_type": "display_data"
    }
   ],
   "source": [
    "candy = sm.HyperPaddle()\n",
    "candy.show_graph()"
   ]
  },
  {
   "cell_type": "markdown",
   "metadata": {},
   "source": [
    "A larger version."
   ]
  },
  {
   "cell_type": "code",
   "execution_count": 49,
   "metadata": {
    "ExecuteTime": {
     "end_time": "2022-01-24T10:11:03.298417Z",
     "start_time": "2022-01-24T10:11:03.283918Z"
    }
   },
   "outputs": [
    {
     "data": {
      "text/html": [
       "\n",
       "<div id=\"6b066e18-f0d6-44a7-a891-29e19e78d0c2\"></div>\n",
       "<script>\n",
       "require.config({\n",
       "    paths: {\n",
       "        vis: 'https://unpkg.com/vis-network/standalone/umd/vis-network.min'\n",
       "    }\n",
       "});\n",
       "require(['vis'], function(vis){\n",
       "var nodes = [{\"id\": 0, \"label\": \"0\", \"title\": \"0\", \"x\": 0, \"group\": \"Node\"}, {\"id\": 1, \"label\": \"1\", \"title\": \"1\", \"x\": 0, \"group\": \"Node\"}, {\"id\": 2, \"label\": \"2\", \"title\": \"2\", \"x\": 0, \"group\": \"Node\"}, {\"id\": 3, \"label\": \"3\", \"title\": \"3\", \"x\": 0, \"group\": \"Node\"}, {\"id\": 4, \"label\": \"4\", \"title\": \"4\", \"x\": 0, \"group\": \"Node\"}, {\"id\": 5, \"label\": \"5\", \"title\": \"5\", \"x\": 0, \"group\": \"Node\"}, {\"id\": 6, \"label\": \"6\", \"title\": \"6\", \"x\": 0, \"group\": \"Node\"}, {\"id\": 7, \"label\": \"7\", \"title\": \"7\", \"x\": 0, \"group\": \"Node\"}, {\"id\": 8, \"label\": \"8\", \"title\": \"8\", \"x\": 0, \"group\": \"Node\"}, {\"id\": 9, \"label\": \"9\", \"title\": \"9\", \"x\": 0, \"group\": \"Node\"}, {\"title\": \"0: (0, 1)\", \"label\": \"\", \"id\": 10, \"group\": \"HyperEdge\", \"x\": 600}, {\"title\": \"1: (0, 3)\", \"label\": \"\", \"id\": 11, \"group\": \"HyperEdge\", \"x\": 600}, {\"title\": \"2: (1, 2)\", \"label\": \"\", \"id\": 12, \"group\": \"HyperEdge\", \"x\": 600}, {\"title\": \"3: (2, 3)\", \"label\": \"\", \"id\": 13, \"group\": \"HyperEdge\", \"x\": 600}, {\"title\": \"4: (7, 8)\", \"label\": \"\", \"id\": 14, \"group\": \"HyperEdge\", \"x\": 600}, {\"title\": \"5: (7, 9)\", \"label\": \"\", \"id\": 15, \"group\": \"HyperEdge\", \"x\": 600}, {\"title\": \"6: (8, 9)\", \"label\": \"\", \"id\": 16, \"group\": \"HyperEdge\", \"x\": 600}, {\"title\": \"7: (3, 4, 5)\", \"label\": \"\", \"id\": 17, \"group\": \"HyperEdge\", \"x\": 600}, {\"title\": \"8: (4, 5, 6)\", \"label\": \"\", \"id\": 18, \"group\": \"HyperEdge\", \"x\": 600}, {\"title\": \"9: (5, 6, 7)\", \"label\": \"\", \"id\": 19, \"group\": \"HyperEdge\", \"x\": 600}];\n",
       "var edges = [{\"from\": 0, \"to\": 10, \"title\": \"0 <-> 0: (0, 1)\"}, {\"from\": 0, \"to\": 11, \"title\": \"0 <-> 1: (0, 3)\"}, {\"from\": 1, \"to\": 10, \"title\": \"1 <-> 0: (0, 1)\"}, {\"from\": 1, \"to\": 12, \"title\": \"1 <-> 2: (1, 2)\"}, {\"from\": 2, \"to\": 12, \"title\": \"2 <-> 2: (1, 2)\"}, {\"from\": 2, \"to\": 13, \"title\": \"2 <-> 3: (2, 3)\"}, {\"from\": 3, \"to\": 11, \"title\": \"3 <-> 1: (0, 3)\"}, {\"from\": 3, \"to\": 13, \"title\": \"3 <-> 3: (2, 3)\"}, {\"from\": 3, \"to\": 17, \"title\": \"3 <-> 7: (3, 4, 5)\"}, {\"from\": 4, \"to\": 17, \"title\": \"4 <-> 7: (3, 4, 5)\"}, {\"from\": 4, \"to\": 18, \"title\": \"4 <-> 8: (4, 5, 6)\"}, {\"from\": 5, \"to\": 17, \"title\": \"5 <-> 7: (3, 4, 5)\"}, {\"from\": 5, \"to\": 18, \"title\": \"5 <-> 8: (4, 5, 6)\"}, {\"from\": 5, \"to\": 19, \"title\": \"5 <-> 9: (5, 6, 7)\"}, {\"from\": 6, \"to\": 18, \"title\": \"6 <-> 8: (4, 5, 6)\"}, {\"from\": 6, \"to\": 19, \"title\": \"6 <-> 9: (5, 6, 7)\"}, {\"from\": 7, \"to\": 14, \"title\": \"7 <-> 4: (7, 8)\"}, {\"from\": 7, \"to\": 15, \"title\": \"7 <-> 5: (7, 9)\"}, {\"from\": 7, \"to\": 19, \"title\": \"7 <-> 9: (5, 6, 7)\"}, {\"from\": 8, \"to\": 14, \"title\": \"8 <-> 4: (7, 8)\"}, {\"from\": 8, \"to\": 16, \"title\": \"8 <-> 6: (8, 9)\"}, {\"from\": 9, \"to\": 15, \"title\": \"9 <-> 5: (7, 9)\"}, {\"from\": 9, \"to\": 16, \"title\": \"9 <-> 6: (8, 9)\"}];\n",
       "var data= {\n",
       "    nodes: nodes,\n",
       "    edges: edges,\n",
       "};\n",
       "var options = {\"interaction\": {\"navigationButtons\": true}, \"width\": \"600px\", \"height\": \"600px\", \"groups\": {\"HyperEdge\": {\"fixed\": {\"x\": false}, \"color\": {\"background\": \"black\"}, \"shape\": \"dot\", \"size\": 5}, \"Node\": {\"fixed\": {\"x\": false}}}};\n",
       "var container = document.getElementById('6b066e18-f0d6-44a7-a891-29e19e78d0c2');\n",
       "var network = new vis.Network(container, data, options);\n",
       "network.fit({\n",
       "  maxZoomLevel: 1000});\n",
       "});\n",
       "</script>\n"
      ],
      "text/plain": [
       "<IPython.core.display.HTML object>"
      ]
     },
     "metadata": {},
     "output_type": "display_data"
    }
   ],
   "source": [
    "poodle = sm.HyperPaddle(k=4, l=3)\n",
    "poodle.show_graph()"
   ]
  },
  {
   "cell_type": "markdown",
   "metadata": {},
   "source": [
    "### Fans"
   ]
  },
  {
   "cell_type": "markdown",
   "metadata": {},
   "source": [
    "A fan is a certain number of cycles hyperconnected. They are useful to show simple examples of hypergraphs with non-trivial kernels, possibly degenerated. The simplest is the clover."
   ]
  },
  {
   "cell_type": "code",
   "execution_count": 50,
   "metadata": {
    "ExecuteTime": {
     "end_time": "2022-01-24T10:11:03.313521Z",
     "start_time": "2022-01-24T10:11:03.299740Z"
    }
   },
   "outputs": [
    {
     "data": {
      "text/html": [
       "\n",
       "<div id=\"ff68c981-9ac8-414d-bf27-2007f82bb91e\"></div>\n",
       "<script>\n",
       "require.config({\n",
       "    paths: {\n",
       "        vis: 'https://unpkg.com/vis-network/standalone/umd/vis-network.min'\n",
       "    }\n",
       "});\n",
       "require(['vis'], function(vis){\n",
       "var nodes = [{\"id\": 0, \"label\": \"0\", \"title\": \"0\", \"x\": 0, \"group\": \"Node\"}, {\"id\": 1, \"label\": \"1\", \"title\": \"1\", \"x\": 0, \"group\": \"Node\"}, {\"id\": 2, \"label\": \"2\", \"title\": \"2\", \"x\": 0, \"group\": \"Node\"}, {\"id\": 3, \"label\": \"3\", \"title\": \"3\", \"x\": 0, \"group\": \"Node\"}, {\"id\": 4, \"label\": \"4\", \"title\": \"4\", \"x\": 0, \"group\": \"Node\"}, {\"id\": 5, \"label\": \"5\", \"title\": \"5\", \"x\": 0, \"group\": \"Node\"}, {\"id\": 6, \"label\": \"6\", \"title\": \"6\", \"x\": 0, \"group\": \"Node\"}, {\"id\": 7, \"label\": \"7\", \"title\": \"7\", \"x\": 0, \"group\": \"Node\"}, {\"id\": 8, \"label\": \"8\", \"title\": \"8\", \"x\": 0, \"group\": \"Node\"}, {\"title\": \"0: (0, 1)\", \"label\": \"\", \"id\": 9, \"group\": \"HyperEdge\", \"x\": 600}, {\"title\": \"1: (0, 2)\", \"label\": \"\", \"id\": 10, \"group\": \"HyperEdge\", \"x\": 600}, {\"title\": \"2: (1, 2)\", \"label\": \"\", \"id\": 11, \"group\": \"HyperEdge\", \"x\": 600}, {\"title\": \"3: (3, 4)\", \"label\": \"\", \"id\": 12, \"group\": \"HyperEdge\", \"x\": 600}, {\"title\": \"4: (3, 5)\", \"label\": \"\", \"id\": 13, \"group\": \"HyperEdge\", \"x\": 600}, {\"title\": \"5: (4, 5)\", \"label\": \"\", \"id\": 14, \"group\": \"HyperEdge\", \"x\": 600}, {\"title\": \"6: (6, 7)\", \"label\": \"\", \"id\": 15, \"group\": \"HyperEdge\", \"x\": 600}, {\"title\": \"7: (6, 8)\", \"label\": \"\", \"id\": 16, \"group\": \"HyperEdge\", \"x\": 600}, {\"title\": \"8: (7, 8)\", \"label\": \"\", \"id\": 17, \"group\": \"HyperEdge\", \"x\": 600}, {\"title\": \"9: (0, 3, 6)\", \"label\": \"\", \"id\": 18, \"group\": \"HyperEdge\", \"x\": 600}];\n",
       "var edges = [{\"from\": 0, \"to\": 9, \"title\": \"0 <-> 0: (0, 1)\"}, {\"from\": 0, \"to\": 10, \"title\": \"0 <-> 1: (0, 2)\"}, {\"from\": 0, \"to\": 18, \"title\": \"0 <-> 9: (0, 3, 6)\"}, {\"from\": 1, \"to\": 9, \"title\": \"1 <-> 0: (0, 1)\"}, {\"from\": 1, \"to\": 11, \"title\": \"1 <-> 2: (1, 2)\"}, {\"from\": 2, \"to\": 10, \"title\": \"2 <-> 1: (0, 2)\"}, {\"from\": 2, \"to\": 11, \"title\": \"2 <-> 2: (1, 2)\"}, {\"from\": 3, \"to\": 12, \"title\": \"3 <-> 3: (3, 4)\"}, {\"from\": 3, \"to\": 13, \"title\": \"3 <-> 4: (3, 5)\"}, {\"from\": 3, \"to\": 18, \"title\": \"3 <-> 9: (0, 3, 6)\"}, {\"from\": 4, \"to\": 12, \"title\": \"4 <-> 3: (3, 4)\"}, {\"from\": 4, \"to\": 14, \"title\": \"4 <-> 5: (4, 5)\"}, {\"from\": 5, \"to\": 13, \"title\": \"5 <-> 4: (3, 5)\"}, {\"from\": 5, \"to\": 14, \"title\": \"5 <-> 5: (4, 5)\"}, {\"from\": 6, \"to\": 15, \"title\": \"6 <-> 6: (6, 7)\"}, {\"from\": 6, \"to\": 16, \"title\": \"6 <-> 7: (6, 8)\"}, {\"from\": 6, \"to\": 18, \"title\": \"6 <-> 9: (0, 3, 6)\"}, {\"from\": 7, \"to\": 15, \"title\": \"7 <-> 6: (6, 7)\"}, {\"from\": 7, \"to\": 17, \"title\": \"7 <-> 8: (7, 8)\"}, {\"from\": 8, \"to\": 16, \"title\": \"8 <-> 7: (6, 8)\"}, {\"from\": 8, \"to\": 17, \"title\": \"8 <-> 8: (7, 8)\"}];\n",
       "var data= {\n",
       "    nodes: nodes,\n",
       "    edges: edges,\n",
       "};\n",
       "var options = {\"interaction\": {\"navigationButtons\": true}, \"width\": \"600px\", \"height\": \"600px\", \"groups\": {\"HyperEdge\": {\"fixed\": {\"x\": false}, \"color\": {\"background\": \"black\"}, \"shape\": \"dot\", \"size\": 5}, \"Node\": {\"fixed\": {\"x\": false}}}};\n",
       "var container = document.getElementById('ff68c981-9ac8-414d-bf27-2007f82bb91e');\n",
       "var network = new vis.Network(container, data, options);\n",
       "network.fit({\n",
       "  maxZoomLevel: 1000});\n",
       "});\n",
       "</script>\n"
      ],
      "text/plain": [
       "<IPython.core.display.HTML object>"
      ]
     },
     "metadata": {},
     "output_type": "display_data"
    }
   ],
   "source": [
    "sm.Fan().show_graph()"
   ]
  },
  {
   "cell_type": "markdown",
   "metadata": {},
   "source": [
    "Next one is a highly degenerated example (as shown in another notebook)!"
   ]
  },
  {
   "cell_type": "code",
   "execution_count": 51,
   "metadata": {
    "ExecuteTime": {
     "end_time": "2022-01-24T10:11:03.328514Z",
     "start_time": "2022-01-24T10:11:03.314547Z"
    }
   },
   "outputs": [
    {
     "data": {
      "text/html": [
       "\n",
       "<div id=\"5e1c1b18-389f-423a-bcc4-c100d41af5cb\"></div>\n",
       "<script>\n",
       "require.config({\n",
       "    paths: {\n",
       "        vis: 'https://unpkg.com/vis-network/standalone/umd/vis-network.min'\n",
       "    }\n",
       "});\n",
       "require(['vis'], function(vis){\n",
       "var nodes = [{\"id\": 0, \"label\": \"0\", \"title\": \"0\", \"x\": 0, \"group\": \"Node\"}, {\"id\": 1, \"label\": \"1\", \"title\": \"1\", \"x\": 0, \"group\": \"Node\"}, {\"id\": 2, \"label\": \"2\", \"title\": \"2\", \"x\": 0, \"group\": \"Node\"}, {\"id\": 3, \"label\": \"3\", \"title\": \"3\", \"x\": 0, \"group\": \"Node\"}, {\"id\": 4, \"label\": \"4\", \"title\": \"4\", \"x\": 0, \"group\": \"Node\"}, {\"id\": 5, \"label\": \"5\", \"title\": \"5\", \"x\": 0, \"group\": \"Node\"}, {\"id\": 6, \"label\": \"6\", \"title\": \"6\", \"x\": 0, \"group\": \"Node\"}, {\"id\": 7, \"label\": \"7\", \"title\": \"7\", \"x\": 0, \"group\": \"Node\"}, {\"id\": 8, \"label\": \"8\", \"title\": \"8\", \"x\": 0, \"group\": \"Node\"}, {\"id\": 9, \"label\": \"9\", \"title\": \"9\", \"x\": 0, \"group\": \"Node\"}, {\"id\": 10, \"label\": \"10\", \"title\": \"10\", \"x\": 0, \"group\": \"Node\"}, {\"id\": 11, \"label\": \"11\", \"title\": \"11\", \"x\": 0, \"group\": \"Node\"}, {\"title\": \"0: (0, 1)\", \"label\": \"\", \"id\": 12, \"group\": \"HyperEdge\", \"x\": 600}, {\"title\": \"1: (0, 3)\", \"label\": \"\", \"id\": 13, \"group\": \"HyperEdge\", \"x\": 600}, {\"title\": \"2: (1, 2)\", \"label\": \"\", \"id\": 14, \"group\": \"HyperEdge\", \"x\": 600}, {\"title\": \"3: (2, 3)\", \"label\": \"\", \"id\": 15, \"group\": \"HyperEdge\", \"x\": 600}, {\"title\": \"4: (4, 5)\", \"label\": \"\", \"id\": 16, \"group\": \"HyperEdge\", \"x\": 600}, {\"title\": \"5: (4, 7)\", \"label\": \"\", \"id\": 17, \"group\": \"HyperEdge\", \"x\": 600}, {\"title\": \"6: (5, 6)\", \"label\": \"\", \"id\": 18, \"group\": \"HyperEdge\", \"x\": 600}, {\"title\": \"7: (6, 7)\", \"label\": \"\", \"id\": 19, \"group\": \"HyperEdge\", \"x\": 600}, {\"title\": \"8: (8, 9)\", \"label\": \"\", \"id\": 20, \"group\": \"HyperEdge\", \"x\": 600}, {\"title\": \"9: (8, 11)\", \"label\": \"\", \"id\": 21, \"group\": \"HyperEdge\", \"x\": 600}, {\"title\": \"10: (9, 10)\", \"label\": \"\", \"id\": 22, \"group\": \"HyperEdge\", \"x\": 600}, {\"title\": \"11: (10, 11)\", \"label\": \"\", \"id\": 23, \"group\": \"HyperEdge\", \"x\": 600}, {\"title\": \"12: (0, 4, 8)\", \"label\": \"\", \"id\": 24, \"group\": \"HyperEdge\", \"x\": 600}, {\"title\": \"13: (1, 5, 9)\", \"label\": \"\", \"id\": 25, \"group\": \"HyperEdge\", \"x\": 600}];\n",
       "var edges = [{\"from\": 0, \"to\": 12, \"title\": \"0 <-> 0: (0, 1)\"}, {\"from\": 0, \"to\": 13, \"title\": \"0 <-> 1: (0, 3)\"}, {\"from\": 0, \"to\": 24, \"title\": \"0 <-> 12: (0, 4, 8)\"}, {\"from\": 1, \"to\": 12, \"title\": \"1 <-> 0: (0, 1)\"}, {\"from\": 1, \"to\": 14, \"title\": \"1 <-> 2: (1, 2)\"}, {\"from\": 1, \"to\": 25, \"title\": \"1 <-> 13: (1, 5, 9)\"}, {\"from\": 2, \"to\": 14, \"title\": \"2 <-> 2: (1, 2)\"}, {\"from\": 2, \"to\": 15, \"title\": \"2 <-> 3: (2, 3)\"}, {\"from\": 3, \"to\": 13, \"title\": \"3 <-> 1: (0, 3)\"}, {\"from\": 3, \"to\": 15, \"title\": \"3 <-> 3: (2, 3)\"}, {\"from\": 4, \"to\": 16, \"title\": \"4 <-> 4: (4, 5)\"}, {\"from\": 4, \"to\": 17, \"title\": \"4 <-> 5: (4, 7)\"}, {\"from\": 4, \"to\": 24, \"title\": \"4 <-> 12: (0, 4, 8)\"}, {\"from\": 5, \"to\": 16, \"title\": \"5 <-> 4: (4, 5)\"}, {\"from\": 5, \"to\": 18, \"title\": \"5 <-> 6: (5, 6)\"}, {\"from\": 5, \"to\": 25, \"title\": \"5 <-> 13: (1, 5, 9)\"}, {\"from\": 6, \"to\": 18, \"title\": \"6 <-> 6: (5, 6)\"}, {\"from\": 6, \"to\": 19, \"title\": \"6 <-> 7: (6, 7)\"}, {\"from\": 7, \"to\": 17, \"title\": \"7 <-> 5: (4, 7)\"}, {\"from\": 7, \"to\": 19, \"title\": \"7 <-> 7: (6, 7)\"}, {\"from\": 8, \"to\": 20, \"title\": \"8 <-> 8: (8, 9)\"}, {\"from\": 8, \"to\": 21, \"title\": \"8 <-> 9: (8, 11)\"}, {\"from\": 8, \"to\": 24, \"title\": \"8 <-> 12: (0, 4, 8)\"}, {\"from\": 9, \"to\": 20, \"title\": \"9 <-> 8: (8, 9)\"}, {\"from\": 9, \"to\": 22, \"title\": \"9 <-> 10: (9, 10)\"}, {\"from\": 9, \"to\": 25, \"title\": \"9 <-> 13: (1, 5, 9)\"}, {\"from\": 10, \"to\": 22, \"title\": \"10 <-> 10: (9, 10)\"}, {\"from\": 10, \"to\": 23, \"title\": \"10 <-> 11: (10, 11)\"}, {\"from\": 11, \"to\": 21, \"title\": \"11 <-> 9: (8, 11)\"}, {\"from\": 11, \"to\": 23, \"title\": \"11 <-> 11: (10, 11)\"}];\n",
       "var data= {\n",
       "    nodes: nodes,\n",
       "    edges: edges,\n",
       "};\n",
       "var options = {\"interaction\": {\"navigationButtons\": true}, \"width\": \"600px\", \"height\": \"600px\", \"groups\": {\"HyperEdge\": {\"fixed\": {\"x\": false}, \"color\": {\"background\": \"black\"}, \"shape\": \"dot\", \"size\": 5}, \"Node\": {\"fixed\": {\"x\": false}}}};\n",
       "var container = document.getElementById('5e1c1b18-389f-423a-bcc4-c100d41af5cb');\n",
       "var network = new vis.Network(container, data, options);\n",
       "network.fit({\n",
       "  maxZoomLevel: 1000});\n",
       "});\n",
       "</script>\n"
      ],
      "text/plain": [
       "<IPython.core.display.HTML object>"
      ]
     },
     "metadata": {},
     "output_type": "display_data"
    }
   ],
   "source": [
    "sm.Fan(cycle_size=4, hyperedges=2).show_graph()"
   ]
  }
 ],
 "metadata": {
  "kernelspec": {
   "display_name": "Python 3 (ipykernel)",
   "language": "python",
   "name": "python3"
  },
  "language_info": {
   "codemirror_mode": {
    "name": "ipython",
    "version": 3
   },
   "file_extension": ".py",
   "mimetype": "text/x-python",
   "name": "python",
   "nbconvert_exporter": "python",
   "pygments_lexer": "ipython3",
   "version": "3.9.7"
  },
  "toc": {
   "base_numbering": 1,
   "nav_menu": {},
   "number_sections": true,
   "sideBar": true,
   "skip_h1_title": true,
   "title_cell": "Table of Contents",
   "title_sidebar": "Contents",
   "toc_cell": false,
   "toc_position": {},
   "toc_section_display": true,
   "toc_window_display": true
  }
 },
 "nbformat": 4,
 "nbformat_minor": 4
}
