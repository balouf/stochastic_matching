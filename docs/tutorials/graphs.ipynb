{
 "cells": [
  {
   "cell_type": "markdown",
   "metadata": {},
   "source": [
    "# Simple and Hyper Graphs"
   ]
  },
  {
   "cell_type": "markdown",
   "metadata": {},
   "source": [
    "*Matching Queues* allows to build arbitrary graphs from their adjacency or incidence matrix, but also to directly instantiate from some families. This tutorial gives a tour of these families and details the behavior of graph objects."
   ]
  },
  {
   "cell_type": "markdown",
   "metadata": {},
   "source": [
    "First, we load the package."
   ]
  },
  {
   "cell_type": "code",
   "execution_count": 1,
   "metadata": {
    "ExecuteTime": {
     "end_time": "2022-01-14T15:22:09.489770Z",
     "start_time": "2022-01-14T15:22:08.197702Z"
    }
   },
   "outputs": [],
   "source": [
    "import stochastic_matching as sm"
   ]
  },
  {
   "cell_type": "markdown",
   "metadata": {},
   "source": [
    "## Simple graph: manual definition and basic usage"
   ]
  },
  {
   "cell_type": "markdown",
   "metadata": {},
   "source": [
    "A simple graph can be defined by providing its adjacency or incidence matrix. We give a tour of the possibilities using the diamond graph as running example."
   ]
  },
  {
   "cell_type": "code",
   "execution_count": 2,
   "metadata": {
    "ExecuteTime": {
     "end_time": "2022-01-14T15:22:09.521436Z",
     "start_time": "2022-01-14T15:22:09.493902Z"
    }
   },
   "outputs": [
    {
     "data": {
      "text/html": [
       "\n",
       "<div id=\"adc51e07-b19b-4a66-9075-78933d21b39a\"></div>\n",
       "<script>\n",
       "require.config({\n",
       "    paths: {\n",
       "        vis: 'https://unpkg.com/vis-network/standalone/umd/vis-network.min'\n",
       "    }\n",
       "});\n",
       "require(['vis'], function(vis){\n",
       "var nodes = [{\"id\": 0, \"label\": \"0\", \"title\": \"0\"}, {\"id\": 1, \"label\": \"1\", \"title\": \"1\"}, {\"id\": 2, \"label\": \"2\", \"title\": \"2\"}, {\"id\": 3, \"label\": \"3\", \"title\": \"3\"}];\n",
       "var edges = [{\"from\": 0, \"to\": 1, \"title\": \"0: (0, 1)\", \"label\": \"(0, 1)\"}, {\"from\": 0, \"to\": 2, \"title\": \"1: (0, 2)\", \"label\": \"(0, 2)\"}, {\"from\": 1, \"to\": 2, \"title\": \"2: (1, 2)\", \"label\": \"(1, 2)\"}, {\"from\": 1, \"to\": 3, \"title\": \"3: (1, 3)\", \"label\": \"(1, 3)\"}, {\"from\": 2, \"to\": 3, \"title\": \"4: (2, 3)\", \"label\": \"(2, 3)\"}];\n",
       "var data= {\n",
       "    nodes: nodes,\n",
       "    edges: edges,\n",
       "};\n",
       "var options = {\"interaction\": {\"navigationButtons\": true}, \"width\": \"600px\", \"height\": \"600px\"};\n",
       "var container = document.getElementById('adc51e07-b19b-4a66-9075-78933d21b39a');\n",
       "var network = new vis.Network(container, data, options);\n",
       "network.fit({\n",
       "  maxZoomLevel: 1000});\n",
       "});\n",
       "</script>\n"
      ],
      "text/plain": [
       "<IPython.core.display.HTML object>"
      ]
     },
     "metadata": {},
     "output_type": "display_data"
    }
   ],
   "source": [
    "diamond_adjacency = [[0, 1, 1, 0],\n",
    "                     [1, 0, 1, 1],\n",
    "                     [1, 1, 0, 1],\n",
    "                     [0, 1, 1, 0]]\n",
    "diamond = sm.SimpleGraph(diamond_adjacency)\n",
    "diamond.show()"
   ]
  },
  {
   "cell_type": "code",
   "execution_count": 3,
   "metadata": {
    "ExecuteTime": {
     "end_time": "2022-01-14T15:22:09.537281Z",
     "start_time": "2022-01-14T15:22:09.523348Z"
    }
   },
   "outputs": [
    {
     "data": {
      "text/html": [
       "\n",
       "<div id=\"5f004410-dc7d-4d25-aff1-e0651d32b9f3\"></div>\n",
       "<script>\n",
       "require.config({\n",
       "    paths: {\n",
       "        vis: 'https://unpkg.com/vis-network/standalone/umd/vis-network.min'\n",
       "    }\n",
       "});\n",
       "require(['vis'], function(vis){\n",
       "var nodes = [{\"id\": 0, \"label\": \"0\", \"title\": \"0\"}, {\"id\": 1, \"label\": \"1\", \"title\": \"1\"}, {\"id\": 2, \"label\": \"2\", \"title\": \"2\"}, {\"id\": 3, \"label\": \"3\", \"title\": \"3\"}];\n",
       "var edges = [{\"from\": 0, \"to\": 1, \"title\": \"0: (0, 1)\", \"label\": \"(0, 1)\"}, {\"from\": 0, \"to\": 2, \"title\": \"1: (0, 2)\", \"label\": \"(0, 2)\"}, {\"from\": 1, \"to\": 2, \"title\": \"2: (1, 2)\", \"label\": \"(1, 2)\"}, {\"from\": 1, \"to\": 3, \"title\": \"3: (1, 3)\", \"label\": \"(1, 3)\"}, {\"from\": 2, \"to\": 3, \"title\": \"4: (2, 3)\", \"label\": \"(2, 3)\"}];\n",
       "var data= {\n",
       "    nodes: nodes,\n",
       "    edges: edges,\n",
       "};\n",
       "var options = {\"interaction\": {\"navigationButtons\": true}, \"width\": \"600px\", \"height\": \"600px\"};\n",
       "var container = document.getElementById('5f004410-dc7d-4d25-aff1-e0651d32b9f3');\n",
       "var network = new vis.Network(container, data, options);\n",
       "network.fit({\n",
       "  maxZoomLevel: 1000});\n",
       "});\n",
       "</script>\n"
      ],
      "text/plain": [
       "<IPython.core.display.HTML object>"
      ]
     },
     "metadata": {},
     "output_type": "display_data"
    }
   ],
   "source": [
    "diamond_incidence = [[1, 1, 0, 0, 0],\n",
    "                     [1, 0, 1, 1, 0],\n",
    "                     [0, 1, 1, 0, 1],\n",
    "                     [0, 0, 0, 1, 1]]\n",
    "\n",
    "diamond = sm.SimpleGraph(incidence=diamond_incidence)\n",
    "diamond.show()"
   ]
  },
  {
   "cell_type": "markdown",
   "metadata": {},
   "source": [
    "By default, the method returns an instance of the `SimpleGraph` class of the module, which possessed many attributes.\n",
    "\n",
    "Number of edges and nodes:"
   ]
  },
  {
   "cell_type": "code",
   "execution_count": 4,
   "metadata": {
    "ExecuteTime": {
     "end_time": "2022-01-14T15:22:09.552659Z",
     "start_time": "2022-01-14T15:22:09.540888Z"
    }
   },
   "outputs": [
    {
     "data": {
      "text/plain": [
       "(4, 5)"
      ]
     },
     "execution_count": 4,
     "metadata": {},
     "output_type": "execute_result"
    }
   ],
   "source": [
    "diamond.n, diamond.m"
   ]
  },
  {
   "cell_type": "markdown",
   "metadata": {},
   "source": [
    "Adjacency matrix:"
   ]
  },
  {
   "cell_type": "code",
   "execution_count": 5,
   "metadata": {
    "ExecuteTime": {
     "end_time": "2022-01-14T15:22:09.568092Z",
     "start_time": "2022-01-14T15:22:09.555824Z"
    }
   },
   "outputs": [
    {
     "data": {
      "text/plain": [
       "array([[0, 1, 1, 0],\n",
       "       [1, 0, 1, 1],\n",
       "       [1, 1, 0, 1],\n",
       "       [0, 1, 1, 0]])"
      ]
     },
     "execution_count": 5,
     "metadata": {},
     "output_type": "execute_result"
    }
   ],
   "source": [
    "diamond.adjacency"
   ]
  },
  {
   "cell_type": "markdown",
   "metadata": {},
   "source": [
    "Incidence (nodes to edges csr matrix):"
   ]
  },
  {
   "cell_type": "code",
   "execution_count": 6,
   "metadata": {
    "ExecuteTime": {
     "end_time": "2022-01-14T15:22:09.583954Z",
     "start_time": "2022-01-14T15:22:09.571393Z"
    }
   },
   "outputs": [
    {
     "data": {
      "text/plain": [
       "<4x5 sparse matrix of type '<class 'numpy.intc'>'\n",
       "\twith 10 stored elements in Compressed Sparse Row format>"
      ]
     },
     "execution_count": 6,
     "metadata": {},
     "output_type": "execute_result"
    }
   ],
   "source": [
    "diamond.incidence"
   ]
  },
  {
   "cell_type": "markdown",
   "metadata": {},
   "source": [
    "The incidence matrix, which is at the center of the spectral analysis, in plain format:"
   ]
  },
  {
   "cell_type": "code",
   "execution_count": 7,
   "metadata": {
    "ExecuteTime": {
     "end_time": "2022-01-14T15:22:09.599970Z",
     "start_time": "2022-01-14T15:22:09.586541Z"
    }
   },
   "outputs": [
    {
     "data": {
      "text/plain": [
       "array([[1, 1, 0, 0, 0],\n",
       "       [1, 0, 1, 1, 0],\n",
       "       [0, 1, 1, 0, 1],\n",
       "       [0, 0, 0, 1, 1]])"
      ]
     },
     "execution_count": 7,
     "metadata": {},
     "output_type": "execute_result"
    }
   ],
   "source": [
    "diamond.incidence.toarray().astype(int)"
   ]
  },
  {
   "cell_type": "markdown",
   "metadata": {},
   "source": [
    "Co-incidence (edge to nodes csc matrix):"
   ]
  },
  {
   "cell_type": "code",
   "execution_count": 8,
   "metadata": {
    "ExecuteTime": {
     "end_time": "2022-01-14T15:22:09.615304Z",
     "start_time": "2022-01-14T15:22:09.602733Z"
    }
   },
   "outputs": [
    {
     "data": {
      "text/plain": [
       "<4x5 sparse matrix of type '<class 'numpy.intc'>'\n",
       "\twith 10 stored elements in Compressed Sparse Column format>"
      ]
     },
     "execution_count": 8,
     "metadata": {},
     "output_type": "execute_result"
    }
   ],
   "source": [
    "diamond.co_incidence"
   ]
  },
  {
   "cell_type": "markdown",
   "metadata": {},
   "source": [
    "You can visualize the graph with the `show` method."
   ]
  },
  {
   "cell_type": "code",
   "execution_count": 9,
   "metadata": {
    "ExecuteTime": {
     "end_time": "2022-01-14T15:22:09.630837Z",
     "start_time": "2022-01-14T15:22:09.617262Z"
    }
   },
   "outputs": [
    {
     "data": {
      "text/html": [
       "\n",
       "<div id=\"ae372192-38c2-445c-a4c7-46cf908ed844\"></div>\n",
       "<script>\n",
       "require.config({\n",
       "    paths: {\n",
       "        vis: 'https://unpkg.com/vis-network/standalone/umd/vis-network.min'\n",
       "    }\n",
       "});\n",
       "require(['vis'], function(vis){\n",
       "var nodes = [{\"id\": 0, \"label\": \"0\", \"title\": \"0\"}, {\"id\": 1, \"label\": \"1\", \"title\": \"1\"}, {\"id\": 2, \"label\": \"2\", \"title\": \"2\"}, {\"id\": 3, \"label\": \"3\", \"title\": \"3\"}];\n",
       "var edges = [{\"from\": 0, \"to\": 1, \"title\": \"0: (0, 1)\", \"label\": \"(0, 1)\"}, {\"from\": 0, \"to\": 2, \"title\": \"1: (0, 2)\", \"label\": \"(0, 2)\"}, {\"from\": 1, \"to\": 2, \"title\": \"2: (1, 2)\", \"label\": \"(1, 2)\"}, {\"from\": 1, \"to\": 3, \"title\": \"3: (1, 3)\", \"label\": \"(1, 3)\"}, {\"from\": 2, \"to\": 3, \"title\": \"4: (2, 3)\", \"label\": \"(2, 3)\"}];\n",
       "var data= {\n",
       "    nodes: nodes,\n",
       "    edges: edges,\n",
       "};\n",
       "var options = {\"interaction\": {\"navigationButtons\": true}, \"width\": \"600px\", \"height\": \"600px\"};\n",
       "var container = document.getElementById('ae372192-38c2-445c-a4c7-46cf908ed844');\n",
       "var network = new vis.Network(container, data, options);\n",
       "network.fit({\n",
       "  maxZoomLevel: 1000});\n",
       "});\n",
       "</script>\n"
      ],
      "text/plain": [
       "<IPython.core.display.HTML object>"
      ]
     },
     "metadata": {},
     "output_type": "display_data"
    }
   ],
   "source": [
    "diamond.show()"
   ]
  },
  {
   "cell_type": "markdown",
   "metadata": {},
   "source": [
    "You can customize display with `options` (the options will be pass to the vis engine). For example, to display a red graph with no navigation button:"
   ]
  },
  {
   "cell_type": "code",
   "execution_count": 10,
   "metadata": {
    "ExecuteTime": {
     "end_time": "2022-01-14T15:22:09.646429Z",
     "start_time": "2022-01-14T15:22:09.635354Z"
    }
   },
   "outputs": [
    {
     "data": {
      "text/html": [
       "\n",
       "<div id=\"603fd730-2e92-4447-83ef-cba8b07b1264\"></div>\n",
       "<script>\n",
       "require.config({\n",
       "    paths: {\n",
       "        vis: 'https://unpkg.com/vis-network/standalone/umd/vis-network.min'\n",
       "    }\n",
       "});\n",
       "require(['vis'], function(vis){\n",
       "var nodes = [{\"id\": 0, \"label\": \"0\", \"title\": \"0\"}, {\"id\": 1, \"label\": \"1\", \"title\": \"1\"}, {\"id\": 2, \"label\": \"2\", \"title\": \"2\"}, {\"id\": 3, \"label\": \"3\", \"title\": \"3\"}];\n",
       "var edges = [{\"from\": 0, \"to\": 1, \"title\": \"0: (0, 1)\", \"label\": \"(0, 1)\"}, {\"from\": 0, \"to\": 2, \"title\": \"1: (0, 2)\", \"label\": \"(0, 2)\"}, {\"from\": 1, \"to\": 2, \"title\": \"2: (1, 2)\", \"label\": \"(1, 2)\"}, {\"from\": 1, \"to\": 3, \"title\": \"3: (1, 3)\", \"label\": \"(1, 3)\"}, {\"from\": 2, \"to\": 3, \"title\": \"4: (2, 3)\", \"label\": \"(2, 3)\"}];\n",
       "var data= {\n",
       "    nodes: nodes,\n",
       "    edges: edges,\n",
       "};\n",
       "var options = {\"interaction\": {\"navigationButtons\": false}, \"width\": \"600px\", \"height\": \"600px\", \"nodes\": {\"color\": \"red\"}};\n",
       "var container = document.getElementById('603fd730-2e92-4447-83ef-cba8b07b1264');\n",
       "var network = new vis.Network(container, data, options);\n",
       "network.fit({\n",
       "  maxZoomLevel: 1000});\n",
       "});\n",
       "</script>\n"
      ],
      "text/plain": [
       "<IPython.core.display.HTML object>"
      ]
     },
     "metadata": {},
     "output_type": "display_data"
    }
   ],
   "source": [
    "diamond.show(options={'interaction': {'navigationButtons': False}, 'nodes': {'color': 'red'}})"
   ]
  },
  {
   "cell_type": "markdown",
   "metadata": {},
   "source": [
    "Names can be specified."
   ]
  },
  {
   "cell_type": "code",
   "execution_count": 11,
   "metadata": {
    "ExecuteTime": {
     "end_time": "2022-01-14T15:22:09.662570Z",
     "start_time": "2022-01-14T15:22:09.648603Z"
    }
   },
   "outputs": [
    {
     "data": {
      "text/html": [
       "\n",
       "<div id=\"0b8d57af-5f19-46e4-b19b-c1537192f97f\"></div>\n",
       "<script>\n",
       "require.config({\n",
       "    paths: {\n",
       "        vis: 'https://unpkg.com/vis-network/standalone/umd/vis-network.min'\n",
       "    }\n",
       "});\n",
       "require(['vis'], function(vis){\n",
       "var nodes = [{\"id\": 0, \"label\": \"Ga\", \"title\": \"0: Ga\"}, {\"id\": 1, \"label\": \"Bu\", \"title\": \"1: Bu\"}, {\"id\": 2, \"label\": \"Zo\", \"title\": \"2: Zo\"}, {\"id\": 3, \"label\": \"Meu\", \"title\": \"3: Meu\"}];\n",
       "var edges = [{\"from\": 0, \"to\": 1, \"title\": \"0: (Ga, Bu)\", \"label\": \"(Ga, Bu)\"}, {\"from\": 0, \"to\": 2, \"title\": \"1: (Ga, Zo)\", \"label\": \"(Ga, Zo)\"}, {\"from\": 1, \"to\": 2, \"title\": \"2: (Bu, Zo)\", \"label\": \"(Bu, Zo)\"}, {\"from\": 1, \"to\": 3, \"title\": \"3: (Bu, Meu)\", \"label\": \"(Bu, Meu)\"}, {\"from\": 2, \"to\": 3, \"title\": \"4: (Zo, Meu)\", \"label\": \"(Zo, Meu)\"}];\n",
       "var data= {\n",
       "    nodes: nodes,\n",
       "    edges: edges,\n",
       "};\n",
       "var options = {\"interaction\": {\"navigationButtons\": true}, \"width\": \"600px\", \"height\": \"600px\"};\n",
       "var container = document.getElementById('0b8d57af-5f19-46e4-b19b-c1537192f97f');\n",
       "var network = new vis.Network(container, data, options);\n",
       "network.fit({\n",
       "  maxZoomLevel: 1000});\n",
       "});\n",
       "</script>\n"
      ],
      "text/plain": [
       "<IPython.core.display.HTML object>"
      ]
     },
     "metadata": {},
     "output_type": "display_data"
    }
   ],
   "source": [
    "sm.SimpleGraph(diamond_adjacency, names=[\"Ga\", \"Bu\", \"Zo\", \"Meu\"]).show()"
   ]
  },
  {
   "cell_type": "markdown",
   "metadata": {},
   "source": [
    "Automatic letter labeling can be obtained using `alpha` as input for `names`"
   ]
  },
  {
   "cell_type": "code",
   "execution_count": 12,
   "metadata": {
    "ExecuteTime": {
     "end_time": "2022-01-14T15:22:09.676808Z",
     "start_time": "2022-01-14T15:22:09.665090Z"
    }
   },
   "outputs": [
    {
     "data": {
      "text/html": [
       "\n",
       "<div id=\"db1392c2-03a4-40a1-9d2a-133c3793fc63\"></div>\n",
       "<script>\n",
       "require.config({\n",
       "    paths: {\n",
       "        vis: 'https://unpkg.com/vis-network/standalone/umd/vis-network.min'\n",
       "    }\n",
       "});\n",
       "require(['vis'], function(vis){\n",
       "var nodes = [{\"id\": 0, \"label\": \"A\", \"title\": \"0: A\"}, {\"id\": 1, \"label\": \"B\", \"title\": \"1: B\"}, {\"id\": 2, \"label\": \"C\", \"title\": \"2: C\"}, {\"id\": 3, \"label\": \"D\", \"title\": \"3: D\"}];\n",
       "var edges = [{\"from\": 0, \"to\": 1, \"title\": \"0: (A, B)\", \"label\": \"(A, B)\"}, {\"from\": 0, \"to\": 2, \"title\": \"1: (A, C)\", \"label\": \"(A, C)\"}, {\"from\": 1, \"to\": 2, \"title\": \"2: (B, C)\", \"label\": \"(B, C)\"}, {\"from\": 1, \"to\": 3, \"title\": \"3: (B, D)\", \"label\": \"(B, D)\"}, {\"from\": 2, \"to\": 3, \"title\": \"4: (C, D)\", \"label\": \"(C, D)\"}];\n",
       "var data= {\n",
       "    nodes: nodes,\n",
       "    edges: edges,\n",
       "};\n",
       "var options = {\"interaction\": {\"navigationButtons\": true}, \"width\": \"600px\", \"height\": \"600px\"};\n",
       "var container = document.getElementById('db1392c2-03a4-40a1-9d2a-133c3793fc63');\n",
       "var network = new vis.Network(container, data, options);\n",
       "network.fit({\n",
       "  maxZoomLevel: 1000});\n",
       "});\n",
       "</script>\n"
      ],
      "text/plain": [
       "<IPython.core.display.HTML object>"
      ]
     },
     "metadata": {},
     "output_type": "display_data"
    }
   ],
   "source": [
    "sm.SimpleGraph(diamond_adjacency, names=\"alpha\").show()"
   ]
  },
  {
   "cell_type": "markdown",
   "metadata": {},
   "source": [
    "## Simple Graph generators"
   ]
  },
  {
   "cell_type": "markdown",
   "metadata": {},
   "source": [
    "For convenience, many graph generators are provided to enable fast graph building."
   ]
  },
  {
   "cell_type": "markdown",
   "metadata": {},
   "source": [
    "### Path graphs"
   ]
  },
  {
   "cell_type": "markdown",
   "metadata": {},
   "source": [
    "Paths are defined by a parameter $n$ (the size, e.g. number of nodes) that defaults to 2."
   ]
  },
  {
   "cell_type": "code",
   "execution_count": 13,
   "metadata": {
    "ExecuteTime": {
     "end_time": "2022-01-14T15:22:09.692960Z",
     "start_time": "2022-01-14T15:22:09.678813Z"
    }
   },
   "outputs": [
    {
     "data": {
      "text/html": [
       "\n",
       "<div id=\"34bb8fc7-b86e-4d2d-bc40-4343807fee2d\"></div>\n",
       "<script>\n",
       "require.config({\n",
       "    paths: {\n",
       "        vis: 'https://unpkg.com/vis-network/standalone/umd/vis-network.min'\n",
       "    }\n",
       "});\n",
       "require(['vis'], function(vis){\n",
       "var nodes = [{\"id\": 0, \"label\": \"0\", \"title\": \"0\"}, {\"id\": 1, \"label\": \"1\", \"title\": \"1\"}];\n",
       "var edges = [{\"from\": 0, \"to\": 1, \"title\": \"0: (0, 1)\", \"label\": \"(0, 1)\"}];\n",
       "var data= {\n",
       "    nodes: nodes,\n",
       "    edges: edges,\n",
       "};\n",
       "var options = {\"interaction\": {\"navigationButtons\": true}, \"width\": \"600px\", \"height\": \"600px\"};\n",
       "var container = document.getElementById('34bb8fc7-b86e-4d2d-bc40-4343807fee2d');\n",
       "var network = new vis.Network(container, data, options);\n",
       "network.fit({\n",
       "  maxZoomLevel: 1000});\n",
       "});\n",
       "</script>\n"
      ],
      "text/plain": [
       "<IPython.core.display.HTML object>"
      ]
     },
     "metadata": {},
     "output_type": "display_data"
    }
   ],
   "source": [
    "sm.path_graph().show()"
   ]
  },
  {
   "cell_type": "code",
   "execution_count": 14,
   "metadata": {
    "ExecuteTime": {
     "end_time": "2022-01-14T15:22:09.708559Z",
     "start_time": "2022-01-14T15:22:09.694557Z"
    }
   },
   "outputs": [
    {
     "data": {
      "text/html": [
       "\n",
       "<div id=\"2828329c-94d0-4285-a593-99374fa91024\"></div>\n",
       "<script>\n",
       "require.config({\n",
       "    paths: {\n",
       "        vis: 'https://unpkg.com/vis-network/standalone/umd/vis-network.min'\n",
       "    }\n",
       "});\n",
       "require(['vis'], function(vis){\n",
       "var nodes = [{\"id\": 0, \"label\": \"A\", \"title\": \"0: A\"}, {\"id\": 1, \"label\": \"B\", \"title\": \"1: B\"}, {\"id\": 2, \"label\": \"C\", \"title\": \"2: C\"}, {\"id\": 3, \"label\": \"D\", \"title\": \"3: D\"}, {\"id\": 4, \"label\": \"E\", \"title\": \"4: E\"}];\n",
       "var edges = [{\"from\": 0, \"to\": 1, \"title\": \"0: (A, B)\", \"label\": \"(A, B)\"}, {\"from\": 1, \"to\": 2, \"title\": \"1: (B, C)\", \"label\": \"(B, C)\"}, {\"from\": 2, \"to\": 3, \"title\": \"2: (C, D)\", \"label\": \"(C, D)\"}, {\"from\": 3, \"to\": 4, \"title\": \"3: (D, E)\", \"label\": \"(D, E)\"}];\n",
       "var data= {\n",
       "    nodes: nodes,\n",
       "    edges: edges,\n",
       "};\n",
       "var options = {\"interaction\": {\"navigationButtons\": true}, \"width\": \"600px\", \"height\": \"600px\"};\n",
       "var container = document.getElementById('2828329c-94d0-4285-a593-99374fa91024');\n",
       "var network = new vis.Network(container, data, options);\n",
       "network.fit({\n",
       "  maxZoomLevel: 1000});\n",
       "});\n",
       "</script>\n"
      ],
      "text/plain": [
       "<IPython.core.display.HTML object>"
      ]
     },
     "metadata": {},
     "output_type": "display_data"
    }
   ],
   "source": [
    "sm.path_graph(names='alpha', n=5).show()"
   ]
  },
  {
   "cell_type": "markdown",
   "metadata": {},
   "source": [
    "### Cycle graphs"
   ]
  },
  {
   "cell_type": "markdown",
   "metadata": {},
   "source": [
    "Cycles are defined by a parameter $n$ that defaults to 3."
   ]
  },
  {
   "cell_type": "code",
   "execution_count": 15,
   "metadata": {
    "ExecuteTime": {
     "end_time": "2022-01-14T15:22:09.724103Z",
     "start_time": "2022-01-14T15:22:09.710555Z"
    }
   },
   "outputs": [
    {
     "data": {
      "text/html": [
       "\n",
       "<div id=\"ffd9c4af-f0c9-4267-9949-7ca05d387bc0\"></div>\n",
       "<script>\n",
       "require.config({\n",
       "    paths: {\n",
       "        vis: 'https://unpkg.com/vis-network/standalone/umd/vis-network.min'\n",
       "    }\n",
       "});\n",
       "require(['vis'], function(vis){\n",
       "var nodes = [{\"id\": 0, \"label\": \"0\", \"title\": \"0\"}, {\"id\": 1, \"label\": \"1\", \"title\": \"1\"}, {\"id\": 2, \"label\": \"2\", \"title\": \"2\"}];\n",
       "var edges = [{\"from\": 0, \"to\": 1, \"title\": \"0: (0, 1)\", \"label\": \"(0, 1)\"}, {\"from\": 0, \"to\": 2, \"title\": \"1: (0, 2)\", \"label\": \"(0, 2)\"}, {\"from\": 1, \"to\": 2, \"title\": \"2: (1, 2)\", \"label\": \"(1, 2)\"}];\n",
       "var data= {\n",
       "    nodes: nodes,\n",
       "    edges: edges,\n",
       "};\n",
       "var options = {\"interaction\": {\"navigationButtons\": true}, \"width\": \"600px\", \"height\": \"600px\"};\n",
       "var container = document.getElementById('ffd9c4af-f0c9-4267-9949-7ca05d387bc0');\n",
       "var network = new vis.Network(container, data, options);\n",
       "network.fit({\n",
       "  maxZoomLevel: 1000});\n",
       "});\n",
       "</script>\n"
      ],
      "text/plain": [
       "<IPython.core.display.HTML object>"
      ]
     },
     "metadata": {},
     "output_type": "display_data"
    }
   ],
   "source": [
    "sm.cycle_graph().show()"
   ]
  },
  {
   "cell_type": "code",
   "execution_count": 16,
   "metadata": {
    "ExecuteTime": {
     "end_time": "2022-01-14T15:22:09.739002Z",
     "start_time": "2022-01-14T15:22:09.726709Z"
    }
   },
   "outputs": [
    {
     "data": {
      "text/html": [
       "\n",
       "<div id=\"99c01620-4b37-461d-8988-492c4ed47372\"></div>\n",
       "<script>\n",
       "require.config({\n",
       "    paths: {\n",
       "        vis: 'https://unpkg.com/vis-network/standalone/umd/vis-network.min'\n",
       "    }\n",
       "});\n",
       "require(['vis'], function(vis){\n",
       "var nodes = [{\"id\": 0, \"label\": \"A\", \"title\": \"0: A\"}, {\"id\": 1, \"label\": \"B\", \"title\": \"1: B\"}, {\"id\": 2, \"label\": \"C\", \"title\": \"2: C\"}, {\"id\": 3, \"label\": \"D\", \"title\": \"3: D\"}, {\"id\": 4, \"label\": \"E\", \"title\": \"4: E\"}];\n",
       "var edges = [{\"from\": 0, \"to\": 1, \"title\": \"0: (A, B)\", \"label\": \"(A, B)\"}, {\"from\": 0, \"to\": 4, \"title\": \"1: (A, E)\", \"label\": \"(A, E)\"}, {\"from\": 1, \"to\": 2, \"title\": \"2: (B, C)\", \"label\": \"(B, C)\"}, {\"from\": 2, \"to\": 3, \"title\": \"3: (C, D)\", \"label\": \"(C, D)\"}, {\"from\": 3, \"to\": 4, \"title\": \"4: (D, E)\", \"label\": \"(D, E)\"}];\n",
       "var data= {\n",
       "    nodes: nodes,\n",
       "    edges: edges,\n",
       "};\n",
       "var options = {\"interaction\": {\"navigationButtons\": true}, \"width\": \"600px\", \"height\": \"600px\"};\n",
       "var container = document.getElementById('99c01620-4b37-461d-8988-492c4ed47372');\n",
       "var network = new vis.Network(container, data, options);\n",
       "network.fit({\n",
       "  maxZoomLevel: 1000});\n",
       "});\n",
       "</script>\n"
      ],
      "text/plain": [
       "<IPython.core.display.HTML object>"
      ]
     },
     "metadata": {},
     "output_type": "display_data"
    }
   ],
   "source": [
    "sm.cycle_graph(names='alpha', n=5).show()"
   ]
  },
  {
   "cell_type": "markdown",
   "metadata": {},
   "source": [
    "### Complete graphs"
   ]
  },
  {
   "cell_type": "markdown",
   "metadata": {},
   "source": [
    "Complete graphs are defined by a parameter $n$ that defaults to 3."
   ]
  },
  {
   "cell_type": "code",
   "execution_count": 17,
   "metadata": {
    "ExecuteTime": {
     "end_time": "2022-01-14T15:22:09.754813Z",
     "start_time": "2022-01-14T15:22:09.741778Z"
    }
   },
   "outputs": [
    {
     "data": {
      "text/html": [
       "\n",
       "<div id=\"135743cd-8d19-4f34-894c-15964b14e2ac\"></div>\n",
       "<script>\n",
       "require.config({\n",
       "    paths: {\n",
       "        vis: 'https://unpkg.com/vis-network/standalone/umd/vis-network.min'\n",
       "    }\n",
       "});\n",
       "require(['vis'], function(vis){\n",
       "var nodes = [{\"id\": 0, \"label\": \"0\", \"title\": \"0\"}, {\"id\": 1, \"label\": \"1\", \"title\": \"1\"}, {\"id\": 2, \"label\": \"2\", \"title\": \"2\"}];\n",
       "var edges = [{\"from\": 0, \"to\": 1, \"title\": \"0: (0, 1)\", \"label\": \"(0, 1)\"}, {\"from\": 0, \"to\": 2, \"title\": \"1: (0, 2)\", \"label\": \"(0, 2)\"}, {\"from\": 1, \"to\": 2, \"title\": \"2: (1, 2)\", \"label\": \"(1, 2)\"}];\n",
       "var data= {\n",
       "    nodes: nodes,\n",
       "    edges: edges,\n",
       "};\n",
       "var options = {\"interaction\": {\"navigationButtons\": true}, \"width\": \"600px\", \"height\": \"600px\"};\n",
       "var container = document.getElementById('135743cd-8d19-4f34-894c-15964b14e2ac');\n",
       "var network = new vis.Network(container, data, options);\n",
       "network.fit({\n",
       "  maxZoomLevel: 1000});\n",
       "});\n",
       "</script>\n"
      ],
      "text/plain": [
       "<IPython.core.display.HTML object>"
      ]
     },
     "metadata": {},
     "output_type": "display_data"
    }
   ],
   "source": [
    "sm.complete_graph().show()"
   ]
  },
  {
   "cell_type": "code",
   "execution_count": 18,
   "metadata": {
    "ExecuteTime": {
     "end_time": "2022-01-14T15:22:09.769668Z",
     "start_time": "2022-01-14T15:22:09.756620Z"
    }
   },
   "outputs": [
    {
     "data": {
      "text/html": [
       "\n",
       "<div id=\"d1ae38dc-6c4b-43a9-8624-24fe660bfc46\"></div>\n",
       "<script>\n",
       "require.config({\n",
       "    paths: {\n",
       "        vis: 'https://unpkg.com/vis-network/standalone/umd/vis-network.min'\n",
       "    }\n",
       "});\n",
       "require(['vis'], function(vis){\n",
       "var nodes = [{\"id\": 0, \"label\": \"A\", \"title\": \"0: A\"}, {\"id\": 1, \"label\": \"B\", \"title\": \"1: B\"}, {\"id\": 2, \"label\": \"C\", \"title\": \"2: C\"}, {\"id\": 3, \"label\": \"D\", \"title\": \"3: D\"}, {\"id\": 4, \"label\": \"E\", \"title\": \"4: E\"}];\n",
       "var edges = [{\"from\": 0, \"to\": 1, \"title\": \"0: (A, B)\", \"label\": \"(A, B)\"}, {\"from\": 0, \"to\": 2, \"title\": \"1: (A, C)\", \"label\": \"(A, C)\"}, {\"from\": 0, \"to\": 3, \"title\": \"2: (A, D)\", \"label\": \"(A, D)\"}, {\"from\": 0, \"to\": 4, \"title\": \"3: (A, E)\", \"label\": \"(A, E)\"}, {\"from\": 1, \"to\": 2, \"title\": \"4: (B, C)\", \"label\": \"(B, C)\"}, {\"from\": 1, \"to\": 3, \"title\": \"5: (B, D)\", \"label\": \"(B, D)\"}, {\"from\": 1, \"to\": 4, \"title\": \"6: (B, E)\", \"label\": \"(B, E)\"}, {\"from\": 2, \"to\": 3, \"title\": \"7: (C, D)\", \"label\": \"(C, D)\"}, {\"from\": 2, \"to\": 4, \"title\": \"8: (C, E)\", \"label\": \"(C, E)\"}, {\"from\": 3, \"to\": 4, \"title\": \"9: (D, E)\", \"label\": \"(D, E)\"}];\n",
       "var data= {\n",
       "    nodes: nodes,\n",
       "    edges: edges,\n",
       "};\n",
       "var options = {\"interaction\": {\"navigationButtons\": true}, \"width\": \"600px\", \"height\": \"600px\"};\n",
       "var container = document.getElementById('d1ae38dc-6c4b-43a9-8624-24fe660bfc46');\n",
       "var network = new vis.Network(container, data, options);\n",
       "network.fit({\n",
       "  maxZoomLevel: 1000});\n",
       "});\n",
       "</script>\n"
      ],
      "text/plain": [
       "<IPython.core.display.HTML object>"
      ]
     },
     "metadata": {},
     "output_type": "display_data"
    }
   ],
   "source": [
    "sm.complete_graph(names='alpha', n=5).show()"
   ]
  },
  {
   "cell_type": "markdown",
   "metadata": {},
   "source": [
    "### Tadpole graphs"
   ]
  },
  {
   "cell_type": "markdown",
   "metadata": {},
   "source": [
    "A tadpole combines a cycle of length $m$ and a path of length $n$. Default is the paw graph ($m=3, n=1$)"
   ]
  },
  {
   "cell_type": "code",
   "execution_count": 19,
   "metadata": {
    "ExecuteTime": {
     "end_time": "2022-01-14T15:22:09.785798Z",
     "start_time": "2022-01-14T15:22:09.771626Z"
    }
   },
   "outputs": [
    {
     "data": {
      "text/html": [
       "\n",
       "<div id=\"9e13065f-4ffb-4d07-bace-8e59ef484fca\"></div>\n",
       "<script>\n",
       "require.config({\n",
       "    paths: {\n",
       "        vis: 'https://unpkg.com/vis-network/standalone/umd/vis-network.min'\n",
       "    }\n",
       "});\n",
       "require(['vis'], function(vis){\n",
       "var nodes = [{\"id\": 0, \"label\": \"0\", \"title\": \"0\"}, {\"id\": 1, \"label\": \"1\", \"title\": \"1\"}, {\"id\": 2, \"label\": \"2\", \"title\": \"2\"}, {\"id\": 3, \"label\": \"3\", \"title\": \"3\"}];\n",
       "var edges = [{\"from\": 0, \"to\": 1, \"title\": \"0: (0, 1)\", \"label\": \"(0, 1)\"}, {\"from\": 0, \"to\": 2, \"title\": \"1: (0, 2)\", \"label\": \"(0, 2)\"}, {\"from\": 1, \"to\": 2, \"title\": \"2: (1, 2)\", \"label\": \"(1, 2)\"}, {\"from\": 2, \"to\": 3, \"title\": \"3: (2, 3)\", \"label\": \"(2, 3)\"}];\n",
       "var data= {\n",
       "    nodes: nodes,\n",
       "    edges: edges,\n",
       "};\n",
       "var options = {\"interaction\": {\"navigationButtons\": true}, \"width\": \"600px\", \"height\": \"600px\"};\n",
       "var container = document.getElementById('9e13065f-4ffb-4d07-bace-8e59ef484fca');\n",
       "var network = new vis.Network(container, data, options);\n",
       "network.fit({\n",
       "  maxZoomLevel: 1000});\n",
       "});\n",
       "</script>\n"
      ],
      "text/plain": [
       "<IPython.core.display.HTML object>"
      ]
     },
     "metadata": {},
     "output_type": "display_data"
    }
   ],
   "source": [
    "# Paw graph\n",
    "sm.tadpole_graph().show()"
   ]
  },
  {
   "cell_type": "code",
   "execution_count": 20,
   "metadata": {
    "ExecuteTime": {
     "end_time": "2022-01-14T15:22:09.800830Z",
     "start_time": "2022-01-14T15:22:09.787827Z"
    }
   },
   "outputs": [
    {
     "data": {
      "text/html": [
       "\n",
       "<div id=\"75c03176-f3e4-4630-ae2c-cb195440a3d3\"></div>\n",
       "<script>\n",
       "require.config({\n",
       "    paths: {\n",
       "        vis: 'https://unpkg.com/vis-network/standalone/umd/vis-network.min'\n",
       "    }\n",
       "});\n",
       "require(['vis'], function(vis){\n",
       "var nodes = [{\"id\": 0, \"label\": \"0\", \"title\": \"0\"}, {\"id\": 1, \"label\": \"1\", \"title\": \"1\"}, {\"id\": 2, \"label\": \"2\", \"title\": \"2\"}, {\"id\": 3, \"label\": \"3\", \"title\": \"3\"}, {\"id\": 4, \"label\": \"4\", \"title\": \"4\"}, {\"id\": 5, \"label\": \"5\", \"title\": \"5\"}, {\"id\": 6, \"label\": \"6\", \"title\": \"6\"}];\n",
       "var edges = [{\"from\": 0, \"to\": 1, \"title\": \"0: (0, 1)\", \"label\": \"(0, 1)\"}, {\"from\": 0, \"to\": 2, \"title\": \"1: (0, 2)\", \"label\": \"(0, 2)\"}, {\"from\": 1, \"to\": 2, \"title\": \"2: (1, 2)\", \"label\": \"(1, 2)\"}, {\"from\": 2, \"to\": 3, \"title\": \"3: (2, 3)\", \"label\": \"(2, 3)\"}, {\"from\": 3, \"to\": 4, \"title\": \"4: (3, 4)\", \"label\": \"(3, 4)\"}, {\"from\": 4, \"to\": 5, \"title\": \"5: (4, 5)\", \"label\": \"(4, 5)\"}, {\"from\": 5, \"to\": 6, \"title\": \"6: (5, 6)\", \"label\": \"(5, 6)\"}];\n",
       "var data= {\n",
       "    nodes: nodes,\n",
       "    edges: edges,\n",
       "};\n",
       "var options = {\"interaction\": {\"navigationButtons\": true}, \"width\": \"600px\", \"height\": \"600px\"};\n",
       "var container = document.getElementById('75c03176-f3e4-4630-ae2c-cb195440a3d3');\n",
       "var network = new vis.Network(container, data, options);\n",
       "network.fit({\n",
       "  maxZoomLevel: 1000});\n",
       "});\n",
       "</script>\n"
      ],
      "text/plain": [
       "<IPython.core.display.HTML object>"
      ]
     },
     "metadata": {},
     "output_type": "display_data"
    }
   ],
   "source": [
    "sm.tadpole_graph(n=4).show()"
   ]
  },
  {
   "cell_type": "code",
   "execution_count": 21,
   "metadata": {
    "ExecuteTime": {
     "end_time": "2022-01-14T15:22:09.816274Z",
     "start_time": "2022-01-14T15:22:09.803258Z"
    }
   },
   "outputs": [
    {
     "data": {
      "text/html": [
       "\n",
       "<div id=\"df9f095a-6ef3-4f39-be3e-c4cb5507a0bc\"></div>\n",
       "<script>\n",
       "require.config({\n",
       "    paths: {\n",
       "        vis: 'https://unpkg.com/vis-network/standalone/umd/vis-network.min'\n",
       "    }\n",
       "});\n",
       "require(['vis'], function(vis){\n",
       "var nodes = [{\"id\": 0, \"label\": \"0\", \"title\": \"0\"}, {\"id\": 1, \"label\": \"1\", \"title\": \"1\"}, {\"id\": 2, \"label\": \"2\", \"title\": \"2\"}, {\"id\": 3, \"label\": \"3\", \"title\": \"3\"}, {\"id\": 4, \"label\": \"4\", \"title\": \"4\"}];\n",
       "var edges = [{\"from\": 0, \"to\": 1, \"title\": \"0: (0, 1)\", \"label\": \"(0, 1)\"}, {\"from\": 0, \"to\": 3, \"title\": \"1: (0, 3)\", \"label\": \"(0, 3)\"}, {\"from\": 1, \"to\": 2, \"title\": \"2: (1, 2)\", \"label\": \"(1, 2)\"}, {\"from\": 2, \"to\": 3, \"title\": \"3: (2, 3)\", \"label\": \"(2, 3)\"}, {\"from\": 3, \"to\": 4, \"title\": \"4: (3, 4)\", \"label\": \"(3, 4)\"}];\n",
       "var data= {\n",
       "    nodes: nodes,\n",
       "    edges: edges,\n",
       "};\n",
       "var options = {\"interaction\": {\"navigationButtons\": true}, \"width\": \"600px\", \"height\": \"600px\"};\n",
       "var container = document.getElementById('df9f095a-6ef3-4f39-be3e-c4cb5507a0bc');\n",
       "var network = new vis.Network(container, data, options);\n",
       "network.fit({\n",
       "  maxZoomLevel: 1000});\n",
       "});\n",
       "</script>\n"
      ],
      "text/plain": [
       "<IPython.core.display.HTML object>"
      ]
     },
     "metadata": {},
     "output_type": "display_data"
    }
   ],
   "source": [
    "# Banner graph\n",
    "sm.tadpole_graph(m=4).show()"
   ]
  },
  {
   "cell_type": "code",
   "execution_count": 22,
   "metadata": {
    "ExecuteTime": {
     "end_time": "2022-01-14T15:22:09.832515Z",
     "start_time": "2022-01-14T15:22:09.819010Z"
    }
   },
   "outputs": [
    {
     "data": {
      "text/html": [
       "\n",
       "<div id=\"5894eb53-d2c0-4bb8-b390-e36419e33e07\"></div>\n",
       "<script>\n",
       "require.config({\n",
       "    paths: {\n",
       "        vis: 'https://unpkg.com/vis-network/standalone/umd/vis-network.min'\n",
       "    }\n",
       "});\n",
       "require(['vis'], function(vis){\n",
       "var nodes = [{\"id\": 0, \"label\": \"Dubhe\", \"title\": \"0: Dubhe\"}, {\"id\": 1, \"label\": \"Merak\", \"title\": \"1: Merak\"}, {\"id\": 2, \"label\": \"Phecda\", \"title\": \"2: Phecda\"}, {\"id\": 3, \"label\": \"Megrez\", \"title\": \"3: Megrez\"}, {\"id\": 4, \"label\": \"Alioth\", \"title\": \"4: Alioth\"}, {\"id\": 5, \"label\": \"Mizar\", \"title\": \"5: Mizar\"}, {\"id\": 6, \"label\": \"Alkaid\", \"title\": \"6: Alkaid\"}];\n",
       "var edges = [{\"from\": 0, \"to\": 1, \"title\": \"0: (Dubhe, Merak)\", \"label\": \"(Dubhe, Merak)\"}, {\"from\": 0, \"to\": 3, \"title\": \"1: (Dubhe, Megrez)\", \"label\": \"(Dubhe, Megrez)\"}, {\"from\": 1, \"to\": 2, \"title\": \"2: (Merak, Phecda)\", \"label\": \"(Merak, Phecda)\"}, {\"from\": 2, \"to\": 3, \"title\": \"3: (Phecda, Megrez)\", \"label\": \"(Phecda, Megrez)\"}, {\"from\": 3, \"to\": 4, \"title\": \"4: (Megrez, Alioth)\", \"label\": \"(Megrez, Alioth)\"}, {\"from\": 4, \"to\": 5, \"title\": \"5: (Alioth, Mizar)\", \"label\": \"(Alioth, Mizar)\"}, {\"from\": 5, \"to\": 6, \"title\": \"6: (Mizar, Alkaid)\", \"label\": \"(Mizar, Alkaid)\"}];\n",
       "var data= {\n",
       "    nodes: nodes,\n",
       "    edges: edges,\n",
       "};\n",
       "var options = {\"interaction\": {\"navigationButtons\": true}, \"width\": \"600px\", \"height\": \"600px\"};\n",
       "var container = document.getElementById('5894eb53-d2c0-4bb8-b390-e36419e33e07');\n",
       "var network = new vis.Network(container, data, options);\n",
       "network.fit({\n",
       "  maxZoomLevel: 1000});\n",
       "});\n",
       "</script>\n"
      ],
      "text/plain": [
       "<IPython.core.display.HTML object>"
      ]
     },
     "metadata": {},
     "output_type": "display_data"
    }
   ],
   "source": [
    "# Ursa major\n",
    "sm.tadpole_graph(n=3, m=4, names = ['Dubhe', 'Merak', 'Phecda', 'Megrez', 'Alioth', 'Mizar', 'Alkaid']).show()"
   ]
  },
  {
   "cell_type": "markdown",
   "metadata": {},
   "source": [
    "### Lollipop graphs"
   ]
  },
  {
   "cell_type": "markdown",
   "metadata": {},
   "source": [
    "A lollipop combines a complete graph of size $m$ and a path of length $n$. Default is the paw graph ($m=3, n=1$)"
   ]
  },
  {
   "cell_type": "code",
   "execution_count": 23,
   "metadata": {
    "ExecuteTime": {
     "end_time": "2022-01-14T15:22:09.848025Z",
     "start_time": "2022-01-14T15:22:09.835852Z"
    }
   },
   "outputs": [
    {
     "data": {
      "text/html": [
       "\n",
       "<div id=\"87307e2f-4eef-42c3-96f7-e40c6cf145ae\"></div>\n",
       "<script>\n",
       "require.config({\n",
       "    paths: {\n",
       "        vis: 'https://unpkg.com/vis-network/standalone/umd/vis-network.min'\n",
       "    }\n",
       "});\n",
       "require(['vis'], function(vis){\n",
       "var nodes = [{\"id\": 0, \"label\": \"0\", \"title\": \"0\"}, {\"id\": 1, \"label\": \"1\", \"title\": \"1\"}, {\"id\": 2, \"label\": \"2\", \"title\": \"2\"}, {\"id\": 3, \"label\": \"3\", \"title\": \"3\"}];\n",
       "var edges = [{\"from\": 0, \"to\": 1, \"title\": \"0: (0, 1)\", \"label\": \"(0, 1)\"}, {\"from\": 0, \"to\": 2, \"title\": \"1: (0, 2)\", \"label\": \"(0, 2)\"}, {\"from\": 1, \"to\": 2, \"title\": \"2: (1, 2)\", \"label\": \"(1, 2)\"}, {\"from\": 2, \"to\": 3, \"title\": \"3: (2, 3)\", \"label\": \"(2, 3)\"}];\n",
       "var data= {\n",
       "    nodes: nodes,\n",
       "    edges: edges,\n",
       "};\n",
       "var options = {\"interaction\": {\"navigationButtons\": true}, \"width\": \"600px\", \"height\": \"600px\"};\n",
       "var container = document.getElementById('87307e2f-4eef-42c3-96f7-e40c6cf145ae');\n",
       "var network = new vis.Network(container, data, options);\n",
       "network.fit({\n",
       "  maxZoomLevel: 1000});\n",
       "});\n",
       "</script>\n"
      ],
      "text/plain": [
       "<IPython.core.display.HTML object>"
      ]
     },
     "metadata": {},
     "output_type": "display_data"
    }
   ],
   "source": [
    "# Paw graph\n",
    "sm.lollipop_graph().show()"
   ]
  },
  {
   "cell_type": "code",
   "execution_count": 24,
   "metadata": {
    "ExecuteTime": {
     "end_time": "2022-01-14T15:22:09.863881Z",
     "start_time": "2022-01-14T15:22:09.850743Z"
    }
   },
   "outputs": [
    {
     "data": {
      "text/html": [
       "\n",
       "<div id=\"a7ecaf0c-620d-410f-999e-9a84b50f0e1f\"></div>\n",
       "<script>\n",
       "require.config({\n",
       "    paths: {\n",
       "        vis: 'https://unpkg.com/vis-network/standalone/umd/vis-network.min'\n",
       "    }\n",
       "});\n",
       "require(['vis'], function(vis){\n",
       "var nodes = [{\"id\": 0, \"label\": \"0\", \"title\": \"0\"}, {\"id\": 1, \"label\": \"1\", \"title\": \"1\"}, {\"id\": 2, \"label\": \"2\", \"title\": \"2\"}, {\"id\": 3, \"label\": \"3\", \"title\": \"3\"}, {\"id\": 4, \"label\": \"4\", \"title\": \"4\"}];\n",
       "var edges = [{\"from\": 0, \"to\": 1, \"title\": \"0: (0, 1)\", \"label\": \"(0, 1)\"}, {\"from\": 0, \"to\": 2, \"title\": \"1: (0, 2)\", \"label\": \"(0, 2)\"}, {\"from\": 0, \"to\": 3, \"title\": \"2: (0, 3)\", \"label\": \"(0, 3)\"}, {\"from\": 1, \"to\": 2, \"title\": \"3: (1, 2)\", \"label\": \"(1, 2)\"}, {\"from\": 1, \"to\": 3, \"title\": \"4: (1, 3)\", \"label\": \"(1, 3)\"}, {\"from\": 2, \"to\": 3, \"title\": \"5: (2, 3)\", \"label\": \"(2, 3)\"}, {\"from\": 3, \"to\": 4, \"title\": \"6: (3, 4)\", \"label\": \"(3, 4)\"}];\n",
       "var data= {\n",
       "    nodes: nodes,\n",
       "    edges: edges,\n",
       "};\n",
       "var options = {\"interaction\": {\"navigationButtons\": true}, \"width\": \"600px\", \"height\": \"600px\"};\n",
       "var container = document.getElementById('a7ecaf0c-620d-410f-999e-9a84b50f0e1f');\n",
       "var network = new vis.Network(container, data, options);\n",
       "network.fit({\n",
       "  maxZoomLevel: 1000});\n",
       "});\n",
       "</script>\n"
      ],
      "text/plain": [
       "<IPython.core.display.HTML object>"
      ]
     },
     "metadata": {},
     "output_type": "display_data"
    }
   ],
   "source": [
    "sm.lollipop_graph(m=4).show()"
   ]
  },
  {
   "cell_type": "code",
   "execution_count": 25,
   "metadata": {
    "ExecuteTime": {
     "end_time": "2022-01-14T15:22:09.879726Z",
     "start_time": "2022-01-14T15:22:09.865592Z"
    }
   },
   "outputs": [
    {
     "data": {
      "text/html": [
       "\n",
       "<div id=\"a1c1198e-3c26-4cd6-819a-bd40620b50f8\"></div>\n",
       "<script>\n",
       "require.config({\n",
       "    paths: {\n",
       "        vis: 'https://unpkg.com/vis-network/standalone/umd/vis-network.min'\n",
       "    }\n",
       "});\n",
       "require(['vis'], function(vis){\n",
       "var nodes = [{\"id\": 0, \"label\": \"0\", \"title\": \"0\"}, {\"id\": 1, \"label\": \"1\", \"title\": \"1\"}, {\"id\": 2, \"label\": \"2\", \"title\": \"2\"}, {\"id\": 3, \"label\": \"3\", \"title\": \"3\"}, {\"id\": 4, \"label\": \"4\", \"title\": \"4\"}, {\"id\": 5, \"label\": \"5\", \"title\": \"5\"}, {\"id\": 6, \"label\": \"6\", \"title\": \"6\"}, {\"id\": 7, \"label\": \"7\", \"title\": \"7\"}];\n",
       "var edges = [{\"from\": 0, \"to\": 1, \"title\": \"0: (0, 1)\", \"label\": \"(0, 1)\"}, {\"from\": 0, \"to\": 2, \"title\": \"1: (0, 2)\", \"label\": \"(0, 2)\"}, {\"from\": 0, \"to\": 3, \"title\": \"2: (0, 3)\", \"label\": \"(0, 3)\"}, {\"from\": 0, \"to\": 4, \"title\": \"3: (0, 4)\", \"label\": \"(0, 4)\"}, {\"from\": 1, \"to\": 2, \"title\": \"4: (1, 2)\", \"label\": \"(1, 2)\"}, {\"from\": 1, \"to\": 3, \"title\": \"5: (1, 3)\", \"label\": \"(1, 3)\"}, {\"from\": 1, \"to\": 4, \"title\": \"6: (1, 4)\", \"label\": \"(1, 4)\"}, {\"from\": 2, \"to\": 3, \"title\": \"7: (2, 3)\", \"label\": \"(2, 3)\"}, {\"from\": 2, \"to\": 4, \"title\": \"8: (2, 4)\", \"label\": \"(2, 4)\"}, {\"from\": 3, \"to\": 4, \"title\": \"9: (3, 4)\", \"label\": \"(3, 4)\"}, {\"from\": 4, \"to\": 5, \"title\": \"10: (4, 5)\", \"label\": \"(4, 5)\"}, {\"from\": 5, \"to\": 6, \"title\": \"11: (5, 6)\", \"label\": \"(5, 6)\"}, {\"from\": 6, \"to\": 7, \"title\": \"12: (6, 7)\", \"label\": \"(6, 7)\"}];\n",
       "var data= {\n",
       "    nodes: nodes,\n",
       "    edges: edges,\n",
       "};\n",
       "var options = {\"interaction\": {\"navigationButtons\": true}, \"width\": \"600px\", \"height\": \"600px\"};\n",
       "var container = document.getElementById('a1c1198e-3c26-4cd6-819a-bd40620b50f8');\n",
       "var network = new vis.Network(container, data, options);\n",
       "network.fit({\n",
       "  maxZoomLevel: 1000});\n",
       "});\n",
       "</script>\n"
      ],
      "text/plain": [
       "<IPython.core.display.HTML object>"
      ]
     },
     "metadata": {},
     "output_type": "display_data"
    }
   ],
   "source": [
    "sm.lollipop_graph(n=3, m=5).show()"
   ]
  },
  {
   "cell_type": "markdown",
   "metadata": {},
   "source": [
    "### Kayak paddle graphs"
   ]
  },
  {
   "cell_type": "markdown",
   "metadata": {},
   "source": [
    "Combines a cycle of length $k$, a path of length $l$, and a cycle of length $m$. Defaults to $k=3, l=1, m=k$."
   ]
  },
  {
   "cell_type": "code",
   "execution_count": 26,
   "metadata": {
    "ExecuteTime": {
     "end_time": "2022-01-14T15:22:09.894767Z",
     "start_time": "2022-01-14T15:22:09.881769Z"
    }
   },
   "outputs": [
    {
     "data": {
      "text/html": [
       "\n",
       "<div id=\"42f9d8a6-68b7-4546-8299-83413161c11f\"></div>\n",
       "<script>\n",
       "require.config({\n",
       "    paths: {\n",
       "        vis: 'https://unpkg.com/vis-network/standalone/umd/vis-network.min'\n",
       "    }\n",
       "});\n",
       "require(['vis'], function(vis){\n",
       "var nodes = [{\"id\": 0, \"label\": \"0\", \"title\": \"0\"}, {\"id\": 1, \"label\": \"1\", \"title\": \"1\"}, {\"id\": 2, \"label\": \"2\", \"title\": \"2\"}, {\"id\": 3, \"label\": \"3\", \"title\": \"3\"}, {\"id\": 4, \"label\": \"4\", \"title\": \"4\"}, {\"id\": 5, \"label\": \"5\", \"title\": \"5\"}];\n",
       "var edges = [{\"from\": 0, \"to\": 1, \"title\": \"0: (0, 1)\", \"label\": \"(0, 1)\"}, {\"from\": 0, \"to\": 2, \"title\": \"1: (0, 2)\", \"label\": \"(0, 2)\"}, {\"from\": 1, \"to\": 2, \"title\": \"2: (1, 2)\", \"label\": \"(1, 2)\"}, {\"from\": 2, \"to\": 3, \"title\": \"3: (2, 3)\", \"label\": \"(2, 3)\"}, {\"from\": 3, \"to\": 4, \"title\": \"4: (3, 4)\", \"label\": \"(3, 4)\"}, {\"from\": 3, \"to\": 5, \"title\": \"5: (3, 5)\", \"label\": \"(3, 5)\"}, {\"from\": 4, \"to\": 5, \"title\": \"6: (4, 5)\", \"label\": \"(4, 5)\"}];\n",
       "var data= {\n",
       "    nodes: nodes,\n",
       "    edges: edges,\n",
       "};\n",
       "var options = {\"interaction\": {\"navigationButtons\": true}, \"width\": \"600px\", \"height\": \"600px\"};\n",
       "var container = document.getElementById('42f9d8a6-68b7-4546-8299-83413161c11f');\n",
       "var network = new vis.Network(container, data, options);\n",
       "network.fit({\n",
       "  maxZoomLevel: 1000});\n",
       "});\n",
       "</script>\n"
      ],
      "text/plain": [
       "<IPython.core.display.HTML object>"
      ]
     },
     "metadata": {},
     "output_type": "display_data"
    }
   ],
   "source": [
    "sm.kayak_paddle_graph().show()"
   ]
  },
  {
   "cell_type": "code",
   "execution_count": 27,
   "metadata": {
    "ExecuteTime": {
     "end_time": "2022-01-14T15:22:09.910395Z",
     "start_time": "2022-01-14T15:22:09.896770Z"
    }
   },
   "outputs": [
    {
     "data": {
      "text/html": [
       "\n",
       "<div id=\"16130237-6119-4673-a95e-7403d6eb27e7\"></div>\n",
       "<script>\n",
       "require.config({\n",
       "    paths: {\n",
       "        vis: 'https://unpkg.com/vis-network/standalone/umd/vis-network.min'\n",
       "    }\n",
       "});\n",
       "require(['vis'], function(vis){\n",
       "var nodes = [{\"id\": 0, \"label\": \"0\", \"title\": \"0\"}, {\"id\": 1, \"label\": \"1\", \"title\": \"1\"}, {\"id\": 2, \"label\": \"2\", \"title\": \"2\"}, {\"id\": 3, \"label\": \"3\", \"title\": \"3\"}, {\"id\": 4, \"label\": \"4\", \"title\": \"4\"}, {\"id\": 5, \"label\": \"5\", \"title\": \"5\"}, {\"id\": 6, \"label\": \"6\", \"title\": \"6\"}, {\"id\": 7, \"label\": \"7\", \"title\": \"7\"}, {\"id\": 8, \"label\": \"8\", \"title\": \"8\"}, {\"id\": 9, \"label\": \"9\", \"title\": \"9\"}, {\"id\": 10, \"label\": \"10\", \"title\": \"10\"}];\n",
       "var edges = [{\"from\": 0, \"to\": 1, \"title\": \"0: (0, 1)\", \"label\": \"(0, 1)\"}, {\"from\": 0, \"to\": 4, \"title\": \"1: (0, 4)\", \"label\": \"(0, 4)\"}, {\"from\": 1, \"to\": 2, \"title\": \"2: (1, 2)\", \"label\": \"(1, 2)\"}, {\"from\": 2, \"to\": 3, \"title\": \"3: (2, 3)\", \"label\": \"(2, 3)\"}, {\"from\": 3, \"to\": 4, \"title\": \"4: (3, 4)\", \"label\": \"(3, 4)\"}, {\"from\": 4, \"to\": 5, \"title\": \"5: (4, 5)\", \"label\": \"(4, 5)\"}, {\"from\": 5, \"to\": 6, \"title\": \"6: (5, 6)\", \"label\": \"(5, 6)\"}, {\"from\": 6, \"to\": 7, \"title\": \"7: (6, 7)\", \"label\": \"(6, 7)\"}, {\"from\": 6, \"to\": 10, \"title\": \"8: (6, 10)\", \"label\": \"(6, 10)\"}, {\"from\": 7, \"to\": 8, \"title\": \"9: (7, 8)\", \"label\": \"(7, 8)\"}, {\"from\": 8, \"to\": 9, \"title\": \"10: (8, 9)\", \"label\": \"(8, 9)\"}, {\"from\": 9, \"to\": 10, \"title\": \"11: (9, 10)\", \"label\": \"(9, 10)\"}];\n",
       "var data= {\n",
       "    nodes: nodes,\n",
       "    edges: edges,\n",
       "};\n",
       "var options = {\"interaction\": {\"navigationButtons\": true}, \"width\": \"600px\", \"height\": \"600px\"};\n",
       "var container = document.getElementById('16130237-6119-4673-a95e-7403d6eb27e7');\n",
       "var network = new vis.Network(container, data, options);\n",
       "network.fit({\n",
       "  maxZoomLevel: 1000});\n",
       "});\n",
       "</script>\n"
      ],
      "text/plain": [
       "<IPython.core.display.HTML object>"
      ]
     },
     "metadata": {},
     "output_type": "display_data"
    }
   ],
   "source": [
    "sm.kayak_paddle_graph(5, 2).show()"
   ]
  },
  {
   "cell_type": "code",
   "execution_count": 28,
   "metadata": {
    "ExecuteTime": {
     "end_time": "2022-01-14T15:22:09.926419Z",
     "start_time": "2022-01-14T15:22:09.914420Z"
    }
   },
   "outputs": [
    {
     "data": {
      "text/html": [
       "\n",
       "<div id=\"3fbac78d-3c92-4fd7-8d48-7ec8813fb9d0\"></div>\n",
       "<script>\n",
       "require.config({\n",
       "    paths: {\n",
       "        vis: 'https://unpkg.com/vis-network/standalone/umd/vis-network.min'\n",
       "    }\n",
       "});\n",
       "require(['vis'], function(vis){\n",
       "var nodes = [{\"id\": 0, \"label\": \"0\", \"title\": \"0\"}, {\"id\": 1, \"label\": \"1\", \"title\": \"1\"}, {\"id\": 2, \"label\": \"2\", \"title\": \"2\"}, {\"id\": 3, \"label\": \"3\", \"title\": \"3\"}, {\"id\": 4, \"label\": \"4\", \"title\": \"4\"}, {\"id\": 5, \"label\": \"5\", \"title\": \"5\"}];\n",
       "var edges = [{\"from\": 0, \"to\": 1, \"title\": \"0: (0, 1)\", \"label\": \"(0, 1)\"}, {\"from\": 0, \"to\": 2, \"title\": \"1: (0, 2)\", \"label\": \"(0, 2)\"}, {\"from\": 1, \"to\": 2, \"title\": \"2: (1, 2)\", \"label\": \"(1, 2)\"}, {\"from\": 2, \"to\": 3, \"title\": \"3: (2, 3)\", \"label\": \"(2, 3)\"}, {\"from\": 2, \"to\": 5, \"title\": \"4: (2, 5)\", \"label\": \"(2, 5)\"}, {\"from\": 3, \"to\": 4, \"title\": \"5: (3, 4)\", \"label\": \"(3, 4)\"}, {\"from\": 4, \"to\": 5, \"title\": \"6: (4, 5)\", \"label\": \"(4, 5)\"}];\n",
       "var data= {\n",
       "    nodes: nodes,\n",
       "    edges: edges,\n",
       "};\n",
       "var options = {\"interaction\": {\"navigationButtons\": true}, \"width\": \"600px\", \"height\": \"600px\"};\n",
       "var container = document.getElementById('3fbac78d-3c92-4fd7-8d48-7ec8813fb9d0');\n",
       "var network = new vis.Network(container, data, options);\n",
       "network.fit({\n",
       "  maxZoomLevel: 1000});\n",
       "});\n",
       "</script>\n"
      ],
      "text/plain": [
       "<IPython.core.display.HTML object>"
      ]
     },
     "metadata": {},
     "output_type": "display_data"
    }
   ],
   "source": [
    "## Fish graph\n",
    "sm.kayak_paddle_graph(l=0, m=4).show()"
   ]
  },
  {
   "cell_type": "markdown",
   "metadata": {},
   "source": [
    "### Barbell graph"
   ]
  },
  {
   "cell_type": "markdown",
   "metadata": {},
   "source": [
    "Combines a complete graph of size $k$, a path of length $l$, and a complete graph of size $m$. Defaults to $k=3, l=1, m=k$."
   ]
  },
  {
   "cell_type": "code",
   "execution_count": 29,
   "metadata": {
    "ExecuteTime": {
     "end_time": "2022-01-14T15:22:09.942464Z",
     "start_time": "2022-01-14T15:22:09.928420Z"
    }
   },
   "outputs": [
    {
     "data": {
      "text/html": [
       "\n",
       "<div id=\"e6b13710-854a-464d-9d18-1d0b38137c51\"></div>\n",
       "<script>\n",
       "require.config({\n",
       "    paths: {\n",
       "        vis: 'https://unpkg.com/vis-network/standalone/umd/vis-network.min'\n",
       "    }\n",
       "});\n",
       "require(['vis'], function(vis){\n",
       "var nodes = [{\"id\": 0, \"label\": \"0\", \"title\": \"0\"}, {\"id\": 1, \"label\": \"1\", \"title\": \"1\"}, {\"id\": 2, \"label\": \"2\", \"title\": \"2\"}, {\"id\": 3, \"label\": \"3\", \"title\": \"3\"}, {\"id\": 4, \"label\": \"4\", \"title\": \"4\"}, {\"id\": 5, \"label\": \"5\", \"title\": \"5\"}];\n",
       "var edges = [{\"from\": 0, \"to\": 1, \"title\": \"0: (0, 1)\", \"label\": \"(0, 1)\"}, {\"from\": 0, \"to\": 2, \"title\": \"1: (0, 2)\", \"label\": \"(0, 2)\"}, {\"from\": 1, \"to\": 2, \"title\": \"2: (1, 2)\", \"label\": \"(1, 2)\"}, {\"from\": 2, \"to\": 3, \"title\": \"3: (2, 3)\", \"label\": \"(2, 3)\"}, {\"from\": 3, \"to\": 4, \"title\": \"4: (3, 4)\", \"label\": \"(3, 4)\"}, {\"from\": 3, \"to\": 5, \"title\": \"5: (3, 5)\", \"label\": \"(3, 5)\"}, {\"from\": 4, \"to\": 5, \"title\": \"6: (4, 5)\", \"label\": \"(4, 5)\"}];\n",
       "var data= {\n",
       "    nodes: nodes,\n",
       "    edges: edges,\n",
       "};\n",
       "var options = {\"interaction\": {\"navigationButtons\": true}, \"width\": \"600px\", \"height\": \"600px\"};\n",
       "var container = document.getElementById('e6b13710-854a-464d-9d18-1d0b38137c51');\n",
       "var network = new vis.Network(container, data, options);\n",
       "network.fit({\n",
       "  maxZoomLevel: 1000});\n",
       "});\n",
       "</script>\n"
      ],
      "text/plain": [
       "<IPython.core.display.HTML object>"
      ]
     },
     "metadata": {},
     "output_type": "display_data"
    }
   ],
   "source": [
    "sm.barbell_graph().show()"
   ]
  },
  {
   "cell_type": "code",
   "execution_count": 30,
   "metadata": {
    "ExecuteTime": {
     "end_time": "2022-01-14T15:22:09.957892Z",
     "start_time": "2022-01-14T15:22:09.945700Z"
    }
   },
   "outputs": [
    {
     "data": {
      "text/html": [
       "\n",
       "<div id=\"22936897-d104-4106-94f6-36753962fac4\"></div>\n",
       "<script>\n",
       "require.config({\n",
       "    paths: {\n",
       "        vis: 'https://unpkg.com/vis-network/standalone/umd/vis-network.min'\n",
       "    }\n",
       "});\n",
       "require(['vis'], function(vis){\n",
       "var nodes = [{\"id\": 0, \"label\": \"0\", \"title\": \"0\"}, {\"id\": 1, \"label\": \"1\", \"title\": \"1\"}, {\"id\": 2, \"label\": \"2\", \"title\": \"2\"}, {\"id\": 3, \"label\": \"3\", \"title\": \"3\"}, {\"id\": 4, \"label\": \"4\", \"title\": \"4\"}, {\"id\": 5, \"label\": \"5\", \"title\": \"5\"}, {\"id\": 6, \"label\": \"6\", \"title\": \"6\"}, {\"id\": 7, \"label\": \"7\", \"title\": \"7\"}, {\"id\": 8, \"label\": \"8\", \"title\": \"8\"}, {\"id\": 9, \"label\": \"9\", \"title\": \"9\"}, {\"id\": 10, \"label\": \"10\", \"title\": \"10\"}];\n",
       "var edges = [{\"from\": 0, \"to\": 1, \"title\": \"0: (0, 1)\", \"label\": \"(0, 1)\"}, {\"from\": 0, \"to\": 2, \"title\": \"1: (0, 2)\", \"label\": \"(0, 2)\"}, {\"from\": 0, \"to\": 3, \"title\": \"2: (0, 3)\", \"label\": \"(0, 3)\"}, {\"from\": 0, \"to\": 4, \"title\": \"3: (0, 4)\", \"label\": \"(0, 4)\"}, {\"from\": 1, \"to\": 2, \"title\": \"4: (1, 2)\", \"label\": \"(1, 2)\"}, {\"from\": 1, \"to\": 3, \"title\": \"5: (1, 3)\", \"label\": \"(1, 3)\"}, {\"from\": 1, \"to\": 4, \"title\": \"6: (1, 4)\", \"label\": \"(1, 4)\"}, {\"from\": 2, \"to\": 3, \"title\": \"7: (2, 3)\", \"label\": \"(2, 3)\"}, {\"from\": 2, \"to\": 4, \"title\": \"8: (2, 4)\", \"label\": \"(2, 4)\"}, {\"from\": 3, \"to\": 4, \"title\": \"9: (3, 4)\", \"label\": \"(3, 4)\"}, {\"from\": 4, \"to\": 5, \"title\": \"10: (4, 5)\", \"label\": \"(4, 5)\"}, {\"from\": 5, \"to\": 6, \"title\": \"11: (5, 6)\", \"label\": \"(5, 6)\"}, {\"from\": 6, \"to\": 7, \"title\": \"12: (6, 7)\", \"label\": \"(6, 7)\"}, {\"from\": 6, \"to\": 8, \"title\": \"13: (6, 8)\", \"label\": \"(6, 8)\"}, {\"from\": 6, \"to\": 9, \"title\": \"14: (6, 9)\", \"label\": \"(6, 9)\"}, {\"from\": 6, \"to\": 10, \"title\": \"15: (6, 10)\", \"label\": \"(6, 10)\"}, {\"from\": 7, \"to\": 8, \"title\": \"16: (7, 8)\", \"label\": \"(7, 8)\"}, {\"from\": 7, \"to\": 9, \"title\": \"17: (7, 9)\", \"label\": \"(7, 9)\"}, {\"from\": 7, \"to\": 10, \"title\": \"18: (7, 10)\", \"label\": \"(7, 10)\"}, {\"from\": 8, \"to\": 9, \"title\": \"19: (8, 9)\", \"label\": \"(8, 9)\"}, {\"from\": 8, \"to\": 10, \"title\": \"20: (8, 10)\", \"label\": \"(8, 10)\"}, {\"from\": 9, \"to\": 10, \"title\": \"21: (9, 10)\", \"label\": \"(9, 10)\"}];\n",
       "var data= {\n",
       "    nodes: nodes,\n",
       "    edges: edges,\n",
       "};\n",
       "var options = {\"interaction\": {\"navigationButtons\": true}, \"width\": \"600px\", \"height\": \"600px\"};\n",
       "var container = document.getElementById('22936897-d104-4106-94f6-36753962fac4');\n",
       "var network = new vis.Network(container, data, options);\n",
       "network.fit({\n",
       "  maxZoomLevel: 1000});\n",
       "});\n",
       "</script>\n"
      ],
      "text/plain": [
       "<IPython.core.display.HTML object>"
      ]
     },
     "metadata": {},
     "output_type": "display_data"
    }
   ],
   "source": [
    "sm.barbell_graph(5, 2).show()"
   ]
  },
  {
   "cell_type": "code",
   "execution_count": 31,
   "metadata": {
    "ExecuteTime": {
     "end_time": "2022-01-14T15:22:09.974081Z",
     "start_time": "2022-01-14T15:22:09.959885Z"
    }
   },
   "outputs": [
    {
     "data": {
      "text/html": [
       "\n",
       "<div id=\"81dcea0f-6956-4c16-a132-54cb7a093dce\"></div>\n",
       "<script>\n",
       "require.config({\n",
       "    paths: {\n",
       "        vis: 'https://unpkg.com/vis-network/standalone/umd/vis-network.min'\n",
       "    }\n",
       "});\n",
       "require(['vis'], function(vis){\n",
       "var nodes = [{\"id\": 0, \"label\": \"0\", \"title\": \"0\"}, {\"id\": 1, \"label\": \"1\", \"title\": \"1\"}, {\"id\": 2, \"label\": \"2\", \"title\": \"2\"}, {\"id\": 3, \"label\": \"3\", \"title\": \"3\"}, {\"id\": 4, \"label\": \"4\", \"title\": \"4\"}, {\"id\": 5, \"label\": \"5\", \"title\": \"5\"}];\n",
       "var edges = [{\"from\": 0, \"to\": 1, \"title\": \"0: (0, 1)\", \"label\": \"(0, 1)\"}, {\"from\": 0, \"to\": 2, \"title\": \"1: (0, 2)\", \"label\": \"(0, 2)\"}, {\"from\": 1, \"to\": 2, \"title\": \"2: (1, 2)\", \"label\": \"(1, 2)\"}, {\"from\": 2, \"to\": 3, \"title\": \"3: (2, 3)\", \"label\": \"(2, 3)\"}, {\"from\": 2, \"to\": 4, \"title\": \"4: (2, 4)\", \"label\": \"(2, 4)\"}, {\"from\": 2, \"to\": 5, \"title\": \"5: (2, 5)\", \"label\": \"(2, 5)\"}, {\"from\": 3, \"to\": 4, \"title\": \"6: (3, 4)\", \"label\": \"(3, 4)\"}, {\"from\": 3, \"to\": 5, \"title\": \"7: (3, 5)\", \"label\": \"(3, 5)\"}, {\"from\": 4, \"to\": 5, \"title\": \"8: (4, 5)\", \"label\": \"(4, 5)\"}];\n",
       "var data= {\n",
       "    nodes: nodes,\n",
       "    edges: edges,\n",
       "};\n",
       "var options = {\"interaction\": {\"navigationButtons\": true}, \"width\": \"600px\", \"height\": \"600px\"};\n",
       "var container = document.getElementById('81dcea0f-6956-4c16-a132-54cb7a093dce');\n",
       "var network = new vis.Network(container, data, options);\n",
       "network.fit({\n",
       "  maxZoomLevel: 1000});\n",
       "});\n",
       "</script>\n"
      ],
      "text/plain": [
       "<IPython.core.display.HTML object>"
      ]
     },
     "metadata": {},
     "output_type": "display_data"
    }
   ],
   "source": [
    "sm.barbell_graph(l=0, m=4).show()"
   ]
  },
  {
   "cell_type": "markdown",
   "metadata": {},
   "source": [
    "### Chained cycle graphs"
   ]
  },
  {
   "cell_type": "markdown",
   "metadata": {},
   "source": [
    "Concatenates cycles of size $n$, $c$ of them. Each cycle has $o$ nodes that overlap with the next one. Defaults to $n=3, c=2, o=2$."
   ]
  },
  {
   "cell_type": "code",
   "execution_count": 32,
   "metadata": {
    "ExecuteTime": {
     "end_time": "2022-01-14T15:22:09.989679Z",
     "start_time": "2022-01-14T15:22:09.976681Z"
    }
   },
   "outputs": [
    {
     "data": {
      "text/html": [
       "\n",
       "<div id=\"24837c25-84f9-4ce8-b6ff-be4400fc135f\"></div>\n",
       "<script>\n",
       "require.config({\n",
       "    paths: {\n",
       "        vis: 'https://unpkg.com/vis-network/standalone/umd/vis-network.min'\n",
       "    }\n",
       "});\n",
       "require(['vis'], function(vis){\n",
       "var nodes = [{\"id\": 0, \"label\": \"0\", \"title\": \"0\"}, {\"id\": 1, \"label\": \"1\", \"title\": \"1\"}, {\"id\": 2, \"label\": \"2\", \"title\": \"2\"}, {\"id\": 3, \"label\": \"3\", \"title\": \"3\"}];\n",
       "var edges = [{\"from\": 0, \"to\": 1, \"title\": \"0: (0, 1)\", \"label\": \"(0, 1)\"}, {\"from\": 0, \"to\": 2, \"title\": \"1: (0, 2)\", \"label\": \"(0, 2)\"}, {\"from\": 1, \"to\": 2, \"title\": \"2: (1, 2)\", \"label\": \"(1, 2)\"}, {\"from\": 1, \"to\": 3, \"title\": \"3: (1, 3)\", \"label\": \"(1, 3)\"}, {\"from\": 2, \"to\": 3, \"title\": \"4: (2, 3)\", \"label\": \"(2, 3)\"}];\n",
       "var data= {\n",
       "    nodes: nodes,\n",
       "    edges: edges,\n",
       "};\n",
       "var options = {\"interaction\": {\"navigationButtons\": true}, \"width\": \"600px\", \"height\": \"600px\"};\n",
       "var container = document.getElementById('24837c25-84f9-4ce8-b6ff-be4400fc135f');\n",
       "var network = new vis.Network(container, data, options);\n",
       "network.fit({\n",
       "  maxZoomLevel: 1000});\n",
       "});\n",
       "</script>\n"
      ],
      "text/plain": [
       "<IPython.core.display.HTML object>"
      ]
     },
     "metadata": {},
     "output_type": "display_data"
    }
   ],
   "source": [
    "# Diamond\n",
    "sm.chained_cycle_graph().show()"
   ]
  },
  {
   "cell_type": "code",
   "execution_count": 33,
   "metadata": {
    "ExecuteTime": {
     "end_time": "2022-01-14T15:22:10.005832Z",
     "start_time": "2022-01-14T15:22:09.991682Z"
    }
   },
   "outputs": [
    {
     "data": {
      "text/html": [
       "\n",
       "<div id=\"31924917-35fb-4d89-8edf-ef3cfcba122d\"></div>\n",
       "<script>\n",
       "require.config({\n",
       "    paths: {\n",
       "        vis: 'https://unpkg.com/vis-network/standalone/umd/vis-network.min'\n",
       "    }\n",
       "});\n",
       "require(['vis'], function(vis){\n",
       "var nodes = [{\"id\": 0, \"label\": \"0\", \"title\": \"0\"}, {\"id\": 1, \"label\": \"1\", \"title\": \"1\"}, {\"id\": 2, \"label\": \"2\", \"title\": \"2\"}, {\"id\": 3, \"label\": \"3\", \"title\": \"3\"}, {\"id\": 4, \"label\": \"4\", \"title\": \"4\"}];\n",
       "var edges = [{\"from\": 0, \"to\": 1, \"title\": \"0: (0, 1)\", \"label\": \"(0, 1)\"}, {\"from\": 0, \"to\": 2, \"title\": \"1: (0, 2)\", \"label\": \"(0, 2)\"}, {\"from\": 1, \"to\": 2, \"title\": \"2: (1, 2)\", \"label\": \"(1, 2)\"}, {\"from\": 1, \"to\": 3, \"title\": \"3: (1, 3)\", \"label\": \"(1, 3)\"}, {\"from\": 2, \"to\": 3, \"title\": \"4: (2, 3)\", \"label\": \"(2, 3)\"}, {\"from\": 2, \"to\": 4, \"title\": \"5: (2, 4)\", \"label\": \"(2, 4)\"}, {\"from\": 3, \"to\": 4, \"title\": \"6: (3, 4)\", \"label\": \"(3, 4)\"}];\n",
       "var data= {\n",
       "    nodes: nodes,\n",
       "    edges: edges,\n",
       "};\n",
       "var options = {\"interaction\": {\"navigationButtons\": true}, \"width\": \"600px\", \"height\": \"600px\"};\n",
       "var container = document.getElementById('31924917-35fb-4d89-8edf-ef3cfcba122d');\n",
       "var network = new vis.Network(container, data, options);\n",
       "network.fit({\n",
       "  maxZoomLevel: 1000});\n",
       "});\n",
       "</script>\n"
      ],
      "text/plain": [
       "<IPython.core.display.HTML object>"
      ]
     },
     "metadata": {},
     "output_type": "display_data"
    }
   ],
   "source": [
    "# Triamond\n",
    "sm.chained_cycle_graph(c=3).show()"
   ]
  },
  {
   "cell_type": "code",
   "execution_count": 34,
   "metadata": {
    "ExecuteTime": {
     "end_time": "2022-01-14T15:22:10.020990Z",
     "start_time": "2022-01-14T15:22:10.007217Z"
    }
   },
   "outputs": [
    {
     "data": {
      "text/html": [
       "\n",
       "<div id=\"8f99ba64-c56a-46f6-b967-bd5a0dc049d4\"></div>\n",
       "<script>\n",
       "require.config({\n",
       "    paths: {\n",
       "        vis: 'https://unpkg.com/vis-network/standalone/umd/vis-network.min'\n",
       "    }\n",
       "});\n",
       "require(['vis'], function(vis){\n",
       "var nodes = [{\"id\": 0, \"label\": \"0\", \"title\": \"0\"}, {\"id\": 1, \"label\": \"1\", \"title\": \"1\"}, {\"id\": 2, \"label\": \"2\", \"title\": \"2\"}, {\"id\": 3, \"label\": \"3\", \"title\": \"3\"}, {\"id\": 4, \"label\": \"4\", \"title\": \"4\"}, {\"id\": 5, \"label\": \"5\", \"title\": \"5\"}];\n",
       "var edges = [{\"from\": 0, \"to\": 1, \"title\": \"0: (0, 1)\", \"label\": \"(0, 1)\"}, {\"from\": 0, \"to\": 3, \"title\": \"1: (0, 3)\", \"label\": \"(0, 3)\"}, {\"from\": 1, \"to\": 2, \"title\": \"2: (1, 2)\", \"label\": \"(1, 2)\"}, {\"from\": 2, \"to\": 3, \"title\": \"3: (2, 3)\", \"label\": \"(2, 3)\"}, {\"from\": 2, \"to\": 5, \"title\": \"4: (2, 5)\", \"label\": \"(2, 5)\"}, {\"from\": 3, \"to\": 4, \"title\": \"5: (3, 4)\", \"label\": \"(3, 4)\"}, {\"from\": 4, \"to\": 5, \"title\": \"6: (4, 5)\", \"label\": \"(4, 5)\"}];\n",
       "var data= {\n",
       "    nodes: nodes,\n",
       "    edges: edges,\n",
       "};\n",
       "var options = {\"interaction\": {\"navigationButtons\": true}, \"width\": \"600px\", \"height\": \"600px\"};\n",
       "var container = document.getElementById('8f99ba64-c56a-46f6-b967-bd5a0dc049d4');\n",
       "var network = new vis.Network(container, data, options);\n",
       "network.fit({\n",
       "  maxZoomLevel: 1000});\n",
       "});\n",
       "</script>\n"
      ],
      "text/plain": [
       "<IPython.core.display.HTML object>"
      ]
     },
     "metadata": {},
     "output_type": "display_data"
    }
   ],
   "source": [
    "# Domino\n",
    "sm.chained_cycle_graph(n=4).show()"
   ]
  },
  {
   "cell_type": "code",
   "execution_count": 35,
   "metadata": {
    "ExecuteTime": {
     "end_time": "2022-01-14T15:22:10.036031Z",
     "start_time": "2022-01-14T15:22:10.023007Z"
    }
   },
   "outputs": [
    {
     "data": {
      "text/html": [
       "\n",
       "<div id=\"8117f12d-1964-4f0b-ad26-1c204066e55f\"></div>\n",
       "<script>\n",
       "require.config({\n",
       "    paths: {\n",
       "        vis: 'https://unpkg.com/vis-network/standalone/umd/vis-network.min'\n",
       "    }\n",
       "});\n",
       "require(['vis'], function(vis){\n",
       "var nodes = [{\"id\": 0, \"label\": \"0\", \"title\": \"0\"}, {\"id\": 1, \"label\": \"1\", \"title\": \"1\"}, {\"id\": 2, \"label\": \"2\", \"title\": \"2\"}, {\"id\": 3, \"label\": \"3\", \"title\": \"3\"}, {\"id\": 4, \"label\": \"4\", \"title\": \"4\"}, {\"id\": 5, \"label\": \"5\", \"title\": \"5\"}, {\"id\": 6, \"label\": \"6\", \"title\": \"6\"}, {\"id\": 7, \"label\": \"7\", \"title\": \"7\"}, {\"id\": 8, \"label\": \"8\", \"title\": \"8\"}];\n",
       "var edges = [{\"from\": 0, \"to\": 1, \"title\": \"0: (0, 1)\", \"label\": \"(0, 1)\"}, {\"from\": 0, \"to\": 2, \"title\": \"1: (0, 2)\", \"label\": \"(0, 2)\"}, {\"from\": 1, \"to\": 2, \"title\": \"2: (1, 2)\", \"label\": \"(1, 2)\"}, {\"from\": 2, \"to\": 3, \"title\": \"3: (2, 3)\", \"label\": \"(2, 3)\"}, {\"from\": 2, \"to\": 4, \"title\": \"4: (2, 4)\", \"label\": \"(2, 4)\"}, {\"from\": 3, \"to\": 4, \"title\": \"5: (3, 4)\", \"label\": \"(3, 4)\"}, {\"from\": 4, \"to\": 5, \"title\": \"6: (4, 5)\", \"label\": \"(4, 5)\"}, {\"from\": 4, \"to\": 6, \"title\": \"7: (4, 6)\", \"label\": \"(4, 6)\"}, {\"from\": 5, \"to\": 6, \"title\": \"8: (5, 6)\", \"label\": \"(5, 6)\"}, {\"from\": 6, \"to\": 7, \"title\": \"9: (6, 7)\", \"label\": \"(6, 7)\"}, {\"from\": 6, \"to\": 8, \"title\": \"10: (6, 8)\", \"label\": \"(6, 8)\"}, {\"from\": 7, \"to\": 8, \"title\": \"11: (7, 8)\", \"label\": \"(7, 8)\"}];\n",
       "var data= {\n",
       "    nodes: nodes,\n",
       "    edges: edges,\n",
       "};\n",
       "var options = {\"interaction\": {\"navigationButtons\": true}, \"width\": \"600px\", \"height\": \"600px\"};\n",
       "var container = document.getElementById('8117f12d-1964-4f0b-ad26-1c204066e55f');\n",
       "var network = new vis.Network(container, data, options);\n",
       "network.fit({\n",
       "  maxZoomLevel: 1000});\n",
       "});\n",
       "</script>\n"
      ],
      "text/plain": [
       "<IPython.core.display.HTML object>"
      ]
     },
     "metadata": {},
     "output_type": "display_data"
    }
   ],
   "source": [
    "# The triangular snake graph TS_9 (cf https://mathworld.wolfram.com/TriangularSnakeGraph.html)\n",
    "sm.chained_cycle_graph(c=4, o=1).show()"
   ]
  },
  {
   "cell_type": "code",
   "execution_count": 36,
   "metadata": {
    "ExecuteTime": {
     "end_time": "2022-01-14T15:22:10.051676Z",
     "start_time": "2022-01-14T15:22:10.038666Z"
    }
   },
   "outputs": [
    {
     "data": {
      "text/html": [
       "\n",
       "<div id=\"09ed5fc0-6d3f-4946-93f2-358900a0fb67\"></div>\n",
       "<script>\n",
       "require.config({\n",
       "    paths: {\n",
       "        vis: 'https://unpkg.com/vis-network/standalone/umd/vis-network.min'\n",
       "    }\n",
       "});\n",
       "require(['vis'], function(vis){\n",
       "var nodes = [{\"id\": 0, \"label\": \"0\", \"title\": \"0\"}, {\"id\": 1, \"label\": \"1\", \"title\": \"1\"}, {\"id\": 2, \"label\": \"2\", \"title\": \"2\"}, {\"id\": 3, \"label\": \"3\", \"title\": \"3\"}, {\"id\": 4, \"label\": \"4\", \"title\": \"4\"}, {\"id\": 5, \"label\": \"5\", \"title\": \"5\"}, {\"id\": 6, \"label\": \"6\", \"title\": \"6\"}, {\"id\": 7, \"label\": \"7\", \"title\": \"7\"}, {\"id\": 8, \"label\": \"8\", \"title\": \"8\"}, {\"id\": 9, \"label\": \"9\", \"title\": \"9\"}, {\"id\": 10, \"label\": \"10\", \"title\": \"10\"}, {\"id\": 11, \"label\": \"11\", \"title\": \"11\"}];\n",
       "var edges = [{\"from\": 0, \"to\": 1, \"title\": \"0: (0, 1)\", \"label\": \"(0, 1)\"}, {\"from\": 0, \"to\": 3, \"title\": \"1: (0, 3)\", \"label\": \"(0, 3)\"}, {\"from\": 1, \"to\": 2, \"title\": \"2: (1, 2)\", \"label\": \"(1, 2)\"}, {\"from\": 2, \"to\": 3, \"title\": \"3: (2, 3)\", \"label\": \"(2, 3)\"}, {\"from\": 4, \"to\": 5, \"title\": \"4: (4, 5)\", \"label\": \"(4, 5)\"}, {\"from\": 4, \"to\": 7, \"title\": \"5: (4, 7)\", \"label\": \"(4, 7)\"}, {\"from\": 5, \"to\": 6, \"title\": \"6: (5, 6)\", \"label\": \"(5, 6)\"}, {\"from\": 6, \"to\": 7, \"title\": \"7: (6, 7)\", \"label\": \"(6, 7)\"}, {\"from\": 8, \"to\": 9, \"title\": \"8: (8, 9)\", \"label\": \"(8, 9)\"}, {\"from\": 8, \"to\": 11, \"title\": \"9: (8, 11)\", \"label\": \"(8, 11)\"}, {\"from\": 9, \"to\": 10, \"title\": \"10: (9, 10)\", \"label\": \"(9, 10)\"}, {\"from\": 10, \"to\": 11, \"title\": \"11: (10, 11)\", \"label\": \"(10, 11)\"}];\n",
       "var data= {\n",
       "    nodes: nodes,\n",
       "    edges: edges,\n",
       "};\n",
       "var options = {\"interaction\": {\"navigationButtons\": true}, \"width\": \"600px\", \"height\": \"600px\"};\n",
       "var container = document.getElementById('09ed5fc0-6d3f-4946-93f2-358900a0fb67');\n",
       "var network = new vis.Network(container, data, options);\n",
       "network.fit({\n",
       "  maxZoomLevel: 1000});\n",
       "});\n",
       "</script>\n"
      ],
      "text/plain": [
       "<IPython.core.display.HTML object>"
      ]
     },
     "metadata": {},
     "output_type": "display_data"
    }
   ],
   "source": [
    "# 3 separated squares\n",
    "sm.chained_cycle_graph(n=4, c=3, o=0).show()"
   ]
  },
  {
   "cell_type": "code",
   "execution_count": 37,
   "metadata": {
    "ExecuteTime": {
     "end_time": "2022-01-14T15:22:10.067705Z",
     "start_time": "2022-01-14T15:22:10.054563Z"
    }
   },
   "outputs": [
    {
     "data": {
      "text/html": [
       "\n",
       "<div id=\"e49bc254-2b3b-43a3-bbac-ed5f739bfc1c\"></div>\n",
       "<script>\n",
       "require.config({\n",
       "    paths: {\n",
       "        vis: 'https://unpkg.com/vis-network/standalone/umd/vis-network.min'\n",
       "    }\n",
       "});\n",
       "require(['vis'], function(vis){\n",
       "var nodes = [{\"id\": 0, \"label\": \"A\", \"title\": \"0: A\"}, {\"id\": 1, \"label\": \"B\", \"title\": \"1: B\"}, {\"id\": 2, \"label\": \"C\", \"title\": \"2: C\"}, {\"id\": 3, \"label\": \"D\", \"title\": \"3: D\"}, {\"id\": 4, \"label\": \"E\", \"title\": \"4: E\"}, {\"id\": 5, \"label\": \"F\", \"title\": \"5: F\"}, {\"id\": 6, \"label\": \"G\", \"title\": \"6: G\"}, {\"id\": 7, \"label\": \"H\", \"title\": \"7: H\"}, {\"id\": 8, \"label\": \"I\", \"title\": \"8: I\"}, {\"id\": 9, \"label\": \"J\", \"title\": \"9: J\"}, {\"id\": 10, \"label\": \"K\", \"title\": \"10: K\"}, {\"id\": 11, \"label\": \"L\", \"title\": \"11: L\"}, {\"id\": 12, \"label\": \"M\", \"title\": \"12: M\"}, {\"id\": 13, \"label\": \"N\", \"title\": \"13: N\"}, {\"id\": 14, \"label\": \"O\", \"title\": \"14: O\"}, {\"id\": 15, \"label\": \"P\", \"title\": \"15: P\"}, {\"id\": 16, \"label\": \"Q\", \"title\": \"16: Q\"}, {\"id\": 17, \"label\": \"R\", \"title\": \"17: R\"}, {\"id\": 18, \"label\": \"S\", \"title\": \"18: S\"}, {\"id\": 19, \"label\": \"T\", \"title\": \"19: T\"}, {\"id\": 20, \"label\": \"U\", \"title\": \"20: U\"}, {\"id\": 21, \"label\": \"V\", \"title\": \"21: V\"}, {\"id\": 22, \"label\": \"W\", \"title\": \"22: W\"}, {\"id\": 23, \"label\": \"X\", \"title\": \"23: X\"}, {\"id\": 24, \"label\": \"Y\", \"title\": \"24: Y\"}, {\"id\": 25, \"label\": \"Z\", \"title\": \"25: Z\"}, {\"id\": 26, \"label\": \"AA\", \"title\": \"26: AA\"}, {\"id\": 27, \"label\": \"AB\", \"title\": \"27: AB\"}, {\"id\": 28, \"label\": \"AC\", \"title\": \"28: AC\"}, {\"id\": 29, \"label\": \"AD\", \"title\": \"29: AD\"}, {\"id\": 30, \"label\": \"AE\", \"title\": \"30: AE\"}, {\"id\": 31, \"label\": \"AF\", \"title\": \"31: AF\"}];\n",
       "var edges = [{\"from\": 0, \"to\": 1, \"title\": \"0: (A, B)\", \"label\": \"(A, B)\"}, {\"from\": 0, \"to\": 2, \"title\": \"1: (A, C)\", \"label\": \"(A, C)\"}, {\"from\": 1, \"to\": 2, \"title\": \"2: (B, C)\", \"label\": \"(B, C)\"}, {\"from\": 1, \"to\": 3, \"title\": \"3: (B, D)\", \"label\": \"(B, D)\"}, {\"from\": 2, \"to\": 3, \"title\": \"4: (C, D)\", \"label\": \"(C, D)\"}, {\"from\": 2, \"to\": 4, \"title\": \"5: (C, E)\", \"label\": \"(C, E)\"}, {\"from\": 3, \"to\": 4, \"title\": \"6: (D, E)\", \"label\": \"(D, E)\"}, {\"from\": 3, \"to\": 5, \"title\": \"7: (D, F)\", \"label\": \"(D, F)\"}, {\"from\": 4, \"to\": 5, \"title\": \"8: (E, F)\", \"label\": \"(E, F)\"}, {\"from\": 4, \"to\": 6, \"title\": \"9: (E, G)\", \"label\": \"(E, G)\"}, {\"from\": 5, \"to\": 6, \"title\": \"10: (F, G)\", \"label\": \"(F, G)\"}, {\"from\": 5, \"to\": 7, \"title\": \"11: (F, H)\", \"label\": \"(F, H)\"}, {\"from\": 6, \"to\": 7, \"title\": \"12: (G, H)\", \"label\": \"(G, H)\"}, {\"from\": 6, \"to\": 8, \"title\": \"13: (G, I)\", \"label\": \"(G, I)\"}, {\"from\": 7, \"to\": 8, \"title\": \"14: (H, I)\", \"label\": \"(H, I)\"}, {\"from\": 7, \"to\": 9, \"title\": \"15: (H, J)\", \"label\": \"(H, J)\"}, {\"from\": 8, \"to\": 9, \"title\": \"16: (I, J)\", \"label\": \"(I, J)\"}, {\"from\": 8, \"to\": 10, \"title\": \"17: (I, K)\", \"label\": \"(I, K)\"}, {\"from\": 9, \"to\": 10, \"title\": \"18: (J, K)\", \"label\": \"(J, K)\"}, {\"from\": 9, \"to\": 11, \"title\": \"19: (J, L)\", \"label\": \"(J, L)\"}, {\"from\": 10, \"to\": 11, \"title\": \"20: (K, L)\", \"label\": \"(K, L)\"}, {\"from\": 10, \"to\": 12, \"title\": \"21: (K, M)\", \"label\": \"(K, M)\"}, {\"from\": 11, \"to\": 12, \"title\": \"22: (L, M)\", \"label\": \"(L, M)\"}, {\"from\": 11, \"to\": 13, \"title\": \"23: (L, N)\", \"label\": \"(L, N)\"}, {\"from\": 12, \"to\": 13, \"title\": \"24: (M, N)\", \"label\": \"(M, N)\"}, {\"from\": 12, \"to\": 14, \"title\": \"25: (M, O)\", \"label\": \"(M, O)\"}, {\"from\": 13, \"to\": 14, \"title\": \"26: (N, O)\", \"label\": \"(N, O)\"}, {\"from\": 13, \"to\": 15, \"title\": \"27: (N, P)\", \"label\": \"(N, P)\"}, {\"from\": 14, \"to\": 15, \"title\": \"28: (O, P)\", \"label\": \"(O, P)\"}, {\"from\": 14, \"to\": 16, \"title\": \"29: (O, Q)\", \"label\": \"(O, Q)\"}, {\"from\": 15, \"to\": 16, \"title\": \"30: (P, Q)\", \"label\": \"(P, Q)\"}, {\"from\": 15, \"to\": 17, \"title\": \"31: (P, R)\", \"label\": \"(P, R)\"}, {\"from\": 16, \"to\": 17, \"title\": \"32: (Q, R)\", \"label\": \"(Q, R)\"}, {\"from\": 16, \"to\": 18, \"title\": \"33: (Q, S)\", \"label\": \"(Q, S)\"}, {\"from\": 17, \"to\": 18, \"title\": \"34: (R, S)\", \"label\": \"(R, S)\"}, {\"from\": 17, \"to\": 19, \"title\": \"35: (R, T)\", \"label\": \"(R, T)\"}, {\"from\": 18, \"to\": 19, \"title\": \"36: (S, T)\", \"label\": \"(S, T)\"}, {\"from\": 18, \"to\": 20, \"title\": \"37: (S, U)\", \"label\": \"(S, U)\"}, {\"from\": 19, \"to\": 20, \"title\": \"38: (T, U)\", \"label\": \"(T, U)\"}, {\"from\": 19, \"to\": 21, \"title\": \"39: (T, V)\", \"label\": \"(T, V)\"}, {\"from\": 20, \"to\": 21, \"title\": \"40: (U, V)\", \"label\": \"(U, V)\"}, {\"from\": 20, \"to\": 22, \"title\": \"41: (U, W)\", \"label\": \"(U, W)\"}, {\"from\": 21, \"to\": 22, \"title\": \"42: (V, W)\", \"label\": \"(V, W)\"}, {\"from\": 21, \"to\": 23, \"title\": \"43: (V, X)\", \"label\": \"(V, X)\"}, {\"from\": 22, \"to\": 23, \"title\": \"44: (W, X)\", \"label\": \"(W, X)\"}, {\"from\": 22, \"to\": 24, \"title\": \"45: (W, Y)\", \"label\": \"(W, Y)\"}, {\"from\": 23, \"to\": 24, \"title\": \"46: (X, Y)\", \"label\": \"(X, Y)\"}, {\"from\": 23, \"to\": 25, \"title\": \"47: (X, Z)\", \"label\": \"(X, Z)\"}, {\"from\": 24, \"to\": 25, \"title\": \"48: (Y, Z)\", \"label\": \"(Y, Z)\"}, {\"from\": 24, \"to\": 26, \"title\": \"49: (Y, AA)\", \"label\": \"(Y, AA)\"}, {\"from\": 25, \"to\": 26, \"title\": \"50: (Z, AA)\", \"label\": \"(Z, AA)\"}, {\"from\": 25, \"to\": 27, \"title\": \"51: (Z, AB)\", \"label\": \"(Z, AB)\"}, {\"from\": 26, \"to\": 27, \"title\": \"52: (AA, AB)\", \"label\": \"(AA, AB)\"}, {\"from\": 26, \"to\": 28, \"title\": \"53: (AA, AC)\", \"label\": \"(AA, AC)\"}, {\"from\": 27, \"to\": 28, \"title\": \"54: (AB, AC)\", \"label\": \"(AB, AC)\"}, {\"from\": 27, \"to\": 29, \"title\": \"55: (AB, AD)\", \"label\": \"(AB, AD)\"}, {\"from\": 28, \"to\": 29, \"title\": \"56: (AC, AD)\", \"label\": \"(AC, AD)\"}, {\"from\": 28, \"to\": 30, \"title\": \"57: (AC, AE)\", \"label\": \"(AC, AE)\"}, {\"from\": 29, \"to\": 30, \"title\": \"58: (AD, AE)\", \"label\": \"(AD, AE)\"}, {\"from\": 29, \"to\": 31, \"title\": \"59: (AD, AF)\", \"label\": \"(AD, AF)\"}, {\"from\": 30, \"to\": 31, \"title\": \"60: (AE, AF)\", \"label\": \"(AE, AF)\"}];\n",
       "var data= {\n",
       "    nodes: nodes,\n",
       "    edges: edges,\n",
       "};\n",
       "var options = {\"interaction\": {\"navigationButtons\": true}, \"width\": \"600px\", \"height\": \"600px\"};\n",
       "var container = document.getElementById('e49bc254-2b3b-43a3-bbac-ed5f739bfc1c');\n",
       "var network = new vis.Network(container, data, options);\n",
       "network.fit({\n",
       "  maxZoomLevel: 1000});\n",
       "});\n",
       "</script>\n"
      ],
      "text/plain": [
       "<IPython.core.display.HTML object>"
      ]
     },
     "metadata": {},
     "output_type": "display_data"
    }
   ],
   "source": [
    "# A big chain of triangle\n",
    "sm.chained_cycle_graph(c=30, names='alpha').show()"
   ]
  },
  {
   "cell_type": "markdown",
   "metadata": {},
   "source": [
    "### Concatenation"
   ]
  },
  {
   "cell_type": "markdown",
   "metadata": {},
   "source": [
    "Building more elaborate graphs on top of the provided generators is relatively easy. For example, some graphs proposed in https://hal.archives-ouvertes.fr/hal-03502084 are not directly available:\n",
    "- the co-domino graph;\n",
    "- the *Egyptian pyramid* graph (please see the above paper for the origin of the name).\n",
    "\n",
    "One way to build these graphs is to use concatenation.\n",
    "\n",
    "Concatenation generalizes the chained cycles above. It uses a list of graphs and the overlapping between graph. Overlapping can be uniform or heterogeneous (you need then to provide a list of overlaps)."
   ]
  },
  {
   "cell_type": "code",
   "execution_count": 38,
   "metadata": {
    "ExecuteTime": {
     "end_time": "2022-01-14T15:22:10.083481Z",
     "start_time": "2022-01-14T15:22:10.071299Z"
    }
   },
   "outputs": [
    {
     "data": {
      "text/html": [
       "\n",
       "<div id=\"7afa9540-1c33-48df-bd6a-96559632e83c\"></div>\n",
       "<script>\n",
       "require.config({\n",
       "    paths: {\n",
       "        vis: 'https://unpkg.com/vis-network/standalone/umd/vis-network.min'\n",
       "    }\n",
       "});\n",
       "require(['vis'], function(vis){\n",
       "var nodes = [{\"id\": 0, \"label\": \"0\", \"title\": \"0\"}, {\"id\": 1, \"label\": \"1\", \"title\": \"1\"}, {\"id\": 2, \"label\": \"2\", \"title\": \"2\"}, {\"id\": 3, \"label\": \"3\", \"title\": \"3\"}, {\"id\": 4, \"label\": \"4\", \"title\": \"4\"}];\n",
       "var edges = [{\"from\": 0, \"to\": 1, \"title\": \"0: (0, 1)\", \"label\": \"(0, 1)\"}, {\"from\": 0, \"to\": 2, \"title\": \"1: (0, 2)\", \"label\": \"(0, 2)\"}, {\"from\": 1, \"to\": 2, \"title\": \"2: (1, 2)\", \"label\": \"(1, 2)\"}, {\"from\": 1, \"to\": 4, \"title\": \"3: (1, 4)\", \"label\": \"(1, 4)\"}, {\"from\": 2, \"to\": 3, \"title\": \"4: (2, 3)\", \"label\": \"(2, 3)\"}, {\"from\": 3, \"to\": 4, \"title\": \"5: (3, 4)\", \"label\": \"(3, 4)\"}];\n",
       "var data= {\n",
       "    nodes: nodes,\n",
       "    edges: edges,\n",
       "};\n",
       "var options = {\"interaction\": {\"navigationButtons\": true}, \"width\": \"600px\", \"height\": \"600px\"};\n",
       "var container = document.getElementById('7afa9540-1c33-48df-bd6a-96559632e83c');\n",
       "var network = new vis.Network(container, data, options);\n",
       "network.fit({\n",
       "  maxZoomLevel: 1000});\n",
       "});\n",
       "</script>\n"
      ],
      "text/plain": [
       "<IPython.core.display.HTML object>"
      ]
     },
     "metadata": {},
     "output_type": "display_data"
    }
   ],
   "source": [
    "# House\n",
    "sm.concatenate([sm.cycle_graph(), sm.cycle_graph(4)], 2).show()"
   ]
  },
  {
   "cell_type": "code",
   "execution_count": 39,
   "metadata": {
    "ExecuteTime": {
     "end_time": "2022-01-14T15:22:10.098845Z",
     "start_time": "2022-01-14T15:22:10.086574Z"
    }
   },
   "outputs": [
    {
     "data": {
      "text/html": [
       "\n",
       "<div id=\"e0eb8875-5af2-4f1f-94ef-6378f96172d8\"></div>\n",
       "<script>\n",
       "require.config({\n",
       "    paths: {\n",
       "        vis: 'https://unpkg.com/vis-network/standalone/umd/vis-network.min'\n",
       "    }\n",
       "});\n",
       "require(['vis'], function(vis){\n",
       "var nodes = [{\"id\": 0, \"label\": \"0\", \"title\": \"0\"}, {\"id\": 1, \"label\": \"1\", \"title\": \"1\"}, {\"id\": 2, \"label\": \"2\", \"title\": \"2\"}, {\"id\": 3, \"label\": \"3\", \"title\": \"3\"}, {\"id\": 4, \"label\": \"4\", \"title\": \"4\"}];\n",
       "var edges = [{\"from\": 0, \"to\": 1, \"title\": \"0: (0, 1)\", \"label\": \"(0, 1)\"}, {\"from\": 0, \"to\": 2, \"title\": \"1: (0, 2)\", \"label\": \"(0, 2)\"}, {\"from\": 1, \"to\": 2, \"title\": \"2: (1, 2)\", \"label\": \"(1, 2)\"}, {\"from\": 1, \"to\": 3, \"title\": \"3: (1, 3)\", \"label\": \"(1, 3)\"}, {\"from\": 1, \"to\": 4, \"title\": \"4: (1, 4)\", \"label\": \"(1, 4)\"}, {\"from\": 2, \"to\": 3, \"title\": \"5: (2, 3)\", \"label\": \"(2, 3)\"}, {\"from\": 2, \"to\": 4, \"title\": \"6: (2, 4)\", \"label\": \"(2, 4)\"}, {\"from\": 3, \"to\": 4, \"title\": \"7: (3, 4)\", \"label\": \"(3, 4)\"}];\n",
       "var data= {\n",
       "    nodes: nodes,\n",
       "    edges: edges,\n",
       "};\n",
       "var options = {\"interaction\": {\"navigationButtons\": true}, \"width\": \"600px\", \"height\": \"600px\"};\n",
       "var container = document.getElementById('e0eb8875-5af2-4f1f-94ef-6378f96172d8');\n",
       "var network = new vis.Network(container, data, options);\n",
       "network.fit({\n",
       "  maxZoomLevel: 1000});\n",
       "});\n",
       "</script>\n"
      ],
      "text/plain": [
       "<IPython.core.display.HTML object>"
      ]
     },
     "metadata": {},
     "output_type": "display_data"
    }
   ],
   "source": [
    "# Barred house\n",
    "sm.concatenate([sm.cycle_graph(), sm.complete_graph(4)], 2).show()"
   ]
  },
  {
   "cell_type": "code",
   "execution_count": 40,
   "metadata": {
    "ExecuteTime": {
     "end_time": "2022-01-14T15:22:10.114201Z",
     "start_time": "2022-01-14T15:22:10.102166Z"
    }
   },
   "outputs": [
    {
     "data": {
      "text/html": [
       "\n",
       "<div id=\"4cd03fc5-c05e-427d-870f-0118d59575c0\"></div>\n",
       "<script>\n",
       "require.config({\n",
       "    paths: {\n",
       "        vis: 'https://unpkg.com/vis-network/standalone/umd/vis-network.min'\n",
       "    }\n",
       "});\n",
       "require(['vis'], function(vis){\n",
       "var nodes = [{\"id\": 0, \"label\": \"0\", \"title\": \"0\"}, {\"id\": 1, \"label\": \"1\", \"title\": \"1\"}, {\"id\": 2, \"label\": \"2\", \"title\": \"2\"}, {\"id\": 3, \"label\": \"3\", \"title\": \"3\"}, {\"id\": 4, \"label\": \"4\", \"title\": \"4\"}, {\"id\": 5, \"label\": \"5\", \"title\": \"5\"}, {\"id\": 6, \"label\": \"6\", \"title\": \"6\"}];\n",
       "var edges = [{\"from\": 0, \"to\": 1, \"title\": \"0: (0, 1)\", \"label\": \"(0, 1)\"}, {\"from\": 0, \"to\": 2, \"title\": \"1: (0, 2)\", \"label\": \"(0, 2)\"}, {\"from\": 1, \"to\": 2, \"title\": \"2: (1, 2)\", \"label\": \"(1, 2)\"}, {\"from\": 2, \"to\": 3, \"title\": \"3: (2, 3)\", \"label\": \"(2, 3)\"}, {\"from\": 2, \"to\": 4, \"title\": \"4: (2, 4)\", \"label\": \"(2, 4)\"}, {\"from\": 3, \"to\": 4, \"title\": \"5: (3, 4)\", \"label\": \"(3, 4)\"}, {\"from\": 3, \"to\": 6, \"title\": \"6: (3, 6)\", \"label\": \"(3, 6)\"}, {\"from\": 4, \"to\": 5, \"title\": \"7: (4, 5)\", \"label\": \"(4, 5)\"}, {\"from\": 5, \"to\": 6, \"title\": \"8: (5, 6)\", \"label\": \"(5, 6)\"}];\n",
       "var data= {\n",
       "    nodes: nodes,\n",
       "    edges: edges,\n",
       "};\n",
       "var options = {\"interaction\": {\"navigationButtons\": true}, \"width\": \"600px\", \"height\": \"600px\"};\n",
       "var container = document.getElementById('4cd03fc5-c05e-427d-870f-0118d59575c0');\n",
       "var network = new vis.Network(container, data, options);\n",
       "network.fit({\n",
       "  maxZoomLevel: 1000});\n",
       "});\n",
       "</script>\n"
      ],
      "text/plain": [
       "<IPython.core.display.HTML object>"
      ]
     },
     "metadata": {},
     "output_type": "display_data"
    }
   ],
   "source": [
    "# House with a triangle on top\n",
    "sm.concatenate([sm.cycle_graph(), sm.cycle_graph(), sm.cycle_graph(4)], [1, 2]).show()"
   ]
  },
  {
   "cell_type": "code",
   "execution_count": 41,
   "metadata": {
    "ExecuteTime": {
     "end_time": "2022-01-14T15:22:10.129893Z",
     "start_time": "2022-01-14T15:22:10.116528Z"
    }
   },
   "outputs": [
    {
     "data": {
      "text/html": [
       "\n",
       "<div id=\"985dc4cd-1261-40d0-b6a7-50d0cb257317\"></div>\n",
       "<script>\n",
       "require.config({\n",
       "    paths: {\n",
       "        vis: 'https://unpkg.com/vis-network/standalone/umd/vis-network.min'\n",
       "    }\n",
       "});\n",
       "require(['vis'], function(vis){\n",
       "var nodes = [{\"id\": 0, \"label\": \"0\", \"title\": \"0\"}, {\"id\": 1, \"label\": \"1\", \"title\": \"1\"}, {\"id\": 2, \"label\": \"2\", \"title\": \"2\"}, {\"id\": 3, \"label\": \"3\", \"title\": \"3\"}, {\"id\": 4, \"label\": \"4\", \"title\": \"4\"}, {\"id\": 5, \"label\": \"5\", \"title\": \"5\"}];\n",
       "var edges = [{\"from\": 0, \"to\": 1, \"title\": \"0: (0, 1)\", \"label\": \"(0, 1)\"}, {\"from\": 0, \"to\": 2, \"title\": \"1: (0, 2)\", \"label\": \"(0, 2)\"}, {\"from\": 1, \"to\": 2, \"title\": \"2: (1, 2)\", \"label\": \"(1, 2)\"}, {\"from\": 1, \"to\": 4, \"title\": \"3: (1, 4)\", \"label\": \"(1, 4)\"}, {\"from\": 2, \"to\": 3, \"title\": \"4: (2, 3)\", \"label\": \"(2, 3)\"}, {\"from\": 3, \"to\": 4, \"title\": \"5: (3, 4)\", \"label\": \"(3, 4)\"}, {\"from\": 3, \"to\": 5, \"title\": \"6: (3, 5)\", \"label\": \"(3, 5)\"}, {\"from\": 4, \"to\": 5, \"title\": \"7: (4, 5)\", \"label\": \"(4, 5)\"}];\n",
       "var data= {\n",
       "    nodes: nodes,\n",
       "    edges: edges,\n",
       "};\n",
       "var options = {\"interaction\": {\"navigationButtons\": true}, \"width\": \"600px\", \"height\": \"600px\"};\n",
       "var container = document.getElementById('985dc4cd-1261-40d0-b6a7-50d0cb257317');\n",
       "var network = new vis.Network(container, data, options);\n",
       "network.fit({\n",
       "  maxZoomLevel: 1000});\n",
       "});\n",
       "</script>\n"
      ],
      "text/plain": [
       "<IPython.core.display.HTML object>"
      ]
     },
     "metadata": {},
     "output_type": "display_data"
    }
   ],
   "source": [
    "# Codomino\n",
    "sm.concatenate([sm.cycle_graph(), sm.cycle_graph(4), sm.cycle_graph()], 2).show()"
   ]
  },
  {
   "cell_type": "code",
   "execution_count": 42,
   "metadata": {
    "ExecuteTime": {
     "end_time": "2022-01-14T15:22:10.144550Z",
     "start_time": "2022-01-14T15:22:10.132543Z"
    }
   },
   "outputs": [
    {
     "data": {
      "text/html": [
       "\n",
       "<div id=\"4e103079-878e-46b2-999d-ca684c81e753\"></div>\n",
       "<script>\n",
       "require.config({\n",
       "    paths: {\n",
       "        vis: 'https://unpkg.com/vis-network/standalone/umd/vis-network.min'\n",
       "    }\n",
       "});\n",
       "require(['vis'], function(vis){\n",
       "var nodes = [{\"id\": 0, \"label\": \"0\", \"title\": \"0\"}, {\"id\": 1, \"label\": \"1\", \"title\": \"1\"}, {\"id\": 2, \"label\": \"2\", \"title\": \"2\"}, {\"id\": 3, \"label\": \"3\", \"title\": \"3\"}, {\"id\": 4, \"label\": \"4\", \"title\": \"4\"}, {\"id\": 5, \"label\": \"5\", \"title\": \"5\"}, {\"id\": 6, \"label\": \"6\", \"title\": \"6\"}, {\"id\": 7, \"label\": \"7\", \"title\": \"7\"}, {\"id\": 8, \"label\": \"8\", \"title\": \"8\"}, {\"id\": 9, \"label\": \"9\", \"title\": \"9\"}];\n",
       "var edges = [{\"from\": 0, \"to\": 1, \"title\": \"0: (0, 1)\", \"label\": \"(0, 1)\"}, {\"from\": 0, \"to\": 2, \"title\": \"1: (0, 2)\", \"label\": \"(0, 2)\"}, {\"from\": 1, \"to\": 2, \"title\": \"2: (1, 2)\", \"label\": \"(1, 2)\"}, {\"from\": 1, \"to\": 5, \"title\": \"3: (1, 5)\", \"label\": \"(1, 5)\"}, {\"from\": 2, \"to\": 3, \"title\": \"4: (2, 3)\", \"label\": \"(2, 3)\"}, {\"from\": 3, \"to\": 4, \"title\": \"5: (3, 4)\", \"label\": \"(3, 4)\"}, {\"from\": 4, \"to\": 5, \"title\": \"6: (4, 5)\", \"label\": \"(4, 5)\"}, {\"from\": 4, \"to\": 8, \"title\": \"7: (4, 8)\", \"label\": \"(4, 8)\"}, {\"from\": 5, \"to\": 6, \"title\": \"8: (5, 6)\", \"label\": \"(5, 6)\"}, {\"from\": 6, \"to\": 7, \"title\": \"9: (6, 7)\", \"label\": \"(6, 7)\"}, {\"from\": 7, \"to\": 8, \"title\": \"10: (7, 8)\", \"label\": \"(7, 8)\"}, {\"from\": 7, \"to\": 9, \"title\": \"11: (7, 9)\", \"label\": \"(7, 9)\"}, {\"from\": 8, \"to\": 9, \"title\": \"12: (8, 9)\", \"label\": \"(8, 9)\"}];\n",
       "var data= {\n",
       "    nodes: nodes,\n",
       "    edges: edges,\n",
       "};\n",
       "var options = {\"interaction\": {\"navigationButtons\": true}, \"width\": \"600px\", \"height\": \"600px\"};\n",
       "var container = document.getElementById('4e103079-878e-46b2-999d-ca684c81e753');\n",
       "var network = new vis.Network(container, data, options);\n",
       "network.fit({\n",
       "  maxZoomLevel: 1000});\n",
       "});\n",
       "</script>\n"
      ],
      "text/plain": [
       "<IPython.core.display.HTML object>"
      ]
     },
     "metadata": {},
     "output_type": "display_data"
    }
   ],
   "source": [
    "# Pyramid\n",
    "sm.concatenate([sm.cycle_graph(), sm.cycle_graph(5), sm.cycle_graph(5), sm.cycle_graph()], 2).show()"
   ]
  },
  {
   "cell_type": "markdown",
   "metadata": {},
   "source": [
    "### Package logo"
   ]
  },
  {
   "cell_type": "markdown",
   "metadata": {},
   "source": [
    "The logo of `stochastic matching` was made with `stochastic matching`. Here is the code that produced the big version."
   ]
  },
  {
   "cell_type": "code",
   "execution_count": 43,
   "metadata": {
    "ExecuteTime": {
     "end_time": "2022-01-14T15:22:10.176073Z",
     "start_time": "2022-01-14T15:22:10.146546Z"
    }
   },
   "outputs": [
    {
     "data": {
      "text/html": [
       "\n",
       "<div id=\"244a4b3f-3664-406e-85ef-8aa9d69a19b1\"></div>\n",
       "<script>\n",
       "require.config({\n",
       "    paths: {\n",
       "        vis: 'https://unpkg.com/vis-network/standalone/umd/vis-network.min'\n",
       "    }\n",
       "});\n",
       "require(['vis'], function(vis){\n",
       "var nodes = [{\"id\": 0, \"label\": \"S\", \"title\": \"0: S\", \"color\": {\"background\": \"rgba(128, 0, 256, 1)\"}, \"font\": {\"color\": \"black\"}}, {\"id\": 1, \"label\": \"t\", \"title\": \"1: t\", \"color\": {\"background\": \"rgba(71, 87, 252, 1)\"}, \"font\": {\"color\": \"black\"}}, {\"id\": 2, \"label\": \"o\", \"title\": \"2: o\", \"color\": {\"background\": \"rgba(14, 164, 240, 1)\"}, \"font\": {\"color\": \"black\"}}, {\"id\": 3, \"label\": \"c\", \"title\": \"3: c\", \"color\": {\"background\": \"rgba(42, 221, 221, 1)\"}, \"font\": {\"color\": \"black\"}}, {\"id\": 4, \"label\": \"h\", \"title\": \"4: h\", \"color\": {\"background\": \"rgba(99, 252, 196, 1)\"}, \"font\": {\"color\": \"black\"}}, {\"id\": 5, \"label\": \"a\", \"title\": \"5: a\", \"color\": {\"background\": \"rgba(156, 252, 164, 1)\"}, \"font\": {\"color\": \"black\"}}, {\"id\": 6, \"label\": \"s\", \"title\": \"6: s\", \"color\": {\"background\": \"rgba(213, 221, 128, 1)\"}, \"font\": {\"color\": \"black\"}}, {\"id\": 7, \"label\": \"t\", \"title\": \"7: t\", \"color\": {\"background\": \"rgba(256, 164, 87, 1)\"}, \"font\": {\"color\": \"black\"}}, {\"id\": 8, \"label\": \"i\", \"title\": \"8: i\", \"color\": {\"background\": \"rgba(256, 87, 44, 1)\"}, \"font\": {\"color\": \"black\"}}, {\"id\": 9, \"label\": \"c\", \"title\": \"9: c\", \"color\": {\"background\": \"rgba(256, 0, 0, 1)\"}, \"font\": {\"color\": \"black\"}}, {\"id\": 10, \"label\": \"M\", \"title\": \"10: M\", \"color\": {\"background\": \"rgba(256, 0, 0, 1)\"}, \"font\": {\"color\": \"white\"}}, {\"id\": 11, \"label\": \"a\", \"title\": \"11: a\", \"color\": {\"background\": \"rgba(256, 111, 56, 1)\"}, \"font\": {\"color\": \"white\"}}, {\"id\": 12, \"label\": \"t\", \"title\": \"12: t\", \"color\": {\"background\": \"rgba(237, 200, 111, 1)\"}, \"font\": {\"color\": \"white\"}}, {\"id\": 13, \"label\": \"c\", \"title\": \"13: c\", \"color\": {\"background\": \"rgba(164, 249, 159, 1)\"}, \"font\": {\"color\": \"white\"}}, {\"id\": 14, \"label\": \"h\", \"title\": \"14: h\", \"color\": {\"background\": \"rgba(91, 249, 200, 1)\"}, \"font\": {\"color\": \"white\"}}, {\"id\": 15, \"label\": \"i\", \"title\": \"15: i\", \"color\": {\"background\": \"rgba(18, 200, 230, 1)\"}, \"font\": {\"color\": \"white\"}}, {\"id\": 16, \"label\": \"n\", \"title\": \"16: n\", \"color\": {\"background\": \"rgba(54, 111, 249, 1)\"}, \"font\": {\"color\": \"white\"}}, {\"id\": 17, \"label\": \"g\", \"title\": \"17: g\", \"color\": {\"background\": \"rgba(128, 0, 256, 1)\"}, \"font\": {\"color\": \"white\"}}];\n",
       "var edges = [{\"from\": 0, \"to\": 1, \"title\": \"0: (S, t)\", \"label\": \"\"}, {\"from\": 1, \"to\": 2, \"title\": \"1: (t, o)\", \"label\": \"\"}, {\"from\": 1, \"to\": 11, \"title\": \"2: (t, a)\", \"label\": \"\"}, {\"from\": 2, \"to\": 3, \"title\": \"3: (o, c)\", \"label\": \"\"}, {\"from\": 3, \"to\": 4, \"title\": \"4: (c, h)\", \"label\": \"\"}, {\"from\": 3, \"to\": 12, \"title\": \"5: (c, t)\", \"label\": \"\"}, {\"from\": 4, \"to\": 5, \"title\": \"6: (h, a)\", \"label\": \"\"}, {\"from\": 5, \"to\": 6, \"title\": \"7: (a, s)\", \"label\": \"\"}, {\"from\": 5, \"to\": 15, \"title\": \"8: (a, i)\", \"label\": \"\"}, {\"from\": 6, \"to\": 7, \"title\": \"9: (s, t)\", \"label\": \"\"}, {\"from\": 7, \"to\": 8, \"title\": \"10: (t, i)\", \"label\": \"\"}, {\"from\": 7, \"to\": 16, \"title\": \"11: (t, n)\", \"label\": \"\"}, {\"from\": 8, \"to\": 9, \"title\": \"12: (i, c)\", \"label\": \"\"}, {\"from\": 10, \"to\": 11, \"title\": \"13: (M, a)\", \"label\": \"\"}, {\"from\": 11, \"to\": 12, \"title\": \"14: (a, t)\", \"label\": \"\"}, {\"from\": 12, \"to\": 13, \"title\": \"15: (t, c)\", \"label\": \"\"}, {\"from\": 13, \"to\": 14, \"title\": \"16: (c, h)\", \"label\": \"\"}, {\"from\": 14, \"to\": 15, \"title\": \"17: (h, i)\", \"label\": \"\"}, {\"from\": 15, \"to\": 16, \"title\": \"18: (i, n)\", \"label\": \"\"}, {\"from\": 16, \"to\": 17, \"title\": \"19: (n, g)\", \"label\": \"\"}];\n",
       "var data= {\n",
       "    nodes: nodes,\n",
       "    edges: edges,\n",
       "};\n",
       "var options = {\"interaction\": {\"navigationButtons\": true}, \"width\": \"1000px\", \"height\": \"600px\", \"nodes\": {\"font\": {\"size\": 80}}};\n",
       "var container = document.getElementById('244a4b3f-3664-406e-85ef-8aa9d69a19b1');\n",
       "var network = new vis.Network(container, data, options);\n",
       "network.fit({\n",
       "  maxZoomLevel: 1000});\n",
       "});\n",
       "</script>\n"
      ],
      "text/plain": [
       "<IPython.core.display.HTML object>"
      ]
     },
     "metadata": {},
     "output_type": "display_data"
    }
   ],
   "source": [
    "import numpy as np\n",
    "from matplotlib import pyplot as plt\n",
    "from stochastic_matching.graphs.generators import concatenate_adjacency, path_adjacency\n",
    "\n",
    "def random_color(n=100, i=None, name='rainbow'):\n",
    "    if i is None:\n",
    "        i = np.random.randint(n)\n",
    "    r, g, b, a = plt.cm.get_cmap(name, n)(i)\n",
    "    return f\"rgba({int(256*r)}, {int(256*g)}, {int(256*b)}, 1)\"\n",
    "\n",
    "adja = concatenate_adjacency([path_adjacency(10), path_adjacency(8)], 0)\n",
    "for i, j in [(1, 11), (16, 7), (5, 15), (12, 3)]:\n",
    "    adja[i, j] = 1\n",
    "    adja[j, i] = 1\n",
    "    \n",
    "g = sm.SimpleGraph(adja, names = [c for c in \"StochasticMatching\"])\n",
    "nodes_dict1 = [{'color': {'background': random_color(10, i)}, 'font': {'color': 'black'}} for i in range(10)]\n",
    "nodes_dict2 = [{'color': {'background': random_color(8, 8-i-1)}, 'font': {'color': 'white'}} for i in range(8)]\n",
    "edges_dict=[{'label': ''} for _ in range(g.m)]\n",
    "options = {'width': '1000px', 'nodes': {'font': {'size': 80}}}\n",
    "g.show(nodes_dict=nodes_dict1+nodes_dict2, edges_dict = edges_dict, options=options)"
   ]
  },
  {
   "cell_type": "markdown",
   "metadata": {},
   "source": [
    "An here is the code for the short version. Note the option `png=True` which creates a mirror png image that can be saved!"
   ]
  },
  {
   "cell_type": "code",
   "execution_count": 44,
   "metadata": {
    "ExecuteTime": {
     "end_time": "2022-01-14T15:22:10.191536Z",
     "start_time": "2022-01-14T15:22:10.177399Z"
    }
   },
   "outputs": [
    {
     "data": {
      "text/html": [
       "\n",
       "<div id=\"9153343a-9935-4d18-bc87-1a650f94b25a\"></div>\n",
       "<img id=\"canvasImg\" alt=\"Right click to save me!\">\n",
       "<script>\n",
       "require.config({\n",
       "    paths: {\n",
       "        vis: 'https://unpkg.com/vis-network/standalone/umd/vis-network.min'\n",
       "    }\n",
       "});\n",
       "require(['vis'], function(vis){\n",
       "var nodes = [{\"id\": 0, \"label\": \"S\", \"title\": \"0: S\", \"color\": {\"background\": \"rgba(128, 0, 256, 1)\"}, \"font\": {\"color\": \"black\"}}, {\"id\": 1, \"label\": \"t\", \"title\": \"1: t\", \"color\": {\"background\": \"rgba(0, 181, 236, 1)\"}, \"font\": {\"color\": \"black\"}}, {\"id\": 2, \"label\": \"o\", \"title\": \"2: o\", \"color\": {\"background\": \"rgba(128, 256, 181, 1)\"}, \"font\": {\"color\": \"black\"}}, {\"id\": 3, \"label\": \"c\", \"title\": \"3: c\", \"color\": {\"background\": \"rgba(256, 181, 97, 1)\"}, \"font\": {\"color\": \"black\"}}, {\"id\": 4, \"label\": \"h\", \"title\": \"4: h\", \"color\": {\"background\": \"rgba(256, 0, 0, 1)\"}, \"font\": {\"color\": \"black\"}}, {\"id\": 5, \"label\": \"M\", \"title\": \"5: M\", \"color\": {\"background\": \"rgba(256, 0, 0, 1)\"}, \"font\": {\"color\": \"white\"}}, {\"id\": 6, \"label\": \"a\", \"title\": \"6: a\", \"color\": {\"background\": \"rgba(256, 181, 97, 1)\"}, \"font\": {\"color\": \"white\"}}, {\"id\": 7, \"label\": \"t\", \"title\": \"7: t\", \"color\": {\"background\": \"rgba(128, 256, 181, 1)\"}, \"font\": {\"color\": \"white\"}}, {\"id\": 8, \"label\": \"c\", \"title\": \"8: c\", \"color\": {\"background\": \"rgba(0, 181, 236, 1)\"}, \"font\": {\"color\": \"white\"}}, {\"id\": 9, \"label\": \"h\", \"title\": \"9: h\", \"color\": {\"background\": \"rgba(128, 0, 256, 1)\"}, \"font\": {\"color\": \"white\"}}];\n",
       "var edges = [{\"from\": 0, \"to\": 1, \"title\": \"0: (S, t)\", \"label\": \"\"}, {\"from\": 1, \"to\": 2, \"title\": \"1: (t, o)\", \"label\": \"\"}, {\"from\": 1, \"to\": 6, \"title\": \"2: (t, a)\", \"label\": \"\"}, {\"from\": 2, \"to\": 3, \"title\": \"3: (o, c)\", \"label\": \"\"}, {\"from\": 2, \"to\": 6, \"title\": \"4: (o, a)\", \"label\": \"\"}, {\"from\": 3, \"to\": 4, \"title\": \"5: (c, h)\", \"label\": \"\"}, {\"from\": 3, \"to\": 7, \"title\": \"6: (c, t)\", \"label\": \"\"}, {\"from\": 3, \"to\": 8, \"title\": \"7: (c, c)\", \"label\": \"\"}, {\"from\": 5, \"to\": 6, \"title\": \"8: (M, a)\", \"label\": \"\"}, {\"from\": 6, \"to\": 7, \"title\": \"9: (a, t)\", \"label\": \"\"}, {\"from\": 7, \"to\": 8, \"title\": \"10: (t, c)\", \"label\": \"\"}, {\"from\": 8, \"to\": 9, \"title\": \"11: (c, h)\", \"label\": \"\"}];\n",
       "var data= {\n",
       "    nodes: nodes,\n",
       "    edges: edges,\n",
       "};\n",
       "var options = {\"interaction\": {\"navigationButtons\": true}, \"width\": \"1000px\", \"height\": \"600px\", \"nodes\": {\"font\": {\"size\": 80}}};\n",
       "var container = document.getElementById('9153343a-9935-4d18-bc87-1a650f94b25a');\n",
       "var network = new vis.Network(container, data, options);\n",
       "network.on(\"afterDrawing\", function (ctx) {\n",
       "    var dataURL = ctx.canvas.toDataURL();\n",
       "    document.getElementById('canvasImg').src = dataURL;\n",
       "  });\n",
       "network.fit({\n",
       "  maxZoomLevel: 1000});\n",
       "});\n",
       "</script>\n"
      ],
      "text/plain": [
       "<IPython.core.display.HTML object>"
      ]
     },
     "metadata": {},
     "output_type": "display_data"
    }
   ],
   "source": [
    "adja = concatenate_adjacency([path_adjacency(5), path_adjacency(5)], 0)\n",
    "for i, j in [(1, 6), (2, 6), (3, 7), (3, 8)]:\n",
    "    adja[i, j] = 1\n",
    "    adja[j, i] = 1\n",
    "g = sm.SimpleGraph(adja, names = [c for c in \"StochMatch\"])\n",
    "nodes_dict1 = [{'color': {'background': random_color(5, i)}, 'font': {'color': 'black'}} for i in range(5)]\n",
    "nodes_dict2 = [{'color': {'background': random_color(5, 4-i)}, 'font': {'color': 'white'}} for i in range(5)]\n",
    "edges_dict=[{'label': ''} for _ in range(g.m)]\n",
    "options = {'width': '1000px', 'nodes': {'font': {'size': 80}}}\n",
    "g.show(nodes_dict=nodes_dict1+nodes_dict2, edges_dict = edges_dict, options=options, png=True)"
   ]
  },
  {
   "cell_type": "markdown",
   "metadata": {},
   "source": [
    "## Hypergraphs"
   ]
  },
  {
   "cell_type": "markdown",
   "metadata": {},
   "source": [
    "Hypergraph egdes can link an arbitrary number of nodes (nor necessarily 2). They belong to the `HyperGraph` class, which mainly differ from `SimpleGraph` by the absence of adjacency matrix (only the incidence matrix is used) and a different way of been displayed."
   ]
  },
  {
   "cell_type": "markdown",
   "metadata": {},
   "source": [
    "### Simple graphs as hypergraphs"
   ]
  },
  {
   "cell_type": "markdown",
   "metadata": {},
   "source": [
    "All simple graphs are hypergraphs and they possess a conversion method."
   ]
  },
  {
   "cell_type": "code",
   "execution_count": 45,
   "metadata": {
    "ExecuteTime": {
     "end_time": "2022-01-14T15:22:10.207497Z",
     "start_time": "2022-01-14T15:22:10.195338Z"
    }
   },
   "outputs": [
    {
     "data": {
      "text/html": [
       "\n",
       "<div id=\"0407a713-db0f-4b2b-9f55-22d88f2da8a7\"></div>\n",
       "<script>\n",
       "require.config({\n",
       "    paths: {\n",
       "        vis: 'https://unpkg.com/vis-network/standalone/umd/vis-network.min'\n",
       "    }\n",
       "});\n",
       "require(['vis'], function(vis){\n",
       "var nodes = [{\"id\": 0, \"label\": \"0\", \"title\": \"0\", \"x\": 0, \"group\": \"Node\"}, {\"id\": 1, \"label\": \"1\", \"title\": \"1\", \"x\": 0, \"group\": \"Node\"}, {\"id\": 2, \"label\": \"2\", \"title\": \"2\", \"x\": 0, \"group\": \"Node\"}, {\"id\": 3, \"label\": \"3\", \"title\": \"3\", \"x\": 0, \"group\": \"Node\"}, {\"id\": 4, \"title\": \"0: (0, 1)\", \"group\": \"HyperEdge\", \"x\": 480}, {\"id\": 5, \"title\": \"1: (0, 2)\", \"group\": \"HyperEdge\", \"x\": 480}, {\"id\": 6, \"title\": \"2: (1, 2)\", \"group\": \"HyperEdge\", \"x\": 480}, {\"id\": 7, \"title\": \"3: (2, 3)\", \"group\": \"HyperEdge\", \"x\": 480}];\n",
       "var edges = [{\"from\": 0, \"to\": 4, \"title\": \"0 <-> 0: (0, 1)\"}, {\"from\": 0, \"to\": 5, \"title\": \"0 <-> 1: (0, 2)\"}, {\"from\": 1, \"to\": 4, \"title\": \"1 <-> 0: (0, 1)\"}, {\"from\": 1, \"to\": 6, \"title\": \"1 <-> 2: (1, 2)\"}, {\"from\": 2, \"to\": 5, \"title\": \"2 <-> 1: (0, 2)\"}, {\"from\": 2, \"to\": 6, \"title\": \"2 <-> 2: (1, 2)\"}, {\"from\": 2, \"to\": 7, \"title\": \"2 <-> 3: (2, 3)\"}, {\"from\": 3, \"to\": 7, \"title\": \"3 <-> 3: (2, 3)\"}];\n",
       "var data= {\n",
       "    nodes: nodes,\n",
       "    edges: edges,\n",
       "};\n",
       "var options = {\"interaction\": {\"navigationButtons\": true}, \"width\": \"600px\", \"height\": \"600px\", \"groups\": {\"HyperEdge\": {\"fixed\": {\"x\": false}, \"color\": {\"background\": \"black\"}, \"shape\": \"dot\", \"size\": 5}, \"Node\": {\"fixed\": {\"x\": false}}}, \"bipartite_display\": false};\n",
       "var container = document.getElementById('0407a713-db0f-4b2b-9f55-22d88f2da8a7');\n",
       "var network = new vis.Network(container, data, options);\n",
       "network.fit({\n",
       "  maxZoomLevel: 1000});\n",
       "});\n",
       "</script>\n"
      ],
      "text/plain": [
       "<IPython.core.display.HTML object>"
      ]
     },
     "metadata": {},
     "output_type": "display_data"
    }
   ],
   "source": [
    "hpaw = sm.tadpole_graph().to_hypergraph()\n",
    "hpaw.show()"
   ]
  },
  {
   "cell_type": "markdown",
   "metadata": {},
   "source": [
    "Note the new convention: edges are represented by small black nodes, and the edges displayed alway link one single node to one edge. Also note that it is possible to make the bipartite structure between nodes and edges more apparent by passing the following option:"
   ]
  },
  {
   "cell_type": "code",
   "execution_count": 46,
   "metadata": {
    "ExecuteTime": {
     "end_time": "2022-01-14T15:22:10.223325Z",
     "start_time": "2022-01-14T15:22:10.210642Z"
    }
   },
   "outputs": [
    {
     "data": {
      "text/html": [
       "\n",
       "<div id=\"7d3e6fad-9075-4e5a-8e64-57c038e67eab\"></div>\n",
       "<script>\n",
       "require.config({\n",
       "    paths: {\n",
       "        vis: 'https://unpkg.com/vis-network/standalone/umd/vis-network.min'\n",
       "    }\n",
       "});\n",
       "require(['vis'], function(vis){\n",
       "var nodes = [{\"id\": 0, \"label\": \"0\", \"title\": \"0\", \"x\": 0, \"group\": \"Node\"}, {\"id\": 1, \"label\": \"1\", \"title\": \"1\", \"x\": 0, \"group\": \"Node\"}, {\"id\": 2, \"label\": \"2\", \"title\": \"2\", \"x\": 0, \"group\": \"Node\"}, {\"id\": 3, \"label\": \"3\", \"title\": \"3\", \"x\": 0, \"group\": \"Node\"}, {\"id\": 4, \"title\": \"0: (0, 1)\", \"group\": \"HyperEdge\", \"x\": 480}, {\"id\": 5, \"title\": \"1: (0, 2)\", \"group\": \"HyperEdge\", \"x\": 480}, {\"id\": 6, \"title\": \"2: (1, 2)\", \"group\": \"HyperEdge\", \"x\": 480}, {\"id\": 7, \"title\": \"3: (2, 3)\", \"group\": \"HyperEdge\", \"x\": 480}];\n",
       "var edges = [{\"from\": 0, \"to\": 4, \"title\": \"0 <-> 0: (0, 1)\"}, {\"from\": 0, \"to\": 5, \"title\": \"0 <-> 1: (0, 2)\"}, {\"from\": 1, \"to\": 4, \"title\": \"1 <-> 0: (0, 1)\"}, {\"from\": 1, \"to\": 6, \"title\": \"1 <-> 2: (1, 2)\"}, {\"from\": 2, \"to\": 5, \"title\": \"2 <-> 1: (0, 2)\"}, {\"from\": 2, \"to\": 6, \"title\": \"2 <-> 2: (1, 2)\"}, {\"from\": 2, \"to\": 7, \"title\": \"2 <-> 3: (2, 3)\"}, {\"from\": 3, \"to\": 7, \"title\": \"3 <-> 3: (2, 3)\"}];\n",
       "var data= {\n",
       "    nodes: nodes,\n",
       "    edges: edges,\n",
       "};\n",
       "var options = {\"interaction\": {\"navigationButtons\": true}, \"width\": \"600px\", \"height\": \"600px\", \"groups\": {\"HyperEdge\": {\"fixed\": {\"x\": true}, \"color\": {\"background\": \"black\"}, \"shape\": \"dot\", \"size\": 5}, \"Node\": {\"fixed\": {\"x\": true}}}, \"bipartite_display\": true};\n",
       "var container = document.getElementById('7d3e6fad-9075-4e5a-8e64-57c038e67eab');\n",
       "var network = new vis.Network(container, data, options);\n",
       "network.fit({\n",
       "  maxZoomLevel: 1000});\n",
       "});\n",
       "</script>\n"
      ],
      "text/plain": [
       "<IPython.core.display.HTML object>"
      ]
     },
     "metadata": {},
     "output_type": "display_data"
    }
   ],
   "source": [
    "hpaw.show(options={'bipartite_display': True})"
   ]
  },
  {
   "cell_type": "markdown",
   "metadata": {},
   "source": [
    "### Hyper paddle"
   ]
  },
  {
   "cell_type": "markdown",
   "metadata": {},
   "source": [
    "Hyper paddles are like regular kayak paddles except that the *center* is made of 3-edges. For example, the *candy* graph, which is an important example when considering stability."
   ]
  },
  {
   "cell_type": "code",
   "execution_count": 47,
   "metadata": {
    "ExecuteTime": {
     "end_time": "2022-01-14T15:22:10.239157Z",
     "start_time": "2022-01-14T15:22:10.225019Z"
    }
   },
   "outputs": [
    {
     "data": {
      "text/html": [
       "\n",
       "<div id=\"1806a521-a3b3-4ec6-a00b-5feacc3c4d55\"></div>\n",
       "<script>\n",
       "require.config({\n",
       "    paths: {\n",
       "        vis: 'https://unpkg.com/vis-network/standalone/umd/vis-network.min'\n",
       "    }\n",
       "});\n",
       "require(['vis'], function(vis){\n",
       "var nodes = [{\"id\": 0, \"label\": \"0\", \"title\": \"0\", \"x\": 0, \"group\": \"Node\"}, {\"id\": 1, \"label\": \"1\", \"title\": \"1\", \"x\": 0, \"group\": \"Node\"}, {\"id\": 2, \"label\": \"2\", \"title\": \"2\", \"x\": 0, \"group\": \"Node\"}, {\"id\": 3, \"label\": \"3\", \"title\": \"3\", \"x\": 0, \"group\": \"Node\"}, {\"id\": 4, \"label\": \"4\", \"title\": \"4\", \"x\": 0, \"group\": \"Node\"}, {\"id\": 5, \"label\": \"5\", \"title\": \"5\", \"x\": 0, \"group\": \"Node\"}, {\"id\": 6, \"label\": \"6\", \"title\": \"6\", \"x\": 0, \"group\": \"Node\"}, {\"id\": 7, \"title\": \"0: (0, 1)\", \"group\": \"HyperEdge\", \"x\": 480}, {\"id\": 8, \"title\": \"1: (0, 2)\", \"group\": \"HyperEdge\", \"x\": 480}, {\"id\": 9, \"title\": \"2: (1, 2)\", \"group\": \"HyperEdge\", \"x\": 480}, {\"id\": 10, \"title\": \"3: (4, 5)\", \"group\": \"HyperEdge\", \"x\": 480}, {\"id\": 11, \"title\": \"4: (4, 6)\", \"group\": \"HyperEdge\", \"x\": 480}, {\"id\": 12, \"title\": \"5: (5, 6)\", \"group\": \"HyperEdge\", \"x\": 480}, {\"id\": 13, \"title\": \"6: (2, 3, 4)\", \"group\": \"HyperEdge\", \"x\": 480}];\n",
       "var edges = [{\"from\": 0, \"to\": 7, \"title\": \"0 <-> 0: (0, 1)\"}, {\"from\": 0, \"to\": 8, \"title\": \"0 <-> 1: (0, 2)\"}, {\"from\": 1, \"to\": 7, \"title\": \"1 <-> 0: (0, 1)\"}, {\"from\": 1, \"to\": 9, \"title\": \"1 <-> 2: (1, 2)\"}, {\"from\": 2, \"to\": 8, \"title\": \"2 <-> 1: (0, 2)\"}, {\"from\": 2, \"to\": 9, \"title\": \"2 <-> 2: (1, 2)\"}, {\"from\": 2, \"to\": 13, \"title\": \"2 <-> 6: (2, 3, 4)\"}, {\"from\": 3, \"to\": 13, \"title\": \"3 <-> 6: (2, 3, 4)\"}, {\"from\": 4, \"to\": 10, \"title\": \"4 <-> 3: (4, 5)\"}, {\"from\": 4, \"to\": 11, \"title\": \"4 <-> 4: (4, 6)\"}, {\"from\": 4, \"to\": 13, \"title\": \"4 <-> 6: (2, 3, 4)\"}, {\"from\": 5, \"to\": 10, \"title\": \"5 <-> 3: (4, 5)\"}, {\"from\": 5, \"to\": 12, \"title\": \"5 <-> 5: (5, 6)\"}, {\"from\": 6, \"to\": 11, \"title\": \"6 <-> 4: (4, 6)\"}, {\"from\": 6, \"to\": 12, \"title\": \"6 <-> 5: (5, 6)\"}];\n",
       "var data= {\n",
       "    nodes: nodes,\n",
       "    edges: edges,\n",
       "};\n",
       "var options = {\"interaction\": {\"navigationButtons\": true}, \"width\": \"600px\", \"height\": \"600px\", \"groups\": {\"HyperEdge\": {\"fixed\": {\"x\": false}, \"color\": {\"background\": \"black\"}, \"shape\": \"dot\", \"size\": 5}, \"Node\": {\"fixed\": {\"x\": false}}}, \"bipartite_display\": false};\n",
       "var container = document.getElementById('1806a521-a3b3-4ec6-a00b-5feacc3c4d55');\n",
       "var network = new vis.Network(container, data, options);\n",
       "network.fit({\n",
       "  maxZoomLevel: 1000});\n",
       "});\n",
       "</script>\n"
      ],
      "text/plain": [
       "<IPython.core.display.HTML object>"
      ]
     },
     "metadata": {},
     "output_type": "display_data"
    }
   ],
   "source": [
    "candy = sm.hyper_paddle()\n",
    "candy.show()"
   ]
  },
  {
   "cell_type": "markdown",
   "metadata": {},
   "source": [
    "A larger version."
   ]
  },
  {
   "cell_type": "code",
   "execution_count": 48,
   "metadata": {
    "ExecuteTime": {
     "end_time": "2022-01-14T15:22:10.254548Z",
     "start_time": "2022-01-14T15:22:10.240485Z"
    }
   },
   "outputs": [
    {
     "data": {
      "text/html": [
       "\n",
       "<div id=\"a071ecdc-8321-4aa5-9c75-f4d4ad69578d\"></div>\n",
       "<script>\n",
       "require.config({\n",
       "    paths: {\n",
       "        vis: 'https://unpkg.com/vis-network/standalone/umd/vis-network.min'\n",
       "    }\n",
       "});\n",
       "require(['vis'], function(vis){\n",
       "var nodes = [{\"id\": 0, \"label\": \"0\", \"title\": \"0\", \"x\": 0, \"group\": \"Node\"}, {\"id\": 1, \"label\": \"1\", \"title\": \"1\", \"x\": 0, \"group\": \"Node\"}, {\"id\": 2, \"label\": \"2\", \"title\": \"2\", \"x\": 0, \"group\": \"Node\"}, {\"id\": 3, \"label\": \"3\", \"title\": \"3\", \"x\": 0, \"group\": \"Node\"}, {\"id\": 4, \"label\": \"4\", \"title\": \"4\", \"x\": 0, \"group\": \"Node\"}, {\"id\": 5, \"label\": \"5\", \"title\": \"5\", \"x\": 0, \"group\": \"Node\"}, {\"id\": 6, \"label\": \"6\", \"title\": \"6\", \"x\": 0, \"group\": \"Node\"}, {\"id\": 7, \"label\": \"7\", \"title\": \"7\", \"x\": 0, \"group\": \"Node\"}, {\"id\": 8, \"label\": \"8\", \"title\": \"8\", \"x\": 0, \"group\": \"Node\"}, {\"id\": 9, \"label\": \"9\", \"title\": \"9\", \"x\": 0, \"group\": \"Node\"}, {\"id\": 10, \"title\": \"0: (0, 1)\", \"group\": \"HyperEdge\", \"x\": 480}, {\"id\": 11, \"title\": \"1: (0, 3)\", \"group\": \"HyperEdge\", \"x\": 480}, {\"id\": 12, \"title\": \"2: (1, 2)\", \"group\": \"HyperEdge\", \"x\": 480}, {\"id\": 13, \"title\": \"3: (2, 3)\", \"group\": \"HyperEdge\", \"x\": 480}, {\"id\": 14, \"title\": \"4: (7, 8)\", \"group\": \"HyperEdge\", \"x\": 480}, {\"id\": 15, \"title\": \"5: (7, 9)\", \"group\": \"HyperEdge\", \"x\": 480}, {\"id\": 16, \"title\": \"6: (8, 9)\", \"group\": \"HyperEdge\", \"x\": 480}, {\"id\": 17, \"title\": \"7: (3, 4, 5)\", \"group\": \"HyperEdge\", \"x\": 480}, {\"id\": 18, \"title\": \"8: (4, 5, 6)\", \"group\": \"HyperEdge\", \"x\": 480}, {\"id\": 19, \"title\": \"9: (5, 6, 7)\", \"group\": \"HyperEdge\", \"x\": 480}];\n",
       "var edges = [{\"from\": 0, \"to\": 10, \"title\": \"0 <-> 0: (0, 1)\"}, {\"from\": 0, \"to\": 11, \"title\": \"0 <-> 1: (0, 3)\"}, {\"from\": 1, \"to\": 10, \"title\": \"1 <-> 0: (0, 1)\"}, {\"from\": 1, \"to\": 12, \"title\": \"1 <-> 2: (1, 2)\"}, {\"from\": 2, \"to\": 12, \"title\": \"2 <-> 2: (1, 2)\"}, {\"from\": 2, \"to\": 13, \"title\": \"2 <-> 3: (2, 3)\"}, {\"from\": 3, \"to\": 11, \"title\": \"3 <-> 1: (0, 3)\"}, {\"from\": 3, \"to\": 13, \"title\": \"3 <-> 3: (2, 3)\"}, {\"from\": 3, \"to\": 17, \"title\": \"3 <-> 7: (3, 4, 5)\"}, {\"from\": 4, \"to\": 17, \"title\": \"4 <-> 7: (3, 4, 5)\"}, {\"from\": 4, \"to\": 18, \"title\": \"4 <-> 8: (4, 5, 6)\"}, {\"from\": 5, \"to\": 17, \"title\": \"5 <-> 7: (3, 4, 5)\"}, {\"from\": 5, \"to\": 18, \"title\": \"5 <-> 8: (4, 5, 6)\"}, {\"from\": 5, \"to\": 19, \"title\": \"5 <-> 9: (5, 6, 7)\"}, {\"from\": 6, \"to\": 18, \"title\": \"6 <-> 8: (4, 5, 6)\"}, {\"from\": 6, \"to\": 19, \"title\": \"6 <-> 9: (5, 6, 7)\"}, {\"from\": 7, \"to\": 14, \"title\": \"7 <-> 4: (7, 8)\"}, {\"from\": 7, \"to\": 15, \"title\": \"7 <-> 5: (7, 9)\"}, {\"from\": 7, \"to\": 19, \"title\": \"7 <-> 9: (5, 6, 7)\"}, {\"from\": 8, \"to\": 14, \"title\": \"8 <-> 4: (7, 8)\"}, {\"from\": 8, \"to\": 16, \"title\": \"8 <-> 6: (8, 9)\"}, {\"from\": 9, \"to\": 15, \"title\": \"9 <-> 5: (7, 9)\"}, {\"from\": 9, \"to\": 16, \"title\": \"9 <-> 6: (8, 9)\"}];\n",
       "var data= {\n",
       "    nodes: nodes,\n",
       "    edges: edges,\n",
       "};\n",
       "var options = {\"interaction\": {\"navigationButtons\": true}, \"width\": \"600px\", \"height\": \"600px\", \"groups\": {\"HyperEdge\": {\"fixed\": {\"x\": false}, \"color\": {\"background\": \"black\"}, \"shape\": \"dot\", \"size\": 5}, \"Node\": {\"fixed\": {\"x\": false}}}, \"bipartite_display\": false};\n",
       "var container = document.getElementById('a071ecdc-8321-4aa5-9c75-f4d4ad69578d');\n",
       "var network = new vis.Network(container, data, options);\n",
       "network.fit({\n",
       "  maxZoomLevel: 1000});\n",
       "});\n",
       "</script>\n"
      ],
      "text/plain": [
       "<IPython.core.display.HTML object>"
      ]
     },
     "metadata": {},
     "output_type": "display_data"
    }
   ],
   "source": [
    "poodle = sm.hyper_paddle(left_cycle=4, hyperedges=3)\n",
    "poodle.show()"
   ]
  },
  {
   "cell_type": "markdown",
   "metadata": {},
   "source": [
    "### Fans"
   ]
  },
  {
   "cell_type": "markdown",
   "metadata": {},
   "source": [
    "A fan is a certain number of cycles hyperconnected. They are useful to show simple examples of hypergraphs with non-trivial kernels, possibly degenerated. The simplest is the clover."
   ]
  },
  {
   "cell_type": "code",
   "execution_count": 49,
   "metadata": {
    "ExecuteTime": {
     "end_time": "2022-01-14T15:22:10.270208Z",
     "start_time": "2022-01-14T15:22:10.256211Z"
    }
   },
   "outputs": [
    {
     "data": {
      "text/html": [
       "\n",
       "<div id=\"068a2617-a061-4a07-86b9-a1d78addfa6a\"></div>\n",
       "<script>\n",
       "require.config({\n",
       "    paths: {\n",
       "        vis: 'https://unpkg.com/vis-network/standalone/umd/vis-network.min'\n",
       "    }\n",
       "});\n",
       "require(['vis'], function(vis){\n",
       "var nodes = [{\"id\": 0, \"label\": \"0\", \"title\": \"0\", \"x\": 0, \"group\": \"Node\"}, {\"id\": 1, \"label\": \"1\", \"title\": \"1\", \"x\": 0, \"group\": \"Node\"}, {\"id\": 2, \"label\": \"2\", \"title\": \"2\", \"x\": 0, \"group\": \"Node\"}, {\"id\": 3, \"label\": \"3\", \"title\": \"3\", \"x\": 0, \"group\": \"Node\"}, {\"id\": 4, \"label\": \"4\", \"title\": \"4\", \"x\": 0, \"group\": \"Node\"}, {\"id\": 5, \"label\": \"5\", \"title\": \"5\", \"x\": 0, \"group\": \"Node\"}, {\"id\": 6, \"label\": \"6\", \"title\": \"6\", \"x\": 0, \"group\": \"Node\"}, {\"id\": 7, \"label\": \"7\", \"title\": \"7\", \"x\": 0, \"group\": \"Node\"}, {\"id\": 8, \"label\": \"8\", \"title\": \"8\", \"x\": 0, \"group\": \"Node\"}, {\"id\": 9, \"title\": \"0: (0, 1)\", \"group\": \"HyperEdge\", \"x\": 480}, {\"id\": 10, \"title\": \"1: (0, 2)\", \"group\": \"HyperEdge\", \"x\": 480}, {\"id\": 11, \"title\": \"2: (1, 2)\", \"group\": \"HyperEdge\", \"x\": 480}, {\"id\": 12, \"title\": \"3: (3, 4)\", \"group\": \"HyperEdge\", \"x\": 480}, {\"id\": 13, \"title\": \"4: (3, 5)\", \"group\": \"HyperEdge\", \"x\": 480}, {\"id\": 14, \"title\": \"5: (4, 5)\", \"group\": \"HyperEdge\", \"x\": 480}, {\"id\": 15, \"title\": \"6: (6, 7)\", \"group\": \"HyperEdge\", \"x\": 480}, {\"id\": 16, \"title\": \"7: (6, 8)\", \"group\": \"HyperEdge\", \"x\": 480}, {\"id\": 17, \"title\": \"8: (7, 8)\", \"group\": \"HyperEdge\", \"x\": 480}, {\"id\": 18, \"title\": \"9: (0, 3, 6)\", \"group\": \"HyperEdge\", \"x\": 480}];\n",
       "var edges = [{\"from\": 0, \"to\": 9, \"title\": \"0 <-> 0: (0, 1)\"}, {\"from\": 0, \"to\": 10, \"title\": \"0 <-> 1: (0, 2)\"}, {\"from\": 0, \"to\": 18, \"title\": \"0 <-> 9: (0, 3, 6)\"}, {\"from\": 1, \"to\": 9, \"title\": \"1 <-> 0: (0, 1)\"}, {\"from\": 1, \"to\": 11, \"title\": \"1 <-> 2: (1, 2)\"}, {\"from\": 2, \"to\": 10, \"title\": \"2 <-> 1: (0, 2)\"}, {\"from\": 2, \"to\": 11, \"title\": \"2 <-> 2: (1, 2)\"}, {\"from\": 3, \"to\": 12, \"title\": \"3 <-> 3: (3, 4)\"}, {\"from\": 3, \"to\": 13, \"title\": \"3 <-> 4: (3, 5)\"}, {\"from\": 3, \"to\": 18, \"title\": \"3 <-> 9: (0, 3, 6)\"}, {\"from\": 4, \"to\": 12, \"title\": \"4 <-> 3: (3, 4)\"}, {\"from\": 4, \"to\": 14, \"title\": \"4 <-> 5: (4, 5)\"}, {\"from\": 5, \"to\": 13, \"title\": \"5 <-> 4: (3, 5)\"}, {\"from\": 5, \"to\": 14, \"title\": \"5 <-> 5: (4, 5)\"}, {\"from\": 6, \"to\": 15, \"title\": \"6 <-> 6: (6, 7)\"}, {\"from\": 6, \"to\": 16, \"title\": \"6 <-> 7: (6, 8)\"}, {\"from\": 6, \"to\": 18, \"title\": \"6 <-> 9: (0, 3, 6)\"}, {\"from\": 7, \"to\": 15, \"title\": \"7 <-> 6: (6, 7)\"}, {\"from\": 7, \"to\": 17, \"title\": \"7 <-> 8: (7, 8)\"}, {\"from\": 8, \"to\": 16, \"title\": \"8 <-> 7: (6, 8)\"}, {\"from\": 8, \"to\": 17, \"title\": \"8 <-> 8: (7, 8)\"}];\n",
       "var data= {\n",
       "    nodes: nodes,\n",
       "    edges: edges,\n",
       "};\n",
       "var options = {\"interaction\": {\"navigationButtons\": true}, \"width\": \"600px\", \"height\": \"600px\", \"groups\": {\"HyperEdge\": {\"fixed\": {\"x\": false}, \"color\": {\"background\": \"black\"}, \"shape\": \"dot\", \"size\": 5}, \"Node\": {\"fixed\": {\"x\": false}}}, \"bipartite_display\": false};\n",
       "var container = document.getElementById('068a2617-a061-4a07-86b9-a1d78addfa6a');\n",
       "var network = new vis.Network(container, data, options);\n",
       "network.fit({\n",
       "  maxZoomLevel: 1000});\n",
       "});\n",
       "</script>\n"
      ],
      "text/plain": [
       "<IPython.core.display.HTML object>"
      ]
     },
     "metadata": {},
     "output_type": "display_data"
    }
   ],
   "source": [
    "sm.fan().show()"
   ]
  },
  {
   "cell_type": "markdown",
   "metadata": {},
   "source": [
    "Next one is a highly degenerated example (as shown in another notebook)!"
   ]
  },
  {
   "cell_type": "code",
   "execution_count": 50,
   "metadata": {
    "ExecuteTime": {
     "end_time": "2022-01-14T15:22:10.285326Z",
     "start_time": "2022-01-14T15:22:10.272211Z"
    }
   },
   "outputs": [
    {
     "data": {
      "text/html": [
       "\n",
       "<div id=\"58ae1978-b884-48a9-be18-f004e3ea4514\"></div>\n",
       "<script>\n",
       "require.config({\n",
       "    paths: {\n",
       "        vis: 'https://unpkg.com/vis-network/standalone/umd/vis-network.min'\n",
       "    }\n",
       "});\n",
       "require(['vis'], function(vis){\n",
       "var nodes = [{\"id\": 0, \"label\": \"0\", \"title\": \"0\", \"x\": 0, \"group\": \"Node\"}, {\"id\": 1, \"label\": \"1\", \"title\": \"1\", \"x\": 0, \"group\": \"Node\"}, {\"id\": 2, \"label\": \"2\", \"title\": \"2\", \"x\": 0, \"group\": \"Node\"}, {\"id\": 3, \"label\": \"3\", \"title\": \"3\", \"x\": 0, \"group\": \"Node\"}, {\"id\": 4, \"label\": \"4\", \"title\": \"4\", \"x\": 0, \"group\": \"Node\"}, {\"id\": 5, \"label\": \"5\", \"title\": \"5\", \"x\": 0, \"group\": \"Node\"}, {\"id\": 6, \"label\": \"6\", \"title\": \"6\", \"x\": 0, \"group\": \"Node\"}, {\"id\": 7, \"label\": \"7\", \"title\": \"7\", \"x\": 0, \"group\": \"Node\"}, {\"id\": 8, \"label\": \"8\", \"title\": \"8\", \"x\": 0, \"group\": \"Node\"}, {\"id\": 9, \"label\": \"9\", \"title\": \"9\", \"x\": 0, \"group\": \"Node\"}, {\"id\": 10, \"label\": \"10\", \"title\": \"10\", \"x\": 0, \"group\": \"Node\"}, {\"id\": 11, \"label\": \"11\", \"title\": \"11\", \"x\": 0, \"group\": \"Node\"}, {\"id\": 12, \"title\": \"0: (0, 1)\", \"group\": \"HyperEdge\", \"x\": 480}, {\"id\": 13, \"title\": \"1: (0, 3)\", \"group\": \"HyperEdge\", \"x\": 480}, {\"id\": 14, \"title\": \"2: (1, 2)\", \"group\": \"HyperEdge\", \"x\": 480}, {\"id\": 15, \"title\": \"3: (2, 3)\", \"group\": \"HyperEdge\", \"x\": 480}, {\"id\": 16, \"title\": \"4: (4, 5)\", \"group\": \"HyperEdge\", \"x\": 480}, {\"id\": 17, \"title\": \"5: (4, 7)\", \"group\": \"HyperEdge\", \"x\": 480}, {\"id\": 18, \"title\": \"6: (5, 6)\", \"group\": \"HyperEdge\", \"x\": 480}, {\"id\": 19, \"title\": \"7: (6, 7)\", \"group\": \"HyperEdge\", \"x\": 480}, {\"id\": 20, \"title\": \"8: (8, 9)\", \"group\": \"HyperEdge\", \"x\": 480}, {\"id\": 21, \"title\": \"9: (8, 11)\", \"group\": \"HyperEdge\", \"x\": 480}, {\"id\": 22, \"title\": \"10: (9, 10)\", \"group\": \"HyperEdge\", \"x\": 480}, {\"id\": 23, \"title\": \"11: (10, 11)\", \"group\": \"HyperEdge\", \"x\": 480}, {\"id\": 24, \"title\": \"12: (0, 4, 8)\", \"group\": \"HyperEdge\", \"x\": 480}, {\"id\": 25, \"title\": \"13: (1, 5, 9)\", \"group\": \"HyperEdge\", \"x\": 480}];\n",
       "var edges = [{\"from\": 0, \"to\": 12, \"title\": \"0 <-> 0: (0, 1)\"}, {\"from\": 0, \"to\": 13, \"title\": \"0 <-> 1: (0, 3)\"}, {\"from\": 0, \"to\": 24, \"title\": \"0 <-> 12: (0, 4, 8)\"}, {\"from\": 1, \"to\": 12, \"title\": \"1 <-> 0: (0, 1)\"}, {\"from\": 1, \"to\": 14, \"title\": \"1 <-> 2: (1, 2)\"}, {\"from\": 1, \"to\": 25, \"title\": \"1 <-> 13: (1, 5, 9)\"}, {\"from\": 2, \"to\": 14, \"title\": \"2 <-> 2: (1, 2)\"}, {\"from\": 2, \"to\": 15, \"title\": \"2 <-> 3: (2, 3)\"}, {\"from\": 3, \"to\": 13, \"title\": \"3 <-> 1: (0, 3)\"}, {\"from\": 3, \"to\": 15, \"title\": \"3 <-> 3: (2, 3)\"}, {\"from\": 4, \"to\": 16, \"title\": \"4 <-> 4: (4, 5)\"}, {\"from\": 4, \"to\": 17, \"title\": \"4 <-> 5: (4, 7)\"}, {\"from\": 4, \"to\": 24, \"title\": \"4 <-> 12: (0, 4, 8)\"}, {\"from\": 5, \"to\": 16, \"title\": \"5 <-> 4: (4, 5)\"}, {\"from\": 5, \"to\": 18, \"title\": \"5 <-> 6: (5, 6)\"}, {\"from\": 5, \"to\": 25, \"title\": \"5 <-> 13: (1, 5, 9)\"}, {\"from\": 6, \"to\": 18, \"title\": \"6 <-> 6: (5, 6)\"}, {\"from\": 6, \"to\": 19, \"title\": \"6 <-> 7: (6, 7)\"}, {\"from\": 7, \"to\": 17, \"title\": \"7 <-> 5: (4, 7)\"}, {\"from\": 7, \"to\": 19, \"title\": \"7 <-> 7: (6, 7)\"}, {\"from\": 8, \"to\": 20, \"title\": \"8 <-> 8: (8, 9)\"}, {\"from\": 8, \"to\": 21, \"title\": \"8 <-> 9: (8, 11)\"}, {\"from\": 8, \"to\": 24, \"title\": \"8 <-> 12: (0, 4, 8)\"}, {\"from\": 9, \"to\": 20, \"title\": \"9 <-> 8: (8, 9)\"}, {\"from\": 9, \"to\": 22, \"title\": \"9 <-> 10: (9, 10)\"}, {\"from\": 9, \"to\": 25, \"title\": \"9 <-> 13: (1, 5, 9)\"}, {\"from\": 10, \"to\": 22, \"title\": \"10 <-> 10: (9, 10)\"}, {\"from\": 10, \"to\": 23, \"title\": \"10 <-> 11: (10, 11)\"}, {\"from\": 11, \"to\": 21, \"title\": \"11 <-> 9: (8, 11)\"}, {\"from\": 11, \"to\": 23, \"title\": \"11 <-> 11: (10, 11)\"}];\n",
       "var data= {\n",
       "    nodes: nodes,\n",
       "    edges: edges,\n",
       "};\n",
       "var options = {\"interaction\": {\"navigationButtons\": true}, \"width\": \"600px\", \"height\": \"600px\", \"groups\": {\"HyperEdge\": {\"fixed\": {\"x\": false}, \"color\": {\"background\": \"black\"}, \"shape\": \"dot\", \"size\": 5}, \"Node\": {\"fixed\": {\"x\": false}}}, \"bipartite_display\": false};\n",
       "var container = document.getElementById('58ae1978-b884-48a9-be18-f004e3ea4514');\n",
       "var network = new vis.Network(container, data, options);\n",
       "network.fit({\n",
       "  maxZoomLevel: 1000});\n",
       "});\n",
       "</script>\n"
      ],
      "text/plain": [
       "<IPython.core.display.HTML object>"
      ]
     },
     "metadata": {},
     "output_type": "display_data"
    }
   ],
   "source": [
    "sm.fan(cycle_size=4, hyperedges=2).show()"
   ]
  }
 ],
 "metadata": {
  "kernelspec": {
   "display_name": "Python 3 (ipykernel)",
   "language": "python",
   "name": "python3"
  },
  "language_info": {
   "codemirror_mode": {
    "name": "ipython",
    "version": 3
   },
   "file_extension": ".py",
   "mimetype": "text/x-python",
   "name": "python",
   "nbconvert_exporter": "python",
   "pygments_lexer": "ipython3",
   "version": "3.9.7"
  },
  "toc": {
   "base_numbering": 1,
   "nav_menu": {},
   "number_sections": true,
   "sideBar": true,
   "skip_h1_title": true,
   "title_cell": "Table of Contents",
   "title_sidebar": "Contents",
   "toc_cell": false,
   "toc_position": {},
   "toc_section_display": true,
   "toc_window_display": false
  }
 },
 "nbformat": 4,
 "nbformat_minor": 4
}
