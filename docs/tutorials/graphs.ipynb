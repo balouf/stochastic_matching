{
 "cells": [
  {
   "cell_type": "markdown",
   "metadata": {},
   "source": [
    "# Simple and Hyper Graphs"
   ]
  },
  {
   "cell_type": "markdown",
   "metadata": {},
   "source": [
    "*Stochastic Matchings* allows to build arbitrary models from their graph adjacency or incidence matrix, but also to directly instantiate some families. This tutorial gives a tour of these families and details the graph behavior of a *Model* instance."
   ]
  },
  {
   "cell_type": "markdown",
   "metadata": {},
   "source": [
    "First, we load the package."
   ]
  },
  {
   "cell_type": "code",
   "execution_count": 1,
   "metadata": {
    "ExecuteTime": {
     "end_time": "2022-01-24T14:53:17.811008Z",
     "start_time": "2022-01-24T14:53:16.373336Z"
    },
    "execution": {
     "iopub.execute_input": "2025-09-27T08:33:25.203097Z",
     "iopub.status.busy": "2025-09-27T08:33:25.202096Z",
     "iopub.status.idle": "2025-09-27T08:33:26.409665Z",
     "shell.execute_reply": "2025-09-27T08:33:26.409665Z",
     "shell.execute_reply.started": "2025-09-27T08:33:25.203097Z"
    }
   },
   "outputs": [],
   "source": [
    "import stochastic_matching as sm"
   ]
  },
  {
   "cell_type": "markdown",
   "metadata": {},
   "source": [
    "## Simple graph: manual definition and basic usage"
   ]
  },
  {
   "cell_type": "markdown",
   "metadata": {},
   "source": [
    "A simple graph can be defined by providing its adjacency or incidence matrix. We give a tour of the possibilities using the diamond graph as running example."
   ]
  },
  {
   "cell_type": "code",
   "execution_count": 2,
   "metadata": {
    "ExecuteTime": {
     "end_time": "2022-01-24T14:53:17.857431Z",
     "start_time": "2022-01-24T14:53:17.813021Z"
    },
    "execution": {
     "iopub.execute_input": "2025-09-27T08:33:26.410901Z",
     "iopub.status.busy": "2025-09-27T08:33:26.409665Z",
     "iopub.status.idle": "2025-09-27T08:33:26.415934Z",
     "shell.execute_reply": "2025-09-27T08:33:26.415934Z",
     "shell.execute_reply.started": "2025-09-27T08:33:26.410901Z"
    }
   },
   "outputs": [
    {
     "data": {
      "text/html": [
       "\n",
       "<div class=\"sm-graph\" id=\"box-5e19c32a-ee5b-4e26-85c5-7a49dfabd7cf\">\n",
       "<div id=\"5e19c32a-ee5b-4e26-85c5-7a49dfabd7cf\"></div>\n",
       "<a href=\"#\" id=\"fit-5e19c32a-ee5b-4e26-85c5-7a49dfabd7cf\"\n",
       "  style=\"position: absolute; left: 10px; bottom: 10px; text-decoration: none; color: #888; font-size: min(2vw, 10px);\n",
       "  z-index: 10; pointer-events: auto;\"\n",
       "> Reload\n",
       "</a>\n",
       "<style>\n",
       "#box-5e19c32a-ee5b-4e26-85c5-7a49dfabd7cf {\n",
       "position: relative;\n",
       "width: 100%;\n",
       "height: 200px !important;\n",
       "max-width: 100vw;\n",
       "max-height: 100vh !important;\n",
       "}\n",
       "#5e19c32a-ee5b-4e26-85c5-7a49dfabd7cf {\n",
       "  height: 100%;   /* Make the inner div fill the parent */\n",
       "}\n",
       "</style>\n",
       "</div>\n",
       "<script type=\"module\">\n",
       "import { DataSet, Network } from \"https://unpkg.com/vis-network/standalone/esm/vis-network.min.js\";\n",
       "// CSS will be automatically injected into the page.\n",
       "function render () {\n",
       "    const nodes = new DataSet([{\"id\": 0, \"label\": \"0\", \"title\": \"0\"}, {\"id\": 1, \"label\": \"1\", \"title\": \"1\"}, {\"id\": 2, \"label\": \"2\", \"title\": \"2\"}, {\"id\": 3, \"label\": \"3\", \"title\": \"3\"}]);\n",
       "    const edges = new DataSet([{\"title\": \"0: (0, 1)\", \"label\": \"\", \"from\": 0, \"to\": 1}, {\"title\": \"1: (0, 2)\", \"label\": \"\", \"from\": 0, \"to\": 2}, {\"title\": \"2: (1, 2)\", \"label\": \"\", \"from\": 1, \"to\": 2}, {\"title\": \"3: (1, 3)\", \"label\": \"\", \"from\": 1, \"to\": 3}, {\"title\": \"4: (2, 3)\", \"label\": \"\", \"from\": 2, \"to\": 3}]);\n",
       "    const data = {\n",
       "            nodes: nodes,\n",
       "            edges: edges,\n",
       "    };\n",
       "    const options = {\"interaction\": {\"navigationButtons\": false}, \"width\": \"100%\", \"height\": \"200px\"};\n",
       "    const container = document.getElementById('5e19c32a-ee5b-4e26-85c5-7a49dfabd7cf');\n",
       "    const network = new Network(container, data, options);\n",
       "    network.fit({maxZoomLevel: 10});\n",
       "    network.redraw();\n",
       "}\n",
       "\n",
       "render();\n",
       "document.getElementById('fit-5e19c32a-ee5b-4e26-85c5-7a49dfabd7cf').addEventListener('click', function(event) {\n",
       "    event.preventDefault();  // Prevent page jump\n",
       "    render(); // Adjust zoom limit as needed\n",
       "});\n",
       "</script>\n"
      ],
      "text/plain": [
       "<IPython.core.display.HTML object>"
      ]
     },
     "metadata": {},
     "output_type": "display_data"
    }
   ],
   "source": [
    "diamond_adjacency = [[0, 1, 1, 0], [1, 0, 1, 1], [1, 1, 0, 1], [0, 1, 1, 0]]\n",
    "diamond = sm.Model(adjacency=diamond_adjacency)\n",
    "diamond.show_graph(vis_options={\"height\": 200})"
   ]
  },
  {
   "cell_type": "markdown",
   "metadata": {},
   "source": [
    "If you input an incidence matrix, the graph is treated as a hypergraph."
   ]
  },
  {
   "cell_type": "code",
   "execution_count": 3,
   "metadata": {
    "ExecuteTime": {
     "end_time": "2022-01-24T14:53:17.872587Z",
     "start_time": "2022-01-24T14:53:17.860420Z"
    },
    "execution": {
     "iopub.execute_input": "2025-09-27T08:33:26.417322Z",
     "iopub.status.busy": "2025-09-27T08:33:26.417322Z",
     "iopub.status.idle": "2025-09-27T08:33:26.425180Z",
     "shell.execute_reply": "2025-09-27T08:33:26.425180Z",
     "shell.execute_reply.started": "2025-09-27T08:33:26.417322Z"
    }
   },
   "outputs": [
    {
     "data": {
      "text/html": [
       "\n",
       "<div class=\"sm-graph\" id=\"box-1f96cf30-083f-41fb-8749-e0afbe213da6\">\n",
       "<div id=\"1f96cf30-083f-41fb-8749-e0afbe213da6\"></div>\n",
       "<a href=\"#\" id=\"fit-1f96cf30-083f-41fb-8749-e0afbe213da6\"\n",
       "  style=\"position: absolute; left: 10px; bottom: 10px; text-decoration: none; color: #888; font-size: min(2vw, 10px);\n",
       "  z-index: 10; pointer-events: auto;\"\n",
       "> Reload\n",
       "</a>\n",
       "<style>\n",
       "#box-1f96cf30-083f-41fb-8749-e0afbe213da6 {\n",
       "position: relative;\n",
       "width: 100%;\n",
       "height: 200px !important;\n",
       "max-width: 100vw;\n",
       "max-height: 100vh !important;\n",
       "}\n",
       "#1f96cf30-083f-41fb-8749-e0afbe213da6 {\n",
       "  height: 100%;   /* Make the inner div fill the parent */\n",
       "}\n",
       "</style>\n",
       "</div>\n",
       "<script type=\"module\">\n",
       "import { DataSet, Network } from \"https://unpkg.com/vis-network/standalone/esm/vis-network.min.js\";\n",
       "// CSS will be automatically injected into the page.\n",
       "function render () {\n",
       "    const nodes = new DataSet([{\"id\": 0, \"label\": \"0\", \"title\": \"0\", \"x\": 0, \"group\": \"Node\"}, {\"id\": 1, \"label\": \"1\", \"title\": \"1\", \"x\": 0, \"group\": \"Node\"}, {\"id\": 2, \"label\": \"2\", \"title\": \"2\", \"x\": 0, \"group\": \"Node\"}, {\"id\": 3, \"label\": \"3\", \"title\": \"3\", \"x\": 0, \"group\": \"Node\"}, {\"title\": \"0: (0, 1)\", \"label\": \"\", \"id\": 4, \"group\": \"HyperEdge\", \"x\": 600}, {\"title\": \"1: (0, 2)\", \"label\": \"\", \"id\": 5, \"group\": \"HyperEdge\", \"x\": 600}, {\"title\": \"2: (1, 2)\", \"label\": \"\", \"id\": 6, \"group\": \"HyperEdge\", \"x\": 600}, {\"title\": \"3: (1, 3)\", \"label\": \"\", \"id\": 7, \"group\": \"HyperEdge\", \"x\": 600}, {\"title\": \"4: (2, 3)\", \"label\": \"\", \"id\": 8, \"group\": \"HyperEdge\", \"x\": 600}]);\n",
       "    const edges = new DataSet([{\"from\": 0, \"to\": 4, \"title\": \"0 <-> 0: (0, 1)\"}, {\"from\": 0, \"to\": 5, \"title\": \"0 <-> 1: (0, 2)\"}, {\"from\": 1, \"to\": 4, \"title\": \"1 <-> 0: (0, 1)\"}, {\"from\": 1, \"to\": 6, \"title\": \"1 <-> 2: (1, 2)\"}, {\"from\": 1, \"to\": 7, \"title\": \"1 <-> 3: (1, 3)\"}, {\"from\": 2, \"to\": 5, \"title\": \"2 <-> 1: (0, 2)\"}, {\"from\": 2, \"to\": 6, \"title\": \"2 <-> 2: (1, 2)\"}, {\"from\": 2, \"to\": 8, \"title\": \"2 <-> 4: (2, 3)\"}, {\"from\": 3, \"to\": 7, \"title\": \"3 <-> 3: (1, 3)\"}, {\"from\": 3, \"to\": 8, \"title\": \"3 <-> 4: (2, 3)\"}]);\n",
       "    const data = {\n",
       "            nodes: nodes,\n",
       "            edges: edges,\n",
       "    };\n",
       "    const options = {\"interaction\": {\"navigationButtons\": false}, \"width\": \"100%\", \"height\": \"200px\", \"groups\": {\"HyperEdge\": {\"fixed\": {\"x\": false}, \"color\": {\"background\": \"black\"}, \"shape\": \"dot\", \"size\": 5}, \"Node\": {\"fixed\": {\"x\": false}}}};\n",
       "    const container = document.getElementById('1f96cf30-083f-41fb-8749-e0afbe213da6');\n",
       "    const network = new Network(container, data, options);\n",
       "    network.fit({maxZoomLevel: 10});\n",
       "    network.redraw();\n",
       "}\n",
       "\n",
       "render();\n",
       "document.getElementById('fit-1f96cf30-083f-41fb-8749-e0afbe213da6').addEventListener('click', function(event) {\n",
       "    event.preventDefault();  // Prevent page jump\n",
       "    render(); // Adjust zoom limit as needed\n",
       "});\n",
       "</script>\n"
      ],
      "text/plain": [
       "<IPython.core.display.HTML object>"
      ]
     },
     "metadata": {},
     "output_type": "display_data"
    }
   ],
   "source": [
    "diamond_incidence = [[1, 1, 0, 0, 0], [1, 0, 1, 1, 0], [0, 1, 1, 0, 1], [0, 0, 0, 1, 1]]\n",
    "\n",
    "diamond = sm.Model(incidence=diamond_incidence)\n",
    "diamond.show_graph(vis_options={\"height\": 200})"
   ]
  },
  {
   "cell_type": "markdown",
   "metadata": {},
   "source": [
    "A Model possesses many attributes.\n",
    "\n",
    "Number of edges and nodes:"
   ]
  },
  {
   "cell_type": "code",
   "execution_count": 4,
   "metadata": {
    "ExecuteTime": {
     "end_time": "2022-01-24T14:53:17.888491Z",
     "start_time": "2022-01-24T14:53:17.875463Z"
    },
    "execution": {
     "iopub.execute_input": "2025-09-27T08:33:26.426601Z",
     "iopub.status.busy": "2025-09-27T08:33:26.425180Z",
     "iopub.status.idle": "2025-09-27T08:33:26.430558Z",
     "shell.execute_reply": "2025-09-27T08:33:26.430558Z",
     "shell.execute_reply.started": "2025-09-27T08:33:26.426601Z"
    }
   },
   "outputs": [
    {
     "data": {
      "text/plain": [
       "(4, 5)"
      ]
     },
     "execution_count": 4,
     "metadata": {},
     "output_type": "execute_result"
    }
   ],
   "source": [
    "diamond.n, diamond.m"
   ]
  },
  {
   "cell_type": "markdown",
   "metadata": {},
   "source": [
    "Adjacency matrix does not exist for hypergraphs:"
   ]
  },
  {
   "cell_type": "code",
   "execution_count": 5,
   "metadata": {
    "ExecuteTime": {
     "end_time": "2022-01-24T14:53:17.904134Z",
     "start_time": "2022-01-24T14:53:17.890943Z"
    },
    "execution": {
     "iopub.execute_input": "2025-09-27T08:33:26.431564Z",
     "iopub.status.busy": "2025-09-27T08:33:26.430558Z",
     "iopub.status.idle": "2025-09-27T08:33:26.434898Z",
     "shell.execute_reply": "2025-09-27T08:33:26.434898Z",
     "shell.execute_reply.started": "2025-09-27T08:33:26.431564Z"
    }
   },
   "outputs": [],
   "source": [
    "diamond.adjacency"
   ]
  },
  {
   "cell_type": "code",
   "execution_count": 6,
   "metadata": {
    "ExecuteTime": {
     "end_time": "2022-01-24T14:53:17.919655Z",
     "start_time": "2022-01-24T14:53:17.906544Z"
    },
    "execution": {
     "iopub.execute_input": "2025-09-27T08:33:26.435910Z",
     "iopub.status.busy": "2025-09-27T08:33:26.435910Z",
     "iopub.status.idle": "2025-09-27T08:33:26.442077Z",
     "shell.execute_reply": "2025-09-27T08:33:26.442077Z",
     "shell.execute_reply.started": "2025-09-27T08:33:26.435910Z"
    }
   },
   "outputs": [
    {
     "data": {
      "text/plain": [
       "array([[0, 1, 1, 0],\n",
       "       [1, 0, 1, 1],\n",
       "       [1, 1, 0, 1],\n",
       "       [0, 1, 1, 0]])"
      ]
     },
     "execution_count": 6,
     "metadata": {},
     "output_type": "execute_result"
    }
   ],
   "source": [
    "diamond = sm.Model(adjacency=diamond_adjacency)\n",
    "diamond.adjacency"
   ]
  },
  {
   "cell_type": "markdown",
   "metadata": {},
   "source": [
    "Incidence (nodes X edges):"
   ]
  },
  {
   "cell_type": "code",
   "execution_count": 7,
   "metadata": {
    "ExecuteTime": {
     "end_time": "2022-01-24T14:53:17.935271Z",
     "start_time": "2022-01-24T14:53:17.920674Z"
    },
    "execution": {
     "iopub.execute_input": "2025-09-27T08:33:26.442077Z",
     "iopub.status.busy": "2025-09-27T08:33:26.442077Z",
     "iopub.status.idle": "2025-09-27T08:33:26.447366Z",
     "shell.execute_reply": "2025-09-27T08:33:26.447366Z",
     "shell.execute_reply.started": "2025-09-27T08:33:26.442077Z"
    }
   },
   "outputs": [
    {
     "data": {
      "text/plain": [
       "array([[1, 1, 0, 0, 0],\n",
       "       [1, 0, 1, 1, 0],\n",
       "       [0, 1, 1, 0, 1],\n",
       "       [0, 0, 0, 1, 1]])"
      ]
     },
     "execution_count": 7,
     "metadata": {},
     "output_type": "execute_result"
    }
   ],
   "source": [
    "diamond.incidence"
   ]
  },
  {
   "cell_type": "markdown",
   "metadata": {},
   "source": [
    "As already seen, you can visualize the graph with the `show_graph` method."
   ]
  },
  {
   "cell_type": "code",
   "execution_count": 8,
   "metadata": {
    "ExecuteTime": {
     "end_time": "2022-01-24T14:53:17.950041Z",
     "start_time": "2022-01-24T14:53:17.937949Z"
    },
    "execution": {
     "iopub.execute_input": "2025-09-27T08:33:26.448374Z",
     "iopub.status.busy": "2025-09-27T08:33:26.448374Z",
     "iopub.status.idle": "2025-09-27T08:33:26.453529Z",
     "shell.execute_reply": "2025-09-27T08:33:26.453529Z",
     "shell.execute_reply.started": "2025-09-27T08:33:26.448374Z"
    }
   },
   "outputs": [
    {
     "data": {
      "text/html": [
       "\n",
       "<div class=\"sm-graph\" id=\"box-eaae44b9-6e97-4db5-8576-d831cd997ab8\">\n",
       "<div id=\"eaae44b9-6e97-4db5-8576-d831cd997ab8\"></div>\n",
       "<a href=\"#\" id=\"fit-eaae44b9-6e97-4db5-8576-d831cd997ab8\"\n",
       "  style=\"position: absolute; left: 10px; bottom: 10px; text-decoration: none; color: #888; font-size: min(2vw, 10px);\n",
       "  z-index: 10; pointer-events: auto;\"\n",
       "> Reload\n",
       "</a>\n",
       "<style>\n",
       "#box-eaae44b9-6e97-4db5-8576-d831cd997ab8 {\n",
       "position: relative;\n",
       "width: 100%;\n",
       "height: 50vh !important;\n",
       "max-width: 100vw;\n",
       "max-height: 100vh !important;\n",
       "}\n",
       "#eaae44b9-6e97-4db5-8576-d831cd997ab8 {\n",
       "  height: 100%;   /* Make the inner div fill the parent */\n",
       "}\n",
       "</style>\n",
       "</div>\n",
       "<script type=\"module\">\n",
       "import { DataSet, Network } from \"https://unpkg.com/vis-network/standalone/esm/vis-network.min.js\";\n",
       "// CSS will be automatically injected into the page.\n",
       "function render () {\n",
       "    const nodes = new DataSet([{\"id\": 0, \"label\": \"0\", \"title\": \"0\"}, {\"id\": 1, \"label\": \"1\", \"title\": \"1\"}, {\"id\": 2, \"label\": \"2\", \"title\": \"2\"}, {\"id\": 3, \"label\": \"3\", \"title\": \"3\"}]);\n",
       "    const edges = new DataSet([{\"title\": \"0: (0, 1)\", \"label\": \"\", \"from\": 0, \"to\": 1}, {\"title\": \"1: (0, 2)\", \"label\": \"\", \"from\": 0, \"to\": 2}, {\"title\": \"2: (1, 2)\", \"label\": \"\", \"from\": 1, \"to\": 2}, {\"title\": \"3: (1, 3)\", \"label\": \"\", \"from\": 1, \"to\": 3}, {\"title\": \"4: (2, 3)\", \"label\": \"\", \"from\": 2, \"to\": 3}]);\n",
       "    const data = {\n",
       "            nodes: nodes,\n",
       "            edges: edges,\n",
       "    };\n",
       "    const options = {\"interaction\": {\"navigationButtons\": false}, \"width\": \"100%\", \"height\": \"100%\"};\n",
       "    const container = document.getElementById('eaae44b9-6e97-4db5-8576-d831cd997ab8');\n",
       "    const network = new Network(container, data, options);\n",
       "    network.fit({maxZoomLevel: 10});\n",
       "    network.redraw();\n",
       "}\n",
       "\n",
       "render();\n",
       "document.getElementById('fit-eaae44b9-6e97-4db5-8576-d831cd997ab8').addEventListener('click', function(event) {\n",
       "    event.preventDefault();  // Prevent page jump\n",
       "    render(); // Adjust zoom limit as needed\n",
       "});\n",
       "</script>\n"
      ],
      "text/plain": [
       "<IPython.core.display.HTML object>"
      ]
     },
     "metadata": {},
     "output_type": "display_data"
    }
   ],
   "source": [
    "diamond.show_graph()"
   ]
  },
  {
   "cell_type": "markdown",
   "metadata": {},
   "source": [
    "You can customize display with `vis_options` (the options will be pass to the vis engine). For example, to display a red graph with no navigation button:"
   ]
  },
  {
   "cell_type": "code",
   "execution_count": 9,
   "metadata": {
    "ExecuteTime": {
     "end_time": "2022-01-24T14:53:17.965300Z",
     "start_time": "2022-01-24T14:53:17.952155Z"
    },
    "execution": {
     "iopub.execute_input": "2025-09-27T08:33:26.454536Z",
     "iopub.status.busy": "2025-09-27T08:33:26.454536Z",
     "iopub.status.idle": "2025-09-27T08:33:26.458792Z",
     "shell.execute_reply": "2025-09-27T08:33:26.458792Z",
     "shell.execute_reply.started": "2025-09-27T08:33:26.454536Z"
    }
   },
   "outputs": [
    {
     "data": {
      "text/html": [
       "\n",
       "<div class=\"sm-graph\" id=\"box-104629f9-1ff9-45d4-85f2-a2f1e9cdc5a6\">\n",
       "<div id=\"104629f9-1ff9-45d4-85f2-a2f1e9cdc5a6\"></div>\n",
       "<a href=\"#\" id=\"fit-104629f9-1ff9-45d4-85f2-a2f1e9cdc5a6\"\n",
       "  style=\"position: absolute; left: 10px; bottom: 10px; text-decoration: none; color: #888; font-size: min(2vw, 10px);\n",
       "  z-index: 10; pointer-events: auto;\"\n",
       "> Reload\n",
       "</a>\n",
       "<style>\n",
       "#box-104629f9-1ff9-45d4-85f2-a2f1e9cdc5a6 {\n",
       "position: relative;\n",
       "width: 100%;\n",
       "height: 200px !important;\n",
       "max-width: 100vw;\n",
       "max-height: 100vh !important;\n",
       "}\n",
       "#104629f9-1ff9-45d4-85f2-a2f1e9cdc5a6 {\n",
       "  height: 100%;   /* Make the inner div fill the parent */\n",
       "}\n",
       "</style>\n",
       "</div>\n",
       "<script type=\"module\">\n",
       "import { DataSet, Network } from \"https://unpkg.com/vis-network/standalone/esm/vis-network.min.js\";\n",
       "// CSS will be automatically injected into the page.\n",
       "function render () {\n",
       "    const nodes = new DataSet([{\"id\": 0, \"label\": \"0\", \"title\": \"0\"}, {\"id\": 1, \"label\": \"1\", \"title\": \"1\"}, {\"id\": 2, \"label\": \"2\", \"title\": \"2\"}, {\"id\": 3, \"label\": \"3\", \"title\": \"3\"}]);\n",
       "    const edges = new DataSet([{\"title\": \"0: (0, 1)\", \"label\": \"\", \"from\": 0, \"to\": 1}, {\"title\": \"1: (0, 2)\", \"label\": \"\", \"from\": 0, \"to\": 2}, {\"title\": \"2: (1, 2)\", \"label\": \"\", \"from\": 1, \"to\": 2}, {\"title\": \"3: (1, 3)\", \"label\": \"\", \"from\": 1, \"to\": 3}, {\"title\": \"4: (2, 3)\", \"label\": \"\", \"from\": 2, \"to\": 3}]);\n",
       "    const data = {\n",
       "            nodes: nodes,\n",
       "            edges: edges,\n",
       "    };\n",
       "    const options = {\"interaction\": {\"navigationButtons\": true}, \"width\": \"100%\", \"height\": \"200px\", \"nodes\": {\"color\": \"red\"}};\n",
       "    const container = document.getElementById('104629f9-1ff9-45d4-85f2-a2f1e9cdc5a6');\n",
       "    const network = new Network(container, data, options);\n",
       "    network.fit({maxZoomLevel: 10});\n",
       "    network.redraw();\n",
       "}\n",
       "\n",
       "render();\n",
       "document.getElementById('fit-104629f9-1ff9-45d4-85f2-a2f1e9cdc5a6').addEventListener('click', function(event) {\n",
       "    event.preventDefault();  // Prevent page jump\n",
       "    render(); // Adjust zoom limit as needed\n",
       "});\n",
       "</script>\n"
      ],
      "text/plain": [
       "<IPython.core.display.HTML object>"
      ]
     },
     "metadata": {},
     "output_type": "display_data"
    }
   ],
   "source": [
    "diamond.show_graph(\n",
    "    vis_options={\n",
    "        \"nodes\": {\"color\": \"red\"},\n",
    "        \"height\": 200,\n",
    "        \"interaction\": {\"navigationButtons\": True}\n",
    "    }\n",
    ")"
   ]
  },
  {
   "cell_type": "markdown",
   "metadata": {},
   "source": [
    "Names can be specified."
   ]
  },
  {
   "cell_type": "code",
   "execution_count": 10,
   "metadata": {
    "ExecuteTime": {
     "end_time": "2022-01-24T14:53:17.981175Z",
     "start_time": "2022-01-24T14:53:17.967996Z"
    },
    "execution": {
     "iopub.execute_input": "2025-09-27T08:33:26.459801Z",
     "iopub.status.busy": "2025-09-27T08:33:26.459801Z",
     "iopub.status.idle": "2025-09-27T08:33:26.465244Z",
     "shell.execute_reply": "2025-09-27T08:33:26.465244Z",
     "shell.execute_reply.started": "2025-09-27T08:33:26.459801Z"
    }
   },
   "outputs": [
    {
     "data": {
      "text/html": [
       "\n",
       "<div class=\"sm-graph\" id=\"box-b720e742-72ff-4182-a1ca-c17c77b71021\">\n",
       "<div id=\"b720e742-72ff-4182-a1ca-c17c77b71021\"></div>\n",
       "<a href=\"#\" id=\"fit-b720e742-72ff-4182-a1ca-c17c77b71021\"\n",
       "  style=\"position: absolute; left: 10px; bottom: 10px; text-decoration: none; color: #888; font-size: min(2vw, 10px);\n",
       "  z-index: 10; pointer-events: auto;\"\n",
       "> Reload\n",
       "</a>\n",
       "<style>\n",
       "#box-b720e742-72ff-4182-a1ca-c17c77b71021 {\n",
       "position: relative;\n",
       "width: 100%;\n",
       "height: 200px !important;\n",
       "max-width: 100vw;\n",
       "max-height: 100vh !important;\n",
       "}\n",
       "#b720e742-72ff-4182-a1ca-c17c77b71021 {\n",
       "  height: 100%;   /* Make the inner div fill the parent */\n",
       "}\n",
       "</style>\n",
       "</div>\n",
       "<script type=\"module\">\n",
       "import { DataSet, Network } from \"https://unpkg.com/vis-network/standalone/esm/vis-network.min.js\";\n",
       "// CSS will be automatically injected into the page.\n",
       "function render () {\n",
       "    const nodes = new DataSet([{\"id\": 0, \"label\": \"Ga\", \"title\": \"0: Ga\"}, {\"id\": 1, \"label\": \"Bu\", \"title\": \"1: Bu\"}, {\"id\": 2, \"label\": \"Zo\", \"title\": \"2: Zo\"}, {\"id\": 3, \"label\": \"Meu\", \"title\": \"3: Meu\"}]);\n",
       "    const edges = new DataSet([{\"title\": \"0: (Ga, Bu)\", \"label\": \"\", \"from\": 0, \"to\": 1}, {\"title\": \"1: (Ga, Zo)\", \"label\": \"\", \"from\": 0, \"to\": 2}, {\"title\": \"2: (Bu, Zo)\", \"label\": \"\", \"from\": 1, \"to\": 2}, {\"title\": \"3: (Bu, Meu)\", \"label\": \"\", \"from\": 1, \"to\": 3}, {\"title\": \"4: (Zo, Meu)\", \"label\": \"\", \"from\": 2, \"to\": 3}]);\n",
       "    const data = {\n",
       "            nodes: nodes,\n",
       "            edges: edges,\n",
       "    };\n",
       "    const options = {\"interaction\": {\"navigationButtons\": false}, \"width\": \"100%\", \"height\": \"200px\"};\n",
       "    const container = document.getElementById('b720e742-72ff-4182-a1ca-c17c77b71021');\n",
       "    const network = new Network(container, data, options);\n",
       "    network.fit({maxZoomLevel: 10});\n",
       "    network.redraw();\n",
       "}\n",
       "\n",
       "render();\n",
       "document.getElementById('fit-b720e742-72ff-4182-a1ca-c17c77b71021').addEventListener('click', function(event) {\n",
       "    event.preventDefault();  // Prevent page jump\n",
       "    render(); // Adjust zoom limit as needed\n",
       "});\n",
       "</script>\n"
      ],
      "text/plain": [
       "<IPython.core.display.HTML object>"
      ]
     },
     "metadata": {},
     "output_type": "display_data"
    }
   ],
   "source": [
    "diamond.names = [\"Ga\", \"Bu\", \"Zo\", \"Meu\"]\n",
    "diamond.show_graph(vis_options={\"height\": 200})"
   ]
  },
  {
   "cell_type": "markdown",
   "metadata": {},
   "source": [
    "Automatic letter labeling can be obtained using `alpha` as input for `names`"
   ]
  },
  {
   "cell_type": "code",
   "execution_count": 11,
   "metadata": {
    "ExecuteTime": {
     "end_time": "2022-01-24T14:53:17.996783Z",
     "start_time": "2022-01-24T14:53:17.982522Z"
    },
    "execution": {
     "iopub.execute_input": "2025-09-27T08:33:26.466254Z",
     "iopub.status.busy": "2025-09-27T08:33:26.466254Z",
     "iopub.status.idle": "2025-09-27T08:33:26.471742Z",
     "shell.execute_reply": "2025-09-27T08:33:26.471742Z",
     "shell.execute_reply.started": "2025-09-27T08:33:26.466254Z"
    }
   },
   "outputs": [
    {
     "data": {
      "text/html": [
       "\n",
       "<div class=\"sm-graph\" id=\"box-e2265078-87aa-4fd5-89a7-49866da4935f\">\n",
       "<div id=\"e2265078-87aa-4fd5-89a7-49866da4935f\"></div>\n",
       "<a href=\"#\" id=\"fit-e2265078-87aa-4fd5-89a7-49866da4935f\"\n",
       "  style=\"position: absolute; left: 10px; bottom: 10px; text-decoration: none; color: #888; font-size: min(2vw, 10px);\n",
       "  z-index: 10; pointer-events: auto;\"\n",
       "> Reload\n",
       "</a>\n",
       "<style>\n",
       "#box-e2265078-87aa-4fd5-89a7-49866da4935f {\n",
       "position: relative;\n",
       "width: 100%;\n",
       "height: 200px !important;\n",
       "max-width: 100vw;\n",
       "max-height: 100vh !important;\n",
       "}\n",
       "#e2265078-87aa-4fd5-89a7-49866da4935f {\n",
       "  height: 100%;   /* Make the inner div fill the parent */\n",
       "}\n",
       "</style>\n",
       "</div>\n",
       "<script type=\"module\">\n",
       "import { DataSet, Network } from \"https://unpkg.com/vis-network/standalone/esm/vis-network.min.js\";\n",
       "// CSS will be automatically injected into the page.\n",
       "function render () {\n",
       "    const nodes = new DataSet([{\"id\": 0, \"label\": \"A\", \"title\": \"0: A\"}, {\"id\": 1, \"label\": \"B\", \"title\": \"1: B\"}, {\"id\": 2, \"label\": \"C\", \"title\": \"2: C\"}, {\"id\": 3, \"label\": \"D\", \"title\": \"3: D\"}]);\n",
       "    const edges = new DataSet([{\"title\": \"0: (A, B)\", \"label\": \"\", \"from\": 0, \"to\": 1}, {\"title\": \"1: (A, C)\", \"label\": \"\", \"from\": 0, \"to\": 2}, {\"title\": \"2: (B, C)\", \"label\": \"\", \"from\": 1, \"to\": 2}, {\"title\": \"3: (B, D)\", \"label\": \"\", \"from\": 1, \"to\": 3}, {\"title\": \"4: (C, D)\", \"label\": \"\", \"from\": 2, \"to\": 3}]);\n",
       "    const data = {\n",
       "            nodes: nodes,\n",
       "            edges: edges,\n",
       "    };\n",
       "    const options = {\"interaction\": {\"navigationButtons\": false}, \"width\": \"100%\", \"height\": \"200px\"};\n",
       "    const container = document.getElementById('e2265078-87aa-4fd5-89a7-49866da4935f');\n",
       "    const network = new Network(container, data, options);\n",
       "    network.fit({maxZoomLevel: 10});\n",
       "    network.redraw();\n",
       "}\n",
       "\n",
       "render();\n",
       "document.getElementById('fit-e2265078-87aa-4fd5-89a7-49866da4935f').addEventListener('click', function(event) {\n",
       "    event.preventDefault();  // Prevent page jump\n",
       "    render(); // Adjust zoom limit as needed\n",
       "});\n",
       "</script>\n"
      ],
      "text/plain": [
       "<IPython.core.display.HTML object>"
      ]
     },
     "metadata": {},
     "output_type": "display_data"
    }
   ],
   "source": [
    "diamond.names = \"alpha\"\n",
    "diamond.show_graph(vis_options={\"height\": 200})"
   ]
  },
  {
   "cell_type": "markdown",
   "metadata": {},
   "source": [
    "## Pre-defined models"
   ]
  },
  {
   "cell_type": "markdown",
   "metadata": {},
   "source": [
    "For convenience, many graph families are provided. You can have the list with the `get_class` method."
   ]
  },
  {
   "cell_type": "code",
   "execution_count": 12,
   "metadata": {
    "ExecuteTime": {
     "end_time": "2022-01-24T14:53:18.011971Z",
     "start_time": "2022-01-24T14:53:17.999974Z"
    },
    "execution": {
     "iopub.execute_input": "2025-09-27T08:33:26.472748Z",
     "iopub.status.busy": "2025-09-27T08:33:26.471742Z",
     "iopub.status.idle": "2025-09-27T08:33:26.477751Z",
     "shell.execute_reply": "2025-09-27T08:33:26.477751Z",
     "shell.execute_reply.started": "2025-09-27T08:33:26.472748Z"
    }
   },
   "outputs": [
    {
     "data": {
      "text/plain": [
       "{'Path': stochastic_matching.graphs.Path,\n",
       " 'Star': stochastic_matching.graphs.Star,\n",
       " 'Cycle': stochastic_matching.graphs.Cycle,\n",
       " 'Complete': stochastic_matching.graphs.Complete,\n",
       " 'Codomino': stochastic_matching.graphs.Codomino,\n",
       " 'Erdös-Rényi': stochastic_matching.graphs.ErdosRenyi,\n",
       " 'Nazari-Stolyar': stochastic_matching.graphs.NS19,\n",
       " 'Pyramid': stochastic_matching.graphs.Pyramid,\n",
       " 'Tadpole': stochastic_matching.graphs.Tadpole,\n",
       " 'Lollipop': stochastic_matching.graphs.Lollipop,\n",
       " 'Kayak Paddle': stochastic_matching.graphs.KayakPaddle,\n",
       " 'Barbell': stochastic_matching.graphs.Barbell,\n",
       " 'Cycle Chain': stochastic_matching.graphs.CycleChain,\n",
       " 'Hyper Kayak Paddle': stochastic_matching.graphs.HyperPaddle,\n",
       " 'Fan': stochastic_matching.graphs.Fan}"
      ]
     },
     "execution_count": 12,
     "metadata": {},
     "output_type": "execute_result"
    }
   ],
   "source": [
    "sm.common.get_classes(sm.Model)"
   ]
  },
  {
   "cell_type": "markdown",
   "metadata": {},
   "source": [
    "### Path graphs"
   ]
  },
  {
   "cell_type": "markdown",
   "metadata": {},
   "source": [
    "Paths are defined by a parameter $n$ (the size, e.g. number of nodes) that defaults to 2."
   ]
  },
  {
   "cell_type": "code",
   "execution_count": 13,
   "metadata": {
    "ExecuteTime": {
     "end_time": "2022-01-24T14:53:18.028154Z",
     "start_time": "2022-01-24T14:53:18.013972Z"
    },
    "execution": {
     "iopub.execute_input": "2025-09-27T08:33:26.477751Z",
     "iopub.status.busy": "2025-09-27T08:33:26.477751Z",
     "iopub.status.idle": "2025-09-27T08:33:26.483489Z",
     "shell.execute_reply": "2025-09-27T08:33:26.483489Z",
     "shell.execute_reply.started": "2025-09-27T08:33:26.477751Z"
    }
   },
   "outputs": [
    {
     "data": {
      "text/html": [
       "\n",
       "<div class=\"sm-graph\" id=\"box-e871f086-71a6-4f19-aeb7-b129fccb65bf\">\n",
       "<div id=\"e871f086-71a6-4f19-aeb7-b129fccb65bf\"></div>\n",
       "<a href=\"#\" id=\"fit-e871f086-71a6-4f19-aeb7-b129fccb65bf\"\n",
       "  style=\"position: absolute; left: 10px; bottom: 10px; text-decoration: none; color: #888; font-size: min(2vw, 10px);\n",
       "  z-index: 10; pointer-events: auto;\"\n",
       "> Reload\n",
       "</a>\n",
       "<style>\n",
       "#box-e871f086-71a6-4f19-aeb7-b129fccb65bf {\n",
       "position: relative;\n",
       "width: 100%;\n",
       "height: 200px !important;\n",
       "max-width: 100vw;\n",
       "max-height: 100vh !important;\n",
       "}\n",
       "#e871f086-71a6-4f19-aeb7-b129fccb65bf {\n",
       "  height: 100%;   /* Make the inner div fill the parent */\n",
       "}\n",
       "</style>\n",
       "</div>\n",
       "<script type=\"module\">\n",
       "import { DataSet, Network } from \"https://unpkg.com/vis-network/standalone/esm/vis-network.min.js\";\n",
       "// CSS will be automatically injected into the page.\n",
       "function render () {\n",
       "    const nodes = new DataSet([{\"id\": 0, \"label\": \"0\", \"title\": \"0\"}, {\"id\": 1, \"label\": \"1\", \"title\": \"1\"}]);\n",
       "    const edges = new DataSet([{\"title\": \"0: (0, 1)\", \"label\": \"\", \"from\": 0, \"to\": 1}]);\n",
       "    const data = {\n",
       "            nodes: nodes,\n",
       "            edges: edges,\n",
       "    };\n",
       "    const options = {\"interaction\": {\"navigationButtons\": false}, \"width\": \"100%\", \"height\": \"200px\"};\n",
       "    const container = document.getElementById('e871f086-71a6-4f19-aeb7-b129fccb65bf');\n",
       "    const network = new Network(container, data, options);\n",
       "    network.fit({maxZoomLevel: 10});\n",
       "    network.redraw();\n",
       "}\n",
       "\n",
       "render();\n",
       "document.getElementById('fit-e871f086-71a6-4f19-aeb7-b129fccb65bf').addEventListener('click', function(event) {\n",
       "    event.preventDefault();  // Prevent page jump\n",
       "    render(); // Adjust zoom limit as needed\n",
       "});\n",
       "</script>\n"
      ],
      "text/plain": [
       "<IPython.core.display.HTML object>"
      ]
     },
     "metadata": {},
     "output_type": "display_data"
    }
   ],
   "source": [
    "sm.Path().show_graph(vis_options={\"height\": 200})"
   ]
  },
  {
   "cell_type": "code",
   "execution_count": 14,
   "metadata": {
    "ExecuteTime": {
     "end_time": "2022-01-24T14:53:18.044059Z",
     "start_time": "2022-01-24T14:53:18.029883Z"
    },
    "execution": {
     "iopub.execute_input": "2025-09-27T08:33:26.484499Z",
     "iopub.status.busy": "2025-09-27T08:33:26.483489Z",
     "iopub.status.idle": "2025-09-27T08:33:26.490899Z",
     "shell.execute_reply": "2025-09-27T08:33:26.490899Z",
     "shell.execute_reply.started": "2025-09-27T08:33:26.483489Z"
    }
   },
   "outputs": [
    {
     "data": {
      "text/html": [
       "\n",
       "<div class=\"sm-graph\" id=\"box-802fd8fb-cf7b-4fcd-a9f6-9dedc412dccf\">\n",
       "<div id=\"802fd8fb-cf7b-4fcd-a9f6-9dedc412dccf\"></div>\n",
       "<a href=\"#\" id=\"fit-802fd8fb-cf7b-4fcd-a9f6-9dedc412dccf\"\n",
       "  style=\"position: absolute; left: 10px; bottom: 10px; text-decoration: none; color: #888; font-size: min(2vw, 10px);\n",
       "  z-index: 10; pointer-events: auto;\"\n",
       "> Reload\n",
       "</a>\n",
       "<style>\n",
       "#box-802fd8fb-cf7b-4fcd-a9f6-9dedc412dccf {\n",
       "position: relative;\n",
       "width: 100%;\n",
       "height: 200px !important;\n",
       "max-width: 100vw;\n",
       "max-height: 100vh !important;\n",
       "}\n",
       "#802fd8fb-cf7b-4fcd-a9f6-9dedc412dccf {\n",
       "  height: 100%;   /* Make the inner div fill the parent */\n",
       "}\n",
       "</style>\n",
       "</div>\n",
       "<script type=\"module\">\n",
       "import { DataSet, Network } from \"https://unpkg.com/vis-network/standalone/esm/vis-network.min.js\";\n",
       "// CSS will be automatically injected into the page.\n",
       "function render () {\n",
       "    const nodes = new DataSet([{\"id\": 0, \"label\": \"A\", \"title\": \"0: A\"}, {\"id\": 1, \"label\": \"B\", \"title\": \"1: B\"}, {\"id\": 2, \"label\": \"C\", \"title\": \"2: C\"}, {\"id\": 3, \"label\": \"D\", \"title\": \"3: D\"}, {\"id\": 4, \"label\": \"E\", \"title\": \"4: E\"}]);\n",
       "    const edges = new DataSet([{\"title\": \"0: (A, B)\", \"label\": \"\", \"from\": 0, \"to\": 1}, {\"title\": \"1: (B, C)\", \"label\": \"\", \"from\": 1, \"to\": 2}, {\"title\": \"2: (C, D)\", \"label\": \"\", \"from\": 2, \"to\": 3}, {\"title\": \"3: (D, E)\", \"label\": \"\", \"from\": 3, \"to\": 4}]);\n",
       "    const data = {\n",
       "            nodes: nodes,\n",
       "            edges: edges,\n",
       "    };\n",
       "    const options = {\"interaction\": {\"navigationButtons\": false}, \"width\": \"100%\", \"height\": \"200px\"};\n",
       "    const container = document.getElementById('802fd8fb-cf7b-4fcd-a9f6-9dedc412dccf');\n",
       "    const network = new Network(container, data, options);\n",
       "    network.fit({maxZoomLevel: 10});\n",
       "    network.redraw();\n",
       "}\n",
       "\n",
       "render();\n",
       "document.getElementById('fit-802fd8fb-cf7b-4fcd-a9f6-9dedc412dccf').addEventListener('click', function(event) {\n",
       "    event.preventDefault();  // Prevent page jump\n",
       "    render(); // Adjust zoom limit as needed\n",
       "});\n",
       "</script>\n"
      ],
      "text/plain": [
       "<IPython.core.display.HTML object>"
      ]
     },
     "metadata": {},
     "output_type": "display_data"
    }
   ],
   "source": [
    "sm.Path(names=\"alpha\", n=5).show_graph(vis_options={\"height\": 200})"
   ]
  },
  {
   "cell_type": "markdown",
   "metadata": {},
   "source": [
    "### Cycle graphs"
   ]
  },
  {
   "cell_type": "markdown",
   "metadata": {},
   "source": [
    "Cycles are defined by a parameter $n$ that defaults to 3."
   ]
  },
  {
   "cell_type": "code",
   "execution_count": 15,
   "metadata": {
    "ExecuteTime": {
     "end_time": "2022-01-24T14:53:18.059798Z",
     "start_time": "2022-01-24T14:53:18.045604Z"
    },
    "execution": {
     "iopub.execute_input": "2025-09-27T08:33:26.492293Z",
     "iopub.status.busy": "2025-09-27T08:33:26.490899Z",
     "iopub.status.idle": "2025-09-27T08:33:26.496303Z",
     "shell.execute_reply": "2025-09-27T08:33:26.496303Z",
     "shell.execute_reply.started": "2025-09-27T08:33:26.492293Z"
    }
   },
   "outputs": [
    {
     "data": {
      "text/html": [
       "\n",
       "<div class=\"sm-graph\" id=\"box-7e90a350-c20b-471f-8ad4-d545cf0314af\">\n",
       "<div id=\"7e90a350-c20b-471f-8ad4-d545cf0314af\"></div>\n",
       "<a href=\"#\" id=\"fit-7e90a350-c20b-471f-8ad4-d545cf0314af\"\n",
       "  style=\"position: absolute; left: 10px; bottom: 10px; text-decoration: none; color: #888; font-size: min(2vw, 10px);\n",
       "  z-index: 10; pointer-events: auto;\"\n",
       "> Reload\n",
       "</a>\n",
       "<style>\n",
       "#box-7e90a350-c20b-471f-8ad4-d545cf0314af {\n",
       "position: relative;\n",
       "width: 100%;\n",
       "height: 200px !important;\n",
       "max-width: 100vw;\n",
       "max-height: 100vh !important;\n",
       "}\n",
       "#7e90a350-c20b-471f-8ad4-d545cf0314af {\n",
       "  height: 100%;   /* Make the inner div fill the parent */\n",
       "}\n",
       "</style>\n",
       "</div>\n",
       "<script type=\"module\">\n",
       "import { DataSet, Network } from \"https://unpkg.com/vis-network/standalone/esm/vis-network.min.js\";\n",
       "// CSS will be automatically injected into the page.\n",
       "function render () {\n",
       "    const nodes = new DataSet([{\"id\": 0, \"label\": \"0\", \"title\": \"0\"}, {\"id\": 1, \"label\": \"1\", \"title\": \"1\"}, {\"id\": 2, \"label\": \"2\", \"title\": \"2\"}]);\n",
       "    const edges = new DataSet([{\"title\": \"0: (0, 1)\", \"label\": \"\", \"from\": 0, \"to\": 1}, {\"title\": \"1: (0, 2)\", \"label\": \"\", \"from\": 0, \"to\": 2}, {\"title\": \"2: (1, 2)\", \"label\": \"\", \"from\": 1, \"to\": 2}]);\n",
       "    const data = {\n",
       "            nodes: nodes,\n",
       "            edges: edges,\n",
       "    };\n",
       "    const options = {\"interaction\": {\"navigationButtons\": false}, \"width\": \"100%\", \"height\": \"200px\"};\n",
       "    const container = document.getElementById('7e90a350-c20b-471f-8ad4-d545cf0314af');\n",
       "    const network = new Network(container, data, options);\n",
       "    network.fit({maxZoomLevel: 10});\n",
       "    network.redraw();\n",
       "}\n",
       "\n",
       "render();\n",
       "document.getElementById('fit-7e90a350-c20b-471f-8ad4-d545cf0314af').addEventListener('click', function(event) {\n",
       "    event.preventDefault();  // Prevent page jump\n",
       "    render(); // Adjust zoom limit as needed\n",
       "});\n",
       "</script>\n"
      ],
      "text/plain": [
       "<IPython.core.display.HTML object>"
      ]
     },
     "metadata": {},
     "output_type": "display_data"
    }
   ],
   "source": [
    "sm.Cycle().show_graph(vis_options={\"height\": 200})"
   ]
  },
  {
   "cell_type": "code",
   "execution_count": 16,
   "metadata": {
    "ExecuteTime": {
     "end_time": "2022-01-24T14:53:18.075546Z",
     "start_time": "2022-01-24T14:53:18.062544Z"
    },
    "execution": {
     "iopub.execute_input": "2025-09-27T08:33:26.497702Z",
     "iopub.status.busy": "2025-09-27T08:33:26.496303Z",
     "iopub.status.idle": "2025-09-27T08:33:26.503744Z",
     "shell.execute_reply": "2025-09-27T08:33:26.503744Z",
     "shell.execute_reply.started": "2025-09-27T08:33:26.496303Z"
    }
   },
   "outputs": [
    {
     "data": {
      "text/html": [
       "\n",
       "<div class=\"sm-graph\" id=\"box-be0692c2-17f8-4abb-a83f-8fee28791a0d\">\n",
       "<div id=\"be0692c2-17f8-4abb-a83f-8fee28791a0d\"></div>\n",
       "<a href=\"#\" id=\"fit-be0692c2-17f8-4abb-a83f-8fee28791a0d\"\n",
       "  style=\"position: absolute; left: 10px; bottom: 10px; text-decoration: none; color: #888; font-size: min(2vw, 10px);\n",
       "  z-index: 10; pointer-events: auto;\"\n",
       "> Reload\n",
       "</a>\n",
       "<style>\n",
       "#box-be0692c2-17f8-4abb-a83f-8fee28791a0d {\n",
       "position: relative;\n",
       "width: 100%;\n",
       "height: 200px !important;\n",
       "max-width: 100vw;\n",
       "max-height: 100vh !important;\n",
       "}\n",
       "#be0692c2-17f8-4abb-a83f-8fee28791a0d {\n",
       "  height: 100%;   /* Make the inner div fill the parent */\n",
       "}\n",
       "</style>\n",
       "</div>\n",
       "<script type=\"module\">\n",
       "import { DataSet, Network } from \"https://unpkg.com/vis-network/standalone/esm/vis-network.min.js\";\n",
       "// CSS will be automatically injected into the page.\n",
       "function render () {\n",
       "    const nodes = new DataSet([{\"id\": 0, \"label\": \"A\", \"title\": \"0: A\"}, {\"id\": 1, \"label\": \"B\", \"title\": \"1: B\"}, {\"id\": 2, \"label\": \"C\", \"title\": \"2: C\"}, {\"id\": 3, \"label\": \"D\", \"title\": \"3: D\"}, {\"id\": 4, \"label\": \"E\", \"title\": \"4: E\"}]);\n",
       "    const edges = new DataSet([{\"title\": \"0: (A, B)\", \"label\": \"\", \"from\": 0, \"to\": 1}, {\"title\": \"1: (A, E)\", \"label\": \"\", \"from\": 0, \"to\": 4}, {\"title\": \"2: (B, C)\", \"label\": \"\", \"from\": 1, \"to\": 2}, {\"title\": \"3: (C, D)\", \"label\": \"\", \"from\": 2, \"to\": 3}, {\"title\": \"4: (D, E)\", \"label\": \"\", \"from\": 3, \"to\": 4}]);\n",
       "    const data = {\n",
       "            nodes: nodes,\n",
       "            edges: edges,\n",
       "    };\n",
       "    const options = {\"interaction\": {\"navigationButtons\": false}, \"width\": \"100%\", \"height\": \"200px\"};\n",
       "    const container = document.getElementById('be0692c2-17f8-4abb-a83f-8fee28791a0d');\n",
       "    const network = new Network(container, data, options);\n",
       "    network.fit({maxZoomLevel: 10});\n",
       "    network.redraw();\n",
       "}\n",
       "\n",
       "render();\n",
       "document.getElementById('fit-be0692c2-17f8-4abb-a83f-8fee28791a0d').addEventListener('click', function(event) {\n",
       "    event.preventDefault();  // Prevent page jump\n",
       "    render(); // Adjust zoom limit as needed\n",
       "});\n",
       "</script>\n"
      ],
      "text/plain": [
       "<IPython.core.display.HTML object>"
      ]
     },
     "metadata": {},
     "output_type": "display_data"
    }
   ],
   "source": [
    "sm.Cycle(names=\"alpha\", n=5).show_graph(vis_options={\"height\": 200})"
   ]
  },
  {
   "cell_type": "markdown",
   "metadata": {},
   "source": [
    "### Star graphs"
   ]
  },
  {
   "cell_type": "markdown",
   "metadata": {},
   "source": [
    "Stars are defined by a parameter $n$ (the number of nodes) that defaults to 4."
   ]
  },
  {
   "cell_type": "code",
   "execution_count": 17,
   "metadata": {
    "ExecuteTime": {
     "end_time": "2022-01-24T14:53:18.123033Z",
     "start_time": "2022-01-24T14:53:18.077524Z"
    },
    "execution": {
     "iopub.execute_input": "2025-09-27T08:33:26.503744Z",
     "iopub.status.busy": "2025-09-27T08:33:26.503744Z",
     "iopub.status.idle": "2025-09-27T08:33:26.510632Z",
     "shell.execute_reply": "2025-09-27T08:33:26.510632Z",
     "shell.execute_reply.started": "2025-09-27T08:33:26.503744Z"
    }
   },
   "outputs": [
    {
     "data": {
      "text/html": [
       "\n",
       "<div class=\"sm-graph\" id=\"box-67d2fec0-1093-4015-8370-d18b708dad3a\">\n",
       "<div id=\"67d2fec0-1093-4015-8370-d18b708dad3a\"></div>\n",
       "<a href=\"#\" id=\"fit-67d2fec0-1093-4015-8370-d18b708dad3a\"\n",
       "  style=\"position: absolute; left: 10px; bottom: 10px; text-decoration: none; color: #888; font-size: min(2vw, 10px);\n",
       "  z-index: 10; pointer-events: auto;\"\n",
       "> Reload\n",
       "</a>\n",
       "<style>\n",
       "#box-67d2fec0-1093-4015-8370-d18b708dad3a {\n",
       "position: relative;\n",
       "width: 100%;\n",
       "height: 200px !important;\n",
       "max-width: 100vw;\n",
       "max-height: 100vh !important;\n",
       "}\n",
       "#67d2fec0-1093-4015-8370-d18b708dad3a {\n",
       "  height: 100%;   /* Make the inner div fill the parent */\n",
       "}\n",
       "</style>\n",
       "</div>\n",
       "<script type=\"module\">\n",
       "import { DataSet, Network } from \"https://unpkg.com/vis-network/standalone/esm/vis-network.min.js\";\n",
       "// CSS will be automatically injected into the page.\n",
       "function render () {\n",
       "    const nodes = new DataSet([{\"id\": 0, \"label\": \"0\", \"title\": \"0\"}, {\"id\": 1, \"label\": \"1\", \"title\": \"1\"}, {\"id\": 2, \"label\": \"2\", \"title\": \"2\"}, {\"id\": 3, \"label\": \"3\", \"title\": \"3\"}]);\n",
       "    const edges = new DataSet([{\"title\": \"0: (0, 1)\", \"label\": \"\", \"from\": 0, \"to\": 1}, {\"title\": \"1: (0, 2)\", \"label\": \"\", \"from\": 0, \"to\": 2}, {\"title\": \"2: (0, 3)\", \"label\": \"\", \"from\": 0, \"to\": 3}]);\n",
       "    const data = {\n",
       "            nodes: nodes,\n",
       "            edges: edges,\n",
       "    };\n",
       "    const options = {\"interaction\": {\"navigationButtons\": false}, \"width\": \"100%\", \"height\": \"200px\"};\n",
       "    const container = document.getElementById('67d2fec0-1093-4015-8370-d18b708dad3a');\n",
       "    const network = new Network(container, data, options);\n",
       "    network.fit({maxZoomLevel: 10});\n",
       "    network.redraw();\n",
       "}\n",
       "\n",
       "render();\n",
       "document.getElementById('fit-67d2fec0-1093-4015-8370-d18b708dad3a').addEventListener('click', function(event) {\n",
       "    event.preventDefault();  // Prevent page jump\n",
       "    render(); // Adjust zoom limit as needed\n",
       "});\n",
       "</script>\n"
      ],
      "text/plain": [
       "<IPython.core.display.HTML object>"
      ]
     },
     "metadata": {},
     "output_type": "display_data"
    }
   ],
   "source": [
    "sm.Star().show_graph(vis_options={\"height\": 200})"
   ]
  },
  {
   "cell_type": "code",
   "execution_count": 18,
   "metadata": {
    "ExecuteTime": {
     "end_time": "2022-01-24T14:53:18.138265Z",
     "start_time": "2022-01-24T14:53:18.124033Z"
    },
    "execution": {
     "iopub.execute_input": "2025-09-27T08:33:26.510632Z",
     "iopub.status.busy": "2025-09-27T08:33:26.510632Z",
     "iopub.status.idle": "2025-09-27T08:33:26.516774Z",
     "shell.execute_reply": "2025-09-27T08:33:26.516774Z",
     "shell.execute_reply.started": "2025-09-27T08:33:26.510632Z"
    }
   },
   "outputs": [
    {
     "data": {
      "text/html": [
       "\n",
       "<div class=\"sm-graph\" id=\"box-35227805-19f7-4a59-85ea-2939d6f56eca\">\n",
       "<div id=\"35227805-19f7-4a59-85ea-2939d6f56eca\"></div>\n",
       "<a href=\"#\" id=\"fit-35227805-19f7-4a59-85ea-2939d6f56eca\"\n",
       "  style=\"position: absolute; left: 10px; bottom: 10px; text-decoration: none; color: #888; font-size: min(2vw, 10px);\n",
       "  z-index: 10; pointer-events: auto;\"\n",
       "> Reload\n",
       "</a>\n",
       "<style>\n",
       "#box-35227805-19f7-4a59-85ea-2939d6f56eca {\n",
       "position: relative;\n",
       "width: 100%;\n",
       "height: 200px !important;\n",
       "max-width: 100vw;\n",
       "max-height: 100vh !important;\n",
       "}\n",
       "#35227805-19f7-4a59-85ea-2939d6f56eca {\n",
       "  height: 100%;   /* Make the inner div fill the parent */\n",
       "}\n",
       "</style>\n",
       "</div>\n",
       "<script type=\"module\">\n",
       "import { DataSet, Network } from \"https://unpkg.com/vis-network/standalone/esm/vis-network.min.js\";\n",
       "// CSS will be automatically injected into the page.\n",
       "function render () {\n",
       "    const nodes = new DataSet([{\"id\": 0, \"label\": \"A\", \"title\": \"0: A\"}, {\"id\": 1, \"label\": \"B\", \"title\": \"1: B\"}, {\"id\": 2, \"label\": \"C\", \"title\": \"2: C\"}, {\"id\": 3, \"label\": \"D\", \"title\": \"3: D\"}, {\"id\": 4, \"label\": \"E\", \"title\": \"4: E\"}]);\n",
       "    const edges = new DataSet([{\"title\": \"0: (A, B)\", \"label\": \"\", \"from\": 0, \"to\": 1}, {\"title\": \"1: (A, C)\", \"label\": \"\", \"from\": 0, \"to\": 2}, {\"title\": \"2: (A, D)\", \"label\": \"\", \"from\": 0, \"to\": 3}, {\"title\": \"3: (A, E)\", \"label\": \"\", \"from\": 0, \"to\": 4}]);\n",
       "    const data = {\n",
       "            nodes: nodes,\n",
       "            edges: edges,\n",
       "    };\n",
       "    const options = {\"interaction\": {\"navigationButtons\": false}, \"width\": \"100%\", \"height\": \"200px\"};\n",
       "    const container = document.getElementById('35227805-19f7-4a59-85ea-2939d6f56eca');\n",
       "    const network = new Network(container, data, options);\n",
       "    network.fit({maxZoomLevel: 10});\n",
       "    network.redraw();\n",
       "}\n",
       "\n",
       "render();\n",
       "document.getElementById('fit-35227805-19f7-4a59-85ea-2939d6f56eca').addEventListener('click', function(event) {\n",
       "    event.preventDefault();  // Prevent page jump\n",
       "    render(); // Adjust zoom limit as needed\n",
       "});\n",
       "</script>\n"
      ],
      "text/plain": [
       "<IPython.core.display.HTML object>"
      ]
     },
     "metadata": {},
     "output_type": "display_data"
    }
   ],
   "source": [
    "sm.Star(names=\"alpha\", n=5).show_graph(vis_options={\"height\": 200})"
   ]
  },
  {
   "cell_type": "markdown",
   "metadata": {},
   "source": [
    "### Complete graphs"
   ]
  },
  {
   "cell_type": "markdown",
   "metadata": {},
   "source": [
    "Complete graphs are defined by a parameter $n$ that defaults to 3."
   ]
  },
  {
   "cell_type": "code",
   "execution_count": 19,
   "metadata": {
    "ExecuteTime": {
     "end_time": "2022-01-24T14:53:18.156068Z",
     "start_time": "2022-01-24T14:53:18.140121Z"
    },
    "execution": {
     "iopub.execute_input": "2025-09-27T08:33:26.517782Z",
     "iopub.status.busy": "2025-09-27T08:33:26.517782Z",
     "iopub.status.idle": "2025-09-27T08:33:26.522784Z",
     "shell.execute_reply": "2025-09-27T08:33:26.522784Z",
     "shell.execute_reply.started": "2025-09-27T08:33:26.517782Z"
    }
   },
   "outputs": [
    {
     "data": {
      "text/html": [
       "\n",
       "<div class=\"sm-graph\" id=\"box-db372ad0-1a47-43ea-aadc-45240440cdb8\">\n",
       "<div id=\"db372ad0-1a47-43ea-aadc-45240440cdb8\"></div>\n",
       "<a href=\"#\" id=\"fit-db372ad0-1a47-43ea-aadc-45240440cdb8\"\n",
       "  style=\"position: absolute; left: 10px; bottom: 10px; text-decoration: none; color: #888; font-size: min(2vw, 10px);\n",
       "  z-index: 10; pointer-events: auto;\"\n",
       "> Reload\n",
       "</a>\n",
       "<style>\n",
       "#box-db372ad0-1a47-43ea-aadc-45240440cdb8 {\n",
       "position: relative;\n",
       "width: 100%;\n",
       "height: 200px !important;\n",
       "max-width: 100vw;\n",
       "max-height: 100vh !important;\n",
       "}\n",
       "#db372ad0-1a47-43ea-aadc-45240440cdb8 {\n",
       "  height: 100%;   /* Make the inner div fill the parent */\n",
       "}\n",
       "</style>\n",
       "</div>\n",
       "<script type=\"module\">\n",
       "import { DataSet, Network } from \"https://unpkg.com/vis-network/standalone/esm/vis-network.min.js\";\n",
       "// CSS will be automatically injected into the page.\n",
       "function render () {\n",
       "    const nodes = new DataSet([{\"id\": 0, \"label\": \"0\", \"title\": \"0\"}, {\"id\": 1, \"label\": \"1\", \"title\": \"1\"}, {\"id\": 2, \"label\": \"2\", \"title\": \"2\"}]);\n",
       "    const edges = new DataSet([{\"title\": \"0: (0, 1)\", \"label\": \"\", \"from\": 0, \"to\": 1}, {\"title\": \"1: (0, 2)\", \"label\": \"\", \"from\": 0, \"to\": 2}, {\"title\": \"2: (1, 2)\", \"label\": \"\", \"from\": 1, \"to\": 2}]);\n",
       "    const data = {\n",
       "            nodes: nodes,\n",
       "            edges: edges,\n",
       "    };\n",
       "    const options = {\"interaction\": {\"navigationButtons\": false}, \"width\": \"100%\", \"height\": \"200px\"};\n",
       "    const container = document.getElementById('db372ad0-1a47-43ea-aadc-45240440cdb8');\n",
       "    const network = new Network(container, data, options);\n",
       "    network.fit({maxZoomLevel: 10});\n",
       "    network.redraw();\n",
       "}\n",
       "\n",
       "render();\n",
       "document.getElementById('fit-db372ad0-1a47-43ea-aadc-45240440cdb8').addEventListener('click', function(event) {\n",
       "    event.preventDefault();  // Prevent page jump\n",
       "    render(); // Adjust zoom limit as needed\n",
       "});\n",
       "</script>\n"
      ],
      "text/plain": [
       "<IPython.core.display.HTML object>"
      ]
     },
     "metadata": {},
     "output_type": "display_data"
    }
   ],
   "source": [
    "sm.Complete().show_graph(vis_options={\"height\": 200})"
   ]
  },
  {
   "cell_type": "code",
   "execution_count": 20,
   "metadata": {
    "ExecuteTime": {
     "end_time": "2022-01-24T14:53:18.169715Z",
     "start_time": "2022-01-24T14:53:18.159342Z"
    },
    "execution": {
     "iopub.execute_input": "2025-09-27T08:33:26.524197Z",
     "iopub.status.busy": "2025-09-27T08:33:26.522784Z",
     "iopub.status.idle": "2025-09-27T08:33:26.528526Z",
     "shell.execute_reply": "2025-09-27T08:33:26.528526Z",
     "shell.execute_reply.started": "2025-09-27T08:33:26.524197Z"
    }
   },
   "outputs": [
    {
     "data": {
      "text/html": [
       "\n",
       "<div class=\"sm-graph\" id=\"box-0908a68c-d701-416b-b67f-a179115474a7\">\n",
       "<div id=\"0908a68c-d701-416b-b67f-a179115474a7\"></div>\n",
       "<a href=\"#\" id=\"fit-0908a68c-d701-416b-b67f-a179115474a7\"\n",
       "  style=\"position: absolute; left: 10px; bottom: 10px; text-decoration: none; color: #888; font-size: min(2vw, 10px);\n",
       "  z-index: 10; pointer-events: auto;\"\n",
       "> Reload\n",
       "</a>\n",
       "<style>\n",
       "#box-0908a68c-d701-416b-b67f-a179115474a7 {\n",
       "position: relative;\n",
       "width: 100%;\n",
       "height: 200px !important;\n",
       "max-width: 100vw;\n",
       "max-height: 100vh !important;\n",
       "}\n",
       "#0908a68c-d701-416b-b67f-a179115474a7 {\n",
       "  height: 100%;   /* Make the inner div fill the parent */\n",
       "}\n",
       "</style>\n",
       "</div>\n",
       "<script type=\"module\">\n",
       "import { DataSet, Network } from \"https://unpkg.com/vis-network/standalone/esm/vis-network.min.js\";\n",
       "// CSS will be automatically injected into the page.\n",
       "function render () {\n",
       "    const nodes = new DataSet([{\"id\": 0, \"label\": \"A\", \"title\": \"0: A\"}, {\"id\": 1, \"label\": \"B\", \"title\": \"1: B\"}, {\"id\": 2, \"label\": \"C\", \"title\": \"2: C\"}, {\"id\": 3, \"label\": \"D\", \"title\": \"3: D\"}, {\"id\": 4, \"label\": \"E\", \"title\": \"4: E\"}]);\n",
       "    const edges = new DataSet([{\"title\": \"0: (A, B)\", \"label\": \"\", \"from\": 0, \"to\": 1}, {\"title\": \"1: (A, C)\", \"label\": \"\", \"from\": 0, \"to\": 2}, {\"title\": \"2: (A, D)\", \"label\": \"\", \"from\": 0, \"to\": 3}, {\"title\": \"3: (A, E)\", \"label\": \"\", \"from\": 0, \"to\": 4}, {\"title\": \"4: (B, C)\", \"label\": \"\", \"from\": 1, \"to\": 2}, {\"title\": \"5: (B, D)\", \"label\": \"\", \"from\": 1, \"to\": 3}, {\"title\": \"6: (B, E)\", \"label\": \"\", \"from\": 1, \"to\": 4}, {\"title\": \"7: (C, D)\", \"label\": \"\", \"from\": 2, \"to\": 3}, {\"title\": \"8: (C, E)\", \"label\": \"\", \"from\": 2, \"to\": 4}, {\"title\": \"9: (D, E)\", \"label\": \"\", \"from\": 3, \"to\": 4}]);\n",
       "    const data = {\n",
       "            nodes: nodes,\n",
       "            edges: edges,\n",
       "    };\n",
       "    const options = {\"interaction\": {\"navigationButtons\": false}, \"width\": \"100%\", \"height\": \"200px\"};\n",
       "    const container = document.getElementById('0908a68c-d701-416b-b67f-a179115474a7');\n",
       "    const network = new Network(container, data, options);\n",
       "    network.fit({maxZoomLevel: 10});\n",
       "    network.redraw();\n",
       "}\n",
       "\n",
       "render();\n",
       "document.getElementById('fit-0908a68c-d701-416b-b67f-a179115474a7').addEventListener('click', function(event) {\n",
       "    event.preventDefault();  // Prevent page jump\n",
       "    render(); // Adjust zoom limit as needed\n",
       "});\n",
       "</script>\n"
      ],
      "text/plain": [
       "<IPython.core.display.HTML object>"
      ]
     },
     "metadata": {},
     "output_type": "display_data"
    }
   ],
   "source": [
    "sm.Complete(names=\"alpha\", n=5).show_graph(vis_options={\"height\": 200})"
   ]
  },
  {
   "cell_type": "markdown",
   "metadata": {},
   "source": [
    "### Tadpole graphs"
   ]
  },
  {
   "cell_type": "markdown",
   "metadata": {},
   "source": [
    "A tadpole combines a cycle of length $m$ and a path of length $n$. Default is the paw graph ($m=3, n=1$)"
   ]
  },
  {
   "cell_type": "code",
   "execution_count": 21,
   "metadata": {
    "ExecuteTime": {
     "end_time": "2022-01-24T14:53:18.185906Z",
     "start_time": "2022-01-24T14:53:18.172226Z"
    },
    "execution": {
     "iopub.execute_input": "2025-09-27T08:33:26.529902Z",
     "iopub.status.busy": "2025-09-27T08:33:26.529902Z",
     "iopub.status.idle": "2025-09-27T08:33:26.534765Z",
     "shell.execute_reply": "2025-09-27T08:33:26.534765Z",
     "shell.execute_reply.started": "2025-09-27T08:33:26.529902Z"
    }
   },
   "outputs": [
    {
     "data": {
      "text/html": [
       "\n",
       "<div class=\"sm-graph\" id=\"box-91b0df57-a89f-48a1-b808-49ce9a1660ff\">\n",
       "<div id=\"91b0df57-a89f-48a1-b808-49ce9a1660ff\"></div>\n",
       "<a href=\"#\" id=\"fit-91b0df57-a89f-48a1-b808-49ce9a1660ff\"\n",
       "  style=\"position: absolute; left: 10px; bottom: 10px; text-decoration: none; color: #888; font-size: min(2vw, 10px);\n",
       "  z-index: 10; pointer-events: auto;\"\n",
       "> Reload\n",
       "</a>\n",
       "<style>\n",
       "#box-91b0df57-a89f-48a1-b808-49ce9a1660ff {\n",
       "position: relative;\n",
       "width: 100%;\n",
       "height: 200px !important;\n",
       "max-width: 100vw;\n",
       "max-height: 100vh !important;\n",
       "}\n",
       "#91b0df57-a89f-48a1-b808-49ce9a1660ff {\n",
       "  height: 100%;   /* Make the inner div fill the parent */\n",
       "}\n",
       "</style>\n",
       "</div>\n",
       "<script type=\"module\">\n",
       "import { DataSet, Network } from \"https://unpkg.com/vis-network/standalone/esm/vis-network.min.js\";\n",
       "// CSS will be automatically injected into the page.\n",
       "function render () {\n",
       "    const nodes = new DataSet([{\"id\": 0, \"label\": \"0\", \"title\": \"0\"}, {\"id\": 1, \"label\": \"1\", \"title\": \"1\"}, {\"id\": 2, \"label\": \"2\", \"title\": \"2\"}, {\"id\": 3, \"label\": \"3\", \"title\": \"3\"}]);\n",
       "    const edges = new DataSet([{\"title\": \"0: (0, 1)\", \"label\": \"\", \"from\": 0, \"to\": 1}, {\"title\": \"1: (0, 2)\", \"label\": \"\", \"from\": 0, \"to\": 2}, {\"title\": \"2: (1, 2)\", \"label\": \"\", \"from\": 1, \"to\": 2}, {\"title\": \"3: (2, 3)\", \"label\": \"\", \"from\": 2, \"to\": 3}]);\n",
       "    const data = {\n",
       "            nodes: nodes,\n",
       "            edges: edges,\n",
       "    };\n",
       "    const options = {\"interaction\": {\"navigationButtons\": false}, \"width\": \"100%\", \"height\": \"200px\"};\n",
       "    const container = document.getElementById('91b0df57-a89f-48a1-b808-49ce9a1660ff');\n",
       "    const network = new Network(container, data, options);\n",
       "    network.fit({maxZoomLevel: 10});\n",
       "    network.redraw();\n",
       "}\n",
       "\n",
       "render();\n",
       "document.getElementById('fit-91b0df57-a89f-48a1-b808-49ce9a1660ff').addEventListener('click', function(event) {\n",
       "    event.preventDefault();  // Prevent page jump\n",
       "    render(); // Adjust zoom limit as needed\n",
       "});\n",
       "</script>\n"
      ],
      "text/plain": [
       "<IPython.core.display.HTML object>"
      ]
     },
     "metadata": {},
     "output_type": "display_data"
    }
   ],
   "source": [
    "# Paw graph\n",
    "sm.Tadpole().show_graph(vis_options={\"height\": 200})"
   ]
  },
  {
   "cell_type": "code",
   "execution_count": 22,
   "metadata": {
    "ExecuteTime": {
     "end_time": "2022-01-24T14:53:18.201978Z",
     "start_time": "2022-01-24T14:53:18.187665Z"
    },
    "execution": {
     "iopub.execute_input": "2025-09-27T08:33:26.535916Z",
     "iopub.status.busy": "2025-09-27T08:33:26.535916Z",
     "iopub.status.idle": "2025-09-27T08:33:26.540407Z",
     "shell.execute_reply": "2025-09-27T08:33:26.540407Z",
     "shell.execute_reply.started": "2025-09-27T08:33:26.535916Z"
    }
   },
   "outputs": [
    {
     "data": {
      "text/html": [
       "\n",
       "<div class=\"sm-graph\" id=\"box-b940b271-73c2-426c-8aeb-3da5c016d2bf\">\n",
       "<div id=\"b940b271-73c2-426c-8aeb-3da5c016d2bf\"></div>\n",
       "<a href=\"#\" id=\"fit-b940b271-73c2-426c-8aeb-3da5c016d2bf\"\n",
       "  style=\"position: absolute; left: 10px; bottom: 10px; text-decoration: none; color: #888; font-size: min(2vw, 10px);\n",
       "  z-index: 10; pointer-events: auto;\"\n",
       "> Reload\n",
       "</a>\n",
       "<style>\n",
       "#box-b940b271-73c2-426c-8aeb-3da5c016d2bf {\n",
       "position: relative;\n",
       "width: 100%;\n",
       "height: 200px !important;\n",
       "max-width: 100vw;\n",
       "max-height: 100vh !important;\n",
       "}\n",
       "#b940b271-73c2-426c-8aeb-3da5c016d2bf {\n",
       "  height: 100%;   /* Make the inner div fill the parent */\n",
       "}\n",
       "</style>\n",
       "</div>\n",
       "<script type=\"module\">\n",
       "import { DataSet, Network } from \"https://unpkg.com/vis-network/standalone/esm/vis-network.min.js\";\n",
       "// CSS will be automatically injected into the page.\n",
       "function render () {\n",
       "    const nodes = new DataSet([{\"id\": 0, \"label\": \"0\", \"title\": \"0\"}, {\"id\": 1, \"label\": \"1\", \"title\": \"1\"}, {\"id\": 2, \"label\": \"2\", \"title\": \"2\"}, {\"id\": 3, \"label\": \"3\", \"title\": \"3\"}, {\"id\": 4, \"label\": \"4\", \"title\": \"4\"}, {\"id\": 5, \"label\": \"5\", \"title\": \"5\"}, {\"id\": 6, \"label\": \"6\", \"title\": \"6\"}]);\n",
       "    const edges = new DataSet([{\"title\": \"0: (0, 1)\", \"label\": \"\", \"from\": 0, \"to\": 1}, {\"title\": \"1: (0, 2)\", \"label\": \"\", \"from\": 0, \"to\": 2}, {\"title\": \"2: (1, 2)\", \"label\": \"\", \"from\": 1, \"to\": 2}, {\"title\": \"3: (2, 3)\", \"label\": \"\", \"from\": 2, \"to\": 3}, {\"title\": \"4: (3, 4)\", \"label\": \"\", \"from\": 3, \"to\": 4}, {\"title\": \"5: (4, 5)\", \"label\": \"\", \"from\": 4, \"to\": 5}, {\"title\": \"6: (5, 6)\", \"label\": \"\", \"from\": 5, \"to\": 6}]);\n",
       "    const data = {\n",
       "            nodes: nodes,\n",
       "            edges: edges,\n",
       "    };\n",
       "    const options = {\"interaction\": {\"navigationButtons\": false}, \"width\": \"100%\", \"height\": \"200px\"};\n",
       "    const container = document.getElementById('b940b271-73c2-426c-8aeb-3da5c016d2bf');\n",
       "    const network = new Network(container, data, options);\n",
       "    network.fit({maxZoomLevel: 10});\n",
       "    network.redraw();\n",
       "}\n",
       "\n",
       "render();\n",
       "document.getElementById('fit-b940b271-73c2-426c-8aeb-3da5c016d2bf').addEventListener('click', function(event) {\n",
       "    event.preventDefault();  // Prevent page jump\n",
       "    render(); // Adjust zoom limit as needed\n",
       "});\n",
       "</script>\n"
      ],
      "text/plain": [
       "<IPython.core.display.HTML object>"
      ]
     },
     "metadata": {},
     "output_type": "display_data"
    }
   ],
   "source": [
    "sm.Tadpole(n=4).show_graph(vis_options={\"height\": 200})"
   ]
  },
  {
   "cell_type": "code",
   "execution_count": 23,
   "metadata": {
    "ExecuteTime": {
     "end_time": "2022-01-24T14:53:18.217188Z",
     "start_time": "2022-01-24T14:53:18.203156Z"
    },
    "execution": {
     "iopub.execute_input": "2025-09-27T08:33:26.541658Z",
     "iopub.status.busy": "2025-09-27T08:33:26.541658Z",
     "iopub.status.idle": "2025-09-27T08:33:26.547432Z",
     "shell.execute_reply": "2025-09-27T08:33:26.547432Z",
     "shell.execute_reply.started": "2025-09-27T08:33:26.541658Z"
    }
   },
   "outputs": [
    {
     "data": {
      "text/html": [
       "\n",
       "<div class=\"sm-graph\" id=\"box-dea84d04-6ff5-45fe-aa84-347d1d293998\">\n",
       "<div id=\"dea84d04-6ff5-45fe-aa84-347d1d293998\"></div>\n",
       "<a href=\"#\" id=\"fit-dea84d04-6ff5-45fe-aa84-347d1d293998\"\n",
       "  style=\"position: absolute; left: 10px; bottom: 10px; text-decoration: none; color: #888; font-size: min(2vw, 10px);\n",
       "  z-index: 10; pointer-events: auto;\"\n",
       "> Reload\n",
       "</a>\n",
       "<style>\n",
       "#box-dea84d04-6ff5-45fe-aa84-347d1d293998 {\n",
       "position: relative;\n",
       "width: 100%;\n",
       "height: 200px !important;\n",
       "max-width: 100vw;\n",
       "max-height: 100vh !important;\n",
       "}\n",
       "#dea84d04-6ff5-45fe-aa84-347d1d293998 {\n",
       "  height: 100%;   /* Make the inner div fill the parent */\n",
       "}\n",
       "</style>\n",
       "</div>\n",
       "<script type=\"module\">\n",
       "import { DataSet, Network } from \"https://unpkg.com/vis-network/standalone/esm/vis-network.min.js\";\n",
       "// CSS will be automatically injected into the page.\n",
       "function render () {\n",
       "    const nodes = new DataSet([{\"id\": 0, \"label\": \"0\", \"title\": \"0\"}, {\"id\": 1, \"label\": \"1\", \"title\": \"1\"}, {\"id\": 2, \"label\": \"2\", \"title\": \"2\"}, {\"id\": 3, \"label\": \"3\", \"title\": \"3\"}, {\"id\": 4, \"label\": \"4\", \"title\": \"4\"}]);\n",
       "    const edges = new DataSet([{\"title\": \"0: (0, 1)\", \"label\": \"\", \"from\": 0, \"to\": 1}, {\"title\": \"1: (0, 3)\", \"label\": \"\", \"from\": 0, \"to\": 3}, {\"title\": \"2: (1, 2)\", \"label\": \"\", \"from\": 1, \"to\": 2}, {\"title\": \"3: (2, 3)\", \"label\": \"\", \"from\": 2, \"to\": 3}, {\"title\": \"4: (3, 4)\", \"label\": \"\", \"from\": 3, \"to\": 4}]);\n",
       "    const data = {\n",
       "            nodes: nodes,\n",
       "            edges: edges,\n",
       "    };\n",
       "    const options = {\"interaction\": {\"navigationButtons\": false}, \"width\": \"100%\", \"height\": \"200px\"};\n",
       "    const container = document.getElementById('dea84d04-6ff5-45fe-aa84-347d1d293998');\n",
       "    const network = new Network(container, data, options);\n",
       "    network.fit({maxZoomLevel: 10});\n",
       "    network.redraw();\n",
       "}\n",
       "\n",
       "render();\n",
       "document.getElementById('fit-dea84d04-6ff5-45fe-aa84-347d1d293998').addEventListener('click', function(event) {\n",
       "    event.preventDefault();  // Prevent page jump\n",
       "    render(); // Adjust zoom limit as needed\n",
       "});\n",
       "</script>\n"
      ],
      "text/plain": [
       "<IPython.core.display.HTML object>"
      ]
     },
     "metadata": {},
     "output_type": "display_data"
    }
   ],
   "source": [
    "# Banner graph\n",
    "sm.Tadpole(m=4).show_graph(vis_options={\"height\": 200})"
   ]
  },
  {
   "cell_type": "code",
   "execution_count": 24,
   "metadata": {
    "ExecuteTime": {
     "end_time": "2022-01-24T14:53:18.233440Z",
     "start_time": "2022-01-24T14:53:18.219263Z"
    },
    "execution": {
     "iopub.execute_input": "2025-09-27T08:33:26.547432Z",
     "iopub.status.busy": "2025-09-27T08:33:26.547432Z",
     "iopub.status.idle": "2025-09-27T08:33:26.553993Z",
     "shell.execute_reply": "2025-09-27T08:33:26.553993Z",
     "shell.execute_reply.started": "2025-09-27T08:33:26.547432Z"
    }
   },
   "outputs": [
    {
     "data": {
      "text/html": [
       "\n",
       "<div class=\"sm-graph\" id=\"box-2ed9967d-848d-470a-b1e8-f78ab0263bb2\">\n",
       "<div id=\"2ed9967d-848d-470a-b1e8-f78ab0263bb2\"></div>\n",
       "<a href=\"#\" id=\"fit-2ed9967d-848d-470a-b1e8-f78ab0263bb2\"\n",
       "  style=\"position: absolute; left: 10px; bottom: 10px; text-decoration: none; color: #888; font-size: min(2vw, 10px);\n",
       "  z-index: 10; pointer-events: auto;\"\n",
       "> Reload\n",
       "</a>\n",
       "<style>\n",
       "#box-2ed9967d-848d-470a-b1e8-f78ab0263bb2 {\n",
       "position: relative;\n",
       "width: 100%;\n",
       "height: 400px !important;\n",
       "max-width: 100vw;\n",
       "max-height: 100vh !important;\n",
       "}\n",
       "#2ed9967d-848d-470a-b1e8-f78ab0263bb2 {\n",
       "  height: 100%;   /* Make the inner div fill the parent */\n",
       "}\n",
       "</style>\n",
       "</div>\n",
       "<script type=\"module\">\n",
       "import { DataSet, Network } from \"https://unpkg.com/vis-network/standalone/esm/vis-network.min.js\";\n",
       "// CSS will be automatically injected into the page.\n",
       "function render () {\n",
       "    const nodes = new DataSet([{\"id\": 0, \"label\": \"Dubhe\", \"title\": \"0: Dubhe\"}, {\"id\": 1, \"label\": \"Merak\", \"title\": \"1: Merak\"}, {\"id\": 2, \"label\": \"Phecda\", \"title\": \"2: Phecda\"}, {\"id\": 3, \"label\": \"Megrez\", \"title\": \"3: Megrez\"}, {\"id\": 4, \"label\": \"Alioth\", \"title\": \"4: Alioth\"}, {\"id\": 5, \"label\": \"Mizar\", \"title\": \"5: Mizar\"}, {\"id\": 6, \"label\": \"Alkaid\", \"title\": \"6: Alkaid\"}]);\n",
       "    const edges = new DataSet([{\"title\": \"0: (Dubhe, Merak)\", \"label\": \"\", \"from\": 0, \"to\": 1}, {\"title\": \"1: (Dubhe, Megrez)\", \"label\": \"\", \"from\": 0, \"to\": 3}, {\"title\": \"2: (Merak, Phecda)\", \"label\": \"\", \"from\": 1, \"to\": 2}, {\"title\": \"3: (Phecda, Megrez)\", \"label\": \"\", \"from\": 2, \"to\": 3}, {\"title\": \"4: (Megrez, Alioth)\", \"label\": \"\", \"from\": 3, \"to\": 4}, {\"title\": \"5: (Alioth, Mizar)\", \"label\": \"\", \"from\": 4, \"to\": 5}, {\"title\": \"6: (Mizar, Alkaid)\", \"label\": \"\", \"from\": 5, \"to\": 6}]);\n",
       "    const data = {\n",
       "            nodes: nodes,\n",
       "            edges: edges,\n",
       "    };\n",
       "    const options = {\"interaction\": {\"navigationButtons\": false}, \"width\": \"100%\", \"height\": \"400px\"};\n",
       "    const container = document.getElementById('2ed9967d-848d-470a-b1e8-f78ab0263bb2');\n",
       "    const network = new Network(container, data, options);\n",
       "    network.fit({maxZoomLevel: 10});\n",
       "    network.redraw();\n",
       "}\n",
       "\n",
       "render();\n",
       "document.getElementById('fit-2ed9967d-848d-470a-b1e8-f78ab0263bb2').addEventListener('click', function(event) {\n",
       "    event.preventDefault();  // Prevent page jump\n",
       "    render(); // Adjust zoom limit as needed\n",
       "});\n",
       "</script>\n"
      ],
      "text/plain": [
       "<IPython.core.display.HTML object>"
      ]
     },
     "metadata": {},
     "output_type": "display_data"
    }
   ],
   "source": [
    "# Ursa major\n",
    "sm.Tadpole(\n",
    "    n=3, m=4, names=[\"Dubhe\", \"Merak\", \"Phecda\", \"Megrez\", \"Alioth\", \"Mizar\", \"Alkaid\"]\n",
    ").show_graph(vis_options={\"height\": 400})"
   ]
  },
  {
   "cell_type": "markdown",
   "metadata": {},
   "source": [
    "### Lollipop graphs"
   ]
  },
  {
   "cell_type": "markdown",
   "metadata": {},
   "source": [
    "A lollipop combines a complete graph of size $m$ and a path of length $n$. Default is the paw graph ($m=3, n=1$)"
   ]
  },
  {
   "cell_type": "code",
   "execution_count": 25,
   "metadata": {
    "ExecuteTime": {
     "end_time": "2022-01-24T14:53:18.249334Z",
     "start_time": "2022-01-24T14:53:18.235132Z"
    },
    "execution": {
     "iopub.execute_input": "2025-09-27T08:33:26.553993Z",
     "iopub.status.busy": "2025-09-27T08:33:26.553993Z",
     "iopub.status.idle": "2025-09-27T08:33:26.559755Z",
     "shell.execute_reply": "2025-09-27T08:33:26.559755Z",
     "shell.execute_reply.started": "2025-09-27T08:33:26.553993Z"
    }
   },
   "outputs": [
    {
     "data": {
      "text/html": [
       "\n",
       "<div class=\"sm-graph\" id=\"box-8a275bd3-1796-4a8f-b5ab-a13914700028\">\n",
       "<div id=\"8a275bd3-1796-4a8f-b5ab-a13914700028\"></div>\n",
       "<a href=\"#\" id=\"fit-8a275bd3-1796-4a8f-b5ab-a13914700028\"\n",
       "  style=\"position: absolute; left: 10px; bottom: 10px; text-decoration: none; color: #888; font-size: min(2vw, 10px);\n",
       "  z-index: 10; pointer-events: auto;\"\n",
       "> Reload\n",
       "</a>\n",
       "<style>\n",
       "#box-8a275bd3-1796-4a8f-b5ab-a13914700028 {\n",
       "position: relative;\n",
       "width: 100%;\n",
       "height: 200px !important;\n",
       "max-width: 100vw;\n",
       "max-height: 100vh !important;\n",
       "}\n",
       "#8a275bd3-1796-4a8f-b5ab-a13914700028 {\n",
       "  height: 100%;   /* Make the inner div fill the parent */\n",
       "}\n",
       "</style>\n",
       "</div>\n",
       "<script type=\"module\">\n",
       "import { DataSet, Network } from \"https://unpkg.com/vis-network/standalone/esm/vis-network.min.js\";\n",
       "// CSS will be automatically injected into the page.\n",
       "function render () {\n",
       "    const nodes = new DataSet([{\"id\": 0, \"label\": \"0\", \"title\": \"0\"}, {\"id\": 1, \"label\": \"1\", \"title\": \"1\"}, {\"id\": 2, \"label\": \"2\", \"title\": \"2\"}, {\"id\": 3, \"label\": \"3\", \"title\": \"3\"}]);\n",
       "    const edges = new DataSet([{\"title\": \"0: (0, 1)\", \"label\": \"\", \"from\": 0, \"to\": 1}, {\"title\": \"1: (0, 2)\", \"label\": \"\", \"from\": 0, \"to\": 2}, {\"title\": \"2: (1, 2)\", \"label\": \"\", \"from\": 1, \"to\": 2}, {\"title\": \"3: (2, 3)\", \"label\": \"\", \"from\": 2, \"to\": 3}]);\n",
       "    const data = {\n",
       "            nodes: nodes,\n",
       "            edges: edges,\n",
       "    };\n",
       "    const options = {\"interaction\": {\"navigationButtons\": false}, \"width\": \"100%\", \"height\": \"200px\"};\n",
       "    const container = document.getElementById('8a275bd3-1796-4a8f-b5ab-a13914700028');\n",
       "    const network = new Network(container, data, options);\n",
       "    network.fit({maxZoomLevel: 10});\n",
       "    network.redraw();\n",
       "}\n",
       "\n",
       "render();\n",
       "document.getElementById('fit-8a275bd3-1796-4a8f-b5ab-a13914700028').addEventListener('click', function(event) {\n",
       "    event.preventDefault();  // Prevent page jump\n",
       "    render(); // Adjust zoom limit as needed\n",
       "});\n",
       "</script>\n"
      ],
      "text/plain": [
       "<IPython.core.display.HTML object>"
      ]
     },
     "metadata": {},
     "output_type": "display_data"
    }
   ],
   "source": [
    "# Paw graph\n",
    "sm.Lollipop().show_graph(vis_options={\"height\": 200})"
   ]
  },
  {
   "cell_type": "code",
   "execution_count": 26,
   "metadata": {
    "ExecuteTime": {
     "end_time": "2022-01-24T14:53:18.264699Z",
     "start_time": "2022-01-24T14:53:18.250808Z"
    },
    "execution": {
     "iopub.execute_input": "2025-09-27T08:33:26.560815Z",
     "iopub.status.busy": "2025-09-27T08:33:26.560815Z",
     "iopub.status.idle": "2025-09-27T08:33:26.566526Z",
     "shell.execute_reply": "2025-09-27T08:33:26.566526Z",
     "shell.execute_reply.started": "2025-09-27T08:33:26.560815Z"
    }
   },
   "outputs": [
    {
     "data": {
      "text/html": [
       "\n",
       "<div class=\"sm-graph\" id=\"box-1d429a98-30b7-4244-9a18-4e19f920e8d7\">\n",
       "<div id=\"1d429a98-30b7-4244-9a18-4e19f920e8d7\"></div>\n",
       "<a href=\"#\" id=\"fit-1d429a98-30b7-4244-9a18-4e19f920e8d7\"\n",
       "  style=\"position: absolute; left: 10px; bottom: 10px; text-decoration: none; color: #888; font-size: min(2vw, 10px);\n",
       "  z-index: 10; pointer-events: auto;\"\n",
       "> Reload\n",
       "</a>\n",
       "<style>\n",
       "#box-1d429a98-30b7-4244-9a18-4e19f920e8d7 {\n",
       "position: relative;\n",
       "width: 100%;\n",
       "height: 200px !important;\n",
       "max-width: 100vw;\n",
       "max-height: 100vh !important;\n",
       "}\n",
       "#1d429a98-30b7-4244-9a18-4e19f920e8d7 {\n",
       "  height: 100%;   /* Make the inner div fill the parent */\n",
       "}\n",
       "</style>\n",
       "</div>\n",
       "<script type=\"module\">\n",
       "import { DataSet, Network } from \"https://unpkg.com/vis-network/standalone/esm/vis-network.min.js\";\n",
       "// CSS will be automatically injected into the page.\n",
       "function render () {\n",
       "    const nodes = new DataSet([{\"id\": 0, \"label\": \"0\", \"title\": \"0\"}, {\"id\": 1, \"label\": \"1\", \"title\": \"1\"}, {\"id\": 2, \"label\": \"2\", \"title\": \"2\"}, {\"id\": 3, \"label\": \"3\", \"title\": \"3\"}, {\"id\": 4, \"label\": \"4\", \"title\": \"4\"}]);\n",
       "    const edges = new DataSet([{\"title\": \"0: (0, 1)\", \"label\": \"\", \"from\": 0, \"to\": 1}, {\"title\": \"1: (0, 2)\", \"label\": \"\", \"from\": 0, \"to\": 2}, {\"title\": \"2: (0, 3)\", \"label\": \"\", \"from\": 0, \"to\": 3}, {\"title\": \"3: (1, 2)\", \"label\": \"\", \"from\": 1, \"to\": 2}, {\"title\": \"4: (1, 3)\", \"label\": \"\", \"from\": 1, \"to\": 3}, {\"title\": \"5: (2, 3)\", \"label\": \"\", \"from\": 2, \"to\": 3}, {\"title\": \"6: (3, 4)\", \"label\": \"\", \"from\": 3, \"to\": 4}]);\n",
       "    const data = {\n",
       "            nodes: nodes,\n",
       "            edges: edges,\n",
       "    };\n",
       "    const options = {\"interaction\": {\"navigationButtons\": false}, \"width\": \"100%\", \"height\": \"200px\"};\n",
       "    const container = document.getElementById('1d429a98-30b7-4244-9a18-4e19f920e8d7');\n",
       "    const network = new Network(container, data, options);\n",
       "    network.fit({maxZoomLevel: 10});\n",
       "    network.redraw();\n",
       "}\n",
       "\n",
       "render();\n",
       "document.getElementById('fit-1d429a98-30b7-4244-9a18-4e19f920e8d7').addEventListener('click', function(event) {\n",
       "    event.preventDefault();  // Prevent page jump\n",
       "    render(); // Adjust zoom limit as needed\n",
       "});\n",
       "</script>\n"
      ],
      "text/plain": [
       "<IPython.core.display.HTML object>"
      ]
     },
     "metadata": {},
     "output_type": "display_data"
    }
   ],
   "source": [
    "sm.Lollipop(m=4).show_graph(vis_options={\"height\": 200})"
   ]
  },
  {
   "cell_type": "code",
   "execution_count": 27,
   "metadata": {
    "ExecuteTime": {
     "end_time": "2022-01-24T14:53:18.280823Z",
     "start_time": "2022-01-24T14:53:18.267704Z"
    },
    "execution": {
     "iopub.execute_input": "2025-09-27T08:33:26.566526Z",
     "iopub.status.busy": "2025-09-27T08:33:26.566526Z",
     "iopub.status.idle": "2025-09-27T08:33:26.572521Z",
     "shell.execute_reply": "2025-09-27T08:33:26.572521Z",
     "shell.execute_reply.started": "2025-09-27T08:33:26.566526Z"
    }
   },
   "outputs": [
    {
     "data": {
      "text/html": [
       "\n",
       "<div class=\"sm-graph\" id=\"box-c3bf2ca0-0915-4869-9492-a28470f164c0\">\n",
       "<div id=\"c3bf2ca0-0915-4869-9492-a28470f164c0\"></div>\n",
       "<a href=\"#\" id=\"fit-c3bf2ca0-0915-4869-9492-a28470f164c0\"\n",
       "  style=\"position: absolute; left: 10px; bottom: 10px; text-decoration: none; color: #888; font-size: min(2vw, 10px);\n",
       "  z-index: 10; pointer-events: auto;\"\n",
       "> Reload\n",
       "</a>\n",
       "<style>\n",
       "#box-c3bf2ca0-0915-4869-9492-a28470f164c0 {\n",
       "position: relative;\n",
       "width: 100%;\n",
       "height: 400px !important;\n",
       "max-width: 100vw;\n",
       "max-height: 100vh !important;\n",
       "}\n",
       "#c3bf2ca0-0915-4869-9492-a28470f164c0 {\n",
       "  height: 100%;   /* Make the inner div fill the parent */\n",
       "}\n",
       "</style>\n",
       "</div>\n",
       "<script type=\"module\">\n",
       "import { DataSet, Network } from \"https://unpkg.com/vis-network/standalone/esm/vis-network.min.js\";\n",
       "// CSS will be automatically injected into the page.\n",
       "function render () {\n",
       "    const nodes = new DataSet([{\"id\": 0, \"label\": \"0\", \"title\": \"0\"}, {\"id\": 1, \"label\": \"1\", \"title\": \"1\"}, {\"id\": 2, \"label\": \"2\", \"title\": \"2\"}, {\"id\": 3, \"label\": \"3\", \"title\": \"3\"}, {\"id\": 4, \"label\": \"4\", \"title\": \"4\"}, {\"id\": 5, \"label\": \"5\", \"title\": \"5\"}, {\"id\": 6, \"label\": \"6\", \"title\": \"6\"}, {\"id\": 7, \"label\": \"7\", \"title\": \"7\"}]);\n",
       "    const edges = new DataSet([{\"title\": \"0: (0, 1)\", \"label\": \"\", \"from\": 0, \"to\": 1}, {\"title\": \"1: (0, 2)\", \"label\": \"\", \"from\": 0, \"to\": 2}, {\"title\": \"2: (0, 3)\", \"label\": \"\", \"from\": 0, \"to\": 3}, {\"title\": \"3: (0, 4)\", \"label\": \"\", \"from\": 0, \"to\": 4}, {\"title\": \"4: (1, 2)\", \"label\": \"\", \"from\": 1, \"to\": 2}, {\"title\": \"5: (1, 3)\", \"label\": \"\", \"from\": 1, \"to\": 3}, {\"title\": \"6: (1, 4)\", \"label\": \"\", \"from\": 1, \"to\": 4}, {\"title\": \"7: (2, 3)\", \"label\": \"\", \"from\": 2, \"to\": 3}, {\"title\": \"8: (2, 4)\", \"label\": \"\", \"from\": 2, \"to\": 4}, {\"title\": \"9: (3, 4)\", \"label\": \"\", \"from\": 3, \"to\": 4}, {\"title\": \"10: (4, 5)\", \"label\": \"\", \"from\": 4, \"to\": 5}, {\"title\": \"11: (5, 6)\", \"label\": \"\", \"from\": 5, \"to\": 6}, {\"title\": \"12: (6, 7)\", \"label\": \"\", \"from\": 6, \"to\": 7}]);\n",
       "    const data = {\n",
       "            nodes: nodes,\n",
       "            edges: edges,\n",
       "    };\n",
       "    const options = {\"interaction\": {\"navigationButtons\": false}, \"width\": \"100%\", \"height\": \"400px\"};\n",
       "    const container = document.getElementById('c3bf2ca0-0915-4869-9492-a28470f164c0');\n",
       "    const network = new Network(container, data, options);\n",
       "    network.fit({maxZoomLevel: 10});\n",
       "    network.redraw();\n",
       "}\n",
       "\n",
       "render();\n",
       "document.getElementById('fit-c3bf2ca0-0915-4869-9492-a28470f164c0').addEventListener('click', function(event) {\n",
       "    event.preventDefault();  // Prevent page jump\n",
       "    render(); // Adjust zoom limit as needed\n",
       "});\n",
       "</script>\n"
      ],
      "text/plain": [
       "<IPython.core.display.HTML object>"
      ]
     },
     "metadata": {},
     "output_type": "display_data"
    }
   ],
   "source": [
    "sm.Lollipop(n=3, m=5).show_graph(vis_options={\"height\": 400})"
   ]
  },
  {
   "cell_type": "markdown",
   "metadata": {},
   "source": [
    "### Kayak paddle graphs"
   ]
  },
  {
   "cell_type": "markdown",
   "metadata": {},
   "source": [
    "Combines a cycle of length $k$, a path of length $l$, and a cycle of length $m$. Defaults to $k=3, l=1, m=k$."
   ]
  },
  {
   "cell_type": "code",
   "execution_count": 28,
   "metadata": {
    "ExecuteTime": {
     "end_time": "2022-01-24T14:53:18.311240Z",
     "start_time": "2022-01-24T14:53:18.288696Z"
    },
    "execution": {
     "iopub.execute_input": "2025-09-27T08:33:26.572521Z",
     "iopub.status.busy": "2025-09-27T08:33:26.572521Z",
     "iopub.status.idle": "2025-09-27T08:33:26.577633Z",
     "shell.execute_reply": "2025-09-27T08:33:26.577633Z",
     "shell.execute_reply.started": "2025-09-27T08:33:26.572521Z"
    }
   },
   "outputs": [
    {
     "data": {
      "text/html": [
       "\n",
       "<div class=\"sm-graph\" id=\"box-89d3efee-5348-4b54-939c-d297aedb064f\">\n",
       "<div id=\"89d3efee-5348-4b54-939c-d297aedb064f\"></div>\n",
       "<a href=\"#\" id=\"fit-89d3efee-5348-4b54-939c-d297aedb064f\"\n",
       "  style=\"position: absolute; left: 10px; bottom: 10px; text-decoration: none; color: #888; font-size: min(2vw, 10px);\n",
       "  z-index: 10; pointer-events: auto;\"\n",
       "> Reload\n",
       "</a>\n",
       "<style>\n",
       "#box-89d3efee-5348-4b54-939c-d297aedb064f {\n",
       "position: relative;\n",
       "width: 100%;\n",
       "height: 200px !important;\n",
       "max-width: 100vw;\n",
       "max-height: 100vh !important;\n",
       "}\n",
       "#89d3efee-5348-4b54-939c-d297aedb064f {\n",
       "  height: 100%;   /* Make the inner div fill the parent */\n",
       "}\n",
       "</style>\n",
       "</div>\n",
       "<script type=\"module\">\n",
       "import { DataSet, Network } from \"https://unpkg.com/vis-network/standalone/esm/vis-network.min.js\";\n",
       "// CSS will be automatically injected into the page.\n",
       "function render () {\n",
       "    const nodes = new DataSet([{\"id\": 0, \"label\": \"0\", \"title\": \"0\"}, {\"id\": 1, \"label\": \"1\", \"title\": \"1\"}, {\"id\": 2, \"label\": \"2\", \"title\": \"2\"}, {\"id\": 3, \"label\": \"3\", \"title\": \"3\"}, {\"id\": 4, \"label\": \"4\", \"title\": \"4\"}, {\"id\": 5, \"label\": \"5\", \"title\": \"5\"}]);\n",
       "    const edges = new DataSet([{\"title\": \"0: (0, 1)\", \"label\": \"\", \"from\": 0, \"to\": 1}, {\"title\": \"1: (0, 2)\", \"label\": \"\", \"from\": 0, \"to\": 2}, {\"title\": \"2: (1, 2)\", \"label\": \"\", \"from\": 1, \"to\": 2}, {\"title\": \"3: (2, 3)\", \"label\": \"\", \"from\": 2, \"to\": 3}, {\"title\": \"4: (3, 4)\", \"label\": \"\", \"from\": 3, \"to\": 4}, {\"title\": \"5: (3, 5)\", \"label\": \"\", \"from\": 3, \"to\": 5}, {\"title\": \"6: (4, 5)\", \"label\": \"\", \"from\": 4, \"to\": 5}]);\n",
       "    const data = {\n",
       "            nodes: nodes,\n",
       "            edges: edges,\n",
       "    };\n",
       "    const options = {\"interaction\": {\"navigationButtons\": false}, \"width\": \"100%\", \"height\": \"200px\"};\n",
       "    const container = document.getElementById('89d3efee-5348-4b54-939c-d297aedb064f');\n",
       "    const network = new Network(container, data, options);\n",
       "    network.fit({maxZoomLevel: 10});\n",
       "    network.redraw();\n",
       "}\n",
       "\n",
       "render();\n",
       "document.getElementById('fit-89d3efee-5348-4b54-939c-d297aedb064f').addEventListener('click', function(event) {\n",
       "    event.preventDefault();  // Prevent page jump\n",
       "    render(); // Adjust zoom limit as needed\n",
       "});\n",
       "</script>\n"
      ],
      "text/plain": [
       "<IPython.core.display.HTML object>"
      ]
     },
     "metadata": {},
     "output_type": "display_data"
    }
   ],
   "source": [
    "sm.KayakPaddle().show_graph(vis_options={\"height\": 200})"
   ]
  },
  {
   "cell_type": "code",
   "execution_count": 29,
   "metadata": {
    "ExecuteTime": {
     "end_time": "2022-01-24T14:53:18.327127Z",
     "start_time": "2022-01-24T14:53:18.314131Z"
    },
    "execution": {
     "iopub.execute_input": "2025-09-27T08:33:26.578639Z",
     "iopub.status.busy": "2025-09-27T08:33:26.578639Z",
     "iopub.status.idle": "2025-09-27T08:33:26.583583Z",
     "shell.execute_reply": "2025-09-27T08:33:26.583583Z",
     "shell.execute_reply.started": "2025-09-27T08:33:26.578639Z"
    }
   },
   "outputs": [
    {
     "data": {
      "text/html": [
       "\n",
       "<div class=\"sm-graph\" id=\"box-58b7a2a3-e7bf-4e41-8804-461e19b82132\">\n",
       "<div id=\"58b7a2a3-e7bf-4e41-8804-461e19b82132\"></div>\n",
       "<a href=\"#\" id=\"fit-58b7a2a3-e7bf-4e41-8804-461e19b82132\"\n",
       "  style=\"position: absolute; left: 10px; bottom: 10px; text-decoration: none; color: #888; font-size: min(2vw, 10px);\n",
       "  z-index: 10; pointer-events: auto;\"\n",
       "> Reload\n",
       "</a>\n",
       "<style>\n",
       "#box-58b7a2a3-e7bf-4e41-8804-461e19b82132 {\n",
       "position: relative;\n",
       "width: 100%;\n",
       "height: 300px !important;\n",
       "max-width: 100vw;\n",
       "max-height: 100vh !important;\n",
       "}\n",
       "#58b7a2a3-e7bf-4e41-8804-461e19b82132 {\n",
       "  height: 100%;   /* Make the inner div fill the parent */\n",
       "}\n",
       "</style>\n",
       "</div>\n",
       "<script type=\"module\">\n",
       "import { DataSet, Network } from \"https://unpkg.com/vis-network/standalone/esm/vis-network.min.js\";\n",
       "// CSS will be automatically injected into the page.\n",
       "function render () {\n",
       "    const nodes = new DataSet([{\"id\": 0, \"label\": \"0\", \"title\": \"0\"}, {\"id\": 1, \"label\": \"1\", \"title\": \"1\"}, {\"id\": 2, \"label\": \"2\", \"title\": \"2\"}, {\"id\": 3, \"label\": \"3\", \"title\": \"3\"}, {\"id\": 4, \"label\": \"4\", \"title\": \"4\"}, {\"id\": 5, \"label\": \"5\", \"title\": \"5\"}, {\"id\": 6, \"label\": \"6\", \"title\": \"6\"}, {\"id\": 7, \"label\": \"7\", \"title\": \"7\"}, {\"id\": 8, \"label\": \"8\", \"title\": \"8\"}, {\"id\": 9, \"label\": \"9\", \"title\": \"9\"}, {\"id\": 10, \"label\": \"10\", \"title\": \"10\"}]);\n",
       "    const edges = new DataSet([{\"title\": \"0: (0, 1)\", \"label\": \"\", \"from\": 0, \"to\": 1}, {\"title\": \"1: (0, 4)\", \"label\": \"\", \"from\": 0, \"to\": 4}, {\"title\": \"2: (1, 2)\", \"label\": \"\", \"from\": 1, \"to\": 2}, {\"title\": \"3: (2, 3)\", \"label\": \"\", \"from\": 2, \"to\": 3}, {\"title\": \"4: (3, 4)\", \"label\": \"\", \"from\": 3, \"to\": 4}, {\"title\": \"5: (4, 5)\", \"label\": \"\", \"from\": 4, \"to\": 5}, {\"title\": \"6: (5, 6)\", \"label\": \"\", \"from\": 5, \"to\": 6}, {\"title\": \"7: (6, 7)\", \"label\": \"\", \"from\": 6, \"to\": 7}, {\"title\": \"8: (6, 10)\", \"label\": \"\", \"from\": 6, \"to\": 10}, {\"title\": \"9: (7, 8)\", \"label\": \"\", \"from\": 7, \"to\": 8}, {\"title\": \"10: (8, 9)\", \"label\": \"\", \"from\": 8, \"to\": 9}, {\"title\": \"11: (9, 10)\", \"label\": \"\", \"from\": 9, \"to\": 10}]);\n",
       "    const data = {\n",
       "            nodes: nodes,\n",
       "            edges: edges,\n",
       "    };\n",
       "    const options = {\"interaction\": {\"navigationButtons\": false}, \"width\": \"100%\", \"height\": \"300px\"};\n",
       "    const container = document.getElementById('58b7a2a3-e7bf-4e41-8804-461e19b82132');\n",
       "    const network = new Network(container, data, options);\n",
       "    network.fit({maxZoomLevel: 10});\n",
       "    network.redraw();\n",
       "}\n",
       "\n",
       "render();\n",
       "document.getElementById('fit-58b7a2a3-e7bf-4e41-8804-461e19b82132').addEventListener('click', function(event) {\n",
       "    event.preventDefault();  // Prevent page jump\n",
       "    render(); // Adjust zoom limit as needed\n",
       "});\n",
       "</script>\n"
      ],
      "text/plain": [
       "<IPython.core.display.HTML object>"
      ]
     },
     "metadata": {},
     "output_type": "display_data"
    }
   ],
   "source": [
    "sm.KayakPaddle(5, 2).show_graph(vis_options={\"height\": 300})"
   ]
  },
  {
   "cell_type": "code",
   "execution_count": 30,
   "metadata": {
    "ExecuteTime": {
     "end_time": "2022-01-24T14:53:18.358179Z",
     "start_time": "2022-01-24T14:53:18.331087Z"
    },
    "execution": {
     "iopub.execute_input": "2025-09-27T08:33:26.583583Z",
     "iopub.status.busy": "2025-09-27T08:33:26.583583Z",
     "iopub.status.idle": "2025-09-27T08:33:26.590500Z",
     "shell.execute_reply": "2025-09-27T08:33:26.590500Z",
     "shell.execute_reply.started": "2025-09-27T08:33:26.583583Z"
    }
   },
   "outputs": [
    {
     "data": {
      "text/html": [
       "\n",
       "<div class=\"sm-graph\" id=\"box-637ab6f8-5b77-49f4-8a7c-a4f991f3c830\">\n",
       "<div id=\"637ab6f8-5b77-49f4-8a7c-a4f991f3c830\"></div>\n",
       "<a href=\"#\" id=\"fit-637ab6f8-5b77-49f4-8a7c-a4f991f3c830\"\n",
       "  style=\"position: absolute; left: 10px; bottom: 10px; text-decoration: none; color: #888; font-size: min(2vw, 10px);\n",
       "  z-index: 10; pointer-events: auto;\"\n",
       "> Reload\n",
       "</a>\n",
       "<style>\n",
       "#box-637ab6f8-5b77-49f4-8a7c-a4f991f3c830 {\n",
       "position: relative;\n",
       "width: 100%;\n",
       "height: 300px !important;\n",
       "max-width: 100vw;\n",
       "max-height: 100vh !important;\n",
       "}\n",
       "#637ab6f8-5b77-49f4-8a7c-a4f991f3c830 {\n",
       "  height: 100%;   /* Make the inner div fill the parent */\n",
       "}\n",
       "</style>\n",
       "</div>\n",
       "<script type=\"module\">\n",
       "import { DataSet, Network } from \"https://unpkg.com/vis-network/standalone/esm/vis-network.min.js\";\n",
       "// CSS will be automatically injected into the page.\n",
       "function render () {\n",
       "    const nodes = new DataSet([{\"id\": 0, \"label\": \"0\", \"title\": \"0\"}, {\"id\": 1, \"label\": \"1\", \"title\": \"1\"}, {\"id\": 2, \"label\": \"2\", \"title\": \"2\"}, {\"id\": 3, \"label\": \"3\", \"title\": \"3\"}, {\"id\": 4, \"label\": \"4\", \"title\": \"4\"}, {\"id\": 5, \"label\": \"5\", \"title\": \"5\"}]);\n",
       "    const edges = new DataSet([{\"title\": \"0: (0, 1)\", \"label\": \"\", \"from\": 0, \"to\": 1}, {\"title\": \"1: (0, 2)\", \"label\": \"\", \"from\": 0, \"to\": 2}, {\"title\": \"2: (1, 2)\", \"label\": \"\", \"from\": 1, \"to\": 2}, {\"title\": \"3: (2, 3)\", \"label\": \"\", \"from\": 2, \"to\": 3}, {\"title\": \"4: (2, 5)\", \"label\": \"\", \"from\": 2, \"to\": 5}, {\"title\": \"5: (3, 4)\", \"label\": \"\", \"from\": 3, \"to\": 4}, {\"title\": \"6: (4, 5)\", \"label\": \"\", \"from\": 4, \"to\": 5}]);\n",
       "    const data = {\n",
       "            nodes: nodes,\n",
       "            edges: edges,\n",
       "    };\n",
       "    const options = {\"interaction\": {\"navigationButtons\": false}, \"width\": \"100%\", \"height\": \"300px\"};\n",
       "    const container = document.getElementById('637ab6f8-5b77-49f4-8a7c-a4f991f3c830');\n",
       "    const network = new Network(container, data, options);\n",
       "    network.fit({maxZoomLevel: 10});\n",
       "    network.redraw();\n",
       "}\n",
       "\n",
       "render();\n",
       "document.getElementById('fit-637ab6f8-5b77-49f4-8a7c-a4f991f3c830').addEventListener('click', function(event) {\n",
       "    event.preventDefault();  // Prevent page jump\n",
       "    render(); // Adjust zoom limit as needed\n",
       "});\n",
       "</script>\n"
      ],
      "text/plain": [
       "<IPython.core.display.HTML object>"
      ]
     },
     "metadata": {},
     "output_type": "display_data"
    }
   ],
   "source": [
    "## Fish graph\n",
    "sm.KayakPaddle(l=0, m=4).show_graph(vis_options={\"height\": 300})"
   ]
  },
  {
   "cell_type": "markdown",
   "metadata": {},
   "source": [
    "### Barbell graph"
   ]
  },
  {
   "cell_type": "markdown",
   "metadata": {},
   "source": [
    "Combines a complete graph of size $k$, a path of length $l$, and a complete graph of size $m$. Defaults to $k=3, l=1, m=k$."
   ]
  },
  {
   "cell_type": "code",
   "execution_count": 31,
   "metadata": {
    "ExecuteTime": {
     "end_time": "2022-01-24T14:53:18.374493Z",
     "start_time": "2022-01-24T14:53:18.361177Z"
    },
    "execution": {
     "iopub.execute_input": "2025-09-27T08:33:26.590500Z",
     "iopub.status.busy": "2025-09-27T08:33:26.590500Z",
     "iopub.status.idle": "2025-09-27T08:33:26.596812Z",
     "shell.execute_reply": "2025-09-27T08:33:26.596812Z",
     "shell.execute_reply.started": "2025-09-27T08:33:26.590500Z"
    }
   },
   "outputs": [
    {
     "data": {
      "text/html": [
       "\n",
       "<div class=\"sm-graph\" id=\"box-d9d7fb43-4ff7-4cec-b6e1-c286d6131dbc\">\n",
       "<div id=\"d9d7fb43-4ff7-4cec-b6e1-c286d6131dbc\"></div>\n",
       "<a href=\"#\" id=\"fit-d9d7fb43-4ff7-4cec-b6e1-c286d6131dbc\"\n",
       "  style=\"position: absolute; left: 10px; bottom: 10px; text-decoration: none; color: #888; font-size: min(2vw, 10px);\n",
       "  z-index: 10; pointer-events: auto;\"\n",
       "> Reload\n",
       "</a>\n",
       "<style>\n",
       "#box-d9d7fb43-4ff7-4cec-b6e1-c286d6131dbc {\n",
       "position: relative;\n",
       "width: 100%;\n",
       "height: 200px !important;\n",
       "max-width: 100vw;\n",
       "max-height: 100vh !important;\n",
       "}\n",
       "#d9d7fb43-4ff7-4cec-b6e1-c286d6131dbc {\n",
       "  height: 100%;   /* Make the inner div fill the parent */\n",
       "}\n",
       "</style>\n",
       "</div>\n",
       "<script type=\"module\">\n",
       "import { DataSet, Network } from \"https://unpkg.com/vis-network/standalone/esm/vis-network.min.js\";\n",
       "// CSS will be automatically injected into the page.\n",
       "function render () {\n",
       "    const nodes = new DataSet([{\"id\": 0, \"label\": \"0\", \"title\": \"0\"}, {\"id\": 1, \"label\": \"1\", \"title\": \"1\"}, {\"id\": 2, \"label\": \"2\", \"title\": \"2\"}, {\"id\": 3, \"label\": \"3\", \"title\": \"3\"}, {\"id\": 4, \"label\": \"4\", \"title\": \"4\"}, {\"id\": 5, \"label\": \"5\", \"title\": \"5\"}]);\n",
       "    const edges = new DataSet([{\"title\": \"0: (0, 1)\", \"label\": \"\", \"from\": 0, \"to\": 1}, {\"title\": \"1: (0, 2)\", \"label\": \"\", \"from\": 0, \"to\": 2}, {\"title\": \"2: (1, 2)\", \"label\": \"\", \"from\": 1, \"to\": 2}, {\"title\": \"3: (2, 3)\", \"label\": \"\", \"from\": 2, \"to\": 3}, {\"title\": \"4: (3, 4)\", \"label\": \"\", \"from\": 3, \"to\": 4}, {\"title\": \"5: (3, 5)\", \"label\": \"\", \"from\": 3, \"to\": 5}, {\"title\": \"6: (4, 5)\", \"label\": \"\", \"from\": 4, \"to\": 5}]);\n",
       "    const data = {\n",
       "            nodes: nodes,\n",
       "            edges: edges,\n",
       "    };\n",
       "    const options = {\"interaction\": {\"navigationButtons\": false}, \"width\": \"100%\", \"height\": \"200px\"};\n",
       "    const container = document.getElementById('d9d7fb43-4ff7-4cec-b6e1-c286d6131dbc');\n",
       "    const network = new Network(container, data, options);\n",
       "    network.fit({maxZoomLevel: 10});\n",
       "    network.redraw();\n",
       "}\n",
       "\n",
       "render();\n",
       "document.getElementById('fit-d9d7fb43-4ff7-4cec-b6e1-c286d6131dbc').addEventListener('click', function(event) {\n",
       "    event.preventDefault();  // Prevent page jump\n",
       "    render(); // Adjust zoom limit as needed\n",
       "});\n",
       "</script>\n"
      ],
      "text/plain": [
       "<IPython.core.display.HTML object>"
      ]
     },
     "metadata": {},
     "output_type": "display_data"
    }
   ],
   "source": [
    "sm.Barbell().show_graph(vis_options={\"height\": 200})"
   ]
  },
  {
   "cell_type": "code",
   "execution_count": 32,
   "metadata": {
    "ExecuteTime": {
     "end_time": "2022-01-24T14:53:18.405113Z",
     "start_time": "2022-01-24T14:53:18.377624Z"
    },
    "execution": {
     "iopub.execute_input": "2025-09-27T08:33:26.597820Z",
     "iopub.status.busy": "2025-09-27T08:33:26.597820Z",
     "iopub.status.idle": "2025-09-27T08:33:26.603717Z",
     "shell.execute_reply": "2025-09-27T08:33:26.603717Z",
     "shell.execute_reply.started": "2025-09-27T08:33:26.597820Z"
    }
   },
   "outputs": [
    {
     "data": {
      "text/html": [
       "\n",
       "<div class=\"sm-graph\" id=\"box-8545c20a-f65b-4255-b57c-e19e4cd60c25\">\n",
       "<div id=\"8545c20a-f65b-4255-b57c-e19e4cd60c25\"></div>\n",
       "<a href=\"#\" id=\"fit-8545c20a-f65b-4255-b57c-e19e4cd60c25\"\n",
       "  style=\"position: absolute; left: 10px; bottom: 10px; text-decoration: none; color: #888; font-size: min(2vw, 10px);\n",
       "  z-index: 10; pointer-events: auto;\"\n",
       "> Reload\n",
       "</a>\n",
       "<style>\n",
       "#box-8545c20a-f65b-4255-b57c-e19e4cd60c25 {\n",
       "position: relative;\n",
       "width: 100%;\n",
       "height: 300px !important;\n",
       "max-width: 100vw;\n",
       "max-height: 100vh !important;\n",
       "}\n",
       "#8545c20a-f65b-4255-b57c-e19e4cd60c25 {\n",
       "  height: 100%;   /* Make the inner div fill the parent */\n",
       "}\n",
       "</style>\n",
       "</div>\n",
       "<script type=\"module\">\n",
       "import { DataSet, Network } from \"https://unpkg.com/vis-network/standalone/esm/vis-network.min.js\";\n",
       "// CSS will be automatically injected into the page.\n",
       "function render () {\n",
       "    const nodes = new DataSet([{\"id\": 0, \"label\": \"0\", \"title\": \"0\"}, {\"id\": 1, \"label\": \"1\", \"title\": \"1\"}, {\"id\": 2, \"label\": \"2\", \"title\": \"2\"}, {\"id\": 3, \"label\": \"3\", \"title\": \"3\"}, {\"id\": 4, \"label\": \"4\", \"title\": \"4\"}, {\"id\": 5, \"label\": \"5\", \"title\": \"5\"}, {\"id\": 6, \"label\": \"6\", \"title\": \"6\"}, {\"id\": 7, \"label\": \"7\", \"title\": \"7\"}, {\"id\": 8, \"label\": \"8\", \"title\": \"8\"}, {\"id\": 9, \"label\": \"9\", \"title\": \"9\"}, {\"id\": 10, \"label\": \"10\", \"title\": \"10\"}]);\n",
       "    const edges = new DataSet([{\"title\": \"0: (0, 1)\", \"label\": \"\", \"from\": 0, \"to\": 1}, {\"title\": \"1: (0, 2)\", \"label\": \"\", \"from\": 0, \"to\": 2}, {\"title\": \"2: (0, 3)\", \"label\": \"\", \"from\": 0, \"to\": 3}, {\"title\": \"3: (0, 4)\", \"label\": \"\", \"from\": 0, \"to\": 4}, {\"title\": \"4: (1, 2)\", \"label\": \"\", \"from\": 1, \"to\": 2}, {\"title\": \"5: (1, 3)\", \"label\": \"\", \"from\": 1, \"to\": 3}, {\"title\": \"6: (1, 4)\", \"label\": \"\", \"from\": 1, \"to\": 4}, {\"title\": \"7: (2, 3)\", \"label\": \"\", \"from\": 2, \"to\": 3}, {\"title\": \"8: (2, 4)\", \"label\": \"\", \"from\": 2, \"to\": 4}, {\"title\": \"9: (3, 4)\", \"label\": \"\", \"from\": 3, \"to\": 4}, {\"title\": \"10: (4, 5)\", \"label\": \"\", \"from\": 4, \"to\": 5}, {\"title\": \"11: (5, 6)\", \"label\": \"\", \"from\": 5, \"to\": 6}, {\"title\": \"12: (6, 7)\", \"label\": \"\", \"from\": 6, \"to\": 7}, {\"title\": \"13: (6, 8)\", \"label\": \"\", \"from\": 6, \"to\": 8}, {\"title\": \"14: (6, 9)\", \"label\": \"\", \"from\": 6, \"to\": 9}, {\"title\": \"15: (6, 10)\", \"label\": \"\", \"from\": 6, \"to\": 10}, {\"title\": \"16: (7, 8)\", \"label\": \"\", \"from\": 7, \"to\": 8}, {\"title\": \"17: (7, 9)\", \"label\": \"\", \"from\": 7, \"to\": 9}, {\"title\": \"18: (7, 10)\", \"label\": \"\", \"from\": 7, \"to\": 10}, {\"title\": \"19: (8, 9)\", \"label\": \"\", \"from\": 8, \"to\": 9}, {\"title\": \"20: (8, 10)\", \"label\": \"\", \"from\": 8, \"to\": 10}, {\"title\": \"21: (9, 10)\", \"label\": \"\", \"from\": 9, \"to\": 10}]);\n",
       "    const data = {\n",
       "            nodes: nodes,\n",
       "            edges: edges,\n",
       "    };\n",
       "    const options = {\"interaction\": {\"navigationButtons\": false}, \"width\": \"100%\", \"height\": \"300px\"};\n",
       "    const container = document.getElementById('8545c20a-f65b-4255-b57c-e19e4cd60c25');\n",
       "    const network = new Network(container, data, options);\n",
       "    network.fit({maxZoomLevel: 10});\n",
       "    network.redraw();\n",
       "}\n",
       "\n",
       "render();\n",
       "document.getElementById('fit-8545c20a-f65b-4255-b57c-e19e4cd60c25').addEventListener('click', function(event) {\n",
       "    event.preventDefault();  // Prevent page jump\n",
       "    render(); // Adjust zoom limit as needed\n",
       "});\n",
       "</script>\n"
      ],
      "text/plain": [
       "<IPython.core.display.HTML object>"
      ]
     },
     "metadata": {},
     "output_type": "display_data"
    }
   ],
   "source": [
    "sm.Barbell(5, 2).show_graph(vis_options={\"height\": 300})"
   ]
  },
  {
   "cell_type": "code",
   "execution_count": 33,
   "metadata": {
    "ExecuteTime": {
     "end_time": "2022-01-24T14:53:18.421096Z",
     "start_time": "2022-01-24T14:53:18.407865Z"
    },
    "execution": {
     "iopub.execute_input": "2025-09-27T08:33:26.605021Z",
     "iopub.status.busy": "2025-09-27T08:33:26.603717Z",
     "iopub.status.idle": "2025-09-27T08:33:26.608686Z",
     "shell.execute_reply": "2025-09-27T08:33:26.608686Z",
     "shell.execute_reply.started": "2025-09-27T08:33:26.605021Z"
    }
   },
   "outputs": [
    {
     "data": {
      "text/html": [
       "\n",
       "<div class=\"sm-graph\" id=\"box-7c0bc86d-762a-474c-9120-bb28e9683f96\">\n",
       "<div id=\"7c0bc86d-762a-474c-9120-bb28e9683f96\"></div>\n",
       "<a href=\"#\" id=\"fit-7c0bc86d-762a-474c-9120-bb28e9683f96\"\n",
       "  style=\"position: absolute; left: 10px; bottom: 10px; text-decoration: none; color: #888; font-size: min(2vw, 10px);\n",
       "  z-index: 10; pointer-events: auto;\"\n",
       "> Reload\n",
       "</a>\n",
       "<style>\n",
       "#box-7c0bc86d-762a-474c-9120-bb28e9683f96 {\n",
       "position: relative;\n",
       "width: 100%;\n",
       "height: 300px !important;\n",
       "max-width: 100vw;\n",
       "max-height: 100vh !important;\n",
       "}\n",
       "#7c0bc86d-762a-474c-9120-bb28e9683f96 {\n",
       "  height: 100%;   /* Make the inner div fill the parent */\n",
       "}\n",
       "</style>\n",
       "</div>\n",
       "<script type=\"module\">\n",
       "import { DataSet, Network } from \"https://unpkg.com/vis-network/standalone/esm/vis-network.min.js\";\n",
       "// CSS will be automatically injected into the page.\n",
       "function render () {\n",
       "    const nodes = new DataSet([{\"id\": 0, \"label\": \"0\", \"title\": \"0\"}, {\"id\": 1, \"label\": \"1\", \"title\": \"1\"}, {\"id\": 2, \"label\": \"2\", \"title\": \"2\"}, {\"id\": 3, \"label\": \"3\", \"title\": \"3\"}, {\"id\": 4, \"label\": \"4\", \"title\": \"4\"}, {\"id\": 5, \"label\": \"5\", \"title\": \"5\"}]);\n",
       "    const edges = new DataSet([{\"title\": \"0: (0, 1)\", \"label\": \"\", \"from\": 0, \"to\": 1}, {\"title\": \"1: (0, 2)\", \"label\": \"\", \"from\": 0, \"to\": 2}, {\"title\": \"2: (1, 2)\", \"label\": \"\", \"from\": 1, \"to\": 2}, {\"title\": \"3: (2, 3)\", \"label\": \"\", \"from\": 2, \"to\": 3}, {\"title\": \"4: (2, 4)\", \"label\": \"\", \"from\": 2, \"to\": 4}, {\"title\": \"5: (2, 5)\", \"label\": \"\", \"from\": 2, \"to\": 5}, {\"title\": \"6: (3, 4)\", \"label\": \"\", \"from\": 3, \"to\": 4}, {\"title\": \"7: (3, 5)\", \"label\": \"\", \"from\": 3, \"to\": 5}, {\"title\": \"8: (4, 5)\", \"label\": \"\", \"from\": 4, \"to\": 5}]);\n",
       "    const data = {\n",
       "            nodes: nodes,\n",
       "            edges: edges,\n",
       "    };\n",
       "    const options = {\"interaction\": {\"navigationButtons\": false}, \"width\": \"100%\", \"height\": \"300px\"};\n",
       "    const container = document.getElementById('7c0bc86d-762a-474c-9120-bb28e9683f96');\n",
       "    const network = new Network(container, data, options);\n",
       "    network.fit({maxZoomLevel: 10});\n",
       "    network.redraw();\n",
       "}\n",
       "\n",
       "render();\n",
       "document.getElementById('fit-7c0bc86d-762a-474c-9120-bb28e9683f96').addEventListener('click', function(event) {\n",
       "    event.preventDefault();  // Prevent page jump\n",
       "    render(); // Adjust zoom limit as needed\n",
       "});\n",
       "</script>\n"
      ],
      "text/plain": [
       "<IPython.core.display.HTML object>"
      ]
     },
     "metadata": {},
     "output_type": "display_data"
    }
   ],
   "source": [
    "sm.Barbell(l=0, m=4).show_graph(vis_options={\"height\": 300})"
   ]
  },
  {
   "cell_type": "markdown",
   "metadata": {},
   "source": [
    "### Chained cycle graphs"
   ]
  },
  {
   "cell_type": "markdown",
   "metadata": {},
   "source": [
    "Concatenates cycles of size $n$, $c$ of them. Each cycle has $o$ nodes that overlap with the next one. Defaults to $n=3, c=2, o=2$."
   ]
  },
  {
   "cell_type": "code",
   "execution_count": 34,
   "metadata": {
    "ExecuteTime": {
     "end_time": "2022-01-24T14:53:18.436473Z",
     "start_time": "2022-01-24T14:53:18.424317Z"
    },
    "execution": {
     "iopub.execute_input": "2025-09-27T08:33:26.608686Z",
     "iopub.status.busy": "2025-09-27T08:33:26.608686Z",
     "iopub.status.idle": "2025-09-27T08:33:26.613941Z",
     "shell.execute_reply": "2025-09-27T08:33:26.613941Z",
     "shell.execute_reply.started": "2025-09-27T08:33:26.608686Z"
    }
   },
   "outputs": [
    {
     "data": {
      "text/html": [
       "\n",
       "<div class=\"sm-graph\" id=\"box-0d824cfc-301b-4436-9bd7-96c043b2cd22\">\n",
       "<div id=\"0d824cfc-301b-4436-9bd7-96c043b2cd22\"></div>\n",
       "<a href=\"#\" id=\"fit-0d824cfc-301b-4436-9bd7-96c043b2cd22\"\n",
       "  style=\"position: absolute; left: 10px; bottom: 10px; text-decoration: none; color: #888; font-size: min(2vw, 10px);\n",
       "  z-index: 10; pointer-events: auto;\"\n",
       "> Reload\n",
       "</a>\n",
       "<style>\n",
       "#box-0d824cfc-301b-4436-9bd7-96c043b2cd22 {\n",
       "position: relative;\n",
       "width: 100%;\n",
       "height: 200px !important;\n",
       "max-width: 100vw;\n",
       "max-height: 100vh !important;\n",
       "}\n",
       "#0d824cfc-301b-4436-9bd7-96c043b2cd22 {\n",
       "  height: 100%;   /* Make the inner div fill the parent */\n",
       "}\n",
       "</style>\n",
       "</div>\n",
       "<script type=\"module\">\n",
       "import { DataSet, Network } from \"https://unpkg.com/vis-network/standalone/esm/vis-network.min.js\";\n",
       "// CSS will be automatically injected into the page.\n",
       "function render () {\n",
       "    const nodes = new DataSet([{\"id\": 0, \"label\": \"0\", \"title\": \"0\"}, {\"id\": 1, \"label\": \"1\", \"title\": \"1\"}, {\"id\": 2, \"label\": \"2\", \"title\": \"2\"}, {\"id\": 3, \"label\": \"3\", \"title\": \"3\"}]);\n",
       "    const edges = new DataSet([{\"title\": \"0: (0, 1)\", \"label\": \"\", \"from\": 0, \"to\": 1}, {\"title\": \"1: (0, 2)\", \"label\": \"\", \"from\": 0, \"to\": 2}, {\"title\": \"2: (1, 2)\", \"label\": \"\", \"from\": 1, \"to\": 2}, {\"title\": \"3: (1, 3)\", \"label\": \"\", \"from\": 1, \"to\": 3}, {\"title\": \"4: (2, 3)\", \"label\": \"\", \"from\": 2, \"to\": 3}]);\n",
       "    const data = {\n",
       "            nodes: nodes,\n",
       "            edges: edges,\n",
       "    };\n",
       "    const options = {\"interaction\": {\"navigationButtons\": false}, \"width\": \"100%\", \"height\": \"200px\"};\n",
       "    const container = document.getElementById('0d824cfc-301b-4436-9bd7-96c043b2cd22');\n",
       "    const network = new Network(container, data, options);\n",
       "    network.fit({maxZoomLevel: 10});\n",
       "    network.redraw();\n",
       "}\n",
       "\n",
       "render();\n",
       "document.getElementById('fit-0d824cfc-301b-4436-9bd7-96c043b2cd22').addEventListener('click', function(event) {\n",
       "    event.preventDefault();  // Prevent page jump\n",
       "    render(); // Adjust zoom limit as needed\n",
       "});\n",
       "</script>\n"
      ],
      "text/plain": [
       "<IPython.core.display.HTML object>"
      ]
     },
     "metadata": {},
     "output_type": "display_data"
    }
   ],
   "source": [
    "# Diamond\n",
    "sm.CycleChain().show_graph(vis_options={\"height\": 200})"
   ]
  },
  {
   "cell_type": "code",
   "execution_count": 35,
   "metadata": {
    "ExecuteTime": {
     "end_time": "2022-01-24T14:53:18.451569Z",
     "start_time": "2022-01-24T14:53:18.438495Z"
    },
    "execution": {
     "iopub.execute_input": "2025-09-27T08:33:26.615428Z",
     "iopub.status.busy": "2025-09-27T08:33:26.613941Z",
     "iopub.status.idle": "2025-09-27T08:33:26.618676Z",
     "shell.execute_reply": "2025-09-27T08:33:26.618676Z",
     "shell.execute_reply.started": "2025-09-27T08:33:26.615428Z"
    }
   },
   "outputs": [
    {
     "data": {
      "text/html": [
       "\n",
       "<div class=\"sm-graph\" id=\"box-bfeaf7de-93b2-4308-8865-e202792891b2\">\n",
       "<div id=\"bfeaf7de-93b2-4308-8865-e202792891b2\"></div>\n",
       "<a href=\"#\" id=\"fit-bfeaf7de-93b2-4308-8865-e202792891b2\"\n",
       "  style=\"position: absolute; left: 10px; bottom: 10px; text-decoration: none; color: #888; font-size: min(2vw, 10px);\n",
       "  z-index: 10; pointer-events: auto;\"\n",
       "> Reload\n",
       "</a>\n",
       "<style>\n",
       "#box-bfeaf7de-93b2-4308-8865-e202792891b2 {\n",
       "position: relative;\n",
       "width: 100%;\n",
       "height: 300px !important;\n",
       "max-width: 100vw;\n",
       "max-height: 100vh !important;\n",
       "}\n",
       "#bfeaf7de-93b2-4308-8865-e202792891b2 {\n",
       "  height: 100%;   /* Make the inner div fill the parent */\n",
       "}\n",
       "</style>\n",
       "</div>\n",
       "<script type=\"module\">\n",
       "import { DataSet, Network } from \"https://unpkg.com/vis-network/standalone/esm/vis-network.min.js\";\n",
       "// CSS will be automatically injected into the page.\n",
       "function render () {\n",
       "    const nodes = new DataSet([{\"id\": 0, \"label\": \"0\", \"title\": \"0\"}, {\"id\": 1, \"label\": \"1\", \"title\": \"1\"}, {\"id\": 2, \"label\": \"2\", \"title\": \"2\"}, {\"id\": 3, \"label\": \"3\", \"title\": \"3\"}, {\"id\": 4, \"label\": \"4\", \"title\": \"4\"}]);\n",
       "    const edges = new DataSet([{\"title\": \"0: (0, 1)\", \"label\": \"\", \"from\": 0, \"to\": 1}, {\"title\": \"1: (0, 2)\", \"label\": \"\", \"from\": 0, \"to\": 2}, {\"title\": \"2: (1, 2)\", \"label\": \"\", \"from\": 1, \"to\": 2}, {\"title\": \"3: (1, 3)\", \"label\": \"\", \"from\": 1, \"to\": 3}, {\"title\": \"4: (2, 3)\", \"label\": \"\", \"from\": 2, \"to\": 3}, {\"title\": \"5: (2, 4)\", \"label\": \"\", \"from\": 2, \"to\": 4}, {\"title\": \"6: (3, 4)\", \"label\": \"\", \"from\": 3, \"to\": 4}]);\n",
       "    const data = {\n",
       "            nodes: nodes,\n",
       "            edges: edges,\n",
       "    };\n",
       "    const options = {\"interaction\": {\"navigationButtons\": false}, \"width\": \"100%\", \"height\": \"300px\"};\n",
       "    const container = document.getElementById('bfeaf7de-93b2-4308-8865-e202792891b2');\n",
       "    const network = new Network(container, data, options);\n",
       "    network.fit({maxZoomLevel: 10});\n",
       "    network.redraw();\n",
       "}\n",
       "\n",
       "render();\n",
       "document.getElementById('fit-bfeaf7de-93b2-4308-8865-e202792891b2').addEventListener('click', function(event) {\n",
       "    event.preventDefault();  // Prevent page jump\n",
       "    render(); // Adjust zoom limit as needed\n",
       "});\n",
       "</script>\n"
      ],
      "text/plain": [
       "<IPython.core.display.HTML object>"
      ]
     },
     "metadata": {},
     "output_type": "display_data"
    }
   ],
   "source": [
    "# Triamond\n",
    "sm.CycleChain(c=3).show_graph(vis_options={\"height\": 300})"
   ]
  },
  {
   "cell_type": "code",
   "execution_count": 36,
   "metadata": {
    "ExecuteTime": {
     "end_time": "2022-01-24T14:53:18.467600Z",
     "start_time": "2022-01-24T14:53:18.453740Z"
    },
    "execution": {
     "iopub.execute_input": "2025-09-27T08:33:26.620029Z",
     "iopub.status.busy": "2025-09-27T08:33:26.618676Z",
     "iopub.status.idle": "2025-09-27T08:33:26.623491Z",
     "shell.execute_reply": "2025-09-27T08:33:26.623491Z",
     "shell.execute_reply.started": "2025-09-27T08:33:26.620029Z"
    }
   },
   "outputs": [
    {
     "data": {
      "text/html": [
       "\n",
       "<div class=\"sm-graph\" id=\"box-ee7ab1f9-3b38-405d-a8eb-2c1ed61aa044\">\n",
       "<div id=\"ee7ab1f9-3b38-405d-a8eb-2c1ed61aa044\"></div>\n",
       "<a href=\"#\" id=\"fit-ee7ab1f9-3b38-405d-a8eb-2c1ed61aa044\"\n",
       "  style=\"position: absolute; left: 10px; bottom: 10px; text-decoration: none; color: #888; font-size: min(2vw, 10px);\n",
       "  z-index: 10; pointer-events: auto;\"\n",
       "> Reload\n",
       "</a>\n",
       "<style>\n",
       "#box-ee7ab1f9-3b38-405d-a8eb-2c1ed61aa044 {\n",
       "position: relative;\n",
       "width: 100%;\n",
       "height: 300px !important;\n",
       "max-width: 100vw;\n",
       "max-height: 100vh !important;\n",
       "}\n",
       "#ee7ab1f9-3b38-405d-a8eb-2c1ed61aa044 {\n",
       "  height: 100%;   /* Make the inner div fill the parent */\n",
       "}\n",
       "</style>\n",
       "</div>\n",
       "<script type=\"module\">\n",
       "import { DataSet, Network } from \"https://unpkg.com/vis-network/standalone/esm/vis-network.min.js\";\n",
       "// CSS will be automatically injected into the page.\n",
       "function render () {\n",
       "    const nodes = new DataSet([{\"id\": 0, \"label\": \"0\", \"title\": \"0\"}, {\"id\": 1, \"label\": \"1\", \"title\": \"1\"}, {\"id\": 2, \"label\": \"2\", \"title\": \"2\"}, {\"id\": 3, \"label\": \"3\", \"title\": \"3\"}, {\"id\": 4, \"label\": \"4\", \"title\": \"4\"}, {\"id\": 5, \"label\": \"5\", \"title\": \"5\"}]);\n",
       "    const edges = new DataSet([{\"title\": \"0: (0, 1)\", \"label\": \"\", \"from\": 0, \"to\": 1}, {\"title\": \"1: (0, 3)\", \"label\": \"\", \"from\": 0, \"to\": 3}, {\"title\": \"2: (1, 2)\", \"label\": \"\", \"from\": 1, \"to\": 2}, {\"title\": \"3: (2, 3)\", \"label\": \"\", \"from\": 2, \"to\": 3}, {\"title\": \"4: (2, 5)\", \"label\": \"\", \"from\": 2, \"to\": 5}, {\"title\": \"5: (3, 4)\", \"label\": \"\", \"from\": 3, \"to\": 4}, {\"title\": \"6: (4, 5)\", \"label\": \"\", \"from\": 4, \"to\": 5}]);\n",
       "    const data = {\n",
       "            nodes: nodes,\n",
       "            edges: edges,\n",
       "    };\n",
       "    const options = {\"interaction\": {\"navigationButtons\": false}, \"width\": \"100%\", \"height\": \"300px\"};\n",
       "    const container = document.getElementById('ee7ab1f9-3b38-405d-a8eb-2c1ed61aa044');\n",
       "    const network = new Network(container, data, options);\n",
       "    network.fit({maxZoomLevel: 10});\n",
       "    network.redraw();\n",
       "}\n",
       "\n",
       "render();\n",
       "document.getElementById('fit-ee7ab1f9-3b38-405d-a8eb-2c1ed61aa044').addEventListener('click', function(event) {\n",
       "    event.preventDefault();  // Prevent page jump\n",
       "    render(); // Adjust zoom limit as needed\n",
       "});\n",
       "</script>\n"
      ],
      "text/plain": [
       "<IPython.core.display.HTML object>"
      ]
     },
     "metadata": {},
     "output_type": "display_data"
    }
   ],
   "source": [
    "# Domino\n",
    "sm.CycleChain(n=4).show_graph(vis_options={\"height\": 300})"
   ]
  },
  {
   "cell_type": "code",
   "execution_count": 37,
   "metadata": {
    "ExecuteTime": {
     "end_time": "2022-01-24T14:53:18.483097Z",
     "start_time": "2022-01-24T14:53:18.469095Z"
    },
    "execution": {
     "iopub.execute_input": "2025-09-27T08:33:26.623491Z",
     "iopub.status.busy": "2025-09-27T08:33:26.623491Z",
     "iopub.status.idle": "2025-09-27T08:33:26.629565Z",
     "shell.execute_reply": "2025-09-27T08:33:26.629565Z",
     "shell.execute_reply.started": "2025-09-27T08:33:26.623491Z"
    }
   },
   "outputs": [
    {
     "data": {
      "text/html": [
       "\n",
       "<div class=\"sm-graph\" id=\"box-347c168c-a263-4fa3-ad32-dfb0082462ca\">\n",
       "<div id=\"347c168c-a263-4fa3-ad32-dfb0082462ca\"></div>\n",
       "<a href=\"#\" id=\"fit-347c168c-a263-4fa3-ad32-dfb0082462ca\"\n",
       "  style=\"position: absolute; left: 10px; bottom: 10px; text-decoration: none; color: #888; font-size: min(2vw, 10px);\n",
       "  z-index: 10; pointer-events: auto;\"\n",
       "> Reload\n",
       "</a>\n",
       "<style>\n",
       "#box-347c168c-a263-4fa3-ad32-dfb0082462ca {\n",
       "position: relative;\n",
       "width: 100%;\n",
       "height: 400px !important;\n",
       "max-width: 100vw;\n",
       "max-height: 100vh !important;\n",
       "}\n",
       "#347c168c-a263-4fa3-ad32-dfb0082462ca {\n",
       "  height: 100%;   /* Make the inner div fill the parent */\n",
       "}\n",
       "</style>\n",
       "</div>\n",
       "<script type=\"module\">\n",
       "import { DataSet, Network } from \"https://unpkg.com/vis-network/standalone/esm/vis-network.min.js\";\n",
       "// CSS will be automatically injected into the page.\n",
       "function render () {\n",
       "    const nodes = new DataSet([{\"id\": 0, \"label\": \"0\", \"title\": \"0\"}, {\"id\": 1, \"label\": \"1\", \"title\": \"1\"}, {\"id\": 2, \"label\": \"2\", \"title\": \"2\"}, {\"id\": 3, \"label\": \"3\", \"title\": \"3\"}, {\"id\": 4, \"label\": \"4\", \"title\": \"4\"}, {\"id\": 5, \"label\": \"5\", \"title\": \"5\"}, {\"id\": 6, \"label\": \"6\", \"title\": \"6\"}, {\"id\": 7, \"label\": \"7\", \"title\": \"7\"}, {\"id\": 8, \"label\": \"8\", \"title\": \"8\"}]);\n",
       "    const edges = new DataSet([{\"title\": \"0: (0, 1)\", \"label\": \"\", \"from\": 0, \"to\": 1}, {\"title\": \"1: (0, 2)\", \"label\": \"\", \"from\": 0, \"to\": 2}, {\"title\": \"2: (1, 2)\", \"label\": \"\", \"from\": 1, \"to\": 2}, {\"title\": \"3: (2, 3)\", \"label\": \"\", \"from\": 2, \"to\": 3}, {\"title\": \"4: (2, 4)\", \"label\": \"\", \"from\": 2, \"to\": 4}, {\"title\": \"5: (3, 4)\", \"label\": \"\", \"from\": 3, \"to\": 4}, {\"title\": \"6: (4, 5)\", \"label\": \"\", \"from\": 4, \"to\": 5}, {\"title\": \"7: (4, 6)\", \"label\": \"\", \"from\": 4, \"to\": 6}, {\"title\": \"8: (5, 6)\", \"label\": \"\", \"from\": 5, \"to\": 6}, {\"title\": \"9: (6, 7)\", \"label\": \"\", \"from\": 6, \"to\": 7}, {\"title\": \"10: (6, 8)\", \"label\": \"\", \"from\": 6, \"to\": 8}, {\"title\": \"11: (7, 8)\", \"label\": \"\", \"from\": 7, \"to\": 8}]);\n",
       "    const data = {\n",
       "            nodes: nodes,\n",
       "            edges: edges,\n",
       "    };\n",
       "    const options = {\"interaction\": {\"navigationButtons\": false}, \"width\": \"100%\", \"height\": \"400px\"};\n",
       "    const container = document.getElementById('347c168c-a263-4fa3-ad32-dfb0082462ca');\n",
       "    const network = new Network(container, data, options);\n",
       "    network.fit({maxZoomLevel: 10});\n",
       "    network.redraw();\n",
       "}\n",
       "\n",
       "render();\n",
       "document.getElementById('fit-347c168c-a263-4fa3-ad32-dfb0082462ca').addEventListener('click', function(event) {\n",
       "    event.preventDefault();  // Prevent page jump\n",
       "    render(); // Adjust zoom limit as needed\n",
       "});\n",
       "</script>\n"
      ],
      "text/plain": [
       "<IPython.core.display.HTML object>"
      ]
     },
     "metadata": {},
     "output_type": "display_data"
    }
   ],
   "source": [
    "# The triangular snake graph TS_9 (cf https://mathworld.wolfram.com/TriangularSnakeGraph.html)\n",
    "sm.CycleChain(c=4, o=1).show_graph(vis_options={\"height\": 400})"
   ]
  },
  {
   "cell_type": "code",
   "execution_count": 38,
   "metadata": {
    "ExecuteTime": {
     "end_time": "2022-01-24T14:53:18.499404Z",
     "start_time": "2022-01-24T14:53:18.485093Z"
    },
    "execution": {
     "iopub.execute_input": "2025-09-27T08:33:26.631067Z",
     "iopub.status.busy": "2025-09-27T08:33:26.629565Z",
     "iopub.status.idle": "2025-09-27T08:33:26.634575Z",
     "shell.execute_reply": "2025-09-27T08:33:26.634575Z",
     "shell.execute_reply.started": "2025-09-27T08:33:26.631067Z"
    }
   },
   "outputs": [
    {
     "data": {
      "text/html": [
       "\n",
       "<div class=\"sm-graph\" id=\"box-f6309d30-6fd0-4247-b0bf-3b09696a333f\">\n",
       "<div id=\"f6309d30-6fd0-4247-b0bf-3b09696a333f\"></div>\n",
       "<a href=\"#\" id=\"fit-f6309d30-6fd0-4247-b0bf-3b09696a333f\"\n",
       "  style=\"position: absolute; left: 10px; bottom: 10px; text-decoration: none; color: #888; font-size: min(2vw, 10px);\n",
       "  z-index: 10; pointer-events: auto;\"\n",
       "> Reload\n",
       "</a>\n",
       "<style>\n",
       "#box-f6309d30-6fd0-4247-b0bf-3b09696a333f {\n",
       "position: relative;\n",
       "width: 100%;\n",
       "height: 300px !important;\n",
       "max-width: 100vw;\n",
       "max-height: 100vh !important;\n",
       "}\n",
       "#f6309d30-6fd0-4247-b0bf-3b09696a333f {\n",
       "  height: 100%;   /* Make the inner div fill the parent */\n",
       "}\n",
       "</style>\n",
       "</div>\n",
       "<script type=\"module\">\n",
       "import { DataSet, Network } from \"https://unpkg.com/vis-network/standalone/esm/vis-network.min.js\";\n",
       "// CSS will be automatically injected into the page.\n",
       "function render () {\n",
       "    const nodes = new DataSet([{\"id\": 0, \"label\": \"0\", \"title\": \"0\"}, {\"id\": 1, \"label\": \"1\", \"title\": \"1\"}, {\"id\": 2, \"label\": \"2\", \"title\": \"2\"}, {\"id\": 3, \"label\": \"3\", \"title\": \"3\"}, {\"id\": 4, \"label\": \"4\", \"title\": \"4\"}, {\"id\": 5, \"label\": \"5\", \"title\": \"5\"}, {\"id\": 6, \"label\": \"6\", \"title\": \"6\"}, {\"id\": 7, \"label\": \"7\", \"title\": \"7\"}, {\"id\": 8, \"label\": \"8\", \"title\": \"8\"}, {\"id\": 9, \"label\": \"9\", \"title\": \"9\"}, {\"id\": 10, \"label\": \"10\", \"title\": \"10\"}, {\"id\": 11, \"label\": \"11\", \"title\": \"11\"}]);\n",
       "    const edges = new DataSet([{\"title\": \"0: (0, 1)\", \"label\": \"\", \"from\": 0, \"to\": 1}, {\"title\": \"1: (0, 3)\", \"label\": \"\", \"from\": 0, \"to\": 3}, {\"title\": \"2: (1, 2)\", \"label\": \"\", \"from\": 1, \"to\": 2}, {\"title\": \"3: (2, 3)\", \"label\": \"\", \"from\": 2, \"to\": 3}, {\"title\": \"4: (4, 5)\", \"label\": \"\", \"from\": 4, \"to\": 5}, {\"title\": \"5: (4, 7)\", \"label\": \"\", \"from\": 4, \"to\": 7}, {\"title\": \"6: (5, 6)\", \"label\": \"\", \"from\": 5, \"to\": 6}, {\"title\": \"7: (6, 7)\", \"label\": \"\", \"from\": 6, \"to\": 7}, {\"title\": \"8: (8, 9)\", \"label\": \"\", \"from\": 8, \"to\": 9}, {\"title\": \"9: (8, 11)\", \"label\": \"\", \"from\": 8, \"to\": 11}, {\"title\": \"10: (9, 10)\", \"label\": \"\", \"from\": 9, \"to\": 10}, {\"title\": \"11: (10, 11)\", \"label\": \"\", \"from\": 10, \"to\": 11}]);\n",
       "    const data = {\n",
       "            nodes: nodes,\n",
       "            edges: edges,\n",
       "    };\n",
       "    const options = {\"interaction\": {\"navigationButtons\": false}, \"width\": \"100%\", \"height\": \"300px\"};\n",
       "    const container = document.getElementById('f6309d30-6fd0-4247-b0bf-3b09696a333f');\n",
       "    const network = new Network(container, data, options);\n",
       "    network.fit({maxZoomLevel: 10});\n",
       "    network.redraw();\n",
       "}\n",
       "\n",
       "render();\n",
       "document.getElementById('fit-f6309d30-6fd0-4247-b0bf-3b09696a333f').addEventListener('click', function(event) {\n",
       "    event.preventDefault();  // Prevent page jump\n",
       "    render(); // Adjust zoom limit as needed\n",
       "});\n",
       "</script>\n"
      ],
      "text/plain": [
       "<IPython.core.display.HTML object>"
      ]
     },
     "metadata": {},
     "output_type": "display_data"
    }
   ],
   "source": [
    "# 3 separated squares\n",
    "sm.CycleChain(n=4, c=3, o=0).show_graph(vis_options={\"height\": 300})"
   ]
  },
  {
   "cell_type": "code",
   "execution_count": 39,
   "metadata": {
    "ExecuteTime": {
     "end_time": "2022-01-24T14:53:18.606389Z",
     "start_time": "2022-01-24T14:53:18.502340Z"
    },
    "execution": {
     "iopub.execute_input": "2025-09-27T08:33:26.634575Z",
     "iopub.status.busy": "2025-09-27T08:33:26.634575Z",
     "iopub.status.idle": "2025-09-27T08:33:26.640309Z",
     "shell.execute_reply": "2025-09-27T08:33:26.640309Z",
     "shell.execute_reply.started": "2025-09-27T08:33:26.634575Z"
    }
   },
   "outputs": [
    {
     "data": {
      "text/html": [
       "\n",
       "<div class=\"sm-graph\" id=\"box-fead6866-d7e8-44a8-bc2e-87955e7b2408\">\n",
       "<div id=\"fead6866-d7e8-44a8-bc2e-87955e7b2408\"></div>\n",
       "<a href=\"#\" id=\"fit-fead6866-d7e8-44a8-bc2e-87955e7b2408\"\n",
       "  style=\"position: absolute; left: 10px; bottom: 10px; text-decoration: none; color: #888; font-size: min(2vw, 10px);\n",
       "  z-index: 10; pointer-events: auto;\"\n",
       "> Reload\n",
       "</a>\n",
       "<style>\n",
       "#box-fead6866-d7e8-44a8-bc2e-87955e7b2408 {\n",
       "position: relative;\n",
       "width: 100%;\n",
       "height: 50vh !important;\n",
       "max-width: 100vw;\n",
       "max-height: 100vh !important;\n",
       "}\n",
       "#fead6866-d7e8-44a8-bc2e-87955e7b2408 {\n",
       "  height: 100%;   /* Make the inner div fill the parent */\n",
       "}\n",
       "</style>\n",
       "</div>\n",
       "<script type=\"module\">\n",
       "import { DataSet, Network } from \"https://unpkg.com/vis-network/standalone/esm/vis-network.min.js\";\n",
       "// CSS will be automatically injected into the page.\n",
       "function render () {\n",
       "    const nodes = new DataSet([{\"id\": 0, \"label\": \"A\", \"title\": \"0: A\"}, {\"id\": 1, \"label\": \"B\", \"title\": \"1: B\"}, {\"id\": 2, \"label\": \"C\", \"title\": \"2: C\"}, {\"id\": 3, \"label\": \"D\", \"title\": \"3: D\"}, {\"id\": 4, \"label\": \"E\", \"title\": \"4: E\"}, {\"id\": 5, \"label\": \"F\", \"title\": \"5: F\"}, {\"id\": 6, \"label\": \"G\", \"title\": \"6: G\"}, {\"id\": 7, \"label\": \"H\", \"title\": \"7: H\"}, {\"id\": 8, \"label\": \"I\", \"title\": \"8: I\"}, {\"id\": 9, \"label\": \"J\", \"title\": \"9: J\"}, {\"id\": 10, \"label\": \"K\", \"title\": \"10: K\"}, {\"id\": 11, \"label\": \"L\", \"title\": \"11: L\"}, {\"id\": 12, \"label\": \"M\", \"title\": \"12: M\"}, {\"id\": 13, \"label\": \"N\", \"title\": \"13: N\"}, {\"id\": 14, \"label\": \"O\", \"title\": \"14: O\"}, {\"id\": 15, \"label\": \"P\", \"title\": \"15: P\"}, {\"id\": 16, \"label\": \"Q\", \"title\": \"16: Q\"}, {\"id\": 17, \"label\": \"R\", \"title\": \"17: R\"}, {\"id\": 18, \"label\": \"S\", \"title\": \"18: S\"}, {\"id\": 19, \"label\": \"T\", \"title\": \"19: T\"}, {\"id\": 20, \"label\": \"U\", \"title\": \"20: U\"}, {\"id\": 21, \"label\": \"V\", \"title\": \"21: V\"}, {\"id\": 22, \"label\": \"W\", \"title\": \"22: W\"}, {\"id\": 23, \"label\": \"X\", \"title\": \"23: X\"}, {\"id\": 24, \"label\": \"Y\", \"title\": \"24: Y\"}, {\"id\": 25, \"label\": \"Z\", \"title\": \"25: Z\"}, {\"id\": 26, \"label\": \"AA\", \"title\": \"26: AA\"}, {\"id\": 27, \"label\": \"AB\", \"title\": \"27: AB\"}, {\"id\": 28, \"label\": \"AC\", \"title\": \"28: AC\"}, {\"id\": 29, \"label\": \"AD\", \"title\": \"29: AD\"}, {\"id\": 30, \"label\": \"AE\", \"title\": \"30: AE\"}, {\"id\": 31, \"label\": \"AF\", \"title\": \"31: AF\"}]);\n",
       "    const edges = new DataSet([{\"title\": \"0: (A, B)\", \"label\": \"\", \"from\": 0, \"to\": 1}, {\"title\": \"1: (A, C)\", \"label\": \"\", \"from\": 0, \"to\": 2}, {\"title\": \"2: (B, C)\", \"label\": \"\", \"from\": 1, \"to\": 2}, {\"title\": \"3: (B, D)\", \"label\": \"\", \"from\": 1, \"to\": 3}, {\"title\": \"4: (C, D)\", \"label\": \"\", \"from\": 2, \"to\": 3}, {\"title\": \"5: (C, E)\", \"label\": \"\", \"from\": 2, \"to\": 4}, {\"title\": \"6: (D, E)\", \"label\": \"\", \"from\": 3, \"to\": 4}, {\"title\": \"7: (D, F)\", \"label\": \"\", \"from\": 3, \"to\": 5}, {\"title\": \"8: (E, F)\", \"label\": \"\", \"from\": 4, \"to\": 5}, {\"title\": \"9: (E, G)\", \"label\": \"\", \"from\": 4, \"to\": 6}, {\"title\": \"10: (F, G)\", \"label\": \"\", \"from\": 5, \"to\": 6}, {\"title\": \"11: (F, H)\", \"label\": \"\", \"from\": 5, \"to\": 7}, {\"title\": \"12: (G, H)\", \"label\": \"\", \"from\": 6, \"to\": 7}, {\"title\": \"13: (G, I)\", \"label\": \"\", \"from\": 6, \"to\": 8}, {\"title\": \"14: (H, I)\", \"label\": \"\", \"from\": 7, \"to\": 8}, {\"title\": \"15: (H, J)\", \"label\": \"\", \"from\": 7, \"to\": 9}, {\"title\": \"16: (I, J)\", \"label\": \"\", \"from\": 8, \"to\": 9}, {\"title\": \"17: (I, K)\", \"label\": \"\", \"from\": 8, \"to\": 10}, {\"title\": \"18: (J, K)\", \"label\": \"\", \"from\": 9, \"to\": 10}, {\"title\": \"19: (J, L)\", \"label\": \"\", \"from\": 9, \"to\": 11}, {\"title\": \"20: (K, L)\", \"label\": \"\", \"from\": 10, \"to\": 11}, {\"title\": \"21: (K, M)\", \"label\": \"\", \"from\": 10, \"to\": 12}, {\"title\": \"22: (L, M)\", \"label\": \"\", \"from\": 11, \"to\": 12}, {\"title\": \"23: (L, N)\", \"label\": \"\", \"from\": 11, \"to\": 13}, {\"title\": \"24: (M, N)\", \"label\": \"\", \"from\": 12, \"to\": 13}, {\"title\": \"25: (M, O)\", \"label\": \"\", \"from\": 12, \"to\": 14}, {\"title\": \"26: (N, O)\", \"label\": \"\", \"from\": 13, \"to\": 14}, {\"title\": \"27: (N, P)\", \"label\": \"\", \"from\": 13, \"to\": 15}, {\"title\": \"28: (O, P)\", \"label\": \"\", \"from\": 14, \"to\": 15}, {\"title\": \"29: (O, Q)\", \"label\": \"\", \"from\": 14, \"to\": 16}, {\"title\": \"30: (P, Q)\", \"label\": \"\", \"from\": 15, \"to\": 16}, {\"title\": \"31: (P, R)\", \"label\": \"\", \"from\": 15, \"to\": 17}, {\"title\": \"32: (Q, R)\", \"label\": \"\", \"from\": 16, \"to\": 17}, {\"title\": \"33: (Q, S)\", \"label\": \"\", \"from\": 16, \"to\": 18}, {\"title\": \"34: (R, S)\", \"label\": \"\", \"from\": 17, \"to\": 18}, {\"title\": \"35: (R, T)\", \"label\": \"\", \"from\": 17, \"to\": 19}, {\"title\": \"36: (S, T)\", \"label\": \"\", \"from\": 18, \"to\": 19}, {\"title\": \"37: (S, U)\", \"label\": \"\", \"from\": 18, \"to\": 20}, {\"title\": \"38: (T, U)\", \"label\": \"\", \"from\": 19, \"to\": 20}, {\"title\": \"39: (T, V)\", \"label\": \"\", \"from\": 19, \"to\": 21}, {\"title\": \"40: (U, V)\", \"label\": \"\", \"from\": 20, \"to\": 21}, {\"title\": \"41: (U, W)\", \"label\": \"\", \"from\": 20, \"to\": 22}, {\"title\": \"42: (V, W)\", \"label\": \"\", \"from\": 21, \"to\": 22}, {\"title\": \"43: (V, X)\", \"label\": \"\", \"from\": 21, \"to\": 23}, {\"title\": \"44: (W, X)\", \"label\": \"\", \"from\": 22, \"to\": 23}, {\"title\": \"45: (W, Y)\", \"label\": \"\", \"from\": 22, \"to\": 24}, {\"title\": \"46: (X, Y)\", \"label\": \"\", \"from\": 23, \"to\": 24}, {\"title\": \"47: (X, Z)\", \"label\": \"\", \"from\": 23, \"to\": 25}, {\"title\": \"48: (Y, Z)\", \"label\": \"\", \"from\": 24, \"to\": 25}, {\"title\": \"49: (Y, AA)\", \"label\": \"\", \"from\": 24, \"to\": 26}, {\"title\": \"50: (Z, AA)\", \"label\": \"\", \"from\": 25, \"to\": 26}, {\"title\": \"51: (Z, AB)\", \"label\": \"\", \"from\": 25, \"to\": 27}, {\"title\": \"52: (AA, AB)\", \"label\": \"\", \"from\": 26, \"to\": 27}, {\"title\": \"53: (AA, AC)\", \"label\": \"\", \"from\": 26, \"to\": 28}, {\"title\": \"54: (AB, AC)\", \"label\": \"\", \"from\": 27, \"to\": 28}, {\"title\": \"55: (AB, AD)\", \"label\": \"\", \"from\": 27, \"to\": 29}, {\"title\": \"56: (AC, AD)\", \"label\": \"\", \"from\": 28, \"to\": 29}, {\"title\": \"57: (AC, AE)\", \"label\": \"\", \"from\": 28, \"to\": 30}, {\"title\": \"58: (AD, AE)\", \"label\": \"\", \"from\": 29, \"to\": 30}, {\"title\": \"59: (AD, AF)\", \"label\": \"\", \"from\": 29, \"to\": 31}, {\"title\": \"60: (AE, AF)\", \"label\": \"\", \"from\": 30, \"to\": 31}]);\n",
       "    const data = {\n",
       "            nodes: nodes,\n",
       "            edges: edges,\n",
       "    };\n",
       "    const options = {\"interaction\": {\"navigationButtons\": false}, \"width\": \"100%\", \"height\": \"100%\"};\n",
       "    const container = document.getElementById('fead6866-d7e8-44a8-bc2e-87955e7b2408');\n",
       "    const network = new Network(container, data, options);\n",
       "    network.fit({maxZoomLevel: 10});\n",
       "    network.redraw();\n",
       "}\n",
       "\n",
       "render();\n",
       "document.getElementById('fit-fead6866-d7e8-44a8-bc2e-87955e7b2408').addEventListener('click', function(event) {\n",
       "    event.preventDefault();  // Prevent page jump\n",
       "    render(); // Adjust zoom limit as needed\n",
       "});\n",
       "</script>\n"
      ],
      "text/plain": [
       "<IPython.core.display.HTML object>"
      ]
     },
     "metadata": {},
     "output_type": "display_data"
    }
   ],
   "source": [
    "# A big chain of triangle\n",
    "sm.CycleChain(c=30, names=\"alpha\").show_graph()"
   ]
  },
  {
   "cell_type": "markdown",
   "metadata": {},
   "source": [
    "### Erdös-Rényi graph"
   ]
  },
  {
   "cell_type": "markdown",
   "metadata": {},
   "source": [
    "Standard random graph with default parameters $n=10$, $d=3$, $seed=None$."
   ]
  },
  {
   "cell_type": "code",
   "execution_count": 40,
   "metadata": {
    "execution": {
     "iopub.execute_input": "2025-09-27T08:33:26.641593Z",
     "iopub.status.busy": "2025-09-27T08:33:26.641593Z",
     "iopub.status.idle": "2025-09-27T08:33:26.646450Z",
     "shell.execute_reply": "2025-09-27T08:33:26.646450Z",
     "shell.execute_reply.started": "2025-09-27T08:33:26.641593Z"
    }
   },
   "outputs": [
    {
     "data": {
      "text/html": [
       "\n",
       "<div class=\"sm-graph\" id=\"box-6f884cf5-a833-40ba-afc8-229ca4b21aa6\">\n",
       "<div id=\"6f884cf5-a833-40ba-afc8-229ca4b21aa6\"></div>\n",
       "<a href=\"#\" id=\"fit-6f884cf5-a833-40ba-afc8-229ca4b21aa6\"\n",
       "  style=\"position: absolute; left: 10px; bottom: 10px; text-decoration: none; color: #888; font-size: min(2vw, 10px);\n",
       "  z-index: 10; pointer-events: auto;\"\n",
       "> Reload\n",
       "</a>\n",
       "<style>\n",
       "#box-6f884cf5-a833-40ba-afc8-229ca4b21aa6 {\n",
       "position: relative;\n",
       "width: 100%;\n",
       "height: 300px !important;\n",
       "max-width: 100vw;\n",
       "max-height: 100vh !important;\n",
       "}\n",
       "#6f884cf5-a833-40ba-afc8-229ca4b21aa6 {\n",
       "  height: 100%;   /* Make the inner div fill the parent */\n",
       "}\n",
       "</style>\n",
       "</div>\n",
       "<script type=\"module\">\n",
       "import { DataSet, Network } from \"https://unpkg.com/vis-network/standalone/esm/vis-network.min.js\";\n",
       "// CSS will be automatically injected into the page.\n",
       "function render () {\n",
       "    const nodes = new DataSet([{\"id\": 0, \"label\": \"0\", \"title\": \"0\"}, {\"id\": 1, \"label\": \"1\", \"title\": \"1\"}, {\"id\": 2, \"label\": \"2\", \"title\": \"2\"}, {\"id\": 3, \"label\": \"3\", \"title\": \"3\"}, {\"id\": 4, \"label\": \"4\", \"title\": \"4\"}, {\"id\": 5, \"label\": \"5\", \"title\": \"5\"}, {\"id\": 6, \"label\": \"6\", \"title\": \"6\"}, {\"id\": 7, \"label\": \"7\", \"title\": \"7\"}, {\"id\": 8, \"label\": \"8\", \"title\": \"8\"}, {\"id\": 9, \"label\": \"9\", \"title\": \"9\"}]);\n",
       "    const edges = new DataSet([{\"title\": \"0: (0, 4)\", \"label\": \"\", \"from\": 0, \"to\": 4}, {\"title\": \"1: (0, 5)\", \"label\": \"\", \"from\": 0, \"to\": 5}, {\"title\": \"2: (0, 6)\", \"label\": \"\", \"from\": 0, \"to\": 6}, {\"title\": \"3: (1, 3)\", \"label\": \"\", \"from\": 1, \"to\": 3}, {\"title\": \"4: (1, 4)\", \"label\": \"\", \"from\": 1, \"to\": 4}, {\"title\": \"5: (1, 5)\", \"label\": \"\", \"from\": 1, \"to\": 5}, {\"title\": \"6: (1, 6)\", \"label\": \"\", \"from\": 1, \"to\": 6}, {\"title\": \"7: (1, 9)\", \"label\": \"\", \"from\": 1, \"to\": 9}, {\"title\": \"8: (2, 6)\", \"label\": \"\", \"from\": 2, \"to\": 6}, {\"title\": \"9: (2, 9)\", \"label\": \"\", \"from\": 2, \"to\": 9}, {\"title\": \"10: (3, 6)\", \"label\": \"\", \"from\": 3, \"to\": 6}, {\"title\": \"11: (3, 7)\", \"label\": \"\", \"from\": 3, \"to\": 7}, {\"title\": \"12: (4, 6)\", \"label\": \"\", \"from\": 4, \"to\": 6}, {\"title\": \"13: (4, 9)\", \"label\": \"\", \"from\": 4, \"to\": 9}, {\"title\": \"14: (5, 6)\", \"label\": \"\", \"from\": 5, \"to\": 6}, {\"title\": \"15: (5, 7)\", \"label\": \"\", \"from\": 5, \"to\": 7}, {\"title\": \"16: (5, 8)\", \"label\": \"\", \"from\": 5, \"to\": 8}, {\"title\": \"17: (5, 9)\", \"label\": \"\", \"from\": 5, \"to\": 9}, {\"title\": \"18: (6, 8)\", \"label\": \"\", \"from\": 6, \"to\": 8}, {\"title\": \"19: (7, 9)\", \"label\": \"\", \"from\": 7, \"to\": 9}]);\n",
       "    const data = {\n",
       "            nodes: nodes,\n",
       "            edges: edges,\n",
       "    };\n",
       "    const options = {\"interaction\": {\"navigationButtons\": false}, \"width\": \"100%\", \"height\": \"300px\"};\n",
       "    const container = document.getElementById('6f884cf5-a833-40ba-afc8-229ca4b21aa6');\n",
       "    const network = new Network(container, data, options);\n",
       "    network.fit({maxZoomLevel: 10});\n",
       "    network.redraw();\n",
       "}\n",
       "\n",
       "render();\n",
       "document.getElementById('fit-6f884cf5-a833-40ba-afc8-229ca4b21aa6').addEventListener('click', function(event) {\n",
       "    event.preventDefault();  // Prevent page jump\n",
       "    render(); // Adjust zoom limit as needed\n",
       "});\n",
       "</script>\n"
      ],
      "text/plain": [
       "<IPython.core.display.HTML object>"
      ]
     },
     "metadata": {},
     "output_type": "display_data"
    }
   ],
   "source": [
    "sm.ErdosRenyi(seed=42).show_graph(vis_options={\"height\": 300})"
   ]
  },
  {
   "cell_type": "code",
   "execution_count": 41,
   "metadata": {
    "execution": {
     "iopub.execute_input": "2025-09-27T08:33:26.646450Z",
     "iopub.status.busy": "2025-09-27T08:33:26.646450Z",
     "iopub.status.idle": "2025-09-27T08:33:26.652088Z",
     "shell.execute_reply": "2025-09-27T08:33:26.651584Z",
     "shell.execute_reply.started": "2025-09-27T08:33:26.646450Z"
    }
   },
   "outputs": [
    {
     "data": {
      "text/html": [
       "\n",
       "<div class=\"sm-graph\" id=\"box-e84a66c4-d9e5-4023-8fc7-69bc376013d2\">\n",
       "<div id=\"e84a66c4-d9e5-4023-8fc7-69bc376013d2\"></div>\n",
       "<a href=\"#\" id=\"fit-e84a66c4-d9e5-4023-8fc7-69bc376013d2\"\n",
       "  style=\"position: absolute; left: 10px; bottom: 10px; text-decoration: none; color: #888; font-size: min(2vw, 10px);\n",
       "  z-index: 10; pointer-events: auto;\"\n",
       "> Reload\n",
       "</a>\n",
       "<style>\n",
       "#box-e84a66c4-d9e5-4023-8fc7-69bc376013d2 {\n",
       "position: relative;\n",
       "width: 100%;\n",
       "height: 400px !important;\n",
       "max-width: 100vw;\n",
       "max-height: 100vh !important;\n",
       "}\n",
       "#e84a66c4-d9e5-4023-8fc7-69bc376013d2 {\n",
       "  height: 100%;   /* Make the inner div fill the parent */\n",
       "}\n",
       "</style>\n",
       "</div>\n",
       "<script type=\"module\">\n",
       "import { DataSet, Network } from \"https://unpkg.com/vis-network/standalone/esm/vis-network.min.js\";\n",
       "// CSS will be automatically injected into the page.\n",
       "function render () {\n",
       "    const nodes = new DataSet([{\"id\": 0, \"label\": \"0\", \"title\": \"0\"}, {\"id\": 1, \"label\": \"1\", \"title\": \"1\"}, {\"id\": 2, \"label\": \"2\", \"title\": \"2\"}, {\"id\": 3, \"label\": \"3\", \"title\": \"3\"}, {\"id\": 4, \"label\": \"4\", \"title\": \"4\"}, {\"id\": 5, \"label\": \"5\", \"title\": \"5\"}, {\"id\": 6, \"label\": \"6\", \"title\": \"6\"}, {\"id\": 7, \"label\": \"7\", \"title\": \"7\"}, {\"id\": 8, \"label\": \"8\", \"title\": \"8\"}, {\"id\": 9, \"label\": \"9\", \"title\": \"9\"}, {\"id\": 10, \"label\": \"10\", \"title\": \"10\"}, {\"id\": 11, \"label\": \"11\", \"title\": \"11\"}, {\"id\": 12, \"label\": \"12\", \"title\": \"12\"}, {\"id\": 13, \"label\": \"13\", \"title\": \"13\"}, {\"id\": 14, \"label\": \"14\", \"title\": \"14\"}, {\"id\": 15, \"label\": \"15\", \"title\": \"15\"}, {\"id\": 16, \"label\": \"16\", \"title\": \"16\"}, {\"id\": 17, \"label\": \"17\", \"title\": \"17\"}, {\"id\": 18, \"label\": \"18\", \"title\": \"18\"}, {\"id\": 19, \"label\": \"19\", \"title\": \"19\"}]);\n",
       "    const edges = new DataSet([{\"title\": \"0: (0, 6)\", \"label\": \"\", \"from\": 0, \"to\": 6}, {\"title\": \"1: (0, 10)\", \"label\": \"\", \"from\": 0, \"to\": 10}, {\"title\": \"2: (1, 9)\", \"label\": \"\", \"from\": 1, \"to\": 9}, {\"title\": \"3: (1, 12)\", \"label\": \"\", \"from\": 1, \"to\": 12}, {\"title\": \"4: (1, 17)\", \"label\": \"\", \"from\": 1, \"to\": 17}, {\"title\": \"5: (2, 16)\", \"label\": \"\", \"from\": 2, \"to\": 16}, {\"title\": \"6: (2, 18)\", \"label\": \"\", \"from\": 2, \"to\": 18}, {\"title\": \"7: (3, 8)\", \"label\": \"\", \"from\": 3, \"to\": 8}, {\"title\": \"8: (3, 12)\", \"label\": \"\", \"from\": 3, \"to\": 12}, {\"title\": \"9: (3, 17)\", \"label\": \"\", \"from\": 3, \"to\": 17}, {\"title\": \"10: (4, 18)\", \"label\": \"\", \"from\": 4, \"to\": 18}, {\"title\": \"11: (5, 9)\", \"label\": \"\", \"from\": 5, \"to\": 9}, {\"title\": \"12: (6, 8)\", \"label\": \"\", \"from\": 6, \"to\": 8}, {\"title\": \"13: (7, 8)\", \"label\": \"\", \"from\": 7, \"to\": 8}, {\"title\": \"14: (8, 11)\", \"label\": \"\", \"from\": 8, \"to\": 11}, {\"title\": \"15: (9, 10)\", \"label\": \"\", \"from\": 9, \"to\": 10}, {\"title\": \"16: (11, 17)\", \"label\": \"\", \"from\": 11, \"to\": 17}, {\"title\": \"17: (12, 19)\", \"label\": \"\", \"from\": 12, \"to\": 19}, {\"title\": \"18: (14, 19)\", \"label\": \"\", \"from\": 14, \"to\": 19}, {\"title\": \"19: (16, 19)\", \"label\": \"\", \"from\": 16, \"to\": 19}]);\n",
       "    const data = {\n",
       "            nodes: nodes,\n",
       "            edges: edges,\n",
       "    };\n",
       "    const options = {\"interaction\": {\"navigationButtons\": false}, \"width\": \"100%\", \"height\": \"400px\"};\n",
       "    const container = document.getElementById('e84a66c4-d9e5-4023-8fc7-69bc376013d2');\n",
       "    const network = new Network(container, data, options);\n",
       "    network.fit({maxZoomLevel: 10});\n",
       "    network.redraw();\n",
       "}\n",
       "\n",
       "render();\n",
       "document.getElementById('fit-e84a66c4-d9e5-4023-8fc7-69bc376013d2').addEventListener('click', function(event) {\n",
       "    event.preventDefault();  // Prevent page jump\n",
       "    render(); // Adjust zoom limit as needed\n",
       "});\n",
       "</script>\n"
      ],
      "text/plain": [
       "<IPython.core.display.HTML object>"
      ]
     },
     "metadata": {},
     "output_type": "display_data"
    }
   ],
   "source": [
    "sm.ErdosRenyi(n=20, d=2, seed=42).show_graph(vis_options={\"height\": 400})"
   ]
  },
  {
   "cell_type": "markdown",
   "metadata": {},
   "source": [
    "### Concatenation"
   ]
  },
  {
   "cell_type": "markdown",
   "metadata": {},
   "source": [
    "Building more elaborate graphs on top of the provided generators is relatively easy.).\n",
    "\n",
    "One way to build these graphs is to use concatenation.\n",
    "\n",
    "Concatenation generalizes the chained cycles above. It uses a list of graphs and the overlapping between graph. Overlapping can be uniform or heterogeneous (you need then to provide a list of overlaps)."
   ]
  },
  {
   "cell_type": "code",
   "execution_count": 42,
   "metadata": {
    "ExecuteTime": {
     "end_time": "2022-01-24T14:53:18.637454Z",
     "start_time": "2022-01-24T14:53:18.610206Z"
    },
    "execution": {
     "iopub.execute_input": "2025-09-27T08:33:26.652088Z",
     "iopub.status.busy": "2025-09-27T08:33:26.652088Z",
     "iopub.status.idle": "2025-09-27T08:33:26.658083Z",
     "shell.execute_reply": "2025-09-27T08:33:26.658083Z",
     "shell.execute_reply.started": "2025-09-27T08:33:26.652088Z"
    }
   },
   "outputs": [
    {
     "data": {
      "text/html": [
       "\n",
       "<div class=\"sm-graph\" id=\"box-f3370fe0-62d2-4279-a5b5-1d4f2dfdc114\">\n",
       "<div id=\"f3370fe0-62d2-4279-a5b5-1d4f2dfdc114\"></div>\n",
       "<a href=\"#\" id=\"fit-f3370fe0-62d2-4279-a5b5-1d4f2dfdc114\"\n",
       "  style=\"position: absolute; left: 10px; bottom: 10px; text-decoration: none; color: #888; font-size: min(2vw, 10px);\n",
       "  z-index: 10; pointer-events: auto;\"\n",
       "> Reload\n",
       "</a>\n",
       "<style>\n",
       "#box-f3370fe0-62d2-4279-a5b5-1d4f2dfdc114 {\n",
       "position: relative;\n",
       "width: 100%;\n",
       "height: 200px !important;\n",
       "max-width: 100vw;\n",
       "max-height: 100vh !important;\n",
       "}\n",
       "#f3370fe0-62d2-4279-a5b5-1d4f2dfdc114 {\n",
       "  height: 100%;   /* Make the inner div fill the parent */\n",
       "}\n",
       "</style>\n",
       "</div>\n",
       "<script type=\"module\">\n",
       "import { DataSet, Network } from \"https://unpkg.com/vis-network/standalone/esm/vis-network.min.js\";\n",
       "// CSS will be automatically injected into the page.\n",
       "function render () {\n",
       "    const nodes = new DataSet([{\"id\": 0, \"label\": \"0\", \"title\": \"0\"}, {\"id\": 1, \"label\": \"1\", \"title\": \"1\"}, {\"id\": 2, \"label\": \"2\", \"title\": \"2\"}, {\"id\": 3, \"label\": \"3\", \"title\": \"3\"}, {\"id\": 4, \"label\": \"4\", \"title\": \"4\"}]);\n",
       "    const edges = new DataSet([{\"title\": \"0: (0, 1)\", \"label\": \"\", \"from\": 0, \"to\": 1}, {\"title\": \"1: (0, 2)\", \"label\": \"\", \"from\": 0, \"to\": 2}, {\"title\": \"2: (1, 2)\", \"label\": \"\", \"from\": 1, \"to\": 2}, {\"title\": \"3: (1, 4)\", \"label\": \"\", \"from\": 1, \"to\": 4}, {\"title\": \"4: (2, 3)\", \"label\": \"\", \"from\": 2, \"to\": 3}, {\"title\": \"5: (3, 4)\", \"label\": \"\", \"from\": 3, \"to\": 4}]);\n",
       "    const data = {\n",
       "            nodes: nodes,\n",
       "            edges: edges,\n",
       "    };\n",
       "    const options = {\"interaction\": {\"navigationButtons\": false}, \"width\": \"100%\", \"height\": \"200px\"};\n",
       "    const container = document.getElementById('f3370fe0-62d2-4279-a5b5-1d4f2dfdc114');\n",
       "    const network = new Network(container, data, options);\n",
       "    network.fit({maxZoomLevel: 10});\n",
       "    network.redraw();\n",
       "}\n",
       "\n",
       "render();\n",
       "document.getElementById('fit-f3370fe0-62d2-4279-a5b5-1d4f2dfdc114').addEventListener('click', function(event) {\n",
       "    event.preventDefault();  // Prevent page jump\n",
       "    render(); // Adjust zoom limit as needed\n",
       "});\n",
       "</script>\n"
      ],
      "text/plain": [
       "<IPython.core.display.HTML object>"
      ]
     },
     "metadata": {},
     "output_type": "display_data"
    }
   ],
   "source": [
    "# House\n",
    "sm.concatenate([sm.Cycle(), sm.Cycle(4)], 2).show_graph(vis_options={\"height\": 200})"
   ]
  },
  {
   "cell_type": "code",
   "execution_count": 43,
   "metadata": {
    "ExecuteTime": {
     "end_time": "2022-01-24T14:53:18.669017Z",
     "start_time": "2022-01-24T14:53:18.642464Z"
    },
    "execution": {
     "iopub.execute_input": "2025-09-27T08:33:26.659091Z",
     "iopub.status.busy": "2025-09-27T08:33:26.659091Z",
     "iopub.status.idle": "2025-09-27T08:33:26.664362Z",
     "shell.execute_reply": "2025-09-27T08:33:26.664362Z",
     "shell.execute_reply.started": "2025-09-27T08:33:26.659091Z"
    }
   },
   "outputs": [
    {
     "data": {
      "text/html": [
       "\n",
       "<div class=\"sm-graph\" id=\"box-96efb90b-cd56-4ebd-a576-7dd9648fc566\">\n",
       "<div id=\"96efb90b-cd56-4ebd-a576-7dd9648fc566\"></div>\n",
       "<a href=\"#\" id=\"fit-96efb90b-cd56-4ebd-a576-7dd9648fc566\"\n",
       "  style=\"position: absolute; left: 10px; bottom: 10px; text-decoration: none; color: #888; font-size: min(2vw, 10px);\n",
       "  z-index: 10; pointer-events: auto;\"\n",
       "> Reload\n",
       "</a>\n",
       "<style>\n",
       "#box-96efb90b-cd56-4ebd-a576-7dd9648fc566 {\n",
       "position: relative;\n",
       "width: 100%;\n",
       "height: 200px !important;\n",
       "max-width: 100vw;\n",
       "max-height: 100vh !important;\n",
       "}\n",
       "#96efb90b-cd56-4ebd-a576-7dd9648fc566 {\n",
       "  height: 100%;   /* Make the inner div fill the parent */\n",
       "}\n",
       "</style>\n",
       "</div>\n",
       "<script type=\"module\">\n",
       "import { DataSet, Network } from \"https://unpkg.com/vis-network/standalone/esm/vis-network.min.js\";\n",
       "// CSS will be automatically injected into the page.\n",
       "function render () {\n",
       "    const nodes = new DataSet([{\"id\": 0, \"label\": \"0\", \"title\": \"0\"}, {\"id\": 1, \"label\": \"1\", \"title\": \"1\"}, {\"id\": 2, \"label\": \"2\", \"title\": \"2\"}, {\"id\": 3, \"label\": \"3\", \"title\": \"3\"}, {\"id\": 4, \"label\": \"4\", \"title\": \"4\"}]);\n",
       "    const edges = new DataSet([{\"title\": \"0: (0, 1)\", \"label\": \"\", \"from\": 0, \"to\": 1}, {\"title\": \"1: (0, 2)\", \"label\": \"\", \"from\": 0, \"to\": 2}, {\"title\": \"2: (1, 2)\", \"label\": \"\", \"from\": 1, \"to\": 2}, {\"title\": \"3: (1, 3)\", \"label\": \"\", \"from\": 1, \"to\": 3}, {\"title\": \"4: (1, 4)\", \"label\": \"\", \"from\": 1, \"to\": 4}, {\"title\": \"5: (2, 3)\", \"label\": \"\", \"from\": 2, \"to\": 3}, {\"title\": \"6: (2, 4)\", \"label\": \"\", \"from\": 2, \"to\": 4}, {\"title\": \"7: (3, 4)\", \"label\": \"\", \"from\": 3, \"to\": 4}]);\n",
       "    const data = {\n",
       "            nodes: nodes,\n",
       "            edges: edges,\n",
       "    };\n",
       "    const options = {\"interaction\": {\"navigationButtons\": false}, \"width\": \"100%\", \"height\": \"200px\"};\n",
       "    const container = document.getElementById('96efb90b-cd56-4ebd-a576-7dd9648fc566');\n",
       "    const network = new Network(container, data, options);\n",
       "    network.fit({maxZoomLevel: 10});\n",
       "    network.redraw();\n",
       "}\n",
       "\n",
       "render();\n",
       "document.getElementById('fit-96efb90b-cd56-4ebd-a576-7dd9648fc566').addEventListener('click', function(event) {\n",
       "    event.preventDefault();  // Prevent page jump\n",
       "    render(); // Adjust zoom limit as needed\n",
       "});\n",
       "</script>\n"
      ],
      "text/plain": [
       "<IPython.core.display.HTML object>"
      ]
     },
     "metadata": {},
     "output_type": "display_data"
    }
   ],
   "source": [
    "# Barred house\n",
    "sm.concatenate([sm.Cycle(), sm.Complete(4)], 2).show_graph(vis_options={\"height\": 200})"
   ]
  },
  {
   "cell_type": "code",
   "execution_count": 44,
   "metadata": {
    "ExecuteTime": {
     "end_time": "2022-01-24T14:53:18.684692Z",
     "start_time": "2022-01-24T14:53:18.671658Z"
    },
    "execution": {
     "iopub.execute_input": "2025-09-27T08:33:26.665469Z",
     "iopub.status.busy": "2025-09-27T08:33:26.665469Z",
     "iopub.status.idle": "2025-09-27T08:33:26.671476Z",
     "shell.execute_reply": "2025-09-27T08:33:26.671476Z",
     "shell.execute_reply.started": "2025-09-27T08:33:26.665469Z"
    }
   },
   "outputs": [
    {
     "data": {
      "text/html": [
       "\n",
       "<div class=\"sm-graph\" id=\"box-4cb97527-1deb-4ed6-9e97-69f6e0fa3377\">\n",
       "<div id=\"4cb97527-1deb-4ed6-9e97-69f6e0fa3377\"></div>\n",
       "<a href=\"#\" id=\"fit-4cb97527-1deb-4ed6-9e97-69f6e0fa3377\"\n",
       "  style=\"position: absolute; left: 10px; bottom: 10px; text-decoration: none; color: #888; font-size: min(2vw, 10px);\n",
       "  z-index: 10; pointer-events: auto;\"\n",
       "> Reload\n",
       "</a>\n",
       "<style>\n",
       "#box-4cb97527-1deb-4ed6-9e97-69f6e0fa3377 {\n",
       "position: relative;\n",
       "width: 100%;\n",
       "height: 200px !important;\n",
       "max-width: 100vw;\n",
       "max-height: 100vh !important;\n",
       "}\n",
       "#4cb97527-1deb-4ed6-9e97-69f6e0fa3377 {\n",
       "  height: 100%;   /* Make the inner div fill the parent */\n",
       "}\n",
       "</style>\n",
       "</div>\n",
       "<script type=\"module\">\n",
       "import { DataSet, Network } from \"https://unpkg.com/vis-network/standalone/esm/vis-network.min.js\";\n",
       "// CSS will be automatically injected into the page.\n",
       "function render () {\n",
       "    const nodes = new DataSet([{\"id\": 0, \"label\": \"0\", \"title\": \"0\"}, {\"id\": 1, \"label\": \"1\", \"title\": \"1\"}, {\"id\": 2, \"label\": \"2\", \"title\": \"2\"}, {\"id\": 3, \"label\": \"3\", \"title\": \"3\"}, {\"id\": 4, \"label\": \"4\", \"title\": \"4\"}, {\"id\": 5, \"label\": \"5\", \"title\": \"5\"}, {\"id\": 6, \"label\": \"6\", \"title\": \"6\"}]);\n",
       "    const edges = new DataSet([{\"title\": \"0: (0, 1)\", \"label\": \"\", \"from\": 0, \"to\": 1}, {\"title\": \"1: (0, 2)\", \"label\": \"\", \"from\": 0, \"to\": 2}, {\"title\": \"2: (1, 2)\", \"label\": \"\", \"from\": 1, \"to\": 2}, {\"title\": \"3: (2, 3)\", \"label\": \"\", \"from\": 2, \"to\": 3}, {\"title\": \"4: (2, 4)\", \"label\": \"\", \"from\": 2, \"to\": 4}, {\"title\": \"5: (3, 4)\", \"label\": \"\", \"from\": 3, \"to\": 4}, {\"title\": \"6: (3, 6)\", \"label\": \"\", \"from\": 3, \"to\": 6}, {\"title\": \"7: (4, 5)\", \"label\": \"\", \"from\": 4, \"to\": 5}, {\"title\": \"8: (5, 6)\", \"label\": \"\", \"from\": 5, \"to\": 6}]);\n",
       "    const data = {\n",
       "            nodes: nodes,\n",
       "            edges: edges,\n",
       "    };\n",
       "    const options = {\"interaction\": {\"navigationButtons\": false}, \"width\": \"100%\", \"height\": \"200px\"};\n",
       "    const container = document.getElementById('4cb97527-1deb-4ed6-9e97-69f6e0fa3377');\n",
       "    const network = new Network(container, data, options);\n",
       "    network.fit({maxZoomLevel: 10});\n",
       "    network.redraw();\n",
       "}\n",
       "\n",
       "render();\n",
       "document.getElementById('fit-4cb97527-1deb-4ed6-9e97-69f6e0fa3377').addEventListener('click', function(event) {\n",
       "    event.preventDefault();  // Prevent page jump\n",
       "    render(); // Adjust zoom limit as needed\n",
       "});\n",
       "</script>\n"
      ],
      "text/plain": [
       "<IPython.core.display.HTML object>"
      ]
     },
     "metadata": {},
     "output_type": "display_data"
    }
   ],
   "source": [
    "# House with a triangle on top\n",
    "sm.concatenate([sm.Cycle(), sm.Cycle(), sm.Cycle(4)], [1, 2]).show_graph(\n",
    "    vis_options={\"height\": 200}\n",
    ")"
   ]
  },
  {
   "cell_type": "markdown",
   "metadata": {},
   "source": [
    "For some examples proposed in https://hal.archives-ouvertes.fr/hal-03502084, direct shortcut is provided:\n",
    "- the co-domino graph;\n",
    "- the *Egyptian pyramid* graph (please see the above paper for the origin of the name."
   ]
  },
  {
   "cell_type": "code",
   "execution_count": 45,
   "metadata": {
    "ExecuteTime": {
     "end_time": "2022-01-24T14:53:18.700147Z",
     "start_time": "2022-01-24T14:53:18.686323Z"
    },
    "execution": {
     "iopub.execute_input": "2025-09-27T08:33:26.671476Z",
     "iopub.status.busy": "2025-09-27T08:33:26.671476Z",
     "iopub.status.idle": "2025-09-27T08:33:26.676137Z",
     "shell.execute_reply": "2025-09-27T08:33:26.676137Z",
     "shell.execute_reply.started": "2025-09-27T08:33:26.671476Z"
    }
   },
   "outputs": [
    {
     "data": {
      "text/html": [
       "\n",
       "<div class=\"sm-graph\" id=\"box-fbfed4ce-018f-45f5-b6f5-b044e12d8a0c\">\n",
       "<div id=\"fbfed4ce-018f-45f5-b6f5-b044e12d8a0c\"></div>\n",
       "<a href=\"#\" id=\"fit-fbfed4ce-018f-45f5-b6f5-b044e12d8a0c\"\n",
       "  style=\"position: absolute; left: 10px; bottom: 10px; text-decoration: none; color: #888; font-size: min(2vw, 10px);\n",
       "  z-index: 10; pointer-events: auto;\"\n",
       "> Reload\n",
       "</a>\n",
       "<style>\n",
       "#box-fbfed4ce-018f-45f5-b6f5-b044e12d8a0c {\n",
       "position: relative;\n",
       "width: 100%;\n",
       "height: 200px !important;\n",
       "max-width: 100vw;\n",
       "max-height: 100vh !important;\n",
       "}\n",
       "#fbfed4ce-018f-45f5-b6f5-b044e12d8a0c {\n",
       "  height: 100%;   /* Make the inner div fill the parent */\n",
       "}\n",
       "</style>\n",
       "</div>\n",
       "<script type=\"module\">\n",
       "import { DataSet, Network } from \"https://unpkg.com/vis-network/standalone/esm/vis-network.min.js\";\n",
       "// CSS will be automatically injected into the page.\n",
       "function render () {\n",
       "    const nodes = new DataSet([{\"id\": 0, \"label\": \"0\", \"title\": \"0\"}, {\"id\": 1, \"label\": \"1\", \"title\": \"1\"}, {\"id\": 2, \"label\": \"2\", \"title\": \"2\"}, {\"id\": 3, \"label\": \"3\", \"title\": \"3\"}, {\"id\": 4, \"label\": \"4\", \"title\": \"4\"}, {\"id\": 5, \"label\": \"5\", \"title\": \"5\"}]);\n",
       "    const edges = new DataSet([{\"title\": \"0: (0, 1)\", \"label\": \"\", \"from\": 0, \"to\": 1}, {\"title\": \"1: (0, 2)\", \"label\": \"\", \"from\": 0, \"to\": 2}, {\"title\": \"2: (1, 2)\", \"label\": \"\", \"from\": 1, \"to\": 2}, {\"title\": \"3: (1, 4)\", \"label\": \"\", \"from\": 1, \"to\": 4}, {\"title\": \"4: (2, 3)\", \"label\": \"\", \"from\": 2, \"to\": 3}, {\"title\": \"5: (3, 4)\", \"label\": \"\", \"from\": 3, \"to\": 4}, {\"title\": \"6: (3, 5)\", \"label\": \"\", \"from\": 3, \"to\": 5}, {\"title\": \"7: (4, 5)\", \"label\": \"\", \"from\": 4, \"to\": 5}]);\n",
       "    const data = {\n",
       "            nodes: nodes,\n",
       "            edges: edges,\n",
       "    };\n",
       "    const options = {\"interaction\": {\"navigationButtons\": false}, \"width\": \"100%\", \"height\": \"200px\"};\n",
       "    const container = document.getElementById('fbfed4ce-018f-45f5-b6f5-b044e12d8a0c');\n",
       "    const network = new Network(container, data, options);\n",
       "    network.fit({maxZoomLevel: 10});\n",
       "    network.redraw();\n",
       "}\n",
       "\n",
       "render();\n",
       "document.getElementById('fit-fbfed4ce-018f-45f5-b6f5-b044e12d8a0c').addEventListener('click', function(event) {\n",
       "    event.preventDefault();  // Prevent page jump\n",
       "    render(); // Adjust zoom limit as needed\n",
       "});\n",
       "</script>\n"
      ],
      "text/plain": [
       "<IPython.core.display.HTML object>"
      ]
     },
     "metadata": {},
     "output_type": "display_data"
    }
   ],
   "source": [
    "# Codomino\n",
    "sm.Codomino().show_graph(vis_options={\"height\": 200})"
   ]
  },
  {
   "cell_type": "code",
   "execution_count": 46,
   "metadata": {
    "ExecuteTime": {
     "end_time": "2022-01-24T14:53:18.716360Z",
     "start_time": "2022-01-24T14:53:18.702166Z"
    },
    "execution": {
     "iopub.execute_input": "2025-09-27T08:33:26.677143Z",
     "iopub.status.busy": "2025-09-27T08:33:26.676137Z",
     "iopub.status.idle": "2025-09-27T08:33:26.680435Z",
     "shell.execute_reply": "2025-09-27T08:33:26.680435Z",
     "shell.execute_reply.started": "2025-09-27T08:33:26.677143Z"
    }
   },
   "outputs": [
    {
     "data": {
      "text/html": [
       "\n",
       "<div class=\"sm-graph\" id=\"box-296b44f5-44f5-4f1b-8ae7-c54e717d344b\">\n",
       "<div id=\"296b44f5-44f5-4f1b-8ae7-c54e717d344b\"></div>\n",
       "<a href=\"#\" id=\"fit-296b44f5-44f5-4f1b-8ae7-c54e717d344b\"\n",
       "  style=\"position: absolute; left: 10px; bottom: 10px; text-decoration: none; color: #888; font-size: min(2vw, 10px);\n",
       "  z-index: 10; pointer-events: auto;\"\n",
       "> Reload\n",
       "</a>\n",
       "<style>\n",
       "#box-296b44f5-44f5-4f1b-8ae7-c54e717d344b {\n",
       "position: relative;\n",
       "width: 100%;\n",
       "height: 200px !important;\n",
       "max-width: 100vw;\n",
       "max-height: 100vh !important;\n",
       "}\n",
       "#296b44f5-44f5-4f1b-8ae7-c54e717d344b {\n",
       "  height: 100%;   /* Make the inner div fill the parent */\n",
       "}\n",
       "</style>\n",
       "</div>\n",
       "<script type=\"module\">\n",
       "import { DataSet, Network } from \"https://unpkg.com/vis-network/standalone/esm/vis-network.min.js\";\n",
       "// CSS will be automatically injected into the page.\n",
       "function render () {\n",
       "    const nodes = new DataSet([{\"id\": 0, \"label\": \"0\", \"title\": \"0\"}, {\"id\": 1, \"label\": \"1\", \"title\": \"1\"}, {\"id\": 2, \"label\": \"2\", \"title\": \"2\"}, {\"id\": 3, \"label\": \"3\", \"title\": \"3\"}, {\"id\": 4, \"label\": \"4\", \"title\": \"4\"}, {\"id\": 5, \"label\": \"5\", \"title\": \"5\"}, {\"id\": 6, \"label\": \"6\", \"title\": \"6\"}, {\"id\": 7, \"label\": \"7\", \"title\": \"7\"}, {\"id\": 8, \"label\": \"8\", \"title\": \"8\"}, {\"id\": 9, \"label\": \"9\", \"title\": \"9\"}]);\n",
       "    const edges = new DataSet([{\"title\": \"0: (0, 1)\", \"label\": \"\", \"from\": 0, \"to\": 1}, {\"title\": \"1: (0, 2)\", \"label\": \"\", \"from\": 0, \"to\": 2}, {\"title\": \"2: (1, 2)\", \"label\": \"\", \"from\": 1, \"to\": 2}, {\"title\": \"3: (1, 5)\", \"label\": \"\", \"from\": 1, \"to\": 5}, {\"title\": \"4: (2, 3)\", \"label\": \"\", \"from\": 2, \"to\": 3}, {\"title\": \"5: (3, 4)\", \"label\": \"\", \"from\": 3, \"to\": 4}, {\"title\": \"6: (4, 5)\", \"label\": \"\", \"from\": 4, \"to\": 5}, {\"title\": \"7: (4, 8)\", \"label\": \"\", \"from\": 4, \"to\": 8}, {\"title\": \"8: (5, 6)\", \"label\": \"\", \"from\": 5, \"to\": 6}, {\"title\": \"9: (6, 7)\", \"label\": \"\", \"from\": 6, \"to\": 7}, {\"title\": \"10: (7, 8)\", \"label\": \"\", \"from\": 7, \"to\": 8}, {\"title\": \"11: (7, 9)\", \"label\": \"\", \"from\": 7, \"to\": 9}, {\"title\": \"12: (8, 9)\", \"label\": \"\", \"from\": 8, \"to\": 9}]);\n",
       "    const data = {\n",
       "            nodes: nodes,\n",
       "            edges: edges,\n",
       "    };\n",
       "    const options = {\"interaction\": {\"navigationButtons\": false}, \"width\": \"100%\", \"height\": \"200px\"};\n",
       "    const container = document.getElementById('296b44f5-44f5-4f1b-8ae7-c54e717d344b');\n",
       "    const network = new Network(container, data, options);\n",
       "    network.fit({maxZoomLevel: 10});\n",
       "    network.redraw();\n",
       "}\n",
       "\n",
       "render();\n",
       "document.getElementById('fit-296b44f5-44f5-4f1b-8ae7-c54e717d344b').addEventListener('click', function(event) {\n",
       "    event.preventDefault();  // Prevent page jump\n",
       "    render(); // Adjust zoom limit as needed\n",
       "});\n",
       "</script>\n"
      ],
      "text/plain": [
       "<IPython.core.display.HTML object>"
      ]
     },
     "metadata": {},
     "output_type": "display_data"
    }
   ],
   "source": [
    "# Pyramid\n",
    "sm.Pyramid().show_graph(vis_options={\"height\": 200})"
   ]
  },
  {
   "cell_type": "markdown",
   "metadata": {},
   "source": [
    "### Package logo"
   ]
  },
  {
   "cell_type": "markdown",
   "metadata": {},
   "source": [
    "The logo of `stochastic matching` was made with `stochastic matching`. Here is the code that produced the big version."
   ]
  },
  {
   "cell_type": "code",
   "execution_count": 47,
   "metadata": {
    "ExecuteTime": {
     "end_time": "2022-01-24T14:53:18.747856Z",
     "start_time": "2022-01-24T14:53:18.717878Z"
    },
    "execution": {
     "iopub.execute_input": "2025-09-27T08:33:26.680435Z",
     "iopub.status.busy": "2025-09-27T08:33:26.680435Z",
     "iopub.status.idle": "2025-09-27T08:33:26.688934Z",
     "shell.execute_reply": "2025-09-27T08:33:26.688934Z",
     "shell.execute_reply.started": "2025-09-27T08:33:26.680435Z"
    }
   },
   "outputs": [
    {
     "data": {
      "text/html": [
       "\n",
       "<div class=\"sm-graph\" id=\"box-320a358d-2a71-49ce-bcf2-42665c289f8b\">\n",
       "<div id=\"320a358d-2a71-49ce-bcf2-42665c289f8b\"></div>\n",
       "<a href=\"#\" id=\"fit-320a358d-2a71-49ce-bcf2-42665c289f8b\"\n",
       "  style=\"position: absolute; left: 10px; bottom: 10px; text-decoration: none; color: #888; font-size: min(2vw, 10px);\n",
       "  z-index: 10; pointer-events: auto;\"\n",
       "> Reload\n",
       "</a>\n",
       "<style>\n",
       "#box-320a358d-2a71-49ce-bcf2-42665c289f8b {\n",
       "position: relative;\n",
       "width: 100%;\n",
       "height: 50vh !important;\n",
       "max-width: 100vw;\n",
       "max-height: 100vh !important;\n",
       "}\n",
       "#320a358d-2a71-49ce-bcf2-42665c289f8b {\n",
       "  height: 100%;   /* Make the inner div fill the parent */\n",
       "}\n",
       "</style>\n",
       "</div>\n",
       "<script type=\"module\">\n",
       "import { DataSet, Network } from \"https://unpkg.com/vis-network/standalone/esm/vis-network.min.js\";\n",
       "// CSS will be automatically injected into the page.\n",
       "function render () {\n",
       "    const nodes = new DataSet([{\"id\": 0, \"label\": \"S\", \"title\": \"0: S\", \"color\": {\"background\": \"rgba(128, 0, 256, 1)\"}, \"font\": {\"color\": \"black\"}}, {\"id\": 1, \"label\": \"t\", \"title\": \"1: t\", \"color\": {\"background\": \"rgba(71, 87, 252, 1)\"}, \"font\": {\"color\": \"black\"}}, {\"id\": 2, \"label\": \"o\", \"title\": \"2: o\", \"color\": {\"background\": \"rgba(14, 164, 240, 1)\"}, \"font\": {\"color\": \"black\"}}, {\"id\": 3, \"label\": \"c\", \"title\": \"3: c\", \"color\": {\"background\": \"rgba(42, 221, 221, 1)\"}, \"font\": {\"color\": \"black\"}}, {\"id\": 4, \"label\": \"h\", \"title\": \"4: h\", \"color\": {\"background\": \"rgba(99, 252, 196, 1)\"}, \"font\": {\"color\": \"black\"}}, {\"id\": 5, \"label\": \"a\", \"title\": \"5: a\", \"color\": {\"background\": \"rgba(156, 252, 164, 1)\"}, \"font\": {\"color\": \"black\"}}, {\"id\": 6, \"label\": \"s\", \"title\": \"6: s\", \"color\": {\"background\": \"rgba(213, 221, 128, 1)\"}, \"font\": {\"color\": \"black\"}}, {\"id\": 7, \"label\": \"t\", \"title\": \"7: t\", \"color\": {\"background\": \"rgba(256, 164, 87, 1)\"}, \"font\": {\"color\": \"black\"}}, {\"id\": 8, \"label\": \"i\", \"title\": \"8: i\", \"color\": {\"background\": \"rgba(256, 87, 44, 1)\"}, \"font\": {\"color\": \"black\"}}, {\"id\": 9, \"label\": \"c\", \"title\": \"9: c\", \"color\": {\"background\": \"rgba(256, 0, 0, 1)\"}, \"font\": {\"color\": \"black\"}}, {\"id\": 10, \"label\": \"M\", \"title\": \"10: M\", \"color\": {\"background\": \"rgba(256, 0, 0, 1)\"}, \"font\": {\"color\": \"white\"}}, {\"id\": 11, \"label\": \"a\", \"title\": \"11: a\", \"color\": {\"background\": \"rgba(256, 111, 56, 1)\"}, \"font\": {\"color\": \"white\"}}, {\"id\": 12, \"label\": \"t\", \"title\": \"12: t\", \"color\": {\"background\": \"rgba(237, 200, 111, 1)\"}, \"font\": {\"color\": \"white\"}}, {\"id\": 13, \"label\": \"c\", \"title\": \"13: c\", \"color\": {\"background\": \"rgba(164, 249, 159, 1)\"}, \"font\": {\"color\": \"white\"}}, {\"id\": 14, \"label\": \"h\", \"title\": \"14: h\", \"color\": {\"background\": \"rgba(91, 249, 200, 1)\"}, \"font\": {\"color\": \"white\"}}, {\"id\": 15, \"label\": \"i\", \"title\": \"15: i\", \"color\": {\"background\": \"rgba(18, 200, 230, 1)\"}, \"font\": {\"color\": \"white\"}}, {\"id\": 16, \"label\": \"n\", \"title\": \"16: n\", \"color\": {\"background\": \"rgba(54, 111, 249, 1)\"}, \"font\": {\"color\": \"white\"}}, {\"id\": 17, \"label\": \"g\", \"title\": \"17: g\", \"color\": {\"background\": \"rgba(128, 0, 256, 1)\"}, \"font\": {\"color\": \"white\"}}]);\n",
       "    const edges = new DataSet([{\"title\": \"0: (S, t)\", \"label\": \"\", \"from\": 0, \"to\": 1}, {\"title\": \"1: (t, o)\", \"label\": \"\", \"from\": 1, \"to\": 2}, {\"title\": \"2: (t, a)\", \"label\": \"\", \"from\": 1, \"to\": 11}, {\"title\": \"3: (o, c)\", \"label\": \"\", \"from\": 2, \"to\": 3}, {\"title\": \"4: (c, h)\", \"label\": \"\", \"from\": 3, \"to\": 4}, {\"title\": \"5: (c, t)\", \"label\": \"\", \"from\": 3, \"to\": 12}, {\"title\": \"6: (h, a)\", \"label\": \"\", \"from\": 4, \"to\": 5}, {\"title\": \"7: (a, s)\", \"label\": \"\", \"from\": 5, \"to\": 6}, {\"title\": \"8: (a, i)\", \"label\": \"\", \"from\": 5, \"to\": 15}, {\"title\": \"9: (s, t)\", \"label\": \"\", \"from\": 6, \"to\": 7}, {\"title\": \"10: (t, i)\", \"label\": \"\", \"from\": 7, \"to\": 8}, {\"title\": \"11: (t, n)\", \"label\": \"\", \"from\": 7, \"to\": 16}, {\"title\": \"12: (i, c)\", \"label\": \"\", \"from\": 8, \"to\": 9}, {\"title\": \"13: (M, a)\", \"label\": \"\", \"from\": 10, \"to\": 11}, {\"title\": \"14: (a, t)\", \"label\": \"\", \"from\": 11, \"to\": 12}, {\"title\": \"15: (t, c)\", \"label\": \"\", \"from\": 12, \"to\": 13}, {\"title\": \"16: (c, h)\", \"label\": \"\", \"from\": 13, \"to\": 14}, {\"title\": \"17: (h, i)\", \"label\": \"\", \"from\": 14, \"to\": 15}, {\"title\": \"18: (i, n)\", \"label\": \"\", \"from\": 15, \"to\": 16}, {\"title\": \"19: (n, g)\", \"label\": \"\", \"from\": 16, \"to\": 17}]);\n",
       "    const data = {\n",
       "            nodes: nodes,\n",
       "            edges: edges,\n",
       "    };\n",
       "    const options = {\"interaction\": {\"navigationButtons\": false}, \"width\": \"1000px\", \"height\": \"100%\", \"nodes\": {\"font\": {\"size\": 80}}};\n",
       "    const container = document.getElementById('320a358d-2a71-49ce-bcf2-42665c289f8b');\n",
       "    const network = new Network(container, data, options);\n",
       "    network.fit({maxZoomLevel: 10});\n",
       "    network.redraw();\n",
       "}\n",
       "\n",
       "render();\n",
       "document.getElementById('fit-320a358d-2a71-49ce-bcf2-42665c289f8b').addEventListener('click', function(event) {\n",
       "    event.preventDefault();  // Prevent page jump\n",
       "    render(); // Adjust zoom limit as needed\n",
       "});\n",
       "</script>\n"
      ],
      "text/plain": [
       "<IPython.core.display.HTML object>"
      ]
     },
     "metadata": {},
     "output_type": "display_data"
    }
   ],
   "source": [
    "import numpy as np\n",
    "from matplotlib import pyplot as plt\n",
    "from stochastic_matching.graphs import concatenate_adjacency, path_adjacency\n",
    "\n",
    "\n",
    "def random_color(n=100, i=None, name=\"rainbow\"):\n",
    "    if i is None:\n",
    "        i = np.random.randint(n)\n",
    "    r, g, b, a = plt.get_cmap(name, n)(i)\n",
    "    return f\"rgba({int(256 * r)}, {int(256 * g)}, {int(256 * b)}, 1)\"\n",
    "\n",
    "\n",
    "adja = concatenate_adjacency([path_adjacency(10), path_adjacency(8)], 0)\n",
    "for i, j in [(1, 11), (16, 7), (5, 15), (12, 3)]:\n",
    "    adja[i, j] = 1\n",
    "    adja[j, i] = 1\n",
    "\n",
    "g = sm.Model(adjacency=adja, names=[c for c in \"StochasticMatching\"])\n",
    "nodes_dict1 = [\n",
    "    {\"color\": {\"background\": random_color(10, i)}, \"font\": {\"color\": \"black\"}}\n",
    "    for i in range(10)\n",
    "]\n",
    "nodes_dict2 = [\n",
    "    {\"color\": {\"background\": random_color(8, 8 - i - 1)}, \"font\": {\"color\": \"white\"}}\n",
    "    for i in range(8)\n",
    "]\n",
    "options = {\"width\": \"1000px\", \"nodes\": {\"font\": {\"size\": 80}}}\n",
    "g.show_graph(nodes_info=nodes_dict1 + nodes_dict2, vis_options=options)"
   ]
  },
  {
   "cell_type": "markdown",
   "metadata": {},
   "source": [
    "An here is the code for the short version. Note the option `png=True` which creates a mirror png image that can be saved!"
   ]
  },
  {
   "cell_type": "code",
   "execution_count": 48,
   "metadata": {
    "ExecuteTime": {
     "end_time": "2022-01-24T14:53:18.764079Z",
     "start_time": "2022-01-24T14:53:18.749693Z"
    },
    "execution": {
     "iopub.execute_input": "2025-09-27T08:33:26.689944Z",
     "iopub.status.busy": "2025-09-27T08:33:26.688934Z",
     "iopub.status.idle": "2025-09-27T08:33:26.695900Z",
     "shell.execute_reply": "2025-09-27T08:33:26.695900Z",
     "shell.execute_reply.started": "2025-09-27T08:33:26.689944Z"
    }
   },
   "outputs": [
    {
     "data": {
      "text/html": [
       "\n",
       "<div id=\"bd394c5e-393a-465e-b579-c35ebf151cc0\"></div>\n",
       "<img id=\"bd394c5e-393a-465e-b579-c35ebf151cc0-canvasImg\" alt=\"Right click to save me!\">\n",
       "<script>\n",
       "// Universal function that loads vis.js only once\n",
       "function loadVis(url, callback) {\n",
       "  if (window.vis) {\n",
       "    console.log(\"vis-network already loaded\");\n",
       "    callback();\n",
       "    return;\n",
       "  }\n",
       "  // Lookup other loads in progress\n",
       "  if (document.querySelector('script[data-vis-loaded]')) {\n",
       "    // Script is loaded, wait until it is ready\n",
       "    var check = setInterval(function() {\n",
       "      if (window.vis) {\n",
       "        clearInterval(check);\n",
       "        console.log(\"vis-network sideload completed\");\n",
       "        callback();\n",
       "      }\n",
       "    }, 20);\n",
       "    return;\n",
       "  }\n",
       "  // Add the script to the page, callback called when loaded\n",
       "  var script = document.createElement('script');\n",
       "  script.src = url;\n",
       "  script.async = true;\n",
       "  script.setAttribute('data-vis-loaded', '1');\n",
       "  script.onload = callback;\n",
       "  document.head.appendChild(script);\n",
       "  console.log('vis-network dynamically loaded');\n",
       "}\n",
       "\n",
       "// Start display when vis is loaded\n",
       "loadVis('https://unpkg.com/vis-network/standalone/umd/vis-network.min', function() {\n",
       "  var nodes = [{\"id\": 0, \"label\": \"S\", \"title\": \"0: S\", \"color\": {\"background\": \"rgba(128, 0, 256, 1)\"}, \"font\": {\"color\": \"black\"}}, {\"id\": 1, \"label\": \"t\", \"title\": \"1: t\", \"color\": {\"background\": \"rgba(0, 181, 236, 1)\"}, \"font\": {\"color\": \"black\"}}, {\"id\": 2, \"label\": \"o\", \"title\": \"2: o\", \"color\": {\"background\": \"rgba(128, 256, 181, 1)\"}, \"font\": {\"color\": \"black\"}}, {\"id\": 3, \"label\": \"c\", \"title\": \"3: c\", \"color\": {\"background\": \"rgba(256, 181, 97, 1)\"}, \"font\": {\"color\": \"black\"}}, {\"id\": 4, \"label\": \"h\", \"title\": \"4: h\", \"color\": {\"background\": \"rgba(256, 0, 0, 1)\"}, \"font\": {\"color\": \"black\"}}, {\"id\": 5, \"label\": \"M\", \"title\": \"5: M\", \"color\": {\"background\": \"rgba(256, 0, 0, 1)\"}, \"font\": {\"color\": \"white\"}}, {\"id\": 6, \"label\": \"a\", \"title\": \"6: a\", \"color\": {\"background\": \"rgba(256, 181, 97, 1)\"}, \"font\": {\"color\": \"white\"}}, {\"id\": 7, \"label\": \"t\", \"title\": \"7: t\", \"color\": {\"background\": \"rgba(128, 256, 181, 1)\"}, \"font\": {\"color\": \"white\"}}, {\"id\": 8, \"label\": \"c\", \"title\": \"8: c\", \"color\": {\"background\": \"rgba(0, 181, 236, 1)\"}, \"font\": {\"color\": \"white\"}}, {\"id\": 9, \"label\": \"h\", \"title\": \"9: h\", \"color\": {\"background\": \"rgba(128, 0, 256, 1)\"}, \"font\": {\"color\": \"white\"}}];\n",
       "  var edges = [{\"title\": \"0: (S, t)\", \"label\": \"\", \"from\": 0, \"to\": 1}, {\"title\": \"1: (t, o)\", \"label\": \"\", \"from\": 1, \"to\": 2}, {\"title\": \"2: (t, a)\", \"label\": \"\", \"from\": 1, \"to\": 6}, {\"title\": \"3: (o, c)\", \"label\": \"\", \"from\": 2, \"to\": 3}, {\"title\": \"4: (o, a)\", \"label\": \"\", \"from\": 2, \"to\": 6}, {\"title\": \"5: (c, h)\", \"label\": \"\", \"from\": 3, \"to\": 4}, {\"title\": \"6: (c, t)\", \"label\": \"\", \"from\": 3, \"to\": 7}, {\"title\": \"7: (c, c)\", \"label\": \"\", \"from\": 3, \"to\": 8}, {\"title\": \"8: (M, a)\", \"label\": \"\", \"from\": 5, \"to\": 6}, {\"title\": \"9: (a, t)\", \"label\": \"\", \"from\": 6, \"to\": 7}, {\"title\": \"10: (t, c)\", \"label\": \"\", \"from\": 7, \"to\": 8}, {\"title\": \"11: (c, h)\", \"label\": \"\", \"from\": 8, \"to\": 9}];\n",
       "  var data = {\n",
       "    nodes: nodes,\n",
       "    edges: edges,\n",
       "  };\n",
       "  var options = {\"interaction\": {\"navigationButtons\": false}, \"width\": \"1000px\", \"height\": \"100%\", \"nodes\": {\"font\": {\"size\": 80}}};\n",
       "  var container = document.getElementById('bd394c5e-393a-465e-b579-c35ebf151cc0');\n",
       "  var network = new vis.Network(container, data, options);\n",
       "  network.on(\"afterDrawing\", function (ctx) {\n",
       "      var dataURL = ctx.canvas.toDataURL();\n",
       "      document.getElementById('bd394c5e-393a-465e-b579-c35ebf151cc0-canvasImg').src = dataURL;\n",
       "    });\n",
       "  network.fit({ maxZoomLevel: 1000 });\n",
       "});\n",
       "</script>\n"
      ],
      "text/plain": [
       "<IPython.core.display.HTML object>"
      ]
     },
     "metadata": {},
     "output_type": "display_data"
    }
   ],
   "source": [
    "adja = concatenate_adjacency([path_adjacency(5), path_adjacency(5)], 0)\n",
    "for i, j in [(1, 6), (2, 6), (3, 7), (3, 8)]:\n",
    "    adja[i, j] = 1\n",
    "    adja[j, i] = 1\n",
    "g = sm.Model(adjacency=adja, names=[c for c in \"StochMatch\"])\n",
    "nodes_dict1 = [\n",
    "    {\"color\": {\"background\": random_color(5, i)}, \"font\": {\"color\": \"black\"}}\n",
    "    for i in range(5)\n",
    "]\n",
    "nodes_dict2 = [\n",
    "    {\"color\": {\"background\": random_color(5, 4 - i)}, \"font\": {\"color\": \"white\"}}\n",
    "    for i in range(5)\n",
    "]\n",
    "options = {\"width\": \"1000px\", \"nodes\": {\"font\": {\"size\": 80}}}\n",
    "g.show_graph(nodes_info=nodes_dict1 + nodes_dict2, vis_options=options, png=True)"
   ]
  },
  {
   "cell_type": "markdown",
   "metadata": {},
   "source": [
    "## Hypergraphs"
   ]
  },
  {
   "cell_type": "markdown",
   "metadata": {},
   "source": [
    "Hypergraph egdes can link an arbitrary number of nodes (nor necessarily 2). Hypergraphs mainly differ from simple graphs by the absence of adjacency matrix (only the incidence matrix is used) and a different way of been displayed."
   ]
  },
  {
   "cell_type": "markdown",
   "metadata": {},
   "source": [
    "### Simple graphs as hypergraphs"
   ]
  },
  {
   "cell_type": "markdown",
   "metadata": {},
   "source": [
    "All simple graphs are hypergraphs if you remove the adjacency. "
   ]
  },
  {
   "cell_type": "code",
   "execution_count": 49,
   "metadata": {
    "ExecuteTime": {
     "end_time": "2022-01-24T14:53:18.779512Z",
     "start_time": "2022-01-24T14:53:18.766288Z"
    },
    "execution": {
     "iopub.execute_input": "2025-09-27T08:33:26.696907Z",
     "iopub.status.busy": "2025-09-27T08:33:26.695900Z",
     "iopub.status.idle": "2025-09-27T08:33:26.700907Z",
     "shell.execute_reply": "2025-09-27T08:33:26.700907Z",
     "shell.execute_reply.started": "2025-09-27T08:33:26.696907Z"
    }
   },
   "outputs": [
    {
     "data": {
      "text/html": [
       "\n",
       "<div class=\"sm-graph\" id=\"box-e686b6ab-fca9-444b-9486-4d024f57f1df\">\n",
       "<div id=\"e686b6ab-fca9-444b-9486-4d024f57f1df\"></div>\n",
       "<a href=\"#\" id=\"fit-e686b6ab-fca9-444b-9486-4d024f57f1df\"\n",
       "  style=\"position: absolute; left: 10px; bottom: 10px; text-decoration: none; color: #888; font-size: min(2vw, 10px);\n",
       "  z-index: 10; pointer-events: auto;\"\n",
       "> Reload\n",
       "</a>\n",
       "<style>\n",
       "#box-e686b6ab-fca9-444b-9486-4d024f57f1df {\n",
       "position: relative;\n",
       "width: 100%;\n",
       "height: 200px !important;\n",
       "max-width: 100vw;\n",
       "max-height: 100vh !important;\n",
       "}\n",
       "#e686b6ab-fca9-444b-9486-4d024f57f1df {\n",
       "  height: 100%;   /* Make the inner div fill the parent */\n",
       "}\n",
       "</style>\n",
       "</div>\n",
       "<script type=\"module\">\n",
       "import { DataSet, Network } from \"https://unpkg.com/vis-network/standalone/esm/vis-network.min.js\";\n",
       "// CSS will be automatically injected into the page.\n",
       "function render () {\n",
       "    const nodes = new DataSet([{\"id\": 0, \"label\": \"0\", \"title\": \"0\", \"x\": 0, \"group\": \"Node\"}, {\"id\": 1, \"label\": \"1\", \"title\": \"1\", \"x\": 0, \"group\": \"Node\"}, {\"id\": 2, \"label\": \"2\", \"title\": \"2\", \"x\": 0, \"group\": \"Node\"}, {\"id\": 3, \"label\": \"3\", \"title\": \"3\", \"x\": 0, \"group\": \"Node\"}, {\"title\": \"0: (0, 1)\", \"label\": \"\", \"id\": 4, \"group\": \"HyperEdge\", \"x\": 600}, {\"title\": \"1: (0, 2)\", \"label\": \"\", \"id\": 5, \"group\": \"HyperEdge\", \"x\": 600}, {\"title\": \"2: (1, 2)\", \"label\": \"\", \"id\": 6, \"group\": \"HyperEdge\", \"x\": 600}, {\"title\": \"3: (2, 3)\", \"label\": \"\", \"id\": 7, \"group\": \"HyperEdge\", \"x\": 600}]);\n",
       "    const edges = new DataSet([{\"from\": 0, \"to\": 4, \"title\": \"0 <-> 0: (0, 1)\"}, {\"from\": 0, \"to\": 5, \"title\": \"0 <-> 1: (0, 2)\"}, {\"from\": 1, \"to\": 4, \"title\": \"1 <-> 0: (0, 1)\"}, {\"from\": 1, \"to\": 6, \"title\": \"1 <-> 2: (1, 2)\"}, {\"from\": 2, \"to\": 5, \"title\": \"2 <-> 1: (0, 2)\"}, {\"from\": 2, \"to\": 6, \"title\": \"2 <-> 2: (1, 2)\"}, {\"from\": 2, \"to\": 7, \"title\": \"2 <-> 3: (2, 3)\"}, {\"from\": 3, \"to\": 7, \"title\": \"3 <-> 3: (2, 3)\"}]);\n",
       "    const data = {\n",
       "            nodes: nodes,\n",
       "            edges: edges,\n",
       "    };\n",
       "    const options = {\"interaction\": {\"navigationButtons\": false}, \"width\": \"100%\", \"height\": \"200px\", \"groups\": {\"HyperEdge\": {\"fixed\": {\"x\": false}, \"color\": {\"background\": \"black\"}, \"shape\": \"dot\", \"size\": 5}, \"Node\": {\"fixed\": {\"x\": false}}}};\n",
       "    const container = document.getElementById('e686b6ab-fca9-444b-9486-4d024f57f1df');\n",
       "    const network = new Network(container, data, options);\n",
       "    network.fit({maxZoomLevel: 10});\n",
       "    network.redraw();\n",
       "}\n",
       "\n",
       "render();\n",
       "document.getElementById('fit-e686b6ab-fca9-444b-9486-4d024f57f1df').addEventListener('click', function(event) {\n",
       "    event.preventDefault();  // Prevent page jump\n",
       "    render(); // Adjust zoom limit as needed\n",
       "});\n",
       "</script>\n"
      ],
      "text/plain": [
       "<IPython.core.display.HTML object>"
      ]
     },
     "metadata": {},
     "output_type": "display_data"
    }
   ],
   "source": [
    "paw = sm.Tadpole()\n",
    "paw.adjacency = None\n",
    "paw.show_graph(vis_options={\"height\": 200})"
   ]
  },
  {
   "cell_type": "markdown",
   "metadata": {},
   "source": [
    ":::note\n",
    "\n",
    "Hypergraph convention: edges are represented by small black nodes, and the edges displayed alway link one single node to one edge. Also note that it is possible to make the bipartite structure between nodes and edges more apparent by passing the `bipartite` flag.\n",
    ":::"
   ]
  },
  {
   "cell_type": "code",
   "execution_count": 50,
   "metadata": {
    "ExecuteTime": {
     "end_time": "2022-01-24T14:53:18.825114Z",
     "start_time": "2022-01-24T14:53:18.781155Z"
    },
    "execution": {
     "iopub.execute_input": "2025-09-27T08:33:26.702000Z",
     "iopub.status.busy": "2025-09-27T08:33:26.702000Z",
     "iopub.status.idle": "2025-09-27T08:33:26.705445Z",
     "shell.execute_reply": "2025-09-27T08:33:26.705445Z",
     "shell.execute_reply.started": "2025-09-27T08:33:26.702000Z"
    }
   },
   "outputs": [
    {
     "data": {
      "text/html": [
       "\n",
       "<div class=\"sm-graph\" id=\"box-c8b677a9-354f-4993-90e9-8932e5dc4f86\">\n",
       "<div id=\"c8b677a9-354f-4993-90e9-8932e5dc4f86\"></div>\n",
       "<a href=\"#\" id=\"fit-c8b677a9-354f-4993-90e9-8932e5dc4f86\"\n",
       "  style=\"position: absolute; left: 10px; bottom: 10px; text-decoration: none; color: #888; font-size: min(2vw, 10px);\n",
       "  z-index: 10; pointer-events: auto;\"\n",
       "> Reload\n",
       "</a>\n",
       "<style>\n",
       "#box-c8b677a9-354f-4993-90e9-8932e5dc4f86 {\n",
       "position: relative;\n",
       "width: 100%;\n",
       "height: 200px !important;\n",
       "max-width: 100vw;\n",
       "max-height: 100vh !important;\n",
       "}\n",
       "#c8b677a9-354f-4993-90e9-8932e5dc4f86 {\n",
       "  height: 100%;   /* Make the inner div fill the parent */\n",
       "}\n",
       "</style>\n",
       "</div>\n",
       "<script type=\"module\">\n",
       "import { DataSet, Network } from \"https://unpkg.com/vis-network/standalone/esm/vis-network.min.js\";\n",
       "// CSS will be automatically injected into the page.\n",
       "function render () {\n",
       "    const nodes = new DataSet([{\"id\": 0, \"label\": \"0\", \"title\": \"0\", \"x\": 0, \"group\": \"Node\"}, {\"id\": 1, \"label\": \"1\", \"title\": \"1\", \"x\": 0, \"group\": \"Node\"}, {\"id\": 2, \"label\": \"2\", \"title\": \"2\", \"x\": 0, \"group\": \"Node\"}, {\"id\": 3, \"label\": \"3\", \"title\": \"3\", \"x\": 0, \"group\": \"Node\"}, {\"title\": \"0: (0, 1)\", \"label\": \"\", \"id\": 4, \"group\": \"HyperEdge\", \"x\": 480}, {\"title\": \"1: (0, 2)\", \"label\": \"\", \"id\": 5, \"group\": \"HyperEdge\", \"x\": 480}, {\"title\": \"2: (1, 2)\", \"label\": \"\", \"id\": 6, \"group\": \"HyperEdge\", \"x\": 480}, {\"title\": \"3: (2, 3)\", \"label\": \"\", \"id\": 7, \"group\": \"HyperEdge\", \"x\": 480}]);\n",
       "    const edges = new DataSet([{\"from\": 0, \"to\": 4, \"title\": \"0 <-> 0: (0, 1)\"}, {\"from\": 0, \"to\": 5, \"title\": \"0 <-> 1: (0, 2)\"}, {\"from\": 1, \"to\": 4, \"title\": \"1 <-> 0: (0, 1)\"}, {\"from\": 1, \"to\": 6, \"title\": \"1 <-> 2: (1, 2)\"}, {\"from\": 2, \"to\": 5, \"title\": \"2 <-> 1: (0, 2)\"}, {\"from\": 2, \"to\": 6, \"title\": \"2 <-> 2: (1, 2)\"}, {\"from\": 2, \"to\": 7, \"title\": \"2 <-> 3: (2, 3)\"}, {\"from\": 3, \"to\": 7, \"title\": \"3 <-> 3: (2, 3)\"}]);\n",
       "    const data = {\n",
       "            nodes: nodes,\n",
       "            edges: edges,\n",
       "    };\n",
       "    const options = {\"interaction\": {\"navigationButtons\": false}, \"width\": \"100%\", \"height\": \"200px\", \"groups\": {\"HyperEdge\": {\"fixed\": {\"x\": true}, \"color\": {\"background\": \"black\"}, \"shape\": \"dot\", \"size\": 5}, \"Node\": {\"fixed\": {\"x\": true}}}};\n",
       "    const container = document.getElementById('c8b677a9-354f-4993-90e9-8932e5dc4f86');\n",
       "    const network = new Network(container, data, options);\n",
       "    network.fit({maxZoomLevel: 10});\n",
       "    network.redraw();\n",
       "}\n",
       "\n",
       "render();\n",
       "document.getElementById('fit-c8b677a9-354f-4993-90e9-8932e5dc4f86').addEventListener('click', function(event) {\n",
       "    event.preventDefault();  // Prevent page jump\n",
       "    render(); // Adjust zoom limit as needed\n",
       "});\n",
       "</script>\n"
      ],
      "text/plain": [
       "<IPython.core.display.HTML object>"
      ]
     },
     "metadata": {},
     "output_type": "display_data"
    }
   ],
   "source": [
    "paw.show_graph(bipartite=True, vis_options={\"height\": 200})"
   ]
  },
  {
   "cell_type": "markdown",
   "metadata": {},
   "source": [
    "### Nazari-Stolyar example"
   ]
  },
  {
   "cell_type": "markdown",
   "metadata": {},
   "source": [
    "Hypergraph from https://arxiv.org/pdf/1608.01646 (no parameter)."
   ]
  },
  {
   "cell_type": "code",
   "execution_count": 51,
   "metadata": {
    "execution": {
     "iopub.execute_input": "2025-09-27T08:33:26.706456Z",
     "iopub.status.busy": "2025-09-27T08:33:26.705445Z",
     "iopub.status.idle": "2025-09-27T08:33:26.710635Z",
     "shell.execute_reply": "2025-09-27T08:33:26.710635Z",
     "shell.execute_reply.started": "2025-09-27T08:33:26.706456Z"
    }
   },
   "outputs": [
    {
     "data": {
      "text/html": [
       "\n",
       "<div class=\"sm-graph\" id=\"box-e8a5d0b1-5fb7-4c9c-919a-59e84c4e5248\">\n",
       "<div id=\"e8a5d0b1-5fb7-4c9c-919a-59e84c4e5248\"></div>\n",
       "<a href=\"#\" id=\"fit-e8a5d0b1-5fb7-4c9c-919a-59e84c4e5248\"\n",
       "  style=\"position: absolute; left: 10px; bottom: 10px; text-decoration: none; color: #888; font-size: min(2vw, 10px);\n",
       "  z-index: 10; pointer-events: auto;\"\n",
       "> Reload\n",
       "</a>\n",
       "<style>\n",
       "#box-e8a5d0b1-5fb7-4c9c-919a-59e84c4e5248 {\n",
       "position: relative;\n",
       "width: 100%;\n",
       "height: 300px !important;\n",
       "max-width: 100vw;\n",
       "max-height: 100vh !important;\n",
       "}\n",
       "#e8a5d0b1-5fb7-4c9c-919a-59e84c4e5248 {\n",
       "  height: 100%;   /* Make the inner div fill the parent */\n",
       "}\n",
       "</style>\n",
       "</div>\n",
       "<script type=\"module\">\n",
       "import { DataSet, Network } from \"https://unpkg.com/vis-network/standalone/esm/vis-network.min.js\";\n",
       "// CSS will be automatically injected into the page.\n",
       "function render () {\n",
       "    const nodes = new DataSet([{\"id\": 0, \"label\": \"0\", \"title\": \"0\", \"x\": 0, \"group\": \"Node\"}, {\"id\": 1, \"label\": \"1\", \"title\": \"1\", \"x\": 0, \"group\": \"Node\"}, {\"id\": 2, \"label\": \"2\", \"title\": \"2\", \"x\": 0, \"group\": \"Node\"}, {\"id\": 3, \"label\": \"3\", \"title\": \"3\", \"x\": 0, \"group\": \"Node\"}, {\"title\": \"0: (0)\", \"label\": \"\", \"id\": 4, \"group\": \"HyperEdge\", \"x\": 600}, {\"title\": \"1: (1)\", \"label\": \"\", \"id\": 5, \"group\": \"HyperEdge\", \"x\": 600}, {\"title\": \"2: (2)\", \"label\": \"\", \"id\": 6, \"group\": \"HyperEdge\", \"x\": 600}, {\"title\": \"3: (3)\", \"label\": \"\", \"id\": 7, \"group\": \"HyperEdge\", \"x\": 600}, {\"title\": \"4: (0, 1)\", \"label\": \"\", \"id\": 8, \"group\": \"HyperEdge\", \"x\": 600}, {\"title\": \"5: (1, 2)\", \"label\": \"\", \"id\": 9, \"group\": \"HyperEdge\", \"x\": 600}, {\"title\": \"6: (1, 2, 3)\", \"label\": \"\", \"id\": 10, \"group\": \"HyperEdge\", \"x\": 600}]);\n",
       "    const edges = new DataSet([{\"from\": 0, \"to\": 4, \"title\": \"0 <-> 0: (0)\"}, {\"from\": 0, \"to\": 8, \"title\": \"0 <-> 4: (0, 1)\"}, {\"from\": 1, \"to\": 5, \"title\": \"1 <-> 1: (1)\"}, {\"from\": 1, \"to\": 8, \"title\": \"1 <-> 4: (0, 1)\"}, {\"from\": 1, \"to\": 9, \"title\": \"1 <-> 5: (1, 2)\"}, {\"from\": 1, \"to\": 10, \"title\": \"1 <-> 6: (1, 2, 3)\"}, {\"from\": 2, \"to\": 6, \"title\": \"2 <-> 2: (2)\"}, {\"from\": 2, \"to\": 9, \"title\": \"2 <-> 5: (1, 2)\"}, {\"from\": 2, \"to\": 10, \"title\": \"2 <-> 6: (1, 2, 3)\"}, {\"from\": 3, \"to\": 7, \"title\": \"3 <-> 3: (3)\"}, {\"from\": 3, \"to\": 10, \"title\": \"3 <-> 6: (1, 2, 3)\"}]);\n",
       "    const data = {\n",
       "            nodes: nodes,\n",
       "            edges: edges,\n",
       "    };\n",
       "    const options = {\"interaction\": {\"navigationButtons\": false}, \"width\": \"100%\", \"height\": \"300px\", \"groups\": {\"HyperEdge\": {\"fixed\": {\"x\": false}, \"color\": {\"background\": \"black\"}, \"shape\": \"dot\", \"size\": 5}, \"Node\": {\"fixed\": {\"x\": false}}}};\n",
       "    const container = document.getElementById('e8a5d0b1-5fb7-4c9c-919a-59e84c4e5248');\n",
       "    const network = new Network(container, data, options);\n",
       "    network.fit({maxZoomLevel: 10});\n",
       "    network.redraw();\n",
       "}\n",
       "\n",
       "render();\n",
       "document.getElementById('fit-e8a5d0b1-5fb7-4c9c-919a-59e84c4e5248').addEventListener('click', function(event) {\n",
       "    event.preventDefault();  // Prevent page jump\n",
       "    render(); // Adjust zoom limit as needed\n",
       "});\n",
       "</script>\n"
      ],
      "text/plain": [
       "<IPython.core.display.HTML object>"
      ]
     },
     "metadata": {},
     "output_type": "display_data"
    }
   ],
   "source": [
    "sm.NS19().show_graph(vis_options={\"height\": 300})"
   ]
  },
  {
   "cell_type": "markdown",
   "metadata": {},
   "source": [
    "### Hyper paddle"
   ]
  },
  {
   "cell_type": "markdown",
   "metadata": {},
   "source": [
    "A variation of the regular paddle where the two cycles are linked by 3-egdes. Default to $k=3$, $m=3$, $l=1$.\n",
    "\n",
    "The default version, named *Candy* graph, is one of the simplest graph for which one can find stabilizable rates that no greedy policy can stabilize."
   ]
  },
  {
   "cell_type": "code",
   "execution_count": 52,
   "metadata": {
    "ExecuteTime": {
     "end_time": "2022-01-24T14:53:18.841536Z",
     "start_time": "2022-01-24T14:53:18.826825Z"
    },
    "execution": {
     "iopub.execute_input": "2025-09-27T08:33:26.711141Z",
     "iopub.status.busy": "2025-09-27T08:33:26.711141Z",
     "iopub.status.idle": "2025-09-27T08:33:26.716164Z",
     "shell.execute_reply": "2025-09-27T08:33:26.716164Z",
     "shell.execute_reply.started": "2025-09-27T08:33:26.711141Z"
    }
   },
   "outputs": [
    {
     "data": {
      "text/html": [
       "\n",
       "<div class=\"sm-graph\" id=\"box-722372af-bdbc-44d8-ad6b-94d7d71f9329\">\n",
       "<div id=\"722372af-bdbc-44d8-ad6b-94d7d71f9329\"></div>\n",
       "<a href=\"#\" id=\"fit-722372af-bdbc-44d8-ad6b-94d7d71f9329\"\n",
       "  style=\"position: absolute; left: 10px; bottom: 10px; text-decoration: none; color: #888; font-size: min(2vw, 10px);\n",
       "  z-index: 10; pointer-events: auto;\"\n",
       "> Reload\n",
       "</a>\n",
       "<style>\n",
       "#box-722372af-bdbc-44d8-ad6b-94d7d71f9329 {\n",
       "position: relative;\n",
       "width: 100%;\n",
       "height: 50vh !important;\n",
       "max-width: 100vw;\n",
       "max-height: 100vh !important;\n",
       "}\n",
       "#722372af-bdbc-44d8-ad6b-94d7d71f9329 {\n",
       "  height: 100%;   /* Make the inner div fill the parent */\n",
       "}\n",
       "</style>\n",
       "</div>\n",
       "<script type=\"module\">\n",
       "import { DataSet, Network } from \"https://unpkg.com/vis-network/standalone/esm/vis-network.min.js\";\n",
       "// CSS will be automatically injected into the page.\n",
       "function render () {\n",
       "    const nodes = new DataSet([{\"id\": 0, \"label\": \"0\", \"title\": \"0\", \"x\": 0, \"group\": \"Node\"}, {\"id\": 1, \"label\": \"1\", \"title\": \"1\", \"x\": 0, \"group\": \"Node\"}, {\"id\": 2, \"label\": \"2\", \"title\": \"2\", \"x\": 0, \"group\": \"Node\"}, {\"id\": 3, \"label\": \"3\", \"title\": \"3\", \"x\": 0, \"group\": \"Node\"}, {\"id\": 4, \"label\": \"4\", \"title\": \"4\", \"x\": 0, \"group\": \"Node\"}, {\"id\": 5, \"label\": \"5\", \"title\": \"5\", \"x\": 0, \"group\": \"Node\"}, {\"id\": 6, \"label\": \"6\", \"title\": \"6\", \"x\": 0, \"group\": \"Node\"}, {\"title\": \"0: (0, 1)\", \"label\": \"\", \"id\": 7, \"group\": \"HyperEdge\", \"x\": 600}, {\"title\": \"1: (0, 2)\", \"label\": \"\", \"id\": 8, \"group\": \"HyperEdge\", \"x\": 600}, {\"title\": \"2: (1, 2)\", \"label\": \"\", \"id\": 9, \"group\": \"HyperEdge\", \"x\": 600}, {\"title\": \"3: (4, 5)\", \"label\": \"\", \"id\": 10, \"group\": \"HyperEdge\", \"x\": 600}, {\"title\": \"4: (4, 6)\", \"label\": \"\", \"id\": 11, \"group\": \"HyperEdge\", \"x\": 600}, {\"title\": \"5: (5, 6)\", \"label\": \"\", \"id\": 12, \"group\": \"HyperEdge\", \"x\": 600}, {\"title\": \"6: (2, 3, 4)\", \"label\": \"\", \"id\": 13, \"group\": \"HyperEdge\", \"x\": 600}]);\n",
       "    const edges = new DataSet([{\"from\": 0, \"to\": 7, \"title\": \"0 <-> 0: (0, 1)\"}, {\"from\": 0, \"to\": 8, \"title\": \"0 <-> 1: (0, 2)\"}, {\"from\": 1, \"to\": 7, \"title\": \"1 <-> 0: (0, 1)\"}, {\"from\": 1, \"to\": 9, \"title\": \"1 <-> 2: (1, 2)\"}, {\"from\": 2, \"to\": 8, \"title\": \"2 <-> 1: (0, 2)\"}, {\"from\": 2, \"to\": 9, \"title\": \"2 <-> 2: (1, 2)\"}, {\"from\": 2, \"to\": 13, \"title\": \"2 <-> 6: (2, 3, 4)\"}, {\"from\": 3, \"to\": 13, \"title\": \"3 <-> 6: (2, 3, 4)\"}, {\"from\": 4, \"to\": 10, \"title\": \"4 <-> 3: (4, 5)\"}, {\"from\": 4, \"to\": 11, \"title\": \"4 <-> 4: (4, 6)\"}, {\"from\": 4, \"to\": 13, \"title\": \"4 <-> 6: (2, 3, 4)\"}, {\"from\": 5, \"to\": 10, \"title\": \"5 <-> 3: (4, 5)\"}, {\"from\": 5, \"to\": 12, \"title\": \"5 <-> 5: (5, 6)\"}, {\"from\": 6, \"to\": 11, \"title\": \"6 <-> 4: (4, 6)\"}, {\"from\": 6, \"to\": 12, \"title\": \"6 <-> 5: (5, 6)\"}]);\n",
       "    const data = {\n",
       "            nodes: nodes,\n",
       "            edges: edges,\n",
       "    };\n",
       "    const options = {\"interaction\": {\"navigationButtons\": false}, \"width\": \"100%\", \"height\": \"100%\", \"groups\": {\"HyperEdge\": {\"fixed\": {\"x\": false}, \"color\": {\"background\": \"black\"}, \"shape\": \"dot\", \"size\": 5}, \"Node\": {\"fixed\": {\"x\": false}}}};\n",
       "    const container = document.getElementById('722372af-bdbc-44d8-ad6b-94d7d71f9329');\n",
       "    const network = new Network(container, data, options);\n",
       "    network.fit({maxZoomLevel: 10});\n",
       "    network.redraw();\n",
       "}\n",
       "\n",
       "render();\n",
       "document.getElementById('fit-722372af-bdbc-44d8-ad6b-94d7d71f9329').addEventListener('click', function(event) {\n",
       "    event.preventDefault();  // Prevent page jump\n",
       "    render(); // Adjust zoom limit as needed\n",
       "});\n",
       "</script>\n"
      ],
      "text/plain": [
       "<IPython.core.display.HTML object>"
      ]
     },
     "metadata": {},
     "output_type": "display_data"
    }
   ],
   "source": [
    "candy = sm.HyperPaddle()\n",
    "candy.show_graph()"
   ]
  },
  {
   "cell_type": "markdown",
   "metadata": {},
   "source": [
    "A larger version."
   ]
  },
  {
   "cell_type": "code",
   "execution_count": 53,
   "metadata": {
    "ExecuteTime": {
     "end_time": "2022-01-24T14:53:18.856185Z",
     "start_time": "2022-01-24T14:53:18.843741Z"
    },
    "execution": {
     "iopub.execute_input": "2025-09-27T08:33:26.717182Z",
     "iopub.status.busy": "2025-09-27T08:33:26.716164Z",
     "iopub.status.idle": "2025-09-27T08:33:26.721980Z",
     "shell.execute_reply": "2025-09-27T08:33:26.721980Z",
     "shell.execute_reply.started": "2025-09-27T08:33:26.717182Z"
    }
   },
   "outputs": [
    {
     "data": {
      "text/html": [
       "\n",
       "<div class=\"sm-graph\" id=\"box-8f5244d1-2167-4738-b825-bfa8dbb9485f\">\n",
       "<div id=\"8f5244d1-2167-4738-b825-bfa8dbb9485f\"></div>\n",
       "<a href=\"#\" id=\"fit-8f5244d1-2167-4738-b825-bfa8dbb9485f\"\n",
       "  style=\"position: absolute; left: 10px; bottom: 10px; text-decoration: none; color: #888; font-size: min(2vw, 10px);\n",
       "  z-index: 10; pointer-events: auto;\"\n",
       "> Reload\n",
       "</a>\n",
       "<style>\n",
       "#box-8f5244d1-2167-4738-b825-bfa8dbb9485f {\n",
       "position: relative;\n",
       "width: 100%;\n",
       "height: 50vh !important;\n",
       "max-width: 100vw;\n",
       "max-height: 100vh !important;\n",
       "}\n",
       "#8f5244d1-2167-4738-b825-bfa8dbb9485f {\n",
       "  height: 100%;   /* Make the inner div fill the parent */\n",
       "}\n",
       "</style>\n",
       "</div>\n",
       "<script type=\"module\">\n",
       "import { DataSet, Network } from \"https://unpkg.com/vis-network/standalone/esm/vis-network.min.js\";\n",
       "// CSS will be automatically injected into the page.\n",
       "function render () {\n",
       "    const nodes = new DataSet([{\"id\": 0, \"label\": \"0\", \"title\": \"0\", \"x\": 0, \"group\": \"Node\"}, {\"id\": 1, \"label\": \"1\", \"title\": \"1\", \"x\": 0, \"group\": \"Node\"}, {\"id\": 2, \"label\": \"2\", \"title\": \"2\", \"x\": 0, \"group\": \"Node\"}, {\"id\": 3, \"label\": \"3\", \"title\": \"3\", \"x\": 0, \"group\": \"Node\"}, {\"id\": 4, \"label\": \"4\", \"title\": \"4\", \"x\": 0, \"group\": \"Node\"}, {\"id\": 5, \"label\": \"5\", \"title\": \"5\", \"x\": 0, \"group\": \"Node\"}, {\"id\": 6, \"label\": \"6\", \"title\": \"6\", \"x\": 0, \"group\": \"Node\"}, {\"id\": 7, \"label\": \"7\", \"title\": \"7\", \"x\": 0, \"group\": \"Node\"}, {\"id\": 8, \"label\": \"8\", \"title\": \"8\", \"x\": 0, \"group\": \"Node\"}, {\"id\": 9, \"label\": \"9\", \"title\": \"9\", \"x\": 0, \"group\": \"Node\"}, {\"title\": \"0: (0, 1)\", \"label\": \"\", \"id\": 10, \"group\": \"HyperEdge\", \"x\": 600}, {\"title\": \"1: (0, 3)\", \"label\": \"\", \"id\": 11, \"group\": \"HyperEdge\", \"x\": 600}, {\"title\": \"2: (1, 2)\", \"label\": \"\", \"id\": 12, \"group\": \"HyperEdge\", \"x\": 600}, {\"title\": \"3: (2, 3)\", \"label\": \"\", \"id\": 13, \"group\": \"HyperEdge\", \"x\": 600}, {\"title\": \"4: (7, 8)\", \"label\": \"\", \"id\": 14, \"group\": \"HyperEdge\", \"x\": 600}, {\"title\": \"5: (7, 9)\", \"label\": \"\", \"id\": 15, \"group\": \"HyperEdge\", \"x\": 600}, {\"title\": \"6: (8, 9)\", \"label\": \"\", \"id\": 16, \"group\": \"HyperEdge\", \"x\": 600}, {\"title\": \"7: (3, 4, 5)\", \"label\": \"\", \"id\": 17, \"group\": \"HyperEdge\", \"x\": 600}, {\"title\": \"8: (4, 5, 6)\", \"label\": \"\", \"id\": 18, \"group\": \"HyperEdge\", \"x\": 600}, {\"title\": \"9: (5, 6, 7)\", \"label\": \"\", \"id\": 19, \"group\": \"HyperEdge\", \"x\": 600}]);\n",
       "    const edges = new DataSet([{\"from\": 0, \"to\": 10, \"title\": \"0 <-> 0: (0, 1)\"}, {\"from\": 0, \"to\": 11, \"title\": \"0 <-> 1: (0, 3)\"}, {\"from\": 1, \"to\": 10, \"title\": \"1 <-> 0: (0, 1)\"}, {\"from\": 1, \"to\": 12, \"title\": \"1 <-> 2: (1, 2)\"}, {\"from\": 2, \"to\": 12, \"title\": \"2 <-> 2: (1, 2)\"}, {\"from\": 2, \"to\": 13, \"title\": \"2 <-> 3: (2, 3)\"}, {\"from\": 3, \"to\": 11, \"title\": \"3 <-> 1: (0, 3)\"}, {\"from\": 3, \"to\": 13, \"title\": \"3 <-> 3: (2, 3)\"}, {\"from\": 3, \"to\": 17, \"title\": \"3 <-> 7: (3, 4, 5)\"}, {\"from\": 4, \"to\": 17, \"title\": \"4 <-> 7: (3, 4, 5)\"}, {\"from\": 4, \"to\": 18, \"title\": \"4 <-> 8: (4, 5, 6)\"}, {\"from\": 5, \"to\": 17, \"title\": \"5 <-> 7: (3, 4, 5)\"}, {\"from\": 5, \"to\": 18, \"title\": \"5 <-> 8: (4, 5, 6)\"}, {\"from\": 5, \"to\": 19, \"title\": \"5 <-> 9: (5, 6, 7)\"}, {\"from\": 6, \"to\": 18, \"title\": \"6 <-> 8: (4, 5, 6)\"}, {\"from\": 6, \"to\": 19, \"title\": \"6 <-> 9: (5, 6, 7)\"}, {\"from\": 7, \"to\": 14, \"title\": \"7 <-> 4: (7, 8)\"}, {\"from\": 7, \"to\": 15, \"title\": \"7 <-> 5: (7, 9)\"}, {\"from\": 7, \"to\": 19, \"title\": \"7 <-> 9: (5, 6, 7)\"}, {\"from\": 8, \"to\": 14, \"title\": \"8 <-> 4: (7, 8)\"}, {\"from\": 8, \"to\": 16, \"title\": \"8 <-> 6: (8, 9)\"}, {\"from\": 9, \"to\": 15, \"title\": \"9 <-> 5: (7, 9)\"}, {\"from\": 9, \"to\": 16, \"title\": \"9 <-> 6: (8, 9)\"}]);\n",
       "    const data = {\n",
       "            nodes: nodes,\n",
       "            edges: edges,\n",
       "    };\n",
       "    const options = {\"interaction\": {\"navigationButtons\": false}, \"width\": \"100%\", \"height\": \"100%\", \"groups\": {\"HyperEdge\": {\"fixed\": {\"x\": false}, \"color\": {\"background\": \"black\"}, \"shape\": \"dot\", \"size\": 5}, \"Node\": {\"fixed\": {\"x\": false}}}};\n",
       "    const container = document.getElementById('8f5244d1-2167-4738-b825-bfa8dbb9485f');\n",
       "    const network = new Network(container, data, options);\n",
       "    network.fit({maxZoomLevel: 10});\n",
       "    network.redraw();\n",
       "}\n",
       "\n",
       "render();\n",
       "document.getElementById('fit-8f5244d1-2167-4738-b825-bfa8dbb9485f').addEventListener('click', function(event) {\n",
       "    event.preventDefault();  // Prevent page jump\n",
       "    render(); // Adjust zoom limit as needed\n",
       "});\n",
       "</script>\n"
      ],
      "text/plain": [
       "<IPython.core.display.HTML object>"
      ]
     },
     "metadata": {},
     "output_type": "display_data"
    }
   ],
   "source": [
    "poodle = sm.HyperPaddle(k=4, l=3)\n",
    "poodle.show_graph()"
   ]
  },
  {
   "cell_type": "markdown",
   "metadata": {},
   "source": [
    "### Fans"
   ]
  },
  {
   "cell_type": "markdown",
   "metadata": {},
   "source": [
    "Fans are cycles linked by hyperedges. Default to $cycles=3$, $cycle_size=3$, $hyperedges=1$.\n",
    "\n",
    "Fans are useful to study the equivalent of bipartite graphs (non-trivial left kernel) in the hypergraphs world.\n",
    "\n",
    "The default fan is called a *clover*."
   ]
  },
  {
   "cell_type": "code",
   "execution_count": 54,
   "metadata": {
    "ExecuteTime": {
     "end_time": "2022-01-24T14:53:18.872211Z",
     "start_time": "2022-01-24T14:53:18.858189Z"
    },
    "execution": {
     "iopub.execute_input": "2025-09-27T08:33:26.722986Z",
     "iopub.status.busy": "2025-09-27T08:33:26.721980Z",
     "iopub.status.idle": "2025-09-27T08:33:26.727255Z",
     "shell.execute_reply": "2025-09-27T08:33:26.727255Z",
     "shell.execute_reply.started": "2025-09-27T08:33:26.722986Z"
    }
   },
   "outputs": [
    {
     "data": {
      "text/html": [
       "\n",
       "<div class=\"sm-graph\" id=\"box-4376a9b2-9b21-462f-84ac-bf030c5f3dcf\">\n",
       "<div id=\"4376a9b2-9b21-462f-84ac-bf030c5f3dcf\"></div>\n",
       "<a href=\"#\" id=\"fit-4376a9b2-9b21-462f-84ac-bf030c5f3dcf\"\n",
       "  style=\"position: absolute; left: 10px; bottom: 10px; text-decoration: none; color: #888; font-size: min(2vw, 10px);\n",
       "  z-index: 10; pointer-events: auto;\"\n",
       "> Reload\n",
       "</a>\n",
       "<style>\n",
       "#box-4376a9b2-9b21-462f-84ac-bf030c5f3dcf {\n",
       "position: relative;\n",
       "width: 100%;\n",
       "height: 50vh !important;\n",
       "max-width: 100vw;\n",
       "max-height: 100vh !important;\n",
       "}\n",
       "#4376a9b2-9b21-462f-84ac-bf030c5f3dcf {\n",
       "  height: 100%;   /* Make the inner div fill the parent */\n",
       "}\n",
       "</style>\n",
       "</div>\n",
       "<script type=\"module\">\n",
       "import { DataSet, Network } from \"https://unpkg.com/vis-network/standalone/esm/vis-network.min.js\";\n",
       "// CSS will be automatically injected into the page.\n",
       "function render () {\n",
       "    const nodes = new DataSet([{\"id\": 0, \"label\": \"0\", \"title\": \"0\", \"x\": 0, \"group\": \"Node\"}, {\"id\": 1, \"label\": \"1\", \"title\": \"1\", \"x\": 0, \"group\": \"Node\"}, {\"id\": 2, \"label\": \"2\", \"title\": \"2\", \"x\": 0, \"group\": \"Node\"}, {\"id\": 3, \"label\": \"3\", \"title\": \"3\", \"x\": 0, \"group\": \"Node\"}, {\"id\": 4, \"label\": \"4\", \"title\": \"4\", \"x\": 0, \"group\": \"Node\"}, {\"id\": 5, \"label\": \"5\", \"title\": \"5\", \"x\": 0, \"group\": \"Node\"}, {\"id\": 6, \"label\": \"6\", \"title\": \"6\", \"x\": 0, \"group\": \"Node\"}, {\"id\": 7, \"label\": \"7\", \"title\": \"7\", \"x\": 0, \"group\": \"Node\"}, {\"id\": 8, \"label\": \"8\", \"title\": \"8\", \"x\": 0, \"group\": \"Node\"}, {\"title\": \"0: (0, 1)\", \"label\": \"\", \"id\": 9, \"group\": \"HyperEdge\", \"x\": 600}, {\"title\": \"1: (0, 2)\", \"label\": \"\", \"id\": 10, \"group\": \"HyperEdge\", \"x\": 600}, {\"title\": \"2: (1, 2)\", \"label\": \"\", \"id\": 11, \"group\": \"HyperEdge\", \"x\": 600}, {\"title\": \"3: (3, 4)\", \"label\": \"\", \"id\": 12, \"group\": \"HyperEdge\", \"x\": 600}, {\"title\": \"4: (3, 5)\", \"label\": \"\", \"id\": 13, \"group\": \"HyperEdge\", \"x\": 600}, {\"title\": \"5: (4, 5)\", \"label\": \"\", \"id\": 14, \"group\": \"HyperEdge\", \"x\": 600}, {\"title\": \"6: (6, 7)\", \"label\": \"\", \"id\": 15, \"group\": \"HyperEdge\", \"x\": 600}, {\"title\": \"7: (6, 8)\", \"label\": \"\", \"id\": 16, \"group\": \"HyperEdge\", \"x\": 600}, {\"title\": \"8: (7, 8)\", \"label\": \"\", \"id\": 17, \"group\": \"HyperEdge\", \"x\": 600}, {\"title\": \"9: (0, 3, 6)\", \"label\": \"\", \"id\": 18, \"group\": \"HyperEdge\", \"x\": 600}]);\n",
       "    const edges = new DataSet([{\"from\": 0, \"to\": 9, \"title\": \"0 <-> 0: (0, 1)\"}, {\"from\": 0, \"to\": 10, \"title\": \"0 <-> 1: (0, 2)\"}, {\"from\": 0, \"to\": 18, \"title\": \"0 <-> 9: (0, 3, 6)\"}, {\"from\": 1, \"to\": 9, \"title\": \"1 <-> 0: (0, 1)\"}, {\"from\": 1, \"to\": 11, \"title\": \"1 <-> 2: (1, 2)\"}, {\"from\": 2, \"to\": 10, \"title\": \"2 <-> 1: (0, 2)\"}, {\"from\": 2, \"to\": 11, \"title\": \"2 <-> 2: (1, 2)\"}, {\"from\": 3, \"to\": 12, \"title\": \"3 <-> 3: (3, 4)\"}, {\"from\": 3, \"to\": 13, \"title\": \"3 <-> 4: (3, 5)\"}, {\"from\": 3, \"to\": 18, \"title\": \"3 <-> 9: (0, 3, 6)\"}, {\"from\": 4, \"to\": 12, \"title\": \"4 <-> 3: (3, 4)\"}, {\"from\": 4, \"to\": 14, \"title\": \"4 <-> 5: (4, 5)\"}, {\"from\": 5, \"to\": 13, \"title\": \"5 <-> 4: (3, 5)\"}, {\"from\": 5, \"to\": 14, \"title\": \"5 <-> 5: (4, 5)\"}, {\"from\": 6, \"to\": 15, \"title\": \"6 <-> 6: (6, 7)\"}, {\"from\": 6, \"to\": 16, \"title\": \"6 <-> 7: (6, 8)\"}, {\"from\": 6, \"to\": 18, \"title\": \"6 <-> 9: (0, 3, 6)\"}, {\"from\": 7, \"to\": 15, \"title\": \"7 <-> 6: (6, 7)\"}, {\"from\": 7, \"to\": 17, \"title\": \"7 <-> 8: (7, 8)\"}, {\"from\": 8, \"to\": 16, \"title\": \"8 <-> 7: (6, 8)\"}, {\"from\": 8, \"to\": 17, \"title\": \"8 <-> 8: (7, 8)\"}]);\n",
       "    const data = {\n",
       "            nodes: nodes,\n",
       "            edges: edges,\n",
       "    };\n",
       "    const options = {\"interaction\": {\"navigationButtons\": false}, \"width\": \"100%\", \"height\": \"100%\", \"groups\": {\"HyperEdge\": {\"fixed\": {\"x\": false}, \"color\": {\"background\": \"black\"}, \"shape\": \"dot\", \"size\": 5}, \"Node\": {\"fixed\": {\"x\": false}}}};\n",
       "    const container = document.getElementById('4376a9b2-9b21-462f-84ac-bf030c5f3dcf');\n",
       "    const network = new Network(container, data, options);\n",
       "    network.fit({maxZoomLevel: 10});\n",
       "    network.redraw();\n",
       "}\n",
       "\n",
       "render();\n",
       "document.getElementById('fit-4376a9b2-9b21-462f-84ac-bf030c5f3dcf').addEventListener('click', function(event) {\n",
       "    event.preventDefault();  // Prevent page jump\n",
       "    render(); // Adjust zoom limit as needed\n",
       "});\n",
       "</script>\n"
      ],
      "text/plain": [
       "<IPython.core.display.HTML object>"
      ]
     },
     "metadata": {},
     "output_type": "display_data"
    }
   ],
   "source": [
    "sm.Fan().show_graph()"
   ]
  },
  {
   "cell_type": "markdown",
   "metadata": {},
   "source": [
    "Next one is a highly degenerated example (as shown in another notebook)!"
   ]
  },
  {
   "cell_type": "code",
   "execution_count": 55,
   "metadata": {
    "ExecuteTime": {
     "end_time": "2022-01-24T14:53:18.888019Z",
     "start_time": "2022-01-24T14:53:18.875001Z"
    },
    "execution": {
     "iopub.execute_input": "2025-09-27T08:33:26.728262Z",
     "iopub.status.busy": "2025-09-27T08:33:26.727255Z",
     "iopub.status.idle": "2025-09-27T08:33:26.732554Z",
     "shell.execute_reply": "2025-09-27T08:33:26.732554Z",
     "shell.execute_reply.started": "2025-09-27T08:33:26.728262Z"
    }
   },
   "outputs": [
    {
     "data": {
      "text/html": [
       "\n",
       "<div class=\"sm-graph\" id=\"box-d00fdc1d-2675-4451-9720-fc16c207ea8e\">\n",
       "<div id=\"d00fdc1d-2675-4451-9720-fc16c207ea8e\"></div>\n",
       "<a href=\"#\" id=\"fit-d00fdc1d-2675-4451-9720-fc16c207ea8e\"\n",
       "  style=\"position: absolute; left: 10px; bottom: 10px; text-decoration: none; color: #888; font-size: min(2vw, 10px);\n",
       "  z-index: 10; pointer-events: auto;\"\n",
       "> Reload\n",
       "</a>\n",
       "<style>\n",
       "#box-d00fdc1d-2675-4451-9720-fc16c207ea8e {\n",
       "position: relative;\n",
       "width: 100%;\n",
       "height: 50vh !important;\n",
       "max-width: 100vw;\n",
       "max-height: 100vh !important;\n",
       "}\n",
       "#d00fdc1d-2675-4451-9720-fc16c207ea8e {\n",
       "  height: 100%;   /* Make the inner div fill the parent */\n",
       "}\n",
       "</style>\n",
       "</div>\n",
       "<script type=\"module\">\n",
       "import { DataSet, Network } from \"https://unpkg.com/vis-network/standalone/esm/vis-network.min.js\";\n",
       "// CSS will be automatically injected into the page.\n",
       "function render () {\n",
       "    const nodes = new DataSet([{\"id\": 0, \"label\": \"0\", \"title\": \"0\", \"x\": 0, \"group\": \"Node\"}, {\"id\": 1, \"label\": \"1\", \"title\": \"1\", \"x\": 0, \"group\": \"Node\"}, {\"id\": 2, \"label\": \"2\", \"title\": \"2\", \"x\": 0, \"group\": \"Node\"}, {\"id\": 3, \"label\": \"3\", \"title\": \"3\", \"x\": 0, \"group\": \"Node\"}, {\"id\": 4, \"label\": \"4\", \"title\": \"4\", \"x\": 0, \"group\": \"Node\"}, {\"id\": 5, \"label\": \"5\", \"title\": \"5\", \"x\": 0, \"group\": \"Node\"}, {\"id\": 6, \"label\": \"6\", \"title\": \"6\", \"x\": 0, \"group\": \"Node\"}, {\"id\": 7, \"label\": \"7\", \"title\": \"7\", \"x\": 0, \"group\": \"Node\"}, {\"id\": 8, \"label\": \"8\", \"title\": \"8\", \"x\": 0, \"group\": \"Node\"}, {\"id\": 9, \"label\": \"9\", \"title\": \"9\", \"x\": 0, \"group\": \"Node\"}, {\"id\": 10, \"label\": \"10\", \"title\": \"10\", \"x\": 0, \"group\": \"Node\"}, {\"id\": 11, \"label\": \"11\", \"title\": \"11\", \"x\": 0, \"group\": \"Node\"}, {\"title\": \"0: (0, 1)\", \"label\": \"\", \"id\": 12, \"group\": \"HyperEdge\", \"x\": 600}, {\"title\": \"1: (0, 3)\", \"label\": \"\", \"id\": 13, \"group\": \"HyperEdge\", \"x\": 600}, {\"title\": \"2: (1, 2)\", \"label\": \"\", \"id\": 14, \"group\": \"HyperEdge\", \"x\": 600}, {\"title\": \"3: (2, 3)\", \"label\": \"\", \"id\": 15, \"group\": \"HyperEdge\", \"x\": 600}, {\"title\": \"4: (4, 5)\", \"label\": \"\", \"id\": 16, \"group\": \"HyperEdge\", \"x\": 600}, {\"title\": \"5: (4, 7)\", \"label\": \"\", \"id\": 17, \"group\": \"HyperEdge\", \"x\": 600}, {\"title\": \"6: (5, 6)\", \"label\": \"\", \"id\": 18, \"group\": \"HyperEdge\", \"x\": 600}, {\"title\": \"7: (6, 7)\", \"label\": \"\", \"id\": 19, \"group\": \"HyperEdge\", \"x\": 600}, {\"title\": \"8: (8, 9)\", \"label\": \"\", \"id\": 20, \"group\": \"HyperEdge\", \"x\": 600}, {\"title\": \"9: (8, 11)\", \"label\": \"\", \"id\": 21, \"group\": \"HyperEdge\", \"x\": 600}, {\"title\": \"10: (9, 10)\", \"label\": \"\", \"id\": 22, \"group\": \"HyperEdge\", \"x\": 600}, {\"title\": \"11: (10, 11)\", \"label\": \"\", \"id\": 23, \"group\": \"HyperEdge\", \"x\": 600}, {\"title\": \"12: (0, 4, 8)\", \"label\": \"\", \"id\": 24, \"group\": \"HyperEdge\", \"x\": 600}, {\"title\": \"13: (1, 5, 9)\", \"label\": \"\", \"id\": 25, \"group\": \"HyperEdge\", \"x\": 600}]);\n",
       "    const edges = new DataSet([{\"from\": 0, \"to\": 12, \"title\": \"0 <-> 0: (0, 1)\"}, {\"from\": 0, \"to\": 13, \"title\": \"0 <-> 1: (0, 3)\"}, {\"from\": 0, \"to\": 24, \"title\": \"0 <-> 12: (0, 4, 8)\"}, {\"from\": 1, \"to\": 12, \"title\": \"1 <-> 0: (0, 1)\"}, {\"from\": 1, \"to\": 14, \"title\": \"1 <-> 2: (1, 2)\"}, {\"from\": 1, \"to\": 25, \"title\": \"1 <-> 13: (1, 5, 9)\"}, {\"from\": 2, \"to\": 14, \"title\": \"2 <-> 2: (1, 2)\"}, {\"from\": 2, \"to\": 15, \"title\": \"2 <-> 3: (2, 3)\"}, {\"from\": 3, \"to\": 13, \"title\": \"3 <-> 1: (0, 3)\"}, {\"from\": 3, \"to\": 15, \"title\": \"3 <-> 3: (2, 3)\"}, {\"from\": 4, \"to\": 16, \"title\": \"4 <-> 4: (4, 5)\"}, {\"from\": 4, \"to\": 17, \"title\": \"4 <-> 5: (4, 7)\"}, {\"from\": 4, \"to\": 24, \"title\": \"4 <-> 12: (0, 4, 8)\"}, {\"from\": 5, \"to\": 16, \"title\": \"5 <-> 4: (4, 5)\"}, {\"from\": 5, \"to\": 18, \"title\": \"5 <-> 6: (5, 6)\"}, {\"from\": 5, \"to\": 25, \"title\": \"5 <-> 13: (1, 5, 9)\"}, {\"from\": 6, \"to\": 18, \"title\": \"6 <-> 6: (5, 6)\"}, {\"from\": 6, \"to\": 19, \"title\": \"6 <-> 7: (6, 7)\"}, {\"from\": 7, \"to\": 17, \"title\": \"7 <-> 5: (4, 7)\"}, {\"from\": 7, \"to\": 19, \"title\": \"7 <-> 7: (6, 7)\"}, {\"from\": 8, \"to\": 20, \"title\": \"8 <-> 8: (8, 9)\"}, {\"from\": 8, \"to\": 21, \"title\": \"8 <-> 9: (8, 11)\"}, {\"from\": 8, \"to\": 24, \"title\": \"8 <-> 12: (0, 4, 8)\"}, {\"from\": 9, \"to\": 20, \"title\": \"9 <-> 8: (8, 9)\"}, {\"from\": 9, \"to\": 22, \"title\": \"9 <-> 10: (9, 10)\"}, {\"from\": 9, \"to\": 25, \"title\": \"9 <-> 13: (1, 5, 9)\"}, {\"from\": 10, \"to\": 22, \"title\": \"10 <-> 10: (9, 10)\"}, {\"from\": 10, \"to\": 23, \"title\": \"10 <-> 11: (10, 11)\"}, {\"from\": 11, \"to\": 21, \"title\": \"11 <-> 9: (8, 11)\"}, {\"from\": 11, \"to\": 23, \"title\": \"11 <-> 11: (10, 11)\"}]);\n",
       "    const data = {\n",
       "            nodes: nodes,\n",
       "            edges: edges,\n",
       "    };\n",
       "    const options = {\"interaction\": {\"navigationButtons\": false}, \"width\": \"100%\", \"height\": \"100%\", \"groups\": {\"HyperEdge\": {\"fixed\": {\"x\": false}, \"color\": {\"background\": \"black\"}, \"shape\": \"dot\", \"size\": 5}, \"Node\": {\"fixed\": {\"x\": false}}}};\n",
       "    const container = document.getElementById('d00fdc1d-2675-4451-9720-fc16c207ea8e');\n",
       "    const network = new Network(container, data, options);\n",
       "    network.fit({maxZoomLevel: 10});\n",
       "    network.redraw();\n",
       "}\n",
       "\n",
       "render();\n",
       "document.getElementById('fit-d00fdc1d-2675-4451-9720-fc16c207ea8e').addEventListener('click', function(event) {\n",
       "    event.preventDefault();  // Prevent page jump\n",
       "    render(); // Adjust zoom limit as needed\n",
       "});\n",
       "</script>\n"
      ],
      "text/plain": [
       "<IPython.core.display.HTML object>"
      ]
     },
     "metadata": {},
     "output_type": "display_data"
    }
   ],
   "source": [
    "sm.Fan(cycle_size=4, hyperedges=2).show_graph()"
   ]
  }
 ],
 "metadata": {
  "kernelspec": {
   "display_name": "Python 3 (ipykernel)",
   "language": "python",
   "name": "python3"
  },
  "language_info": {
   "codemirror_mode": {
    "name": "ipython",
    "version": 3
   },
   "file_extension": ".py",
   "mimetype": "text/x-python",
   "name": "python",
   "nbconvert_exporter": "python",
   "pygments_lexer": "ipython3",
   "version": "3.12.8"
  },
  "toc": {
   "base_numbering": 1,
   "nav_menu": {},
   "number_sections": true,
   "sideBar": true,
   "skip_h1_title": true,
   "title_cell": "Table of Contents",
   "title_sidebar": "Contents",
   "toc_cell": false,
   "toc_position": {},
   "toc_section_display": true,
   "toc_window_display": true
  }
 },
 "nbformat": 4,
 "nbformat_minor": 4
}
