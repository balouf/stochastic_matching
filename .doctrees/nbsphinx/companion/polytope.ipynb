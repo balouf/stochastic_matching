{
 "cells": [
  {
   "cell_type": "markdown",
   "id": "d0c9c1d0-ee11-48e5-9415-90d10b24d1fb",
   "metadata": {},
   "source": [
    "# Polytope analysis"
   ]
  },
  {
   "cell_type": "markdown",
   "id": "9103d416-8dbc-4339-9db2-8320d0b3b8a0",
   "metadata": {},
   "source": [
    "## Computing kernel basis"
   ]
  },
  {
   "cell_type": "markdown",
   "id": "d514cc11-d5e6-466e-b4ac-834e6d0aab0a",
   "metadata": {},
   "source": [
    "The graph edge kernel describes the degree of freedom of the feasible matching rates, if any."
   ]
  },
  {
   "cell_type": "markdown",
   "id": "c2e029f0-82eb-49b7-a6b0-04b6582aa3e7",
   "metadata": {},
   "source": [
    "[Stochastic Matching](https://balouf.github.io/stochastic_matching/index.html) provides tools to compute and display the edge kernel."
   ]
  },
  {
   "cell_type": "markdown",
   "id": "fe990b02-f922-47a1-acf9-70c3c1a41d4d",
   "metadata": {},
   "source": [
    "### Examples of 1-D kernels"
   ]
  },
  {
   "cell_type": "markdown",
   "id": "0ac8f1c0-f940-46af-95cf-8203ed1e442e",
   "metadata": {},
   "source": [
    "#### Diamond"
   ]
  },
  {
   "cell_type": "code",
   "execution_count": 1,
   "id": "6e547af1-0303-4ba3-bebc-e5150801c628",
   "metadata": {
    "execution": {
     "iopub.execute_input": "2025-09-26T18:31:58.043914Z",
     "iopub.status.busy": "2025-09-26T18:31:58.042915Z",
     "iopub.status.idle": "2025-09-26T18:31:59.275258Z",
     "shell.execute_reply": "2025-09-26T18:31:59.275258Z",
     "shell.execute_reply.started": "2025-09-26T18:31:58.043914Z"
    }
   },
   "outputs": [
    {
     "data": {
      "text/plain": [
       "Kernels of a graph with 4 nodes and 5 edges.\n",
       "Node dimension is 0.\n",
       "Edge dimension is 1\n",
       "Type: Surjective-only\n",
       "Node kernel:\n",
       "[]\n",
       "Edge kernel:\n",
       "[[ 1 -1  0 -1  1]]"
      ]
     },
     "execution_count": 1,
     "metadata": {},
     "output_type": "execute_result"
    }
   ],
   "source": [
    "import stochastic_matching as sm\n",
    "diamond = sm.CycleChain(names=[str(i) for i in [1, 2, 3, 4]])\n",
    "diamond.kernel"
   ]
  },
  {
   "cell_type": "code",
   "execution_count": 2,
   "id": "d3eccc78-5605-4e7f-9e0d-6ab22b0a3385",
   "metadata": {
    "execution": {
     "iopub.execute_input": "2025-09-26T18:31:59.276700Z",
     "iopub.status.busy": "2025-09-26T18:31:59.275258Z",
     "iopub.status.idle": "2025-09-26T18:31:59.279707Z",
     "shell.execute_reply": "2025-09-26T18:31:59.279707Z",
     "shell.execute_reply.started": "2025-09-26T18:31:59.276700Z"
    }
   },
   "outputs": [
    {
     "data": {
      "text/html": [
       "\n",
       "<div class=\"sm-graph\">\n",
       "<div id=\"b6c6a7e8-e548-4598-a977-ab22b0963580\"></div>\n",
       "<a href=\"#\" id=\"fit-b6c6a7e8-e548-4598-a977-ab22b0963580\"\n",
       "  style=\"position: absolute; left: 10px; bottom: 10px; text-decoration: none; color: #888; font-size: min(2vw, 10px);\n",
       "  z-index: 10; pointer-events: auto;\"\n",
       "> Refresh\n",
       "</a>\n",
       "<style>\n",
       ".sm-graph {\n",
       "position: relative;\n",
       "width: 100%;\n",
       "height: 50vh !important;\n",
       "max-width: 100vw;\n",
       "max-height: 100vh !important;\n",
       "}\n",
       ".sm-graph > div {\n",
       "  height: 100%;   /* Make the inner div fill the parent */\n",
       "}\n",
       "</style>\n",
       "</div>\n",
       "<script type=\"module\">\n",
       "import { DataSet, Network } from \"https://unpkg.com/vis-network/standalone/esm/vis-network.min.js\";\n",
       "// CSS will be automatically injected into the page.\n",
       "function render () {\n",
       "    const nodes = new DataSet([{\"id\": 0, \"label\": \"1\", \"title\": \"0: 1\"}, {\"id\": 1, \"label\": \"2\", \"title\": \"1: 2\"}, {\"id\": 2, \"label\": \"3\", \"title\": \"2: 3\"}, {\"id\": 3, \"label\": \"4\", \"title\": \"3: 4\"}]);\n",
       "    const edges = new DataSet([{\"title\": \"0: (1, 2)\", \"label\": \"+\\u03b11\", \"from\": 0, \"to\": 1}, {\"title\": \"1: (1, 3)\", \"label\": \"-\\u03b11\", \"from\": 0, \"to\": 2}, {\"title\": \"2: (2, 3)\", \"label\": \"\", \"color\": \"black\", \"from\": 1, \"to\": 2}, {\"title\": \"3: (2, 4)\", \"label\": \"-\\u03b11\", \"from\": 1, \"to\": 3}, {\"title\": \"4: (3, 4)\", \"label\": \"+\\u03b11\", \"from\": 2, \"to\": 3}]);\n",
       "    const data = {\n",
       "            nodes: nodes,\n",
       "            edges: edges,\n",
       "    };\n",
       "    const options = {\"interaction\": {\"navigationButtons\": false}, \"width\": \"100%\", \"height\": \"100%\"};\n",
       "    const container = document.getElementById('b6c6a7e8-e548-4598-a977-ab22b0963580');\n",
       "    const network = new Network(container, data, options);\n",
       "    network.fit({maxZoomLevel: 10});\n",
       "    network.redraw();\n",
       "}\n",
       "\n",
       "render();\n",
       "document.getElementById('fit-b6c6a7e8-e548-4598-a977-ab22b0963580').addEventListener('click', function(event) {\n",
       "    event.preventDefault();  // Prevent page jump\n",
       "    render(); // Adjust zoom limit as needed\n",
       "});\n",
       "</script>\n"
      ],
      "text/plain": [
       "<IPython.core.display.HTML object>"
      ]
     },
     "metadata": {},
     "output_type": "display_data"
    }
   ],
   "source": [
    "diamond.show_kernel(disp_rates=False)"
   ]
  },
  {
   "cell_type": "markdown",
   "id": "0b2585eb-72d2-4ce4-97af-2d138b00a3f0",
   "metadata": {},
   "source": [
    ":::note\n",
    "The edge without value does not belong to the support of the kernel, i.e. for a given problem $(G, \\lambda)$, its matching rate is the same for all stable policies.\n",
    ":::"
   ]
  },
  {
   "cell_type": "markdown",
   "id": "27409ee2-36a2-4ab7-99c3-b5fc65ae3bb3",
   "metadata": {},
   "source": [
    "#### Unbalanced Kayak Paddle"
   ]
  },
  {
   "cell_type": "code",
   "execution_count": 3,
   "id": "35bf3300-45c3-4fae-ab6c-b9da403e6231",
   "metadata": {
    "execution": {
     "iopub.execute_input": "2025-09-26T18:31:59.280875Z",
     "iopub.status.busy": "2025-09-26T18:31:59.279707Z",
     "iopub.status.idle": "2025-09-26T18:31:59.291732Z",
     "shell.execute_reply": "2025-09-26T18:31:59.291732Z",
     "shell.execute_reply.started": "2025-09-26T18:31:59.280875Z"
    }
   },
   "outputs": [
    {
     "data": {
      "text/plain": [
       "Kernels of a graph with 9 nodes and 10 edges.\n",
       "Node dimension is 0.\n",
       "Edge dimension is 1\n",
       "Type: Surjective-only\n",
       "Node kernel:\n",
       "[]\n",
       "Edge kernel:\n",
       "[[-1  1  1 -2  2 -1 -1  1 -1  1]]"
      ]
     },
     "execution_count": 3,
     "metadata": {},
     "output_type": "execute_result"
    }
   ],
   "source": [
    "kayak = sm.KayakPaddle(k=3,l=2,m=5, names=[str(i+1) for i in range(9)])\n",
    "kayak.kernel"
   ]
  },
  {
   "cell_type": "code",
   "execution_count": 4,
   "id": "4c18077d-f1ac-474f-b865-d301b5477cef",
   "metadata": {
    "execution": {
     "iopub.execute_input": "2025-09-26T18:31:59.292743Z",
     "iopub.status.busy": "2025-09-26T18:31:59.291732Z",
     "iopub.status.idle": "2025-09-26T18:31:59.296199Z",
     "shell.execute_reply": "2025-09-26T18:31:59.296199Z",
     "shell.execute_reply.started": "2025-09-26T18:31:59.292743Z"
    }
   },
   "outputs": [
    {
     "data": {
      "text/html": [
       "\n",
       "<div class=\"sm-graph\">\n",
       "<div id=\"7855184b-2df2-4a7d-bbfe-3f0b68f05ea8\"></div>\n",
       "<a href=\"#\" id=\"fit-7855184b-2df2-4a7d-bbfe-3f0b68f05ea8\"\n",
       "  style=\"position: absolute; left: 10px; bottom: 10px; text-decoration: none; color: #888; font-size: min(2vw, 10px);\n",
       "  z-index: 10; pointer-events: auto;\"\n",
       "> Refresh\n",
       "</a>\n",
       "<style>\n",
       ".sm-graph {\n",
       "position: relative;\n",
       "width: 100%;\n",
       "height: 50vh !important;\n",
       "max-width: 100vw;\n",
       "max-height: 100vh !important;\n",
       "}\n",
       ".sm-graph > div {\n",
       "  height: 100%;   /* Make the inner div fill the parent */\n",
       "}\n",
       "</style>\n",
       "</div>\n",
       "<script type=\"module\">\n",
       "import { DataSet, Network } from \"https://unpkg.com/vis-network/standalone/esm/vis-network.min.js\";\n",
       "// CSS will be automatically injected into the page.\n",
       "function render () {\n",
       "    const nodes = new DataSet([{\"id\": 0, \"label\": \"1\", \"title\": \"0: 1\"}, {\"id\": 1, \"label\": \"2\", \"title\": \"1: 2\"}, {\"id\": 2, \"label\": \"3\", \"title\": \"2: 3\"}, {\"id\": 3, \"label\": \"4\", \"title\": \"3: 4\"}, {\"id\": 4, \"label\": \"5\", \"title\": \"4: 5\"}, {\"id\": 5, \"label\": \"6\", \"title\": \"5: 6\"}, {\"id\": 6, \"label\": \"7\", \"title\": \"6: 7\"}, {\"id\": 7, \"label\": \"8\", \"title\": \"7: 8\"}, {\"id\": 8, \"label\": \"9\", \"title\": \"8: 9\"}]);\n",
       "    const edges = new DataSet([{\"title\": \"0: (1, 2)\", \"label\": \"-\\u03b11\", \"from\": 0, \"to\": 1}, {\"title\": \"1: (1, 3)\", \"label\": \"+\\u03b11\", \"from\": 0, \"to\": 2}, {\"title\": \"2: (2, 3)\", \"label\": \"+\\u03b11\", \"from\": 1, \"to\": 2}, {\"title\": \"3: (3, 4)\", \"label\": \"-2\\u03b11\", \"from\": 2, \"to\": 3}, {\"title\": \"4: (4, 5)\", \"label\": \"+2\\u03b11\", \"from\": 3, \"to\": 4}, {\"title\": \"5: (5, 6)\", \"label\": \"-\\u03b11\", \"from\": 4, \"to\": 5}, {\"title\": \"6: (5, 9)\", \"label\": \"-\\u03b11\", \"from\": 4, \"to\": 8}, {\"title\": \"7: (6, 7)\", \"label\": \"+\\u03b11\", \"from\": 5, \"to\": 6}, {\"title\": \"8: (7, 8)\", \"label\": \"-\\u03b11\", \"from\": 6, \"to\": 7}, {\"title\": \"9: (8, 9)\", \"label\": \"+\\u03b11\", \"from\": 7, \"to\": 8}]);\n",
       "    const data = {\n",
       "            nodes: nodes,\n",
       "            edges: edges,\n",
       "    };\n",
       "    const options = {\"interaction\": {\"navigationButtons\": false}, \"width\": \"100%\", \"height\": \"100%\"};\n",
       "    const container = document.getElementById('7855184b-2df2-4a7d-bbfe-3f0b68f05ea8');\n",
       "    const network = new Network(container, data, options);\n",
       "    network.fit({maxZoomLevel: 10});\n",
       "    network.redraw();\n",
       "}\n",
       "\n",
       "render();\n",
       "document.getElementById('fit-7855184b-2df2-4a7d-bbfe-3f0b68f05ea8').addEventListener('click', function(event) {\n",
       "    event.preventDefault();  // Prevent page jump\n",
       "    render(); // Adjust zoom limit as needed\n",
       "});\n",
       "</script>\n"
      ],
      "text/plain": [
       "<IPython.core.display.HTML object>"
      ]
     },
     "metadata": {},
     "output_type": "display_data"
    }
   ],
   "source": [
    "kayak.show_kernel(disp_rates=False)"
   ]
  },
  {
   "cell_type": "markdown",
   "id": "a8b2ed37-5816-4ea1-911e-a8d37b1bc988",
   "metadata": {},
   "source": [
    "#### Hypergraphs"
   ]
  },
  {
   "cell_type": "markdown",
   "id": "708a3672-d806-4922-8e94-4239b7094a8a",
   "metadata": {},
   "source": [
    "The simplest 1-D hypergraph is two connected nodes with abandonment. The degree of liberty is then: match items or not."
   ]
  },
  {
   "cell_type": "markdown",
   "id": "ab31838d-6802-439c-b07a-684f67a986b7",
   "metadata": {},
   "source": [
    ":::note\n",
    "For hypergraphs, the kernel algorithm is optimized in a generic way, not using the edge-cycle algorithm, which only works on simple graphs.\n",
    ":::"
   ]
  },
  {
   "cell_type": "code",
   "execution_count": 5,
   "id": "302c851a-ee80-40e9-96a9-ed9497fbfd50",
   "metadata": {
    "execution": {
     "iopub.execute_input": "2025-09-26T18:31:59.297544Z",
     "iopub.status.busy": "2025-09-26T18:31:59.296199Z",
     "iopub.status.idle": "2025-09-26T18:31:59.305882Z",
     "shell.execute_reply": "2025-09-26T18:31:59.304305Z",
     "shell.execute_reply.started": "2025-09-26T18:31:59.297544Z"
    }
   },
   "outputs": [
    {
     "data": {
      "text/plain": [
       "Kernels of a graph with 2 nodes and 3 edges.\n",
       "Node dimension is 0.\n",
       "Edge dimension is 1\n",
       "Type: Surjective-only\n",
       "Node kernel:\n",
       "[]\n",
       "Edge kernel:\n",
       "[[-0.57735027 -0.57735027  0.57735027]]"
      ]
     },
     "execution_count": 5,
     "metadata": {},
     "output_type": "execute_result"
    }
   ],
   "source": [
    "two_nodes = sm.Model(incidence=[[1, 0, 1],[0, 1, 1]], names=[\"1\", \"2\"])\n",
    "two_nodes.kernel"
   ]
  },
  {
   "cell_type": "code",
   "execution_count": 6,
   "id": "f2b61b3a-e1e9-4dc8-a544-84cde240d566",
   "metadata": {
    "execution": {
     "iopub.execute_input": "2025-09-26T18:31:59.307300Z",
     "iopub.status.busy": "2025-09-26T18:31:59.307300Z",
     "iopub.status.idle": "2025-09-26T18:31:59.312902Z",
     "shell.execute_reply": "2025-09-26T18:31:59.312902Z",
     "shell.execute_reply.started": "2025-09-26T18:31:59.307300Z"
    }
   },
   "outputs": [
    {
     "data": {
      "text/html": [
       "\n",
       "<div class=\"sm-graph\">\n",
       "<div id=\"bddca8ad-a894-403f-9232-cfde930b2285\"></div>\n",
       "<a href=\"#\" id=\"fit-bddca8ad-a894-403f-9232-cfde930b2285\"\n",
       "  style=\"position: absolute; left: 10px; bottom: 10px; text-decoration: none; color: #888; font-size: min(2vw, 10px);\n",
       "  z-index: 10; pointer-events: auto;\"\n",
       "> Refresh\n",
       "</a>\n",
       "<style>\n",
       ".sm-graph {\n",
       "position: relative;\n",
       "width: 100%;\n",
       "height: 50vh !important;\n",
       "max-width: 100vw;\n",
       "max-height: 100vh !important;\n",
       "}\n",
       ".sm-graph > div {\n",
       "  height: 100%;   /* Make the inner div fill the parent */\n",
       "}\n",
       "</style>\n",
       "</div>\n",
       "<script type=\"module\">\n",
       "import { DataSet, Network } from \"https://unpkg.com/vis-network/standalone/esm/vis-network.min.js\";\n",
       "// CSS will be automatically injected into the page.\n",
       "function render () {\n",
       "    const nodes = new DataSet([{\"id\": 0, \"label\": \"1\", \"title\": \"0: 1\", \"x\": 0, \"group\": \"Node\"}, {\"id\": 1, \"label\": \"2\", \"title\": \"1: 2\", \"x\": 0, \"group\": \"Node\"}, {\"title\": \"0: (1)\", \"label\": \"-\\u03b11\", \"id\": 2, \"group\": \"HyperEdge\", \"x\": 600}, {\"title\": \"1: (2)\", \"label\": \"-1\\u03b11\", \"id\": 3, \"group\": \"HyperEdge\", \"x\": 600}, {\"title\": \"2: (1, 2)\", \"label\": \"+\\u03b11\", \"id\": 4, \"group\": \"HyperEdge\", \"x\": 600}]);\n",
       "    const edges = new DataSet([{\"from\": 0, \"to\": 2, \"title\": \"0: 1 <-> 0: (1)\"}, {\"from\": 0, \"to\": 4, \"title\": \"0: 1 <-> 2: (1, 2)\"}, {\"from\": 1, \"to\": 3, \"title\": \"1: 2 <-> 1: (2)\"}, {\"from\": 1, \"to\": 4, \"title\": \"1: 2 <-> 2: (1, 2)\"}]);\n",
       "    const data = {\n",
       "            nodes: nodes,\n",
       "            edges: edges,\n",
       "    };\n",
       "    const options = {\"interaction\": {\"navigationButtons\": false}, \"width\": \"100%\", \"height\": \"100%\", \"groups\": {\"HyperEdge\": {\"fixed\": {\"x\": false}, \"color\": {\"background\": \"black\"}, \"shape\": \"dot\", \"size\": 5}, \"Node\": {\"fixed\": {\"x\": false}}}};\n",
       "    const container = document.getElementById('bddca8ad-a894-403f-9232-cfde930b2285');\n",
       "    const network = new Network(container, data, options);\n",
       "    network.fit({maxZoomLevel: 10});\n",
       "    network.redraw();\n",
       "}\n",
       "\n",
       "render();\n",
       "document.getElementById('fit-bddca8ad-a894-403f-9232-cfde930b2285').addEventListener('click', function(event) {\n",
       "    event.preventDefault();  // Prevent page jump\n",
       "    render(); // Adjust zoom limit as needed\n",
       "});\n",
       "</script>\n"
      ],
      "text/plain": [
       "<IPython.core.display.HTML object>"
      ]
     },
     "metadata": {},
     "output_type": "display_data"
    }
   ],
   "source": [
    "two_nodes.show_kernel(disp_rates=False)"
   ]
  },
  {
   "cell_type": "markdown",
   "id": "4ea019d6-c48d-4292-8ea7-4968862fe7a6",
   "metadata": {},
   "source": [
    ":::note\n",
    "For hypergraphs, we use the standard representation as a bipartite graph with nodes on what side and hyperedges on the other side. However, by default, we do not enforce a physical separation with actual left and right parts. This is a deliberate choice as we find the hypergraphs easier to read without a physical separation, especially if there are close to a simple graph. However, the option exists. You can for example compare the following hypergraph, which is a regular two-way triangle with one additional multi-way match involving 6 items (1 of type $A$, 2 of type $B$, 3 of type $C$), in both representations:\n",
    ":::"
   ]
  },
  {
   "cell_type": "code",
   "execution_count": 29,
   "id": "ed1f357e-b988-4f9f-b685-a7316dd0e77f",
   "metadata": {
    "execution": {
     "iopub.execute_input": "2025-09-26T18:33:43.694188Z",
     "iopub.status.busy": "2025-09-26T18:33:43.694188Z",
     "iopub.status.idle": "2025-09-26T18:33:43.704354Z",
     "shell.execute_reply": "2025-09-26T18:33:43.703349Z",
     "shell.execute_reply.started": "2025-09-26T18:33:43.694188Z"
    }
   },
   "outputs": [
    {
     "data": {
      "text/html": [
       "\n",
       "<div class=\"sm-graph\">\n",
       "<div id=\"d0b71489-3ccd-4c68-94fd-8af439fe4c75\"></div>\n",
       "<a href=\"#\" id=\"fit-d0b71489-3ccd-4c68-94fd-8af439fe4c75\"\n",
       "  style=\"position: absolute; left: 10px; bottom: 10px; text-decoration: none; color: #888; font-size: min(2vw, 10px);\n",
       "  z-index: 10; pointer-events: auto;\"\n",
       "> Refresh\n",
       "</a>\n",
       "<style>\n",
       ".sm-graph {\n",
       "position: relative;\n",
       "width: 100%;\n",
       "height: 50vh !important;\n",
       "max-width: 100vw;\n",
       "max-height: 100vh !important;\n",
       "}\n",
       ".sm-graph > div {\n",
       "  height: 100%;   /* Make the inner div fill the parent */\n",
       "}\n",
       "</style>\n",
       "</div>\n",
       "<script type=\"module\">\n",
       "import { DataSet, Network } from \"https://unpkg.com/vis-network/standalone/esm/vis-network.min.js\";\n",
       "// CSS will be automatically injected into the page.\n",
       "function render () {\n",
       "    const nodes = new DataSet([{\"id\": 0, \"label\": \"A\", \"title\": \"0: A\", \"x\": 0, \"group\": \"Node\"}, {\"id\": 1, \"label\": \"B\", \"title\": \"1: B\", \"x\": 0, \"group\": \"Node\"}, {\"id\": 2, \"label\": \"C\", \"title\": \"2: C\", \"x\": 0, \"group\": \"Node\"}, {\"title\": \"0: (A, B)\", \"label\": \"\", \"color\": \"black\", \"id\": 3, \"group\": \"HyperEdge\", \"x\": 600}, {\"title\": \"1: (A, C)\", \"label\": \"-1\\u03b11\", \"id\": 4, \"group\": \"HyperEdge\", \"x\": 600}, {\"title\": \"2: (B, C)\", \"label\": \"-2\\u03b11\", \"id\": 5, \"group\": \"HyperEdge\", \"x\": 600}, {\"title\": \"3: (A, B, C)\", \"label\": \"+\\u03b11\", \"id\": 6, \"group\": \"HyperEdge\", \"x\": 600}]);\n",
       "    const edges = new DataSet([{\"from\": 0, \"to\": 3, \"title\": \"0: A <-> 0: (A, B)\"}, {\"from\": 0, \"to\": 4, \"title\": \"0: A <-> 1: (A, C)\"}, {\"from\": 0, \"to\": 6, \"title\": \"0: A <-> 3: (A, B, C)\"}, {\"from\": 1, \"to\": 3, \"title\": \"1: B <-> 0: (A, B)\"}, {\"from\": 1, \"to\": 5, \"title\": \"1: B <-> 2: (B, C)\"}, {\"from\": 1, \"to\": 6, \"title\": \"1: B <-> 3: (A, B, C)\"}, {\"from\": 2, \"to\": 4, \"title\": \"2: C <-> 1: (A, C)\"}, {\"from\": 2, \"to\": 5, \"title\": \"2: C <-> 2: (B, C)\"}, {\"from\": 2, \"to\": 6, \"title\": \"2: C <-> 3: (A, B, C)\"}]);\n",
       "    const data = {\n",
       "            nodes: nodes,\n",
       "            edges: edges,\n",
       "    };\n",
       "    const options = {\"interaction\": {\"navigationButtons\": false}, \"width\": \"100%\", \"height\": \"100%\", \"groups\": {\"HyperEdge\": {\"fixed\": {\"x\": false}, \"color\": {\"background\": \"black\"}, \"shape\": \"dot\", \"size\": 5}, \"Node\": {\"fixed\": {\"x\": false}}}};\n",
       "    const container = document.getElementById('d0b71489-3ccd-4c68-94fd-8af439fe4c75');\n",
       "    const network = new Network(container, data, options);\n",
       "    network.fit({maxZoomLevel: 10});\n",
       "    network.redraw();\n",
       "}\n",
       "\n",
       "render();\n",
       "document.getElementById('fit-d0b71489-3ccd-4c68-94fd-8af439fe4c75').addEventListener('click', function(event) {\n",
       "    event.preventDefault();  // Prevent page jump\n",
       "    render(); // Adjust zoom limit as needed\n",
       "});\n",
       "</script>\n"
      ],
      "text/plain": [
       "<IPython.core.display.HTML object>"
      ]
     },
     "metadata": {},
     "output_type": "display_data"
    }
   ],
   "source": [
    "import numpy as np\n",
    "hypertriangle = sm.Model(incidence=np.hstack([sm.Cycle(n=3).incidence, np.array([[1, 2, 3]]).T]), names=\"alpha\")\n",
    "hypertriangle.show_kernel(disp_rates=False)"
   ]
  },
  {
   "cell_type": "code",
   "execution_count": 30,
   "id": "1493bd37-bce3-454e-a6d2-083b112a72bf",
   "metadata": {
    "execution": {
     "iopub.execute_input": "2025-09-26T18:33:45.734675Z",
     "iopub.status.busy": "2025-09-26T18:33:45.733675Z",
     "iopub.status.idle": "2025-09-26T18:33:45.739414Z",
     "shell.execute_reply": "2025-09-26T18:33:45.739414Z",
     "shell.execute_reply.started": "2025-09-26T18:33:45.734675Z"
    }
   },
   "outputs": [
    {
     "data": {
      "text/html": [
       "\n",
       "<div class=\"sm-graph\">\n",
       "<div id=\"2053234d-e856-4271-ad80-65b234195999\"></div>\n",
       "<a href=\"#\" id=\"fit-2053234d-e856-4271-ad80-65b234195999\"\n",
       "  style=\"position: absolute; left: 10px; bottom: 10px; text-decoration: none; color: #888; font-size: min(2vw, 10px);\n",
       "  z-index: 10; pointer-events: auto;\"\n",
       "> Refresh\n",
       "</a>\n",
       "<style>\n",
       ".sm-graph {\n",
       "position: relative;\n",
       "width: 100%;\n",
       "height: 50vh !important;\n",
       "max-width: 100vw;\n",
       "max-height: 100vh !important;\n",
       "}\n",
       ".sm-graph > div {\n",
       "  height: 100%;   /* Make the inner div fill the parent */\n",
       "}\n",
       "</style>\n",
       "</div>\n",
       "<script type=\"module\">\n",
       "import { DataSet, Network } from \"https://unpkg.com/vis-network/standalone/esm/vis-network.min.js\";\n",
       "// CSS will be automatically injected into the page.\n",
       "function render () {\n",
       "    const nodes = new DataSet([{\"id\": 0, \"label\": \"A\", \"title\": \"0: A\", \"x\": 0, \"group\": \"Node\"}, {\"id\": 1, \"label\": \"B\", \"title\": \"1: B\", \"x\": 0, \"group\": \"Node\"}, {\"id\": 2, \"label\": \"C\", \"title\": \"2: C\", \"x\": 0, \"group\": \"Node\"}, {\"title\": \"0: (A, B)\", \"label\": \"\", \"color\": \"black\", \"id\": 3, \"group\": \"HyperEdge\", \"x\": 480}, {\"title\": \"1: (A, C)\", \"label\": \"-1\\u03b11\", \"id\": 4, \"group\": \"HyperEdge\", \"x\": 480}, {\"title\": \"2: (B, C)\", \"label\": \"-2\\u03b11\", \"id\": 5, \"group\": \"HyperEdge\", \"x\": 480}, {\"title\": \"3: (A, B, C)\", \"label\": \"+\\u03b11\", \"id\": 6, \"group\": \"HyperEdge\", \"x\": 480}]);\n",
       "    const edges = new DataSet([{\"from\": 0, \"to\": 3, \"title\": \"0: A <-> 0: (A, B)\"}, {\"from\": 0, \"to\": 4, \"title\": \"0: A <-> 1: (A, C)\"}, {\"from\": 0, \"to\": 6, \"title\": \"0: A <-> 3: (A, B, C)\"}, {\"from\": 1, \"to\": 3, \"title\": \"1: B <-> 0: (A, B)\"}, {\"from\": 1, \"to\": 5, \"title\": \"1: B <-> 2: (B, C)\"}, {\"from\": 1, \"to\": 6, \"title\": \"1: B <-> 3: (A, B, C)\"}, {\"from\": 2, \"to\": 4, \"title\": \"2: C <-> 1: (A, C)\"}, {\"from\": 2, \"to\": 5, \"title\": \"2: C <-> 2: (B, C)\"}, {\"from\": 2, \"to\": 6, \"title\": \"2: C <-> 3: (A, B, C)\"}]);\n",
       "    const data = {\n",
       "            nodes: nodes,\n",
       "            edges: edges,\n",
       "    };\n",
       "    const options = {\"interaction\": {\"navigationButtons\": false}, \"width\": \"100%\", \"height\": \"100%\", \"groups\": {\"HyperEdge\": {\"fixed\": {\"x\": true}, \"color\": {\"background\": \"black\"}, \"shape\": \"dot\", \"size\": 5}, \"Node\": {\"fixed\": {\"x\": true}}}};\n",
       "    const container = document.getElementById('2053234d-e856-4271-ad80-65b234195999');\n",
       "    const network = new Network(container, data, options);\n",
       "    network.fit({maxZoomLevel: 10});\n",
       "    network.redraw();\n",
       "}\n",
       "\n",
       "render();\n",
       "document.getElementById('fit-2053234d-e856-4271-ad80-65b234195999').addEventListener('click', function(event) {\n",
       "    event.preventDefault();  // Prevent page jump\n",
       "    render(); // Adjust zoom limit as needed\n",
       "});\n",
       "</script>\n"
      ],
      "text/plain": [
       "<IPython.core.display.HTML object>"
      ]
     },
     "metadata": {},
     "output_type": "display_data"
    }
   ],
   "source": [
    "hypertriangle.show_kernel(disp_rates=False, bipartite=True)"
   ]
  },
  {
   "cell_type": "markdown",
   "id": "eba32550-267f-4744-a48b-849bb04c7231",
   "metadata": {},
   "source": [
    "### Examples of 2-D kernels"
   ]
  },
  {
   "cell_type": "markdown",
   "id": "dd795d84-a04d-4c6b-aa41-097863a9d586",
   "metadata": {},
   "source": [
    "#### Co-Domino"
   ]
  },
  {
   "cell_type": "code",
   "execution_count": 9,
   "id": "ee091868-d9a0-4e57-b8bf-ec1c88dbb700",
   "metadata": {
    "execution": {
     "iopub.execute_input": "2025-09-26T18:31:59.328570Z",
     "iopub.status.busy": "2025-09-26T18:31:59.328570Z",
     "iopub.status.idle": "2025-09-26T18:31:59.333546Z",
     "shell.execute_reply": "2025-09-26T18:31:59.333546Z",
     "shell.execute_reply.started": "2025-09-26T18:31:59.328570Z"
    }
   },
   "outputs": [
    {
     "data": {
      "text/plain": [
       "Kernels of a graph with 6 nodes and 8 edges.\n",
       "Node dimension is 0.\n",
       "Edge dimension is 2\n",
       "Type: Surjective-only\n",
       "Node kernel:\n",
       "[]\n",
       "Edge kernel:\n",
       "[[ 0  0  1 -1 -1  1  0  0]\n",
       " [ 1 -1  0 -1  1  0 -1  1]]"
      ]
     },
     "execution_count": 9,
     "metadata": {},
     "output_type": "execute_result"
    }
   ],
   "source": [
    "codomino = sm.Codomino(names=[\"1\", \"2\", \"6\", \"5\", \"3\", \"4\"])\n",
    "codomino.kernel"
   ]
  },
  {
   "cell_type": "code",
   "execution_count": 10,
   "id": "35b0c7bb-cf1e-454c-a176-6012fad1ed29",
   "metadata": {
    "execution": {
     "iopub.execute_input": "2025-09-26T18:31:59.334557Z",
     "iopub.status.busy": "2025-09-26T18:31:59.334557Z",
     "iopub.status.idle": "2025-09-26T18:31:59.339381Z",
     "shell.execute_reply": "2025-09-26T18:31:59.339381Z",
     "shell.execute_reply.started": "2025-09-26T18:31:59.334557Z"
    }
   },
   "outputs": [
    {
     "data": {
      "text/html": [
       "\n",
       "<div class=\"sm-graph\">\n",
       "<div id=\"d18cb84b-2cc7-458c-be35-8230877e2e48\"></div>\n",
       "<a href=\"#\" id=\"fit-d18cb84b-2cc7-458c-be35-8230877e2e48\"\n",
       "  style=\"position: absolute; left: 10px; bottom: 10px; text-decoration: none; color: #888; font-size: min(2vw, 10px);\n",
       "  z-index: 10; pointer-events: auto;\"\n",
       "> Refresh\n",
       "</a>\n",
       "<style>\n",
       ".sm-graph {\n",
       "position: relative;\n",
       "width: 100%;\n",
       "height: 50vh !important;\n",
       "max-width: 100vw;\n",
       "max-height: 100vh !important;\n",
       "}\n",
       ".sm-graph > div {\n",
       "  height: 100%;   /* Make the inner div fill the parent */\n",
       "}\n",
       "</style>\n",
       "</div>\n",
       "<script type=\"module\">\n",
       "import { DataSet, Network } from \"https://unpkg.com/vis-network/standalone/esm/vis-network.min.js\";\n",
       "// CSS will be automatically injected into the page.\n",
       "function render () {\n",
       "    const nodes = new DataSet([{\"id\": 0, \"label\": \"1\", \"title\": \"0: 1\"}, {\"id\": 1, \"label\": \"2\", \"title\": \"1: 2\"}, {\"id\": 2, \"label\": \"6\", \"title\": \"2: 6\"}, {\"id\": 3, \"label\": \"5\", \"title\": \"3: 5\"}, {\"id\": 4, \"label\": \"3\", \"title\": \"4: 3\"}, {\"id\": 5, \"label\": \"4\", \"title\": \"5: 4\"}]);\n",
       "    const edges = new DataSet([{\"title\": \"0: (1, 2)\", \"label\": \"+\\u03b12\", \"from\": 0, \"to\": 1}, {\"title\": \"1: (1, 6)\", \"label\": \"-\\u03b12\", \"from\": 0, \"to\": 2}, {\"title\": \"2: (2, 6)\", \"label\": \"+\\u03b11\", \"from\": 1, \"to\": 2}, {\"title\": \"3: (2, 3)\", \"label\": \"-\\u03b11-\\u03b12\", \"from\": 1, \"to\": 4}, {\"title\": \"4: (6, 5)\", \"label\": \"-\\u03b11+\\u03b12\", \"from\": 2, \"to\": 3}, {\"title\": \"5: (5, 3)\", \"label\": \"+\\u03b11\", \"from\": 3, \"to\": 4}, {\"title\": \"6: (5, 4)\", \"label\": \"-\\u03b12\", \"from\": 3, \"to\": 5}, {\"title\": \"7: (3, 4)\", \"label\": \"+\\u03b12\", \"from\": 4, \"to\": 5}]);\n",
       "    const data = {\n",
       "            nodes: nodes,\n",
       "            edges: edges,\n",
       "    };\n",
       "    const options = {\"interaction\": {\"navigationButtons\": false}, \"width\": \"100%\", \"height\": \"100%\"};\n",
       "    const container = document.getElementById('d18cb84b-2cc7-458c-be35-8230877e2e48');\n",
       "    const network = new Network(container, data, options);\n",
       "    network.fit({maxZoomLevel: 10});\n",
       "    network.redraw();\n",
       "}\n",
       "\n",
       "render();\n",
       "document.getElementById('fit-d18cb84b-2cc7-458c-be35-8230877e2e48').addEventListener('click', function(event) {\n",
       "    event.preventDefault();  // Prevent page jump\n",
       "    render(); // Adjust zoom limit as needed\n",
       "});\n",
       "</script>\n"
      ],
      "text/plain": [
       "<IPython.core.display.HTML object>"
      ]
     },
     "metadata": {},
     "output_type": "display_data"
    }
   ],
   "source": [
    "codomino.show_kernel(disp_rates=False)"
   ]
  },
  {
   "cell_type": "markdown",
   "id": "7a7585ba-8703-4a92-a3e7-145fc44deb55",
   "metadata": {},
   "source": [
    "For multi-dimensional kernels, the possible basis are not unique. However, one can hint at a specific basis by specifying *seed* edges (cf paper)."
   ]
  },
  {
   "cell_type": "code",
   "execution_count": 11,
   "id": "8cf2c938-4ff9-4c0b-ab4c-f72b00771b02",
   "metadata": {
    "execution": {
     "iopub.execute_input": "2025-09-26T18:31:59.339381Z",
     "iopub.status.busy": "2025-09-26T18:31:59.339381Z",
     "iopub.status.idle": "2025-09-26T18:31:59.345697Z",
     "shell.execute_reply": "2025-09-26T18:31:59.345697Z",
     "shell.execute_reply.started": "2025-09-26T18:31:59.339381Z"
    }
   },
   "outputs": [
    {
     "data": {
      "text/plain": [
       "Kernels of a graph with 6 nodes and 8 edges.\n",
       "Node dimension is 0.\n",
       "Edge dimension is 2\n",
       "Type: Surjective-only\n",
       "Node kernel:\n",
       "[]\n",
       "Edge kernel:\n",
       "[[ 1 -1 -1  0  2 -1 -1  1]\n",
       " [ 0  0 -1  1  1 -1  0  0]]"
      ]
     },
     "execution_count": 11,
     "metadata": {},
     "output_type": "execute_result"
    }
   ],
   "source": [
    "codomino.seeds = [0, 3]\n",
    "codomino.kernel"
   ]
  },
  {
   "cell_type": "code",
   "execution_count": 12,
   "id": "15115502-698b-4f68-b919-cd824f6fa82e",
   "metadata": {
    "execution": {
     "iopub.execute_input": "2025-09-26T18:31:59.347128Z",
     "iopub.status.busy": "2025-09-26T18:31:59.345697Z",
     "iopub.status.idle": "2025-09-26T18:31:59.352296Z",
     "shell.execute_reply": "2025-09-26T18:31:59.352296Z",
     "shell.execute_reply.started": "2025-09-26T18:31:59.347128Z"
    }
   },
   "outputs": [
    {
     "data": {
      "text/html": [
       "\n",
       "<div class=\"sm-graph\">\n",
       "<div id=\"ff12a00c-0bca-4bb2-91dd-6f6f3b5da23d\"></div>\n",
       "<a href=\"#\" id=\"fit-ff12a00c-0bca-4bb2-91dd-6f6f3b5da23d\"\n",
       "  style=\"position: absolute; left: 10px; bottom: 10px; text-decoration: none; color: #888; font-size: min(2vw, 10px);\n",
       "  z-index: 10; pointer-events: auto;\"\n",
       "> Refresh\n",
       "</a>\n",
       "<style>\n",
       ".sm-graph {\n",
       "position: relative;\n",
       "width: 100%;\n",
       "height: 50vh !important;\n",
       "max-width: 100vw;\n",
       "max-height: 100vh !important;\n",
       "}\n",
       ".sm-graph > div {\n",
       "  height: 100%;   /* Make the inner div fill the parent */\n",
       "}\n",
       "</style>\n",
       "</div>\n",
       "<script type=\"module\">\n",
       "import { DataSet, Network } from \"https://unpkg.com/vis-network/standalone/esm/vis-network.min.js\";\n",
       "// CSS will be automatically injected into the page.\n",
       "function render () {\n",
       "    const nodes = new DataSet([{\"id\": 0, \"label\": \"1\", \"title\": \"0: 1\"}, {\"id\": 1, \"label\": \"2\", \"title\": \"1: 2\"}, {\"id\": 2, \"label\": \"6\", \"title\": \"2: 6\"}, {\"id\": 3, \"label\": \"5\", \"title\": \"3: 5\"}, {\"id\": 4, \"label\": \"3\", \"title\": \"4: 3\"}, {\"id\": 5, \"label\": \"4\", \"title\": \"5: 4\"}]);\n",
       "    const edges = new DataSet([{\"title\": \"0: (1, 2)\", \"label\": \"+\\u03b11\", \"from\": 0, \"to\": 1}, {\"title\": \"1: (1, 6)\", \"label\": \"-\\u03b11\", \"from\": 0, \"to\": 2}, {\"title\": \"2: (2, 6)\", \"label\": \"-\\u03b11-\\u03b12\", \"from\": 1, \"to\": 2}, {\"title\": \"3: (2, 3)\", \"label\": \"+\\u03b12\", \"from\": 1, \"to\": 4}, {\"title\": \"4: (6, 5)\", \"label\": \"+2\\u03b11+\\u03b12\", \"from\": 2, \"to\": 3}, {\"title\": \"5: (5, 3)\", \"label\": \"-\\u03b11-\\u03b12\", \"from\": 3, \"to\": 4}, {\"title\": \"6: (5, 4)\", \"label\": \"-\\u03b11\", \"from\": 3, \"to\": 5}, {\"title\": \"7: (3, 4)\", \"label\": \"+\\u03b11\", \"from\": 4, \"to\": 5}]);\n",
       "    const data = {\n",
       "            nodes: nodes,\n",
       "            edges: edges,\n",
       "    };\n",
       "    const options = {\"interaction\": {\"navigationButtons\": false}, \"width\": \"100%\", \"height\": \"100%\"};\n",
       "    const container = document.getElementById('ff12a00c-0bca-4bb2-91dd-6f6f3b5da23d');\n",
       "    const network = new Network(container, data, options);\n",
       "    network.fit({maxZoomLevel: 10});\n",
       "    network.redraw();\n",
       "}\n",
       "\n",
       "render();\n",
       "document.getElementById('fit-ff12a00c-0bca-4bb2-91dd-6f6f3b5da23d').addEventListener('click', function(event) {\n",
       "    event.preventDefault();  // Prevent page jump\n",
       "    render(); // Adjust zoom limit as needed\n",
       "});\n",
       "</script>\n"
      ],
      "text/plain": [
       "<IPython.core.display.HTML object>"
      ]
     },
     "metadata": {},
     "output_type": "display_data"
    }
   ],
   "source": [
    "codomino.show_kernel(disp_rates=False)"
   ]
  },
  {
   "cell_type": "markdown",
   "id": "4b8c0658-4baa-4900-96b9-13dc22325e04",
   "metadata": {},
   "source": [
    "#### Triamond"
   ]
  },
  {
   "cell_type": "code",
   "execution_count": 13,
   "id": "2ececa72-bd4b-46d1-96ee-4473e8ba50b7",
   "metadata": {
    "execution": {
     "iopub.execute_input": "2025-09-26T18:31:59.353743Z",
     "iopub.status.busy": "2025-09-26T18:31:59.352296Z",
     "iopub.status.idle": "2025-09-26T18:31:59.359073Z",
     "shell.execute_reply": "2025-09-26T18:31:59.359073Z",
     "shell.execute_reply.started": "2025-09-26T18:31:59.353743Z"
    }
   },
   "outputs": [
    {
     "data": {
      "text/html": [
       "\n",
       "<div class=\"sm-graph\">\n",
       "<div id=\"efb7951d-66ec-47cb-875b-903319a07f06\"></div>\n",
       "<a href=\"#\" id=\"fit-efb7951d-66ec-47cb-875b-903319a07f06\"\n",
       "  style=\"position: absolute; left: 10px; bottom: 10px; text-decoration: none; color: #888; font-size: min(2vw, 10px);\n",
       "  z-index: 10; pointer-events: auto;\"\n",
       "> Refresh\n",
       "</a>\n",
       "<style>\n",
       ".sm-graph {\n",
       "position: relative;\n",
       "width: 100%;\n",
       "height: 50vh !important;\n",
       "max-width: 100vw;\n",
       "max-height: 100vh !important;\n",
       "}\n",
       ".sm-graph > div {\n",
       "  height: 100%;   /* Make the inner div fill the parent */\n",
       "}\n",
       "</style>\n",
       "</div>\n",
       "<script type=\"module\">\n",
       "import { DataSet, Network } from \"https://unpkg.com/vis-network/standalone/esm/vis-network.min.js\";\n",
       "// CSS will be automatically injected into the page.\n",
       "function render () {\n",
       "    const nodes = new DataSet([{\"id\": 0, \"label\": \"1\", \"title\": \"0: 1\"}, {\"id\": 1, \"label\": \"5\", \"title\": \"1: 5\"}, {\"id\": 2, \"label\": \"2\", \"title\": \"2: 2\"}, {\"id\": 3, \"label\": \"4\", \"title\": \"3: 4\"}, {\"id\": 4, \"label\": \"3\", \"title\": \"4: 3\"}]);\n",
       "    const edges = new DataSet([{\"title\": \"0: (1, 5)\", \"label\": \"-\\u03b11\", \"from\": 0, \"to\": 1}, {\"title\": \"1: (1, 2)\", \"label\": \"+\\u03b11\", \"from\": 0, \"to\": 2}, {\"title\": \"2: (5, 2)\", \"label\": \"+\\u03b11-\\u03b12\", \"from\": 1, \"to\": 2}, {\"title\": \"3: (5, 4)\", \"label\": \"+\\u03b12\", \"from\": 1, \"to\": 3}, {\"title\": \"4: (2, 4)\", \"label\": \"-\\u03b11\", \"from\": 2, \"to\": 3}, {\"title\": \"5: (2, 3)\", \"label\": \"-\\u03b11+\\u03b12\", \"from\": 2, \"to\": 4}, {\"title\": \"6: (4, 3)\", \"label\": \"+\\u03b11-\\u03b12\", \"from\": 3, \"to\": 4}]);\n",
       "    const data = {\n",
       "            nodes: nodes,\n",
       "            edges: edges,\n",
       "    };\n",
       "    const options = {\"interaction\": {\"navigationButtons\": false}, \"width\": \"100%\", \"height\": \"100%\"};\n",
       "    const container = document.getElementById('efb7951d-66ec-47cb-875b-903319a07f06');\n",
       "    const network = new Network(container, data, options);\n",
       "    network.fit({maxZoomLevel: 10});\n",
       "    network.redraw();\n",
       "}\n",
       "\n",
       "render();\n",
       "document.getElementById('fit-efb7951d-66ec-47cb-875b-903319a07f06').addEventListener('click', function(event) {\n",
       "    event.preventDefault();  // Prevent page jump\n",
       "    render(); // Adjust zoom limit as needed\n",
       "});\n",
       "</script>\n"
      ],
      "text/plain": [
       "<IPython.core.display.HTML object>"
      ]
     },
     "metadata": {},
     "output_type": "display_data"
    }
   ],
   "source": [
    "triamond = sm.CycleChain(c=3, names=[str(i) for i in [1, 5, 2, 4, 3]])\n",
    "triamond.seeds = [1, 3]\n",
    "triamond.show_kernel(disp_rates=False)"
   ]
  },
  {
   "cell_type": "code",
   "execution_count": 14,
   "id": "205b5e0e-4880-4f86-8fbd-f746e307c46e",
   "metadata": {
    "execution": {
     "iopub.execute_input": "2025-09-26T18:31:59.360510Z",
     "iopub.status.busy": "2025-09-26T18:31:59.359073Z",
     "iopub.status.idle": "2025-09-26T18:31:59.364084Z",
     "shell.execute_reply": "2025-09-26T18:31:59.364084Z",
     "shell.execute_reply.started": "2025-09-26T18:31:59.360510Z"
    }
   },
   "outputs": [
    {
     "data": {
      "text/html": [
       "\n",
       "<div class=\"sm-graph\">\n",
       "<div id=\"08e7377c-0eb4-4a39-bfe0-1012136c535c\"></div>\n",
       "<a href=\"#\" id=\"fit-08e7377c-0eb4-4a39-bfe0-1012136c535c\"\n",
       "  style=\"position: absolute; left: 10px; bottom: 10px; text-decoration: none; color: #888; font-size: min(2vw, 10px);\n",
       "  z-index: 10; pointer-events: auto;\"\n",
       "> Refresh\n",
       "</a>\n",
       "<style>\n",
       ".sm-graph {\n",
       "position: relative;\n",
       "width: 100%;\n",
       "height: 50vh !important;\n",
       "max-width: 100vw;\n",
       "max-height: 100vh !important;\n",
       "}\n",
       ".sm-graph > div {\n",
       "  height: 100%;   /* Make the inner div fill the parent */\n",
       "}\n",
       "</style>\n",
       "</div>\n",
       "<script type=\"module\">\n",
       "import { DataSet, Network } from \"https://unpkg.com/vis-network/standalone/esm/vis-network.min.js\";\n",
       "// CSS will be automatically injected into the page.\n",
       "function render () {\n",
       "    const nodes = new DataSet([{\"id\": 0, \"label\": \"1\", \"title\": \"0: 1\"}, {\"id\": 1, \"label\": \"5\", \"title\": \"1: 5\"}, {\"id\": 2, \"label\": \"2\", \"title\": \"2: 2\"}, {\"id\": 3, \"label\": \"4\", \"title\": \"3: 4\"}, {\"id\": 4, \"label\": \"3\", \"title\": \"4: 3\"}]);\n",
       "    const edges = new DataSet([{\"title\": \"0: (1, 5)\", \"label\": \"+\\u03b11\", \"from\": 0, \"to\": 1}, {\"title\": \"1: (1, 2)\", \"label\": \"-\\u03b11\", \"from\": 0, \"to\": 2}, {\"title\": \"2: (5, 2)\", \"label\": \"+\\u03b12\", \"from\": 1, \"to\": 2}, {\"title\": \"3: (5, 4)\", \"label\": \"-\\u03b11-\\u03b12\", \"from\": 1, \"to\": 3}, {\"title\": \"4: (2, 4)\", \"label\": \"+\\u03b11\", \"from\": 2, \"to\": 3}, {\"title\": \"5: (2, 3)\", \"label\": \"-\\u03b12\", \"from\": 2, \"to\": 4}, {\"title\": \"6: (4, 3)\", \"label\": \"+\\u03b12\", \"from\": 3, \"to\": 4}]);\n",
       "    const data = {\n",
       "            nodes: nodes,\n",
       "            edges: edges,\n",
       "    };\n",
       "    const options = {\"interaction\": {\"navigationButtons\": false}, \"width\": \"100%\", \"height\": \"100%\"};\n",
       "    const container = document.getElementById('08e7377c-0eb4-4a39-bfe0-1012136c535c');\n",
       "    const network = new Network(container, data, options);\n",
       "    network.fit({maxZoomLevel: 10});\n",
       "    network.redraw();\n",
       "}\n",
       "\n",
       "render();\n",
       "document.getElementById('fit-08e7377c-0eb4-4a39-bfe0-1012136c535c').addEventListener('click', function(event) {\n",
       "    event.preventDefault();  // Prevent page jump\n",
       "    render(); // Adjust zoom limit as needed\n",
       "});\n",
       "</script>\n"
      ],
      "text/plain": [
       "<IPython.core.display.HTML object>"
      ]
     },
     "metadata": {},
     "output_type": "display_data"
    }
   ],
   "source": [
    "triamond.seeds = [4, 2]\n",
    "triamond.show_kernel(disp_rates=False)"
   ]
  },
  {
   "cell_type": "markdown",
   "id": "32f7d9b9-e974-4814-85c6-460af914140d",
   "metadata": {},
   "source": [
    "## Vertices"
   ]
  },
  {
   "cell_type": "markdown",
   "id": "57d8c934-da80-4b54-9229-a65091a20234",
   "metadata": {},
   "source": [
    "### Co-domino variations"
   ]
  },
  {
   "cell_type": "markdown",
   "id": "c16fa30a-f2c3-472d-bd36-665d59eae689",
   "metadata": {},
   "source": [
    "Just by changing the arrival rates, one can change a lot the properties of the polytope of feasible matching rates. Using the codomino graph (one of the smallest possible simple graph with a 2-D kernel), one can observe how different the polytope can be."
   ]
  },
  {
   "cell_type": "markdown",
   "id": "04ecb5d0-6e62-451a-aec5-fc992028378e",
   "metadata": {},
   "source": [
    "#### Mix of injective-only and bijective vertices"
   ]
  },
  {
   "cell_type": "markdown",
   "id": "8d6b922f-19f6-4552-a27f-e3d94aacadc8",
   "metadata": {},
   "source": [
    "By default, arrival rates are proportional to node degrees. This often yields to many injective-only vertices, as shown by the codomino."
   ]
  },
  {
   "cell_type": "code",
   "execution_count": 15,
   "id": "32c660fa-e74e-4151-b11b-5f6bda3e7878",
   "metadata": {
    "execution": {
     "iopub.execute_input": "2025-09-26T18:31:59.364084Z",
     "iopub.status.busy": "2025-09-26T18:31:59.364084Z",
     "iopub.status.idle": "2025-09-26T18:31:59.371872Z",
     "shell.execute_reply": "2025-09-26T18:31:59.371872Z",
     "shell.execute_reply.started": "2025-09-26T18:31:59.364084Z"
    }
   },
   "outputs": [
    {
     "data": {
      "text/html": [
       "\n",
       "<div class=\"sm-graph\">\n",
       "<div id=\"713f96a8-9f45-4e65-ab9f-8eae9336a8e9\"></div>\n",
       "<a href=\"#\" id=\"fit-713f96a8-9f45-4e65-ab9f-8eae9336a8e9\"\n",
       "  style=\"position: absolute; left: 10px; bottom: 10px; text-decoration: none; color: #888; font-size: min(2vw, 10px);\n",
       "  z-index: 10; pointer-events: auto;\"\n",
       "> Refresh\n",
       "</a>\n",
       "<style>\n",
       ".sm-graph {\n",
       "position: relative;\n",
       "width: 100%;\n",
       "height: 50vh !important;\n",
       "max-width: 100vw;\n",
       "max-height: 100vh !important;\n",
       "}\n",
       ".sm-graph > div {\n",
       "  height: 100%;   /* Make the inner div fill the parent */\n",
       "}\n",
       "</style>\n",
       "</div>\n",
       "<script type=\"module\">\n",
       "import { DataSet, Network } from \"https://unpkg.com/vis-network/standalone/esm/vis-network.min.js\";\n",
       "// CSS will be automatically injected into the page.\n",
       "function render () {\n",
       "    const nodes = new DataSet([{\"id\": 0, \"label\": \"1\", \"title\": \"0: 1\"}, {\"id\": 1, \"label\": \"2\", \"title\": \"1: 2\"}, {\"id\": 2, \"label\": \"6\", \"title\": \"2: 6\"}, {\"id\": 3, \"label\": \"5\", \"title\": \"3: 5\"}, {\"id\": 4, \"label\": \"3\", \"title\": \"4: 3\"}, {\"id\": 5, \"label\": \"4\", \"title\": \"5: 4\"}]);\n",
       "    const edges = new DataSet([{\"title\": \"0: (1, 2)\", \"label\": \"1-\\u03b11\", \"from\": 0, \"to\": 1}, {\"title\": \"1: (1, 6)\", \"label\": \"1+\\u03b11\", \"from\": 0, \"to\": 2}, {\"title\": \"2: (2, 6)\", \"label\": \"1+\\u03b12\", \"from\": 1, \"to\": 2}, {\"title\": \"3: (2, 3)\", \"label\": \"1+\\u03b11-\\u03b12\", \"from\": 1, \"to\": 4}, {\"title\": \"4: (6, 5)\", \"label\": \"1-\\u03b11-\\u03b12\", \"from\": 2, \"to\": 3}, {\"title\": \"5: (5, 3)\", \"label\": \"1+\\u03b12\", \"from\": 3, \"to\": 4}, {\"title\": \"6: (5, 4)\", \"label\": \"1+\\u03b11\", \"from\": 3, \"to\": 5}, {\"title\": \"7: (3, 4)\", \"label\": \"1-\\u03b11\", \"from\": 4, \"to\": 5}]);\n",
       "    const data = {\n",
       "            nodes: nodes,\n",
       "            edges: edges,\n",
       "    };\n",
       "    const options = {\"interaction\": {\"navigationButtons\": false}, \"width\": \"100%\", \"height\": \"100%\"};\n",
       "    const container = document.getElementById('713f96a8-9f45-4e65-ab9f-8eae9336a8e9');\n",
       "    const network = new Network(container, data, options);\n",
       "    network.fit({maxZoomLevel: 10});\n",
       "    network.redraw();\n",
       "}\n",
       "\n",
       "render();\n",
       "document.getElementById('fit-713f96a8-9f45-4e65-ab9f-8eae9336a8e9').addEventListener('click', function(event) {\n",
       "    event.preventDefault();  // Prevent page jump\n",
       "    render(); // Adjust zoom limit as needed\n",
       "});\n",
       "</script>\n"
      ],
      "text/plain": [
       "<IPython.core.display.HTML object>"
      ]
     },
     "metadata": {},
     "output_type": "display_data"
    }
   ],
   "source": [
    "codomino.seeds = [1, 2] # We use the seeds to select a kernel basis\n",
    "codomino.show_kernel(disp_flow=True, disp_rates=False)"
   ]
  },
  {
   "cell_type": "code",
   "execution_count": 16,
   "id": "085c2c70-a3a8-4b14-a8c5-c1cfc7d2d671",
   "metadata": {
    "execution": {
     "iopub.execute_input": "2025-09-26T18:31:59.373033Z",
     "iopub.status.busy": "2025-09-26T18:31:59.371872Z",
     "iopub.status.idle": "2025-09-26T18:31:59.387524Z",
     "shell.execute_reply": "2025-09-26T18:31:59.387524Z",
     "shell.execute_reply.started": "2025-09-26T18:31:59.373033Z"
    }
   },
   "outputs": [
    {
     "data": {
      "text/html": [
       "\n",
       "<div class=\"sm-graph\">\n",
       "<div id=\"8852521e-d105-4751-874a-9a9e2e8cb329\"></div>\n",
       "<a href=\"#\" id=\"fit-8852521e-d105-4751-874a-9a9e2e8cb329\"\n",
       "  style=\"position: absolute; left: 10px; bottom: 10px; text-decoration: none; color: #888; font-size: min(2vw, 10px);\n",
       "  z-index: 10; pointer-events: auto;\"\n",
       "> Refresh\n",
       "</a>\n",
       "<style>\n",
       ".sm-graph {\n",
       "position: relative;\n",
       "width: 100%;\n",
       "height: 50vh !important;\n",
       "max-width: 100vw;\n",
       "max-height: 100vh !important;\n",
       "}\n",
       ".sm-graph > div {\n",
       "  height: 100%;   /* Make the inner div fill the parent */\n",
       "}\n",
       "</style>\n",
       "</div>\n",
       "<script type=\"module\">\n",
       "import { DataSet, Network } from \"https://unpkg.com/vis-network/standalone/esm/vis-network.min.js\";\n",
       "// CSS will be automatically injected into the page.\n",
       "function render () {\n",
       "    const nodes = new DataSet([{\"id\": 0, \"label\": \"1\", \"title\": \"0: 1\"}, {\"id\": 1, \"label\": \"2\", \"title\": \"1: 2\"}, {\"id\": 2, \"label\": \"6\", \"title\": \"2: 6\"}, {\"id\": 3, \"label\": \"5\", \"title\": \"3: 5\"}, {\"id\": 4, \"label\": \"3\", \"title\": \"4: 3\"}, {\"id\": 5, \"label\": \"4\", \"title\": \"5: 4\"}]);\n",
       "    const edges = new DataSet([{\"title\": \"0: (1, 2)\", \"label\": \"2\", \"color\": \"blue\", \"from\": 0, \"to\": 1}, {\"title\": \"1: (1, 6)\", \"label\": \"\", \"color\": \"orange\", \"from\": 0, \"to\": 2}, {\"title\": \"2: (2, 6)\", \"label\": \"\", \"color\": \"orange\", \"from\": 1, \"to\": 2}, {\"title\": \"3: (2, 3)\", \"label\": \"1\", \"color\": \"blue\", \"from\": 1, \"to\": 4}, {\"title\": \"4: (6, 5)\", \"label\": \"3\", \"color\": \"blue\", \"from\": 2, \"to\": 3}, {\"title\": \"5: (5, 3)\", \"label\": \"\", \"color\": \"orange\", \"from\": 3, \"to\": 4}, {\"title\": \"6: (5, 4)\", \"label\": \"\", \"color\": \"orange\", \"from\": 3, \"to\": 5}, {\"title\": \"7: (3, 4)\", \"label\": \"2\", \"color\": \"blue\", \"from\": 4, \"to\": 5}]);\n",
       "    const data = {\n",
       "            nodes: nodes,\n",
       "            edges: edges,\n",
       "    };\n",
       "    const options = {\"interaction\": {\"navigationButtons\": false}, \"width\": \"100%\", \"height\": \"100%\"};\n",
       "    const container = document.getElementById('8852521e-d105-4751-874a-9a9e2e8cb329');\n",
       "    const network = new Network(container, data, options);\n",
       "    network.fit({maxZoomLevel: 10});\n",
       "    network.redraw();\n",
       "}\n",
       "\n",
       "render();\n",
       "document.getElementById('fit-8852521e-d105-4751-874a-9a9e2e8cb329').addEventListener('click', function(event) {\n",
       "    event.preventDefault();  // Prevent page jump\n",
       "    render(); // Adjust zoom limit as needed\n",
       "});\n",
       "</script>\n"
      ],
      "text/plain": [
       "<IPython.core.display.HTML object>"
      ]
     },
     "metadata": {},
     "output_type": "display_data"
    },
    {
     "name": "stdout",
     "output_type": "stream",
     "text": [
      "Vertex of coordinates [2. 0. 0. 1. 3. 0. 0. 2.] (edge) / [-1. -1.] (kernel) is injective.\n"
     ]
    },
    {
     "data": {
      "text/html": [
       "\n",
       "<div class=\"sm-graph\">\n",
       "<div id=\"09dfeafd-c1d2-4bc4-94dd-9b83428b8399\"></div>\n",
       "<a href=\"#\" id=\"fit-09dfeafd-c1d2-4bc4-94dd-9b83428b8399\"\n",
       "  style=\"position: absolute; left: 10px; bottom: 10px; text-decoration: none; color: #888; font-size: min(2vw, 10px);\n",
       "  z-index: 10; pointer-events: auto;\"\n",
       "> Refresh\n",
       "</a>\n",
       "<style>\n",
       ".sm-graph {\n",
       "position: relative;\n",
       "width: 100%;\n",
       "height: 50vh !important;\n",
       "max-width: 100vw;\n",
       "max-height: 100vh !important;\n",
       "}\n",
       ".sm-graph > div {\n",
       "  height: 100%;   /* Make the inner div fill the parent */\n",
       "}\n",
       "</style>\n",
       "</div>\n",
       "<script type=\"module\">\n",
       "import { DataSet, Network } from \"https://unpkg.com/vis-network/standalone/esm/vis-network.min.js\";\n",
       "// CSS will be automatically injected into the page.\n",
       "function render () {\n",
       "    const nodes = new DataSet([{\"id\": 0, \"label\": \"1\", \"title\": \"0: 1\"}, {\"id\": 1, \"label\": \"2\", \"title\": \"1: 2\"}, {\"id\": 2, \"label\": \"6\", \"title\": \"2: 6\"}, {\"id\": 3, \"label\": \"5\", \"title\": \"3: 5\"}, {\"id\": 4, \"label\": \"3\", \"title\": \"4: 3\"}, {\"id\": 5, \"label\": \"4\", \"title\": \"5: 4\"}]);\n",
       "    const edges = new DataSet([{\"title\": \"0: (1, 2)\", \"label\": \"2\", \"color\": \"blue\", \"from\": 0, \"to\": 1}, {\"title\": \"1: (1, 6)\", \"label\": \"\", \"color\": \"orange\", \"from\": 0, \"to\": 2}, {\"title\": \"2: (2, 6)\", \"label\": \"1\", \"color\": \"blue\", \"from\": 1, \"to\": 2}, {\"title\": \"3: (2, 3)\", \"label\": \"\", \"color\": \"orange\", \"from\": 1, \"to\": 4}, {\"title\": \"4: (6, 5)\", \"label\": \"2\", \"color\": \"blue\", \"from\": 2, \"to\": 3}, {\"title\": \"5: (5, 3)\", \"label\": \"1\", \"color\": \"blue\", \"from\": 3, \"to\": 4}, {\"title\": \"6: (5, 4)\", \"label\": \"\", \"color\": \"orange\", \"from\": 3, \"to\": 5}, {\"title\": \"7: (3, 4)\", \"label\": \"2\", \"color\": \"blue\", \"from\": 4, \"to\": 5}]);\n",
       "    const data = {\n",
       "            nodes: nodes,\n",
       "            edges: edges,\n",
       "    };\n",
       "    const options = {\"interaction\": {\"navigationButtons\": false}, \"width\": \"100%\", \"height\": \"100%\"};\n",
       "    const container = document.getElementById('09dfeafd-c1d2-4bc4-94dd-9b83428b8399');\n",
       "    const network = new Network(container, data, options);\n",
       "    network.fit({maxZoomLevel: 10});\n",
       "    network.redraw();\n",
       "}\n",
       "\n",
       "render();\n",
       "document.getElementById('fit-09dfeafd-c1d2-4bc4-94dd-9b83428b8399').addEventListener('click', function(event) {\n",
       "    event.preventDefault();  // Prevent page jump\n",
       "    render(); // Adjust zoom limit as needed\n",
       "});\n",
       "</script>\n"
      ],
      "text/plain": [
       "<IPython.core.display.HTML object>"
      ]
     },
     "metadata": {},
     "output_type": "display_data"
    },
    {
     "name": "stdout",
     "output_type": "stream",
     "text": [
      "Vertex of coordinates [2. 0. 1. 0. 2. 1. 0. 2.] (edge) / [-1.  0.] (kernel) is injective.\n"
     ]
    },
    {
     "data": {
      "text/html": [
       "\n",
       "<div class=\"sm-graph\">\n",
       "<div id=\"b1073e55-152e-40f6-b297-4cbb8fcf3dc0\"></div>\n",
       "<a href=\"#\" id=\"fit-b1073e55-152e-40f6-b297-4cbb8fcf3dc0\"\n",
       "  style=\"position: absolute; left: 10px; bottom: 10px; text-decoration: none; color: #888; font-size: min(2vw, 10px);\n",
       "  z-index: 10; pointer-events: auto;\"\n",
       "> Refresh\n",
       "</a>\n",
       "<style>\n",
       ".sm-graph {\n",
       "position: relative;\n",
       "width: 100%;\n",
       "height: 50vh !important;\n",
       "max-width: 100vw;\n",
       "max-height: 100vh !important;\n",
       "}\n",
       ".sm-graph > div {\n",
       "  height: 100%;   /* Make the inner div fill the parent */\n",
       "}\n",
       "</style>\n",
       "</div>\n",
       "<script type=\"module\">\n",
       "import { DataSet, Network } from \"https://unpkg.com/vis-network/standalone/esm/vis-network.min.js\";\n",
       "// CSS will be automatically injected into the page.\n",
       "function render () {\n",
       "    const nodes = new DataSet([{\"id\": 0, \"label\": \"1\", \"title\": \"0: 1\"}, {\"id\": 1, \"label\": \"2\", \"title\": \"1: 2\"}, {\"id\": 2, \"label\": \"6\", \"title\": \"2: 6\"}, {\"id\": 3, \"label\": \"5\", \"title\": \"3: 5\"}, {\"id\": 4, \"label\": \"3\", \"title\": \"4: 3\"}, {\"id\": 5, \"label\": \"4\", \"title\": \"5: 4\"}]);\n",
       "    const edges = new DataSet([{\"title\": \"0: (1, 2)\", \"label\": \"1\", \"color\": \"blue\", \"from\": 0, \"to\": 1}, {\"title\": \"1: (1, 6)\", \"label\": \"1\", \"color\": \"blue\", \"from\": 0, \"to\": 2}, {\"title\": \"2: (2, 6)\", \"label\": \"2\", \"color\": \"blue\", \"from\": 1, \"to\": 2}, {\"title\": \"3: (2, 3)\", \"label\": \"\", \"color\": \"orange\", \"from\": 1, \"to\": 4}, {\"title\": \"4: (6, 5)\", \"label\": \"\", \"color\": \"orange\", \"from\": 2, \"to\": 3}, {\"title\": \"5: (5, 3)\", \"label\": \"2\", \"color\": \"blue\", \"from\": 3, \"to\": 4}, {\"title\": \"6: (5, 4)\", \"label\": \"1\", \"color\": \"blue\", \"from\": 3, \"to\": 5}, {\"title\": \"7: (3, 4)\", \"label\": \"1\", \"color\": \"blue\", \"from\": 4, \"to\": 5}]);\n",
       "    const data = {\n",
       "            nodes: nodes,\n",
       "            edges: edges,\n",
       "    };\n",
       "    const options = {\"interaction\": {\"navigationButtons\": false}, \"width\": \"100%\", \"height\": \"100%\"};\n",
       "    const container = document.getElementById('b1073e55-152e-40f6-b297-4cbb8fcf3dc0');\n",
       "    const network = new Network(container, data, options);\n",
       "    network.fit({maxZoomLevel: 10});\n",
       "    network.redraw();\n",
       "}\n",
       "\n",
       "render();\n",
       "document.getElementById('fit-b1073e55-152e-40f6-b297-4cbb8fcf3dc0').addEventListener('click', function(event) {\n",
       "    event.preventDefault();  // Prevent page jump\n",
       "    render(); // Adjust zoom limit as needed\n",
       "});\n",
       "</script>\n"
      ],
      "text/plain": [
       "<IPython.core.display.HTML object>"
      ]
     },
     "metadata": {},
     "output_type": "display_data"
    },
    {
     "name": "stdout",
     "output_type": "stream",
     "text": [
      "Vertex of coordinates [1. 1. 2. 0. 0. 2. 1. 1.] (edge) / [0. 1.] (kernel) is bijective.\n"
     ]
    },
    {
     "data": {
      "text/html": [
       "\n",
       "<div class=\"sm-graph\">\n",
       "<div id=\"4a3f95d6-d3a4-4b1f-8e72-519c9a24e5e1\"></div>\n",
       "<a href=\"#\" id=\"fit-4a3f95d6-d3a4-4b1f-8e72-519c9a24e5e1\"\n",
       "  style=\"position: absolute; left: 10px; bottom: 10px; text-decoration: none; color: #888; font-size: min(2vw, 10px);\n",
       "  z-index: 10; pointer-events: auto;\"\n",
       "> Refresh\n",
       "</a>\n",
       "<style>\n",
       ".sm-graph {\n",
       "position: relative;\n",
       "width: 100%;\n",
       "height: 50vh !important;\n",
       "max-width: 100vw;\n",
       "max-height: 100vh !important;\n",
       "}\n",
       ".sm-graph > div {\n",
       "  height: 100%;   /* Make the inner div fill the parent */\n",
       "}\n",
       "</style>\n",
       "</div>\n",
       "<script type=\"module\">\n",
       "import { DataSet, Network } from \"https://unpkg.com/vis-network/standalone/esm/vis-network.min.js\";\n",
       "// CSS will be automatically injected into the page.\n",
       "function render () {\n",
       "    const nodes = new DataSet([{\"id\": 0, \"label\": \"1\", \"title\": \"0: 1\"}, {\"id\": 1, \"label\": \"2\", \"title\": \"1: 2\"}, {\"id\": 2, \"label\": \"6\", \"title\": \"2: 6\"}, {\"id\": 3, \"label\": \"5\", \"title\": \"3: 5\"}, {\"id\": 4, \"label\": \"3\", \"title\": \"4: 3\"}, {\"id\": 5, \"label\": \"4\", \"title\": \"5: 4\"}]);\n",
       "    const edges = new DataSet([{\"title\": \"0: (1, 2)\", \"label\": \"\", \"color\": \"orange\", \"from\": 0, \"to\": 1}, {\"title\": \"1: (1, 6)\", \"label\": \"2\", \"color\": \"blue\", \"from\": 0, \"to\": 2}, {\"title\": \"2: (2, 6)\", \"label\": \"\", \"color\": \"orange\", \"from\": 1, \"to\": 2}, {\"title\": \"3: (2, 3)\", \"label\": \"3\", \"color\": \"blue\", \"from\": 1, \"to\": 4}, {\"title\": \"4: (6, 5)\", \"label\": \"1\", \"color\": \"blue\", \"from\": 2, \"to\": 3}, {\"title\": \"5: (5, 3)\", \"label\": \"\", \"color\": \"orange\", \"from\": 3, \"to\": 4}, {\"title\": \"6: (5, 4)\", \"label\": \"2\", \"color\": \"blue\", \"from\": 3, \"to\": 5}, {\"title\": \"7: (3, 4)\", \"label\": \"\", \"color\": \"orange\", \"from\": 4, \"to\": 5}]);\n",
       "    const data = {\n",
       "            nodes: nodes,\n",
       "            edges: edges,\n",
       "    };\n",
       "    const options = {\"interaction\": {\"navigationButtons\": false}, \"width\": \"100%\", \"height\": \"100%\"};\n",
       "    const container = document.getElementById('4a3f95d6-d3a4-4b1f-8e72-519c9a24e5e1');\n",
       "    const network = new Network(container, data, options);\n",
       "    network.fit({maxZoomLevel: 10});\n",
       "    network.redraw();\n",
       "}\n",
       "\n",
       "render();\n",
       "document.getElementById('fit-4a3f95d6-d3a4-4b1f-8e72-519c9a24e5e1').addEventListener('click', function(event) {\n",
       "    event.preventDefault();  // Prevent page jump\n",
       "    render(); // Adjust zoom limit as needed\n",
       "});\n",
       "</script>\n"
      ],
      "text/plain": [
       "<IPython.core.display.HTML object>"
      ]
     },
     "metadata": {},
     "output_type": "display_data"
    },
    {
     "name": "stdout",
     "output_type": "stream",
     "text": [
      "Vertex of coordinates [0. 2. 0. 3. 1. 0. 2. 0.] (edge) / [ 1. -1.] (kernel) is injective.\n"
     ]
    },
    {
     "data": {
      "text/html": [
       "\n",
       "<div class=\"sm-graph\">\n",
       "<div id=\"93ae5985-a32d-4a6c-bd33-2f65b1c8d19a\"></div>\n",
       "<a href=\"#\" id=\"fit-93ae5985-a32d-4a6c-bd33-2f65b1c8d19a\"\n",
       "  style=\"position: absolute; left: 10px; bottom: 10px; text-decoration: none; color: #888; font-size: min(2vw, 10px);\n",
       "  z-index: 10; pointer-events: auto;\"\n",
       "> Refresh\n",
       "</a>\n",
       "<style>\n",
       ".sm-graph {\n",
       "position: relative;\n",
       "width: 100%;\n",
       "height: 50vh !important;\n",
       "max-width: 100vw;\n",
       "max-height: 100vh !important;\n",
       "}\n",
       ".sm-graph > div {\n",
       "  height: 100%;   /* Make the inner div fill the parent */\n",
       "}\n",
       "</style>\n",
       "</div>\n",
       "<script type=\"module\">\n",
       "import { DataSet, Network } from \"https://unpkg.com/vis-network/standalone/esm/vis-network.min.js\";\n",
       "// CSS will be automatically injected into the page.\n",
       "function render () {\n",
       "    const nodes = new DataSet([{\"id\": 0, \"label\": \"1\", \"title\": \"0: 1\"}, {\"id\": 1, \"label\": \"2\", \"title\": \"1: 2\"}, {\"id\": 2, \"label\": \"6\", \"title\": \"2: 6\"}, {\"id\": 3, \"label\": \"5\", \"title\": \"3: 5\"}, {\"id\": 4, \"label\": \"3\", \"title\": \"4: 3\"}, {\"id\": 5, \"label\": \"4\", \"title\": \"5: 4\"}]);\n",
       "    const edges = new DataSet([{\"title\": \"0: (1, 2)\", \"label\": \"\", \"color\": \"orange\", \"from\": 0, \"to\": 1}, {\"title\": \"1: (1, 6)\", \"label\": \"2\", \"color\": \"blue\", \"from\": 0, \"to\": 2}, {\"title\": \"2: (2, 6)\", \"label\": \"1\", \"color\": \"blue\", \"from\": 1, \"to\": 2}, {\"title\": \"3: (2, 3)\", \"label\": \"2\", \"color\": \"blue\", \"from\": 1, \"to\": 4}, {\"title\": \"4: (6, 5)\", \"label\": \"\", \"color\": \"orange\", \"from\": 2, \"to\": 3}, {\"title\": \"5: (5, 3)\", \"label\": \"1\", \"color\": \"blue\", \"from\": 3, \"to\": 4}, {\"title\": \"6: (5, 4)\", \"label\": \"2\", \"color\": \"blue\", \"from\": 3, \"to\": 5}, {\"title\": \"7: (3, 4)\", \"label\": \"\", \"color\": \"orange\", \"from\": 4, \"to\": 5}]);\n",
       "    const data = {\n",
       "            nodes: nodes,\n",
       "            edges: edges,\n",
       "    };\n",
       "    const options = {\"interaction\": {\"navigationButtons\": false}, \"width\": \"100%\", \"height\": \"100%\"};\n",
       "    const container = document.getElementById('93ae5985-a32d-4a6c-bd33-2f65b1c8d19a');\n",
       "    const network = new Network(container, data, options);\n",
       "    network.fit({maxZoomLevel: 10});\n",
       "    network.redraw();\n",
       "}\n",
       "\n",
       "render();\n",
       "document.getElementById('fit-93ae5985-a32d-4a6c-bd33-2f65b1c8d19a').addEventListener('click', function(event) {\n",
       "    event.preventDefault();  // Prevent page jump\n",
       "    render(); // Adjust zoom limit as needed\n",
       "});\n",
       "</script>\n"
      ],
      "text/plain": [
       "<IPython.core.display.HTML object>"
      ]
     },
     "metadata": {},
     "output_type": "display_data"
    },
    {
     "name": "stdout",
     "output_type": "stream",
     "text": [
      "Vertex of coordinates [0. 2. 1. 2. 0. 1. 2. 0.] (edge) / [1. 0.] (kernel) is injective.\n"
     ]
    }
   ],
   "source": [
    "def show_vertices(model):\n",
    "    for i, v in enumerate(model.vertices):\n",
    "        model.show_vertex(i, disp_rates=False)\n",
    "        \n",
    "        print(f\"Vertex of coordinates {str(v['edge_coordinates'])} (edge) / {v['kernel_coordinates']} (kernel) is {'bijective' if v['bijective'] else 'injective'}.\")\n",
    "show_vertices(codomino)"
   ]
  },
  {
   "cell_type": "markdown",
   "id": "5ca6756e-2359-4c7a-8998-3b9c5c70be1d",
   "metadata": {},
   "source": [
    "#### 3 injective-only vertices"
   ]
  },
  {
   "cell_type": "code",
   "execution_count": 17,
   "id": "057a2f7c-dee2-4ddc-8d0c-1debd3dcf56f",
   "metadata": {
    "execution": {
     "iopub.execute_input": "2025-09-26T18:31:59.387524Z",
     "iopub.status.busy": "2025-09-26T18:31:59.387524Z",
     "iopub.status.idle": "2025-09-26T18:31:59.392533Z",
     "shell.execute_reply": "2025-09-26T18:31:59.392533Z",
     "shell.execute_reply.started": "2025-09-26T18:31:59.387524Z"
    }
   },
   "outputs": [
    {
     "data": {
      "text/html": [
       "\n",
       "<div class=\"sm-graph\">\n",
       "<div id=\"08fe8a3c-1a38-46d8-a476-1e49fc2bae6b\"></div>\n",
       "<a href=\"#\" id=\"fit-08fe8a3c-1a38-46d8-a476-1e49fc2bae6b\"\n",
       "  style=\"position: absolute; left: 10px; bottom: 10px; text-decoration: none; color: #888; font-size: min(2vw, 10px);\n",
       "  z-index: 10; pointer-events: auto;\"\n",
       "> Refresh\n",
       "</a>\n",
       "<style>\n",
       ".sm-graph {\n",
       "position: relative;\n",
       "width: 100%;\n",
       "height: 50vh !important;\n",
       "max-width: 100vw;\n",
       "max-height: 100vh !important;\n",
       "}\n",
       ".sm-graph > div {\n",
       "  height: 100%;   /* Make the inner div fill the parent */\n",
       "}\n",
       "</style>\n",
       "</div>\n",
       "<script type=\"module\">\n",
       "import { DataSet, Network } from \"https://unpkg.com/vis-network/standalone/esm/vis-network.min.js\";\n",
       "// CSS will be automatically injected into the page.\n",
       "function render () {\n",
       "    const nodes = new DataSet([{\"id\": 0, \"label\": \"1\", \"title\": \"0: 1\"}, {\"id\": 1, \"label\": \"2\", \"title\": \"1: 2\"}, {\"id\": 2, \"label\": \"6\", \"title\": \"2: 6\"}, {\"id\": 3, \"label\": \"5\", \"title\": \"3: 5\"}, {\"id\": 4, \"label\": \"3\", \"title\": \"4: 3\"}, {\"id\": 5, \"label\": \"4\", \"title\": \"5: 4\"}]);\n",
       "    const edges = new DataSet([{\"title\": \"0: (1, 2)\", \"label\": \"1-\\u03b11\", \"from\": 0, \"to\": 1}, {\"title\": \"1: (1, 6)\", \"label\": \"1+\\u03b11\", \"from\": 0, \"to\": 2}, {\"title\": \"2: (2, 6)\", \"label\": \"1+\\u03b12\", \"from\": 1, \"to\": 2}, {\"title\": \"3: (2, 3)\", \"label\": \"2+\\u03b11-\\u03b12\", \"from\": 1, \"to\": 4}, {\"title\": \"4: (6, 5)\", \"label\": \"-\\u03b11-\\u03b12\", \"from\": 2, \"to\": 3}, {\"title\": \"5: (5, 3)\", \"label\": \"1+\\u03b12\", \"from\": 3, \"to\": 4}, {\"title\": \"6: (5, 4)\", \"label\": \"1+\\u03b11\", \"from\": 3, \"to\": 5}, {\"title\": \"7: (3, 4)\", \"label\": \"1-\\u03b11\", \"from\": 4, \"to\": 5}]);\n",
       "    const data = {\n",
       "            nodes: nodes,\n",
       "            edges: edges,\n",
       "    };\n",
       "    const options = {\"interaction\": {\"navigationButtons\": false}, \"width\": \"100%\", \"height\": \"100%\"};\n",
       "    const container = document.getElementById('08fe8a3c-1a38-46d8-a476-1e49fc2bae6b');\n",
       "    const network = new Network(container, data, options);\n",
       "    network.fit({maxZoomLevel: 10});\n",
       "    network.redraw();\n",
       "}\n",
       "\n",
       "render();\n",
       "document.getElementById('fit-08fe8a3c-1a38-46d8-a476-1e49fc2bae6b').addEventListener('click', function(event) {\n",
       "    event.preventDefault();  // Prevent page jump\n",
       "    render(); // Adjust zoom limit as needed\n",
       "});\n",
       "</script>\n"
      ],
      "text/plain": [
       "<IPython.core.display.HTML object>"
      ]
     },
     "metadata": {},
     "output_type": "display_data"
    }
   ],
   "source": [
    "codomino.rates = [2, 4, 2, 2, 4, 2]\n",
    "# We shift the base_flow so coordinates are simpler\n",
    "codomino.base_flow = codomino.kernel_to_edge([1/3, 0])\n",
    "codomino.show_kernel(disp_flow=True, disp_rates=False)"
   ]
  },
  {
   "cell_type": "code",
   "execution_count": 18,
   "id": "e725c162-40c5-4aeb-9ada-44d1ffbdb484",
   "metadata": {
    "execution": {
     "iopub.execute_input": "2025-09-26T18:31:59.393665Z",
     "iopub.status.busy": "2025-09-26T18:31:59.392533Z",
     "iopub.status.idle": "2025-09-26T18:31:59.404135Z",
     "shell.execute_reply": "2025-09-26T18:31:59.404135Z",
     "shell.execute_reply.started": "2025-09-26T18:31:59.393665Z"
    }
   },
   "outputs": [
    {
     "data": {
      "text/html": [
       "\n",
       "<div class=\"sm-graph\">\n",
       "<div id=\"0e09fc4a-89f1-4e75-9cb3-fe4f22155e09\"></div>\n",
       "<a href=\"#\" id=\"fit-0e09fc4a-89f1-4e75-9cb3-fe4f22155e09\"\n",
       "  style=\"position: absolute; left: 10px; bottom: 10px; text-decoration: none; color: #888; font-size: min(2vw, 10px);\n",
       "  z-index: 10; pointer-events: auto;\"\n",
       "> Refresh\n",
       "</a>\n",
       "<style>\n",
       ".sm-graph {\n",
       "position: relative;\n",
       "width: 100%;\n",
       "height: 50vh !important;\n",
       "max-width: 100vw;\n",
       "max-height: 100vh !important;\n",
       "}\n",
       ".sm-graph > div {\n",
       "  height: 100%;   /* Make the inner div fill the parent */\n",
       "}\n",
       "</style>\n",
       "</div>\n",
       "<script type=\"module\">\n",
       "import { DataSet, Network } from \"https://unpkg.com/vis-network/standalone/esm/vis-network.min.js\";\n",
       "// CSS will be automatically injected into the page.\n",
       "function render () {\n",
       "    const nodes = new DataSet([{\"id\": 0, \"label\": \"1\", \"title\": \"0: 1\"}, {\"id\": 1, \"label\": \"2\", \"title\": \"1: 2\"}, {\"id\": 2, \"label\": \"6\", \"title\": \"2: 6\"}, {\"id\": 3, \"label\": \"5\", \"title\": \"3: 5\"}, {\"id\": 4, \"label\": \"3\", \"title\": \"4: 3\"}, {\"id\": 5, \"label\": \"4\", \"title\": \"5: 4\"}]);\n",
       "    const edges = new DataSet([{\"title\": \"0: (1, 2)\", \"label\": \"2\", \"color\": \"blue\", \"from\": 0, \"to\": 1}, {\"title\": \"1: (1, 6)\", \"label\": \"\", \"color\": \"orange\", \"from\": 0, \"to\": 2}, {\"title\": \"2: (2, 6)\", \"label\": \"2\", \"color\": \"blue\", \"from\": 1, \"to\": 2}, {\"title\": \"3: (2, 3)\", \"label\": \"\", \"color\": \"orange\", \"from\": 1, \"to\": 4}, {\"title\": \"4: (6, 5)\", \"label\": \"\", \"color\": \"orange\", \"from\": 2, \"to\": 3}, {\"title\": \"5: (5, 3)\", \"label\": \"2\", \"color\": \"blue\", \"from\": 3, \"to\": 4}, {\"title\": \"6: (5, 4)\", \"label\": \"\", \"color\": \"orange\", \"from\": 3, \"to\": 5}, {\"title\": \"7: (3, 4)\", \"label\": \"2\", \"color\": \"blue\", \"from\": 4, \"to\": 5}]);\n",
       "    const data = {\n",
       "            nodes: nodes,\n",
       "            edges: edges,\n",
       "    };\n",
       "    const options = {\"interaction\": {\"navigationButtons\": false}, \"width\": \"100%\", \"height\": \"100%\"};\n",
       "    const container = document.getElementById('0e09fc4a-89f1-4e75-9cb3-fe4f22155e09');\n",
       "    const network = new Network(container, data, options);\n",
       "    network.fit({maxZoomLevel: 10});\n",
       "    network.redraw();\n",
       "}\n",
       "\n",
       "render();\n",
       "document.getElementById('fit-0e09fc4a-89f1-4e75-9cb3-fe4f22155e09').addEventListener('click', function(event) {\n",
       "    event.preventDefault();  // Prevent page jump\n",
       "    render(); // Adjust zoom limit as needed\n",
       "});\n",
       "</script>\n"
      ],
      "text/plain": [
       "<IPython.core.display.HTML object>"
      ]
     },
     "metadata": {},
     "output_type": "display_data"
    },
    {
     "name": "stdout",
     "output_type": "stream",
     "text": [
      "Vertex of coordinates [2. 0. 2. 0. 0. 2. 0. 2.] (edge) / [-1.  1.] (kernel) is injective.\n"
     ]
    },
    {
     "data": {
      "text/html": [
       "\n",
       "<div class=\"sm-graph\">\n",
       "<div id=\"f773dc6e-d2cd-4bd2-af2d-e8a0c0a8aff0\"></div>\n",
       "<a href=\"#\" id=\"fit-f773dc6e-d2cd-4bd2-af2d-e8a0c0a8aff0\"\n",
       "  style=\"position: absolute; left: 10px; bottom: 10px; text-decoration: none; color: #888; font-size: min(2vw, 10px);\n",
       "  z-index: 10; pointer-events: auto;\"\n",
       "> Refresh\n",
       "</a>\n",
       "<style>\n",
       ".sm-graph {\n",
       "position: relative;\n",
       "width: 100%;\n",
       "height: 50vh !important;\n",
       "max-width: 100vw;\n",
       "max-height: 100vh !important;\n",
       "}\n",
       ".sm-graph > div {\n",
       "  height: 100%;   /* Make the inner div fill the parent */\n",
       "}\n",
       "</style>\n",
       "</div>\n",
       "<script type=\"module\">\n",
       "import { DataSet, Network } from \"https://unpkg.com/vis-network/standalone/esm/vis-network.min.js\";\n",
       "// CSS will be automatically injected into the page.\n",
       "function render () {\n",
       "    const nodes = new DataSet([{\"id\": 0, \"label\": \"1\", \"title\": \"0: 1\"}, {\"id\": 1, \"label\": \"2\", \"title\": \"1: 2\"}, {\"id\": 2, \"label\": \"6\", \"title\": \"2: 6\"}, {\"id\": 3, \"label\": \"5\", \"title\": \"3: 5\"}, {\"id\": 4, \"label\": \"3\", \"title\": \"4: 3\"}, {\"id\": 5, \"label\": \"4\", \"title\": \"5: 4\"}]);\n",
       "    const edges = new DataSet([{\"title\": \"0: (1, 2)\", \"label\": \"2\", \"color\": \"blue\", \"from\": 0, \"to\": 1}, {\"title\": \"1: (1, 6)\", \"label\": \"\", \"color\": \"orange\", \"from\": 0, \"to\": 2}, {\"title\": \"2: (2, 6)\", \"label\": \"\", \"color\": \"orange\", \"from\": 1, \"to\": 2}, {\"title\": \"3: (2, 3)\", \"label\": \"2\", \"color\": \"blue\", \"from\": 1, \"to\": 4}, {\"title\": \"4: (6, 5)\", \"label\": \"2\", \"color\": \"blue\", \"from\": 2, \"to\": 3}, {\"title\": \"5: (5, 3)\", \"label\": \"\", \"color\": \"orange\", \"from\": 3, \"to\": 4}, {\"title\": \"6: (5, 4)\", \"label\": \"\", \"color\": \"orange\", \"from\": 3, \"to\": 5}, {\"title\": \"7: (3, 4)\", \"label\": \"2\", \"color\": \"blue\", \"from\": 4, \"to\": 5}]);\n",
       "    const data = {\n",
       "            nodes: nodes,\n",
       "            edges: edges,\n",
       "    };\n",
       "    const options = {\"interaction\": {\"navigationButtons\": false}, \"width\": \"100%\", \"height\": \"100%\"};\n",
       "    const container = document.getElementById('f773dc6e-d2cd-4bd2-af2d-e8a0c0a8aff0');\n",
       "    const network = new Network(container, data, options);\n",
       "    network.fit({maxZoomLevel: 10});\n",
       "    network.redraw();\n",
       "}\n",
       "\n",
       "render();\n",
       "document.getElementById('fit-f773dc6e-d2cd-4bd2-af2d-e8a0c0a8aff0').addEventListener('click', function(event) {\n",
       "    event.preventDefault();  // Prevent page jump\n",
       "    render(); // Adjust zoom limit as needed\n",
       "});\n",
       "</script>\n"
      ],
      "text/plain": [
       "<IPython.core.display.HTML object>"
      ]
     },
     "metadata": {},
     "output_type": "display_data"
    },
    {
     "name": "stdout",
     "output_type": "stream",
     "text": [
      "Vertex of coordinates [2. 0. 0. 2. 2. 0. 0. 2.] (edge) / [-1. -1.] (kernel) is injective.\n"
     ]
    },
    {
     "data": {
      "text/html": [
       "\n",
       "<div class=\"sm-graph\">\n",
       "<div id=\"97992e37-ee00-42fe-b157-01c7fa65d245\"></div>\n",
       "<a href=\"#\" id=\"fit-97992e37-ee00-42fe-b157-01c7fa65d245\"\n",
       "  style=\"position: absolute; left: 10px; bottom: 10px; text-decoration: none; color: #888; font-size: min(2vw, 10px);\n",
       "  z-index: 10; pointer-events: auto;\"\n",
       "> Refresh\n",
       "</a>\n",
       "<style>\n",
       ".sm-graph {\n",
       "position: relative;\n",
       "width: 100%;\n",
       "height: 50vh !important;\n",
       "max-width: 100vw;\n",
       "max-height: 100vh !important;\n",
       "}\n",
       ".sm-graph > div {\n",
       "  height: 100%;   /* Make the inner div fill the parent */\n",
       "}\n",
       "</style>\n",
       "</div>\n",
       "<script type=\"module\">\n",
       "import { DataSet, Network } from \"https://unpkg.com/vis-network/standalone/esm/vis-network.min.js\";\n",
       "// CSS will be automatically injected into the page.\n",
       "function render () {\n",
       "    const nodes = new DataSet([{\"id\": 0, \"label\": \"1\", \"title\": \"0: 1\"}, {\"id\": 1, \"label\": \"2\", \"title\": \"1: 2\"}, {\"id\": 2, \"label\": \"6\", \"title\": \"2: 6\"}, {\"id\": 3, \"label\": \"5\", \"title\": \"3: 5\"}, {\"id\": 4, \"label\": \"3\", \"title\": \"4: 3\"}, {\"id\": 5, \"label\": \"4\", \"title\": \"5: 4\"}]);\n",
       "    const edges = new DataSet([{\"title\": \"0: (1, 2)\", \"label\": \"\", \"color\": \"orange\", \"from\": 0, \"to\": 1}, {\"title\": \"1: (1, 6)\", \"label\": \"2\", \"color\": \"blue\", \"from\": 0, \"to\": 2}, {\"title\": \"2: (2, 6)\", \"label\": \"\", \"color\": \"orange\", \"from\": 1, \"to\": 2}, {\"title\": \"3: (2, 3)\", \"label\": \"4\", \"color\": \"blue\", \"from\": 1, \"to\": 4}, {\"title\": \"4: (6, 5)\", \"label\": \"\", \"color\": \"orange\", \"from\": 2, \"to\": 3}, {\"title\": \"5: (5, 3)\", \"label\": \"\", \"color\": \"orange\", \"from\": 3, \"to\": 4}, {\"title\": \"6: (5, 4)\", \"label\": \"2\", \"color\": \"blue\", \"from\": 3, \"to\": 5}, {\"title\": \"7: (3, 4)\", \"label\": \"\", \"color\": \"orange\", \"from\": 4, \"to\": 5}]);\n",
       "    const data = {\n",
       "            nodes: nodes,\n",
       "            edges: edges,\n",
       "    };\n",
       "    const options = {\"interaction\": {\"navigationButtons\": false}, \"width\": \"100%\", \"height\": \"100%\"};\n",
       "    const container = document.getElementById('97992e37-ee00-42fe-b157-01c7fa65d245');\n",
       "    const network = new Network(container, data, options);\n",
       "    network.fit({maxZoomLevel: 10});\n",
       "    network.redraw();\n",
       "}\n",
       "\n",
       "render();\n",
       "document.getElementById('fit-97992e37-ee00-42fe-b157-01c7fa65d245').addEventListener('click', function(event) {\n",
       "    event.preventDefault();  // Prevent page jump\n",
       "    render(); // Adjust zoom limit as needed\n",
       "});\n",
       "</script>\n"
      ],
      "text/plain": [
       "<IPython.core.display.HTML object>"
      ]
     },
     "metadata": {},
     "output_type": "display_data"
    },
    {
     "name": "stdout",
     "output_type": "stream",
     "text": [
      "Vertex of coordinates [0. 2. 0. 4. 0. 0. 2. 0.] (edge) / [ 1. -1.] (kernel) is injective.\n"
     ]
    }
   ],
   "source": [
    "show_vertices(codomino)"
   ]
  },
  {
   "cell_type": "markdown",
   "id": "0ba0fe9c-2071-4750-a9bb-121214802d04",
   "metadata": {},
   "source": [
    "#### 3 bijective vertices"
   ]
  },
  {
   "cell_type": "code",
   "execution_count": 19,
   "id": "64bb169a-6d54-4746-9f94-9f64502c5db7",
   "metadata": {
    "execution": {
     "iopub.execute_input": "2025-09-26T18:31:59.405142Z",
     "iopub.status.busy": "2025-09-26T18:31:59.404135Z",
     "iopub.status.idle": "2025-09-26T18:31:59.408453Z",
     "shell.execute_reply": "2025-09-26T18:31:59.408453Z",
     "shell.execute_reply.started": "2025-09-26T18:31:59.405142Z"
    }
   },
   "outputs": [
    {
     "data": {
      "text/html": [
       "\n",
       "<div class=\"sm-graph\">\n",
       "<div id=\"0c51b700-2b6d-4425-8a03-95fec4f6a91d\"></div>\n",
       "<a href=\"#\" id=\"fit-0c51b700-2b6d-4425-8a03-95fec4f6a91d\"\n",
       "  style=\"position: absolute; left: 10px; bottom: 10px; text-decoration: none; color: #888; font-size: min(2vw, 10px);\n",
       "  z-index: 10; pointer-events: auto;\"\n",
       "> Refresh\n",
       "</a>\n",
       "<style>\n",
       ".sm-graph {\n",
       "position: relative;\n",
       "width: 100%;\n",
       "height: 50vh !important;\n",
       "max-width: 100vw;\n",
       "max-height: 100vh !important;\n",
       "}\n",
       ".sm-graph > div {\n",
       "  height: 100%;   /* Make the inner div fill the parent */\n",
       "}\n",
       "</style>\n",
       "</div>\n",
       "<script type=\"module\">\n",
       "import { DataSet, Network } from \"https://unpkg.com/vis-network/standalone/esm/vis-network.min.js\";\n",
       "// CSS will be automatically injected into the page.\n",
       "function render () {\n",
       "    const nodes = new DataSet([{\"id\": 0, \"label\": \"1\", \"title\": \"0: 1\"}, {\"id\": 1, \"label\": \"2\", \"title\": \"1: 2\"}, {\"id\": 2, \"label\": \"6\", \"title\": \"2: 6\"}, {\"id\": 3, \"label\": \"5\", \"title\": \"3: 5\"}, {\"id\": 4, \"label\": \"3\", \"title\": \"4: 3\"}, {\"id\": 5, \"label\": \"4\", \"title\": \"5: 4\"}]);\n",
       "    const edges = new DataSet([{\"title\": \"0: (1, 2)\", \"label\": \"2-\\u03b11\", \"from\": 0, \"to\": 1}, {\"title\": \"1: (1, 6)\", \"label\": \"2+\\u03b11\", \"from\": 0, \"to\": 2}, {\"title\": \"2: (2, 6)\", \"label\": \"1+\\u03b12\", \"from\": 1, \"to\": 2}, {\"title\": \"3: (2, 3)\", \"label\": \"1+\\u03b11-\\u03b12\", \"from\": 1, \"to\": 4}, {\"title\": \"4: (6, 5)\", \"label\": \"1-\\u03b11-\\u03b12\", \"from\": 2, \"to\": 3}, {\"title\": \"5: (5, 3)\", \"label\": \"+\\u03b12\", \"from\": 3, \"to\": 4}, {\"title\": \"6: (5, 4)\", \"label\": \"2+\\u03b11\", \"from\": 3, \"to\": 5}, {\"title\": \"7: (3, 4)\", \"label\": \"2-\\u03b11\", \"from\": 4, \"to\": 5}]);\n",
       "    const data = {\n",
       "            nodes: nodes,\n",
       "            edges: edges,\n",
       "    };\n",
       "    const options = {\"interaction\": {\"navigationButtons\": false}, \"width\": \"100%\", \"height\": \"100%\"};\n",
       "    const container = document.getElementById('0c51b700-2b6d-4425-8a03-95fec4f6a91d');\n",
       "    const network = new Network(container, data, options);\n",
       "    network.fit({maxZoomLevel: 10});\n",
       "    network.redraw();\n",
       "}\n",
       "\n",
       "render();\n",
       "document.getElementById('fit-0c51b700-2b6d-4425-8a03-95fec4f6a91d').addEventListener('click', function(event) {\n",
       "    event.preventDefault();  // Prevent page jump\n",
       "    render(); // Adjust zoom limit as needed\n",
       "});\n",
       "</script>\n"
      ],
      "text/plain": [
       "<IPython.core.display.HTML object>"
      ]
     },
     "metadata": {},
     "output_type": "display_data"
    }
   ],
   "source": [
    "codomino.rates = [4, 4, 4, 3, 3, 4]\n",
    "codomino.base_flow = codomino.kernel_to_edge([0, -1/4])\n",
    "codomino.show_kernel(disp_flow=True, disp_rates=False)"
   ]
  },
  {
   "cell_type": "code",
   "execution_count": 20,
   "id": "8f28a307-5724-4d35-89ab-b9824cd9a44a",
   "metadata": {
    "execution": {
     "iopub.execute_input": "2025-09-26T18:31:59.408453Z",
     "iopub.status.busy": "2025-09-26T18:31:59.408453Z",
     "iopub.status.idle": "2025-09-26T18:31:59.420105Z",
     "shell.execute_reply": "2025-09-26T18:31:59.420105Z",
     "shell.execute_reply.started": "2025-09-26T18:31:59.408453Z"
    }
   },
   "outputs": [
    {
     "data": {
      "text/html": [
       "\n",
       "<div class=\"sm-graph\">\n",
       "<div id=\"ac2be7ce-adba-4f9a-a57f-f95ce3300b39\"></div>\n",
       "<a href=\"#\" id=\"fit-ac2be7ce-adba-4f9a-a57f-f95ce3300b39\"\n",
       "  style=\"position: absolute; left: 10px; bottom: 10px; text-decoration: none; color: #888; font-size: min(2vw, 10px);\n",
       "  z-index: 10; pointer-events: auto;\"\n",
       "> Refresh\n",
       "</a>\n",
       "<style>\n",
       ".sm-graph {\n",
       "position: relative;\n",
       "width: 100%;\n",
       "height: 50vh !important;\n",
       "max-width: 100vw;\n",
       "max-height: 100vh !important;\n",
       "}\n",
       ".sm-graph > div {\n",
       "  height: 100%;   /* Make the inner div fill the parent */\n",
       "}\n",
       "</style>\n",
       "</div>\n",
       "<script type=\"module\">\n",
       "import { DataSet, Network } from \"https://unpkg.com/vis-network/standalone/esm/vis-network.min.js\";\n",
       "// CSS will be automatically injected into the page.\n",
       "function render () {\n",
       "    const nodes = new DataSet([{\"id\": 0, \"label\": \"1\", \"title\": \"0: 1\"}, {\"id\": 1, \"label\": \"2\", \"title\": \"1: 2\"}, {\"id\": 2, \"label\": \"6\", \"title\": \"2: 6\"}, {\"id\": 3, \"label\": \"5\", \"title\": \"3: 5\"}, {\"id\": 4, \"label\": \"3\", \"title\": \"4: 3\"}, {\"id\": 5, \"label\": \"4\", \"title\": \"5: 4\"}]);\n",
       "    const edges = new DataSet([{\"title\": \"0: (1, 2)\", \"label\": \"3\", \"color\": \"blue\", \"from\": 0, \"to\": 1}, {\"title\": \"1: (1, 6)\", \"label\": \"1\", \"color\": \"blue\", \"from\": 0, \"to\": 2}, {\"title\": \"2: (2, 6)\", \"label\": \"1\", \"color\": \"blue\", \"from\": 1, \"to\": 2}, {\"title\": \"3: (2, 3)\", \"label\": \"\", \"color\": \"orange\", \"from\": 1, \"to\": 4}, {\"title\": \"4: (6, 5)\", \"label\": \"2\", \"color\": \"blue\", \"from\": 2, \"to\": 3}, {\"title\": \"5: (5, 3)\", \"label\": \"\", \"color\": \"orange\", \"from\": 3, \"to\": 4}, {\"title\": \"6: (5, 4)\", \"label\": \"1\", \"color\": \"blue\", \"from\": 3, \"to\": 5}, {\"title\": \"7: (3, 4)\", \"label\": \"3\", \"color\": \"blue\", \"from\": 4, \"to\": 5}]);\n",
       "    const data = {\n",
       "            nodes: nodes,\n",
       "            edges: edges,\n",
       "    };\n",
       "    const options = {\"interaction\": {\"navigationButtons\": false}, \"width\": \"100%\", \"height\": \"100%\"};\n",
       "    const container = document.getElementById('ac2be7ce-adba-4f9a-a57f-f95ce3300b39');\n",
       "    const network = new Network(container, data, options);\n",
       "    network.fit({maxZoomLevel: 10});\n",
       "    network.redraw();\n",
       "}\n",
       "\n",
       "render();\n",
       "document.getElementById('fit-ac2be7ce-adba-4f9a-a57f-f95ce3300b39').addEventListener('click', function(event) {\n",
       "    event.preventDefault();  // Prevent page jump\n",
       "    render(); // Adjust zoom limit as needed\n",
       "});\n",
       "</script>\n"
      ],
      "text/plain": [
       "<IPython.core.display.HTML object>"
      ]
     },
     "metadata": {},
     "output_type": "display_data"
    },
    {
     "name": "stdout",
     "output_type": "stream",
     "text": [
      "Vertex of coordinates [3. 1. 1. 0. 2. 0. 1. 3.] (edge) / [-1.  0.] (kernel) is bijective.\n"
     ]
    },
    {
     "data": {
      "text/html": [
       "\n",
       "<div class=\"sm-graph\">\n",
       "<div id=\"9d516aad-14dc-4e70-a49e-797e5d1e0aef\"></div>\n",
       "<a href=\"#\" id=\"fit-9d516aad-14dc-4e70-a49e-797e5d1e0aef\"\n",
       "  style=\"position: absolute; left: 10px; bottom: 10px; text-decoration: none; color: #888; font-size: min(2vw, 10px);\n",
       "  z-index: 10; pointer-events: auto;\"\n",
       "> Refresh\n",
       "</a>\n",
       "<style>\n",
       ".sm-graph {\n",
       "position: relative;\n",
       "width: 100%;\n",
       "height: 50vh !important;\n",
       "max-width: 100vw;\n",
       "max-height: 100vh !important;\n",
       "}\n",
       ".sm-graph > div {\n",
       "  height: 100%;   /* Make the inner div fill the parent */\n",
       "}\n",
       "</style>\n",
       "</div>\n",
       "<script type=\"module\">\n",
       "import { DataSet, Network } from \"https://unpkg.com/vis-network/standalone/esm/vis-network.min.js\";\n",
       "// CSS will be automatically injected into the page.\n",
       "function render () {\n",
       "    const nodes = new DataSet([{\"id\": 0, \"label\": \"1\", \"title\": \"0: 1\"}, {\"id\": 1, \"label\": \"2\", \"title\": \"1: 2\"}, {\"id\": 2, \"label\": \"6\", \"title\": \"2: 6\"}, {\"id\": 3, \"label\": \"5\", \"title\": \"3: 5\"}, {\"id\": 4, \"label\": \"3\", \"title\": \"4: 3\"}, {\"id\": 5, \"label\": \"4\", \"title\": \"5: 4\"}]);\n",
       "    const edges = new DataSet([{\"title\": \"0: (1, 2)\", \"label\": \"2\", \"color\": \"blue\", \"from\": 0, \"to\": 1}, {\"title\": \"1: (1, 6)\", \"label\": \"2\", \"color\": \"blue\", \"from\": 0, \"to\": 2}, {\"title\": \"2: (2, 6)\", \"label\": \"2\", \"color\": \"blue\", \"from\": 1, \"to\": 2}, {\"title\": \"3: (2, 3)\", \"label\": \"\", \"color\": \"orange\", \"from\": 1, \"to\": 4}, {\"title\": \"4: (6, 5)\", \"label\": \"\", \"color\": \"orange\", \"from\": 2, \"to\": 3}, {\"title\": \"5: (5, 3)\", \"label\": \"1\", \"color\": \"blue\", \"from\": 3, \"to\": 4}, {\"title\": \"6: (5, 4)\", \"label\": \"2\", \"color\": \"blue\", \"from\": 3, \"to\": 5}, {\"title\": \"7: (3, 4)\", \"label\": \"2\", \"color\": \"blue\", \"from\": 4, \"to\": 5}]);\n",
       "    const data = {\n",
       "            nodes: nodes,\n",
       "            edges: edges,\n",
       "    };\n",
       "    const options = {\"interaction\": {\"navigationButtons\": false}, \"width\": \"100%\", \"height\": \"100%\"};\n",
       "    const container = document.getElementById('9d516aad-14dc-4e70-a49e-797e5d1e0aef');\n",
       "    const network = new Network(container, data, options);\n",
       "    network.fit({maxZoomLevel: 10});\n",
       "    network.redraw();\n",
       "}\n",
       "\n",
       "render();\n",
       "document.getElementById('fit-9d516aad-14dc-4e70-a49e-797e5d1e0aef').addEventListener('click', function(event) {\n",
       "    event.preventDefault();  // Prevent page jump\n",
       "    render(); // Adjust zoom limit as needed\n",
       "});\n",
       "</script>\n"
      ],
      "text/plain": [
       "<IPython.core.display.HTML object>"
      ]
     },
     "metadata": {},
     "output_type": "display_data"
    },
    {
     "name": "stdout",
     "output_type": "stream",
     "text": [
      "Vertex of coordinates [2. 2. 2. 0. 0. 1. 2. 2.] (edge) / [0. 1.] (kernel) is bijective.\n"
     ]
    },
    {
     "data": {
      "text/html": [
       "\n",
       "<div class=\"sm-graph\">\n",
       "<div id=\"7645d672-e17b-4bfc-ba76-eb8ff1daf8a2\"></div>\n",
       "<a href=\"#\" id=\"fit-7645d672-e17b-4bfc-ba76-eb8ff1daf8a2\"\n",
       "  style=\"position: absolute; left: 10px; bottom: 10px; text-decoration: none; color: #888; font-size: min(2vw, 10px);\n",
       "  z-index: 10; pointer-events: auto;\"\n",
       "> Refresh\n",
       "</a>\n",
       "<style>\n",
       ".sm-graph {\n",
       "position: relative;\n",
       "width: 100%;\n",
       "height: 50vh !important;\n",
       "max-width: 100vw;\n",
       "max-height: 100vh !important;\n",
       "}\n",
       ".sm-graph > div {\n",
       "  height: 100%;   /* Make the inner div fill the parent */\n",
       "}\n",
       "</style>\n",
       "</div>\n",
       "<script type=\"module\">\n",
       "import { DataSet, Network } from \"https://unpkg.com/vis-network/standalone/esm/vis-network.min.js\";\n",
       "// CSS will be automatically injected into the page.\n",
       "function render () {\n",
       "    const nodes = new DataSet([{\"id\": 0, \"label\": \"1\", \"title\": \"0: 1\"}, {\"id\": 1, \"label\": \"2\", \"title\": \"1: 2\"}, {\"id\": 2, \"label\": \"6\", \"title\": \"2: 6\"}, {\"id\": 3, \"label\": \"5\", \"title\": \"3: 5\"}, {\"id\": 4, \"label\": \"3\", \"title\": \"4: 3\"}, {\"id\": 5, \"label\": \"4\", \"title\": \"5: 4\"}]);\n",
       "    const edges = new DataSet([{\"title\": \"0: (1, 2)\", \"label\": \"1\", \"color\": \"blue\", \"from\": 0, \"to\": 1}, {\"title\": \"1: (1, 6)\", \"label\": \"3\", \"color\": \"blue\", \"from\": 0, \"to\": 2}, {\"title\": \"2: (2, 6)\", \"label\": \"1\", \"color\": \"blue\", \"from\": 1, \"to\": 2}, {\"title\": \"3: (2, 3)\", \"label\": \"2\", \"color\": \"blue\", \"from\": 1, \"to\": 4}, {\"title\": \"4: (6, 5)\", \"label\": \"\", \"color\": \"orange\", \"from\": 2, \"to\": 3}, {\"title\": \"5: (5, 3)\", \"label\": \"\", \"color\": \"orange\", \"from\": 3, \"to\": 4}, {\"title\": \"6: (5, 4)\", \"label\": \"3\", \"color\": \"blue\", \"from\": 3, \"to\": 5}, {\"title\": \"7: (3, 4)\", \"label\": \"1\", \"color\": \"blue\", \"from\": 4, \"to\": 5}]);\n",
       "    const data = {\n",
       "            nodes: nodes,\n",
       "            edges: edges,\n",
       "    };\n",
       "    const options = {\"interaction\": {\"navigationButtons\": false}, \"width\": \"100%\", \"height\": \"100%\"};\n",
       "    const container = document.getElementById('7645d672-e17b-4bfc-ba76-eb8ff1daf8a2');\n",
       "    const network = new Network(container, data, options);\n",
       "    network.fit({maxZoomLevel: 10});\n",
       "    network.redraw();\n",
       "}\n",
       "\n",
       "render();\n",
       "document.getElementById('fit-7645d672-e17b-4bfc-ba76-eb8ff1daf8a2').addEventListener('click', function(event) {\n",
       "    event.preventDefault();  // Prevent page jump\n",
       "    render(); // Adjust zoom limit as needed\n",
       "});\n",
       "</script>\n"
      ],
      "text/plain": [
       "<IPython.core.display.HTML object>"
      ]
     },
     "metadata": {},
     "output_type": "display_data"
    },
    {
     "name": "stdout",
     "output_type": "stream",
     "text": [
      "Vertex of coordinates [1. 3. 1. 2. 0. 0. 3. 1.] (edge) / [1. 0.] (kernel) is bijective.\n"
     ]
    }
   ],
   "source": [
    "show_vertices(codomino)"
   ]
  },
  {
   "cell_type": "markdown",
   "id": "529c59ff-a662-428d-baae-eb099263b6f8",
   "metadata": {},
   "source": [
    "#### 5 bijective vertices"
   ]
  },
  {
   "cell_type": "code",
   "execution_count": 21,
   "id": "1d7cdb89-51da-4eca-b413-4c175cf0d2fa",
   "metadata": {
    "execution": {
     "iopub.execute_input": "2025-09-26T18:31:59.422206Z",
     "iopub.status.busy": "2025-09-26T18:31:59.421199Z",
     "iopub.status.idle": "2025-09-26T18:31:59.425474Z",
     "shell.execute_reply": "2025-09-26T18:31:59.425474Z",
     "shell.execute_reply.started": "2025-09-26T18:31:59.422206Z"
    }
   },
   "outputs": [
    {
     "data": {
      "text/html": [
       "\n",
       "<div class=\"sm-graph\">\n",
       "<div id=\"083c5046-6991-4f0a-8811-521214dd153a\"></div>\n",
       "<a href=\"#\" id=\"fit-083c5046-6991-4f0a-8811-521214dd153a\"\n",
       "  style=\"position: absolute; left: 10px; bottom: 10px; text-decoration: none; color: #888; font-size: min(2vw, 10px);\n",
       "  z-index: 10; pointer-events: auto;\"\n",
       "> Refresh\n",
       "</a>\n",
       "<style>\n",
       ".sm-graph {\n",
       "position: relative;\n",
       "width: 100%;\n",
       "height: 50vh !important;\n",
       "max-width: 100vw;\n",
       "max-height: 100vh !important;\n",
       "}\n",
       ".sm-graph > div {\n",
       "  height: 100%;   /* Make the inner div fill the parent */\n",
       "}\n",
       "</style>\n",
       "</div>\n",
       "<script type=\"module\">\n",
       "import { DataSet, Network } from \"https://unpkg.com/vis-network/standalone/esm/vis-network.min.js\";\n",
       "// CSS will be automatically injected into the page.\n",
       "function render () {\n",
       "    const nodes = new DataSet([{\"id\": 0, \"label\": \"1\", \"title\": \"0: 1\"}, {\"id\": 1, \"label\": \"2\", \"title\": \"1: 2\"}, {\"id\": 2, \"label\": \"6\", \"title\": \"2: 6\"}, {\"id\": 3, \"label\": \"5\", \"title\": \"3: 5\"}, {\"id\": 4, \"label\": \"3\", \"title\": \"4: 3\"}, {\"id\": 5, \"label\": \"4\", \"title\": \"5: 4\"}]);\n",
       "    const edges = new DataSet([{\"title\": \"0: (1, 2)\", \"label\": \"2-\\u03b11\", \"from\": 0, \"to\": 1}, {\"title\": \"1: (1, 6)\", \"label\": \"2+\\u03b11\", \"from\": 0, \"to\": 2}, {\"title\": \"2: (2, 6)\", \"label\": \"2+\\u03b12\", \"from\": 1, \"to\": 2}, {\"title\": \"3: (2, 3)\", \"label\": \"1+\\u03b11-\\u03b12\", \"from\": 1, \"to\": 4}, {\"title\": \"4: (6, 5)\", \"label\": \"1-\\u03b11-\\u03b12\", \"from\": 2, \"to\": 3}, {\"title\": \"5: (5, 3)\", \"label\": \"1+\\u03b12\", \"from\": 3, \"to\": 4}, {\"title\": \"6: (5, 4)\", \"label\": \"1+\\u03b11\", \"from\": 3, \"to\": 5}, {\"title\": \"7: (3, 4)\", \"label\": \"1-\\u03b11\", \"from\": 4, \"to\": 5}]);\n",
       "    const data = {\n",
       "            nodes: nodes,\n",
       "            edges: edges,\n",
       "    };\n",
       "    const options = {\"interaction\": {\"navigationButtons\": false}, \"width\": \"100%\", \"height\": \"100%\"};\n",
       "    const container = document.getElementById('083c5046-6991-4f0a-8811-521214dd153a');\n",
       "    const network = new Network(container, data, options);\n",
       "    network.fit({maxZoomLevel: 10});\n",
       "    network.redraw();\n",
       "}\n",
       "\n",
       "render();\n",
       "document.getElementById('fit-083c5046-6991-4f0a-8811-521214dd153a').addEventListener('click', function(event) {\n",
       "    event.preventDefault();  // Prevent page jump\n",
       "    render(); // Adjust zoom limit as needed\n",
       "});\n",
       "</script>\n"
      ],
      "text/plain": [
       "<IPython.core.display.HTML object>"
      ]
     },
     "metadata": {},
     "output_type": "display_data"
    }
   ],
   "source": [
    "codomino.rates = [4, 5, 5, 3, 3, 2]\n",
    "codomino.base_flow = codomino.kernel_to_edge([0, 1/4])\n",
    "codomino.show_kernel(disp_rates=False, disp_flow=True)"
   ]
  },
  {
   "cell_type": "code",
   "execution_count": 22,
   "id": "9556dfc9-1713-4e91-9c04-f11e58809ed2",
   "metadata": {
    "execution": {
     "iopub.execute_input": "2025-09-26T18:31:59.426485Z",
     "iopub.status.busy": "2025-09-26T18:31:59.426485Z",
     "iopub.status.idle": "2025-09-26T18:31:59.441686Z",
     "shell.execute_reply": "2025-09-26T18:31:59.441686Z",
     "shell.execute_reply.started": "2025-09-26T18:31:59.426485Z"
    }
   },
   "outputs": [
    {
     "data": {
      "text/html": [
       "\n",
       "<div class=\"sm-graph\">\n",
       "<div id=\"d54d383d-1aee-46c2-95c3-dcf5303d29c2\"></div>\n",
       "<a href=\"#\" id=\"fit-d54d383d-1aee-46c2-95c3-dcf5303d29c2\"\n",
       "  style=\"position: absolute; left: 10px; bottom: 10px; text-decoration: none; color: #888; font-size: min(2vw, 10px);\n",
       "  z-index: 10; pointer-events: auto;\"\n",
       "> Refresh\n",
       "</a>\n",
       "<style>\n",
       ".sm-graph {\n",
       "position: relative;\n",
       "width: 100%;\n",
       "height: 50vh !important;\n",
       "max-width: 100vw;\n",
       "max-height: 100vh !important;\n",
       "}\n",
       ".sm-graph > div {\n",
       "  height: 100%;   /* Make the inner div fill the parent */\n",
       "}\n",
       "</style>\n",
       "</div>\n",
       "<script type=\"module\">\n",
       "import { DataSet, Network } from \"https://unpkg.com/vis-network/standalone/esm/vis-network.min.js\";\n",
       "// CSS will be automatically injected into the page.\n",
       "function render () {\n",
       "    const nodes = new DataSet([{\"id\": 0, \"label\": \"1\", \"title\": \"0: 1\"}, {\"id\": 1, \"label\": \"2\", \"title\": \"1: 2\"}, {\"id\": 2, \"label\": \"6\", \"title\": \"2: 6\"}, {\"id\": 3, \"label\": \"5\", \"title\": \"3: 5\"}, {\"id\": 4, \"label\": \"3\", \"title\": \"4: 3\"}, {\"id\": 5, \"label\": \"4\", \"title\": \"5: 4\"}]);\n",
       "    const edges = new DataSet([{\"title\": \"0: (1, 2)\", \"label\": \"3\", \"color\": \"blue\", \"from\": 0, \"to\": 1}, {\"title\": \"1: (1, 6)\", \"label\": \"1\", \"color\": \"blue\", \"from\": 0, \"to\": 2}, {\"title\": \"2: (2, 6)\", \"label\": \"1\", \"color\": \"blue\", \"from\": 1, \"to\": 2}, {\"title\": \"3: (2, 3)\", \"label\": \"1\", \"color\": \"blue\", \"from\": 1, \"to\": 4}, {\"title\": \"4: (6, 5)\", \"label\": \"3\", \"color\": \"blue\", \"from\": 2, \"to\": 3}, {\"title\": \"5: (5, 3)\", \"label\": \"\", \"color\": \"orange\", \"from\": 3, \"to\": 4}, {\"title\": \"6: (5, 4)\", \"label\": \"\", \"color\": \"orange\", \"from\": 3, \"to\": 5}, {\"title\": \"7: (3, 4)\", \"label\": \"2\", \"color\": \"blue\", \"from\": 4, \"to\": 5}]);\n",
       "    const data = {\n",
       "            nodes: nodes,\n",
       "            edges: edges,\n",
       "    };\n",
       "    const options = {\"interaction\": {\"navigationButtons\": false}, \"width\": \"100%\", \"height\": \"100%\"};\n",
       "    const container = document.getElementById('d54d383d-1aee-46c2-95c3-dcf5303d29c2');\n",
       "    const network = new Network(container, data, options);\n",
       "    network.fit({maxZoomLevel: 10});\n",
       "    network.redraw();\n",
       "}\n",
       "\n",
       "render();\n",
       "document.getElementById('fit-d54d383d-1aee-46c2-95c3-dcf5303d29c2').addEventListener('click', function(event) {\n",
       "    event.preventDefault();  // Prevent page jump\n",
       "    render(); // Adjust zoom limit as needed\n",
       "});\n",
       "</script>\n"
      ],
      "text/plain": [
       "<IPython.core.display.HTML object>"
      ]
     },
     "metadata": {},
     "output_type": "display_data"
    },
    {
     "name": "stdout",
     "output_type": "stream",
     "text": [
      "Vertex of coordinates [3. 1. 1. 1. 3. 0. 0. 2.] (edge) / [-1. -1.] (kernel) is bijective.\n"
     ]
    },
    {
     "data": {
      "text/html": [
       "\n",
       "<div class=\"sm-graph\">\n",
       "<div id=\"3c9ae57a-d158-4451-b320-85e566dca202\"></div>\n",
       "<a href=\"#\" id=\"fit-3c9ae57a-d158-4451-b320-85e566dca202\"\n",
       "  style=\"position: absolute; left: 10px; bottom: 10px; text-decoration: none; color: #888; font-size: min(2vw, 10px);\n",
       "  z-index: 10; pointer-events: auto;\"\n",
       "> Refresh\n",
       "</a>\n",
       "<style>\n",
       ".sm-graph {\n",
       "position: relative;\n",
       "width: 100%;\n",
       "height: 50vh !important;\n",
       "max-width: 100vw;\n",
       "max-height: 100vh !important;\n",
       "}\n",
       ".sm-graph > div {\n",
       "  height: 100%;   /* Make the inner div fill the parent */\n",
       "}\n",
       "</style>\n",
       "</div>\n",
       "<script type=\"module\">\n",
       "import { DataSet, Network } from \"https://unpkg.com/vis-network/standalone/esm/vis-network.min.js\";\n",
       "// CSS will be automatically injected into the page.\n",
       "function render () {\n",
       "    const nodes = new DataSet([{\"id\": 0, \"label\": \"1\", \"title\": \"0: 1\"}, {\"id\": 1, \"label\": \"2\", \"title\": \"1: 2\"}, {\"id\": 2, \"label\": \"6\", \"title\": \"2: 6\"}, {\"id\": 3, \"label\": \"5\", \"title\": \"3: 5\"}, {\"id\": 4, \"label\": \"3\", \"title\": \"4: 3\"}, {\"id\": 5, \"label\": \"4\", \"title\": \"5: 4\"}]);\n",
       "    const edges = new DataSet([{\"title\": \"0: (1, 2)\", \"label\": \"3\", \"color\": \"blue\", \"from\": 0, \"to\": 1}, {\"title\": \"1: (1, 6)\", \"label\": \"1\", \"color\": \"blue\", \"from\": 0, \"to\": 2}, {\"title\": \"2: (2, 6)\", \"label\": \"2\", \"color\": \"blue\", \"from\": 1, \"to\": 2}, {\"title\": \"3: (2, 3)\", \"label\": \"\", \"color\": \"orange\", \"from\": 1, \"to\": 4}, {\"title\": \"4: (6, 5)\", \"label\": \"2\", \"color\": \"blue\", \"from\": 2, \"to\": 3}, {\"title\": \"5: (5, 3)\", \"label\": \"1\", \"color\": \"blue\", \"from\": 3, \"to\": 4}, {\"title\": \"6: (5, 4)\", \"label\": \"\", \"color\": \"orange\", \"from\": 3, \"to\": 5}, {\"title\": \"7: (3, 4)\", \"label\": \"2\", \"color\": \"blue\", \"from\": 4, \"to\": 5}]);\n",
       "    const data = {\n",
       "            nodes: nodes,\n",
       "            edges: edges,\n",
       "    };\n",
       "    const options = {\"interaction\": {\"navigationButtons\": false}, \"width\": \"100%\", \"height\": \"100%\"};\n",
       "    const container = document.getElementById('3c9ae57a-d158-4451-b320-85e566dca202');\n",
       "    const network = new Network(container, data, options);\n",
       "    network.fit({maxZoomLevel: 10});\n",
       "    network.redraw();\n",
       "}\n",
       "\n",
       "render();\n",
       "document.getElementById('fit-3c9ae57a-d158-4451-b320-85e566dca202').addEventListener('click', function(event) {\n",
       "    event.preventDefault();  // Prevent page jump\n",
       "    render(); // Adjust zoom limit as needed\n",
       "});\n",
       "</script>\n"
      ],
      "text/plain": [
       "<IPython.core.display.HTML object>"
      ]
     },
     "metadata": {},
     "output_type": "display_data"
    },
    {
     "name": "stdout",
     "output_type": "stream",
     "text": [
      "Vertex of coordinates [3. 1. 2. 0. 2. 1. 0. 2.] (edge) / [-1.  0.] (kernel) is bijective.\n"
     ]
    },
    {
     "data": {
      "text/html": [
       "\n",
       "<div class=\"sm-graph\">\n",
       "<div id=\"7c07979f-2963-453f-b0e8-5afbc3b04ebb\"></div>\n",
       "<a href=\"#\" id=\"fit-7c07979f-2963-453f-b0e8-5afbc3b04ebb\"\n",
       "  style=\"position: absolute; left: 10px; bottom: 10px; text-decoration: none; color: #888; font-size: min(2vw, 10px);\n",
       "  z-index: 10; pointer-events: auto;\"\n",
       "> Refresh\n",
       "</a>\n",
       "<style>\n",
       ".sm-graph {\n",
       "position: relative;\n",
       "width: 100%;\n",
       "height: 50vh !important;\n",
       "max-width: 100vw;\n",
       "max-height: 100vh !important;\n",
       "}\n",
       ".sm-graph > div {\n",
       "  height: 100%;   /* Make the inner div fill the parent */\n",
       "}\n",
       "</style>\n",
       "</div>\n",
       "<script type=\"module\">\n",
       "import { DataSet, Network } from \"https://unpkg.com/vis-network/standalone/esm/vis-network.min.js\";\n",
       "// CSS will be automatically injected into the page.\n",
       "function render () {\n",
       "    const nodes = new DataSet([{\"id\": 0, \"label\": \"1\", \"title\": \"0: 1\"}, {\"id\": 1, \"label\": \"2\", \"title\": \"1: 2\"}, {\"id\": 2, \"label\": \"6\", \"title\": \"2: 6\"}, {\"id\": 3, \"label\": \"5\", \"title\": \"3: 5\"}, {\"id\": 4, \"label\": \"3\", \"title\": \"4: 3\"}, {\"id\": 5, \"label\": \"4\", \"title\": \"5: 4\"}]);\n",
       "    const edges = new DataSet([{\"title\": \"0: (1, 2)\", \"label\": \"2\", \"color\": \"blue\", \"from\": 0, \"to\": 1}, {\"title\": \"1: (1, 6)\", \"label\": \"2\", \"color\": \"blue\", \"from\": 0, \"to\": 2}, {\"title\": \"2: (2, 6)\", \"label\": \"3\", \"color\": \"blue\", \"from\": 1, \"to\": 2}, {\"title\": \"3: (2, 3)\", \"label\": \"\", \"color\": \"orange\", \"from\": 1, \"to\": 4}, {\"title\": \"4: (6, 5)\", \"label\": \"\", \"color\": \"orange\", \"from\": 2, \"to\": 3}, {\"title\": \"5: (5, 3)\", \"label\": \"2\", \"color\": \"blue\", \"from\": 3, \"to\": 4}, {\"title\": \"6: (5, 4)\", \"label\": \"1\", \"color\": \"blue\", \"from\": 3, \"to\": 5}, {\"title\": \"7: (3, 4)\", \"label\": \"1\", \"color\": \"blue\", \"from\": 4, \"to\": 5}]);\n",
       "    const data = {\n",
       "            nodes: nodes,\n",
       "            edges: edges,\n",
       "    };\n",
       "    const options = {\"interaction\": {\"navigationButtons\": false}, \"width\": \"100%\", \"height\": \"100%\"};\n",
       "    const container = document.getElementById('7c07979f-2963-453f-b0e8-5afbc3b04ebb');\n",
       "    const network = new Network(container, data, options);\n",
       "    network.fit({maxZoomLevel: 10});\n",
       "    network.redraw();\n",
       "}\n",
       "\n",
       "render();\n",
       "document.getElementById('fit-7c07979f-2963-453f-b0e8-5afbc3b04ebb').addEventListener('click', function(event) {\n",
       "    event.preventDefault();  // Prevent page jump\n",
       "    render(); // Adjust zoom limit as needed\n",
       "});\n",
       "</script>\n"
      ],
      "text/plain": [
       "<IPython.core.display.HTML object>"
      ]
     },
     "metadata": {},
     "output_type": "display_data"
    },
    {
     "name": "stdout",
     "output_type": "stream",
     "text": [
      "Vertex of coordinates [2. 2. 3. 0. 0. 2. 1. 1.] (edge) / [0. 1.] (kernel) is bijective.\n"
     ]
    },
    {
     "data": {
      "text/html": [
       "\n",
       "<div class=\"sm-graph\">\n",
       "<div id=\"de3d3b6c-fd85-4ab7-b45c-e48c079b88c5\"></div>\n",
       "<a href=\"#\" id=\"fit-de3d3b6c-fd85-4ab7-b45c-e48c079b88c5\"\n",
       "  style=\"position: absolute; left: 10px; bottom: 10px; text-decoration: none; color: #888; font-size: min(2vw, 10px);\n",
       "  z-index: 10; pointer-events: auto;\"\n",
       "> Refresh\n",
       "</a>\n",
       "<style>\n",
       ".sm-graph {\n",
       "position: relative;\n",
       "width: 100%;\n",
       "height: 50vh !important;\n",
       "max-width: 100vw;\n",
       "max-height: 100vh !important;\n",
       "}\n",
       ".sm-graph > div {\n",
       "  height: 100%;   /* Make the inner div fill the parent */\n",
       "}\n",
       "</style>\n",
       "</div>\n",
       "<script type=\"module\">\n",
       "import { DataSet, Network } from \"https://unpkg.com/vis-network/standalone/esm/vis-network.min.js\";\n",
       "// CSS will be automatically injected into the page.\n",
       "function render () {\n",
       "    const nodes = new DataSet([{\"id\": 0, \"label\": \"1\", \"title\": \"0: 1\"}, {\"id\": 1, \"label\": \"2\", \"title\": \"1: 2\"}, {\"id\": 2, \"label\": \"6\", \"title\": \"2: 6\"}, {\"id\": 3, \"label\": \"5\", \"title\": \"3: 5\"}, {\"id\": 4, \"label\": \"3\", \"title\": \"4: 3\"}, {\"id\": 5, \"label\": \"4\", \"title\": \"5: 4\"}]);\n",
       "    const edges = new DataSet([{\"title\": \"0: (1, 2)\", \"label\": \"1\", \"color\": \"blue\", \"from\": 0, \"to\": 1}, {\"title\": \"1: (1, 6)\", \"label\": \"3\", \"color\": \"blue\", \"from\": 0, \"to\": 2}, {\"title\": \"2: (2, 6)\", \"label\": \"2\", \"color\": \"blue\", \"from\": 1, \"to\": 2}, {\"title\": \"3: (2, 3)\", \"label\": \"2\", \"color\": \"blue\", \"from\": 1, \"to\": 4}, {\"title\": \"4: (6, 5)\", \"label\": \"\", \"color\": \"orange\", \"from\": 2, \"to\": 3}, {\"title\": \"5: (5, 3)\", \"label\": \"1\", \"color\": \"blue\", \"from\": 3, \"to\": 4}, {\"title\": \"6: (5, 4)\", \"label\": \"2\", \"color\": \"blue\", \"from\": 3, \"to\": 5}, {\"title\": \"7: (3, 4)\", \"label\": \"\", \"color\": \"orange\", \"from\": 4, \"to\": 5}]);\n",
       "    const data = {\n",
       "            nodes: nodes,\n",
       "            edges: edges,\n",
       "    };\n",
       "    const options = {\"interaction\": {\"navigationButtons\": false}, \"width\": \"100%\", \"height\": \"100%\"};\n",
       "    const container = document.getElementById('de3d3b6c-fd85-4ab7-b45c-e48c079b88c5');\n",
       "    const network = new Network(container, data, options);\n",
       "    network.fit({maxZoomLevel: 10});\n",
       "    network.redraw();\n",
       "}\n",
       "\n",
       "render();\n",
       "document.getElementById('fit-de3d3b6c-fd85-4ab7-b45c-e48c079b88c5').addEventListener('click', function(event) {\n",
       "    event.preventDefault();  // Prevent page jump\n",
       "    render(); // Adjust zoom limit as needed\n",
       "});\n",
       "</script>\n"
      ],
      "text/plain": [
       "<IPython.core.display.HTML object>"
      ]
     },
     "metadata": {},
     "output_type": "display_data"
    },
    {
     "name": "stdout",
     "output_type": "stream",
     "text": [
      "Vertex of coordinates [1. 3. 2. 2. 0. 1. 2. 0.] (edge) / [1. 0.] (kernel) is bijective.\n"
     ]
    },
    {
     "data": {
      "text/html": [
       "\n",
       "<div class=\"sm-graph\">\n",
       "<div id=\"dda5b39d-3b35-4da6-8071-ab7fbd976449\"></div>\n",
       "<a href=\"#\" id=\"fit-dda5b39d-3b35-4da6-8071-ab7fbd976449\"\n",
       "  style=\"position: absolute; left: 10px; bottom: 10px; text-decoration: none; color: #888; font-size: min(2vw, 10px);\n",
       "  z-index: 10; pointer-events: auto;\"\n",
       "> Refresh\n",
       "</a>\n",
       "<style>\n",
       ".sm-graph {\n",
       "position: relative;\n",
       "width: 100%;\n",
       "height: 50vh !important;\n",
       "max-width: 100vw;\n",
       "max-height: 100vh !important;\n",
       "}\n",
       ".sm-graph > div {\n",
       "  height: 100%;   /* Make the inner div fill the parent */\n",
       "}\n",
       "</style>\n",
       "</div>\n",
       "<script type=\"module\">\n",
       "import { DataSet, Network } from \"https://unpkg.com/vis-network/standalone/esm/vis-network.min.js\";\n",
       "// CSS will be automatically injected into the page.\n",
       "function render () {\n",
       "    const nodes = new DataSet([{\"id\": 0, \"label\": \"1\", \"title\": \"0: 1\"}, {\"id\": 1, \"label\": \"2\", \"title\": \"1: 2\"}, {\"id\": 2, \"label\": \"6\", \"title\": \"2: 6\"}, {\"id\": 3, \"label\": \"5\", \"title\": \"3: 5\"}, {\"id\": 4, \"label\": \"3\", \"title\": \"4: 3\"}, {\"id\": 5, \"label\": \"4\", \"title\": \"5: 4\"}]);\n",
       "    const edges = new DataSet([{\"title\": \"0: (1, 2)\", \"label\": \"1\", \"color\": \"blue\", \"from\": 0, \"to\": 1}, {\"title\": \"1: (1, 6)\", \"label\": \"3\", \"color\": \"blue\", \"from\": 0, \"to\": 2}, {\"title\": \"2: (2, 6)\", \"label\": \"1\", \"color\": \"blue\", \"from\": 1, \"to\": 2}, {\"title\": \"3: (2, 3)\", \"label\": \"3\", \"color\": \"blue\", \"from\": 1, \"to\": 4}, {\"title\": \"4: (6, 5)\", \"label\": \"1\", \"color\": \"blue\", \"from\": 2, \"to\": 3}, {\"title\": \"5: (5, 3)\", \"label\": \"\", \"color\": \"orange\", \"from\": 3, \"to\": 4}, {\"title\": \"6: (5, 4)\", \"label\": \"2\", \"color\": \"blue\", \"from\": 3, \"to\": 5}, {\"title\": \"7: (3, 4)\", \"label\": \"\", \"color\": \"orange\", \"from\": 4, \"to\": 5}]);\n",
       "    const data = {\n",
       "            nodes: nodes,\n",
       "            edges: edges,\n",
       "    };\n",
       "    const options = {\"interaction\": {\"navigationButtons\": false}, \"width\": \"100%\", \"height\": \"100%\"};\n",
       "    const container = document.getElementById('dda5b39d-3b35-4da6-8071-ab7fbd976449');\n",
       "    const network = new Network(container, data, options);\n",
       "    network.fit({maxZoomLevel: 10});\n",
       "    network.redraw();\n",
       "}\n",
       "\n",
       "render();\n",
       "document.getElementById('fit-dda5b39d-3b35-4da6-8071-ab7fbd976449').addEventListener('click', function(event) {\n",
       "    event.preventDefault();  // Prevent page jump\n",
       "    render(); // Adjust zoom limit as needed\n",
       "});\n",
       "</script>\n"
      ],
      "text/plain": [
       "<IPython.core.display.HTML object>"
      ]
     },
     "metadata": {},
     "output_type": "display_data"
    },
    {
     "name": "stdout",
     "output_type": "stream",
     "text": [
      "Vertex of coordinates [1. 3. 1. 3. 1. 0. 2. 0.] (edge) / [ 1. -1.] (kernel) is bijective.\n"
     ]
    }
   ],
   "source": [
    "show_vertices(codomino)"
   ]
  },
  {
   "cell_type": "markdown",
   "id": "ec014df5-6cee-42c1-8722-d236f18947d0",
   "metadata": {},
   "source": [
    "### Pyramid polytope"
   ]
  },
  {
   "cell_type": "markdown",
   "id": "428cb685-4547-4c3d-8561-c8a4da268da1",
   "metadata": {},
   "source": [
    "Starting from 3-D kernels, it is possible to have an injective-only vertex even if all tight edges are irredundant. One of the simple  example is the Egyptian pyramid, where 4 distinct planes intersect at one point (the top of the pyramid). The following model was specifically designed so that its polytope is pyramid-shaped."
   ]
  },
  {
   "cell_type": "code",
   "execution_count": 23,
   "id": "87994b3d-be9b-4c27-9f70-173c39537f3a",
   "metadata": {
    "execution": {
     "iopub.execute_input": "2025-09-26T18:31:59.441686Z",
     "iopub.status.busy": "2025-09-26T18:31:59.441686Z",
     "iopub.status.idle": "2025-09-26T18:31:59.447579Z",
     "shell.execute_reply": "2025-09-26T18:31:59.447579Z",
     "shell.execute_reply.started": "2025-09-26T18:31:59.441686Z"
    }
   },
   "outputs": [
    {
     "data": {
      "text/html": [
       "\n",
       "<div class=\"sm-graph\">\n",
       "<div id=\"cdbe9cdd-3e3d-4d7b-acbc-3f16c29a4e6e\"></div>\n",
       "<a href=\"#\" id=\"fit-cdbe9cdd-3e3d-4d7b-acbc-3f16c29a4e6e\"\n",
       "  style=\"position: absolute; left: 10px; bottom: 10px; text-decoration: none; color: #888; font-size: min(2vw, 10px);\n",
       "  z-index: 10; pointer-events: auto;\"\n",
       "> Refresh\n",
       "</a>\n",
       "<style>\n",
       ".sm-graph {\n",
       "position: relative;\n",
       "width: 100%;\n",
       "height: 50vh !important;\n",
       "max-width: 100vw;\n",
       "max-height: 100vh !important;\n",
       "}\n",
       ".sm-graph > div {\n",
       "  height: 100%;   /* Make the inner div fill the parent */\n",
       "}\n",
       "</style>\n",
       "</div>\n",
       "<script type=\"module\">\n",
       "import { DataSet, Network } from \"https://unpkg.com/vis-network/standalone/esm/vis-network.min.js\";\n",
       "// CSS will be automatically injected into the page.\n",
       "function render () {\n",
       "    const nodes = new DataSet([{\"id\": 0, \"label\": \"9\", \"title\": \"0: 9\"}, {\"id\": 1, \"label\": \"2\", \"title\": \"1: 2\"}, {\"id\": 2, \"label\": \"1\", \"title\": \"2: 1\"}, {\"id\": 3, \"label\": \"8\", \"title\": \"3: 8\"}, {\"id\": 4, \"label\": \"7\", \"title\": \"4: 7\"}, {\"id\": 5, \"label\": \"3\", \"title\": \"5: 3\"}, {\"id\": 6, \"label\": \"4\", \"title\": \"6: 4\"}, {\"id\": 7, \"label\": \"5\", \"title\": \"7: 5\"}, {\"id\": 8, \"label\": \"6\", \"title\": \"8: 6\"}, {\"id\": 9, \"label\": \"10\", \"title\": \"9: 10\"}]);\n",
       "    const edges = new DataSet([{\"title\": \"0: (9, 2)\", \"label\": \"2+\\u03b11\", \"from\": 0, \"to\": 1}, {\"title\": \"1: (9, 1)\", \"label\": \"2-\\u03b11\", \"from\": 0, \"to\": 2}, {\"title\": \"2: (2, 1)\", \"label\": \"+\\u03b13\", \"from\": 1, \"to\": 2}, {\"title\": \"3: (2, 3)\", \"label\": \"1-\\u03b11-\\u03b13\", \"from\": 1, \"to\": 5}, {\"title\": \"4: (1, 8)\", \"label\": \"1+\\u03b11-\\u03b13\", \"from\": 2, \"to\": 3}, {\"title\": \"5: (8, 7)\", \"label\": \"2-\\u03b11+\\u03b13\", \"from\": 3, \"to\": 4}, {\"title\": \"6: (7, 3)\", \"label\": \"3+\\u03b11+\\u03b12\", \"from\": 4, \"to\": 5}, {\"title\": \"7: (7, 6)\", \"label\": \"1-\\u03b12-\\u03b13\", \"from\": 4, \"to\": 8}, {\"title\": \"8: (3, 4)\", \"label\": \"2-\\u03b12+\\u03b13\", \"from\": 5, \"to\": 6}, {\"title\": \"9: (4, 5)\", \"label\": \"1+\\u03b12-\\u03b13\", \"from\": 6, \"to\": 7}, {\"title\": \"10: (5, 6)\", \"label\": \"1+\\u03b13\", \"from\": 7, \"to\": 8}, {\"title\": \"11: (5, 10)\", \"label\": \"2-\\u03b12\", \"from\": 7, \"to\": 9}, {\"title\": \"12: (6, 10)\", \"label\": \"2+\\u03b12\", \"from\": 8, \"to\": 9}]);\n",
       "    const data = {\n",
       "            nodes: nodes,\n",
       "            edges: edges,\n",
       "    };\n",
       "    const options = {\"interaction\": {\"navigationButtons\": false}, \"width\": \"100%\", \"height\": \"100%\"};\n",
       "    const container = document.getElementById('cdbe9cdd-3e3d-4d7b-acbc-3f16c29a4e6e');\n",
       "    const network = new Network(container, data, options);\n",
       "    network.fit({maxZoomLevel: 10});\n",
       "    network.redraw();\n",
       "}\n",
       "\n",
       "render();\n",
       "document.getElementById('fit-cdbe9cdd-3e3d-4d7b-acbc-3f16c29a4e6e').addEventListener('click', function(event) {\n",
       "    event.preventDefault();  // Prevent page jump\n",
       "    render(); // Adjust zoom limit as needed\n",
       "});\n",
       "</script>\n"
      ],
      "text/plain": [
       "<IPython.core.display.HTML object>"
      ]
     },
     "metadata": {},
     "output_type": "display_data"
    }
   ],
   "source": [
    "pyramid = sm.Pyramid(\n",
    "    rates=[4, 3, 3, 3, 6, 6, 3, 4, 4, 4],\n",
    "    names=[\"9\", \"2\", \"1\", \"8\", \"7\", \"3\", \"4\", \"5\", \"6\", \"10\"],\n",
    ")\n",
    "pyramid.seeds = [0, 12, 2]\n",
    "pyramid.base_flow = pyramid.kernel_to_edge([1 / 6, 1 / 6, 1 / 6])\n",
    "pyramid.show_kernel(disp_flow=True, disp_rates=False)"
   ]
  },
  {
   "cell_type": "code",
   "execution_count": 24,
   "id": "832bca27-9baf-4a43-a7e3-194f60f29a54",
   "metadata": {
    "execution": {
     "iopub.execute_input": "2025-09-26T18:31:59.447579Z",
     "iopub.status.busy": "2025-09-26T18:31:59.447579Z",
     "iopub.status.idle": "2025-09-26T18:31:59.462590Z",
     "shell.execute_reply": "2025-09-26T18:31:59.462590Z",
     "shell.execute_reply.started": "2025-09-26T18:31:59.447579Z"
    }
   },
   "outputs": [
    {
     "data": {
      "text/html": [
       "\n",
       "<div class=\"sm-graph\">\n",
       "<div id=\"ef347ca4-4472-40a6-8160-eba60dd6c66e\"></div>\n",
       "<a href=\"#\" id=\"fit-ef347ca4-4472-40a6-8160-eba60dd6c66e\"\n",
       "  style=\"position: absolute; left: 10px; bottom: 10px; text-decoration: none; color: #888; font-size: min(2vw, 10px);\n",
       "  z-index: 10; pointer-events: auto;\"\n",
       "> Refresh\n",
       "</a>\n",
       "<style>\n",
       ".sm-graph {\n",
       "position: relative;\n",
       "width: 100%;\n",
       "height: 50vh !important;\n",
       "max-width: 100vw;\n",
       "max-height: 100vh !important;\n",
       "}\n",
       ".sm-graph > div {\n",
       "  height: 100%;   /* Make the inner div fill the parent */\n",
       "}\n",
       "</style>\n",
       "</div>\n",
       "<script type=\"module\">\n",
       "import { DataSet, Network } from \"https://unpkg.com/vis-network/standalone/esm/vis-network.min.js\";\n",
       "// CSS will be automatically injected into the page.\n",
       "function render () {\n",
       "    const nodes = new DataSet([{\"id\": 0, \"label\": \"9\", \"title\": \"0: 9\"}, {\"id\": 1, \"label\": \"2\", \"title\": \"1: 2\"}, {\"id\": 2, \"label\": \"1\", \"title\": \"2: 1\"}, {\"id\": 3, \"label\": \"8\", \"title\": \"3: 8\"}, {\"id\": 4, \"label\": \"7\", \"title\": \"4: 7\"}, {\"id\": 5, \"label\": \"3\", \"title\": \"5: 3\"}, {\"id\": 6, \"label\": \"4\", \"title\": \"6: 4\"}, {\"id\": 7, \"label\": \"5\", \"title\": \"7: 5\"}, {\"id\": 8, \"label\": \"6\", \"title\": \"8: 6\"}, {\"id\": 9, \"label\": \"10\", \"title\": \"9: 10\"}]);\n",
       "    const edges = new DataSet([{\"title\": \"0: (9, 2)\", \"label\": \"1\", \"color\": \"blue\", \"from\": 0, \"to\": 1}, {\"title\": \"1: (9, 1)\", \"label\": \"3\", \"color\": \"blue\", \"from\": 0, \"to\": 2}, {\"title\": \"2: (2, 1)\", \"label\": \"\", \"color\": \"orange\", \"from\": 1, \"to\": 2}, {\"title\": \"3: (2, 3)\", \"label\": \"2\", \"color\": \"blue\", \"from\": 1, \"to\": 5}, {\"title\": \"4: (1, 8)\", \"label\": \"\", \"color\": \"orange\", \"from\": 2, \"to\": 3}, {\"title\": \"5: (8, 7)\", \"label\": \"3\", \"color\": \"blue\", \"from\": 3, \"to\": 4}, {\"title\": \"6: (7, 3)\", \"label\": \"3\", \"color\": \"blue\", \"from\": 4, \"to\": 5}, {\"title\": \"7: (7, 6)\", \"label\": \"\", \"color\": \"orange\", \"from\": 4, \"to\": 8}, {\"title\": \"8: (3, 4)\", \"label\": \"1\", \"color\": \"blue\", \"from\": 5, \"to\": 6}, {\"title\": \"9: (4, 5)\", \"label\": \"2\", \"color\": \"blue\", \"from\": 6, \"to\": 7}, {\"title\": \"10: (5, 6)\", \"label\": \"1\", \"color\": \"blue\", \"from\": 7, \"to\": 8}, {\"title\": \"11: (5, 10)\", \"label\": \"1\", \"color\": \"blue\", \"from\": 7, \"to\": 9}, {\"title\": \"12: (6, 10)\", \"label\": \"3\", \"color\": \"blue\", \"from\": 8, \"to\": 9}]);\n",
       "    const data = {\n",
       "            nodes: nodes,\n",
       "            edges: edges,\n",
       "    };\n",
       "    const options = {\"interaction\": {\"navigationButtons\": false}, \"width\": \"100%\", \"height\": \"100%\"};\n",
       "    const container = document.getElementById('ef347ca4-4472-40a6-8160-eba60dd6c66e');\n",
       "    const network = new Network(container, data, options);\n",
       "    network.fit({maxZoomLevel: 10});\n",
       "    network.redraw();\n",
       "}\n",
       "\n",
       "render();\n",
       "document.getElementById('fit-ef347ca4-4472-40a6-8160-eba60dd6c66e').addEventListener('click', function(event) {\n",
       "    event.preventDefault();  // Prevent page jump\n",
       "    render(); // Adjust zoom limit as needed\n",
       "});\n",
       "</script>\n"
      ],
      "text/plain": [
       "<IPython.core.display.HTML object>"
      ]
     },
     "metadata": {},
     "output_type": "display_data"
    },
    {
     "name": "stdout",
     "output_type": "stream",
     "text": [
      "Vertex of coordinates [1. 3. 0. 2. 0. 3. 3. 0. 1. 2. 1. 1. 3.] (edge) / [-1.  1.  0.] (kernel) is bijective.\n"
     ]
    },
    {
     "data": {
      "text/html": [
       "\n",
       "<div class=\"sm-graph\">\n",
       "<div id=\"1777a668-bae9-4e6a-ac4f-343268191281\"></div>\n",
       "<a href=\"#\" id=\"fit-1777a668-bae9-4e6a-ac4f-343268191281\"\n",
       "  style=\"position: absolute; left: 10px; bottom: 10px; text-decoration: none; color: #888; font-size: min(2vw, 10px);\n",
       "  z-index: 10; pointer-events: auto;\"\n",
       "> Refresh\n",
       "</a>\n",
       "<style>\n",
       ".sm-graph {\n",
       "position: relative;\n",
       "width: 100%;\n",
       "height: 50vh !important;\n",
       "max-width: 100vw;\n",
       "max-height: 100vh !important;\n",
       "}\n",
       ".sm-graph > div {\n",
       "  height: 100%;   /* Make the inner div fill the parent */\n",
       "}\n",
       "</style>\n",
       "</div>\n",
       "<script type=\"module\">\n",
       "import { DataSet, Network } from \"https://unpkg.com/vis-network/standalone/esm/vis-network.min.js\";\n",
       "// CSS will be automatically injected into the page.\n",
       "function render () {\n",
       "    const nodes = new DataSet([{\"id\": 0, \"label\": \"9\", \"title\": \"0: 9\"}, {\"id\": 1, \"label\": \"2\", \"title\": \"1: 2\"}, {\"id\": 2, \"label\": \"1\", \"title\": \"2: 1\"}, {\"id\": 3, \"label\": \"8\", \"title\": \"3: 8\"}, {\"id\": 4, \"label\": \"7\", \"title\": \"4: 7\"}, {\"id\": 5, \"label\": \"3\", \"title\": \"5: 3\"}, {\"id\": 6, \"label\": \"4\", \"title\": \"6: 4\"}, {\"id\": 7, \"label\": \"5\", \"title\": \"7: 5\"}, {\"id\": 8, \"label\": \"6\", \"title\": \"8: 6\"}, {\"id\": 9, \"label\": \"10\", \"title\": \"9: 10\"}]);\n",
       "    const edges = new DataSet([{\"title\": \"0: (9, 2)\", \"label\": \"1\", \"color\": \"blue\", \"from\": 0, \"to\": 1}, {\"title\": \"1: (9, 1)\", \"label\": \"3\", \"color\": \"blue\", \"from\": 0, \"to\": 2}, {\"title\": \"2: (2, 1)\", \"label\": \"\", \"color\": \"orange\", \"from\": 1, \"to\": 2}, {\"title\": \"3: (2, 3)\", \"label\": \"2\", \"color\": \"blue\", \"from\": 1, \"to\": 5}, {\"title\": \"4: (1, 8)\", \"label\": \"\", \"color\": \"orange\", \"from\": 2, \"to\": 3}, {\"title\": \"5: (8, 7)\", \"label\": \"3\", \"color\": \"blue\", \"from\": 3, \"to\": 4}, {\"title\": \"6: (7, 3)\", \"label\": \"1\", \"color\": \"blue\", \"from\": 4, \"to\": 5}, {\"title\": \"7: (7, 6)\", \"label\": \"2\", \"color\": \"blue\", \"from\": 4, \"to\": 8}, {\"title\": \"8: (3, 4)\", \"label\": \"3\", \"color\": \"blue\", \"from\": 5, \"to\": 6}, {\"title\": \"9: (4, 5)\", \"label\": \"\", \"color\": \"orange\", \"from\": 6, \"to\": 7}, {\"title\": \"10: (5, 6)\", \"label\": \"1\", \"color\": \"blue\", \"from\": 7, \"to\": 8}, {\"title\": \"11: (5, 10)\", \"label\": \"3\", \"color\": \"blue\", \"from\": 7, \"to\": 9}, {\"title\": \"12: (6, 10)\", \"label\": \"1\", \"color\": \"blue\", \"from\": 8, \"to\": 9}]);\n",
       "    const data = {\n",
       "            nodes: nodes,\n",
       "            edges: edges,\n",
       "    };\n",
       "    const options = {\"interaction\": {\"navigationButtons\": false}, \"width\": \"100%\", \"height\": \"100%\"};\n",
       "    const container = document.getElementById('1777a668-bae9-4e6a-ac4f-343268191281');\n",
       "    const network = new Network(container, data, options);\n",
       "    network.fit({maxZoomLevel: 10});\n",
       "    network.redraw();\n",
       "}\n",
       "\n",
       "render();\n",
       "document.getElementById('fit-1777a668-bae9-4e6a-ac4f-343268191281').addEventListener('click', function(event) {\n",
       "    event.preventDefault();  // Prevent page jump\n",
       "    render(); // Adjust zoom limit as needed\n",
       "});\n",
       "</script>\n"
      ],
      "text/plain": [
       "<IPython.core.display.HTML object>"
      ]
     },
     "metadata": {},
     "output_type": "display_data"
    },
    {
     "name": "stdout",
     "output_type": "stream",
     "text": [
      "Vertex of coordinates [1. 3. 0. 2. 0. 3. 1. 2. 3. 0. 1. 3. 1.] (edge) / [-1. -1.  0.] (kernel) is bijective.\n"
     ]
    },
    {
     "data": {
      "text/html": [
       "\n",
       "<div class=\"sm-graph\">\n",
       "<div id=\"99b0b0f4-1da8-41c2-a172-bbe532dd1045\"></div>\n",
       "<a href=\"#\" id=\"fit-99b0b0f4-1da8-41c2-a172-bbe532dd1045\"\n",
       "  style=\"position: absolute; left: 10px; bottom: 10px; text-decoration: none; color: #888; font-size: min(2vw, 10px);\n",
       "  z-index: 10; pointer-events: auto;\"\n",
       "> Refresh\n",
       "</a>\n",
       "<style>\n",
       ".sm-graph {\n",
       "position: relative;\n",
       "width: 100%;\n",
       "height: 50vh !important;\n",
       "max-width: 100vw;\n",
       "max-height: 100vh !important;\n",
       "}\n",
       ".sm-graph > div {\n",
       "  height: 100%;   /* Make the inner div fill the parent */\n",
       "}\n",
       "</style>\n",
       "</div>\n",
       "<script type=\"module\">\n",
       "import { DataSet, Network } from \"https://unpkg.com/vis-network/standalone/esm/vis-network.min.js\";\n",
       "// CSS will be automatically injected into the page.\n",
       "function render () {\n",
       "    const nodes = new DataSet([{\"id\": 0, \"label\": \"9\", \"title\": \"0: 9\"}, {\"id\": 1, \"label\": \"2\", \"title\": \"1: 2\"}, {\"id\": 2, \"label\": \"1\", \"title\": \"2: 1\"}, {\"id\": 3, \"label\": \"8\", \"title\": \"3: 8\"}, {\"id\": 4, \"label\": \"7\", \"title\": \"4: 7\"}, {\"id\": 5, \"label\": \"3\", \"title\": \"5: 3\"}, {\"id\": 6, \"label\": \"4\", \"title\": \"6: 4\"}, {\"id\": 7, \"label\": \"5\", \"title\": \"7: 5\"}, {\"id\": 8, \"label\": \"6\", \"title\": \"8: 6\"}, {\"id\": 9, \"label\": \"10\", \"title\": \"9: 10\"}]);\n",
       "    const edges = new DataSet([{\"title\": \"0: (9, 2)\", \"label\": \"2\", \"color\": \"blue\", \"from\": 0, \"to\": 1}, {\"title\": \"1: (9, 1)\", \"label\": \"2\", \"color\": \"blue\", \"from\": 0, \"to\": 2}, {\"title\": \"2: (2, 1)\", \"label\": \"1\", \"color\": \"blue\", \"from\": 1, \"to\": 2}, {\"title\": \"3: (2, 3)\", \"label\": \"\", \"color\": \"orange\", \"from\": 1, \"to\": 5}, {\"title\": \"4: (1, 8)\", \"label\": \"\", \"color\": \"orange\", \"from\": 2, \"to\": 3}, {\"title\": \"5: (8, 7)\", \"label\": \"3\", \"color\": \"blue\", \"from\": 3, \"to\": 4}, {\"title\": \"6: (7, 3)\", \"label\": \"3\", \"color\": \"blue\", \"from\": 4, \"to\": 5}, {\"title\": \"7: (7, 6)\", \"label\": \"\", \"color\": \"orange\", \"from\": 4, \"to\": 8}, {\"title\": \"8: (3, 4)\", \"label\": \"3\", \"color\": \"blue\", \"from\": 5, \"to\": 6}, {\"title\": \"9: (4, 5)\", \"label\": \"\", \"color\": \"orange\", \"from\": 6, \"to\": 7}, {\"title\": \"10: (5, 6)\", \"label\": \"2\", \"color\": \"blue\", \"from\": 7, \"to\": 8}, {\"title\": \"11: (5, 10)\", \"label\": \"2\", \"color\": \"blue\", \"from\": 7, \"to\": 9}, {\"title\": \"12: (6, 10)\", \"label\": \"2\", \"color\": \"blue\", \"from\": 8, \"to\": 9}]);\n",
       "    const data = {\n",
       "            nodes: nodes,\n",
       "            edges: edges,\n",
       "    };\n",
       "    const options = {\"interaction\": {\"navigationButtons\": false}, \"width\": \"100%\", \"height\": \"100%\"};\n",
       "    const container = document.getElementById('99b0b0f4-1da8-41c2-a172-bbe532dd1045');\n",
       "    const network = new Network(container, data, options);\n",
       "    network.fit({maxZoomLevel: 10});\n",
       "    network.redraw();\n",
       "}\n",
       "\n",
       "render();\n",
       "document.getElementById('fit-99b0b0f4-1da8-41c2-a172-bbe532dd1045').addEventListener('click', function(event) {\n",
       "    event.preventDefault();  // Prevent page jump\n",
       "    render(); // Adjust zoom limit as needed\n",
       "});\n",
       "</script>\n"
      ],
      "text/plain": [
       "<IPython.core.display.HTML object>"
      ]
     },
     "metadata": {},
     "output_type": "display_data"
    },
    {
     "name": "stdout",
     "output_type": "stream",
     "text": [
      "Vertex of coordinates [2. 2. 1. 0. 0. 3. 3. 0. 3. 0. 2. 2. 2.] (edge) / [0. 0. 1.] (kernel) is injective.\n"
     ]
    },
    {
     "data": {
      "text/html": [
       "\n",
       "<div class=\"sm-graph\">\n",
       "<div id=\"8eda6d43-4b57-459a-ba91-eff2847e5047\"></div>\n",
       "<a href=\"#\" id=\"fit-8eda6d43-4b57-459a-ba91-eff2847e5047\"\n",
       "  style=\"position: absolute; left: 10px; bottom: 10px; text-decoration: none; color: #888; font-size: min(2vw, 10px);\n",
       "  z-index: 10; pointer-events: auto;\"\n",
       "> Refresh\n",
       "</a>\n",
       "<style>\n",
       ".sm-graph {\n",
       "position: relative;\n",
       "width: 100%;\n",
       "height: 50vh !important;\n",
       "max-width: 100vw;\n",
       "max-height: 100vh !important;\n",
       "}\n",
       ".sm-graph > div {\n",
       "  height: 100%;   /* Make the inner div fill the parent */\n",
       "}\n",
       "</style>\n",
       "</div>\n",
       "<script type=\"module\">\n",
       "import { DataSet, Network } from \"https://unpkg.com/vis-network/standalone/esm/vis-network.min.js\";\n",
       "// CSS will be automatically injected into the page.\n",
       "function render () {\n",
       "    const nodes = new DataSet([{\"id\": 0, \"label\": \"9\", \"title\": \"0: 9\"}, {\"id\": 1, \"label\": \"2\", \"title\": \"1: 2\"}, {\"id\": 2, \"label\": \"1\", \"title\": \"2: 1\"}, {\"id\": 3, \"label\": \"8\", \"title\": \"3: 8\"}, {\"id\": 4, \"label\": \"7\", \"title\": \"4: 7\"}, {\"id\": 5, \"label\": \"3\", \"title\": \"5: 3\"}, {\"id\": 6, \"label\": \"4\", \"title\": \"6: 4\"}, {\"id\": 7, \"label\": \"5\", \"title\": \"7: 5\"}, {\"id\": 8, \"label\": \"6\", \"title\": \"8: 6\"}, {\"id\": 9, \"label\": \"10\", \"title\": \"9: 10\"}]);\n",
       "    const edges = new DataSet([{\"title\": \"0: (9, 2)\", \"label\": \"3\", \"color\": \"blue\", \"from\": 0, \"to\": 1}, {\"title\": \"1: (9, 1)\", \"label\": \"1\", \"color\": \"blue\", \"from\": 0, \"to\": 2}, {\"title\": \"2: (2, 1)\", \"label\": \"\", \"color\": \"orange\", \"from\": 1, \"to\": 2}, {\"title\": \"3: (2, 3)\", \"label\": \"\", \"color\": \"orange\", \"from\": 1, \"to\": 5}, {\"title\": \"4: (1, 8)\", \"label\": \"2\", \"color\": \"blue\", \"from\": 2, \"to\": 3}, {\"title\": \"5: (8, 7)\", \"label\": \"1\", \"color\": \"blue\", \"from\": 3, \"to\": 4}, {\"title\": \"6: (7, 3)\", \"label\": \"3\", \"color\": \"blue\", \"from\": 4, \"to\": 5}, {\"title\": \"7: (7, 6)\", \"label\": \"2\", \"color\": \"blue\", \"from\": 4, \"to\": 8}, {\"title\": \"8: (3, 4)\", \"label\": \"3\", \"color\": \"blue\", \"from\": 5, \"to\": 6}, {\"title\": \"9: (4, 5)\", \"label\": \"\", \"color\": \"orange\", \"from\": 6, \"to\": 7}, {\"title\": \"10: (5, 6)\", \"label\": \"1\", \"color\": \"blue\", \"from\": 7, \"to\": 8}, {\"title\": \"11: (5, 10)\", \"label\": \"3\", \"color\": \"blue\", \"from\": 7, \"to\": 9}, {\"title\": \"12: (6, 10)\", \"label\": \"1\", \"color\": \"blue\", \"from\": 8, \"to\": 9}]);\n",
       "    const data = {\n",
       "            nodes: nodes,\n",
       "            edges: edges,\n",
       "    };\n",
       "    const options = {\"interaction\": {\"navigationButtons\": false}, \"width\": \"100%\", \"height\": \"100%\"};\n",
       "    const container = document.getElementById('8eda6d43-4b57-459a-ba91-eff2847e5047');\n",
       "    const network = new Network(container, data, options);\n",
       "    network.fit({maxZoomLevel: 10});\n",
       "    network.redraw();\n",
       "}\n",
       "\n",
       "render();\n",
       "document.getElementById('fit-8eda6d43-4b57-459a-ba91-eff2847e5047').addEventListener('click', function(event) {\n",
       "    event.preventDefault();  // Prevent page jump\n",
       "    render(); // Adjust zoom limit as needed\n",
       "});\n",
       "</script>\n"
      ],
      "text/plain": [
       "<IPython.core.display.HTML object>"
      ]
     },
     "metadata": {},
     "output_type": "display_data"
    },
    {
     "name": "stdout",
     "output_type": "stream",
     "text": [
      "Vertex of coordinates [3. 1. 0. 0. 2. 1. 3. 2. 3. 0. 1. 3. 1.] (edge) / [ 1. -1.  0.] (kernel) is bijective.\n"
     ]
    },
    {
     "data": {
      "text/html": [
       "\n",
       "<div class=\"sm-graph\">\n",
       "<div id=\"69c5f527-40f7-430c-9b00-511c65b684fe\"></div>\n",
       "<a href=\"#\" id=\"fit-69c5f527-40f7-430c-9b00-511c65b684fe\"\n",
       "  style=\"position: absolute; left: 10px; bottom: 10px; text-decoration: none; color: #888; font-size: min(2vw, 10px);\n",
       "  z-index: 10; pointer-events: auto;\"\n",
       "> Refresh\n",
       "</a>\n",
       "<style>\n",
       ".sm-graph {\n",
       "position: relative;\n",
       "width: 100%;\n",
       "height: 50vh !important;\n",
       "max-width: 100vw;\n",
       "max-height: 100vh !important;\n",
       "}\n",
       ".sm-graph > div {\n",
       "  height: 100%;   /* Make the inner div fill the parent */\n",
       "}\n",
       "</style>\n",
       "</div>\n",
       "<script type=\"module\">\n",
       "import { DataSet, Network } from \"https://unpkg.com/vis-network/standalone/esm/vis-network.min.js\";\n",
       "// CSS will be automatically injected into the page.\n",
       "function render () {\n",
       "    const nodes = new DataSet([{\"id\": 0, \"label\": \"9\", \"title\": \"0: 9\"}, {\"id\": 1, \"label\": \"2\", \"title\": \"1: 2\"}, {\"id\": 2, \"label\": \"1\", \"title\": \"2: 1\"}, {\"id\": 3, \"label\": \"8\", \"title\": \"3: 8\"}, {\"id\": 4, \"label\": \"7\", \"title\": \"4: 7\"}, {\"id\": 5, \"label\": \"3\", \"title\": \"5: 3\"}, {\"id\": 6, \"label\": \"4\", \"title\": \"6: 4\"}, {\"id\": 7, \"label\": \"5\", \"title\": \"7: 5\"}, {\"id\": 8, \"label\": \"6\", \"title\": \"8: 6\"}, {\"id\": 9, \"label\": \"10\", \"title\": \"9: 10\"}]);\n",
       "    const edges = new DataSet([{\"title\": \"0: (9, 2)\", \"label\": \"3\", \"color\": \"blue\", \"from\": 0, \"to\": 1}, {\"title\": \"1: (9, 1)\", \"label\": \"1\", \"color\": \"blue\", \"from\": 0, \"to\": 2}, {\"title\": \"2: (2, 1)\", \"label\": \"\", \"color\": \"orange\", \"from\": 1, \"to\": 2}, {\"title\": \"3: (2, 3)\", \"label\": \"\", \"color\": \"orange\", \"from\": 1, \"to\": 5}, {\"title\": \"4: (1, 8)\", \"label\": \"2\", \"color\": \"blue\", \"from\": 2, \"to\": 3}, {\"title\": \"5: (8, 7)\", \"label\": \"1\", \"color\": \"blue\", \"from\": 3, \"to\": 4}, {\"title\": \"6: (7, 3)\", \"label\": \"5\", \"color\": \"blue\", \"from\": 4, \"to\": 5}, {\"title\": \"7: (7, 6)\", \"label\": \"\", \"color\": \"orange\", \"from\": 4, \"to\": 8}, {\"title\": \"8: (3, 4)\", \"label\": \"1\", \"color\": \"blue\", \"from\": 5, \"to\": 6}, {\"title\": \"9: (4, 5)\", \"label\": \"2\", \"color\": \"blue\", \"from\": 6, \"to\": 7}, {\"title\": \"10: (5, 6)\", \"label\": \"1\", \"color\": \"blue\", \"from\": 7, \"to\": 8}, {\"title\": \"11: (5, 10)\", \"label\": \"1\", \"color\": \"blue\", \"from\": 7, \"to\": 9}, {\"title\": \"12: (6, 10)\", \"label\": \"3\", \"color\": \"blue\", \"from\": 8, \"to\": 9}]);\n",
       "    const data = {\n",
       "            nodes: nodes,\n",
       "            edges: edges,\n",
       "    };\n",
       "    const options = {\"interaction\": {\"navigationButtons\": false}, \"width\": \"100%\", \"height\": \"100%\"};\n",
       "    const container = document.getElementById('69c5f527-40f7-430c-9b00-511c65b684fe');\n",
       "    const network = new Network(container, data, options);\n",
       "    network.fit({maxZoomLevel: 10});\n",
       "    network.redraw();\n",
       "}\n",
       "\n",
       "render();\n",
       "document.getElementById('fit-69c5f527-40f7-430c-9b00-511c65b684fe').addEventListener('click', function(event) {\n",
       "    event.preventDefault();  // Prevent page jump\n",
       "    render(); // Adjust zoom limit as needed\n",
       "});\n",
       "</script>\n"
      ],
      "text/plain": [
       "<IPython.core.display.HTML object>"
      ]
     },
     "metadata": {},
     "output_type": "display_data"
    },
    {
     "name": "stdout",
     "output_type": "stream",
     "text": [
      "Vertex of coordinates [3. 1. 0. 0. 2. 1. 5. 0. 1. 2. 1. 1. 3.] (edge) / [1. 1. 0.] (kernel) is bijective.\n"
     ]
    }
   ],
   "source": [
    "show_vertices(pyramid)"
   ]
  }
 ],
 "metadata": {
  "kernelspec": {
   "display_name": "Python 3 (ipykernel)",
   "language": "python",
   "name": "python3"
  },
  "language_info": {
   "codemirror_mode": {
    "name": "ipython",
    "version": 3
   },
   "file_extension": ".py",
   "mimetype": "text/x-python",
   "name": "python",
   "nbconvert_exporter": "python",
   "pygments_lexer": "ipython3",
   "version": "3.12.8"
  }
 },
 "nbformat": 4,
 "nbformat_minor": 5
}
