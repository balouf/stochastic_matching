{
 "cells": [
  {
   "cell_type": "markdown",
   "metadata": {},
   "source": [
    "# Getting Started"
   ]
  },
  {
   "cell_type": "markdown",
   "metadata": {},
   "source": [
    "The package `stochastic_matching` allows you to:\n",
    "\n",
    "- Build a stochastic model (from scratch, from one of the provided models, or by some combination).\n",
    "- Attach arrival rates on nodes to it.\n",
    "- Study the theoretical stability of the system.\n",
    "- Explore the feasible matching rates.\n",
    "- Use a simulator to study the behavior of the system under pre-defined or custom-made policies."
   ]
  },
  {
   "cell_type": "markdown",
   "metadata": {},
   "source": [
    "## Graph building"
   ]
  },
  {
   "cell_type": "markdown",
   "metadata": {},
   "source": [
    "Two types of graphs can be used:\n",
    "\n",
    "- Simple graphs, where edges are pairs of distinct nodes.\n",
    "- Hypergraphs, where edges are arbitrary non-empty subsets of nodes, possibly with multiplicity."
   ]
  },
  {
   "cell_type": "markdown",
   "metadata": {},
   "source": [
    "Simple graphs can be created from an adjacency matrix."
   ]
  },
  {
   "cell_type": "code",
   "execution_count": 1,
   "metadata": {
    "ExecuteTime": {
     "end_time": "2022-01-27T13:28:52.223990Z",
     "start_time": "2022-01-27T13:28:50.307667Z"
    },
    "execution": {
     "iopub.execute_input": "2025-09-26T18:46:22.262691Z",
     "iopub.status.busy": "2025-09-26T18:46:22.262691Z",
     "iopub.status.idle": "2025-09-26T18:46:23.457475Z",
     "shell.execute_reply": "2025-09-26T18:46:23.457475Z",
     "shell.execute_reply.started": "2025-09-26T18:46:22.262691Z"
    }
   },
   "outputs": [],
   "source": [
    "import numpy as np\n",
    "import stochastic_matching as sm\n",
    "\n",
    "adja = np.array([[0, 1, 1, 0], [1, 0, 1, 1], [1, 1, 0, 1], [0, 1, 1, 0]])\n",
    "\n",
    "diamond = sm.Model(adjacency=adja)"
   ]
  },
  {
   "cell_type": "markdown",
   "metadata": {},
   "source": [
    "The graph can be displayed."
   ]
  },
  {
   "cell_type": "code",
   "execution_count": 2,
   "metadata": {
    "ExecuteTime": {
     "end_time": "2022-01-27T13:28:52.254840Z",
     "start_time": "2022-01-27T13:28:52.229493Z"
    },
    "execution": {
     "iopub.execute_input": "2025-09-26T18:46:23.457475Z",
     "iopub.status.busy": "2025-09-26T18:46:23.457475Z",
     "iopub.status.idle": "2025-09-26T18:46:23.462229Z",
     "shell.execute_reply": "2025-09-26T18:46:23.462229Z",
     "shell.execute_reply.started": "2025-09-26T18:46:23.457475Z"
    }
   },
   "outputs": [
    {
     "data": {
      "text/html": [
       "\n",
       "<div class=\"sm-graph\">\n",
       "<div id=\"2c63c245-ce8a-490e-8c4b-234e6bd2176b\"></div>\n",
       "<a href=\"#\" id=\"fit-2c63c245-ce8a-490e-8c4b-234e6bd2176b\"\n",
       "  style=\"position: absolute; left: 10px; bottom: 10px; text-decoration: none; color: #888; font-size: min(2vw, 10px);\n",
       "  z-index: 10; pointer-events: auto;\"\n",
       "> Refresh\n",
       "</a>\n",
       "<style>\n",
       ".sm-graph {\n",
       "position: relative;\n",
       "width: 100%;\n",
       "height: 50vh !important;\n",
       "max-width: 100vw;\n",
       "max-height: 100vh !important;\n",
       "}\n",
       ".sm-graph > div {\n",
       "  height: 100%;   /* Make the inner div fill the parent */\n",
       "}\n",
       "</style>\n",
       "</div>\n",
       "<script type=\"module\">\n",
       "import { DataSet, Network } from \"https://unpkg.com/vis-network/standalone/esm/vis-network.min.js\";\n",
       "// CSS will be automatically injected into the page.\n",
       "function render () {\n",
       "    const nodes = new DataSet([{\"id\": 0, \"label\": \"0\", \"title\": \"0\"}, {\"id\": 1, \"label\": \"1\", \"title\": \"1\"}, {\"id\": 2, \"label\": \"2\", \"title\": \"2\"}, {\"id\": 3, \"label\": \"3\", \"title\": \"3\"}]);\n",
       "    const edges = new DataSet([{\"title\": \"0: (0, 1)\", \"label\": \"\", \"from\": 0, \"to\": 1}, {\"title\": \"1: (0, 2)\", \"label\": \"\", \"from\": 0, \"to\": 2}, {\"title\": \"2: (1, 2)\", \"label\": \"\", \"from\": 1, \"to\": 2}, {\"title\": \"3: (1, 3)\", \"label\": \"\", \"from\": 1, \"to\": 3}, {\"title\": \"4: (2, 3)\", \"label\": \"\", \"from\": 2, \"to\": 3}]);\n",
       "    const data = {\n",
       "            nodes: nodes,\n",
       "            edges: edges,\n",
       "    };\n",
       "    const options = {\"interaction\": {\"navigationButtons\": false}, \"width\": \"100%\", \"height\": \"100%\"};\n",
       "    const container = document.getElementById('2c63c245-ce8a-490e-8c4b-234e6bd2176b');\n",
       "    const network = new Network(container, data, options);\n",
       "    network.fit({maxZoomLevel: 10});\n",
       "    network.redraw();\n",
       "}\n",
       "\n",
       "render();\n",
       "document.getElementById('fit-2c63c245-ce8a-490e-8c4b-234e6bd2176b').addEventListener('click', function(event) {\n",
       "    event.preventDefault();  // Prevent page jump\n",
       "    render(); // Adjust zoom limit as needed\n",
       "});\n",
       "</script>\n"
      ],
      "text/plain": [
       "<IPython.core.display.HTML object>"
      ]
     },
     "metadata": {},
     "output_type": "display_data"
    }
   ],
   "source": [
    "diamond.show_graph()"
   ]
  },
  {
   "cell_type": "markdown",
   "metadata": {},
   "source": [
    "Hypergraphs can be build from their incidence matrix. For example, the following hypergraph is made of a line of three nodes with mono-edges at both ends. "
   ]
  },
  {
   "cell_type": "code",
   "execution_count": 3,
   "metadata": {
    "ExecuteTime": {
     "end_time": "2022-01-27T13:28:52.270527Z",
     "start_time": "2022-01-27T13:28:52.256803Z"
    },
    "execution": {
     "iopub.execute_input": "2025-09-26T18:46:23.463293Z",
     "iopub.status.busy": "2025-09-26T18:46:23.463293Z",
     "iopub.status.idle": "2025-09-26T18:46:23.470530Z",
     "shell.execute_reply": "2025-09-26T18:46:23.470530Z",
     "shell.execute_reply.started": "2025-09-26T18:46:23.463293Z"
    }
   },
   "outputs": [],
   "source": [
    "incidence = np.array([[1, 1, 0, 0], [0, 1, 1, 0], [0, 0, 1, 1]])\n",
    "graph = sm.Model(incidence=incidence, names=\"alpha\")"
   ]
  },
  {
   "cell_type": "markdown",
   "metadata": {},
   "source": [
    "On display, edges are represented by small black nodes, and the edges displayed alway link one node to one edge."
   ]
  },
  {
   "cell_type": "code",
   "execution_count": 4,
   "metadata": {
    "ExecuteTime": {
     "end_time": "2022-01-27T13:28:52.286469Z",
     "start_time": "2022-01-27T13:28:52.273532Z"
    },
    "execution": {
     "iopub.execute_input": "2025-09-26T18:46:23.472010Z",
     "iopub.status.busy": "2025-09-26T18:46:23.470530Z",
     "iopub.status.idle": "2025-09-26T18:46:23.476795Z",
     "shell.execute_reply": "2025-09-26T18:46:23.476795Z",
     "shell.execute_reply.started": "2025-09-26T18:46:23.472010Z"
    }
   },
   "outputs": [
    {
     "data": {
      "text/html": [
       "\n",
       "<div class=\"sm-graph\">\n",
       "<div id=\"dcdbec81-95fa-45e3-a778-e7e9bd051ee0\"></div>\n",
       "<a href=\"#\" id=\"fit-dcdbec81-95fa-45e3-a778-e7e9bd051ee0\"\n",
       "  style=\"position: absolute; left: 10px; bottom: 10px; text-decoration: none; color: #888; font-size: min(2vw, 10px);\n",
       "  z-index: 10; pointer-events: auto;\"\n",
       "> Refresh\n",
       "</a>\n",
       "<style>\n",
       ".sm-graph {\n",
       "position: relative;\n",
       "width: 100%;\n",
       "height: 50vh !important;\n",
       "max-width: 100vw;\n",
       "max-height: 100vh !important;\n",
       "}\n",
       ".sm-graph > div {\n",
       "  height: 100%;   /* Make the inner div fill the parent */\n",
       "}\n",
       "</style>\n",
       "</div>\n",
       "<script type=\"module\">\n",
       "import { DataSet, Network } from \"https://unpkg.com/vis-network/standalone/esm/vis-network.min.js\";\n",
       "// CSS will be automatically injected into the page.\n",
       "function render () {\n",
       "    const nodes = new DataSet([{\"id\": 0, \"label\": \"A\", \"title\": \"0: A\", \"x\": 0, \"group\": \"Node\"}, {\"id\": 1, \"label\": \"B\", \"title\": \"1: B\", \"x\": 0, \"group\": \"Node\"}, {\"id\": 2, \"label\": \"C\", \"title\": \"2: C\", \"x\": 0, \"group\": \"Node\"}, {\"title\": \"0: (A)\", \"label\": \"\", \"id\": 3, \"group\": \"HyperEdge\", \"x\": 600}, {\"title\": \"1: (A, B)\", \"label\": \"\", \"id\": 4, \"group\": \"HyperEdge\", \"x\": 600}, {\"title\": \"2: (B, C)\", \"label\": \"\", \"id\": 5, \"group\": \"HyperEdge\", \"x\": 600}, {\"title\": \"3: (C)\", \"label\": \"\", \"id\": 6, \"group\": \"HyperEdge\", \"x\": 600}]);\n",
       "    const edges = new DataSet([{\"from\": 0, \"to\": 3, \"title\": \"0: A <-> 0: (A)\"}, {\"from\": 0, \"to\": 4, \"title\": \"0: A <-> 1: (A, B)\"}, {\"from\": 1, \"to\": 4, \"title\": \"1: B <-> 1: (A, B)\"}, {\"from\": 1, \"to\": 5, \"title\": \"1: B <-> 2: (B, C)\"}, {\"from\": 2, \"to\": 5, \"title\": \"2: C <-> 2: (B, C)\"}, {\"from\": 2, \"to\": 6, \"title\": \"2: C <-> 3: (C)\"}]);\n",
       "    const data = {\n",
       "            nodes: nodes,\n",
       "            edges: edges,\n",
       "    };\n",
       "    const options = {\"interaction\": {\"navigationButtons\": false}, \"width\": \"100%\", \"height\": \"100%\", \"groups\": {\"HyperEdge\": {\"fixed\": {\"x\": false}, \"color\": {\"background\": \"black\"}, \"shape\": \"dot\", \"size\": 5}, \"Node\": {\"fixed\": {\"x\": false}}}};\n",
       "    const container = document.getElementById('dcdbec81-95fa-45e3-a778-e7e9bd051ee0');\n",
       "    const network = new Network(container, data, options);\n",
       "    network.fit({maxZoomLevel: 10});\n",
       "    network.redraw();\n",
       "}\n",
       "\n",
       "render();\n",
       "document.getElementById('fit-dcdbec81-95fa-45e3-a778-e7e9bd051ee0').addEventListener('click', function(event) {\n",
       "    event.preventDefault();  // Prevent page jump\n",
       "    render(); // Adjust zoom limit as needed\n",
       "});\n",
       "</script>\n"
      ],
      "text/plain": [
       "<IPython.core.display.HTML object>"
      ]
     },
     "metadata": {},
     "output_type": "display_data"
    }
   ],
   "source": [
    "graph.show_graph()"
   ]
  },
  {
   "cell_type": "markdown",
   "metadata": {},
   "source": [
    "The package provides several graph generators to create graphs without manually describing them."
   ]
  },
  {
   "cell_type": "code",
   "execution_count": 5,
   "metadata": {
    "ExecuteTime": {
     "end_time": "2022-01-27T13:28:52.302359Z",
     "start_time": "2022-01-27T13:28:52.287993Z"
    },
    "execution": {
     "iopub.execute_input": "2025-09-26T18:46:23.478220Z",
     "iopub.status.busy": "2025-09-26T18:46:23.476795Z",
     "iopub.status.idle": "2025-09-26T18:46:23.483066Z",
     "shell.execute_reply": "2025-09-26T18:46:23.483066Z",
     "shell.execute_reply.started": "2025-09-26T18:46:23.478220Z"
    }
   },
   "outputs": [
    {
     "data": {
      "text/html": [
       "\n",
       "<div class=\"sm-graph\">\n",
       "<div id=\"5691ea78-7a2c-4523-9ea7-2ac316629087\"></div>\n",
       "<a href=\"#\" id=\"fit-5691ea78-7a2c-4523-9ea7-2ac316629087\"\n",
       "  style=\"position: absolute; left: 10px; bottom: 10px; text-decoration: none; color: #888; font-size: min(2vw, 10px);\n",
       "  z-index: 10; pointer-events: auto;\"\n",
       "> Refresh\n",
       "</a>\n",
       "<style>\n",
       ".sm-graph {\n",
       "position: relative;\n",
       "width: 100%;\n",
       "height: 50vh !important;\n",
       "max-width: 100vw;\n",
       "max-height: 100vh !important;\n",
       "}\n",
       ".sm-graph > div {\n",
       "  height: 100%;   /* Make the inner div fill the parent */\n",
       "}\n",
       "</style>\n",
       "</div>\n",
       "<script type=\"module\">\n",
       "import { DataSet, Network } from \"https://unpkg.com/vis-network/standalone/esm/vis-network.min.js\";\n",
       "// CSS will be automatically injected into the page.\n",
       "function render () {\n",
       "    const nodes = new DataSet([{\"id\": 0, \"label\": \"0\", \"title\": \"0\"}, {\"id\": 1, \"label\": \"1\", \"title\": \"1\"}, {\"id\": 2, \"label\": \"2\", \"title\": \"2\"}, {\"id\": 3, \"label\": \"3\", \"title\": \"3\"}]);\n",
       "    const edges = new DataSet([{\"title\": \"0: (0, 1)\", \"label\": \"\", \"from\": 0, \"to\": 1}, {\"title\": \"1: (0, 2)\", \"label\": \"\", \"from\": 0, \"to\": 2}, {\"title\": \"2: (1, 2)\", \"label\": \"\", \"from\": 1, \"to\": 2}, {\"title\": \"3: (2, 3)\", \"label\": \"\", \"from\": 2, \"to\": 3}]);\n",
       "    const data = {\n",
       "            nodes: nodes,\n",
       "            edges: edges,\n",
       "    };\n",
       "    const options = {\"interaction\": {\"navigationButtons\": false}, \"width\": \"100%\", \"height\": \"100%\"};\n",
       "    const container = document.getElementById('5691ea78-7a2c-4523-9ea7-2ac316629087');\n",
       "    const network = new Network(container, data, options);\n",
       "    network.fit({maxZoomLevel: 10});\n",
       "    network.redraw();\n",
       "}\n",
       "\n",
       "render();\n",
       "document.getElementById('fit-5691ea78-7a2c-4523-9ea7-2ac316629087').addEventListener('click', function(event) {\n",
       "    event.preventDefault();  // Prevent page jump\n",
       "    render(); // Adjust zoom limit as needed\n",
       "});\n",
       "</script>\n"
      ],
      "text/plain": [
       "<IPython.core.display.HTML object>"
      ]
     },
     "metadata": {},
     "output_type": "display_data"
    }
   ],
   "source": [
    "paw = sm.Tadpole()\n",
    "paw.show_graph()"
   ]
  },
  {
   "cell_type": "code",
   "execution_count": 6,
   "metadata": {
    "ExecuteTime": {
     "end_time": "2022-01-27T13:28:52.317355Z",
     "start_time": "2022-01-27T13:28:52.303469Z"
    },
    "execution": {
     "iopub.execute_input": "2025-09-26T18:46:23.484084Z",
     "iopub.status.busy": "2025-09-26T18:46:23.484084Z",
     "iopub.status.idle": "2025-09-26T18:46:23.490076Z",
     "shell.execute_reply": "2025-09-26T18:46:23.490076Z",
     "shell.execute_reply.started": "2025-09-26T18:46:23.484084Z"
    }
   },
   "outputs": [
    {
     "data": {
      "text/html": [
       "\n",
       "<div class=\"sm-graph\">\n",
       "<div id=\"6be53d7f-e560-4bd2-87b0-7b7db3751424\"></div>\n",
       "<a href=\"#\" id=\"fit-6be53d7f-e560-4bd2-87b0-7b7db3751424\"\n",
       "  style=\"position: absolute; left: 10px; bottom: 10px; text-decoration: none; color: #888; font-size: min(2vw, 10px);\n",
       "  z-index: 10; pointer-events: auto;\"\n",
       "> Refresh\n",
       "</a>\n",
       "<style>\n",
       ".sm-graph {\n",
       "position: relative;\n",
       "width: 100%;\n",
       "height: 50vh !important;\n",
       "max-width: 100vw;\n",
       "max-height: 100vh !important;\n",
       "}\n",
       ".sm-graph > div {\n",
       "  height: 100%;   /* Make the inner div fill the parent */\n",
       "}\n",
       "</style>\n",
       "</div>\n",
       "<script type=\"module\">\n",
       "import { DataSet, Network } from \"https://unpkg.com/vis-network/standalone/esm/vis-network.min.js\";\n",
       "// CSS will be automatically injected into the page.\n",
       "function render () {\n",
       "    const nodes = new DataSet([{\"id\": 0, \"label\": \"A\", \"title\": \"0: A\", \"x\": 0, \"group\": \"Node\"}, {\"id\": 1, \"label\": \"B\", \"title\": \"1: B\", \"x\": 0, \"group\": \"Node\"}, {\"id\": 2, \"label\": \"C\", \"title\": \"2: C\", \"x\": 0, \"group\": \"Node\"}, {\"id\": 3, \"label\": \"D\", \"title\": \"3: D\", \"x\": 0, \"group\": \"Node\"}, {\"id\": 4, \"label\": \"E\", \"title\": \"4: E\", \"x\": 0, \"group\": \"Node\"}, {\"id\": 5, \"label\": \"F\", \"title\": \"5: F\", \"x\": 0, \"group\": \"Node\"}, {\"id\": 6, \"label\": \"G\", \"title\": \"6: G\", \"x\": 0, \"group\": \"Node\"}, {\"title\": \"0: (A, B)\", \"label\": \"\", \"id\": 7, \"group\": \"HyperEdge\", \"x\": 600}, {\"title\": \"1: (A, C)\", \"label\": \"\", \"id\": 8, \"group\": \"HyperEdge\", \"x\": 600}, {\"title\": \"2: (B, C)\", \"label\": \"\", \"id\": 9, \"group\": \"HyperEdge\", \"x\": 600}, {\"title\": \"3: (E, F)\", \"label\": \"\", \"id\": 10, \"group\": \"HyperEdge\", \"x\": 600}, {\"title\": \"4: (E, G)\", \"label\": \"\", \"id\": 11, \"group\": \"HyperEdge\", \"x\": 600}, {\"title\": \"5: (F, G)\", \"label\": \"\", \"id\": 12, \"group\": \"HyperEdge\", \"x\": 600}, {\"title\": \"6: (C, D, E)\", \"label\": \"\", \"id\": 13, \"group\": \"HyperEdge\", \"x\": 600}]);\n",
       "    const edges = new DataSet([{\"from\": 0, \"to\": 7, \"title\": \"0: A <-> 0: (A, B)\"}, {\"from\": 0, \"to\": 8, \"title\": \"0: A <-> 1: (A, C)\"}, {\"from\": 1, \"to\": 7, \"title\": \"1: B <-> 0: (A, B)\"}, {\"from\": 1, \"to\": 9, \"title\": \"1: B <-> 2: (B, C)\"}, {\"from\": 2, \"to\": 8, \"title\": \"2: C <-> 1: (A, C)\"}, {\"from\": 2, \"to\": 9, \"title\": \"2: C <-> 2: (B, C)\"}, {\"from\": 2, \"to\": 13, \"title\": \"2: C <-> 6: (C, D, E)\"}, {\"from\": 3, \"to\": 13, \"title\": \"3: D <-> 6: (C, D, E)\"}, {\"from\": 4, \"to\": 10, \"title\": \"4: E <-> 3: (E, F)\"}, {\"from\": 4, \"to\": 11, \"title\": \"4: E <-> 4: (E, G)\"}, {\"from\": 4, \"to\": 13, \"title\": \"4: E <-> 6: (C, D, E)\"}, {\"from\": 5, \"to\": 10, \"title\": \"5: F <-> 3: (E, F)\"}, {\"from\": 5, \"to\": 12, \"title\": \"5: F <-> 5: (F, G)\"}, {\"from\": 6, \"to\": 11, \"title\": \"6: G <-> 4: (E, G)\"}, {\"from\": 6, \"to\": 12, \"title\": \"6: G <-> 5: (F, G)\"}]);\n",
       "    const data = {\n",
       "            nodes: nodes,\n",
       "            edges: edges,\n",
       "    };\n",
       "    const options = {\"interaction\": {\"navigationButtons\": false}, \"width\": \"100%\", \"height\": \"100%\", \"groups\": {\"HyperEdge\": {\"fixed\": {\"x\": false}, \"color\": {\"background\": \"black\"}, \"shape\": \"dot\", \"size\": 5}, \"Node\": {\"fixed\": {\"x\": false}}}};\n",
       "    const container = document.getElementById('6be53d7f-e560-4bd2-87b0-7b7db3751424');\n",
       "    const network = new Network(container, data, options);\n",
       "    network.fit({maxZoomLevel: 10});\n",
       "    network.redraw();\n",
       "}\n",
       "\n",
       "render();\n",
       "document.getElementById('fit-6be53d7f-e560-4bd2-87b0-7b7db3751424').addEventListener('click', function(event) {\n",
       "    event.preventDefault();  // Prevent page jump\n",
       "    render(); // Adjust zoom limit as needed\n",
       "});\n",
       "</script>\n"
      ],
      "text/plain": [
       "<IPython.core.display.HTML object>"
      ]
     },
     "metadata": {},
     "output_type": "display_data"
    }
   ],
   "source": [
    "candy = sm.HyperPaddle(names=\"alpha\")\n",
    "candy.show_graph()"
   ]
  },
  {
   "cell_type": "markdown",
   "metadata": {},
   "source": [
    "See the [Graphs notebook](graphs.ipynb) for details."
   ]
  },
  {
   "cell_type": "markdown",
   "metadata": {},
   "source": [
    "## Stability and achievable matching rates"
   ]
  },
  {
   "cell_type": "markdown",
   "metadata": {},
   "source": [
    "To study a matching queues system, you need to associate a graph to arrival rates on nodes."
   ]
  },
  {
   "cell_type": "code",
   "execution_count": 7,
   "metadata": {
    "ExecuteTime": {
     "end_time": "2022-01-27T13:28:52.332510Z",
     "start_time": "2022-01-27T13:28:52.318356Z"
    },
    "execution": {
     "iopub.execute_input": "2025-09-26T18:46:23.490076Z",
     "iopub.status.busy": "2025-09-26T18:46:23.490076Z",
     "iopub.status.idle": "2025-09-26T18:46:23.494646Z",
     "shell.execute_reply": "2025-09-26T18:46:23.494646Z",
     "shell.execute_reply.started": "2025-09-26T18:46:23.490076Z"
    }
   },
   "outputs": [],
   "source": [
    "diamond = sm.CycleChain(names=\"alpha\", rates=[2, 3, 2, 1])"
   ]
  },
  {
   "cell_type": "markdown",
   "metadata": {},
   "source": [
    "From then you can see if a stable solution exists."
   ]
  },
  {
   "cell_type": "code",
   "execution_count": 8,
   "metadata": {
    "ExecuteTime": {
     "end_time": "2022-01-27T13:28:52.347610Z",
     "start_time": "2022-01-27T13:28:52.334020Z"
    },
    "execution": {
     "iopub.execute_input": "2025-09-26T18:46:23.495652Z",
     "iopub.status.busy": "2025-09-26T18:46:23.495652Z",
     "iopub.status.idle": "2025-09-26T18:46:23.503377Z",
     "shell.execute_reply": "2025-09-26T18:46:23.503377Z",
     "shell.execute_reply.started": "2025-09-26T18:46:23.495652Z"
    }
   },
   "outputs": [
    {
     "data": {
      "text/plain": [
       "True"
      ]
     },
     "execution_count": 8,
     "metadata": {},
     "output_type": "execute_result"
    }
   ],
   "source": [
    "diamond.stabilizable"
   ]
  },
  {
   "cell_type": "markdown",
   "metadata": {},
   "source": [
    "You can access the kernel space of solutions."
   ]
  },
  {
   "cell_type": "code",
   "execution_count": 9,
   "metadata": {
    "ExecuteTime": {
     "end_time": "2022-01-27T13:28:52.377070Z",
     "start_time": "2022-01-27T13:28:52.348790Z"
    },
    "execution": {
     "iopub.execute_input": "2025-09-26T18:46:23.503377Z",
     "iopub.status.busy": "2025-09-26T18:46:23.503377Z",
     "iopub.status.idle": "2025-09-26T18:46:23.507780Z",
     "shell.execute_reply": "2025-09-26T18:46:23.507780Z",
     "shell.execute_reply.started": "2025-09-26T18:46:23.503377Z"
    }
   },
   "outputs": [
    {
     "data": {
      "text/plain": [
       "Kernels of a graph with 4 nodes and 5 edges.\n",
       "Node dimension is 0.\n",
       "Edge dimension is 1\n",
       "Type: Surjective-only\n",
       "Node kernel:\n",
       "[]\n",
       "Edge kernel:\n",
       "[[ 1 -1  0 -1  1]]"
      ]
     },
     "execution_count": 9,
     "metadata": {},
     "output_type": "execute_result"
    }
   ],
   "source": [
    "diamond.kernel"
   ]
  },
  {
   "cell_type": "markdown",
   "metadata": {},
   "source": [
    "You can have the *default* solution, which is the product of the arrival rates by the pseudo-inverse of the incidence matrix. Note that the default solution may not be positive even if a positive solution exists."
   ]
  },
  {
   "cell_type": "code",
   "execution_count": 10,
   "metadata": {
    "ExecuteTime": {
     "end_time": "2022-01-27T13:28:52.409570Z",
     "start_time": "2022-01-27T13:28:52.381693Z"
    },
    "execution": {
     "iopub.execute_input": "2025-09-26T18:46:23.508785Z",
     "iopub.status.busy": "2025-09-26T18:46:23.508785Z",
     "iopub.status.idle": "2025-09-26T18:46:23.513283Z",
     "shell.execute_reply": "2025-09-26T18:46:23.513283Z",
     "shell.execute_reply.started": "2025-09-26T18:46:23.508785Z"
    }
   },
   "outputs": [
    {
     "data": {
      "text/plain": [
       "array([1.25, 0.75, 1.  , 0.75, 0.25])"
      ]
     },
     "execution_count": 10,
     "metadata": {},
     "output_type": "execute_result"
    }
   ],
   "source": [
    "diamond.base_flow"
   ]
  },
  {
   "cell_type": "markdown",
   "metadata": {},
   "source": [
    "You can compute the maximin solution, which maximizes the minimum of the rates over all edges."
   ]
  },
  {
   "cell_type": "code",
   "execution_count": 11,
   "metadata": {
    "ExecuteTime": {
     "end_time": "2022-01-27T13:28:52.424591Z",
     "start_time": "2022-01-27T13:28:52.410576Z"
    },
    "execution": {
     "iopub.execute_input": "2025-09-26T18:46:23.513283Z",
     "iopub.status.busy": "2025-09-26T18:46:23.513283Z",
     "iopub.status.idle": "2025-09-26T18:46:23.518895Z",
     "shell.execute_reply": "2025-09-26T18:46:23.518895Z",
     "shell.execute_reply.started": "2025-09-26T18:46:23.513283Z"
    }
   },
   "outputs": [
    {
     "data": {
      "text/plain": [
       "array([1.5, 0.5, 1. , 0.5, 0.5])"
      ]
     },
     "execution_count": 11,
     "metadata": {},
     "output_type": "execute_result"
    }
   ],
   "source": [
    "diamond.maximin"
   ]
  },
  {
   "cell_type": "markdown",
   "metadata": {},
   "source": [
    "You can find a flow that maximizes a given edge. The following maximizes the last edge."
   ]
  },
  {
   "cell_type": "code",
   "execution_count": 12,
   "metadata": {
    "ExecuteTime": {
     "end_time": "2022-01-27T13:28:52.439920Z",
     "start_time": "2022-01-27T13:28:52.426933Z"
    },
    "execution": {
     "iopub.execute_input": "2025-09-26T18:46:23.518895Z",
     "iopub.status.busy": "2025-09-26T18:46:23.518895Z",
     "iopub.status.idle": "2025-09-26T18:46:23.527668Z",
     "shell.execute_reply": "2025-09-26T18:46:23.527668Z",
     "shell.execute_reply.started": "2025-09-26T18:46:23.518895Z"
    }
   },
   "outputs": [
    {
     "data": {
      "text/plain": [
       "array([2., 0., 1., 0., 1.])"
      ]
     },
     "execution_count": 12,
     "metadata": {},
     "output_type": "execute_result"
    }
   ],
   "source": [
    "diamond.optimize_edge(4, 1)"
   ]
  },
  {
   "cell_type": "markdown",
   "metadata": {},
   "source": [
    "We can also minimize it."
   ]
  },
  {
   "cell_type": "code",
   "execution_count": 13,
   "metadata": {
    "ExecuteTime": {
     "end_time": "2022-01-27T13:28:52.455588Z",
     "start_time": "2022-01-27T13:28:52.440922Z"
    },
    "execution": {
     "iopub.execute_input": "2025-09-26T18:46:23.528987Z",
     "iopub.status.busy": "2025-09-26T18:46:23.527668Z",
     "iopub.status.idle": "2025-09-26T18:46:23.533420Z",
     "shell.execute_reply": "2025-09-26T18:46:23.533420Z",
     "shell.execute_reply.started": "2025-09-26T18:46:23.528987Z"
    }
   },
   "outputs": [
    {
     "data": {
      "text/plain": [
       "array([1., 1., 1., 1., 0.])"
      ]
     },
     "execution_count": 13,
     "metadata": {},
     "output_type": "execute_result"
    }
   ],
   "source": [
    "diamond.optimize_edge(4, -1)"
   ]
  },
  {
   "cell_type": "markdown",
   "metadata": {},
   "source": [
    "Another possibility is to ask to maximize some reward based on weights on the edges."
   ]
  },
  {
   "cell_type": "code",
   "execution_count": 14,
   "metadata": {
    "ExecuteTime": {
     "end_time": "2022-01-27T13:28:52.470720Z",
     "start_time": "2022-01-27T13:28:52.456806Z"
    },
    "execution": {
     "iopub.execute_input": "2025-09-26T18:46:23.534817Z",
     "iopub.status.busy": "2025-09-26T18:46:23.533420Z",
     "iopub.status.idle": "2025-09-26T18:46:23.540505Z",
     "shell.execute_reply": "2025-09-26T18:46:23.540505Z",
     "shell.execute_reply.started": "2025-09-26T18:46:23.534817Z"
    }
   },
   "outputs": [
    {
     "data": {
      "text/plain": [
       "array([1., 1., 1., 1., 0.])"
      ]
     },
     "execution_count": 14,
     "metadata": {},
     "output_type": "execute_result"
    }
   ],
   "source": [
    "diamond.optimize_rates([1, 2, 2, 2, 1])"
   ]
  },
  {
   "cell_type": "code",
   "execution_count": 15,
   "metadata": {
    "ExecuteTime": {
     "end_time": "2022-01-27T13:28:52.486586Z",
     "start_time": "2022-01-27T13:28:52.472090Z"
    },
    "execution": {
     "iopub.execute_input": "2025-09-26T18:46:23.541520Z",
     "iopub.status.busy": "2025-09-26T18:46:23.541520Z",
     "iopub.status.idle": "2025-09-26T18:46:23.547925Z",
     "shell.execute_reply": "2025-09-26T18:46:23.547925Z",
     "shell.execute_reply.started": "2025-09-26T18:46:23.541520Z"
    }
   },
   "outputs": [
    {
     "data": {
      "text/plain": [
       "array([2., 0., 1., 0., 1.])"
      ]
     },
     "execution_count": 15,
     "metadata": {},
     "output_type": "execute_result"
    }
   ],
   "source": [
    "diamond.optimize_rates([1, 2, 2, 2, 4])"
   ]
  },
  {
   "cell_type": "markdown",
   "metadata": {},
   "source": [
    "We can also provide the incompressible flow, i.e. for each edge the minimal rate that goes through in any solution."
   ]
  },
  {
   "cell_type": "code",
   "execution_count": 16,
   "metadata": {
    "ExecuteTime": {
     "end_time": "2022-01-27T13:28:52.502374Z",
     "start_time": "2022-01-27T13:28:52.487584Z"
    },
    "execution": {
     "iopub.execute_input": "2025-09-26T18:46:23.548933Z",
     "iopub.status.busy": "2025-09-26T18:46:23.548933Z",
     "iopub.status.idle": "2025-09-26T18:46:23.569743Z",
     "shell.execute_reply": "2025-09-26T18:46:23.569236Z",
     "shell.execute_reply.started": "2025-09-26T18:46:23.548933Z"
    }
   },
   "outputs": [
    {
     "data": {
      "text/plain": [
       "array([1., 0., 1., 0., 0.])"
      ]
     },
     "execution_count": 16,
     "metadata": {},
     "output_type": "execute_result"
    }
   ],
   "source": [
    "diamond.incompressible_flow()"
   ]
  },
  {
   "cell_type": "markdown",
   "metadata": {},
   "source": [
    "Flows can be displayed using the `show_flow` method. If no flow is provided, the base flow is displayed."
   ]
  },
  {
   "cell_type": "code",
   "execution_count": 17,
   "metadata": {
    "ExecuteTime": {
     "end_time": "2022-01-27T13:28:52.517461Z",
     "start_time": "2022-01-27T13:28:52.503884Z"
    },
    "execution": {
     "iopub.execute_input": "2025-09-26T18:46:23.570752Z",
     "iopub.status.busy": "2025-09-26T18:46:23.569743Z",
     "iopub.status.idle": "2025-09-26T18:46:23.579685Z",
     "shell.execute_reply": "2025-09-26T18:46:23.578676Z",
     "shell.execute_reply.started": "2025-09-26T18:46:23.570752Z"
    }
   },
   "outputs": [
    {
     "data": {
      "text/html": [
       "\n",
       "<div class=\"sm-graph\">\n",
       "<div id=\"0f3a32ff-eec1-4ca4-86a0-085d141f2626\"></div>\n",
       "<a href=\"#\" id=\"fit-0f3a32ff-eec1-4ca4-86a0-085d141f2626\"\n",
       "  style=\"position: absolute; left: 10px; bottom: 10px; text-decoration: none; color: #888; font-size: min(2vw, 10px);\n",
       "  z-index: 10; pointer-events: auto;\"\n",
       "> Refresh\n",
       "</a>\n",
       "<style>\n",
       ".sm-graph {\n",
       "position: relative;\n",
       "width: 100%;\n",
       "height: 50vh !important;\n",
       "max-width: 100vw;\n",
       "max-height: 100vh !important;\n",
       "}\n",
       ".sm-graph > div {\n",
       "  height: 100%;   /* Make the inner div fill the parent */\n",
       "}\n",
       "</style>\n",
       "</div>\n",
       "<script type=\"module\">\n",
       "import { DataSet, Network } from \"https://unpkg.com/vis-network/standalone/esm/vis-network.min.js\";\n",
       "// CSS will be automatically injected into the page.\n",
       "function render () {\n",
       "    const nodes = new DataSet([{\"id\": 0, \"label\": \"2\", \"title\": \"0: A\"}, {\"id\": 1, \"label\": \"3\", \"title\": \"1: B\"}, {\"id\": 2, \"label\": \"2\", \"title\": \"2: C\"}, {\"id\": 3, \"label\": \"1\", \"title\": \"3: D\"}]);\n",
       "    const edges = new DataSet([{\"title\": \"0: (A, B)\", \"label\": \"1.25\", \"color\": \"blue\", \"from\": 0, \"to\": 1}, {\"title\": \"1: (A, C)\", \"label\": \"0.75\", \"color\": \"blue\", \"from\": 0, \"to\": 2}, {\"title\": \"2: (B, C)\", \"label\": \"1\", \"color\": \"blue\", \"from\": 1, \"to\": 2}, {\"title\": \"3: (B, D)\", \"label\": \"0.75\", \"color\": \"blue\", \"from\": 1, \"to\": 3}, {\"title\": \"4: (C, D)\", \"label\": \"0.25\", \"color\": \"blue\", \"from\": 2, \"to\": 3}]);\n",
       "    const data = {\n",
       "            nodes: nodes,\n",
       "            edges: edges,\n",
       "    };\n",
       "    const options = {\"interaction\": {\"navigationButtons\": false}, \"width\": \"100%\", \"height\": \"100%\"};\n",
       "    const container = document.getElementById('0f3a32ff-eec1-4ca4-86a0-085d141f2626');\n",
       "    const network = new Network(container, data, options);\n",
       "    network.fit({maxZoomLevel: 10});\n",
       "    network.redraw();\n",
       "}\n",
       "\n",
       "render();\n",
       "document.getElementById('fit-0f3a32ff-eec1-4ca4-86a0-085d141f2626').addEventListener('click', function(event) {\n",
       "    event.preventDefault();  // Prevent page jump\n",
       "    render(); // Adjust zoom limit as needed\n",
       "});\n",
       "</script>\n"
      ],
      "text/plain": [
       "<IPython.core.display.HTML object>"
      ]
     },
     "metadata": {},
     "output_type": "display_data"
    }
   ],
   "source": [
    "diamond.show_flow()"
   ]
  },
  {
   "cell_type": "code",
   "execution_count": 18,
   "metadata": {
    "ExecuteTime": {
     "end_time": "2022-01-27T13:28:52.533530Z",
     "start_time": "2022-01-27T13:28:52.518462Z"
    },
    "execution": {
     "iopub.execute_input": "2025-09-26T18:46:23.580683Z",
     "iopub.status.busy": "2025-09-26T18:46:23.579685Z",
     "iopub.status.idle": "2025-09-26T18:46:23.586942Z",
     "shell.execute_reply": "2025-09-26T18:46:23.586942Z",
     "shell.execute_reply.started": "2025-09-26T18:46:23.580683Z"
    }
   },
   "outputs": [
    {
     "data": {
      "text/html": [
       "\n",
       "<div class=\"sm-graph\">\n",
       "<div id=\"cb3886e8-0ed7-419f-ad56-e8c8154f6595\"></div>\n",
       "<a href=\"#\" id=\"fit-cb3886e8-0ed7-419f-ad56-e8c8154f6595\"\n",
       "  style=\"position: absolute; left: 10px; bottom: 10px; text-decoration: none; color: #888; font-size: min(2vw, 10px);\n",
       "  z-index: 10; pointer-events: auto;\"\n",
       "> Refresh\n",
       "</a>\n",
       "<style>\n",
       ".sm-graph {\n",
       "position: relative;\n",
       "width: 100%;\n",
       "height: 50vh !important;\n",
       "max-width: 100vw;\n",
       "max-height: 100vh !important;\n",
       "}\n",
       ".sm-graph > div {\n",
       "  height: 100%;   /* Make the inner div fill the parent */\n",
       "}\n",
       "</style>\n",
       "</div>\n",
       "<script type=\"module\">\n",
       "import { DataSet, Network } from \"https://unpkg.com/vis-network/standalone/esm/vis-network.min.js\";\n",
       "// CSS will be automatically injected into the page.\n",
       "function render () {\n",
       "    const nodes = new DataSet([{\"id\": 0, \"label\": \"2\", \"title\": \"0: A\"}, {\"id\": 1, \"label\": \"3\", \"title\": \"1: B\"}, {\"id\": 2, \"label\": \"2\", \"title\": \"2: C\"}, {\"id\": 3, \"label\": \"1\", \"title\": \"3: D\"}]);\n",
       "    const edges = new DataSet([{\"title\": \"0: (A, B)\", \"label\": \"1.5\", \"color\": \"blue\", \"from\": 0, \"to\": 1}, {\"title\": \"1: (A, C)\", \"label\": \"0.5\", \"color\": \"blue\", \"from\": 0, \"to\": 2}, {\"title\": \"2: (B, C)\", \"label\": \"1\", \"color\": \"blue\", \"from\": 1, \"to\": 2}, {\"title\": \"3: (B, D)\", \"label\": \"0.5\", \"color\": \"blue\", \"from\": 1, \"to\": 3}, {\"title\": \"4: (C, D)\", \"label\": \"0.5\", \"color\": \"blue\", \"from\": 2, \"to\": 3}]);\n",
       "    const data = {\n",
       "            nodes: nodes,\n",
       "            edges: edges,\n",
       "    };\n",
       "    const options = {\"interaction\": {\"navigationButtons\": false}, \"width\": \"100%\", \"height\": \"100%\"};\n",
       "    const container = document.getElementById('cb3886e8-0ed7-419f-ad56-e8c8154f6595');\n",
       "    const network = new Network(container, data, options);\n",
       "    network.fit({maxZoomLevel: 10});\n",
       "    network.redraw();\n",
       "}\n",
       "\n",
       "render();\n",
       "document.getElementById('fit-cb3886e8-0ed7-419f-ad56-e8c8154f6595').addEventListener('click', function(event) {\n",
       "    event.preventDefault();  // Prevent page jump\n",
       "    render(); // Adjust zoom limit as needed\n",
       "});\n",
       "</script>\n"
      ],
      "text/plain": [
       "<IPython.core.display.HTML object>"
      ]
     },
     "metadata": {},
     "output_type": "display_data"
    }
   ],
   "source": [
    "diamond.show_flow(flow=diamond.maximin)"
   ]
  },
  {
   "cell_type": "markdown",
   "metadata": {},
   "source": [
    "A color code shows the problematic nodes with flow conservation issues and non-positive edges."
   ]
  },
  {
   "cell_type": "code",
   "execution_count": 19,
   "metadata": {
    "ExecuteTime": {
     "end_time": "2022-01-27T13:28:52.549246Z",
     "start_time": "2022-01-27T13:28:52.535267Z"
    },
    "execution": {
     "iopub.execute_input": "2025-09-26T18:46:23.587948Z",
     "iopub.status.busy": "2025-09-26T18:46:23.587948Z",
     "iopub.status.idle": "2025-09-26T18:46:23.595310Z",
     "shell.execute_reply": "2025-09-26T18:46:23.595310Z",
     "shell.execute_reply.started": "2025-09-26T18:46:23.587948Z"
    }
   },
   "outputs": [
    {
     "data": {
      "text/html": [
       "\n",
       "<div class=\"sm-graph\">\n",
       "<div id=\"ac47b4cd-1587-4d5b-b374-69e0b48fa3db\"></div>\n",
       "<a href=\"#\" id=\"fit-ac47b4cd-1587-4d5b-b374-69e0b48fa3db\"\n",
       "  style=\"position: absolute; left: 10px; bottom: 10px; text-decoration: none; color: #888; font-size: min(2vw, 10px);\n",
       "  z-index: 10; pointer-events: auto;\"\n",
       "> Refresh\n",
       "</a>\n",
       "<style>\n",
       ".sm-graph {\n",
       "position: relative;\n",
       "width: 100%;\n",
       "height: 50vh !important;\n",
       "max-width: 100vw;\n",
       "max-height: 100vh !important;\n",
       "}\n",
       ".sm-graph > div {\n",
       "  height: 100%;   /* Make the inner div fill the parent */\n",
       "}\n",
       "</style>\n",
       "</div>\n",
       "<script type=\"module\">\n",
       "import { DataSet, Network } from \"https://unpkg.com/vis-network/standalone/esm/vis-network.min.js\";\n",
       "// CSS will be automatically injected into the page.\n",
       "function render () {\n",
       "    const nodes = new DataSet([{\"id\": 0, \"label\": \"2\", \"title\": \"0: A\"}, {\"id\": 1, \"label\": \"3\", \"title\": \"1: B\"}, {\"id\": 2, \"label\": \"2\", \"title\": \"2: C\"}, {\"id\": 3, \"label\": \"1\", \"title\": \"3: D\"}]);\n",
       "    const edges = new DataSet([{\"title\": \"0: (A, B)\", \"label\": \"2\", \"color\": \"blue\", \"from\": 0, \"to\": 1}, {\"title\": \"1: (A, C)\", \"label\": \"0\", \"color\": \"orange\", \"from\": 0, \"to\": 2}, {\"title\": \"2: (B, C)\", \"label\": \"1\", \"color\": \"blue\", \"from\": 1, \"to\": 2}, {\"title\": \"3: (B, D)\", \"label\": \"0\", \"color\": \"orange\", \"from\": 1, \"to\": 3}, {\"title\": \"4: (C, D)\", \"label\": \"1\", \"color\": \"blue\", \"from\": 2, \"to\": 3}]);\n",
       "    const data = {\n",
       "            nodes: nodes,\n",
       "            edges: edges,\n",
       "    };\n",
       "    const options = {\"interaction\": {\"navigationButtons\": false}, \"width\": \"100%\", \"height\": \"100%\"};\n",
       "    const container = document.getElementById('ac47b4cd-1587-4d5b-b374-69e0b48fa3db');\n",
       "    const network = new Network(container, data, options);\n",
       "    network.fit({maxZoomLevel: 10});\n",
       "    network.redraw();\n",
       "}\n",
       "\n",
       "render();\n",
       "document.getElementById('fit-ac47b4cd-1587-4d5b-b374-69e0b48fa3db').addEventListener('click', function(event) {\n",
       "    event.preventDefault();  // Prevent page jump\n",
       "    render(); // Adjust zoom limit as needed\n",
       "});\n",
       "</script>\n"
      ],
      "text/plain": [
       "<IPython.core.display.HTML object>"
      ]
     },
     "metadata": {},
     "output_type": "display_data"
    }
   ],
   "source": [
    "diamond.show_flow(flow=diamond.optimize_edge(4, 1))"
   ]
  },
  {
   "cell_type": "markdown",
   "metadata": {},
   "source": [
    "If you want to have a closer look to the polytope of solutions, you can display the kernel:"
   ]
  },
  {
   "cell_type": "code",
   "execution_count": 20,
   "metadata": {
    "ExecuteTime": {
     "end_time": "2022-01-27T13:28:52.565369Z",
     "start_time": "2022-01-27T13:28:52.551220Z"
    },
    "execution": {
     "iopub.execute_input": "2025-09-26T18:46:23.596318Z",
     "iopub.status.busy": "2025-09-26T18:46:23.596318Z",
     "iopub.status.idle": "2025-09-26T18:46:23.601572Z",
     "shell.execute_reply": "2025-09-26T18:46:23.601572Z",
     "shell.execute_reply.started": "2025-09-26T18:46:23.596318Z"
    }
   },
   "outputs": [
    {
     "data": {
      "text/html": [
       "\n",
       "<div class=\"sm-graph\">\n",
       "<div id=\"0411bd3d-f9ed-43e6-9ef1-9db575dc15ff\"></div>\n",
       "<a href=\"#\" id=\"fit-0411bd3d-f9ed-43e6-9ef1-9db575dc15ff\"\n",
       "  style=\"position: absolute; left: 10px; bottom: 10px; text-decoration: none; color: #888; font-size: min(2vw, 10px);\n",
       "  z-index: 10; pointer-events: auto;\"\n",
       "> Refresh\n",
       "</a>\n",
       "<style>\n",
       ".sm-graph {\n",
       "position: relative;\n",
       "width: 100%;\n",
       "height: 50vh !important;\n",
       "max-width: 100vw;\n",
       "max-height: 100vh !important;\n",
       "}\n",
       ".sm-graph > div {\n",
       "  height: 100%;   /* Make the inner div fill the parent */\n",
       "}\n",
       "</style>\n",
       "</div>\n",
       "<script type=\"module\">\n",
       "import { DataSet, Network } from \"https://unpkg.com/vis-network/standalone/esm/vis-network.min.js\";\n",
       "// CSS will be automatically injected into the page.\n",
       "function render () {\n",
       "    const nodes = new DataSet([{\"id\": 0, \"label\": \"2\", \"title\": \"0: A\"}, {\"id\": 1, \"label\": \"3\", \"title\": \"1: B\"}, {\"id\": 2, \"label\": \"2\", \"title\": \"2: C\"}, {\"id\": 3, \"label\": \"1\", \"title\": \"3: D\"}]);\n",
       "    const edges = new DataSet([{\"title\": \"0: (A, B)\", \"label\": \"1.5+\\u03b11\", \"from\": 0, \"to\": 1}, {\"title\": \"1: (A, C)\", \"label\": \"0.5-\\u03b11\", \"from\": 0, \"to\": 2}, {\"title\": \"2: (B, C)\", \"label\": \"1\", \"color\": \"black\", \"from\": 1, \"to\": 2}, {\"title\": \"3: (B, D)\", \"label\": \"0.5-\\u03b11\", \"from\": 1, \"to\": 3}, {\"title\": \"4: (C, D)\", \"label\": \"0.5+\\u03b11\", \"from\": 2, \"to\": 3}]);\n",
       "    const data = {\n",
       "            nodes: nodes,\n",
       "            edges: edges,\n",
       "    };\n",
       "    const options = {\"interaction\": {\"navigationButtons\": false}, \"width\": \"100%\", \"height\": \"100%\"};\n",
       "    const container = document.getElementById('0411bd3d-f9ed-43e6-9ef1-9db575dc15ff');\n",
       "    const network = new Network(container, data, options);\n",
       "    network.fit({maxZoomLevel: 10});\n",
       "    network.redraw();\n",
       "}\n",
       "\n",
       "render();\n",
       "document.getElementById('fit-0411bd3d-f9ed-43e6-9ef1-9db575dc15ff').addEventListener('click', function(event) {\n",
       "    event.preventDefault();  // Prevent page jump\n",
       "    render(); // Adjust zoom limit as needed\n",
       "});\n",
       "</script>\n"
      ],
      "text/plain": [
       "<IPython.core.display.HTML object>"
      ]
     },
     "metadata": {},
     "output_type": "display_data"
    }
   ],
   "source": [
    "diamond.show_kernel(disp_flow=True, flow=diamond.maximin)"
   ]
  },
  {
   "cell_type": "markdown",
   "metadata": {},
   "source": [
    "You can access the vertices of the polytope."
   ]
  },
  {
   "cell_type": "code",
   "execution_count": 21,
   "metadata": {
    "ExecuteTime": {
     "end_time": "2022-01-27T13:28:52.580790Z",
     "start_time": "2022-01-27T13:28:52.566609Z"
    },
    "execution": {
     "iopub.execute_input": "2025-09-26T18:46:23.604134Z",
     "iopub.status.busy": "2025-09-26T18:46:23.602663Z",
     "iopub.status.idle": "2025-09-26T18:46:23.608680Z",
     "shell.execute_reply": "2025-09-26T18:46:23.608680Z",
     "shell.execute_reply.started": "2025-09-26T18:46:23.604134Z"
    }
   },
   "outputs": [
    {
     "data": {
      "text/plain": [
       "[{'kernel_coordinates': array([-0.25]),\n",
       "  'edge_coordinates': array([1., 1., 1., 1., 0.]),\n",
       "  'null_edges': [4],\n",
       "  'bijective': True},\n",
       " {'kernel_coordinates': array([0.75]),\n",
       "  'edge_coordinates': array([2., 0., 1., 0., 1.]),\n",
       "  'null_edges': [1, 3],\n",
       "  'bijective': False}]"
      ]
     },
     "execution_count": 21,
     "metadata": {},
     "output_type": "execute_result"
    }
   ],
   "source": [
    "diamond.vertices"
   ]
  },
  {
   "cell_type": "markdown",
   "metadata": {},
   "source": [
    "You can display a vertex."
   ]
  },
  {
   "cell_type": "code",
   "execution_count": 22,
   "metadata": {
    "ExecuteTime": {
     "end_time": "2022-01-27T13:28:52.595877Z",
     "start_time": "2022-01-27T13:28:52.582828Z"
    },
    "execution": {
     "iopub.execute_input": "2025-09-26T18:46:23.608680Z",
     "iopub.status.busy": "2025-09-26T18:46:23.608680Z",
     "iopub.status.idle": "2025-09-26T18:46:23.614164Z",
     "shell.execute_reply": "2025-09-26T18:46:23.614164Z",
     "shell.execute_reply.started": "2025-09-26T18:46:23.608680Z"
    }
   },
   "outputs": [
    {
     "data": {
      "text/html": [
       "\n",
       "<div class=\"sm-graph\">\n",
       "<div id=\"dde558da-4b71-45d5-b62c-600afb799b85\"></div>\n",
       "<a href=\"#\" id=\"fit-dde558da-4b71-45d5-b62c-600afb799b85\"\n",
       "  style=\"position: absolute; left: 10px; bottom: 10px; text-decoration: none; color: #888; font-size: min(2vw, 10px);\n",
       "  z-index: 10; pointer-events: auto;\"\n",
       "> Refresh\n",
       "</a>\n",
       "<style>\n",
       ".sm-graph {\n",
       "position: relative;\n",
       "width: 100%;\n",
       "height: 50vh !important;\n",
       "max-width: 100vw;\n",
       "max-height: 100vh !important;\n",
       "}\n",
       ".sm-graph > div {\n",
       "  height: 100%;   /* Make the inner div fill the parent */\n",
       "}\n",
       "</style>\n",
       "</div>\n",
       "<script type=\"module\">\n",
       "import { DataSet, Network } from \"https://unpkg.com/vis-network/standalone/esm/vis-network.min.js\";\n",
       "// CSS will be automatically injected into the page.\n",
       "function render () {\n",
       "    const nodes = new DataSet([{\"id\": 0, \"label\": \"2\", \"title\": \"0: A\"}, {\"id\": 1, \"label\": \"3\", \"title\": \"1: B\"}, {\"id\": 2, \"label\": \"2\", \"title\": \"2: C\"}, {\"id\": 3, \"label\": \"1\", \"title\": \"3: D\"}]);\n",
       "    const edges = new DataSet([{\"title\": \"0: (A, B)\", \"label\": \"1\", \"color\": \"blue\", \"from\": 0, \"to\": 1}, {\"title\": \"1: (A, C)\", \"label\": \"1\", \"color\": \"blue\", \"from\": 0, \"to\": 2}, {\"title\": \"2: (B, C)\", \"label\": \"1\", \"color\": \"blue\", \"from\": 1, \"to\": 2}, {\"title\": \"3: (B, D)\", \"label\": \"1\", \"color\": \"blue\", \"from\": 1, \"to\": 3}, {\"title\": \"4: (C, D)\", \"label\": \"\", \"color\": \"orange\", \"from\": 2, \"to\": 3}]);\n",
       "    const data = {\n",
       "            nodes: nodes,\n",
       "            edges: edges,\n",
       "    };\n",
       "    const options = {\"interaction\": {\"navigationButtons\": false}, \"width\": \"100%\", \"height\": \"100%\"};\n",
       "    const container = document.getElementById('dde558da-4b71-45d5-b62c-600afb799b85');\n",
       "    const network = new Network(container, data, options);\n",
       "    network.fit({maxZoomLevel: 10});\n",
       "    network.redraw();\n",
       "}\n",
       "\n",
       "render();\n",
       "document.getElementById('fit-dde558da-4b71-45d5-b62c-600afb799b85').addEventListener('click', function(event) {\n",
       "    event.preventDefault();  // Prevent page jump\n",
       "    render(); // Adjust zoom limit as needed\n",
       "});\n",
       "</script>\n"
      ],
      "text/plain": [
       "<IPython.core.display.HTML object>"
      ]
     },
     "metadata": {},
     "output_type": "display_data"
    }
   ],
   "source": [
    "diamond.show_vertex(0)"
   ]
  },
  {
   "cell_type": "code",
   "execution_count": 23,
   "metadata": {
    "ExecuteTime": {
     "end_time": "2022-01-27T13:28:52.611667Z",
     "start_time": "2022-01-27T13:28:52.598775Z"
    },
    "execution": {
     "iopub.execute_input": "2025-09-26T18:46:23.614164Z",
     "iopub.status.busy": "2025-09-26T18:46:23.614164Z",
     "iopub.status.idle": "2025-09-26T18:46:23.621778Z",
     "shell.execute_reply": "2025-09-26T18:46:23.621778Z",
     "shell.execute_reply.started": "2025-09-26T18:46:23.614164Z"
    }
   },
   "outputs": [
    {
     "data": {
      "text/html": [
       "\n",
       "<div class=\"sm-graph\">\n",
       "<div id=\"51038375-8c31-42d3-b4d4-479416f7447a\"></div>\n",
       "<a href=\"#\" id=\"fit-51038375-8c31-42d3-b4d4-479416f7447a\"\n",
       "  style=\"position: absolute; left: 10px; bottom: 10px; text-decoration: none; color: #888; font-size: min(2vw, 10px);\n",
       "  z-index: 10; pointer-events: auto;\"\n",
       "> Refresh\n",
       "</a>\n",
       "<style>\n",
       ".sm-graph {\n",
       "position: relative;\n",
       "width: 100%;\n",
       "height: 50vh !important;\n",
       "max-width: 100vw;\n",
       "max-height: 100vh !important;\n",
       "}\n",
       ".sm-graph > div {\n",
       "  height: 100%;   /* Make the inner div fill the parent */\n",
       "}\n",
       "</style>\n",
       "</div>\n",
       "<script type=\"module\">\n",
       "import { DataSet, Network } from \"https://unpkg.com/vis-network/standalone/esm/vis-network.min.js\";\n",
       "// CSS will be automatically injected into the page.\n",
       "function render () {\n",
       "    const nodes = new DataSet([{\"id\": 0, \"label\": \"2\", \"title\": \"0: A\"}, {\"id\": 1, \"label\": \"3\", \"title\": \"1: B\"}, {\"id\": 2, \"label\": \"2\", \"title\": \"2: C\"}, {\"id\": 3, \"label\": \"1\", \"title\": \"3: D\"}]);\n",
       "    const edges = new DataSet([{\"title\": \"0: (A, B)\", \"label\": \"2\", \"color\": \"blue\", \"from\": 0, \"to\": 1}, {\"title\": \"1: (A, C)\", \"label\": \"\", \"color\": \"orange\", \"from\": 0, \"to\": 2}, {\"title\": \"2: (B, C)\", \"label\": \"1\", \"color\": \"blue\", \"from\": 1, \"to\": 2}, {\"title\": \"3: (B, D)\", \"label\": \"\", \"color\": \"orange\", \"from\": 1, \"to\": 3}, {\"title\": \"4: (C, D)\", \"label\": \"1\", \"color\": \"blue\", \"from\": 2, \"to\": 3}]);\n",
       "    const data = {\n",
       "            nodes: nodes,\n",
       "            edges: edges,\n",
       "    };\n",
       "    const options = {\"interaction\": {\"navigationButtons\": false}, \"width\": \"100%\", \"height\": \"100%\"};\n",
       "    const container = document.getElementById('51038375-8c31-42d3-b4d4-479416f7447a');\n",
       "    const network = new Network(container, data, options);\n",
       "    network.fit({maxZoomLevel: 10});\n",
       "    network.redraw();\n",
       "}\n",
       "\n",
       "render();\n",
       "document.getElementById('fit-51038375-8c31-42d3-b4d4-479416f7447a').addEventListener('click', function(event) {\n",
       "    event.preventDefault();  // Prevent page jump\n",
       "    render(); // Adjust zoom limit as needed\n",
       "});\n",
       "</script>\n"
      ],
      "text/plain": [
       "<IPython.core.display.HTML object>"
      ]
     },
     "metadata": {},
     "output_type": "display_data"
    }
   ],
   "source": [
    "diamond.show_vertex(1)"
   ]
  },
  {
   "cell_type": "markdown",
   "metadata": {},
   "source": [
    "See the [Algebra notebook](analysis.ipynb) for more details."
   ]
  },
  {
   "cell_type": "markdown",
   "metadata": {},
   "source": [
    "## Simulations"
   ]
  },
  {
   "cell_type": "markdown",
   "metadata": {},
   "source": [
    "To run a simulation, you just need to specify:\n",
    "\n",
    "- A policy (using the name of an implemented policy or providing a custom one)\n",
    "- Number of arrival rates to simulate (default to 1,000,000)\n",
    "- The maximal queue size (default to 1,000)\n",
    "- A random seed (optional)"
   ]
  },
  {
   "cell_type": "markdown",
   "metadata": {},
   "source": [
    "The simulator returns an estimate of the stability of the policy: False if a queue was maxed before the end, True otherwise."
   ]
  },
  {
   "cell_type": "code",
   "execution_count": 24,
   "metadata": {
    "ExecuteTime": {
     "end_time": "2022-01-27T13:28:57.393381Z",
     "start_time": "2022-01-27T13:28:52.612671Z"
    },
    "execution": {
     "iopub.execute_input": "2025-09-26T18:46:23.622945Z",
     "iopub.status.busy": "2025-09-26T18:46:23.622945Z",
     "iopub.status.idle": "2025-09-26T18:46:32.439671Z",
     "shell.execute_reply": "2025-09-26T18:46:32.439165Z",
     "shell.execute_reply.started": "2025-09-26T18:46:23.622945Z"
    }
   },
   "outputs": [
    {
     "data": {
      "text/plain": [
       "True"
      ]
     },
     "execution_count": 24,
     "metadata": {},
     "output_type": "execute_result"
    }
   ],
   "source": [
    "diamond.run(\"longest\", n_steps=10000000)"
   ]
  },
  {
   "cell_type": "markdown",
   "metadata": {},
   "source": [
    "The results of simulation are stored in a `logs` attribute that contains:\n",
    "\n",
    "- The number of matchings for each edge\n",
    "- For each node and state, the number of steps spent by that node in that state\n",
    "- Number of steps performed\n",
    "\n",
    "A printable version, `plogs`, is available."
   ]
  },
  {
   "cell_type": "code",
   "execution_count": 25,
   "metadata": {
    "ExecuteTime": {
     "end_time": "2022-01-27T13:28:57.424570Z",
     "start_time": "2022-01-27T13:28:57.396348Z"
    },
    "execution": {
     "iopub.execute_input": "2025-09-26T18:46:32.439671Z",
     "iopub.status.busy": "2025-09-26T18:46:32.439671Z",
     "iopub.status.idle": "2025-09-26T18:46:32.444081Z",
     "shell.execute_reply": "2025-09-26T18:46:32.444081Z",
     "shell.execute_reply.started": "2025-09-26T18:46:32.439671Z"
    }
   },
   "outputs": [
    {
     "name": "stdout",
     "output_type": "stream",
     "text": [
      "Arrivals: [2497426 3748647 2502895 1251032]\n",
      "Traffic: [1664184  833241 1251543  832920  418111]\n",
      "Queues: [[7418931 1425915  652538 ...       0       0       0]\n",
      " [6668530 1336514  800062 ...       0       0       0]\n",
      " [8886833  742688  246867 ...       0       0       0]\n",
      " [7672998 1455916  557020 ...       0       0       0]]\n",
      "Steps done: 10000000\n"
     ]
    }
   ],
   "source": [
    "diamond.simulator.plogs"
   ]
  },
  {
   "cell_type": "markdown",
   "metadata": {},
   "source": [
    "The flow can be displayed."
   ]
  },
  {
   "cell_type": "code",
   "execution_count": 26,
   "metadata": {
    "ExecuteTime": {
     "end_time": "2022-01-27T13:28:57.439948Z",
     "start_time": "2022-01-27T13:28:57.428614Z"
    },
    "execution": {
     "iopub.execute_input": "2025-09-26T18:46:32.445521Z",
     "iopub.status.busy": "2025-09-26T18:46:32.445521Z",
     "iopub.status.idle": "2025-09-26T18:46:32.453715Z",
     "shell.execute_reply": "2025-09-26T18:46:32.453715Z",
     "shell.execute_reply.started": "2025-09-26T18:46:32.445521Z"
    }
   },
   "outputs": [
    {
     "data": {
      "text/html": [
       "\n",
       "<div class=\"sm-graph\">\n",
       "<div id=\"22eaeb8e-15f4-47be-933a-c0871f0c9b03\"></div>\n",
       "<a href=\"#\" id=\"fit-22eaeb8e-15f4-47be-933a-c0871f0c9b03\"\n",
       "  style=\"position: absolute; left: 10px; bottom: 10px; text-decoration: none; color: #888; font-size: min(2vw, 10px);\n",
       "  z-index: 10; pointer-events: auto;\"\n",
       "> Refresh\n",
       "</a>\n",
       "<style>\n",
       ".sm-graph {\n",
       "position: relative;\n",
       "width: 100%;\n",
       "height: 50vh !important;\n",
       "max-width: 100vw;\n",
       "max-height: 100vh !important;\n",
       "}\n",
       ".sm-graph > div {\n",
       "  height: 100%;   /* Make the inner div fill the parent */\n",
       "}\n",
       "</style>\n",
       "</div>\n",
       "<script type=\"module\">\n",
       "import { DataSet, Network } from \"https://unpkg.com/vis-network/standalone/esm/vis-network.min.js\";\n",
       "// CSS will be automatically injected into the page.\n",
       "function render () {\n",
       "    const nodes = new DataSet([{\"id\": 0, \"label\": \"2\", \"title\": \"0: A\"}, {\"id\": 1, \"label\": \"3\", \"title\": \"1: B\"}, {\"id\": 2, \"label\": \"2\", \"title\": \"2: C\"}, {\"id\": 3, \"label\": \"1\", \"title\": \"3: D\"}]);\n",
       "    const edges = new DataSet([{\"title\": \"0: (A, B)\", \"label\": \"1.33\", \"color\": \"blue\", \"from\": 0, \"to\": 1}, {\"title\": \"1: (A, C)\", \"label\": \"0.667\", \"color\": \"blue\", \"from\": 0, \"to\": 2}, {\"title\": \"2: (B, C)\", \"label\": \"1\", \"color\": \"blue\", \"from\": 1, \"to\": 2}, {\"title\": \"3: (B, D)\", \"label\": \"0.666\", \"color\": \"blue\", \"from\": 1, \"to\": 3}, {\"title\": \"4: (C, D)\", \"label\": \"0.334\", \"color\": \"blue\", \"from\": 2, \"to\": 3}]);\n",
       "    const data = {\n",
       "            nodes: nodes,\n",
       "            edges: edges,\n",
       "    };\n",
       "    const options = {\"interaction\": {\"navigationButtons\": false}, \"width\": \"100%\", \"height\": \"100%\"};\n",
       "    const container = document.getElementById('22eaeb8e-15f4-47be-933a-c0871f0c9b03');\n",
       "    const network = new Network(container, data, options);\n",
       "    network.fit({maxZoomLevel: 10});\n",
       "    network.redraw();\n",
       "}\n",
       "\n",
       "render();\n",
       "document.getElementById('fit-22eaeb8e-15f4-47be-933a-c0871f0c9b03').addEventListener('click', function(event) {\n",
       "    event.preventDefault();  // Prevent page jump\n",
       "    render(); // Adjust zoom limit as needed\n",
       "});\n",
       "</script>\n"
      ],
      "text/plain": [
       "<IPython.core.display.HTML object>"
      ]
     },
     "metadata": {},
     "output_type": "display_data"
    }
   ],
   "source": [
    "diamond.show_flow()"
   ]
  },
  {
   "cell_type": "markdown",
   "metadata": {},
   "source": [
    "The CCDFs can be computed and shown."
   ]
  },
  {
   "cell_type": "code",
   "execution_count": 27,
   "metadata": {
    "ExecuteTime": {
     "end_time": "2022-01-27T13:28:57.455407Z",
     "start_time": "2022-01-27T13:28:57.443230Z"
    },
    "execution": {
     "iopub.execute_input": "2025-09-26T18:46:32.455722Z",
     "iopub.status.busy": "2025-09-26T18:46:32.454726Z",
     "iopub.status.idle": "2025-09-26T18:46:32.461410Z",
     "shell.execute_reply": "2025-09-26T18:46:32.461410Z",
     "shell.execute_reply.started": "2025-09-26T18:46:32.455722Z"
    }
   },
   "outputs": [
    {
     "data": {
      "text/plain": [
       "array([[1.000000e+00, 2.581069e-01, 1.155154e-01, 5.026160e-02,\n",
       "        2.141220e-02, 8.995300e-03, 3.730000e-03, 1.524100e-03,\n",
       "        6.317000e-04, 2.628000e-04, 1.046000e-04, 3.570000e-05,\n",
       "        1.180000e-05, 3.900000e-06, 1.100000e-06, 2.000000e-07,\n",
       "        0.000000e+00, 0.000000e+00, 0.000000e+00, 0.000000e+00],\n",
       "       [1.000000e+00, 3.331470e-01, 1.994956e-01, 1.194894e-01,\n",
       "        7.159350e-02, 4.286670e-02, 2.560520e-02, 1.531590e-02,\n",
       "        9.173200e-03, 5.459200e-03, 3.252300e-03, 1.954700e-03,\n",
       "        1.170700e-03, 7.005000e-04, 4.128000e-04, 2.319000e-04,\n",
       "        1.277000e-04, 7.000000e-05, 4.020000e-05, 2.450000e-05],\n",
       "       [1.000000e+00, 1.113167e-01, 3.704790e-02, 1.236120e-02,\n",
       "        4.097700e-03, 1.349100e-03, 4.402000e-04, 1.369000e-04,\n",
       "        4.160000e-05, 1.150000e-05, 2.500000e-06, 6.000000e-07,\n",
       "        1.000000e-07, 0.000000e+00, 0.000000e+00, 0.000000e+00,\n",
       "        0.000000e+00, 0.000000e+00, 0.000000e+00, 0.000000e+00],\n",
       "       [1.000000e+00, 2.327002e-01, 8.710860e-02, 3.140660e-02,\n",
       "        1.115720e-02, 3.904000e-03, 1.312800e-03, 4.458000e-04,\n",
       "        1.518000e-04, 4.920000e-05, 1.160000e-05, 1.500000e-06,\n",
       "        2.000000e-07, 0.000000e+00, 0.000000e+00, 0.000000e+00,\n",
       "        0.000000e+00, 0.000000e+00, 0.000000e+00, 0.000000e+00]])"
      ]
     },
     "execution_count": 27,
     "metadata": {},
     "output_type": "execute_result"
    }
   ],
   "source": [
    "diamond.simulator.ccdf[:, :20]"
   ]
  },
  {
   "cell_type": "code",
   "execution_count": 28,
   "metadata": {
    "ExecuteTime": {
     "end_time": "2022-01-27T13:28:58.692516Z",
     "start_time": "2022-01-27T13:28:57.459544Z"
    },
    "execution": {
     "iopub.execute_input": "2025-09-26T18:46:32.462424Z",
     "iopub.status.busy": "2025-09-26T18:46:32.462424Z",
     "iopub.status.idle": "2025-09-26T18:46:32.817647Z",
     "shell.execute_reply": "2025-09-26T18:46:32.817647Z",
     "shell.execute_reply.started": "2025-09-26T18:46:32.462424Z"
    }
   },
   "outputs": [
    {
     "data": {
      "image/png": "[encoded data removed]",
      "text/plain": [
       "<Figure size 640x480 with 1 Axes>"
      ]
     },
     "metadata": {},
     "output_type": "display_data"
    }
   ],
   "source": [
    "fig = diamond.simulator.show_ccdf(sort=True)"
   ]
  },
  {
   "cell_type": "markdown",
   "metadata": {},
   "source": [
    "The queues occupancies are given by:"
   ]
  },
  {
   "cell_type": "code",
   "execution_count": 29,
   "metadata": {
    "ExecuteTime": {
     "end_time": "2022-01-27T13:28:58.708223Z",
     "start_time": "2022-01-27T13:28:58.697036Z"
    },
    "execution": {
     "iopub.execute_input": "2025-09-26T18:46:32.818655Z",
     "iopub.status.busy": "2025-09-26T18:46:32.818655Z",
     "iopub.status.idle": "2025-09-26T18:46:32.825077Z",
     "shell.execute_reply": "2025-09-26T18:46:32.825077Z",
     "shell.execute_reply.started": "2025-09-26T18:46:32.818655Z"
    }
   },
   "outputs": [
    {
     "data": {
      "text/plain": [
       "array([0.4605973, 0.8301682, 0.166806 , 0.3682495])"
      ]
     },
     "execution_count": 29,
     "metadata": {},
     "output_type": "execute_result"
    }
   ],
   "source": [
    "diamond.simulator.avg_queues"
   ]
  },
  {
   "cell_type": "markdown",
   "metadata": {},
   "source": [
    "They can be displayed (optionally sorted)."
   ]
  },
  {
   "cell_type": "code",
   "execution_count": 30,
   "metadata": {
    "ExecuteTime": {
     "end_time": "2022-01-27T13:28:58.879194Z",
     "start_time": "2022-01-27T13:28:58.711854Z"
    },
    "execution": {
     "iopub.execute_input": "2025-09-26T18:46:32.826088Z",
     "iopub.status.busy": "2025-09-26T18:46:32.826088Z",
     "iopub.status.idle": "2025-09-26T18:46:32.910309Z",
     "shell.execute_reply": "2025-09-26T18:46:32.910309Z",
     "shell.execute_reply.started": "2025-09-26T18:46:32.826088Z"
    }
   },
   "outputs": [
    {
     "data": {
      "image/png": "[encoded data removed]",
      "text/plain": [
       "<Figure size 640x480 with 1 Axes>"
      ]
     },
     "metadata": {},
     "output_type": "display_data"
    }
   ],
   "source": [
    "fig = diamond.simulator.show_average_queues(sort=True)"
   ]
  },
  {
   "cell_type": "markdown",
   "metadata": {},
   "source": [
    "It is possible to use the arrival rates to express the results as waiting times."
   ]
  },
  {
   "cell_type": "code",
   "execution_count": 31,
   "metadata": {
    "ExecuteTime": {
     "end_time": "2022-01-27T13:28:59.208592Z",
     "start_time": "2022-01-27T13:28:58.883161Z"
    },
    "execution": {
     "iopub.execute_input": "2025-09-26T18:46:32.912318Z",
     "iopub.status.busy": "2025-09-26T18:46:32.911318Z",
     "iopub.status.idle": "2025-09-26T18:46:32.994939Z",
     "shell.execute_reply": "2025-09-26T18:46:32.994433Z",
     "shell.execute_reply.started": "2025-09-26T18:46:32.912318Z"
    }
   },
   "outputs": [
    {
     "data": {
      "image/png": "[encoded data removed]",
      "text/plain": [
       "<Figure size 640x480 with 1 Axes>"
      ]
     },
     "metadata": {},
     "output_type": "display_data"
    }
   ],
   "source": [
    "fig = diamond.simulator.show_average_queues(sort=True, as_time=True)"
   ]
  },
  {
   "cell_type": "markdown",
   "metadata": {},
   "source": [
    "See the [Simulation notebook](simulator.ipynb) for more details."
   ]
  }
 ],
 "metadata": {
  "kernelspec": {
   "display_name": "Python 3 (ipykernel)",
   "language": "python",
   "name": "python3"
  },
  "language_info": {
   "codemirror_mode": {
    "name": "ipython",
    "version": 3
   },
   "file_extension": ".py",
   "mimetype": "text/x-python",
   "name": "python",
   "nbconvert_exporter": "python",
   "pygments_lexer": "ipython3",
   "version": "3.12.8"
  },
  "toc": {
   "base_numbering": 1,
   "nav_menu": {},
   "number_sections": true,
   "sideBar": true,
   "skip_h1_title": true,
   "title_cell": "Table of Contents",
   "title_sidebar": "Contents",
   "toc_cell": false,
   "toc_position": {},
   "toc_section_display": true,
   "toc_window_display": true
  }
 },
 "nbformat": 4,
 "nbformat_minor": 4
}
