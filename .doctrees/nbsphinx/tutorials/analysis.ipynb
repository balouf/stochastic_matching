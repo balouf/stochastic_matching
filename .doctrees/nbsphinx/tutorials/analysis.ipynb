{
 "cells": [
  {
   "cell_type": "markdown",
   "id": "8ca9e27f",
   "metadata": {},
   "source": [
    "# Analysis of rates"
   ]
  },
  {
   "cell_type": "markdown",
   "id": "04992dc1",
   "metadata": {},
   "source": [
    "By combining elements from graph theory, convex optimization, and linear algebra, we can have powerful results on the stability of a stochastic system and its set of feasible rates."
   ]
  },
  {
   "cell_type": "markdown",
   "id": "6e744269",
   "metadata": {},
   "source": [
    "`stochastic matching` provides the following information (cf https://hal.archives-ouvertes.fr/hal-03502084 for details):\n",
    "\n",
    "- Graph type: injective-only, surjective-only, bijective, ``nonjective'';\n",
    "- Kernel structure (for node and edge kernels);\n",
    "- For given arrival rates: \n",
    " - stability of the matching model;\n",
    " - Maximin and Moore-Penrose solutions of the conservation equation;\n",
    " - if relevant, a complete description of the vertices of $\\Lambda_{\\geqslant 0}$.\n",
    "\n"
   ]
  },
  {
   "cell_type": "markdown",
   "id": "0c70988e",
   "metadata": {},
   "source": [
    "The purpose of this notebook is to give a tour of these analysis on some examples."
   ]
  },
  {
   "cell_type": "code",
   "execution_count": 1,
   "id": "d0cb1566",
   "metadata": {
    "ExecuteTime": {
     "end_time": "2022-01-24T14:38:45.535453Z",
     "start_time": "2022-01-24T14:38:44.327612Z"
    },
    "execution": {
     "iopub.execute_input": "2025-09-27T14:18:32.329932Z",
     "iopub.status.busy": "2025-09-27T14:18:32.329932Z",
     "iopub.status.idle": "2025-09-27T14:18:39.072404Z",
     "shell.execute_reply": "2025-09-27T14:18:39.072086Z",
     "shell.execute_reply.started": "2025-09-27T14:18:32.329932Z"
    }
   },
   "outputs": [],
   "source": [
    "import stochastic_matching as sm\n",
    "from stochastic_matching.display import VIS_OPTIONS\n",
    "\n",
    "VIS_OPTIONS[\"height\"] = \"200px\""
   ]
  },
  {
   "cell_type": "code",
   "execution_count": 2,
   "id": "48f18fb6",
   "metadata": {
    "ExecuteTime": {
     "end_time": "2022-01-24T14:38:45.550922Z",
     "start_time": "2022-01-24T14:38:45.537955Z"
    },
    "execution": {
     "iopub.execute_input": "2025-09-27T14:18:39.073095Z",
     "iopub.status.busy": "2025-09-27T14:18:39.073095Z",
     "iopub.status.idle": "2025-09-27T14:18:39.158951Z",
     "shell.execute_reply": "2025-09-27T14:18:39.158951Z",
     "shell.execute_reply.started": "2025-09-27T14:18:39.073095Z"
    }
   },
   "outputs": [
    {
     "data": {
      "text/plain": [
       "{'interaction': {'navigationButtons': False},\n",
       " 'width': '100%',\n",
       " 'height': '200px'}"
      ]
     },
     "execution_count": 2,
     "metadata": {},
     "output_type": "execute_result"
    }
   ],
   "source": [
    "VIS_OPTIONS"
   ]
  },
  {
   "cell_type": "markdown",
   "id": "25015814",
   "metadata": {},
   "source": [
    "## Tadpole"
   ]
  },
  {
   "cell_type": "markdown",
   "id": "8d70692a",
   "metadata": {},
   "source": [
    "### Bijective tadpole"
   ]
  },
  {
   "cell_type": "markdown",
   "id": "2b5a160a",
   "metadata": {},
   "source": [
    "Consider a tadpole $T_{5, 3}$ with uniform arrival rates. Side note: if no rate is specified, degree-proportional rates are assumed, which ensure that the model is stabilizable if the graph is surjective."
   ]
  },
  {
   "cell_type": "code",
   "execution_count": 3,
   "id": "99bf6801",
   "metadata": {
    "ExecuteTime": {
     "end_time": "2022-01-24T14:38:45.581742Z",
     "start_time": "2022-01-24T14:38:45.553014Z"
    },
    "execution": {
     "iopub.execute_input": "2025-09-27T14:18:39.159958Z",
     "iopub.status.busy": "2025-09-27T14:18:39.159958Z",
     "iopub.status.idle": "2025-09-27T14:18:39.167816Z",
     "shell.execute_reply": "2025-09-27T14:18:39.167816Z",
     "shell.execute_reply.started": "2025-09-27T14:18:39.159958Z"
    }
   },
   "outputs": [
    {
     "data": {
      "text/html": [
       "\n",
       "<div class=\"sm-graph\" id=\"box-eb42dbd3-614a-41d9-8901-ef63b0ccb8d2\">\n",
       "<div id=\"eb42dbd3-614a-41d9-8901-ef63b0ccb8d2\"></div>\n",
       "<a href=\"#\" id=\"fit-eb42dbd3-614a-41d9-8901-ef63b0ccb8d2\"\n",
       "  style=\"position: absolute; left: 10px; bottom: 10px; text-decoration: none; color: #888; font-size: min(2vw, 10px);\n",
       "  z-index: 10; pointer-events: auto;\"\n",
       "> Reload\n",
       "</a>\n",
       "<style>\n",
       "#box-eb42dbd3-614a-41d9-8901-ef63b0ccb8d2 {\n",
       "position: relative;\n",
       "width: 100%;\n",
       "height: 200px !important;\n",
       "max-width: 100vw;\n",
       "max-height: 100vh !important;\n",
       "}\n",
       "#eb42dbd3-614a-41d9-8901-ef63b0ccb8d2 {\n",
       "  height: 100%;   /* Make the inner div fill the parent */\n",
       "}\n",
       "</style>\n",
       "</div>\n",
       "<script type=\"module\">\n",
       "import { DataSet, Network } from \"https://unpkg.com/vis-network/standalone/esm/vis-network.min.js\";\n",
       "// CSS will be automatically injected into the page.\n",
       "function render () {\n",
       "    const nodes = new DataSet([{\"id\": 0, \"label\": \"0\", \"title\": \"0\"}, {\"id\": 1, \"label\": \"1\", \"title\": \"1\"}, {\"id\": 2, \"label\": \"2\", \"title\": \"2\"}, {\"id\": 3, \"label\": \"3\", \"title\": \"3\"}, {\"id\": 4, \"label\": \"4\", \"title\": \"4\"}, {\"id\": 5, \"label\": \"5\", \"title\": \"5\"}, {\"id\": 6, \"label\": \"6\", \"title\": \"6\"}, {\"id\": 7, \"label\": \"7\", \"title\": \"7\"}]);\n",
       "    const edges = new DataSet([{\"title\": \"0: (0, 1)\", \"label\": \"\", \"from\": 0, \"to\": 1}, {\"title\": \"1: (0, 4)\", \"label\": \"\", \"from\": 0, \"to\": 4}, {\"title\": \"2: (1, 2)\", \"label\": \"\", \"from\": 1, \"to\": 2}, {\"title\": \"3: (2, 3)\", \"label\": \"\", \"from\": 2, \"to\": 3}, {\"title\": \"4: (3, 4)\", \"label\": \"\", \"from\": 3, \"to\": 4}, {\"title\": \"5: (4, 5)\", \"label\": \"\", \"from\": 4, \"to\": 5}, {\"title\": \"6: (5, 6)\", \"label\": \"\", \"from\": 5, \"to\": 6}, {\"title\": \"7: (6, 7)\", \"label\": \"\", \"from\": 6, \"to\": 7}]);\n",
       "    const data = {\n",
       "            nodes: nodes,\n",
       "            edges: edges,\n",
       "    };\n",
       "    const options = {\"interaction\": {\"navigationButtons\": false}, \"width\": \"100%\", \"height\": \"200px\"};\n",
       "    const container = document.getElementById('eb42dbd3-614a-41d9-8901-ef63b0ccb8d2');\n",
       "    const network = new Network(container, data, options);\n",
       "    network.fit({maxZoomLevel: 10});\n",
       "    network.redraw();\n",
       "}\n",
       "\n",
       "render();\n",
       "document.getElementById('fit-eb42dbd3-614a-41d9-8901-ef63b0ccb8d2').addEventListener('click', function(event) {\n",
       "    event.preventDefault();  // Prevent page jump\n",
       "    render(); // Adjust zoom limit as needed\n",
       "});\n",
       "</script>\n"
      ],
      "text/plain": [
       "<IPython.core.display.HTML object>"
      ]
     },
     "metadata": {},
     "output_type": "display_data"
    }
   ],
   "source": [
    "tadpole = sm.Tadpole(m=5, n=3, rates=\"uniform\")\n",
    "tadpole.show_graph()"
   ]
  },
  {
   "cell_type": "markdown",
   "id": "8fd084db",
   "metadata": {},
   "source": [
    "Its kernels are trivial: the graph is bijective."
   ]
  },
  {
   "cell_type": "code",
   "execution_count": 4,
   "id": "bc20341e",
   "metadata": {
    "ExecuteTime": {
     "end_time": "2022-01-24T14:38:45.596885Z",
     "start_time": "2022-01-24T14:38:45.584699Z"
    },
    "execution": {
     "iopub.execute_input": "2025-09-27T14:18:39.169824Z",
     "iopub.status.busy": "2025-09-27T14:18:39.168826Z",
     "iopub.status.idle": "2025-09-27T14:18:39.173825Z",
     "shell.execute_reply": "2025-09-27T14:18:39.173825Z",
     "shell.execute_reply.started": "2025-09-27T14:18:39.169824Z"
    }
   },
   "outputs": [
    {
     "data": {
      "text/plain": [
       "Kernels of a graph with 8 nodes and 8 edges.\n",
       "Node dimension is 0.\n",
       "Edge dimension is 0\n",
       "Type: Bijective\n",
       "Node kernel:\n",
       "[]\n",
       "Edge kernel:\n",
       "[]"
      ]
     },
     "execution_count": 4,
     "metadata": {},
     "output_type": "execute_result"
    }
   ],
   "source": [
    "tadpole.kernel"
   ]
  },
  {
   "cell_type": "markdown",
   "id": "3fd1ebe5",
   "metadata": {},
   "source": [
    "Let see the unique solution of the conservation equation:"
   ]
  },
  {
   "cell_type": "code",
   "execution_count": 5,
   "id": "609e1c81",
   "metadata": {
    "ExecuteTime": {
     "end_time": "2022-01-24T14:38:45.612931Z",
     "start_time": "2022-01-24T14:38:45.598748Z"
    },
    "execution": {
     "iopub.execute_input": "2025-09-27T14:18:39.174833Z",
     "iopub.status.busy": "2025-09-27T14:18:39.174833Z",
     "iopub.status.idle": "2025-09-27T14:18:39.181679Z",
     "shell.execute_reply": "2025-09-27T14:18:39.181679Z",
     "shell.execute_reply.started": "2025-09-27T14:18:39.174833Z"
    }
   },
   "outputs": [
    {
     "data": {
      "text/html": [
       "\n",
       "<div class=\"sm-graph\" id=\"box-21fcfa10-0bd2-4396-b194-e3744af7d741\">\n",
       "<div id=\"21fcfa10-0bd2-4396-b194-e3744af7d741\"></div>\n",
       "<a href=\"#\" id=\"fit-21fcfa10-0bd2-4396-b194-e3744af7d741\"\n",
       "  style=\"position: absolute; left: 10px; bottom: 10px; text-decoration: none; color: #888; font-size: min(2vw, 10px);\n",
       "  z-index: 10; pointer-events: auto;\"\n",
       "> Reload\n",
       "</a>\n",
       "<style>\n",
       "#box-21fcfa10-0bd2-4396-b194-e3744af7d741 {\n",
       "position: relative;\n",
       "width: 100%;\n",
       "height: 200px !important;\n",
       "max-width: 100vw;\n",
       "max-height: 100vh !important;\n",
       "}\n",
       "#21fcfa10-0bd2-4396-b194-e3744af7d741 {\n",
       "  height: 100%;   /* Make the inner div fill the parent */\n",
       "}\n",
       "</style>\n",
       "</div>\n",
       "<script type=\"module\">\n",
       "import { DataSet, Network } from \"https://unpkg.com/vis-network/standalone/esm/vis-network.min.js\";\n",
       "// CSS will be automatically injected into the page.\n",
       "function render () {\n",
       "    const nodes = new DataSet([{\"id\": 0, \"label\": \"1\", \"title\": \"0\"}, {\"id\": 1, \"label\": \"1\", \"title\": \"1\"}, {\"id\": 2, \"label\": \"1\", \"title\": \"2\"}, {\"id\": 3, \"label\": \"1\", \"title\": \"3\"}, {\"id\": 4, \"label\": \"1\", \"title\": \"4\"}, {\"id\": 5, \"label\": \"1\", \"title\": \"5\"}, {\"id\": 6, \"label\": \"1\", \"title\": \"6\"}, {\"id\": 7, \"label\": \"1\", \"title\": \"7\"}]);\n",
       "    const edges = new DataSet([{\"title\": \"0: (0, 1)\", \"label\": \"1\", \"color\": \"blue\", \"from\": 0, \"to\": 1}, {\"title\": \"1: (0, 4)\", \"label\": \"0\", \"color\": \"orange\", \"from\": 0, \"to\": 4}, {\"title\": \"2: (1, 2)\", \"label\": \"0\", \"color\": \"orange\", \"from\": 1, \"to\": 2}, {\"title\": \"3: (2, 3)\", \"label\": \"1\", \"color\": \"blue\", \"from\": 2, \"to\": 3}, {\"title\": \"4: (3, 4)\", \"label\": \"0\", \"color\": \"orange\", \"from\": 3, \"to\": 4}, {\"title\": \"5: (4, 5)\", \"label\": \"1\", \"color\": \"blue\", \"from\": 4, \"to\": 5}, {\"title\": \"6: (5, 6)\", \"label\": \"0\", \"color\": \"orange\", \"from\": 5, \"to\": 6}, {\"title\": \"7: (6, 7)\", \"label\": \"1\", \"color\": \"blue\", \"from\": 6, \"to\": 7}]);\n",
       "    const data = {\n",
       "            nodes: nodes,\n",
       "            edges: edges,\n",
       "    };\n",
       "    const options = {\"interaction\": {\"navigationButtons\": false}, \"width\": \"100%\", \"height\": \"200px\"};\n",
       "    const container = document.getElementById('21fcfa10-0bd2-4396-b194-e3744af7d741');\n",
       "    const network = new Network(container, data, options);\n",
       "    network.fit({maxZoomLevel: 10});\n",
       "    network.redraw();\n",
       "}\n",
       "\n",
       "render();\n",
       "document.getElementById('fit-21fcfa10-0bd2-4396-b194-e3744af7d741').addEventListener('click', function(event) {\n",
       "    event.preventDefault();  // Prevent page jump\n",
       "    render(); // Adjust zoom limit as needed\n",
       "});\n",
       "</script>\n"
      ],
      "text/plain": [
       "<IPython.core.display.HTML object>"
      ]
     },
     "metadata": {},
     "output_type": "display_data"
    }
   ],
   "source": [
    "tadpole.show_flow()"
   ]
  },
  {
   "cell_type": "markdown",
   "id": "dbedc900",
   "metadata": {},
   "source": [
    "This does not sound very stable..."
   ]
  },
  {
   "cell_type": "code",
   "execution_count": 6,
   "id": "8eb6628c",
   "metadata": {
    "ExecuteTime": {
     "end_time": "2022-01-24T14:38:45.628122Z",
     "start_time": "2022-01-24T14:38:45.613950Z"
    },
    "execution": {
     "iopub.execute_input": "2025-09-27T14:18:39.183691Z",
     "iopub.status.busy": "2025-09-27T14:18:39.183691Z",
     "iopub.status.idle": "2025-09-27T14:18:39.188687Z",
     "shell.execute_reply": "2025-09-27T14:18:39.188687Z",
     "shell.execute_reply.started": "2025-09-27T14:18:39.183691Z"
    }
   },
   "outputs": [
    {
     "data": {
      "text/plain": [
       "False"
      ]
     },
     "execution_count": 6,
     "metadata": {},
     "output_type": "execute_result"
    }
   ],
   "source": [
    "tadpole.stabilizable"
   ]
  },
  {
   "cell_type": "markdown",
   "id": "41afe558",
   "metadata": {},
   "source": [
    "Let's change the arrival rates to have something nicer."
   ]
  },
  {
   "cell_type": "code",
   "execution_count": 7,
   "id": "001f2e0c",
   "metadata": {
    "ExecuteTime": {
     "end_time": "2022-01-24T14:38:45.643186Z",
     "start_time": "2022-01-24T14:38:45.630211Z"
    },
    "execution": {
     "iopub.execute_input": "2025-09-27T14:18:39.189766Z",
     "iopub.status.busy": "2025-09-27T14:18:39.189766Z",
     "iopub.status.idle": "2025-09-27T14:18:39.198885Z",
     "shell.execute_reply": "2025-09-27T14:18:39.197766Z",
     "shell.execute_reply.started": "2025-09-27T14:18:39.189766Z"
    }
   },
   "outputs": [
    {
     "data": {
      "text/html": [
       "\n",
       "<div class=\"sm-graph\" id=\"box-32b33940-7101-4eab-8463-372394e6618e\">\n",
       "<div id=\"32b33940-7101-4eab-8463-372394e6618e\"></div>\n",
       "<a href=\"#\" id=\"fit-32b33940-7101-4eab-8463-372394e6618e\"\n",
       "  style=\"position: absolute; left: 10px; bottom: 10px; text-decoration: none; color: #888; font-size: min(2vw, 10px);\n",
       "  z-index: 10; pointer-events: auto;\"\n",
       "> Reload\n",
       "</a>\n",
       "<style>\n",
       "#box-32b33940-7101-4eab-8463-372394e6618e {\n",
       "position: relative;\n",
       "width: 100%;\n",
       "height: 200px !important;\n",
       "max-width: 100vw;\n",
       "max-height: 100vh !important;\n",
       "}\n",
       "#32b33940-7101-4eab-8463-372394e6618e {\n",
       "  height: 100%;   /* Make the inner div fill the parent */\n",
       "}\n",
       "</style>\n",
       "</div>\n",
       "<script type=\"module\">\n",
       "import { DataSet, Network } from \"https://unpkg.com/vis-network/standalone/esm/vis-network.min.js\";\n",
       "// CSS will be automatically injected into the page.\n",
       "function render () {\n",
       "    const nodes = new DataSet([{\"id\": 0, \"label\": \"1\", \"title\": \"0\"}, {\"id\": 1, \"label\": \"1\", \"title\": \"1\"}, {\"id\": 2, \"label\": \"1\", \"title\": \"2\"}, {\"id\": 3, \"label\": \"1\", \"title\": \"3\"}, {\"id\": 4, \"label\": \"2\", \"title\": \"4\"}, {\"id\": 5, \"label\": \"2\", \"title\": \"5\"}, {\"id\": 6, \"label\": \"2\", \"title\": \"6\"}, {\"id\": 7, \"label\": \"1\", \"title\": \"7\"}]);\n",
       "    const edges = new DataSet([{\"title\": \"0: (0, 1)\", \"label\": \"0.5\", \"color\": \"blue\", \"from\": 0, \"to\": 1}, {\"title\": \"1: (0, 4)\", \"label\": \"0.5\", \"color\": \"blue\", \"from\": 0, \"to\": 4}, {\"title\": \"2: (1, 2)\", \"label\": \"0.5\", \"color\": \"blue\", \"from\": 1, \"to\": 2}, {\"title\": \"3: (2, 3)\", \"label\": \"0.5\", \"color\": \"blue\", \"from\": 2, \"to\": 3}, {\"title\": \"4: (3, 4)\", \"label\": \"0.5\", \"color\": \"blue\", \"from\": 3, \"to\": 4}, {\"title\": \"5: (4, 5)\", \"label\": \"1\", \"color\": \"blue\", \"from\": 4, \"to\": 5}, {\"title\": \"6: (5, 6)\", \"label\": \"1\", \"color\": \"blue\", \"from\": 5, \"to\": 6}, {\"title\": \"7: (6, 7)\", \"label\": \"1\", \"color\": \"blue\", \"from\": 6, \"to\": 7}]);\n",
       "    const data = {\n",
       "            nodes: nodes,\n",
       "            edges: edges,\n",
       "    };\n",
       "    const options = {\"interaction\": {\"navigationButtons\": false}, \"width\": \"100%\", \"height\": \"200px\"};\n",
       "    const container = document.getElementById('32b33940-7101-4eab-8463-372394e6618e');\n",
       "    const network = new Network(container, data, options);\n",
       "    network.fit({maxZoomLevel: 10});\n",
       "    network.redraw();\n",
       "}\n",
       "\n",
       "render();\n",
       "document.getElementById('fit-32b33940-7101-4eab-8463-372394e6618e').addEventListener('click', function(event) {\n",
       "    event.preventDefault();  // Prevent page jump\n",
       "    render(); // Adjust zoom limit as needed\n",
       "});\n",
       "</script>\n"
      ],
      "text/plain": [
       "<IPython.core.display.HTML object>"
      ]
     },
     "metadata": {},
     "output_type": "display_data"
    }
   ],
   "source": [
    "tadpole.rates = [1, 1, 1, 1, 2, 2, 2, 1]\n",
    "tadpole.show_flow()"
   ]
  },
  {
   "cell_type": "markdown",
   "id": "fa26b9fc",
   "metadata": {},
   "source": [
    "Sounds better..."
   ]
  },
  {
   "cell_type": "code",
   "execution_count": 8,
   "id": "56f5207b",
   "metadata": {
    "ExecuteTime": {
     "end_time": "2022-01-24T14:38:45.659344Z",
     "start_time": "2022-01-24T14:38:45.645186Z"
    },
    "execution": {
     "iopub.execute_input": "2025-09-27T14:18:39.198885Z",
     "iopub.status.busy": "2025-09-27T14:18:39.198885Z",
     "iopub.status.idle": "2025-09-27T14:18:39.203267Z",
     "shell.execute_reply": "2025-09-27T14:18:39.203267Z",
     "shell.execute_reply.started": "2025-09-27T14:18:39.198885Z"
    }
   },
   "outputs": [
    {
     "data": {
      "text/plain": [
       "True"
      ]
     },
     "execution_count": 8,
     "metadata": {},
     "output_type": "execute_result"
    }
   ],
   "source": [
    "tadpole.stabilizable"
   ]
  },
  {
   "cell_type": "markdown",
   "id": "755c0be7",
   "metadata": {},
   "source": [
    "### Nonjective tadpole"
   ]
  },
  {
   "cell_type": "markdown",
   "id": "72e8e82b",
   "metadata": {},
   "source": [
    "We now consider the bipartite tadpole $T_{4, 1}$, again with uniform arrival rates."
   ]
  },
  {
   "cell_type": "code",
   "execution_count": 9,
   "id": "01f441fb",
   "metadata": {
    "ExecuteTime": {
     "end_time": "2022-01-24T14:38:45.675286Z",
     "start_time": "2022-01-24T14:38:45.661266Z"
    },
    "execution": {
     "iopub.execute_input": "2025-09-27T14:18:39.204274Z",
     "iopub.status.busy": "2025-09-27T14:18:39.204274Z",
     "iopub.status.idle": "2025-09-27T14:18:39.213413Z",
     "shell.execute_reply": "2025-09-27T14:18:39.212405Z",
     "shell.execute_reply.started": "2025-09-27T14:18:39.204274Z"
    }
   },
   "outputs": [
    {
     "data": {
      "text/html": [
       "\n",
       "<div class=\"sm-graph\" id=\"box-c10eacd0-0a31-44ef-ba03-5b2ab78aae8c\">\n",
       "<div id=\"c10eacd0-0a31-44ef-ba03-5b2ab78aae8c\"></div>\n",
       "<a href=\"#\" id=\"fit-c10eacd0-0a31-44ef-ba03-5b2ab78aae8c\"\n",
       "  style=\"position: absolute; left: 10px; bottom: 10px; text-decoration: none; color: #888; font-size: min(2vw, 10px);\n",
       "  z-index: 10; pointer-events: auto;\"\n",
       "> Reload\n",
       "</a>\n",
       "<style>\n",
       "#box-c10eacd0-0a31-44ef-ba03-5b2ab78aae8c {\n",
       "position: relative;\n",
       "width: 100%;\n",
       "height: 200px !important;\n",
       "max-width: 100vw;\n",
       "max-height: 100vh !important;\n",
       "}\n",
       "#c10eacd0-0a31-44ef-ba03-5b2ab78aae8c {\n",
       "  height: 100%;   /* Make the inner div fill the parent */\n",
       "}\n",
       "</style>\n",
       "</div>\n",
       "<script type=\"module\">\n",
       "import { DataSet, Network } from \"https://unpkg.com/vis-network/standalone/esm/vis-network.min.js\";\n",
       "// CSS will be automatically injected into the page.\n",
       "function render () {\n",
       "    const nodes = new DataSet([{\"id\": 0, \"label\": \"0\", \"title\": \"0\"}, {\"id\": 1, \"label\": \"1\", \"title\": \"1\"}, {\"id\": 2, \"label\": \"2\", \"title\": \"2\"}, {\"id\": 3, \"label\": \"3\", \"title\": \"3\"}, {\"id\": 4, \"label\": \"4\", \"title\": \"4\"}]);\n",
       "    const edges = new DataSet([{\"title\": \"0: (0, 1)\", \"label\": \"\", \"from\": 0, \"to\": 1}, {\"title\": \"1: (0, 3)\", \"label\": \"\", \"from\": 0, \"to\": 3}, {\"title\": \"2: (1, 2)\", \"label\": \"\", \"from\": 1, \"to\": 2}, {\"title\": \"3: (2, 3)\", \"label\": \"\", \"from\": 2, \"to\": 3}, {\"title\": \"4: (3, 4)\", \"label\": \"\", \"from\": 3, \"to\": 4}]);\n",
       "    const data = {\n",
       "            nodes: nodes,\n",
       "            edges: edges,\n",
       "    };\n",
       "    const options = {\"interaction\": {\"navigationButtons\": false}, \"width\": \"100%\", \"height\": \"200px\"};\n",
       "    const container = document.getElementById('c10eacd0-0a31-44ef-ba03-5b2ab78aae8c');\n",
       "    const network = new Network(container, data, options);\n",
       "    network.fit({maxZoomLevel: 10});\n",
       "    network.redraw();\n",
       "}\n",
       "\n",
       "render();\n",
       "document.getElementById('fit-c10eacd0-0a31-44ef-ba03-5b2ab78aae8c').addEventListener('click', function(event) {\n",
       "    event.preventDefault();  // Prevent page jump\n",
       "    render(); // Adjust zoom limit as needed\n",
       "});\n",
       "</script>\n"
      ],
      "text/plain": [
       "<IPython.core.display.HTML object>"
      ]
     },
     "metadata": {},
     "output_type": "display_data"
    }
   ],
   "source": [
    "tadpole = sm.Tadpole(m=4, n=1, rates=\"uniform\")\n",
    "tadpole.show_graph()"
   ]
  },
  {
   "cell_type": "markdown",
   "id": "71c788a5",
   "metadata": {},
   "source": [
    "Look at the kernel."
   ]
  },
  {
   "cell_type": "code",
   "execution_count": 10,
   "id": "96fc31d4",
   "metadata": {
    "ExecuteTime": {
     "end_time": "2022-01-24T14:38:45.690792Z",
     "start_time": "2022-01-24T14:38:45.677526Z"
    },
    "execution": {
     "iopub.execute_input": "2025-09-27T14:18:39.214412Z",
     "iopub.status.busy": "2025-09-27T14:18:39.214412Z",
     "iopub.status.idle": "2025-09-27T14:18:39.220267Z",
     "shell.execute_reply": "2025-09-27T14:18:39.219260Z",
     "shell.execute_reply.started": "2025-09-27T14:18:39.214412Z"
    }
   },
   "outputs": [
    {
     "data": {
      "text/plain": [
       "Kernels of a graph with 5 nodes and 5 edges.\n",
       "Node dimension is 1.\n",
       "Edge dimension is 1\n",
       "Type: Nonjective\n",
       "Node kernel:\n",
       "[[ 1]\n",
       " [-1]\n",
       " [ 1]\n",
       " [-1]\n",
       " [ 1]]\n",
       "Edge kernel:\n",
       "[[ 1 -1 -1  1  0]]"
      ]
     },
     "execution_count": 10,
     "metadata": {},
     "output_type": "execute_result"
    }
   ],
   "source": [
    "tadpole.kernel"
   ]
  },
  {
   "cell_type": "markdown",
   "id": "1b61720e",
   "metadata": {},
   "source": [
    "The node kernel shows the bipartite repartition of the nodes (*positive* and *negative* nodes)."
   ]
  },
  {
   "cell_type": "markdown",
   "id": "924f1d58",
   "metadata": {},
   "source": [
    "The edge kernel shows how the rate flow can *slide* between edges. It can be displayed:"
   ]
  },
  {
   "cell_type": "code",
   "execution_count": 11,
   "id": "9279f726",
   "metadata": {
    "ExecuteTime": {
     "end_time": "2022-01-24T14:38:45.705814Z",
     "start_time": "2022-01-24T14:38:45.692304Z"
    },
    "execution": {
     "iopub.execute_input": "2025-09-27T14:18:39.220267Z",
     "iopub.status.busy": "2025-09-27T14:18:39.220267Z",
     "iopub.status.idle": "2025-09-27T14:18:39.225553Z",
     "shell.execute_reply": "2025-09-27T14:18:39.225553Z",
     "shell.execute_reply.started": "2025-09-27T14:18:39.220267Z"
    }
   },
   "outputs": [
    {
     "data": {
      "text/html": [
       "\n",
       "<div class=\"sm-graph\" id=\"box-dcdcee37-b54f-4d76-b1f1-1e591cc693f6\">\n",
       "<div id=\"dcdcee37-b54f-4d76-b1f1-1e591cc693f6\"></div>\n",
       "<a href=\"#\" id=\"fit-dcdcee37-b54f-4d76-b1f1-1e591cc693f6\"\n",
       "  style=\"position: absolute; left: 10px; bottom: 10px; text-decoration: none; color: #888; font-size: min(2vw, 10px);\n",
       "  z-index: 10; pointer-events: auto;\"\n",
       "> Reload\n",
       "</a>\n",
       "<style>\n",
       "#box-dcdcee37-b54f-4d76-b1f1-1e591cc693f6 {\n",
       "position: relative;\n",
       "width: 100%;\n",
       "height: 200px !important;\n",
       "max-width: 100vw;\n",
       "max-height: 100vh !important;\n",
       "}\n",
       "#dcdcee37-b54f-4d76-b1f1-1e591cc693f6 {\n",
       "  height: 100%;   /* Make the inner div fill the parent */\n",
       "}\n",
       "</style>\n",
       "</div>\n",
       "<script type=\"module\">\n",
       "import { DataSet, Network } from \"https://unpkg.com/vis-network/standalone/esm/vis-network.min.js\";\n",
       "// CSS will be automatically injected into the page.\n",
       "function render () {\n",
       "    const nodes = new DataSet([{\"id\": 0, \"label\": \"1\", \"title\": \"0\"}, {\"id\": 1, \"label\": \"1\", \"title\": \"1\"}, {\"id\": 2, \"label\": \"1\", \"title\": \"2\"}, {\"id\": 3, \"label\": \"1\", \"title\": \"3\"}, {\"id\": 4, \"label\": \"1\", \"title\": \"4\"}]);\n",
       "    const edges = new DataSet([{\"title\": \"0: (0, 1)\", \"label\": \"+\\u03b11\", \"from\": 0, \"to\": 1}, {\"title\": \"1: (0, 3)\", \"label\": \"-\\u03b11\", \"from\": 0, \"to\": 3}, {\"title\": \"2: (1, 2)\", \"label\": \"-\\u03b11\", \"from\": 1, \"to\": 2}, {\"title\": \"3: (2, 3)\", \"label\": \"+\\u03b11\", \"from\": 2, \"to\": 3}, {\"title\": \"4: (3, 4)\", \"label\": \"\", \"color\": \"black\", \"from\": 3, \"to\": 4}]);\n",
       "    const data = {\n",
       "            nodes: nodes,\n",
       "            edges: edges,\n",
       "    };\n",
       "    const options = {\"interaction\": {\"navigationButtons\": false}, \"width\": \"100%\", \"height\": \"200px\"};\n",
       "    const container = document.getElementById('dcdcee37-b54f-4d76-b1f1-1e591cc693f6');\n",
       "    const network = new Network(container, data, options);\n",
       "    network.fit({maxZoomLevel: 10});\n",
       "    network.redraw();\n",
       "}\n",
       "\n",
       "render();\n",
       "document.getElementById('fit-dcdcee37-b54f-4d76-b1f1-1e591cc693f6').addEventListener('click', function(event) {\n",
       "    event.preventDefault();  // Prevent page jump\n",
       "    render(); // Adjust zoom limit as needed\n",
       "});\n",
       "</script>\n"
      ],
      "text/plain": [
       "<IPython.core.display.HTML object>"
      ]
     },
     "metadata": {},
     "output_type": "display_data"
    }
   ],
   "source": [
    "tadpole.show_kernel()"
   ]
  },
  {
   "cell_type": "markdown",
   "id": "5a51826a",
   "metadata": {},
   "source": [
    "Note the black edge above: it indicates that the specific edge is unaffected by the kernel."
   ]
  },
  {
   "cell_type": "markdown",
   "id": "b1dd2718",
   "metadata": {},
   "source": [
    "Let see the (attempt) solution of the conservation equation:"
   ]
  },
  {
   "cell_type": "code",
   "execution_count": 12,
   "id": "cc8c0b45",
   "metadata": {
    "ExecuteTime": {
     "end_time": "2022-01-24T14:38:45.721073Z",
     "start_time": "2022-01-24T14:38:45.709014Z"
    },
    "execution": {
     "iopub.execute_input": "2025-09-27T14:18:39.227562Z",
     "iopub.status.busy": "2025-09-27T14:18:39.226562Z",
     "iopub.status.idle": "2025-09-27T14:18:39.232560Z",
     "shell.execute_reply": "2025-09-27T14:18:39.232560Z",
     "shell.execute_reply.started": "2025-09-27T14:18:39.227562Z"
    }
   },
   "outputs": [
    {
     "data": {
      "text/html": [
       "\n",
       "<div class=\"sm-graph\" id=\"box-44a86321-2660-4c4d-8d49-17e0303bba77\">\n",
       "<div id=\"44a86321-2660-4c4d-8d49-17e0303bba77\"></div>\n",
       "<a href=\"#\" id=\"fit-44a86321-2660-4c4d-8d49-17e0303bba77\"\n",
       "  style=\"position: absolute; left: 10px; bottom: 10px; text-decoration: none; color: #888; font-size: min(2vw, 10px);\n",
       "  z-index: 10; pointer-events: auto;\"\n",
       "> Reload\n",
       "</a>\n",
       "<style>\n",
       "#box-44a86321-2660-4c4d-8d49-17e0303bba77 {\n",
       "position: relative;\n",
       "width: 100%;\n",
       "height: 200px !important;\n",
       "max-width: 100vw;\n",
       "max-height: 100vh !important;\n",
       "}\n",
       "#44a86321-2660-4c4d-8d49-17e0303bba77 {\n",
       "  height: 100%;   /* Make the inner div fill the parent */\n",
       "}\n",
       "</style>\n",
       "</div>\n",
       "<script type=\"module\">\n",
       "import { DataSet, Network } from \"https://unpkg.com/vis-network/standalone/esm/vis-network.min.js\";\n",
       "// CSS will be automatically injected into the page.\n",
       "function render () {\n",
       "    const nodes = new DataSet([{\"id\": 0, \"label\": \"1\", \"title\": \"0\", \"color\": \"red\"}, {\"id\": 1, \"label\": \"1\", \"title\": \"1\", \"color\": \"red\"}, {\"id\": 2, \"label\": \"1\", \"title\": \"2\", \"color\": \"red\"}, {\"id\": 3, \"label\": \"1\", \"title\": \"3\", \"color\": \"red\"}, {\"id\": 4, \"label\": \"1\", \"title\": \"4\", \"color\": \"red\"}]);\n",
       "    const edges = new DataSet([{\"title\": \"0: (0, 1)\", \"label\": \"0.6\", \"color\": \"blue\", \"from\": 0, \"to\": 1}, {\"title\": \"1: (0, 3)\", \"label\": \"0.2\", \"color\": \"blue\", \"from\": 0, \"to\": 3}, {\"title\": \"2: (1, 2)\", \"label\": \"0.6\", \"color\": \"blue\", \"from\": 1, \"to\": 2}, {\"title\": \"3: (2, 3)\", \"label\": \"0.2\", \"color\": \"blue\", \"from\": 2, \"to\": 3}, {\"title\": \"4: (3, 4)\", \"label\": \"0.8\", \"color\": \"blue\", \"from\": 3, \"to\": 4}]);\n",
       "    const data = {\n",
       "            nodes: nodes,\n",
       "            edges: edges,\n",
       "    };\n",
       "    const options = {\"interaction\": {\"navigationButtons\": false}, \"width\": \"100%\", \"height\": \"200px\"};\n",
       "    const container = document.getElementById('44a86321-2660-4c4d-8d49-17e0303bba77');\n",
       "    const network = new Network(container, data, options);\n",
       "    network.fit({maxZoomLevel: 10});\n",
       "    network.redraw();\n",
       "}\n",
       "\n",
       "render();\n",
       "document.getElementById('fit-44a86321-2660-4c4d-8d49-17e0303bba77').addEventListener('click', function(event) {\n",
       "    event.preventDefault();  // Prevent page jump\n",
       "    render(); // Adjust zoom limit as needed\n",
       "});\n",
       "</script>\n"
      ],
      "text/plain": [
       "<IPython.core.display.HTML object>"
      ]
     },
     "metadata": {},
     "output_type": "display_data"
    }
   ],
   "source": [
    "tadpole.show_flow()"
   ]
  },
  {
   "cell_type": "markdown",
   "id": "c8ea8e57",
   "metadata": {},
   "source": [
    "The red nodes indicate that the conservation equation is not satisfied. This is not surprising, as the total arrival rates on positive nodes, 3, is distinct from the total arrival rates on negative nodes, 2.\n",
    "\n",
    "We can change the rates in order to equalize the arrival rates."
   ]
  },
  {
   "cell_type": "code",
   "execution_count": 13,
   "id": "85a2746f",
   "metadata": {
    "ExecuteTime": {
     "end_time": "2022-01-24T14:38:45.736629Z",
     "start_time": "2022-01-24T14:38:45.722607Z"
    },
    "execution": {
     "iopub.execute_input": "2025-09-27T14:18:39.233951Z",
     "iopub.status.busy": "2025-09-27T14:18:39.233951Z",
     "iopub.status.idle": "2025-09-27T14:18:39.238227Z",
     "shell.execute_reply": "2025-09-27T14:18:39.238227Z",
     "shell.execute_reply.started": "2025-09-27T14:18:39.233951Z"
    }
   },
   "outputs": [
    {
     "data": {
      "text/html": [
       "\n",
       "<div class=\"sm-graph\" id=\"box-d6b99cac-fca5-42ff-819d-656df5a408b0\">\n",
       "<div id=\"d6b99cac-fca5-42ff-819d-656df5a408b0\"></div>\n",
       "<a href=\"#\" id=\"fit-d6b99cac-fca5-42ff-819d-656df5a408b0\"\n",
       "  style=\"position: absolute; left: 10px; bottom: 10px; text-decoration: none; color: #888; font-size: min(2vw, 10px);\n",
       "  z-index: 10; pointer-events: auto;\"\n",
       "> Reload\n",
       "</a>\n",
       "<style>\n",
       "#box-d6b99cac-fca5-42ff-819d-656df5a408b0 {\n",
       "position: relative;\n",
       "width: 100%;\n",
       "height: 200px !important;\n",
       "max-width: 100vw;\n",
       "max-height: 100vh !important;\n",
       "}\n",
       "#d6b99cac-fca5-42ff-819d-656df5a408b0 {\n",
       "  height: 100%;   /* Make the inner div fill the parent */\n",
       "}\n",
       "</style>\n",
       "</div>\n",
       "<script type=\"module\">\n",
       "import { DataSet, Network } from \"https://unpkg.com/vis-network/standalone/esm/vis-network.min.js\";\n",
       "// CSS will be automatically injected into the page.\n",
       "function render () {\n",
       "    const nodes = new DataSet([{\"id\": 0, \"label\": \"1\", \"title\": \"0\"}, {\"id\": 1, \"label\": \"1\", \"title\": \"1\"}, {\"id\": 2, \"label\": \"1\", \"title\": \"2\"}, {\"id\": 3, \"label\": \"2\", \"title\": \"3\"}, {\"id\": 4, \"label\": \"1\", \"title\": \"4\"}]);\n",
       "    const edges = new DataSet([{\"title\": \"0: (0, 1)\", \"label\": \"0.5\", \"color\": \"blue\", \"from\": 0, \"to\": 1}, {\"title\": \"1: (0, 3)\", \"label\": \"0.5\", \"color\": \"blue\", \"from\": 0, \"to\": 3}, {\"title\": \"2: (1, 2)\", \"label\": \"0.5\", \"color\": \"blue\", \"from\": 1, \"to\": 2}, {\"title\": \"3: (2, 3)\", \"label\": \"0.5\", \"color\": \"blue\", \"from\": 2, \"to\": 3}, {\"title\": \"4: (3, 4)\", \"label\": \"1\", \"color\": \"blue\", \"from\": 3, \"to\": 4}]);\n",
       "    const data = {\n",
       "            nodes: nodes,\n",
       "            edges: edges,\n",
       "    };\n",
       "    const options = {\"interaction\": {\"navigationButtons\": false}, \"width\": \"100%\", \"height\": \"200px\"};\n",
       "    const container = document.getElementById('d6b99cac-fca5-42ff-819d-656df5a408b0');\n",
       "    const network = new Network(container, data, options);\n",
       "    network.fit({maxZoomLevel: 10});\n",
       "    network.redraw();\n",
       "}\n",
       "\n",
       "render();\n",
       "document.getElementById('fit-d6b99cac-fca5-42ff-819d-656df5a408b0').addEventListener('click', function(event) {\n",
       "    event.preventDefault();  // Prevent page jump\n",
       "    render(); // Adjust zoom limit as needed\n",
       "});\n",
       "</script>\n"
      ],
      "text/plain": [
       "<IPython.core.display.HTML object>"
      ]
     },
     "metadata": {},
     "output_type": "display_data"
    }
   ],
   "source": [
    "tadpole.rates = [1, 1, 1, 2, 1]\n",
    "tadpole.show_flow()"
   ]
  },
  {
   "cell_type": "markdown",
   "id": "60b28965",
   "metadata": {},
   "source": [
    "Note that the respect of the conservation law is not sufficient for stability: the fact that the graph is not surjective forbids stability."
   ]
  },
  {
   "cell_type": "code",
   "execution_count": 14,
   "id": "95c24a1b",
   "metadata": {
    "ExecuteTime": {
     "end_time": "2022-01-24T14:38:45.752883Z",
     "start_time": "2022-01-24T14:38:45.738605Z"
    },
    "execution": {
     "iopub.execute_input": "2025-09-27T14:18:39.239233Z",
     "iopub.status.busy": "2025-09-27T14:18:39.239233Z",
     "iopub.status.idle": "2025-09-27T14:18:39.247133Z",
     "shell.execute_reply": "2025-09-27T14:18:39.247133Z",
     "shell.execute_reply.started": "2025-09-27T14:18:39.239233Z"
    }
   },
   "outputs": [
    {
     "data": {
      "text/plain": [
       "False"
      ]
     },
     "execution_count": 14,
     "metadata": {},
     "output_type": "execute_result"
    }
   ],
   "source": [
    "tadpole.stabilizable"
   ]
  },
  {
   "cell_type": "markdown",
   "id": "18820273",
   "metadata": {},
   "source": [
    "This does not forbid considering the vertices of the positive solutions."
   ]
  },
  {
   "cell_type": "code",
   "execution_count": 15,
   "id": "8fa449e2",
   "metadata": {
    "ExecuteTime": {
     "end_time": "2022-01-24T14:38:45.767990Z",
     "start_time": "2022-01-24T14:38:45.755578Z"
    },
    "execution": {
     "iopub.execute_input": "2025-09-27T14:18:39.248138Z",
     "iopub.status.busy": "2025-09-27T14:18:39.248138Z",
     "iopub.status.idle": "2025-09-27T14:18:39.254578Z",
     "shell.execute_reply": "2025-09-27T14:18:39.253570Z",
     "shell.execute_reply.started": "2025-09-27T14:18:39.248138Z"
    }
   },
   "outputs": [
    {
     "data": {
      "text/plain": [
       "[{'kernel_coordinates': array([-0.5]),\n",
       "  'edge_coordinates': array([0., 1., 1., 0., 1.]),\n",
       "  'null_edges': [0, 3],\n",
       "  'bijective': False},\n",
       " {'kernel_coordinates': array([0.5]),\n",
       "  'edge_coordinates': array([1., 0., 0., 1., 1.]),\n",
       "  'null_edges': [1, 2],\n",
       "  'bijective': False}]"
      ]
     },
     "execution_count": 15,
     "metadata": {},
     "output_type": "execute_result"
    }
   ],
   "source": [
    "tadpole.vertices"
   ]
  },
  {
   "cell_type": "code",
   "execution_count": 16,
   "id": "b2644dad",
   "metadata": {
    "ExecuteTime": {
     "end_time": "2022-01-24T14:38:45.783285Z",
     "start_time": "2022-01-24T14:38:45.769039Z"
    },
    "execution": {
     "iopub.execute_input": "2025-09-27T14:18:39.255578Z",
     "iopub.status.busy": "2025-09-27T14:18:39.254578Z",
     "iopub.status.idle": "2025-09-27T14:18:39.261577Z",
     "shell.execute_reply": "2025-09-27T14:18:39.261577Z",
     "shell.execute_reply.started": "2025-09-27T14:18:39.255578Z"
    }
   },
   "outputs": [
    {
     "data": {
      "text/html": [
       "\n",
       "<div class=\"sm-graph\" id=\"box-5e9baf67-f8bb-4693-b911-a9ca8c6d21a6\">\n",
       "<div id=\"5e9baf67-f8bb-4693-b911-a9ca8c6d21a6\"></div>\n",
       "<a href=\"#\" id=\"fit-5e9baf67-f8bb-4693-b911-a9ca8c6d21a6\"\n",
       "  style=\"position: absolute; left: 10px; bottom: 10px; text-decoration: none; color: #888; font-size: min(2vw, 10px);\n",
       "  z-index: 10; pointer-events: auto;\"\n",
       "> Reload\n",
       "</a>\n",
       "<style>\n",
       "#box-5e9baf67-f8bb-4693-b911-a9ca8c6d21a6 {\n",
       "position: relative;\n",
       "width: 100%;\n",
       "height: 200px !important;\n",
       "max-width: 100vw;\n",
       "max-height: 100vh !important;\n",
       "}\n",
       "#5e9baf67-f8bb-4693-b911-a9ca8c6d21a6 {\n",
       "  height: 100%;   /* Make the inner div fill the parent */\n",
       "}\n",
       "</style>\n",
       "</div>\n",
       "<script type=\"module\">\n",
       "import { DataSet, Network } from \"https://unpkg.com/vis-network/standalone/esm/vis-network.min.js\";\n",
       "// CSS will be automatically injected into the page.\n",
       "function render () {\n",
       "    const nodes = new DataSet([{\"id\": 0, \"label\": \"0\", \"title\": \"0\"}, {\"id\": 1, \"label\": \"1\", \"title\": \"1\"}, {\"id\": 2, \"label\": \"2\", \"title\": \"2\"}, {\"id\": 3, \"label\": \"3\", \"title\": \"3\"}, {\"id\": 4, \"label\": \"4\", \"title\": \"4\"}]);\n",
       "    const edges = new DataSet([{\"title\": \"0: (0, 1)\", \"label\": \"\", \"color\": \"orange\", \"from\": 0, \"to\": 1}, {\"title\": \"1: (0, 3)\", \"label\": \"1\", \"color\": \"blue\", \"from\": 0, \"to\": 3}, {\"title\": \"2: (1, 2)\", \"label\": \"1\", \"color\": \"blue\", \"from\": 1, \"to\": 2}, {\"title\": \"3: (2, 3)\", \"label\": \"\", \"color\": \"orange\", \"from\": 2, \"to\": 3}, {\"title\": \"4: (3, 4)\", \"label\": \"1\", \"color\": \"blue\", \"from\": 3, \"to\": 4}]);\n",
       "    const data = {\n",
       "            nodes: nodes,\n",
       "            edges: edges,\n",
       "    };\n",
       "    const options = {\"interaction\": {\"navigationButtons\": false}, \"width\": \"100%\", \"height\": \"200px\"};\n",
       "    const container = document.getElementById('5e9baf67-f8bb-4693-b911-a9ca8c6d21a6');\n",
       "    const network = new Network(container, data, options);\n",
       "    network.fit({maxZoomLevel: 10});\n",
       "    network.redraw();\n",
       "}\n",
       "\n",
       "render();\n",
       "document.getElementById('fit-5e9baf67-f8bb-4693-b911-a9ca8c6d21a6').addEventListener('click', function(event) {\n",
       "    event.preventDefault();  // Prevent page jump\n",
       "    render(); // Adjust zoom limit as needed\n",
       "});\n",
       "</script>\n"
      ],
      "text/plain": [
       "<IPython.core.display.HTML object>"
      ]
     },
     "metadata": {},
     "output_type": "display_data"
    },
    {
     "data": {
      "text/html": [
       "\n",
       "<div class=\"sm-graph\" id=\"box-489202ff-53e1-449a-b705-a43475416c2f\">\n",
       "<div id=\"489202ff-53e1-449a-b705-a43475416c2f\"></div>\n",
       "<a href=\"#\" id=\"fit-489202ff-53e1-449a-b705-a43475416c2f\"\n",
       "  style=\"position: absolute; left: 10px; bottom: 10px; text-decoration: none; color: #888; font-size: min(2vw, 10px);\n",
       "  z-index: 10; pointer-events: auto;\"\n",
       "> Reload\n",
       "</a>\n",
       "<style>\n",
       "#box-489202ff-53e1-449a-b705-a43475416c2f {\n",
       "position: relative;\n",
       "width: 100%;\n",
       "height: 200px !important;\n",
       "max-width: 100vw;\n",
       "max-height: 100vh !important;\n",
       "}\n",
       "#489202ff-53e1-449a-b705-a43475416c2f {\n",
       "  height: 100%;   /* Make the inner div fill the parent */\n",
       "}\n",
       "</style>\n",
       "</div>\n",
       "<script type=\"module\">\n",
       "import { DataSet, Network } from \"https://unpkg.com/vis-network/standalone/esm/vis-network.min.js\";\n",
       "// CSS will be automatically injected into the page.\n",
       "function render () {\n",
       "    const nodes = new DataSet([{\"id\": 0, \"label\": \"0\", \"title\": \"0\"}, {\"id\": 1, \"label\": \"1\", \"title\": \"1\"}, {\"id\": 2, \"label\": \"2\", \"title\": \"2\"}, {\"id\": 3, \"label\": \"3\", \"title\": \"3\"}, {\"id\": 4, \"label\": \"4\", \"title\": \"4\"}]);\n",
       "    const edges = new DataSet([{\"title\": \"0: (0, 1)\", \"label\": \"1\", \"color\": \"blue\", \"from\": 0, \"to\": 1}, {\"title\": \"1: (0, 3)\", \"label\": \"\", \"color\": \"orange\", \"from\": 0, \"to\": 3}, {\"title\": \"2: (1, 2)\", \"label\": \"\", \"color\": \"orange\", \"from\": 1, \"to\": 2}, {\"title\": \"3: (2, 3)\", \"label\": \"1\", \"color\": \"blue\", \"from\": 2, \"to\": 3}, {\"title\": \"4: (3, 4)\", \"label\": \"1\", \"color\": \"blue\", \"from\": 3, \"to\": 4}]);\n",
       "    const data = {\n",
       "            nodes: nodes,\n",
       "            edges: edges,\n",
       "    };\n",
       "    const options = {\"interaction\": {\"navigationButtons\": false}, \"width\": \"100%\", \"height\": \"200px\"};\n",
       "    const container = document.getElementById('489202ff-53e1-449a-b705-a43475416c2f');\n",
       "    const network = new Network(container, data, options);\n",
       "    network.fit({maxZoomLevel: 10});\n",
       "    network.redraw();\n",
       "}\n",
       "\n",
       "render();\n",
       "document.getElementById('fit-489202ff-53e1-449a-b705-a43475416c2f').addEventListener('click', function(event) {\n",
       "    event.preventDefault();  // Prevent page jump\n",
       "    render(); // Adjust zoom limit as needed\n",
       "});\n",
       "</script>\n"
      ],
      "text/plain": [
       "<IPython.core.display.HTML object>"
      ]
     },
     "metadata": {},
     "output_type": "display_data"
    }
   ],
   "source": [
    "for i in range(len(tadpole.vertices)):\n",
    "    tadpole.show_vertex(i, disp_rates=False)"
   ]
  },
  {
   "cell_type": "markdown",
   "id": "3af59ecd",
   "metadata": {},
   "source": [
    "## The diamond graph"
   ]
  },
  {
   "cell_type": "markdown",
   "id": "aad09999",
   "metadata": {},
   "source": [
    "Consider the following diamond:"
   ]
  },
  {
   "cell_type": "code",
   "execution_count": 17,
   "id": "7272abee",
   "metadata": {
    "ExecuteTime": {
     "end_time": "2022-01-24T14:38:45.798452Z",
     "start_time": "2022-01-24T14:38:45.785278Z"
    },
    "execution": {
     "iopub.execute_input": "2025-09-27T14:18:39.262819Z",
     "iopub.status.busy": "2025-09-27T14:18:39.262819Z",
     "iopub.status.idle": "2025-09-27T14:18:39.268713Z",
     "shell.execute_reply": "2025-09-27T14:18:39.268713Z",
     "shell.execute_reply.started": "2025-09-27T14:18:39.262819Z"
    }
   },
   "outputs": [
    {
     "data": {
      "text/html": [
       "\n",
       "<div class=\"sm-graph\" id=\"box-adae7399-ee26-4060-a6ec-82aa6aedcdda\">\n",
       "<div id=\"adae7399-ee26-4060-a6ec-82aa6aedcdda\"></div>\n",
       "<a href=\"#\" id=\"fit-adae7399-ee26-4060-a6ec-82aa6aedcdda\"\n",
       "  style=\"position: absolute; left: 10px; bottom: 10px; text-decoration: none; color: #888; font-size: min(2vw, 10px);\n",
       "  z-index: 10; pointer-events: auto;\"\n",
       "> Reload\n",
       "</a>\n",
       "<style>\n",
       "#box-adae7399-ee26-4060-a6ec-82aa6aedcdda {\n",
       "position: relative;\n",
       "width: 100%;\n",
       "height: 200px !important;\n",
       "max-width: 100vw;\n",
       "max-height: 100vh !important;\n",
       "}\n",
       "#adae7399-ee26-4060-a6ec-82aa6aedcdda {\n",
       "  height: 100%;   /* Make the inner div fill the parent */\n",
       "}\n",
       "</style>\n",
       "</div>\n",
       "<script type=\"module\">\n",
       "import { DataSet, Network } from \"https://unpkg.com/vis-network/standalone/esm/vis-network.min.js\";\n",
       "// CSS will be automatically injected into the page.\n",
       "function render () {\n",
       "    const nodes = new DataSet([{\"id\": 0, \"label\": \"0\", \"title\": \"0\"}, {\"id\": 1, \"label\": \"1\", \"title\": \"1\"}, {\"id\": 2, \"label\": \"2\", \"title\": \"2\"}, {\"id\": 3, \"label\": \"3\", \"title\": \"3\"}]);\n",
       "    const edges = new DataSet([{\"title\": \"0: (0, 1)\", \"label\": \"\", \"from\": 0, \"to\": 1}, {\"title\": \"1: (0, 2)\", \"label\": \"\", \"from\": 0, \"to\": 2}, {\"title\": \"2: (1, 2)\", \"label\": \"\", \"from\": 1, \"to\": 2}, {\"title\": \"3: (1, 3)\", \"label\": \"\", \"from\": 1, \"to\": 3}, {\"title\": \"4: (2, 3)\", \"label\": \"\", \"from\": 2, \"to\": 3}]);\n",
       "    const data = {\n",
       "            nodes: nodes,\n",
       "            edges: edges,\n",
       "    };\n",
       "    const options = {\"interaction\": {\"navigationButtons\": false}, \"width\": \"100%\", \"height\": \"200px\"};\n",
       "    const container = document.getElementById('adae7399-ee26-4060-a6ec-82aa6aedcdda');\n",
       "    const network = new Network(container, data, options);\n",
       "    network.fit({maxZoomLevel: 10});\n",
       "    network.redraw();\n",
       "}\n",
       "\n",
       "render();\n",
       "document.getElementById('fit-adae7399-ee26-4060-a6ec-82aa6aedcdda').addEventListener('click', function(event) {\n",
       "    event.preventDefault();  // Prevent page jump\n",
       "    render(); // Adjust zoom limit as needed\n",
       "});\n",
       "</script>\n"
      ],
      "text/plain": [
       "<IPython.core.display.HTML object>"
      ]
     },
     "metadata": {},
     "output_type": "display_data"
    }
   ],
   "source": [
    "diamond = sm.CycleChain(rates=\"uniform\")\n",
    "diamond.show_graph()"
   ]
  },
  {
   "cell_type": "markdown",
   "id": "07965089",
   "metadata": {},
   "source": [
    "The graph structure is as follows:"
   ]
  },
  {
   "cell_type": "code",
   "execution_count": 18,
   "id": "fee5b584",
   "metadata": {
    "ExecuteTime": {
     "end_time": "2022-01-24T14:38:45.814466Z",
     "start_time": "2022-01-24T14:38:45.800254Z"
    },
    "execution": {
     "iopub.execute_input": "2025-09-27T14:18:39.270720Z",
     "iopub.status.busy": "2025-09-27T14:18:39.269720Z",
     "iopub.status.idle": "2025-09-27T14:18:39.276077Z",
     "shell.execute_reply": "2025-09-27T14:18:39.275069Z",
     "shell.execute_reply.started": "2025-09-27T14:18:39.270720Z"
    }
   },
   "outputs": [
    {
     "data": {
      "text/plain": [
       "Kernels of a graph with 4 nodes and 5 edges.\n",
       "Node dimension is 0.\n",
       "Edge dimension is 1\n",
       "Type: Surjective-only\n",
       "Node kernel:\n",
       "[]\n",
       "Edge kernel:\n",
       "[[ 1 -1  0 -1  1]]"
      ]
     },
     "execution_count": 18,
     "metadata": {},
     "output_type": "execute_result"
    }
   ],
   "source": [
    "diamond.kernel"
   ]
  },
  {
   "cell_type": "markdown",
   "id": "c5eb3087",
   "metadata": {
    "ExecuteTime": {
     "end_time": "2022-01-24T13:28:09.622625Z",
     "start_time": "2022-01-24T13:28:09.606990Z"
    }
   },
   "source": [
    "We can look at the kernel structure."
   ]
  },
  {
   "cell_type": "code",
   "execution_count": 19,
   "id": "27457740",
   "metadata": {
    "ExecuteTime": {
     "end_time": "2022-01-24T14:38:45.828987Z",
     "start_time": "2022-01-24T14:38:45.815989Z"
    },
    "execution": {
     "iopub.execute_input": "2025-09-27T14:18:39.277077Z",
     "iopub.status.busy": "2025-09-27T14:18:39.276077Z",
     "iopub.status.idle": "2025-09-27T14:18:39.282588Z",
     "shell.execute_reply": "2025-09-27T14:18:39.282588Z",
     "shell.execute_reply.started": "2025-09-27T14:18:39.277077Z"
    }
   },
   "outputs": [
    {
     "data": {
      "text/html": [
       "\n",
       "<div class=\"sm-graph\" id=\"box-634b34d0-e8a1-4854-a96f-dffe2728088f\">\n",
       "<div id=\"634b34d0-e8a1-4854-a96f-dffe2728088f\"></div>\n",
       "<a href=\"#\" id=\"fit-634b34d0-e8a1-4854-a96f-dffe2728088f\"\n",
       "  style=\"position: absolute; left: 10px; bottom: 10px; text-decoration: none; color: #888; font-size: min(2vw, 10px);\n",
       "  z-index: 10; pointer-events: auto;\"\n",
       "> Reload\n",
       "</a>\n",
       "<style>\n",
       "#box-634b34d0-e8a1-4854-a96f-dffe2728088f {\n",
       "position: relative;\n",
       "width: 100%;\n",
       "height: 200px !important;\n",
       "max-width: 100vw;\n",
       "max-height: 100vh !important;\n",
       "}\n",
       "#634b34d0-e8a1-4854-a96f-dffe2728088f {\n",
       "  height: 100%;   /* Make the inner div fill the parent */\n",
       "}\n",
       "</style>\n",
       "</div>\n",
       "<script type=\"module\">\n",
       "import { DataSet, Network } from \"https://unpkg.com/vis-network/standalone/esm/vis-network.min.js\";\n",
       "// CSS will be automatically injected into the page.\n",
       "function render () {\n",
       "    const nodes = new DataSet([{\"id\": 0, \"label\": \"1\", \"title\": \"0\"}, {\"id\": 1, \"label\": \"1\", \"title\": \"1\"}, {\"id\": 2, \"label\": \"1\", \"title\": \"2\"}, {\"id\": 3, \"label\": \"1\", \"title\": \"3\"}]);\n",
       "    const edges = new DataSet([{\"title\": \"0: (0, 1)\", \"label\": \"0.5+\\u03b11\", \"from\": 0, \"to\": 1}, {\"title\": \"1: (0, 2)\", \"label\": \"0.5-\\u03b11\", \"from\": 0, \"to\": 2}, {\"title\": \"2: (1, 2)\", \"label\": \"\", \"color\": \"black\", \"from\": 1, \"to\": 2}, {\"title\": \"3: (1, 3)\", \"label\": \"0.5-\\u03b11\", \"from\": 1, \"to\": 3}, {\"title\": \"4: (2, 3)\", \"label\": \"0.5+\\u03b11\", \"from\": 2, \"to\": 3}]);\n",
       "    const data = {\n",
       "            nodes: nodes,\n",
       "            edges: edges,\n",
       "    };\n",
       "    const options = {\"interaction\": {\"navigationButtons\": false}, \"width\": \"100%\", \"height\": \"200px\"};\n",
       "    const container = document.getElementById('634b34d0-e8a1-4854-a96f-dffe2728088f');\n",
       "    const network = new Network(container, data, options);\n",
       "    network.fit({maxZoomLevel: 10});\n",
       "    network.redraw();\n",
       "}\n",
       "\n",
       "render();\n",
       "document.getElementById('fit-634b34d0-e8a1-4854-a96f-dffe2728088f').addEventListener('click', function(event) {\n",
       "    event.preventDefault();  // Prevent page jump\n",
       "    render(); // Adjust zoom limit as needed\n",
       "});\n",
       "</script>\n"
      ],
      "text/plain": [
       "<IPython.core.display.HTML object>"
      ]
     },
     "metadata": {},
     "output_type": "display_data"
    }
   ],
   "source": [
    "diamond.show_kernel(disp_flow=True)"
   ]
  },
  {
   "cell_type": "markdown",
   "id": "cf11e536",
   "metadata": {},
   "source": [
    "We observe a null edge. As it is black (outside the edge kernel), it will remain null in all solutions of the conservation equation. In other words, the model is not stabilizable."
   ]
  },
  {
   "cell_type": "code",
   "execution_count": 20,
   "id": "b1bad3e9",
   "metadata": {
    "ExecuteTime": {
     "end_time": "2022-01-24T14:38:45.844878Z",
     "start_time": "2022-01-24T14:38:45.830995Z"
    },
    "execution": {
     "iopub.execute_input": "2025-09-27T14:18:39.283677Z",
     "iopub.status.busy": "2025-09-27T14:18:39.283677Z",
     "iopub.status.idle": "2025-09-27T14:18:39.290087Z",
     "shell.execute_reply": "2025-09-27T14:18:39.290087Z",
     "shell.execute_reply.started": "2025-09-27T14:18:39.283677Z"
    }
   },
   "outputs": [
    {
     "data": {
      "text/plain": [
       "False"
      ]
     },
     "execution_count": 20,
     "metadata": {},
     "output_type": "execute_result"
    }
   ],
   "source": [
    "diamond.stabilizable"
   ]
  },
  {
   "cell_type": "markdown",
   "id": "522c07fb",
   "metadata": {},
   "source": [
    "Let make it stabilizable."
   ]
  },
  {
   "cell_type": "code",
   "execution_count": 21,
   "id": "8a4cbdab",
   "metadata": {
    "ExecuteTime": {
     "end_time": "2022-01-24T14:38:45.860356Z",
     "start_time": "2022-01-24T14:38:45.846164Z"
    },
    "execution": {
     "iopub.execute_input": "2025-09-27T14:18:39.295096Z",
     "iopub.status.busy": "2025-09-27T14:18:39.294093Z",
     "iopub.status.idle": "2025-09-27T14:18:39.298094Z",
     "shell.execute_reply": "2025-09-27T14:18:39.298094Z",
     "shell.execute_reply.started": "2025-09-27T14:18:39.295096Z"
    }
   },
   "outputs": [],
   "source": [
    "diamond.rates = [2, 3, 2, 1]"
   ]
  },
  {
   "cell_type": "code",
   "execution_count": 22,
   "id": "dfa70ec9",
   "metadata": {
    "ExecuteTime": {
     "end_time": "2022-01-24T14:38:45.875919Z",
     "start_time": "2022-01-24T14:38:45.861744Z"
    },
    "execution": {
     "iopub.execute_input": "2025-09-27T14:18:39.299243Z",
     "iopub.status.busy": "2025-09-27T14:18:39.299243Z",
     "iopub.status.idle": "2025-09-27T14:18:39.306481Z",
     "shell.execute_reply": "2025-09-27T14:18:39.305244Z",
     "shell.execute_reply.started": "2025-09-27T14:18:39.299243Z"
    }
   },
   "outputs": [
    {
     "data": {
      "text/html": [
       "\n",
       "<div class=\"sm-graph\" id=\"box-b9ae3f0b-f1aa-43dc-9c39-a9e8310963d0\">\n",
       "<div id=\"b9ae3f0b-f1aa-43dc-9c39-a9e8310963d0\"></div>\n",
       "<a href=\"#\" id=\"fit-b9ae3f0b-f1aa-43dc-9c39-a9e8310963d0\"\n",
       "  style=\"position: absolute; left: 10px; bottom: 10px; text-decoration: none; color: #888; font-size: min(2vw, 10px);\n",
       "  z-index: 10; pointer-events: auto;\"\n",
       "> Reload\n",
       "</a>\n",
       "<style>\n",
       "#box-b9ae3f0b-f1aa-43dc-9c39-a9e8310963d0 {\n",
       "position: relative;\n",
       "width: 100%;\n",
       "height: 200px !important;\n",
       "max-width: 100vw;\n",
       "max-height: 100vh !important;\n",
       "}\n",
       "#b9ae3f0b-f1aa-43dc-9c39-a9e8310963d0 {\n",
       "  height: 100%;   /* Make the inner div fill the parent */\n",
       "}\n",
       "</style>\n",
       "</div>\n",
       "<script type=\"module\">\n",
       "import { DataSet, Network } from \"https://unpkg.com/vis-network/standalone/esm/vis-network.min.js\";\n",
       "// CSS will be automatically injected into the page.\n",
       "function render () {\n",
       "    const nodes = new DataSet([{\"id\": 0, \"label\": \"2\", \"title\": \"0\"}, {\"id\": 1, \"label\": \"3\", \"title\": \"1\"}, {\"id\": 2, \"label\": \"2\", \"title\": \"2\"}, {\"id\": 3, \"label\": \"1\", \"title\": \"3\"}]);\n",
       "    const edges = new DataSet([{\"title\": \"0: (0, 1)\", \"label\": \"1.25+\\u03b11\", \"from\": 0, \"to\": 1}, {\"title\": \"1: (0, 2)\", \"label\": \"0.75-\\u03b11\", \"from\": 0, \"to\": 2}, {\"title\": \"2: (1, 2)\", \"label\": \"1\", \"color\": \"black\", \"from\": 1, \"to\": 2}, {\"title\": \"3: (1, 3)\", \"label\": \"0.75-\\u03b11\", \"from\": 1, \"to\": 3}, {\"title\": \"4: (2, 3)\", \"label\": \"0.25+\\u03b11\", \"from\": 2, \"to\": 3}]);\n",
       "    const data = {\n",
       "            nodes: nodes,\n",
       "            edges: edges,\n",
       "    };\n",
       "    const options = {\"interaction\": {\"navigationButtons\": false}, \"width\": \"100%\", \"height\": \"200px\"};\n",
       "    const container = document.getElementById('b9ae3f0b-f1aa-43dc-9c39-a9e8310963d0');\n",
       "    const network = new Network(container, data, options);\n",
       "    network.fit({maxZoomLevel: 10});\n",
       "    network.redraw();\n",
       "}\n",
       "\n",
       "render();\n",
       "document.getElementById('fit-b9ae3f0b-f1aa-43dc-9c39-a9e8310963d0').addEventListener('click', function(event) {\n",
       "    event.preventDefault();  // Prevent page jump\n",
       "    render(); // Adjust zoom limit as needed\n",
       "});\n",
       "</script>\n"
      ],
      "text/plain": [
       "<IPython.core.display.HTML object>"
      ]
     },
     "metadata": {},
     "output_type": "display_data"
    }
   ],
   "source": [
    "diamond.show_kernel(disp_flow=True)"
   ]
  },
  {
   "cell_type": "markdown",
   "id": "1ab1069f",
   "metadata": {},
   "source": [
    "Better! Note that the represented base flow is the Moore-Penrose inverse. We can use the maximin flow if we prefer."
   ]
  },
  {
   "cell_type": "code",
   "execution_count": 23,
   "id": "e98812b6",
   "metadata": {
    "ExecuteTime": {
     "end_time": "2022-01-24T14:38:45.891711Z",
     "start_time": "2022-01-24T14:38:45.877708Z"
    },
    "execution": {
     "iopub.execute_input": "2025-09-27T14:18:39.307481Z",
     "iopub.status.busy": "2025-09-27T14:18:39.306481Z",
     "iopub.status.idle": "2025-09-27T14:18:39.314096Z",
     "shell.execute_reply": "2025-09-27T14:18:39.314096Z",
     "shell.execute_reply.started": "2025-09-27T14:18:39.307481Z"
    }
   },
   "outputs": [
    {
     "data": {
      "text/html": [
       "\n",
       "<div class=\"sm-graph\" id=\"box-0fba85fe-807c-43ea-b029-29625246ed9c\">\n",
       "<div id=\"0fba85fe-807c-43ea-b029-29625246ed9c\"></div>\n",
       "<a href=\"#\" id=\"fit-0fba85fe-807c-43ea-b029-29625246ed9c\"\n",
       "  style=\"position: absolute; left: 10px; bottom: 10px; text-decoration: none; color: #888; font-size: min(2vw, 10px);\n",
       "  z-index: 10; pointer-events: auto;\"\n",
       "> Reload\n",
       "</a>\n",
       "<style>\n",
       "#box-0fba85fe-807c-43ea-b029-29625246ed9c {\n",
       "position: relative;\n",
       "width: 100%;\n",
       "height: 200px !important;\n",
       "max-width: 100vw;\n",
       "max-height: 100vh !important;\n",
       "}\n",
       "#0fba85fe-807c-43ea-b029-29625246ed9c {\n",
       "  height: 100%;   /* Make the inner div fill the parent */\n",
       "}\n",
       "</style>\n",
       "</div>\n",
       "<script type=\"module\">\n",
       "import { DataSet, Network } from \"https://unpkg.com/vis-network/standalone/esm/vis-network.min.js\";\n",
       "// CSS will be automatically injected into the page.\n",
       "function render () {\n",
       "    const nodes = new DataSet([{\"id\": 0, \"label\": \"2\", \"title\": \"0\"}, {\"id\": 1, \"label\": \"3\", \"title\": \"1\"}, {\"id\": 2, \"label\": \"2\", \"title\": \"2\"}, {\"id\": 3, \"label\": \"1\", \"title\": \"3\"}]);\n",
       "    const edges = new DataSet([{\"title\": \"0: (0, 1)\", \"label\": \"1.5+\\u03b11\", \"from\": 0, \"to\": 1}, {\"title\": \"1: (0, 2)\", \"label\": \"0.5-\\u03b11\", \"from\": 0, \"to\": 2}, {\"title\": \"2: (1, 2)\", \"label\": \"1\", \"color\": \"black\", \"from\": 1, \"to\": 2}, {\"title\": \"3: (1, 3)\", \"label\": \"0.5-\\u03b11\", \"from\": 1, \"to\": 3}, {\"title\": \"4: (2, 3)\", \"label\": \"0.5+\\u03b11\", \"from\": 2, \"to\": 3}]);\n",
       "    const data = {\n",
       "            nodes: nodes,\n",
       "            edges: edges,\n",
       "    };\n",
       "    const options = {\"interaction\": {\"navigationButtons\": false}, \"width\": \"100%\", \"height\": \"200px\"};\n",
       "    const container = document.getElementById('0fba85fe-807c-43ea-b029-29625246ed9c');\n",
       "    const network = new Network(container, data, options);\n",
       "    network.fit({maxZoomLevel: 10});\n",
       "    network.redraw();\n",
       "}\n",
       "\n",
       "render();\n",
       "document.getElementById('fit-0fba85fe-807c-43ea-b029-29625246ed9c').addEventListener('click', function(event) {\n",
       "    event.preventDefault();  // Prevent page jump\n",
       "    render(); // Adjust zoom limit as needed\n",
       "});\n",
       "</script>\n"
      ],
      "text/plain": [
       "<IPython.core.display.HTML object>"
      ]
     },
     "metadata": {},
     "output_type": "display_data"
    }
   ],
   "source": [
    "diamond.show_kernel(disp_flow=True, flow=diamond.maximin)"
   ]
  },
  {
   "cell_type": "markdown",
   "id": "e55493e7",
   "metadata": {},
   "source": [
    "Another feature: looking the incompressible flow, which is the minimal rate achieved in any positive solution."
   ]
  },
  {
   "cell_type": "code",
   "execution_count": 24,
   "id": "07bb1397",
   "metadata": {
    "ExecuteTime": {
     "end_time": "2022-01-24T14:38:45.907485Z",
     "start_time": "2022-01-24T14:38:45.893247Z"
    },
    "execution": {
     "iopub.execute_input": "2025-09-27T14:18:39.315107Z",
     "iopub.status.busy": "2025-09-27T14:18:39.315107Z",
     "iopub.status.idle": "2025-09-27T14:18:39.328805Z",
     "shell.execute_reply": "2025-09-27T14:18:39.328805Z",
     "shell.execute_reply.started": "2025-09-27T14:18:39.315107Z"
    }
   },
   "outputs": [
    {
     "data": {
      "text/html": [
       "\n",
       "<div class=\"sm-graph\" id=\"box-4d728b9c-acca-46e9-bc9f-9c5d99f57ff8\">\n",
       "<div id=\"4d728b9c-acca-46e9-bc9f-9c5d99f57ff8\"></div>\n",
       "<a href=\"#\" id=\"fit-4d728b9c-acca-46e9-bc9f-9c5d99f57ff8\"\n",
       "  style=\"position: absolute; left: 10px; bottom: 10px; text-decoration: none; color: #888; font-size: min(2vw, 10px);\n",
       "  z-index: 10; pointer-events: auto;\"\n",
       "> Reload\n",
       "</a>\n",
       "<style>\n",
       "#box-4d728b9c-acca-46e9-bc9f-9c5d99f57ff8 {\n",
       "position: relative;\n",
       "width: 100%;\n",
       "height: 200px !important;\n",
       "max-width: 100vw;\n",
       "max-height: 100vh !important;\n",
       "}\n",
       "#4d728b9c-acca-46e9-bc9f-9c5d99f57ff8 {\n",
       "  height: 100%;   /* Make the inner div fill the parent */\n",
       "}\n",
       "</style>\n",
       "</div>\n",
       "<script type=\"module\">\n",
       "import { DataSet, Network } from \"https://unpkg.com/vis-network/standalone/esm/vis-network.min.js\";\n",
       "// CSS will be automatically injected into the page.\n",
       "function render () {\n",
       "    const nodes = new DataSet([{\"id\": 0, \"label\": \"2\", \"title\": \"0\"}, {\"id\": 1, \"label\": \"3\", \"title\": \"1\"}, {\"id\": 2, \"label\": \"2\", \"title\": \"2\"}, {\"id\": 3, \"label\": \"1\", \"title\": \"3\"}]);\n",
       "    const edges = new DataSet([{\"title\": \"0: (0, 1)\", \"label\": \"1\", \"from\": 0, \"to\": 1}, {\"title\": \"1: (0, 2)\", \"label\": \"\", \"from\": 0, \"to\": 2}, {\"title\": \"2: (1, 2)\", \"label\": \"1\", \"from\": 1, \"to\": 2}, {\"title\": \"3: (1, 3)\", \"label\": \"\", \"from\": 1, \"to\": 3}, {\"title\": \"4: (2, 3)\", \"label\": \"\", \"from\": 2, \"to\": 3}]);\n",
       "    const data = {\n",
       "            nodes: nodes,\n",
       "            edges: edges,\n",
       "    };\n",
       "    const options = {\"interaction\": {\"navigationButtons\": false}, \"width\": \"100%\", \"height\": \"200px\"};\n",
       "    const container = document.getElementById('4d728b9c-acca-46e9-bc9f-9c5d99f57ff8');\n",
       "    const network = new Network(container, data, options);\n",
       "    network.fit({maxZoomLevel: 10});\n",
       "    network.redraw();\n",
       "}\n",
       "\n",
       "render();\n",
       "document.getElementById('fit-4d728b9c-acca-46e9-bc9f-9c5d99f57ff8').addEventListener('click', function(event) {\n",
       "    event.preventDefault();  // Prevent page jump\n",
       "    render(); // Adjust zoom limit as needed\n",
       "});\n",
       "</script>\n"
      ],
      "text/plain": [
       "<IPython.core.display.HTML object>"
      ]
     },
     "metadata": {},
     "output_type": "display_data"
    }
   ],
   "source": [
    "diamond.show_flow(flow=diamond.incompressible_flow(), check_flow=False, disp_zero=False)"
   ]
  },
  {
   "cell_type": "markdown",
   "id": "55d3814a",
   "metadata": {},
   "source": [
    "To finish, let have a look at the vertices."
   ]
  },
  {
   "cell_type": "code",
   "execution_count": 25,
   "id": "d15e9f27",
   "metadata": {
    "ExecuteTime": {
     "end_time": "2022-01-24T14:38:45.923144Z",
     "start_time": "2022-01-24T14:38:45.909585Z"
    },
    "execution": {
     "iopub.execute_input": "2025-09-27T14:18:39.329812Z",
     "iopub.status.busy": "2025-09-27T14:18:39.329812Z",
     "iopub.status.idle": "2025-09-27T14:18:39.335736Z",
     "shell.execute_reply": "2025-09-27T14:18:39.335736Z",
     "shell.execute_reply.started": "2025-09-27T14:18:39.329812Z"
    }
   },
   "outputs": [
    {
     "data": {
      "text/plain": [
       "[{'kernel_coordinates': array([-0.25]),\n",
       "  'edge_coordinates': array([1., 1., 1., 1., 0.]),\n",
       "  'null_edges': [4],\n",
       "  'bijective': True},\n",
       " {'kernel_coordinates': array([0.75]),\n",
       "  'edge_coordinates': array([2., 0., 1., 0., 1.]),\n",
       "  'null_edges': [1, 3],\n",
       "  'bijective': False}]"
      ]
     },
     "execution_count": 25,
     "metadata": {},
     "output_type": "execute_result"
    }
   ],
   "source": [
    "diamond.vertices"
   ]
  },
  {
   "cell_type": "code",
   "execution_count": 26,
   "id": "22d7c2ef",
   "metadata": {
    "ExecuteTime": {
     "end_time": "2022-01-24T14:38:45.939492Z",
     "start_time": "2022-01-24T14:38:45.925146Z"
    },
    "execution": {
     "iopub.execute_input": "2025-09-27T14:18:39.336742Z",
     "iopub.status.busy": "2025-09-27T14:18:39.336742Z",
     "iopub.status.idle": "2025-09-27T14:18:39.343012Z",
     "shell.execute_reply": "2025-09-27T14:18:39.343012Z",
     "shell.execute_reply.started": "2025-09-27T14:18:39.336742Z"
    }
   },
   "outputs": [
    {
     "data": {
      "text/html": [
       "\n",
       "<div class=\"sm-graph\" id=\"box-1523c5e2-3acc-4aa4-a2fa-26d64904de22\">\n",
       "<div id=\"1523c5e2-3acc-4aa4-a2fa-26d64904de22\"></div>\n",
       "<a href=\"#\" id=\"fit-1523c5e2-3acc-4aa4-a2fa-26d64904de22\"\n",
       "  style=\"position: absolute; left: 10px; bottom: 10px; text-decoration: none; color: #888; font-size: min(2vw, 10px);\n",
       "  z-index: 10; pointer-events: auto;\"\n",
       "> Reload\n",
       "</a>\n",
       "<style>\n",
       "#box-1523c5e2-3acc-4aa4-a2fa-26d64904de22 {\n",
       "position: relative;\n",
       "width: 100%;\n",
       "height: 200px !important;\n",
       "max-width: 100vw;\n",
       "max-height: 100vh !important;\n",
       "}\n",
       "#1523c5e2-3acc-4aa4-a2fa-26d64904de22 {\n",
       "  height: 100%;   /* Make the inner div fill the parent */\n",
       "}\n",
       "</style>\n",
       "</div>\n",
       "<script type=\"module\">\n",
       "import { DataSet, Network } from \"https://unpkg.com/vis-network/standalone/esm/vis-network.min.js\";\n",
       "// CSS will be automatically injected into the page.\n",
       "function render () {\n",
       "    const nodes = new DataSet([{\"id\": 0, \"label\": \"2\", \"title\": \"0\"}, {\"id\": 1, \"label\": \"3\", \"title\": \"1\"}, {\"id\": 2, \"label\": \"2\", \"title\": \"2\"}, {\"id\": 3, \"label\": \"1\", \"title\": \"3\"}]);\n",
       "    const edges = new DataSet([{\"title\": \"0: (0, 1)\", \"label\": \"1\", \"color\": \"blue\", \"from\": 0, \"to\": 1}, {\"title\": \"1: (0, 2)\", \"label\": \"1\", \"color\": \"blue\", \"from\": 0, \"to\": 2}, {\"title\": \"2: (1, 2)\", \"label\": \"1\", \"color\": \"blue\", \"from\": 1, \"to\": 2}, {\"title\": \"3: (1, 3)\", \"label\": \"1\", \"color\": \"blue\", \"from\": 1, \"to\": 3}, {\"title\": \"4: (2, 3)\", \"label\": \"\", \"color\": \"orange\", \"from\": 2, \"to\": 3}]);\n",
       "    const data = {\n",
       "            nodes: nodes,\n",
       "            edges: edges,\n",
       "    };\n",
       "    const options = {\"interaction\": {\"navigationButtons\": false}, \"width\": \"100%\", \"height\": \"200px\"};\n",
       "    const container = document.getElementById('1523c5e2-3acc-4aa4-a2fa-26d64904de22');\n",
       "    const network = new Network(container, data, options);\n",
       "    network.fit({maxZoomLevel: 10});\n",
       "    network.redraw();\n",
       "}\n",
       "\n",
       "render();\n",
       "document.getElementById('fit-1523c5e2-3acc-4aa4-a2fa-26d64904de22').addEventListener('click', function(event) {\n",
       "    event.preventDefault();  // Prevent page jump\n",
       "    render(); // Adjust zoom limit as needed\n",
       "});\n",
       "</script>\n"
      ],
      "text/plain": [
       "<IPython.core.display.HTML object>"
      ]
     },
     "metadata": {},
     "output_type": "display_data"
    },
    {
     "data": {
      "text/html": [
       "\n",
       "<div class=\"sm-graph\" id=\"box-cf88f586-5b38-4252-aad0-dfbf8f10c5df\">\n",
       "<div id=\"cf88f586-5b38-4252-aad0-dfbf8f10c5df\"></div>\n",
       "<a href=\"#\" id=\"fit-cf88f586-5b38-4252-aad0-dfbf8f10c5df\"\n",
       "  style=\"position: absolute; left: 10px; bottom: 10px; text-decoration: none; color: #888; font-size: min(2vw, 10px);\n",
       "  z-index: 10; pointer-events: auto;\"\n",
       "> Reload\n",
       "</a>\n",
       "<style>\n",
       "#box-cf88f586-5b38-4252-aad0-dfbf8f10c5df {\n",
       "position: relative;\n",
       "width: 100%;\n",
       "height: 200px !important;\n",
       "max-width: 100vw;\n",
       "max-height: 100vh !important;\n",
       "}\n",
       "#cf88f586-5b38-4252-aad0-dfbf8f10c5df {\n",
       "  height: 100%;   /* Make the inner div fill the parent */\n",
       "}\n",
       "</style>\n",
       "</div>\n",
       "<script type=\"module\">\n",
       "import { DataSet, Network } from \"https://unpkg.com/vis-network/standalone/esm/vis-network.min.js\";\n",
       "// CSS will be automatically injected into the page.\n",
       "function render () {\n",
       "    const nodes = new DataSet([{\"id\": 0, \"label\": \"2\", \"title\": \"0\"}, {\"id\": 1, \"label\": \"3\", \"title\": \"1\"}, {\"id\": 2, \"label\": \"2\", \"title\": \"2\"}, {\"id\": 3, \"label\": \"1\", \"title\": \"3\"}]);\n",
       "    const edges = new DataSet([{\"title\": \"0: (0, 1)\", \"label\": \"2\", \"color\": \"blue\", \"from\": 0, \"to\": 1}, {\"title\": \"1: (0, 2)\", \"label\": \"\", \"color\": \"orange\", \"from\": 0, \"to\": 2}, {\"title\": \"2: (1, 2)\", \"label\": \"1\", \"color\": \"blue\", \"from\": 1, \"to\": 2}, {\"title\": \"3: (1, 3)\", \"label\": \"\", \"color\": \"orange\", \"from\": 1, \"to\": 3}, {\"title\": \"4: (2, 3)\", \"label\": \"1\", \"color\": \"blue\", \"from\": 2, \"to\": 3}]);\n",
       "    const data = {\n",
       "            nodes: nodes,\n",
       "            edges: edges,\n",
       "    };\n",
       "    const options = {\"interaction\": {\"navigationButtons\": false}, \"width\": \"100%\", \"height\": \"200px\"};\n",
       "    const container = document.getElementById('cf88f586-5b38-4252-aad0-dfbf8f10c5df');\n",
       "    const network = new Network(container, data, options);\n",
       "    network.fit({maxZoomLevel: 10});\n",
       "    network.redraw();\n",
       "}\n",
       "\n",
       "render();\n",
       "document.getElementById('fit-cf88f586-5b38-4252-aad0-dfbf8f10c5df').addEventListener('click', function(event) {\n",
       "    event.preventDefault();  // Prevent page jump\n",
       "    render(); // Adjust zoom limit as needed\n",
       "});\n",
       "</script>\n"
      ],
      "text/plain": [
       "<IPython.core.display.HTML object>"
      ]
     },
     "metadata": {},
     "output_type": "display_data"
    }
   ],
   "source": [
    "for i in range(len(tadpole.vertices)):\n",
    "    diamond.show_vertex(i)"
   ]
  },
  {
   "cell_type": "markdown",
   "id": "4982ef9b",
   "metadata": {},
   "source": [
    "## Not connected simple graphs"
   ]
  },
  {
   "cell_type": "markdown",
   "id": "1fc786a9",
   "metadata": {},
   "source": [
    "The package deals with simple graphs even if they are not connected. Consider a graph made of a square, a complete graph of size 4, a diamond, a paw and a three-edged star:"
   ]
  },
  {
   "cell_type": "code",
   "execution_count": 27,
   "id": "e5bb9026",
   "metadata": {
    "ExecuteTime": {
     "end_time": "2022-01-24T14:38:45.994338Z",
     "start_time": "2022-01-24T14:38:45.941608Z"
    },
    "execution": {
     "iopub.execute_input": "2025-09-27T14:18:39.344020Z",
     "iopub.status.busy": "2025-09-27T14:18:39.344020Z",
     "iopub.status.idle": "2025-09-27T14:18:39.354243Z",
     "shell.execute_reply": "2025-09-27T14:18:39.354243Z",
     "shell.execute_reply.started": "2025-09-27T14:18:39.344020Z"
    }
   },
   "outputs": [
    {
     "data": {
      "text/html": [
       "\n",
       "<div class=\"sm-graph\" id=\"box-28ad28bf-5db4-4987-86a7-920066555d9f\">\n",
       "<div id=\"28ad28bf-5db4-4987-86a7-920066555d9f\"></div>\n",
       "<a href=\"#\" id=\"fit-28ad28bf-5db4-4987-86a7-920066555d9f\"\n",
       "  style=\"position: absolute; left: 10px; bottom: 10px; text-decoration: none; color: #888; font-size: min(2vw, 10px);\n",
       "  z-index: 10; pointer-events: auto;\"\n",
       "> Reload\n",
       "</a>\n",
       "<style>\n",
       "#box-28ad28bf-5db4-4987-86a7-920066555d9f {\n",
       "position: relative;\n",
       "width: 100%;\n",
       "height: 600px !important;\n",
       "max-width: 100vw;\n",
       "max-height: 100vh !important;\n",
       "}\n",
       "#28ad28bf-5db4-4987-86a7-920066555d9f {\n",
       "  height: 100%;   /* Make the inner div fill the parent */\n",
       "}\n",
       "</style>\n",
       "</div>\n",
       "<script type=\"module\">\n",
       "import { DataSet, Network } from \"https://unpkg.com/vis-network/standalone/esm/vis-network.min.js\";\n",
       "// CSS will be automatically injected into the page.\n",
       "function render () {\n",
       "    const nodes = new DataSet([{\"id\": 0, \"label\": \"0\", \"title\": \"0\"}, {\"id\": 1, \"label\": \"1\", \"title\": \"1\"}, {\"id\": 2, \"label\": \"2\", \"title\": \"2\"}, {\"id\": 3, \"label\": \"3\", \"title\": \"3\"}, {\"id\": 4, \"label\": \"4\", \"title\": \"4\"}, {\"id\": 5, \"label\": \"5\", \"title\": \"5\"}, {\"id\": 6, \"label\": \"6\", \"title\": \"6\"}, {\"id\": 7, \"label\": \"7\", \"title\": \"7\"}, {\"id\": 8, \"label\": \"8\", \"title\": \"8\"}, {\"id\": 9, \"label\": \"9\", \"title\": \"9\"}, {\"id\": 10, \"label\": \"10\", \"title\": \"10\"}, {\"id\": 11, \"label\": \"11\", \"title\": \"11\"}, {\"id\": 12, \"label\": \"12\", \"title\": \"12\"}, {\"id\": 13, \"label\": \"13\", \"title\": \"13\"}, {\"id\": 14, \"label\": \"14\", \"title\": \"14\"}, {\"id\": 15, \"label\": \"15\", \"title\": \"15\"}, {\"id\": 16, \"label\": \"16\", \"title\": \"16\"}, {\"id\": 17, \"label\": \"17\", \"title\": \"17\"}, {\"id\": 18, \"label\": \"18\", \"title\": \"18\"}, {\"id\": 19, \"label\": \"19\", \"title\": \"19\"}]);\n",
       "    const edges = new DataSet([{\"title\": \"0: (0, 1)\", \"label\": \"\", \"from\": 0, \"to\": 1}, {\"title\": \"1: (0, 3)\", \"label\": \"\", \"from\": 0, \"to\": 3}, {\"title\": \"2: (1, 2)\", \"label\": \"\", \"from\": 1, \"to\": 2}, {\"title\": \"3: (2, 3)\", \"label\": \"\", \"from\": 2, \"to\": 3}, {\"title\": \"4: (4, 5)\", \"label\": \"\", \"from\": 4, \"to\": 5}, {\"title\": \"5: (4, 6)\", \"label\": \"\", \"from\": 4, \"to\": 6}, {\"title\": \"6: (4, 7)\", \"label\": \"\", \"from\": 4, \"to\": 7}, {\"title\": \"7: (5, 6)\", \"label\": \"\", \"from\": 5, \"to\": 6}, {\"title\": \"8: (5, 7)\", \"label\": \"\", \"from\": 5, \"to\": 7}, {\"title\": \"9: (6, 7)\", \"label\": \"\", \"from\": 6, \"to\": 7}, {\"title\": \"10: (8, 9)\", \"label\": \"\", \"from\": 8, \"to\": 9}, {\"title\": \"11: (8, 10)\", \"label\": \"\", \"from\": 8, \"to\": 10}, {\"title\": \"12: (9, 10)\", \"label\": \"\", \"from\": 9, \"to\": 10}, {\"title\": \"13: (9, 11)\", \"label\": \"\", \"from\": 9, \"to\": 11}, {\"title\": \"14: (10, 11)\", \"label\": \"\", \"from\": 10, \"to\": 11}, {\"title\": \"15: (12, 13)\", \"label\": \"\", \"from\": 12, \"to\": 13}, {\"title\": \"16: (12, 14)\", \"label\": \"\", \"from\": 12, \"to\": 14}, {\"title\": \"17: (13, 14)\", \"label\": \"\", \"from\": 13, \"to\": 14}, {\"title\": \"18: (14, 15)\", \"label\": \"\", \"from\": 14, \"to\": 15}, {\"title\": \"19: (16, 17)\", \"label\": \"\", \"from\": 16, \"to\": 17}, {\"title\": \"20: (16, 18)\", \"label\": \"\", \"from\": 16, \"to\": 18}, {\"title\": \"21: (16, 19)\", \"label\": \"\", \"from\": 16, \"to\": 19}]);\n",
       "    const data = {\n",
       "            nodes: nodes,\n",
       "            edges: edges,\n",
       "    };\n",
       "    const options = {\"interaction\": {\"navigationButtons\": false}, \"width\": \"100%\", \"height\": \"600px\"};\n",
       "    const container = document.getElementById('28ad28bf-5db4-4987-86a7-920066555d9f');\n",
       "    const network = new Network(container, data, options);\n",
       "    network.fit({maxZoomLevel: 10});\n",
       "    network.redraw();\n",
       "}\n",
       "\n",
       "render();\n",
       "document.getElementById('fit-28ad28bf-5db4-4987-86a7-920066555d9f').addEventListener('click', function(event) {\n",
       "    event.preventDefault();  // Prevent page jump\n",
       "    render(); // Adjust zoom limit as needed\n",
       "});\n",
       "</script>\n"
      ],
      "text/plain": [
       "<IPython.core.display.HTML object>"
      ]
     },
     "metadata": {},
     "output_type": "display_data"
    }
   ],
   "source": [
    "VIS_OPTIONS[\"height\"] = 600\n",
    "sample = sm.concatenate(\n",
    "    [sm.Cycle(4), sm.Complete(4), sm.CycleChain(), sm.Tadpole(), sm.Star()], 0\n",
    ")\n",
    "sample.show_graph()"
   ]
  },
  {
   "cell_type": "markdown",
   "id": "df760bd0",
   "metadata": {},
   "source": [
    "The kernel will display global information:"
   ]
  },
  {
   "cell_type": "code",
   "execution_count": 28,
   "id": "5d769fcf",
   "metadata": {
    "ExecuteTime": {
     "end_time": "2022-01-24T14:38:46.021584Z",
     "start_time": "2022-01-24T14:38:45.998850Z"
    },
    "execution": {
     "iopub.execute_input": "2025-09-27T14:18:39.355254Z",
     "iopub.status.busy": "2025-09-27T14:18:39.355254Z",
     "iopub.status.idle": "2025-09-27T14:18:39.360706Z",
     "shell.execute_reply": "2025-09-27T14:18:39.360706Z",
     "shell.execute_reply.started": "2025-09-27T14:18:39.355254Z"
    }
   },
   "outputs": [
    {
     "data": {
      "text/plain": [
       "Kernels of a graph with 20 nodes and 22 edges.\n",
       "Node dimension is 2.\n",
       "Edge dimension is 4\n",
       "Type: Nonjective\n",
       "Node kernel:\n",
       "[[ 0 -1]\n",
       " [ 0  1]\n",
       " [ 0 -1]\n",
       " [ 0  1]\n",
       " [ 0  0]\n",
       " [ 0  0]\n",
       " [ 0  0]\n",
       " [ 0  0]\n",
       " [ 0  0]\n",
       " [ 0  0]\n",
       " [ 0  0]\n",
       " [ 0  0]\n",
       " [ 0  0]\n",
       " [ 0  0]\n",
       " [ 0  0]\n",
       " [ 0  0]\n",
       " [-1  0]\n",
       " [ 1  0]\n",
       " [ 1  0]\n",
       " [ 1  0]]\n",
       "Edge kernel:\n",
       "[[ 1 -1 -1  1  0  0  0  0  0  0  0  0  0  0  0  0  0  0  0  0  0  0]\n",
       " [ 0  0  0  0  1 -1  0  0 -1  1  0  0  0  0  0  0  0  0  0  0  0  0]\n",
       " [ 0  0  0  0  0 -1  1  1 -1  0  0  0  0  0  0  0  0  0  0  0  0  0]\n",
       " [ 0  0  0  0  0  0  0  0  0  0  1 -1  0 -1  1  0  0  0  0  0  0  0]]"
      ]
     },
     "execution_count": 28,
     "metadata": {},
     "output_type": "execute_result"
    }
   ],
   "source": [
    "sample.kernel"
   ]
  },
  {
   "cell_type": "markdown",
   "id": "4333e760",
   "metadata": {},
   "source": [
    "- The two node vectors point to the bipartite connected components (the square and the star).\n",
    "- The four edge vectors point to the even cycles from the square, complete graph, and diamond."
   ]
  },
  {
   "cell_type": "markdown",
   "id": "75d7c005",
   "metadata": {},
   "source": [
    "If we want further information, we can look at the `connected_components` attribute."
   ]
  },
  {
   "cell_type": "code",
   "execution_count": 29,
   "id": "751ce9b6",
   "metadata": {
    "ExecuteTime": {
     "end_time": "2022-01-24T14:38:46.032718Z",
     "start_time": "2022-01-24T14:38:46.023699Z"
    },
    "execution": {
     "iopub.execute_input": "2025-09-27T14:18:39.362720Z",
     "iopub.status.busy": "2025-09-27T14:18:39.361712Z",
     "iopub.status.idle": "2025-09-27T14:18:39.367838Z",
     "shell.execute_reply": "2025-09-27T14:18:39.367838Z",
     "shell.execute_reply.started": "2025-09-27T14:18:39.362720Z"
    }
   },
   "outputs": [
    {
     "data": {
      "text/plain": [
       "[{'nodes': {0, 1, 2, 3},\n",
       "  'edges': {0, 1, 2, 3},\n",
       "  'spanner': {0, 1, 2},\n",
       "  'pivot': False,\n",
       "  'seeds': {3},\n",
       "  'type': 'Bipartite with cycle(s)'},\n",
       " {'nodes': {4, 5, 6, 7},\n",
       "  'edges': {4, 5, 6, 7, 8, 9},\n",
       "  'spanner': {4, 5, 6},\n",
       "  'pivot': 8,\n",
       "  'seeds': {7, 9},\n",
       "  'type': 'Non-bipartite polycyclic'},\n",
       " {'nodes': {8, 9, 10, 11},\n",
       "  'edges': {10, 11, 12, 13, 14},\n",
       "  'spanner': {10, 11, 13},\n",
       "  'pivot': 12,\n",
       "  'seeds': {14},\n",
       "  'type': 'Non-bipartite polycyclic'},\n",
       " {'nodes': {12, 13, 14, 15},\n",
       "  'edges': {15, 16, 17, 18},\n",
       "  'spanner': {15, 16, 18},\n",
       "  'pivot': 17,\n",
       "  'seeds': set(),\n",
       "  'type': 'Non-bipartite monocyclic'},\n",
       " {'nodes': {16, 17, 18, 19},\n",
       "  'edges': {19, 20, 21},\n",
       "  'spanner': {19, 20, 21},\n",
       "  'pivot': False,\n",
       "  'seeds': set(),\n",
       "  'type': 'Tree'}]"
      ]
     },
     "execution_count": 29,
     "metadata": {},
     "output_type": "execute_result"
    }
   ],
   "source": [
    "sample.connected_components"
   ]
  },
  {
   "cell_type": "markdown",
   "id": "baa80cd7",
   "metadata": {},
   "source": [
    "Connected components give the following information for each connected component:\n",
    "- The nodes and edges that belong to that component (or more accurately their index);\n",
    "- A spanner of the component, e.g. a set of edges that form a spanning tree for the component;\n",
    "- If the component is surjective, a *pivot*, e.g. an edge that makes the spanner non-bipartite if we add it;\n",
    "- *Seeds*, which are a set of edges that can be used to build a edge kernel basis made of cycles and kayak paddles.\n",
    "- The type of the component. For example, for a connected component, injective-only is a synonym for tree."
   ]
  },
  {
   "cell_type": "markdown",
   "id": "54325ce6",
   "metadata": {},
   "source": [
    "All operations that were previously performed can be done on graphs that are not connected."
   ]
  },
  {
   "cell_type": "code",
   "execution_count": 30,
   "id": "2cfe5990",
   "metadata": {
    "ExecuteTime": {
     "end_time": "2022-01-24T14:38:46.048224Z",
     "start_time": "2022-01-24T14:38:46.034208Z"
    },
    "execution": {
     "iopub.execute_input": "2025-09-27T14:18:39.368845Z",
     "iopub.status.busy": "2025-09-27T14:18:39.368845Z",
     "iopub.status.idle": "2025-09-27T14:18:39.375845Z",
     "shell.execute_reply": "2025-09-27T14:18:39.375845Z",
     "shell.execute_reply.started": "2025-09-27T14:18:39.368845Z"
    }
   },
   "outputs": [
    {
     "data": {
      "text/html": [
       "\n",
       "<div class=\"sm-graph\" id=\"box-43fba49c-c643-4565-bac2-13e78baa440e\">\n",
       "<div id=\"43fba49c-c643-4565-bac2-13e78baa440e\"></div>\n",
       "<a href=\"#\" id=\"fit-43fba49c-c643-4565-bac2-13e78baa440e\"\n",
       "  style=\"position: absolute; left: 10px; bottom: 10px; text-decoration: none; color: #888; font-size: min(2vw, 10px);\n",
       "  z-index: 10; pointer-events: auto;\"\n",
       "> Reload\n",
       "</a>\n",
       "<style>\n",
       "#box-43fba49c-c643-4565-bac2-13e78baa440e {\n",
       "position: relative;\n",
       "width: 100%;\n",
       "height: 600px !important;\n",
       "max-width: 100vw;\n",
       "max-height: 100vh !important;\n",
       "}\n",
       "#43fba49c-c643-4565-bac2-13e78baa440e {\n",
       "  height: 100%;   /* Make the inner div fill the parent */\n",
       "}\n",
       "</style>\n",
       "</div>\n",
       "<script type=\"module\">\n",
       "import { DataSet, Network } from \"https://unpkg.com/vis-network/standalone/esm/vis-network.min.js\";\n",
       "// CSS will be automatically injected into the page.\n",
       "function render () {\n",
       "    const nodes = new DataSet([{\"id\": 0, \"label\": \"2\", \"title\": \"0\"}, {\"id\": 1, \"label\": \"2\", \"title\": \"1\"}, {\"id\": 2, \"label\": \"2\", \"title\": \"2\"}, {\"id\": 3, \"label\": \"2\", \"title\": \"3\"}, {\"id\": 4, \"label\": \"3\", \"title\": \"4\"}, {\"id\": 5, \"label\": \"3\", \"title\": \"5\"}, {\"id\": 6, \"label\": \"3\", \"title\": \"6\"}, {\"id\": 7, \"label\": \"3\", \"title\": \"7\"}, {\"id\": 8, \"label\": \"2\", \"title\": \"8\"}, {\"id\": 9, \"label\": \"3\", \"title\": \"9\"}, {\"id\": 10, \"label\": \"3\", \"title\": \"10\"}, {\"id\": 11, \"label\": \"2\", \"title\": \"11\"}, {\"id\": 12, \"label\": \"2\", \"title\": \"12\"}, {\"id\": 13, \"label\": \"2\", \"title\": \"13\"}, {\"id\": 14, \"label\": \"3\", \"title\": \"14\"}, {\"id\": 15, \"label\": \"1\", \"title\": \"15\"}, {\"id\": 16, \"label\": \"3\", \"title\": \"16\"}, {\"id\": 17, \"label\": \"1\", \"title\": \"17\"}, {\"id\": 18, \"label\": \"1\", \"title\": \"18\"}, {\"id\": 19, \"label\": \"1\", \"title\": \"19\"}]);\n",
       "    const edges = new DataSet([{\"title\": \"0: (0, 1)\", \"label\": \"1+\\u03b11\", \"from\": 0, \"to\": 1}, {\"title\": \"1: (0, 3)\", \"label\": \"1-\\u03b11\", \"from\": 0, \"to\": 3}, {\"title\": \"2: (1, 2)\", \"label\": \"1-\\u03b11\", \"from\": 1, \"to\": 2}, {\"title\": \"3: (2, 3)\", \"label\": \"1+\\u03b11\", \"from\": 2, \"to\": 3}, {\"title\": \"4: (4, 5)\", \"label\": \"1+\\u03b12\", \"from\": 4, \"to\": 5}, {\"title\": \"5: (4, 6)\", \"label\": \"1-\\u03b12-\\u03b13\", \"from\": 4, \"to\": 6}, {\"title\": \"6: (4, 7)\", \"label\": \"1+\\u03b13\", \"from\": 4, \"to\": 7}, {\"title\": \"7: (5, 6)\", \"label\": \"1+\\u03b13\", \"from\": 5, \"to\": 6}, {\"title\": \"8: (5, 7)\", \"label\": \"1-\\u03b12-\\u03b13\", \"from\": 5, \"to\": 7}, {\"title\": \"9: (6, 7)\", \"label\": \"1+\\u03b12\", \"from\": 6, \"to\": 7}, {\"title\": \"10: (8, 9)\", \"label\": \"1+\\u03b14\", \"from\": 8, \"to\": 9}, {\"title\": \"11: (8, 10)\", \"label\": \"1-\\u03b14\", \"from\": 8, \"to\": 10}, {\"title\": \"12: (9, 10)\", \"label\": \"1\", \"color\": \"black\", \"from\": 9, \"to\": 10}, {\"title\": \"13: (9, 11)\", \"label\": \"1-\\u03b14\", \"from\": 9, \"to\": 11}, {\"title\": \"14: (10, 11)\", \"label\": \"1+\\u03b14\", \"from\": 10, \"to\": 11}, {\"title\": \"15: (12, 13)\", \"label\": \"1\", \"color\": \"black\", \"from\": 12, \"to\": 13}, {\"title\": \"16: (12, 14)\", \"label\": \"1\", \"color\": \"black\", \"from\": 12, \"to\": 14}, {\"title\": \"17: (13, 14)\", \"label\": \"1\", \"color\": \"black\", \"from\": 13, \"to\": 14}, {\"title\": \"18: (14, 15)\", \"label\": \"1\", \"color\": \"black\", \"from\": 14, \"to\": 15}, {\"title\": \"19: (16, 17)\", \"label\": \"1\", \"color\": \"black\", \"from\": 16, \"to\": 17}, {\"title\": \"20: (16, 18)\", \"label\": \"1\", \"color\": \"black\", \"from\": 16, \"to\": 18}, {\"title\": \"21: (16, 19)\", \"label\": \"1\", \"color\": \"black\", \"from\": 16, \"to\": 19}]);\n",
       "    const data = {\n",
       "            nodes: nodes,\n",
       "            edges: edges,\n",
       "    };\n",
       "    const options = {\"interaction\": {\"navigationButtons\": false}, \"width\": \"100%\", \"height\": \"600px\"};\n",
       "    const container = document.getElementById('43fba49c-c643-4565-bac2-13e78baa440e');\n",
       "    const network = new Network(container, data, options);\n",
       "    network.fit({maxZoomLevel: 10});\n",
       "    network.redraw();\n",
       "}\n",
       "\n",
       "render();\n",
       "document.getElementById('fit-43fba49c-c643-4565-bac2-13e78baa440e').addEventListener('click', function(event) {\n",
       "    event.preventDefault();  // Prevent page jump\n",
       "    render(); // Adjust zoom limit as needed\n",
       "});\n",
       "</script>\n"
      ],
      "text/plain": [
       "<IPython.core.display.HTML object>"
      ]
     },
     "metadata": {},
     "output_type": "display_data"
    }
   ],
   "source": [
    "sample.show_kernel(disp_flow=True)"
   ]
  },
  {
   "cell_type": "markdown",
   "id": "e969fabb",
   "metadata": {},
   "source": [
    "## Hypergraphs"
   ]
  },
  {
   "cell_type": "markdown",
   "id": "54f5202c",
   "metadata": {},
   "source": [
    "### Candy"
   ]
  },
  {
   "cell_type": "markdown",
   "id": "2e9a8c40",
   "metadata": {},
   "source": [
    "The candy is a simple example of true hypergraph."
   ]
  },
  {
   "cell_type": "code",
   "execution_count": 31,
   "id": "febabc89",
   "metadata": {
    "ExecuteTime": {
     "end_time": "2022-01-24T14:38:46.063816Z",
     "start_time": "2022-01-24T14:38:46.051449Z"
    },
    "execution": {
     "iopub.execute_input": "2025-09-27T14:18:39.377263Z",
     "iopub.status.busy": "2025-09-27T14:18:39.377263Z",
     "iopub.status.idle": "2025-09-27T14:18:39.383642Z",
     "shell.execute_reply": "2025-09-27T14:18:39.383642Z",
     "shell.execute_reply.started": "2025-09-27T14:18:39.377263Z"
    }
   },
   "outputs": [
    {
     "data": {
      "text/html": [
       "\n",
       "<div class=\"sm-graph\" id=\"box-578b2099-48ee-48bb-bb60-bd59d1d9278b\">\n",
       "<div id=\"578b2099-48ee-48bb-bb60-bd59d1d9278b\"></div>\n",
       "<a href=\"#\" id=\"fit-578b2099-48ee-48bb-bb60-bd59d1d9278b\"\n",
       "  style=\"position: absolute; left: 10px; bottom: 10px; text-decoration: none; color: #888; font-size: min(2vw, 10px);\n",
       "  z-index: 10; pointer-events: auto;\"\n",
       "> Reload\n",
       "</a>\n",
       "<style>\n",
       "#box-578b2099-48ee-48bb-bb60-bd59d1d9278b {\n",
       "position: relative;\n",
       "width: 100%;\n",
       "height: 600px !important;\n",
       "max-width: 100vw;\n",
       "max-height: 100vh !important;\n",
       "}\n",
       "#578b2099-48ee-48bb-bb60-bd59d1d9278b {\n",
       "  height: 100%;   /* Make the inner div fill the parent */\n",
       "}\n",
       "</style>\n",
       "</div>\n",
       "<script type=\"module\">\n",
       "import { DataSet, Network } from \"https://unpkg.com/vis-network/standalone/esm/vis-network.min.js\";\n",
       "// CSS will be automatically injected into the page.\n",
       "function render () {\n",
       "    const nodes = new DataSet([{\"id\": 0, \"label\": \"0\", \"title\": \"0\", \"x\": 0, \"group\": \"Node\"}, {\"id\": 1, \"label\": \"1\", \"title\": \"1\", \"x\": 0, \"group\": \"Node\"}, {\"id\": 2, \"label\": \"2\", \"title\": \"2\", \"x\": 0, \"group\": \"Node\"}, {\"id\": 3, \"label\": \"3\", \"title\": \"3\", \"x\": 0, \"group\": \"Node\"}, {\"id\": 4, \"label\": \"4\", \"title\": \"4\", \"x\": 0, \"group\": \"Node\"}, {\"id\": 5, \"label\": \"5\", \"title\": \"5\", \"x\": 0, \"group\": \"Node\"}, {\"id\": 6, \"label\": \"6\", \"title\": \"6\", \"x\": 0, \"group\": \"Node\"}, {\"title\": \"0: (0, 1)\", \"label\": \"\", \"id\": 7, \"group\": \"HyperEdge\", \"x\": 600}, {\"title\": \"1: (0, 2)\", \"label\": \"\", \"id\": 8, \"group\": \"HyperEdge\", \"x\": 600}, {\"title\": \"2: (1, 2)\", \"label\": \"\", \"id\": 9, \"group\": \"HyperEdge\", \"x\": 600}, {\"title\": \"3: (4, 5)\", \"label\": \"\", \"id\": 10, \"group\": \"HyperEdge\", \"x\": 600}, {\"title\": \"4: (4, 6)\", \"label\": \"\", \"id\": 11, \"group\": \"HyperEdge\", \"x\": 600}, {\"title\": \"5: (5, 6)\", \"label\": \"\", \"id\": 12, \"group\": \"HyperEdge\", \"x\": 600}, {\"title\": \"6: (2, 3, 4)\", \"label\": \"\", \"id\": 13, \"group\": \"HyperEdge\", \"x\": 600}]);\n",
       "    const edges = new DataSet([{\"from\": 0, \"to\": 7, \"title\": \"0 <-> 0: (0, 1)\"}, {\"from\": 0, \"to\": 8, \"title\": \"0 <-> 1: (0, 2)\"}, {\"from\": 1, \"to\": 7, \"title\": \"1 <-> 0: (0, 1)\"}, {\"from\": 1, \"to\": 9, \"title\": \"1 <-> 2: (1, 2)\"}, {\"from\": 2, \"to\": 8, \"title\": \"2 <-> 1: (0, 2)\"}, {\"from\": 2, \"to\": 9, \"title\": \"2 <-> 2: (1, 2)\"}, {\"from\": 2, \"to\": 13, \"title\": \"2 <-> 6: (2, 3, 4)\"}, {\"from\": 3, \"to\": 13, \"title\": \"3 <-> 6: (2, 3, 4)\"}, {\"from\": 4, \"to\": 10, \"title\": \"4 <-> 3: (4, 5)\"}, {\"from\": 4, \"to\": 11, \"title\": \"4 <-> 4: (4, 6)\"}, {\"from\": 4, \"to\": 13, \"title\": \"4 <-> 6: (2, 3, 4)\"}, {\"from\": 5, \"to\": 10, \"title\": \"5 <-> 3: (4, 5)\"}, {\"from\": 5, \"to\": 12, \"title\": \"5 <-> 5: (5, 6)\"}, {\"from\": 6, \"to\": 11, \"title\": \"6 <-> 4: (4, 6)\"}, {\"from\": 6, \"to\": 12, \"title\": \"6 <-> 5: (5, 6)\"}]);\n",
       "    const data = {\n",
       "            nodes: nodes,\n",
       "            edges: edges,\n",
       "    };\n",
       "    const options = {\"interaction\": {\"navigationButtons\": false}, \"width\": \"100%\", \"height\": \"600px\", \"groups\": {\"HyperEdge\": {\"fixed\": {\"x\": false}, \"color\": {\"background\": \"black\"}, \"shape\": \"dot\", \"size\": 5}, \"Node\": {\"fixed\": {\"x\": false}}}};\n",
       "    const container = document.getElementById('578b2099-48ee-48bb-bb60-bd59d1d9278b');\n",
       "    const network = new Network(container, data, options);\n",
       "    network.fit({maxZoomLevel: 10});\n",
       "    network.redraw();\n",
       "}\n",
       "\n",
       "render();\n",
       "document.getElementById('fit-578b2099-48ee-48bb-bb60-bd59d1d9278b').addEventListener('click', function(event) {\n",
       "    event.preventDefault();  // Prevent page jump\n",
       "    render(); // Adjust zoom limit as needed\n",
       "});\n",
       "</script>\n"
      ],
      "text/plain": [
       "<IPython.core.display.HTML object>"
      ]
     },
     "metadata": {},
     "output_type": "display_data"
    }
   ],
   "source": [
    "candy = sm.HyperPaddle()\n",
    "candy.show_graph()"
   ]
  },
  {
   "cell_type": "markdown",
   "id": "96c62a8f",
   "metadata": {},
   "source": [
    "It is a bijective graph."
   ]
  },
  {
   "cell_type": "code",
   "execution_count": 32,
   "id": "f387623d",
   "metadata": {
    "ExecuteTime": {
     "end_time": "2022-01-24T14:38:46.079358Z",
     "start_time": "2022-01-24T14:38:46.065337Z"
    },
    "execution": {
     "iopub.execute_input": "2025-09-27T14:18:39.384649Z",
     "iopub.status.busy": "2025-09-27T14:18:39.384649Z",
     "iopub.status.idle": "2025-09-27T14:18:39.389649Z",
     "shell.execute_reply": "2025-09-27T14:18:39.389649Z",
     "shell.execute_reply.started": "2025-09-27T14:18:39.384649Z"
    }
   },
   "outputs": [
    {
     "data": {
      "text/plain": [
       "Kernels of a graph with 7 nodes and 7 edges.\n",
       "Node dimension is 0.\n",
       "Edge dimension is 0\n",
       "Type: Bijective\n",
       "Node kernel:\n",
       "[]\n",
       "Edge kernel:\n",
       "[]"
      ]
     },
     "execution_count": 32,
     "metadata": {},
     "output_type": "execute_result"
    }
   ],
   "source": [
    "candy.kernel"
   ]
  },
  {
   "cell_type": "markdown",
   "id": "746b0d95",
   "metadata": {},
   "source": [
    "With degree-proportional arrival rates, it is stabilizable."
   ]
  },
  {
   "cell_type": "code",
   "execution_count": 33,
   "id": "27add91a",
   "metadata": {
    "ExecuteTime": {
     "end_time": "2022-01-24T14:38:46.094545Z",
     "start_time": "2022-01-24T14:38:46.080333Z"
    },
    "execution": {
     "iopub.execute_input": "2025-09-27T14:18:39.390792Z",
     "iopub.status.busy": "2025-09-27T14:18:39.390792Z",
     "iopub.status.idle": "2025-09-27T14:18:39.396792Z",
     "shell.execute_reply": "2025-09-27T14:18:39.396792Z",
     "shell.execute_reply.started": "2025-09-27T14:18:39.390792Z"
    }
   },
   "outputs": [
    {
     "data": {
      "text/plain": [
       "True"
      ]
     },
     "execution_count": 33,
     "metadata": {},
     "output_type": "execute_result"
    }
   ],
   "source": [
    "candy.stabilizable"
   ]
  },
  {
   "cell_type": "markdown",
   "id": "c8925389",
   "metadata": {},
   "source": [
    "With uniform arrival rates, it is not stabilizable."
   ]
  },
  {
   "cell_type": "code",
   "execution_count": 34,
   "id": "eb365f7c",
   "metadata": {
    "ExecuteTime": {
     "end_time": "2022-01-24T14:38:46.109083Z",
     "start_time": "2022-01-24T14:38:46.096075Z"
    },
    "execution": {
     "iopub.execute_input": "2025-09-27T14:18:39.398298Z",
     "iopub.status.busy": "2025-09-27T14:18:39.398298Z",
     "iopub.status.idle": "2025-09-27T14:18:39.403523Z",
     "shell.execute_reply": "2025-09-27T14:18:39.402516Z",
     "shell.execute_reply.started": "2025-09-27T14:18:39.398298Z"
    }
   },
   "outputs": [
    {
     "data": {
      "text/plain": [
       "False"
      ]
     },
     "execution_count": 34,
     "metadata": {},
     "output_type": "execute_result"
    }
   ],
   "source": [
    "candy.rates = \"uniform\"\n",
    "candy.stabilizable"
   ]
  },
  {
   "cell_type": "code",
   "execution_count": 35,
   "id": "b0816aea",
   "metadata": {
    "ExecuteTime": {
     "end_time": "2022-01-24T14:38:46.125107Z",
     "start_time": "2022-01-24T14:38:46.111098Z"
    },
    "execution": {
     "iopub.execute_input": "2025-09-27T14:18:39.404523Z",
     "iopub.status.busy": "2025-09-27T14:18:39.403523Z",
     "iopub.status.idle": "2025-09-27T14:18:39.409522Z",
     "shell.execute_reply": "2025-09-27T14:18:39.409522Z",
     "shell.execute_reply.started": "2025-09-27T14:18:39.404523Z"
    }
   },
   "outputs": [
    {
     "data": {
      "text/html": [
       "\n",
       "<div class=\"sm-graph\" id=\"box-f70aa8b3-ba82-4272-9302-e79a6a8df1f9\">\n",
       "<div id=\"f70aa8b3-ba82-4272-9302-e79a6a8df1f9\"></div>\n",
       "<a href=\"#\" id=\"fit-f70aa8b3-ba82-4272-9302-e79a6a8df1f9\"\n",
       "  style=\"position: absolute; left: 10px; bottom: 10px; text-decoration: none; color: #888; font-size: min(2vw, 10px);\n",
       "  z-index: 10; pointer-events: auto;\"\n",
       "> Reload\n",
       "</a>\n",
       "<style>\n",
       "#box-f70aa8b3-ba82-4272-9302-e79a6a8df1f9 {\n",
       "position: relative;\n",
       "width: 100%;\n",
       "height: 600px !important;\n",
       "max-width: 100vw;\n",
       "max-height: 100vh !important;\n",
       "}\n",
       "#f70aa8b3-ba82-4272-9302-e79a6a8df1f9 {\n",
       "  height: 100%;   /* Make the inner div fill the parent */\n",
       "}\n",
       "</style>\n",
       "</div>\n",
       "<script type=\"module\">\n",
       "import { DataSet, Network } from \"https://unpkg.com/vis-network/standalone/esm/vis-network.min.js\";\n",
       "// CSS will be automatically injected into the page.\n",
       "function render () {\n",
       "    const nodes = new DataSet([{\"id\": 0, \"label\": \"1\", \"title\": \"0\", \"x\": 0, \"group\": \"Node\"}, {\"id\": 1, \"label\": \"1\", \"title\": \"1\", \"x\": 0, \"group\": \"Node\"}, {\"id\": 2, \"label\": \"1\", \"title\": \"2\", \"x\": 0, \"group\": \"Node\"}, {\"id\": 3, \"label\": \"1\", \"title\": \"3\", \"x\": 0, \"group\": \"Node\"}, {\"id\": 4, \"label\": \"1\", \"title\": \"4\", \"x\": 0, \"group\": \"Node\"}, {\"id\": 5, \"label\": \"1\", \"title\": \"5\", \"x\": 0, \"group\": \"Node\"}, {\"id\": 6, \"label\": \"1\", \"title\": \"6\", \"x\": 0, \"group\": \"Node\"}, {\"title\": \"0: (0, 1)\", \"label\": \"1\", \"color\": \"blue\", \"id\": 7, \"group\": \"HyperEdge\", \"x\": 600}, {\"title\": \"1: (0, 2)\", \"label\": \"0\", \"color\": \"orange\", \"id\": 8, \"group\": \"HyperEdge\", \"x\": 600}, {\"title\": \"2: (1, 2)\", \"label\": \"0\", \"color\": \"orange\", \"id\": 9, \"group\": \"HyperEdge\", \"x\": 600}, {\"title\": \"3: (4, 5)\", \"label\": \"0\", \"color\": \"orange\", \"id\": 10, \"group\": \"HyperEdge\", \"x\": 600}, {\"title\": \"4: (4, 6)\", \"label\": \"0\", \"color\": \"orange\", \"id\": 11, \"group\": \"HyperEdge\", \"x\": 600}, {\"title\": \"5: (5, 6)\", \"label\": \"1\", \"color\": \"blue\", \"id\": 12, \"group\": \"HyperEdge\", \"x\": 600}, {\"title\": \"6: (2, 3, 4)\", \"label\": \"1\", \"color\": \"blue\", \"id\": 13, \"group\": \"HyperEdge\", \"x\": 600}]);\n",
       "    const edges = new DataSet([{\"from\": 0, \"to\": 7, \"title\": \"0 <-> 0: (0, 1)\"}, {\"from\": 0, \"to\": 8, \"title\": \"0 <-> 1: (0, 2)\"}, {\"from\": 1, \"to\": 7, \"title\": \"1 <-> 0: (0, 1)\"}, {\"from\": 1, \"to\": 9, \"title\": \"1 <-> 2: (1, 2)\"}, {\"from\": 2, \"to\": 8, \"title\": \"2 <-> 1: (0, 2)\"}, {\"from\": 2, \"to\": 9, \"title\": \"2 <-> 2: (1, 2)\"}, {\"from\": 2, \"to\": 13, \"title\": \"2 <-> 6: (2, 3, 4)\"}, {\"from\": 3, \"to\": 13, \"title\": \"3 <-> 6: (2, 3, 4)\"}, {\"from\": 4, \"to\": 10, \"title\": \"4 <-> 3: (4, 5)\"}, {\"from\": 4, \"to\": 11, \"title\": \"4 <-> 4: (4, 6)\"}, {\"from\": 4, \"to\": 13, \"title\": \"4 <-> 6: (2, 3, 4)\"}, {\"from\": 5, \"to\": 10, \"title\": \"5 <-> 3: (4, 5)\"}, {\"from\": 5, \"to\": 12, \"title\": \"5 <-> 5: (5, 6)\"}, {\"from\": 6, \"to\": 11, \"title\": \"6 <-> 4: (4, 6)\"}, {\"from\": 6, \"to\": 12, \"title\": \"6 <-> 5: (5, 6)\"}]);\n",
       "    const data = {\n",
       "            nodes: nodes,\n",
       "            edges: edges,\n",
       "    };\n",
       "    const options = {\"interaction\": {\"navigationButtons\": false}, \"width\": \"100%\", \"height\": \"600px\", \"groups\": {\"HyperEdge\": {\"fixed\": {\"x\": false}, \"color\": {\"background\": \"black\"}, \"shape\": \"dot\", \"size\": 5}, \"Node\": {\"fixed\": {\"x\": false}}}};\n",
       "    const container = document.getElementById('f70aa8b3-ba82-4272-9302-e79a6a8df1f9');\n",
       "    const network = new Network(container, data, options);\n",
       "    network.fit({maxZoomLevel: 10});\n",
       "    network.redraw();\n",
       "}\n",
       "\n",
       "render();\n",
       "document.getElementById('fit-f70aa8b3-ba82-4272-9302-e79a6a8df1f9').addEventListener('click', function(event) {\n",
       "    event.preventDefault();  // Prevent page jump\n",
       "    render(); // Adjust zoom limit as needed\n",
       "});\n",
       "</script>\n"
      ],
      "text/plain": [
       "<IPython.core.display.HTML object>"
      ]
     },
     "metadata": {},
     "output_type": "display_data"
    }
   ],
   "source": [
    "candy.show_flow()"
   ]
  },
  {
   "cell_type": "markdown",
   "id": "3bcf6d33",
   "metadata": {},
   "source": [
    "### Fans"
   ]
  },
  {
   "cell_type": "markdown",
   "id": "2934a8d1",
   "metadata": {},
   "source": [
    "Fans yield nice examples of hypergraphs with cool kernels. The basic fan is called a *clover*."
   ]
  },
  {
   "cell_type": "code",
   "execution_count": 36,
   "id": "523185a3",
   "metadata": {
    "ExecuteTime": {
     "end_time": "2022-01-24T14:38:46.141262Z",
     "start_time": "2022-01-24T14:38:46.126980Z"
    },
    "execution": {
     "iopub.execute_input": "2025-09-27T14:18:39.410544Z",
     "iopub.status.busy": "2025-09-27T14:18:39.410544Z",
     "iopub.status.idle": "2025-09-27T14:18:39.417546Z",
     "shell.execute_reply": "2025-09-27T14:18:39.417546Z",
     "shell.execute_reply.started": "2025-09-27T14:18:39.410544Z"
    }
   },
   "outputs": [
    {
     "data": {
      "text/html": [
       "\n",
       "<div class=\"sm-graph\" id=\"box-3454be68-734c-4acd-8512-505ebffd16a4\">\n",
       "<div id=\"3454be68-734c-4acd-8512-505ebffd16a4\"></div>\n",
       "<a href=\"#\" id=\"fit-3454be68-734c-4acd-8512-505ebffd16a4\"\n",
       "  style=\"position: absolute; left: 10px; bottom: 10px; text-decoration: none; color: #888; font-size: min(2vw, 10px);\n",
       "  z-index: 10; pointer-events: auto;\"\n",
       "> Reload\n",
       "</a>\n",
       "<style>\n",
       "#box-3454be68-734c-4acd-8512-505ebffd16a4 {\n",
       "position: relative;\n",
       "width: 100%;\n",
       "height: 600px !important;\n",
       "max-width: 100vw;\n",
       "max-height: 100vh !important;\n",
       "}\n",
       "#3454be68-734c-4acd-8512-505ebffd16a4 {\n",
       "  height: 100%;   /* Make the inner div fill the parent */\n",
       "}\n",
       "</style>\n",
       "</div>\n",
       "<script type=\"module\">\n",
       "import { DataSet, Network } from \"https://unpkg.com/vis-network/standalone/esm/vis-network.min.js\";\n",
       "// CSS will be automatically injected into the page.\n",
       "function render () {\n",
       "    const nodes = new DataSet([{\"id\": 0, \"label\": \"0\", \"title\": \"0\", \"x\": 0, \"group\": \"Node\"}, {\"id\": 1, \"label\": \"1\", \"title\": \"1\", \"x\": 0, \"group\": \"Node\"}, {\"id\": 2, \"label\": \"2\", \"title\": \"2\", \"x\": 0, \"group\": \"Node\"}, {\"id\": 3, \"label\": \"3\", \"title\": \"3\", \"x\": 0, \"group\": \"Node\"}, {\"id\": 4, \"label\": \"4\", \"title\": \"4\", \"x\": 0, \"group\": \"Node\"}, {\"id\": 5, \"label\": \"5\", \"title\": \"5\", \"x\": 0, \"group\": \"Node\"}, {\"id\": 6, \"label\": \"6\", \"title\": \"6\", \"x\": 0, \"group\": \"Node\"}, {\"id\": 7, \"label\": \"7\", \"title\": \"7\", \"x\": 0, \"group\": \"Node\"}, {\"id\": 8, \"label\": \"8\", \"title\": \"8\", \"x\": 0, \"group\": \"Node\"}, {\"title\": \"0: (0, 1)\", \"label\": \"\", \"id\": 9, \"group\": \"HyperEdge\", \"x\": 600}, {\"title\": \"1: (0, 2)\", \"label\": \"\", \"id\": 10, \"group\": \"HyperEdge\", \"x\": 600}, {\"title\": \"2: (1, 2)\", \"label\": \"\", \"id\": 11, \"group\": \"HyperEdge\", \"x\": 600}, {\"title\": \"3: (3, 4)\", \"label\": \"\", \"id\": 12, \"group\": \"HyperEdge\", \"x\": 600}, {\"title\": \"4: (3, 5)\", \"label\": \"\", \"id\": 13, \"group\": \"HyperEdge\", \"x\": 600}, {\"title\": \"5: (4, 5)\", \"label\": \"\", \"id\": 14, \"group\": \"HyperEdge\", \"x\": 600}, {\"title\": \"6: (6, 7)\", \"label\": \"\", \"id\": 15, \"group\": \"HyperEdge\", \"x\": 600}, {\"title\": \"7: (6, 8)\", \"label\": \"\", \"id\": 16, \"group\": \"HyperEdge\", \"x\": 600}, {\"title\": \"8: (7, 8)\", \"label\": \"\", \"id\": 17, \"group\": \"HyperEdge\", \"x\": 600}, {\"title\": \"9: (0, 3, 6)\", \"label\": \"\", \"id\": 18, \"group\": \"HyperEdge\", \"x\": 600}]);\n",
       "    const edges = new DataSet([{\"from\": 0, \"to\": 9, \"title\": \"0 <-> 0: (0, 1)\"}, {\"from\": 0, \"to\": 10, \"title\": \"0 <-> 1: (0, 2)\"}, {\"from\": 0, \"to\": 18, \"title\": \"0 <-> 9: (0, 3, 6)\"}, {\"from\": 1, \"to\": 9, \"title\": \"1 <-> 0: (0, 1)\"}, {\"from\": 1, \"to\": 11, \"title\": \"1 <-> 2: (1, 2)\"}, {\"from\": 2, \"to\": 10, \"title\": \"2 <-> 1: (0, 2)\"}, {\"from\": 2, \"to\": 11, \"title\": \"2 <-> 2: (1, 2)\"}, {\"from\": 3, \"to\": 12, \"title\": \"3 <-> 3: (3, 4)\"}, {\"from\": 3, \"to\": 13, \"title\": \"3 <-> 4: (3, 5)\"}, {\"from\": 3, \"to\": 18, \"title\": \"3 <-> 9: (0, 3, 6)\"}, {\"from\": 4, \"to\": 12, \"title\": \"4 <-> 3: (3, 4)\"}, {\"from\": 4, \"to\": 14, \"title\": \"4 <-> 5: (4, 5)\"}, {\"from\": 5, \"to\": 13, \"title\": \"5 <-> 4: (3, 5)\"}, {\"from\": 5, \"to\": 14, \"title\": \"5 <-> 5: (4, 5)\"}, {\"from\": 6, \"to\": 15, \"title\": \"6 <-> 6: (6, 7)\"}, {\"from\": 6, \"to\": 16, \"title\": \"6 <-> 7: (6, 8)\"}, {\"from\": 6, \"to\": 18, \"title\": \"6 <-> 9: (0, 3, 6)\"}, {\"from\": 7, \"to\": 15, \"title\": \"7 <-> 6: (6, 7)\"}, {\"from\": 7, \"to\": 17, \"title\": \"7 <-> 8: (7, 8)\"}, {\"from\": 8, \"to\": 16, \"title\": \"8 <-> 7: (6, 8)\"}, {\"from\": 8, \"to\": 17, \"title\": \"8 <-> 8: (7, 8)\"}]);\n",
       "    const data = {\n",
       "            nodes: nodes,\n",
       "            edges: edges,\n",
       "    };\n",
       "    const options = {\"interaction\": {\"navigationButtons\": false}, \"width\": \"100%\", \"height\": \"600px\", \"groups\": {\"HyperEdge\": {\"fixed\": {\"x\": false}, \"color\": {\"background\": \"black\"}, \"shape\": \"dot\", \"size\": 5}, \"Node\": {\"fixed\": {\"x\": false}}}};\n",
       "    const container = document.getElementById('3454be68-734c-4acd-8512-505ebffd16a4');\n",
       "    const network = new Network(container, data, options);\n",
       "    network.fit({maxZoomLevel: 10});\n",
       "    network.redraw();\n",
       "}\n",
       "\n",
       "render();\n",
       "document.getElementById('fit-3454be68-734c-4acd-8512-505ebffd16a4').addEventListener('click', function(event) {\n",
       "    event.preventDefault();  // Prevent page jump\n",
       "    render(); // Adjust zoom limit as needed\n",
       "});\n",
       "</script>\n"
      ],
      "text/plain": [
       "<IPython.core.display.HTML object>"
      ]
     },
     "metadata": {},
     "output_type": "display_data"
    }
   ],
   "source": [
    "clover = sm.Fan()\n",
    "clover.show_graph()"
   ]
  },
  {
   "cell_type": "code",
   "execution_count": 37,
   "id": "a4500c91",
   "metadata": {
    "ExecuteTime": {
     "end_time": "2022-01-24T14:38:46.156985Z",
     "start_time": "2022-01-24T14:38:46.142989Z"
    },
    "execution": {
     "iopub.execute_input": "2025-09-27T14:18:39.418739Z",
     "iopub.status.busy": "2025-09-27T14:18:39.418739Z",
     "iopub.status.idle": "2025-09-27T14:18:39.423231Z",
     "shell.execute_reply": "2025-09-27T14:18:39.423231Z",
     "shell.execute_reply.started": "2025-09-27T14:18:39.418739Z"
    }
   },
   "outputs": [
    {
     "data": {
      "text/plain": [
       "Kernels of a graph with 9 nodes and 10 edges.\n",
       "Node dimension is 0.\n",
       "Edge dimension is 1\n",
       "Type: Surjective-only\n",
       "Node kernel:\n",
       "[]\n",
       "Edge kernel:\n",
       "[[-0.2773501 -0.2773501  0.2773501 -0.2773501 -0.2773501  0.2773501\n",
       "  -0.2773501 -0.2773501  0.2773501  0.5547002]]"
      ]
     },
     "execution_count": 37,
     "metadata": {},
     "output_type": "execute_result"
    }
   ],
   "source": [
    "clover.kernel"
   ]
  },
  {
   "cell_type": "code",
   "execution_count": 38,
   "id": "2f22c791",
   "metadata": {
    "ExecuteTime": {
     "end_time": "2022-01-24T14:38:46.172515Z",
     "start_time": "2022-01-24T14:38:46.159207Z"
    },
    "execution": {
     "iopub.execute_input": "2025-09-27T14:18:39.424241Z",
     "iopub.status.busy": "2025-09-27T14:18:39.424241Z",
     "iopub.status.idle": "2025-09-27T14:18:39.431573Z",
     "shell.execute_reply": "2025-09-27T14:18:39.430567Z",
     "shell.execute_reply.started": "2025-09-27T14:18:39.424241Z"
    }
   },
   "outputs": [
    {
     "data": {
      "text/html": [
       "\n",
       "<div class=\"sm-graph\" id=\"box-e208c719-0bf2-49bf-bee6-1b6015ea7cd7\">\n",
       "<div id=\"e208c719-0bf2-49bf-bee6-1b6015ea7cd7\"></div>\n",
       "<a href=\"#\" id=\"fit-e208c719-0bf2-49bf-bee6-1b6015ea7cd7\"\n",
       "  style=\"position: absolute; left: 10px; bottom: 10px; text-decoration: none; color: #888; font-size: min(2vw, 10px);\n",
       "  z-index: 10; pointer-events: auto;\"\n",
       "> Reload\n",
       "</a>\n",
       "<style>\n",
       "#box-e208c719-0bf2-49bf-bee6-1b6015ea7cd7 {\n",
       "position: relative;\n",
       "width: 100%;\n",
       "height: 600px !important;\n",
       "max-width: 100vw;\n",
       "max-height: 100vh !important;\n",
       "}\n",
       "#e208c719-0bf2-49bf-bee6-1b6015ea7cd7 {\n",
       "  height: 100%;   /* Make the inner div fill the parent */\n",
       "}\n",
       "</style>\n",
       "</div>\n",
       "<script type=\"module\">\n",
       "import { DataSet, Network } from \"https://unpkg.com/vis-network/standalone/esm/vis-network.min.js\";\n",
       "// CSS will be automatically injected into the page.\n",
       "function render () {\n",
       "    const nodes = new DataSet([{\"id\": 0, \"label\": \"3\", \"title\": \"0\", \"x\": 0, \"group\": \"Node\"}, {\"id\": 1, \"label\": \"2\", \"title\": \"1\", \"x\": 0, \"group\": \"Node\"}, {\"id\": 2, \"label\": \"2\", \"title\": \"2\", \"x\": 0, \"group\": \"Node\"}, {\"id\": 3, \"label\": \"3\", \"title\": \"3\", \"x\": 0, \"group\": \"Node\"}, {\"id\": 4, \"label\": \"2\", \"title\": \"4\", \"x\": 0, \"group\": \"Node\"}, {\"id\": 5, \"label\": \"2\", \"title\": \"5\", \"x\": 0, \"group\": \"Node\"}, {\"id\": 6, \"label\": \"3\", \"title\": \"6\", \"x\": 0, \"group\": \"Node\"}, {\"id\": 7, \"label\": \"2\", \"title\": \"7\", \"x\": 0, \"group\": \"Node\"}, {\"id\": 8, \"label\": \"2\", \"title\": \"8\", \"x\": 0, \"group\": \"Node\"}, {\"title\": \"0: (0, 1)\", \"label\": \"-1\\u03b11\", \"id\": 9, \"group\": \"HyperEdge\", \"x\": 600}, {\"title\": \"1: (0, 2)\", \"label\": \"-\\u03b11\", \"id\": 10, \"group\": \"HyperEdge\", \"x\": 600}, {\"title\": \"2: (1, 2)\", \"label\": \"+1\\u03b11\", \"id\": 11, \"group\": \"HyperEdge\", \"x\": 600}, {\"title\": \"3: (3, 4)\", \"label\": \"-1\\u03b11\", \"id\": 12, \"group\": \"HyperEdge\", \"x\": 600}, {\"title\": \"4: (3, 5)\", \"label\": \"-1\\u03b11\", \"id\": 13, \"group\": \"HyperEdge\", \"x\": 600}, {\"title\": \"5: (4, 5)\", \"label\": \"+1\\u03b11\", \"id\": 14, \"group\": \"HyperEdge\", \"x\": 600}, {\"title\": \"6: (6, 7)\", \"label\": \"-1\\u03b11\", \"id\": 15, \"group\": \"HyperEdge\", \"x\": 600}, {\"title\": \"7: (6, 8)\", \"label\": \"-1\\u03b11\", \"id\": 16, \"group\": \"HyperEdge\", \"x\": 600}, {\"title\": \"8: (7, 8)\", \"label\": \"+1\\u03b11\", \"id\": 17, \"group\": \"HyperEdge\", \"x\": 600}, {\"title\": \"9: (0, 3, 6)\", \"label\": \"+2\\u03b11\", \"id\": 18, \"group\": \"HyperEdge\", \"x\": 600}]);\n",
       "    const edges = new DataSet([{\"from\": 0, \"to\": 9, \"title\": \"0 <-> 0: (0, 1)\"}, {\"from\": 0, \"to\": 10, \"title\": \"0 <-> 1: (0, 2)\"}, {\"from\": 0, \"to\": 18, \"title\": \"0 <-> 9: (0, 3, 6)\"}, {\"from\": 1, \"to\": 9, \"title\": \"1 <-> 0: (0, 1)\"}, {\"from\": 1, \"to\": 11, \"title\": \"1 <-> 2: (1, 2)\"}, {\"from\": 2, \"to\": 10, \"title\": \"2 <-> 1: (0, 2)\"}, {\"from\": 2, \"to\": 11, \"title\": \"2 <-> 2: (1, 2)\"}, {\"from\": 3, \"to\": 12, \"title\": \"3 <-> 3: (3, 4)\"}, {\"from\": 3, \"to\": 13, \"title\": \"3 <-> 4: (3, 5)\"}, {\"from\": 3, \"to\": 18, \"title\": \"3 <-> 9: (0, 3, 6)\"}, {\"from\": 4, \"to\": 12, \"title\": \"4 <-> 3: (3, 4)\"}, {\"from\": 4, \"to\": 14, \"title\": \"4 <-> 5: (4, 5)\"}, {\"from\": 5, \"to\": 13, \"title\": \"5 <-> 4: (3, 5)\"}, {\"from\": 5, \"to\": 14, \"title\": \"5 <-> 5: (4, 5)\"}, {\"from\": 6, \"to\": 15, \"title\": \"6 <-> 6: (6, 7)\"}, {\"from\": 6, \"to\": 16, \"title\": \"6 <-> 7: (6, 8)\"}, {\"from\": 6, \"to\": 18, \"title\": \"6 <-> 9: (0, 3, 6)\"}, {\"from\": 7, \"to\": 15, \"title\": \"7 <-> 6: (6, 7)\"}, {\"from\": 7, \"to\": 17, \"title\": \"7 <-> 8: (7, 8)\"}, {\"from\": 8, \"to\": 16, \"title\": \"8 <-> 7: (6, 8)\"}, {\"from\": 8, \"to\": 17, \"title\": \"8 <-> 8: (7, 8)\"}]);\n",
       "    const data = {\n",
       "            nodes: nodes,\n",
       "            edges: edges,\n",
       "    };\n",
       "    const options = {\"interaction\": {\"navigationButtons\": false}, \"width\": \"100%\", \"height\": \"600px\", \"groups\": {\"HyperEdge\": {\"fixed\": {\"x\": false}, \"color\": {\"background\": \"black\"}, \"shape\": \"dot\", \"size\": 5}, \"Node\": {\"fixed\": {\"x\": false}}}};\n",
       "    const container = document.getElementById('e208c719-0bf2-49bf-bee6-1b6015ea7cd7');\n",
       "    const network = new Network(container, data, options);\n",
       "    network.fit({maxZoomLevel: 10});\n",
       "    network.redraw();\n",
       "}\n",
       "\n",
       "render();\n",
       "document.getElementById('fit-e208c719-0bf2-49bf-bee6-1b6015ea7cd7').addEventListener('click', function(event) {\n",
       "    event.preventDefault();  // Prevent page jump\n",
       "    render(); // Adjust zoom limit as needed\n",
       "});\n",
       "</script>\n"
      ],
      "text/plain": [
       "<IPython.core.display.HTML object>"
      ]
     },
     "metadata": {},
     "output_type": "display_data"
    }
   ],
   "source": [
    "clover.show_kernel()"
   ]
  },
  {
   "cell_type": "markdown",
   "id": "79868c44",
   "metadata": {},
   "source": [
    "The double fan expands the kernel dimension."
   ]
  },
  {
   "cell_type": "code",
   "execution_count": 39,
   "id": "29a10081",
   "metadata": {
    "ExecuteTime": {
     "end_time": "2022-01-24T14:38:46.234114Z",
     "start_time": "2022-01-24T14:38:46.222601Z"
    },
    "execution": {
     "iopub.execute_input": "2025-09-27T14:18:39.432574Z",
     "iopub.status.busy": "2025-09-27T14:18:39.431573Z",
     "iopub.status.idle": "2025-09-27T14:18:39.438637Z",
     "shell.execute_reply": "2025-09-27T14:18:39.438637Z",
     "shell.execute_reply.started": "2025-09-27T14:18:39.432574Z"
    }
   },
   "outputs": [
    {
     "data": {
      "text/html": [
       "\n",
       "<div class=\"sm-graph\" id=\"box-9d24b30b-a9c4-4953-95b1-1a9862228a3d\">\n",
       "<div id=\"9d24b30b-a9c4-4953-95b1-1a9862228a3d\"></div>\n",
       "<a href=\"#\" id=\"fit-9d24b30b-a9c4-4953-95b1-1a9862228a3d\"\n",
       "  style=\"position: absolute; left: 10px; bottom: 10px; text-decoration: none; color: #888; font-size: min(2vw, 10px);\n",
       "  z-index: 10; pointer-events: auto;\"\n",
       "> Reload\n",
       "</a>\n",
       "<style>\n",
       "#box-9d24b30b-a9c4-4953-95b1-1a9862228a3d {\n",
       "position: relative;\n",
       "width: 100%;\n",
       "height: 600px !important;\n",
       "max-width: 100vw;\n",
       "max-height: 100vh !important;\n",
       "}\n",
       "#9d24b30b-a9c4-4953-95b1-1a9862228a3d {\n",
       "  height: 100%;   /* Make the inner div fill the parent */\n",
       "}\n",
       "</style>\n",
       "</div>\n",
       "<script type=\"module\">\n",
       "import { DataSet, Network } from \"https://unpkg.com/vis-network/standalone/esm/vis-network.min.js\";\n",
       "// CSS will be automatically injected into the page.\n",
       "function render () {\n",
       "    const nodes = new DataSet([{\"id\": 0, \"label\": \"0\", \"title\": \"0\", \"x\": 0, \"group\": \"Node\"}, {\"id\": 1, \"label\": \"1\", \"title\": \"1\", \"x\": 0, \"group\": \"Node\"}, {\"id\": 2, \"label\": \"2\", \"title\": \"2\", \"x\": 0, \"group\": \"Node\"}, {\"id\": 3, \"label\": \"3\", \"title\": \"3\", \"x\": 0, \"group\": \"Node\"}, {\"id\": 4, \"label\": \"4\", \"title\": \"4\", \"x\": 0, \"group\": \"Node\"}, {\"id\": 5, \"label\": \"5\", \"title\": \"5\", \"x\": 0, \"group\": \"Node\"}, {\"id\": 6, \"label\": \"6\", \"title\": \"6\", \"x\": 0, \"group\": \"Node\"}, {\"id\": 7, \"label\": \"7\", \"title\": \"7\", \"x\": 0, \"group\": \"Node\"}, {\"id\": 8, \"label\": \"8\", \"title\": \"8\", \"x\": 0, \"group\": \"Node\"}, {\"title\": \"0: (0, 1)\", \"label\": \"\", \"id\": 9, \"group\": \"HyperEdge\", \"x\": 600}, {\"title\": \"1: (0, 2)\", \"label\": \"\", \"id\": 10, \"group\": \"HyperEdge\", \"x\": 600}, {\"title\": \"2: (1, 2)\", \"label\": \"\", \"id\": 11, \"group\": \"HyperEdge\", \"x\": 600}, {\"title\": \"3: (3, 4)\", \"label\": \"\", \"id\": 12, \"group\": \"HyperEdge\", \"x\": 600}, {\"title\": \"4: (3, 5)\", \"label\": \"\", \"id\": 13, \"group\": \"HyperEdge\", \"x\": 600}, {\"title\": \"5: (4, 5)\", \"label\": \"\", \"id\": 14, \"group\": \"HyperEdge\", \"x\": 600}, {\"title\": \"6: (6, 7)\", \"label\": \"\", \"id\": 15, \"group\": \"HyperEdge\", \"x\": 600}, {\"title\": \"7: (6, 8)\", \"label\": \"\", \"id\": 16, \"group\": \"HyperEdge\", \"x\": 600}, {\"title\": \"8: (7, 8)\", \"label\": \"\", \"id\": 17, \"group\": \"HyperEdge\", \"x\": 600}, {\"title\": \"9: (0, 3, 6)\", \"label\": \"\", \"id\": 18, \"group\": \"HyperEdge\", \"x\": 600}, {\"title\": \"10: (1, 4, 7)\", \"label\": \"\", \"id\": 19, \"group\": \"HyperEdge\", \"x\": 600}]);\n",
       "    const edges = new DataSet([{\"from\": 0, \"to\": 9, \"title\": \"0 <-> 0: (0, 1)\"}, {\"from\": 0, \"to\": 10, \"title\": \"0 <-> 1: (0, 2)\"}, {\"from\": 0, \"to\": 18, \"title\": \"0 <-> 9: (0, 3, 6)\"}, {\"from\": 1, \"to\": 9, \"title\": \"1 <-> 0: (0, 1)\"}, {\"from\": 1, \"to\": 11, \"title\": \"1 <-> 2: (1, 2)\"}, {\"from\": 1, \"to\": 19, \"title\": \"1 <-> 10: (1, 4, 7)\"}, {\"from\": 2, \"to\": 10, \"title\": \"2 <-> 1: (0, 2)\"}, {\"from\": 2, \"to\": 11, \"title\": \"2 <-> 2: (1, 2)\"}, {\"from\": 3, \"to\": 12, \"title\": \"3 <-> 3: (3, 4)\"}, {\"from\": 3, \"to\": 13, \"title\": \"3 <-> 4: (3, 5)\"}, {\"from\": 3, \"to\": 18, \"title\": \"3 <-> 9: (0, 3, 6)\"}, {\"from\": 4, \"to\": 12, \"title\": \"4 <-> 3: (3, 4)\"}, {\"from\": 4, \"to\": 14, \"title\": \"4 <-> 5: (4, 5)\"}, {\"from\": 4, \"to\": 19, \"title\": \"4 <-> 10: (1, 4, 7)\"}, {\"from\": 5, \"to\": 13, \"title\": \"5 <-> 4: (3, 5)\"}, {\"from\": 5, \"to\": 14, \"title\": \"5 <-> 5: (4, 5)\"}, {\"from\": 6, \"to\": 15, \"title\": \"6 <-> 6: (6, 7)\"}, {\"from\": 6, \"to\": 16, \"title\": \"6 <-> 7: (6, 8)\"}, {\"from\": 6, \"to\": 18, \"title\": \"6 <-> 9: (0, 3, 6)\"}, {\"from\": 7, \"to\": 15, \"title\": \"7 <-> 6: (6, 7)\"}, {\"from\": 7, \"to\": 17, \"title\": \"7 <-> 8: (7, 8)\"}, {\"from\": 7, \"to\": 19, \"title\": \"7 <-> 10: (1, 4, 7)\"}, {\"from\": 8, \"to\": 16, \"title\": \"8 <-> 7: (6, 8)\"}, {\"from\": 8, \"to\": 17, \"title\": \"8 <-> 8: (7, 8)\"}]);\n",
       "    const data = {\n",
       "            nodes: nodes,\n",
       "            edges: edges,\n",
       "    };\n",
       "    const options = {\"interaction\": {\"navigationButtons\": false}, \"width\": \"100%\", \"height\": \"600px\", \"groups\": {\"HyperEdge\": {\"fixed\": {\"x\": false}, \"color\": {\"background\": \"black\"}, \"shape\": \"dot\", \"size\": 5}, \"Node\": {\"fixed\": {\"x\": false}}}};\n",
       "    const container = document.getElementById('9d24b30b-a9c4-4953-95b1-1a9862228a3d');\n",
       "    const network = new Network(container, data, options);\n",
       "    network.fit({maxZoomLevel: 10});\n",
       "    network.redraw();\n",
       "}\n",
       "\n",
       "render();\n",
       "document.getElementById('fit-9d24b30b-a9c4-4953-95b1-1a9862228a3d').addEventListener('click', function(event) {\n",
       "    event.preventDefault();  // Prevent page jump\n",
       "    render(); // Adjust zoom limit as needed\n",
       "});\n",
       "</script>\n"
      ],
      "text/plain": [
       "<IPython.core.display.HTML object>"
      ]
     },
     "metadata": {},
     "output_type": "display_data"
    }
   ],
   "source": [
    "double = sm.Fan(hyperedges=2)\n",
    "double.show_graph()"
   ]
  },
  {
   "cell_type": "code",
   "execution_count": 40,
   "id": "25468d43",
   "metadata": {
    "ExecuteTime": {
     "end_time": "2022-01-24T14:38:46.249308Z",
     "start_time": "2022-01-24T14:38:46.236147Z"
    },
    "execution": {
     "iopub.execute_input": "2025-09-27T14:18:39.439645Z",
     "iopub.status.busy": "2025-09-27T14:18:39.439645Z",
     "iopub.status.idle": "2025-09-27T14:18:39.445557Z",
     "shell.execute_reply": "2025-09-27T14:18:39.444551Z",
     "shell.execute_reply.started": "2025-09-27T14:18:39.439645Z"
    }
   },
   "outputs": [
    {
     "data": {
      "text/plain": [
       "Kernels of a graph with 9 nodes and 11 edges.\n",
       "Node dimension is 0.\n",
       "Edge dimension is 2\n",
       "Type: Surjective-only\n",
       "Node kernel:\n",
       "[]\n",
       "Edge kernel:\n",
       "[[-0.17089102  0.32672261 -0.32672261 -0.17089102  0.32672261 -0.32672261\n",
       "  -0.17089102  0.32672261 -0.32672261 -0.15583159  0.49761363]\n",
       " [-0.41327504 -0.13510121  0.13510121 -0.41327504 -0.13510121  0.13510121\n",
       "  -0.41327504 -0.13510121  0.13510121  0.54837625  0.27817383]]"
      ]
     },
     "execution_count": 40,
     "metadata": {},
     "output_type": "execute_result"
    }
   ],
   "source": [
    "double.kernel"
   ]
  },
  {
   "cell_type": "code",
   "execution_count": 41,
   "id": "f34c2d66",
   "metadata": {
    "ExecuteTime": {
     "end_time": "2022-01-24T14:38:46.264866Z",
     "start_time": "2022-01-24T14:38:46.250842Z"
    },
    "execution": {
     "iopub.execute_input": "2025-09-27T14:18:39.446558Z",
     "iopub.status.busy": "2025-09-27T14:18:39.445557Z",
     "iopub.status.idle": "2025-09-27T14:18:39.452559Z",
     "shell.execute_reply": "2025-09-27T14:18:39.452559Z",
     "shell.execute_reply.started": "2025-09-27T14:18:39.446558Z"
    }
   },
   "outputs": [
    {
     "data": {
      "text/html": [
       "\n",
       "<div class=\"sm-graph\" id=\"box-9969b15b-af06-47af-9144-1edfa46b9330\">\n",
       "<div id=\"9969b15b-af06-47af-9144-1edfa46b9330\"></div>\n",
       "<a href=\"#\" id=\"fit-9969b15b-af06-47af-9144-1edfa46b9330\"\n",
       "  style=\"position: absolute; left: 10px; bottom: 10px; text-decoration: none; color: #888; font-size: min(2vw, 10px);\n",
       "  z-index: 10; pointer-events: auto;\"\n",
       "> Reload\n",
       "</a>\n",
       "<style>\n",
       "#box-9969b15b-af06-47af-9144-1edfa46b9330 {\n",
       "position: relative;\n",
       "width: 100%;\n",
       "height: 600px !important;\n",
       "max-width: 100vw;\n",
       "max-height: 100vh !important;\n",
       "}\n",
       "#9969b15b-af06-47af-9144-1edfa46b9330 {\n",
       "  height: 100%;   /* Make the inner div fill the parent */\n",
       "}\n",
       "</style>\n",
       "</div>\n",
       "<script type=\"module\">\n",
       "import { DataSet, Network } from \"https://unpkg.com/vis-network/standalone/esm/vis-network.min.js\";\n",
       "// CSS will be automatically injected into the page.\n",
       "function render () {\n",
       "    const nodes = new DataSet([{\"id\": 0, \"label\": \"3\", \"title\": \"0\", \"x\": 0, \"group\": \"Node\"}, {\"id\": 1, \"label\": \"3\", \"title\": \"1\", \"x\": 0, \"group\": \"Node\"}, {\"id\": 2, \"label\": \"2\", \"title\": \"2\", \"x\": 0, \"group\": \"Node\"}, {\"id\": 3, \"label\": \"3\", \"title\": \"3\", \"x\": 0, \"group\": \"Node\"}, {\"id\": 4, \"label\": \"3\", \"title\": \"4\", \"x\": 0, \"group\": \"Node\"}, {\"id\": 5, \"label\": \"2\", \"title\": \"5\", \"x\": 0, \"group\": \"Node\"}, {\"id\": 6, \"label\": \"3\", \"title\": \"6\", \"x\": 0, \"group\": \"Node\"}, {\"id\": 7, \"label\": \"3\", \"title\": \"7\", \"x\": 0, \"group\": \"Node\"}, {\"id\": 8, \"label\": \"2\", \"title\": \"8\", \"x\": 0, \"group\": \"Node\"}, {\"title\": \"0: (0, 1)\", \"label\": \"-1.26\\u03b11-3.06\\u03b12\", \"id\": 9, \"group\": \"HyperEdge\", \"x\": 600}, {\"title\": \"1: (0, 2)\", \"label\": \"+2.42\\u03b11-\\u03b12\", \"id\": 10, \"group\": \"HyperEdge\", \"x\": 600}, {\"title\": \"2: (1, 2)\", \"label\": \"-2.42\\u03b11+1\\u03b12\", \"id\": 11, \"group\": \"HyperEdge\", \"x\": 600}, {\"title\": \"3: (3, 4)\", \"label\": \"-1.26\\u03b11-3.06\\u03b12\", \"id\": 12, \"group\": \"HyperEdge\", \"x\": 600}, {\"title\": \"4: (3, 5)\", \"label\": \"+2.42\\u03b11-1\\u03b12\", \"id\": 13, \"group\": \"HyperEdge\", \"x\": 600}, {\"title\": \"5: (4, 5)\", \"label\": \"-2.42\\u03b11+1\\u03b12\", \"id\": 14, \"group\": \"HyperEdge\", \"x\": 600}, {\"title\": \"6: (6, 7)\", \"label\": \"-1.26\\u03b11-3.06\\u03b12\", \"id\": 15, \"group\": \"HyperEdge\", \"x\": 600}, {\"title\": \"7: (6, 8)\", \"label\": \"+2.42\\u03b11-1\\u03b12\", \"id\": 16, \"group\": \"HyperEdge\", \"x\": 600}, {\"title\": \"8: (7, 8)\", \"label\": \"-2.42\\u03b11+1\\u03b12\", \"id\": 17, \"group\": \"HyperEdge\", \"x\": 600}, {\"title\": \"9: (0, 3, 6)\", \"label\": \"-1.15\\u03b11+4.06\\u03b12\", \"id\": 18, \"group\": \"HyperEdge\", \"x\": 600}, {\"title\": \"10: (1, 4, 7)\", \"label\": \"+3.68\\u03b11+2.06\\u03b12\", \"id\": 19, \"group\": \"HyperEdge\", \"x\": 600}]);\n",
       "    const edges = new DataSet([{\"from\": 0, \"to\": 9, \"title\": \"0 <-> 0: (0, 1)\"}, {\"from\": 0, \"to\": 10, \"title\": \"0 <-> 1: (0, 2)\"}, {\"from\": 0, \"to\": 18, \"title\": \"0 <-> 9: (0, 3, 6)\"}, {\"from\": 1, \"to\": 9, \"title\": \"1 <-> 0: (0, 1)\"}, {\"from\": 1, \"to\": 11, \"title\": \"1 <-> 2: (1, 2)\"}, {\"from\": 1, \"to\": 19, \"title\": \"1 <-> 10: (1, 4, 7)\"}, {\"from\": 2, \"to\": 10, \"title\": \"2 <-> 1: (0, 2)\"}, {\"from\": 2, \"to\": 11, \"title\": \"2 <-> 2: (1, 2)\"}, {\"from\": 3, \"to\": 12, \"title\": \"3 <-> 3: (3, 4)\"}, {\"from\": 3, \"to\": 13, \"title\": \"3 <-> 4: (3, 5)\"}, {\"from\": 3, \"to\": 18, \"title\": \"3 <-> 9: (0, 3, 6)\"}, {\"from\": 4, \"to\": 12, \"title\": \"4 <-> 3: (3, 4)\"}, {\"from\": 4, \"to\": 14, \"title\": \"4 <-> 5: (4, 5)\"}, {\"from\": 4, \"to\": 19, \"title\": \"4 <-> 10: (1, 4, 7)\"}, {\"from\": 5, \"to\": 13, \"title\": \"5 <-> 4: (3, 5)\"}, {\"from\": 5, \"to\": 14, \"title\": \"5 <-> 5: (4, 5)\"}, {\"from\": 6, \"to\": 15, \"title\": \"6 <-> 6: (6, 7)\"}, {\"from\": 6, \"to\": 16, \"title\": \"6 <-> 7: (6, 8)\"}, {\"from\": 6, \"to\": 18, \"title\": \"6 <-> 9: (0, 3, 6)\"}, {\"from\": 7, \"to\": 15, \"title\": \"7 <-> 6: (6, 7)\"}, {\"from\": 7, \"to\": 17, \"title\": \"7 <-> 8: (7, 8)\"}, {\"from\": 7, \"to\": 19, \"title\": \"7 <-> 10: (1, 4, 7)\"}, {\"from\": 8, \"to\": 16, \"title\": \"8 <-> 7: (6, 8)\"}, {\"from\": 8, \"to\": 17, \"title\": \"8 <-> 8: (7, 8)\"}]);\n",
       "    const data = {\n",
       "            nodes: nodes,\n",
       "            edges: edges,\n",
       "    };\n",
       "    const options = {\"interaction\": {\"navigationButtons\": false}, \"width\": \"100%\", \"height\": \"600px\", \"groups\": {\"HyperEdge\": {\"fixed\": {\"x\": false}, \"color\": {\"background\": \"black\"}, \"shape\": \"dot\", \"size\": 5}, \"Node\": {\"fixed\": {\"x\": false}}}};\n",
       "    const container = document.getElementById('9969b15b-af06-47af-9144-1edfa46b9330');\n",
       "    const network = new Network(container, data, options);\n",
       "    network.fit({maxZoomLevel: 10});\n",
       "    network.redraw();\n",
       "}\n",
       "\n",
       "render();\n",
       "document.getElementById('fit-9969b15b-af06-47af-9144-1edfa46b9330').addEventListener('click', function(event) {\n",
       "    event.preventDefault();  // Prevent page jump\n",
       "    render(); // Adjust zoom limit as needed\n",
       "});\n",
       "</script>\n"
      ],
      "text/plain": [
       "<IPython.core.display.HTML object>"
      ]
     },
     "metadata": {},
     "output_type": "display_data"
    }
   ],
   "source": [
    "double.show_kernel()"
   ]
  },
  {
   "cell_type": "markdown",
   "id": "4911e2d8",
   "metadata": {},
   "source": [
    "Last but not least, the *bipartite* fan created a large node kernel."
   ]
  },
  {
   "cell_type": "code",
   "execution_count": 42,
   "id": "a37d9b40",
   "metadata": {
    "ExecuteTime": {
     "end_time": "2022-01-24T14:38:46.234114Z",
     "start_time": "2022-01-24T14:38:46.222601Z"
    },
    "execution": {
     "iopub.execute_input": "2025-09-27T14:18:39.453735Z",
     "iopub.status.busy": "2025-09-27T14:18:39.453735Z",
     "iopub.status.idle": "2025-09-27T14:18:39.460734Z",
     "shell.execute_reply": "2025-09-27T14:18:39.460734Z",
     "shell.execute_reply.started": "2025-09-27T14:18:39.453735Z"
    }
   },
   "outputs": [
    {
     "data": {
      "text/html": [
       "\n",
       "<div class=\"sm-graph\" id=\"box-36389c3e-a017-46ae-accf-40387e0a21c1\">\n",
       "<div id=\"36389c3e-a017-46ae-accf-40387e0a21c1\"></div>\n",
       "<a href=\"#\" id=\"fit-36389c3e-a017-46ae-accf-40387e0a21c1\"\n",
       "  style=\"position: absolute; left: 10px; bottom: 10px; text-decoration: none; color: #888; font-size: min(2vw, 10px);\n",
       "  z-index: 10; pointer-events: auto;\"\n",
       "> Reload\n",
       "</a>\n",
       "<style>\n",
       "#box-36389c3e-a017-46ae-accf-40387e0a21c1 {\n",
       "position: relative;\n",
       "width: 100%;\n",
       "height: 600px !important;\n",
       "max-width: 100vw;\n",
       "max-height: 100vh !important;\n",
       "}\n",
       "#36389c3e-a017-46ae-accf-40387e0a21c1 {\n",
       "  height: 100%;   /* Make the inner div fill the parent */\n",
       "}\n",
       "</style>\n",
       "</div>\n",
       "<script type=\"module\">\n",
       "import { DataSet, Network } from \"https://unpkg.com/vis-network/standalone/esm/vis-network.min.js\";\n",
       "// CSS will be automatically injected into the page.\n",
       "function render () {\n",
       "    const nodes = new DataSet([{\"id\": 0, \"label\": \"0\", \"title\": \"0\", \"x\": 0, \"group\": \"Node\"}, {\"id\": 1, \"label\": \"1\", \"title\": \"1\", \"x\": 0, \"group\": \"Node\"}, {\"id\": 2, \"label\": \"2\", \"title\": \"2\", \"x\": 0, \"group\": \"Node\"}, {\"id\": 3, \"label\": \"3\", \"title\": \"3\", \"x\": 0, \"group\": \"Node\"}, {\"id\": 4, \"label\": \"4\", \"title\": \"4\", \"x\": 0, \"group\": \"Node\"}, {\"id\": 5, \"label\": \"5\", \"title\": \"5\", \"x\": 0, \"group\": \"Node\"}, {\"id\": 6, \"label\": \"6\", \"title\": \"6\", \"x\": 0, \"group\": \"Node\"}, {\"id\": 7, \"label\": \"7\", \"title\": \"7\", \"x\": 0, \"group\": \"Node\"}, {\"id\": 8, \"label\": \"8\", \"title\": \"8\", \"x\": 0, \"group\": \"Node\"}, {\"id\": 9, \"label\": \"9\", \"title\": \"9\", \"x\": 0, \"group\": \"Node\"}, {\"id\": 10, \"label\": \"10\", \"title\": \"10\", \"x\": 0, \"group\": \"Node\"}, {\"id\": 11, \"label\": \"11\", \"title\": \"11\", \"x\": 0, \"group\": \"Node\"}, {\"title\": \"0: (0, 1)\", \"label\": \"\", \"id\": 12, \"group\": \"HyperEdge\", \"x\": 600}, {\"title\": \"1: (0, 3)\", \"label\": \"\", \"id\": 13, \"group\": \"HyperEdge\", \"x\": 600}, {\"title\": \"2: (1, 2)\", \"label\": \"\", \"id\": 14, \"group\": \"HyperEdge\", \"x\": 600}, {\"title\": \"3: (2, 3)\", \"label\": \"\", \"id\": 15, \"group\": \"HyperEdge\", \"x\": 600}, {\"title\": \"4: (4, 5)\", \"label\": \"\", \"id\": 16, \"group\": \"HyperEdge\", \"x\": 600}, {\"title\": \"5: (4, 7)\", \"label\": \"\", \"id\": 17, \"group\": \"HyperEdge\", \"x\": 600}, {\"title\": \"6: (5, 6)\", \"label\": \"\", \"id\": 18, \"group\": \"HyperEdge\", \"x\": 600}, {\"title\": \"7: (6, 7)\", \"label\": \"\", \"id\": 19, \"group\": \"HyperEdge\", \"x\": 600}, {\"title\": \"8: (8, 9)\", \"label\": \"\", \"id\": 20, \"group\": \"HyperEdge\", \"x\": 600}, {\"title\": \"9: (8, 11)\", \"label\": \"\", \"id\": 21, \"group\": \"HyperEdge\", \"x\": 600}, {\"title\": \"10: (9, 10)\", \"label\": \"\", \"id\": 22, \"group\": \"HyperEdge\", \"x\": 600}, {\"title\": \"11: (10, 11)\", \"label\": \"\", \"id\": 23, \"group\": \"HyperEdge\", \"x\": 600}, {\"title\": \"12: (0, 4, 8)\", \"label\": \"\", \"id\": 24, \"group\": \"HyperEdge\", \"x\": 600}]);\n",
       "    const edges = new DataSet([{\"from\": 0, \"to\": 12, \"title\": \"0 <-> 0: (0, 1)\"}, {\"from\": 0, \"to\": 13, \"title\": \"0 <-> 1: (0, 3)\"}, {\"from\": 0, \"to\": 24, \"title\": \"0 <-> 12: (0, 4, 8)\"}, {\"from\": 1, \"to\": 12, \"title\": \"1 <-> 0: (0, 1)\"}, {\"from\": 1, \"to\": 14, \"title\": \"1 <-> 2: (1, 2)\"}, {\"from\": 2, \"to\": 14, \"title\": \"2 <-> 2: (1, 2)\"}, {\"from\": 2, \"to\": 15, \"title\": \"2 <-> 3: (2, 3)\"}, {\"from\": 3, \"to\": 13, \"title\": \"3 <-> 1: (0, 3)\"}, {\"from\": 3, \"to\": 15, \"title\": \"3 <-> 3: (2, 3)\"}, {\"from\": 4, \"to\": 16, \"title\": \"4 <-> 4: (4, 5)\"}, {\"from\": 4, \"to\": 17, \"title\": \"4 <-> 5: (4, 7)\"}, {\"from\": 4, \"to\": 24, \"title\": \"4 <-> 12: (0, 4, 8)\"}, {\"from\": 5, \"to\": 16, \"title\": \"5 <-> 4: (4, 5)\"}, {\"from\": 5, \"to\": 18, \"title\": \"5 <-> 6: (5, 6)\"}, {\"from\": 6, \"to\": 18, \"title\": \"6 <-> 6: (5, 6)\"}, {\"from\": 6, \"to\": 19, \"title\": \"6 <-> 7: (6, 7)\"}, {\"from\": 7, \"to\": 17, \"title\": \"7 <-> 5: (4, 7)\"}, {\"from\": 7, \"to\": 19, \"title\": \"7 <-> 7: (6, 7)\"}, {\"from\": 8, \"to\": 20, \"title\": \"8 <-> 8: (8, 9)\"}, {\"from\": 8, \"to\": 21, \"title\": \"8 <-> 9: (8, 11)\"}, {\"from\": 8, \"to\": 24, \"title\": \"8 <-> 12: (0, 4, 8)\"}, {\"from\": 9, \"to\": 20, \"title\": \"9 <-> 8: (8, 9)\"}, {\"from\": 9, \"to\": 22, \"title\": \"9 <-> 10: (9, 10)\"}, {\"from\": 10, \"to\": 22, \"title\": \"10 <-> 10: (9, 10)\"}, {\"from\": 10, \"to\": 23, \"title\": \"10 <-> 11: (10, 11)\"}, {\"from\": 11, \"to\": 21, \"title\": \"11 <-> 9: (8, 11)\"}, {\"from\": 11, \"to\": 23, \"title\": \"11 <-> 11: (10, 11)\"}]);\n",
       "    const data = {\n",
       "            nodes: nodes,\n",
       "            edges: edges,\n",
       "    };\n",
       "    const options = {\"interaction\": {\"navigationButtons\": false}, \"width\": \"100%\", \"height\": \"600px\", \"groups\": {\"HyperEdge\": {\"fixed\": {\"x\": false}, \"color\": {\"background\": \"black\"}, \"shape\": \"dot\", \"size\": 5}, \"Node\": {\"fixed\": {\"x\": false}}}};\n",
       "    const container = document.getElementById('36389c3e-a017-46ae-accf-40387e0a21c1');\n",
       "    const network = new Network(container, data, options);\n",
       "    network.fit({maxZoomLevel: 10});\n",
       "    network.redraw();\n",
       "}\n",
       "\n",
       "render();\n",
       "document.getElementById('fit-36389c3e-a017-46ae-accf-40387e0a21c1').addEventListener('click', function(event) {\n",
       "    event.preventDefault();  // Prevent page jump\n",
       "    render(); // Adjust zoom limit as needed\n",
       "});\n",
       "</script>\n"
      ],
      "text/plain": [
       "<IPython.core.display.HTML object>"
      ]
     },
     "metadata": {},
     "output_type": "display_data"
    }
   ],
   "source": [
    "bip = sm.Fan(cycle_size=4)\n",
    "bip.show_graph()"
   ]
  },
  {
   "cell_type": "code",
   "execution_count": 43,
   "id": "30c3bf71",
   "metadata": {
    "ExecuteTime": {
     "end_time": "2022-01-24T14:38:46.249308Z",
     "start_time": "2022-01-24T14:38:46.236147Z"
    },
    "execution": {
     "iopub.execute_input": "2025-09-27T14:18:39.462109Z",
     "iopub.status.busy": "2025-09-27T14:18:39.462109Z",
     "iopub.status.idle": "2025-09-27T14:18:39.469190Z",
     "shell.execute_reply": "2025-09-27T14:18:39.468180Z",
     "shell.execute_reply.started": "2025-09-27T14:18:39.462109Z"
    }
   },
   "outputs": [
    {
     "data": {
      "text/plain": [
       "Kernels of a graph with 12 nodes and 13 edges.\n",
       "Node dimension is 2.\n",
       "Edge dimension is 3\n",
       "Type: Nonjective\n",
       "Node kernel:\n",
       "[[-0.03577392  0.40667787]\n",
       " [ 0.03577392 -0.40667787]\n",
       " [-0.03577392  0.40667787]\n",
       " [ 0.03577392 -0.40667787]\n",
       " [ 0.37008033 -0.17235781]\n",
       " [-0.37008033  0.17235781]\n",
       " [ 0.37008033 -0.17235781]\n",
       " [-0.37008033  0.17235781]\n",
       " [-0.33430641 -0.23432006]\n",
       " [ 0.33430641  0.23432006]\n",
       " [-0.33430641 -0.23432006]\n",
       " [ 0.33430641  0.23432006]]\n",
       "Edge kernel:\n",
       "[[ 0.0879802  -0.0879802  -0.0879802   0.0879802  -0.46609144  0.46609144\n",
       "   0.46609144 -0.46609144  0.15817159 -0.15817159 -0.15817159  0.15817159\n",
       "   0.        ]\n",
       " [-0.48975298  0.48975298  0.48975298 -0.48975298 -0.06690184  0.06690184\n",
       "   0.06690184 -0.06690184  0.07527389 -0.07527389 -0.07527389  0.07527389\n",
       "   0.        ]\n",
       " [ 0.04900509 -0.04900509 -0.04900509  0.04900509  0.16817524 -0.16817524\n",
       "  -0.16817524  0.16817524  0.46831142 -0.46831142 -0.46831142  0.46831142\n",
       "   0.        ]]"
      ]
     },
     "execution_count": 43,
     "metadata": {},
     "output_type": "execute_result"
    }
   ],
   "source": [
    "bip.kernel"
   ]
  },
  {
   "cell_type": "markdown",
   "id": "4ba2f4da",
   "metadata": {},
   "source": [
    "The node kernel can be interpreted as follows:\n",
    "- There are three *bipartite* components, one for each square. Along the square, the nodes value must alternate positively and negatively.\n",
    "- The central edge forces the sum of the weights of its adjacent nodes to be zero. so if we fix two squares, the values on the last square are fully determined."
   ]
  },
  {
   "cell_type": "code",
   "execution_count": 44,
   "id": "e0f719ac",
   "metadata": {
    "ExecuteTime": {
     "end_time": "2022-01-24T14:38:46.264866Z",
     "start_time": "2022-01-24T14:38:46.250842Z"
    },
    "execution": {
     "iopub.execute_input": "2025-09-27T14:18:39.470191Z",
     "iopub.status.busy": "2025-09-27T14:18:39.469190Z",
     "iopub.status.idle": "2025-09-27T14:18:39.475487Z",
     "shell.execute_reply": "2025-09-27T14:18:39.475487Z",
     "shell.execute_reply.started": "2025-09-27T14:18:39.470191Z"
    }
   },
   "outputs": [
    {
     "data": {
      "text/html": [
       "\n",
       "<div class=\"sm-graph\" id=\"box-a42e8fd7-ee30-4ac1-bbc3-355badd37e50\">\n",
       "<div id=\"a42e8fd7-ee30-4ac1-bbc3-355badd37e50\"></div>\n",
       "<a href=\"#\" id=\"fit-a42e8fd7-ee30-4ac1-bbc3-355badd37e50\"\n",
       "  style=\"position: absolute; left: 10px; bottom: 10px; text-decoration: none; color: #888; font-size: min(2vw, 10px);\n",
       "  z-index: 10; pointer-events: auto;\"\n",
       "> Reload\n",
       "</a>\n",
       "<style>\n",
       "#box-a42e8fd7-ee30-4ac1-bbc3-355badd37e50 {\n",
       "position: relative;\n",
       "width: 100%;\n",
       "height: 600px !important;\n",
       "max-width: 100vw;\n",
       "max-height: 100vh !important;\n",
       "}\n",
       "#a42e8fd7-ee30-4ac1-bbc3-355badd37e50 {\n",
       "  height: 100%;   /* Make the inner div fill the parent */\n",
       "}\n",
       "</style>\n",
       "</div>\n",
       "<script type=\"module\">\n",
       "import { DataSet, Network } from \"https://unpkg.com/vis-network/standalone/esm/vis-network.min.js\";\n",
       "// CSS will be automatically injected into the page.\n",
       "function render () {\n",
       "    const nodes = new DataSet([{\"id\": 0, \"label\": \"3\", \"title\": \"0\", \"x\": 0, \"group\": \"Node\"}, {\"id\": 1, \"label\": \"2\", \"title\": \"1\", \"x\": 0, \"group\": \"Node\"}, {\"id\": 2, \"label\": \"2\", \"title\": \"2\", \"x\": 0, \"group\": \"Node\"}, {\"id\": 3, \"label\": \"2\", \"title\": \"3\", \"x\": 0, \"group\": \"Node\"}, {\"id\": 4, \"label\": \"3\", \"title\": \"4\", \"x\": 0, \"group\": \"Node\"}, {\"id\": 5, \"label\": \"2\", \"title\": \"5\", \"x\": 0, \"group\": \"Node\"}, {\"id\": 6, \"label\": \"2\", \"title\": \"6\", \"x\": 0, \"group\": \"Node\"}, {\"id\": 7, \"label\": \"2\", \"title\": \"7\", \"x\": 0, \"group\": \"Node\"}, {\"id\": 8, \"label\": \"3\", \"title\": \"8\", \"x\": 0, \"group\": \"Node\"}, {\"id\": 9, \"label\": \"2\", \"title\": \"9\", \"x\": 0, \"group\": \"Node\"}, {\"id\": 10, \"label\": \"2\", \"title\": \"10\", \"x\": 0, \"group\": \"Node\"}, {\"id\": 11, \"label\": \"2\", \"title\": \"11\", \"x\": 0, \"group\": \"Node\"}, {\"title\": \"0: (0, 1)\", \"label\": \"+1.8\\u03b11-9.99\\u03b12+1\\u03b13\", \"id\": 12, \"group\": \"HyperEdge\", \"x\": 600}, {\"title\": \"1: (0, 3)\", \"label\": \"-1.8\\u03b11+9.99\\u03b12-1\\u03b13\", \"id\": 13, \"group\": \"HyperEdge\", \"x\": 600}, {\"title\": \"2: (1, 2)\", \"label\": \"-1.8\\u03b11+9.99\\u03b12-\\u03b13\", \"id\": 14, \"group\": \"HyperEdge\", \"x\": 600}, {\"title\": \"3: (2, 3)\", \"label\": \"+1.8\\u03b11-9.99\\u03b12+1\\u03b13\", \"id\": 15, \"group\": \"HyperEdge\", \"x\": 600}, {\"title\": \"4: (4, 5)\", \"label\": \"-9.51\\u03b11-1.37\\u03b12+3.43\\u03b13\", \"id\": 16, \"group\": \"HyperEdge\", \"x\": 600}, {\"title\": \"5: (4, 7)\", \"label\": \"+9.51\\u03b11+1.37\\u03b12-3.43\\u03b13\", \"id\": 17, \"group\": \"HyperEdge\", \"x\": 600}, {\"title\": \"6: (5, 6)\", \"label\": \"+9.51\\u03b11+1.37\\u03b12-3.43\\u03b13\", \"id\": 18, \"group\": \"HyperEdge\", \"x\": 600}, {\"title\": \"7: (6, 7)\", \"label\": \"-9.51\\u03b11-1.37\\u03b12+3.43\\u03b13\", \"id\": 19, \"group\": \"HyperEdge\", \"x\": 600}, {\"title\": \"8: (8, 9)\", \"label\": \"+3.23\\u03b11+1.54\\u03b12+9.56\\u03b13\", \"id\": 20, \"group\": \"HyperEdge\", \"x\": 600}, {\"title\": \"9: (8, 11)\", \"label\": \"-3.23\\u03b11-1.54\\u03b12-9.56\\u03b13\", \"id\": 21, \"group\": \"HyperEdge\", \"x\": 600}, {\"title\": \"10: (9, 10)\", \"label\": \"-3.23\\u03b11-1.54\\u03b12-9.56\\u03b13\", \"id\": 22, \"group\": \"HyperEdge\", \"x\": 600}, {\"title\": \"11: (10, 11)\", \"label\": \"+3.23\\u03b11+1.54\\u03b12+9.56\\u03b13\", \"id\": 23, \"group\": \"HyperEdge\", \"x\": 600}, {\"title\": \"12: (0, 4, 8)\", \"label\": \"\", \"color\": \"black\", \"id\": 24, \"group\": \"HyperEdge\", \"x\": 600}]);\n",
       "    const edges = new DataSet([{\"from\": 0, \"to\": 12, \"title\": \"0 <-> 0: (0, 1)\"}, {\"from\": 0, \"to\": 13, \"title\": \"0 <-> 1: (0, 3)\"}, {\"from\": 0, \"to\": 24, \"title\": \"0 <-> 12: (0, 4, 8)\"}, {\"from\": 1, \"to\": 12, \"title\": \"1 <-> 0: (0, 1)\"}, {\"from\": 1, \"to\": 14, \"title\": \"1 <-> 2: (1, 2)\"}, {\"from\": 2, \"to\": 14, \"title\": \"2 <-> 2: (1, 2)\"}, {\"from\": 2, \"to\": 15, \"title\": \"2 <-> 3: (2, 3)\"}, {\"from\": 3, \"to\": 13, \"title\": \"3 <-> 1: (0, 3)\"}, {\"from\": 3, \"to\": 15, \"title\": \"3 <-> 3: (2, 3)\"}, {\"from\": 4, \"to\": 16, \"title\": \"4 <-> 4: (4, 5)\"}, {\"from\": 4, \"to\": 17, \"title\": \"4 <-> 5: (4, 7)\"}, {\"from\": 4, \"to\": 24, \"title\": \"4 <-> 12: (0, 4, 8)\"}, {\"from\": 5, \"to\": 16, \"title\": \"5 <-> 4: (4, 5)\"}, {\"from\": 5, \"to\": 18, \"title\": \"5 <-> 6: (5, 6)\"}, {\"from\": 6, \"to\": 18, \"title\": \"6 <-> 6: (5, 6)\"}, {\"from\": 6, \"to\": 19, \"title\": \"6 <-> 7: (6, 7)\"}, {\"from\": 7, \"to\": 17, \"title\": \"7 <-> 5: (4, 7)\"}, {\"from\": 7, \"to\": 19, \"title\": \"7 <-> 7: (6, 7)\"}, {\"from\": 8, \"to\": 20, \"title\": \"8 <-> 8: (8, 9)\"}, {\"from\": 8, \"to\": 21, \"title\": \"8 <-> 9: (8, 11)\"}, {\"from\": 8, \"to\": 24, \"title\": \"8 <-> 12: (0, 4, 8)\"}, {\"from\": 9, \"to\": 20, \"title\": \"9 <-> 8: (8, 9)\"}, {\"from\": 9, \"to\": 22, \"title\": \"9 <-> 10: (9, 10)\"}, {\"from\": 10, \"to\": 22, \"title\": \"10 <-> 10: (9, 10)\"}, {\"from\": 10, \"to\": 23, \"title\": \"10 <-> 11: (10, 11)\"}, {\"from\": 11, \"to\": 21, \"title\": \"11 <-> 9: (8, 11)\"}, {\"from\": 11, \"to\": 23, \"title\": \"11 <-> 11: (10, 11)\"}]);\n",
       "    const data = {\n",
       "            nodes: nodes,\n",
       "            edges: edges,\n",
       "    };\n",
       "    const options = {\"interaction\": {\"navigationButtons\": false}, \"width\": \"100%\", \"height\": \"600px\", \"groups\": {\"HyperEdge\": {\"fixed\": {\"x\": false}, \"color\": {\"background\": \"black\"}, \"shape\": \"dot\", \"size\": 5}, \"Node\": {\"fixed\": {\"x\": false}}}};\n",
       "    const container = document.getElementById('a42e8fd7-ee30-4ac1-bbc3-355badd37e50');\n",
       "    const network = new Network(container, data, options);\n",
       "    network.fit({maxZoomLevel: 10});\n",
       "    network.redraw();\n",
       "}\n",
       "\n",
       "render();\n",
       "document.getElementById('fit-a42e8fd7-ee30-4ac1-bbc3-355badd37e50').addEventListener('click', function(event) {\n",
       "    event.preventDefault();  // Prevent page jump\n",
       "    render(); // Adjust zoom limit as needed\n",
       "});\n",
       "</script>\n"
      ],
      "text/plain": [
       "<IPython.core.display.HTML object>"
      ]
     },
     "metadata": {},
     "output_type": "display_data"
    }
   ],
   "source": [
    "bip.show_kernel()"
   ]
  },
  {
   "cell_type": "markdown",
   "id": "03d724ff",
   "metadata": {},
   "source": [
    "Remark that in this example, the hyperedge is not part of the edge kernel. Only the three regular squares are."
   ]
  },
  {
   "cell_type": "markdown",
   "id": "cd23d451",
   "metadata": {},
   "source": [
    "Just for the experience, let us add another hyperedge."
   ]
  },
  {
   "cell_type": "code",
   "execution_count": 45,
   "id": "53a9dbd5",
   "metadata": {
    "ExecuteTime": {
     "end_time": "2022-01-24T14:38:46.281076Z",
     "start_time": "2022-01-24T14:38:46.265868Z"
    },
    "execution": {
     "iopub.execute_input": "2025-09-27T14:18:39.476495Z",
     "iopub.status.busy": "2025-09-27T14:18:39.476495Z",
     "iopub.status.idle": "2025-09-27T14:18:39.483515Z",
     "shell.execute_reply": "2025-09-27T14:18:39.483515Z",
     "shell.execute_reply.started": "2025-09-27T14:18:39.476495Z"
    }
   },
   "outputs": [
    {
     "data": {
      "text/html": [
       "\n",
       "<div class=\"sm-graph\" id=\"box-31b087c3-4787-45f9-bd05-f8274c8feb6d\">\n",
       "<div id=\"31b087c3-4787-45f9-bd05-f8274c8feb6d\"></div>\n",
       "<a href=\"#\" id=\"fit-31b087c3-4787-45f9-bd05-f8274c8feb6d\"\n",
       "  style=\"position: absolute; left: 10px; bottom: 10px; text-decoration: none; color: #888; font-size: min(2vw, 10px);\n",
       "  z-index: 10; pointer-events: auto;\"\n",
       "> Reload\n",
       "</a>\n",
       "<style>\n",
       "#box-31b087c3-4787-45f9-bd05-f8274c8feb6d {\n",
       "position: relative;\n",
       "width: 100%;\n",
       "height: 600px !important;\n",
       "max-width: 100vw;\n",
       "max-height: 100vh !important;\n",
       "}\n",
       "#31b087c3-4787-45f9-bd05-f8274c8feb6d {\n",
       "  height: 100%;   /* Make the inner div fill the parent */\n",
       "}\n",
       "</style>\n",
       "</div>\n",
       "<script type=\"module\">\n",
       "import { DataSet, Network } from \"https://unpkg.com/vis-network/standalone/esm/vis-network.min.js\";\n",
       "// CSS will be automatically injected into the page.\n",
       "function render () {\n",
       "    const nodes = new DataSet([{\"id\": 0, \"label\": \"0\", \"title\": \"0\", \"x\": 0, \"group\": \"Node\"}, {\"id\": 1, \"label\": \"1\", \"title\": \"1\", \"x\": 0, \"group\": \"Node\"}, {\"id\": 2, \"label\": \"2\", \"title\": \"2\", \"x\": 0, \"group\": \"Node\"}, {\"id\": 3, \"label\": \"3\", \"title\": \"3\", \"x\": 0, \"group\": \"Node\"}, {\"id\": 4, \"label\": \"4\", \"title\": \"4\", \"x\": 0, \"group\": \"Node\"}, {\"id\": 5, \"label\": \"5\", \"title\": \"5\", \"x\": 0, \"group\": \"Node\"}, {\"id\": 6, \"label\": \"6\", \"title\": \"6\", \"x\": 0, \"group\": \"Node\"}, {\"id\": 7, \"label\": \"7\", \"title\": \"7\", \"x\": 0, \"group\": \"Node\"}, {\"id\": 8, \"label\": \"8\", \"title\": \"8\", \"x\": 0, \"group\": \"Node\"}, {\"id\": 9, \"label\": \"9\", \"title\": \"9\", \"x\": 0, \"group\": \"Node\"}, {\"id\": 10, \"label\": \"10\", \"title\": \"10\", \"x\": 0, \"group\": \"Node\"}, {\"id\": 11, \"label\": \"11\", \"title\": \"11\", \"x\": 0, \"group\": \"Node\"}, {\"title\": \"0: (0, 1)\", \"label\": \"\", \"id\": 12, \"group\": \"HyperEdge\", \"x\": 600}, {\"title\": \"1: (0, 3)\", \"label\": \"\", \"id\": 13, \"group\": \"HyperEdge\", \"x\": 600}, {\"title\": \"2: (1, 2)\", \"label\": \"\", \"id\": 14, \"group\": \"HyperEdge\", \"x\": 600}, {\"title\": \"3: (2, 3)\", \"label\": \"\", \"id\": 15, \"group\": \"HyperEdge\", \"x\": 600}, {\"title\": \"4: (4, 5)\", \"label\": \"\", \"id\": 16, \"group\": \"HyperEdge\", \"x\": 600}, {\"title\": \"5: (4, 7)\", \"label\": \"\", \"id\": 17, \"group\": \"HyperEdge\", \"x\": 600}, {\"title\": \"6: (5, 6)\", \"label\": \"\", \"id\": 18, \"group\": \"HyperEdge\", \"x\": 600}, {\"title\": \"7: (6, 7)\", \"label\": \"\", \"id\": 19, \"group\": \"HyperEdge\", \"x\": 600}, {\"title\": \"8: (8, 9)\", \"label\": \"\", \"id\": 20, \"group\": \"HyperEdge\", \"x\": 600}, {\"title\": \"9: (8, 11)\", \"label\": \"\", \"id\": 21, \"group\": \"HyperEdge\", \"x\": 600}, {\"title\": \"10: (9, 10)\", \"label\": \"\", \"id\": 22, \"group\": \"HyperEdge\", \"x\": 600}, {\"title\": \"11: (10, 11)\", \"label\": \"\", \"id\": 23, \"group\": \"HyperEdge\", \"x\": 600}, {\"title\": \"12: (0, 4, 8)\", \"label\": \"\", \"id\": 24, \"group\": \"HyperEdge\", \"x\": 600}, {\"title\": \"13: (1, 5, 9)\", \"label\": \"\", \"id\": 25, \"group\": \"HyperEdge\", \"x\": 600}]);\n",
       "    const edges = new DataSet([{\"from\": 0, \"to\": 12, \"title\": \"0 <-> 0: (0, 1)\"}, {\"from\": 0, \"to\": 13, \"title\": \"0 <-> 1: (0, 3)\"}, {\"from\": 0, \"to\": 24, \"title\": \"0 <-> 12: (0, 4, 8)\"}, {\"from\": 1, \"to\": 12, \"title\": \"1 <-> 0: (0, 1)\"}, {\"from\": 1, \"to\": 14, \"title\": \"1 <-> 2: (1, 2)\"}, {\"from\": 1, \"to\": 25, \"title\": \"1 <-> 13: (1, 5, 9)\"}, {\"from\": 2, \"to\": 14, \"title\": \"2 <-> 2: (1, 2)\"}, {\"from\": 2, \"to\": 15, \"title\": \"2 <-> 3: (2, 3)\"}, {\"from\": 3, \"to\": 13, \"title\": \"3 <-> 1: (0, 3)\"}, {\"from\": 3, \"to\": 15, \"title\": \"3 <-> 3: (2, 3)\"}, {\"from\": 4, \"to\": 16, \"title\": \"4 <-> 4: (4, 5)\"}, {\"from\": 4, \"to\": 17, \"title\": \"4 <-> 5: (4, 7)\"}, {\"from\": 4, \"to\": 24, \"title\": \"4 <-> 12: (0, 4, 8)\"}, {\"from\": 5, \"to\": 16, \"title\": \"5 <-> 4: (4, 5)\"}, {\"from\": 5, \"to\": 18, \"title\": \"5 <-> 6: (5, 6)\"}, {\"from\": 5, \"to\": 25, \"title\": \"5 <-> 13: (1, 5, 9)\"}, {\"from\": 6, \"to\": 18, \"title\": \"6 <-> 6: (5, 6)\"}, {\"from\": 6, \"to\": 19, \"title\": \"6 <-> 7: (6, 7)\"}, {\"from\": 7, \"to\": 17, \"title\": \"7 <-> 5: (4, 7)\"}, {\"from\": 7, \"to\": 19, \"title\": \"7 <-> 7: (6, 7)\"}, {\"from\": 8, \"to\": 20, \"title\": \"8 <-> 8: (8, 9)\"}, {\"from\": 8, \"to\": 21, \"title\": \"8 <-> 9: (8, 11)\"}, {\"from\": 8, \"to\": 24, \"title\": \"8 <-> 12: (0, 4, 8)\"}, {\"from\": 9, \"to\": 20, \"title\": \"9 <-> 8: (8, 9)\"}, {\"from\": 9, \"to\": 22, \"title\": \"9 <-> 10: (9, 10)\"}, {\"from\": 9, \"to\": 25, \"title\": \"9 <-> 13: (1, 5, 9)\"}, {\"from\": 10, \"to\": 22, \"title\": \"10 <-> 10: (9, 10)\"}, {\"from\": 10, \"to\": 23, \"title\": \"10 <-> 11: (10, 11)\"}, {\"from\": 11, \"to\": 21, \"title\": \"11 <-> 9: (8, 11)\"}, {\"from\": 11, \"to\": 23, \"title\": \"11 <-> 11: (10, 11)\"}]);\n",
       "    const data = {\n",
       "            nodes: nodes,\n",
       "            edges: edges,\n",
       "    };\n",
       "    const options = {\"interaction\": {\"navigationButtons\": false}, \"width\": \"100%\", \"height\": \"600px\", \"groups\": {\"HyperEdge\": {\"fixed\": {\"x\": false}, \"color\": {\"background\": \"black\"}, \"shape\": \"dot\", \"size\": 5}, \"Node\": {\"fixed\": {\"x\": false}}}};\n",
       "    const container = document.getElementById('31b087c3-4787-45f9-bd05-f8274c8feb6d');\n",
       "    const network = new Network(container, data, options);\n",
       "    network.fit({maxZoomLevel: 10});\n",
       "    network.redraw();\n",
       "}\n",
       "\n",
       "render();\n",
       "document.getElementById('fit-31b087c3-4787-45f9-bd05-f8274c8feb6d').addEventListener('click', function(event) {\n",
       "    event.preventDefault();  // Prevent page jump\n",
       "    render(); // Adjust zoom limit as needed\n",
       "});\n",
       "</script>\n"
      ],
      "text/plain": [
       "<IPython.core.display.HTML object>"
      ]
     },
     "metadata": {},
     "output_type": "display_data"
    }
   ],
   "source": [
    "bip = sm.Fan(cycle_size=4, hyperedges=2)\n",
    "bip.show_graph()"
   ]
  },
  {
   "cell_type": "code",
   "execution_count": 46,
   "id": "8d020b97",
   "metadata": {
    "ExecuteTime": {
     "end_time": "2022-01-24T14:38:46.296483Z",
     "start_time": "2022-01-24T14:38:46.282880Z"
    },
    "execution": {
     "iopub.execute_input": "2025-09-27T14:18:39.484523Z",
     "iopub.status.busy": "2025-09-27T14:18:39.484523Z",
     "iopub.status.idle": "2025-09-27T14:18:39.489935Z",
     "shell.execute_reply": "2025-09-27T14:18:39.489935Z",
     "shell.execute_reply.started": "2025-09-27T14:18:39.484523Z"
    }
   },
   "outputs": [
    {
     "data": {
      "text/plain": [
       "Kernels of a graph with 12 nodes and 14 edges.\n",
       "Node dimension is 2.\n",
       "Edge dimension is 4\n",
       "Type: Nonjective\n",
       "Node kernel:\n",
       "[[ 0.32250561 -0.25031339]\n",
       " [-0.32250561  0.25031339]\n",
       " [ 0.32250561 -0.25031339]\n",
       " [-0.32250561  0.25031339]\n",
       " [-0.37803057 -0.15414136]\n",
       " [ 0.37803057  0.15414136]\n",
       " [-0.37803057 -0.15414136]\n",
       " [ 0.37803057  0.15414136]\n",
       " [ 0.05552495  0.40445475]\n",
       " [-0.05552495 -0.40445475]\n",
       " [ 0.05552495  0.40445475]\n",
       " [-0.05552495 -0.40445475]]\n",
       "Edge kernel:\n",
       "[[-0.56906235  0.1744534   0.1744534  -0.1744534  -0.39193558 -0.00267337\n",
       "  -0.00267337  0.00267337 -0.2685181  -0.12609085 -0.12609085  0.12609085\n",
       "   0.39460895  0.39460895]\n",
       " [ 0.06237319 -0.30242679 -0.30242679  0.30242679  0.12293935 -0.36299295\n",
       "  -0.36299295  0.36299295 -0.37551859  0.13546499  0.13546499 -0.13546499\n",
       "   0.2400536   0.2400536 ]\n",
       " [-0.02439087  0.08230634  0.08230634 -0.08230634 -0.14626481  0.20418028\n",
       "   0.20418028 -0.20418028 -0.41026921  0.46818468  0.46818468 -0.46818468\n",
       "  -0.05791547 -0.05791547]\n",
       " [-0.23245569  0.36883003  0.36883003 -0.36883003  0.43844265 -0.30206831\n",
       "  -0.30206831  0.30206831  0.0302644   0.10610994  0.10610994 -0.10610994\n",
       "  -0.13637434 -0.13637434]]"
      ]
     },
     "execution_count": 46,
     "metadata": {},
     "output_type": "execute_result"
    }
   ],
   "source": [
    "bip.kernel"
   ]
  },
  {
   "cell_type": "code",
   "execution_count": 47,
   "id": "a0523269",
   "metadata": {
    "ExecuteTime": {
     "end_time": "2022-01-24T14:38:46.312619Z",
     "start_time": "2022-01-24T14:38:46.299462Z"
    },
    "execution": {
     "iopub.execute_input": "2025-09-27T14:18:39.490942Z",
     "iopub.status.busy": "2025-09-27T14:18:39.490942Z",
     "iopub.status.idle": "2025-09-27T14:18:39.497001Z",
     "shell.execute_reply": "2025-09-27T14:18:39.497001Z",
     "shell.execute_reply.started": "2025-09-27T14:18:39.490942Z"
    }
   },
   "outputs": [
    {
     "data": {
      "text/html": [
       "\n",
       "<div class=\"sm-graph\" id=\"box-7a6ded23-20a0-40f7-8b6d-d341199f22c5\">\n",
       "<div id=\"7a6ded23-20a0-40f7-8b6d-d341199f22c5\"></div>\n",
       "<a href=\"#\" id=\"fit-7a6ded23-20a0-40f7-8b6d-d341199f22c5\"\n",
       "  style=\"position: absolute; left: 10px; bottom: 10px; text-decoration: none; color: #888; font-size: min(2vw, 10px);\n",
       "  z-index: 10; pointer-events: auto;\"\n",
       "> Reload\n",
       "</a>\n",
       "<style>\n",
       "#box-7a6ded23-20a0-40f7-8b6d-d341199f22c5 {\n",
       "position: relative;\n",
       "width: 100%;\n",
       "height: 600px !important;\n",
       "max-width: 100vw;\n",
       "max-height: 100vh !important;\n",
       "}\n",
       "#7a6ded23-20a0-40f7-8b6d-d341199f22c5 {\n",
       "  height: 100%;   /* Make the inner div fill the parent */\n",
       "}\n",
       "</style>\n",
       "</div>\n",
       "<script type=\"module\">\n",
       "import { DataSet, Network } from \"https://unpkg.com/vis-network/standalone/esm/vis-network.min.js\";\n",
       "// CSS will be automatically injected into the page.\n",
       "function render () {\n",
       "    const nodes = new DataSet([{\"id\": 0, \"label\": \"3\", \"title\": \"0\", \"x\": 0, \"group\": \"Node\"}, {\"id\": 1, \"label\": \"3\", \"title\": \"1\", \"x\": 0, \"group\": \"Node\"}, {\"id\": 2, \"label\": \"2\", \"title\": \"2\", \"x\": 0, \"group\": \"Node\"}, {\"id\": 3, \"label\": \"2\", \"title\": \"3\", \"x\": 0, \"group\": \"Node\"}, {\"id\": 4, \"label\": \"3\", \"title\": \"4\", \"x\": 0, \"group\": \"Node\"}, {\"id\": 5, \"label\": \"3\", \"title\": \"5\", \"x\": 0, \"group\": \"Node\"}, {\"id\": 6, \"label\": \"2\", \"title\": \"6\", \"x\": 0, \"group\": \"Node\"}, {\"id\": 7, \"label\": \"2\", \"title\": \"7\", \"x\": 0, \"group\": \"Node\"}, {\"id\": 8, \"label\": \"3\", \"title\": \"8\", \"x\": 0, \"group\": \"Node\"}, {\"id\": 9, \"label\": \"3\", \"title\": \"9\", \"x\": 0, \"group\": \"Node\"}, {\"id\": 10, \"label\": \"2\", \"title\": \"10\", \"x\": 0, \"group\": \"Node\"}, {\"id\": 11, \"label\": \"2\", \"title\": \"11\", \"x\": 0, \"group\": \"Node\"}, {\"title\": \"0: (0, 1)\", \"label\": \"-213\\u03b11+23.3\\u03b12-9.12\\u03b13-87\\u03b14\", \"id\": 12, \"group\": \"HyperEdge\", \"x\": 600}, {\"title\": \"1: (0, 3)\", \"label\": \"+65.3\\u03b11-113\\u03b12+30.8\\u03b13+138\\u03b14\", \"id\": 13, \"group\": \"HyperEdge\", \"x\": 600}, {\"title\": \"2: (1, 2)\", \"label\": \"+65.3\\u03b11-113\\u03b12+30.8\\u03b13+138\\u03b14\", \"id\": 14, \"group\": \"HyperEdge\", \"x\": 600}, {\"title\": \"3: (2, 3)\", \"label\": \"-65.3\\u03b11+113\\u03b12-30.8\\u03b13-138\\u03b14\", \"id\": 15, \"group\": \"HyperEdge\", \"x\": 600}, {\"title\": \"4: (4, 5)\", \"label\": \"-147\\u03b11+46\\u03b12-54.7\\u03b13+164\\u03b14\", \"id\": 16, \"group\": \"HyperEdge\", \"x\": 600}, {\"title\": \"5: (4, 7)\", \"label\": \"-\\u03b11-136\\u03b12+76.4\\u03b13-113\\u03b14\", \"id\": 17, \"group\": \"HyperEdge\", \"x\": 600}, {\"title\": \"6: (5, 6)\", \"label\": \"-1\\u03b11-136\\u03b12+76.4\\u03b13-113\\u03b14\", \"id\": 18, \"group\": \"HyperEdge\", \"x\": 600}, {\"title\": \"7: (6, 7)\", \"label\": \"+1\\u03b11+136\\u03b12-76.4\\u03b13+113\\u03b14\", \"id\": 19, \"group\": \"HyperEdge\", \"x\": 600}, {\"title\": \"8: (8, 9)\", \"label\": \"-100\\u03b11-140\\u03b12-153\\u03b13+11.3\\u03b14\", \"id\": 20, \"group\": \"HyperEdge\", \"x\": 600}, {\"title\": \"9: (8, 11)\", \"label\": \"-47.2\\u03b11+50.7\\u03b12+175\\u03b13+39.7\\u03b14\", \"id\": 21, \"group\": \"HyperEdge\", \"x\": 600}, {\"title\": \"10: (9, 10)\", \"label\": \"-47.2\\u03b11+50.7\\u03b12+175\\u03b13+39.7\\u03b14\", \"id\": 22, \"group\": \"HyperEdge\", \"x\": 600}, {\"title\": \"11: (10, 11)\", \"label\": \"+47.2\\u03b11-50.7\\u03b12-175\\u03b13-39.7\\u03b14\", \"id\": 23, \"group\": \"HyperEdge\", \"x\": 600}, {\"title\": \"12: (0, 4, 8)\", \"label\": \"+148\\u03b11+89.8\\u03b12-21.7\\u03b13-51\\u03b14\", \"id\": 24, \"group\": \"HyperEdge\", \"x\": 600}, {\"title\": \"13: (1, 5, 9)\", \"label\": \"+148\\u03b11+89.8\\u03b12-21.7\\u03b13-51\\u03b14\", \"id\": 25, \"group\": \"HyperEdge\", \"x\": 600}]);\n",
       "    const edges = new DataSet([{\"from\": 0, \"to\": 12, \"title\": \"0 <-> 0: (0, 1)\"}, {\"from\": 0, \"to\": 13, \"title\": \"0 <-> 1: (0, 3)\"}, {\"from\": 0, \"to\": 24, \"title\": \"0 <-> 12: (0, 4, 8)\"}, {\"from\": 1, \"to\": 12, \"title\": \"1 <-> 0: (0, 1)\"}, {\"from\": 1, \"to\": 14, \"title\": \"1 <-> 2: (1, 2)\"}, {\"from\": 1, \"to\": 25, \"title\": \"1 <-> 13: (1, 5, 9)\"}, {\"from\": 2, \"to\": 14, \"title\": \"2 <-> 2: (1, 2)\"}, {\"from\": 2, \"to\": 15, \"title\": \"2 <-> 3: (2, 3)\"}, {\"from\": 3, \"to\": 13, \"title\": \"3 <-> 1: (0, 3)\"}, {\"from\": 3, \"to\": 15, \"title\": \"3 <-> 3: (2, 3)\"}, {\"from\": 4, \"to\": 16, \"title\": \"4 <-> 4: (4, 5)\"}, {\"from\": 4, \"to\": 17, \"title\": \"4 <-> 5: (4, 7)\"}, {\"from\": 4, \"to\": 24, \"title\": \"4 <-> 12: (0, 4, 8)\"}, {\"from\": 5, \"to\": 16, \"title\": \"5 <-> 4: (4, 5)\"}, {\"from\": 5, \"to\": 18, \"title\": \"5 <-> 6: (5, 6)\"}, {\"from\": 5, \"to\": 25, \"title\": \"5 <-> 13: (1, 5, 9)\"}, {\"from\": 6, \"to\": 18, \"title\": \"6 <-> 6: (5, 6)\"}, {\"from\": 6, \"to\": 19, \"title\": \"6 <-> 7: (6, 7)\"}, {\"from\": 7, \"to\": 17, \"title\": \"7 <-> 5: (4, 7)\"}, {\"from\": 7, \"to\": 19, \"title\": \"7 <-> 7: (6, 7)\"}, {\"from\": 8, \"to\": 20, \"title\": \"8 <-> 8: (8, 9)\"}, {\"from\": 8, \"to\": 21, \"title\": \"8 <-> 9: (8, 11)\"}, {\"from\": 8, \"to\": 24, \"title\": \"8 <-> 12: (0, 4, 8)\"}, {\"from\": 9, \"to\": 20, \"title\": \"9 <-> 8: (8, 9)\"}, {\"from\": 9, \"to\": 22, \"title\": \"9 <-> 10: (9, 10)\"}, {\"from\": 9, \"to\": 25, \"title\": \"9 <-> 13: (1, 5, 9)\"}, {\"from\": 10, \"to\": 22, \"title\": \"10 <-> 10: (9, 10)\"}, {\"from\": 10, \"to\": 23, \"title\": \"10 <-> 11: (10, 11)\"}, {\"from\": 11, \"to\": 21, \"title\": \"11 <-> 9: (8, 11)\"}, {\"from\": 11, \"to\": 23, \"title\": \"11 <-> 11: (10, 11)\"}]);\n",
       "    const data = {\n",
       "            nodes: nodes,\n",
       "            edges: edges,\n",
       "    };\n",
       "    const options = {\"interaction\": {\"navigationButtons\": false}, \"width\": \"100%\", \"height\": \"600px\", \"groups\": {\"HyperEdge\": {\"fixed\": {\"x\": false}, \"color\": {\"background\": \"black\"}, \"shape\": \"dot\", \"size\": 5}, \"Node\": {\"fixed\": {\"x\": false}}}};\n",
       "    const container = document.getElementById('7a6ded23-20a0-40f7-8b6d-d341199f22c5');\n",
       "    const network = new Network(container, data, options);\n",
       "    network.fit({maxZoomLevel: 10});\n",
       "    network.redraw();\n",
       "}\n",
       "\n",
       "render();\n",
       "document.getElementById('fit-7a6ded23-20a0-40f7-8b6d-d341199f22c5').addEventListener('click', function(event) {\n",
       "    event.preventDefault();  // Prevent page jump\n",
       "    render(); // Adjust zoom limit as needed\n",
       "});\n",
       "</script>\n"
      ],
      "text/plain": [
       "<IPython.core.display.HTML object>"
      ]
     },
     "metadata": {},
     "output_type": "display_data"
    }
   ],
   "source": [
    "bip.show_kernel()"
   ]
  }
 ],
 "metadata": {
  "kernelspec": {
   "display_name": "Python 3 (ipykernel)",
   "language": "python",
   "name": "python3"
  },
  "language_info": {
   "codemirror_mode": {
    "name": "ipython",
    "version": 3
   },
   "file_extension": ".py",
   "mimetype": "text/x-python",
   "name": "python",
   "nbconvert_exporter": "python",
   "pygments_lexer": "ipython3",
   "version": "3.12.8"
  },
  "toc": {
   "base_numbering": 1,
   "nav_menu": {},
   "number_sections": true,
   "sideBar": true,
   "skip_h1_title": true,
   "title_cell": "Table of Contents",
   "title_sidebar": "Contents",
   "toc_cell": false,
   "toc_position": {},
   "toc_section_display": true,
   "toc_window_display": true
  }
 },
 "nbformat": 4,
 "nbformat_minor": 5
}
